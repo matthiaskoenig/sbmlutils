{
 "cells": [
  {
   "cell_type": "markdown",
   "metadata": {
    "slideshow": {
     "slide_type": "slide"
    }
   },
   "source": [
    "# sbmlutils -  Python utilities for SBML\n",
    "\n",
    "![sbmlutils](https://raw.githubusercontent.com/matthiaskoenig/sbmlutils/develop/docs_builder/images/sbmlutils-logo-60.png)\n",
    "\n",
    "**Collection of python utilities for working with SBML models**\n",
    "\n",
    "https://github.com/matthiaskoenig/sbmlutils/"
   ]
  },
  {
   "cell_type": "markdown",
   "metadata": {
    "slideshow": {
     "slide_type": "slide"
    }
   },
   "source": [
    "## Features\n",
    "- model creation, manipulation and merging\n",
    "- complete unit support\n",
    "- model annotation\n",
    "- model reports (HTML)\n",
    "- interpolations\n",
    "- file converters\n",
    "\n",
    "## Supported packages\n",
    "- `comp`\n",
    "- `fbc`\n",
    "- `distrib`\n",
    "- `layout`"
   ]
  },
  {
   "cell_type": "markdown",
   "metadata": {
    "pycharm": {
     "name": "#%% md\n"
    },
    "slideshow": {
     "slide_type": "slide"
    }
   },
   "source": [
    "## sbmlutils model creation\n",
    "The easist way to create a new model is by using a dictionary of information for the model creation."
   ]
  },
  {
   "cell_type": "code",
   "execution_count": null,
   "metadata": {
    "slideshow": {
     "slide_type": "-"
    }
   },
   "outputs": [],
   "source": [
    "%reload_ext autoreload\n",
    "%autoreload 2\n",
    "\n",
    "from pathlib import Path\n",
    "\n",
    "from sbmlutils.io import read_sbml, write_sbml, validate_sbml\n",
    "from sbmlutils.creator import create_model\n",
    "\n",
    "from sbmlutils.factory import *\n",
    "from sbmlutils.units import *\n",
    "from sbmlutils.metadata import *\n",
    "from sbmlutils.metadata.sbo import *"
   ]
  },
  {
   "cell_type": "code",
   "execution_count": null,
   "metadata": {
    "pycharm": {
     "name": "#%%\n"
    },
    "slideshow": {
     "slide_type": "slide"
    }
   },
   "outputs": [],
   "source": [
    "md = {\n",
    "        \"mid\": \"one_step\",\n",
    "        \"model_units\": ModelUnits(\n",
    "            time=\"min\", substance=\"mmole\",\n",
    "            extent=\"mmole\", volume=\"litre\",\n",
    "        ),\n",
    "        \"units\": [UNIT_min, UNIT_mmole, UNIT_litre_per_min],\n",
    "        \"compartments\": [\n",
    "            Compartment(sid=\"C\", value=1.0, unit=\"litre\")],\n",
    "        \"species\": [\n",
    "            Species(\n",
    "                sid=\"S1\", initialConcentration=10.0, compartment=\"C\",\n",
    "                hasOnlySubstanceUnits=False, substanceUnit=UNIT_mmole,\n",
    "            ),\n",
    "            Species(\n",
    "                sid=\"S2\", initialConcentration=0.0, compartment=\"C\",\n",
    "                hasOnlySubstanceUnits=False, substanceUnit=UNIT_mmole,\n",
    "            )\n",
    "        ],\n",
    "        \"parameters\": [Parameter(sid=\"k1\", value=1.0, unit=UNIT_litre_per_min)],\n",
    "        \"reactions\": [\n",
    "            Reaction(sid=\"R1\", equation=\"S1 -> S2\", \n",
    "                     formula=(\"k1 * S1\", UNIT_mmole_per_min))\n",
    "        ],\n",
    "    }\n",
    "# create and validate\n",
    "create_model(md, output_dir=Path(\"./models\"));"
   ]
  },
  {
   "cell_type": "markdown",
   "metadata": {
    "slideshow": {
     "slide_type": "slide"
    }
   },
   "source": [
    "## Programmatic model generation\n",
    "linear chain example"
   ]
  },
  {
   "cell_type": "code",
   "execution_count": null,
   "metadata": {
    "slideshow": {
     "slide_type": "slide"
    }
   },
   "outputs": [],
   "source": [
    "md = {\n",
    "        \"mid\": \"linear_chain\",\n",
    "        \"model_units\": ModelUnits(\n",
    "            time=\"min\", substance=\"mmole\", extent=\"mmole\", volume=\"litre\",\n",
    "        ),\n",
    "        \"units\": [UNIT_min, UNIT_mmole, UNIT_litre_per_min],\n",
    "        \"compartments\": [\n",
    "            Compartment(sid=\"C\", value=1.0, unit=\"litre\")],\n",
    "        \"species\": [\n",
    "            Species(\n",
    "                sid=\"S1\", initialConcentration=10.0, compartment=\"C\", hasOnlySubstanceUnits=False,\n",
    "                substanceUnit=UNIT_mmole,\n",
    "            ),\n",
    "        ],\n",
    "        \"parameters\": [], \n",
    "        \"reactions\": [],\n",
    "    }\n",
    "\n",
    "for k in range(10):\n",
    "    md[\"species\"].append(Species(\n",
    "            sid=f\"S{k+2}\", initialConcentration=0.0, compartment=\"C\",\n",
    "            hasOnlySubstanceUnits=False, substanceUnit=UNIT_mmole)\n",
    "    )\n",
    "    md[\"parameters\"].append(Parameter(sid=f\"k{k+1}\", value=1.0, unit=UNIT_litre_per_min)) \n",
    "    md[\"reactions\"].append(\n",
    "        Reaction(sid=f\"R{k+1}\", equation=f\"S{k+1} -> S{k+2}\", \n",
    "                 formula=(f\"k{k+1} * S{k+1}\", UNIT_mmole_per_min))\n",
    "    )\n",
    "    \n",
    "create_model(md, output_dir=Path(\"./models\"));"
   ]
  },
  {
   "cell_type": "markdown",
   "metadata": {},
   "source": [
    "## HTML reports\n",
    "Interactive SBML reports. See for instance the repressilator model at\n",
    "[./models/repressilator.html](./models/repressilator.html)"
   ]
  },
  {
   "cell_type": "code",
   "execution_count": null,
   "metadata": {},
   "outputs": [],
   "source": [
    "from sbmlutils.report import sbmlreport\n",
    "sbmlreport.create_report(\n",
    "    sbml_path=Path(\"./models\") / \"repressilator.xml\",\n",
    "    output_dir=Path(\"./models\"),\n",
    "    units_consistency=False,\n",
    ");"
   ]
  },
  {
   "cell_type": "code",
   "execution_count": null,
   "metadata": {},
   "outputs": [],
   "source": []
  },
  {
   "cell_type": "code",
   "execution_count": null,
   "metadata": {},
   "outputs": [],
   "source": []
  }
 ],
 "metadata": {
  "celltoolbar": "Slideshow",
  "kernelspec": {
   "display_name": "sbmlutils",
   "language": "python",
   "name": "sbmlutils"
  },
  "language_info": {
   "codemirror_mode": {
    "name": "ipython",
    "version": 3
   },
   "file_extension": ".py",
   "mimetype": "text/x-python",
   "name": "python",
   "nbconvert_exporter": "python",
   "pygments_lexer": "ipython3",
   "version": "3.8.5"
  }
 },
 "nbformat": 4,
 "nbformat_minor": 4
}
