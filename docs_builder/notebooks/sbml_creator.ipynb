{
 "cells": [
  {
   "cell_type": "markdown",
   "metadata": {},
   "source": [
    "# SBML creator\n",
    "`sbmlutils` provides helpers for the creation of SBML models from scratch."
   ]
  },
  {
   "cell_type": "markdown",
   "metadata": {
    "pycharm": {
     "name": "#%% md\n"
    }
   },
   "source": [
    "## Create model\n",
    "The easist way to create a new model is by using a dictionary of information for the model creation."
   ]
  },
  {
   "cell_type": "code",
   "execution_count": 1,
   "metadata": {},
   "outputs": [],
   "source": [
    "from pathlib import Path\n",
    "from sbmlutils.io import read_sbml, write_sbml, validate_sbml\n",
    "\n",
    "from sbmlutils.factory import *\n",
    "from sbmlutils.metadata import *\n",
    "\n",
    "import tempfile"
   ]
  },
  {
   "cell_type": "code",
   "execution_count": 2,
   "metadata": {
    "pycharm": {
     "name": "#%%\n"
    }
   },
   "outputs": [
    {
     "data": {
      "text/html": [
       "<pre style=\"white-space:pre;overflow-x:auto;line-height:normal;font-family:Menlo,'DejaVu Sans Mono',consolas,'Courier New',monospace\"><span style=\"color: #c0c0c0; text-decoration-color: #c0c0c0\">─────────────────────────────────────────────────── </span>Create SBML<span style=\"color: #c0c0c0; text-decoration-color: #c0c0c0\"> ───────────────────────────────────────────────────</span>\n",
       "</pre>\n"
      ],
      "text/plain": [
       "\u001b[37m─────────────────────────────────────────────────── \u001b[0mCreate SBML\u001b[37m ───────────────────────────────────────────────────\u001b[0m\n"
      ]
     },
     "metadata": {},
     "output_type": "display_data"
    },
    {
     "data": {
      "text/html": [
       "<pre style=\"white-space:pre;overflow-x:auto;line-height:normal;font-family:Menlo,'DejaVu Sans Mono',consolas,'Courier New',monospace\"><span style=\"color: #000080; text-decoration-color: #000080\">INFO    </span> Create SBML for model <span style=\"color: #008000; text-decoration-color: #008000\">'example_model'</span>                                                      <a href=\"file:///home/mkoenig/git/sbmlutils/src/sbmlutils/factory.py\" target=\"_blank\"><span style=\"color: #7f7f7f; text-decoration-color: #7f7f7f\">factory.py</span></a><span style=\"color: #7f7f7f; text-decoration-color: #7f7f7f\">:</span><a href=\"file:///home/mkoenig/git/sbmlutils/src/sbmlutils/factory.py#3526\" target=\"_blank\"><span style=\"color: #7f7f7f; text-decoration-color: #7f7f7f\">3526</span></a>\n",
       "</pre>\n"
      ],
      "text/plain": [
       "\u001b[34mINFO    \u001b[0m Create SBML for model \u001b[32m'example_model'\u001b[0m                                                      \u001b]8;id=216807;file:///home/mkoenig/git/sbmlutils/src/sbmlutils/factory.py\u001b\\\u001b[2mfactory.py\u001b[0m\u001b]8;;\u001b\\\u001b[2m:\u001b[0m\u001b]8;id=48833;file:///home/mkoenig/git/sbmlutils/src/sbmlutils/factory.py#3526\u001b\\\u001b[2m3526\u001b[0m\u001b]8;;\u001b\\\n"
      ]
     },
     "metadata": {},
     "output_type": "display_data"
    },
    {
     "data": {
      "text/html": [
       "<pre style=\"white-space:pre;overflow-x:auto;line-height:normal;font-family:Menlo,'DejaVu Sans Mono',consolas,'Courier New',monospace\"><span style=\"color: #000080; text-decoration-color: #000080\">INFO    </span> <span style=\"color: #008000; text-decoration-color: #008000\">'length'</span> should be set in <span style=\"color: #008000; text-decoration-color: #008000\">'model_units'</span>.                                                    <a href=\"file:///home/mkoenig/git/sbmlutils/src/sbmlutils/factory.py\" target=\"_blank\"><span style=\"color: #7f7f7f; text-decoration-color: #7f7f7f\">factory.py</span></a><span style=\"color: #7f7f7f; text-decoration-color: #7f7f7f\">:</span><a href=\"file:///home/mkoenig/git/sbmlutils/src/sbmlutils/factory.py#266\" target=\"_blank\"><span style=\"color: #7f7f7f; text-decoration-color: #7f7f7f\">266</span></a>\n",
       "</pre>\n"
      ],
      "text/plain": [
       "\u001b[34mINFO    \u001b[0m \u001b[32m'length'\u001b[0m should be set in \u001b[32m'model_units'\u001b[0m.                                                    \u001b]8;id=541310;file:///home/mkoenig/git/sbmlutils/src/sbmlutils/factory.py\u001b\\\u001b[2mfactory.py\u001b[0m\u001b]8;;\u001b\\\u001b[2m:\u001b[0m\u001b]8;id=520437;file:///home/mkoenig/git/sbmlutils/src/sbmlutils/factory.py#266\u001b\\\u001b[2m266\u001b[0m\u001b]8;;\u001b\\\n"
      ]
     },
     "metadata": {},
     "output_type": "display_data"
    },
    {
     "data": {
      "text/html": [
       "<pre style=\"white-space:pre;overflow-x:auto;line-height:normal;font-family:Menlo,'DejaVu Sans Mono',consolas,'Courier New',monospace\"><span style=\"color: #000080; text-decoration-color: #000080\">INFO    </span> <span style=\"color: #008000; text-decoration-color: #008000\">'area'</span> should be set in <span style=\"color: #008000; text-decoration-color: #008000\">'model_units'</span>.                                                      <a href=\"file:///home/mkoenig/git/sbmlutils/src/sbmlutils/factory.py\" target=\"_blank\"><span style=\"color: #7f7f7f; text-decoration-color: #7f7f7f\">factory.py</span></a><span style=\"color: #7f7f7f; text-decoration-color: #7f7f7f\">:</span><a href=\"file:///home/mkoenig/git/sbmlutils/src/sbmlutils/factory.py#266\" target=\"_blank\"><span style=\"color: #7f7f7f; text-decoration-color: #7f7f7f\">266</span></a>\n",
       "</pre>\n"
      ],
      "text/plain": [
       "\u001b[34mINFO    \u001b[0m \u001b[32m'area'\u001b[0m should be set in \u001b[32m'model_units'\u001b[0m.                                                      \u001b]8;id=244752;file:///home/mkoenig/git/sbmlutils/src/sbmlutils/factory.py\u001b\\\u001b[2mfactory.py\u001b[0m\u001b]8;;\u001b\\\u001b[2m:\u001b[0m\u001b]8;id=818652;file:///home/mkoenig/git/sbmlutils/src/sbmlutils/factory.py#266\u001b\\\u001b[2m266\u001b[0m\u001b]8;;\u001b\\\n"
      ]
     },
     "metadata": {},
     "output_type": "display_data"
    },
    {
     "data": {
      "text/html": [
       "<pre style=\"white-space:pre;overflow-x:auto;line-height:normal;font-family:Menlo,'DejaVu Sans Mono',consolas,'Courier New',monospace\"><span style=\"color: #800000; text-decoration-color: #800000\">WARNING </span> <span style=\"color: #008000; text-decoration-color: #008000\">'name'</span> should be set on <span style=\"color: #008000; text-decoration-color: #008000\">'Parameter(k1)'</span>                                                     <a href=\"file:///home/mkoenig/git/sbmlutils/src/sbmlutils/factory.py\" target=\"_blank\"><span style=\"color: #7f7f7f; text-decoration-color: #7f7f7f\">factory.py</span></a><span style=\"color: #7f7f7f; text-decoration-color: #7f7f7f\">:</span><a href=\"file:///home/mkoenig/git/sbmlutils/src/sbmlutils/factory.py#441\" target=\"_blank\"><span style=\"color: #7f7f7f; text-decoration-color: #7f7f7f\">441</span></a>\n",
       "</pre>\n"
      ],
      "text/plain": [
       "\u001b[31mWARNING \u001b[0m \u001b[32m'name'\u001b[0m should be set on \u001b[32m'Parameter\u001b[0m\u001b[32m(\u001b[0m\u001b[32mk1\u001b[0m\u001b[32m)\u001b[0m\u001b[32m'\u001b[0m                                                     \u001b]8;id=536538;file:///home/mkoenig/git/sbmlutils/src/sbmlutils/factory.py\u001b\\\u001b[2mfactory.py\u001b[0m\u001b]8;;\u001b\\\u001b[2m:\u001b[0m\u001b]8;id=278848;file:///home/mkoenig/git/sbmlutils/src/sbmlutils/factory.py#441\u001b\\\u001b[2m441\u001b[0m\u001b]8;;\u001b\\\n"
      ]
     },
     "metadata": {},
     "output_type": "display_data"
    },
    {
     "data": {
      "text/html": [
       "<pre style=\"white-space:pre;overflow-x:auto;line-height:normal;font-family:Menlo,'DejaVu Sans Mono',consolas,'Courier New',monospace\"><span style=\"color: #800000; text-decoration-color: #800000\">WARNING </span> <span style=\"color: #008000; text-decoration-color: #008000\">'sboTerm'</span> should be set on <span style=\"color: #008000; text-decoration-color: #008000\">'Parameter(k1)'</span>                                                  <a href=\"file:///home/mkoenig/git/sbmlutils/src/sbmlutils/factory.py\" target=\"_blank\"><span style=\"color: #7f7f7f; text-decoration-color: #7f7f7f\">factory.py</span></a><span style=\"color: #7f7f7f; text-decoration-color: #7f7f7f\">:</span><a href=\"file:///home/mkoenig/git/sbmlutils/src/sbmlutils/factory.py#466\" target=\"_blank\"><span style=\"color: #7f7f7f; text-decoration-color: #7f7f7f\">466</span></a>\n",
       "</pre>\n"
      ],
      "text/plain": [
       "\u001b[31mWARNING \u001b[0m \u001b[32m'sboTerm'\u001b[0m should be set on \u001b[32m'Parameter\u001b[0m\u001b[32m(\u001b[0m\u001b[32mk1\u001b[0m\u001b[32m)\u001b[0m\u001b[32m'\u001b[0m                                                  \u001b]8;id=805354;file:///home/mkoenig/git/sbmlutils/src/sbmlutils/factory.py\u001b\\\u001b[2mfactory.py\u001b[0m\u001b]8;;\u001b\\\u001b[2m:\u001b[0m\u001b]8;id=76977;file:///home/mkoenig/git/sbmlutils/src/sbmlutils/factory.py#466\u001b\\\u001b[2m466\u001b[0m\u001b]8;;\u001b\\\n"
      ]
     },
     "metadata": {},
     "output_type": "display_data"
    },
    {
     "data": {
      "text/html": [
       "<pre style=\"white-space:pre;overflow-x:auto;line-height:normal;font-family:Menlo,'DejaVu Sans Mono',consolas,'Courier New',monospace\"><span style=\"color: #800000; text-decoration-color: #800000\">WARNING </span> <span style=\"color: #008000; text-decoration-color: #008000\">'name'</span> should be set on <span style=\"color: #008000; text-decoration-color: #008000\">'Compartment(C)'</span>                                                    <a href=\"file:///home/mkoenig/git/sbmlutils/src/sbmlutils/factory.py\" target=\"_blank\"><span style=\"color: #7f7f7f; text-decoration-color: #7f7f7f\">factory.py</span></a><span style=\"color: #7f7f7f; text-decoration-color: #7f7f7f\">:</span><a href=\"file:///home/mkoenig/git/sbmlutils/src/sbmlutils/factory.py#441\" target=\"_blank\"><span style=\"color: #7f7f7f; text-decoration-color: #7f7f7f\">441</span></a>\n",
       "</pre>\n"
      ],
      "text/plain": [
       "\u001b[31mWARNING \u001b[0m \u001b[32m'name'\u001b[0m should be set on \u001b[32m'Compartment\u001b[0m\u001b[32m(\u001b[0m\u001b[32mC\u001b[0m\u001b[32m)\u001b[0m\u001b[32m'\u001b[0m                                                    \u001b]8;id=378599;file:///home/mkoenig/git/sbmlutils/src/sbmlutils/factory.py\u001b\\\u001b[2mfactory.py\u001b[0m\u001b]8;;\u001b\\\u001b[2m:\u001b[0m\u001b]8;id=669854;file:///home/mkoenig/git/sbmlutils/src/sbmlutils/factory.py#441\u001b\\\u001b[2m441\u001b[0m\u001b]8;;\u001b\\\n"
      ]
     },
     "metadata": {},
     "output_type": "display_data"
    },
    {
     "data": {
      "text/html": [
       "<pre style=\"white-space:pre;overflow-x:auto;line-height:normal;font-family:Menlo,'DejaVu Sans Mono',consolas,'Courier New',monospace\"><span style=\"color: #800000; text-decoration-color: #800000\">WARNING </span> <span style=\"color: #008000; text-decoration-color: #008000\">'sboTerm'</span> should be set on <span style=\"color: #008000; text-decoration-color: #008000\">'Compartment(C)'</span>                                                 <a href=\"file:///home/mkoenig/git/sbmlutils/src/sbmlutils/factory.py\" target=\"_blank\"><span style=\"color: #7f7f7f; text-decoration-color: #7f7f7f\">factory.py</span></a><span style=\"color: #7f7f7f; text-decoration-color: #7f7f7f\">:</span><a href=\"file:///home/mkoenig/git/sbmlutils/src/sbmlutils/factory.py#466\" target=\"_blank\"><span style=\"color: #7f7f7f; text-decoration-color: #7f7f7f\">466</span></a>\n",
       "</pre>\n"
      ],
      "text/plain": [
       "\u001b[31mWARNING \u001b[0m \u001b[32m'sboTerm'\u001b[0m should be set on \u001b[32m'Compartment\u001b[0m\u001b[32m(\u001b[0m\u001b[32mC\u001b[0m\u001b[32m)\u001b[0m\u001b[32m'\u001b[0m                                                 \u001b]8;id=988511;file:///home/mkoenig/git/sbmlutils/src/sbmlutils/factory.py\u001b\\\u001b[2mfactory.py\u001b[0m\u001b]8;;\u001b\\\u001b[2m:\u001b[0m\u001b]8;id=286919;file:///home/mkoenig/git/sbmlutils/src/sbmlutils/factory.py#466\u001b\\\u001b[2m466\u001b[0m\u001b]8;;\u001b\\\n"
      ]
     },
     "metadata": {},
     "output_type": "display_data"
    },
    {
     "data": {
      "text/html": [
       "<pre style=\"white-space:pre;overflow-x:auto;line-height:normal;font-family:Menlo,'DejaVu Sans Mono',consolas,'Courier New',monospace\"><span style=\"color: #800000; text-decoration-color: #800000\">WARNING </span> <span style=\"color: #008000; text-decoration-color: #008000\">'name'</span> should be set on <span style=\"color: #008000; text-decoration-color: #008000\">'Species(S1)'</span>                                                       <a href=\"file:///home/mkoenig/git/sbmlutils/src/sbmlutils/factory.py\" target=\"_blank\"><span style=\"color: #7f7f7f; text-decoration-color: #7f7f7f\">factory.py</span></a><span style=\"color: #7f7f7f; text-decoration-color: #7f7f7f\">:</span><a href=\"file:///home/mkoenig/git/sbmlutils/src/sbmlutils/factory.py#441\" target=\"_blank\"><span style=\"color: #7f7f7f; text-decoration-color: #7f7f7f\">441</span></a>\n",
       "</pre>\n"
      ],
      "text/plain": [
       "\u001b[31mWARNING \u001b[0m \u001b[32m'name'\u001b[0m should be set on \u001b[32m'Species\u001b[0m\u001b[32m(\u001b[0m\u001b[32mS1\u001b[0m\u001b[32m)\u001b[0m\u001b[32m'\u001b[0m                                                       \u001b]8;id=250454;file:///home/mkoenig/git/sbmlutils/src/sbmlutils/factory.py\u001b\\\u001b[2mfactory.py\u001b[0m\u001b]8;;\u001b\\\u001b[2m:\u001b[0m\u001b]8;id=876427;file:///home/mkoenig/git/sbmlutils/src/sbmlutils/factory.py#441\u001b\\\u001b[2m441\u001b[0m\u001b]8;;\u001b\\\n"
      ]
     },
     "metadata": {},
     "output_type": "display_data"
    },
    {
     "data": {
      "text/html": [
       "<pre style=\"white-space:pre;overflow-x:auto;line-height:normal;font-family:Menlo,'DejaVu Sans Mono',consolas,'Courier New',monospace\"><span style=\"color: #800000; text-decoration-color: #800000\">WARNING </span> <span style=\"color: #008000; text-decoration-color: #008000\">'sboTerm'</span> should be set on <span style=\"color: #008000; text-decoration-color: #008000\">'Species(S1)'</span>                                                    <a href=\"file:///home/mkoenig/git/sbmlutils/src/sbmlutils/factory.py\" target=\"_blank\"><span style=\"color: #7f7f7f; text-decoration-color: #7f7f7f\">factory.py</span></a><span style=\"color: #7f7f7f; text-decoration-color: #7f7f7f\">:</span><a href=\"file:///home/mkoenig/git/sbmlutils/src/sbmlutils/factory.py#466\" target=\"_blank\"><span style=\"color: #7f7f7f; text-decoration-color: #7f7f7f\">466</span></a>\n",
       "</pre>\n"
      ],
      "text/plain": [
       "\u001b[31mWARNING \u001b[0m \u001b[32m'sboTerm'\u001b[0m should be set on \u001b[32m'Species\u001b[0m\u001b[32m(\u001b[0m\u001b[32mS1\u001b[0m\u001b[32m)\u001b[0m\u001b[32m'\u001b[0m                                                    \u001b]8;id=53517;file:///home/mkoenig/git/sbmlutils/src/sbmlutils/factory.py\u001b\\\u001b[2mfactory.py\u001b[0m\u001b]8;;\u001b\\\u001b[2m:\u001b[0m\u001b]8;id=125920;file:///home/mkoenig/git/sbmlutils/src/sbmlutils/factory.py#466\u001b\\\u001b[2m466\u001b[0m\u001b]8;;\u001b\\\n"
      ]
     },
     "metadata": {},
     "output_type": "display_data"
    },
    {
     "data": {
      "text/html": [
       "<pre style=\"white-space:pre;overflow-x:auto;line-height:normal;font-family:Menlo,'DejaVu Sans Mono',consolas,'Courier New',monospace\"><span style=\"color: #800000; text-decoration-color: #800000\">WARNING </span> <span style=\"color: #008000; text-decoration-color: #008000\">'name'</span> should be set on <span style=\"color: #008000; text-decoration-color: #008000\">'Species(S2)'</span>                                                       <a href=\"file:///home/mkoenig/git/sbmlutils/src/sbmlutils/factory.py\" target=\"_blank\"><span style=\"color: #7f7f7f; text-decoration-color: #7f7f7f\">factory.py</span></a><span style=\"color: #7f7f7f; text-decoration-color: #7f7f7f\">:</span><a href=\"file:///home/mkoenig/git/sbmlutils/src/sbmlutils/factory.py#441\" target=\"_blank\"><span style=\"color: #7f7f7f; text-decoration-color: #7f7f7f\">441</span></a>\n",
       "</pre>\n"
      ],
      "text/plain": [
       "\u001b[31mWARNING \u001b[0m \u001b[32m'name'\u001b[0m should be set on \u001b[32m'Species\u001b[0m\u001b[32m(\u001b[0m\u001b[32mS2\u001b[0m\u001b[32m)\u001b[0m\u001b[32m'\u001b[0m                                                       \u001b]8;id=201925;file:///home/mkoenig/git/sbmlutils/src/sbmlutils/factory.py\u001b\\\u001b[2mfactory.py\u001b[0m\u001b]8;;\u001b\\\u001b[2m:\u001b[0m\u001b]8;id=267789;file:///home/mkoenig/git/sbmlutils/src/sbmlutils/factory.py#441\u001b\\\u001b[2m441\u001b[0m\u001b]8;;\u001b\\\n"
      ]
     },
     "metadata": {},
     "output_type": "display_data"
    },
    {
     "data": {
      "text/html": [
       "<pre style=\"white-space:pre;overflow-x:auto;line-height:normal;font-family:Menlo,'DejaVu Sans Mono',consolas,'Courier New',monospace\"><span style=\"color: #800000; text-decoration-color: #800000\">WARNING </span> <span style=\"color: #008000; text-decoration-color: #008000\">'sboTerm'</span> should be set on <span style=\"color: #008000; text-decoration-color: #008000\">'Species(S2)'</span>                                                    <a href=\"file:///home/mkoenig/git/sbmlutils/src/sbmlutils/factory.py\" target=\"_blank\"><span style=\"color: #7f7f7f; text-decoration-color: #7f7f7f\">factory.py</span></a><span style=\"color: #7f7f7f; text-decoration-color: #7f7f7f\">:</span><a href=\"file:///home/mkoenig/git/sbmlutils/src/sbmlutils/factory.py#466\" target=\"_blank\"><span style=\"color: #7f7f7f; text-decoration-color: #7f7f7f\">466</span></a>\n",
       "</pre>\n"
      ],
      "text/plain": [
       "\u001b[31mWARNING \u001b[0m \u001b[32m'sboTerm'\u001b[0m should be set on \u001b[32m'Species\u001b[0m\u001b[32m(\u001b[0m\u001b[32mS2\u001b[0m\u001b[32m)\u001b[0m\u001b[32m'\u001b[0m                                                    \u001b]8;id=859403;file:///home/mkoenig/git/sbmlutils/src/sbmlutils/factory.py\u001b\\\u001b[2mfactory.py\u001b[0m\u001b]8;;\u001b\\\u001b[2m:\u001b[0m\u001b]8;id=935359;file:///home/mkoenig/git/sbmlutils/src/sbmlutils/factory.py#466\u001b\\\u001b[2m466\u001b[0m\u001b]8;;\u001b\\\n"
      ]
     },
     "metadata": {},
     "output_type": "display_data"
    },
    {
     "data": {
      "text/html": [
       "<pre style=\"white-space:pre;overflow-x:auto;line-height:normal;font-family:Menlo,'DejaVu Sans Mono',consolas,'Courier New',monospace\"><span style=\"color: #800000; text-decoration-color: #800000\">WARNING </span> <span style=\"color: #008000; text-decoration-color: #008000\">'name'</span> should be set on <span style=\"color: #008000; text-decoration-color: #008000\">'Reaction(R1)'</span>                                                      <a href=\"file:///home/mkoenig/git/sbmlutils/src/sbmlutils/factory.py\" target=\"_blank\"><span style=\"color: #7f7f7f; text-decoration-color: #7f7f7f\">factory.py</span></a><span style=\"color: #7f7f7f; text-decoration-color: #7f7f7f\">:</span><a href=\"file:///home/mkoenig/git/sbmlutils/src/sbmlutils/factory.py#441\" target=\"_blank\"><span style=\"color: #7f7f7f; text-decoration-color: #7f7f7f\">441</span></a>\n",
       "</pre>\n"
      ],
      "text/plain": [
       "\u001b[31mWARNING \u001b[0m \u001b[32m'name'\u001b[0m should be set on \u001b[32m'Reaction\u001b[0m\u001b[32m(\u001b[0m\u001b[32mR1\u001b[0m\u001b[32m)\u001b[0m\u001b[32m'\u001b[0m                                                      \u001b]8;id=865901;file:///home/mkoenig/git/sbmlutils/src/sbmlutils/factory.py\u001b\\\u001b[2mfactory.py\u001b[0m\u001b]8;;\u001b\\\u001b[2m:\u001b[0m\u001b]8;id=320308;file:///home/mkoenig/git/sbmlutils/src/sbmlutils/factory.py#441\u001b\\\u001b[2m441\u001b[0m\u001b]8;;\u001b\\\n"
      ]
     },
     "metadata": {},
     "output_type": "display_data"
    },
    {
     "data": {
      "text/html": [
       "<pre style=\"white-space:pre;overflow-x:auto;line-height:normal;font-family:Menlo,'DejaVu Sans Mono',consolas,'Courier New',monospace\"><span style=\"color: #800000; text-decoration-color: #800000\">WARNING </span> <span style=\"color: #008000; text-decoration-color: #008000\">'sboTerm'</span> should be set on <span style=\"color: #008000; text-decoration-color: #008000\">'Reaction(R1)'</span>                                                   <a href=\"file:///home/mkoenig/git/sbmlutils/src/sbmlutils/factory.py\" target=\"_blank\"><span style=\"color: #7f7f7f; text-decoration-color: #7f7f7f\">factory.py</span></a><span style=\"color: #7f7f7f; text-decoration-color: #7f7f7f\">:</span><a href=\"file:///home/mkoenig/git/sbmlutils/src/sbmlutils/factory.py#466\" target=\"_blank\"><span style=\"color: #7f7f7f; text-decoration-color: #7f7f7f\">466</span></a>\n",
       "</pre>\n"
      ],
      "text/plain": [
       "\u001b[31mWARNING \u001b[0m \u001b[32m'sboTerm'\u001b[0m should be set on \u001b[32m'Reaction\u001b[0m\u001b[32m(\u001b[0m\u001b[32mR1\u001b[0m\u001b[32m)\u001b[0m\u001b[32m'\u001b[0m                                                   \u001b]8;id=382867;file:///home/mkoenig/git/sbmlutils/src/sbmlutils/factory.py\u001b\\\u001b[2mfactory.py\u001b[0m\u001b]8;;\u001b\\\u001b[2m:\u001b[0m\u001b]8;id=87054;file:///home/mkoenig/git/sbmlutils/src/sbmlutils/factory.py#466\u001b\\\u001b[2m466\u001b[0m\u001b]8;;\u001b\\\n"
      ]
     },
     "metadata": {},
     "output_type": "display_data"
    },
    {
     "data": {
      "text/html": [
       "<pre style=\"white-space:pre;overflow-x:auto;line-height:normal;font-family:Menlo,'DejaVu Sans Mono',consolas,'Courier New',monospace\">\n",
       "</pre>\n"
      ],
      "text/plain": [
       "\n"
      ]
     },
     "metadata": {},
     "output_type": "display_data"
    },
    {
     "data": {
      "text/html": [
       "<pre style=\"white-space:pre;overflow-x:auto;line-height:normal;font-family:Menlo,'DejaVu Sans Mono',consolas,'Courier New',monospace\"><span style=\"color: #008000; text-decoration-color: #008000\">────────────────────────────────────────────────── </span>Validate SBML<span style=\"color: #008000; text-decoration-color: #008000\"> ──────────────────────────────────────────────────</span>\n",
       "</pre>\n"
      ],
      "text/plain": [
       "\u001b[32m────────────────────────────────────────────────── \u001b[0mValidate SBML\u001b[32m ──────────────────────────────────────────────────\u001b[0m\n"
      ]
     },
     "metadata": {},
     "output_type": "display_data"
    },
    {
     "data": {
      "text/html": [
       "<pre style=\"white-space:pre;overflow-x:auto;line-height:normal;font-family:Menlo,'DejaVu Sans Mono',consolas,'Courier New',monospace\"><span style=\"color: #0000ff; text-decoration-color: #0000ff; text-decoration: underline\">file:///tmp/tmpyxd33q0b/example_model.xml</span>\n",
       "<span style=\"color: #008000; text-decoration-color: #008000\">valid                    : TRUE</span>\n",
       "<span style=\"color: #008000; text-decoration-color: #008000\">check time </span><span style=\"color: #008000; text-decoration-color: #008000; font-weight: bold\">(</span><span style=\"color: #008000; text-decoration-color: #008000\">s</span><span style=\"color: #008000; text-decoration-color: #008000; font-weight: bold\">)</span><span style=\"color: #008000; text-decoration-color: #008000\">           : </span><span style=\"color: #008080; text-decoration-color: #008080; font-weight: bold\">0.002</span>\n",
       "</pre>\n"
      ],
      "text/plain": [
       "\u001b[4;94mfile:///tmp/tmpyxd33q0b/example_model.xml\u001b[0m\n",
       "\u001b[32mvalid                    : TRUE\u001b[0m\n",
       "\u001b[32mcheck time \u001b[0m\u001b[1;32m(\u001b[0m\u001b[32ms\u001b[0m\u001b[1;32m)\u001b[0m\u001b[32m           : \u001b[0m\u001b[1;36m0.002\u001b[0m\n"
      ]
     },
     "metadata": {},
     "output_type": "display_data"
    },
    {
     "data": {
      "text/html": [
       "<pre style=\"white-space:pre;overflow-x:auto;line-height:normal;font-family:Menlo,'DejaVu Sans Mono',consolas,'Courier New',monospace\"><span style=\"color: #008000; text-decoration-color: #008000\">───────────────────────────────────────────────────────────────────────────────────────────────────────────────────</span>\n",
       "</pre>\n"
      ],
      "text/plain": [
       "\u001b[32m───────────────────────────────────────────────────────────────────────────────────────────────────────────────────\u001b[0m\n"
      ]
     },
     "metadata": {},
     "output_type": "display_data"
    },
    {
     "data": {
      "text/html": [
       "<pre style=\"white-space:pre;overflow-x:auto;line-height:normal;font-family:Menlo,'DejaVu Sans Mono',consolas,'Courier New',monospace\">\n",
       "</pre>\n"
      ],
      "text/plain": [
       "\n"
      ]
     },
     "metadata": {},
     "output_type": "display_data"
    },
    {
     "data": {
      "text/html": [
       "<pre style=\"white-space:pre;overflow-x:auto;line-height:normal;font-family:Menlo,'DejaVu Sans Mono',consolas,'Courier New',monospace\"><span style=\"color: #c0c0c0; text-decoration-color: #c0c0c0\">───────────────────────────────────────────────────────────────────────────────────────────────────────────────────</span>\n",
       "</pre>\n"
      ],
      "text/plain": [
       "\u001b[37m───────────────────────────────────────────────────────────────────────────────────────────────────────────────────\u001b[0m\n"
      ]
     },
     "metadata": {},
     "output_type": "display_data"
    },
    {
     "data": {
      "text/html": [
       "<pre style=\"white-space:pre;overflow-x:auto;line-height:normal;font-family:Menlo,'DejaVu Sans Mono',consolas,'Courier New',monospace\"><span style=\"color: #c0c0c0; text-decoration-color: #c0c0c0\">───────────────────────────────────────────────────────────────────────────────────────────────────────────────────</span>\n",
       "</pre>\n"
      ],
      "text/plain": [
       "\u001b[37m───────────────────────────────────────────────────────────────────────────────────────────────────────────────────\u001b[0m\n"
      ]
     },
     "metadata": {},
     "output_type": "display_data"
    },
    {
     "name": "stdout",
     "output_type": "stream",
     "text": [
      "<?xml version=\"1.0\" encoding=\"UTF-8\"?>\n",
      "<sbml xmlns=\"http://www.sbml.org/sbml/level3/version1/core\" xmlns:comp=\"http://www.sbml.org/sbml/level3/version1/comp/version1\" level=\"3\" version=\"1\" comp:required=\"true\">\n",
      "  <notes>\n",
      "    <body xmlns=\"http://www.w3.org/1999/xhtml\">\n",
      "      <p>Created with <a href=\"https://github.com/matthiaskoenig/sbmlutils\">https://github.com/matthiaskoenig/sbmlutils</a>.\n",
      "<a href=\"https://doi.org/10.5281/zenodo.5525390\">\n",
      "        <img src=\"https://zenodo.org/badge/DOI/10.5281/zenodo.5525390.svg\" alt=\"DOI\"/></a></p>\n",
      "      </body>\n",
      "    </notes>\n",
      "  <model id=\"example_model\" name=\"Example model\" substanceUnits=\"mole\" timeUnits=\"second\" volumeUnits=\"litre\" extentUnits=\"mole\">\n",
      "    <listOfCompartments>\n",
      "      <compartment id=\"C\" spatialDimensions=\"3\" size=\"1\" constant=\"true\"/>\n",
      "    </listOfCompartments>\n",
      "    <listOfSpecies>\n",
      "      <species id=\"S1\" compartment=\"C\" initialConcentration=\"10\" substanceUnits=\"mole\" hasOnlySubstanceUnits=\"false\" boundaryCondition=\"false\" constant=\"false\"/>\n",
      "      <species id=\"S2\" compartment=\"C\" initialConcentration=\"0\" substanceUnits=\"mole\" hasOnlySubstanceUnits=\"false\" boundaryCondition=\"false\" constant=\"false\"/>\n",
      "    </listOfSpecies>\n",
      "    <listOfParameters>\n",
      "      <parameter id=\"k1\" value=\"1\" constant=\"true\"/>\n",
      "    </listOfParameters>\n",
      "    <listOfReactions>\n",
      "      <reaction id=\"R1\" reversible=\"false\" fast=\"false\">\n",
      "        <listOfReactants>\n",
      "          <speciesReference species=\"S1\" stoichiometry=\"1\" constant=\"true\"/>\n",
      "        </listOfReactants>\n",
      "        <listOfProducts>\n",
      "          <speciesReference species=\"S2\" stoichiometry=\"1\" constant=\"true\"/>\n",
      "        </listOfProducts>\n",
      "        <kineticLaw>\n",
      "          <math xmlns=\"http://www.w3.org/1998/Math/MathML\">\n",
      "            <apply>\n",
      "              <times/>\n",
      "              <ci> k1 </ci>\n",
      "              <ci> S1 </ci>\n",
      "            </apply>\n",
      "          </math>\n",
      "        </kineticLaw>\n",
      "      </reaction>\n",
      "    </listOfReactions>\n",
      "  </model>\n",
      "</sbml>\n",
      "\n"
     ]
    }
   ],
   "source": [
    "model = Model(\n",
    "    \"example_model\",\n",
    "    name=\"Example model\",\n",
    "    units=Units,\n",
    "    model_units = ModelUnits(\n",
    "        time=Units.second,\n",
    "        substance=Units.mole,\n",
    "        extent=Units.mole,\n",
    "        volume=Units.litre,\n",
    "    ),\n",
    "    compartments = [Compartment(sid=\"C\", value=1.0)],\n",
    "    species = [\n",
    "        Species(\n",
    "            sid=\"S1\",\n",
    "            initialConcentration=10.0,\n",
    "            compartment=\"C\",\n",
    "            hasOnlySubstanceUnits=False,\n",
    "        ),\n",
    "        Species(\n",
    "            sid=\"S2\",\n",
    "            initialConcentration=0.0,\n",
    "            compartment=\"C\",\n",
    "            hasOnlySubstanceUnits=False,\n",
    "        )\n",
    "    ],\n",
    "    parameters = [Parameter(sid=\"k1\", value=1.0)],\n",
    "    reactions = [\n",
    "        Reaction(sid=\"R1\", equation=\"S1 -> S2\", formula=(\"k1 * S1\", None))\n",
    "    ],\n",
    ")\n",
    "\n",
    "# create the model as L3V1\n",
    "with tempfile.TemporaryDirectory() as tmp_path:\n",
    "    results = create_model(\n",
    "        model=model,\n",
    "        filepath=Path(tmp_path) / f\"{model.sid}.xml\",\n",
    "        validation_options=ValidationOptions(units_consistency=False),\n",
    "        sbml_level=3,\n",
    "        sbml_version=1,\n",
    "    )\n",
    "    # show level and version and print SBML\n",
    "    doc = read_sbml(source=results.sbml_path, validate=False)\n",
    "    sbml = write_sbml(doc)\n",
    "    print(sbml)"
   ]
  },
  {
   "cell_type": "markdown",
   "metadata": {},
   "source": [
    "## Units\n",
    "It is highly recommended to annotate all units in the model. This allows automatic unit validation and unit conversions with the model.\n",
    "\n",
    "Units are defined by subclassing the `Units` class. This provides the default SBML units and allows for code completion with units. Units are defined as attributes on the Units subclass."
   ]
  },
  {
   "cell_type": "code",
   "execution_count": 3,
   "metadata": {},
   "outputs": [],
   "source": [
    "class U(Units):\n",
    "    \"\"\"UnitDefinitions.\"\"\"\n",
    "    \n",
    "    mmole = UnitDefinition(\"mmole\", \"mmole\")\n",
    "    mmole_per_min = UnitDefinition(\"mmole_per_min\", \"mmole/min\")\n"
   ]
  },
  {
   "cell_type": "markdown",
   "metadata": {
    "pycharm": {
     "name": "#%% md\n"
    }
   },
   "source": [
    "## SBML Levels and Versions\n",
    "Models can be generated in all SBML levels and versions via the `create_model` function."
   ]
  },
  {
   "cell_type": "code",
   "execution_count": 4,
   "metadata": {
    "pycharm": {
     "name": "#%%\n"
    }
   },
   "outputs": [],
   "source": [
    "from sbmlutils.io import read_sbml, write_sbml, validate_sbml\n",
    "\n",
    "from sbmlutils.factory import *\n",
    "from sbmlutils.metadata import *\n",
    "\n",
    "import tempfile"
   ]
  },
  {
   "cell_type": "code",
   "execution_count": 5,
   "metadata": {
    "pycharm": {
     "name": "#%%\n"
    }
   },
   "outputs": [
    {
     "data": {
      "text/html": [
       "<pre style=\"white-space:pre;overflow-x:auto;line-height:normal;font-family:Menlo,'DejaVu Sans Mono',consolas,'Courier New',monospace\"><span style=\"color: #c0c0c0; text-decoration-color: #c0c0c0\">─────────────────────────────────────────────────── </span>Create SBML<span style=\"color: #c0c0c0; text-decoration-color: #c0c0c0\"> ───────────────────────────────────────────────────</span>\n",
       "</pre>\n"
      ],
      "text/plain": [
       "\u001b[37m─────────────────────────────────────────────────── \u001b[0mCreate SBML\u001b[37m ───────────────────────────────────────────────────\u001b[0m\n"
      ]
     },
     "metadata": {},
     "output_type": "display_data"
    },
    {
     "data": {
      "text/html": [
       "<pre style=\"white-space:pre;overflow-x:auto;line-height:normal;font-family:Menlo,'DejaVu Sans Mono',consolas,'Courier New',monospace\"><span style=\"color: #000080; text-decoration-color: #000080\">INFO    </span> Create SBML for model <span style=\"color: #008000; text-decoration-color: #008000\">'L1V1'</span>                                                               <a href=\"file:///home/mkoenig/git/sbmlutils/src/sbmlutils/factory.py\" target=\"_blank\"><span style=\"color: #7f7f7f; text-decoration-color: #7f7f7f\">factory.py</span></a><span style=\"color: #7f7f7f; text-decoration-color: #7f7f7f\">:</span><a href=\"file:///home/mkoenig/git/sbmlutils/src/sbmlutils/factory.py#3526\" target=\"_blank\"><span style=\"color: #7f7f7f; text-decoration-color: #7f7f7f\">3526</span></a>\n",
       "</pre>\n"
      ],
      "text/plain": [
       "\u001b[34mINFO    \u001b[0m Create SBML for model \u001b[32m'L1V1'\u001b[0m                                                               \u001b]8;id=566244;file:///home/mkoenig/git/sbmlutils/src/sbmlutils/factory.py\u001b\\\u001b[2mfactory.py\u001b[0m\u001b]8;;\u001b\\\u001b[2m:\u001b[0m\u001b]8;id=53773;file:///home/mkoenig/git/sbmlutils/src/sbmlutils/factory.py#3526\u001b\\\u001b[2m3526\u001b[0m\u001b]8;;\u001b\\\n"
      ]
     },
     "metadata": {},
     "output_type": "display_data"
    },
    {
     "data": {
      "text/html": [
       "<pre style=\"white-space:pre;overflow-x:auto;line-height:normal;font-family:Menlo,'DejaVu Sans Mono',consolas,'Courier New',monospace\"><span style=\"color: #800000; text-decoration-color: #800000\">WARNING </span> <span style=\"color: #008000; text-decoration-color: #008000\">'name'</span> should be set on <span style=\"color: #008000; text-decoration-color: #008000\">'Model(sid='</span>L1V1', <span style=\"color: #808000; text-decoration-color: #808000\">packages</span>=<span style=\"font-weight: bold\">[&lt;</span><span style=\"color: #ff00ff; text-decoration-color: #ff00ff; font-weight: bold\">Package.COMP_V1:</span><span style=\"color: #000000; text-decoration-color: #000000\"> </span><span style=\"color: #008000; text-decoration-color: #008000\">'comp-v1'</span><span style=\"font-weight: bold\">&gt;]</span>,         <a href=\"file:///home/mkoenig/git/sbmlutils/src/sbmlutils/factory.py\" target=\"_blank\"><span style=\"color: #7f7f7f; text-decoration-color: #7f7f7f\">factory.py</span></a><span style=\"color: #7f7f7f; text-decoration-color: #7f7f7f\">:</span><a href=\"file:///home/mkoenig/git/sbmlutils/src/sbmlutils/factory.py#441\" target=\"_blank\"><span style=\"color: #7f7f7f; text-decoration-color: #7f7f7f\">441</span></a>\n",
       "         <span style=\"color: #808000; text-decoration-color: #808000\">model_units</span>=<span style=\"font-weight: bold\">&lt;</span><span style=\"color: #ff00ff; text-decoration-color: #ff00ff; font-weight: bold\">sbmlutils.factory.ModelUnits</span><span style=\"color: #000000; text-decoration-color: #000000\"> object at </span><span style=\"color: #008080; text-decoration-color: #008080; font-weight: bold\">0x7fe940324cd0</span><span style=\"font-weight: bold\">&gt;</span>, <span style=\"color: #808000; text-decoration-color: #808000\">units</span>=<span style=\"font-weight: bold\">&lt;</span><span style=\"color: #ff00ff; text-decoration-color: #ff00ff; font-weight: bold\">class</span><span style=\"color: #000000; text-decoration-color: #000000\"> </span>          <span style=\"color: #7f7f7f; text-decoration-color: #7f7f7f\">              </span>\n",
       "         <span style=\"color: #008000; text-decoration-color: #008000\">'__main__.U'</span><span style=\"font-weight: bold\">&gt;</span>, <span style=\"color: #808000; text-decoration-color: #808000\">compartments</span>=<span style=\"font-weight: bold\">[</span>C = <span style=\"color: #008080; text-decoration-color: #008080; font-weight: bold\">1.0</span> <span style=\"font-weight: bold\">[</span><span style=\"color: #800080; text-decoration-color: #800080; font-style: italic\">None</span><span style=\"font-weight: bold\">]]</span>, <span style=\"color: #808000; text-decoration-color: #808000\">species</span>=<span style=\"font-weight: bold\">[&lt;</span><span style=\"color: #ff00ff; text-decoration-color: #ff00ff; font-weight: bold\">sbmlutils.factory.Species</span><span style=\"color: #000000; text-decoration-color: #000000\"> object at</span> <span style=\"color: #7f7f7f; text-decoration-color: #7f7f7f\">              </span>\n",
       "         <span style=\"color: #008080; text-decoration-color: #008080; font-weight: bold\">0x7fe940324dc0</span><span style=\"font-weight: bold\">&gt;]</span>, <span style=\"color: #808000; text-decoration-color: #808000\">parameters</span>=<span style=\"font-weight: bold\">[</span>k1 = <span style=\"color: #008080; text-decoration-color: #008080; font-weight: bold\">1.0</span> <span style=\"font-weight: bold\">[</span><span style=\"color: #800080; text-decoration-color: #800080; font-style: italic\">None</span><span style=\"font-weight: bold\">]]</span>, <span style=\"color: #808000; text-decoration-color: #808000\">reactions</span>=<span style=\"font-weight: bold\">[&lt;</span><span style=\"color: #ff00ff; text-decoration-color: #ff00ff; font-weight: bold\">sbmlutils.factory.Reaction</span><span style=\"color: #000000; text-decoration-color: #000000\"> </span>     <span style=\"color: #7f7f7f; text-decoration-color: #7f7f7f\">              </span>\n",
       "         <span style=\"color: #000000; text-decoration-color: #000000\">object at </span><span style=\"color: #008080; text-decoration-color: #008080; font-weight: bold\">0x7fe940324f40</span><span style=\"font-weight: bold\">&gt;]</span>, <span style=\"color: #808000; text-decoration-color: #808000\">_FrozenClass__isfrozen</span>=<span style=\"color: #00ff00; text-decoration-color: #00ff00; font-style: italic\">True</span><span style=\"font-weight: bold\">)</span>'                                   <span style=\"color: #7f7f7f; text-decoration-color: #7f7f7f\">              </span>\n",
       "</pre>\n"
      ],
      "text/plain": [
       "\u001b[31mWARNING \u001b[0m \u001b[32m'name'\u001b[0m should be set on \u001b[32m'Model\u001b[0m\u001b[32m(\u001b[0m\u001b[32msid\u001b[0m\u001b[32m='\u001b[0mL1V1', \u001b[33mpackages\u001b[0m=\u001b[1m[\u001b[0m\u001b[1m<\u001b[0m\u001b[1;95mPackage.COMP_V1:\u001b[0m\u001b[39m \u001b[0m\u001b[32m'comp-v1'\u001b[0m\u001b[1m>\u001b[0m\u001b[1m]\u001b[0m,         \u001b]8;id=464406;file:///home/mkoenig/git/sbmlutils/src/sbmlutils/factory.py\u001b\\\u001b[2mfactory.py\u001b[0m\u001b]8;;\u001b\\\u001b[2m:\u001b[0m\u001b]8;id=155543;file:///home/mkoenig/git/sbmlutils/src/sbmlutils/factory.py#441\u001b\\\u001b[2m441\u001b[0m\u001b]8;;\u001b\\\n",
       "         \u001b[33mmodel_units\u001b[0m=\u001b[1m<\u001b[0m\u001b[1;95msbmlutils.factory.ModelUnits\u001b[0m\u001b[39m object at \u001b[0m\u001b[1;36m0x7fe940324cd0\u001b[0m\u001b[1m>\u001b[0m, \u001b[33munits\u001b[0m=\u001b[1m<\u001b[0m\u001b[1;95mclass\u001b[0m\u001b[39m \u001b[0m          \u001b[2m              \u001b[0m\n",
       "         \u001b[32m'__main__.U'\u001b[0m\u001b[1m>\u001b[0m, \u001b[33mcompartments\u001b[0m=\u001b[1m[\u001b[0mC = \u001b[1;36m1.0\u001b[0m \u001b[1m[\u001b[0m\u001b[3;35mNone\u001b[0m\u001b[1m]\u001b[0m\u001b[1m]\u001b[0m, \u001b[33mspecies\u001b[0m=\u001b[1m[\u001b[0m\u001b[1m<\u001b[0m\u001b[1;95msbmlutils.factory.Species\u001b[0m\u001b[39m object at\u001b[0m \u001b[2m              \u001b[0m\n",
       "         \u001b[1;36m0x7fe940324dc0\u001b[0m\u001b[1m>\u001b[0m\u001b[1m]\u001b[0m, \u001b[33mparameters\u001b[0m=\u001b[1m[\u001b[0mk1 = \u001b[1;36m1.0\u001b[0m \u001b[1m[\u001b[0m\u001b[3;35mNone\u001b[0m\u001b[1m]\u001b[0m\u001b[1m]\u001b[0m, \u001b[33mreactions\u001b[0m=\u001b[1m[\u001b[0m\u001b[1m<\u001b[0m\u001b[1;95msbmlutils.factory.Reaction\u001b[0m\u001b[39m \u001b[0m     \u001b[2m              \u001b[0m\n",
       "         \u001b[39mobject at \u001b[0m\u001b[1;36m0x7fe940324f40\u001b[0m\u001b[1m>\u001b[0m\u001b[1m]\u001b[0m, \u001b[33m_FrozenClass__isfrozen\u001b[0m=\u001b[3;92mTrue\u001b[0m\u001b[1m)\u001b[0m'                                   \u001b[2m              \u001b[0m\n"
      ]
     },
     "metadata": {},
     "output_type": "display_data"
    },
    {
     "data": {
      "text/html": [
       "<pre style=\"white-space:pre;overflow-x:auto;line-height:normal;font-family:Menlo,'DejaVu Sans Mono',consolas,'Courier New',monospace\"><span style=\"color: #000080; text-decoration-color: #000080\">INFO    </span> <span style=\"color: #008000; text-decoration-color: #008000\">'length'</span> should be set in <span style=\"color: #008000; text-decoration-color: #008000\">'model_units'</span>.                                                    <a href=\"file:///home/mkoenig/git/sbmlutils/src/sbmlutils/factory.py\" target=\"_blank\"><span style=\"color: #7f7f7f; text-decoration-color: #7f7f7f\">factory.py</span></a><span style=\"color: #7f7f7f; text-decoration-color: #7f7f7f\">:</span><a href=\"file:///home/mkoenig/git/sbmlutils/src/sbmlutils/factory.py#266\" target=\"_blank\"><span style=\"color: #7f7f7f; text-decoration-color: #7f7f7f\">266</span></a>\n",
       "</pre>\n"
      ],
      "text/plain": [
       "\u001b[34mINFO    \u001b[0m \u001b[32m'length'\u001b[0m should be set in \u001b[32m'model_units'\u001b[0m.                                                    \u001b]8;id=409498;file:///home/mkoenig/git/sbmlutils/src/sbmlutils/factory.py\u001b\\\u001b[2mfactory.py\u001b[0m\u001b]8;;\u001b\\\u001b[2m:\u001b[0m\u001b]8;id=501453;file:///home/mkoenig/git/sbmlutils/src/sbmlutils/factory.py#266\u001b\\\u001b[2m266\u001b[0m\u001b]8;;\u001b\\\n"
      ]
     },
     "metadata": {},
     "output_type": "display_data"
    },
    {
     "data": {
      "text/html": [
       "<pre style=\"white-space:pre;overflow-x:auto;line-height:normal;font-family:Menlo,'DejaVu Sans Mono',consolas,'Courier New',monospace\"><span style=\"color: #000080; text-decoration-color: #000080\">INFO    </span> <span style=\"color: #008000; text-decoration-color: #008000\">'area'</span> should be set in <span style=\"color: #008000; text-decoration-color: #008000\">'model_units'</span>.                                                      <a href=\"file:///home/mkoenig/git/sbmlutils/src/sbmlutils/factory.py\" target=\"_blank\"><span style=\"color: #7f7f7f; text-decoration-color: #7f7f7f\">factory.py</span></a><span style=\"color: #7f7f7f; text-decoration-color: #7f7f7f\">:</span><a href=\"file:///home/mkoenig/git/sbmlutils/src/sbmlutils/factory.py#266\" target=\"_blank\"><span style=\"color: #7f7f7f; text-decoration-color: #7f7f7f\">266</span></a>\n",
       "</pre>\n"
      ],
      "text/plain": [
       "\u001b[34mINFO    \u001b[0m \u001b[32m'area'\u001b[0m should be set in \u001b[32m'model_units'\u001b[0m.                                                      \u001b]8;id=53821;file:///home/mkoenig/git/sbmlutils/src/sbmlutils/factory.py\u001b\\\u001b[2mfactory.py\u001b[0m\u001b]8;;\u001b\\\u001b[2m:\u001b[0m\u001b]8;id=360860;file:///home/mkoenig/git/sbmlutils/src/sbmlutils/factory.py#266\u001b\\\u001b[2m266\u001b[0m\u001b]8;;\u001b\\\n"
      ]
     },
     "metadata": {},
     "output_type": "display_data"
    },
    {
     "data": {
      "text/html": [
       "<pre style=\"white-space:pre;overflow-x:auto;line-height:normal;font-family:Menlo,'DejaVu Sans Mono',consolas,'Courier New',monospace\"><span style=\"color: #800000; text-decoration-color: #800000\">WARNING </span> <span style=\"color: #008000; text-decoration-color: #008000\">'name'</span> should be set on <span style=\"color: #008000; text-decoration-color: #008000\">'Parameter(k1)'</span>                                                     <a href=\"file:///home/mkoenig/git/sbmlutils/src/sbmlutils/factory.py\" target=\"_blank\"><span style=\"color: #7f7f7f; text-decoration-color: #7f7f7f\">factory.py</span></a><span style=\"color: #7f7f7f; text-decoration-color: #7f7f7f\">:</span><a href=\"file:///home/mkoenig/git/sbmlutils/src/sbmlutils/factory.py#441\" target=\"_blank\"><span style=\"color: #7f7f7f; text-decoration-color: #7f7f7f\">441</span></a>\n",
       "</pre>\n"
      ],
      "text/plain": [
       "\u001b[31mWARNING \u001b[0m \u001b[32m'name'\u001b[0m should be set on \u001b[32m'Parameter\u001b[0m\u001b[32m(\u001b[0m\u001b[32mk1\u001b[0m\u001b[32m)\u001b[0m\u001b[32m'\u001b[0m                                                     \u001b]8;id=571900;file:///home/mkoenig/git/sbmlutils/src/sbmlutils/factory.py\u001b\\\u001b[2mfactory.py\u001b[0m\u001b]8;;\u001b\\\u001b[2m:\u001b[0m\u001b]8;id=95094;file:///home/mkoenig/git/sbmlutils/src/sbmlutils/factory.py#441\u001b\\\u001b[2m441\u001b[0m\u001b]8;;\u001b\\\n"
      ]
     },
     "metadata": {},
     "output_type": "display_data"
    },
    {
     "data": {
      "text/html": [
       "<pre style=\"white-space:pre;overflow-x:auto;line-height:normal;font-family:Menlo,'DejaVu Sans Mono',consolas,'Courier New',monospace\"><span style=\"color: #800000; text-decoration-color: #800000\">WARNING </span> <span style=\"color: #008000; text-decoration-color: #008000\">'sboTerm'</span> should be set on <span style=\"color: #008000; text-decoration-color: #008000\">'Parameter(k1)'</span>                                                  <a href=\"file:///home/mkoenig/git/sbmlutils/src/sbmlutils/factory.py\" target=\"_blank\"><span style=\"color: #7f7f7f; text-decoration-color: #7f7f7f\">factory.py</span></a><span style=\"color: #7f7f7f; text-decoration-color: #7f7f7f\">:</span><a href=\"file:///home/mkoenig/git/sbmlutils/src/sbmlutils/factory.py#466\" target=\"_blank\"><span style=\"color: #7f7f7f; text-decoration-color: #7f7f7f\">466</span></a>\n",
       "</pre>\n"
      ],
      "text/plain": [
       "\u001b[31mWARNING \u001b[0m \u001b[32m'sboTerm'\u001b[0m should be set on \u001b[32m'Parameter\u001b[0m\u001b[32m(\u001b[0m\u001b[32mk1\u001b[0m\u001b[32m)\u001b[0m\u001b[32m'\u001b[0m                                                  \u001b]8;id=322032;file:///home/mkoenig/git/sbmlutils/src/sbmlutils/factory.py\u001b\\\u001b[2mfactory.py\u001b[0m\u001b]8;;\u001b\\\u001b[2m:\u001b[0m\u001b]8;id=30240;file:///home/mkoenig/git/sbmlutils/src/sbmlutils/factory.py#466\u001b\\\u001b[2m466\u001b[0m\u001b]8;;\u001b\\\n"
      ]
     },
     "metadata": {},
     "output_type": "display_data"
    },
    {
     "data": {
      "text/html": [
       "<pre style=\"white-space:pre;overflow-x:auto;line-height:normal;font-family:Menlo,'DejaVu Sans Mono',consolas,'Courier New',monospace\"><span style=\"color: #800000; text-decoration-color: #800000\">WARNING </span> <span style=\"color: #008000; text-decoration-color: #008000\">'name'</span> should be set on <span style=\"color: #008000; text-decoration-color: #008000\">'Compartment(C)'</span>                                                    <a href=\"file:///home/mkoenig/git/sbmlutils/src/sbmlutils/factory.py\" target=\"_blank\"><span style=\"color: #7f7f7f; text-decoration-color: #7f7f7f\">factory.py</span></a><span style=\"color: #7f7f7f; text-decoration-color: #7f7f7f\">:</span><a href=\"file:///home/mkoenig/git/sbmlutils/src/sbmlutils/factory.py#441\" target=\"_blank\"><span style=\"color: #7f7f7f; text-decoration-color: #7f7f7f\">441</span></a>\n",
       "</pre>\n"
      ],
      "text/plain": [
       "\u001b[31mWARNING \u001b[0m \u001b[32m'name'\u001b[0m should be set on \u001b[32m'Compartment\u001b[0m\u001b[32m(\u001b[0m\u001b[32mC\u001b[0m\u001b[32m)\u001b[0m\u001b[32m'\u001b[0m                                                    \u001b]8;id=155234;file:///home/mkoenig/git/sbmlutils/src/sbmlutils/factory.py\u001b\\\u001b[2mfactory.py\u001b[0m\u001b]8;;\u001b\\\u001b[2m:\u001b[0m\u001b]8;id=54831;file:///home/mkoenig/git/sbmlutils/src/sbmlutils/factory.py#441\u001b\\\u001b[2m441\u001b[0m\u001b]8;;\u001b\\\n"
      ]
     },
     "metadata": {},
     "output_type": "display_data"
    },
    {
     "data": {
      "text/html": [
       "<pre style=\"white-space:pre;overflow-x:auto;line-height:normal;font-family:Menlo,'DejaVu Sans Mono',consolas,'Courier New',monospace\"><span style=\"color: #800000; text-decoration-color: #800000\">WARNING </span> <span style=\"color: #008000; text-decoration-color: #008000\">'sboTerm'</span> should be set on <span style=\"color: #008000; text-decoration-color: #008000\">'Compartment(C)'</span>                                                 <a href=\"file:///home/mkoenig/git/sbmlutils/src/sbmlutils/factory.py\" target=\"_blank\"><span style=\"color: #7f7f7f; text-decoration-color: #7f7f7f\">factory.py</span></a><span style=\"color: #7f7f7f; text-decoration-color: #7f7f7f\">:</span><a href=\"file:///home/mkoenig/git/sbmlutils/src/sbmlutils/factory.py#466\" target=\"_blank\"><span style=\"color: #7f7f7f; text-decoration-color: #7f7f7f\">466</span></a>\n",
       "</pre>\n"
      ],
      "text/plain": [
       "\u001b[31mWARNING \u001b[0m \u001b[32m'sboTerm'\u001b[0m should be set on \u001b[32m'Compartment\u001b[0m\u001b[32m(\u001b[0m\u001b[32mC\u001b[0m\u001b[32m)\u001b[0m\u001b[32m'\u001b[0m                                                 \u001b]8;id=583136;file:///home/mkoenig/git/sbmlutils/src/sbmlutils/factory.py\u001b\\\u001b[2mfactory.py\u001b[0m\u001b]8;;\u001b\\\u001b[2m:\u001b[0m\u001b]8;id=448468;file:///home/mkoenig/git/sbmlutils/src/sbmlutils/factory.py#466\u001b\\\u001b[2m466\u001b[0m\u001b]8;;\u001b\\\n"
      ]
     },
     "metadata": {},
     "output_type": "display_data"
    },
    {
     "data": {
      "text/html": [
       "<pre style=\"white-space:pre;overflow-x:auto;line-height:normal;font-family:Menlo,'DejaVu Sans Mono',consolas,'Courier New',monospace\"><span style=\"color: #800000; text-decoration-color: #800000\">WARNING </span> <span style=\"color: #008000; text-decoration-color: #008000\">'name'</span> should be set on <span style=\"color: #008000; text-decoration-color: #008000\">'Species(S1)'</span>                                                       <a href=\"file:///home/mkoenig/git/sbmlutils/src/sbmlutils/factory.py\" target=\"_blank\"><span style=\"color: #7f7f7f; text-decoration-color: #7f7f7f\">factory.py</span></a><span style=\"color: #7f7f7f; text-decoration-color: #7f7f7f\">:</span><a href=\"file:///home/mkoenig/git/sbmlutils/src/sbmlutils/factory.py#441\" target=\"_blank\"><span style=\"color: #7f7f7f; text-decoration-color: #7f7f7f\">441</span></a>\n",
       "</pre>\n"
      ],
      "text/plain": [
       "\u001b[31mWARNING \u001b[0m \u001b[32m'name'\u001b[0m should be set on \u001b[32m'Species\u001b[0m\u001b[32m(\u001b[0m\u001b[32mS1\u001b[0m\u001b[32m)\u001b[0m\u001b[32m'\u001b[0m                                                       \u001b]8;id=306791;file:///home/mkoenig/git/sbmlutils/src/sbmlutils/factory.py\u001b\\\u001b[2mfactory.py\u001b[0m\u001b]8;;\u001b\\\u001b[2m:\u001b[0m\u001b]8;id=939745;file:///home/mkoenig/git/sbmlutils/src/sbmlutils/factory.py#441\u001b\\\u001b[2m441\u001b[0m\u001b]8;;\u001b\\\n"
      ]
     },
     "metadata": {},
     "output_type": "display_data"
    },
    {
     "data": {
      "text/html": [
       "<pre style=\"white-space:pre;overflow-x:auto;line-height:normal;font-family:Menlo,'DejaVu Sans Mono',consolas,'Courier New',monospace\"><span style=\"color: #800000; text-decoration-color: #800000\">WARNING </span> <span style=\"color: #008000; text-decoration-color: #008000\">'sboTerm'</span> should be set on <span style=\"color: #008000; text-decoration-color: #008000\">'Species(S1)'</span>                                                    <a href=\"file:///home/mkoenig/git/sbmlutils/src/sbmlutils/factory.py\" target=\"_blank\"><span style=\"color: #7f7f7f; text-decoration-color: #7f7f7f\">factory.py</span></a><span style=\"color: #7f7f7f; text-decoration-color: #7f7f7f\">:</span><a href=\"file:///home/mkoenig/git/sbmlutils/src/sbmlutils/factory.py#466\" target=\"_blank\"><span style=\"color: #7f7f7f; text-decoration-color: #7f7f7f\">466</span></a>\n",
       "</pre>\n"
      ],
      "text/plain": [
       "\u001b[31mWARNING \u001b[0m \u001b[32m'sboTerm'\u001b[0m should be set on \u001b[32m'Species\u001b[0m\u001b[32m(\u001b[0m\u001b[32mS1\u001b[0m\u001b[32m)\u001b[0m\u001b[32m'\u001b[0m                                                    \u001b]8;id=852494;file:///home/mkoenig/git/sbmlutils/src/sbmlutils/factory.py\u001b\\\u001b[2mfactory.py\u001b[0m\u001b]8;;\u001b\\\u001b[2m:\u001b[0m\u001b]8;id=707943;file:///home/mkoenig/git/sbmlutils/src/sbmlutils/factory.py#466\u001b\\\u001b[2m466\u001b[0m\u001b]8;;\u001b\\\n"
      ]
     },
     "metadata": {},
     "output_type": "display_data"
    },
    {
     "data": {
      "text/html": [
       "<pre style=\"white-space:pre;overflow-x:auto;line-height:normal;font-family:Menlo,'DejaVu Sans Mono',consolas,'Courier New',monospace\"><span style=\"color: #800000; text-decoration-color: #800000\">WARNING </span> <span style=\"color: #008000; text-decoration-color: #008000\">'name'</span> should be set on <span style=\"color: #008000; text-decoration-color: #008000\">'Reaction(R1)'</span>                                                      <a href=\"file:///home/mkoenig/git/sbmlutils/src/sbmlutils/factory.py\" target=\"_blank\"><span style=\"color: #7f7f7f; text-decoration-color: #7f7f7f\">factory.py</span></a><span style=\"color: #7f7f7f; text-decoration-color: #7f7f7f\">:</span><a href=\"file:///home/mkoenig/git/sbmlutils/src/sbmlutils/factory.py#441\" target=\"_blank\"><span style=\"color: #7f7f7f; text-decoration-color: #7f7f7f\">441</span></a>\n",
       "</pre>\n"
      ],
      "text/plain": [
       "\u001b[31mWARNING \u001b[0m \u001b[32m'name'\u001b[0m should be set on \u001b[32m'Reaction\u001b[0m\u001b[32m(\u001b[0m\u001b[32mR1\u001b[0m\u001b[32m)\u001b[0m\u001b[32m'\u001b[0m                                                      \u001b]8;id=476738;file:///home/mkoenig/git/sbmlutils/src/sbmlutils/factory.py\u001b\\\u001b[2mfactory.py\u001b[0m\u001b]8;;\u001b\\\u001b[2m:\u001b[0m\u001b]8;id=728369;file:///home/mkoenig/git/sbmlutils/src/sbmlutils/factory.py#441\u001b\\\u001b[2m441\u001b[0m\u001b]8;;\u001b\\\n"
      ]
     },
     "metadata": {},
     "output_type": "display_data"
    },
    {
     "data": {
      "text/html": [
       "<pre style=\"white-space:pre;overflow-x:auto;line-height:normal;font-family:Menlo,'DejaVu Sans Mono',consolas,'Courier New',monospace\"><span style=\"color: #800000; text-decoration-color: #800000\">WARNING </span> <span style=\"color: #008000; text-decoration-color: #008000\">'sboTerm'</span> should be set on <span style=\"color: #008000; text-decoration-color: #008000\">'Reaction(R1)'</span>                                                   <a href=\"file:///home/mkoenig/git/sbmlutils/src/sbmlutils/factory.py\" target=\"_blank\"><span style=\"color: #7f7f7f; text-decoration-color: #7f7f7f\">factory.py</span></a><span style=\"color: #7f7f7f; text-decoration-color: #7f7f7f\">:</span><a href=\"file:///home/mkoenig/git/sbmlutils/src/sbmlutils/factory.py#466\" target=\"_blank\"><span style=\"color: #7f7f7f; text-decoration-color: #7f7f7f\">466</span></a>\n",
       "</pre>\n"
      ],
      "text/plain": [
       "\u001b[31mWARNING \u001b[0m \u001b[32m'sboTerm'\u001b[0m should be set on \u001b[32m'Reaction\u001b[0m\u001b[32m(\u001b[0m\u001b[32mR1\u001b[0m\u001b[32m)\u001b[0m\u001b[32m'\u001b[0m                                                   \u001b]8;id=264545;file:///home/mkoenig/git/sbmlutils/src/sbmlutils/factory.py\u001b\\\u001b[2mfactory.py\u001b[0m\u001b]8;;\u001b\\\u001b[2m:\u001b[0m\u001b]8;id=543690;file:///home/mkoenig/git/sbmlutils/src/sbmlutils/factory.py#466\u001b\\\u001b[2m466\u001b[0m\u001b]8;;\u001b\\\n"
      ]
     },
     "metadata": {},
     "output_type": "display_data"
    },
    {
     "data": {
      "text/html": [
       "<pre style=\"white-space:pre;overflow-x:auto;line-height:normal;font-family:Menlo,'DejaVu Sans Mono',consolas,'Courier New',monospace\"><span style=\"color: #800000; text-decoration-color: #800000; font-weight: bold\">ERROR   </span> <span style=\"color: #000000; text-decoration-color: #000000; background-color: #c0c0c0\">ENone: General SBML conformance </span><span style=\"color: #000000; text-decoration-color: #000000; background-color: #c0c0c0; font-weight: bold\">(</span><span style=\"color: #000000; text-decoration-color: #000000; background-color: #c0c0c0\">core, L2, code</span><span style=\"color: #000000; text-decoration-color: #000000; background-color: #c0c0c0; font-weight: bold\">)</span>                                         <a href=\"file:///home/mkoenig/git/sbmlutils/src/sbmlutils/validation.py\" target=\"_blank\"><span style=\"color: #7f7f7f; text-decoration-color: #7f7f7f\">validation.py</span></a><span style=\"color: #7f7f7f; text-decoration-color: #7f7f7f\">:</span><a href=\"file:///home/mkoenig/git/sbmlutils/src/sbmlutils/validation.py#188\" target=\"_blank\"><span style=\"color: #7f7f7f; text-decoration-color: #7f7f7f\">188</span></a>\n",
       "         <span style=\"color: #800000; text-decoration-color: #800000; background-color: #000000; font-weight: bold\">[</span><span style=\"color: #800000; text-decoration-color: #800000; background-color: #000000\">Error</span><span style=\"color: #800000; text-decoration-color: #800000; background-color: #000000; font-weight: bold\">]</span><span style=\"color: #800000; text-decoration-color: #800000; background-color: #000000\"> Annotation objects on the SBML container element are not permitted in SBML Level</span> <span style=\"color: #7f7f7f; text-decoration-color: #7f7f7f\">                 </span>\n",
       "         <span style=\"color: #008080; text-decoration-color: #008080; background-color: #000000; font-weight: bold\">1</span>                                                                                        <span style=\"color: #7f7f7f; text-decoration-color: #7f7f7f\">                 </span>\n",
       "         The <span style=\"font-weight: bold\">&lt;</span><span style=\"color: #ff00ff; text-decoration-color: #ff00ff; font-weight: bold\">sbml</span><span style=\"font-weight: bold\">&gt;</span> container element cannot contain <span style=\"font-weight: bold\">&lt;</span><span style=\"color: #ff00ff; text-decoration-color: #ff00ff; font-weight: bold\">notes</span><span style=\"font-weight: bold\">&gt;</span> or <span style=\"font-weight: bold\">&lt;</span><span style=\"color: #ff00ff; text-decoration-color: #ff00ff; font-weight: bold\">annotations</span><span style=\"font-weight: bold\">&gt;</span> in an SBML Level <span style=\"color: #008080; text-decoration-color: #008080; font-weight: bold\">1</span>  <span style=\"color: #7f7f7f; text-decoration-color: #7f7f7f\">                 </span>\n",
       "         document.                                                                                <span style=\"color: #7f7f7f; text-decoration-color: #7f7f7f\">                 </span>\n",
       "                                                                                                  <span style=\"color: #7f7f7f; text-decoration-color: #7f7f7f\">                 </span>\n",
       "</pre>\n"
      ],
      "text/plain": [
       "\u001b[1;31mERROR   \u001b[0m \u001b[30;47mENone: General SBML conformance \u001b[0m\u001b[1;30;47m(\u001b[0m\u001b[30;47mcore, L2, code\u001b[0m\u001b[1;30;47m)\u001b[0m                                         \u001b]8;id=128411;file:///home/mkoenig/git/sbmlutils/src/sbmlutils/validation.py\u001b\\\u001b[2mvalidation.py\u001b[0m\u001b]8;;\u001b\\\u001b[2m:\u001b[0m\u001b]8;id=495963;file:///home/mkoenig/git/sbmlutils/src/sbmlutils/validation.py#188\u001b\\\u001b[2m188\u001b[0m\u001b]8;;\u001b\\\n",
       "         \u001b[1;31;40m[\u001b[0m\u001b[31;40mError\u001b[0m\u001b[1;31;40m]\u001b[0m\u001b[31;40m Annotation objects on the SBML container element are not permitted in SBML Level\u001b[0m \u001b[2m                 \u001b[0m\n",
       "         \u001b[1;36;40m1\u001b[0m                                                                                        \u001b[2m                 \u001b[0m\n",
       "         The \u001b[1m<\u001b[0m\u001b[1;95msbml\u001b[0m\u001b[1m>\u001b[0m container element cannot contain \u001b[1m<\u001b[0m\u001b[1;95mnotes\u001b[0m\u001b[1m>\u001b[0m or \u001b[1m<\u001b[0m\u001b[1;95mannotations\u001b[0m\u001b[1m>\u001b[0m in an SBML Level \u001b[1;36m1\u001b[0m  \u001b[2m                 \u001b[0m\n",
       "         document.                                                                                \u001b[2m                 \u001b[0m\n",
       "                                                                                                  \u001b[2m                 \u001b[0m\n"
      ]
     },
     "metadata": {},
     "output_type": "display_data"
    },
    {
     "data": {
      "text/html": [
       "<pre style=\"white-space:pre;overflow-x:auto;line-height:normal;font-family:Menlo,'DejaVu Sans Mono',consolas,'Courier New',monospace\"><span style=\"color: #800000; text-decoration-color: #800000; font-weight: bold\">ERROR   </span> `read_sbml` error <span style=\"color: #008000; text-decoration-color: #008000\">'/tmp/tmp8gk6q08t/example_model.xml'</span>: SBMLDocumentErrors encountered while    <a href=\"file:///home/mkoenig/git/sbmlutils/src/sbmlutils/io/sbml.py\" target=\"_blank\"><span style=\"color: #7f7f7f; text-decoration-color: #7f7f7f\">sbml.py</span></a><span style=\"color: #7f7f7f; text-decoration-color: #7f7f7f\">:</span><a href=\"file:///home/mkoenig/git/sbmlutils/src/sbmlutils/io/sbml.py#66\" target=\"_blank\"><span style=\"color: #7f7f7f; text-decoration-color: #7f7f7f\">66</span></a>\n",
       "         reading the SBML file.                                                                          <span style=\"color: #7f7f7f; text-decoration-color: #7f7f7f\">          </span>\n",
       "</pre>\n"
      ],
      "text/plain": [
       "\u001b[1;31mERROR   \u001b[0m `read_sbml` error \u001b[32m'/tmp/tmp8gk6q08t/example_model.xml'\u001b[0m: SBMLDocumentErrors encountered while    \u001b]8;id=272903;file:///home/mkoenig/git/sbmlutils/src/sbmlutils/io/sbml.py\u001b\\\u001b[2msbml.py\u001b[0m\u001b]8;;\u001b\\\u001b[2m:\u001b[0m\u001b]8;id=783178;file:///home/mkoenig/git/sbmlutils/src/sbmlutils/io/sbml.py#66\u001b\\\u001b[2m66\u001b[0m\u001b]8;;\u001b\\\n",
       "         reading the SBML file.                                                                          \u001b[2m          \u001b[0m\n"
      ]
     },
     "metadata": {},
     "output_type": "display_data"
    },
    {
     "data": {
      "text/html": [
       "<pre style=\"white-space:pre;overflow-x:auto;line-height:normal;font-family:Menlo,'DejaVu Sans Mono',consolas,'Courier New',monospace\">\n",
       "</pre>\n"
      ],
      "text/plain": [
       "\n"
      ]
     },
     "metadata": {},
     "output_type": "display_data"
    },
    {
     "data": {
      "text/html": [
       "<pre style=\"white-space:pre;overflow-x:auto;line-height:normal;font-family:Menlo,'DejaVu Sans Mono',consolas,'Courier New',monospace\"><span style=\"color: #800000; text-decoration-color: #800000\">────────────────────────────────────────────────── </span>Validate SBML<span style=\"color: #800000; text-decoration-color: #800000\"> ──────────────────────────────────────────────────</span>\n",
       "</pre>\n"
      ],
      "text/plain": [
       "\u001b[31m────────────────────────────────────────────────── \u001b[0mValidate SBML\u001b[31m ──────────────────────────────────────────────────\u001b[0m\n"
      ]
     },
     "metadata": {},
     "output_type": "display_data"
    },
    {
     "data": {
      "text/html": [
       "<pre style=\"white-space:pre;overflow-x:auto;line-height:normal;font-family:Menlo,'DejaVu Sans Mono',consolas,'Courier New',monospace\"><span style=\"color: #0000ff; text-decoration-color: #0000ff; text-decoration: underline\">file:///tmp/tmp8gk6q08t/example_model.xml</span>\n",
       "<span style=\"color: #800000; text-decoration-color: #800000\">valid                    : FALSE</span>\n",
       "<span style=\"color: #800000; text-decoration-color: #800000\">validation </span><span style=\"color: #800080; text-decoration-color: #800080; font-weight: bold\">error</span><span style=\"color: #800000; text-decoration-color: #800000; font-weight: bold\">(</span><span style=\"color: #800000; text-decoration-color: #800000\">s</span><span style=\"color: #800000; text-decoration-color: #800000; font-weight: bold\">)</span><span style=\"color: #800000; text-decoration-color: #800000\">      : </span><span style=\"color: #008080; text-decoration-color: #008080; font-weight: bold\">1</span>\n",
       "<span style=\"color: #800000; text-decoration-color: #800000\">validation </span><span style=\"color: #800080; text-decoration-color: #800080; font-weight: bold\">warnings</span><span style=\"color: #800000; text-decoration-color: #800000; font-weight: bold\">(</span><span style=\"color: #800000; text-decoration-color: #800000\">s</span><span style=\"color: #800000; text-decoration-color: #800000; font-weight: bold\">)</span><span style=\"color: #800000; text-decoration-color: #800000\">   : </span><span style=\"color: #008080; text-decoration-color: #008080; font-weight: bold\">0</span>\n",
       "<span style=\"color: #800000; text-decoration-color: #800000\">check time </span><span style=\"color: #800000; text-decoration-color: #800000; font-weight: bold\">(</span><span style=\"color: #800000; text-decoration-color: #800000\">s</span><span style=\"color: #800000; text-decoration-color: #800000; font-weight: bold\">)</span><span style=\"color: #800000; text-decoration-color: #800000\">           : </span><span style=\"color: #008080; text-decoration-color: #008080; font-weight: bold\">0.001</span>\n",
       "</pre>\n"
      ],
      "text/plain": [
       "\u001b[4;94mfile:///tmp/tmp8gk6q08t/example_model.xml\u001b[0m\n",
       "\u001b[31mvalid                    : FALSE\u001b[0m\n",
       "\u001b[31mvalidation \u001b[0m\u001b[1;35merror\u001b[0m\u001b[1;31m(\u001b[0m\u001b[31ms\u001b[0m\u001b[1;31m)\u001b[0m\u001b[31m      : \u001b[0m\u001b[1;36m1\u001b[0m\n",
       "\u001b[31mvalidation \u001b[0m\u001b[1;35mwarnings\u001b[0m\u001b[1;31m(\u001b[0m\u001b[31ms\u001b[0m\u001b[1;31m)\u001b[0m\u001b[31m   : \u001b[0m\u001b[1;36m0\u001b[0m\n",
       "\u001b[31mcheck time \u001b[0m\u001b[1;31m(\u001b[0m\u001b[31ms\u001b[0m\u001b[1;31m)\u001b[0m\u001b[31m           : \u001b[0m\u001b[1;36m0.001\u001b[0m\n"
      ]
     },
     "metadata": {},
     "output_type": "display_data"
    },
    {
     "data": {
      "text/html": [
       "<pre style=\"white-space:pre;overflow-x:auto;line-height:normal;font-family:Menlo,'DejaVu Sans Mono',consolas,'Courier New',monospace\"><span style=\"color: #800000; text-decoration-color: #800000\">───────────────────────────────────────────────────────────────────────────────────────────────────────────────────</span>\n",
       "</pre>\n"
      ],
      "text/plain": [
       "\u001b[31m───────────────────────────────────────────────────────────────────────────────────────────────────────────────────\u001b[0m\n"
      ]
     },
     "metadata": {},
     "output_type": "display_data"
    },
    {
     "data": {
      "text/html": [
       "<pre style=\"white-space:pre;overflow-x:auto;line-height:normal;font-family:Menlo,'DejaVu Sans Mono',consolas,'Courier New',monospace\">\n",
       "</pre>\n"
      ],
      "text/plain": [
       "\n"
      ]
     },
     "metadata": {},
     "output_type": "display_data"
    },
    {
     "data": {
      "text/html": [
       "<pre style=\"white-space:pre;overflow-x:auto;line-height:normal;font-family:Menlo,'DejaVu Sans Mono',consolas,'Courier New',monospace\"><span style=\"color: #800000; text-decoration-color: #800000; font-weight: bold\">ERROR   </span> <span style=\"color: #000000; text-decoration-color: #000000; background-color: #c0c0c0\">E0: General SBML conformance </span><span style=\"color: #000000; text-decoration-color: #000000; background-color: #c0c0c0; font-weight: bold\">(</span><span style=\"color: #000000; text-decoration-color: #000000; background-color: #c0c0c0\">core, L2, code</span><span style=\"color: #000000; text-decoration-color: #000000; background-color: #c0c0c0; font-weight: bold\">)</span>                                            <a href=\"file:///home/mkoenig/git/sbmlutils/src/sbmlutils/validation.py\" target=\"_blank\"><span style=\"color: #7f7f7f; text-decoration-color: #7f7f7f\">validation.py</span></a><span style=\"color: #7f7f7f; text-decoration-color: #7f7f7f\">:</span><a href=\"file:///home/mkoenig/git/sbmlutils/src/sbmlutils/validation.py#188\" target=\"_blank\"><span style=\"color: #7f7f7f; text-decoration-color: #7f7f7f\">188</span></a>\n",
       "         <span style=\"color: #800000; text-decoration-color: #800000; background-color: #000000; font-weight: bold\">[</span><span style=\"color: #800000; text-decoration-color: #800000; background-color: #000000\">Error</span><span style=\"color: #800000; text-decoration-color: #800000; background-color: #000000; font-weight: bold\">]</span><span style=\"color: #800000; text-decoration-color: #800000; background-color: #000000\"> Annotation objects on the SBML container element are not permitted in SBML Level</span> <span style=\"color: #7f7f7f; text-decoration-color: #7f7f7f\">                 </span>\n",
       "         <span style=\"color: #008080; text-decoration-color: #008080; background-color: #000000; font-weight: bold\">1</span>                                                                                        <span style=\"color: #7f7f7f; text-decoration-color: #7f7f7f\">                 </span>\n",
       "         The <span style=\"font-weight: bold\">&lt;</span><span style=\"color: #ff00ff; text-decoration-color: #ff00ff; font-weight: bold\">sbml</span><span style=\"font-weight: bold\">&gt;</span> container element cannot contain <span style=\"font-weight: bold\">&lt;</span><span style=\"color: #ff00ff; text-decoration-color: #ff00ff; font-weight: bold\">notes</span><span style=\"font-weight: bold\">&gt;</span> or <span style=\"font-weight: bold\">&lt;</span><span style=\"color: #ff00ff; text-decoration-color: #ff00ff; font-weight: bold\">annotations</span><span style=\"font-weight: bold\">&gt;</span> in an SBML Level <span style=\"color: #008080; text-decoration-color: #008080; font-weight: bold\">1</span>  <span style=\"color: #7f7f7f; text-decoration-color: #7f7f7f\">                 </span>\n",
       "         document.                                                                                <span style=\"color: #7f7f7f; text-decoration-color: #7f7f7f\">                 </span>\n",
       "                                                                                                  <span style=\"color: #7f7f7f; text-decoration-color: #7f7f7f\">                 </span>\n",
       "</pre>\n"
      ],
      "text/plain": [
       "\u001b[1;31mERROR   \u001b[0m \u001b[30;47mE0: General SBML conformance \u001b[0m\u001b[1;30;47m(\u001b[0m\u001b[30;47mcore, L2, code\u001b[0m\u001b[1;30;47m)\u001b[0m                                            \u001b]8;id=459502;file:///home/mkoenig/git/sbmlutils/src/sbmlutils/validation.py\u001b\\\u001b[2mvalidation.py\u001b[0m\u001b]8;;\u001b\\\u001b[2m:\u001b[0m\u001b]8;id=154473;file:///home/mkoenig/git/sbmlutils/src/sbmlutils/validation.py#188\u001b\\\u001b[2m188\u001b[0m\u001b]8;;\u001b\\\n",
       "         \u001b[1;31;40m[\u001b[0m\u001b[31;40mError\u001b[0m\u001b[1;31;40m]\u001b[0m\u001b[31;40m Annotation objects on the SBML container element are not permitted in SBML Level\u001b[0m \u001b[2m                 \u001b[0m\n",
       "         \u001b[1;36;40m1\u001b[0m                                                                                        \u001b[2m                 \u001b[0m\n",
       "         The \u001b[1m<\u001b[0m\u001b[1;95msbml\u001b[0m\u001b[1m>\u001b[0m container element cannot contain \u001b[1m<\u001b[0m\u001b[1;95mnotes\u001b[0m\u001b[1m>\u001b[0m or \u001b[1m<\u001b[0m\u001b[1;95mannotations\u001b[0m\u001b[1m>\u001b[0m in an SBML Level \u001b[1;36m1\u001b[0m  \u001b[2m                 \u001b[0m\n",
       "         document.                                                                                \u001b[2m                 \u001b[0m\n",
       "                                                                                                  \u001b[2m                 \u001b[0m\n"
      ]
     },
     "metadata": {},
     "output_type": "display_data"
    },
    {
     "data": {
      "text/html": [
       "<pre style=\"white-space:pre;overflow-x:auto;line-height:normal;font-family:Menlo,'DejaVu Sans Mono',consolas,'Courier New',monospace\"><span style=\"color: #c0c0c0; text-decoration-color: #c0c0c0\">───────────────────────────────────────────────────────────────────────────────────────────────────────────────────</span>\n",
       "</pre>\n"
      ],
      "text/plain": [
       "\u001b[37m───────────────────────────────────────────────────────────────────────────────────────────────────────────────────\u001b[0m\n"
      ]
     },
     "metadata": {},
     "output_type": "display_data"
    },
    {
     "data": {
      "text/html": [
       "<pre style=\"white-space:pre;overflow-x:auto;line-height:normal;font-family:Menlo,'DejaVu Sans Mono',consolas,'Courier New',monospace\"><span style=\"color: #c0c0c0; text-decoration-color: #c0c0c0\">───────────────────────────────────────────────────────────────────────────────────────────────────────────────────</span>\n",
       "</pre>\n"
      ],
      "text/plain": [
       "\u001b[37m───────────────────────────────────────────────────────────────────────────────────────────────────────────────────\u001b[0m\n"
      ]
     },
     "metadata": {},
     "output_type": "display_data"
    },
    {
     "data": {
      "text/html": [
       "<pre style=\"white-space:pre;overflow-x:auto;line-height:normal;font-family:Menlo,'DejaVu Sans Mono',consolas,'Courier New',monospace\"><span style=\"color: #800000; text-decoration-color: #800000; font-weight: bold\">ERROR   </span> <span style=\"color: #000000; text-decoration-color: #000000; background-color: #c0c0c0\">ENone: General SBML conformance </span><span style=\"color: #000000; text-decoration-color: #000000; background-color: #c0c0c0; font-weight: bold\">(</span><span style=\"color: #000000; text-decoration-color: #000000; background-color: #c0c0c0\">core, L2, code</span><span style=\"color: #000000; text-decoration-color: #000000; background-color: #c0c0c0; font-weight: bold\">)</span>                                         <a href=\"file:///home/mkoenig/git/sbmlutils/src/sbmlutils/validation.py\" target=\"_blank\"><span style=\"color: #7f7f7f; text-decoration-color: #7f7f7f\">validation.py</span></a><span style=\"color: #7f7f7f; text-decoration-color: #7f7f7f\">:</span><a href=\"file:///home/mkoenig/git/sbmlutils/src/sbmlutils/validation.py#188\" target=\"_blank\"><span style=\"color: #7f7f7f; text-decoration-color: #7f7f7f\">188</span></a>\n",
       "         <span style=\"color: #800000; text-decoration-color: #800000; background-color: #000000; font-weight: bold\">[</span><span style=\"color: #800000; text-decoration-color: #800000; background-color: #000000\">Error</span><span style=\"color: #800000; text-decoration-color: #800000; background-color: #000000; font-weight: bold\">]</span><span style=\"color: #800000; text-decoration-color: #800000; background-color: #000000\"> Annotation objects on the SBML container element are not permitted in SBML Level</span> <span style=\"color: #7f7f7f; text-decoration-color: #7f7f7f\">                 </span>\n",
       "         <span style=\"color: #008080; text-decoration-color: #008080; background-color: #000000; font-weight: bold\">1</span>                                                                                        <span style=\"color: #7f7f7f; text-decoration-color: #7f7f7f\">                 </span>\n",
       "         The <span style=\"font-weight: bold\">&lt;</span><span style=\"color: #ff00ff; text-decoration-color: #ff00ff; font-weight: bold\">sbml</span><span style=\"font-weight: bold\">&gt;</span> container element cannot contain <span style=\"font-weight: bold\">&lt;</span><span style=\"color: #ff00ff; text-decoration-color: #ff00ff; font-weight: bold\">notes</span><span style=\"font-weight: bold\">&gt;</span> or <span style=\"font-weight: bold\">&lt;</span><span style=\"color: #ff00ff; text-decoration-color: #ff00ff; font-weight: bold\">annotations</span><span style=\"font-weight: bold\">&gt;</span> in an SBML Level <span style=\"color: #008080; text-decoration-color: #008080; font-weight: bold\">1</span>  <span style=\"color: #7f7f7f; text-decoration-color: #7f7f7f\">                 </span>\n",
       "         document.                                                                                <span style=\"color: #7f7f7f; text-decoration-color: #7f7f7f\">                 </span>\n",
       "                                                                                                  <span style=\"color: #7f7f7f; text-decoration-color: #7f7f7f\">                 </span>\n",
       "</pre>\n"
      ],
      "text/plain": [
       "\u001b[1;31mERROR   \u001b[0m \u001b[30;47mENone: General SBML conformance \u001b[0m\u001b[1;30;47m(\u001b[0m\u001b[30;47mcore, L2, code\u001b[0m\u001b[1;30;47m)\u001b[0m                                         \u001b]8;id=578845;file:///home/mkoenig/git/sbmlutils/src/sbmlutils/validation.py\u001b\\\u001b[2mvalidation.py\u001b[0m\u001b]8;;\u001b\\\u001b[2m:\u001b[0m\u001b]8;id=97596;file:///home/mkoenig/git/sbmlutils/src/sbmlutils/validation.py#188\u001b\\\u001b[2m188\u001b[0m\u001b]8;;\u001b\\\n",
       "         \u001b[1;31;40m[\u001b[0m\u001b[31;40mError\u001b[0m\u001b[1;31;40m]\u001b[0m\u001b[31;40m Annotation objects on the SBML container element are not permitted in SBML Level\u001b[0m \u001b[2m                 \u001b[0m\n",
       "         \u001b[1;36;40m1\u001b[0m                                                                                        \u001b[2m                 \u001b[0m\n",
       "         The \u001b[1m<\u001b[0m\u001b[1;95msbml\u001b[0m\u001b[1m>\u001b[0m container element cannot contain \u001b[1m<\u001b[0m\u001b[1;95mnotes\u001b[0m\u001b[1m>\u001b[0m or \u001b[1m<\u001b[0m\u001b[1;95mannotations\u001b[0m\u001b[1m>\u001b[0m in an SBML Level \u001b[1;36m1\u001b[0m  \u001b[2m                 \u001b[0m\n",
       "         document.                                                                                \u001b[2m                 \u001b[0m\n",
       "                                                                                                  \u001b[2m                 \u001b[0m\n"
      ]
     },
     "metadata": {},
     "output_type": "display_data"
    },
    {
     "data": {
      "text/html": [
       "<pre style=\"white-space:pre;overflow-x:auto;line-height:normal;font-family:Menlo,'DejaVu Sans Mono',consolas,'Courier New',monospace\"><span style=\"color: #800000; text-decoration-color: #800000; font-weight: bold\">ERROR   </span> `read_sbml` error <span style=\"color: #008000; text-decoration-color: #008000\">'/tmp/tmp8gk6q08t/example_model.xml'</span>: SBMLDocumentErrors encountered while    <a href=\"file:///home/mkoenig/git/sbmlutils/src/sbmlutils/io/sbml.py\" target=\"_blank\"><span style=\"color: #7f7f7f; text-decoration-color: #7f7f7f\">sbml.py</span></a><span style=\"color: #7f7f7f; text-decoration-color: #7f7f7f\">:</span><a href=\"file:///home/mkoenig/git/sbmlutils/src/sbmlutils/io/sbml.py#66\" target=\"_blank\"><span style=\"color: #7f7f7f; text-decoration-color: #7f7f7f\">66</span></a>\n",
       "         reading the SBML file.                                                                          <span style=\"color: #7f7f7f; text-decoration-color: #7f7f7f\">          </span>\n",
       "</pre>\n"
      ],
      "text/plain": [
       "\u001b[1;31mERROR   \u001b[0m `read_sbml` error \u001b[32m'/tmp/tmp8gk6q08t/example_model.xml'\u001b[0m: SBMLDocumentErrors encountered while    \u001b]8;id=178092;file:///home/mkoenig/git/sbmlutils/src/sbmlutils/io/sbml.py\u001b\\\u001b[2msbml.py\u001b[0m\u001b]8;;\u001b\\\u001b[2m:\u001b[0m\u001b]8;id=459120;file:///home/mkoenig/git/sbmlutils/src/sbmlutils/io/sbml.py#66\u001b\\\u001b[2m66\u001b[0m\u001b]8;;\u001b\\\n",
       "         reading the SBML file.                                                                          \u001b[2m          \u001b[0m\n"
      ]
     },
     "metadata": {},
     "output_type": "display_data"
    },
    {
     "name": "stdout",
     "output_type": "stream",
     "text": [
      "L1V1\n"
     ]
    },
    {
     "data": {
      "text/html": [
       "<pre style=\"white-space:pre;overflow-x:auto;line-height:normal;font-family:Menlo,'DejaVu Sans Mono',consolas,'Courier New',monospace\"><span style=\"color: #c0c0c0; text-decoration-color: #c0c0c0\">─────────────────────────────────────────────────── </span>Create SBML<span style=\"color: #c0c0c0; text-decoration-color: #c0c0c0\"> ───────────────────────────────────────────────────</span>\n",
       "</pre>\n"
      ],
      "text/plain": [
       "\u001b[37m─────────────────────────────────────────────────── \u001b[0mCreate SBML\u001b[37m ───────────────────────────────────────────────────\u001b[0m\n"
      ]
     },
     "metadata": {},
     "output_type": "display_data"
    },
    {
     "data": {
      "text/html": [
       "<pre style=\"white-space:pre;overflow-x:auto;line-height:normal;font-family:Menlo,'DejaVu Sans Mono',consolas,'Courier New',monospace\"><span style=\"color: #000080; text-decoration-color: #000080\">INFO    </span> Create SBML for model <span style=\"color: #008000; text-decoration-color: #008000\">'L1V2'</span>                                                               <a href=\"file:///home/mkoenig/git/sbmlutils/src/sbmlutils/factory.py\" target=\"_blank\"><span style=\"color: #7f7f7f; text-decoration-color: #7f7f7f\">factory.py</span></a><span style=\"color: #7f7f7f; text-decoration-color: #7f7f7f\">:</span><a href=\"file:///home/mkoenig/git/sbmlutils/src/sbmlutils/factory.py#3526\" target=\"_blank\"><span style=\"color: #7f7f7f; text-decoration-color: #7f7f7f\">3526</span></a>\n",
       "</pre>\n"
      ],
      "text/plain": [
       "\u001b[34mINFO    \u001b[0m Create SBML for model \u001b[32m'L1V2'\u001b[0m                                                               \u001b]8;id=907594;file:///home/mkoenig/git/sbmlutils/src/sbmlutils/factory.py\u001b\\\u001b[2mfactory.py\u001b[0m\u001b]8;;\u001b\\\u001b[2m:\u001b[0m\u001b]8;id=981712;file:///home/mkoenig/git/sbmlutils/src/sbmlutils/factory.py#3526\u001b\\\u001b[2m3526\u001b[0m\u001b]8;;\u001b\\\n"
      ]
     },
     "metadata": {},
     "output_type": "display_data"
    },
    {
     "data": {
      "text/html": [
       "<pre style=\"white-space:pre;overflow-x:auto;line-height:normal;font-family:Menlo,'DejaVu Sans Mono',consolas,'Courier New',monospace\"><span style=\"color: #800000; text-decoration-color: #800000\">WARNING </span> <span style=\"color: #008000; text-decoration-color: #008000\">'name'</span> should be set on <span style=\"color: #008000; text-decoration-color: #008000\">'Model(sid='</span>L1V2', <span style=\"color: #808000; text-decoration-color: #808000\">packages</span>=<span style=\"font-weight: bold\">[&lt;</span><span style=\"color: #ff00ff; text-decoration-color: #ff00ff; font-weight: bold\">Package.COMP_V1:</span><span style=\"color: #000000; text-decoration-color: #000000\"> </span><span style=\"color: #008000; text-decoration-color: #008000\">'comp-v1'</span><span style=\"font-weight: bold\">&gt;]</span>,         <a href=\"file:///home/mkoenig/git/sbmlutils/src/sbmlutils/factory.py\" target=\"_blank\"><span style=\"color: #7f7f7f; text-decoration-color: #7f7f7f\">factory.py</span></a><span style=\"color: #7f7f7f; text-decoration-color: #7f7f7f\">:</span><a href=\"file:///home/mkoenig/git/sbmlutils/src/sbmlutils/factory.py#441\" target=\"_blank\"><span style=\"color: #7f7f7f; text-decoration-color: #7f7f7f\">441</span></a>\n",
       "         <span style=\"color: #808000; text-decoration-color: #808000\">model_units</span>=<span style=\"font-weight: bold\">&lt;</span><span style=\"color: #ff00ff; text-decoration-color: #ff00ff; font-weight: bold\">sbmlutils.factory.ModelUnits</span><span style=\"color: #000000; text-decoration-color: #000000\"> object at </span><span style=\"color: #008080; text-decoration-color: #008080; font-weight: bold\">0x7fe940324cd0</span><span style=\"font-weight: bold\">&gt;</span>, <span style=\"color: #808000; text-decoration-color: #808000\">units</span>=<span style=\"font-weight: bold\">&lt;</span><span style=\"color: #ff00ff; text-decoration-color: #ff00ff; font-weight: bold\">class</span><span style=\"color: #000000; text-decoration-color: #000000\"> </span>          <span style=\"color: #7f7f7f; text-decoration-color: #7f7f7f\">              </span>\n",
       "         <span style=\"color: #008000; text-decoration-color: #008000\">'__main__.U'</span><span style=\"font-weight: bold\">&gt;</span>, <span style=\"color: #808000; text-decoration-color: #808000\">compartments</span>=<span style=\"font-weight: bold\">[</span>C = <span style=\"color: #008080; text-decoration-color: #008080; font-weight: bold\">1.0</span> <span style=\"font-weight: bold\">[</span><span style=\"color: #800080; text-decoration-color: #800080; font-style: italic\">None</span><span style=\"font-weight: bold\">]]</span>, <span style=\"color: #808000; text-decoration-color: #808000\">species</span>=<span style=\"font-weight: bold\">[&lt;</span><span style=\"color: #ff00ff; text-decoration-color: #ff00ff; font-weight: bold\">sbmlutils.factory.Species</span><span style=\"color: #000000; text-decoration-color: #000000\"> object at</span> <span style=\"color: #7f7f7f; text-decoration-color: #7f7f7f\">              </span>\n",
       "         <span style=\"color: #008080; text-decoration-color: #008080; font-weight: bold\">0x7fe940324dc0</span><span style=\"font-weight: bold\">&gt;]</span>, <span style=\"color: #808000; text-decoration-color: #808000\">parameters</span>=<span style=\"font-weight: bold\">[</span>k1 = <span style=\"color: #008080; text-decoration-color: #008080; font-weight: bold\">1.0</span> <span style=\"font-weight: bold\">[</span><span style=\"color: #800080; text-decoration-color: #800080; font-style: italic\">None</span><span style=\"font-weight: bold\">]]</span>, <span style=\"color: #808000; text-decoration-color: #808000\">reactions</span>=<span style=\"font-weight: bold\">[&lt;</span><span style=\"color: #ff00ff; text-decoration-color: #ff00ff; font-weight: bold\">sbmlutils.factory.Reaction</span><span style=\"color: #000000; text-decoration-color: #000000\"> </span>     <span style=\"color: #7f7f7f; text-decoration-color: #7f7f7f\">              </span>\n",
       "         <span style=\"color: #000000; text-decoration-color: #000000\">object at </span><span style=\"color: #008080; text-decoration-color: #008080; font-weight: bold\">0x7fe940324f40</span><span style=\"font-weight: bold\">&gt;]</span>, <span style=\"color: #808000; text-decoration-color: #808000\">_FrozenClass__isfrozen</span>=<span style=\"color: #00ff00; text-decoration-color: #00ff00; font-style: italic\">True</span><span style=\"font-weight: bold\">)</span>'                                   <span style=\"color: #7f7f7f; text-decoration-color: #7f7f7f\">              </span>\n",
       "</pre>\n"
      ],
      "text/plain": [
       "\u001b[31mWARNING \u001b[0m \u001b[32m'name'\u001b[0m should be set on \u001b[32m'Model\u001b[0m\u001b[32m(\u001b[0m\u001b[32msid\u001b[0m\u001b[32m='\u001b[0mL1V2', \u001b[33mpackages\u001b[0m=\u001b[1m[\u001b[0m\u001b[1m<\u001b[0m\u001b[1;95mPackage.COMP_V1:\u001b[0m\u001b[39m \u001b[0m\u001b[32m'comp-v1'\u001b[0m\u001b[1m>\u001b[0m\u001b[1m]\u001b[0m,         \u001b]8;id=45987;file:///home/mkoenig/git/sbmlutils/src/sbmlutils/factory.py\u001b\\\u001b[2mfactory.py\u001b[0m\u001b]8;;\u001b\\\u001b[2m:\u001b[0m\u001b]8;id=666017;file:///home/mkoenig/git/sbmlutils/src/sbmlutils/factory.py#441\u001b\\\u001b[2m441\u001b[0m\u001b]8;;\u001b\\\n",
       "         \u001b[33mmodel_units\u001b[0m=\u001b[1m<\u001b[0m\u001b[1;95msbmlutils.factory.ModelUnits\u001b[0m\u001b[39m object at \u001b[0m\u001b[1;36m0x7fe940324cd0\u001b[0m\u001b[1m>\u001b[0m, \u001b[33munits\u001b[0m=\u001b[1m<\u001b[0m\u001b[1;95mclass\u001b[0m\u001b[39m \u001b[0m          \u001b[2m              \u001b[0m\n",
       "         \u001b[32m'__main__.U'\u001b[0m\u001b[1m>\u001b[0m, \u001b[33mcompartments\u001b[0m=\u001b[1m[\u001b[0mC = \u001b[1;36m1.0\u001b[0m \u001b[1m[\u001b[0m\u001b[3;35mNone\u001b[0m\u001b[1m]\u001b[0m\u001b[1m]\u001b[0m, \u001b[33mspecies\u001b[0m=\u001b[1m[\u001b[0m\u001b[1m<\u001b[0m\u001b[1;95msbmlutils.factory.Species\u001b[0m\u001b[39m object at\u001b[0m \u001b[2m              \u001b[0m\n",
       "         \u001b[1;36m0x7fe940324dc0\u001b[0m\u001b[1m>\u001b[0m\u001b[1m]\u001b[0m, \u001b[33mparameters\u001b[0m=\u001b[1m[\u001b[0mk1 = \u001b[1;36m1.0\u001b[0m \u001b[1m[\u001b[0m\u001b[3;35mNone\u001b[0m\u001b[1m]\u001b[0m\u001b[1m]\u001b[0m, \u001b[33mreactions\u001b[0m=\u001b[1m[\u001b[0m\u001b[1m<\u001b[0m\u001b[1;95msbmlutils.factory.Reaction\u001b[0m\u001b[39m \u001b[0m     \u001b[2m              \u001b[0m\n",
       "         \u001b[39mobject at \u001b[0m\u001b[1;36m0x7fe940324f40\u001b[0m\u001b[1m>\u001b[0m\u001b[1m]\u001b[0m, \u001b[33m_FrozenClass__isfrozen\u001b[0m=\u001b[3;92mTrue\u001b[0m\u001b[1m)\u001b[0m'                                   \u001b[2m              \u001b[0m\n"
      ]
     },
     "metadata": {},
     "output_type": "display_data"
    },
    {
     "data": {
      "text/html": [
       "<pre style=\"white-space:pre;overflow-x:auto;line-height:normal;font-family:Menlo,'DejaVu Sans Mono',consolas,'Courier New',monospace\"><span style=\"color: #000080; text-decoration-color: #000080\">INFO    </span> <span style=\"color: #008000; text-decoration-color: #008000\">'length'</span> should be set in <span style=\"color: #008000; text-decoration-color: #008000\">'model_units'</span>.                                                    <a href=\"file:///home/mkoenig/git/sbmlutils/src/sbmlutils/factory.py\" target=\"_blank\"><span style=\"color: #7f7f7f; text-decoration-color: #7f7f7f\">factory.py</span></a><span style=\"color: #7f7f7f; text-decoration-color: #7f7f7f\">:</span><a href=\"file:///home/mkoenig/git/sbmlutils/src/sbmlutils/factory.py#266\" target=\"_blank\"><span style=\"color: #7f7f7f; text-decoration-color: #7f7f7f\">266</span></a>\n",
       "</pre>\n"
      ],
      "text/plain": [
       "\u001b[34mINFO    \u001b[0m \u001b[32m'length'\u001b[0m should be set in \u001b[32m'model_units'\u001b[0m.                                                    \u001b]8;id=219158;file:///home/mkoenig/git/sbmlutils/src/sbmlutils/factory.py\u001b\\\u001b[2mfactory.py\u001b[0m\u001b]8;;\u001b\\\u001b[2m:\u001b[0m\u001b]8;id=720820;file:///home/mkoenig/git/sbmlutils/src/sbmlutils/factory.py#266\u001b\\\u001b[2m266\u001b[0m\u001b]8;;\u001b\\\n"
      ]
     },
     "metadata": {},
     "output_type": "display_data"
    },
    {
     "data": {
      "text/html": [
       "<pre style=\"white-space:pre;overflow-x:auto;line-height:normal;font-family:Menlo,'DejaVu Sans Mono',consolas,'Courier New',monospace\"><span style=\"color: #000080; text-decoration-color: #000080\">INFO    </span> <span style=\"color: #008000; text-decoration-color: #008000\">'area'</span> should be set in <span style=\"color: #008000; text-decoration-color: #008000\">'model_units'</span>.                                                      <a href=\"file:///home/mkoenig/git/sbmlutils/src/sbmlutils/factory.py\" target=\"_blank\"><span style=\"color: #7f7f7f; text-decoration-color: #7f7f7f\">factory.py</span></a><span style=\"color: #7f7f7f; text-decoration-color: #7f7f7f\">:</span><a href=\"file:///home/mkoenig/git/sbmlutils/src/sbmlutils/factory.py#266\" target=\"_blank\"><span style=\"color: #7f7f7f; text-decoration-color: #7f7f7f\">266</span></a>\n",
       "</pre>\n"
      ],
      "text/plain": [
       "\u001b[34mINFO    \u001b[0m \u001b[32m'area'\u001b[0m should be set in \u001b[32m'model_units'\u001b[0m.                                                      \u001b]8;id=54462;file:///home/mkoenig/git/sbmlutils/src/sbmlutils/factory.py\u001b\\\u001b[2mfactory.py\u001b[0m\u001b]8;;\u001b\\\u001b[2m:\u001b[0m\u001b]8;id=947379;file:///home/mkoenig/git/sbmlutils/src/sbmlutils/factory.py#266\u001b\\\u001b[2m266\u001b[0m\u001b]8;;\u001b\\\n"
      ]
     },
     "metadata": {},
     "output_type": "display_data"
    },
    {
     "data": {
      "text/html": [
       "<pre style=\"white-space:pre;overflow-x:auto;line-height:normal;font-family:Menlo,'DejaVu Sans Mono',consolas,'Courier New',monospace\"><span style=\"color: #800000; text-decoration-color: #800000\">WARNING </span> <span style=\"color: #008000; text-decoration-color: #008000\">'name'</span> should be set on <span style=\"color: #008000; text-decoration-color: #008000\">'Parameter(k1)'</span>                                                     <a href=\"file:///home/mkoenig/git/sbmlutils/src/sbmlutils/factory.py\" target=\"_blank\"><span style=\"color: #7f7f7f; text-decoration-color: #7f7f7f\">factory.py</span></a><span style=\"color: #7f7f7f; text-decoration-color: #7f7f7f\">:</span><a href=\"file:///home/mkoenig/git/sbmlutils/src/sbmlutils/factory.py#441\" target=\"_blank\"><span style=\"color: #7f7f7f; text-decoration-color: #7f7f7f\">441</span></a>\n",
       "</pre>\n"
      ],
      "text/plain": [
       "\u001b[31mWARNING \u001b[0m \u001b[32m'name'\u001b[0m should be set on \u001b[32m'Parameter\u001b[0m\u001b[32m(\u001b[0m\u001b[32mk1\u001b[0m\u001b[32m)\u001b[0m\u001b[32m'\u001b[0m                                                     \u001b]8;id=478579;file:///home/mkoenig/git/sbmlutils/src/sbmlutils/factory.py\u001b\\\u001b[2mfactory.py\u001b[0m\u001b]8;;\u001b\\\u001b[2m:\u001b[0m\u001b]8;id=304611;file:///home/mkoenig/git/sbmlutils/src/sbmlutils/factory.py#441\u001b\\\u001b[2m441\u001b[0m\u001b]8;;\u001b\\\n"
      ]
     },
     "metadata": {},
     "output_type": "display_data"
    },
    {
     "data": {
      "text/html": [
       "<pre style=\"white-space:pre;overflow-x:auto;line-height:normal;font-family:Menlo,'DejaVu Sans Mono',consolas,'Courier New',monospace\"><span style=\"color: #800000; text-decoration-color: #800000\">WARNING </span> <span style=\"color: #008000; text-decoration-color: #008000\">'sboTerm'</span> should be set on <span style=\"color: #008000; text-decoration-color: #008000\">'Parameter(k1)'</span>                                                  <a href=\"file:///home/mkoenig/git/sbmlutils/src/sbmlutils/factory.py\" target=\"_blank\"><span style=\"color: #7f7f7f; text-decoration-color: #7f7f7f\">factory.py</span></a><span style=\"color: #7f7f7f; text-decoration-color: #7f7f7f\">:</span><a href=\"file:///home/mkoenig/git/sbmlutils/src/sbmlutils/factory.py#466\" target=\"_blank\"><span style=\"color: #7f7f7f; text-decoration-color: #7f7f7f\">466</span></a>\n",
       "</pre>\n"
      ],
      "text/plain": [
       "\u001b[31mWARNING \u001b[0m \u001b[32m'sboTerm'\u001b[0m should be set on \u001b[32m'Parameter\u001b[0m\u001b[32m(\u001b[0m\u001b[32mk1\u001b[0m\u001b[32m)\u001b[0m\u001b[32m'\u001b[0m                                                  \u001b]8;id=165653;file:///home/mkoenig/git/sbmlutils/src/sbmlutils/factory.py\u001b\\\u001b[2mfactory.py\u001b[0m\u001b]8;;\u001b\\\u001b[2m:\u001b[0m\u001b]8;id=28446;file:///home/mkoenig/git/sbmlutils/src/sbmlutils/factory.py#466\u001b\\\u001b[2m466\u001b[0m\u001b]8;;\u001b\\\n"
      ]
     },
     "metadata": {},
     "output_type": "display_data"
    },
    {
     "data": {
      "text/html": [
       "<pre style=\"white-space:pre;overflow-x:auto;line-height:normal;font-family:Menlo,'DejaVu Sans Mono',consolas,'Courier New',monospace\"><span style=\"color: #800000; text-decoration-color: #800000\">WARNING </span> <span style=\"color: #008000; text-decoration-color: #008000\">'name'</span> should be set on <span style=\"color: #008000; text-decoration-color: #008000\">'Compartment(C)'</span>                                                    <a href=\"file:///home/mkoenig/git/sbmlutils/src/sbmlutils/factory.py\" target=\"_blank\"><span style=\"color: #7f7f7f; text-decoration-color: #7f7f7f\">factory.py</span></a><span style=\"color: #7f7f7f; text-decoration-color: #7f7f7f\">:</span><a href=\"file:///home/mkoenig/git/sbmlutils/src/sbmlutils/factory.py#441\" target=\"_blank\"><span style=\"color: #7f7f7f; text-decoration-color: #7f7f7f\">441</span></a>\n",
       "</pre>\n"
      ],
      "text/plain": [
       "\u001b[31mWARNING \u001b[0m \u001b[32m'name'\u001b[0m should be set on \u001b[32m'Compartment\u001b[0m\u001b[32m(\u001b[0m\u001b[32mC\u001b[0m\u001b[32m)\u001b[0m\u001b[32m'\u001b[0m                                                    \u001b]8;id=807213;file:///home/mkoenig/git/sbmlutils/src/sbmlutils/factory.py\u001b\\\u001b[2mfactory.py\u001b[0m\u001b]8;;\u001b\\\u001b[2m:\u001b[0m\u001b]8;id=678175;file:///home/mkoenig/git/sbmlutils/src/sbmlutils/factory.py#441\u001b\\\u001b[2m441\u001b[0m\u001b]8;;\u001b\\\n"
      ]
     },
     "metadata": {},
     "output_type": "display_data"
    },
    {
     "data": {
      "text/html": [
       "<pre style=\"white-space:pre;overflow-x:auto;line-height:normal;font-family:Menlo,'DejaVu Sans Mono',consolas,'Courier New',monospace\"><span style=\"color: #800000; text-decoration-color: #800000\">WARNING </span> <span style=\"color: #008000; text-decoration-color: #008000\">'sboTerm'</span> should be set on <span style=\"color: #008000; text-decoration-color: #008000\">'Compartment(C)'</span>                                                 <a href=\"file:///home/mkoenig/git/sbmlutils/src/sbmlutils/factory.py\" target=\"_blank\"><span style=\"color: #7f7f7f; text-decoration-color: #7f7f7f\">factory.py</span></a><span style=\"color: #7f7f7f; text-decoration-color: #7f7f7f\">:</span><a href=\"file:///home/mkoenig/git/sbmlutils/src/sbmlutils/factory.py#466\" target=\"_blank\"><span style=\"color: #7f7f7f; text-decoration-color: #7f7f7f\">466</span></a>\n",
       "</pre>\n"
      ],
      "text/plain": [
       "\u001b[31mWARNING \u001b[0m \u001b[32m'sboTerm'\u001b[0m should be set on \u001b[32m'Compartment\u001b[0m\u001b[32m(\u001b[0m\u001b[32mC\u001b[0m\u001b[32m)\u001b[0m\u001b[32m'\u001b[0m                                                 \u001b]8;id=286587;file:///home/mkoenig/git/sbmlutils/src/sbmlutils/factory.py\u001b\\\u001b[2mfactory.py\u001b[0m\u001b]8;;\u001b\\\u001b[2m:\u001b[0m\u001b]8;id=931638;file:///home/mkoenig/git/sbmlutils/src/sbmlutils/factory.py#466\u001b\\\u001b[2m466\u001b[0m\u001b]8;;\u001b\\\n"
      ]
     },
     "metadata": {},
     "output_type": "display_data"
    },
    {
     "data": {
      "text/html": [
       "<pre style=\"white-space:pre;overflow-x:auto;line-height:normal;font-family:Menlo,'DejaVu Sans Mono',consolas,'Courier New',monospace\"><span style=\"color: #800000; text-decoration-color: #800000\">WARNING </span> <span style=\"color: #008000; text-decoration-color: #008000\">'name'</span> should be set on <span style=\"color: #008000; text-decoration-color: #008000\">'Species(S1)'</span>                                                       <a href=\"file:///home/mkoenig/git/sbmlutils/src/sbmlutils/factory.py\" target=\"_blank\"><span style=\"color: #7f7f7f; text-decoration-color: #7f7f7f\">factory.py</span></a><span style=\"color: #7f7f7f; text-decoration-color: #7f7f7f\">:</span><a href=\"file:///home/mkoenig/git/sbmlutils/src/sbmlutils/factory.py#441\" target=\"_blank\"><span style=\"color: #7f7f7f; text-decoration-color: #7f7f7f\">441</span></a>\n",
       "</pre>\n"
      ],
      "text/plain": [
       "\u001b[31mWARNING \u001b[0m \u001b[32m'name'\u001b[0m should be set on \u001b[32m'Species\u001b[0m\u001b[32m(\u001b[0m\u001b[32mS1\u001b[0m\u001b[32m)\u001b[0m\u001b[32m'\u001b[0m                                                       \u001b]8;id=58240;file:///home/mkoenig/git/sbmlutils/src/sbmlutils/factory.py\u001b\\\u001b[2mfactory.py\u001b[0m\u001b]8;;\u001b\\\u001b[2m:\u001b[0m\u001b]8;id=803933;file:///home/mkoenig/git/sbmlutils/src/sbmlutils/factory.py#441\u001b\\\u001b[2m441\u001b[0m\u001b]8;;\u001b\\\n"
      ]
     },
     "metadata": {},
     "output_type": "display_data"
    },
    {
     "data": {
      "text/html": [
       "<pre style=\"white-space:pre;overflow-x:auto;line-height:normal;font-family:Menlo,'DejaVu Sans Mono',consolas,'Courier New',monospace\"><span style=\"color: #800000; text-decoration-color: #800000\">WARNING </span> <span style=\"color: #008000; text-decoration-color: #008000\">'sboTerm'</span> should be set on <span style=\"color: #008000; text-decoration-color: #008000\">'Species(S1)'</span>                                                    <a href=\"file:///home/mkoenig/git/sbmlutils/src/sbmlutils/factory.py\" target=\"_blank\"><span style=\"color: #7f7f7f; text-decoration-color: #7f7f7f\">factory.py</span></a><span style=\"color: #7f7f7f; text-decoration-color: #7f7f7f\">:</span><a href=\"file:///home/mkoenig/git/sbmlutils/src/sbmlutils/factory.py#466\" target=\"_blank\"><span style=\"color: #7f7f7f; text-decoration-color: #7f7f7f\">466</span></a>\n",
       "</pre>\n"
      ],
      "text/plain": [
       "\u001b[31mWARNING \u001b[0m \u001b[32m'sboTerm'\u001b[0m should be set on \u001b[32m'Species\u001b[0m\u001b[32m(\u001b[0m\u001b[32mS1\u001b[0m\u001b[32m)\u001b[0m\u001b[32m'\u001b[0m                                                    \u001b]8;id=816313;file:///home/mkoenig/git/sbmlutils/src/sbmlutils/factory.py\u001b\\\u001b[2mfactory.py\u001b[0m\u001b]8;;\u001b\\\u001b[2m:\u001b[0m\u001b]8;id=128840;file:///home/mkoenig/git/sbmlutils/src/sbmlutils/factory.py#466\u001b\\\u001b[2m466\u001b[0m\u001b]8;;\u001b\\\n"
      ]
     },
     "metadata": {},
     "output_type": "display_data"
    },
    {
     "data": {
      "text/html": [
       "<pre style=\"white-space:pre;overflow-x:auto;line-height:normal;font-family:Menlo,'DejaVu Sans Mono',consolas,'Courier New',monospace\"><span style=\"color: #800000; text-decoration-color: #800000\">WARNING </span> <span style=\"color: #008000; text-decoration-color: #008000\">'name'</span> should be set on <span style=\"color: #008000; text-decoration-color: #008000\">'Reaction(R1)'</span>                                                      <a href=\"file:///home/mkoenig/git/sbmlutils/src/sbmlutils/factory.py\" target=\"_blank\"><span style=\"color: #7f7f7f; text-decoration-color: #7f7f7f\">factory.py</span></a><span style=\"color: #7f7f7f; text-decoration-color: #7f7f7f\">:</span><a href=\"file:///home/mkoenig/git/sbmlutils/src/sbmlutils/factory.py#441\" target=\"_blank\"><span style=\"color: #7f7f7f; text-decoration-color: #7f7f7f\">441</span></a>\n",
       "</pre>\n"
      ],
      "text/plain": [
       "\u001b[31mWARNING \u001b[0m \u001b[32m'name'\u001b[0m should be set on \u001b[32m'Reaction\u001b[0m\u001b[32m(\u001b[0m\u001b[32mR1\u001b[0m\u001b[32m)\u001b[0m\u001b[32m'\u001b[0m                                                      \u001b]8;id=801706;file:///home/mkoenig/git/sbmlutils/src/sbmlutils/factory.py\u001b\\\u001b[2mfactory.py\u001b[0m\u001b]8;;\u001b\\\u001b[2m:\u001b[0m\u001b]8;id=44803;file:///home/mkoenig/git/sbmlutils/src/sbmlutils/factory.py#441\u001b\\\u001b[2m441\u001b[0m\u001b]8;;\u001b\\\n"
      ]
     },
     "metadata": {},
     "output_type": "display_data"
    },
    {
     "data": {
      "text/html": [
       "<pre style=\"white-space:pre;overflow-x:auto;line-height:normal;font-family:Menlo,'DejaVu Sans Mono',consolas,'Courier New',monospace\"><span style=\"color: #800000; text-decoration-color: #800000\">WARNING </span> <span style=\"color: #008000; text-decoration-color: #008000\">'sboTerm'</span> should be set on <span style=\"color: #008000; text-decoration-color: #008000\">'Reaction(R1)'</span>                                                   <a href=\"file:///home/mkoenig/git/sbmlutils/src/sbmlutils/factory.py\" target=\"_blank\"><span style=\"color: #7f7f7f; text-decoration-color: #7f7f7f\">factory.py</span></a><span style=\"color: #7f7f7f; text-decoration-color: #7f7f7f\">:</span><a href=\"file:///home/mkoenig/git/sbmlutils/src/sbmlutils/factory.py#466\" target=\"_blank\"><span style=\"color: #7f7f7f; text-decoration-color: #7f7f7f\">466</span></a>\n",
       "</pre>\n"
      ],
      "text/plain": [
       "\u001b[31mWARNING \u001b[0m \u001b[32m'sboTerm'\u001b[0m should be set on \u001b[32m'Reaction\u001b[0m\u001b[32m(\u001b[0m\u001b[32mR1\u001b[0m\u001b[32m)\u001b[0m\u001b[32m'\u001b[0m                                                   \u001b]8;id=302048;file:///home/mkoenig/git/sbmlutils/src/sbmlutils/factory.py\u001b\\\u001b[2mfactory.py\u001b[0m\u001b]8;;\u001b\\\u001b[2m:\u001b[0m\u001b]8;id=608301;file:///home/mkoenig/git/sbmlutils/src/sbmlutils/factory.py#466\u001b\\\u001b[2m466\u001b[0m\u001b]8;;\u001b\\\n"
      ]
     },
     "metadata": {},
     "output_type": "display_data"
    },
    {
     "data": {
      "text/html": [
       "<pre style=\"white-space:pre;overflow-x:auto;line-height:normal;font-family:Menlo,'DejaVu Sans Mono',consolas,'Courier New',monospace\"><span style=\"color: #800000; text-decoration-color: #800000; font-weight: bold\">ERROR   </span> <span style=\"color: #000000; text-decoration-color: #000000; background-color: #c0c0c0\">ENone: General SBML conformance </span><span style=\"color: #000000; text-decoration-color: #000000; background-color: #c0c0c0; font-weight: bold\">(</span><span style=\"color: #000000; text-decoration-color: #000000; background-color: #c0c0c0\">core, L2, code</span><span style=\"color: #000000; text-decoration-color: #000000; background-color: #c0c0c0; font-weight: bold\">)</span>                                         <a href=\"file:///home/mkoenig/git/sbmlutils/src/sbmlutils/validation.py\" target=\"_blank\"><span style=\"color: #7f7f7f; text-decoration-color: #7f7f7f\">validation.py</span></a><span style=\"color: #7f7f7f; text-decoration-color: #7f7f7f\">:</span><a href=\"file:///home/mkoenig/git/sbmlutils/src/sbmlutils/validation.py#188\" target=\"_blank\"><span style=\"color: #7f7f7f; text-decoration-color: #7f7f7f\">188</span></a>\n",
       "         <span style=\"color: #800000; text-decoration-color: #800000; background-color: #000000; font-weight: bold\">[</span><span style=\"color: #800000; text-decoration-color: #800000; background-color: #000000\">Error</span><span style=\"color: #800000; text-decoration-color: #800000; background-color: #000000; font-weight: bold\">]</span><span style=\"color: #800000; text-decoration-color: #800000; background-color: #000000\"> Annotation objects on the SBML container element are not permitted in SBML Level</span> <span style=\"color: #7f7f7f; text-decoration-color: #7f7f7f\">                 </span>\n",
       "         <span style=\"color: #008080; text-decoration-color: #008080; background-color: #000000; font-weight: bold\">1</span>                                                                                        <span style=\"color: #7f7f7f; text-decoration-color: #7f7f7f\">                 </span>\n",
       "         The <span style=\"font-weight: bold\">&lt;</span><span style=\"color: #ff00ff; text-decoration-color: #ff00ff; font-weight: bold\">sbml</span><span style=\"font-weight: bold\">&gt;</span> container element cannot contain <span style=\"font-weight: bold\">&lt;</span><span style=\"color: #ff00ff; text-decoration-color: #ff00ff; font-weight: bold\">notes</span><span style=\"font-weight: bold\">&gt;</span> or <span style=\"font-weight: bold\">&lt;</span><span style=\"color: #ff00ff; text-decoration-color: #ff00ff; font-weight: bold\">annotations</span><span style=\"font-weight: bold\">&gt;</span> in an SBML Level <span style=\"color: #008080; text-decoration-color: #008080; font-weight: bold\">1</span>  <span style=\"color: #7f7f7f; text-decoration-color: #7f7f7f\">                 </span>\n",
       "         document.                                                                                <span style=\"color: #7f7f7f; text-decoration-color: #7f7f7f\">                 </span>\n",
       "                                                                                                  <span style=\"color: #7f7f7f; text-decoration-color: #7f7f7f\">                 </span>\n",
       "</pre>\n"
      ],
      "text/plain": [
       "\u001b[1;31mERROR   \u001b[0m \u001b[30;47mENone: General SBML conformance \u001b[0m\u001b[1;30;47m(\u001b[0m\u001b[30;47mcore, L2, code\u001b[0m\u001b[1;30;47m)\u001b[0m                                         \u001b]8;id=735079;file:///home/mkoenig/git/sbmlutils/src/sbmlutils/validation.py\u001b\\\u001b[2mvalidation.py\u001b[0m\u001b]8;;\u001b\\\u001b[2m:\u001b[0m\u001b]8;id=229315;file:///home/mkoenig/git/sbmlutils/src/sbmlutils/validation.py#188\u001b\\\u001b[2m188\u001b[0m\u001b]8;;\u001b\\\n",
       "         \u001b[1;31;40m[\u001b[0m\u001b[31;40mError\u001b[0m\u001b[1;31;40m]\u001b[0m\u001b[31;40m Annotation objects on the SBML container element are not permitted in SBML Level\u001b[0m \u001b[2m                 \u001b[0m\n",
       "         \u001b[1;36;40m1\u001b[0m                                                                                        \u001b[2m                 \u001b[0m\n",
       "         The \u001b[1m<\u001b[0m\u001b[1;95msbml\u001b[0m\u001b[1m>\u001b[0m container element cannot contain \u001b[1m<\u001b[0m\u001b[1;95mnotes\u001b[0m\u001b[1m>\u001b[0m or \u001b[1m<\u001b[0m\u001b[1;95mannotations\u001b[0m\u001b[1m>\u001b[0m in an SBML Level \u001b[1;36m1\u001b[0m  \u001b[2m                 \u001b[0m\n",
       "         document.                                                                                \u001b[2m                 \u001b[0m\n",
       "                                                                                                  \u001b[2m                 \u001b[0m\n"
      ]
     },
     "metadata": {},
     "output_type": "display_data"
    },
    {
     "data": {
      "text/html": [
       "<pre style=\"white-space:pre;overflow-x:auto;line-height:normal;font-family:Menlo,'DejaVu Sans Mono',consolas,'Courier New',monospace\"><span style=\"color: #800000; text-decoration-color: #800000; font-weight: bold\">ERROR   </span> `read_sbml` error <span style=\"color: #008000; text-decoration-color: #008000\">'/tmp/tmp8gk6q08t/example_model.xml'</span>: SBMLDocumentErrors encountered while    <a href=\"file:///home/mkoenig/git/sbmlutils/src/sbmlutils/io/sbml.py\" target=\"_blank\"><span style=\"color: #7f7f7f; text-decoration-color: #7f7f7f\">sbml.py</span></a><span style=\"color: #7f7f7f; text-decoration-color: #7f7f7f\">:</span><a href=\"file:///home/mkoenig/git/sbmlutils/src/sbmlutils/io/sbml.py#66\" target=\"_blank\"><span style=\"color: #7f7f7f; text-decoration-color: #7f7f7f\">66</span></a>\n",
       "         reading the SBML file.                                                                          <span style=\"color: #7f7f7f; text-decoration-color: #7f7f7f\">          </span>\n",
       "</pre>\n"
      ],
      "text/plain": [
       "\u001b[1;31mERROR   \u001b[0m `read_sbml` error \u001b[32m'/tmp/tmp8gk6q08t/example_model.xml'\u001b[0m: SBMLDocumentErrors encountered while    \u001b]8;id=697623;file:///home/mkoenig/git/sbmlutils/src/sbmlutils/io/sbml.py\u001b\\\u001b[2msbml.py\u001b[0m\u001b]8;;\u001b\\\u001b[2m:\u001b[0m\u001b]8;id=731644;file:///home/mkoenig/git/sbmlutils/src/sbmlutils/io/sbml.py#66\u001b\\\u001b[2m66\u001b[0m\u001b]8;;\u001b\\\n",
       "         reading the SBML file.                                                                          \u001b[2m          \u001b[0m\n"
      ]
     },
     "metadata": {},
     "output_type": "display_data"
    },
    {
     "data": {
      "text/html": [
       "<pre style=\"white-space:pre;overflow-x:auto;line-height:normal;font-family:Menlo,'DejaVu Sans Mono',consolas,'Courier New',monospace\">\n",
       "</pre>\n"
      ],
      "text/plain": [
       "\n"
      ]
     },
     "metadata": {},
     "output_type": "display_data"
    },
    {
     "data": {
      "text/html": [
       "<pre style=\"white-space:pre;overflow-x:auto;line-height:normal;font-family:Menlo,'DejaVu Sans Mono',consolas,'Courier New',monospace\"><span style=\"color: #800000; text-decoration-color: #800000\">────────────────────────────────────────────────── </span>Validate SBML<span style=\"color: #800000; text-decoration-color: #800000\"> ──────────────────────────────────────────────────</span>\n",
       "</pre>\n"
      ],
      "text/plain": [
       "\u001b[31m────────────────────────────────────────────────── \u001b[0mValidate SBML\u001b[31m ──────────────────────────────────────────────────\u001b[0m\n"
      ]
     },
     "metadata": {},
     "output_type": "display_data"
    },
    {
     "data": {
      "text/html": [
       "<pre style=\"white-space:pre;overflow-x:auto;line-height:normal;font-family:Menlo,'DejaVu Sans Mono',consolas,'Courier New',monospace\"><span style=\"color: #0000ff; text-decoration-color: #0000ff; text-decoration: underline\">file:///tmp/tmp8gk6q08t/example_model.xml</span>\n",
       "<span style=\"color: #800000; text-decoration-color: #800000\">valid                    : FALSE</span>\n",
       "<span style=\"color: #800000; text-decoration-color: #800000\">validation </span><span style=\"color: #800080; text-decoration-color: #800080; font-weight: bold\">error</span><span style=\"color: #800000; text-decoration-color: #800000; font-weight: bold\">(</span><span style=\"color: #800000; text-decoration-color: #800000\">s</span><span style=\"color: #800000; text-decoration-color: #800000; font-weight: bold\">)</span><span style=\"color: #800000; text-decoration-color: #800000\">      : </span><span style=\"color: #008080; text-decoration-color: #008080; font-weight: bold\">1</span>\n",
       "<span style=\"color: #800000; text-decoration-color: #800000\">validation </span><span style=\"color: #800080; text-decoration-color: #800080; font-weight: bold\">warnings</span><span style=\"color: #800000; text-decoration-color: #800000; font-weight: bold\">(</span><span style=\"color: #800000; text-decoration-color: #800000\">s</span><span style=\"color: #800000; text-decoration-color: #800000; font-weight: bold\">)</span><span style=\"color: #800000; text-decoration-color: #800000\">   : </span><span style=\"color: #008080; text-decoration-color: #008080; font-weight: bold\">0</span>\n",
       "<span style=\"color: #800000; text-decoration-color: #800000\">check time </span><span style=\"color: #800000; text-decoration-color: #800000; font-weight: bold\">(</span><span style=\"color: #800000; text-decoration-color: #800000\">s</span><span style=\"color: #800000; text-decoration-color: #800000; font-weight: bold\">)</span><span style=\"color: #800000; text-decoration-color: #800000\">           : </span><span style=\"color: #008080; text-decoration-color: #008080; font-weight: bold\">0.001</span>\n",
       "</pre>\n"
      ],
      "text/plain": [
       "\u001b[4;94mfile:///tmp/tmp8gk6q08t/example_model.xml\u001b[0m\n",
       "\u001b[31mvalid                    : FALSE\u001b[0m\n",
       "\u001b[31mvalidation \u001b[0m\u001b[1;35merror\u001b[0m\u001b[1;31m(\u001b[0m\u001b[31ms\u001b[0m\u001b[1;31m)\u001b[0m\u001b[31m      : \u001b[0m\u001b[1;36m1\u001b[0m\n",
       "\u001b[31mvalidation \u001b[0m\u001b[1;35mwarnings\u001b[0m\u001b[1;31m(\u001b[0m\u001b[31ms\u001b[0m\u001b[1;31m)\u001b[0m\u001b[31m   : \u001b[0m\u001b[1;36m0\u001b[0m\n",
       "\u001b[31mcheck time \u001b[0m\u001b[1;31m(\u001b[0m\u001b[31ms\u001b[0m\u001b[1;31m)\u001b[0m\u001b[31m           : \u001b[0m\u001b[1;36m0.001\u001b[0m\n"
      ]
     },
     "metadata": {},
     "output_type": "display_data"
    },
    {
     "data": {
      "text/html": [
       "<pre style=\"white-space:pre;overflow-x:auto;line-height:normal;font-family:Menlo,'DejaVu Sans Mono',consolas,'Courier New',monospace\"><span style=\"color: #800000; text-decoration-color: #800000\">───────────────────────────────────────────────────────────────────────────────────────────────────────────────────</span>\n",
       "</pre>\n"
      ],
      "text/plain": [
       "\u001b[31m───────────────────────────────────────────────────────────────────────────────────────────────────────────────────\u001b[0m\n"
      ]
     },
     "metadata": {},
     "output_type": "display_data"
    },
    {
     "data": {
      "text/html": [
       "<pre style=\"white-space:pre;overflow-x:auto;line-height:normal;font-family:Menlo,'DejaVu Sans Mono',consolas,'Courier New',monospace\">\n",
       "</pre>\n"
      ],
      "text/plain": [
       "\n"
      ]
     },
     "metadata": {},
     "output_type": "display_data"
    },
    {
     "data": {
      "text/html": [
       "<pre style=\"white-space:pre;overflow-x:auto;line-height:normal;font-family:Menlo,'DejaVu Sans Mono',consolas,'Courier New',monospace\"><span style=\"color: #800000; text-decoration-color: #800000; font-weight: bold\">ERROR   </span> <span style=\"color: #000000; text-decoration-color: #000000; background-color: #c0c0c0\">E0: General SBML conformance </span><span style=\"color: #000000; text-decoration-color: #000000; background-color: #c0c0c0; font-weight: bold\">(</span><span style=\"color: #000000; text-decoration-color: #000000; background-color: #c0c0c0\">core, L2, code</span><span style=\"color: #000000; text-decoration-color: #000000; background-color: #c0c0c0; font-weight: bold\">)</span>                                            <a href=\"file:///home/mkoenig/git/sbmlutils/src/sbmlutils/validation.py\" target=\"_blank\"><span style=\"color: #7f7f7f; text-decoration-color: #7f7f7f\">validation.py</span></a><span style=\"color: #7f7f7f; text-decoration-color: #7f7f7f\">:</span><a href=\"file:///home/mkoenig/git/sbmlutils/src/sbmlutils/validation.py#188\" target=\"_blank\"><span style=\"color: #7f7f7f; text-decoration-color: #7f7f7f\">188</span></a>\n",
       "         <span style=\"color: #800000; text-decoration-color: #800000; background-color: #000000; font-weight: bold\">[</span><span style=\"color: #800000; text-decoration-color: #800000; background-color: #000000\">Error</span><span style=\"color: #800000; text-decoration-color: #800000; background-color: #000000; font-weight: bold\">]</span><span style=\"color: #800000; text-decoration-color: #800000; background-color: #000000\"> Annotation objects on the SBML container element are not permitted in SBML Level</span> <span style=\"color: #7f7f7f; text-decoration-color: #7f7f7f\">                 </span>\n",
       "         <span style=\"color: #008080; text-decoration-color: #008080; background-color: #000000; font-weight: bold\">1</span>                                                                                        <span style=\"color: #7f7f7f; text-decoration-color: #7f7f7f\">                 </span>\n",
       "         The <span style=\"font-weight: bold\">&lt;</span><span style=\"color: #ff00ff; text-decoration-color: #ff00ff; font-weight: bold\">sbml</span><span style=\"font-weight: bold\">&gt;</span> container element cannot contain <span style=\"font-weight: bold\">&lt;</span><span style=\"color: #ff00ff; text-decoration-color: #ff00ff; font-weight: bold\">notes</span><span style=\"font-weight: bold\">&gt;</span> or <span style=\"font-weight: bold\">&lt;</span><span style=\"color: #ff00ff; text-decoration-color: #ff00ff; font-weight: bold\">annotations</span><span style=\"font-weight: bold\">&gt;</span> in an SBML Level <span style=\"color: #008080; text-decoration-color: #008080; font-weight: bold\">1</span>  <span style=\"color: #7f7f7f; text-decoration-color: #7f7f7f\">                 </span>\n",
       "         document.                                                                                <span style=\"color: #7f7f7f; text-decoration-color: #7f7f7f\">                 </span>\n",
       "                                                                                                  <span style=\"color: #7f7f7f; text-decoration-color: #7f7f7f\">                 </span>\n",
       "</pre>\n"
      ],
      "text/plain": [
       "\u001b[1;31mERROR   \u001b[0m \u001b[30;47mE0: General SBML conformance \u001b[0m\u001b[1;30;47m(\u001b[0m\u001b[30;47mcore, L2, code\u001b[0m\u001b[1;30;47m)\u001b[0m                                            \u001b]8;id=801977;file:///home/mkoenig/git/sbmlutils/src/sbmlutils/validation.py\u001b\\\u001b[2mvalidation.py\u001b[0m\u001b]8;;\u001b\\\u001b[2m:\u001b[0m\u001b]8;id=957997;file:///home/mkoenig/git/sbmlutils/src/sbmlutils/validation.py#188\u001b\\\u001b[2m188\u001b[0m\u001b]8;;\u001b\\\n",
       "         \u001b[1;31;40m[\u001b[0m\u001b[31;40mError\u001b[0m\u001b[1;31;40m]\u001b[0m\u001b[31;40m Annotation objects on the SBML container element are not permitted in SBML Level\u001b[0m \u001b[2m                 \u001b[0m\n",
       "         \u001b[1;36;40m1\u001b[0m                                                                                        \u001b[2m                 \u001b[0m\n",
       "         The \u001b[1m<\u001b[0m\u001b[1;95msbml\u001b[0m\u001b[1m>\u001b[0m container element cannot contain \u001b[1m<\u001b[0m\u001b[1;95mnotes\u001b[0m\u001b[1m>\u001b[0m or \u001b[1m<\u001b[0m\u001b[1;95mannotations\u001b[0m\u001b[1m>\u001b[0m in an SBML Level \u001b[1;36m1\u001b[0m  \u001b[2m                 \u001b[0m\n",
       "         document.                                                                                \u001b[2m                 \u001b[0m\n",
       "                                                                                                  \u001b[2m                 \u001b[0m\n"
      ]
     },
     "metadata": {},
     "output_type": "display_data"
    },
    {
     "data": {
      "text/html": [
       "<pre style=\"white-space:pre;overflow-x:auto;line-height:normal;font-family:Menlo,'DejaVu Sans Mono',consolas,'Courier New',monospace\"><span style=\"color: #c0c0c0; text-decoration-color: #c0c0c0\">───────────────────────────────────────────────────────────────────────────────────────────────────────────────────</span>\n",
       "</pre>\n"
      ],
      "text/plain": [
       "\u001b[37m───────────────────────────────────────────────────────────────────────────────────────────────────────────────────\u001b[0m\n"
      ]
     },
     "metadata": {},
     "output_type": "display_data"
    },
    {
     "data": {
      "text/html": [
       "<pre style=\"white-space:pre;overflow-x:auto;line-height:normal;font-family:Menlo,'DejaVu Sans Mono',consolas,'Courier New',monospace\"><span style=\"color: #c0c0c0; text-decoration-color: #c0c0c0\">───────────────────────────────────────────────────────────────────────────────────────────────────────────────────</span>\n",
       "</pre>\n"
      ],
      "text/plain": [
       "\u001b[37m───────────────────────────────────────────────────────────────────────────────────────────────────────────────────\u001b[0m\n"
      ]
     },
     "metadata": {},
     "output_type": "display_data"
    },
    {
     "data": {
      "text/html": [
       "<pre style=\"white-space:pre;overflow-x:auto;line-height:normal;font-family:Menlo,'DejaVu Sans Mono',consolas,'Courier New',monospace\"><span style=\"color: #800000; text-decoration-color: #800000; font-weight: bold\">ERROR   </span> <span style=\"color: #000000; text-decoration-color: #000000; background-color: #c0c0c0\">ENone: General SBML conformance </span><span style=\"color: #000000; text-decoration-color: #000000; background-color: #c0c0c0; font-weight: bold\">(</span><span style=\"color: #000000; text-decoration-color: #000000; background-color: #c0c0c0\">core, L2, code</span><span style=\"color: #000000; text-decoration-color: #000000; background-color: #c0c0c0; font-weight: bold\">)</span>                                         <a href=\"file:///home/mkoenig/git/sbmlutils/src/sbmlutils/validation.py\" target=\"_blank\"><span style=\"color: #7f7f7f; text-decoration-color: #7f7f7f\">validation.py</span></a><span style=\"color: #7f7f7f; text-decoration-color: #7f7f7f\">:</span><a href=\"file:///home/mkoenig/git/sbmlutils/src/sbmlutils/validation.py#188\" target=\"_blank\"><span style=\"color: #7f7f7f; text-decoration-color: #7f7f7f\">188</span></a>\n",
       "         <span style=\"color: #800000; text-decoration-color: #800000; background-color: #000000; font-weight: bold\">[</span><span style=\"color: #800000; text-decoration-color: #800000; background-color: #000000\">Error</span><span style=\"color: #800000; text-decoration-color: #800000; background-color: #000000; font-weight: bold\">]</span><span style=\"color: #800000; text-decoration-color: #800000; background-color: #000000\"> Annotation objects on the SBML container element are not permitted in SBML Level</span> <span style=\"color: #7f7f7f; text-decoration-color: #7f7f7f\">                 </span>\n",
       "         <span style=\"color: #008080; text-decoration-color: #008080; background-color: #000000; font-weight: bold\">1</span>                                                                                        <span style=\"color: #7f7f7f; text-decoration-color: #7f7f7f\">                 </span>\n",
       "         The <span style=\"font-weight: bold\">&lt;</span><span style=\"color: #ff00ff; text-decoration-color: #ff00ff; font-weight: bold\">sbml</span><span style=\"font-weight: bold\">&gt;</span> container element cannot contain <span style=\"font-weight: bold\">&lt;</span><span style=\"color: #ff00ff; text-decoration-color: #ff00ff; font-weight: bold\">notes</span><span style=\"font-weight: bold\">&gt;</span> or <span style=\"font-weight: bold\">&lt;</span><span style=\"color: #ff00ff; text-decoration-color: #ff00ff; font-weight: bold\">annotations</span><span style=\"font-weight: bold\">&gt;</span> in an SBML Level <span style=\"color: #008080; text-decoration-color: #008080; font-weight: bold\">1</span>  <span style=\"color: #7f7f7f; text-decoration-color: #7f7f7f\">                 </span>\n",
       "         document.                                                                                <span style=\"color: #7f7f7f; text-decoration-color: #7f7f7f\">                 </span>\n",
       "                                                                                                  <span style=\"color: #7f7f7f; text-decoration-color: #7f7f7f\">                 </span>\n",
       "</pre>\n"
      ],
      "text/plain": [
       "\u001b[1;31mERROR   \u001b[0m \u001b[30;47mENone: General SBML conformance \u001b[0m\u001b[1;30;47m(\u001b[0m\u001b[30;47mcore, L2, code\u001b[0m\u001b[1;30;47m)\u001b[0m                                         \u001b]8;id=317311;file:///home/mkoenig/git/sbmlutils/src/sbmlutils/validation.py\u001b\\\u001b[2mvalidation.py\u001b[0m\u001b]8;;\u001b\\\u001b[2m:\u001b[0m\u001b]8;id=879378;file:///home/mkoenig/git/sbmlutils/src/sbmlutils/validation.py#188\u001b\\\u001b[2m188\u001b[0m\u001b]8;;\u001b\\\n",
       "         \u001b[1;31;40m[\u001b[0m\u001b[31;40mError\u001b[0m\u001b[1;31;40m]\u001b[0m\u001b[31;40m Annotation objects on the SBML container element are not permitted in SBML Level\u001b[0m \u001b[2m                 \u001b[0m\n",
       "         \u001b[1;36;40m1\u001b[0m                                                                                        \u001b[2m                 \u001b[0m\n",
       "         The \u001b[1m<\u001b[0m\u001b[1;95msbml\u001b[0m\u001b[1m>\u001b[0m container element cannot contain \u001b[1m<\u001b[0m\u001b[1;95mnotes\u001b[0m\u001b[1m>\u001b[0m or \u001b[1m<\u001b[0m\u001b[1;95mannotations\u001b[0m\u001b[1m>\u001b[0m in an SBML Level \u001b[1;36m1\u001b[0m  \u001b[2m                 \u001b[0m\n",
       "         document.                                                                                \u001b[2m                 \u001b[0m\n",
       "                                                                                                  \u001b[2m                 \u001b[0m\n"
      ]
     },
     "metadata": {},
     "output_type": "display_data"
    },
    {
     "data": {
      "text/html": [
       "<pre style=\"white-space:pre;overflow-x:auto;line-height:normal;font-family:Menlo,'DejaVu Sans Mono',consolas,'Courier New',monospace\"><span style=\"color: #800000; text-decoration-color: #800000; font-weight: bold\">ERROR   </span> `read_sbml` error <span style=\"color: #008000; text-decoration-color: #008000\">'/tmp/tmp8gk6q08t/example_model.xml'</span>: SBMLDocumentErrors encountered while    <a href=\"file:///home/mkoenig/git/sbmlutils/src/sbmlutils/io/sbml.py\" target=\"_blank\"><span style=\"color: #7f7f7f; text-decoration-color: #7f7f7f\">sbml.py</span></a><span style=\"color: #7f7f7f; text-decoration-color: #7f7f7f\">:</span><a href=\"file:///home/mkoenig/git/sbmlutils/src/sbmlutils/io/sbml.py#66\" target=\"_blank\"><span style=\"color: #7f7f7f; text-decoration-color: #7f7f7f\">66</span></a>\n",
       "         reading the SBML file.                                                                          <span style=\"color: #7f7f7f; text-decoration-color: #7f7f7f\">          </span>\n",
       "</pre>\n"
      ],
      "text/plain": [
       "\u001b[1;31mERROR   \u001b[0m `read_sbml` error \u001b[32m'/tmp/tmp8gk6q08t/example_model.xml'\u001b[0m: SBMLDocumentErrors encountered while    \u001b]8;id=179522;file:///home/mkoenig/git/sbmlutils/src/sbmlutils/io/sbml.py\u001b\\\u001b[2msbml.py\u001b[0m\u001b]8;;\u001b\\\u001b[2m:\u001b[0m\u001b]8;id=728360;file:///home/mkoenig/git/sbmlutils/src/sbmlutils/io/sbml.py#66\u001b\\\u001b[2m66\u001b[0m\u001b]8;;\u001b\\\n",
       "         reading the SBML file.                                                                          \u001b[2m          \u001b[0m\n"
      ]
     },
     "metadata": {},
     "output_type": "display_data"
    },
    {
     "name": "stdout",
     "output_type": "stream",
     "text": [
      "L1V2\n"
     ]
    },
    {
     "data": {
      "text/html": [
       "<pre style=\"white-space:pre;overflow-x:auto;line-height:normal;font-family:Menlo,'DejaVu Sans Mono',consolas,'Courier New',monospace\"><span style=\"color: #c0c0c0; text-decoration-color: #c0c0c0\">─────────────────────────────────────────────────── </span>Create SBML<span style=\"color: #c0c0c0; text-decoration-color: #c0c0c0\"> ───────────────────────────────────────────────────</span>\n",
       "</pre>\n"
      ],
      "text/plain": [
       "\u001b[37m─────────────────────────────────────────────────── \u001b[0mCreate SBML\u001b[37m ───────────────────────────────────────────────────\u001b[0m\n"
      ]
     },
     "metadata": {},
     "output_type": "display_data"
    },
    {
     "data": {
      "text/html": [
       "<pre style=\"white-space:pre;overflow-x:auto;line-height:normal;font-family:Menlo,'DejaVu Sans Mono',consolas,'Courier New',monospace\"><span style=\"color: #000080; text-decoration-color: #000080\">INFO    </span> Create SBML for model <span style=\"color: #008000; text-decoration-color: #008000\">'L2V1'</span>                                                               <a href=\"file:///home/mkoenig/git/sbmlutils/src/sbmlutils/factory.py\" target=\"_blank\"><span style=\"color: #7f7f7f; text-decoration-color: #7f7f7f\">factory.py</span></a><span style=\"color: #7f7f7f; text-decoration-color: #7f7f7f\">:</span><a href=\"file:///home/mkoenig/git/sbmlutils/src/sbmlutils/factory.py#3526\" target=\"_blank\"><span style=\"color: #7f7f7f; text-decoration-color: #7f7f7f\">3526</span></a>\n",
       "</pre>\n"
      ],
      "text/plain": [
       "\u001b[34mINFO    \u001b[0m Create SBML for model \u001b[32m'L2V1'\u001b[0m                                                               \u001b]8;id=75232;file:///home/mkoenig/git/sbmlutils/src/sbmlutils/factory.py\u001b\\\u001b[2mfactory.py\u001b[0m\u001b]8;;\u001b\\\u001b[2m:\u001b[0m\u001b]8;id=688768;file:///home/mkoenig/git/sbmlutils/src/sbmlutils/factory.py#3526\u001b\\\u001b[2m3526\u001b[0m\u001b]8;;\u001b\\\n"
      ]
     },
     "metadata": {},
     "output_type": "display_data"
    },
    {
     "data": {
      "text/html": [
       "<pre style=\"white-space:pre;overflow-x:auto;line-height:normal;font-family:Menlo,'DejaVu Sans Mono',consolas,'Courier New',monospace\"><span style=\"color: #800000; text-decoration-color: #800000\">WARNING </span> <span style=\"color: #008000; text-decoration-color: #008000\">'name'</span> should be set on <span style=\"color: #008000; text-decoration-color: #008000\">'Model(sid='</span>L2V1', <span style=\"color: #808000; text-decoration-color: #808000\">packages</span>=<span style=\"font-weight: bold\">[&lt;</span><span style=\"color: #ff00ff; text-decoration-color: #ff00ff; font-weight: bold\">Package.COMP_V1:</span><span style=\"color: #000000; text-decoration-color: #000000\"> </span><span style=\"color: #008000; text-decoration-color: #008000\">'comp-v1'</span><span style=\"font-weight: bold\">&gt;]</span>,         <a href=\"file:///home/mkoenig/git/sbmlutils/src/sbmlutils/factory.py\" target=\"_blank\"><span style=\"color: #7f7f7f; text-decoration-color: #7f7f7f\">factory.py</span></a><span style=\"color: #7f7f7f; text-decoration-color: #7f7f7f\">:</span><a href=\"file:///home/mkoenig/git/sbmlutils/src/sbmlutils/factory.py#441\" target=\"_blank\"><span style=\"color: #7f7f7f; text-decoration-color: #7f7f7f\">441</span></a>\n",
       "         <span style=\"color: #808000; text-decoration-color: #808000\">model_units</span>=<span style=\"font-weight: bold\">&lt;</span><span style=\"color: #ff00ff; text-decoration-color: #ff00ff; font-weight: bold\">sbmlutils.factory.ModelUnits</span><span style=\"color: #000000; text-decoration-color: #000000\"> object at </span><span style=\"color: #008080; text-decoration-color: #008080; font-weight: bold\">0x7fe940324cd0</span><span style=\"font-weight: bold\">&gt;</span>, <span style=\"color: #808000; text-decoration-color: #808000\">units</span>=<span style=\"font-weight: bold\">&lt;</span><span style=\"color: #ff00ff; text-decoration-color: #ff00ff; font-weight: bold\">class</span><span style=\"color: #000000; text-decoration-color: #000000\"> </span>          <span style=\"color: #7f7f7f; text-decoration-color: #7f7f7f\">              </span>\n",
       "         <span style=\"color: #008000; text-decoration-color: #008000\">'__main__.U'</span><span style=\"font-weight: bold\">&gt;</span>, <span style=\"color: #808000; text-decoration-color: #808000\">compartments</span>=<span style=\"font-weight: bold\">[</span>C = <span style=\"color: #008080; text-decoration-color: #008080; font-weight: bold\">1.0</span> <span style=\"font-weight: bold\">[</span><span style=\"color: #800080; text-decoration-color: #800080; font-style: italic\">None</span><span style=\"font-weight: bold\">]]</span>, <span style=\"color: #808000; text-decoration-color: #808000\">species</span>=<span style=\"font-weight: bold\">[&lt;</span><span style=\"color: #ff00ff; text-decoration-color: #ff00ff; font-weight: bold\">sbmlutils.factory.Species</span><span style=\"color: #000000; text-decoration-color: #000000\"> object at</span> <span style=\"color: #7f7f7f; text-decoration-color: #7f7f7f\">              </span>\n",
       "         <span style=\"color: #008080; text-decoration-color: #008080; font-weight: bold\">0x7fe940324dc0</span><span style=\"font-weight: bold\">&gt;]</span>, <span style=\"color: #808000; text-decoration-color: #808000\">parameters</span>=<span style=\"font-weight: bold\">[</span>k1 = <span style=\"color: #008080; text-decoration-color: #008080; font-weight: bold\">1.0</span> <span style=\"font-weight: bold\">[</span><span style=\"color: #800080; text-decoration-color: #800080; font-style: italic\">None</span><span style=\"font-weight: bold\">]]</span>, <span style=\"color: #808000; text-decoration-color: #808000\">reactions</span>=<span style=\"font-weight: bold\">[&lt;</span><span style=\"color: #ff00ff; text-decoration-color: #ff00ff; font-weight: bold\">sbmlutils.factory.Reaction</span><span style=\"color: #000000; text-decoration-color: #000000\"> </span>     <span style=\"color: #7f7f7f; text-decoration-color: #7f7f7f\">              </span>\n",
       "         <span style=\"color: #000000; text-decoration-color: #000000\">object at </span><span style=\"color: #008080; text-decoration-color: #008080; font-weight: bold\">0x7fe940324f40</span><span style=\"font-weight: bold\">&gt;]</span>, <span style=\"color: #808000; text-decoration-color: #808000\">_FrozenClass__isfrozen</span>=<span style=\"color: #00ff00; text-decoration-color: #00ff00; font-style: italic\">True</span><span style=\"font-weight: bold\">)</span>'                                   <span style=\"color: #7f7f7f; text-decoration-color: #7f7f7f\">              </span>\n",
       "</pre>\n"
      ],
      "text/plain": [
       "\u001b[31mWARNING \u001b[0m \u001b[32m'name'\u001b[0m should be set on \u001b[32m'Model\u001b[0m\u001b[32m(\u001b[0m\u001b[32msid\u001b[0m\u001b[32m='\u001b[0mL2V1', \u001b[33mpackages\u001b[0m=\u001b[1m[\u001b[0m\u001b[1m<\u001b[0m\u001b[1;95mPackage.COMP_V1:\u001b[0m\u001b[39m \u001b[0m\u001b[32m'comp-v1'\u001b[0m\u001b[1m>\u001b[0m\u001b[1m]\u001b[0m,         \u001b]8;id=410003;file:///home/mkoenig/git/sbmlutils/src/sbmlutils/factory.py\u001b\\\u001b[2mfactory.py\u001b[0m\u001b]8;;\u001b\\\u001b[2m:\u001b[0m\u001b]8;id=816166;file:///home/mkoenig/git/sbmlutils/src/sbmlutils/factory.py#441\u001b\\\u001b[2m441\u001b[0m\u001b]8;;\u001b\\\n",
       "         \u001b[33mmodel_units\u001b[0m=\u001b[1m<\u001b[0m\u001b[1;95msbmlutils.factory.ModelUnits\u001b[0m\u001b[39m object at \u001b[0m\u001b[1;36m0x7fe940324cd0\u001b[0m\u001b[1m>\u001b[0m, \u001b[33munits\u001b[0m=\u001b[1m<\u001b[0m\u001b[1;95mclass\u001b[0m\u001b[39m \u001b[0m          \u001b[2m              \u001b[0m\n",
       "         \u001b[32m'__main__.U'\u001b[0m\u001b[1m>\u001b[0m, \u001b[33mcompartments\u001b[0m=\u001b[1m[\u001b[0mC = \u001b[1;36m1.0\u001b[0m \u001b[1m[\u001b[0m\u001b[3;35mNone\u001b[0m\u001b[1m]\u001b[0m\u001b[1m]\u001b[0m, \u001b[33mspecies\u001b[0m=\u001b[1m[\u001b[0m\u001b[1m<\u001b[0m\u001b[1;95msbmlutils.factory.Species\u001b[0m\u001b[39m object at\u001b[0m \u001b[2m              \u001b[0m\n",
       "         \u001b[1;36m0x7fe940324dc0\u001b[0m\u001b[1m>\u001b[0m\u001b[1m]\u001b[0m, \u001b[33mparameters\u001b[0m=\u001b[1m[\u001b[0mk1 = \u001b[1;36m1.0\u001b[0m \u001b[1m[\u001b[0m\u001b[3;35mNone\u001b[0m\u001b[1m]\u001b[0m\u001b[1m]\u001b[0m, \u001b[33mreactions\u001b[0m=\u001b[1m[\u001b[0m\u001b[1m<\u001b[0m\u001b[1;95msbmlutils.factory.Reaction\u001b[0m\u001b[39m \u001b[0m     \u001b[2m              \u001b[0m\n",
       "         \u001b[39mobject at \u001b[0m\u001b[1;36m0x7fe940324f40\u001b[0m\u001b[1m>\u001b[0m\u001b[1m]\u001b[0m, \u001b[33m_FrozenClass__isfrozen\u001b[0m=\u001b[3;92mTrue\u001b[0m\u001b[1m)\u001b[0m'                                   \u001b[2m              \u001b[0m\n"
      ]
     },
     "metadata": {},
     "output_type": "display_data"
    },
    {
     "data": {
      "text/html": [
       "<pre style=\"white-space:pre;overflow-x:auto;line-height:normal;font-family:Menlo,'DejaVu Sans Mono',consolas,'Courier New',monospace\"><span style=\"color: #000080; text-decoration-color: #000080\">INFO    </span> <span style=\"color: #008000; text-decoration-color: #008000\">'length'</span> should be set in <span style=\"color: #008000; text-decoration-color: #008000\">'model_units'</span>.                                                    <a href=\"file:///home/mkoenig/git/sbmlutils/src/sbmlutils/factory.py\" target=\"_blank\"><span style=\"color: #7f7f7f; text-decoration-color: #7f7f7f\">factory.py</span></a><span style=\"color: #7f7f7f; text-decoration-color: #7f7f7f\">:</span><a href=\"file:///home/mkoenig/git/sbmlutils/src/sbmlutils/factory.py#266\" target=\"_blank\"><span style=\"color: #7f7f7f; text-decoration-color: #7f7f7f\">266</span></a>\n",
       "</pre>\n"
      ],
      "text/plain": [
       "\u001b[34mINFO    \u001b[0m \u001b[32m'length'\u001b[0m should be set in \u001b[32m'model_units'\u001b[0m.                                                    \u001b]8;id=21956;file:///home/mkoenig/git/sbmlutils/src/sbmlutils/factory.py\u001b\\\u001b[2mfactory.py\u001b[0m\u001b]8;;\u001b\\\u001b[2m:\u001b[0m\u001b]8;id=941604;file:///home/mkoenig/git/sbmlutils/src/sbmlutils/factory.py#266\u001b\\\u001b[2m266\u001b[0m\u001b]8;;\u001b\\\n"
      ]
     },
     "metadata": {},
     "output_type": "display_data"
    },
    {
     "data": {
      "text/html": [
       "<pre style=\"white-space:pre;overflow-x:auto;line-height:normal;font-family:Menlo,'DejaVu Sans Mono',consolas,'Courier New',monospace\"><span style=\"color: #000080; text-decoration-color: #000080\">INFO    </span> <span style=\"color: #008000; text-decoration-color: #008000\">'area'</span> should be set in <span style=\"color: #008000; text-decoration-color: #008000\">'model_units'</span>.                                                      <a href=\"file:///home/mkoenig/git/sbmlutils/src/sbmlutils/factory.py\" target=\"_blank\"><span style=\"color: #7f7f7f; text-decoration-color: #7f7f7f\">factory.py</span></a><span style=\"color: #7f7f7f; text-decoration-color: #7f7f7f\">:</span><a href=\"file:///home/mkoenig/git/sbmlutils/src/sbmlutils/factory.py#266\" target=\"_blank\"><span style=\"color: #7f7f7f; text-decoration-color: #7f7f7f\">266</span></a>\n",
       "</pre>\n"
      ],
      "text/plain": [
       "\u001b[34mINFO    \u001b[0m \u001b[32m'area'\u001b[0m should be set in \u001b[32m'model_units'\u001b[0m.                                                      \u001b]8;id=247752;file:///home/mkoenig/git/sbmlutils/src/sbmlutils/factory.py\u001b\\\u001b[2mfactory.py\u001b[0m\u001b]8;;\u001b\\\u001b[2m:\u001b[0m\u001b]8;id=878812;file:///home/mkoenig/git/sbmlutils/src/sbmlutils/factory.py#266\u001b\\\u001b[2m266\u001b[0m\u001b]8;;\u001b\\\n"
      ]
     },
     "metadata": {},
     "output_type": "display_data"
    },
    {
     "data": {
      "text/html": [
       "<pre style=\"white-space:pre;overflow-x:auto;line-height:normal;font-family:Menlo,'DejaVu Sans Mono',consolas,'Courier New',monospace\"><span style=\"color: #800000; text-decoration-color: #800000\">WARNING </span> <span style=\"color: #008000; text-decoration-color: #008000\">'name'</span> should be set on <span style=\"color: #008000; text-decoration-color: #008000\">'Parameter(k1)'</span>                                                     <a href=\"file:///home/mkoenig/git/sbmlutils/src/sbmlutils/factory.py\" target=\"_blank\"><span style=\"color: #7f7f7f; text-decoration-color: #7f7f7f\">factory.py</span></a><span style=\"color: #7f7f7f; text-decoration-color: #7f7f7f\">:</span><a href=\"file:///home/mkoenig/git/sbmlutils/src/sbmlutils/factory.py#441\" target=\"_blank\"><span style=\"color: #7f7f7f; text-decoration-color: #7f7f7f\">441</span></a>\n",
       "</pre>\n"
      ],
      "text/plain": [
       "\u001b[31mWARNING \u001b[0m \u001b[32m'name'\u001b[0m should be set on \u001b[32m'Parameter\u001b[0m\u001b[32m(\u001b[0m\u001b[32mk1\u001b[0m\u001b[32m)\u001b[0m\u001b[32m'\u001b[0m                                                     \u001b]8;id=53829;file:///home/mkoenig/git/sbmlutils/src/sbmlutils/factory.py\u001b\\\u001b[2mfactory.py\u001b[0m\u001b]8;;\u001b\\\u001b[2m:\u001b[0m\u001b]8;id=379139;file:///home/mkoenig/git/sbmlutils/src/sbmlutils/factory.py#441\u001b\\\u001b[2m441\u001b[0m\u001b]8;;\u001b\\\n"
      ]
     },
     "metadata": {},
     "output_type": "display_data"
    },
    {
     "data": {
      "text/html": [
       "<pre style=\"white-space:pre;overflow-x:auto;line-height:normal;font-family:Menlo,'DejaVu Sans Mono',consolas,'Courier New',monospace\"><span style=\"color: #800000; text-decoration-color: #800000\">WARNING </span> <span style=\"color: #008000; text-decoration-color: #008000\">'sboTerm'</span> should be set on <span style=\"color: #008000; text-decoration-color: #008000\">'Parameter(k1)'</span>                                                  <a href=\"file:///home/mkoenig/git/sbmlutils/src/sbmlutils/factory.py\" target=\"_blank\"><span style=\"color: #7f7f7f; text-decoration-color: #7f7f7f\">factory.py</span></a><span style=\"color: #7f7f7f; text-decoration-color: #7f7f7f\">:</span><a href=\"file:///home/mkoenig/git/sbmlutils/src/sbmlutils/factory.py#466\" target=\"_blank\"><span style=\"color: #7f7f7f; text-decoration-color: #7f7f7f\">466</span></a>\n",
       "</pre>\n"
      ],
      "text/plain": [
       "\u001b[31mWARNING \u001b[0m \u001b[32m'sboTerm'\u001b[0m should be set on \u001b[32m'Parameter\u001b[0m\u001b[32m(\u001b[0m\u001b[32mk1\u001b[0m\u001b[32m)\u001b[0m\u001b[32m'\u001b[0m                                                  \u001b]8;id=501801;file:///home/mkoenig/git/sbmlutils/src/sbmlutils/factory.py\u001b\\\u001b[2mfactory.py\u001b[0m\u001b]8;;\u001b\\\u001b[2m:\u001b[0m\u001b]8;id=52981;file:///home/mkoenig/git/sbmlutils/src/sbmlutils/factory.py#466\u001b\\\u001b[2m466\u001b[0m\u001b]8;;\u001b\\\n"
      ]
     },
     "metadata": {},
     "output_type": "display_data"
    },
    {
     "data": {
      "text/html": [
       "<pre style=\"white-space:pre;overflow-x:auto;line-height:normal;font-family:Menlo,'DejaVu Sans Mono',consolas,'Courier New',monospace\"><span style=\"color: #800000; text-decoration-color: #800000\">WARNING </span> <span style=\"color: #008000; text-decoration-color: #008000\">'name'</span> should be set on <span style=\"color: #008000; text-decoration-color: #008000\">'Compartment(C)'</span>                                                    <a href=\"file:///home/mkoenig/git/sbmlutils/src/sbmlutils/factory.py\" target=\"_blank\"><span style=\"color: #7f7f7f; text-decoration-color: #7f7f7f\">factory.py</span></a><span style=\"color: #7f7f7f; text-decoration-color: #7f7f7f\">:</span><a href=\"file:///home/mkoenig/git/sbmlutils/src/sbmlutils/factory.py#441\" target=\"_blank\"><span style=\"color: #7f7f7f; text-decoration-color: #7f7f7f\">441</span></a>\n",
       "</pre>\n"
      ],
      "text/plain": [
       "\u001b[31mWARNING \u001b[0m \u001b[32m'name'\u001b[0m should be set on \u001b[32m'Compartment\u001b[0m\u001b[32m(\u001b[0m\u001b[32mC\u001b[0m\u001b[32m)\u001b[0m\u001b[32m'\u001b[0m                                                    \u001b]8;id=585650;file:///home/mkoenig/git/sbmlutils/src/sbmlutils/factory.py\u001b\\\u001b[2mfactory.py\u001b[0m\u001b]8;;\u001b\\\u001b[2m:\u001b[0m\u001b]8;id=124568;file:///home/mkoenig/git/sbmlutils/src/sbmlutils/factory.py#441\u001b\\\u001b[2m441\u001b[0m\u001b]8;;\u001b\\\n"
      ]
     },
     "metadata": {},
     "output_type": "display_data"
    },
    {
     "data": {
      "text/html": [
       "<pre style=\"white-space:pre;overflow-x:auto;line-height:normal;font-family:Menlo,'DejaVu Sans Mono',consolas,'Courier New',monospace\"><span style=\"color: #800000; text-decoration-color: #800000\">WARNING </span> <span style=\"color: #008000; text-decoration-color: #008000\">'sboTerm'</span> should be set on <span style=\"color: #008000; text-decoration-color: #008000\">'Compartment(C)'</span>                                                 <a href=\"file:///home/mkoenig/git/sbmlutils/src/sbmlutils/factory.py\" target=\"_blank\"><span style=\"color: #7f7f7f; text-decoration-color: #7f7f7f\">factory.py</span></a><span style=\"color: #7f7f7f; text-decoration-color: #7f7f7f\">:</span><a href=\"file:///home/mkoenig/git/sbmlutils/src/sbmlutils/factory.py#466\" target=\"_blank\"><span style=\"color: #7f7f7f; text-decoration-color: #7f7f7f\">466</span></a>\n",
       "</pre>\n"
      ],
      "text/plain": [
       "\u001b[31mWARNING \u001b[0m \u001b[32m'sboTerm'\u001b[0m should be set on \u001b[32m'Compartment\u001b[0m\u001b[32m(\u001b[0m\u001b[32mC\u001b[0m\u001b[32m)\u001b[0m\u001b[32m'\u001b[0m                                                 \u001b]8;id=859678;file:///home/mkoenig/git/sbmlutils/src/sbmlutils/factory.py\u001b\\\u001b[2mfactory.py\u001b[0m\u001b]8;;\u001b\\\u001b[2m:\u001b[0m\u001b]8;id=445625;file:///home/mkoenig/git/sbmlutils/src/sbmlutils/factory.py#466\u001b\\\u001b[2m466\u001b[0m\u001b]8;;\u001b\\\n"
      ]
     },
     "metadata": {},
     "output_type": "display_data"
    },
    {
     "data": {
      "text/html": [
       "<pre style=\"white-space:pre;overflow-x:auto;line-height:normal;font-family:Menlo,'DejaVu Sans Mono',consolas,'Courier New',monospace\"><span style=\"color: #800000; text-decoration-color: #800000\">WARNING </span> <span style=\"color: #008000; text-decoration-color: #008000\">'name'</span> should be set on <span style=\"color: #008000; text-decoration-color: #008000\">'Species(S1)'</span>                                                       <a href=\"file:///home/mkoenig/git/sbmlutils/src/sbmlutils/factory.py\" target=\"_blank\"><span style=\"color: #7f7f7f; text-decoration-color: #7f7f7f\">factory.py</span></a><span style=\"color: #7f7f7f; text-decoration-color: #7f7f7f\">:</span><a href=\"file:///home/mkoenig/git/sbmlutils/src/sbmlutils/factory.py#441\" target=\"_blank\"><span style=\"color: #7f7f7f; text-decoration-color: #7f7f7f\">441</span></a>\n",
       "</pre>\n"
      ],
      "text/plain": [
       "\u001b[31mWARNING \u001b[0m \u001b[32m'name'\u001b[0m should be set on \u001b[32m'Species\u001b[0m\u001b[32m(\u001b[0m\u001b[32mS1\u001b[0m\u001b[32m)\u001b[0m\u001b[32m'\u001b[0m                                                       \u001b]8;id=614952;file:///home/mkoenig/git/sbmlutils/src/sbmlutils/factory.py\u001b\\\u001b[2mfactory.py\u001b[0m\u001b]8;;\u001b\\\u001b[2m:\u001b[0m\u001b]8;id=697021;file:///home/mkoenig/git/sbmlutils/src/sbmlutils/factory.py#441\u001b\\\u001b[2m441\u001b[0m\u001b]8;;\u001b\\\n"
      ]
     },
     "metadata": {},
     "output_type": "display_data"
    },
    {
     "data": {
      "text/html": [
       "<pre style=\"white-space:pre;overflow-x:auto;line-height:normal;font-family:Menlo,'DejaVu Sans Mono',consolas,'Courier New',monospace\"><span style=\"color: #800000; text-decoration-color: #800000\">WARNING </span> <span style=\"color: #008000; text-decoration-color: #008000\">'sboTerm'</span> should be set on <span style=\"color: #008000; text-decoration-color: #008000\">'Species(S1)'</span>                                                    <a href=\"file:///home/mkoenig/git/sbmlutils/src/sbmlutils/factory.py\" target=\"_blank\"><span style=\"color: #7f7f7f; text-decoration-color: #7f7f7f\">factory.py</span></a><span style=\"color: #7f7f7f; text-decoration-color: #7f7f7f\">:</span><a href=\"file:///home/mkoenig/git/sbmlutils/src/sbmlutils/factory.py#466\" target=\"_blank\"><span style=\"color: #7f7f7f; text-decoration-color: #7f7f7f\">466</span></a>\n",
       "</pre>\n"
      ],
      "text/plain": [
       "\u001b[31mWARNING \u001b[0m \u001b[32m'sboTerm'\u001b[0m should be set on \u001b[32m'Species\u001b[0m\u001b[32m(\u001b[0m\u001b[32mS1\u001b[0m\u001b[32m)\u001b[0m\u001b[32m'\u001b[0m                                                    \u001b]8;id=929784;file:///home/mkoenig/git/sbmlutils/src/sbmlutils/factory.py\u001b\\\u001b[2mfactory.py\u001b[0m\u001b]8;;\u001b\\\u001b[2m:\u001b[0m\u001b]8;id=807847;file:///home/mkoenig/git/sbmlutils/src/sbmlutils/factory.py#466\u001b\\\u001b[2m466\u001b[0m\u001b]8;;\u001b\\\n"
      ]
     },
     "metadata": {},
     "output_type": "display_data"
    },
    {
     "data": {
      "text/html": [
       "<pre style=\"white-space:pre;overflow-x:auto;line-height:normal;font-family:Menlo,'DejaVu Sans Mono',consolas,'Courier New',monospace\"><span style=\"color: #800000; text-decoration-color: #800000\">WARNING </span> <span style=\"color: #008000; text-decoration-color: #008000\">'name'</span> should be set on <span style=\"color: #008000; text-decoration-color: #008000\">'Reaction(R1)'</span>                                                      <a href=\"file:///home/mkoenig/git/sbmlutils/src/sbmlutils/factory.py\" target=\"_blank\"><span style=\"color: #7f7f7f; text-decoration-color: #7f7f7f\">factory.py</span></a><span style=\"color: #7f7f7f; text-decoration-color: #7f7f7f\">:</span><a href=\"file:///home/mkoenig/git/sbmlutils/src/sbmlutils/factory.py#441\" target=\"_blank\"><span style=\"color: #7f7f7f; text-decoration-color: #7f7f7f\">441</span></a>\n",
       "</pre>\n"
      ],
      "text/plain": [
       "\u001b[31mWARNING \u001b[0m \u001b[32m'name'\u001b[0m should be set on \u001b[32m'Reaction\u001b[0m\u001b[32m(\u001b[0m\u001b[32mR1\u001b[0m\u001b[32m)\u001b[0m\u001b[32m'\u001b[0m                                                      \u001b]8;id=748038;file:///home/mkoenig/git/sbmlutils/src/sbmlutils/factory.py\u001b\\\u001b[2mfactory.py\u001b[0m\u001b]8;;\u001b\\\u001b[2m:\u001b[0m\u001b]8;id=558956;file:///home/mkoenig/git/sbmlutils/src/sbmlutils/factory.py#441\u001b\\\u001b[2m441\u001b[0m\u001b]8;;\u001b\\\n"
      ]
     },
     "metadata": {},
     "output_type": "display_data"
    },
    {
     "data": {
      "text/html": [
       "<pre style=\"white-space:pre;overflow-x:auto;line-height:normal;font-family:Menlo,'DejaVu Sans Mono',consolas,'Courier New',monospace\"><span style=\"color: #800000; text-decoration-color: #800000\">WARNING </span> <span style=\"color: #008000; text-decoration-color: #008000\">'sboTerm'</span> should be set on <span style=\"color: #008000; text-decoration-color: #008000\">'Reaction(R1)'</span>                                                   <a href=\"file:///home/mkoenig/git/sbmlutils/src/sbmlutils/factory.py\" target=\"_blank\"><span style=\"color: #7f7f7f; text-decoration-color: #7f7f7f\">factory.py</span></a><span style=\"color: #7f7f7f; text-decoration-color: #7f7f7f\">:</span><a href=\"file:///home/mkoenig/git/sbmlutils/src/sbmlutils/factory.py#466\" target=\"_blank\"><span style=\"color: #7f7f7f; text-decoration-color: #7f7f7f\">466</span></a>\n",
       "</pre>\n"
      ],
      "text/plain": [
       "\u001b[31mWARNING \u001b[0m \u001b[32m'sboTerm'\u001b[0m should be set on \u001b[32m'Reaction\u001b[0m\u001b[32m(\u001b[0m\u001b[32mR1\u001b[0m\u001b[32m)\u001b[0m\u001b[32m'\u001b[0m                                                   \u001b]8;id=89607;file:///home/mkoenig/git/sbmlutils/src/sbmlutils/factory.py\u001b\\\u001b[2mfactory.py\u001b[0m\u001b]8;;\u001b\\\u001b[2m:\u001b[0m\u001b]8;id=562331;file:///home/mkoenig/git/sbmlutils/src/sbmlutils/factory.py#466\u001b\\\u001b[2m466\u001b[0m\u001b]8;;\u001b\\\n"
      ]
     },
     "metadata": {},
     "output_type": "display_data"
    },
    {
     "data": {
      "text/html": [
       "<pre style=\"white-space:pre;overflow-x:auto;line-height:normal;font-family:Menlo,'DejaVu Sans Mono',consolas,'Courier New',monospace\">\n",
       "</pre>\n"
      ],
      "text/plain": [
       "\n"
      ]
     },
     "metadata": {},
     "output_type": "display_data"
    },
    {
     "data": {
      "text/html": [
       "<pre style=\"white-space:pre;overflow-x:auto;line-height:normal;font-family:Menlo,'DejaVu Sans Mono',consolas,'Courier New',monospace\"><span style=\"color: #008000; text-decoration-color: #008000\">────────────────────────────────────────────────── </span>Validate SBML<span style=\"color: #008000; text-decoration-color: #008000\"> ──────────────────────────────────────────────────</span>\n",
       "</pre>\n"
      ],
      "text/plain": [
       "\u001b[32m────────────────────────────────────────────────── \u001b[0mValidate SBML\u001b[32m ──────────────────────────────────────────────────\u001b[0m\n"
      ]
     },
     "metadata": {},
     "output_type": "display_data"
    },
    {
     "data": {
      "text/html": [
       "<pre style=\"white-space:pre;overflow-x:auto;line-height:normal;font-family:Menlo,'DejaVu Sans Mono',consolas,'Courier New',monospace\"><span style=\"color: #0000ff; text-decoration-color: #0000ff; text-decoration: underline\">file:///tmp/tmp8gk6q08t/example_model.xml</span>\n",
       "<span style=\"color: #008000; text-decoration-color: #008000\">valid                    : TRUE</span>\n",
       "<span style=\"color: #008000; text-decoration-color: #008000\">check time </span><span style=\"color: #008000; text-decoration-color: #008000; font-weight: bold\">(</span><span style=\"color: #008000; text-decoration-color: #008000\">s</span><span style=\"color: #008000; text-decoration-color: #008000; font-weight: bold\">)</span><span style=\"color: #008000; text-decoration-color: #008000\">           : </span><span style=\"color: #008080; text-decoration-color: #008080; font-weight: bold\">0.001</span>\n",
       "</pre>\n"
      ],
      "text/plain": [
       "\u001b[4;94mfile:///tmp/tmp8gk6q08t/example_model.xml\u001b[0m\n",
       "\u001b[32mvalid                    : TRUE\u001b[0m\n",
       "\u001b[32mcheck time \u001b[0m\u001b[1;32m(\u001b[0m\u001b[32ms\u001b[0m\u001b[1;32m)\u001b[0m\u001b[32m           : \u001b[0m\u001b[1;36m0.001\u001b[0m\n"
      ]
     },
     "metadata": {},
     "output_type": "display_data"
    },
    {
     "data": {
      "text/html": [
       "<pre style=\"white-space:pre;overflow-x:auto;line-height:normal;font-family:Menlo,'DejaVu Sans Mono',consolas,'Courier New',monospace\"><span style=\"color: #008000; text-decoration-color: #008000\">───────────────────────────────────────────────────────────────────────────────────────────────────────────────────</span>\n",
       "</pre>\n"
      ],
      "text/plain": [
       "\u001b[32m───────────────────────────────────────────────────────────────────────────────────────────────────────────────────\u001b[0m\n"
      ]
     },
     "metadata": {},
     "output_type": "display_data"
    },
    {
     "data": {
      "text/html": [
       "<pre style=\"white-space:pre;overflow-x:auto;line-height:normal;font-family:Menlo,'DejaVu Sans Mono',consolas,'Courier New',monospace\">\n",
       "</pre>\n"
      ],
      "text/plain": [
       "\n"
      ]
     },
     "metadata": {},
     "output_type": "display_data"
    },
    {
     "data": {
      "text/html": [
       "<pre style=\"white-space:pre;overflow-x:auto;line-height:normal;font-family:Menlo,'DejaVu Sans Mono',consolas,'Courier New',monospace\"><span style=\"color: #c0c0c0; text-decoration-color: #c0c0c0\">───────────────────────────────────────────────────────────────────────────────────────────────────────────────────</span>\n",
       "</pre>\n"
      ],
      "text/plain": [
       "\u001b[37m───────────────────────────────────────────────────────────────────────────────────────────────────────────────────\u001b[0m\n"
      ]
     },
     "metadata": {},
     "output_type": "display_data"
    },
    {
     "data": {
      "text/html": [
       "<pre style=\"white-space:pre;overflow-x:auto;line-height:normal;font-family:Menlo,'DejaVu Sans Mono',consolas,'Courier New',monospace\"><span style=\"color: #c0c0c0; text-decoration-color: #c0c0c0\">───────────────────────────────────────────────────────────────────────────────────────────────────────────────────</span>\n",
       "</pre>\n"
      ],
      "text/plain": [
       "\u001b[37m───────────────────────────────────────────────────────────────────────────────────────────────────────────────────\u001b[0m\n"
      ]
     },
     "metadata": {},
     "output_type": "display_data"
    },
    {
     "name": "stdout",
     "output_type": "stream",
     "text": [
      "L2V1\n"
     ]
    },
    {
     "data": {
      "text/html": [
       "<pre style=\"white-space:pre;overflow-x:auto;line-height:normal;font-family:Menlo,'DejaVu Sans Mono',consolas,'Courier New',monospace\"><span style=\"color: #c0c0c0; text-decoration-color: #c0c0c0\">─────────────────────────────────────────────────── </span>Create SBML<span style=\"color: #c0c0c0; text-decoration-color: #c0c0c0\"> ───────────────────────────────────────────────────</span>\n",
       "</pre>\n"
      ],
      "text/plain": [
       "\u001b[37m─────────────────────────────────────────────────── \u001b[0mCreate SBML\u001b[37m ───────────────────────────────────────────────────\u001b[0m\n"
      ]
     },
     "metadata": {},
     "output_type": "display_data"
    },
    {
     "data": {
      "text/html": [
       "<pre style=\"white-space:pre;overflow-x:auto;line-height:normal;font-family:Menlo,'DejaVu Sans Mono',consolas,'Courier New',monospace\"><span style=\"color: #000080; text-decoration-color: #000080\">INFO    </span> Create SBML for model <span style=\"color: #008000; text-decoration-color: #008000\">'L2V2'</span>                                                               <a href=\"file:///home/mkoenig/git/sbmlutils/src/sbmlutils/factory.py\" target=\"_blank\"><span style=\"color: #7f7f7f; text-decoration-color: #7f7f7f\">factory.py</span></a><span style=\"color: #7f7f7f; text-decoration-color: #7f7f7f\">:</span><a href=\"file:///home/mkoenig/git/sbmlutils/src/sbmlutils/factory.py#3526\" target=\"_blank\"><span style=\"color: #7f7f7f; text-decoration-color: #7f7f7f\">3526</span></a>\n",
       "</pre>\n"
      ],
      "text/plain": [
       "\u001b[34mINFO    \u001b[0m Create SBML for model \u001b[32m'L2V2'\u001b[0m                                                               \u001b]8;id=433508;file:///home/mkoenig/git/sbmlutils/src/sbmlutils/factory.py\u001b\\\u001b[2mfactory.py\u001b[0m\u001b]8;;\u001b\\\u001b[2m:\u001b[0m\u001b]8;id=385526;file:///home/mkoenig/git/sbmlutils/src/sbmlutils/factory.py#3526\u001b\\\u001b[2m3526\u001b[0m\u001b]8;;\u001b\\\n"
      ]
     },
     "metadata": {},
     "output_type": "display_data"
    },
    {
     "data": {
      "text/html": [
       "<pre style=\"white-space:pre;overflow-x:auto;line-height:normal;font-family:Menlo,'DejaVu Sans Mono',consolas,'Courier New',monospace\"><span style=\"color: #800000; text-decoration-color: #800000\">WARNING </span> <span style=\"color: #008000; text-decoration-color: #008000\">'name'</span> should be set on <span style=\"color: #008000; text-decoration-color: #008000\">'Model(sid='</span>L2V2', <span style=\"color: #808000; text-decoration-color: #808000\">packages</span>=<span style=\"font-weight: bold\">[&lt;</span><span style=\"color: #ff00ff; text-decoration-color: #ff00ff; font-weight: bold\">Package.COMP_V1:</span><span style=\"color: #000000; text-decoration-color: #000000\"> </span><span style=\"color: #008000; text-decoration-color: #008000\">'comp-v1'</span><span style=\"font-weight: bold\">&gt;]</span>,         <a href=\"file:///home/mkoenig/git/sbmlutils/src/sbmlutils/factory.py\" target=\"_blank\"><span style=\"color: #7f7f7f; text-decoration-color: #7f7f7f\">factory.py</span></a><span style=\"color: #7f7f7f; text-decoration-color: #7f7f7f\">:</span><a href=\"file:///home/mkoenig/git/sbmlutils/src/sbmlutils/factory.py#441\" target=\"_blank\"><span style=\"color: #7f7f7f; text-decoration-color: #7f7f7f\">441</span></a>\n",
       "         <span style=\"color: #808000; text-decoration-color: #808000\">model_units</span>=<span style=\"font-weight: bold\">&lt;</span><span style=\"color: #ff00ff; text-decoration-color: #ff00ff; font-weight: bold\">sbmlutils.factory.ModelUnits</span><span style=\"color: #000000; text-decoration-color: #000000\"> object at </span><span style=\"color: #008080; text-decoration-color: #008080; font-weight: bold\">0x7fe940324cd0</span><span style=\"font-weight: bold\">&gt;</span>, <span style=\"color: #808000; text-decoration-color: #808000\">units</span>=<span style=\"font-weight: bold\">&lt;</span><span style=\"color: #ff00ff; text-decoration-color: #ff00ff; font-weight: bold\">class</span><span style=\"color: #000000; text-decoration-color: #000000\"> </span>          <span style=\"color: #7f7f7f; text-decoration-color: #7f7f7f\">              </span>\n",
       "         <span style=\"color: #008000; text-decoration-color: #008000\">'__main__.U'</span><span style=\"font-weight: bold\">&gt;</span>, <span style=\"color: #808000; text-decoration-color: #808000\">compartments</span>=<span style=\"font-weight: bold\">[</span>C = <span style=\"color: #008080; text-decoration-color: #008080; font-weight: bold\">1.0</span> <span style=\"font-weight: bold\">[</span><span style=\"color: #800080; text-decoration-color: #800080; font-style: italic\">None</span><span style=\"font-weight: bold\">]]</span>, <span style=\"color: #808000; text-decoration-color: #808000\">species</span>=<span style=\"font-weight: bold\">[&lt;</span><span style=\"color: #ff00ff; text-decoration-color: #ff00ff; font-weight: bold\">sbmlutils.factory.Species</span><span style=\"color: #000000; text-decoration-color: #000000\"> object at</span> <span style=\"color: #7f7f7f; text-decoration-color: #7f7f7f\">              </span>\n",
       "         <span style=\"color: #008080; text-decoration-color: #008080; font-weight: bold\">0x7fe940324dc0</span><span style=\"font-weight: bold\">&gt;]</span>, <span style=\"color: #808000; text-decoration-color: #808000\">parameters</span>=<span style=\"font-weight: bold\">[</span>k1 = <span style=\"color: #008080; text-decoration-color: #008080; font-weight: bold\">1.0</span> <span style=\"font-weight: bold\">[</span><span style=\"color: #800080; text-decoration-color: #800080; font-style: italic\">None</span><span style=\"font-weight: bold\">]]</span>, <span style=\"color: #808000; text-decoration-color: #808000\">reactions</span>=<span style=\"font-weight: bold\">[&lt;</span><span style=\"color: #ff00ff; text-decoration-color: #ff00ff; font-weight: bold\">sbmlutils.factory.Reaction</span><span style=\"color: #000000; text-decoration-color: #000000\"> </span>     <span style=\"color: #7f7f7f; text-decoration-color: #7f7f7f\">              </span>\n",
       "         <span style=\"color: #000000; text-decoration-color: #000000\">object at </span><span style=\"color: #008080; text-decoration-color: #008080; font-weight: bold\">0x7fe940324f40</span><span style=\"font-weight: bold\">&gt;]</span>, <span style=\"color: #808000; text-decoration-color: #808000\">_FrozenClass__isfrozen</span>=<span style=\"color: #00ff00; text-decoration-color: #00ff00; font-style: italic\">True</span><span style=\"font-weight: bold\">)</span>'                                   <span style=\"color: #7f7f7f; text-decoration-color: #7f7f7f\">              </span>\n",
       "</pre>\n"
      ],
      "text/plain": [
       "\u001b[31mWARNING \u001b[0m \u001b[32m'name'\u001b[0m should be set on \u001b[32m'Model\u001b[0m\u001b[32m(\u001b[0m\u001b[32msid\u001b[0m\u001b[32m='\u001b[0mL2V2', \u001b[33mpackages\u001b[0m=\u001b[1m[\u001b[0m\u001b[1m<\u001b[0m\u001b[1;95mPackage.COMP_V1:\u001b[0m\u001b[39m \u001b[0m\u001b[32m'comp-v1'\u001b[0m\u001b[1m>\u001b[0m\u001b[1m]\u001b[0m,         \u001b]8;id=150410;file:///home/mkoenig/git/sbmlutils/src/sbmlutils/factory.py\u001b\\\u001b[2mfactory.py\u001b[0m\u001b]8;;\u001b\\\u001b[2m:\u001b[0m\u001b]8;id=355805;file:///home/mkoenig/git/sbmlutils/src/sbmlutils/factory.py#441\u001b\\\u001b[2m441\u001b[0m\u001b]8;;\u001b\\\n",
       "         \u001b[33mmodel_units\u001b[0m=\u001b[1m<\u001b[0m\u001b[1;95msbmlutils.factory.ModelUnits\u001b[0m\u001b[39m object at \u001b[0m\u001b[1;36m0x7fe940324cd0\u001b[0m\u001b[1m>\u001b[0m, \u001b[33munits\u001b[0m=\u001b[1m<\u001b[0m\u001b[1;95mclass\u001b[0m\u001b[39m \u001b[0m          \u001b[2m              \u001b[0m\n",
       "         \u001b[32m'__main__.U'\u001b[0m\u001b[1m>\u001b[0m, \u001b[33mcompartments\u001b[0m=\u001b[1m[\u001b[0mC = \u001b[1;36m1.0\u001b[0m \u001b[1m[\u001b[0m\u001b[3;35mNone\u001b[0m\u001b[1m]\u001b[0m\u001b[1m]\u001b[0m, \u001b[33mspecies\u001b[0m=\u001b[1m[\u001b[0m\u001b[1m<\u001b[0m\u001b[1;95msbmlutils.factory.Species\u001b[0m\u001b[39m object at\u001b[0m \u001b[2m              \u001b[0m\n",
       "         \u001b[1;36m0x7fe940324dc0\u001b[0m\u001b[1m>\u001b[0m\u001b[1m]\u001b[0m, \u001b[33mparameters\u001b[0m=\u001b[1m[\u001b[0mk1 = \u001b[1;36m1.0\u001b[0m \u001b[1m[\u001b[0m\u001b[3;35mNone\u001b[0m\u001b[1m]\u001b[0m\u001b[1m]\u001b[0m, \u001b[33mreactions\u001b[0m=\u001b[1m[\u001b[0m\u001b[1m<\u001b[0m\u001b[1;95msbmlutils.factory.Reaction\u001b[0m\u001b[39m \u001b[0m     \u001b[2m              \u001b[0m\n",
       "         \u001b[39mobject at \u001b[0m\u001b[1;36m0x7fe940324f40\u001b[0m\u001b[1m>\u001b[0m\u001b[1m]\u001b[0m, \u001b[33m_FrozenClass__isfrozen\u001b[0m=\u001b[3;92mTrue\u001b[0m\u001b[1m)\u001b[0m'                                   \u001b[2m              \u001b[0m\n"
      ]
     },
     "metadata": {},
     "output_type": "display_data"
    },
    {
     "data": {
      "text/html": [
       "<pre style=\"white-space:pre;overflow-x:auto;line-height:normal;font-family:Menlo,'DejaVu Sans Mono',consolas,'Courier New',monospace\"><span style=\"color: #000080; text-decoration-color: #000080\">INFO    </span> <span style=\"color: #008000; text-decoration-color: #008000\">'length'</span> should be set in <span style=\"color: #008000; text-decoration-color: #008000\">'model_units'</span>.                                                    <a href=\"file:///home/mkoenig/git/sbmlutils/src/sbmlutils/factory.py\" target=\"_blank\"><span style=\"color: #7f7f7f; text-decoration-color: #7f7f7f\">factory.py</span></a><span style=\"color: #7f7f7f; text-decoration-color: #7f7f7f\">:</span><a href=\"file:///home/mkoenig/git/sbmlutils/src/sbmlutils/factory.py#266\" target=\"_blank\"><span style=\"color: #7f7f7f; text-decoration-color: #7f7f7f\">266</span></a>\n",
       "</pre>\n"
      ],
      "text/plain": [
       "\u001b[34mINFO    \u001b[0m \u001b[32m'length'\u001b[0m should be set in \u001b[32m'model_units'\u001b[0m.                                                    \u001b]8;id=465630;file:///home/mkoenig/git/sbmlutils/src/sbmlutils/factory.py\u001b\\\u001b[2mfactory.py\u001b[0m\u001b]8;;\u001b\\\u001b[2m:\u001b[0m\u001b]8;id=921295;file:///home/mkoenig/git/sbmlutils/src/sbmlutils/factory.py#266\u001b\\\u001b[2m266\u001b[0m\u001b]8;;\u001b\\\n"
      ]
     },
     "metadata": {},
     "output_type": "display_data"
    },
    {
     "data": {
      "text/html": [
       "<pre style=\"white-space:pre;overflow-x:auto;line-height:normal;font-family:Menlo,'DejaVu Sans Mono',consolas,'Courier New',monospace\"><span style=\"color: #000080; text-decoration-color: #000080\">INFO    </span> <span style=\"color: #008000; text-decoration-color: #008000\">'area'</span> should be set in <span style=\"color: #008000; text-decoration-color: #008000\">'model_units'</span>.                                                      <a href=\"file:///home/mkoenig/git/sbmlutils/src/sbmlutils/factory.py\" target=\"_blank\"><span style=\"color: #7f7f7f; text-decoration-color: #7f7f7f\">factory.py</span></a><span style=\"color: #7f7f7f; text-decoration-color: #7f7f7f\">:</span><a href=\"file:///home/mkoenig/git/sbmlutils/src/sbmlutils/factory.py#266\" target=\"_blank\"><span style=\"color: #7f7f7f; text-decoration-color: #7f7f7f\">266</span></a>\n",
       "</pre>\n"
      ],
      "text/plain": [
       "\u001b[34mINFO    \u001b[0m \u001b[32m'area'\u001b[0m should be set in \u001b[32m'model_units'\u001b[0m.                                                      \u001b]8;id=680357;file:///home/mkoenig/git/sbmlutils/src/sbmlutils/factory.py\u001b\\\u001b[2mfactory.py\u001b[0m\u001b]8;;\u001b\\\u001b[2m:\u001b[0m\u001b]8;id=781475;file:///home/mkoenig/git/sbmlutils/src/sbmlutils/factory.py#266\u001b\\\u001b[2m266\u001b[0m\u001b]8;;\u001b\\\n"
      ]
     },
     "metadata": {},
     "output_type": "display_data"
    },
    {
     "data": {
      "text/html": [
       "<pre style=\"white-space:pre;overflow-x:auto;line-height:normal;font-family:Menlo,'DejaVu Sans Mono',consolas,'Courier New',monospace\"><span style=\"color: #800000; text-decoration-color: #800000\">WARNING </span> <span style=\"color: #008000; text-decoration-color: #008000\">'name'</span> should be set on <span style=\"color: #008000; text-decoration-color: #008000\">'Parameter(k1)'</span>                                                     <a href=\"file:///home/mkoenig/git/sbmlutils/src/sbmlutils/factory.py\" target=\"_blank\"><span style=\"color: #7f7f7f; text-decoration-color: #7f7f7f\">factory.py</span></a><span style=\"color: #7f7f7f; text-decoration-color: #7f7f7f\">:</span><a href=\"file:///home/mkoenig/git/sbmlutils/src/sbmlutils/factory.py#441\" target=\"_blank\"><span style=\"color: #7f7f7f; text-decoration-color: #7f7f7f\">441</span></a>\n",
       "</pre>\n"
      ],
      "text/plain": [
       "\u001b[31mWARNING \u001b[0m \u001b[32m'name'\u001b[0m should be set on \u001b[32m'Parameter\u001b[0m\u001b[32m(\u001b[0m\u001b[32mk1\u001b[0m\u001b[32m)\u001b[0m\u001b[32m'\u001b[0m                                                     \u001b]8;id=635576;file:///home/mkoenig/git/sbmlutils/src/sbmlutils/factory.py\u001b\\\u001b[2mfactory.py\u001b[0m\u001b]8;;\u001b\\\u001b[2m:\u001b[0m\u001b]8;id=372528;file:///home/mkoenig/git/sbmlutils/src/sbmlutils/factory.py#441\u001b\\\u001b[2m441\u001b[0m\u001b]8;;\u001b\\\n"
      ]
     },
     "metadata": {},
     "output_type": "display_data"
    },
    {
     "data": {
      "text/html": [
       "<pre style=\"white-space:pre;overflow-x:auto;line-height:normal;font-family:Menlo,'DejaVu Sans Mono',consolas,'Courier New',monospace\"><span style=\"color: #800000; text-decoration-color: #800000\">WARNING </span> <span style=\"color: #008000; text-decoration-color: #008000\">'sboTerm'</span> should be set on <span style=\"color: #008000; text-decoration-color: #008000\">'Parameter(k1)'</span>                                                  <a href=\"file:///home/mkoenig/git/sbmlutils/src/sbmlutils/factory.py\" target=\"_blank\"><span style=\"color: #7f7f7f; text-decoration-color: #7f7f7f\">factory.py</span></a><span style=\"color: #7f7f7f; text-decoration-color: #7f7f7f\">:</span><a href=\"file:///home/mkoenig/git/sbmlutils/src/sbmlutils/factory.py#466\" target=\"_blank\"><span style=\"color: #7f7f7f; text-decoration-color: #7f7f7f\">466</span></a>\n",
       "</pre>\n"
      ],
      "text/plain": [
       "\u001b[31mWARNING \u001b[0m \u001b[32m'sboTerm'\u001b[0m should be set on \u001b[32m'Parameter\u001b[0m\u001b[32m(\u001b[0m\u001b[32mk1\u001b[0m\u001b[32m)\u001b[0m\u001b[32m'\u001b[0m                                                  \u001b]8;id=168787;file:///home/mkoenig/git/sbmlutils/src/sbmlutils/factory.py\u001b\\\u001b[2mfactory.py\u001b[0m\u001b]8;;\u001b\\\u001b[2m:\u001b[0m\u001b]8;id=714825;file:///home/mkoenig/git/sbmlutils/src/sbmlutils/factory.py#466\u001b\\\u001b[2m466\u001b[0m\u001b]8;;\u001b\\\n"
      ]
     },
     "metadata": {},
     "output_type": "display_data"
    },
    {
     "data": {
      "text/html": [
       "<pre style=\"white-space:pre;overflow-x:auto;line-height:normal;font-family:Menlo,'DejaVu Sans Mono',consolas,'Courier New',monospace\"><span style=\"color: #800000; text-decoration-color: #800000\">WARNING </span> <span style=\"color: #008000; text-decoration-color: #008000\">'name'</span> should be set on <span style=\"color: #008000; text-decoration-color: #008000\">'Compartment(C)'</span>                                                    <a href=\"file:///home/mkoenig/git/sbmlutils/src/sbmlutils/factory.py\" target=\"_blank\"><span style=\"color: #7f7f7f; text-decoration-color: #7f7f7f\">factory.py</span></a><span style=\"color: #7f7f7f; text-decoration-color: #7f7f7f\">:</span><a href=\"file:///home/mkoenig/git/sbmlutils/src/sbmlutils/factory.py#441\" target=\"_blank\"><span style=\"color: #7f7f7f; text-decoration-color: #7f7f7f\">441</span></a>\n",
       "</pre>\n"
      ],
      "text/plain": [
       "\u001b[31mWARNING \u001b[0m \u001b[32m'name'\u001b[0m should be set on \u001b[32m'Compartment\u001b[0m\u001b[32m(\u001b[0m\u001b[32mC\u001b[0m\u001b[32m)\u001b[0m\u001b[32m'\u001b[0m                                                    \u001b]8;id=168352;file:///home/mkoenig/git/sbmlutils/src/sbmlutils/factory.py\u001b\\\u001b[2mfactory.py\u001b[0m\u001b]8;;\u001b\\\u001b[2m:\u001b[0m\u001b]8;id=155862;file:///home/mkoenig/git/sbmlutils/src/sbmlutils/factory.py#441\u001b\\\u001b[2m441\u001b[0m\u001b]8;;\u001b\\\n"
      ]
     },
     "metadata": {},
     "output_type": "display_data"
    },
    {
     "data": {
      "text/html": [
       "<pre style=\"white-space:pre;overflow-x:auto;line-height:normal;font-family:Menlo,'DejaVu Sans Mono',consolas,'Courier New',monospace\"><span style=\"color: #800000; text-decoration-color: #800000\">WARNING </span> <span style=\"color: #008000; text-decoration-color: #008000\">'sboTerm'</span> should be set on <span style=\"color: #008000; text-decoration-color: #008000\">'Compartment(C)'</span>                                                 <a href=\"file:///home/mkoenig/git/sbmlutils/src/sbmlutils/factory.py\" target=\"_blank\"><span style=\"color: #7f7f7f; text-decoration-color: #7f7f7f\">factory.py</span></a><span style=\"color: #7f7f7f; text-decoration-color: #7f7f7f\">:</span><a href=\"file:///home/mkoenig/git/sbmlutils/src/sbmlutils/factory.py#466\" target=\"_blank\"><span style=\"color: #7f7f7f; text-decoration-color: #7f7f7f\">466</span></a>\n",
       "</pre>\n"
      ],
      "text/plain": [
       "\u001b[31mWARNING \u001b[0m \u001b[32m'sboTerm'\u001b[0m should be set on \u001b[32m'Compartment\u001b[0m\u001b[32m(\u001b[0m\u001b[32mC\u001b[0m\u001b[32m)\u001b[0m\u001b[32m'\u001b[0m                                                 \u001b]8;id=955147;file:///home/mkoenig/git/sbmlutils/src/sbmlutils/factory.py\u001b\\\u001b[2mfactory.py\u001b[0m\u001b]8;;\u001b\\\u001b[2m:\u001b[0m\u001b]8;id=754228;file:///home/mkoenig/git/sbmlutils/src/sbmlutils/factory.py#466\u001b\\\u001b[2m466\u001b[0m\u001b]8;;\u001b\\\n"
      ]
     },
     "metadata": {},
     "output_type": "display_data"
    },
    {
     "data": {
      "text/html": [
       "<pre style=\"white-space:pre;overflow-x:auto;line-height:normal;font-family:Menlo,'DejaVu Sans Mono',consolas,'Courier New',monospace\"><span style=\"color: #800000; text-decoration-color: #800000\">WARNING </span> <span style=\"color: #008000; text-decoration-color: #008000\">'name'</span> should be set on <span style=\"color: #008000; text-decoration-color: #008000\">'Species(S1)'</span>                                                       <a href=\"file:///home/mkoenig/git/sbmlutils/src/sbmlutils/factory.py\" target=\"_blank\"><span style=\"color: #7f7f7f; text-decoration-color: #7f7f7f\">factory.py</span></a><span style=\"color: #7f7f7f; text-decoration-color: #7f7f7f\">:</span><a href=\"file:///home/mkoenig/git/sbmlutils/src/sbmlutils/factory.py#441\" target=\"_blank\"><span style=\"color: #7f7f7f; text-decoration-color: #7f7f7f\">441</span></a>\n",
       "</pre>\n"
      ],
      "text/plain": [
       "\u001b[31mWARNING \u001b[0m \u001b[32m'name'\u001b[0m should be set on \u001b[32m'Species\u001b[0m\u001b[32m(\u001b[0m\u001b[32mS1\u001b[0m\u001b[32m)\u001b[0m\u001b[32m'\u001b[0m                                                       \u001b]8;id=507873;file:///home/mkoenig/git/sbmlutils/src/sbmlutils/factory.py\u001b\\\u001b[2mfactory.py\u001b[0m\u001b]8;;\u001b\\\u001b[2m:\u001b[0m\u001b]8;id=582592;file:///home/mkoenig/git/sbmlutils/src/sbmlutils/factory.py#441\u001b\\\u001b[2m441\u001b[0m\u001b]8;;\u001b\\\n"
      ]
     },
     "metadata": {},
     "output_type": "display_data"
    },
    {
     "data": {
      "text/html": [
       "<pre style=\"white-space:pre;overflow-x:auto;line-height:normal;font-family:Menlo,'DejaVu Sans Mono',consolas,'Courier New',monospace\"><span style=\"color: #800000; text-decoration-color: #800000\">WARNING </span> <span style=\"color: #008000; text-decoration-color: #008000\">'sboTerm'</span> should be set on <span style=\"color: #008000; text-decoration-color: #008000\">'Species(S1)'</span>                                                    <a href=\"file:///home/mkoenig/git/sbmlutils/src/sbmlutils/factory.py\" target=\"_blank\"><span style=\"color: #7f7f7f; text-decoration-color: #7f7f7f\">factory.py</span></a><span style=\"color: #7f7f7f; text-decoration-color: #7f7f7f\">:</span><a href=\"file:///home/mkoenig/git/sbmlutils/src/sbmlutils/factory.py#466\" target=\"_blank\"><span style=\"color: #7f7f7f; text-decoration-color: #7f7f7f\">466</span></a>\n",
       "</pre>\n"
      ],
      "text/plain": [
       "\u001b[31mWARNING \u001b[0m \u001b[32m'sboTerm'\u001b[0m should be set on \u001b[32m'Species\u001b[0m\u001b[32m(\u001b[0m\u001b[32mS1\u001b[0m\u001b[32m)\u001b[0m\u001b[32m'\u001b[0m                                                    \u001b]8;id=655888;file:///home/mkoenig/git/sbmlutils/src/sbmlutils/factory.py\u001b\\\u001b[2mfactory.py\u001b[0m\u001b]8;;\u001b\\\u001b[2m:\u001b[0m\u001b]8;id=102950;file:///home/mkoenig/git/sbmlutils/src/sbmlutils/factory.py#466\u001b\\\u001b[2m466\u001b[0m\u001b]8;;\u001b\\\n"
      ]
     },
     "metadata": {},
     "output_type": "display_data"
    },
    {
     "data": {
      "text/html": [
       "<pre style=\"white-space:pre;overflow-x:auto;line-height:normal;font-family:Menlo,'DejaVu Sans Mono',consolas,'Courier New',monospace\"><span style=\"color: #800000; text-decoration-color: #800000\">WARNING </span> <span style=\"color: #008000; text-decoration-color: #008000\">'name'</span> should be set on <span style=\"color: #008000; text-decoration-color: #008000\">'Reaction(R1)'</span>                                                      <a href=\"file:///home/mkoenig/git/sbmlutils/src/sbmlutils/factory.py\" target=\"_blank\"><span style=\"color: #7f7f7f; text-decoration-color: #7f7f7f\">factory.py</span></a><span style=\"color: #7f7f7f; text-decoration-color: #7f7f7f\">:</span><a href=\"file:///home/mkoenig/git/sbmlutils/src/sbmlutils/factory.py#441\" target=\"_blank\"><span style=\"color: #7f7f7f; text-decoration-color: #7f7f7f\">441</span></a>\n",
       "</pre>\n"
      ],
      "text/plain": [
       "\u001b[31mWARNING \u001b[0m \u001b[32m'name'\u001b[0m should be set on \u001b[32m'Reaction\u001b[0m\u001b[32m(\u001b[0m\u001b[32mR1\u001b[0m\u001b[32m)\u001b[0m\u001b[32m'\u001b[0m                                                      \u001b]8;id=924232;file:///home/mkoenig/git/sbmlutils/src/sbmlutils/factory.py\u001b\\\u001b[2mfactory.py\u001b[0m\u001b]8;;\u001b\\\u001b[2m:\u001b[0m\u001b]8;id=374214;file:///home/mkoenig/git/sbmlutils/src/sbmlutils/factory.py#441\u001b\\\u001b[2m441\u001b[0m\u001b]8;;\u001b\\\n"
      ]
     },
     "metadata": {},
     "output_type": "display_data"
    },
    {
     "data": {
      "text/html": [
       "<pre style=\"white-space:pre;overflow-x:auto;line-height:normal;font-family:Menlo,'DejaVu Sans Mono',consolas,'Courier New',monospace\"><span style=\"color: #800000; text-decoration-color: #800000\">WARNING </span> <span style=\"color: #008000; text-decoration-color: #008000\">'sboTerm'</span> should be set on <span style=\"color: #008000; text-decoration-color: #008000\">'Reaction(R1)'</span>                                                   <a href=\"file:///home/mkoenig/git/sbmlutils/src/sbmlutils/factory.py\" target=\"_blank\"><span style=\"color: #7f7f7f; text-decoration-color: #7f7f7f\">factory.py</span></a><span style=\"color: #7f7f7f; text-decoration-color: #7f7f7f\">:</span><a href=\"file:///home/mkoenig/git/sbmlutils/src/sbmlutils/factory.py#466\" target=\"_blank\"><span style=\"color: #7f7f7f; text-decoration-color: #7f7f7f\">466</span></a>\n",
       "</pre>\n"
      ],
      "text/plain": [
       "\u001b[31mWARNING \u001b[0m \u001b[32m'sboTerm'\u001b[0m should be set on \u001b[32m'Reaction\u001b[0m\u001b[32m(\u001b[0m\u001b[32mR1\u001b[0m\u001b[32m)\u001b[0m\u001b[32m'\u001b[0m                                                   \u001b]8;id=798508;file:///home/mkoenig/git/sbmlutils/src/sbmlutils/factory.py\u001b\\\u001b[2mfactory.py\u001b[0m\u001b]8;;\u001b\\\u001b[2m:\u001b[0m\u001b]8;id=953445;file:///home/mkoenig/git/sbmlutils/src/sbmlutils/factory.py#466\u001b\\\u001b[2m466\u001b[0m\u001b]8;;\u001b\\\n"
      ]
     },
     "metadata": {},
     "output_type": "display_data"
    },
    {
     "data": {
      "text/html": [
       "<pre style=\"white-space:pre;overflow-x:auto;line-height:normal;font-family:Menlo,'DejaVu Sans Mono',consolas,'Courier New',monospace\">\n",
       "</pre>\n"
      ],
      "text/plain": [
       "\n"
      ]
     },
     "metadata": {},
     "output_type": "display_data"
    },
    {
     "data": {
      "text/html": [
       "<pre style=\"white-space:pre;overflow-x:auto;line-height:normal;font-family:Menlo,'DejaVu Sans Mono',consolas,'Courier New',monospace\"><span style=\"color: #008000; text-decoration-color: #008000\">────────────────────────────────────────────────── </span>Validate SBML<span style=\"color: #008000; text-decoration-color: #008000\"> ──────────────────────────────────────────────────</span>\n",
       "</pre>\n"
      ],
      "text/plain": [
       "\u001b[32m────────────────────────────────────────────────── \u001b[0mValidate SBML\u001b[32m ──────────────────────────────────────────────────\u001b[0m\n"
      ]
     },
     "metadata": {},
     "output_type": "display_data"
    },
    {
     "data": {
      "text/html": [
       "<pre style=\"white-space:pre;overflow-x:auto;line-height:normal;font-family:Menlo,'DejaVu Sans Mono',consolas,'Courier New',monospace\"><span style=\"color: #0000ff; text-decoration-color: #0000ff; text-decoration: underline\">file:///tmp/tmp8gk6q08t/example_model.xml</span>\n",
       "<span style=\"color: #008000; text-decoration-color: #008000\">valid                    : TRUE</span>\n",
       "<span style=\"color: #008000; text-decoration-color: #008000\">check time </span><span style=\"color: #008000; text-decoration-color: #008000; font-weight: bold\">(</span><span style=\"color: #008000; text-decoration-color: #008000\">s</span><span style=\"color: #008000; text-decoration-color: #008000; font-weight: bold\">)</span><span style=\"color: #008000; text-decoration-color: #008000\">           : </span><span style=\"color: #008080; text-decoration-color: #008080; font-weight: bold\">0.001</span>\n",
       "</pre>\n"
      ],
      "text/plain": [
       "\u001b[4;94mfile:///tmp/tmp8gk6q08t/example_model.xml\u001b[0m\n",
       "\u001b[32mvalid                    : TRUE\u001b[0m\n",
       "\u001b[32mcheck time \u001b[0m\u001b[1;32m(\u001b[0m\u001b[32ms\u001b[0m\u001b[1;32m)\u001b[0m\u001b[32m           : \u001b[0m\u001b[1;36m0.001\u001b[0m\n"
      ]
     },
     "metadata": {},
     "output_type": "display_data"
    },
    {
     "data": {
      "text/html": [
       "<pre style=\"white-space:pre;overflow-x:auto;line-height:normal;font-family:Menlo,'DejaVu Sans Mono',consolas,'Courier New',monospace\"><span style=\"color: #008000; text-decoration-color: #008000\">───────────────────────────────────────────────────────────────────────────────────────────────────────────────────</span>\n",
       "</pre>\n"
      ],
      "text/plain": [
       "\u001b[32m───────────────────────────────────────────────────────────────────────────────────────────────────────────────────\u001b[0m\n"
      ]
     },
     "metadata": {},
     "output_type": "display_data"
    },
    {
     "data": {
      "text/html": [
       "<pre style=\"white-space:pre;overflow-x:auto;line-height:normal;font-family:Menlo,'DejaVu Sans Mono',consolas,'Courier New',monospace\">\n",
       "</pre>\n"
      ],
      "text/plain": [
       "\n"
      ]
     },
     "metadata": {},
     "output_type": "display_data"
    },
    {
     "data": {
      "text/html": [
       "<pre style=\"white-space:pre;overflow-x:auto;line-height:normal;font-family:Menlo,'DejaVu Sans Mono',consolas,'Courier New',monospace\"><span style=\"color: #c0c0c0; text-decoration-color: #c0c0c0\">───────────────────────────────────────────────────────────────────────────────────────────────────────────────────</span>\n",
       "</pre>\n"
      ],
      "text/plain": [
       "\u001b[37m───────────────────────────────────────────────────────────────────────────────────────────────────────────────────\u001b[0m\n"
      ]
     },
     "metadata": {},
     "output_type": "display_data"
    },
    {
     "data": {
      "text/html": [
       "<pre style=\"white-space:pre;overflow-x:auto;line-height:normal;font-family:Menlo,'DejaVu Sans Mono',consolas,'Courier New',monospace\"><span style=\"color: #c0c0c0; text-decoration-color: #c0c0c0\">───────────────────────────────────────────────────────────────────────────────────────────────────────────────────</span>\n",
       "</pre>\n"
      ],
      "text/plain": [
       "\u001b[37m───────────────────────────────────────────────────────────────────────────────────────────────────────────────────\u001b[0m\n"
      ]
     },
     "metadata": {},
     "output_type": "display_data"
    },
    {
     "name": "stdout",
     "output_type": "stream",
     "text": [
      "L2V2\n"
     ]
    },
    {
     "data": {
      "text/html": [
       "<pre style=\"white-space:pre;overflow-x:auto;line-height:normal;font-family:Menlo,'DejaVu Sans Mono',consolas,'Courier New',monospace\"><span style=\"color: #c0c0c0; text-decoration-color: #c0c0c0\">─────────────────────────────────────────────────── </span>Create SBML<span style=\"color: #c0c0c0; text-decoration-color: #c0c0c0\"> ───────────────────────────────────────────────────</span>\n",
       "</pre>\n"
      ],
      "text/plain": [
       "\u001b[37m─────────────────────────────────────────────────── \u001b[0mCreate SBML\u001b[37m ───────────────────────────────────────────────────\u001b[0m\n"
      ]
     },
     "metadata": {},
     "output_type": "display_data"
    },
    {
     "data": {
      "text/html": [
       "<pre style=\"white-space:pre;overflow-x:auto;line-height:normal;font-family:Menlo,'DejaVu Sans Mono',consolas,'Courier New',monospace\"><span style=\"color: #000080; text-decoration-color: #000080\">INFO    </span> Create SBML for model <span style=\"color: #008000; text-decoration-color: #008000\">'L2V3'</span>                                                               <a href=\"file:///home/mkoenig/git/sbmlutils/src/sbmlutils/factory.py\" target=\"_blank\"><span style=\"color: #7f7f7f; text-decoration-color: #7f7f7f\">factory.py</span></a><span style=\"color: #7f7f7f; text-decoration-color: #7f7f7f\">:</span><a href=\"file:///home/mkoenig/git/sbmlutils/src/sbmlutils/factory.py#3526\" target=\"_blank\"><span style=\"color: #7f7f7f; text-decoration-color: #7f7f7f\">3526</span></a>\n",
       "</pre>\n"
      ],
      "text/plain": [
       "\u001b[34mINFO    \u001b[0m Create SBML for model \u001b[32m'L2V3'\u001b[0m                                                               \u001b]8;id=955364;file:///home/mkoenig/git/sbmlutils/src/sbmlutils/factory.py\u001b\\\u001b[2mfactory.py\u001b[0m\u001b]8;;\u001b\\\u001b[2m:\u001b[0m\u001b]8;id=266033;file:///home/mkoenig/git/sbmlutils/src/sbmlutils/factory.py#3526\u001b\\\u001b[2m3526\u001b[0m\u001b]8;;\u001b\\\n"
      ]
     },
     "metadata": {},
     "output_type": "display_data"
    },
    {
     "data": {
      "text/html": [
       "<pre style=\"white-space:pre;overflow-x:auto;line-height:normal;font-family:Menlo,'DejaVu Sans Mono',consolas,'Courier New',monospace\"><span style=\"color: #800000; text-decoration-color: #800000\">WARNING </span> <span style=\"color: #008000; text-decoration-color: #008000\">'name'</span> should be set on <span style=\"color: #008000; text-decoration-color: #008000\">'Model(sid='</span>L2V3', <span style=\"color: #808000; text-decoration-color: #808000\">packages</span>=<span style=\"font-weight: bold\">[&lt;</span><span style=\"color: #ff00ff; text-decoration-color: #ff00ff; font-weight: bold\">Package.COMP_V1:</span><span style=\"color: #000000; text-decoration-color: #000000\"> </span><span style=\"color: #008000; text-decoration-color: #008000\">'comp-v1'</span><span style=\"font-weight: bold\">&gt;]</span>,         <a href=\"file:///home/mkoenig/git/sbmlutils/src/sbmlutils/factory.py\" target=\"_blank\"><span style=\"color: #7f7f7f; text-decoration-color: #7f7f7f\">factory.py</span></a><span style=\"color: #7f7f7f; text-decoration-color: #7f7f7f\">:</span><a href=\"file:///home/mkoenig/git/sbmlutils/src/sbmlutils/factory.py#441\" target=\"_blank\"><span style=\"color: #7f7f7f; text-decoration-color: #7f7f7f\">441</span></a>\n",
       "         <span style=\"color: #808000; text-decoration-color: #808000\">model_units</span>=<span style=\"font-weight: bold\">&lt;</span><span style=\"color: #ff00ff; text-decoration-color: #ff00ff; font-weight: bold\">sbmlutils.factory.ModelUnits</span><span style=\"color: #000000; text-decoration-color: #000000\"> object at </span><span style=\"color: #008080; text-decoration-color: #008080; font-weight: bold\">0x7fe940324cd0</span><span style=\"font-weight: bold\">&gt;</span>, <span style=\"color: #808000; text-decoration-color: #808000\">units</span>=<span style=\"font-weight: bold\">&lt;</span><span style=\"color: #ff00ff; text-decoration-color: #ff00ff; font-weight: bold\">class</span><span style=\"color: #000000; text-decoration-color: #000000\"> </span>          <span style=\"color: #7f7f7f; text-decoration-color: #7f7f7f\">              </span>\n",
       "         <span style=\"color: #008000; text-decoration-color: #008000\">'__main__.U'</span><span style=\"font-weight: bold\">&gt;</span>, <span style=\"color: #808000; text-decoration-color: #808000\">compartments</span>=<span style=\"font-weight: bold\">[</span>C = <span style=\"color: #008080; text-decoration-color: #008080; font-weight: bold\">1.0</span> <span style=\"font-weight: bold\">[</span><span style=\"color: #800080; text-decoration-color: #800080; font-style: italic\">None</span><span style=\"font-weight: bold\">]]</span>, <span style=\"color: #808000; text-decoration-color: #808000\">species</span>=<span style=\"font-weight: bold\">[&lt;</span><span style=\"color: #ff00ff; text-decoration-color: #ff00ff; font-weight: bold\">sbmlutils.factory.Species</span><span style=\"color: #000000; text-decoration-color: #000000\"> object at</span> <span style=\"color: #7f7f7f; text-decoration-color: #7f7f7f\">              </span>\n",
       "         <span style=\"color: #008080; text-decoration-color: #008080; font-weight: bold\">0x7fe940324dc0</span><span style=\"font-weight: bold\">&gt;]</span>, <span style=\"color: #808000; text-decoration-color: #808000\">parameters</span>=<span style=\"font-weight: bold\">[</span>k1 = <span style=\"color: #008080; text-decoration-color: #008080; font-weight: bold\">1.0</span> <span style=\"font-weight: bold\">[</span><span style=\"color: #800080; text-decoration-color: #800080; font-style: italic\">None</span><span style=\"font-weight: bold\">]]</span>, <span style=\"color: #808000; text-decoration-color: #808000\">reactions</span>=<span style=\"font-weight: bold\">[&lt;</span><span style=\"color: #ff00ff; text-decoration-color: #ff00ff; font-weight: bold\">sbmlutils.factory.Reaction</span><span style=\"color: #000000; text-decoration-color: #000000\"> </span>     <span style=\"color: #7f7f7f; text-decoration-color: #7f7f7f\">              </span>\n",
       "         <span style=\"color: #000000; text-decoration-color: #000000\">object at </span><span style=\"color: #008080; text-decoration-color: #008080; font-weight: bold\">0x7fe940324f40</span><span style=\"font-weight: bold\">&gt;]</span>, <span style=\"color: #808000; text-decoration-color: #808000\">_FrozenClass__isfrozen</span>=<span style=\"color: #00ff00; text-decoration-color: #00ff00; font-style: italic\">True</span><span style=\"font-weight: bold\">)</span>'                                   <span style=\"color: #7f7f7f; text-decoration-color: #7f7f7f\">              </span>\n",
       "</pre>\n"
      ],
      "text/plain": [
       "\u001b[31mWARNING \u001b[0m \u001b[32m'name'\u001b[0m should be set on \u001b[32m'Model\u001b[0m\u001b[32m(\u001b[0m\u001b[32msid\u001b[0m\u001b[32m='\u001b[0mL2V3', \u001b[33mpackages\u001b[0m=\u001b[1m[\u001b[0m\u001b[1m<\u001b[0m\u001b[1;95mPackage.COMP_V1:\u001b[0m\u001b[39m \u001b[0m\u001b[32m'comp-v1'\u001b[0m\u001b[1m>\u001b[0m\u001b[1m]\u001b[0m,         \u001b]8;id=68788;file:///home/mkoenig/git/sbmlutils/src/sbmlutils/factory.py\u001b\\\u001b[2mfactory.py\u001b[0m\u001b]8;;\u001b\\\u001b[2m:\u001b[0m\u001b]8;id=886328;file:///home/mkoenig/git/sbmlutils/src/sbmlutils/factory.py#441\u001b\\\u001b[2m441\u001b[0m\u001b]8;;\u001b\\\n",
       "         \u001b[33mmodel_units\u001b[0m=\u001b[1m<\u001b[0m\u001b[1;95msbmlutils.factory.ModelUnits\u001b[0m\u001b[39m object at \u001b[0m\u001b[1;36m0x7fe940324cd0\u001b[0m\u001b[1m>\u001b[0m, \u001b[33munits\u001b[0m=\u001b[1m<\u001b[0m\u001b[1;95mclass\u001b[0m\u001b[39m \u001b[0m          \u001b[2m              \u001b[0m\n",
       "         \u001b[32m'__main__.U'\u001b[0m\u001b[1m>\u001b[0m, \u001b[33mcompartments\u001b[0m=\u001b[1m[\u001b[0mC = \u001b[1;36m1.0\u001b[0m \u001b[1m[\u001b[0m\u001b[3;35mNone\u001b[0m\u001b[1m]\u001b[0m\u001b[1m]\u001b[0m, \u001b[33mspecies\u001b[0m=\u001b[1m[\u001b[0m\u001b[1m<\u001b[0m\u001b[1;95msbmlutils.factory.Species\u001b[0m\u001b[39m object at\u001b[0m \u001b[2m              \u001b[0m\n",
       "         \u001b[1;36m0x7fe940324dc0\u001b[0m\u001b[1m>\u001b[0m\u001b[1m]\u001b[0m, \u001b[33mparameters\u001b[0m=\u001b[1m[\u001b[0mk1 = \u001b[1;36m1.0\u001b[0m \u001b[1m[\u001b[0m\u001b[3;35mNone\u001b[0m\u001b[1m]\u001b[0m\u001b[1m]\u001b[0m, \u001b[33mreactions\u001b[0m=\u001b[1m[\u001b[0m\u001b[1m<\u001b[0m\u001b[1;95msbmlutils.factory.Reaction\u001b[0m\u001b[39m \u001b[0m     \u001b[2m              \u001b[0m\n",
       "         \u001b[39mobject at \u001b[0m\u001b[1;36m0x7fe940324f40\u001b[0m\u001b[1m>\u001b[0m\u001b[1m]\u001b[0m, \u001b[33m_FrozenClass__isfrozen\u001b[0m=\u001b[3;92mTrue\u001b[0m\u001b[1m)\u001b[0m'                                   \u001b[2m              \u001b[0m\n"
      ]
     },
     "metadata": {},
     "output_type": "display_data"
    },
    {
     "data": {
      "text/html": [
       "<pre style=\"white-space:pre;overflow-x:auto;line-height:normal;font-family:Menlo,'DejaVu Sans Mono',consolas,'Courier New',monospace\"><span style=\"color: #000080; text-decoration-color: #000080\">INFO    </span> <span style=\"color: #008000; text-decoration-color: #008000\">'length'</span> should be set in <span style=\"color: #008000; text-decoration-color: #008000\">'model_units'</span>.                                                    <a href=\"file:///home/mkoenig/git/sbmlutils/src/sbmlutils/factory.py\" target=\"_blank\"><span style=\"color: #7f7f7f; text-decoration-color: #7f7f7f\">factory.py</span></a><span style=\"color: #7f7f7f; text-decoration-color: #7f7f7f\">:</span><a href=\"file:///home/mkoenig/git/sbmlutils/src/sbmlutils/factory.py#266\" target=\"_blank\"><span style=\"color: #7f7f7f; text-decoration-color: #7f7f7f\">266</span></a>\n",
       "</pre>\n"
      ],
      "text/plain": [
       "\u001b[34mINFO    \u001b[0m \u001b[32m'length'\u001b[0m should be set in \u001b[32m'model_units'\u001b[0m.                                                    \u001b]8;id=146916;file:///home/mkoenig/git/sbmlutils/src/sbmlutils/factory.py\u001b\\\u001b[2mfactory.py\u001b[0m\u001b]8;;\u001b\\\u001b[2m:\u001b[0m\u001b]8;id=334822;file:///home/mkoenig/git/sbmlutils/src/sbmlutils/factory.py#266\u001b\\\u001b[2m266\u001b[0m\u001b]8;;\u001b\\\n"
      ]
     },
     "metadata": {},
     "output_type": "display_data"
    },
    {
     "data": {
      "text/html": [
       "<pre style=\"white-space:pre;overflow-x:auto;line-height:normal;font-family:Menlo,'DejaVu Sans Mono',consolas,'Courier New',monospace\"><span style=\"color: #000080; text-decoration-color: #000080\">INFO    </span> <span style=\"color: #008000; text-decoration-color: #008000\">'area'</span> should be set in <span style=\"color: #008000; text-decoration-color: #008000\">'model_units'</span>.                                                      <a href=\"file:///home/mkoenig/git/sbmlutils/src/sbmlutils/factory.py\" target=\"_blank\"><span style=\"color: #7f7f7f; text-decoration-color: #7f7f7f\">factory.py</span></a><span style=\"color: #7f7f7f; text-decoration-color: #7f7f7f\">:</span><a href=\"file:///home/mkoenig/git/sbmlutils/src/sbmlutils/factory.py#266\" target=\"_blank\"><span style=\"color: #7f7f7f; text-decoration-color: #7f7f7f\">266</span></a>\n",
       "</pre>\n"
      ],
      "text/plain": [
       "\u001b[34mINFO    \u001b[0m \u001b[32m'area'\u001b[0m should be set in \u001b[32m'model_units'\u001b[0m.                                                      \u001b]8;id=23264;file:///home/mkoenig/git/sbmlutils/src/sbmlutils/factory.py\u001b\\\u001b[2mfactory.py\u001b[0m\u001b]8;;\u001b\\\u001b[2m:\u001b[0m\u001b]8;id=268004;file:///home/mkoenig/git/sbmlutils/src/sbmlutils/factory.py#266\u001b\\\u001b[2m266\u001b[0m\u001b]8;;\u001b\\\n"
      ]
     },
     "metadata": {},
     "output_type": "display_data"
    },
    {
     "data": {
      "text/html": [
       "<pre style=\"white-space:pre;overflow-x:auto;line-height:normal;font-family:Menlo,'DejaVu Sans Mono',consolas,'Courier New',monospace\"><span style=\"color: #800000; text-decoration-color: #800000\">WARNING </span> <span style=\"color: #008000; text-decoration-color: #008000\">'name'</span> should be set on <span style=\"color: #008000; text-decoration-color: #008000\">'Parameter(k1)'</span>                                                     <a href=\"file:///home/mkoenig/git/sbmlutils/src/sbmlutils/factory.py\" target=\"_blank\"><span style=\"color: #7f7f7f; text-decoration-color: #7f7f7f\">factory.py</span></a><span style=\"color: #7f7f7f; text-decoration-color: #7f7f7f\">:</span><a href=\"file:///home/mkoenig/git/sbmlutils/src/sbmlutils/factory.py#441\" target=\"_blank\"><span style=\"color: #7f7f7f; text-decoration-color: #7f7f7f\">441</span></a>\n",
       "</pre>\n"
      ],
      "text/plain": [
       "\u001b[31mWARNING \u001b[0m \u001b[32m'name'\u001b[0m should be set on \u001b[32m'Parameter\u001b[0m\u001b[32m(\u001b[0m\u001b[32mk1\u001b[0m\u001b[32m)\u001b[0m\u001b[32m'\u001b[0m                                                     \u001b]8;id=15824;file:///home/mkoenig/git/sbmlutils/src/sbmlutils/factory.py\u001b\\\u001b[2mfactory.py\u001b[0m\u001b]8;;\u001b\\\u001b[2m:\u001b[0m\u001b]8;id=146573;file:///home/mkoenig/git/sbmlutils/src/sbmlutils/factory.py#441\u001b\\\u001b[2m441\u001b[0m\u001b]8;;\u001b\\\n"
      ]
     },
     "metadata": {},
     "output_type": "display_data"
    },
    {
     "data": {
      "text/html": [
       "<pre style=\"white-space:pre;overflow-x:auto;line-height:normal;font-family:Menlo,'DejaVu Sans Mono',consolas,'Courier New',monospace\"><span style=\"color: #800000; text-decoration-color: #800000\">WARNING </span> <span style=\"color: #008000; text-decoration-color: #008000\">'sboTerm'</span> should be set on <span style=\"color: #008000; text-decoration-color: #008000\">'Parameter(k1)'</span>                                                  <a href=\"file:///home/mkoenig/git/sbmlutils/src/sbmlutils/factory.py\" target=\"_blank\"><span style=\"color: #7f7f7f; text-decoration-color: #7f7f7f\">factory.py</span></a><span style=\"color: #7f7f7f; text-decoration-color: #7f7f7f\">:</span><a href=\"file:///home/mkoenig/git/sbmlutils/src/sbmlutils/factory.py#466\" target=\"_blank\"><span style=\"color: #7f7f7f; text-decoration-color: #7f7f7f\">466</span></a>\n",
       "</pre>\n"
      ],
      "text/plain": [
       "\u001b[31mWARNING \u001b[0m \u001b[32m'sboTerm'\u001b[0m should be set on \u001b[32m'Parameter\u001b[0m\u001b[32m(\u001b[0m\u001b[32mk1\u001b[0m\u001b[32m)\u001b[0m\u001b[32m'\u001b[0m                                                  \u001b]8;id=492376;file:///home/mkoenig/git/sbmlutils/src/sbmlutils/factory.py\u001b\\\u001b[2mfactory.py\u001b[0m\u001b]8;;\u001b\\\u001b[2m:\u001b[0m\u001b]8;id=714856;file:///home/mkoenig/git/sbmlutils/src/sbmlutils/factory.py#466\u001b\\\u001b[2m466\u001b[0m\u001b]8;;\u001b\\\n"
      ]
     },
     "metadata": {},
     "output_type": "display_data"
    },
    {
     "data": {
      "text/html": [
       "<pre style=\"white-space:pre;overflow-x:auto;line-height:normal;font-family:Menlo,'DejaVu Sans Mono',consolas,'Courier New',monospace\"><span style=\"color: #800000; text-decoration-color: #800000\">WARNING </span> <span style=\"color: #008000; text-decoration-color: #008000\">'name'</span> should be set on <span style=\"color: #008000; text-decoration-color: #008000\">'Compartment(C)'</span>                                                    <a href=\"file:///home/mkoenig/git/sbmlutils/src/sbmlutils/factory.py\" target=\"_blank\"><span style=\"color: #7f7f7f; text-decoration-color: #7f7f7f\">factory.py</span></a><span style=\"color: #7f7f7f; text-decoration-color: #7f7f7f\">:</span><a href=\"file:///home/mkoenig/git/sbmlutils/src/sbmlutils/factory.py#441\" target=\"_blank\"><span style=\"color: #7f7f7f; text-decoration-color: #7f7f7f\">441</span></a>\n",
       "</pre>\n"
      ],
      "text/plain": [
       "\u001b[31mWARNING \u001b[0m \u001b[32m'name'\u001b[0m should be set on \u001b[32m'Compartment\u001b[0m\u001b[32m(\u001b[0m\u001b[32mC\u001b[0m\u001b[32m)\u001b[0m\u001b[32m'\u001b[0m                                                    \u001b]8;id=983893;file:///home/mkoenig/git/sbmlutils/src/sbmlutils/factory.py\u001b\\\u001b[2mfactory.py\u001b[0m\u001b]8;;\u001b\\\u001b[2m:\u001b[0m\u001b]8;id=964660;file:///home/mkoenig/git/sbmlutils/src/sbmlutils/factory.py#441\u001b\\\u001b[2m441\u001b[0m\u001b]8;;\u001b\\\n"
      ]
     },
     "metadata": {},
     "output_type": "display_data"
    },
    {
     "data": {
      "text/html": [
       "<pre style=\"white-space:pre;overflow-x:auto;line-height:normal;font-family:Menlo,'DejaVu Sans Mono',consolas,'Courier New',monospace\"><span style=\"color: #800000; text-decoration-color: #800000\">WARNING </span> <span style=\"color: #008000; text-decoration-color: #008000\">'sboTerm'</span> should be set on <span style=\"color: #008000; text-decoration-color: #008000\">'Compartment(C)'</span>                                                 <a href=\"file:///home/mkoenig/git/sbmlutils/src/sbmlutils/factory.py\" target=\"_blank\"><span style=\"color: #7f7f7f; text-decoration-color: #7f7f7f\">factory.py</span></a><span style=\"color: #7f7f7f; text-decoration-color: #7f7f7f\">:</span><a href=\"file:///home/mkoenig/git/sbmlutils/src/sbmlutils/factory.py#466\" target=\"_blank\"><span style=\"color: #7f7f7f; text-decoration-color: #7f7f7f\">466</span></a>\n",
       "</pre>\n"
      ],
      "text/plain": [
       "\u001b[31mWARNING \u001b[0m \u001b[32m'sboTerm'\u001b[0m should be set on \u001b[32m'Compartment\u001b[0m\u001b[32m(\u001b[0m\u001b[32mC\u001b[0m\u001b[32m)\u001b[0m\u001b[32m'\u001b[0m                                                 \u001b]8;id=285143;file:///home/mkoenig/git/sbmlutils/src/sbmlutils/factory.py\u001b\\\u001b[2mfactory.py\u001b[0m\u001b]8;;\u001b\\\u001b[2m:\u001b[0m\u001b]8;id=961986;file:///home/mkoenig/git/sbmlutils/src/sbmlutils/factory.py#466\u001b\\\u001b[2m466\u001b[0m\u001b]8;;\u001b\\\n"
      ]
     },
     "metadata": {},
     "output_type": "display_data"
    },
    {
     "data": {
      "text/html": [
       "<pre style=\"white-space:pre;overflow-x:auto;line-height:normal;font-family:Menlo,'DejaVu Sans Mono',consolas,'Courier New',monospace\"><span style=\"color: #800000; text-decoration-color: #800000\">WARNING </span> <span style=\"color: #008000; text-decoration-color: #008000\">'name'</span> should be set on <span style=\"color: #008000; text-decoration-color: #008000\">'Species(S1)'</span>                                                       <a href=\"file:///home/mkoenig/git/sbmlutils/src/sbmlutils/factory.py\" target=\"_blank\"><span style=\"color: #7f7f7f; text-decoration-color: #7f7f7f\">factory.py</span></a><span style=\"color: #7f7f7f; text-decoration-color: #7f7f7f\">:</span><a href=\"file:///home/mkoenig/git/sbmlutils/src/sbmlutils/factory.py#441\" target=\"_blank\"><span style=\"color: #7f7f7f; text-decoration-color: #7f7f7f\">441</span></a>\n",
       "</pre>\n"
      ],
      "text/plain": [
       "\u001b[31mWARNING \u001b[0m \u001b[32m'name'\u001b[0m should be set on \u001b[32m'Species\u001b[0m\u001b[32m(\u001b[0m\u001b[32mS1\u001b[0m\u001b[32m)\u001b[0m\u001b[32m'\u001b[0m                                                       \u001b]8;id=132340;file:///home/mkoenig/git/sbmlutils/src/sbmlutils/factory.py\u001b\\\u001b[2mfactory.py\u001b[0m\u001b]8;;\u001b\\\u001b[2m:\u001b[0m\u001b]8;id=108229;file:///home/mkoenig/git/sbmlutils/src/sbmlutils/factory.py#441\u001b\\\u001b[2m441\u001b[0m\u001b]8;;\u001b\\\n"
      ]
     },
     "metadata": {},
     "output_type": "display_data"
    },
    {
     "data": {
      "text/html": [
       "<pre style=\"white-space:pre;overflow-x:auto;line-height:normal;font-family:Menlo,'DejaVu Sans Mono',consolas,'Courier New',monospace\"><span style=\"color: #800000; text-decoration-color: #800000\">WARNING </span> <span style=\"color: #008000; text-decoration-color: #008000\">'sboTerm'</span> should be set on <span style=\"color: #008000; text-decoration-color: #008000\">'Species(S1)'</span>                                                    <a href=\"file:///home/mkoenig/git/sbmlutils/src/sbmlutils/factory.py\" target=\"_blank\"><span style=\"color: #7f7f7f; text-decoration-color: #7f7f7f\">factory.py</span></a><span style=\"color: #7f7f7f; text-decoration-color: #7f7f7f\">:</span><a href=\"file:///home/mkoenig/git/sbmlutils/src/sbmlutils/factory.py#466\" target=\"_blank\"><span style=\"color: #7f7f7f; text-decoration-color: #7f7f7f\">466</span></a>\n",
       "</pre>\n"
      ],
      "text/plain": [
       "\u001b[31mWARNING \u001b[0m \u001b[32m'sboTerm'\u001b[0m should be set on \u001b[32m'Species\u001b[0m\u001b[32m(\u001b[0m\u001b[32mS1\u001b[0m\u001b[32m)\u001b[0m\u001b[32m'\u001b[0m                                                    \u001b]8;id=438024;file:///home/mkoenig/git/sbmlutils/src/sbmlutils/factory.py\u001b\\\u001b[2mfactory.py\u001b[0m\u001b]8;;\u001b\\\u001b[2m:\u001b[0m\u001b]8;id=201846;file:///home/mkoenig/git/sbmlutils/src/sbmlutils/factory.py#466\u001b\\\u001b[2m466\u001b[0m\u001b]8;;\u001b\\\n"
      ]
     },
     "metadata": {},
     "output_type": "display_data"
    },
    {
     "data": {
      "text/html": [
       "<pre style=\"white-space:pre;overflow-x:auto;line-height:normal;font-family:Menlo,'DejaVu Sans Mono',consolas,'Courier New',monospace\"><span style=\"color: #800000; text-decoration-color: #800000\">WARNING </span> <span style=\"color: #008000; text-decoration-color: #008000\">'name'</span> should be set on <span style=\"color: #008000; text-decoration-color: #008000\">'Reaction(R1)'</span>                                                      <a href=\"file:///home/mkoenig/git/sbmlutils/src/sbmlutils/factory.py\" target=\"_blank\"><span style=\"color: #7f7f7f; text-decoration-color: #7f7f7f\">factory.py</span></a><span style=\"color: #7f7f7f; text-decoration-color: #7f7f7f\">:</span><a href=\"file:///home/mkoenig/git/sbmlutils/src/sbmlutils/factory.py#441\" target=\"_blank\"><span style=\"color: #7f7f7f; text-decoration-color: #7f7f7f\">441</span></a>\n",
       "</pre>\n"
      ],
      "text/plain": [
       "\u001b[31mWARNING \u001b[0m \u001b[32m'name'\u001b[0m should be set on \u001b[32m'Reaction\u001b[0m\u001b[32m(\u001b[0m\u001b[32mR1\u001b[0m\u001b[32m)\u001b[0m\u001b[32m'\u001b[0m                                                      \u001b]8;id=738285;file:///home/mkoenig/git/sbmlutils/src/sbmlutils/factory.py\u001b\\\u001b[2mfactory.py\u001b[0m\u001b]8;;\u001b\\\u001b[2m:\u001b[0m\u001b]8;id=733966;file:///home/mkoenig/git/sbmlutils/src/sbmlutils/factory.py#441\u001b\\\u001b[2m441\u001b[0m\u001b]8;;\u001b\\\n"
      ]
     },
     "metadata": {},
     "output_type": "display_data"
    },
    {
     "data": {
      "text/html": [
       "<pre style=\"white-space:pre;overflow-x:auto;line-height:normal;font-family:Menlo,'DejaVu Sans Mono',consolas,'Courier New',monospace\"><span style=\"color: #800000; text-decoration-color: #800000\">WARNING </span> <span style=\"color: #008000; text-decoration-color: #008000\">'sboTerm'</span> should be set on <span style=\"color: #008000; text-decoration-color: #008000\">'Reaction(R1)'</span>                                                   <a href=\"file:///home/mkoenig/git/sbmlutils/src/sbmlutils/factory.py\" target=\"_blank\"><span style=\"color: #7f7f7f; text-decoration-color: #7f7f7f\">factory.py</span></a><span style=\"color: #7f7f7f; text-decoration-color: #7f7f7f\">:</span><a href=\"file:///home/mkoenig/git/sbmlutils/src/sbmlutils/factory.py#466\" target=\"_blank\"><span style=\"color: #7f7f7f; text-decoration-color: #7f7f7f\">466</span></a>\n",
       "</pre>\n"
      ],
      "text/plain": [
       "\u001b[31mWARNING \u001b[0m \u001b[32m'sboTerm'\u001b[0m should be set on \u001b[32m'Reaction\u001b[0m\u001b[32m(\u001b[0m\u001b[32mR1\u001b[0m\u001b[32m)\u001b[0m\u001b[32m'\u001b[0m                                                   \u001b]8;id=440703;file:///home/mkoenig/git/sbmlutils/src/sbmlutils/factory.py\u001b\\\u001b[2mfactory.py\u001b[0m\u001b]8;;\u001b\\\u001b[2m:\u001b[0m\u001b]8;id=254189;file:///home/mkoenig/git/sbmlutils/src/sbmlutils/factory.py#466\u001b\\\u001b[2m466\u001b[0m\u001b]8;;\u001b\\\n"
      ]
     },
     "metadata": {},
     "output_type": "display_data"
    },
    {
     "data": {
      "text/html": [
       "<pre style=\"white-space:pre;overflow-x:auto;line-height:normal;font-family:Menlo,'DejaVu Sans Mono',consolas,'Courier New',monospace\">\n",
       "</pre>\n"
      ],
      "text/plain": [
       "\n"
      ]
     },
     "metadata": {},
     "output_type": "display_data"
    },
    {
     "data": {
      "text/html": [
       "<pre style=\"white-space:pre;overflow-x:auto;line-height:normal;font-family:Menlo,'DejaVu Sans Mono',consolas,'Courier New',monospace\"><span style=\"color: #008000; text-decoration-color: #008000\">────────────────────────────────────────────────── </span>Validate SBML<span style=\"color: #008000; text-decoration-color: #008000\"> ──────────────────────────────────────────────────</span>\n",
       "</pre>\n"
      ],
      "text/plain": [
       "\u001b[32m────────────────────────────────────────────────── \u001b[0mValidate SBML\u001b[32m ──────────────────────────────────────────────────\u001b[0m\n"
      ]
     },
     "metadata": {},
     "output_type": "display_data"
    },
    {
     "data": {
      "text/html": [
       "<pre style=\"white-space:pre;overflow-x:auto;line-height:normal;font-family:Menlo,'DejaVu Sans Mono',consolas,'Courier New',monospace\"><span style=\"color: #0000ff; text-decoration-color: #0000ff; text-decoration: underline\">file:///tmp/tmp8gk6q08t/example_model.xml</span>\n",
       "<span style=\"color: #008000; text-decoration-color: #008000\">valid                    : TRUE</span>\n",
       "<span style=\"color: #008000; text-decoration-color: #008000\">check time </span><span style=\"color: #008000; text-decoration-color: #008000; font-weight: bold\">(</span><span style=\"color: #008000; text-decoration-color: #008000\">s</span><span style=\"color: #008000; text-decoration-color: #008000; font-weight: bold\">)</span><span style=\"color: #008000; text-decoration-color: #008000\">           : </span><span style=\"color: #008080; text-decoration-color: #008080; font-weight: bold\">0.001</span>\n",
       "</pre>\n"
      ],
      "text/plain": [
       "\u001b[4;94mfile:///tmp/tmp8gk6q08t/example_model.xml\u001b[0m\n",
       "\u001b[32mvalid                    : TRUE\u001b[0m\n",
       "\u001b[32mcheck time \u001b[0m\u001b[1;32m(\u001b[0m\u001b[32ms\u001b[0m\u001b[1;32m)\u001b[0m\u001b[32m           : \u001b[0m\u001b[1;36m0.001\u001b[0m\n"
      ]
     },
     "metadata": {},
     "output_type": "display_data"
    },
    {
     "data": {
      "text/html": [
       "<pre style=\"white-space:pre;overflow-x:auto;line-height:normal;font-family:Menlo,'DejaVu Sans Mono',consolas,'Courier New',monospace\"><span style=\"color: #008000; text-decoration-color: #008000\">───────────────────────────────────────────────────────────────────────────────────────────────────────────────────</span>\n",
       "</pre>\n"
      ],
      "text/plain": [
       "\u001b[32m───────────────────────────────────────────────────────────────────────────────────────────────────────────────────\u001b[0m\n"
      ]
     },
     "metadata": {},
     "output_type": "display_data"
    },
    {
     "data": {
      "text/html": [
       "<pre style=\"white-space:pre;overflow-x:auto;line-height:normal;font-family:Menlo,'DejaVu Sans Mono',consolas,'Courier New',monospace\">\n",
       "</pre>\n"
      ],
      "text/plain": [
       "\n"
      ]
     },
     "metadata": {},
     "output_type": "display_data"
    },
    {
     "data": {
      "text/html": [
       "<pre style=\"white-space:pre;overflow-x:auto;line-height:normal;font-family:Menlo,'DejaVu Sans Mono',consolas,'Courier New',monospace\"><span style=\"color: #c0c0c0; text-decoration-color: #c0c0c0\">───────────────────────────────────────────────────────────────────────────────────────────────────────────────────</span>\n",
       "</pre>\n"
      ],
      "text/plain": [
       "\u001b[37m───────────────────────────────────────────────────────────────────────────────────────────────────────────────────\u001b[0m\n"
      ]
     },
     "metadata": {},
     "output_type": "display_data"
    },
    {
     "data": {
      "text/html": [
       "<pre style=\"white-space:pre;overflow-x:auto;line-height:normal;font-family:Menlo,'DejaVu Sans Mono',consolas,'Courier New',monospace\"><span style=\"color: #c0c0c0; text-decoration-color: #c0c0c0\">───────────────────────────────────────────────────────────────────────────────────────────────────────────────────</span>\n",
       "</pre>\n"
      ],
      "text/plain": [
       "\u001b[37m───────────────────────────────────────────────────────────────────────────────────────────────────────────────────\u001b[0m\n"
      ]
     },
     "metadata": {},
     "output_type": "display_data"
    },
    {
     "name": "stdout",
     "output_type": "stream",
     "text": [
      "L2V3\n"
     ]
    },
    {
     "data": {
      "text/html": [
       "<pre style=\"white-space:pre;overflow-x:auto;line-height:normal;font-family:Menlo,'DejaVu Sans Mono',consolas,'Courier New',monospace\"><span style=\"color: #c0c0c0; text-decoration-color: #c0c0c0\">─────────────────────────────────────────────────── </span>Create SBML<span style=\"color: #c0c0c0; text-decoration-color: #c0c0c0\"> ───────────────────────────────────────────────────</span>\n",
       "</pre>\n"
      ],
      "text/plain": [
       "\u001b[37m─────────────────────────────────────────────────── \u001b[0mCreate SBML\u001b[37m ───────────────────────────────────────────────────\u001b[0m\n"
      ]
     },
     "metadata": {},
     "output_type": "display_data"
    },
    {
     "data": {
      "text/html": [
       "<pre style=\"white-space:pre;overflow-x:auto;line-height:normal;font-family:Menlo,'DejaVu Sans Mono',consolas,'Courier New',monospace\"><span style=\"color: #000080; text-decoration-color: #000080\">INFO    </span> Create SBML for model <span style=\"color: #008000; text-decoration-color: #008000\">'L2V4'</span>                                                               <a href=\"file:///home/mkoenig/git/sbmlutils/src/sbmlutils/factory.py\" target=\"_blank\"><span style=\"color: #7f7f7f; text-decoration-color: #7f7f7f\">factory.py</span></a><span style=\"color: #7f7f7f; text-decoration-color: #7f7f7f\">:</span><a href=\"file:///home/mkoenig/git/sbmlutils/src/sbmlutils/factory.py#3526\" target=\"_blank\"><span style=\"color: #7f7f7f; text-decoration-color: #7f7f7f\">3526</span></a>\n",
       "</pre>\n"
      ],
      "text/plain": [
       "\u001b[34mINFO    \u001b[0m Create SBML for model \u001b[32m'L2V4'\u001b[0m                                                               \u001b]8;id=311602;file:///home/mkoenig/git/sbmlutils/src/sbmlutils/factory.py\u001b\\\u001b[2mfactory.py\u001b[0m\u001b]8;;\u001b\\\u001b[2m:\u001b[0m\u001b]8;id=419789;file:///home/mkoenig/git/sbmlutils/src/sbmlutils/factory.py#3526\u001b\\\u001b[2m3526\u001b[0m\u001b]8;;\u001b\\\n"
      ]
     },
     "metadata": {},
     "output_type": "display_data"
    },
    {
     "data": {
      "text/html": [
       "<pre style=\"white-space:pre;overflow-x:auto;line-height:normal;font-family:Menlo,'DejaVu Sans Mono',consolas,'Courier New',monospace\"><span style=\"color: #800000; text-decoration-color: #800000\">WARNING </span> <span style=\"color: #008000; text-decoration-color: #008000\">'name'</span> should be set on <span style=\"color: #008000; text-decoration-color: #008000\">'Model(sid='</span>L2V4', <span style=\"color: #808000; text-decoration-color: #808000\">packages</span>=<span style=\"font-weight: bold\">[&lt;</span><span style=\"color: #ff00ff; text-decoration-color: #ff00ff; font-weight: bold\">Package.COMP_V1:</span><span style=\"color: #000000; text-decoration-color: #000000\"> </span><span style=\"color: #008000; text-decoration-color: #008000\">'comp-v1'</span><span style=\"font-weight: bold\">&gt;]</span>,         <a href=\"file:///home/mkoenig/git/sbmlutils/src/sbmlutils/factory.py\" target=\"_blank\"><span style=\"color: #7f7f7f; text-decoration-color: #7f7f7f\">factory.py</span></a><span style=\"color: #7f7f7f; text-decoration-color: #7f7f7f\">:</span><a href=\"file:///home/mkoenig/git/sbmlutils/src/sbmlutils/factory.py#441\" target=\"_blank\"><span style=\"color: #7f7f7f; text-decoration-color: #7f7f7f\">441</span></a>\n",
       "         <span style=\"color: #808000; text-decoration-color: #808000\">model_units</span>=<span style=\"font-weight: bold\">&lt;</span><span style=\"color: #ff00ff; text-decoration-color: #ff00ff; font-weight: bold\">sbmlutils.factory.ModelUnits</span><span style=\"color: #000000; text-decoration-color: #000000\"> object at </span><span style=\"color: #008080; text-decoration-color: #008080; font-weight: bold\">0x7fe940324cd0</span><span style=\"font-weight: bold\">&gt;</span>, <span style=\"color: #808000; text-decoration-color: #808000\">units</span>=<span style=\"font-weight: bold\">&lt;</span><span style=\"color: #ff00ff; text-decoration-color: #ff00ff; font-weight: bold\">class</span><span style=\"color: #000000; text-decoration-color: #000000\"> </span>          <span style=\"color: #7f7f7f; text-decoration-color: #7f7f7f\">              </span>\n",
       "         <span style=\"color: #008000; text-decoration-color: #008000\">'__main__.U'</span><span style=\"font-weight: bold\">&gt;</span>, <span style=\"color: #808000; text-decoration-color: #808000\">compartments</span>=<span style=\"font-weight: bold\">[</span>C = <span style=\"color: #008080; text-decoration-color: #008080; font-weight: bold\">1.0</span> <span style=\"font-weight: bold\">[</span><span style=\"color: #800080; text-decoration-color: #800080; font-style: italic\">None</span><span style=\"font-weight: bold\">]]</span>, <span style=\"color: #808000; text-decoration-color: #808000\">species</span>=<span style=\"font-weight: bold\">[&lt;</span><span style=\"color: #ff00ff; text-decoration-color: #ff00ff; font-weight: bold\">sbmlutils.factory.Species</span><span style=\"color: #000000; text-decoration-color: #000000\"> object at</span> <span style=\"color: #7f7f7f; text-decoration-color: #7f7f7f\">              </span>\n",
       "         <span style=\"color: #008080; text-decoration-color: #008080; font-weight: bold\">0x7fe940324dc0</span><span style=\"font-weight: bold\">&gt;]</span>, <span style=\"color: #808000; text-decoration-color: #808000\">parameters</span>=<span style=\"font-weight: bold\">[</span>k1 = <span style=\"color: #008080; text-decoration-color: #008080; font-weight: bold\">1.0</span> <span style=\"font-weight: bold\">[</span><span style=\"color: #800080; text-decoration-color: #800080; font-style: italic\">None</span><span style=\"font-weight: bold\">]]</span>, <span style=\"color: #808000; text-decoration-color: #808000\">reactions</span>=<span style=\"font-weight: bold\">[&lt;</span><span style=\"color: #ff00ff; text-decoration-color: #ff00ff; font-weight: bold\">sbmlutils.factory.Reaction</span><span style=\"color: #000000; text-decoration-color: #000000\"> </span>     <span style=\"color: #7f7f7f; text-decoration-color: #7f7f7f\">              </span>\n",
       "         <span style=\"color: #000000; text-decoration-color: #000000\">object at </span><span style=\"color: #008080; text-decoration-color: #008080; font-weight: bold\">0x7fe940324f40</span><span style=\"font-weight: bold\">&gt;]</span>, <span style=\"color: #808000; text-decoration-color: #808000\">_FrozenClass__isfrozen</span>=<span style=\"color: #00ff00; text-decoration-color: #00ff00; font-style: italic\">True</span><span style=\"font-weight: bold\">)</span>'                                   <span style=\"color: #7f7f7f; text-decoration-color: #7f7f7f\">              </span>\n",
       "</pre>\n"
      ],
      "text/plain": [
       "\u001b[31mWARNING \u001b[0m \u001b[32m'name'\u001b[0m should be set on \u001b[32m'Model\u001b[0m\u001b[32m(\u001b[0m\u001b[32msid\u001b[0m\u001b[32m='\u001b[0mL2V4', \u001b[33mpackages\u001b[0m=\u001b[1m[\u001b[0m\u001b[1m<\u001b[0m\u001b[1;95mPackage.COMP_V1:\u001b[0m\u001b[39m \u001b[0m\u001b[32m'comp-v1'\u001b[0m\u001b[1m>\u001b[0m\u001b[1m]\u001b[0m,         \u001b]8;id=909640;file:///home/mkoenig/git/sbmlutils/src/sbmlutils/factory.py\u001b\\\u001b[2mfactory.py\u001b[0m\u001b]8;;\u001b\\\u001b[2m:\u001b[0m\u001b]8;id=153410;file:///home/mkoenig/git/sbmlutils/src/sbmlutils/factory.py#441\u001b\\\u001b[2m441\u001b[0m\u001b]8;;\u001b\\\n",
       "         \u001b[33mmodel_units\u001b[0m=\u001b[1m<\u001b[0m\u001b[1;95msbmlutils.factory.ModelUnits\u001b[0m\u001b[39m object at \u001b[0m\u001b[1;36m0x7fe940324cd0\u001b[0m\u001b[1m>\u001b[0m, \u001b[33munits\u001b[0m=\u001b[1m<\u001b[0m\u001b[1;95mclass\u001b[0m\u001b[39m \u001b[0m          \u001b[2m              \u001b[0m\n",
       "         \u001b[32m'__main__.U'\u001b[0m\u001b[1m>\u001b[0m, \u001b[33mcompartments\u001b[0m=\u001b[1m[\u001b[0mC = \u001b[1;36m1.0\u001b[0m \u001b[1m[\u001b[0m\u001b[3;35mNone\u001b[0m\u001b[1m]\u001b[0m\u001b[1m]\u001b[0m, \u001b[33mspecies\u001b[0m=\u001b[1m[\u001b[0m\u001b[1m<\u001b[0m\u001b[1;95msbmlutils.factory.Species\u001b[0m\u001b[39m object at\u001b[0m \u001b[2m              \u001b[0m\n",
       "         \u001b[1;36m0x7fe940324dc0\u001b[0m\u001b[1m>\u001b[0m\u001b[1m]\u001b[0m, \u001b[33mparameters\u001b[0m=\u001b[1m[\u001b[0mk1 = \u001b[1;36m1.0\u001b[0m \u001b[1m[\u001b[0m\u001b[3;35mNone\u001b[0m\u001b[1m]\u001b[0m\u001b[1m]\u001b[0m, \u001b[33mreactions\u001b[0m=\u001b[1m[\u001b[0m\u001b[1m<\u001b[0m\u001b[1;95msbmlutils.factory.Reaction\u001b[0m\u001b[39m \u001b[0m     \u001b[2m              \u001b[0m\n",
       "         \u001b[39mobject at \u001b[0m\u001b[1;36m0x7fe940324f40\u001b[0m\u001b[1m>\u001b[0m\u001b[1m]\u001b[0m, \u001b[33m_FrozenClass__isfrozen\u001b[0m=\u001b[3;92mTrue\u001b[0m\u001b[1m)\u001b[0m'                                   \u001b[2m              \u001b[0m\n"
      ]
     },
     "metadata": {},
     "output_type": "display_data"
    },
    {
     "data": {
      "text/html": [
       "<pre style=\"white-space:pre;overflow-x:auto;line-height:normal;font-family:Menlo,'DejaVu Sans Mono',consolas,'Courier New',monospace\"><span style=\"color: #000080; text-decoration-color: #000080\">INFO    </span> <span style=\"color: #008000; text-decoration-color: #008000\">'length'</span> should be set in <span style=\"color: #008000; text-decoration-color: #008000\">'model_units'</span>.                                                    <a href=\"file:///home/mkoenig/git/sbmlutils/src/sbmlutils/factory.py\" target=\"_blank\"><span style=\"color: #7f7f7f; text-decoration-color: #7f7f7f\">factory.py</span></a><span style=\"color: #7f7f7f; text-decoration-color: #7f7f7f\">:</span><a href=\"file:///home/mkoenig/git/sbmlutils/src/sbmlutils/factory.py#266\" target=\"_blank\"><span style=\"color: #7f7f7f; text-decoration-color: #7f7f7f\">266</span></a>\n",
       "</pre>\n"
      ],
      "text/plain": [
       "\u001b[34mINFO    \u001b[0m \u001b[32m'length'\u001b[0m should be set in \u001b[32m'model_units'\u001b[0m.                                                    \u001b]8;id=801877;file:///home/mkoenig/git/sbmlutils/src/sbmlutils/factory.py\u001b\\\u001b[2mfactory.py\u001b[0m\u001b]8;;\u001b\\\u001b[2m:\u001b[0m\u001b]8;id=539463;file:///home/mkoenig/git/sbmlutils/src/sbmlutils/factory.py#266\u001b\\\u001b[2m266\u001b[0m\u001b]8;;\u001b\\\n"
      ]
     },
     "metadata": {},
     "output_type": "display_data"
    },
    {
     "data": {
      "text/html": [
       "<pre style=\"white-space:pre;overflow-x:auto;line-height:normal;font-family:Menlo,'DejaVu Sans Mono',consolas,'Courier New',monospace\"><span style=\"color: #000080; text-decoration-color: #000080\">INFO    </span> <span style=\"color: #008000; text-decoration-color: #008000\">'area'</span> should be set in <span style=\"color: #008000; text-decoration-color: #008000\">'model_units'</span>.                                                      <a href=\"file:///home/mkoenig/git/sbmlutils/src/sbmlutils/factory.py\" target=\"_blank\"><span style=\"color: #7f7f7f; text-decoration-color: #7f7f7f\">factory.py</span></a><span style=\"color: #7f7f7f; text-decoration-color: #7f7f7f\">:</span><a href=\"file:///home/mkoenig/git/sbmlutils/src/sbmlutils/factory.py#266\" target=\"_blank\"><span style=\"color: #7f7f7f; text-decoration-color: #7f7f7f\">266</span></a>\n",
       "</pre>\n"
      ],
      "text/plain": [
       "\u001b[34mINFO    \u001b[0m \u001b[32m'area'\u001b[0m should be set in \u001b[32m'model_units'\u001b[0m.                                                      \u001b]8;id=244222;file:///home/mkoenig/git/sbmlutils/src/sbmlutils/factory.py\u001b\\\u001b[2mfactory.py\u001b[0m\u001b]8;;\u001b\\\u001b[2m:\u001b[0m\u001b]8;id=431527;file:///home/mkoenig/git/sbmlutils/src/sbmlutils/factory.py#266\u001b\\\u001b[2m266\u001b[0m\u001b]8;;\u001b\\\n"
      ]
     },
     "metadata": {},
     "output_type": "display_data"
    },
    {
     "data": {
      "text/html": [
       "<pre style=\"white-space:pre;overflow-x:auto;line-height:normal;font-family:Menlo,'DejaVu Sans Mono',consolas,'Courier New',monospace\"><span style=\"color: #800000; text-decoration-color: #800000\">WARNING </span> <span style=\"color: #008000; text-decoration-color: #008000\">'name'</span> should be set on <span style=\"color: #008000; text-decoration-color: #008000\">'Parameter(k1)'</span>                                                     <a href=\"file:///home/mkoenig/git/sbmlutils/src/sbmlutils/factory.py\" target=\"_blank\"><span style=\"color: #7f7f7f; text-decoration-color: #7f7f7f\">factory.py</span></a><span style=\"color: #7f7f7f; text-decoration-color: #7f7f7f\">:</span><a href=\"file:///home/mkoenig/git/sbmlutils/src/sbmlutils/factory.py#441\" target=\"_blank\"><span style=\"color: #7f7f7f; text-decoration-color: #7f7f7f\">441</span></a>\n",
       "</pre>\n"
      ],
      "text/plain": [
       "\u001b[31mWARNING \u001b[0m \u001b[32m'name'\u001b[0m should be set on \u001b[32m'Parameter\u001b[0m\u001b[32m(\u001b[0m\u001b[32mk1\u001b[0m\u001b[32m)\u001b[0m\u001b[32m'\u001b[0m                                                     \u001b]8;id=802434;file:///home/mkoenig/git/sbmlutils/src/sbmlutils/factory.py\u001b\\\u001b[2mfactory.py\u001b[0m\u001b]8;;\u001b\\\u001b[2m:\u001b[0m\u001b]8;id=133492;file:///home/mkoenig/git/sbmlutils/src/sbmlutils/factory.py#441\u001b\\\u001b[2m441\u001b[0m\u001b]8;;\u001b\\\n"
      ]
     },
     "metadata": {},
     "output_type": "display_data"
    },
    {
     "data": {
      "text/html": [
       "<pre style=\"white-space:pre;overflow-x:auto;line-height:normal;font-family:Menlo,'DejaVu Sans Mono',consolas,'Courier New',monospace\"><span style=\"color: #800000; text-decoration-color: #800000\">WARNING </span> <span style=\"color: #008000; text-decoration-color: #008000\">'sboTerm'</span> should be set on <span style=\"color: #008000; text-decoration-color: #008000\">'Parameter(k1)'</span>                                                  <a href=\"file:///home/mkoenig/git/sbmlutils/src/sbmlutils/factory.py\" target=\"_blank\"><span style=\"color: #7f7f7f; text-decoration-color: #7f7f7f\">factory.py</span></a><span style=\"color: #7f7f7f; text-decoration-color: #7f7f7f\">:</span><a href=\"file:///home/mkoenig/git/sbmlutils/src/sbmlutils/factory.py#466\" target=\"_blank\"><span style=\"color: #7f7f7f; text-decoration-color: #7f7f7f\">466</span></a>\n",
       "</pre>\n"
      ],
      "text/plain": [
       "\u001b[31mWARNING \u001b[0m \u001b[32m'sboTerm'\u001b[0m should be set on \u001b[32m'Parameter\u001b[0m\u001b[32m(\u001b[0m\u001b[32mk1\u001b[0m\u001b[32m)\u001b[0m\u001b[32m'\u001b[0m                                                  \u001b]8;id=337436;file:///home/mkoenig/git/sbmlutils/src/sbmlutils/factory.py\u001b\\\u001b[2mfactory.py\u001b[0m\u001b]8;;\u001b\\\u001b[2m:\u001b[0m\u001b]8;id=177840;file:///home/mkoenig/git/sbmlutils/src/sbmlutils/factory.py#466\u001b\\\u001b[2m466\u001b[0m\u001b]8;;\u001b\\\n"
      ]
     },
     "metadata": {},
     "output_type": "display_data"
    },
    {
     "data": {
      "text/html": [
       "<pre style=\"white-space:pre;overflow-x:auto;line-height:normal;font-family:Menlo,'DejaVu Sans Mono',consolas,'Courier New',monospace\"><span style=\"color: #800000; text-decoration-color: #800000\">WARNING </span> <span style=\"color: #008000; text-decoration-color: #008000\">'name'</span> should be set on <span style=\"color: #008000; text-decoration-color: #008000\">'Compartment(C)'</span>                                                    <a href=\"file:///home/mkoenig/git/sbmlutils/src/sbmlutils/factory.py\" target=\"_blank\"><span style=\"color: #7f7f7f; text-decoration-color: #7f7f7f\">factory.py</span></a><span style=\"color: #7f7f7f; text-decoration-color: #7f7f7f\">:</span><a href=\"file:///home/mkoenig/git/sbmlutils/src/sbmlutils/factory.py#441\" target=\"_blank\"><span style=\"color: #7f7f7f; text-decoration-color: #7f7f7f\">441</span></a>\n",
       "</pre>\n"
      ],
      "text/plain": [
       "\u001b[31mWARNING \u001b[0m \u001b[32m'name'\u001b[0m should be set on \u001b[32m'Compartment\u001b[0m\u001b[32m(\u001b[0m\u001b[32mC\u001b[0m\u001b[32m)\u001b[0m\u001b[32m'\u001b[0m                                                    \u001b]8;id=326114;file:///home/mkoenig/git/sbmlutils/src/sbmlutils/factory.py\u001b\\\u001b[2mfactory.py\u001b[0m\u001b]8;;\u001b\\\u001b[2m:\u001b[0m\u001b]8;id=836033;file:///home/mkoenig/git/sbmlutils/src/sbmlutils/factory.py#441\u001b\\\u001b[2m441\u001b[0m\u001b]8;;\u001b\\\n"
      ]
     },
     "metadata": {},
     "output_type": "display_data"
    },
    {
     "data": {
      "text/html": [
       "<pre style=\"white-space:pre;overflow-x:auto;line-height:normal;font-family:Menlo,'DejaVu Sans Mono',consolas,'Courier New',monospace\"><span style=\"color: #800000; text-decoration-color: #800000\">WARNING </span> <span style=\"color: #008000; text-decoration-color: #008000\">'sboTerm'</span> should be set on <span style=\"color: #008000; text-decoration-color: #008000\">'Compartment(C)'</span>                                                 <a href=\"file:///home/mkoenig/git/sbmlutils/src/sbmlutils/factory.py\" target=\"_blank\"><span style=\"color: #7f7f7f; text-decoration-color: #7f7f7f\">factory.py</span></a><span style=\"color: #7f7f7f; text-decoration-color: #7f7f7f\">:</span><a href=\"file:///home/mkoenig/git/sbmlutils/src/sbmlutils/factory.py#466\" target=\"_blank\"><span style=\"color: #7f7f7f; text-decoration-color: #7f7f7f\">466</span></a>\n",
       "</pre>\n"
      ],
      "text/plain": [
       "\u001b[31mWARNING \u001b[0m \u001b[32m'sboTerm'\u001b[0m should be set on \u001b[32m'Compartment\u001b[0m\u001b[32m(\u001b[0m\u001b[32mC\u001b[0m\u001b[32m)\u001b[0m\u001b[32m'\u001b[0m                                                 \u001b]8;id=724342;file:///home/mkoenig/git/sbmlutils/src/sbmlutils/factory.py\u001b\\\u001b[2mfactory.py\u001b[0m\u001b]8;;\u001b\\\u001b[2m:\u001b[0m\u001b]8;id=225340;file:///home/mkoenig/git/sbmlutils/src/sbmlutils/factory.py#466\u001b\\\u001b[2m466\u001b[0m\u001b]8;;\u001b\\\n"
      ]
     },
     "metadata": {},
     "output_type": "display_data"
    },
    {
     "data": {
      "text/html": [
       "<pre style=\"white-space:pre;overflow-x:auto;line-height:normal;font-family:Menlo,'DejaVu Sans Mono',consolas,'Courier New',monospace\"><span style=\"color: #800000; text-decoration-color: #800000\">WARNING </span> <span style=\"color: #008000; text-decoration-color: #008000\">'name'</span> should be set on <span style=\"color: #008000; text-decoration-color: #008000\">'Species(S1)'</span>                                                       <a href=\"file:///home/mkoenig/git/sbmlutils/src/sbmlutils/factory.py\" target=\"_blank\"><span style=\"color: #7f7f7f; text-decoration-color: #7f7f7f\">factory.py</span></a><span style=\"color: #7f7f7f; text-decoration-color: #7f7f7f\">:</span><a href=\"file:///home/mkoenig/git/sbmlutils/src/sbmlutils/factory.py#441\" target=\"_blank\"><span style=\"color: #7f7f7f; text-decoration-color: #7f7f7f\">441</span></a>\n",
       "</pre>\n"
      ],
      "text/plain": [
       "\u001b[31mWARNING \u001b[0m \u001b[32m'name'\u001b[0m should be set on \u001b[32m'Species\u001b[0m\u001b[32m(\u001b[0m\u001b[32mS1\u001b[0m\u001b[32m)\u001b[0m\u001b[32m'\u001b[0m                                                       \u001b]8;id=935094;file:///home/mkoenig/git/sbmlutils/src/sbmlutils/factory.py\u001b\\\u001b[2mfactory.py\u001b[0m\u001b]8;;\u001b\\\u001b[2m:\u001b[0m\u001b]8;id=397649;file:///home/mkoenig/git/sbmlutils/src/sbmlutils/factory.py#441\u001b\\\u001b[2m441\u001b[0m\u001b]8;;\u001b\\\n"
      ]
     },
     "metadata": {},
     "output_type": "display_data"
    },
    {
     "data": {
      "text/html": [
       "<pre style=\"white-space:pre;overflow-x:auto;line-height:normal;font-family:Menlo,'DejaVu Sans Mono',consolas,'Courier New',monospace\"><span style=\"color: #800000; text-decoration-color: #800000\">WARNING </span> <span style=\"color: #008000; text-decoration-color: #008000\">'sboTerm'</span> should be set on <span style=\"color: #008000; text-decoration-color: #008000\">'Species(S1)'</span>                                                    <a href=\"file:///home/mkoenig/git/sbmlutils/src/sbmlutils/factory.py\" target=\"_blank\"><span style=\"color: #7f7f7f; text-decoration-color: #7f7f7f\">factory.py</span></a><span style=\"color: #7f7f7f; text-decoration-color: #7f7f7f\">:</span><a href=\"file:///home/mkoenig/git/sbmlutils/src/sbmlutils/factory.py#466\" target=\"_blank\"><span style=\"color: #7f7f7f; text-decoration-color: #7f7f7f\">466</span></a>\n",
       "</pre>\n"
      ],
      "text/plain": [
       "\u001b[31mWARNING \u001b[0m \u001b[32m'sboTerm'\u001b[0m should be set on \u001b[32m'Species\u001b[0m\u001b[32m(\u001b[0m\u001b[32mS1\u001b[0m\u001b[32m)\u001b[0m\u001b[32m'\u001b[0m                                                    \u001b]8;id=767758;file:///home/mkoenig/git/sbmlutils/src/sbmlutils/factory.py\u001b\\\u001b[2mfactory.py\u001b[0m\u001b]8;;\u001b\\\u001b[2m:\u001b[0m\u001b]8;id=474521;file:///home/mkoenig/git/sbmlutils/src/sbmlutils/factory.py#466\u001b\\\u001b[2m466\u001b[0m\u001b]8;;\u001b\\\n"
      ]
     },
     "metadata": {},
     "output_type": "display_data"
    },
    {
     "data": {
      "text/html": [
       "<pre style=\"white-space:pre;overflow-x:auto;line-height:normal;font-family:Menlo,'DejaVu Sans Mono',consolas,'Courier New',monospace\"><span style=\"color: #800000; text-decoration-color: #800000\">WARNING </span> <span style=\"color: #008000; text-decoration-color: #008000\">'name'</span> should be set on <span style=\"color: #008000; text-decoration-color: #008000\">'Reaction(R1)'</span>                                                      <a href=\"file:///home/mkoenig/git/sbmlutils/src/sbmlutils/factory.py\" target=\"_blank\"><span style=\"color: #7f7f7f; text-decoration-color: #7f7f7f\">factory.py</span></a><span style=\"color: #7f7f7f; text-decoration-color: #7f7f7f\">:</span><a href=\"file:///home/mkoenig/git/sbmlutils/src/sbmlutils/factory.py#441\" target=\"_blank\"><span style=\"color: #7f7f7f; text-decoration-color: #7f7f7f\">441</span></a>\n",
       "</pre>\n"
      ],
      "text/plain": [
       "\u001b[31mWARNING \u001b[0m \u001b[32m'name'\u001b[0m should be set on \u001b[32m'Reaction\u001b[0m\u001b[32m(\u001b[0m\u001b[32mR1\u001b[0m\u001b[32m)\u001b[0m\u001b[32m'\u001b[0m                                                      \u001b]8;id=27790;file:///home/mkoenig/git/sbmlutils/src/sbmlutils/factory.py\u001b\\\u001b[2mfactory.py\u001b[0m\u001b]8;;\u001b\\\u001b[2m:\u001b[0m\u001b]8;id=776732;file:///home/mkoenig/git/sbmlutils/src/sbmlutils/factory.py#441\u001b\\\u001b[2m441\u001b[0m\u001b]8;;\u001b\\\n"
      ]
     },
     "metadata": {},
     "output_type": "display_data"
    },
    {
     "data": {
      "text/html": [
       "<pre style=\"white-space:pre;overflow-x:auto;line-height:normal;font-family:Menlo,'DejaVu Sans Mono',consolas,'Courier New',monospace\"><span style=\"color: #800000; text-decoration-color: #800000\">WARNING </span> <span style=\"color: #008000; text-decoration-color: #008000\">'sboTerm'</span> should be set on <span style=\"color: #008000; text-decoration-color: #008000\">'Reaction(R1)'</span>                                                   <a href=\"file:///home/mkoenig/git/sbmlutils/src/sbmlutils/factory.py\" target=\"_blank\"><span style=\"color: #7f7f7f; text-decoration-color: #7f7f7f\">factory.py</span></a><span style=\"color: #7f7f7f; text-decoration-color: #7f7f7f\">:</span><a href=\"file:///home/mkoenig/git/sbmlutils/src/sbmlutils/factory.py#466\" target=\"_blank\"><span style=\"color: #7f7f7f; text-decoration-color: #7f7f7f\">466</span></a>\n",
       "</pre>\n"
      ],
      "text/plain": [
       "\u001b[31mWARNING \u001b[0m \u001b[32m'sboTerm'\u001b[0m should be set on \u001b[32m'Reaction\u001b[0m\u001b[32m(\u001b[0m\u001b[32mR1\u001b[0m\u001b[32m)\u001b[0m\u001b[32m'\u001b[0m                                                   \u001b]8;id=909877;file:///home/mkoenig/git/sbmlutils/src/sbmlutils/factory.py\u001b\\\u001b[2mfactory.py\u001b[0m\u001b]8;;\u001b\\\u001b[2m:\u001b[0m\u001b]8;id=227378;file:///home/mkoenig/git/sbmlutils/src/sbmlutils/factory.py#466\u001b\\\u001b[2m466\u001b[0m\u001b]8;;\u001b\\\n"
      ]
     },
     "metadata": {},
     "output_type": "display_data"
    },
    {
     "data": {
      "text/html": [
       "<pre style=\"white-space:pre;overflow-x:auto;line-height:normal;font-family:Menlo,'DejaVu Sans Mono',consolas,'Courier New',monospace\">\n",
       "</pre>\n"
      ],
      "text/plain": [
       "\n"
      ]
     },
     "metadata": {},
     "output_type": "display_data"
    },
    {
     "data": {
      "text/html": [
       "<pre style=\"white-space:pre;overflow-x:auto;line-height:normal;font-family:Menlo,'DejaVu Sans Mono',consolas,'Courier New',monospace\"><span style=\"color: #008000; text-decoration-color: #008000\">────────────────────────────────────────────────── </span>Validate SBML<span style=\"color: #008000; text-decoration-color: #008000\"> ──────────────────────────────────────────────────</span>\n",
       "</pre>\n"
      ],
      "text/plain": [
       "\u001b[32m────────────────────────────────────────────────── \u001b[0mValidate SBML\u001b[32m ──────────────────────────────────────────────────\u001b[0m\n"
      ]
     },
     "metadata": {},
     "output_type": "display_data"
    },
    {
     "data": {
      "text/html": [
       "<pre style=\"white-space:pre;overflow-x:auto;line-height:normal;font-family:Menlo,'DejaVu Sans Mono',consolas,'Courier New',monospace\"><span style=\"color: #0000ff; text-decoration-color: #0000ff; text-decoration: underline\">file:///tmp/tmp8gk6q08t/example_model.xml</span>\n",
       "<span style=\"color: #008000; text-decoration-color: #008000\">valid                    : TRUE</span>\n",
       "<span style=\"color: #008000; text-decoration-color: #008000\">check time </span><span style=\"color: #008000; text-decoration-color: #008000; font-weight: bold\">(</span><span style=\"color: #008000; text-decoration-color: #008000\">s</span><span style=\"color: #008000; text-decoration-color: #008000; font-weight: bold\">)</span><span style=\"color: #008000; text-decoration-color: #008000\">           : </span><span style=\"color: #008080; text-decoration-color: #008080; font-weight: bold\">0.001</span>\n",
       "</pre>\n"
      ],
      "text/plain": [
       "\u001b[4;94mfile:///tmp/tmp8gk6q08t/example_model.xml\u001b[0m\n",
       "\u001b[32mvalid                    : TRUE\u001b[0m\n",
       "\u001b[32mcheck time \u001b[0m\u001b[1;32m(\u001b[0m\u001b[32ms\u001b[0m\u001b[1;32m)\u001b[0m\u001b[32m           : \u001b[0m\u001b[1;36m0.001\u001b[0m\n"
      ]
     },
     "metadata": {},
     "output_type": "display_data"
    },
    {
     "data": {
      "text/html": [
       "<pre style=\"white-space:pre;overflow-x:auto;line-height:normal;font-family:Menlo,'DejaVu Sans Mono',consolas,'Courier New',monospace\"><span style=\"color: #008000; text-decoration-color: #008000\">───────────────────────────────────────────────────────────────────────────────────────────────────────────────────</span>\n",
       "</pre>\n"
      ],
      "text/plain": [
       "\u001b[32m───────────────────────────────────────────────────────────────────────────────────────────────────────────────────\u001b[0m\n"
      ]
     },
     "metadata": {},
     "output_type": "display_data"
    },
    {
     "data": {
      "text/html": [
       "<pre style=\"white-space:pre;overflow-x:auto;line-height:normal;font-family:Menlo,'DejaVu Sans Mono',consolas,'Courier New',monospace\">\n",
       "</pre>\n"
      ],
      "text/plain": [
       "\n"
      ]
     },
     "metadata": {},
     "output_type": "display_data"
    },
    {
     "data": {
      "text/html": [
       "<pre style=\"white-space:pre;overflow-x:auto;line-height:normal;font-family:Menlo,'DejaVu Sans Mono',consolas,'Courier New',monospace\"><span style=\"color: #c0c0c0; text-decoration-color: #c0c0c0\">───────────────────────────────────────────────────────────────────────────────────────────────────────────────────</span>\n",
       "</pre>\n"
      ],
      "text/plain": [
       "\u001b[37m───────────────────────────────────────────────────────────────────────────────────────────────────────────────────\u001b[0m\n"
      ]
     },
     "metadata": {},
     "output_type": "display_data"
    },
    {
     "data": {
      "text/html": [
       "<pre style=\"white-space:pre;overflow-x:auto;line-height:normal;font-family:Menlo,'DejaVu Sans Mono',consolas,'Courier New',monospace\"><span style=\"color: #c0c0c0; text-decoration-color: #c0c0c0\">───────────────────────────────────────────────────────────────────────────────────────────────────────────────────</span>\n",
       "</pre>\n"
      ],
      "text/plain": [
       "\u001b[37m───────────────────────────────────────────────────────────────────────────────────────────────────────────────────\u001b[0m\n"
      ]
     },
     "metadata": {},
     "output_type": "display_data"
    },
    {
     "name": "stdout",
     "output_type": "stream",
     "text": [
      "L2V4\n"
     ]
    },
    {
     "data": {
      "text/html": [
       "<pre style=\"white-space:pre;overflow-x:auto;line-height:normal;font-family:Menlo,'DejaVu Sans Mono',consolas,'Courier New',monospace\"><span style=\"color: #c0c0c0; text-decoration-color: #c0c0c0\">─────────────────────────────────────────────────── </span>Create SBML<span style=\"color: #c0c0c0; text-decoration-color: #c0c0c0\"> ───────────────────────────────────────────────────</span>\n",
       "</pre>\n"
      ],
      "text/plain": [
       "\u001b[37m─────────────────────────────────────────────────── \u001b[0mCreate SBML\u001b[37m ───────────────────────────────────────────────────\u001b[0m\n"
      ]
     },
     "metadata": {},
     "output_type": "display_data"
    },
    {
     "data": {
      "text/html": [
       "<pre style=\"white-space:pre;overflow-x:auto;line-height:normal;font-family:Menlo,'DejaVu Sans Mono',consolas,'Courier New',monospace\"><span style=\"color: #000080; text-decoration-color: #000080\">INFO    </span> Create SBML for model <span style=\"color: #008000; text-decoration-color: #008000\">'L2V5'</span>                                                               <a href=\"file:///home/mkoenig/git/sbmlutils/src/sbmlutils/factory.py\" target=\"_blank\"><span style=\"color: #7f7f7f; text-decoration-color: #7f7f7f\">factory.py</span></a><span style=\"color: #7f7f7f; text-decoration-color: #7f7f7f\">:</span><a href=\"file:///home/mkoenig/git/sbmlutils/src/sbmlutils/factory.py#3526\" target=\"_blank\"><span style=\"color: #7f7f7f; text-decoration-color: #7f7f7f\">3526</span></a>\n",
       "</pre>\n"
      ],
      "text/plain": [
       "\u001b[34mINFO    \u001b[0m Create SBML for model \u001b[32m'L2V5'\u001b[0m                                                               \u001b]8;id=797148;file:///home/mkoenig/git/sbmlutils/src/sbmlutils/factory.py\u001b\\\u001b[2mfactory.py\u001b[0m\u001b]8;;\u001b\\\u001b[2m:\u001b[0m\u001b]8;id=63450;file:///home/mkoenig/git/sbmlutils/src/sbmlutils/factory.py#3526\u001b\\\u001b[2m3526\u001b[0m\u001b]8;;\u001b\\\n"
      ]
     },
     "metadata": {},
     "output_type": "display_data"
    },
    {
     "data": {
      "text/html": [
       "<pre style=\"white-space:pre;overflow-x:auto;line-height:normal;font-family:Menlo,'DejaVu Sans Mono',consolas,'Courier New',monospace\"><span style=\"color: #800000; text-decoration-color: #800000\">WARNING </span> <span style=\"color: #008000; text-decoration-color: #008000\">'name'</span> should be set on <span style=\"color: #008000; text-decoration-color: #008000\">'Model(sid='</span>L2V5', <span style=\"color: #808000; text-decoration-color: #808000\">packages</span>=<span style=\"font-weight: bold\">[&lt;</span><span style=\"color: #ff00ff; text-decoration-color: #ff00ff; font-weight: bold\">Package.COMP_V1:</span><span style=\"color: #000000; text-decoration-color: #000000\"> </span><span style=\"color: #008000; text-decoration-color: #008000\">'comp-v1'</span><span style=\"font-weight: bold\">&gt;]</span>,         <a href=\"file:///home/mkoenig/git/sbmlutils/src/sbmlutils/factory.py\" target=\"_blank\"><span style=\"color: #7f7f7f; text-decoration-color: #7f7f7f\">factory.py</span></a><span style=\"color: #7f7f7f; text-decoration-color: #7f7f7f\">:</span><a href=\"file:///home/mkoenig/git/sbmlutils/src/sbmlutils/factory.py#441\" target=\"_blank\"><span style=\"color: #7f7f7f; text-decoration-color: #7f7f7f\">441</span></a>\n",
       "         <span style=\"color: #808000; text-decoration-color: #808000\">model_units</span>=<span style=\"font-weight: bold\">&lt;</span><span style=\"color: #ff00ff; text-decoration-color: #ff00ff; font-weight: bold\">sbmlutils.factory.ModelUnits</span><span style=\"color: #000000; text-decoration-color: #000000\"> object at </span><span style=\"color: #008080; text-decoration-color: #008080; font-weight: bold\">0x7fe940324cd0</span><span style=\"font-weight: bold\">&gt;</span>, <span style=\"color: #808000; text-decoration-color: #808000\">units</span>=<span style=\"font-weight: bold\">&lt;</span><span style=\"color: #ff00ff; text-decoration-color: #ff00ff; font-weight: bold\">class</span><span style=\"color: #000000; text-decoration-color: #000000\"> </span>          <span style=\"color: #7f7f7f; text-decoration-color: #7f7f7f\">              </span>\n",
       "         <span style=\"color: #008000; text-decoration-color: #008000\">'__main__.U'</span><span style=\"font-weight: bold\">&gt;</span>, <span style=\"color: #808000; text-decoration-color: #808000\">compartments</span>=<span style=\"font-weight: bold\">[</span>C = <span style=\"color: #008080; text-decoration-color: #008080; font-weight: bold\">1.0</span> <span style=\"font-weight: bold\">[</span><span style=\"color: #800080; text-decoration-color: #800080; font-style: italic\">None</span><span style=\"font-weight: bold\">]]</span>, <span style=\"color: #808000; text-decoration-color: #808000\">species</span>=<span style=\"font-weight: bold\">[&lt;</span><span style=\"color: #ff00ff; text-decoration-color: #ff00ff; font-weight: bold\">sbmlutils.factory.Species</span><span style=\"color: #000000; text-decoration-color: #000000\"> object at</span> <span style=\"color: #7f7f7f; text-decoration-color: #7f7f7f\">              </span>\n",
       "         <span style=\"color: #008080; text-decoration-color: #008080; font-weight: bold\">0x7fe940324dc0</span><span style=\"font-weight: bold\">&gt;]</span>, <span style=\"color: #808000; text-decoration-color: #808000\">parameters</span>=<span style=\"font-weight: bold\">[</span>k1 = <span style=\"color: #008080; text-decoration-color: #008080; font-weight: bold\">1.0</span> <span style=\"font-weight: bold\">[</span><span style=\"color: #800080; text-decoration-color: #800080; font-style: italic\">None</span><span style=\"font-weight: bold\">]]</span>, <span style=\"color: #808000; text-decoration-color: #808000\">reactions</span>=<span style=\"font-weight: bold\">[&lt;</span><span style=\"color: #ff00ff; text-decoration-color: #ff00ff; font-weight: bold\">sbmlutils.factory.Reaction</span><span style=\"color: #000000; text-decoration-color: #000000\"> </span>     <span style=\"color: #7f7f7f; text-decoration-color: #7f7f7f\">              </span>\n",
       "         <span style=\"color: #000000; text-decoration-color: #000000\">object at </span><span style=\"color: #008080; text-decoration-color: #008080; font-weight: bold\">0x7fe940324f40</span><span style=\"font-weight: bold\">&gt;]</span>, <span style=\"color: #808000; text-decoration-color: #808000\">_FrozenClass__isfrozen</span>=<span style=\"color: #00ff00; text-decoration-color: #00ff00; font-style: italic\">True</span><span style=\"font-weight: bold\">)</span>'                                   <span style=\"color: #7f7f7f; text-decoration-color: #7f7f7f\">              </span>\n",
       "</pre>\n"
      ],
      "text/plain": [
       "\u001b[31mWARNING \u001b[0m \u001b[32m'name'\u001b[0m should be set on \u001b[32m'Model\u001b[0m\u001b[32m(\u001b[0m\u001b[32msid\u001b[0m\u001b[32m='\u001b[0mL2V5', \u001b[33mpackages\u001b[0m=\u001b[1m[\u001b[0m\u001b[1m<\u001b[0m\u001b[1;95mPackage.COMP_V1:\u001b[0m\u001b[39m \u001b[0m\u001b[32m'comp-v1'\u001b[0m\u001b[1m>\u001b[0m\u001b[1m]\u001b[0m,         \u001b]8;id=157222;file:///home/mkoenig/git/sbmlutils/src/sbmlutils/factory.py\u001b\\\u001b[2mfactory.py\u001b[0m\u001b]8;;\u001b\\\u001b[2m:\u001b[0m\u001b]8;id=738114;file:///home/mkoenig/git/sbmlutils/src/sbmlutils/factory.py#441\u001b\\\u001b[2m441\u001b[0m\u001b]8;;\u001b\\\n",
       "         \u001b[33mmodel_units\u001b[0m=\u001b[1m<\u001b[0m\u001b[1;95msbmlutils.factory.ModelUnits\u001b[0m\u001b[39m object at \u001b[0m\u001b[1;36m0x7fe940324cd0\u001b[0m\u001b[1m>\u001b[0m, \u001b[33munits\u001b[0m=\u001b[1m<\u001b[0m\u001b[1;95mclass\u001b[0m\u001b[39m \u001b[0m          \u001b[2m              \u001b[0m\n",
       "         \u001b[32m'__main__.U'\u001b[0m\u001b[1m>\u001b[0m, \u001b[33mcompartments\u001b[0m=\u001b[1m[\u001b[0mC = \u001b[1;36m1.0\u001b[0m \u001b[1m[\u001b[0m\u001b[3;35mNone\u001b[0m\u001b[1m]\u001b[0m\u001b[1m]\u001b[0m, \u001b[33mspecies\u001b[0m=\u001b[1m[\u001b[0m\u001b[1m<\u001b[0m\u001b[1;95msbmlutils.factory.Species\u001b[0m\u001b[39m object at\u001b[0m \u001b[2m              \u001b[0m\n",
       "         \u001b[1;36m0x7fe940324dc0\u001b[0m\u001b[1m>\u001b[0m\u001b[1m]\u001b[0m, \u001b[33mparameters\u001b[0m=\u001b[1m[\u001b[0mk1 = \u001b[1;36m1.0\u001b[0m \u001b[1m[\u001b[0m\u001b[3;35mNone\u001b[0m\u001b[1m]\u001b[0m\u001b[1m]\u001b[0m, \u001b[33mreactions\u001b[0m=\u001b[1m[\u001b[0m\u001b[1m<\u001b[0m\u001b[1;95msbmlutils.factory.Reaction\u001b[0m\u001b[39m \u001b[0m     \u001b[2m              \u001b[0m\n",
       "         \u001b[39mobject at \u001b[0m\u001b[1;36m0x7fe940324f40\u001b[0m\u001b[1m>\u001b[0m\u001b[1m]\u001b[0m, \u001b[33m_FrozenClass__isfrozen\u001b[0m=\u001b[3;92mTrue\u001b[0m\u001b[1m)\u001b[0m'                                   \u001b[2m              \u001b[0m\n"
      ]
     },
     "metadata": {},
     "output_type": "display_data"
    },
    {
     "data": {
      "text/html": [
       "<pre style=\"white-space:pre;overflow-x:auto;line-height:normal;font-family:Menlo,'DejaVu Sans Mono',consolas,'Courier New',monospace\"><span style=\"color: #000080; text-decoration-color: #000080\">INFO    </span> <span style=\"color: #008000; text-decoration-color: #008000\">'length'</span> should be set in <span style=\"color: #008000; text-decoration-color: #008000\">'model_units'</span>.                                                    <a href=\"file:///home/mkoenig/git/sbmlutils/src/sbmlutils/factory.py\" target=\"_blank\"><span style=\"color: #7f7f7f; text-decoration-color: #7f7f7f\">factory.py</span></a><span style=\"color: #7f7f7f; text-decoration-color: #7f7f7f\">:</span><a href=\"file:///home/mkoenig/git/sbmlutils/src/sbmlutils/factory.py#266\" target=\"_blank\"><span style=\"color: #7f7f7f; text-decoration-color: #7f7f7f\">266</span></a>\n",
       "</pre>\n"
      ],
      "text/plain": [
       "\u001b[34mINFO    \u001b[0m \u001b[32m'length'\u001b[0m should be set in \u001b[32m'model_units'\u001b[0m.                                                    \u001b]8;id=884667;file:///home/mkoenig/git/sbmlutils/src/sbmlutils/factory.py\u001b\\\u001b[2mfactory.py\u001b[0m\u001b]8;;\u001b\\\u001b[2m:\u001b[0m\u001b]8;id=641267;file:///home/mkoenig/git/sbmlutils/src/sbmlutils/factory.py#266\u001b\\\u001b[2m266\u001b[0m\u001b]8;;\u001b\\\n"
      ]
     },
     "metadata": {},
     "output_type": "display_data"
    },
    {
     "data": {
      "text/html": [
       "<pre style=\"white-space:pre;overflow-x:auto;line-height:normal;font-family:Menlo,'DejaVu Sans Mono',consolas,'Courier New',monospace\"><span style=\"color: #000080; text-decoration-color: #000080\">INFO    </span> <span style=\"color: #008000; text-decoration-color: #008000\">'area'</span> should be set in <span style=\"color: #008000; text-decoration-color: #008000\">'model_units'</span>.                                                      <a href=\"file:///home/mkoenig/git/sbmlutils/src/sbmlutils/factory.py\" target=\"_blank\"><span style=\"color: #7f7f7f; text-decoration-color: #7f7f7f\">factory.py</span></a><span style=\"color: #7f7f7f; text-decoration-color: #7f7f7f\">:</span><a href=\"file:///home/mkoenig/git/sbmlutils/src/sbmlutils/factory.py#266\" target=\"_blank\"><span style=\"color: #7f7f7f; text-decoration-color: #7f7f7f\">266</span></a>\n",
       "</pre>\n"
      ],
      "text/plain": [
       "\u001b[34mINFO    \u001b[0m \u001b[32m'area'\u001b[0m should be set in \u001b[32m'model_units'\u001b[0m.                                                      \u001b]8;id=899449;file:///home/mkoenig/git/sbmlutils/src/sbmlutils/factory.py\u001b\\\u001b[2mfactory.py\u001b[0m\u001b]8;;\u001b\\\u001b[2m:\u001b[0m\u001b]8;id=445479;file:///home/mkoenig/git/sbmlutils/src/sbmlutils/factory.py#266\u001b\\\u001b[2m266\u001b[0m\u001b]8;;\u001b\\\n"
      ]
     },
     "metadata": {},
     "output_type": "display_data"
    },
    {
     "data": {
      "text/html": [
       "<pre style=\"white-space:pre;overflow-x:auto;line-height:normal;font-family:Menlo,'DejaVu Sans Mono',consolas,'Courier New',monospace\"><span style=\"color: #800000; text-decoration-color: #800000\">WARNING </span> <span style=\"color: #008000; text-decoration-color: #008000\">'name'</span> should be set on <span style=\"color: #008000; text-decoration-color: #008000\">'Parameter(k1)'</span>                                                     <a href=\"file:///home/mkoenig/git/sbmlutils/src/sbmlutils/factory.py\" target=\"_blank\"><span style=\"color: #7f7f7f; text-decoration-color: #7f7f7f\">factory.py</span></a><span style=\"color: #7f7f7f; text-decoration-color: #7f7f7f\">:</span><a href=\"file:///home/mkoenig/git/sbmlutils/src/sbmlutils/factory.py#441\" target=\"_blank\"><span style=\"color: #7f7f7f; text-decoration-color: #7f7f7f\">441</span></a>\n",
       "</pre>\n"
      ],
      "text/plain": [
       "\u001b[31mWARNING \u001b[0m \u001b[32m'name'\u001b[0m should be set on \u001b[32m'Parameter\u001b[0m\u001b[32m(\u001b[0m\u001b[32mk1\u001b[0m\u001b[32m)\u001b[0m\u001b[32m'\u001b[0m                                                     \u001b]8;id=843552;file:///home/mkoenig/git/sbmlutils/src/sbmlutils/factory.py\u001b\\\u001b[2mfactory.py\u001b[0m\u001b]8;;\u001b\\\u001b[2m:\u001b[0m\u001b]8;id=290391;file:///home/mkoenig/git/sbmlutils/src/sbmlutils/factory.py#441\u001b\\\u001b[2m441\u001b[0m\u001b]8;;\u001b\\\n"
      ]
     },
     "metadata": {},
     "output_type": "display_data"
    },
    {
     "data": {
      "text/html": [
       "<pre style=\"white-space:pre;overflow-x:auto;line-height:normal;font-family:Menlo,'DejaVu Sans Mono',consolas,'Courier New',monospace\"><span style=\"color: #800000; text-decoration-color: #800000\">WARNING </span> <span style=\"color: #008000; text-decoration-color: #008000\">'sboTerm'</span> should be set on <span style=\"color: #008000; text-decoration-color: #008000\">'Parameter(k1)'</span>                                                  <a href=\"file:///home/mkoenig/git/sbmlutils/src/sbmlutils/factory.py\" target=\"_blank\"><span style=\"color: #7f7f7f; text-decoration-color: #7f7f7f\">factory.py</span></a><span style=\"color: #7f7f7f; text-decoration-color: #7f7f7f\">:</span><a href=\"file:///home/mkoenig/git/sbmlutils/src/sbmlutils/factory.py#466\" target=\"_blank\"><span style=\"color: #7f7f7f; text-decoration-color: #7f7f7f\">466</span></a>\n",
       "</pre>\n"
      ],
      "text/plain": [
       "\u001b[31mWARNING \u001b[0m \u001b[32m'sboTerm'\u001b[0m should be set on \u001b[32m'Parameter\u001b[0m\u001b[32m(\u001b[0m\u001b[32mk1\u001b[0m\u001b[32m)\u001b[0m\u001b[32m'\u001b[0m                                                  \u001b]8;id=558358;file:///home/mkoenig/git/sbmlutils/src/sbmlutils/factory.py\u001b\\\u001b[2mfactory.py\u001b[0m\u001b]8;;\u001b\\\u001b[2m:\u001b[0m\u001b]8;id=270901;file:///home/mkoenig/git/sbmlutils/src/sbmlutils/factory.py#466\u001b\\\u001b[2m466\u001b[0m\u001b]8;;\u001b\\\n"
      ]
     },
     "metadata": {},
     "output_type": "display_data"
    },
    {
     "data": {
      "text/html": [
       "<pre style=\"white-space:pre;overflow-x:auto;line-height:normal;font-family:Menlo,'DejaVu Sans Mono',consolas,'Courier New',monospace\"><span style=\"color: #800000; text-decoration-color: #800000\">WARNING </span> <span style=\"color: #008000; text-decoration-color: #008000\">'name'</span> should be set on <span style=\"color: #008000; text-decoration-color: #008000\">'Compartment(C)'</span>                                                    <a href=\"file:///home/mkoenig/git/sbmlutils/src/sbmlutils/factory.py\" target=\"_blank\"><span style=\"color: #7f7f7f; text-decoration-color: #7f7f7f\">factory.py</span></a><span style=\"color: #7f7f7f; text-decoration-color: #7f7f7f\">:</span><a href=\"file:///home/mkoenig/git/sbmlutils/src/sbmlutils/factory.py#441\" target=\"_blank\"><span style=\"color: #7f7f7f; text-decoration-color: #7f7f7f\">441</span></a>\n",
       "</pre>\n"
      ],
      "text/plain": [
       "\u001b[31mWARNING \u001b[0m \u001b[32m'name'\u001b[0m should be set on \u001b[32m'Compartment\u001b[0m\u001b[32m(\u001b[0m\u001b[32mC\u001b[0m\u001b[32m)\u001b[0m\u001b[32m'\u001b[0m                                                    \u001b]8;id=805142;file:///home/mkoenig/git/sbmlutils/src/sbmlutils/factory.py\u001b\\\u001b[2mfactory.py\u001b[0m\u001b]8;;\u001b\\\u001b[2m:\u001b[0m\u001b]8;id=795154;file:///home/mkoenig/git/sbmlutils/src/sbmlutils/factory.py#441\u001b\\\u001b[2m441\u001b[0m\u001b]8;;\u001b\\\n"
      ]
     },
     "metadata": {},
     "output_type": "display_data"
    },
    {
     "data": {
      "text/html": [
       "<pre style=\"white-space:pre;overflow-x:auto;line-height:normal;font-family:Menlo,'DejaVu Sans Mono',consolas,'Courier New',monospace\"><span style=\"color: #800000; text-decoration-color: #800000\">WARNING </span> <span style=\"color: #008000; text-decoration-color: #008000\">'sboTerm'</span> should be set on <span style=\"color: #008000; text-decoration-color: #008000\">'Compartment(C)'</span>                                                 <a href=\"file:///home/mkoenig/git/sbmlutils/src/sbmlutils/factory.py\" target=\"_blank\"><span style=\"color: #7f7f7f; text-decoration-color: #7f7f7f\">factory.py</span></a><span style=\"color: #7f7f7f; text-decoration-color: #7f7f7f\">:</span><a href=\"file:///home/mkoenig/git/sbmlutils/src/sbmlutils/factory.py#466\" target=\"_blank\"><span style=\"color: #7f7f7f; text-decoration-color: #7f7f7f\">466</span></a>\n",
       "</pre>\n"
      ],
      "text/plain": [
       "\u001b[31mWARNING \u001b[0m \u001b[32m'sboTerm'\u001b[0m should be set on \u001b[32m'Compartment\u001b[0m\u001b[32m(\u001b[0m\u001b[32mC\u001b[0m\u001b[32m)\u001b[0m\u001b[32m'\u001b[0m                                                 \u001b]8;id=333392;file:///home/mkoenig/git/sbmlutils/src/sbmlutils/factory.py\u001b\\\u001b[2mfactory.py\u001b[0m\u001b]8;;\u001b\\\u001b[2m:\u001b[0m\u001b]8;id=647662;file:///home/mkoenig/git/sbmlutils/src/sbmlutils/factory.py#466\u001b\\\u001b[2m466\u001b[0m\u001b]8;;\u001b\\\n"
      ]
     },
     "metadata": {},
     "output_type": "display_data"
    },
    {
     "data": {
      "text/html": [
       "<pre style=\"white-space:pre;overflow-x:auto;line-height:normal;font-family:Menlo,'DejaVu Sans Mono',consolas,'Courier New',monospace\"><span style=\"color: #800000; text-decoration-color: #800000\">WARNING </span> <span style=\"color: #008000; text-decoration-color: #008000\">'name'</span> should be set on <span style=\"color: #008000; text-decoration-color: #008000\">'Species(S1)'</span>                                                       <a href=\"file:///home/mkoenig/git/sbmlutils/src/sbmlutils/factory.py\" target=\"_blank\"><span style=\"color: #7f7f7f; text-decoration-color: #7f7f7f\">factory.py</span></a><span style=\"color: #7f7f7f; text-decoration-color: #7f7f7f\">:</span><a href=\"file:///home/mkoenig/git/sbmlutils/src/sbmlutils/factory.py#441\" target=\"_blank\"><span style=\"color: #7f7f7f; text-decoration-color: #7f7f7f\">441</span></a>\n",
       "</pre>\n"
      ],
      "text/plain": [
       "\u001b[31mWARNING \u001b[0m \u001b[32m'name'\u001b[0m should be set on \u001b[32m'Species\u001b[0m\u001b[32m(\u001b[0m\u001b[32mS1\u001b[0m\u001b[32m)\u001b[0m\u001b[32m'\u001b[0m                                                       \u001b]8;id=807760;file:///home/mkoenig/git/sbmlutils/src/sbmlutils/factory.py\u001b\\\u001b[2mfactory.py\u001b[0m\u001b]8;;\u001b\\\u001b[2m:\u001b[0m\u001b]8;id=937350;file:///home/mkoenig/git/sbmlutils/src/sbmlutils/factory.py#441\u001b\\\u001b[2m441\u001b[0m\u001b]8;;\u001b\\\n"
      ]
     },
     "metadata": {},
     "output_type": "display_data"
    },
    {
     "data": {
      "text/html": [
       "<pre style=\"white-space:pre;overflow-x:auto;line-height:normal;font-family:Menlo,'DejaVu Sans Mono',consolas,'Courier New',monospace\"><span style=\"color: #800000; text-decoration-color: #800000\">WARNING </span> <span style=\"color: #008000; text-decoration-color: #008000\">'sboTerm'</span> should be set on <span style=\"color: #008000; text-decoration-color: #008000\">'Species(S1)'</span>                                                    <a href=\"file:///home/mkoenig/git/sbmlutils/src/sbmlutils/factory.py\" target=\"_blank\"><span style=\"color: #7f7f7f; text-decoration-color: #7f7f7f\">factory.py</span></a><span style=\"color: #7f7f7f; text-decoration-color: #7f7f7f\">:</span><a href=\"file:///home/mkoenig/git/sbmlutils/src/sbmlutils/factory.py#466\" target=\"_blank\"><span style=\"color: #7f7f7f; text-decoration-color: #7f7f7f\">466</span></a>\n",
       "</pre>\n"
      ],
      "text/plain": [
       "\u001b[31mWARNING \u001b[0m \u001b[32m'sboTerm'\u001b[0m should be set on \u001b[32m'Species\u001b[0m\u001b[32m(\u001b[0m\u001b[32mS1\u001b[0m\u001b[32m)\u001b[0m\u001b[32m'\u001b[0m                                                    \u001b]8;id=62620;file:///home/mkoenig/git/sbmlutils/src/sbmlutils/factory.py\u001b\\\u001b[2mfactory.py\u001b[0m\u001b]8;;\u001b\\\u001b[2m:\u001b[0m\u001b]8;id=524931;file:///home/mkoenig/git/sbmlutils/src/sbmlutils/factory.py#466\u001b\\\u001b[2m466\u001b[0m\u001b]8;;\u001b\\\n"
      ]
     },
     "metadata": {},
     "output_type": "display_data"
    },
    {
     "data": {
      "text/html": [
       "<pre style=\"white-space:pre;overflow-x:auto;line-height:normal;font-family:Menlo,'DejaVu Sans Mono',consolas,'Courier New',monospace\"><span style=\"color: #800000; text-decoration-color: #800000\">WARNING </span> <span style=\"color: #008000; text-decoration-color: #008000\">'name'</span> should be set on <span style=\"color: #008000; text-decoration-color: #008000\">'Reaction(R1)'</span>                                                      <a href=\"file:///home/mkoenig/git/sbmlutils/src/sbmlutils/factory.py\" target=\"_blank\"><span style=\"color: #7f7f7f; text-decoration-color: #7f7f7f\">factory.py</span></a><span style=\"color: #7f7f7f; text-decoration-color: #7f7f7f\">:</span><a href=\"file:///home/mkoenig/git/sbmlutils/src/sbmlutils/factory.py#441\" target=\"_blank\"><span style=\"color: #7f7f7f; text-decoration-color: #7f7f7f\">441</span></a>\n",
       "</pre>\n"
      ],
      "text/plain": [
       "\u001b[31mWARNING \u001b[0m \u001b[32m'name'\u001b[0m should be set on \u001b[32m'Reaction\u001b[0m\u001b[32m(\u001b[0m\u001b[32mR1\u001b[0m\u001b[32m)\u001b[0m\u001b[32m'\u001b[0m                                                      \u001b]8;id=357428;file:///home/mkoenig/git/sbmlutils/src/sbmlutils/factory.py\u001b\\\u001b[2mfactory.py\u001b[0m\u001b]8;;\u001b\\\u001b[2m:\u001b[0m\u001b]8;id=192542;file:///home/mkoenig/git/sbmlutils/src/sbmlutils/factory.py#441\u001b\\\u001b[2m441\u001b[0m\u001b]8;;\u001b\\\n"
      ]
     },
     "metadata": {},
     "output_type": "display_data"
    },
    {
     "data": {
      "text/html": [
       "<pre style=\"white-space:pre;overflow-x:auto;line-height:normal;font-family:Menlo,'DejaVu Sans Mono',consolas,'Courier New',monospace\"><span style=\"color: #800000; text-decoration-color: #800000\">WARNING </span> <span style=\"color: #008000; text-decoration-color: #008000\">'sboTerm'</span> should be set on <span style=\"color: #008000; text-decoration-color: #008000\">'Reaction(R1)'</span>                                                   <a href=\"file:///home/mkoenig/git/sbmlutils/src/sbmlutils/factory.py\" target=\"_blank\"><span style=\"color: #7f7f7f; text-decoration-color: #7f7f7f\">factory.py</span></a><span style=\"color: #7f7f7f; text-decoration-color: #7f7f7f\">:</span><a href=\"file:///home/mkoenig/git/sbmlutils/src/sbmlutils/factory.py#466\" target=\"_blank\"><span style=\"color: #7f7f7f; text-decoration-color: #7f7f7f\">466</span></a>\n",
       "</pre>\n"
      ],
      "text/plain": [
       "\u001b[31mWARNING \u001b[0m \u001b[32m'sboTerm'\u001b[0m should be set on \u001b[32m'Reaction\u001b[0m\u001b[32m(\u001b[0m\u001b[32mR1\u001b[0m\u001b[32m)\u001b[0m\u001b[32m'\u001b[0m                                                   \u001b]8;id=924154;file:///home/mkoenig/git/sbmlutils/src/sbmlutils/factory.py\u001b\\\u001b[2mfactory.py\u001b[0m\u001b]8;;\u001b\\\u001b[2m:\u001b[0m\u001b]8;id=83394;file:///home/mkoenig/git/sbmlutils/src/sbmlutils/factory.py#466\u001b\\\u001b[2m466\u001b[0m\u001b]8;;\u001b\\\n"
      ]
     },
     "metadata": {},
     "output_type": "display_data"
    },
    {
     "data": {
      "text/html": [
       "<pre style=\"white-space:pre;overflow-x:auto;line-height:normal;font-family:Menlo,'DejaVu Sans Mono',consolas,'Courier New',monospace\">\n",
       "</pre>\n"
      ],
      "text/plain": [
       "\n"
      ]
     },
     "metadata": {},
     "output_type": "display_data"
    },
    {
     "data": {
      "text/html": [
       "<pre style=\"white-space:pre;overflow-x:auto;line-height:normal;font-family:Menlo,'DejaVu Sans Mono',consolas,'Courier New',monospace\"><span style=\"color: #008000; text-decoration-color: #008000\">────────────────────────────────────────────────── </span>Validate SBML<span style=\"color: #008000; text-decoration-color: #008000\"> ──────────────────────────────────────────────────</span>\n",
       "</pre>\n"
      ],
      "text/plain": [
       "\u001b[32m────────────────────────────────────────────────── \u001b[0mValidate SBML\u001b[32m ──────────────────────────────────────────────────\u001b[0m\n"
      ]
     },
     "metadata": {},
     "output_type": "display_data"
    },
    {
     "data": {
      "text/html": [
       "<pre style=\"white-space:pre;overflow-x:auto;line-height:normal;font-family:Menlo,'DejaVu Sans Mono',consolas,'Courier New',monospace\"><span style=\"color: #0000ff; text-decoration-color: #0000ff; text-decoration: underline\">file:///tmp/tmp8gk6q08t/example_model.xml</span>\n",
       "<span style=\"color: #008000; text-decoration-color: #008000\">valid                    : TRUE</span>\n",
       "<span style=\"color: #008000; text-decoration-color: #008000\">check time </span><span style=\"color: #008000; text-decoration-color: #008000; font-weight: bold\">(</span><span style=\"color: #008000; text-decoration-color: #008000\">s</span><span style=\"color: #008000; text-decoration-color: #008000; font-weight: bold\">)</span><span style=\"color: #008000; text-decoration-color: #008000\">           : </span><span style=\"color: #008080; text-decoration-color: #008080; font-weight: bold\">0.001</span>\n",
       "</pre>\n"
      ],
      "text/plain": [
       "\u001b[4;94mfile:///tmp/tmp8gk6q08t/example_model.xml\u001b[0m\n",
       "\u001b[32mvalid                    : TRUE\u001b[0m\n",
       "\u001b[32mcheck time \u001b[0m\u001b[1;32m(\u001b[0m\u001b[32ms\u001b[0m\u001b[1;32m)\u001b[0m\u001b[32m           : \u001b[0m\u001b[1;36m0.001\u001b[0m\n"
      ]
     },
     "metadata": {},
     "output_type": "display_data"
    },
    {
     "data": {
      "text/html": [
       "<pre style=\"white-space:pre;overflow-x:auto;line-height:normal;font-family:Menlo,'DejaVu Sans Mono',consolas,'Courier New',monospace\"><span style=\"color: #008000; text-decoration-color: #008000\">───────────────────────────────────────────────────────────────────────────────────────────────────────────────────</span>\n",
       "</pre>\n"
      ],
      "text/plain": [
       "\u001b[32m───────────────────────────────────────────────────────────────────────────────────────────────────────────────────\u001b[0m\n"
      ]
     },
     "metadata": {},
     "output_type": "display_data"
    },
    {
     "data": {
      "text/html": [
       "<pre style=\"white-space:pre;overflow-x:auto;line-height:normal;font-family:Menlo,'DejaVu Sans Mono',consolas,'Courier New',monospace\">\n",
       "</pre>\n"
      ],
      "text/plain": [
       "\n"
      ]
     },
     "metadata": {},
     "output_type": "display_data"
    },
    {
     "data": {
      "text/html": [
       "<pre style=\"white-space:pre;overflow-x:auto;line-height:normal;font-family:Menlo,'DejaVu Sans Mono',consolas,'Courier New',monospace\"><span style=\"color: #c0c0c0; text-decoration-color: #c0c0c0\">───────────────────────────────────────────────────────────────────────────────────────────────────────────────────</span>\n",
       "</pre>\n"
      ],
      "text/plain": [
       "\u001b[37m───────────────────────────────────────────────────────────────────────────────────────────────────────────────────\u001b[0m\n"
      ]
     },
     "metadata": {},
     "output_type": "display_data"
    },
    {
     "data": {
      "text/html": [
       "<pre style=\"white-space:pre;overflow-x:auto;line-height:normal;font-family:Menlo,'DejaVu Sans Mono',consolas,'Courier New',monospace\"><span style=\"color: #c0c0c0; text-decoration-color: #c0c0c0\">───────────────────────────────────────────────────────────────────────────────────────────────────────────────────</span>\n",
       "</pre>\n"
      ],
      "text/plain": [
       "\u001b[37m───────────────────────────────────────────────────────────────────────────────────────────────────────────────────\u001b[0m\n"
      ]
     },
     "metadata": {},
     "output_type": "display_data"
    },
    {
     "name": "stdout",
     "output_type": "stream",
     "text": [
      "L2V5\n"
     ]
    },
    {
     "data": {
      "text/html": [
       "<pre style=\"white-space:pre;overflow-x:auto;line-height:normal;font-family:Menlo,'DejaVu Sans Mono',consolas,'Courier New',monospace\"><span style=\"color: #c0c0c0; text-decoration-color: #c0c0c0\">─────────────────────────────────────────────────── </span>Create SBML<span style=\"color: #c0c0c0; text-decoration-color: #c0c0c0\"> ───────────────────────────────────────────────────</span>\n",
       "</pre>\n"
      ],
      "text/plain": [
       "\u001b[37m─────────────────────────────────────────────────── \u001b[0mCreate SBML\u001b[37m ───────────────────────────────────────────────────\u001b[0m\n"
      ]
     },
     "metadata": {},
     "output_type": "display_data"
    },
    {
     "data": {
      "text/html": [
       "<pre style=\"white-space:pre;overflow-x:auto;line-height:normal;font-family:Menlo,'DejaVu Sans Mono',consolas,'Courier New',monospace\"><span style=\"color: #000080; text-decoration-color: #000080\">INFO    </span> Create SBML for model <span style=\"color: #008000; text-decoration-color: #008000\">'L3V1'</span>                                                               <a href=\"file:///home/mkoenig/git/sbmlutils/src/sbmlutils/factory.py\" target=\"_blank\"><span style=\"color: #7f7f7f; text-decoration-color: #7f7f7f\">factory.py</span></a><span style=\"color: #7f7f7f; text-decoration-color: #7f7f7f\">:</span><a href=\"file:///home/mkoenig/git/sbmlutils/src/sbmlutils/factory.py#3526\" target=\"_blank\"><span style=\"color: #7f7f7f; text-decoration-color: #7f7f7f\">3526</span></a>\n",
       "</pre>\n"
      ],
      "text/plain": [
       "\u001b[34mINFO    \u001b[0m Create SBML for model \u001b[32m'L3V1'\u001b[0m                                                               \u001b]8;id=725129;file:///home/mkoenig/git/sbmlutils/src/sbmlutils/factory.py\u001b\\\u001b[2mfactory.py\u001b[0m\u001b]8;;\u001b\\\u001b[2m:\u001b[0m\u001b]8;id=141367;file:///home/mkoenig/git/sbmlutils/src/sbmlutils/factory.py#3526\u001b\\\u001b[2m3526\u001b[0m\u001b]8;;\u001b\\\n"
      ]
     },
     "metadata": {},
     "output_type": "display_data"
    },
    {
     "data": {
      "text/html": [
       "<pre style=\"white-space:pre;overflow-x:auto;line-height:normal;font-family:Menlo,'DejaVu Sans Mono',consolas,'Courier New',monospace\"><span style=\"color: #800000; text-decoration-color: #800000\">WARNING </span> <span style=\"color: #008000; text-decoration-color: #008000\">'name'</span> should be set on <span style=\"color: #008000; text-decoration-color: #008000\">'Model(sid='</span>L3V1', <span style=\"color: #808000; text-decoration-color: #808000\">packages</span>=<span style=\"font-weight: bold\">[&lt;</span><span style=\"color: #ff00ff; text-decoration-color: #ff00ff; font-weight: bold\">Package.COMP_V1:</span><span style=\"color: #000000; text-decoration-color: #000000\"> </span><span style=\"color: #008000; text-decoration-color: #008000\">'comp-v1'</span><span style=\"font-weight: bold\">&gt;]</span>,         <a href=\"file:///home/mkoenig/git/sbmlutils/src/sbmlutils/factory.py\" target=\"_blank\"><span style=\"color: #7f7f7f; text-decoration-color: #7f7f7f\">factory.py</span></a><span style=\"color: #7f7f7f; text-decoration-color: #7f7f7f\">:</span><a href=\"file:///home/mkoenig/git/sbmlutils/src/sbmlutils/factory.py#441\" target=\"_blank\"><span style=\"color: #7f7f7f; text-decoration-color: #7f7f7f\">441</span></a>\n",
       "         <span style=\"color: #808000; text-decoration-color: #808000\">model_units</span>=<span style=\"font-weight: bold\">&lt;</span><span style=\"color: #ff00ff; text-decoration-color: #ff00ff; font-weight: bold\">sbmlutils.factory.ModelUnits</span><span style=\"color: #000000; text-decoration-color: #000000\"> object at </span><span style=\"color: #008080; text-decoration-color: #008080; font-weight: bold\">0x7fe940324cd0</span><span style=\"font-weight: bold\">&gt;</span>, <span style=\"color: #808000; text-decoration-color: #808000\">units</span>=<span style=\"font-weight: bold\">&lt;</span><span style=\"color: #ff00ff; text-decoration-color: #ff00ff; font-weight: bold\">class</span><span style=\"color: #000000; text-decoration-color: #000000\"> </span>          <span style=\"color: #7f7f7f; text-decoration-color: #7f7f7f\">              </span>\n",
       "         <span style=\"color: #008000; text-decoration-color: #008000\">'__main__.U'</span><span style=\"font-weight: bold\">&gt;</span>, <span style=\"color: #808000; text-decoration-color: #808000\">compartments</span>=<span style=\"font-weight: bold\">[</span>C = <span style=\"color: #008080; text-decoration-color: #008080; font-weight: bold\">1.0</span> <span style=\"font-weight: bold\">[</span><span style=\"color: #800080; text-decoration-color: #800080; font-style: italic\">None</span><span style=\"font-weight: bold\">]]</span>, <span style=\"color: #808000; text-decoration-color: #808000\">species</span>=<span style=\"font-weight: bold\">[&lt;</span><span style=\"color: #ff00ff; text-decoration-color: #ff00ff; font-weight: bold\">sbmlutils.factory.Species</span><span style=\"color: #000000; text-decoration-color: #000000\"> object at</span> <span style=\"color: #7f7f7f; text-decoration-color: #7f7f7f\">              </span>\n",
       "         <span style=\"color: #008080; text-decoration-color: #008080; font-weight: bold\">0x7fe940324dc0</span><span style=\"font-weight: bold\">&gt;]</span>, <span style=\"color: #808000; text-decoration-color: #808000\">parameters</span>=<span style=\"font-weight: bold\">[</span>k1 = <span style=\"color: #008080; text-decoration-color: #008080; font-weight: bold\">1.0</span> <span style=\"font-weight: bold\">[</span><span style=\"color: #800080; text-decoration-color: #800080; font-style: italic\">None</span><span style=\"font-weight: bold\">]]</span>, <span style=\"color: #808000; text-decoration-color: #808000\">reactions</span>=<span style=\"font-weight: bold\">[&lt;</span><span style=\"color: #ff00ff; text-decoration-color: #ff00ff; font-weight: bold\">sbmlutils.factory.Reaction</span><span style=\"color: #000000; text-decoration-color: #000000\"> </span>     <span style=\"color: #7f7f7f; text-decoration-color: #7f7f7f\">              </span>\n",
       "         <span style=\"color: #000000; text-decoration-color: #000000\">object at </span><span style=\"color: #008080; text-decoration-color: #008080; font-weight: bold\">0x7fe940324f40</span><span style=\"font-weight: bold\">&gt;]</span>, <span style=\"color: #808000; text-decoration-color: #808000\">_FrozenClass__isfrozen</span>=<span style=\"color: #00ff00; text-decoration-color: #00ff00; font-style: italic\">True</span><span style=\"font-weight: bold\">)</span>'                                   <span style=\"color: #7f7f7f; text-decoration-color: #7f7f7f\">              </span>\n",
       "</pre>\n"
      ],
      "text/plain": [
       "\u001b[31mWARNING \u001b[0m \u001b[32m'name'\u001b[0m should be set on \u001b[32m'Model\u001b[0m\u001b[32m(\u001b[0m\u001b[32msid\u001b[0m\u001b[32m='\u001b[0mL3V1', \u001b[33mpackages\u001b[0m=\u001b[1m[\u001b[0m\u001b[1m<\u001b[0m\u001b[1;95mPackage.COMP_V1:\u001b[0m\u001b[39m \u001b[0m\u001b[32m'comp-v1'\u001b[0m\u001b[1m>\u001b[0m\u001b[1m]\u001b[0m,         \u001b]8;id=81980;file:///home/mkoenig/git/sbmlutils/src/sbmlutils/factory.py\u001b\\\u001b[2mfactory.py\u001b[0m\u001b]8;;\u001b\\\u001b[2m:\u001b[0m\u001b]8;id=757597;file:///home/mkoenig/git/sbmlutils/src/sbmlutils/factory.py#441\u001b\\\u001b[2m441\u001b[0m\u001b]8;;\u001b\\\n",
       "         \u001b[33mmodel_units\u001b[0m=\u001b[1m<\u001b[0m\u001b[1;95msbmlutils.factory.ModelUnits\u001b[0m\u001b[39m object at \u001b[0m\u001b[1;36m0x7fe940324cd0\u001b[0m\u001b[1m>\u001b[0m, \u001b[33munits\u001b[0m=\u001b[1m<\u001b[0m\u001b[1;95mclass\u001b[0m\u001b[39m \u001b[0m          \u001b[2m              \u001b[0m\n",
       "         \u001b[32m'__main__.U'\u001b[0m\u001b[1m>\u001b[0m, \u001b[33mcompartments\u001b[0m=\u001b[1m[\u001b[0mC = \u001b[1;36m1.0\u001b[0m \u001b[1m[\u001b[0m\u001b[3;35mNone\u001b[0m\u001b[1m]\u001b[0m\u001b[1m]\u001b[0m, \u001b[33mspecies\u001b[0m=\u001b[1m[\u001b[0m\u001b[1m<\u001b[0m\u001b[1;95msbmlutils.factory.Species\u001b[0m\u001b[39m object at\u001b[0m \u001b[2m              \u001b[0m\n",
       "         \u001b[1;36m0x7fe940324dc0\u001b[0m\u001b[1m>\u001b[0m\u001b[1m]\u001b[0m, \u001b[33mparameters\u001b[0m=\u001b[1m[\u001b[0mk1 = \u001b[1;36m1.0\u001b[0m \u001b[1m[\u001b[0m\u001b[3;35mNone\u001b[0m\u001b[1m]\u001b[0m\u001b[1m]\u001b[0m, \u001b[33mreactions\u001b[0m=\u001b[1m[\u001b[0m\u001b[1m<\u001b[0m\u001b[1;95msbmlutils.factory.Reaction\u001b[0m\u001b[39m \u001b[0m     \u001b[2m              \u001b[0m\n",
       "         \u001b[39mobject at \u001b[0m\u001b[1;36m0x7fe940324f40\u001b[0m\u001b[1m>\u001b[0m\u001b[1m]\u001b[0m, \u001b[33m_FrozenClass__isfrozen\u001b[0m=\u001b[3;92mTrue\u001b[0m\u001b[1m)\u001b[0m'                                   \u001b[2m              \u001b[0m\n"
      ]
     },
     "metadata": {},
     "output_type": "display_data"
    },
    {
     "data": {
      "text/html": [
       "<pre style=\"white-space:pre;overflow-x:auto;line-height:normal;font-family:Menlo,'DejaVu Sans Mono',consolas,'Courier New',monospace\"><span style=\"color: #000080; text-decoration-color: #000080\">INFO    </span> <span style=\"color: #008000; text-decoration-color: #008000\">'length'</span> should be set in <span style=\"color: #008000; text-decoration-color: #008000\">'model_units'</span>.                                                    <a href=\"file:///home/mkoenig/git/sbmlutils/src/sbmlutils/factory.py\" target=\"_blank\"><span style=\"color: #7f7f7f; text-decoration-color: #7f7f7f\">factory.py</span></a><span style=\"color: #7f7f7f; text-decoration-color: #7f7f7f\">:</span><a href=\"file:///home/mkoenig/git/sbmlutils/src/sbmlutils/factory.py#266\" target=\"_blank\"><span style=\"color: #7f7f7f; text-decoration-color: #7f7f7f\">266</span></a>\n",
       "</pre>\n"
      ],
      "text/plain": [
       "\u001b[34mINFO    \u001b[0m \u001b[32m'length'\u001b[0m should be set in \u001b[32m'model_units'\u001b[0m.                                                    \u001b]8;id=9194;file:///home/mkoenig/git/sbmlutils/src/sbmlutils/factory.py\u001b\\\u001b[2mfactory.py\u001b[0m\u001b]8;;\u001b\\\u001b[2m:\u001b[0m\u001b]8;id=295766;file:///home/mkoenig/git/sbmlutils/src/sbmlutils/factory.py#266\u001b\\\u001b[2m266\u001b[0m\u001b]8;;\u001b\\\n"
      ]
     },
     "metadata": {},
     "output_type": "display_data"
    },
    {
     "data": {
      "text/html": [
       "<pre style=\"white-space:pre;overflow-x:auto;line-height:normal;font-family:Menlo,'DejaVu Sans Mono',consolas,'Courier New',monospace\"><span style=\"color: #000080; text-decoration-color: #000080\">INFO    </span> <span style=\"color: #008000; text-decoration-color: #008000\">'area'</span> should be set in <span style=\"color: #008000; text-decoration-color: #008000\">'model_units'</span>.                                                      <a href=\"file:///home/mkoenig/git/sbmlutils/src/sbmlutils/factory.py\" target=\"_blank\"><span style=\"color: #7f7f7f; text-decoration-color: #7f7f7f\">factory.py</span></a><span style=\"color: #7f7f7f; text-decoration-color: #7f7f7f\">:</span><a href=\"file:///home/mkoenig/git/sbmlutils/src/sbmlutils/factory.py#266\" target=\"_blank\"><span style=\"color: #7f7f7f; text-decoration-color: #7f7f7f\">266</span></a>\n",
       "</pre>\n"
      ],
      "text/plain": [
       "\u001b[34mINFO    \u001b[0m \u001b[32m'area'\u001b[0m should be set in \u001b[32m'model_units'\u001b[0m.                                                      \u001b]8;id=388006;file:///home/mkoenig/git/sbmlutils/src/sbmlutils/factory.py\u001b\\\u001b[2mfactory.py\u001b[0m\u001b]8;;\u001b\\\u001b[2m:\u001b[0m\u001b]8;id=472419;file:///home/mkoenig/git/sbmlutils/src/sbmlutils/factory.py#266\u001b\\\u001b[2m266\u001b[0m\u001b]8;;\u001b\\\n"
      ]
     },
     "metadata": {},
     "output_type": "display_data"
    },
    {
     "data": {
      "text/html": [
       "<pre style=\"white-space:pre;overflow-x:auto;line-height:normal;font-family:Menlo,'DejaVu Sans Mono',consolas,'Courier New',monospace\"><span style=\"color: #800000; text-decoration-color: #800000\">WARNING </span> <span style=\"color: #008000; text-decoration-color: #008000\">'name'</span> should be set on <span style=\"color: #008000; text-decoration-color: #008000\">'Parameter(k1)'</span>                                                     <a href=\"file:///home/mkoenig/git/sbmlutils/src/sbmlutils/factory.py\" target=\"_blank\"><span style=\"color: #7f7f7f; text-decoration-color: #7f7f7f\">factory.py</span></a><span style=\"color: #7f7f7f; text-decoration-color: #7f7f7f\">:</span><a href=\"file:///home/mkoenig/git/sbmlutils/src/sbmlutils/factory.py#441\" target=\"_blank\"><span style=\"color: #7f7f7f; text-decoration-color: #7f7f7f\">441</span></a>\n",
       "</pre>\n"
      ],
      "text/plain": [
       "\u001b[31mWARNING \u001b[0m \u001b[32m'name'\u001b[0m should be set on \u001b[32m'Parameter\u001b[0m\u001b[32m(\u001b[0m\u001b[32mk1\u001b[0m\u001b[32m)\u001b[0m\u001b[32m'\u001b[0m                                                     \u001b]8;id=75124;file:///home/mkoenig/git/sbmlutils/src/sbmlutils/factory.py\u001b\\\u001b[2mfactory.py\u001b[0m\u001b]8;;\u001b\\\u001b[2m:\u001b[0m\u001b]8;id=859243;file:///home/mkoenig/git/sbmlutils/src/sbmlutils/factory.py#441\u001b\\\u001b[2m441\u001b[0m\u001b]8;;\u001b\\\n"
      ]
     },
     "metadata": {},
     "output_type": "display_data"
    },
    {
     "data": {
      "text/html": [
       "<pre style=\"white-space:pre;overflow-x:auto;line-height:normal;font-family:Menlo,'DejaVu Sans Mono',consolas,'Courier New',monospace\"><span style=\"color: #800000; text-decoration-color: #800000\">WARNING </span> <span style=\"color: #008000; text-decoration-color: #008000\">'sboTerm'</span> should be set on <span style=\"color: #008000; text-decoration-color: #008000\">'Parameter(k1)'</span>                                                  <a href=\"file:///home/mkoenig/git/sbmlutils/src/sbmlutils/factory.py\" target=\"_blank\"><span style=\"color: #7f7f7f; text-decoration-color: #7f7f7f\">factory.py</span></a><span style=\"color: #7f7f7f; text-decoration-color: #7f7f7f\">:</span><a href=\"file:///home/mkoenig/git/sbmlutils/src/sbmlutils/factory.py#466\" target=\"_blank\"><span style=\"color: #7f7f7f; text-decoration-color: #7f7f7f\">466</span></a>\n",
       "</pre>\n"
      ],
      "text/plain": [
       "\u001b[31mWARNING \u001b[0m \u001b[32m'sboTerm'\u001b[0m should be set on \u001b[32m'Parameter\u001b[0m\u001b[32m(\u001b[0m\u001b[32mk1\u001b[0m\u001b[32m)\u001b[0m\u001b[32m'\u001b[0m                                                  \u001b]8;id=747744;file:///home/mkoenig/git/sbmlutils/src/sbmlutils/factory.py\u001b\\\u001b[2mfactory.py\u001b[0m\u001b]8;;\u001b\\\u001b[2m:\u001b[0m\u001b]8;id=505077;file:///home/mkoenig/git/sbmlutils/src/sbmlutils/factory.py#466\u001b\\\u001b[2m466\u001b[0m\u001b]8;;\u001b\\\n"
      ]
     },
     "metadata": {},
     "output_type": "display_data"
    },
    {
     "data": {
      "text/html": [
       "<pre style=\"white-space:pre;overflow-x:auto;line-height:normal;font-family:Menlo,'DejaVu Sans Mono',consolas,'Courier New',monospace\"><span style=\"color: #800000; text-decoration-color: #800000\">WARNING </span> <span style=\"color: #008000; text-decoration-color: #008000\">'name'</span> should be set on <span style=\"color: #008000; text-decoration-color: #008000\">'Compartment(C)'</span>                                                    <a href=\"file:///home/mkoenig/git/sbmlutils/src/sbmlutils/factory.py\" target=\"_blank\"><span style=\"color: #7f7f7f; text-decoration-color: #7f7f7f\">factory.py</span></a><span style=\"color: #7f7f7f; text-decoration-color: #7f7f7f\">:</span><a href=\"file:///home/mkoenig/git/sbmlutils/src/sbmlutils/factory.py#441\" target=\"_blank\"><span style=\"color: #7f7f7f; text-decoration-color: #7f7f7f\">441</span></a>\n",
       "</pre>\n"
      ],
      "text/plain": [
       "\u001b[31mWARNING \u001b[0m \u001b[32m'name'\u001b[0m should be set on \u001b[32m'Compartment\u001b[0m\u001b[32m(\u001b[0m\u001b[32mC\u001b[0m\u001b[32m)\u001b[0m\u001b[32m'\u001b[0m                                                    \u001b]8;id=294674;file:///home/mkoenig/git/sbmlutils/src/sbmlutils/factory.py\u001b\\\u001b[2mfactory.py\u001b[0m\u001b]8;;\u001b\\\u001b[2m:\u001b[0m\u001b]8;id=121243;file:///home/mkoenig/git/sbmlutils/src/sbmlutils/factory.py#441\u001b\\\u001b[2m441\u001b[0m\u001b]8;;\u001b\\\n"
      ]
     },
     "metadata": {},
     "output_type": "display_data"
    },
    {
     "data": {
      "text/html": [
       "<pre style=\"white-space:pre;overflow-x:auto;line-height:normal;font-family:Menlo,'DejaVu Sans Mono',consolas,'Courier New',monospace\"><span style=\"color: #800000; text-decoration-color: #800000\">WARNING </span> <span style=\"color: #008000; text-decoration-color: #008000\">'sboTerm'</span> should be set on <span style=\"color: #008000; text-decoration-color: #008000\">'Compartment(C)'</span>                                                 <a href=\"file:///home/mkoenig/git/sbmlutils/src/sbmlutils/factory.py\" target=\"_blank\"><span style=\"color: #7f7f7f; text-decoration-color: #7f7f7f\">factory.py</span></a><span style=\"color: #7f7f7f; text-decoration-color: #7f7f7f\">:</span><a href=\"file:///home/mkoenig/git/sbmlutils/src/sbmlutils/factory.py#466\" target=\"_blank\"><span style=\"color: #7f7f7f; text-decoration-color: #7f7f7f\">466</span></a>\n",
       "</pre>\n"
      ],
      "text/plain": [
       "\u001b[31mWARNING \u001b[0m \u001b[32m'sboTerm'\u001b[0m should be set on \u001b[32m'Compartment\u001b[0m\u001b[32m(\u001b[0m\u001b[32mC\u001b[0m\u001b[32m)\u001b[0m\u001b[32m'\u001b[0m                                                 \u001b]8;id=501224;file:///home/mkoenig/git/sbmlutils/src/sbmlutils/factory.py\u001b\\\u001b[2mfactory.py\u001b[0m\u001b]8;;\u001b\\\u001b[2m:\u001b[0m\u001b]8;id=110625;file:///home/mkoenig/git/sbmlutils/src/sbmlutils/factory.py#466\u001b\\\u001b[2m466\u001b[0m\u001b]8;;\u001b\\\n"
      ]
     },
     "metadata": {},
     "output_type": "display_data"
    },
    {
     "data": {
      "text/html": [
       "<pre style=\"white-space:pre;overflow-x:auto;line-height:normal;font-family:Menlo,'DejaVu Sans Mono',consolas,'Courier New',monospace\"><span style=\"color: #800000; text-decoration-color: #800000\">WARNING </span> <span style=\"color: #008000; text-decoration-color: #008000\">'name'</span> should be set on <span style=\"color: #008000; text-decoration-color: #008000\">'Species(S1)'</span>                                                       <a href=\"file:///home/mkoenig/git/sbmlutils/src/sbmlutils/factory.py\" target=\"_blank\"><span style=\"color: #7f7f7f; text-decoration-color: #7f7f7f\">factory.py</span></a><span style=\"color: #7f7f7f; text-decoration-color: #7f7f7f\">:</span><a href=\"file:///home/mkoenig/git/sbmlutils/src/sbmlutils/factory.py#441\" target=\"_blank\"><span style=\"color: #7f7f7f; text-decoration-color: #7f7f7f\">441</span></a>\n",
       "</pre>\n"
      ],
      "text/plain": [
       "\u001b[31mWARNING \u001b[0m \u001b[32m'name'\u001b[0m should be set on \u001b[32m'Species\u001b[0m\u001b[32m(\u001b[0m\u001b[32mS1\u001b[0m\u001b[32m)\u001b[0m\u001b[32m'\u001b[0m                                                       \u001b]8;id=956567;file:///home/mkoenig/git/sbmlutils/src/sbmlutils/factory.py\u001b\\\u001b[2mfactory.py\u001b[0m\u001b]8;;\u001b\\\u001b[2m:\u001b[0m\u001b]8;id=910603;file:///home/mkoenig/git/sbmlutils/src/sbmlutils/factory.py#441\u001b\\\u001b[2m441\u001b[0m\u001b]8;;\u001b\\\n"
      ]
     },
     "metadata": {},
     "output_type": "display_data"
    },
    {
     "data": {
      "text/html": [
       "<pre style=\"white-space:pre;overflow-x:auto;line-height:normal;font-family:Menlo,'DejaVu Sans Mono',consolas,'Courier New',monospace\"><span style=\"color: #800000; text-decoration-color: #800000\">WARNING </span> <span style=\"color: #008000; text-decoration-color: #008000\">'sboTerm'</span> should be set on <span style=\"color: #008000; text-decoration-color: #008000\">'Species(S1)'</span>                                                    <a href=\"file:///home/mkoenig/git/sbmlutils/src/sbmlutils/factory.py\" target=\"_blank\"><span style=\"color: #7f7f7f; text-decoration-color: #7f7f7f\">factory.py</span></a><span style=\"color: #7f7f7f; text-decoration-color: #7f7f7f\">:</span><a href=\"file:///home/mkoenig/git/sbmlutils/src/sbmlutils/factory.py#466\" target=\"_blank\"><span style=\"color: #7f7f7f; text-decoration-color: #7f7f7f\">466</span></a>\n",
       "</pre>\n"
      ],
      "text/plain": [
       "\u001b[31mWARNING \u001b[0m \u001b[32m'sboTerm'\u001b[0m should be set on \u001b[32m'Species\u001b[0m\u001b[32m(\u001b[0m\u001b[32mS1\u001b[0m\u001b[32m)\u001b[0m\u001b[32m'\u001b[0m                                                    \u001b]8;id=739364;file:///home/mkoenig/git/sbmlutils/src/sbmlutils/factory.py\u001b\\\u001b[2mfactory.py\u001b[0m\u001b]8;;\u001b\\\u001b[2m:\u001b[0m\u001b]8;id=351341;file:///home/mkoenig/git/sbmlutils/src/sbmlutils/factory.py#466\u001b\\\u001b[2m466\u001b[0m\u001b]8;;\u001b\\\n"
      ]
     },
     "metadata": {},
     "output_type": "display_data"
    },
    {
     "data": {
      "text/html": [
       "<pre style=\"white-space:pre;overflow-x:auto;line-height:normal;font-family:Menlo,'DejaVu Sans Mono',consolas,'Courier New',monospace\"><span style=\"color: #800000; text-decoration-color: #800000\">WARNING </span> <span style=\"color: #008000; text-decoration-color: #008000\">'name'</span> should be set on <span style=\"color: #008000; text-decoration-color: #008000\">'Reaction(R1)'</span>                                                      <a href=\"file:///home/mkoenig/git/sbmlutils/src/sbmlutils/factory.py\" target=\"_blank\"><span style=\"color: #7f7f7f; text-decoration-color: #7f7f7f\">factory.py</span></a><span style=\"color: #7f7f7f; text-decoration-color: #7f7f7f\">:</span><a href=\"file:///home/mkoenig/git/sbmlutils/src/sbmlutils/factory.py#441\" target=\"_blank\"><span style=\"color: #7f7f7f; text-decoration-color: #7f7f7f\">441</span></a>\n",
       "</pre>\n"
      ],
      "text/plain": [
       "\u001b[31mWARNING \u001b[0m \u001b[32m'name'\u001b[0m should be set on \u001b[32m'Reaction\u001b[0m\u001b[32m(\u001b[0m\u001b[32mR1\u001b[0m\u001b[32m)\u001b[0m\u001b[32m'\u001b[0m                                                      \u001b]8;id=770932;file:///home/mkoenig/git/sbmlutils/src/sbmlutils/factory.py\u001b\\\u001b[2mfactory.py\u001b[0m\u001b]8;;\u001b\\\u001b[2m:\u001b[0m\u001b]8;id=230461;file:///home/mkoenig/git/sbmlutils/src/sbmlutils/factory.py#441\u001b\\\u001b[2m441\u001b[0m\u001b]8;;\u001b\\\n"
      ]
     },
     "metadata": {},
     "output_type": "display_data"
    },
    {
     "data": {
      "text/html": [
       "<pre style=\"white-space:pre;overflow-x:auto;line-height:normal;font-family:Menlo,'DejaVu Sans Mono',consolas,'Courier New',monospace\"><span style=\"color: #800000; text-decoration-color: #800000\">WARNING </span> <span style=\"color: #008000; text-decoration-color: #008000\">'sboTerm'</span> should be set on <span style=\"color: #008000; text-decoration-color: #008000\">'Reaction(R1)'</span>                                                   <a href=\"file:///home/mkoenig/git/sbmlutils/src/sbmlutils/factory.py\" target=\"_blank\"><span style=\"color: #7f7f7f; text-decoration-color: #7f7f7f\">factory.py</span></a><span style=\"color: #7f7f7f; text-decoration-color: #7f7f7f\">:</span><a href=\"file:///home/mkoenig/git/sbmlutils/src/sbmlutils/factory.py#466\" target=\"_blank\"><span style=\"color: #7f7f7f; text-decoration-color: #7f7f7f\">466</span></a>\n",
       "</pre>\n"
      ],
      "text/plain": [
       "\u001b[31mWARNING \u001b[0m \u001b[32m'sboTerm'\u001b[0m should be set on \u001b[32m'Reaction\u001b[0m\u001b[32m(\u001b[0m\u001b[32mR1\u001b[0m\u001b[32m)\u001b[0m\u001b[32m'\u001b[0m                                                   \u001b]8;id=759732;file:///home/mkoenig/git/sbmlutils/src/sbmlutils/factory.py\u001b\\\u001b[2mfactory.py\u001b[0m\u001b]8;;\u001b\\\u001b[2m:\u001b[0m\u001b]8;id=151986;file:///home/mkoenig/git/sbmlutils/src/sbmlutils/factory.py#466\u001b\\\u001b[2m466\u001b[0m\u001b]8;;\u001b\\\n"
      ]
     },
     "metadata": {},
     "output_type": "display_data"
    },
    {
     "data": {
      "text/html": [
       "<pre style=\"white-space:pre;overflow-x:auto;line-height:normal;font-family:Menlo,'DejaVu Sans Mono',consolas,'Courier New',monospace\">\n",
       "</pre>\n"
      ],
      "text/plain": [
       "\n"
      ]
     },
     "metadata": {},
     "output_type": "display_data"
    },
    {
     "data": {
      "text/html": [
       "<pre style=\"white-space:pre;overflow-x:auto;line-height:normal;font-family:Menlo,'DejaVu Sans Mono',consolas,'Courier New',monospace\"><span style=\"color: #008000; text-decoration-color: #008000\">────────────────────────────────────────────────── </span>Validate SBML<span style=\"color: #008000; text-decoration-color: #008000\"> ──────────────────────────────────────────────────</span>\n",
       "</pre>\n"
      ],
      "text/plain": [
       "\u001b[32m────────────────────────────────────────────────── \u001b[0mValidate SBML\u001b[32m ──────────────────────────────────────────────────\u001b[0m\n"
      ]
     },
     "metadata": {},
     "output_type": "display_data"
    },
    {
     "data": {
      "text/html": [
       "<pre style=\"white-space:pre;overflow-x:auto;line-height:normal;font-family:Menlo,'DejaVu Sans Mono',consolas,'Courier New',monospace\"><span style=\"color: #0000ff; text-decoration-color: #0000ff; text-decoration: underline\">file:///tmp/tmp8gk6q08t/example_model.xml</span>\n",
       "<span style=\"color: #008000; text-decoration-color: #008000\">valid                    : TRUE</span>\n",
       "<span style=\"color: #008000; text-decoration-color: #008000\">check time </span><span style=\"color: #008000; text-decoration-color: #008000; font-weight: bold\">(</span><span style=\"color: #008000; text-decoration-color: #008000\">s</span><span style=\"color: #008000; text-decoration-color: #008000; font-weight: bold\">)</span><span style=\"color: #008000; text-decoration-color: #008000\">           : </span><span style=\"color: #008080; text-decoration-color: #008080; font-weight: bold\">0.001</span>\n",
       "</pre>\n"
      ],
      "text/plain": [
       "\u001b[4;94mfile:///tmp/tmp8gk6q08t/example_model.xml\u001b[0m\n",
       "\u001b[32mvalid                    : TRUE\u001b[0m\n",
       "\u001b[32mcheck time \u001b[0m\u001b[1;32m(\u001b[0m\u001b[32ms\u001b[0m\u001b[1;32m)\u001b[0m\u001b[32m           : \u001b[0m\u001b[1;36m0.001\u001b[0m\n"
      ]
     },
     "metadata": {},
     "output_type": "display_data"
    },
    {
     "data": {
      "text/html": [
       "<pre style=\"white-space:pre;overflow-x:auto;line-height:normal;font-family:Menlo,'DejaVu Sans Mono',consolas,'Courier New',monospace\"><span style=\"color: #008000; text-decoration-color: #008000\">───────────────────────────────────────────────────────────────────────────────────────────────────────────────────</span>\n",
       "</pre>\n"
      ],
      "text/plain": [
       "\u001b[32m───────────────────────────────────────────────────────────────────────────────────────────────────────────────────\u001b[0m\n"
      ]
     },
     "metadata": {},
     "output_type": "display_data"
    },
    {
     "data": {
      "text/html": [
       "<pre style=\"white-space:pre;overflow-x:auto;line-height:normal;font-family:Menlo,'DejaVu Sans Mono',consolas,'Courier New',monospace\">\n",
       "</pre>\n"
      ],
      "text/plain": [
       "\n"
      ]
     },
     "metadata": {},
     "output_type": "display_data"
    },
    {
     "data": {
      "text/html": [
       "<pre style=\"white-space:pre;overflow-x:auto;line-height:normal;font-family:Menlo,'DejaVu Sans Mono',consolas,'Courier New',monospace\"><span style=\"color: #c0c0c0; text-decoration-color: #c0c0c0\">───────────────────────────────────────────────────────────────────────────────────────────────────────────────────</span>\n",
       "</pre>\n"
      ],
      "text/plain": [
       "\u001b[37m───────────────────────────────────────────────────────────────────────────────────────────────────────────────────\u001b[0m\n"
      ]
     },
     "metadata": {},
     "output_type": "display_data"
    },
    {
     "data": {
      "text/html": [
       "<pre style=\"white-space:pre;overflow-x:auto;line-height:normal;font-family:Menlo,'DejaVu Sans Mono',consolas,'Courier New',monospace\"><span style=\"color: #c0c0c0; text-decoration-color: #c0c0c0\">───────────────────────────────────────────────────────────────────────────────────────────────────────────────────</span>\n",
       "</pre>\n"
      ],
      "text/plain": [
       "\u001b[37m───────────────────────────────────────────────────────────────────────────────────────────────────────────────────\u001b[0m\n"
      ]
     },
     "metadata": {},
     "output_type": "display_data"
    },
    {
     "name": "stdout",
     "output_type": "stream",
     "text": [
      "L3V1\n",
      "--------------------------------------------------------------------------------\n",
      "<?xml version=\"1.0\" encoding=\"UTF-8\"?>\n",
      "<sbml xmlns=\"http://www.sbml.org/sbml/level3/version1/core\" xmlns:comp=\"http://www.sbml.org/sbml/level3/version1/comp/version1\" level=\"3\" version=\"1\" comp:required=\"true\">\n",
      "  <notes>\n",
      "    <body xmlns=\"http://www.w3.org/1999/xhtml\">\n",
      "      <p>Created with <a href=\"https://github.com/matthiaskoenig/sbmlutils\">https://github.com/matthiaskoenig/sbmlutils</a>.\n",
      "<a href=\"https://doi.org/10.5281/zenodo.5525390\">\n",
      "        <img src=\"https://zenodo.org/badge/DOI/10.5281/zenodo.5525390.svg\" alt=\"DOI\"/></a></p>\n",
      "      </body>\n",
      "    </notes>\n",
      "  <model id=\"L3V1\" substanceUnits=\"mole\" timeUnits=\"second\" volumeUnits=\"litre\" extentUnits=\"mole\">\n",
      "    <listOfUnitDefinitions>\n",
      "      <unitDefinition id=\"mmole\" name=\"mmole\">\n",
      "        <listOfUnits>\n",
      "          <unit kind=\"mole\" exponent=\"1\" scale=\"0\" multiplier=\"0.001\"/>\n",
      "        </listOfUnits>\n",
      "      </unitDefinition>\n",
      "      <unitDefinition id=\"mmole_per_min\" name=\"mmole/min\">\n",
      "        <listOfUnits>\n",
      "          <unit kind=\"mole\" exponent=\"1\" scale=\"0\" multiplier=\"0.001\"/>\n",
      "          <unit kind=\"second\" exponent=\"-1\" scale=\"0\" multiplier=\"60\"/>\n",
      "        </listOfUnits>\n",
      "      </unitDefinition>\n",
      "    </listOfUnitDefinitions>\n",
      "    <listOfCompartments>\n",
      "      <compartment id=\"C\" spatialDimensions=\"3\" size=\"1\" constant=\"true\"/>\n",
      "    </listOfCompartments>\n",
      "    <listOfSpecies>\n",
      "      <species id=\"S1\" compartment=\"C\" initialConcentration=\"10\" substanceUnits=\"mole\" hasOnlySubstanceUnits=\"false\" boundaryCondition=\"true\" constant=\"false\"/>\n",
      "    </listOfSpecies>\n",
      "    <listOfParameters>\n",
      "      <parameter id=\"k1\" value=\"1\" constant=\"true\"/>\n",
      "    </listOfParameters>\n",
      "    <listOfReactions>\n",
      "      <reaction id=\"R1\" reversible=\"false\" fast=\"false\">\n",
      "        <listOfReactants>\n",
      "          <speciesReference species=\"S1\" stoichiometry=\"1\" constant=\"true\"/>\n",
      "        </listOfReactants>\n",
      "        <kineticLaw>\n",
      "          <math xmlns=\"http://www.w3.org/1998/Math/MathML\">\n",
      "            <apply>\n",
      "              <times/>\n",
      "              <ci> k1 </ci>\n",
      "              <ci> S1 </ci>\n",
      "            </apply>\n",
      "          </math>\n",
      "        </kineticLaw>\n",
      "      </reaction>\n",
      "    </listOfReactions>\n",
      "  </model>\n",
      "</sbml>\n",
      "\n"
     ]
    },
    {
     "data": {
      "text/html": [
       "<pre style=\"white-space:pre;overflow-x:auto;line-height:normal;font-family:Menlo,'DejaVu Sans Mono',consolas,'Courier New',monospace\"><span style=\"color: #c0c0c0; text-decoration-color: #c0c0c0\">─────────────────────────────────────────────────── </span>Create SBML<span style=\"color: #c0c0c0; text-decoration-color: #c0c0c0\"> ───────────────────────────────────────────────────</span>\n",
       "</pre>\n"
      ],
      "text/plain": [
       "\u001b[37m─────────────────────────────────────────────────── \u001b[0mCreate SBML\u001b[37m ───────────────────────────────────────────────────\u001b[0m\n"
      ]
     },
     "metadata": {},
     "output_type": "display_data"
    },
    {
     "data": {
      "text/html": [
       "<pre style=\"white-space:pre;overflow-x:auto;line-height:normal;font-family:Menlo,'DejaVu Sans Mono',consolas,'Courier New',monospace\"><span style=\"color: #000080; text-decoration-color: #000080\">INFO    </span> Create SBML for model <span style=\"color: #008000; text-decoration-color: #008000\">'L3V2'</span>                                                               <a href=\"file:///home/mkoenig/git/sbmlutils/src/sbmlutils/factory.py\" target=\"_blank\"><span style=\"color: #7f7f7f; text-decoration-color: #7f7f7f\">factory.py</span></a><span style=\"color: #7f7f7f; text-decoration-color: #7f7f7f\">:</span><a href=\"file:///home/mkoenig/git/sbmlutils/src/sbmlutils/factory.py#3526\" target=\"_blank\"><span style=\"color: #7f7f7f; text-decoration-color: #7f7f7f\">3526</span></a>\n",
       "</pre>\n"
      ],
      "text/plain": [
       "\u001b[34mINFO    \u001b[0m Create SBML for model \u001b[32m'L3V2'\u001b[0m                                                               \u001b]8;id=611275;file:///home/mkoenig/git/sbmlutils/src/sbmlutils/factory.py\u001b\\\u001b[2mfactory.py\u001b[0m\u001b]8;;\u001b\\\u001b[2m:\u001b[0m\u001b]8;id=170345;file:///home/mkoenig/git/sbmlutils/src/sbmlutils/factory.py#3526\u001b\\\u001b[2m3526\u001b[0m\u001b]8;;\u001b\\\n"
      ]
     },
     "metadata": {},
     "output_type": "display_data"
    },
    {
     "data": {
      "text/html": [
       "<pre style=\"white-space:pre;overflow-x:auto;line-height:normal;font-family:Menlo,'DejaVu Sans Mono',consolas,'Courier New',monospace\"><span style=\"color: #800000; text-decoration-color: #800000\">WARNING </span> <span style=\"color: #008000; text-decoration-color: #008000\">'name'</span> should be set on <span style=\"color: #008000; text-decoration-color: #008000\">'Model(sid='</span>L3V2', <span style=\"color: #808000; text-decoration-color: #808000\">packages</span>=<span style=\"font-weight: bold\">[&lt;</span><span style=\"color: #ff00ff; text-decoration-color: #ff00ff; font-weight: bold\">Package.COMP_V1:</span><span style=\"color: #000000; text-decoration-color: #000000\"> </span><span style=\"color: #008000; text-decoration-color: #008000\">'comp-v1'</span><span style=\"font-weight: bold\">&gt;]</span>,         <a href=\"file:///home/mkoenig/git/sbmlutils/src/sbmlutils/factory.py\" target=\"_blank\"><span style=\"color: #7f7f7f; text-decoration-color: #7f7f7f\">factory.py</span></a><span style=\"color: #7f7f7f; text-decoration-color: #7f7f7f\">:</span><a href=\"file:///home/mkoenig/git/sbmlutils/src/sbmlutils/factory.py#441\" target=\"_blank\"><span style=\"color: #7f7f7f; text-decoration-color: #7f7f7f\">441</span></a>\n",
       "         <span style=\"color: #808000; text-decoration-color: #808000\">model_units</span>=<span style=\"font-weight: bold\">&lt;</span><span style=\"color: #ff00ff; text-decoration-color: #ff00ff; font-weight: bold\">sbmlutils.factory.ModelUnits</span><span style=\"color: #000000; text-decoration-color: #000000\"> object at </span><span style=\"color: #008080; text-decoration-color: #008080; font-weight: bold\">0x7fe940324cd0</span><span style=\"font-weight: bold\">&gt;</span>, <span style=\"color: #808000; text-decoration-color: #808000\">units</span>=<span style=\"font-weight: bold\">&lt;</span><span style=\"color: #ff00ff; text-decoration-color: #ff00ff; font-weight: bold\">class</span><span style=\"color: #000000; text-decoration-color: #000000\"> </span>          <span style=\"color: #7f7f7f; text-decoration-color: #7f7f7f\">              </span>\n",
       "         <span style=\"color: #008000; text-decoration-color: #008000\">'__main__.U'</span><span style=\"font-weight: bold\">&gt;</span>, <span style=\"color: #808000; text-decoration-color: #808000\">compartments</span>=<span style=\"font-weight: bold\">[</span>C = <span style=\"color: #008080; text-decoration-color: #008080; font-weight: bold\">1.0</span> <span style=\"font-weight: bold\">[</span><span style=\"color: #800080; text-decoration-color: #800080; font-style: italic\">None</span><span style=\"font-weight: bold\">]]</span>, <span style=\"color: #808000; text-decoration-color: #808000\">species</span>=<span style=\"font-weight: bold\">[&lt;</span><span style=\"color: #ff00ff; text-decoration-color: #ff00ff; font-weight: bold\">sbmlutils.factory.Species</span><span style=\"color: #000000; text-decoration-color: #000000\"> object at</span> <span style=\"color: #7f7f7f; text-decoration-color: #7f7f7f\">              </span>\n",
       "         <span style=\"color: #008080; text-decoration-color: #008080; font-weight: bold\">0x7fe940324dc0</span><span style=\"font-weight: bold\">&gt;]</span>, <span style=\"color: #808000; text-decoration-color: #808000\">parameters</span>=<span style=\"font-weight: bold\">[</span>k1 = <span style=\"color: #008080; text-decoration-color: #008080; font-weight: bold\">1.0</span> <span style=\"font-weight: bold\">[</span><span style=\"color: #800080; text-decoration-color: #800080; font-style: italic\">None</span><span style=\"font-weight: bold\">]]</span>, <span style=\"color: #808000; text-decoration-color: #808000\">reactions</span>=<span style=\"font-weight: bold\">[&lt;</span><span style=\"color: #ff00ff; text-decoration-color: #ff00ff; font-weight: bold\">sbmlutils.factory.Reaction</span><span style=\"color: #000000; text-decoration-color: #000000\"> </span>     <span style=\"color: #7f7f7f; text-decoration-color: #7f7f7f\">              </span>\n",
       "         <span style=\"color: #000000; text-decoration-color: #000000\">object at </span><span style=\"color: #008080; text-decoration-color: #008080; font-weight: bold\">0x7fe940324f40</span><span style=\"font-weight: bold\">&gt;]</span>, <span style=\"color: #808000; text-decoration-color: #808000\">_FrozenClass__isfrozen</span>=<span style=\"color: #00ff00; text-decoration-color: #00ff00; font-style: italic\">True</span><span style=\"font-weight: bold\">)</span>'                                   <span style=\"color: #7f7f7f; text-decoration-color: #7f7f7f\">              </span>\n",
       "</pre>\n"
      ],
      "text/plain": [
       "\u001b[31mWARNING \u001b[0m \u001b[32m'name'\u001b[0m should be set on \u001b[32m'Model\u001b[0m\u001b[32m(\u001b[0m\u001b[32msid\u001b[0m\u001b[32m='\u001b[0mL3V2', \u001b[33mpackages\u001b[0m=\u001b[1m[\u001b[0m\u001b[1m<\u001b[0m\u001b[1;95mPackage.COMP_V1:\u001b[0m\u001b[39m \u001b[0m\u001b[32m'comp-v1'\u001b[0m\u001b[1m>\u001b[0m\u001b[1m]\u001b[0m,         \u001b]8;id=548362;file:///home/mkoenig/git/sbmlutils/src/sbmlutils/factory.py\u001b\\\u001b[2mfactory.py\u001b[0m\u001b]8;;\u001b\\\u001b[2m:\u001b[0m\u001b]8;id=244488;file:///home/mkoenig/git/sbmlutils/src/sbmlutils/factory.py#441\u001b\\\u001b[2m441\u001b[0m\u001b]8;;\u001b\\\n",
       "         \u001b[33mmodel_units\u001b[0m=\u001b[1m<\u001b[0m\u001b[1;95msbmlutils.factory.ModelUnits\u001b[0m\u001b[39m object at \u001b[0m\u001b[1;36m0x7fe940324cd0\u001b[0m\u001b[1m>\u001b[0m, \u001b[33munits\u001b[0m=\u001b[1m<\u001b[0m\u001b[1;95mclass\u001b[0m\u001b[39m \u001b[0m          \u001b[2m              \u001b[0m\n",
       "         \u001b[32m'__main__.U'\u001b[0m\u001b[1m>\u001b[0m, \u001b[33mcompartments\u001b[0m=\u001b[1m[\u001b[0mC = \u001b[1;36m1.0\u001b[0m \u001b[1m[\u001b[0m\u001b[3;35mNone\u001b[0m\u001b[1m]\u001b[0m\u001b[1m]\u001b[0m, \u001b[33mspecies\u001b[0m=\u001b[1m[\u001b[0m\u001b[1m<\u001b[0m\u001b[1;95msbmlutils.factory.Species\u001b[0m\u001b[39m object at\u001b[0m \u001b[2m              \u001b[0m\n",
       "         \u001b[1;36m0x7fe940324dc0\u001b[0m\u001b[1m>\u001b[0m\u001b[1m]\u001b[0m, \u001b[33mparameters\u001b[0m=\u001b[1m[\u001b[0mk1 = \u001b[1;36m1.0\u001b[0m \u001b[1m[\u001b[0m\u001b[3;35mNone\u001b[0m\u001b[1m]\u001b[0m\u001b[1m]\u001b[0m, \u001b[33mreactions\u001b[0m=\u001b[1m[\u001b[0m\u001b[1m<\u001b[0m\u001b[1;95msbmlutils.factory.Reaction\u001b[0m\u001b[39m \u001b[0m     \u001b[2m              \u001b[0m\n",
       "         \u001b[39mobject at \u001b[0m\u001b[1;36m0x7fe940324f40\u001b[0m\u001b[1m>\u001b[0m\u001b[1m]\u001b[0m, \u001b[33m_FrozenClass__isfrozen\u001b[0m=\u001b[3;92mTrue\u001b[0m\u001b[1m)\u001b[0m'                                   \u001b[2m              \u001b[0m\n"
      ]
     },
     "metadata": {},
     "output_type": "display_data"
    },
    {
     "data": {
      "text/html": [
       "<pre style=\"white-space:pre;overflow-x:auto;line-height:normal;font-family:Menlo,'DejaVu Sans Mono',consolas,'Courier New',monospace\"><span style=\"color: #000080; text-decoration-color: #000080\">INFO    </span> <span style=\"color: #008000; text-decoration-color: #008000\">'length'</span> should be set in <span style=\"color: #008000; text-decoration-color: #008000\">'model_units'</span>.                                                    <a href=\"file:///home/mkoenig/git/sbmlutils/src/sbmlutils/factory.py\" target=\"_blank\"><span style=\"color: #7f7f7f; text-decoration-color: #7f7f7f\">factory.py</span></a><span style=\"color: #7f7f7f; text-decoration-color: #7f7f7f\">:</span><a href=\"file:///home/mkoenig/git/sbmlutils/src/sbmlutils/factory.py#266\" target=\"_blank\"><span style=\"color: #7f7f7f; text-decoration-color: #7f7f7f\">266</span></a>\n",
       "</pre>\n"
      ],
      "text/plain": [
       "\u001b[34mINFO    \u001b[0m \u001b[32m'length'\u001b[0m should be set in \u001b[32m'model_units'\u001b[0m.                                                    \u001b]8;id=56596;file:///home/mkoenig/git/sbmlutils/src/sbmlutils/factory.py\u001b\\\u001b[2mfactory.py\u001b[0m\u001b]8;;\u001b\\\u001b[2m:\u001b[0m\u001b]8;id=115465;file:///home/mkoenig/git/sbmlutils/src/sbmlutils/factory.py#266\u001b\\\u001b[2m266\u001b[0m\u001b]8;;\u001b\\\n"
      ]
     },
     "metadata": {},
     "output_type": "display_data"
    },
    {
     "data": {
      "text/html": [
       "<pre style=\"white-space:pre;overflow-x:auto;line-height:normal;font-family:Menlo,'DejaVu Sans Mono',consolas,'Courier New',monospace\"><span style=\"color: #000080; text-decoration-color: #000080\">INFO    </span> <span style=\"color: #008000; text-decoration-color: #008000\">'area'</span> should be set in <span style=\"color: #008000; text-decoration-color: #008000\">'model_units'</span>.                                                      <a href=\"file:///home/mkoenig/git/sbmlutils/src/sbmlutils/factory.py\" target=\"_blank\"><span style=\"color: #7f7f7f; text-decoration-color: #7f7f7f\">factory.py</span></a><span style=\"color: #7f7f7f; text-decoration-color: #7f7f7f\">:</span><a href=\"file:///home/mkoenig/git/sbmlutils/src/sbmlutils/factory.py#266\" target=\"_blank\"><span style=\"color: #7f7f7f; text-decoration-color: #7f7f7f\">266</span></a>\n",
       "</pre>\n"
      ],
      "text/plain": [
       "\u001b[34mINFO    \u001b[0m \u001b[32m'area'\u001b[0m should be set in \u001b[32m'model_units'\u001b[0m.                                                      \u001b]8;id=54833;file:///home/mkoenig/git/sbmlutils/src/sbmlutils/factory.py\u001b\\\u001b[2mfactory.py\u001b[0m\u001b]8;;\u001b\\\u001b[2m:\u001b[0m\u001b]8;id=581137;file:///home/mkoenig/git/sbmlutils/src/sbmlutils/factory.py#266\u001b\\\u001b[2m266\u001b[0m\u001b]8;;\u001b\\\n"
      ]
     },
     "metadata": {},
     "output_type": "display_data"
    },
    {
     "data": {
      "text/html": [
       "<pre style=\"white-space:pre;overflow-x:auto;line-height:normal;font-family:Menlo,'DejaVu Sans Mono',consolas,'Courier New',monospace\"><span style=\"color: #800000; text-decoration-color: #800000\">WARNING </span> <span style=\"color: #008000; text-decoration-color: #008000\">'name'</span> should be set on <span style=\"color: #008000; text-decoration-color: #008000\">'Parameter(k1)'</span>                                                     <a href=\"file:///home/mkoenig/git/sbmlutils/src/sbmlutils/factory.py\" target=\"_blank\"><span style=\"color: #7f7f7f; text-decoration-color: #7f7f7f\">factory.py</span></a><span style=\"color: #7f7f7f; text-decoration-color: #7f7f7f\">:</span><a href=\"file:///home/mkoenig/git/sbmlutils/src/sbmlutils/factory.py#441\" target=\"_blank\"><span style=\"color: #7f7f7f; text-decoration-color: #7f7f7f\">441</span></a>\n",
       "</pre>\n"
      ],
      "text/plain": [
       "\u001b[31mWARNING \u001b[0m \u001b[32m'name'\u001b[0m should be set on \u001b[32m'Parameter\u001b[0m\u001b[32m(\u001b[0m\u001b[32mk1\u001b[0m\u001b[32m)\u001b[0m\u001b[32m'\u001b[0m                                                     \u001b]8;id=332144;file:///home/mkoenig/git/sbmlutils/src/sbmlutils/factory.py\u001b\\\u001b[2mfactory.py\u001b[0m\u001b]8;;\u001b\\\u001b[2m:\u001b[0m\u001b]8;id=190654;file:///home/mkoenig/git/sbmlutils/src/sbmlutils/factory.py#441\u001b\\\u001b[2m441\u001b[0m\u001b]8;;\u001b\\\n"
      ]
     },
     "metadata": {},
     "output_type": "display_data"
    },
    {
     "data": {
      "text/html": [
       "<pre style=\"white-space:pre;overflow-x:auto;line-height:normal;font-family:Menlo,'DejaVu Sans Mono',consolas,'Courier New',monospace\"><span style=\"color: #800000; text-decoration-color: #800000\">WARNING </span> <span style=\"color: #008000; text-decoration-color: #008000\">'sboTerm'</span> should be set on <span style=\"color: #008000; text-decoration-color: #008000\">'Parameter(k1)'</span>                                                  <a href=\"file:///home/mkoenig/git/sbmlutils/src/sbmlutils/factory.py\" target=\"_blank\"><span style=\"color: #7f7f7f; text-decoration-color: #7f7f7f\">factory.py</span></a><span style=\"color: #7f7f7f; text-decoration-color: #7f7f7f\">:</span><a href=\"file:///home/mkoenig/git/sbmlutils/src/sbmlutils/factory.py#466\" target=\"_blank\"><span style=\"color: #7f7f7f; text-decoration-color: #7f7f7f\">466</span></a>\n",
       "</pre>\n"
      ],
      "text/plain": [
       "\u001b[31mWARNING \u001b[0m \u001b[32m'sboTerm'\u001b[0m should be set on \u001b[32m'Parameter\u001b[0m\u001b[32m(\u001b[0m\u001b[32mk1\u001b[0m\u001b[32m)\u001b[0m\u001b[32m'\u001b[0m                                                  \u001b]8;id=947785;file:///home/mkoenig/git/sbmlutils/src/sbmlutils/factory.py\u001b\\\u001b[2mfactory.py\u001b[0m\u001b]8;;\u001b\\\u001b[2m:\u001b[0m\u001b]8;id=757354;file:///home/mkoenig/git/sbmlutils/src/sbmlutils/factory.py#466\u001b\\\u001b[2m466\u001b[0m\u001b]8;;\u001b\\\n"
      ]
     },
     "metadata": {},
     "output_type": "display_data"
    },
    {
     "data": {
      "text/html": [
       "<pre style=\"white-space:pre;overflow-x:auto;line-height:normal;font-family:Menlo,'DejaVu Sans Mono',consolas,'Courier New',monospace\"><span style=\"color: #800000; text-decoration-color: #800000\">WARNING </span> <span style=\"color: #008000; text-decoration-color: #008000\">'name'</span> should be set on <span style=\"color: #008000; text-decoration-color: #008000\">'Compartment(C)'</span>                                                    <a href=\"file:///home/mkoenig/git/sbmlutils/src/sbmlutils/factory.py\" target=\"_blank\"><span style=\"color: #7f7f7f; text-decoration-color: #7f7f7f\">factory.py</span></a><span style=\"color: #7f7f7f; text-decoration-color: #7f7f7f\">:</span><a href=\"file:///home/mkoenig/git/sbmlutils/src/sbmlutils/factory.py#441\" target=\"_blank\"><span style=\"color: #7f7f7f; text-decoration-color: #7f7f7f\">441</span></a>\n",
       "</pre>\n"
      ],
      "text/plain": [
       "\u001b[31mWARNING \u001b[0m \u001b[32m'name'\u001b[0m should be set on \u001b[32m'Compartment\u001b[0m\u001b[32m(\u001b[0m\u001b[32mC\u001b[0m\u001b[32m)\u001b[0m\u001b[32m'\u001b[0m                                                    \u001b]8;id=35606;file:///home/mkoenig/git/sbmlutils/src/sbmlutils/factory.py\u001b\\\u001b[2mfactory.py\u001b[0m\u001b]8;;\u001b\\\u001b[2m:\u001b[0m\u001b]8;id=25102;file:///home/mkoenig/git/sbmlutils/src/sbmlutils/factory.py#441\u001b\\\u001b[2m441\u001b[0m\u001b]8;;\u001b\\\n"
      ]
     },
     "metadata": {},
     "output_type": "display_data"
    },
    {
     "data": {
      "text/html": [
       "<pre style=\"white-space:pre;overflow-x:auto;line-height:normal;font-family:Menlo,'DejaVu Sans Mono',consolas,'Courier New',monospace\"><span style=\"color: #800000; text-decoration-color: #800000\">WARNING </span> <span style=\"color: #008000; text-decoration-color: #008000\">'sboTerm'</span> should be set on <span style=\"color: #008000; text-decoration-color: #008000\">'Compartment(C)'</span>                                                 <a href=\"file:///home/mkoenig/git/sbmlutils/src/sbmlutils/factory.py\" target=\"_blank\"><span style=\"color: #7f7f7f; text-decoration-color: #7f7f7f\">factory.py</span></a><span style=\"color: #7f7f7f; text-decoration-color: #7f7f7f\">:</span><a href=\"file:///home/mkoenig/git/sbmlutils/src/sbmlutils/factory.py#466\" target=\"_blank\"><span style=\"color: #7f7f7f; text-decoration-color: #7f7f7f\">466</span></a>\n",
       "</pre>\n"
      ],
      "text/plain": [
       "\u001b[31mWARNING \u001b[0m \u001b[32m'sboTerm'\u001b[0m should be set on \u001b[32m'Compartment\u001b[0m\u001b[32m(\u001b[0m\u001b[32mC\u001b[0m\u001b[32m)\u001b[0m\u001b[32m'\u001b[0m                                                 \u001b]8;id=534262;file:///home/mkoenig/git/sbmlutils/src/sbmlutils/factory.py\u001b\\\u001b[2mfactory.py\u001b[0m\u001b]8;;\u001b\\\u001b[2m:\u001b[0m\u001b]8;id=518566;file:///home/mkoenig/git/sbmlutils/src/sbmlutils/factory.py#466\u001b\\\u001b[2m466\u001b[0m\u001b]8;;\u001b\\\n"
      ]
     },
     "metadata": {},
     "output_type": "display_data"
    },
    {
     "data": {
      "text/html": [
       "<pre style=\"white-space:pre;overflow-x:auto;line-height:normal;font-family:Menlo,'DejaVu Sans Mono',consolas,'Courier New',monospace\"><span style=\"color: #800000; text-decoration-color: #800000\">WARNING </span> <span style=\"color: #008000; text-decoration-color: #008000\">'name'</span> should be set on <span style=\"color: #008000; text-decoration-color: #008000\">'Species(S1)'</span>                                                       <a href=\"file:///home/mkoenig/git/sbmlutils/src/sbmlutils/factory.py\" target=\"_blank\"><span style=\"color: #7f7f7f; text-decoration-color: #7f7f7f\">factory.py</span></a><span style=\"color: #7f7f7f; text-decoration-color: #7f7f7f\">:</span><a href=\"file:///home/mkoenig/git/sbmlutils/src/sbmlutils/factory.py#441\" target=\"_blank\"><span style=\"color: #7f7f7f; text-decoration-color: #7f7f7f\">441</span></a>\n",
       "</pre>\n"
      ],
      "text/plain": [
       "\u001b[31mWARNING \u001b[0m \u001b[32m'name'\u001b[0m should be set on \u001b[32m'Species\u001b[0m\u001b[32m(\u001b[0m\u001b[32mS1\u001b[0m\u001b[32m)\u001b[0m\u001b[32m'\u001b[0m                                                       \u001b]8;id=13962;file:///home/mkoenig/git/sbmlutils/src/sbmlutils/factory.py\u001b\\\u001b[2mfactory.py\u001b[0m\u001b]8;;\u001b\\\u001b[2m:\u001b[0m\u001b]8;id=797771;file:///home/mkoenig/git/sbmlutils/src/sbmlutils/factory.py#441\u001b\\\u001b[2m441\u001b[0m\u001b]8;;\u001b\\\n"
      ]
     },
     "metadata": {},
     "output_type": "display_data"
    },
    {
     "data": {
      "text/html": [
       "<pre style=\"white-space:pre;overflow-x:auto;line-height:normal;font-family:Menlo,'DejaVu Sans Mono',consolas,'Courier New',monospace\"><span style=\"color: #800000; text-decoration-color: #800000\">WARNING </span> <span style=\"color: #008000; text-decoration-color: #008000\">'sboTerm'</span> should be set on <span style=\"color: #008000; text-decoration-color: #008000\">'Species(S1)'</span>                                                    <a href=\"file:///home/mkoenig/git/sbmlutils/src/sbmlutils/factory.py\" target=\"_blank\"><span style=\"color: #7f7f7f; text-decoration-color: #7f7f7f\">factory.py</span></a><span style=\"color: #7f7f7f; text-decoration-color: #7f7f7f\">:</span><a href=\"file:///home/mkoenig/git/sbmlutils/src/sbmlutils/factory.py#466\" target=\"_blank\"><span style=\"color: #7f7f7f; text-decoration-color: #7f7f7f\">466</span></a>\n",
       "</pre>\n"
      ],
      "text/plain": [
       "\u001b[31mWARNING \u001b[0m \u001b[32m'sboTerm'\u001b[0m should be set on \u001b[32m'Species\u001b[0m\u001b[32m(\u001b[0m\u001b[32mS1\u001b[0m\u001b[32m)\u001b[0m\u001b[32m'\u001b[0m                                                    \u001b]8;id=726293;file:///home/mkoenig/git/sbmlutils/src/sbmlutils/factory.py\u001b\\\u001b[2mfactory.py\u001b[0m\u001b]8;;\u001b\\\u001b[2m:\u001b[0m\u001b]8;id=554760;file:///home/mkoenig/git/sbmlutils/src/sbmlutils/factory.py#466\u001b\\\u001b[2m466\u001b[0m\u001b]8;;\u001b\\\n"
      ]
     },
     "metadata": {},
     "output_type": "display_data"
    },
    {
     "data": {
      "text/html": [
       "<pre style=\"white-space:pre;overflow-x:auto;line-height:normal;font-family:Menlo,'DejaVu Sans Mono',consolas,'Courier New',monospace\"><span style=\"color: #800000; text-decoration-color: #800000\">WARNING </span> <span style=\"color: #008000; text-decoration-color: #008000\">'name'</span> should be set on <span style=\"color: #008000; text-decoration-color: #008000\">'Reaction(R1)'</span>                                                      <a href=\"file:///home/mkoenig/git/sbmlutils/src/sbmlutils/factory.py\" target=\"_blank\"><span style=\"color: #7f7f7f; text-decoration-color: #7f7f7f\">factory.py</span></a><span style=\"color: #7f7f7f; text-decoration-color: #7f7f7f\">:</span><a href=\"file:///home/mkoenig/git/sbmlutils/src/sbmlutils/factory.py#441\" target=\"_blank\"><span style=\"color: #7f7f7f; text-decoration-color: #7f7f7f\">441</span></a>\n",
       "</pre>\n"
      ],
      "text/plain": [
       "\u001b[31mWARNING \u001b[0m \u001b[32m'name'\u001b[0m should be set on \u001b[32m'Reaction\u001b[0m\u001b[32m(\u001b[0m\u001b[32mR1\u001b[0m\u001b[32m)\u001b[0m\u001b[32m'\u001b[0m                                                      \u001b]8;id=108011;file:///home/mkoenig/git/sbmlutils/src/sbmlutils/factory.py\u001b\\\u001b[2mfactory.py\u001b[0m\u001b]8;;\u001b\\\u001b[2m:\u001b[0m\u001b]8;id=333003;file:///home/mkoenig/git/sbmlutils/src/sbmlutils/factory.py#441\u001b\\\u001b[2m441\u001b[0m\u001b]8;;\u001b\\\n"
      ]
     },
     "metadata": {},
     "output_type": "display_data"
    },
    {
     "data": {
      "text/html": [
       "<pre style=\"white-space:pre;overflow-x:auto;line-height:normal;font-family:Menlo,'DejaVu Sans Mono',consolas,'Courier New',monospace\"><span style=\"color: #800000; text-decoration-color: #800000\">WARNING </span> <span style=\"color: #008000; text-decoration-color: #008000\">'sboTerm'</span> should be set on <span style=\"color: #008000; text-decoration-color: #008000\">'Reaction(R1)'</span>                                                   <a href=\"file:///home/mkoenig/git/sbmlutils/src/sbmlutils/factory.py\" target=\"_blank\"><span style=\"color: #7f7f7f; text-decoration-color: #7f7f7f\">factory.py</span></a><span style=\"color: #7f7f7f; text-decoration-color: #7f7f7f\">:</span><a href=\"file:///home/mkoenig/git/sbmlutils/src/sbmlutils/factory.py#466\" target=\"_blank\"><span style=\"color: #7f7f7f; text-decoration-color: #7f7f7f\">466</span></a>\n",
       "</pre>\n"
      ],
      "text/plain": [
       "\u001b[31mWARNING \u001b[0m \u001b[32m'sboTerm'\u001b[0m should be set on \u001b[32m'Reaction\u001b[0m\u001b[32m(\u001b[0m\u001b[32mR1\u001b[0m\u001b[32m)\u001b[0m\u001b[32m'\u001b[0m                                                   \u001b]8;id=584714;file:///home/mkoenig/git/sbmlutils/src/sbmlutils/factory.py\u001b\\\u001b[2mfactory.py\u001b[0m\u001b]8;;\u001b\\\u001b[2m:\u001b[0m\u001b]8;id=389615;file:///home/mkoenig/git/sbmlutils/src/sbmlutils/factory.py#466\u001b\\\u001b[2m466\u001b[0m\u001b]8;;\u001b\\\n"
      ]
     },
     "metadata": {},
     "output_type": "display_data"
    },
    {
     "data": {
      "text/html": [
       "<pre style=\"white-space:pre;overflow-x:auto;line-height:normal;font-family:Menlo,'DejaVu Sans Mono',consolas,'Courier New',monospace\">\n",
       "</pre>\n"
      ],
      "text/plain": [
       "\n"
      ]
     },
     "metadata": {},
     "output_type": "display_data"
    },
    {
     "data": {
      "text/html": [
       "<pre style=\"white-space:pre;overflow-x:auto;line-height:normal;font-family:Menlo,'DejaVu Sans Mono',consolas,'Courier New',monospace\"><span style=\"color: #008000; text-decoration-color: #008000\">────────────────────────────────────────────────── </span>Validate SBML<span style=\"color: #008000; text-decoration-color: #008000\"> ──────────────────────────────────────────────────</span>\n",
       "</pre>\n"
      ],
      "text/plain": [
       "\u001b[32m────────────────────────────────────────────────── \u001b[0mValidate SBML\u001b[32m ──────────────────────────────────────────────────\u001b[0m\n"
      ]
     },
     "metadata": {},
     "output_type": "display_data"
    },
    {
     "data": {
      "text/html": [
       "<pre style=\"white-space:pre;overflow-x:auto;line-height:normal;font-family:Menlo,'DejaVu Sans Mono',consolas,'Courier New',monospace\"><span style=\"color: #0000ff; text-decoration-color: #0000ff; text-decoration: underline\">file:///tmp/tmp8gk6q08t/example_model.xml</span>\n",
       "<span style=\"color: #008000; text-decoration-color: #008000\">valid                    : TRUE</span>\n",
       "<span style=\"color: #008000; text-decoration-color: #008000\">check time </span><span style=\"color: #008000; text-decoration-color: #008000; font-weight: bold\">(</span><span style=\"color: #008000; text-decoration-color: #008000\">s</span><span style=\"color: #008000; text-decoration-color: #008000; font-weight: bold\">)</span><span style=\"color: #008000; text-decoration-color: #008000\">           : </span><span style=\"color: #008080; text-decoration-color: #008080; font-weight: bold\">0.002</span>\n",
       "</pre>\n"
      ],
      "text/plain": [
       "\u001b[4;94mfile:///tmp/tmp8gk6q08t/example_model.xml\u001b[0m\n",
       "\u001b[32mvalid                    : TRUE\u001b[0m\n",
       "\u001b[32mcheck time \u001b[0m\u001b[1;32m(\u001b[0m\u001b[32ms\u001b[0m\u001b[1;32m)\u001b[0m\u001b[32m           : \u001b[0m\u001b[1;36m0.002\u001b[0m\n"
      ]
     },
     "metadata": {},
     "output_type": "display_data"
    },
    {
     "data": {
      "text/html": [
       "<pre style=\"white-space:pre;overflow-x:auto;line-height:normal;font-family:Menlo,'DejaVu Sans Mono',consolas,'Courier New',monospace\"><span style=\"color: #008000; text-decoration-color: #008000\">───────────────────────────────────────────────────────────────────────────────────────────────────────────────────</span>\n",
       "</pre>\n"
      ],
      "text/plain": [
       "\u001b[32m───────────────────────────────────────────────────────────────────────────────────────────────────────────────────\u001b[0m\n"
      ]
     },
     "metadata": {},
     "output_type": "display_data"
    },
    {
     "data": {
      "text/html": [
       "<pre style=\"white-space:pre;overflow-x:auto;line-height:normal;font-family:Menlo,'DejaVu Sans Mono',consolas,'Courier New',monospace\">\n",
       "</pre>\n"
      ],
      "text/plain": [
       "\n"
      ]
     },
     "metadata": {},
     "output_type": "display_data"
    },
    {
     "data": {
      "text/html": [
       "<pre style=\"white-space:pre;overflow-x:auto;line-height:normal;font-family:Menlo,'DejaVu Sans Mono',consolas,'Courier New',monospace\"><span style=\"color: #c0c0c0; text-decoration-color: #c0c0c0\">───────────────────────────────────────────────────────────────────────────────────────────────────────────────────</span>\n",
       "</pre>\n"
      ],
      "text/plain": [
       "\u001b[37m───────────────────────────────────────────────────────────────────────────────────────────────────────────────────\u001b[0m\n"
      ]
     },
     "metadata": {},
     "output_type": "display_data"
    },
    {
     "data": {
      "text/html": [
       "<pre style=\"white-space:pre;overflow-x:auto;line-height:normal;font-family:Menlo,'DejaVu Sans Mono',consolas,'Courier New',monospace\"><span style=\"color: #c0c0c0; text-decoration-color: #c0c0c0\">───────────────────────────────────────────────────────────────────────────────────────────────────────────────────</span>\n",
       "</pre>\n"
      ],
      "text/plain": [
       "\u001b[37m───────────────────────────────────────────────────────────────────────────────────────────────────────────────────\u001b[0m\n"
      ]
     },
     "metadata": {},
     "output_type": "display_data"
    },
    {
     "name": "stdout",
     "output_type": "stream",
     "text": [
      "L3V2\n"
     ]
    }
   ],
   "source": [
    "# model definition\n",
    "md: ModelDict = {\n",
    "    \"sid\": \"level_version\",\n",
    "    \"units\": U,\n",
    "    \"model_units\": ModelUnits(\n",
    "        time=U.second,\n",
    "        substance=U.mole,\n",
    "        extent=U.mole,\n",
    "        volume=U.liter,\n",
    "    ),\n",
    "    \"compartments\": [Compartment(sid=\"C\", value=1.0)],\n",
    "    \"species\": [\n",
    "        Species(\n",
    "            sid=\"S1\",\n",
    "            initialConcentration=10.0,\n",
    "            compartment=\"C\",\n",
    "            hasOnlySubstanceUnits=False,\n",
    "            boundaryCondition=True,\n",
    "        )\n",
    "    ],\n",
    "    \"parameters\": [Parameter(sid=\"k1\", value=1.0)],\n",
    "    \"reactions\": [\n",
    "        Reaction(sid=\"R1\", equation=\"S1 ->\", formula=(\"k1 * S1\", None))\n",
    "    ],\n",
    "}\n",
    "\n",
    "supported_level_version = [\n",
    "    (1, 1), (1, 2),\n",
    "    (2, 1), (2, 2), (2, 3), (2, 4), (2, 5),\n",
    "    (3, 1), (3, 2),\n",
    "]\n",
    "\n",
    "with tempfile.TemporaryDirectory() as tmp_path:\n",
    "\n",
    "    for level, version in supported_level_version:\n",
    "        # inject information\n",
    "        md[\"sid\"] = f\"L{level}V{version}\"\n",
    "        results = create_model(\n",
    "            model=Model(**md),\n",
    "            filepath=Path(tmp_path) / f\"{model.sid}.xml\",\n",
    "            validation_options=ValidationOptions(units_consistency=False),\n",
    "            sbml_level=level,\n",
    "            sbml_version=version,\n",
    "        )\n",
    "        doc = read_sbml(source=results.sbml_path, validate=False)\n",
    "        print(f\"L{doc.getLevel()}V{doc.getVersion()}\")\n",
    "        if level == 3 and version == 1:\n",
    "            sbml = write_sbml(doc)\n",
    "            print(\"-\" * 80)\n",
    "            print(sbml)\n"
   ]
  },
  {
   "cell_type": "code",
   "execution_count": null,
   "metadata": {},
   "outputs": [],
   "source": []
  }
 ],
 "metadata": {
  "kernelspec": {
   "display_name": "sbmlutils",
   "language": "python",
   "name": "sbmlutils"
  },
  "language_info": {
   "codemirror_mode": {
    "name": "ipython",
    "version": 3
   },
   "file_extension": ".py",
   "mimetype": "text/x-python",
   "name": "python",
   "nbconvert_exporter": "python",
   "pygments_lexer": "ipython3",
   "version": "3.9.16"
  }
 },
 "nbformat": 4,
 "nbformat_minor": 4
}
