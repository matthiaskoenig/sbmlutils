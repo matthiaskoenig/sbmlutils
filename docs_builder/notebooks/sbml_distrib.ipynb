{
 "cells": [
  {
   "cell_type": "markdown",
   "metadata": {},
   "source": [
    "## SBML distrib\n",
    "The following examples demonstrate the creation of SBML models with SBML distrib information."
   ]
  },
  {
   "cell_type": "code",
   "execution_count": 1,
   "metadata": {},
   "outputs": [],
   "source": [
    "%load_ext autoreload\n",
    "%autoreload 2"
   ]
  },
  {
   "cell_type": "code",
   "execution_count": 2,
   "metadata": {},
   "outputs": [],
   "source": [
    "from notebook_utils import print_xml\n",
    "from sbmlutils.factory import *\n",
    "from sbmlutils.validation import validate_doc"
   ]
  },
  {
   "cell_type": "markdown",
   "metadata": {},
   "source": [
    "### Assigning a distribution to a parameter\n",
    "Here we create a parameter $$p_1 = 0.0$$ and assign the initial value from a normal distribution with `mean=0` and `standard deviation=1` \n",
    "\n",
    "$$p_1 = \\sigma(0,1)$$"
   ]
  },
  {
   "cell_type": "code",
   "execution_count": 3,
   "metadata": {},
   "outputs": [
    {
     "data": {
      "text/html": [
       "<pre style=\"white-space:pre;overflow-x:auto;line-height:normal;font-family:Menlo,'DejaVu Sans Mono',consolas,'Courier New',monospace\"><span style=\"color: #000080; text-decoration-color: #000080\">INFO    </span> Create SBML for model <span style=\"color: #008000; text-decoration-color: #008000\">'distrib_assignment'</span>                                                 <a href=\"file:///home/mkoenig/git/sbmlutils/src/sbmlutils/factory.py\" target=\"_blank\"><span style=\"color: #7f7f7f; text-decoration-color: #7f7f7f\">factory.py</span></a><span style=\"color: #7f7f7f; text-decoration-color: #7f7f7f\">:</span><a href=\"file:///home/mkoenig/git/sbmlutils/src/sbmlutils/factory.py#3526\" target=\"_blank\"><span style=\"color: #7f7f7f; text-decoration-color: #7f7f7f\">3526</span></a>\n",
       "</pre>\n"
      ],
      "text/plain": [
       "\u001b[34mINFO    \u001b[0m Create SBML for model \u001b[32m'distrib_assignment'\u001b[0m                                                 \u001b]8;id=648006;file:///home/mkoenig/git/sbmlutils/src/sbmlutils/factory.py\u001b\\\u001b[2mfactory.py\u001b[0m\u001b]8;;\u001b\\\u001b[2m:\u001b[0m\u001b]8;id=667630;file:///home/mkoenig/git/sbmlutils/src/sbmlutils/factory.py#3526\u001b\\\u001b[2m3526\u001b[0m\u001b]8;;\u001b\\\n"
      ]
     },
     "metadata": {},
     "output_type": "display_data"
    },
    {
     "data": {
      "text/html": [
       "<pre style=\"white-space:pre;overflow-x:auto;line-height:normal;font-family:Menlo,'DejaVu Sans Mono',consolas,'Courier New',monospace\"><span style=\"color: #800000; text-decoration-color: #800000\">WARNING </span> <span style=\"color: #008000; text-decoration-color: #008000\">'name'</span> should be set on <span style=\"color: #008000; text-decoration-color: #008000\">'Model(sid='</span>distrib_assignment', <span style=\"color: #808000; text-decoration-color: #808000\">packages</span>=<span style=\"font-weight: bold\">[&lt;</span><span style=\"color: #ff00ff; text-decoration-color: #ff00ff; font-weight: bold\">Package.DISTRIB_V1:</span><span style=\"color: #000000; text-decoration-color: #000000\"> </span>    <a href=\"file:///home/mkoenig/git/sbmlutils/src/sbmlutils/factory.py\" target=\"_blank\"><span style=\"color: #7f7f7f; text-decoration-color: #7f7f7f\">factory.py</span></a><span style=\"color: #7f7f7f; text-decoration-color: #7f7f7f\">:</span><a href=\"file:///home/mkoenig/git/sbmlutils/src/sbmlutils/factory.py#441\" target=\"_blank\"><span style=\"color: #7f7f7f; text-decoration-color: #7f7f7f\">441</span></a>\n",
       "         <span style=\"color: #008000; text-decoration-color: #008000\">'distrib-v1'</span><span style=\"font-weight: bold\">&gt;</span>, <span style=\"font-weight: bold\">&lt;</span><span style=\"color: #ff00ff; text-decoration-color: #ff00ff; font-weight: bold\">Package.COMP_V1:</span><span style=\"color: #000000; text-decoration-color: #000000\"> </span><span style=\"color: #008000; text-decoration-color: #008000\">'comp-v1'</span><span style=\"font-weight: bold\">&gt;]</span>, <span style=\"color: #808000; text-decoration-color: #808000\">model_units</span>=<span style=\"font-weight: bold\">&lt;</span><span style=\"color: #ff00ff; text-decoration-color: #ff00ff; font-weight: bold\">sbmlutils.factory.ModelUnits</span><span style=\"color: #000000; text-decoration-color: #000000\"> </span>    <span style=\"color: #7f7f7f; text-decoration-color: #7f7f7f\">              </span>\n",
       "         <span style=\"color: #000000; text-decoration-color: #000000\">object at </span><span style=\"color: #008080; text-decoration-color: #008080; font-weight: bold\">0x7f8f297effa0</span><span style=\"font-weight: bold\">&gt;</span>, <span style=\"color: #808000; text-decoration-color: #808000\">units</span>=<span style=\"font-weight: bold\">&lt;</span><span style=\"color: #ff00ff; text-decoration-color: #ff00ff; font-weight: bold\">class</span><span style=\"color: #000000; text-decoration-color: #000000\"> </span><span style=\"color: #008000; text-decoration-color: #008000\">'__main__.U'</span><span style=\"font-weight: bold\">&gt;</span>, <span style=\"color: #808000; text-decoration-color: #808000\">parameters</span>=<span style=\"font-weight: bold\">[</span>p1 = <span style=\"color: #008080; text-decoration-color: #008080; font-weight: bold\">0.0</span>                 <span style=\"color: #7f7f7f; text-decoration-color: #7f7f7f\">              </span>\n",
       "         <span style=\"font-weight: bold\">[</span><span style=\"color: #800080; text-decoration-color: #800080; font-weight: bold\">UnitDefinition</span><span style=\"font-weight: bold\">(</span>mM, mmole/liter<span style=\"font-weight: bold\">)]]</span>, <span style=\"color: #808000; text-decoration-color: #808000\">assignments</span>=<span style=\"font-weight: bold\">[&lt;</span><span style=\"color: #ff00ff; text-decoration-color: #ff00ff; font-weight: bold\">sbmlutils.factory.InitialAssignment</span><span style=\"color: #000000; text-decoration-color: #000000\"> </span>      <span style=\"color: #7f7f7f; text-decoration-color: #7f7f7f\">              </span>\n",
       "         <span style=\"color: #000000; text-decoration-color: #000000\">object at </span><span style=\"color: #008080; text-decoration-color: #008080; font-weight: bold\">0x7f8eaa9c4970</span><span style=\"font-weight: bold\">&gt;]</span>, <span style=\"color: #808000; text-decoration-color: #808000\">_FrozenClass__isfrozen</span>=<span style=\"color: #00ff00; text-decoration-color: #00ff00; font-style: italic\">True</span><span style=\"font-weight: bold\">)</span>'                                   <span style=\"color: #7f7f7f; text-decoration-color: #7f7f7f\">              </span>\n",
       "</pre>\n"
      ],
      "text/plain": [
       "\u001b[31mWARNING \u001b[0m \u001b[32m'name'\u001b[0m should be set on \u001b[32m'Model\u001b[0m\u001b[32m(\u001b[0m\u001b[32msid\u001b[0m\u001b[32m='\u001b[0mdistrib_assignment', \u001b[33mpackages\u001b[0m=\u001b[1m[\u001b[0m\u001b[1m<\u001b[0m\u001b[1;95mPackage.DISTRIB_V1:\u001b[0m\u001b[39m \u001b[0m    \u001b]8;id=579569;file:///home/mkoenig/git/sbmlutils/src/sbmlutils/factory.py\u001b\\\u001b[2mfactory.py\u001b[0m\u001b]8;;\u001b\\\u001b[2m:\u001b[0m\u001b]8;id=595319;file:///home/mkoenig/git/sbmlutils/src/sbmlutils/factory.py#441\u001b\\\u001b[2m441\u001b[0m\u001b]8;;\u001b\\\n",
       "         \u001b[32m'distrib-v1'\u001b[0m\u001b[1m>\u001b[0m, \u001b[1m<\u001b[0m\u001b[1;95mPackage.COMP_V1:\u001b[0m\u001b[39m \u001b[0m\u001b[32m'comp-v1'\u001b[0m\u001b[1m>\u001b[0m\u001b[1m]\u001b[0m, \u001b[33mmodel_units\u001b[0m=\u001b[1m<\u001b[0m\u001b[1;95msbmlutils.factory.ModelUnits\u001b[0m\u001b[39m \u001b[0m    \u001b[2m              \u001b[0m\n",
       "         \u001b[39mobject at \u001b[0m\u001b[1;36m0x7f8f297effa0\u001b[0m\u001b[1m>\u001b[0m, \u001b[33munits\u001b[0m=\u001b[1m<\u001b[0m\u001b[1;95mclass\u001b[0m\u001b[39m \u001b[0m\u001b[32m'__main__.U'\u001b[0m\u001b[1m>\u001b[0m, \u001b[33mparameters\u001b[0m=\u001b[1m[\u001b[0mp1 = \u001b[1;36m0.0\u001b[0m                 \u001b[2m              \u001b[0m\n",
       "         \u001b[1m[\u001b[0m\u001b[1;35mUnitDefinition\u001b[0m\u001b[1m(\u001b[0mmM, mmole/liter\u001b[1m)\u001b[0m\u001b[1m]\u001b[0m\u001b[1m]\u001b[0m, \u001b[33massignments\u001b[0m=\u001b[1m[\u001b[0m\u001b[1m<\u001b[0m\u001b[1;95msbmlutils.factory.InitialAssignment\u001b[0m\u001b[39m \u001b[0m      \u001b[2m              \u001b[0m\n",
       "         \u001b[39mobject at \u001b[0m\u001b[1;36m0x7f8eaa9c4970\u001b[0m\u001b[1m>\u001b[0m\u001b[1m]\u001b[0m, \u001b[33m_FrozenClass__isfrozen\u001b[0m=\u001b[3;92mTrue\u001b[0m\u001b[1m)\u001b[0m'                                   \u001b[2m              \u001b[0m\n"
      ]
     },
     "metadata": {},
     "output_type": "display_data"
    },
    {
     "data": {
      "text/html": [
       "<pre style=\"white-space:pre;overflow-x:auto;line-height:normal;font-family:Menlo,'DejaVu Sans Mono',consolas,'Courier New',monospace\"><span style=\"color: #800000; text-decoration-color: #800000\">WARNING </span> <span style=\"color: #008000; text-decoration-color: #008000\">'name'</span> should be set on <span style=\"color: #008000; text-decoration-color: #008000\">'Parameter(p1)'</span>                                                     <a href=\"file:///home/mkoenig/git/sbmlutils/src/sbmlutils/factory.py\" target=\"_blank\"><span style=\"color: #7f7f7f; text-decoration-color: #7f7f7f\">factory.py</span></a><span style=\"color: #7f7f7f; text-decoration-color: #7f7f7f\">:</span><a href=\"file:///home/mkoenig/git/sbmlutils/src/sbmlutils/factory.py#441\" target=\"_blank\"><span style=\"color: #7f7f7f; text-decoration-color: #7f7f7f\">441</span></a>\n",
       "</pre>\n"
      ],
      "text/plain": [
       "\u001b[31mWARNING \u001b[0m \u001b[32m'name'\u001b[0m should be set on \u001b[32m'Parameter\u001b[0m\u001b[32m(\u001b[0m\u001b[32mp1\u001b[0m\u001b[32m)\u001b[0m\u001b[32m'\u001b[0m                                                     \u001b]8;id=536284;file:///home/mkoenig/git/sbmlutils/src/sbmlutils/factory.py\u001b\\\u001b[2mfactory.py\u001b[0m\u001b]8;;\u001b\\\u001b[2m:\u001b[0m\u001b]8;id=444616;file:///home/mkoenig/git/sbmlutils/src/sbmlutils/factory.py#441\u001b\\\u001b[2m441\u001b[0m\u001b]8;;\u001b\\\n"
      ]
     },
     "metadata": {},
     "output_type": "display_data"
    },
    {
     "data": {
      "text/html": [
       "<pre style=\"white-space:pre;overflow-x:auto;line-height:normal;font-family:Menlo,'DejaVu Sans Mono',consolas,'Courier New',monospace\"><span style=\"color: #800000; text-decoration-color: #800000\">WARNING </span> <span style=\"color: #008000; text-decoration-color: #008000\">'sboTerm'</span> should be set on <span style=\"color: #008000; text-decoration-color: #008000\">'Parameter(p1)'</span>                                                  <a href=\"file:///home/mkoenig/git/sbmlutils/src/sbmlutils/factory.py\" target=\"_blank\"><span style=\"color: #7f7f7f; text-decoration-color: #7f7f7f\">factory.py</span></a><span style=\"color: #7f7f7f; text-decoration-color: #7f7f7f\">:</span><a href=\"file:///home/mkoenig/git/sbmlutils/src/sbmlutils/factory.py#466\" target=\"_blank\"><span style=\"color: #7f7f7f; text-decoration-color: #7f7f7f\">466</span></a>\n",
       "</pre>\n"
      ],
      "text/plain": [
       "\u001b[31mWARNING \u001b[0m \u001b[32m'sboTerm'\u001b[0m should be set on \u001b[32m'Parameter\u001b[0m\u001b[32m(\u001b[0m\u001b[32mp1\u001b[0m\u001b[32m)\u001b[0m\u001b[32m'\u001b[0m                                                  \u001b]8;id=992339;file:///home/mkoenig/git/sbmlutils/src/sbmlutils/factory.py\u001b\\\u001b[2mfactory.py\u001b[0m\u001b]8;;\u001b\\\u001b[2m:\u001b[0m\u001b]8;id=402073;file:///home/mkoenig/git/sbmlutils/src/sbmlutils/factory.py#466\u001b\\\u001b[2m466\u001b[0m\u001b]8;;\u001b\\\n"
      ]
     },
     "metadata": {},
     "output_type": "display_data"
    },
    {
     "data": {
      "text/html": [
       "<pre style=\"white-space:pre;overflow-x:auto;line-height:normal;font-family:Menlo,'DejaVu Sans Mono',consolas,'Courier New',monospace\"><span style=\"color: #800000; text-decoration-color: #800000\">WARNING </span> <span style=\"color: #008000; text-decoration-color: #008000\">'name'</span> should be set on <span style=\"color: #008000; text-decoration-color: #008000\">'InitialAssignment()'</span>                                               <a href=\"file:///home/mkoenig/git/sbmlutils/src/sbmlutils/factory.py\" target=\"_blank\"><span style=\"color: #7f7f7f; text-decoration-color: #7f7f7f\">factory.py</span></a><span style=\"color: #7f7f7f; text-decoration-color: #7f7f7f\">:</span><a href=\"file:///home/mkoenig/git/sbmlutils/src/sbmlutils/factory.py#441\" target=\"_blank\"><span style=\"color: #7f7f7f; text-decoration-color: #7f7f7f\">441</span></a>\n",
       "</pre>\n"
      ],
      "text/plain": [
       "\u001b[31mWARNING \u001b[0m \u001b[32m'name'\u001b[0m should be set on \u001b[32m'InitialAssignment\u001b[0m\u001b[32m(\u001b[0m\u001b[32m)\u001b[0m\u001b[32m'\u001b[0m                                               \u001b]8;id=4949;file:///home/mkoenig/git/sbmlutils/src/sbmlutils/factory.py\u001b\\\u001b[2mfactory.py\u001b[0m\u001b]8;;\u001b\\\u001b[2m:\u001b[0m\u001b]8;id=842133;file:///home/mkoenig/git/sbmlutils/src/sbmlutils/factory.py#441\u001b\\\u001b[2m441\u001b[0m\u001b]8;;\u001b\\\n"
      ]
     },
     "metadata": {},
     "output_type": "display_data"
    },
    {
     "data": {
      "text/html": [
       "<pre style=\"white-space:pre;overflow-x:auto;line-height:normal;font-family:Menlo,'DejaVu Sans Mono',consolas,'Courier New',monospace\"><span style=\"color: #800000; text-decoration-color: #800000\">WARNING </span> <span style=\"color: #008000; text-decoration-color: #008000\">'sboTerm'</span> should be set on <span style=\"color: #008000; text-decoration-color: #008000\">'InitialAssignment()'</span>                                            <a href=\"file:///home/mkoenig/git/sbmlutils/src/sbmlutils/factory.py\" target=\"_blank\"><span style=\"color: #7f7f7f; text-decoration-color: #7f7f7f\">factory.py</span></a><span style=\"color: #7f7f7f; text-decoration-color: #7f7f7f\">:</span><a href=\"file:///home/mkoenig/git/sbmlutils/src/sbmlutils/factory.py#466\" target=\"_blank\"><span style=\"color: #7f7f7f; text-decoration-color: #7f7f7f\">466</span></a>\n",
       "</pre>\n"
      ],
      "text/plain": [
       "\u001b[31mWARNING \u001b[0m \u001b[32m'sboTerm'\u001b[0m should be set on \u001b[32m'InitialAssignment\u001b[0m\u001b[32m(\u001b[0m\u001b[32m)\u001b[0m\u001b[32m'\u001b[0m                                            \u001b]8;id=844133;file:///home/mkoenig/git/sbmlutils/src/sbmlutils/factory.py\u001b\\\u001b[2mfactory.py\u001b[0m\u001b]8;;\u001b\\\u001b[2m:\u001b[0m\u001b]8;id=453989;file:///home/mkoenig/git/sbmlutils/src/sbmlutils/factory.py#466\u001b\\\u001b[2m466\u001b[0m\u001b]8;;\u001b\\\n"
      ]
     },
     "metadata": {},
     "output_type": "display_data"
    },
    {
     "data": {
      "text/html": [
       "<style type=\"text/css\">pre { line-height: 125%; }\n",
       "td.linenos .normal { color: inherit; background-color: transparent; padding-left: 5px; padding-right: 5px; }\n",
       "span.linenos { color: inherit; background-color: transparent; padding-left: 5px; padding-right: 5px; }\n",
       "td.linenos .special { color: #000000; background-color: #ffffc0; padding-left: 5px; padding-right: 5px; }\n",
       "span.linenos.special { color: #000000; background-color: #ffffc0; padding-left: 5px; padding-right: 5px; }\n",
       ".highlight .hll { background-color: #ffffcc }\n",
       ".highlight { background: #f8f8f8; }\n",
       ".highlight .c { color: #3D7B7B; font-style: italic } /* Comment */\n",
       ".highlight .err { border: 1px solid #FF0000 } /* Error */\n",
       ".highlight .k { color: #008000; font-weight: bold } /* Keyword */\n",
       ".highlight .o { color: #666666 } /* Operator */\n",
       ".highlight .ch { color: #3D7B7B; font-style: italic } /* Comment.Hashbang */\n",
       ".highlight .cm { color: #3D7B7B; font-style: italic } /* Comment.Multiline */\n",
       ".highlight .cp { color: #9C6500 } /* Comment.Preproc */\n",
       ".highlight .cpf { color: #3D7B7B; font-style: italic } /* Comment.PreprocFile */\n",
       ".highlight .c1 { color: #3D7B7B; font-style: italic } /* Comment.Single */\n",
       ".highlight .cs { color: #3D7B7B; font-style: italic } /* Comment.Special */\n",
       ".highlight .gd { color: #A00000 } /* Generic.Deleted */\n",
       ".highlight .ge { font-style: italic } /* Generic.Emph */\n",
       ".highlight .gr { color: #E40000 } /* Generic.Error */\n",
       ".highlight .gh { color: #000080; font-weight: bold } /* Generic.Heading */\n",
       ".highlight .gi { color: #008400 } /* Generic.Inserted */\n",
       ".highlight .go { color: #717171 } /* Generic.Output */\n",
       ".highlight .gp { color: #000080; font-weight: bold } /* Generic.Prompt */\n",
       ".highlight .gs { font-weight: bold } /* Generic.Strong */\n",
       ".highlight .gu { color: #800080; font-weight: bold } /* Generic.Subheading */\n",
       ".highlight .gt { color: #0044DD } /* Generic.Traceback */\n",
       ".highlight .kc { color: #008000; font-weight: bold } /* Keyword.Constant */\n",
       ".highlight .kd { color: #008000; font-weight: bold } /* Keyword.Declaration */\n",
       ".highlight .kn { color: #008000; font-weight: bold } /* Keyword.Namespace */\n",
       ".highlight .kp { color: #008000 } /* Keyword.Pseudo */\n",
       ".highlight .kr { color: #008000; font-weight: bold } /* Keyword.Reserved */\n",
       ".highlight .kt { color: #B00040 } /* Keyword.Type */\n",
       ".highlight .m { color: #666666 } /* Literal.Number */\n",
       ".highlight .s { color: #BA2121 } /* Literal.String */\n",
       ".highlight .na { color: #687822 } /* Name.Attribute */\n",
       ".highlight .nb { color: #008000 } /* Name.Builtin */\n",
       ".highlight .nc { color: #0000FF; font-weight: bold } /* Name.Class */\n",
       ".highlight .no { color: #880000 } /* Name.Constant */\n",
       ".highlight .nd { color: #AA22FF } /* Name.Decorator */\n",
       ".highlight .ni { color: #717171; font-weight: bold } /* Name.Entity */\n",
       ".highlight .ne { color: #CB3F38; font-weight: bold } /* Name.Exception */\n",
       ".highlight .nf { color: #0000FF } /* Name.Function */\n",
       ".highlight .nl { color: #767600 } /* Name.Label */\n",
       ".highlight .nn { color: #0000FF; font-weight: bold } /* Name.Namespace */\n",
       ".highlight .nt { color: #008000; font-weight: bold } /* Name.Tag */\n",
       ".highlight .nv { color: #19177C } /* Name.Variable */\n",
       ".highlight .ow { color: #AA22FF; font-weight: bold } /* Operator.Word */\n",
       ".highlight .w { color: #bbbbbb } /* Text.Whitespace */\n",
       ".highlight .mb { color: #666666 } /* Literal.Number.Bin */\n",
       ".highlight .mf { color: #666666 } /* Literal.Number.Float */\n",
       ".highlight .mh { color: #666666 } /* Literal.Number.Hex */\n",
       ".highlight .mi { color: #666666 } /* Literal.Number.Integer */\n",
       ".highlight .mo { color: #666666 } /* Literal.Number.Oct */\n",
       ".highlight .sa { color: #BA2121 } /* Literal.String.Affix */\n",
       ".highlight .sb { color: #BA2121 } /* Literal.String.Backtick */\n",
       ".highlight .sc { color: #BA2121 } /* Literal.String.Char */\n",
       ".highlight .dl { color: #BA2121 } /* Literal.String.Delimiter */\n",
       ".highlight .sd { color: #BA2121; font-style: italic } /* Literal.String.Doc */\n",
       ".highlight .s2 { color: #BA2121 } /* Literal.String.Double */\n",
       ".highlight .se { color: #AA5D1F; font-weight: bold } /* Literal.String.Escape */\n",
       ".highlight .sh { color: #BA2121 } /* Literal.String.Heredoc */\n",
       ".highlight .si { color: #A45A77; font-weight: bold } /* Literal.String.Interpol */\n",
       ".highlight .sx { color: #008000 } /* Literal.String.Other */\n",
       ".highlight .sr { color: #A45A77 } /* Literal.String.Regex */\n",
       ".highlight .s1 { color: #BA2121 } /* Literal.String.Single */\n",
       ".highlight .ss { color: #19177C } /* Literal.String.Symbol */\n",
       ".highlight .bp { color: #008000 } /* Name.Builtin.Pseudo */\n",
       ".highlight .fm { color: #0000FF } /* Name.Function.Magic */\n",
       ".highlight .vc { color: #19177C } /* Name.Variable.Class */\n",
       ".highlight .vg { color: #19177C } /* Name.Variable.Global */\n",
       ".highlight .vi { color: #19177C } /* Name.Variable.Instance */\n",
       ".highlight .vm { color: #19177C } /* Name.Variable.Magic */\n",
       ".highlight .il { color: #666666 } /* Literal.Number.Integer.Long */</style>    <div class=\"highlight\"><pre><span></span><span class=\"cp\">&lt;?xml version=&quot;1.0&quot; encoding=&quot;UTF-8&quot;?&gt;</span>\n",
       "<span class=\"nt\">&lt;sbml</span> <span class=\"na\">xmlns=</span><span class=\"s\">&quot;http://www.sbml.org/sbml/level3/version1/core&quot;</span> <span class=\"na\">xmlns:distrib=</span><span class=\"s\">&quot;http://www.sbml.org/sbml/level3/version1/distrib/version1&quot;</span> <span class=\"na\">xmlns:comp=</span><span class=\"s\">&quot;http://www.sbml.org/sbml/level3/version1/comp/version1&quot;</span> <span class=\"na\">level=</span><span class=\"s\">&quot;3&quot;</span> <span class=\"na\">version=</span><span class=\"s\">&quot;1&quot;</span> <span class=\"na\">distrib:required=</span><span class=\"s\">&quot;true&quot;</span> <span class=\"na\">comp:required=</span><span class=\"s\">&quot;true&quot;</span><span class=\"nt\">&gt;</span>\n",
       "  <span class=\"nt\">&lt;notes&gt;</span>\n",
       "    <span class=\"nt\">&lt;body</span> <span class=\"na\">xmlns=</span><span class=\"s\">&quot;http://www.w3.org/1999/xhtml&quot;</span><span class=\"nt\">&gt;</span>\n",
       "      <span class=\"nt\">&lt;p&gt;</span>Created with <span class=\"nt\">&lt;a</span> <span class=\"na\">href=</span><span class=\"s\">&quot;https://github.com/matthiaskoenig/sbmlutils&quot;</span><span class=\"nt\">&gt;</span>https://github.com/matthiaskoenig/sbmlutils<span class=\"nt\">&lt;/a&gt;</span>.\n",
       "<span class=\"nt\">&lt;a</span> <span class=\"na\">href=</span><span class=\"s\">&quot;https://doi.org/10.5281/zenodo.5525390&quot;</span><span class=\"nt\">&gt;</span>\n",
       "        <span class=\"nt\">&lt;img</span> <span class=\"na\">src=</span><span class=\"s\">&quot;https://zenodo.org/badge/DOI/10.5281/zenodo.5525390.svg&quot;</span> <span class=\"na\">alt=</span><span class=\"s\">&quot;DOI&quot;</span><span class=\"nt\">/&gt;&lt;/a&gt;&lt;/p&gt;</span>\n",
       "      <span class=\"nt\">&lt;/body&gt;</span>\n",
       "    <span class=\"nt\">&lt;/notes&gt;</span>\n",
       "  <span class=\"nt\">&lt;model</span> <span class=\"na\">id=</span><span class=\"s\">&quot;distrib_assignment&quot;</span> <span class=\"na\">substanceUnits=</span><span class=\"s\">&quot;mole&quot;</span> <span class=\"na\">timeUnits=</span><span class=\"s\">&quot;hr&quot;</span> <span class=\"na\">volumeUnits=</span><span class=\"s\">&quot;litre&quot;</span> <span class=\"na\">areaUnits=</span><span class=\"s\">&quot;m2&quot;</span> <span class=\"na\">lengthUnits=</span><span class=\"s\">&quot;metre&quot;</span> <span class=\"na\">extentUnits=</span><span class=\"s\">&quot;mole&quot;</span><span class=\"nt\">&gt;</span>\n",
       "    <span class=\"nt\">&lt;listOfUnitDefinitions&gt;</span>\n",
       "      <span class=\"nt\">&lt;unitDefinition</span> <span class=\"na\">id=</span><span class=\"s\">&quot;hr&quot;</span> <span class=\"na\">name=</span><span class=\"s\">&quot;hr&quot;</span><span class=\"nt\">&gt;</span>\n",
       "        <span class=\"nt\">&lt;listOfUnits&gt;</span>\n",
       "          <span class=\"nt\">&lt;unit</span> <span class=\"na\">kind=</span><span class=\"s\">&quot;second&quot;</span> <span class=\"na\">exponent=</span><span class=\"s\">&quot;1&quot;</span> <span class=\"na\">scale=</span><span class=\"s\">&quot;0&quot;</span> <span class=\"na\">multiplier=</span><span class=\"s\">&quot;3600&quot;</span><span class=\"nt\">/&gt;</span>\n",
       "        <span class=\"nt\">&lt;/listOfUnits&gt;</span>\n",
       "      <span class=\"nt\">&lt;/unitDefinition&gt;</span>\n",
       "      <span class=\"nt\">&lt;unitDefinition</span> <span class=\"na\">id=</span><span class=\"s\">&quot;m2&quot;</span> <span class=\"na\">name=</span><span class=\"s\">&quot;meter^2&quot;</span><span class=\"nt\">&gt;</span>\n",
       "        <span class=\"nt\">&lt;listOfUnits&gt;</span>\n",
       "          <span class=\"nt\">&lt;unit</span> <span class=\"na\">kind=</span><span class=\"s\">&quot;metre&quot;</span> <span class=\"na\">exponent=</span><span class=\"s\">&quot;2&quot;</span> <span class=\"na\">scale=</span><span class=\"s\">&quot;0&quot;</span> <span class=\"na\">multiplier=</span><span class=\"s\">&quot;1&quot;</span><span class=\"nt\">/&gt;</span>\n",
       "        <span class=\"nt\">&lt;/listOfUnits&gt;</span>\n",
       "      <span class=\"nt\">&lt;/unitDefinition&gt;</span>\n",
       "      <span class=\"nt\">&lt;unitDefinition</span> <span class=\"na\">id=</span><span class=\"s\">&quot;mM&quot;</span> <span class=\"na\">name=</span><span class=\"s\">&quot;mmole/liter&quot;</span><span class=\"nt\">&gt;</span>\n",
       "        <span class=\"nt\">&lt;listOfUnits&gt;</span>\n",
       "          <span class=\"nt\">&lt;unit</span> <span class=\"na\">kind=</span><span class=\"s\">&quot;mole&quot;</span> <span class=\"na\">exponent=</span><span class=\"s\">&quot;1&quot;</span> <span class=\"na\">scale=</span><span class=\"s\">&quot;0&quot;</span> <span class=\"na\">multiplier=</span><span class=\"s\">&quot;0.001&quot;</span><span class=\"nt\">/&gt;</span>\n",
       "          <span class=\"nt\">&lt;unit</span> <span class=\"na\">kind=</span><span class=\"s\">&quot;litre&quot;</span> <span class=\"na\">exponent=</span><span class=\"s\">&quot;-1&quot;</span> <span class=\"na\">scale=</span><span class=\"s\">&quot;0&quot;</span> <span class=\"na\">multiplier=</span><span class=\"s\">&quot;1&quot;</span><span class=\"nt\">/&gt;</span>\n",
       "        <span class=\"nt\">&lt;/listOfUnits&gt;</span>\n",
       "      <span class=\"nt\">&lt;/unitDefinition&gt;</span>\n",
       "    <span class=\"nt\">&lt;/listOfUnitDefinitions&gt;</span>\n",
       "    <span class=\"nt\">&lt;listOfParameters&gt;</span>\n",
       "      <span class=\"nt\">&lt;parameter</span> <span class=\"na\">id=</span><span class=\"s\">&quot;p1&quot;</span> <span class=\"na\">value=</span><span class=\"s\">&quot;0&quot;</span> <span class=\"na\">units=</span><span class=\"s\">&quot;mM&quot;</span> <span class=\"na\">constant=</span><span class=\"s\">&quot;true&quot;</span><span class=\"nt\">/&gt;</span>\n",
       "    <span class=\"nt\">&lt;/listOfParameters&gt;</span>\n",
       "    <span class=\"nt\">&lt;listOfInitialAssignments&gt;</span>\n",
       "      <span class=\"nt\">&lt;initialAssignment</span> <span class=\"na\">symbol=</span><span class=\"s\">&quot;p1&quot;</span><span class=\"nt\">&gt;</span>\n",
       "        <span class=\"nt\">&lt;math</span> <span class=\"na\">xmlns=</span><span class=\"s\">&quot;http://www.w3.org/1998/Math/MathML&quot;</span> <span class=\"na\">xmlns:sbml=</span><span class=\"s\">&quot;http://www.sbml.org/sbml/level3/version1/core&quot;</span><span class=\"nt\">&gt;</span>\n",
       "          <span class=\"nt\">&lt;apply&gt;</span>\n",
       "            <span class=\"nt\">&lt;csymbol</span> <span class=\"na\">encoding=</span><span class=\"s\">&quot;text&quot;</span> <span class=\"na\">definitionURL=</span><span class=\"s\">&quot;http://www.sbml.org/sbml/symbols/distrib/normal&quot;</span><span class=\"nt\">&gt;</span> normal <span class=\"nt\">&lt;/csymbol&gt;</span>\n",
       "            <span class=\"nt\">&lt;cn</span> <span class=\"na\">sbml:units=</span><span class=\"s\">&quot;mM&quot;</span> <span class=\"na\">type=</span><span class=\"s\">&quot;integer&quot;</span><span class=\"nt\">&gt;</span> 0 <span class=\"nt\">&lt;/cn&gt;</span>\n",
       "            <span class=\"nt\">&lt;cn</span> <span class=\"na\">sbml:units=</span><span class=\"s\">&quot;mM&quot;</span> <span class=\"na\">type=</span><span class=\"s\">&quot;integer&quot;</span><span class=\"nt\">&gt;</span> 1 <span class=\"nt\">&lt;/cn&gt;</span>\n",
       "          <span class=\"nt\">&lt;/apply&gt;</span>\n",
       "        <span class=\"nt\">&lt;/math&gt;</span>\n",
       "      <span class=\"nt\">&lt;/initialAssignment&gt;</span>\n",
       "    <span class=\"nt\">&lt;/listOfInitialAssignments&gt;</span>\n",
       "  <span class=\"nt\">&lt;/model&gt;</span>\n",
       "<span class=\"nt\">&lt;/sbml&gt;</span>\n",
       "</pre></div>\n"
      ]
     },
     "metadata": {},
     "output_type": "display_data"
    },
    {
     "data": {
      "text/html": [
       "<pre style=\"white-space:pre;overflow-x:auto;line-height:normal;font-family:Menlo,'DejaVu Sans Mono',consolas,'Courier New',monospace\">\n",
       "</pre>\n"
      ],
      "text/plain": [
       "\n"
      ]
     },
     "metadata": {},
     "output_type": "display_data"
    },
    {
     "data": {
      "text/html": [
       "<pre style=\"white-space:pre;overflow-x:auto;line-height:normal;font-family:Menlo,'DejaVu Sans Mono',consolas,'Courier New',monospace\"><span style=\"color: #008000; text-decoration-color: #008000\">────────────────────────────────────────────────── </span>Validate SBML<span style=\"color: #008000; text-decoration-color: #008000\"> ──────────────────────────────────────────────────</span>\n",
       "</pre>\n"
      ],
      "text/plain": [
       "\u001b[32m────────────────────────────────────────────────── \u001b[0mValidate SBML\u001b[32m ──────────────────────────────────────────────────\u001b[0m\n"
      ]
     },
     "metadata": {},
     "output_type": "display_data"
    },
    {
     "data": {
      "text/html": [
       "<pre style=\"white-space:pre;overflow-x:auto;line-height:normal;font-family:Menlo,'DejaVu Sans Mono',consolas,'Courier New',monospace\"><span style=\"color: #008000; text-decoration-color: #008000; font-weight: bold\">&lt;</span><span style=\"color: #ff00ff; text-decoration-color: #ff00ff; font-weight: bold\">SBMLDocument</span><span style=\"color: #008000; text-decoration-color: #008000; font-weight: bold\">&gt;</span>\n",
       "<span style=\"color: #008000; text-decoration-color: #008000\">valid                    : TRUE</span>\n",
       "<span style=\"color: #008000; text-decoration-color: #008000\">check time </span><span style=\"color: #008000; text-decoration-color: #008000; font-weight: bold\">(</span><span style=\"color: #008000; text-decoration-color: #008000\">s</span><span style=\"color: #008000; text-decoration-color: #008000; font-weight: bold\">)</span><span style=\"color: #008000; text-decoration-color: #008000\">           : </span><span style=\"color: #008080; text-decoration-color: #008080; font-weight: bold\">0.002</span>\n",
       "</pre>\n"
      ],
      "text/plain": [
       "\u001b[1;32m<\u001b[0m\u001b[1;95mSBMLDocument\u001b[0m\u001b[1;32m>\u001b[0m\n",
       "\u001b[32mvalid                    : TRUE\u001b[0m\n",
       "\u001b[32mcheck time \u001b[0m\u001b[1;32m(\u001b[0m\u001b[32ms\u001b[0m\u001b[1;32m)\u001b[0m\u001b[32m           : \u001b[0m\u001b[1;36m0.002\u001b[0m\n"
      ]
     },
     "metadata": {},
     "output_type": "display_data"
    },
    {
     "data": {
      "text/html": [
       "<pre style=\"white-space:pre;overflow-x:auto;line-height:normal;font-family:Menlo,'DejaVu Sans Mono',consolas,'Courier New',monospace\"><span style=\"color: #008000; text-decoration-color: #008000\">───────────────────────────────────────────────────────────────────────────────────────────────────────────────────</span>\n",
       "</pre>\n"
      ],
      "text/plain": [
       "\u001b[32m───────────────────────────────────────────────────────────────────────────────────────────────────────────────────\u001b[0m\n"
      ]
     },
     "metadata": {},
     "output_type": "display_data"
    },
    {
     "data": {
      "text/html": [
       "<pre style=\"white-space:pre;overflow-x:auto;line-height:normal;font-family:Menlo,'DejaVu Sans Mono',consolas,'Courier New',monospace\">\n",
       "</pre>\n"
      ],
      "text/plain": [
       "\n"
      ]
     },
     "metadata": {},
     "output_type": "display_data"
    }
   ],
   "source": [
    "class U(Units):\n",
    "    \"\"\"UnitDefinitions.\"\"\"\n",
    "    hr = UnitDefinition(\"hr\")\n",
    "    m2 = UnitDefinition(\"m2\", \"meter^2\")\n",
    "    mM = UnitDefinition(\"mM\", \"mmole/liter\")\n",
    "\n",
    "# model definition    \n",
    "model = Model(\n",
    "    'distrib_assignment',\n",
    "    packages= [Package.DISTRIB_V1],\n",
    "    units=U,\n",
    "    model_units= ModelUnits(\n",
    "        time=U.hr, extent=U.mole, substance=U.mole,\n",
    "        length=U.meter, area=U.m2, volume=U.liter),\n",
    "    parameters= [\n",
    "        Parameter(sid=\"p1\", value=0.0, unit=U.mM)\n",
    "    ],\n",
    "    assignments= [\n",
    "        InitialAssignment('p1', 'normal(0 mM, 1 mM)'),\n",
    "    ]\n",
    ")\n",
    "\n",
    "# create model and print SBML\n",
    "doc = Document(model)\n",
    "print_xml(doc.get_sbml())\n",
    "\n",
    "# validate model\n",
    "validate_doc(doc.doc, options=ValidationOptions(units_consistency=False));"
   ]
  },
  {
   "cell_type": "markdown",
   "metadata": {},
   "source": [
    "### Using a normal distribution\n",
    "In this example, the initial value of y is set as a draw from the normal distribution `normal(z,10)`:"
   ]
  },
  {
   "cell_type": "code",
   "execution_count": 4,
   "metadata": {},
   "outputs": [
    {
     "data": {
      "text/html": [
       "<pre style=\"white-space:pre;overflow-x:auto;line-height:normal;font-family:Menlo,'DejaVu Sans Mono',consolas,'Courier New',monospace\"><span style=\"color: #000080; text-decoration-color: #000080\">INFO    </span> Create SBML for model <span style=\"color: #008000; text-decoration-color: #008000\">'normal'</span>                                                             <a href=\"file:///home/mkoenig/git/sbmlutils/src/sbmlutils/factory.py\" target=\"_blank\"><span style=\"color: #7f7f7f; text-decoration-color: #7f7f7f\">factory.py</span></a><span style=\"color: #7f7f7f; text-decoration-color: #7f7f7f\">:</span><a href=\"file:///home/mkoenig/git/sbmlutils/src/sbmlutils/factory.py#3526\" target=\"_blank\"><span style=\"color: #7f7f7f; text-decoration-color: #7f7f7f\">3526</span></a>\n",
       "</pre>\n"
      ],
      "text/plain": [
       "\u001b[34mINFO    \u001b[0m Create SBML for model \u001b[32m'normal'\u001b[0m                                                             \u001b]8;id=161195;file:///home/mkoenig/git/sbmlutils/src/sbmlutils/factory.py\u001b\\\u001b[2mfactory.py\u001b[0m\u001b]8;;\u001b\\\u001b[2m:\u001b[0m\u001b]8;id=955108;file:///home/mkoenig/git/sbmlutils/src/sbmlutils/factory.py#3526\u001b\\\u001b[2m3526\u001b[0m\u001b]8;;\u001b\\\n"
      ]
     },
     "metadata": {},
     "output_type": "display_data"
    },
    {
     "data": {
      "text/html": [
       "<pre style=\"white-space:pre;overflow-x:auto;line-height:normal;font-family:Menlo,'DejaVu Sans Mono',consolas,'Courier New',monospace\"><span style=\"color: #800000; text-decoration-color: #800000\">WARNING </span> <span style=\"color: #008000; text-decoration-color: #008000\">'name'</span> should be set on <span style=\"color: #008000; text-decoration-color: #008000\">'Model(sid='</span>normal', <span style=\"color: #808000; text-decoration-color: #808000\">packages</span>=<span style=\"font-weight: bold\">[&lt;</span><span style=\"color: #ff00ff; text-decoration-color: #ff00ff; font-weight: bold\">Package.DISTRIB_V1:</span><span style=\"color: #000000; text-decoration-color: #000000\"> </span><span style=\"color: #008000; text-decoration-color: #008000\">'distrib-v1'</span><span style=\"font-weight: bold\">&gt;</span>,  <a href=\"file:///home/mkoenig/git/sbmlutils/src/sbmlutils/factory.py\" target=\"_blank\"><span style=\"color: #7f7f7f; text-decoration-color: #7f7f7f\">factory.py</span></a><span style=\"color: #7f7f7f; text-decoration-color: #7f7f7f\">:</span><a href=\"file:///home/mkoenig/git/sbmlutils/src/sbmlutils/factory.py#441\" target=\"_blank\"><span style=\"color: #7f7f7f; text-decoration-color: #7f7f7f\">441</span></a>\n",
       "         <span style=\"font-weight: bold\">&lt;</span><span style=\"color: #ff00ff; text-decoration-color: #ff00ff; font-weight: bold\">Package.COMP_V1:</span><span style=\"color: #000000; text-decoration-color: #000000\"> </span><span style=\"color: #008000; text-decoration-color: #008000\">'comp-v1'</span><span style=\"font-weight: bold\">&gt;]</span>, <span style=\"color: #808000; text-decoration-color: #808000\">units</span>=<span style=\"font-weight: bold\">&lt;</span><span style=\"color: #ff00ff; text-decoration-color: #ff00ff; font-weight: bold\">class</span><span style=\"color: #000000; text-decoration-color: #000000\"> </span><span style=\"color: #008000; text-decoration-color: #008000\">'sbmlutils.factory.Units'</span><span style=\"font-weight: bold\">&gt;</span>, <span style=\"color: #808000; text-decoration-color: #808000\">parameters</span>=<span style=\"font-weight: bold\">[</span>y = <span style=\"color: #008080; text-decoration-color: #008080; font-weight: bold\">1.0</span> <span style=\"color: #7f7f7f; text-decoration-color: #7f7f7f\">              </span>\n",
       "         <span style=\"font-weight: bold\">[</span><span style=\"color: #800080; text-decoration-color: #800080; font-style: italic\">None</span><span style=\"font-weight: bold\">]</span>, z = <span style=\"color: #008080; text-decoration-color: #008080; font-weight: bold\">1.0</span> <span style=\"font-weight: bold\">[</span><span style=\"color: #800080; text-decoration-color: #800080; font-style: italic\">None</span><span style=\"font-weight: bold\">]]</span>, <span style=\"color: #808000; text-decoration-color: #808000\">assignments</span>=<span style=\"font-weight: bold\">[&lt;</span><span style=\"color: #ff00ff; text-decoration-color: #ff00ff; font-weight: bold\">sbmlutils.factory.InitialAssignment</span><span style=\"color: #000000; text-decoration-color: #000000\"> object at </span>       <span style=\"color: #7f7f7f; text-decoration-color: #7f7f7f\">              </span>\n",
       "         <span style=\"color: #008080; text-decoration-color: #008080; font-weight: bold\">0x7f8f2b01f2b0</span><span style=\"font-weight: bold\">&gt;]</span>, <span style=\"color: #808000; text-decoration-color: #808000\">_FrozenClass__isfrozen</span>=<span style=\"color: #00ff00; text-decoration-color: #00ff00; font-style: italic\">True</span><span style=\"font-weight: bold\">)</span>'                                             <span style=\"color: #7f7f7f; text-decoration-color: #7f7f7f\">              </span>\n",
       "</pre>\n"
      ],
      "text/plain": [
       "\u001b[31mWARNING \u001b[0m \u001b[32m'name'\u001b[0m should be set on \u001b[32m'Model\u001b[0m\u001b[32m(\u001b[0m\u001b[32msid\u001b[0m\u001b[32m='\u001b[0mnormal', \u001b[33mpackages\u001b[0m=\u001b[1m[\u001b[0m\u001b[1m<\u001b[0m\u001b[1;95mPackage.DISTRIB_V1:\u001b[0m\u001b[39m \u001b[0m\u001b[32m'distrib-v1'\u001b[0m\u001b[1m>\u001b[0m,  \u001b]8;id=545044;file:///home/mkoenig/git/sbmlutils/src/sbmlutils/factory.py\u001b\\\u001b[2mfactory.py\u001b[0m\u001b]8;;\u001b\\\u001b[2m:\u001b[0m\u001b]8;id=827078;file:///home/mkoenig/git/sbmlutils/src/sbmlutils/factory.py#441\u001b\\\u001b[2m441\u001b[0m\u001b]8;;\u001b\\\n",
       "         \u001b[1m<\u001b[0m\u001b[1;95mPackage.COMP_V1:\u001b[0m\u001b[39m \u001b[0m\u001b[32m'comp-v1'\u001b[0m\u001b[1m>\u001b[0m\u001b[1m]\u001b[0m, \u001b[33munits\u001b[0m=\u001b[1m<\u001b[0m\u001b[1;95mclass\u001b[0m\u001b[39m \u001b[0m\u001b[32m'sbmlutils.factory.Units'\u001b[0m\u001b[1m>\u001b[0m, \u001b[33mparameters\u001b[0m=\u001b[1m[\u001b[0my = \u001b[1;36m1.0\u001b[0m \u001b[2m              \u001b[0m\n",
       "         \u001b[1m[\u001b[0m\u001b[3;35mNone\u001b[0m\u001b[1m]\u001b[0m, z = \u001b[1;36m1.0\u001b[0m \u001b[1m[\u001b[0m\u001b[3;35mNone\u001b[0m\u001b[1m]\u001b[0m\u001b[1m]\u001b[0m, \u001b[33massignments\u001b[0m=\u001b[1m[\u001b[0m\u001b[1m<\u001b[0m\u001b[1;95msbmlutils.factory.InitialAssignment\u001b[0m\u001b[39m object at \u001b[0m       \u001b[2m              \u001b[0m\n",
       "         \u001b[1;36m0x7f8f2b01f2b0\u001b[0m\u001b[1m>\u001b[0m\u001b[1m]\u001b[0m, \u001b[33m_FrozenClass__isfrozen\u001b[0m=\u001b[3;92mTrue\u001b[0m\u001b[1m)\u001b[0m'                                             \u001b[2m              \u001b[0m\n"
      ]
     },
     "metadata": {},
     "output_type": "display_data"
    },
    {
     "data": {
      "text/html": [
       "<pre style=\"white-space:pre;overflow-x:auto;line-height:normal;font-family:Menlo,'DejaVu Sans Mono',consolas,'Courier New',monospace\"><span style=\"color: #800000; text-decoration-color: #800000\">WARNING </span> <span style=\"color: #008000; text-decoration-color: #008000\">'name'</span> should be set on <span style=\"color: #008000; text-decoration-color: #008000\">'Parameter(y)'</span>                                                      <a href=\"file:///home/mkoenig/git/sbmlutils/src/sbmlutils/factory.py\" target=\"_blank\"><span style=\"color: #7f7f7f; text-decoration-color: #7f7f7f\">factory.py</span></a><span style=\"color: #7f7f7f; text-decoration-color: #7f7f7f\">:</span><a href=\"file:///home/mkoenig/git/sbmlutils/src/sbmlutils/factory.py#441\" target=\"_blank\"><span style=\"color: #7f7f7f; text-decoration-color: #7f7f7f\">441</span></a>\n",
       "</pre>\n"
      ],
      "text/plain": [
       "\u001b[31mWARNING \u001b[0m \u001b[32m'name'\u001b[0m should be set on \u001b[32m'Parameter\u001b[0m\u001b[32m(\u001b[0m\u001b[32my\u001b[0m\u001b[32m)\u001b[0m\u001b[32m'\u001b[0m                                                      \u001b]8;id=600185;file:///home/mkoenig/git/sbmlutils/src/sbmlutils/factory.py\u001b\\\u001b[2mfactory.py\u001b[0m\u001b]8;;\u001b\\\u001b[2m:\u001b[0m\u001b]8;id=203024;file:///home/mkoenig/git/sbmlutils/src/sbmlutils/factory.py#441\u001b\\\u001b[2m441\u001b[0m\u001b]8;;\u001b\\\n"
      ]
     },
     "metadata": {},
     "output_type": "display_data"
    },
    {
     "data": {
      "text/html": [
       "<pre style=\"white-space:pre;overflow-x:auto;line-height:normal;font-family:Menlo,'DejaVu Sans Mono',consolas,'Courier New',monospace\"><span style=\"color: #800000; text-decoration-color: #800000\">WARNING </span> <span style=\"color: #008000; text-decoration-color: #008000\">'sboTerm'</span> should be set on <span style=\"color: #008000; text-decoration-color: #008000\">'Parameter(y)'</span>                                                   <a href=\"file:///home/mkoenig/git/sbmlutils/src/sbmlutils/factory.py\" target=\"_blank\"><span style=\"color: #7f7f7f; text-decoration-color: #7f7f7f\">factory.py</span></a><span style=\"color: #7f7f7f; text-decoration-color: #7f7f7f\">:</span><a href=\"file:///home/mkoenig/git/sbmlutils/src/sbmlutils/factory.py#466\" target=\"_blank\"><span style=\"color: #7f7f7f; text-decoration-color: #7f7f7f\">466</span></a>\n",
       "</pre>\n"
      ],
      "text/plain": [
       "\u001b[31mWARNING \u001b[0m \u001b[32m'sboTerm'\u001b[0m should be set on \u001b[32m'Parameter\u001b[0m\u001b[32m(\u001b[0m\u001b[32my\u001b[0m\u001b[32m)\u001b[0m\u001b[32m'\u001b[0m                                                   \u001b]8;id=371285;file:///home/mkoenig/git/sbmlutils/src/sbmlutils/factory.py\u001b\\\u001b[2mfactory.py\u001b[0m\u001b]8;;\u001b\\\u001b[2m:\u001b[0m\u001b]8;id=708843;file:///home/mkoenig/git/sbmlutils/src/sbmlutils/factory.py#466\u001b\\\u001b[2m466\u001b[0m\u001b]8;;\u001b\\\n"
      ]
     },
     "metadata": {},
     "output_type": "display_data"
    },
    {
     "data": {
      "text/html": [
       "<pre style=\"white-space:pre;overflow-x:auto;line-height:normal;font-family:Menlo,'DejaVu Sans Mono',consolas,'Courier New',monospace\"><span style=\"color: #800000; text-decoration-color: #800000\">WARNING </span> <span style=\"color: #008000; text-decoration-color: #008000\">'name'</span> should be set on <span style=\"color: #008000; text-decoration-color: #008000\">'Parameter(z)'</span>                                                      <a href=\"file:///home/mkoenig/git/sbmlutils/src/sbmlutils/factory.py\" target=\"_blank\"><span style=\"color: #7f7f7f; text-decoration-color: #7f7f7f\">factory.py</span></a><span style=\"color: #7f7f7f; text-decoration-color: #7f7f7f\">:</span><a href=\"file:///home/mkoenig/git/sbmlutils/src/sbmlutils/factory.py#441\" target=\"_blank\"><span style=\"color: #7f7f7f; text-decoration-color: #7f7f7f\">441</span></a>\n",
       "</pre>\n"
      ],
      "text/plain": [
       "\u001b[31mWARNING \u001b[0m \u001b[32m'name'\u001b[0m should be set on \u001b[32m'Parameter\u001b[0m\u001b[32m(\u001b[0m\u001b[32mz\u001b[0m\u001b[32m)\u001b[0m\u001b[32m'\u001b[0m                                                      \u001b]8;id=677292;file:///home/mkoenig/git/sbmlutils/src/sbmlutils/factory.py\u001b\\\u001b[2mfactory.py\u001b[0m\u001b]8;;\u001b\\\u001b[2m:\u001b[0m\u001b]8;id=459307;file:///home/mkoenig/git/sbmlutils/src/sbmlutils/factory.py#441\u001b\\\u001b[2m441\u001b[0m\u001b]8;;\u001b\\\n"
      ]
     },
     "metadata": {},
     "output_type": "display_data"
    },
    {
     "data": {
      "text/html": [
       "<pre style=\"white-space:pre;overflow-x:auto;line-height:normal;font-family:Menlo,'DejaVu Sans Mono',consolas,'Courier New',monospace\"><span style=\"color: #800000; text-decoration-color: #800000\">WARNING </span> <span style=\"color: #008000; text-decoration-color: #008000\">'sboTerm'</span> should be set on <span style=\"color: #008000; text-decoration-color: #008000\">'Parameter(z)'</span>                                                   <a href=\"file:///home/mkoenig/git/sbmlutils/src/sbmlutils/factory.py\" target=\"_blank\"><span style=\"color: #7f7f7f; text-decoration-color: #7f7f7f\">factory.py</span></a><span style=\"color: #7f7f7f; text-decoration-color: #7f7f7f\">:</span><a href=\"file:///home/mkoenig/git/sbmlutils/src/sbmlutils/factory.py#466\" target=\"_blank\"><span style=\"color: #7f7f7f; text-decoration-color: #7f7f7f\">466</span></a>\n",
       "</pre>\n"
      ],
      "text/plain": [
       "\u001b[31mWARNING \u001b[0m \u001b[32m'sboTerm'\u001b[0m should be set on \u001b[32m'Parameter\u001b[0m\u001b[32m(\u001b[0m\u001b[32mz\u001b[0m\u001b[32m)\u001b[0m\u001b[32m'\u001b[0m                                                   \u001b]8;id=970051;file:///home/mkoenig/git/sbmlutils/src/sbmlutils/factory.py\u001b\\\u001b[2mfactory.py\u001b[0m\u001b]8;;\u001b\\\u001b[2m:\u001b[0m\u001b]8;id=768260;file:///home/mkoenig/git/sbmlutils/src/sbmlutils/factory.py#466\u001b\\\u001b[2m466\u001b[0m\u001b]8;;\u001b\\\n"
      ]
     },
     "metadata": {},
     "output_type": "display_data"
    },
    {
     "data": {
      "text/html": [
       "<pre style=\"white-space:pre;overflow-x:auto;line-height:normal;font-family:Menlo,'DejaVu Sans Mono',consolas,'Courier New',monospace\"><span style=\"color: #800000; text-decoration-color: #800000\">WARNING </span> <span style=\"color: #008000; text-decoration-color: #008000\">'name'</span> should be set on <span style=\"color: #008000; text-decoration-color: #008000\">'InitialAssignment()'</span>                                               <a href=\"file:///home/mkoenig/git/sbmlutils/src/sbmlutils/factory.py\" target=\"_blank\"><span style=\"color: #7f7f7f; text-decoration-color: #7f7f7f\">factory.py</span></a><span style=\"color: #7f7f7f; text-decoration-color: #7f7f7f\">:</span><a href=\"file:///home/mkoenig/git/sbmlutils/src/sbmlutils/factory.py#441\" target=\"_blank\"><span style=\"color: #7f7f7f; text-decoration-color: #7f7f7f\">441</span></a>\n",
       "</pre>\n"
      ],
      "text/plain": [
       "\u001b[31mWARNING \u001b[0m \u001b[32m'name'\u001b[0m should be set on \u001b[32m'InitialAssignment\u001b[0m\u001b[32m(\u001b[0m\u001b[32m)\u001b[0m\u001b[32m'\u001b[0m                                               \u001b]8;id=245019;file:///home/mkoenig/git/sbmlutils/src/sbmlutils/factory.py\u001b\\\u001b[2mfactory.py\u001b[0m\u001b]8;;\u001b\\\u001b[2m:\u001b[0m\u001b]8;id=420271;file:///home/mkoenig/git/sbmlutils/src/sbmlutils/factory.py#441\u001b\\\u001b[2m441\u001b[0m\u001b]8;;\u001b\\\n"
      ]
     },
     "metadata": {},
     "output_type": "display_data"
    },
    {
     "data": {
      "text/html": [
       "<pre style=\"white-space:pre;overflow-x:auto;line-height:normal;font-family:Menlo,'DejaVu Sans Mono',consolas,'Courier New',monospace\"><span style=\"color: #800000; text-decoration-color: #800000\">WARNING </span> <span style=\"color: #008000; text-decoration-color: #008000\">'sboTerm'</span> should be set on <span style=\"color: #008000; text-decoration-color: #008000\">'InitialAssignment()'</span>                                            <a href=\"file:///home/mkoenig/git/sbmlutils/src/sbmlutils/factory.py\" target=\"_blank\"><span style=\"color: #7f7f7f; text-decoration-color: #7f7f7f\">factory.py</span></a><span style=\"color: #7f7f7f; text-decoration-color: #7f7f7f\">:</span><a href=\"file:///home/mkoenig/git/sbmlutils/src/sbmlutils/factory.py#466\" target=\"_blank\"><span style=\"color: #7f7f7f; text-decoration-color: #7f7f7f\">466</span></a>\n",
       "</pre>\n"
      ],
      "text/plain": [
       "\u001b[31mWARNING \u001b[0m \u001b[32m'sboTerm'\u001b[0m should be set on \u001b[32m'InitialAssignment\u001b[0m\u001b[32m(\u001b[0m\u001b[32m)\u001b[0m\u001b[32m'\u001b[0m                                            \u001b]8;id=193577;file:///home/mkoenig/git/sbmlutils/src/sbmlutils/factory.py\u001b\\\u001b[2mfactory.py\u001b[0m\u001b]8;;\u001b\\\u001b[2m:\u001b[0m\u001b]8;id=851693;file:///home/mkoenig/git/sbmlutils/src/sbmlutils/factory.py#466\u001b\\\u001b[2m466\u001b[0m\u001b]8;;\u001b\\\n"
      ]
     },
     "metadata": {},
     "output_type": "display_data"
    },
    {
     "data": {
      "text/html": [
       "<style type=\"text/css\">pre { line-height: 125%; }\n",
       "td.linenos .normal { color: inherit; background-color: transparent; padding-left: 5px; padding-right: 5px; }\n",
       "span.linenos { color: inherit; background-color: transparent; padding-left: 5px; padding-right: 5px; }\n",
       "td.linenos .special { color: #000000; background-color: #ffffc0; padding-left: 5px; padding-right: 5px; }\n",
       "span.linenos.special { color: #000000; background-color: #ffffc0; padding-left: 5px; padding-right: 5px; }\n",
       ".highlight .hll { background-color: #ffffcc }\n",
       ".highlight { background: #f8f8f8; }\n",
       ".highlight .c { color: #3D7B7B; font-style: italic } /* Comment */\n",
       ".highlight .err { border: 1px solid #FF0000 } /* Error */\n",
       ".highlight .k { color: #008000; font-weight: bold } /* Keyword */\n",
       ".highlight .o { color: #666666 } /* Operator */\n",
       ".highlight .ch { color: #3D7B7B; font-style: italic } /* Comment.Hashbang */\n",
       ".highlight .cm { color: #3D7B7B; font-style: italic } /* Comment.Multiline */\n",
       ".highlight .cp { color: #9C6500 } /* Comment.Preproc */\n",
       ".highlight .cpf { color: #3D7B7B; font-style: italic } /* Comment.PreprocFile */\n",
       ".highlight .c1 { color: #3D7B7B; font-style: italic } /* Comment.Single */\n",
       ".highlight .cs { color: #3D7B7B; font-style: italic } /* Comment.Special */\n",
       ".highlight .gd { color: #A00000 } /* Generic.Deleted */\n",
       ".highlight .ge { font-style: italic } /* Generic.Emph */\n",
       ".highlight .gr { color: #E40000 } /* Generic.Error */\n",
       ".highlight .gh { color: #000080; font-weight: bold } /* Generic.Heading */\n",
       ".highlight .gi { color: #008400 } /* Generic.Inserted */\n",
       ".highlight .go { color: #717171 } /* Generic.Output */\n",
       ".highlight .gp { color: #000080; font-weight: bold } /* Generic.Prompt */\n",
       ".highlight .gs { font-weight: bold } /* Generic.Strong */\n",
       ".highlight .gu { color: #800080; font-weight: bold } /* Generic.Subheading */\n",
       ".highlight .gt { color: #0044DD } /* Generic.Traceback */\n",
       ".highlight .kc { color: #008000; font-weight: bold } /* Keyword.Constant */\n",
       ".highlight .kd { color: #008000; font-weight: bold } /* Keyword.Declaration */\n",
       ".highlight .kn { color: #008000; font-weight: bold } /* Keyword.Namespace */\n",
       ".highlight .kp { color: #008000 } /* Keyword.Pseudo */\n",
       ".highlight .kr { color: #008000; font-weight: bold } /* Keyword.Reserved */\n",
       ".highlight .kt { color: #B00040 } /* Keyword.Type */\n",
       ".highlight .m { color: #666666 } /* Literal.Number */\n",
       ".highlight .s { color: #BA2121 } /* Literal.String */\n",
       ".highlight .na { color: #687822 } /* Name.Attribute */\n",
       ".highlight .nb { color: #008000 } /* Name.Builtin */\n",
       ".highlight .nc { color: #0000FF; font-weight: bold } /* Name.Class */\n",
       ".highlight .no { color: #880000 } /* Name.Constant */\n",
       ".highlight .nd { color: #AA22FF } /* Name.Decorator */\n",
       ".highlight .ni { color: #717171; font-weight: bold } /* Name.Entity */\n",
       ".highlight .ne { color: #CB3F38; font-weight: bold } /* Name.Exception */\n",
       ".highlight .nf { color: #0000FF } /* Name.Function */\n",
       ".highlight .nl { color: #767600 } /* Name.Label */\n",
       ".highlight .nn { color: #0000FF; font-weight: bold } /* Name.Namespace */\n",
       ".highlight .nt { color: #008000; font-weight: bold } /* Name.Tag */\n",
       ".highlight .nv { color: #19177C } /* Name.Variable */\n",
       ".highlight .ow { color: #AA22FF; font-weight: bold } /* Operator.Word */\n",
       ".highlight .w { color: #bbbbbb } /* Text.Whitespace */\n",
       ".highlight .mb { color: #666666 } /* Literal.Number.Bin */\n",
       ".highlight .mf { color: #666666 } /* Literal.Number.Float */\n",
       ".highlight .mh { color: #666666 } /* Literal.Number.Hex */\n",
       ".highlight .mi { color: #666666 } /* Literal.Number.Integer */\n",
       ".highlight .mo { color: #666666 } /* Literal.Number.Oct */\n",
       ".highlight .sa { color: #BA2121 } /* Literal.String.Affix */\n",
       ".highlight .sb { color: #BA2121 } /* Literal.String.Backtick */\n",
       ".highlight .sc { color: #BA2121 } /* Literal.String.Char */\n",
       ".highlight .dl { color: #BA2121 } /* Literal.String.Delimiter */\n",
       ".highlight .sd { color: #BA2121; font-style: italic } /* Literal.String.Doc */\n",
       ".highlight .s2 { color: #BA2121 } /* Literal.String.Double */\n",
       ".highlight .se { color: #AA5D1F; font-weight: bold } /* Literal.String.Escape */\n",
       ".highlight .sh { color: #BA2121 } /* Literal.String.Heredoc */\n",
       ".highlight .si { color: #A45A77; font-weight: bold } /* Literal.String.Interpol */\n",
       ".highlight .sx { color: #008000 } /* Literal.String.Other */\n",
       ".highlight .sr { color: #A45A77 } /* Literal.String.Regex */\n",
       ".highlight .s1 { color: #BA2121 } /* Literal.String.Single */\n",
       ".highlight .ss { color: #19177C } /* Literal.String.Symbol */\n",
       ".highlight .bp { color: #008000 } /* Name.Builtin.Pseudo */\n",
       ".highlight .fm { color: #0000FF } /* Name.Function.Magic */\n",
       ".highlight .vc { color: #19177C } /* Name.Variable.Class */\n",
       ".highlight .vg { color: #19177C } /* Name.Variable.Global */\n",
       ".highlight .vi { color: #19177C } /* Name.Variable.Instance */\n",
       ".highlight .vm { color: #19177C } /* Name.Variable.Magic */\n",
       ".highlight .il { color: #666666 } /* Literal.Number.Integer.Long */</style>    <div class=\"highlight\"><pre><span></span><span class=\"cp\">&lt;?xml version=&quot;1.0&quot; encoding=&quot;UTF-8&quot;?&gt;</span>\n",
       "<span class=\"nt\">&lt;sbml</span> <span class=\"na\">xmlns=</span><span class=\"s\">&quot;http://www.sbml.org/sbml/level3/version1/core&quot;</span> <span class=\"na\">xmlns:distrib=</span><span class=\"s\">&quot;http://www.sbml.org/sbml/level3/version1/distrib/version1&quot;</span> <span class=\"na\">xmlns:comp=</span><span class=\"s\">&quot;http://www.sbml.org/sbml/level3/version1/comp/version1&quot;</span> <span class=\"na\">level=</span><span class=\"s\">&quot;3&quot;</span> <span class=\"na\">version=</span><span class=\"s\">&quot;1&quot;</span> <span class=\"na\">distrib:required=</span><span class=\"s\">&quot;true&quot;</span> <span class=\"na\">comp:required=</span><span class=\"s\">&quot;true&quot;</span><span class=\"nt\">&gt;</span>\n",
       "  <span class=\"nt\">&lt;notes&gt;</span>\n",
       "    <span class=\"nt\">&lt;body</span> <span class=\"na\">xmlns=</span><span class=\"s\">&quot;http://www.w3.org/1999/xhtml&quot;</span><span class=\"nt\">&gt;</span>\n",
       "      <span class=\"nt\">&lt;p&gt;</span>Created with <span class=\"nt\">&lt;a</span> <span class=\"na\">href=</span><span class=\"s\">&quot;https://github.com/matthiaskoenig/sbmlutils&quot;</span><span class=\"nt\">&gt;</span>https://github.com/matthiaskoenig/sbmlutils<span class=\"nt\">&lt;/a&gt;</span>.\n",
       "<span class=\"nt\">&lt;a</span> <span class=\"na\">href=</span><span class=\"s\">&quot;https://doi.org/10.5281/zenodo.5525390&quot;</span><span class=\"nt\">&gt;</span>\n",
       "        <span class=\"nt\">&lt;img</span> <span class=\"na\">src=</span><span class=\"s\">&quot;https://zenodo.org/badge/DOI/10.5281/zenodo.5525390.svg&quot;</span> <span class=\"na\">alt=</span><span class=\"s\">&quot;DOI&quot;</span><span class=\"nt\">/&gt;&lt;/a&gt;&lt;/p&gt;</span>\n",
       "      <span class=\"nt\">&lt;/body&gt;</span>\n",
       "    <span class=\"nt\">&lt;/notes&gt;</span>\n",
       "  <span class=\"nt\">&lt;model</span> <span class=\"na\">id=</span><span class=\"s\">&quot;normal&quot;</span><span class=\"nt\">&gt;</span>\n",
       "    <span class=\"nt\">&lt;listOfParameters&gt;</span>\n",
       "      <span class=\"nt\">&lt;parameter</span> <span class=\"na\">id=</span><span class=\"s\">&quot;y&quot;</span> <span class=\"na\">value=</span><span class=\"s\">&quot;1&quot;</span> <span class=\"na\">constant=</span><span class=\"s\">&quot;true&quot;</span><span class=\"nt\">/&gt;</span>\n",
       "      <span class=\"nt\">&lt;parameter</span> <span class=\"na\">id=</span><span class=\"s\">&quot;z&quot;</span> <span class=\"na\">value=</span><span class=\"s\">&quot;1&quot;</span> <span class=\"na\">constant=</span><span class=\"s\">&quot;true&quot;</span><span class=\"nt\">/&gt;</span>\n",
       "    <span class=\"nt\">&lt;/listOfParameters&gt;</span>\n",
       "    <span class=\"nt\">&lt;listOfInitialAssignments&gt;</span>\n",
       "      <span class=\"nt\">&lt;initialAssignment</span> <span class=\"na\">symbol=</span><span class=\"s\">&quot;y&quot;</span><span class=\"nt\">&gt;</span>\n",
       "        <span class=\"nt\">&lt;math</span> <span class=\"na\">xmlns=</span><span class=\"s\">&quot;http://www.w3.org/1998/Math/MathML&quot;</span><span class=\"nt\">&gt;</span>\n",
       "          <span class=\"nt\">&lt;apply&gt;</span>\n",
       "            <span class=\"nt\">&lt;csymbol</span> <span class=\"na\">encoding=</span><span class=\"s\">&quot;text&quot;</span> <span class=\"na\">definitionURL=</span><span class=\"s\">&quot;http://www.sbml.org/sbml/symbols/distrib/normal&quot;</span><span class=\"nt\">&gt;</span> normal <span class=\"nt\">&lt;/csymbol&gt;</span>\n",
       "            <span class=\"nt\">&lt;ci&gt;</span> z <span class=\"nt\">&lt;/ci&gt;</span>\n",
       "            <span class=\"nt\">&lt;cn</span> <span class=\"na\">type=</span><span class=\"s\">&quot;integer&quot;</span><span class=\"nt\">&gt;</span> 10 <span class=\"nt\">&lt;/cn&gt;</span>\n",
       "          <span class=\"nt\">&lt;/apply&gt;</span>\n",
       "        <span class=\"nt\">&lt;/math&gt;</span>\n",
       "      <span class=\"nt\">&lt;/initialAssignment&gt;</span>\n",
       "    <span class=\"nt\">&lt;/listOfInitialAssignments&gt;</span>\n",
       "  <span class=\"nt\">&lt;/model&gt;</span>\n",
       "<span class=\"nt\">&lt;/sbml&gt;</span>\n",
       "</pre></div>\n"
      ]
     },
     "metadata": {},
     "output_type": "display_data"
    },
    {
     "data": {
      "text/html": [
       "<pre style=\"white-space:pre;overflow-x:auto;line-height:normal;font-family:Menlo,'DejaVu Sans Mono',consolas,'Courier New',monospace\">\n",
       "</pre>\n"
      ],
      "text/plain": [
       "\n"
      ]
     },
     "metadata": {},
     "output_type": "display_data"
    },
    {
     "data": {
      "text/html": [
       "<pre style=\"white-space:pre;overflow-x:auto;line-height:normal;font-family:Menlo,'DejaVu Sans Mono',consolas,'Courier New',monospace\"><span style=\"color: #008000; text-decoration-color: #008000\">────────────────────────────────────────────────── </span>Validate SBML<span style=\"color: #008000; text-decoration-color: #008000\"> ──────────────────────────────────────────────────</span>\n",
       "</pre>\n"
      ],
      "text/plain": [
       "\u001b[32m────────────────────────────────────────────────── \u001b[0mValidate SBML\u001b[32m ──────────────────────────────────────────────────\u001b[0m\n"
      ]
     },
     "metadata": {},
     "output_type": "display_data"
    },
    {
     "data": {
      "text/html": [
       "<pre style=\"white-space:pre;overflow-x:auto;line-height:normal;font-family:Menlo,'DejaVu Sans Mono',consolas,'Courier New',monospace\"><span style=\"color: #008000; text-decoration-color: #008000; font-weight: bold\">&lt;</span><span style=\"color: #ff00ff; text-decoration-color: #ff00ff; font-weight: bold\">SBMLDocument</span><span style=\"color: #008000; text-decoration-color: #008000; font-weight: bold\">&gt;</span>\n",
       "<span style=\"color: #008000; text-decoration-color: #008000\">valid                    : TRUE</span>\n",
       "<span style=\"color: #008000; text-decoration-color: #008000\">check time </span><span style=\"color: #008000; text-decoration-color: #008000; font-weight: bold\">(</span><span style=\"color: #008000; text-decoration-color: #008000\">s</span><span style=\"color: #008000; text-decoration-color: #008000; font-weight: bold\">)</span><span style=\"color: #008000; text-decoration-color: #008000\">           : </span><span style=\"color: #008080; text-decoration-color: #008080; font-weight: bold\">0.001</span>\n",
       "</pre>\n"
      ],
      "text/plain": [
       "\u001b[1;32m<\u001b[0m\u001b[1;95mSBMLDocument\u001b[0m\u001b[1;32m>\u001b[0m\n",
       "\u001b[32mvalid                    : TRUE\u001b[0m\n",
       "\u001b[32mcheck time \u001b[0m\u001b[1;32m(\u001b[0m\u001b[32ms\u001b[0m\u001b[1;32m)\u001b[0m\u001b[32m           : \u001b[0m\u001b[1;36m0.001\u001b[0m\n"
      ]
     },
     "metadata": {},
     "output_type": "display_data"
    },
    {
     "data": {
      "text/html": [
       "<pre style=\"white-space:pre;overflow-x:auto;line-height:normal;font-family:Menlo,'DejaVu Sans Mono',consolas,'Courier New',monospace\"><span style=\"color: #008000; text-decoration-color: #008000\">───────────────────────────────────────────────────────────────────────────────────────────────────────────────────</span>\n",
       "</pre>\n"
      ],
      "text/plain": [
       "\u001b[32m───────────────────────────────────────────────────────────────────────────────────────────────────────────────────\u001b[0m\n"
      ]
     },
     "metadata": {},
     "output_type": "display_data"
    },
    {
     "data": {
      "text/html": [
       "<pre style=\"white-space:pre;overflow-x:auto;line-height:normal;font-family:Menlo,'DejaVu Sans Mono',consolas,'Courier New',monospace\">\n",
       "</pre>\n"
      ],
      "text/plain": [
       "\n"
      ]
     },
     "metadata": {},
     "output_type": "display_data"
    }
   ],
   "source": [
    "model = Model(\n",
    "    'normal',\n",
    "    packages=[Package.DISTRIB_V1],\n",
    "    objects=[\n",
    "        Parameter('y', value=1.0),\n",
    "        Parameter('z', value=1.0),\n",
    "        InitialAssignment('y', 'normal(z, 10)'),\n",
    "    ]\n",
    ")\n",
    "\n",
    "# create model and print SBML\n",
    "doc = Document(model)\n",
    "print_xml(doc.get_sbml())\n",
    "\n",
    "# validate model\n",
    "validate_doc(doc.doc, options=ValidationOptions(units_consistency=False));"
   ]
  },
  {
   "cell_type": "markdown",
   "metadata": {},
   "source": [
    "### Defining a truncated normal distribution\n",
    "When used with four arguments instead of two, the normal distribution is truncated to `normal(z, 10, z-2, z+2)`. This use would apply a draw from a normal distribution with `mean z`, `standard deviation 10`, `lower bound z-2` (inclusive) and `upper bound z+2` (not inclusive) to the SBML symbol `y`."
   ]
  },
  {
   "cell_type": "code",
   "execution_count": 5,
   "metadata": {},
   "outputs": [
    {
     "data": {
      "text/html": [
       "<pre style=\"white-space:pre;overflow-x:auto;line-height:normal;font-family:Menlo,'DejaVu Sans Mono',consolas,'Courier New',monospace\"><span style=\"color: #000080; text-decoration-color: #000080\">INFO    </span> Create SBML for model <span style=\"color: #008000; text-decoration-color: #008000\">'truncated_normal'</span>                                                   <a href=\"file:///home/mkoenig/git/sbmlutils/src/sbmlutils/factory.py\" target=\"_blank\"><span style=\"color: #7f7f7f; text-decoration-color: #7f7f7f\">factory.py</span></a><span style=\"color: #7f7f7f; text-decoration-color: #7f7f7f\">:</span><a href=\"file:///home/mkoenig/git/sbmlutils/src/sbmlutils/factory.py#3526\" target=\"_blank\"><span style=\"color: #7f7f7f; text-decoration-color: #7f7f7f\">3526</span></a>\n",
       "</pre>\n"
      ],
      "text/plain": [
       "\u001b[34mINFO    \u001b[0m Create SBML for model \u001b[32m'truncated_normal'\u001b[0m                                                   \u001b]8;id=192117;file:///home/mkoenig/git/sbmlutils/src/sbmlutils/factory.py\u001b\\\u001b[2mfactory.py\u001b[0m\u001b]8;;\u001b\\\u001b[2m:\u001b[0m\u001b]8;id=9744;file:///home/mkoenig/git/sbmlutils/src/sbmlutils/factory.py#3526\u001b\\\u001b[2m3526\u001b[0m\u001b]8;;\u001b\\\n"
      ]
     },
     "metadata": {},
     "output_type": "display_data"
    },
    {
     "data": {
      "text/html": [
       "<pre style=\"white-space:pre;overflow-x:auto;line-height:normal;font-family:Menlo,'DejaVu Sans Mono',consolas,'Courier New',monospace\"><span style=\"color: #800000; text-decoration-color: #800000\">WARNING </span> <span style=\"color: #008000; text-decoration-color: #008000\">'name'</span> should be set on <span style=\"color: #008000; text-decoration-color: #008000\">'Model(sid='</span>truncated_normal', <span style=\"color: #808000; text-decoration-color: #808000\">packages</span>=<span style=\"font-weight: bold\">[&lt;</span><span style=\"color: #ff00ff; text-decoration-color: #ff00ff; font-weight: bold\">Package.DISTRIB_V1:</span><span style=\"color: #000000; text-decoration-color: #000000\"> </span>      <a href=\"file:///home/mkoenig/git/sbmlutils/src/sbmlutils/factory.py\" target=\"_blank\"><span style=\"color: #7f7f7f; text-decoration-color: #7f7f7f\">factory.py</span></a><span style=\"color: #7f7f7f; text-decoration-color: #7f7f7f\">:</span><a href=\"file:///home/mkoenig/git/sbmlutils/src/sbmlutils/factory.py#441\" target=\"_blank\"><span style=\"color: #7f7f7f; text-decoration-color: #7f7f7f\">441</span></a>\n",
       "         <span style=\"color: #008000; text-decoration-color: #008000\">'distrib-v1'</span><span style=\"font-weight: bold\">&gt;</span>, <span style=\"font-weight: bold\">&lt;</span><span style=\"color: #ff00ff; text-decoration-color: #ff00ff; font-weight: bold\">Package.COMP_V1:</span><span style=\"color: #000000; text-decoration-color: #000000\"> </span><span style=\"color: #008000; text-decoration-color: #008000\">'comp-v1'</span><span style=\"font-weight: bold\">&gt;]</span>, <span style=\"color: #808000; text-decoration-color: #808000\">units</span>=<span style=\"font-weight: bold\">&lt;</span><span style=\"color: #ff00ff; text-decoration-color: #ff00ff; font-weight: bold\">class</span><span style=\"color: #000000; text-decoration-color: #000000\"> </span><span style=\"color: #008000; text-decoration-color: #008000\">'sbmlutils.factory.Units'</span><span style=\"font-weight: bold\">&gt;</span>,      <span style=\"color: #7f7f7f; text-decoration-color: #7f7f7f\">              </span>\n",
       "         <span style=\"color: #808000; text-decoration-color: #808000\">parameters</span>=<span style=\"font-weight: bold\">[</span>y = <span style=\"color: #008080; text-decoration-color: #008080; font-weight: bold\">1.0</span> <span style=\"font-weight: bold\">[</span><span style=\"color: #800080; text-decoration-color: #800080; font-style: italic\">None</span><span style=\"font-weight: bold\">]</span>, z = <span style=\"color: #008080; text-decoration-color: #008080; font-weight: bold\">1.0</span> <span style=\"font-weight: bold\">[</span><span style=\"color: #800080; text-decoration-color: #800080; font-style: italic\">None</span><span style=\"font-weight: bold\">]]</span>,                                                <span style=\"color: #7f7f7f; text-decoration-color: #7f7f7f\">              </span>\n",
       "         <span style=\"color: #808000; text-decoration-color: #808000\">assignments</span>=<span style=\"font-weight: bold\">[&lt;</span><span style=\"color: #ff00ff; text-decoration-color: #ff00ff; font-weight: bold\">sbmlutils.factory.InitialAssignment</span><span style=\"color: #000000; text-decoration-color: #000000\"> object at </span><span style=\"color: #008080; text-decoration-color: #008080; font-weight: bold\">0x7f8eaa9c4a30</span><span style=\"font-weight: bold\">&gt;]</span>,               <span style=\"color: #7f7f7f; text-decoration-color: #7f7f7f\">              </span>\n",
       "         <span style=\"color: #808000; text-decoration-color: #808000\">_FrozenClass__isfrozen</span>=<span style=\"color: #00ff00; text-decoration-color: #00ff00; font-style: italic\">True</span><span style=\"font-weight: bold\">)</span>'                                                               <span style=\"color: #7f7f7f; text-decoration-color: #7f7f7f\">              </span>\n",
       "</pre>\n"
      ],
      "text/plain": [
       "\u001b[31mWARNING \u001b[0m \u001b[32m'name'\u001b[0m should be set on \u001b[32m'Model\u001b[0m\u001b[32m(\u001b[0m\u001b[32msid\u001b[0m\u001b[32m='\u001b[0mtruncated_normal', \u001b[33mpackages\u001b[0m=\u001b[1m[\u001b[0m\u001b[1m<\u001b[0m\u001b[1;95mPackage.DISTRIB_V1:\u001b[0m\u001b[39m \u001b[0m      \u001b]8;id=260390;file:///home/mkoenig/git/sbmlutils/src/sbmlutils/factory.py\u001b\\\u001b[2mfactory.py\u001b[0m\u001b]8;;\u001b\\\u001b[2m:\u001b[0m\u001b]8;id=501224;file:///home/mkoenig/git/sbmlutils/src/sbmlutils/factory.py#441\u001b\\\u001b[2m441\u001b[0m\u001b]8;;\u001b\\\n",
       "         \u001b[32m'distrib-v1'\u001b[0m\u001b[1m>\u001b[0m, \u001b[1m<\u001b[0m\u001b[1;95mPackage.COMP_V1:\u001b[0m\u001b[39m \u001b[0m\u001b[32m'comp-v1'\u001b[0m\u001b[1m>\u001b[0m\u001b[1m]\u001b[0m, \u001b[33munits\u001b[0m=\u001b[1m<\u001b[0m\u001b[1;95mclass\u001b[0m\u001b[39m \u001b[0m\u001b[32m'sbmlutils.factory.Units'\u001b[0m\u001b[1m>\u001b[0m,      \u001b[2m              \u001b[0m\n",
       "         \u001b[33mparameters\u001b[0m=\u001b[1m[\u001b[0my = \u001b[1;36m1.0\u001b[0m \u001b[1m[\u001b[0m\u001b[3;35mNone\u001b[0m\u001b[1m]\u001b[0m, z = \u001b[1;36m1.0\u001b[0m \u001b[1m[\u001b[0m\u001b[3;35mNone\u001b[0m\u001b[1m]\u001b[0m\u001b[1m]\u001b[0m,                                                \u001b[2m              \u001b[0m\n",
       "         \u001b[33massignments\u001b[0m=\u001b[1m[\u001b[0m\u001b[1m<\u001b[0m\u001b[1;95msbmlutils.factory.InitialAssignment\u001b[0m\u001b[39m object at \u001b[0m\u001b[1;36m0x7f8eaa9c4a30\u001b[0m\u001b[1m>\u001b[0m\u001b[1m]\u001b[0m,               \u001b[2m              \u001b[0m\n",
       "         \u001b[33m_FrozenClass__isfrozen\u001b[0m=\u001b[3;92mTrue\u001b[0m\u001b[1m)\u001b[0m'                                                               \u001b[2m              \u001b[0m\n"
      ]
     },
     "metadata": {},
     "output_type": "display_data"
    },
    {
     "data": {
      "text/html": [
       "<pre style=\"white-space:pre;overflow-x:auto;line-height:normal;font-family:Menlo,'DejaVu Sans Mono',consolas,'Courier New',monospace\"><span style=\"color: #800000; text-decoration-color: #800000\">WARNING </span> <span style=\"color: #008000; text-decoration-color: #008000\">'name'</span> should be set on <span style=\"color: #008000; text-decoration-color: #008000\">'Parameter(y)'</span>                                                      <a href=\"file:///home/mkoenig/git/sbmlutils/src/sbmlutils/factory.py\" target=\"_blank\"><span style=\"color: #7f7f7f; text-decoration-color: #7f7f7f\">factory.py</span></a><span style=\"color: #7f7f7f; text-decoration-color: #7f7f7f\">:</span><a href=\"file:///home/mkoenig/git/sbmlutils/src/sbmlutils/factory.py#441\" target=\"_blank\"><span style=\"color: #7f7f7f; text-decoration-color: #7f7f7f\">441</span></a>\n",
       "</pre>\n"
      ],
      "text/plain": [
       "\u001b[31mWARNING \u001b[0m \u001b[32m'name'\u001b[0m should be set on \u001b[32m'Parameter\u001b[0m\u001b[32m(\u001b[0m\u001b[32my\u001b[0m\u001b[32m)\u001b[0m\u001b[32m'\u001b[0m                                                      \u001b]8;id=564164;file:///home/mkoenig/git/sbmlutils/src/sbmlutils/factory.py\u001b\\\u001b[2mfactory.py\u001b[0m\u001b]8;;\u001b\\\u001b[2m:\u001b[0m\u001b]8;id=186988;file:///home/mkoenig/git/sbmlutils/src/sbmlutils/factory.py#441\u001b\\\u001b[2m441\u001b[0m\u001b]8;;\u001b\\\n"
      ]
     },
     "metadata": {},
     "output_type": "display_data"
    },
    {
     "data": {
      "text/html": [
       "<pre style=\"white-space:pre;overflow-x:auto;line-height:normal;font-family:Menlo,'DejaVu Sans Mono',consolas,'Courier New',monospace\"><span style=\"color: #800000; text-decoration-color: #800000\">WARNING </span> <span style=\"color: #008000; text-decoration-color: #008000\">'sboTerm'</span> should be set on <span style=\"color: #008000; text-decoration-color: #008000\">'Parameter(y)'</span>                                                   <a href=\"file:///home/mkoenig/git/sbmlutils/src/sbmlutils/factory.py\" target=\"_blank\"><span style=\"color: #7f7f7f; text-decoration-color: #7f7f7f\">factory.py</span></a><span style=\"color: #7f7f7f; text-decoration-color: #7f7f7f\">:</span><a href=\"file:///home/mkoenig/git/sbmlutils/src/sbmlutils/factory.py#466\" target=\"_blank\"><span style=\"color: #7f7f7f; text-decoration-color: #7f7f7f\">466</span></a>\n",
       "</pre>\n"
      ],
      "text/plain": [
       "\u001b[31mWARNING \u001b[0m \u001b[32m'sboTerm'\u001b[0m should be set on \u001b[32m'Parameter\u001b[0m\u001b[32m(\u001b[0m\u001b[32my\u001b[0m\u001b[32m)\u001b[0m\u001b[32m'\u001b[0m                                                   \u001b]8;id=982324;file:///home/mkoenig/git/sbmlutils/src/sbmlutils/factory.py\u001b\\\u001b[2mfactory.py\u001b[0m\u001b]8;;\u001b\\\u001b[2m:\u001b[0m\u001b]8;id=869839;file:///home/mkoenig/git/sbmlutils/src/sbmlutils/factory.py#466\u001b\\\u001b[2m466\u001b[0m\u001b]8;;\u001b\\\n"
      ]
     },
     "metadata": {},
     "output_type": "display_data"
    },
    {
     "data": {
      "text/html": [
       "<pre style=\"white-space:pre;overflow-x:auto;line-height:normal;font-family:Menlo,'DejaVu Sans Mono',consolas,'Courier New',monospace\"><span style=\"color: #800000; text-decoration-color: #800000\">WARNING </span> <span style=\"color: #008000; text-decoration-color: #008000\">'name'</span> should be set on <span style=\"color: #008000; text-decoration-color: #008000\">'Parameter(z)'</span>                                                      <a href=\"file:///home/mkoenig/git/sbmlutils/src/sbmlutils/factory.py\" target=\"_blank\"><span style=\"color: #7f7f7f; text-decoration-color: #7f7f7f\">factory.py</span></a><span style=\"color: #7f7f7f; text-decoration-color: #7f7f7f\">:</span><a href=\"file:///home/mkoenig/git/sbmlutils/src/sbmlutils/factory.py#441\" target=\"_blank\"><span style=\"color: #7f7f7f; text-decoration-color: #7f7f7f\">441</span></a>\n",
       "</pre>\n"
      ],
      "text/plain": [
       "\u001b[31mWARNING \u001b[0m \u001b[32m'name'\u001b[0m should be set on \u001b[32m'Parameter\u001b[0m\u001b[32m(\u001b[0m\u001b[32mz\u001b[0m\u001b[32m)\u001b[0m\u001b[32m'\u001b[0m                                                      \u001b]8;id=745919;file:///home/mkoenig/git/sbmlutils/src/sbmlutils/factory.py\u001b\\\u001b[2mfactory.py\u001b[0m\u001b]8;;\u001b\\\u001b[2m:\u001b[0m\u001b]8;id=663180;file:///home/mkoenig/git/sbmlutils/src/sbmlutils/factory.py#441\u001b\\\u001b[2m441\u001b[0m\u001b]8;;\u001b\\\n"
      ]
     },
     "metadata": {},
     "output_type": "display_data"
    },
    {
     "data": {
      "text/html": [
       "<pre style=\"white-space:pre;overflow-x:auto;line-height:normal;font-family:Menlo,'DejaVu Sans Mono',consolas,'Courier New',monospace\"><span style=\"color: #800000; text-decoration-color: #800000\">WARNING </span> <span style=\"color: #008000; text-decoration-color: #008000\">'sboTerm'</span> should be set on <span style=\"color: #008000; text-decoration-color: #008000\">'Parameter(z)'</span>                                                   <a href=\"file:///home/mkoenig/git/sbmlutils/src/sbmlutils/factory.py\" target=\"_blank\"><span style=\"color: #7f7f7f; text-decoration-color: #7f7f7f\">factory.py</span></a><span style=\"color: #7f7f7f; text-decoration-color: #7f7f7f\">:</span><a href=\"file:///home/mkoenig/git/sbmlutils/src/sbmlutils/factory.py#466\" target=\"_blank\"><span style=\"color: #7f7f7f; text-decoration-color: #7f7f7f\">466</span></a>\n",
       "</pre>\n"
      ],
      "text/plain": [
       "\u001b[31mWARNING \u001b[0m \u001b[32m'sboTerm'\u001b[0m should be set on \u001b[32m'Parameter\u001b[0m\u001b[32m(\u001b[0m\u001b[32mz\u001b[0m\u001b[32m)\u001b[0m\u001b[32m'\u001b[0m                                                   \u001b]8;id=68246;file:///home/mkoenig/git/sbmlutils/src/sbmlutils/factory.py\u001b\\\u001b[2mfactory.py\u001b[0m\u001b]8;;\u001b\\\u001b[2m:\u001b[0m\u001b]8;id=735402;file:///home/mkoenig/git/sbmlutils/src/sbmlutils/factory.py#466\u001b\\\u001b[2m466\u001b[0m\u001b]8;;\u001b\\\n"
      ]
     },
     "metadata": {},
     "output_type": "display_data"
    },
    {
     "data": {
      "text/html": [
       "<pre style=\"white-space:pre;overflow-x:auto;line-height:normal;font-family:Menlo,'DejaVu Sans Mono',consolas,'Courier New',monospace\"><span style=\"color: #800000; text-decoration-color: #800000\">WARNING </span> <span style=\"color: #008000; text-decoration-color: #008000\">'name'</span> should be set on <span style=\"color: #008000; text-decoration-color: #008000\">'InitialAssignment()'</span>                                               <a href=\"file:///home/mkoenig/git/sbmlutils/src/sbmlutils/factory.py\" target=\"_blank\"><span style=\"color: #7f7f7f; text-decoration-color: #7f7f7f\">factory.py</span></a><span style=\"color: #7f7f7f; text-decoration-color: #7f7f7f\">:</span><a href=\"file:///home/mkoenig/git/sbmlutils/src/sbmlutils/factory.py#441\" target=\"_blank\"><span style=\"color: #7f7f7f; text-decoration-color: #7f7f7f\">441</span></a>\n",
       "</pre>\n"
      ],
      "text/plain": [
       "\u001b[31mWARNING \u001b[0m \u001b[32m'name'\u001b[0m should be set on \u001b[32m'InitialAssignment\u001b[0m\u001b[32m(\u001b[0m\u001b[32m)\u001b[0m\u001b[32m'\u001b[0m                                               \u001b]8;id=148915;file:///home/mkoenig/git/sbmlutils/src/sbmlutils/factory.py\u001b\\\u001b[2mfactory.py\u001b[0m\u001b]8;;\u001b\\\u001b[2m:\u001b[0m\u001b]8;id=784221;file:///home/mkoenig/git/sbmlutils/src/sbmlutils/factory.py#441\u001b\\\u001b[2m441\u001b[0m\u001b]8;;\u001b\\\n"
      ]
     },
     "metadata": {},
     "output_type": "display_data"
    },
    {
     "data": {
      "text/html": [
       "<pre style=\"white-space:pre;overflow-x:auto;line-height:normal;font-family:Menlo,'DejaVu Sans Mono',consolas,'Courier New',monospace\"><span style=\"color: #800000; text-decoration-color: #800000\">WARNING </span> <span style=\"color: #008000; text-decoration-color: #008000\">'sboTerm'</span> should be set on <span style=\"color: #008000; text-decoration-color: #008000\">'InitialAssignment()'</span>                                            <a href=\"file:///home/mkoenig/git/sbmlutils/src/sbmlutils/factory.py\" target=\"_blank\"><span style=\"color: #7f7f7f; text-decoration-color: #7f7f7f\">factory.py</span></a><span style=\"color: #7f7f7f; text-decoration-color: #7f7f7f\">:</span><a href=\"file:///home/mkoenig/git/sbmlutils/src/sbmlutils/factory.py#466\" target=\"_blank\"><span style=\"color: #7f7f7f; text-decoration-color: #7f7f7f\">466</span></a>\n",
       "</pre>\n"
      ],
      "text/plain": [
       "\u001b[31mWARNING \u001b[0m \u001b[32m'sboTerm'\u001b[0m should be set on \u001b[32m'InitialAssignment\u001b[0m\u001b[32m(\u001b[0m\u001b[32m)\u001b[0m\u001b[32m'\u001b[0m                                            \u001b]8;id=907452;file:///home/mkoenig/git/sbmlutils/src/sbmlutils/factory.py\u001b\\\u001b[2mfactory.py\u001b[0m\u001b]8;;\u001b\\\u001b[2m:\u001b[0m\u001b]8;id=789423;file:///home/mkoenig/git/sbmlutils/src/sbmlutils/factory.py#466\u001b\\\u001b[2m466\u001b[0m\u001b]8;;\u001b\\\n"
      ]
     },
     "metadata": {},
     "output_type": "display_data"
    },
    {
     "data": {
      "text/html": [
       "<style type=\"text/css\">pre { line-height: 125%; }\n",
       "td.linenos .normal { color: inherit; background-color: transparent; padding-left: 5px; padding-right: 5px; }\n",
       "span.linenos { color: inherit; background-color: transparent; padding-left: 5px; padding-right: 5px; }\n",
       "td.linenos .special { color: #000000; background-color: #ffffc0; padding-left: 5px; padding-right: 5px; }\n",
       "span.linenos.special { color: #000000; background-color: #ffffc0; padding-left: 5px; padding-right: 5px; }\n",
       ".highlight .hll { background-color: #ffffcc }\n",
       ".highlight { background: #f8f8f8; }\n",
       ".highlight .c { color: #3D7B7B; font-style: italic } /* Comment */\n",
       ".highlight .err { border: 1px solid #FF0000 } /* Error */\n",
       ".highlight .k { color: #008000; font-weight: bold } /* Keyword */\n",
       ".highlight .o { color: #666666 } /* Operator */\n",
       ".highlight .ch { color: #3D7B7B; font-style: italic } /* Comment.Hashbang */\n",
       ".highlight .cm { color: #3D7B7B; font-style: italic } /* Comment.Multiline */\n",
       ".highlight .cp { color: #9C6500 } /* Comment.Preproc */\n",
       ".highlight .cpf { color: #3D7B7B; font-style: italic } /* Comment.PreprocFile */\n",
       ".highlight .c1 { color: #3D7B7B; font-style: italic } /* Comment.Single */\n",
       ".highlight .cs { color: #3D7B7B; font-style: italic } /* Comment.Special */\n",
       ".highlight .gd { color: #A00000 } /* Generic.Deleted */\n",
       ".highlight .ge { font-style: italic } /* Generic.Emph */\n",
       ".highlight .gr { color: #E40000 } /* Generic.Error */\n",
       ".highlight .gh { color: #000080; font-weight: bold } /* Generic.Heading */\n",
       ".highlight .gi { color: #008400 } /* Generic.Inserted */\n",
       ".highlight .go { color: #717171 } /* Generic.Output */\n",
       ".highlight .gp { color: #000080; font-weight: bold } /* Generic.Prompt */\n",
       ".highlight .gs { font-weight: bold } /* Generic.Strong */\n",
       ".highlight .gu { color: #800080; font-weight: bold } /* Generic.Subheading */\n",
       ".highlight .gt { color: #0044DD } /* Generic.Traceback */\n",
       ".highlight .kc { color: #008000; font-weight: bold } /* Keyword.Constant */\n",
       ".highlight .kd { color: #008000; font-weight: bold } /* Keyword.Declaration */\n",
       ".highlight .kn { color: #008000; font-weight: bold } /* Keyword.Namespace */\n",
       ".highlight .kp { color: #008000 } /* Keyword.Pseudo */\n",
       ".highlight .kr { color: #008000; font-weight: bold } /* Keyword.Reserved */\n",
       ".highlight .kt { color: #B00040 } /* Keyword.Type */\n",
       ".highlight .m { color: #666666 } /* Literal.Number */\n",
       ".highlight .s { color: #BA2121 } /* Literal.String */\n",
       ".highlight .na { color: #687822 } /* Name.Attribute */\n",
       ".highlight .nb { color: #008000 } /* Name.Builtin */\n",
       ".highlight .nc { color: #0000FF; font-weight: bold } /* Name.Class */\n",
       ".highlight .no { color: #880000 } /* Name.Constant */\n",
       ".highlight .nd { color: #AA22FF } /* Name.Decorator */\n",
       ".highlight .ni { color: #717171; font-weight: bold } /* Name.Entity */\n",
       ".highlight .ne { color: #CB3F38; font-weight: bold } /* Name.Exception */\n",
       ".highlight .nf { color: #0000FF } /* Name.Function */\n",
       ".highlight .nl { color: #767600 } /* Name.Label */\n",
       ".highlight .nn { color: #0000FF; font-weight: bold } /* Name.Namespace */\n",
       ".highlight .nt { color: #008000; font-weight: bold } /* Name.Tag */\n",
       ".highlight .nv { color: #19177C } /* Name.Variable */\n",
       ".highlight .ow { color: #AA22FF; font-weight: bold } /* Operator.Word */\n",
       ".highlight .w { color: #bbbbbb } /* Text.Whitespace */\n",
       ".highlight .mb { color: #666666 } /* Literal.Number.Bin */\n",
       ".highlight .mf { color: #666666 } /* Literal.Number.Float */\n",
       ".highlight .mh { color: #666666 } /* Literal.Number.Hex */\n",
       ".highlight .mi { color: #666666 } /* Literal.Number.Integer */\n",
       ".highlight .mo { color: #666666 } /* Literal.Number.Oct */\n",
       ".highlight .sa { color: #BA2121 } /* Literal.String.Affix */\n",
       ".highlight .sb { color: #BA2121 } /* Literal.String.Backtick */\n",
       ".highlight .sc { color: #BA2121 } /* Literal.String.Char */\n",
       ".highlight .dl { color: #BA2121 } /* Literal.String.Delimiter */\n",
       ".highlight .sd { color: #BA2121; font-style: italic } /* Literal.String.Doc */\n",
       ".highlight .s2 { color: #BA2121 } /* Literal.String.Double */\n",
       ".highlight .se { color: #AA5D1F; font-weight: bold } /* Literal.String.Escape */\n",
       ".highlight .sh { color: #BA2121 } /* Literal.String.Heredoc */\n",
       ".highlight .si { color: #A45A77; font-weight: bold } /* Literal.String.Interpol */\n",
       ".highlight .sx { color: #008000 } /* Literal.String.Other */\n",
       ".highlight .sr { color: #A45A77 } /* Literal.String.Regex */\n",
       ".highlight .s1 { color: #BA2121 } /* Literal.String.Single */\n",
       ".highlight .ss { color: #19177C } /* Literal.String.Symbol */\n",
       ".highlight .bp { color: #008000 } /* Name.Builtin.Pseudo */\n",
       ".highlight .fm { color: #0000FF } /* Name.Function.Magic */\n",
       ".highlight .vc { color: #19177C } /* Name.Variable.Class */\n",
       ".highlight .vg { color: #19177C } /* Name.Variable.Global */\n",
       ".highlight .vi { color: #19177C } /* Name.Variable.Instance */\n",
       ".highlight .vm { color: #19177C } /* Name.Variable.Magic */\n",
       ".highlight .il { color: #666666 } /* Literal.Number.Integer.Long */</style>    <div class=\"highlight\"><pre><span></span><span class=\"cp\">&lt;?xml version=&quot;1.0&quot; encoding=&quot;UTF-8&quot;?&gt;</span>\n",
       "<span class=\"nt\">&lt;sbml</span> <span class=\"na\">xmlns=</span><span class=\"s\">&quot;http://www.sbml.org/sbml/level3/version1/core&quot;</span> <span class=\"na\">xmlns:distrib=</span><span class=\"s\">&quot;http://www.sbml.org/sbml/level3/version1/distrib/version1&quot;</span> <span class=\"na\">xmlns:comp=</span><span class=\"s\">&quot;http://www.sbml.org/sbml/level3/version1/comp/version1&quot;</span> <span class=\"na\">level=</span><span class=\"s\">&quot;3&quot;</span> <span class=\"na\">version=</span><span class=\"s\">&quot;1&quot;</span> <span class=\"na\">distrib:required=</span><span class=\"s\">&quot;true&quot;</span> <span class=\"na\">comp:required=</span><span class=\"s\">&quot;true&quot;</span><span class=\"nt\">&gt;</span>\n",
       "  <span class=\"nt\">&lt;notes&gt;</span>\n",
       "    <span class=\"nt\">&lt;body</span> <span class=\"na\">xmlns=</span><span class=\"s\">&quot;http://www.w3.org/1999/xhtml&quot;</span><span class=\"nt\">&gt;</span>\n",
       "      <span class=\"nt\">&lt;p&gt;</span>Created with <span class=\"nt\">&lt;a</span> <span class=\"na\">href=</span><span class=\"s\">&quot;https://github.com/matthiaskoenig/sbmlutils&quot;</span><span class=\"nt\">&gt;</span>https://github.com/matthiaskoenig/sbmlutils<span class=\"nt\">&lt;/a&gt;</span>.\n",
       "<span class=\"nt\">&lt;a</span> <span class=\"na\">href=</span><span class=\"s\">&quot;https://doi.org/10.5281/zenodo.5525390&quot;</span><span class=\"nt\">&gt;</span>\n",
       "        <span class=\"nt\">&lt;img</span> <span class=\"na\">src=</span><span class=\"s\">&quot;https://zenodo.org/badge/DOI/10.5281/zenodo.5525390.svg&quot;</span> <span class=\"na\">alt=</span><span class=\"s\">&quot;DOI&quot;</span><span class=\"nt\">/&gt;&lt;/a&gt;&lt;/p&gt;</span>\n",
       "      <span class=\"nt\">&lt;/body&gt;</span>\n",
       "    <span class=\"nt\">&lt;/notes&gt;</span>\n",
       "  <span class=\"nt\">&lt;model</span> <span class=\"na\">id=</span><span class=\"s\">&quot;truncated_normal&quot;</span><span class=\"nt\">&gt;</span>\n",
       "    <span class=\"nt\">&lt;listOfParameters&gt;</span>\n",
       "      <span class=\"nt\">&lt;parameter</span> <span class=\"na\">id=</span><span class=\"s\">&quot;y&quot;</span> <span class=\"na\">value=</span><span class=\"s\">&quot;1&quot;</span> <span class=\"na\">constant=</span><span class=\"s\">&quot;true&quot;</span><span class=\"nt\">/&gt;</span>\n",
       "      <span class=\"nt\">&lt;parameter</span> <span class=\"na\">id=</span><span class=\"s\">&quot;z&quot;</span> <span class=\"na\">value=</span><span class=\"s\">&quot;1&quot;</span> <span class=\"na\">constant=</span><span class=\"s\">&quot;true&quot;</span><span class=\"nt\">/&gt;</span>\n",
       "    <span class=\"nt\">&lt;/listOfParameters&gt;</span>\n",
       "    <span class=\"nt\">&lt;listOfInitialAssignments&gt;</span>\n",
       "      <span class=\"nt\">&lt;initialAssignment</span> <span class=\"na\">symbol=</span><span class=\"s\">&quot;y&quot;</span><span class=\"nt\">&gt;</span>\n",
       "        <span class=\"nt\">&lt;math</span> <span class=\"na\">xmlns=</span><span class=\"s\">&quot;http://www.w3.org/1998/Math/MathML&quot;</span><span class=\"nt\">&gt;</span>\n",
       "          <span class=\"nt\">&lt;apply&gt;</span>\n",
       "            <span class=\"nt\">&lt;csymbol</span> <span class=\"na\">encoding=</span><span class=\"s\">&quot;text&quot;</span> <span class=\"na\">definitionURL=</span><span class=\"s\">&quot;http://www.sbml.org/sbml/symbols/distrib/normal&quot;</span><span class=\"nt\">&gt;</span> normal <span class=\"nt\">&lt;/csymbol&gt;</span>\n",
       "            <span class=\"nt\">&lt;ci&gt;</span> z <span class=\"nt\">&lt;/ci&gt;</span>\n",
       "            <span class=\"nt\">&lt;cn</span> <span class=\"na\">type=</span><span class=\"s\">&quot;integer&quot;</span><span class=\"nt\">&gt;</span> 10 <span class=\"nt\">&lt;/cn&gt;</span>\n",
       "            <span class=\"nt\">&lt;apply&gt;</span>\n",
       "              <span class=\"nt\">&lt;minus/&gt;</span>\n",
       "              <span class=\"nt\">&lt;ci&gt;</span> z <span class=\"nt\">&lt;/ci&gt;</span>\n",
       "              <span class=\"nt\">&lt;cn</span> <span class=\"na\">type=</span><span class=\"s\">&quot;integer&quot;</span><span class=\"nt\">&gt;</span> 2 <span class=\"nt\">&lt;/cn&gt;</span>\n",
       "            <span class=\"nt\">&lt;/apply&gt;</span>\n",
       "            <span class=\"nt\">&lt;apply&gt;</span>\n",
       "              <span class=\"nt\">&lt;plus/&gt;</span>\n",
       "              <span class=\"nt\">&lt;ci&gt;</span> z <span class=\"nt\">&lt;/ci&gt;</span>\n",
       "              <span class=\"nt\">&lt;cn</span> <span class=\"na\">type=</span><span class=\"s\">&quot;integer&quot;</span><span class=\"nt\">&gt;</span> 2 <span class=\"nt\">&lt;/cn&gt;</span>\n",
       "            <span class=\"nt\">&lt;/apply&gt;</span>\n",
       "          <span class=\"nt\">&lt;/apply&gt;</span>\n",
       "        <span class=\"nt\">&lt;/math&gt;</span>\n",
       "      <span class=\"nt\">&lt;/initialAssignment&gt;</span>\n",
       "    <span class=\"nt\">&lt;/listOfInitialAssignments&gt;</span>\n",
       "  <span class=\"nt\">&lt;/model&gt;</span>\n",
       "<span class=\"nt\">&lt;/sbml&gt;</span>\n",
       "</pre></div>\n"
      ]
     },
     "metadata": {},
     "output_type": "display_data"
    },
    {
     "data": {
      "text/html": [
       "<pre style=\"white-space:pre;overflow-x:auto;line-height:normal;font-family:Menlo,'DejaVu Sans Mono',consolas,'Courier New',monospace\">\n",
       "</pre>\n"
      ],
      "text/plain": [
       "\n"
      ]
     },
     "metadata": {},
     "output_type": "display_data"
    },
    {
     "data": {
      "text/html": [
       "<pre style=\"white-space:pre;overflow-x:auto;line-height:normal;font-family:Menlo,'DejaVu Sans Mono',consolas,'Courier New',monospace\"><span style=\"color: #008000; text-decoration-color: #008000\">────────────────────────────────────────────────── </span>Validate SBML<span style=\"color: #008000; text-decoration-color: #008000\"> ──────────────────────────────────────────────────</span>\n",
       "</pre>\n"
      ],
      "text/plain": [
       "\u001b[32m────────────────────────────────────────────────── \u001b[0mValidate SBML\u001b[32m ──────────────────────────────────────────────────\u001b[0m\n"
      ]
     },
     "metadata": {},
     "output_type": "display_data"
    },
    {
     "data": {
      "text/html": [
       "<pre style=\"white-space:pre;overflow-x:auto;line-height:normal;font-family:Menlo,'DejaVu Sans Mono',consolas,'Courier New',monospace\"><span style=\"color: #008000; text-decoration-color: #008000; font-weight: bold\">&lt;</span><span style=\"color: #ff00ff; text-decoration-color: #ff00ff; font-weight: bold\">SBMLDocument</span><span style=\"color: #008000; text-decoration-color: #008000; font-weight: bold\">&gt;</span>\n",
       "<span style=\"color: #008000; text-decoration-color: #008000\">valid                    : TRUE</span>\n",
       "<span style=\"color: #008000; text-decoration-color: #008000\">check time </span><span style=\"color: #008000; text-decoration-color: #008000; font-weight: bold\">(</span><span style=\"color: #008000; text-decoration-color: #008000\">s</span><span style=\"color: #008000; text-decoration-color: #008000; font-weight: bold\">)</span><span style=\"color: #008000; text-decoration-color: #008000\">           : </span><span style=\"color: #008080; text-decoration-color: #008080; font-weight: bold\">0.002</span>\n",
       "</pre>\n"
      ],
      "text/plain": [
       "\u001b[1;32m<\u001b[0m\u001b[1;95mSBMLDocument\u001b[0m\u001b[1;32m>\u001b[0m\n",
       "\u001b[32mvalid                    : TRUE\u001b[0m\n",
       "\u001b[32mcheck time \u001b[0m\u001b[1;32m(\u001b[0m\u001b[32ms\u001b[0m\u001b[1;32m)\u001b[0m\u001b[32m           : \u001b[0m\u001b[1;36m0.002\u001b[0m\n"
      ]
     },
     "metadata": {},
     "output_type": "display_data"
    },
    {
     "data": {
      "text/html": [
       "<pre style=\"white-space:pre;overflow-x:auto;line-height:normal;font-family:Menlo,'DejaVu Sans Mono',consolas,'Courier New',monospace\"><span style=\"color: #008000; text-decoration-color: #008000\">───────────────────────────────────────────────────────────────────────────────────────────────────────────────────</span>\n",
       "</pre>\n"
      ],
      "text/plain": [
       "\u001b[32m───────────────────────────────────────────────────────────────────────────────────────────────────────────────────\u001b[0m\n"
      ]
     },
     "metadata": {},
     "output_type": "display_data"
    },
    {
     "data": {
      "text/html": [
       "<pre style=\"white-space:pre;overflow-x:auto;line-height:normal;font-family:Menlo,'DejaVu Sans Mono',consolas,'Courier New',monospace\">\n",
       "</pre>\n"
      ],
      "text/plain": [
       "\n"
      ]
     },
     "metadata": {},
     "output_type": "display_data"
    }
   ],
   "source": [
    "model = Model(\n",
    "    'truncated_normal',\n",
    "    packages = [Package.DISTRIB_V1],\n",
    "    objects = [\n",
    "        Parameter('y', value=1.0),\n",
    "        Parameter('z', value=1.0),\n",
    "        InitialAssignment('y', 'normal(z, 10, z-2, z+2)'),\n",
    "    ]\n",
    ")\n",
    "\n",
    "# create model and print SBML\n",
    "doc = Document(model)\n",
    "print_xml(doc.get_sbml())\n",
    "\n",
    "# validate model\n",
    "validate_doc(doc.doc, options=ValidationOptions(units_consistency=False));"
   ]
  },
  {
   "cell_type": "markdown",
   "metadata": {},
   "source": [
    "### Defining conditional events \n",
    "Simultaneous events in SBML are ordered based on their Priority values, with higher values being executed first, and potentially cancelling events that fire after them. In this example, two simultaneous events have priorities set with csymbols defined in distrib. The event `E0` has a priority of `uniform(0,1)`, while the event `E1` has a priority of `uniform(0,2)`. This means that 75% of the time, event `E1` will have a higher priority than `E0`, and will fire first, assigning a value of `5` to parameter `x`. Because this negates the trigger condition for `E0`, which is set `persistent=\"false\"`, this means that `E0` never fires, and the value of `x` remains at `5`. The remaining 25% of the time, the reverse happens, with `E0` setting the value of `x` to `3` instead."
   ]
  },
  {
   "cell_type": "code",
   "execution_count": 6,
   "metadata": {},
   "outputs": [
    {
     "data": {
      "text/html": [
       "<pre style=\"white-space:pre;overflow-x:auto;line-height:normal;font-family:Menlo,'DejaVu Sans Mono',consolas,'Courier New',monospace\"><span style=\"color: #000080; text-decoration-color: #000080\">INFO    </span> Create SBML for model <span style=\"color: #008000; text-decoration-color: #008000\">'conditional_events'</span>                                                 <a href=\"file:///home/mkoenig/git/sbmlutils/src/sbmlutils/factory.py\" target=\"_blank\"><span style=\"color: #7f7f7f; text-decoration-color: #7f7f7f\">factory.py</span></a><span style=\"color: #7f7f7f; text-decoration-color: #7f7f7f\">:</span><a href=\"file:///home/mkoenig/git/sbmlutils/src/sbmlutils/factory.py#3526\" target=\"_blank\"><span style=\"color: #7f7f7f; text-decoration-color: #7f7f7f\">3526</span></a>\n",
       "</pre>\n"
      ],
      "text/plain": [
       "\u001b[34mINFO    \u001b[0m Create SBML for model \u001b[32m'conditional_events'\u001b[0m                                                 \u001b]8;id=191260;file:///home/mkoenig/git/sbmlutils/src/sbmlutils/factory.py\u001b\\\u001b[2mfactory.py\u001b[0m\u001b]8;;\u001b\\\u001b[2m:\u001b[0m\u001b]8;id=60810;file:///home/mkoenig/git/sbmlutils/src/sbmlutils/factory.py#3526\u001b\\\u001b[2m3526\u001b[0m\u001b]8;;\u001b\\\n"
      ]
     },
     "metadata": {},
     "output_type": "display_data"
    },
    {
     "data": {
      "text/html": [
       "<pre style=\"white-space:pre;overflow-x:auto;line-height:normal;font-family:Menlo,'DejaVu Sans Mono',consolas,'Courier New',monospace\"><span style=\"color: #800000; text-decoration-color: #800000\">WARNING </span> <span style=\"color: #008000; text-decoration-color: #008000\">'name'</span> should be set on <span style=\"color: #008000; text-decoration-color: #008000\">'Model(sid='</span>conditional_events', <span style=\"color: #808000; text-decoration-color: #808000\">packages</span>=<span style=\"font-weight: bold\">[&lt;</span><span style=\"color: #ff00ff; text-decoration-color: #ff00ff; font-weight: bold\">Package.DISTRIB_V1:</span><span style=\"color: #000000; text-decoration-color: #000000\"> </span>    <a href=\"file:///home/mkoenig/git/sbmlutils/src/sbmlutils/factory.py\" target=\"_blank\"><span style=\"color: #7f7f7f; text-decoration-color: #7f7f7f\">factory.py</span></a><span style=\"color: #7f7f7f; text-decoration-color: #7f7f7f\">:</span><a href=\"file:///home/mkoenig/git/sbmlutils/src/sbmlutils/factory.py#441\" target=\"_blank\"><span style=\"color: #7f7f7f; text-decoration-color: #7f7f7f\">441</span></a>\n",
       "         <span style=\"color: #008000; text-decoration-color: #008000\">'distrib-v1'</span><span style=\"font-weight: bold\">&gt;</span>, <span style=\"font-weight: bold\">&lt;</span><span style=\"color: #ff00ff; text-decoration-color: #ff00ff; font-weight: bold\">Package.COMP_V1:</span><span style=\"color: #000000; text-decoration-color: #000000\"> </span><span style=\"color: #008000; text-decoration-color: #008000\">'comp-v1'</span><span style=\"font-weight: bold\">&gt;]</span>, <span style=\"color: #808000; text-decoration-color: #808000\">units</span>=<span style=\"font-weight: bold\">&lt;</span><span style=\"color: #ff00ff; text-decoration-color: #ff00ff; font-weight: bold\">class</span><span style=\"color: #000000; text-decoration-color: #000000\"> </span><span style=\"color: #008000; text-decoration-color: #008000\">'sbmlutils.factory.Units'</span><span style=\"font-weight: bold\">&gt;</span>,      <span style=\"color: #7f7f7f; text-decoration-color: #7f7f7f\">              </span>\n",
       "         <span style=\"color: #808000; text-decoration-color: #808000\">parameters</span>=<span style=\"font-weight: bold\">[</span>x = <span style=\"color: #008080; text-decoration-color: #008080; font-weight: bold\">1.0</span> <span style=\"font-weight: bold\">[</span><span style=\"color: #800080; text-decoration-color: #800080; font-style: italic\">None</span><span style=\"font-weight: bold\">]]</span>, <span style=\"color: #808000; text-decoration-color: #808000\">events</span>=<span style=\"font-weight: bold\">[&lt;</span><span style=\"color: #ff00ff; text-decoration-color: #ff00ff; font-weight: bold\">sbmlutils.factory.Event</span><span style=\"color: #000000; text-decoration-color: #000000\"> object at </span><span style=\"color: #008080; text-decoration-color: #008080; font-weight: bold\">0x7f8eaaa34fd0</span><span style=\"font-weight: bold\">&gt;</span>,    <span style=\"color: #7f7f7f; text-decoration-color: #7f7f7f\">              </span>\n",
       "         <span style=\"font-weight: bold\">&lt;</span><span style=\"color: #ff00ff; text-decoration-color: #ff00ff; font-weight: bold\">sbmlutils.factory.Event</span><span style=\"color: #000000; text-decoration-color: #000000\"> object at </span><span style=\"color: #008080; text-decoration-color: #008080; font-weight: bold\">0x7f8eaaa346d0</span><span style=\"font-weight: bold\">&gt;]</span>, <span style=\"color: #808000; text-decoration-color: #808000\">_FrozenClass__isfrozen</span>=<span style=\"color: #00ff00; text-decoration-color: #00ff00; font-style: italic\">True</span><span style=\"font-weight: bold\">)</span>'          <span style=\"color: #7f7f7f; text-decoration-color: #7f7f7f\">              </span>\n",
       "</pre>\n"
      ],
      "text/plain": [
       "\u001b[31mWARNING \u001b[0m \u001b[32m'name'\u001b[0m should be set on \u001b[32m'Model\u001b[0m\u001b[32m(\u001b[0m\u001b[32msid\u001b[0m\u001b[32m='\u001b[0mconditional_events', \u001b[33mpackages\u001b[0m=\u001b[1m[\u001b[0m\u001b[1m<\u001b[0m\u001b[1;95mPackage.DISTRIB_V1:\u001b[0m\u001b[39m \u001b[0m    \u001b]8;id=765887;file:///home/mkoenig/git/sbmlutils/src/sbmlutils/factory.py\u001b\\\u001b[2mfactory.py\u001b[0m\u001b]8;;\u001b\\\u001b[2m:\u001b[0m\u001b]8;id=769256;file:///home/mkoenig/git/sbmlutils/src/sbmlutils/factory.py#441\u001b\\\u001b[2m441\u001b[0m\u001b]8;;\u001b\\\n",
       "         \u001b[32m'distrib-v1'\u001b[0m\u001b[1m>\u001b[0m, \u001b[1m<\u001b[0m\u001b[1;95mPackage.COMP_V1:\u001b[0m\u001b[39m \u001b[0m\u001b[32m'comp-v1'\u001b[0m\u001b[1m>\u001b[0m\u001b[1m]\u001b[0m, \u001b[33munits\u001b[0m=\u001b[1m<\u001b[0m\u001b[1;95mclass\u001b[0m\u001b[39m \u001b[0m\u001b[32m'sbmlutils.factory.Units'\u001b[0m\u001b[1m>\u001b[0m,      \u001b[2m              \u001b[0m\n",
       "         \u001b[33mparameters\u001b[0m=\u001b[1m[\u001b[0mx = \u001b[1;36m1.0\u001b[0m \u001b[1m[\u001b[0m\u001b[3;35mNone\u001b[0m\u001b[1m]\u001b[0m\u001b[1m]\u001b[0m, \u001b[33mevents\u001b[0m=\u001b[1m[\u001b[0m\u001b[1m<\u001b[0m\u001b[1;95msbmlutils.factory.Event\u001b[0m\u001b[39m object at \u001b[0m\u001b[1;36m0x7f8eaaa34fd0\u001b[0m\u001b[1m>\u001b[0m,    \u001b[2m              \u001b[0m\n",
       "         \u001b[1m<\u001b[0m\u001b[1;95msbmlutils.factory.Event\u001b[0m\u001b[39m object at \u001b[0m\u001b[1;36m0x7f8eaaa346d0\u001b[0m\u001b[1m>\u001b[0m\u001b[1m]\u001b[0m, \u001b[33m_FrozenClass__isfrozen\u001b[0m=\u001b[3;92mTrue\u001b[0m\u001b[1m)\u001b[0m'          \u001b[2m              \u001b[0m\n"
      ]
     },
     "metadata": {},
     "output_type": "display_data"
    },
    {
     "data": {
      "text/html": [
       "<pre style=\"white-space:pre;overflow-x:auto;line-height:normal;font-family:Menlo,'DejaVu Sans Mono',consolas,'Courier New',monospace\"><span style=\"color: #800000; text-decoration-color: #800000\">WARNING </span> <span style=\"color: #008000; text-decoration-color: #008000\">'name'</span> should be set on <span style=\"color: #008000; text-decoration-color: #008000\">'Parameter(x)'</span>                                                      <a href=\"file:///home/mkoenig/git/sbmlutils/src/sbmlutils/factory.py\" target=\"_blank\"><span style=\"color: #7f7f7f; text-decoration-color: #7f7f7f\">factory.py</span></a><span style=\"color: #7f7f7f; text-decoration-color: #7f7f7f\">:</span><a href=\"file:///home/mkoenig/git/sbmlutils/src/sbmlutils/factory.py#441\" target=\"_blank\"><span style=\"color: #7f7f7f; text-decoration-color: #7f7f7f\">441</span></a>\n",
       "</pre>\n"
      ],
      "text/plain": [
       "\u001b[31mWARNING \u001b[0m \u001b[32m'name'\u001b[0m should be set on \u001b[32m'Parameter\u001b[0m\u001b[32m(\u001b[0m\u001b[32mx\u001b[0m\u001b[32m)\u001b[0m\u001b[32m'\u001b[0m                                                      \u001b]8;id=573361;file:///home/mkoenig/git/sbmlutils/src/sbmlutils/factory.py\u001b\\\u001b[2mfactory.py\u001b[0m\u001b]8;;\u001b\\\u001b[2m:\u001b[0m\u001b]8;id=340933;file:///home/mkoenig/git/sbmlutils/src/sbmlutils/factory.py#441\u001b\\\u001b[2m441\u001b[0m\u001b]8;;\u001b\\\n"
      ]
     },
     "metadata": {},
     "output_type": "display_data"
    },
    {
     "data": {
      "text/html": [
       "<pre style=\"white-space:pre;overflow-x:auto;line-height:normal;font-family:Menlo,'DejaVu Sans Mono',consolas,'Courier New',monospace\"><span style=\"color: #800000; text-decoration-color: #800000\">WARNING </span> <span style=\"color: #008000; text-decoration-color: #008000\">'sboTerm'</span> should be set on <span style=\"color: #008000; text-decoration-color: #008000\">'Parameter(x)'</span>                                                   <a href=\"file:///home/mkoenig/git/sbmlutils/src/sbmlutils/factory.py\" target=\"_blank\"><span style=\"color: #7f7f7f; text-decoration-color: #7f7f7f\">factory.py</span></a><span style=\"color: #7f7f7f; text-decoration-color: #7f7f7f\">:</span><a href=\"file:///home/mkoenig/git/sbmlutils/src/sbmlutils/factory.py#466\" target=\"_blank\"><span style=\"color: #7f7f7f; text-decoration-color: #7f7f7f\">466</span></a>\n",
       "</pre>\n"
      ],
      "text/plain": [
       "\u001b[31mWARNING \u001b[0m \u001b[32m'sboTerm'\u001b[0m should be set on \u001b[32m'Parameter\u001b[0m\u001b[32m(\u001b[0m\u001b[32mx\u001b[0m\u001b[32m)\u001b[0m\u001b[32m'\u001b[0m                                                   \u001b]8;id=362537;file:///home/mkoenig/git/sbmlutils/src/sbmlutils/factory.py\u001b\\\u001b[2mfactory.py\u001b[0m\u001b]8;;\u001b\\\u001b[2m:\u001b[0m\u001b]8;id=121136;file:///home/mkoenig/git/sbmlutils/src/sbmlutils/factory.py#466\u001b\\\u001b[2m466\u001b[0m\u001b]8;;\u001b\\\n"
      ]
     },
     "metadata": {},
     "output_type": "display_data"
    },
    {
     "data": {
      "text/html": [
       "<pre style=\"white-space:pre;overflow-x:auto;line-height:normal;font-family:Menlo,'DejaVu Sans Mono',consolas,'Courier New',monospace\"><span style=\"color: #800000; text-decoration-color: #800000\">WARNING </span> <span style=\"color: #008000; text-decoration-color: #008000\">'name'</span> should be set on <span style=\"color: #008000; text-decoration-color: #008000\">'Event(E0)'</span>                                                         <a href=\"file:///home/mkoenig/git/sbmlutils/src/sbmlutils/factory.py\" target=\"_blank\"><span style=\"color: #7f7f7f; text-decoration-color: #7f7f7f\">factory.py</span></a><span style=\"color: #7f7f7f; text-decoration-color: #7f7f7f\">:</span><a href=\"file:///home/mkoenig/git/sbmlutils/src/sbmlutils/factory.py#441\" target=\"_blank\"><span style=\"color: #7f7f7f; text-decoration-color: #7f7f7f\">441</span></a>\n",
       "</pre>\n"
      ],
      "text/plain": [
       "\u001b[31mWARNING \u001b[0m \u001b[32m'name'\u001b[0m should be set on \u001b[32m'Event\u001b[0m\u001b[32m(\u001b[0m\u001b[32mE0\u001b[0m\u001b[32m)\u001b[0m\u001b[32m'\u001b[0m                                                         \u001b]8;id=721757;file:///home/mkoenig/git/sbmlutils/src/sbmlutils/factory.py\u001b\\\u001b[2mfactory.py\u001b[0m\u001b]8;;\u001b\\\u001b[2m:\u001b[0m\u001b]8;id=173968;file:///home/mkoenig/git/sbmlutils/src/sbmlutils/factory.py#441\u001b\\\u001b[2m441\u001b[0m\u001b]8;;\u001b\\\n"
      ]
     },
     "metadata": {},
     "output_type": "display_data"
    },
    {
     "data": {
      "text/html": [
       "<pre style=\"white-space:pre;overflow-x:auto;line-height:normal;font-family:Menlo,'DejaVu Sans Mono',consolas,'Courier New',monospace\"><span style=\"color: #800000; text-decoration-color: #800000\">WARNING </span> <span style=\"color: #008000; text-decoration-color: #008000\">'sboTerm'</span> should be set on <span style=\"color: #008000; text-decoration-color: #008000\">'Event(E0)'</span>                                                      <a href=\"file:///home/mkoenig/git/sbmlutils/src/sbmlutils/factory.py\" target=\"_blank\"><span style=\"color: #7f7f7f; text-decoration-color: #7f7f7f\">factory.py</span></a><span style=\"color: #7f7f7f; text-decoration-color: #7f7f7f\">:</span><a href=\"file:///home/mkoenig/git/sbmlutils/src/sbmlutils/factory.py#466\" target=\"_blank\"><span style=\"color: #7f7f7f; text-decoration-color: #7f7f7f\">466</span></a>\n",
       "</pre>\n"
      ],
      "text/plain": [
       "\u001b[31mWARNING \u001b[0m \u001b[32m'sboTerm'\u001b[0m should be set on \u001b[32m'Event\u001b[0m\u001b[32m(\u001b[0m\u001b[32mE0\u001b[0m\u001b[32m)\u001b[0m\u001b[32m'\u001b[0m                                                      \u001b]8;id=27886;file:///home/mkoenig/git/sbmlutils/src/sbmlutils/factory.py\u001b\\\u001b[2mfactory.py\u001b[0m\u001b]8;;\u001b\\\u001b[2m:\u001b[0m\u001b]8;id=723207;file:///home/mkoenig/git/sbmlutils/src/sbmlutils/factory.py#466\u001b\\\u001b[2m466\u001b[0m\u001b]8;;\u001b\\\n"
      ]
     },
     "metadata": {},
     "output_type": "display_data"
    },
    {
     "data": {
      "text/html": [
       "<pre style=\"white-space:pre;overflow-x:auto;line-height:normal;font-family:Menlo,'DejaVu Sans Mono',consolas,'Courier New',monospace\"><span style=\"color: #800000; text-decoration-color: #800000\">WARNING </span> <span style=\"color: #008000; text-decoration-color: #008000\">'name'</span> should be set on <span style=\"color: #008000; text-decoration-color: #008000\">'Event(E1)'</span>                                                         <a href=\"file:///home/mkoenig/git/sbmlutils/src/sbmlutils/factory.py\" target=\"_blank\"><span style=\"color: #7f7f7f; text-decoration-color: #7f7f7f\">factory.py</span></a><span style=\"color: #7f7f7f; text-decoration-color: #7f7f7f\">:</span><a href=\"file:///home/mkoenig/git/sbmlutils/src/sbmlutils/factory.py#441\" target=\"_blank\"><span style=\"color: #7f7f7f; text-decoration-color: #7f7f7f\">441</span></a>\n",
       "</pre>\n"
      ],
      "text/plain": [
       "\u001b[31mWARNING \u001b[0m \u001b[32m'name'\u001b[0m should be set on \u001b[32m'Event\u001b[0m\u001b[32m(\u001b[0m\u001b[32mE1\u001b[0m\u001b[32m)\u001b[0m\u001b[32m'\u001b[0m                                                         \u001b]8;id=73084;file:///home/mkoenig/git/sbmlutils/src/sbmlutils/factory.py\u001b\\\u001b[2mfactory.py\u001b[0m\u001b]8;;\u001b\\\u001b[2m:\u001b[0m\u001b]8;id=495777;file:///home/mkoenig/git/sbmlutils/src/sbmlutils/factory.py#441\u001b\\\u001b[2m441\u001b[0m\u001b]8;;\u001b\\\n"
      ]
     },
     "metadata": {},
     "output_type": "display_data"
    },
    {
     "data": {
      "text/html": [
       "<pre style=\"white-space:pre;overflow-x:auto;line-height:normal;font-family:Menlo,'DejaVu Sans Mono',consolas,'Courier New',monospace\"><span style=\"color: #800000; text-decoration-color: #800000\">WARNING </span> <span style=\"color: #008000; text-decoration-color: #008000\">'sboTerm'</span> should be set on <span style=\"color: #008000; text-decoration-color: #008000\">'Event(E1)'</span>                                                      <a href=\"file:///home/mkoenig/git/sbmlutils/src/sbmlutils/factory.py\" target=\"_blank\"><span style=\"color: #7f7f7f; text-decoration-color: #7f7f7f\">factory.py</span></a><span style=\"color: #7f7f7f; text-decoration-color: #7f7f7f\">:</span><a href=\"file:///home/mkoenig/git/sbmlutils/src/sbmlutils/factory.py#466\" target=\"_blank\"><span style=\"color: #7f7f7f; text-decoration-color: #7f7f7f\">466</span></a>\n",
       "</pre>\n"
      ],
      "text/plain": [
       "\u001b[31mWARNING \u001b[0m \u001b[32m'sboTerm'\u001b[0m should be set on \u001b[32m'Event\u001b[0m\u001b[32m(\u001b[0m\u001b[32mE1\u001b[0m\u001b[32m)\u001b[0m\u001b[32m'\u001b[0m                                                      \u001b]8;id=498961;file:///home/mkoenig/git/sbmlutils/src/sbmlutils/factory.py\u001b\\\u001b[2mfactory.py\u001b[0m\u001b]8;;\u001b\\\u001b[2m:\u001b[0m\u001b]8;id=905211;file:///home/mkoenig/git/sbmlutils/src/sbmlutils/factory.py#466\u001b\\\u001b[2m466\u001b[0m\u001b]8;;\u001b\\\n"
      ]
     },
     "metadata": {},
     "output_type": "display_data"
    },
    {
     "data": {
      "text/html": [
       "<style type=\"text/css\">pre { line-height: 125%; }\n",
       "td.linenos .normal { color: inherit; background-color: transparent; padding-left: 5px; padding-right: 5px; }\n",
       "span.linenos { color: inherit; background-color: transparent; padding-left: 5px; padding-right: 5px; }\n",
       "td.linenos .special { color: #000000; background-color: #ffffc0; padding-left: 5px; padding-right: 5px; }\n",
       "span.linenos.special { color: #000000; background-color: #ffffc0; padding-left: 5px; padding-right: 5px; }\n",
       ".highlight .hll { background-color: #ffffcc }\n",
       ".highlight { background: #f8f8f8; }\n",
       ".highlight .c { color: #3D7B7B; font-style: italic } /* Comment */\n",
       ".highlight .err { border: 1px solid #FF0000 } /* Error */\n",
       ".highlight .k { color: #008000; font-weight: bold } /* Keyword */\n",
       ".highlight .o { color: #666666 } /* Operator */\n",
       ".highlight .ch { color: #3D7B7B; font-style: italic } /* Comment.Hashbang */\n",
       ".highlight .cm { color: #3D7B7B; font-style: italic } /* Comment.Multiline */\n",
       ".highlight .cp { color: #9C6500 } /* Comment.Preproc */\n",
       ".highlight .cpf { color: #3D7B7B; font-style: italic } /* Comment.PreprocFile */\n",
       ".highlight .c1 { color: #3D7B7B; font-style: italic } /* Comment.Single */\n",
       ".highlight .cs { color: #3D7B7B; font-style: italic } /* Comment.Special */\n",
       ".highlight .gd { color: #A00000 } /* Generic.Deleted */\n",
       ".highlight .ge { font-style: italic } /* Generic.Emph */\n",
       ".highlight .gr { color: #E40000 } /* Generic.Error */\n",
       ".highlight .gh { color: #000080; font-weight: bold } /* Generic.Heading */\n",
       ".highlight .gi { color: #008400 } /* Generic.Inserted */\n",
       ".highlight .go { color: #717171 } /* Generic.Output */\n",
       ".highlight .gp { color: #000080; font-weight: bold } /* Generic.Prompt */\n",
       ".highlight .gs { font-weight: bold } /* Generic.Strong */\n",
       ".highlight .gu { color: #800080; font-weight: bold } /* Generic.Subheading */\n",
       ".highlight .gt { color: #0044DD } /* Generic.Traceback */\n",
       ".highlight .kc { color: #008000; font-weight: bold } /* Keyword.Constant */\n",
       ".highlight .kd { color: #008000; font-weight: bold } /* Keyword.Declaration */\n",
       ".highlight .kn { color: #008000; font-weight: bold } /* Keyword.Namespace */\n",
       ".highlight .kp { color: #008000 } /* Keyword.Pseudo */\n",
       ".highlight .kr { color: #008000; font-weight: bold } /* Keyword.Reserved */\n",
       ".highlight .kt { color: #B00040 } /* Keyword.Type */\n",
       ".highlight .m { color: #666666 } /* Literal.Number */\n",
       ".highlight .s { color: #BA2121 } /* Literal.String */\n",
       ".highlight .na { color: #687822 } /* Name.Attribute */\n",
       ".highlight .nb { color: #008000 } /* Name.Builtin */\n",
       ".highlight .nc { color: #0000FF; font-weight: bold } /* Name.Class */\n",
       ".highlight .no { color: #880000 } /* Name.Constant */\n",
       ".highlight .nd { color: #AA22FF } /* Name.Decorator */\n",
       ".highlight .ni { color: #717171; font-weight: bold } /* Name.Entity */\n",
       ".highlight .ne { color: #CB3F38; font-weight: bold } /* Name.Exception */\n",
       ".highlight .nf { color: #0000FF } /* Name.Function */\n",
       ".highlight .nl { color: #767600 } /* Name.Label */\n",
       ".highlight .nn { color: #0000FF; font-weight: bold } /* Name.Namespace */\n",
       ".highlight .nt { color: #008000; font-weight: bold } /* Name.Tag */\n",
       ".highlight .nv { color: #19177C } /* Name.Variable */\n",
       ".highlight .ow { color: #AA22FF; font-weight: bold } /* Operator.Word */\n",
       ".highlight .w { color: #bbbbbb } /* Text.Whitespace */\n",
       ".highlight .mb { color: #666666 } /* Literal.Number.Bin */\n",
       ".highlight .mf { color: #666666 } /* Literal.Number.Float */\n",
       ".highlight .mh { color: #666666 } /* Literal.Number.Hex */\n",
       ".highlight .mi { color: #666666 } /* Literal.Number.Integer */\n",
       ".highlight .mo { color: #666666 } /* Literal.Number.Oct */\n",
       ".highlight .sa { color: #BA2121 } /* Literal.String.Affix */\n",
       ".highlight .sb { color: #BA2121 } /* Literal.String.Backtick */\n",
       ".highlight .sc { color: #BA2121 } /* Literal.String.Char */\n",
       ".highlight .dl { color: #BA2121 } /* Literal.String.Delimiter */\n",
       ".highlight .sd { color: #BA2121; font-style: italic } /* Literal.String.Doc */\n",
       ".highlight .s2 { color: #BA2121 } /* Literal.String.Double */\n",
       ".highlight .se { color: #AA5D1F; font-weight: bold } /* Literal.String.Escape */\n",
       ".highlight .sh { color: #BA2121 } /* Literal.String.Heredoc */\n",
       ".highlight .si { color: #A45A77; font-weight: bold } /* Literal.String.Interpol */\n",
       ".highlight .sx { color: #008000 } /* Literal.String.Other */\n",
       ".highlight .sr { color: #A45A77 } /* Literal.String.Regex */\n",
       ".highlight .s1 { color: #BA2121 } /* Literal.String.Single */\n",
       ".highlight .ss { color: #19177C } /* Literal.String.Symbol */\n",
       ".highlight .bp { color: #008000 } /* Name.Builtin.Pseudo */\n",
       ".highlight .fm { color: #0000FF } /* Name.Function.Magic */\n",
       ".highlight .vc { color: #19177C } /* Name.Variable.Class */\n",
       ".highlight .vg { color: #19177C } /* Name.Variable.Global */\n",
       ".highlight .vi { color: #19177C } /* Name.Variable.Instance */\n",
       ".highlight .vm { color: #19177C } /* Name.Variable.Magic */\n",
       ".highlight .il { color: #666666 } /* Literal.Number.Integer.Long */</style>    <div class=\"highlight\"><pre><span></span><span class=\"cp\">&lt;?xml version=&quot;1.0&quot; encoding=&quot;UTF-8&quot;?&gt;</span>\n",
       "<span class=\"nt\">&lt;sbml</span> <span class=\"na\">xmlns=</span><span class=\"s\">&quot;http://www.sbml.org/sbml/level3/version1/core&quot;</span> <span class=\"na\">xmlns:distrib=</span><span class=\"s\">&quot;http://www.sbml.org/sbml/level3/version1/distrib/version1&quot;</span> <span class=\"na\">xmlns:comp=</span><span class=\"s\">&quot;http://www.sbml.org/sbml/level3/version1/comp/version1&quot;</span> <span class=\"na\">level=</span><span class=\"s\">&quot;3&quot;</span> <span class=\"na\">version=</span><span class=\"s\">&quot;1&quot;</span> <span class=\"na\">distrib:required=</span><span class=\"s\">&quot;true&quot;</span> <span class=\"na\">comp:required=</span><span class=\"s\">&quot;true&quot;</span><span class=\"nt\">&gt;</span>\n",
       "  <span class=\"nt\">&lt;notes&gt;</span>\n",
       "    <span class=\"nt\">&lt;body</span> <span class=\"na\">xmlns=</span><span class=\"s\">&quot;http://www.w3.org/1999/xhtml&quot;</span><span class=\"nt\">&gt;</span>\n",
       "      <span class=\"nt\">&lt;p&gt;</span>Created with <span class=\"nt\">&lt;a</span> <span class=\"na\">href=</span><span class=\"s\">&quot;https://github.com/matthiaskoenig/sbmlutils&quot;</span><span class=\"nt\">&gt;</span>https://github.com/matthiaskoenig/sbmlutils<span class=\"nt\">&lt;/a&gt;</span>.\n",
       "<span class=\"nt\">&lt;a</span> <span class=\"na\">href=</span><span class=\"s\">&quot;https://doi.org/10.5281/zenodo.5525390&quot;</span><span class=\"nt\">&gt;</span>\n",
       "        <span class=\"nt\">&lt;img</span> <span class=\"na\">src=</span><span class=\"s\">&quot;https://zenodo.org/badge/DOI/10.5281/zenodo.5525390.svg&quot;</span> <span class=\"na\">alt=</span><span class=\"s\">&quot;DOI&quot;</span><span class=\"nt\">/&gt;&lt;/a&gt;&lt;/p&gt;</span>\n",
       "      <span class=\"nt\">&lt;/body&gt;</span>\n",
       "    <span class=\"nt\">&lt;/notes&gt;</span>\n",
       "  <span class=\"nt\">&lt;model</span> <span class=\"na\">id=</span><span class=\"s\">&quot;conditional_events&quot;</span><span class=\"nt\">&gt;</span>\n",
       "    <span class=\"nt\">&lt;listOfParameters&gt;</span>\n",
       "      <span class=\"nt\">&lt;parameter</span> <span class=\"na\">id=</span><span class=\"s\">&quot;x&quot;</span> <span class=\"na\">value=</span><span class=\"s\">&quot;1&quot;</span> <span class=\"na\">constant=</span><span class=\"s\">&quot;false&quot;</span><span class=\"nt\">/&gt;</span>\n",
       "    <span class=\"nt\">&lt;/listOfParameters&gt;</span>\n",
       "    <span class=\"nt\">&lt;listOfEvents&gt;</span>\n",
       "      <span class=\"nt\">&lt;event</span> <span class=\"na\">id=</span><span class=\"s\">&quot;E0&quot;</span> <span class=\"na\">useValuesFromTriggerTime=</span><span class=\"s\">&quot;true&quot;</span><span class=\"nt\">&gt;</span>\n",
       "        <span class=\"nt\">&lt;trigger</span> <span class=\"na\">initialValue=</span><span class=\"s\">&quot;true&quot;</span> <span class=\"na\">persistent=</span><span class=\"s\">&quot;false&quot;</span><span class=\"nt\">&gt;</span>\n",
       "          <span class=\"nt\">&lt;math</span> <span class=\"na\">xmlns=</span><span class=\"s\">&quot;http://www.w3.org/1998/Math/MathML&quot;</span><span class=\"nt\">&gt;</span>\n",
       "            <span class=\"nt\">&lt;apply&gt;</span>\n",
       "              <span class=\"nt\">&lt;and/&gt;</span>\n",
       "              <span class=\"nt\">&lt;apply&gt;</span>\n",
       "                <span class=\"nt\">&lt;gt/&gt;</span>\n",
       "                <span class=\"nt\">&lt;csymbol</span> <span class=\"na\">encoding=</span><span class=\"s\">&quot;text&quot;</span> <span class=\"na\">definitionURL=</span><span class=\"s\">&quot;http://www.sbml.org/sbml/symbols/time&quot;</span><span class=\"nt\">&gt;</span> time <span class=\"nt\">&lt;/csymbol&gt;</span>\n",
       "                <span class=\"nt\">&lt;cn</span> <span class=\"na\">type=</span><span class=\"s\">&quot;integer&quot;</span><span class=\"nt\">&gt;</span> 2 <span class=\"nt\">&lt;/cn&gt;</span>\n",
       "              <span class=\"nt\">&lt;/apply&gt;</span>\n",
       "              <span class=\"nt\">&lt;apply&gt;</span>\n",
       "                <span class=\"nt\">&lt;lt/&gt;</span>\n",
       "                <span class=\"nt\">&lt;ci&gt;</span> x <span class=\"nt\">&lt;/ci&gt;</span>\n",
       "                <span class=\"nt\">&lt;cn</span> <span class=\"na\">type=</span><span class=\"s\">&quot;integer&quot;</span><span class=\"nt\">&gt;</span> 1 <span class=\"nt\">&lt;/cn&gt;</span>\n",
       "              <span class=\"nt\">&lt;/apply&gt;</span>\n",
       "            <span class=\"nt\">&lt;/apply&gt;</span>\n",
       "          <span class=\"nt\">&lt;/math&gt;</span>\n",
       "        <span class=\"nt\">&lt;/trigger&gt;</span>\n",
       "        <span class=\"nt\">&lt;priority&gt;</span>\n",
       "          <span class=\"nt\">&lt;math</span> <span class=\"na\">xmlns=</span><span class=\"s\">&quot;http://www.w3.org/1998/Math/MathML&quot;</span><span class=\"nt\">&gt;</span>\n",
       "            <span class=\"nt\">&lt;apply&gt;</span>\n",
       "              <span class=\"nt\">&lt;csymbol</span> <span class=\"na\">encoding=</span><span class=\"s\">&quot;text&quot;</span> <span class=\"na\">definitionURL=</span><span class=\"s\">&quot;http://www.sbml.org/sbml/symbols/distrib/uniform&quot;</span><span class=\"nt\">&gt;</span> uniform <span class=\"nt\">&lt;/csymbol&gt;</span>\n",
       "              <span class=\"nt\">&lt;cn</span> <span class=\"na\">type=</span><span class=\"s\">&quot;integer&quot;</span><span class=\"nt\">&gt;</span> 0 <span class=\"nt\">&lt;/cn&gt;</span>\n",
       "              <span class=\"nt\">&lt;cn</span> <span class=\"na\">type=</span><span class=\"s\">&quot;integer&quot;</span><span class=\"nt\">&gt;</span> 1 <span class=\"nt\">&lt;/cn&gt;</span>\n",
       "            <span class=\"nt\">&lt;/apply&gt;</span>\n",
       "          <span class=\"nt\">&lt;/math&gt;</span>\n",
       "        <span class=\"nt\">&lt;/priority&gt;</span>\n",
       "        <span class=\"nt\">&lt;listOfEventAssignments&gt;</span>\n",
       "          <span class=\"nt\">&lt;eventAssignment</span> <span class=\"na\">variable=</span><span class=\"s\">&quot;x&quot;</span><span class=\"nt\">&gt;</span>\n",
       "            <span class=\"nt\">&lt;math</span> <span class=\"na\">xmlns=</span><span class=\"s\">&quot;http://www.w3.org/1998/Math/MathML&quot;</span><span class=\"nt\">&gt;</span>\n",
       "              <span class=\"nt\">&lt;cn</span> <span class=\"na\">type=</span><span class=\"s\">&quot;integer&quot;</span><span class=\"nt\">&gt;</span> 3 <span class=\"nt\">&lt;/cn&gt;</span>\n",
       "            <span class=\"nt\">&lt;/math&gt;</span>\n",
       "          <span class=\"nt\">&lt;/eventAssignment&gt;</span>\n",
       "        <span class=\"nt\">&lt;/listOfEventAssignments&gt;</span>\n",
       "      <span class=\"nt\">&lt;/event&gt;</span>\n",
       "      <span class=\"nt\">&lt;event</span> <span class=\"na\">id=</span><span class=\"s\">&quot;E1&quot;</span> <span class=\"na\">useValuesFromTriggerTime=</span><span class=\"s\">&quot;true&quot;</span><span class=\"nt\">&gt;</span>\n",
       "        <span class=\"nt\">&lt;trigger</span> <span class=\"na\">initialValue=</span><span class=\"s\">&quot;true&quot;</span> <span class=\"na\">persistent=</span><span class=\"s\">&quot;false&quot;</span><span class=\"nt\">&gt;</span>\n",
       "          <span class=\"nt\">&lt;math</span> <span class=\"na\">xmlns=</span><span class=\"s\">&quot;http://www.w3.org/1998/Math/MathML&quot;</span><span class=\"nt\">&gt;</span>\n",
       "            <span class=\"nt\">&lt;apply&gt;</span>\n",
       "              <span class=\"nt\">&lt;and/&gt;</span>\n",
       "              <span class=\"nt\">&lt;apply&gt;</span>\n",
       "                <span class=\"nt\">&lt;gt/&gt;</span>\n",
       "                <span class=\"nt\">&lt;csymbol</span> <span class=\"na\">encoding=</span><span class=\"s\">&quot;text&quot;</span> <span class=\"na\">definitionURL=</span><span class=\"s\">&quot;http://www.sbml.org/sbml/symbols/time&quot;</span><span class=\"nt\">&gt;</span> time <span class=\"nt\">&lt;/csymbol&gt;</span>\n",
       "                <span class=\"nt\">&lt;cn</span> <span class=\"na\">type=</span><span class=\"s\">&quot;integer&quot;</span><span class=\"nt\">&gt;</span> 2 <span class=\"nt\">&lt;/cn&gt;</span>\n",
       "              <span class=\"nt\">&lt;/apply&gt;</span>\n",
       "              <span class=\"nt\">&lt;apply&gt;</span>\n",
       "                <span class=\"nt\">&lt;lt/&gt;</span>\n",
       "                <span class=\"nt\">&lt;ci&gt;</span> x <span class=\"nt\">&lt;/ci&gt;</span>\n",
       "                <span class=\"nt\">&lt;cn</span> <span class=\"na\">type=</span><span class=\"s\">&quot;integer&quot;</span><span class=\"nt\">&gt;</span> 1 <span class=\"nt\">&lt;/cn&gt;</span>\n",
       "              <span class=\"nt\">&lt;/apply&gt;</span>\n",
       "            <span class=\"nt\">&lt;/apply&gt;</span>\n",
       "          <span class=\"nt\">&lt;/math&gt;</span>\n",
       "        <span class=\"nt\">&lt;/trigger&gt;</span>\n",
       "        <span class=\"nt\">&lt;priority&gt;</span>\n",
       "          <span class=\"nt\">&lt;math</span> <span class=\"na\">xmlns=</span><span class=\"s\">&quot;http://www.w3.org/1998/Math/MathML&quot;</span><span class=\"nt\">&gt;</span>\n",
       "            <span class=\"nt\">&lt;apply&gt;</span>\n",
       "              <span class=\"nt\">&lt;csymbol</span> <span class=\"na\">encoding=</span><span class=\"s\">&quot;text&quot;</span> <span class=\"na\">definitionURL=</span><span class=\"s\">&quot;http://www.sbml.org/sbml/symbols/distrib/uniform&quot;</span><span class=\"nt\">&gt;</span> uniform <span class=\"nt\">&lt;/csymbol&gt;</span>\n",
       "              <span class=\"nt\">&lt;cn</span> <span class=\"na\">type=</span><span class=\"s\">&quot;integer&quot;</span><span class=\"nt\">&gt;</span> 0 <span class=\"nt\">&lt;/cn&gt;</span>\n",
       "              <span class=\"nt\">&lt;cn</span> <span class=\"na\">type=</span><span class=\"s\">&quot;integer&quot;</span><span class=\"nt\">&gt;</span> 2 <span class=\"nt\">&lt;/cn&gt;</span>\n",
       "            <span class=\"nt\">&lt;/apply&gt;</span>\n",
       "          <span class=\"nt\">&lt;/math&gt;</span>\n",
       "        <span class=\"nt\">&lt;/priority&gt;</span>\n",
       "        <span class=\"nt\">&lt;listOfEventAssignments&gt;</span>\n",
       "          <span class=\"nt\">&lt;eventAssignment</span> <span class=\"na\">variable=</span><span class=\"s\">&quot;x&quot;</span><span class=\"nt\">&gt;</span>\n",
       "            <span class=\"nt\">&lt;math</span> <span class=\"na\">xmlns=</span><span class=\"s\">&quot;http://www.w3.org/1998/Math/MathML&quot;</span><span class=\"nt\">&gt;</span>\n",
       "              <span class=\"nt\">&lt;cn</span> <span class=\"na\">type=</span><span class=\"s\">&quot;integer&quot;</span><span class=\"nt\">&gt;</span> 5 <span class=\"nt\">&lt;/cn&gt;</span>\n",
       "            <span class=\"nt\">&lt;/math&gt;</span>\n",
       "          <span class=\"nt\">&lt;/eventAssignment&gt;</span>\n",
       "        <span class=\"nt\">&lt;/listOfEventAssignments&gt;</span>\n",
       "      <span class=\"nt\">&lt;/event&gt;</span>\n",
       "    <span class=\"nt\">&lt;/listOfEvents&gt;</span>\n",
       "  <span class=\"nt\">&lt;/model&gt;</span>\n",
       "<span class=\"nt\">&lt;/sbml&gt;</span>\n",
       "</pre></div>\n"
      ]
     },
     "metadata": {},
     "output_type": "display_data"
    },
    {
     "data": {
      "text/html": [
       "<pre style=\"white-space:pre;overflow-x:auto;line-height:normal;font-family:Menlo,'DejaVu Sans Mono',consolas,'Courier New',monospace\">\n",
       "</pre>\n"
      ],
      "text/plain": [
       "\n"
      ]
     },
     "metadata": {},
     "output_type": "display_data"
    },
    {
     "data": {
      "text/html": [
       "<pre style=\"white-space:pre;overflow-x:auto;line-height:normal;font-family:Menlo,'DejaVu Sans Mono',consolas,'Courier New',monospace\"><span style=\"color: #008000; text-decoration-color: #008000\">────────────────────────────────────────────────── </span>Validate SBML<span style=\"color: #008000; text-decoration-color: #008000\"> ──────────────────────────────────────────────────</span>\n",
       "</pre>\n"
      ],
      "text/plain": [
       "\u001b[32m────────────────────────────────────────────────── \u001b[0mValidate SBML\u001b[32m ──────────────────────────────────────────────────\u001b[0m\n"
      ]
     },
     "metadata": {},
     "output_type": "display_data"
    },
    {
     "data": {
      "text/html": [
       "<pre style=\"white-space:pre;overflow-x:auto;line-height:normal;font-family:Menlo,'DejaVu Sans Mono',consolas,'Courier New',monospace\"><span style=\"color: #008000; text-decoration-color: #008000; font-weight: bold\">&lt;</span><span style=\"color: #ff00ff; text-decoration-color: #ff00ff; font-weight: bold\">SBMLDocument</span><span style=\"color: #008000; text-decoration-color: #008000; font-weight: bold\">&gt;</span>\n",
       "<span style=\"color: #008000; text-decoration-color: #008000\">valid                    : TRUE</span>\n",
       "<span style=\"color: #008000; text-decoration-color: #008000\">check time </span><span style=\"color: #008000; text-decoration-color: #008000; font-weight: bold\">(</span><span style=\"color: #008000; text-decoration-color: #008000\">s</span><span style=\"color: #008000; text-decoration-color: #008000; font-weight: bold\">)</span><span style=\"color: #008000; text-decoration-color: #008000\">           : </span><span style=\"color: #008080; text-decoration-color: #008080; font-weight: bold\">0.002</span>\n",
       "</pre>\n"
      ],
      "text/plain": [
       "\u001b[1;32m<\u001b[0m\u001b[1;95mSBMLDocument\u001b[0m\u001b[1;32m>\u001b[0m\n",
       "\u001b[32mvalid                    : TRUE\u001b[0m\n",
       "\u001b[32mcheck time \u001b[0m\u001b[1;32m(\u001b[0m\u001b[32ms\u001b[0m\u001b[1;32m)\u001b[0m\u001b[32m           : \u001b[0m\u001b[1;36m0.002\u001b[0m\n"
      ]
     },
     "metadata": {},
     "output_type": "display_data"
    },
    {
     "data": {
      "text/html": [
       "<pre style=\"white-space:pre;overflow-x:auto;line-height:normal;font-family:Menlo,'DejaVu Sans Mono',consolas,'Courier New',monospace\"><span style=\"color: #008000; text-decoration-color: #008000\">───────────────────────────────────────────────────────────────────────────────────────────────────────────────────</span>\n",
       "</pre>\n"
      ],
      "text/plain": [
       "\u001b[32m───────────────────────────────────────────────────────────────────────────────────────────────────────────────────\u001b[0m\n"
      ]
     },
     "metadata": {},
     "output_type": "display_data"
    },
    {
     "data": {
      "text/html": [
       "<pre style=\"white-space:pre;overflow-x:auto;line-height:normal;font-family:Menlo,'DejaVu Sans Mono',consolas,'Courier New',monospace\">\n",
       "</pre>\n"
      ],
      "text/plain": [
       "\n"
      ]
     },
     "metadata": {},
     "output_type": "display_data"
    }
   ],
   "source": [
    "model = Model(\n",
    "    'conditional_events',\n",
    "    packages=[Package.DISTRIB_V1],\n",
    "    objects=[\n",
    "        Parameter('x', value=1.0, constant=False),\n",
    "        Event(\n",
    "            \"E0\", \n",
    "            trigger=\"time>2 && x<1\", \n",
    "            priority=\"uniform(0, 1)\",\n",
    "            trigger_initialValue=True, trigger_persistent=False,\n",
    "            assignments={\"x\": \"3\"}\n",
    "        ),\n",
    "        Event(\n",
    "            \"E1\", \n",
    "            trigger=\"time>2 && x<1\", \n",
    "            priority=\"uniform(0, 2)\",\n",
    "            trigger_initialValue=True, trigger_persistent=False,\n",
    "            assignments={\"x\": \"5\"}\n",
    "        )\n",
    "    ]\n",
    ")\n",
    "\n",
    "# create model and print SBML\n",
    "doc = Document(model)\n",
    "print_xml(doc.get_sbml())\n",
    "\n",
    "# validate model\n",
    "validate_doc(doc.doc, options=ValidationOptions(units_consistency=False));"
   ]
  },
  {
   "cell_type": "markdown",
   "metadata": {
    "jupyter": {
     "outputs_hidden": true
    }
   },
   "source": [
    "### Overview of all distributions\n",
    "The following gives an example how to use all of the various distributions"
   ]
  },
  {
   "cell_type": "code",
   "execution_count": 7,
   "metadata": {},
   "outputs": [
    {
     "data": {
      "text/html": [
       "<pre style=\"white-space:pre;overflow-x:auto;line-height:normal;font-family:Menlo,'DejaVu Sans Mono',consolas,'Courier New',monospace\"><span style=\"color: #000080; text-decoration-color: #000080\">INFO    </span> Create SBML for model <span style=\"color: #008000; text-decoration-color: #008000\">'all_distributions'</span>                                                  <a href=\"file:///home/mkoenig/git/sbmlutils/src/sbmlutils/factory.py\" target=\"_blank\"><span style=\"color: #7f7f7f; text-decoration-color: #7f7f7f\">factory.py</span></a><span style=\"color: #7f7f7f; text-decoration-color: #7f7f7f\">:</span><a href=\"file:///home/mkoenig/git/sbmlutils/src/sbmlutils/factory.py#3526\" target=\"_blank\"><span style=\"color: #7f7f7f; text-decoration-color: #7f7f7f\">3526</span></a>\n",
       "</pre>\n"
      ],
      "text/plain": [
       "\u001b[34mINFO    \u001b[0m Create SBML for model \u001b[32m'all_distributions'\u001b[0m                                                  \u001b]8;id=325084;file:///home/mkoenig/git/sbmlutils/src/sbmlutils/factory.py\u001b\\\u001b[2mfactory.py\u001b[0m\u001b]8;;\u001b\\\u001b[2m:\u001b[0m\u001b]8;id=882579;file:///home/mkoenig/git/sbmlutils/src/sbmlutils/factory.py#3526\u001b\\\u001b[2m3526\u001b[0m\u001b]8;;\u001b\\\n"
      ]
     },
     "metadata": {},
     "output_type": "display_data"
    },
    {
     "data": {
      "text/html": [
       "<pre style=\"white-space:pre;overflow-x:auto;line-height:normal;font-family:Menlo,'DejaVu Sans Mono',consolas,'Courier New',monospace\"><span style=\"color: #800000; text-decoration-color: #800000\">WARNING </span> <span style=\"color: #008000; text-decoration-color: #008000\">'name'</span> should be set on <span style=\"color: #008000; text-decoration-color: #008000\">'Model(sid='</span>all_distributions', <span style=\"color: #808000; text-decoration-color: #808000\">packages</span>=<span style=\"font-weight: bold\">[&lt;</span><span style=\"color: #ff00ff; text-decoration-color: #ff00ff; font-weight: bold\">Package.DISTRIB_V1:</span><span style=\"color: #000000; text-decoration-color: #000000\"> </span>     <a href=\"file:///home/mkoenig/git/sbmlutils/src/sbmlutils/factory.py\" target=\"_blank\"><span style=\"color: #7f7f7f; text-decoration-color: #7f7f7f\">factory.py</span></a><span style=\"color: #7f7f7f; text-decoration-color: #7f7f7f\">:</span><a href=\"file:///home/mkoenig/git/sbmlutils/src/sbmlutils/factory.py#441\" target=\"_blank\"><span style=\"color: #7f7f7f; text-decoration-color: #7f7f7f\">441</span></a>\n",
       "         <span style=\"color: #008000; text-decoration-color: #008000\">'distrib-v1'</span><span style=\"font-weight: bold\">&gt;</span>, <span style=\"font-weight: bold\">&lt;</span><span style=\"color: #ff00ff; text-decoration-color: #ff00ff; font-weight: bold\">Package.COMP_V1:</span><span style=\"color: #000000; text-decoration-color: #000000\"> </span><span style=\"color: #008000; text-decoration-color: #008000\">'comp-v1'</span><span style=\"font-weight: bold\">&gt;]</span>, <span style=\"color: #808000; text-decoration-color: #808000\">units</span>=<span style=\"font-weight: bold\">&lt;</span><span style=\"color: #ff00ff; text-decoration-color: #ff00ff; font-weight: bold\">class</span><span style=\"color: #000000; text-decoration-color: #000000\"> </span><span style=\"color: #008000; text-decoration-color: #008000\">'sbmlutils.factory.Units'</span><span style=\"font-weight: bold\">&gt;</span>,      <span style=\"color: #7f7f7f; text-decoration-color: #7f7f7f\">              </span>\n",
       "         <span style=\"color: #808000; text-decoration-color: #808000\">assignments</span>=<span style=\"font-weight: bold\">[&lt;</span><span style=\"color: #ff00ff; text-decoration-color: #ff00ff; font-weight: bold\">sbmlutils.factory.InitialAssignment</span><span style=\"color: #000000; text-decoration-color: #000000\"> object at </span><span style=\"color: #008080; text-decoration-color: #008080; font-weight: bold\">0x7f8eaa958d60</span><span style=\"font-weight: bold\">&gt;</span>,                <span style=\"color: #7f7f7f; text-decoration-color: #7f7f7f\">              </span>\n",
       "         <span style=\"font-weight: bold\">&lt;</span><span style=\"color: #ff00ff; text-decoration-color: #ff00ff; font-weight: bold\">sbmlutils.factory.InitialAssignment</span><span style=\"color: #000000; text-decoration-color: #000000\"> object at </span><span style=\"color: #008080; text-decoration-color: #008080; font-weight: bold\">0x7f8eaa958d90</span><span style=\"font-weight: bold\">&gt;</span>,                             <span style=\"color: #7f7f7f; text-decoration-color: #7f7f7f\">              </span>\n",
       "         <span style=\"font-weight: bold\">&lt;</span><span style=\"color: #ff00ff; text-decoration-color: #ff00ff; font-weight: bold\">sbmlutils.factory.InitialAssignment</span><span style=\"color: #000000; text-decoration-color: #000000\"> object at </span><span style=\"color: #008080; text-decoration-color: #008080; font-weight: bold\">0x7f8eaa958dc0</span><span style=\"font-weight: bold\">&gt;</span>,                             <span style=\"color: #7f7f7f; text-decoration-color: #7f7f7f\">              </span>\n",
       "         <span style=\"font-weight: bold\">&lt;</span><span style=\"color: #ff00ff; text-decoration-color: #ff00ff; font-weight: bold\">sbmlutils.factory.InitialAssignment</span><span style=\"color: #000000; text-decoration-color: #000000\"> object at </span><span style=\"color: #008080; text-decoration-color: #008080; font-weight: bold\">0x7f8eaa958df0</span><span style=\"font-weight: bold\">&gt;</span>,                             <span style=\"color: #7f7f7f; text-decoration-color: #7f7f7f\">              </span>\n",
       "         <span style=\"font-weight: bold\">&lt;</span><span style=\"color: #ff00ff; text-decoration-color: #ff00ff; font-weight: bold\">sbmlutils.factory.InitialAssignment</span><span style=\"color: #000000; text-decoration-color: #000000\"> object at </span><span style=\"color: #008080; text-decoration-color: #008080; font-weight: bold\">0x7f8eaa958e20</span><span style=\"font-weight: bold\">&gt;</span>,                             <span style=\"color: #7f7f7f; text-decoration-color: #7f7f7f\">              </span>\n",
       "         <span style=\"font-weight: bold\">&lt;</span><span style=\"color: #ff00ff; text-decoration-color: #ff00ff; font-weight: bold\">sbmlutils.factory.InitialAssignment</span><span style=\"color: #000000; text-decoration-color: #000000\"> object at </span><span style=\"color: #008080; text-decoration-color: #008080; font-weight: bold\">0x7f8eaa958e50</span><span style=\"font-weight: bold\">&gt;</span>,                             <span style=\"color: #7f7f7f; text-decoration-color: #7f7f7f\">              </span>\n",
       "         <span style=\"font-weight: bold\">&lt;</span><span style=\"color: #ff00ff; text-decoration-color: #ff00ff; font-weight: bold\">sbmlutils.factory.InitialAssignment</span><span style=\"color: #000000; text-decoration-color: #000000\"> object at </span><span style=\"color: #008080; text-decoration-color: #008080; font-weight: bold\">0x7f8eaa958e80</span><span style=\"font-weight: bold\">&gt;</span>,                             <span style=\"color: #7f7f7f; text-decoration-color: #7f7f7f\">              </span>\n",
       "         <span style=\"font-weight: bold\">&lt;</span><span style=\"color: #ff00ff; text-decoration-color: #ff00ff; font-weight: bold\">sbmlutils.factory.InitialAssignment</span><span style=\"color: #000000; text-decoration-color: #000000\"> object at </span><span style=\"color: #008080; text-decoration-color: #008080; font-weight: bold\">0x7f8eaa958eb0</span><span style=\"font-weight: bold\">&gt;</span>,                             <span style=\"color: #7f7f7f; text-decoration-color: #7f7f7f\">              </span>\n",
       "         <span style=\"font-weight: bold\">&lt;</span><span style=\"color: #ff00ff; text-decoration-color: #ff00ff; font-weight: bold\">sbmlutils.factory.InitialAssignment</span><span style=\"color: #000000; text-decoration-color: #000000\"> object at </span><span style=\"color: #008080; text-decoration-color: #008080; font-weight: bold\">0x7f8eaa958ee0</span><span style=\"font-weight: bold\">&gt;</span>,                             <span style=\"color: #7f7f7f; text-decoration-color: #7f7f7f\">              </span>\n",
       "         <span style=\"font-weight: bold\">&lt;</span><span style=\"color: #ff00ff; text-decoration-color: #ff00ff; font-weight: bold\">sbmlutils.factory.InitialAssignment</span><span style=\"color: #000000; text-decoration-color: #000000\"> object at </span><span style=\"color: #008080; text-decoration-color: #008080; font-weight: bold\">0x7f8eaa9c4760</span><span style=\"font-weight: bold\">&gt;</span>,                             <span style=\"color: #7f7f7f; text-decoration-color: #7f7f7f\">              </span>\n",
       "         <span style=\"font-weight: bold\">&lt;</span><span style=\"color: #ff00ff; text-decoration-color: #ff00ff; font-weight: bold\">sbmlutils.factory.InitialAssignment</span><span style=\"color: #000000; text-decoration-color: #000000\"> object at </span><span style=\"color: #008080; text-decoration-color: #008080; font-weight: bold\">0x7f8eaa9c45b0</span><span style=\"font-weight: bold\">&gt;</span>,                             <span style=\"color: #7f7f7f; text-decoration-color: #7f7f7f\">              </span>\n",
       "         <span style=\"font-weight: bold\">&lt;</span><span style=\"color: #ff00ff; text-decoration-color: #ff00ff; font-weight: bold\">sbmlutils.factory.InitialAssignment</span><span style=\"color: #000000; text-decoration-color: #000000\"> object at </span><span style=\"color: #008080; text-decoration-color: #008080; font-weight: bold\">0x7f8eaa9c46d0</span><span style=\"font-weight: bold\">&gt;</span>,                             <span style=\"color: #7f7f7f; text-decoration-color: #7f7f7f\">              </span>\n",
       "         <span style=\"font-weight: bold\">&lt;</span><span style=\"color: #ff00ff; text-decoration-color: #ff00ff; font-weight: bold\">sbmlutils.factory.InitialAssignment</span><span style=\"color: #000000; text-decoration-color: #000000\"> object at </span><span style=\"color: #008080; text-decoration-color: #008080; font-weight: bold\">0x7f8eaa9c4ac0</span><span style=\"font-weight: bold\">&gt;</span>,                             <span style=\"color: #7f7f7f; text-decoration-color: #7f7f7f\">              </span>\n",
       "         <span style=\"font-weight: bold\">&lt;</span><span style=\"color: #ff00ff; text-decoration-color: #ff00ff; font-weight: bold\">sbmlutils.factory.InitialAssignment</span><span style=\"color: #000000; text-decoration-color: #000000\"> object at </span><span style=\"color: #008080; text-decoration-color: #008080; font-weight: bold\">0x7f8eaa9c4f10</span><span style=\"font-weight: bold\">&gt;</span>,                             <span style=\"color: #7f7f7f; text-decoration-color: #7f7f7f\">              </span>\n",
       "         <span style=\"font-weight: bold\">&lt;</span><span style=\"color: #ff00ff; text-decoration-color: #ff00ff; font-weight: bold\">sbmlutils.factory.InitialAssignment</span><span style=\"color: #000000; text-decoration-color: #000000\"> object at </span><span style=\"color: #008080; text-decoration-color: #008080; font-weight: bold\">0x7f8eaa9c48b0</span><span style=\"font-weight: bold\">&gt;</span>,                             <span style=\"color: #7f7f7f; text-decoration-color: #7f7f7f\">              </span>\n",
       "         <span style=\"font-weight: bold\">&lt;</span><span style=\"color: #ff00ff; text-decoration-color: #ff00ff; font-weight: bold\">sbmlutils.factory.InitialAssignment</span><span style=\"color: #000000; text-decoration-color: #000000\"> object at </span><span style=\"color: #008080; text-decoration-color: #008080; font-weight: bold\">0x7f8eaa9c4a00</span><span style=\"font-weight: bold\">&gt;</span>,                             <span style=\"color: #7f7f7f; text-decoration-color: #7f7f7f\">              </span>\n",
       "         <span style=\"font-weight: bold\">&lt;</span><span style=\"color: #ff00ff; text-decoration-color: #ff00ff; font-weight: bold\">sbmlutils.factory.InitialAssignment</span><span style=\"color: #000000; text-decoration-color: #000000\"> object at </span><span style=\"color: #008080; text-decoration-color: #008080; font-weight: bold\">0x7f8eaa9c4a60</span><span style=\"font-weight: bold\">&gt;</span>,                             <span style=\"color: #7f7f7f; text-decoration-color: #7f7f7f\">              </span>\n",
       "         <span style=\"font-weight: bold\">&lt;</span><span style=\"color: #ff00ff; text-decoration-color: #ff00ff; font-weight: bold\">sbmlutils.factory.InitialAssignment</span><span style=\"color: #000000; text-decoration-color: #000000\"> object at </span><span style=\"color: #008080; text-decoration-color: #008080; font-weight: bold\">0x7f8eaa9c4c40</span><span style=\"font-weight: bold\">&gt;</span>,                             <span style=\"color: #7f7f7f; text-decoration-color: #7f7f7f\">              </span>\n",
       "         <span style=\"font-weight: bold\">&lt;</span><span style=\"color: #ff00ff; text-decoration-color: #ff00ff; font-weight: bold\">sbmlutils.factory.InitialAssignment</span><span style=\"color: #000000; text-decoration-color: #000000\"> object at </span><span style=\"color: #008080; text-decoration-color: #008080; font-weight: bold\">0x7f8eaa9c47c0</span><span style=\"font-weight: bold\">&gt;</span>,                             <span style=\"color: #7f7f7f; text-decoration-color: #7f7f7f\">              </span>\n",
       "         <span style=\"font-weight: bold\">&lt;</span><span style=\"color: #ff00ff; text-decoration-color: #ff00ff; font-weight: bold\">sbmlutils.factory.InitialAssignment</span><span style=\"color: #000000; text-decoration-color: #000000\"> object at </span><span style=\"color: #008080; text-decoration-color: #008080; font-weight: bold\">0x7f8f2877e3a0</span><span style=\"font-weight: bold\">&gt;</span>,                             <span style=\"color: #7f7f7f; text-decoration-color: #7f7f7f\">              </span>\n",
       "         <span style=\"font-weight: bold\">&lt;</span><span style=\"color: #ff00ff; text-decoration-color: #ff00ff; font-weight: bold\">sbmlutils.factory.InitialAssignment</span><span style=\"color: #000000; text-decoration-color: #000000\"> object at </span><span style=\"color: #008080; text-decoration-color: #008080; font-weight: bold\">0x7f8f28779b50</span><span style=\"font-weight: bold\">&gt;</span>,                             <span style=\"color: #7f7f7f; text-decoration-color: #7f7f7f\">              </span>\n",
       "         <span style=\"font-weight: bold\">&lt;</span><span style=\"color: #ff00ff; text-decoration-color: #ff00ff; font-weight: bold\">sbmlutils.factory.InitialAssignment</span><span style=\"color: #000000; text-decoration-color: #000000\"> object at </span><span style=\"color: #008080; text-decoration-color: #008080; font-weight: bold\">0x7f8f287792b0</span><span style=\"font-weight: bold\">&gt;]</span>,                            <span style=\"color: #7f7f7f; text-decoration-color: #7f7f7f\">              </span>\n",
       "         <span style=\"color: #808000; text-decoration-color: #808000\">_FrozenClass__isfrozen</span>=<span style=\"color: #00ff00; text-decoration-color: #00ff00; font-style: italic\">True</span><span style=\"font-weight: bold\">)</span>'                                                               <span style=\"color: #7f7f7f; text-decoration-color: #7f7f7f\">              </span>\n",
       "</pre>\n"
      ],
      "text/plain": [
       "\u001b[31mWARNING \u001b[0m \u001b[32m'name'\u001b[0m should be set on \u001b[32m'Model\u001b[0m\u001b[32m(\u001b[0m\u001b[32msid\u001b[0m\u001b[32m='\u001b[0mall_distributions', \u001b[33mpackages\u001b[0m=\u001b[1m[\u001b[0m\u001b[1m<\u001b[0m\u001b[1;95mPackage.DISTRIB_V1:\u001b[0m\u001b[39m \u001b[0m     \u001b]8;id=463288;file:///home/mkoenig/git/sbmlutils/src/sbmlutils/factory.py\u001b\\\u001b[2mfactory.py\u001b[0m\u001b]8;;\u001b\\\u001b[2m:\u001b[0m\u001b]8;id=810113;file:///home/mkoenig/git/sbmlutils/src/sbmlutils/factory.py#441\u001b\\\u001b[2m441\u001b[0m\u001b]8;;\u001b\\\n",
       "         \u001b[32m'distrib-v1'\u001b[0m\u001b[1m>\u001b[0m, \u001b[1m<\u001b[0m\u001b[1;95mPackage.COMP_V1:\u001b[0m\u001b[39m \u001b[0m\u001b[32m'comp-v1'\u001b[0m\u001b[1m>\u001b[0m\u001b[1m]\u001b[0m, \u001b[33munits\u001b[0m=\u001b[1m<\u001b[0m\u001b[1;95mclass\u001b[0m\u001b[39m \u001b[0m\u001b[32m'sbmlutils.factory.Units'\u001b[0m\u001b[1m>\u001b[0m,      \u001b[2m              \u001b[0m\n",
       "         \u001b[33massignments\u001b[0m=\u001b[1m[\u001b[0m\u001b[1m<\u001b[0m\u001b[1;95msbmlutils.factory.InitialAssignment\u001b[0m\u001b[39m object at \u001b[0m\u001b[1;36m0x7f8eaa958d60\u001b[0m\u001b[1m>\u001b[0m,                \u001b[2m              \u001b[0m\n",
       "         \u001b[1m<\u001b[0m\u001b[1;95msbmlutils.factory.InitialAssignment\u001b[0m\u001b[39m object at \u001b[0m\u001b[1;36m0x7f8eaa958d90\u001b[0m\u001b[1m>\u001b[0m,                             \u001b[2m              \u001b[0m\n",
       "         \u001b[1m<\u001b[0m\u001b[1;95msbmlutils.factory.InitialAssignment\u001b[0m\u001b[39m object at \u001b[0m\u001b[1;36m0x7f8eaa958dc0\u001b[0m\u001b[1m>\u001b[0m,                             \u001b[2m              \u001b[0m\n",
       "         \u001b[1m<\u001b[0m\u001b[1;95msbmlutils.factory.InitialAssignment\u001b[0m\u001b[39m object at \u001b[0m\u001b[1;36m0x7f8eaa958df0\u001b[0m\u001b[1m>\u001b[0m,                             \u001b[2m              \u001b[0m\n",
       "         \u001b[1m<\u001b[0m\u001b[1;95msbmlutils.factory.InitialAssignment\u001b[0m\u001b[39m object at \u001b[0m\u001b[1;36m0x7f8eaa958e20\u001b[0m\u001b[1m>\u001b[0m,                             \u001b[2m              \u001b[0m\n",
       "         \u001b[1m<\u001b[0m\u001b[1;95msbmlutils.factory.InitialAssignment\u001b[0m\u001b[39m object at \u001b[0m\u001b[1;36m0x7f8eaa958e50\u001b[0m\u001b[1m>\u001b[0m,                             \u001b[2m              \u001b[0m\n",
       "         \u001b[1m<\u001b[0m\u001b[1;95msbmlutils.factory.InitialAssignment\u001b[0m\u001b[39m object at \u001b[0m\u001b[1;36m0x7f8eaa958e80\u001b[0m\u001b[1m>\u001b[0m,                             \u001b[2m              \u001b[0m\n",
       "         \u001b[1m<\u001b[0m\u001b[1;95msbmlutils.factory.InitialAssignment\u001b[0m\u001b[39m object at \u001b[0m\u001b[1;36m0x7f8eaa958eb0\u001b[0m\u001b[1m>\u001b[0m,                             \u001b[2m              \u001b[0m\n",
       "         \u001b[1m<\u001b[0m\u001b[1;95msbmlutils.factory.InitialAssignment\u001b[0m\u001b[39m object at \u001b[0m\u001b[1;36m0x7f8eaa958ee0\u001b[0m\u001b[1m>\u001b[0m,                             \u001b[2m              \u001b[0m\n",
       "         \u001b[1m<\u001b[0m\u001b[1;95msbmlutils.factory.InitialAssignment\u001b[0m\u001b[39m object at \u001b[0m\u001b[1;36m0x7f8eaa9c4760\u001b[0m\u001b[1m>\u001b[0m,                             \u001b[2m              \u001b[0m\n",
       "         \u001b[1m<\u001b[0m\u001b[1;95msbmlutils.factory.InitialAssignment\u001b[0m\u001b[39m object at \u001b[0m\u001b[1;36m0x7f8eaa9c45b0\u001b[0m\u001b[1m>\u001b[0m,                             \u001b[2m              \u001b[0m\n",
       "         \u001b[1m<\u001b[0m\u001b[1;95msbmlutils.factory.InitialAssignment\u001b[0m\u001b[39m object at \u001b[0m\u001b[1;36m0x7f8eaa9c46d0\u001b[0m\u001b[1m>\u001b[0m,                             \u001b[2m              \u001b[0m\n",
       "         \u001b[1m<\u001b[0m\u001b[1;95msbmlutils.factory.InitialAssignment\u001b[0m\u001b[39m object at \u001b[0m\u001b[1;36m0x7f8eaa9c4ac0\u001b[0m\u001b[1m>\u001b[0m,                             \u001b[2m              \u001b[0m\n",
       "         \u001b[1m<\u001b[0m\u001b[1;95msbmlutils.factory.InitialAssignment\u001b[0m\u001b[39m object at \u001b[0m\u001b[1;36m0x7f8eaa9c4f10\u001b[0m\u001b[1m>\u001b[0m,                             \u001b[2m              \u001b[0m\n",
       "         \u001b[1m<\u001b[0m\u001b[1;95msbmlutils.factory.InitialAssignment\u001b[0m\u001b[39m object at \u001b[0m\u001b[1;36m0x7f8eaa9c48b0\u001b[0m\u001b[1m>\u001b[0m,                             \u001b[2m              \u001b[0m\n",
       "         \u001b[1m<\u001b[0m\u001b[1;95msbmlutils.factory.InitialAssignment\u001b[0m\u001b[39m object at \u001b[0m\u001b[1;36m0x7f8eaa9c4a00\u001b[0m\u001b[1m>\u001b[0m,                             \u001b[2m              \u001b[0m\n",
       "         \u001b[1m<\u001b[0m\u001b[1;95msbmlutils.factory.InitialAssignment\u001b[0m\u001b[39m object at \u001b[0m\u001b[1;36m0x7f8eaa9c4a60\u001b[0m\u001b[1m>\u001b[0m,                             \u001b[2m              \u001b[0m\n",
       "         \u001b[1m<\u001b[0m\u001b[1;95msbmlutils.factory.InitialAssignment\u001b[0m\u001b[39m object at \u001b[0m\u001b[1;36m0x7f8eaa9c4c40\u001b[0m\u001b[1m>\u001b[0m,                             \u001b[2m              \u001b[0m\n",
       "         \u001b[1m<\u001b[0m\u001b[1;95msbmlutils.factory.InitialAssignment\u001b[0m\u001b[39m object at \u001b[0m\u001b[1;36m0x7f8eaa9c47c0\u001b[0m\u001b[1m>\u001b[0m,                             \u001b[2m              \u001b[0m\n",
       "         \u001b[1m<\u001b[0m\u001b[1;95msbmlutils.factory.InitialAssignment\u001b[0m\u001b[39m object at \u001b[0m\u001b[1;36m0x7f8f2877e3a0\u001b[0m\u001b[1m>\u001b[0m,                             \u001b[2m              \u001b[0m\n",
       "         \u001b[1m<\u001b[0m\u001b[1;95msbmlutils.factory.InitialAssignment\u001b[0m\u001b[39m object at \u001b[0m\u001b[1;36m0x7f8f28779b50\u001b[0m\u001b[1m>\u001b[0m,                             \u001b[2m              \u001b[0m\n",
       "         \u001b[1m<\u001b[0m\u001b[1;95msbmlutils.factory.InitialAssignment\u001b[0m\u001b[39m object at \u001b[0m\u001b[1;36m0x7f8f287792b0\u001b[0m\u001b[1m>\u001b[0m\u001b[1m]\u001b[0m,                            \u001b[2m              \u001b[0m\n",
       "         \u001b[33m_FrozenClass__isfrozen\u001b[0m=\u001b[3;92mTrue\u001b[0m\u001b[1m)\u001b[0m'                                                               \u001b[2m              \u001b[0m\n"
      ]
     },
     "metadata": {},
     "output_type": "display_data"
    },
    {
     "data": {
      "text/html": [
       "<pre style=\"white-space:pre;overflow-x:auto;line-height:normal;font-family:Menlo,'DejaVu Sans Mono',consolas,'Courier New',monospace\"><span style=\"color: #800000; text-decoration-color: #800000\">WARNING </span> <span style=\"color: #008000; text-decoration-color: #008000\">'name'</span> should be set on <span style=\"color: #008000; text-decoration-color: #008000\">'Parameter(p_normal_1)'</span>                                             <a href=\"file:///home/mkoenig/git/sbmlutils/src/sbmlutils/factory.py\" target=\"_blank\"><span style=\"color: #7f7f7f; text-decoration-color: #7f7f7f\">factory.py</span></a><span style=\"color: #7f7f7f; text-decoration-color: #7f7f7f\">:</span><a href=\"file:///home/mkoenig/git/sbmlutils/src/sbmlutils/factory.py#441\" target=\"_blank\"><span style=\"color: #7f7f7f; text-decoration-color: #7f7f7f\">441</span></a>\n",
       "</pre>\n"
      ],
      "text/plain": [
       "\u001b[31mWARNING \u001b[0m \u001b[32m'name'\u001b[0m should be set on \u001b[32m'Parameter\u001b[0m\u001b[32m(\u001b[0m\u001b[32mp_normal_1\u001b[0m\u001b[32m)\u001b[0m\u001b[32m'\u001b[0m                                             \u001b]8;id=820105;file:///home/mkoenig/git/sbmlutils/src/sbmlutils/factory.py\u001b\\\u001b[2mfactory.py\u001b[0m\u001b]8;;\u001b\\\u001b[2m:\u001b[0m\u001b]8;id=740498;file:///home/mkoenig/git/sbmlutils/src/sbmlutils/factory.py#441\u001b\\\u001b[2m441\u001b[0m\u001b]8;;\u001b\\\n"
      ]
     },
     "metadata": {},
     "output_type": "display_data"
    },
    {
     "data": {
      "text/html": [
       "<pre style=\"white-space:pre;overflow-x:auto;line-height:normal;font-family:Menlo,'DejaVu Sans Mono',consolas,'Courier New',monospace\"><span style=\"color: #800000; text-decoration-color: #800000\">WARNING </span> <span style=\"color: #008000; text-decoration-color: #008000\">'sboTerm'</span> should be set on <span style=\"color: #008000; text-decoration-color: #008000\">'Parameter(p_normal_1)'</span>                                          <a href=\"file:///home/mkoenig/git/sbmlutils/src/sbmlutils/factory.py\" target=\"_blank\"><span style=\"color: #7f7f7f; text-decoration-color: #7f7f7f\">factory.py</span></a><span style=\"color: #7f7f7f; text-decoration-color: #7f7f7f\">:</span><a href=\"file:///home/mkoenig/git/sbmlutils/src/sbmlutils/factory.py#466\" target=\"_blank\"><span style=\"color: #7f7f7f; text-decoration-color: #7f7f7f\">466</span></a>\n",
       "</pre>\n"
      ],
      "text/plain": [
       "\u001b[31mWARNING \u001b[0m \u001b[32m'sboTerm'\u001b[0m should be set on \u001b[32m'Parameter\u001b[0m\u001b[32m(\u001b[0m\u001b[32mp_normal_1\u001b[0m\u001b[32m)\u001b[0m\u001b[32m'\u001b[0m                                          \u001b]8;id=820119;file:///home/mkoenig/git/sbmlutils/src/sbmlutils/factory.py\u001b\\\u001b[2mfactory.py\u001b[0m\u001b]8;;\u001b\\\u001b[2m:\u001b[0m\u001b]8;id=977223;file:///home/mkoenig/git/sbmlutils/src/sbmlutils/factory.py#466\u001b\\\u001b[2m466\u001b[0m\u001b]8;;\u001b\\\n"
      ]
     },
     "metadata": {},
     "output_type": "display_data"
    },
    {
     "data": {
      "text/html": [
       "<pre style=\"white-space:pre;overflow-x:auto;line-height:normal;font-family:Menlo,'DejaVu Sans Mono',consolas,'Courier New',monospace\"><span style=\"color: #800000; text-decoration-color: #800000\">WARNING </span> <span style=\"color: #008000; text-decoration-color: #008000\">'name'</span> should be set on <span style=\"color: #008000; text-decoration-color: #008000\">'InitialAssignment()'</span>                                               <a href=\"file:///home/mkoenig/git/sbmlutils/src/sbmlutils/factory.py\" target=\"_blank\"><span style=\"color: #7f7f7f; text-decoration-color: #7f7f7f\">factory.py</span></a><span style=\"color: #7f7f7f; text-decoration-color: #7f7f7f\">:</span><a href=\"file:///home/mkoenig/git/sbmlutils/src/sbmlutils/factory.py#441\" target=\"_blank\"><span style=\"color: #7f7f7f; text-decoration-color: #7f7f7f\">441</span></a>\n",
       "</pre>\n"
      ],
      "text/plain": [
       "\u001b[31mWARNING \u001b[0m \u001b[32m'name'\u001b[0m should be set on \u001b[32m'InitialAssignment\u001b[0m\u001b[32m(\u001b[0m\u001b[32m)\u001b[0m\u001b[32m'\u001b[0m                                               \u001b]8;id=929533;file:///home/mkoenig/git/sbmlutils/src/sbmlutils/factory.py\u001b\\\u001b[2mfactory.py\u001b[0m\u001b]8;;\u001b\\\u001b[2m:\u001b[0m\u001b]8;id=516829;file:///home/mkoenig/git/sbmlutils/src/sbmlutils/factory.py#441\u001b\\\u001b[2m441\u001b[0m\u001b]8;;\u001b\\\n"
      ]
     },
     "metadata": {},
     "output_type": "display_data"
    },
    {
     "data": {
      "text/html": [
       "<pre style=\"white-space:pre;overflow-x:auto;line-height:normal;font-family:Menlo,'DejaVu Sans Mono',consolas,'Courier New',monospace\"><span style=\"color: #800000; text-decoration-color: #800000\">WARNING </span> <span style=\"color: #008000; text-decoration-color: #008000\">'sboTerm'</span> should be set on <span style=\"color: #008000; text-decoration-color: #008000\">'InitialAssignment()'</span>                                            <a href=\"file:///home/mkoenig/git/sbmlutils/src/sbmlutils/factory.py\" target=\"_blank\"><span style=\"color: #7f7f7f; text-decoration-color: #7f7f7f\">factory.py</span></a><span style=\"color: #7f7f7f; text-decoration-color: #7f7f7f\">:</span><a href=\"file:///home/mkoenig/git/sbmlutils/src/sbmlutils/factory.py#466\" target=\"_blank\"><span style=\"color: #7f7f7f; text-decoration-color: #7f7f7f\">466</span></a>\n",
       "</pre>\n"
      ],
      "text/plain": [
       "\u001b[31mWARNING \u001b[0m \u001b[32m'sboTerm'\u001b[0m should be set on \u001b[32m'InitialAssignment\u001b[0m\u001b[32m(\u001b[0m\u001b[32m)\u001b[0m\u001b[32m'\u001b[0m                                            \u001b]8;id=166676;file:///home/mkoenig/git/sbmlutils/src/sbmlutils/factory.py\u001b\\\u001b[2mfactory.py\u001b[0m\u001b]8;;\u001b\\\u001b[2m:\u001b[0m\u001b]8;id=657212;file:///home/mkoenig/git/sbmlutils/src/sbmlutils/factory.py#466\u001b\\\u001b[2m466\u001b[0m\u001b]8;;\u001b\\\n"
      ]
     },
     "metadata": {},
     "output_type": "display_data"
    },
    {
     "data": {
      "text/html": [
       "<pre style=\"white-space:pre;overflow-x:auto;line-height:normal;font-family:Menlo,'DejaVu Sans Mono',consolas,'Courier New',monospace\"><span style=\"color: #800000; text-decoration-color: #800000\">WARNING </span> <span style=\"color: #008000; text-decoration-color: #008000\">'name'</span> should be set on <span style=\"color: #008000; text-decoration-color: #008000\">'Parameter(p_normal_2)'</span>                                             <a href=\"file:///home/mkoenig/git/sbmlutils/src/sbmlutils/factory.py\" target=\"_blank\"><span style=\"color: #7f7f7f; text-decoration-color: #7f7f7f\">factory.py</span></a><span style=\"color: #7f7f7f; text-decoration-color: #7f7f7f\">:</span><a href=\"file:///home/mkoenig/git/sbmlutils/src/sbmlutils/factory.py#441\" target=\"_blank\"><span style=\"color: #7f7f7f; text-decoration-color: #7f7f7f\">441</span></a>\n",
       "</pre>\n"
      ],
      "text/plain": [
       "\u001b[31mWARNING \u001b[0m \u001b[32m'name'\u001b[0m should be set on \u001b[32m'Parameter\u001b[0m\u001b[32m(\u001b[0m\u001b[32mp_normal_2\u001b[0m\u001b[32m)\u001b[0m\u001b[32m'\u001b[0m                                             \u001b]8;id=565690;file:///home/mkoenig/git/sbmlutils/src/sbmlutils/factory.py\u001b\\\u001b[2mfactory.py\u001b[0m\u001b]8;;\u001b\\\u001b[2m:\u001b[0m\u001b]8;id=573052;file:///home/mkoenig/git/sbmlutils/src/sbmlutils/factory.py#441\u001b\\\u001b[2m441\u001b[0m\u001b]8;;\u001b\\\n"
      ]
     },
     "metadata": {},
     "output_type": "display_data"
    },
    {
     "data": {
      "text/html": [
       "<pre style=\"white-space:pre;overflow-x:auto;line-height:normal;font-family:Menlo,'DejaVu Sans Mono',consolas,'Courier New',monospace\"><span style=\"color: #800000; text-decoration-color: #800000\">WARNING </span> <span style=\"color: #008000; text-decoration-color: #008000\">'sboTerm'</span> should be set on <span style=\"color: #008000; text-decoration-color: #008000\">'Parameter(p_normal_2)'</span>                                          <a href=\"file:///home/mkoenig/git/sbmlutils/src/sbmlutils/factory.py\" target=\"_blank\"><span style=\"color: #7f7f7f; text-decoration-color: #7f7f7f\">factory.py</span></a><span style=\"color: #7f7f7f; text-decoration-color: #7f7f7f\">:</span><a href=\"file:///home/mkoenig/git/sbmlutils/src/sbmlutils/factory.py#466\" target=\"_blank\"><span style=\"color: #7f7f7f; text-decoration-color: #7f7f7f\">466</span></a>\n",
       "</pre>\n"
      ],
      "text/plain": [
       "\u001b[31mWARNING \u001b[0m \u001b[32m'sboTerm'\u001b[0m should be set on \u001b[32m'Parameter\u001b[0m\u001b[32m(\u001b[0m\u001b[32mp_normal_2\u001b[0m\u001b[32m)\u001b[0m\u001b[32m'\u001b[0m                                          \u001b]8;id=824671;file:///home/mkoenig/git/sbmlutils/src/sbmlutils/factory.py\u001b\\\u001b[2mfactory.py\u001b[0m\u001b]8;;\u001b\\\u001b[2m:\u001b[0m\u001b]8;id=316898;file:///home/mkoenig/git/sbmlutils/src/sbmlutils/factory.py#466\u001b\\\u001b[2m466\u001b[0m\u001b]8;;\u001b\\\n"
      ]
     },
     "metadata": {},
     "output_type": "display_data"
    },
    {
     "data": {
      "text/html": [
       "<pre style=\"white-space:pre;overflow-x:auto;line-height:normal;font-family:Menlo,'DejaVu Sans Mono',consolas,'Courier New',monospace\"><span style=\"color: #800000; text-decoration-color: #800000\">WARNING </span> <span style=\"color: #008000; text-decoration-color: #008000\">'name'</span> should be set on <span style=\"color: #008000; text-decoration-color: #008000\">'InitialAssignment()'</span>                                               <a href=\"file:///home/mkoenig/git/sbmlutils/src/sbmlutils/factory.py\" target=\"_blank\"><span style=\"color: #7f7f7f; text-decoration-color: #7f7f7f\">factory.py</span></a><span style=\"color: #7f7f7f; text-decoration-color: #7f7f7f\">:</span><a href=\"file:///home/mkoenig/git/sbmlutils/src/sbmlutils/factory.py#441\" target=\"_blank\"><span style=\"color: #7f7f7f; text-decoration-color: #7f7f7f\">441</span></a>\n",
       "</pre>\n"
      ],
      "text/plain": [
       "\u001b[31mWARNING \u001b[0m \u001b[32m'name'\u001b[0m should be set on \u001b[32m'InitialAssignment\u001b[0m\u001b[32m(\u001b[0m\u001b[32m)\u001b[0m\u001b[32m'\u001b[0m                                               \u001b]8;id=32328;file:///home/mkoenig/git/sbmlutils/src/sbmlutils/factory.py\u001b\\\u001b[2mfactory.py\u001b[0m\u001b]8;;\u001b\\\u001b[2m:\u001b[0m\u001b]8;id=666346;file:///home/mkoenig/git/sbmlutils/src/sbmlutils/factory.py#441\u001b\\\u001b[2m441\u001b[0m\u001b]8;;\u001b\\\n"
      ]
     },
     "metadata": {},
     "output_type": "display_data"
    },
    {
     "data": {
      "text/html": [
       "<pre style=\"white-space:pre;overflow-x:auto;line-height:normal;font-family:Menlo,'DejaVu Sans Mono',consolas,'Courier New',monospace\"><span style=\"color: #800000; text-decoration-color: #800000\">WARNING </span> <span style=\"color: #008000; text-decoration-color: #008000\">'sboTerm'</span> should be set on <span style=\"color: #008000; text-decoration-color: #008000\">'InitialAssignment()'</span>                                            <a href=\"file:///home/mkoenig/git/sbmlutils/src/sbmlutils/factory.py\" target=\"_blank\"><span style=\"color: #7f7f7f; text-decoration-color: #7f7f7f\">factory.py</span></a><span style=\"color: #7f7f7f; text-decoration-color: #7f7f7f\">:</span><a href=\"file:///home/mkoenig/git/sbmlutils/src/sbmlutils/factory.py#466\" target=\"_blank\"><span style=\"color: #7f7f7f; text-decoration-color: #7f7f7f\">466</span></a>\n",
       "</pre>\n"
      ],
      "text/plain": [
       "\u001b[31mWARNING \u001b[0m \u001b[32m'sboTerm'\u001b[0m should be set on \u001b[32m'InitialAssignment\u001b[0m\u001b[32m(\u001b[0m\u001b[32m)\u001b[0m\u001b[32m'\u001b[0m                                            \u001b]8;id=199851;file:///home/mkoenig/git/sbmlutils/src/sbmlutils/factory.py\u001b\\\u001b[2mfactory.py\u001b[0m\u001b]8;;\u001b\\\u001b[2m:\u001b[0m\u001b]8;id=663222;file:///home/mkoenig/git/sbmlutils/src/sbmlutils/factory.py#466\u001b\\\u001b[2m466\u001b[0m\u001b]8;;\u001b\\\n"
      ]
     },
     "metadata": {},
     "output_type": "display_data"
    },
    {
     "data": {
      "text/html": [
       "<pre style=\"white-space:pre;overflow-x:auto;line-height:normal;font-family:Menlo,'DejaVu Sans Mono',consolas,'Courier New',monospace\"><span style=\"color: #800000; text-decoration-color: #800000\">WARNING </span> <span style=\"color: #008000; text-decoration-color: #008000\">'name'</span> should be set on <span style=\"color: #008000; text-decoration-color: #008000\">'Parameter(p_uniform)'</span>                                              <a href=\"file:///home/mkoenig/git/sbmlutils/src/sbmlutils/factory.py\" target=\"_blank\"><span style=\"color: #7f7f7f; text-decoration-color: #7f7f7f\">factory.py</span></a><span style=\"color: #7f7f7f; text-decoration-color: #7f7f7f\">:</span><a href=\"file:///home/mkoenig/git/sbmlutils/src/sbmlutils/factory.py#441\" target=\"_blank\"><span style=\"color: #7f7f7f; text-decoration-color: #7f7f7f\">441</span></a>\n",
       "</pre>\n"
      ],
      "text/plain": [
       "\u001b[31mWARNING \u001b[0m \u001b[32m'name'\u001b[0m should be set on \u001b[32m'Parameter\u001b[0m\u001b[32m(\u001b[0m\u001b[32mp_uniform\u001b[0m\u001b[32m)\u001b[0m\u001b[32m'\u001b[0m                                              \u001b]8;id=801758;file:///home/mkoenig/git/sbmlutils/src/sbmlutils/factory.py\u001b\\\u001b[2mfactory.py\u001b[0m\u001b]8;;\u001b\\\u001b[2m:\u001b[0m\u001b]8;id=139484;file:///home/mkoenig/git/sbmlutils/src/sbmlutils/factory.py#441\u001b\\\u001b[2m441\u001b[0m\u001b]8;;\u001b\\\n"
      ]
     },
     "metadata": {},
     "output_type": "display_data"
    },
    {
     "data": {
      "text/html": [
       "<pre style=\"white-space:pre;overflow-x:auto;line-height:normal;font-family:Menlo,'DejaVu Sans Mono',consolas,'Courier New',monospace\"><span style=\"color: #800000; text-decoration-color: #800000\">WARNING </span> <span style=\"color: #008000; text-decoration-color: #008000\">'sboTerm'</span> should be set on <span style=\"color: #008000; text-decoration-color: #008000\">'Parameter(p_uniform)'</span>                                           <a href=\"file:///home/mkoenig/git/sbmlutils/src/sbmlutils/factory.py\" target=\"_blank\"><span style=\"color: #7f7f7f; text-decoration-color: #7f7f7f\">factory.py</span></a><span style=\"color: #7f7f7f; text-decoration-color: #7f7f7f\">:</span><a href=\"file:///home/mkoenig/git/sbmlutils/src/sbmlutils/factory.py#466\" target=\"_blank\"><span style=\"color: #7f7f7f; text-decoration-color: #7f7f7f\">466</span></a>\n",
       "</pre>\n"
      ],
      "text/plain": [
       "\u001b[31mWARNING \u001b[0m \u001b[32m'sboTerm'\u001b[0m should be set on \u001b[32m'Parameter\u001b[0m\u001b[32m(\u001b[0m\u001b[32mp_uniform\u001b[0m\u001b[32m)\u001b[0m\u001b[32m'\u001b[0m                                           \u001b]8;id=86129;file:///home/mkoenig/git/sbmlutils/src/sbmlutils/factory.py\u001b\\\u001b[2mfactory.py\u001b[0m\u001b]8;;\u001b\\\u001b[2m:\u001b[0m\u001b]8;id=453265;file:///home/mkoenig/git/sbmlutils/src/sbmlutils/factory.py#466\u001b\\\u001b[2m466\u001b[0m\u001b]8;;\u001b\\\n"
      ]
     },
     "metadata": {},
     "output_type": "display_data"
    },
    {
     "data": {
      "text/html": [
       "<pre style=\"white-space:pre;overflow-x:auto;line-height:normal;font-family:Menlo,'DejaVu Sans Mono',consolas,'Courier New',monospace\"><span style=\"color: #800000; text-decoration-color: #800000\">WARNING </span> <span style=\"color: #008000; text-decoration-color: #008000\">'name'</span> should be set on <span style=\"color: #008000; text-decoration-color: #008000\">'InitialAssignment()'</span>                                               <a href=\"file:///home/mkoenig/git/sbmlutils/src/sbmlutils/factory.py\" target=\"_blank\"><span style=\"color: #7f7f7f; text-decoration-color: #7f7f7f\">factory.py</span></a><span style=\"color: #7f7f7f; text-decoration-color: #7f7f7f\">:</span><a href=\"file:///home/mkoenig/git/sbmlutils/src/sbmlutils/factory.py#441\" target=\"_blank\"><span style=\"color: #7f7f7f; text-decoration-color: #7f7f7f\">441</span></a>\n",
       "</pre>\n"
      ],
      "text/plain": [
       "\u001b[31mWARNING \u001b[0m \u001b[32m'name'\u001b[0m should be set on \u001b[32m'InitialAssignment\u001b[0m\u001b[32m(\u001b[0m\u001b[32m)\u001b[0m\u001b[32m'\u001b[0m                                               \u001b]8;id=999935;file:///home/mkoenig/git/sbmlutils/src/sbmlutils/factory.py\u001b\\\u001b[2mfactory.py\u001b[0m\u001b]8;;\u001b\\\u001b[2m:\u001b[0m\u001b]8;id=233815;file:///home/mkoenig/git/sbmlutils/src/sbmlutils/factory.py#441\u001b\\\u001b[2m441\u001b[0m\u001b]8;;\u001b\\\n"
      ]
     },
     "metadata": {},
     "output_type": "display_data"
    },
    {
     "data": {
      "text/html": [
       "<pre style=\"white-space:pre;overflow-x:auto;line-height:normal;font-family:Menlo,'DejaVu Sans Mono',consolas,'Courier New',monospace\"><span style=\"color: #800000; text-decoration-color: #800000\">WARNING </span> <span style=\"color: #008000; text-decoration-color: #008000\">'sboTerm'</span> should be set on <span style=\"color: #008000; text-decoration-color: #008000\">'InitialAssignment()'</span>                                            <a href=\"file:///home/mkoenig/git/sbmlutils/src/sbmlutils/factory.py\" target=\"_blank\"><span style=\"color: #7f7f7f; text-decoration-color: #7f7f7f\">factory.py</span></a><span style=\"color: #7f7f7f; text-decoration-color: #7f7f7f\">:</span><a href=\"file:///home/mkoenig/git/sbmlutils/src/sbmlutils/factory.py#466\" target=\"_blank\"><span style=\"color: #7f7f7f; text-decoration-color: #7f7f7f\">466</span></a>\n",
       "</pre>\n"
      ],
      "text/plain": [
       "\u001b[31mWARNING \u001b[0m \u001b[32m'sboTerm'\u001b[0m should be set on \u001b[32m'InitialAssignment\u001b[0m\u001b[32m(\u001b[0m\u001b[32m)\u001b[0m\u001b[32m'\u001b[0m                                            \u001b]8;id=914240;file:///home/mkoenig/git/sbmlutils/src/sbmlutils/factory.py\u001b\\\u001b[2mfactory.py\u001b[0m\u001b]8;;\u001b\\\u001b[2m:\u001b[0m\u001b]8;id=423414;file:///home/mkoenig/git/sbmlutils/src/sbmlutils/factory.py#466\u001b\\\u001b[2m466\u001b[0m\u001b]8;;\u001b\\\n"
      ]
     },
     "metadata": {},
     "output_type": "display_data"
    },
    {
     "data": {
      "text/html": [
       "<pre style=\"white-space:pre;overflow-x:auto;line-height:normal;font-family:Menlo,'DejaVu Sans Mono',consolas,'Courier New',monospace\"><span style=\"color: #800000; text-decoration-color: #800000\">WARNING </span> <span style=\"color: #008000; text-decoration-color: #008000\">'name'</span> should be set on <span style=\"color: #008000; text-decoration-color: #008000\">'Parameter(p_bernoulli)'</span>                                            <a href=\"file:///home/mkoenig/git/sbmlutils/src/sbmlutils/factory.py\" target=\"_blank\"><span style=\"color: #7f7f7f; text-decoration-color: #7f7f7f\">factory.py</span></a><span style=\"color: #7f7f7f; text-decoration-color: #7f7f7f\">:</span><a href=\"file:///home/mkoenig/git/sbmlutils/src/sbmlutils/factory.py#441\" target=\"_blank\"><span style=\"color: #7f7f7f; text-decoration-color: #7f7f7f\">441</span></a>\n",
       "</pre>\n"
      ],
      "text/plain": [
       "\u001b[31mWARNING \u001b[0m \u001b[32m'name'\u001b[0m should be set on \u001b[32m'Parameter\u001b[0m\u001b[32m(\u001b[0m\u001b[32mp_bernoulli\u001b[0m\u001b[32m)\u001b[0m\u001b[32m'\u001b[0m                                            \u001b]8;id=796913;file:///home/mkoenig/git/sbmlutils/src/sbmlutils/factory.py\u001b\\\u001b[2mfactory.py\u001b[0m\u001b]8;;\u001b\\\u001b[2m:\u001b[0m\u001b]8;id=762782;file:///home/mkoenig/git/sbmlutils/src/sbmlutils/factory.py#441\u001b\\\u001b[2m441\u001b[0m\u001b]8;;\u001b\\\n"
      ]
     },
     "metadata": {},
     "output_type": "display_data"
    },
    {
     "data": {
      "text/html": [
       "<pre style=\"white-space:pre;overflow-x:auto;line-height:normal;font-family:Menlo,'DejaVu Sans Mono',consolas,'Courier New',monospace\"><span style=\"color: #800000; text-decoration-color: #800000\">WARNING </span> <span style=\"color: #008000; text-decoration-color: #008000\">'sboTerm'</span> should be set on <span style=\"color: #008000; text-decoration-color: #008000\">'Parameter(p_bernoulli)'</span>                                         <a href=\"file:///home/mkoenig/git/sbmlutils/src/sbmlutils/factory.py\" target=\"_blank\"><span style=\"color: #7f7f7f; text-decoration-color: #7f7f7f\">factory.py</span></a><span style=\"color: #7f7f7f; text-decoration-color: #7f7f7f\">:</span><a href=\"file:///home/mkoenig/git/sbmlutils/src/sbmlutils/factory.py#466\" target=\"_blank\"><span style=\"color: #7f7f7f; text-decoration-color: #7f7f7f\">466</span></a>\n",
       "</pre>\n"
      ],
      "text/plain": [
       "\u001b[31mWARNING \u001b[0m \u001b[32m'sboTerm'\u001b[0m should be set on \u001b[32m'Parameter\u001b[0m\u001b[32m(\u001b[0m\u001b[32mp_bernoulli\u001b[0m\u001b[32m)\u001b[0m\u001b[32m'\u001b[0m                                         \u001b]8;id=276007;file:///home/mkoenig/git/sbmlutils/src/sbmlutils/factory.py\u001b\\\u001b[2mfactory.py\u001b[0m\u001b]8;;\u001b\\\u001b[2m:\u001b[0m\u001b]8;id=890851;file:///home/mkoenig/git/sbmlutils/src/sbmlutils/factory.py#466\u001b\\\u001b[2m466\u001b[0m\u001b]8;;\u001b\\\n"
      ]
     },
     "metadata": {},
     "output_type": "display_data"
    },
    {
     "data": {
      "text/html": [
       "<pre style=\"white-space:pre;overflow-x:auto;line-height:normal;font-family:Menlo,'DejaVu Sans Mono',consolas,'Courier New',monospace\"><span style=\"color: #800000; text-decoration-color: #800000\">WARNING </span> <span style=\"color: #008000; text-decoration-color: #008000\">'name'</span> should be set on <span style=\"color: #008000; text-decoration-color: #008000\">'InitialAssignment()'</span>                                               <a href=\"file:///home/mkoenig/git/sbmlutils/src/sbmlutils/factory.py\" target=\"_blank\"><span style=\"color: #7f7f7f; text-decoration-color: #7f7f7f\">factory.py</span></a><span style=\"color: #7f7f7f; text-decoration-color: #7f7f7f\">:</span><a href=\"file:///home/mkoenig/git/sbmlutils/src/sbmlutils/factory.py#441\" target=\"_blank\"><span style=\"color: #7f7f7f; text-decoration-color: #7f7f7f\">441</span></a>\n",
       "</pre>\n"
      ],
      "text/plain": [
       "\u001b[31mWARNING \u001b[0m \u001b[32m'name'\u001b[0m should be set on \u001b[32m'InitialAssignment\u001b[0m\u001b[32m(\u001b[0m\u001b[32m)\u001b[0m\u001b[32m'\u001b[0m                                               \u001b]8;id=673830;file:///home/mkoenig/git/sbmlutils/src/sbmlutils/factory.py\u001b\\\u001b[2mfactory.py\u001b[0m\u001b]8;;\u001b\\\u001b[2m:\u001b[0m\u001b]8;id=700862;file:///home/mkoenig/git/sbmlutils/src/sbmlutils/factory.py#441\u001b\\\u001b[2m441\u001b[0m\u001b]8;;\u001b\\\n"
      ]
     },
     "metadata": {},
     "output_type": "display_data"
    },
    {
     "data": {
      "text/html": [
       "<pre style=\"white-space:pre;overflow-x:auto;line-height:normal;font-family:Menlo,'DejaVu Sans Mono',consolas,'Courier New',monospace\"><span style=\"color: #800000; text-decoration-color: #800000\">WARNING </span> <span style=\"color: #008000; text-decoration-color: #008000\">'sboTerm'</span> should be set on <span style=\"color: #008000; text-decoration-color: #008000\">'InitialAssignment()'</span>                                            <a href=\"file:///home/mkoenig/git/sbmlutils/src/sbmlutils/factory.py\" target=\"_blank\"><span style=\"color: #7f7f7f; text-decoration-color: #7f7f7f\">factory.py</span></a><span style=\"color: #7f7f7f; text-decoration-color: #7f7f7f\">:</span><a href=\"file:///home/mkoenig/git/sbmlutils/src/sbmlutils/factory.py#466\" target=\"_blank\"><span style=\"color: #7f7f7f; text-decoration-color: #7f7f7f\">466</span></a>\n",
       "</pre>\n"
      ],
      "text/plain": [
       "\u001b[31mWARNING \u001b[0m \u001b[32m'sboTerm'\u001b[0m should be set on \u001b[32m'InitialAssignment\u001b[0m\u001b[32m(\u001b[0m\u001b[32m)\u001b[0m\u001b[32m'\u001b[0m                                            \u001b]8;id=1709;file:///home/mkoenig/git/sbmlutils/src/sbmlutils/factory.py\u001b\\\u001b[2mfactory.py\u001b[0m\u001b]8;;\u001b\\\u001b[2m:\u001b[0m\u001b]8;id=621570;file:///home/mkoenig/git/sbmlutils/src/sbmlutils/factory.py#466\u001b\\\u001b[2m466\u001b[0m\u001b]8;;\u001b\\\n"
      ]
     },
     "metadata": {},
     "output_type": "display_data"
    },
    {
     "data": {
      "text/html": [
       "<pre style=\"white-space:pre;overflow-x:auto;line-height:normal;font-family:Menlo,'DejaVu Sans Mono',consolas,'Courier New',monospace\"><span style=\"color: #800000; text-decoration-color: #800000\">WARNING </span> <span style=\"color: #008000; text-decoration-color: #008000\">'name'</span> should be set on <span style=\"color: #008000; text-decoration-color: #008000\">'Parameter(p_binomial_1)'</span>                                           <a href=\"file:///home/mkoenig/git/sbmlutils/src/sbmlutils/factory.py\" target=\"_blank\"><span style=\"color: #7f7f7f; text-decoration-color: #7f7f7f\">factory.py</span></a><span style=\"color: #7f7f7f; text-decoration-color: #7f7f7f\">:</span><a href=\"file:///home/mkoenig/git/sbmlutils/src/sbmlutils/factory.py#441\" target=\"_blank\"><span style=\"color: #7f7f7f; text-decoration-color: #7f7f7f\">441</span></a>\n",
       "</pre>\n"
      ],
      "text/plain": [
       "\u001b[31mWARNING \u001b[0m \u001b[32m'name'\u001b[0m should be set on \u001b[32m'Parameter\u001b[0m\u001b[32m(\u001b[0m\u001b[32mp_binomial_1\u001b[0m\u001b[32m)\u001b[0m\u001b[32m'\u001b[0m                                           \u001b]8;id=315028;file:///home/mkoenig/git/sbmlutils/src/sbmlutils/factory.py\u001b\\\u001b[2mfactory.py\u001b[0m\u001b]8;;\u001b\\\u001b[2m:\u001b[0m\u001b]8;id=750398;file:///home/mkoenig/git/sbmlutils/src/sbmlutils/factory.py#441\u001b\\\u001b[2m441\u001b[0m\u001b]8;;\u001b\\\n"
      ]
     },
     "metadata": {},
     "output_type": "display_data"
    },
    {
     "data": {
      "text/html": [
       "<pre style=\"white-space:pre;overflow-x:auto;line-height:normal;font-family:Menlo,'DejaVu Sans Mono',consolas,'Courier New',monospace\"><span style=\"color: #800000; text-decoration-color: #800000\">WARNING </span> <span style=\"color: #008000; text-decoration-color: #008000\">'sboTerm'</span> should be set on <span style=\"color: #008000; text-decoration-color: #008000\">'Parameter(p_binomial_1)'</span>                                        <a href=\"file:///home/mkoenig/git/sbmlutils/src/sbmlutils/factory.py\" target=\"_blank\"><span style=\"color: #7f7f7f; text-decoration-color: #7f7f7f\">factory.py</span></a><span style=\"color: #7f7f7f; text-decoration-color: #7f7f7f\">:</span><a href=\"file:///home/mkoenig/git/sbmlutils/src/sbmlutils/factory.py#466\" target=\"_blank\"><span style=\"color: #7f7f7f; text-decoration-color: #7f7f7f\">466</span></a>\n",
       "</pre>\n"
      ],
      "text/plain": [
       "\u001b[31mWARNING \u001b[0m \u001b[32m'sboTerm'\u001b[0m should be set on \u001b[32m'Parameter\u001b[0m\u001b[32m(\u001b[0m\u001b[32mp_binomial_1\u001b[0m\u001b[32m)\u001b[0m\u001b[32m'\u001b[0m                                        \u001b]8;id=655342;file:///home/mkoenig/git/sbmlutils/src/sbmlutils/factory.py\u001b\\\u001b[2mfactory.py\u001b[0m\u001b]8;;\u001b\\\u001b[2m:\u001b[0m\u001b]8;id=134146;file:///home/mkoenig/git/sbmlutils/src/sbmlutils/factory.py#466\u001b\\\u001b[2m466\u001b[0m\u001b]8;;\u001b\\\n"
      ]
     },
     "metadata": {},
     "output_type": "display_data"
    },
    {
     "data": {
      "text/html": [
       "<pre style=\"white-space:pre;overflow-x:auto;line-height:normal;font-family:Menlo,'DejaVu Sans Mono',consolas,'Courier New',monospace\"><span style=\"color: #800000; text-decoration-color: #800000\">WARNING </span> <span style=\"color: #008000; text-decoration-color: #008000\">'name'</span> should be set on <span style=\"color: #008000; text-decoration-color: #008000\">'InitialAssignment()'</span>                                               <a href=\"file:///home/mkoenig/git/sbmlutils/src/sbmlutils/factory.py\" target=\"_blank\"><span style=\"color: #7f7f7f; text-decoration-color: #7f7f7f\">factory.py</span></a><span style=\"color: #7f7f7f; text-decoration-color: #7f7f7f\">:</span><a href=\"file:///home/mkoenig/git/sbmlutils/src/sbmlutils/factory.py#441\" target=\"_blank\"><span style=\"color: #7f7f7f; text-decoration-color: #7f7f7f\">441</span></a>\n",
       "</pre>\n"
      ],
      "text/plain": [
       "\u001b[31mWARNING \u001b[0m \u001b[32m'name'\u001b[0m should be set on \u001b[32m'InitialAssignment\u001b[0m\u001b[32m(\u001b[0m\u001b[32m)\u001b[0m\u001b[32m'\u001b[0m                                               \u001b]8;id=793094;file:///home/mkoenig/git/sbmlutils/src/sbmlutils/factory.py\u001b\\\u001b[2mfactory.py\u001b[0m\u001b]8;;\u001b\\\u001b[2m:\u001b[0m\u001b]8;id=343885;file:///home/mkoenig/git/sbmlutils/src/sbmlutils/factory.py#441\u001b\\\u001b[2m441\u001b[0m\u001b]8;;\u001b\\\n"
      ]
     },
     "metadata": {},
     "output_type": "display_data"
    },
    {
     "data": {
      "text/html": [
       "<pre style=\"white-space:pre;overflow-x:auto;line-height:normal;font-family:Menlo,'DejaVu Sans Mono',consolas,'Courier New',monospace\"><span style=\"color: #800000; text-decoration-color: #800000\">WARNING </span> <span style=\"color: #008000; text-decoration-color: #008000\">'sboTerm'</span> should be set on <span style=\"color: #008000; text-decoration-color: #008000\">'InitialAssignment()'</span>                                            <a href=\"file:///home/mkoenig/git/sbmlutils/src/sbmlutils/factory.py\" target=\"_blank\"><span style=\"color: #7f7f7f; text-decoration-color: #7f7f7f\">factory.py</span></a><span style=\"color: #7f7f7f; text-decoration-color: #7f7f7f\">:</span><a href=\"file:///home/mkoenig/git/sbmlutils/src/sbmlutils/factory.py#466\" target=\"_blank\"><span style=\"color: #7f7f7f; text-decoration-color: #7f7f7f\">466</span></a>\n",
       "</pre>\n"
      ],
      "text/plain": [
       "\u001b[31mWARNING \u001b[0m \u001b[32m'sboTerm'\u001b[0m should be set on \u001b[32m'InitialAssignment\u001b[0m\u001b[32m(\u001b[0m\u001b[32m)\u001b[0m\u001b[32m'\u001b[0m                                            \u001b]8;id=204136;file:///home/mkoenig/git/sbmlutils/src/sbmlutils/factory.py\u001b\\\u001b[2mfactory.py\u001b[0m\u001b]8;;\u001b\\\u001b[2m:\u001b[0m\u001b]8;id=522085;file:///home/mkoenig/git/sbmlutils/src/sbmlutils/factory.py#466\u001b\\\u001b[2m466\u001b[0m\u001b]8;;\u001b\\\n"
      ]
     },
     "metadata": {},
     "output_type": "display_data"
    },
    {
     "data": {
      "text/html": [
       "<pre style=\"white-space:pre;overflow-x:auto;line-height:normal;font-family:Menlo,'DejaVu Sans Mono',consolas,'Courier New',monospace\"><span style=\"color: #800000; text-decoration-color: #800000\">WARNING </span> <span style=\"color: #008000; text-decoration-color: #008000\">'name'</span> should be set on <span style=\"color: #008000; text-decoration-color: #008000\">'Parameter(p_binomial_2)'</span>                                           <a href=\"file:///home/mkoenig/git/sbmlutils/src/sbmlutils/factory.py\" target=\"_blank\"><span style=\"color: #7f7f7f; text-decoration-color: #7f7f7f\">factory.py</span></a><span style=\"color: #7f7f7f; text-decoration-color: #7f7f7f\">:</span><a href=\"file:///home/mkoenig/git/sbmlutils/src/sbmlutils/factory.py#441\" target=\"_blank\"><span style=\"color: #7f7f7f; text-decoration-color: #7f7f7f\">441</span></a>\n",
       "</pre>\n"
      ],
      "text/plain": [
       "\u001b[31mWARNING \u001b[0m \u001b[32m'name'\u001b[0m should be set on \u001b[32m'Parameter\u001b[0m\u001b[32m(\u001b[0m\u001b[32mp_binomial_2\u001b[0m\u001b[32m)\u001b[0m\u001b[32m'\u001b[0m                                           \u001b]8;id=153531;file:///home/mkoenig/git/sbmlutils/src/sbmlutils/factory.py\u001b\\\u001b[2mfactory.py\u001b[0m\u001b]8;;\u001b\\\u001b[2m:\u001b[0m\u001b]8;id=703162;file:///home/mkoenig/git/sbmlutils/src/sbmlutils/factory.py#441\u001b\\\u001b[2m441\u001b[0m\u001b]8;;\u001b\\\n"
      ]
     },
     "metadata": {},
     "output_type": "display_data"
    },
    {
     "data": {
      "text/html": [
       "<pre style=\"white-space:pre;overflow-x:auto;line-height:normal;font-family:Menlo,'DejaVu Sans Mono',consolas,'Courier New',monospace\"><span style=\"color: #800000; text-decoration-color: #800000\">WARNING </span> <span style=\"color: #008000; text-decoration-color: #008000\">'sboTerm'</span> should be set on <span style=\"color: #008000; text-decoration-color: #008000\">'Parameter(p_binomial_2)'</span>                                        <a href=\"file:///home/mkoenig/git/sbmlutils/src/sbmlutils/factory.py\" target=\"_blank\"><span style=\"color: #7f7f7f; text-decoration-color: #7f7f7f\">factory.py</span></a><span style=\"color: #7f7f7f; text-decoration-color: #7f7f7f\">:</span><a href=\"file:///home/mkoenig/git/sbmlutils/src/sbmlutils/factory.py#466\" target=\"_blank\"><span style=\"color: #7f7f7f; text-decoration-color: #7f7f7f\">466</span></a>\n",
       "</pre>\n"
      ],
      "text/plain": [
       "\u001b[31mWARNING \u001b[0m \u001b[32m'sboTerm'\u001b[0m should be set on \u001b[32m'Parameter\u001b[0m\u001b[32m(\u001b[0m\u001b[32mp_binomial_2\u001b[0m\u001b[32m)\u001b[0m\u001b[32m'\u001b[0m                                        \u001b]8;id=809158;file:///home/mkoenig/git/sbmlutils/src/sbmlutils/factory.py\u001b\\\u001b[2mfactory.py\u001b[0m\u001b]8;;\u001b\\\u001b[2m:\u001b[0m\u001b]8;id=91588;file:///home/mkoenig/git/sbmlutils/src/sbmlutils/factory.py#466\u001b\\\u001b[2m466\u001b[0m\u001b]8;;\u001b\\\n"
      ]
     },
     "metadata": {},
     "output_type": "display_data"
    },
    {
     "data": {
      "text/html": [
       "<pre style=\"white-space:pre;overflow-x:auto;line-height:normal;font-family:Menlo,'DejaVu Sans Mono',consolas,'Courier New',monospace\"><span style=\"color: #800000; text-decoration-color: #800000\">WARNING </span> <span style=\"color: #008000; text-decoration-color: #008000\">'name'</span> should be set on <span style=\"color: #008000; text-decoration-color: #008000\">'InitialAssignment()'</span>                                               <a href=\"file:///home/mkoenig/git/sbmlutils/src/sbmlutils/factory.py\" target=\"_blank\"><span style=\"color: #7f7f7f; text-decoration-color: #7f7f7f\">factory.py</span></a><span style=\"color: #7f7f7f; text-decoration-color: #7f7f7f\">:</span><a href=\"file:///home/mkoenig/git/sbmlutils/src/sbmlutils/factory.py#441\" target=\"_blank\"><span style=\"color: #7f7f7f; text-decoration-color: #7f7f7f\">441</span></a>\n",
       "</pre>\n"
      ],
      "text/plain": [
       "\u001b[31mWARNING \u001b[0m \u001b[32m'name'\u001b[0m should be set on \u001b[32m'InitialAssignment\u001b[0m\u001b[32m(\u001b[0m\u001b[32m)\u001b[0m\u001b[32m'\u001b[0m                                               \u001b]8;id=334966;file:///home/mkoenig/git/sbmlutils/src/sbmlutils/factory.py\u001b\\\u001b[2mfactory.py\u001b[0m\u001b]8;;\u001b\\\u001b[2m:\u001b[0m\u001b]8;id=132902;file:///home/mkoenig/git/sbmlutils/src/sbmlutils/factory.py#441\u001b\\\u001b[2m441\u001b[0m\u001b]8;;\u001b\\\n"
      ]
     },
     "metadata": {},
     "output_type": "display_data"
    },
    {
     "data": {
      "text/html": [
       "<pre style=\"white-space:pre;overflow-x:auto;line-height:normal;font-family:Menlo,'DejaVu Sans Mono',consolas,'Courier New',monospace\"><span style=\"color: #800000; text-decoration-color: #800000\">WARNING </span> <span style=\"color: #008000; text-decoration-color: #008000\">'sboTerm'</span> should be set on <span style=\"color: #008000; text-decoration-color: #008000\">'InitialAssignment()'</span>                                            <a href=\"file:///home/mkoenig/git/sbmlutils/src/sbmlutils/factory.py\" target=\"_blank\"><span style=\"color: #7f7f7f; text-decoration-color: #7f7f7f\">factory.py</span></a><span style=\"color: #7f7f7f; text-decoration-color: #7f7f7f\">:</span><a href=\"file:///home/mkoenig/git/sbmlutils/src/sbmlutils/factory.py#466\" target=\"_blank\"><span style=\"color: #7f7f7f; text-decoration-color: #7f7f7f\">466</span></a>\n",
       "</pre>\n"
      ],
      "text/plain": [
       "\u001b[31mWARNING \u001b[0m \u001b[32m'sboTerm'\u001b[0m should be set on \u001b[32m'InitialAssignment\u001b[0m\u001b[32m(\u001b[0m\u001b[32m)\u001b[0m\u001b[32m'\u001b[0m                                            \u001b]8;id=526908;file:///home/mkoenig/git/sbmlutils/src/sbmlutils/factory.py\u001b\\\u001b[2mfactory.py\u001b[0m\u001b]8;;\u001b\\\u001b[2m:\u001b[0m\u001b]8;id=97733;file:///home/mkoenig/git/sbmlutils/src/sbmlutils/factory.py#466\u001b\\\u001b[2m466\u001b[0m\u001b]8;;\u001b\\\n"
      ]
     },
     "metadata": {},
     "output_type": "display_data"
    },
    {
     "data": {
      "text/html": [
       "<pre style=\"white-space:pre;overflow-x:auto;line-height:normal;font-family:Menlo,'DejaVu Sans Mono',consolas,'Courier New',monospace\"><span style=\"color: #800000; text-decoration-color: #800000\">WARNING </span> <span style=\"color: #008000; text-decoration-color: #008000\">'name'</span> should be set on <span style=\"color: #008000; text-decoration-color: #008000\">'Parameter(p_cauchy_1)'</span>                                             <a href=\"file:///home/mkoenig/git/sbmlutils/src/sbmlutils/factory.py\" target=\"_blank\"><span style=\"color: #7f7f7f; text-decoration-color: #7f7f7f\">factory.py</span></a><span style=\"color: #7f7f7f; text-decoration-color: #7f7f7f\">:</span><a href=\"file:///home/mkoenig/git/sbmlutils/src/sbmlutils/factory.py#441\" target=\"_blank\"><span style=\"color: #7f7f7f; text-decoration-color: #7f7f7f\">441</span></a>\n",
       "</pre>\n"
      ],
      "text/plain": [
       "\u001b[31mWARNING \u001b[0m \u001b[32m'name'\u001b[0m should be set on \u001b[32m'Parameter\u001b[0m\u001b[32m(\u001b[0m\u001b[32mp_cauchy_1\u001b[0m\u001b[32m)\u001b[0m\u001b[32m'\u001b[0m                                             \u001b]8;id=876230;file:///home/mkoenig/git/sbmlutils/src/sbmlutils/factory.py\u001b\\\u001b[2mfactory.py\u001b[0m\u001b]8;;\u001b\\\u001b[2m:\u001b[0m\u001b]8;id=801328;file:///home/mkoenig/git/sbmlutils/src/sbmlutils/factory.py#441\u001b\\\u001b[2m441\u001b[0m\u001b]8;;\u001b\\\n"
      ]
     },
     "metadata": {},
     "output_type": "display_data"
    },
    {
     "data": {
      "text/html": [
       "<pre style=\"white-space:pre;overflow-x:auto;line-height:normal;font-family:Menlo,'DejaVu Sans Mono',consolas,'Courier New',monospace\"><span style=\"color: #800000; text-decoration-color: #800000\">WARNING </span> <span style=\"color: #008000; text-decoration-color: #008000\">'sboTerm'</span> should be set on <span style=\"color: #008000; text-decoration-color: #008000\">'Parameter(p_cauchy_1)'</span>                                          <a href=\"file:///home/mkoenig/git/sbmlutils/src/sbmlutils/factory.py\" target=\"_blank\"><span style=\"color: #7f7f7f; text-decoration-color: #7f7f7f\">factory.py</span></a><span style=\"color: #7f7f7f; text-decoration-color: #7f7f7f\">:</span><a href=\"file:///home/mkoenig/git/sbmlutils/src/sbmlutils/factory.py#466\" target=\"_blank\"><span style=\"color: #7f7f7f; text-decoration-color: #7f7f7f\">466</span></a>\n",
       "</pre>\n"
      ],
      "text/plain": [
       "\u001b[31mWARNING \u001b[0m \u001b[32m'sboTerm'\u001b[0m should be set on \u001b[32m'Parameter\u001b[0m\u001b[32m(\u001b[0m\u001b[32mp_cauchy_1\u001b[0m\u001b[32m)\u001b[0m\u001b[32m'\u001b[0m                                          \u001b]8;id=423163;file:///home/mkoenig/git/sbmlutils/src/sbmlutils/factory.py\u001b\\\u001b[2mfactory.py\u001b[0m\u001b]8;;\u001b\\\u001b[2m:\u001b[0m\u001b]8;id=254274;file:///home/mkoenig/git/sbmlutils/src/sbmlutils/factory.py#466\u001b\\\u001b[2m466\u001b[0m\u001b]8;;\u001b\\\n"
      ]
     },
     "metadata": {},
     "output_type": "display_data"
    },
    {
     "data": {
      "text/html": [
       "<pre style=\"white-space:pre;overflow-x:auto;line-height:normal;font-family:Menlo,'DejaVu Sans Mono',consolas,'Courier New',monospace\"><span style=\"color: #800000; text-decoration-color: #800000\">WARNING </span> <span style=\"color: #008000; text-decoration-color: #008000\">'name'</span> should be set on <span style=\"color: #008000; text-decoration-color: #008000\">'InitialAssignment()'</span>                                               <a href=\"file:///home/mkoenig/git/sbmlutils/src/sbmlutils/factory.py\" target=\"_blank\"><span style=\"color: #7f7f7f; text-decoration-color: #7f7f7f\">factory.py</span></a><span style=\"color: #7f7f7f; text-decoration-color: #7f7f7f\">:</span><a href=\"file:///home/mkoenig/git/sbmlutils/src/sbmlutils/factory.py#441\" target=\"_blank\"><span style=\"color: #7f7f7f; text-decoration-color: #7f7f7f\">441</span></a>\n",
       "</pre>\n"
      ],
      "text/plain": [
       "\u001b[31mWARNING \u001b[0m \u001b[32m'name'\u001b[0m should be set on \u001b[32m'InitialAssignment\u001b[0m\u001b[32m(\u001b[0m\u001b[32m)\u001b[0m\u001b[32m'\u001b[0m                                               \u001b]8;id=851122;file:///home/mkoenig/git/sbmlutils/src/sbmlutils/factory.py\u001b\\\u001b[2mfactory.py\u001b[0m\u001b]8;;\u001b\\\u001b[2m:\u001b[0m\u001b]8;id=935984;file:///home/mkoenig/git/sbmlutils/src/sbmlutils/factory.py#441\u001b\\\u001b[2m441\u001b[0m\u001b]8;;\u001b\\\n"
      ]
     },
     "metadata": {},
     "output_type": "display_data"
    },
    {
     "data": {
      "text/html": [
       "<pre style=\"white-space:pre;overflow-x:auto;line-height:normal;font-family:Menlo,'DejaVu Sans Mono',consolas,'Courier New',monospace\"><span style=\"color: #800000; text-decoration-color: #800000\">WARNING </span> <span style=\"color: #008000; text-decoration-color: #008000\">'sboTerm'</span> should be set on <span style=\"color: #008000; text-decoration-color: #008000\">'InitialAssignment()'</span>                                            <a href=\"file:///home/mkoenig/git/sbmlutils/src/sbmlutils/factory.py\" target=\"_blank\"><span style=\"color: #7f7f7f; text-decoration-color: #7f7f7f\">factory.py</span></a><span style=\"color: #7f7f7f; text-decoration-color: #7f7f7f\">:</span><a href=\"file:///home/mkoenig/git/sbmlutils/src/sbmlutils/factory.py#466\" target=\"_blank\"><span style=\"color: #7f7f7f; text-decoration-color: #7f7f7f\">466</span></a>\n",
       "</pre>\n"
      ],
      "text/plain": [
       "\u001b[31mWARNING \u001b[0m \u001b[32m'sboTerm'\u001b[0m should be set on \u001b[32m'InitialAssignment\u001b[0m\u001b[32m(\u001b[0m\u001b[32m)\u001b[0m\u001b[32m'\u001b[0m                                            \u001b]8;id=739488;file:///home/mkoenig/git/sbmlutils/src/sbmlutils/factory.py\u001b\\\u001b[2mfactory.py\u001b[0m\u001b]8;;\u001b\\\u001b[2m:\u001b[0m\u001b]8;id=446006;file:///home/mkoenig/git/sbmlutils/src/sbmlutils/factory.py#466\u001b\\\u001b[2m466\u001b[0m\u001b]8;;\u001b\\\n"
      ]
     },
     "metadata": {},
     "output_type": "display_data"
    },
    {
     "data": {
      "text/html": [
       "<pre style=\"white-space:pre;overflow-x:auto;line-height:normal;font-family:Menlo,'DejaVu Sans Mono',consolas,'Courier New',monospace\"><span style=\"color: #800000; text-decoration-color: #800000\">WARNING </span> <span style=\"color: #008000; text-decoration-color: #008000\">'name'</span> should be set on <span style=\"color: #008000; text-decoration-color: #008000\">'Parameter(p_cauchy_2)'</span>                                             <a href=\"file:///home/mkoenig/git/sbmlutils/src/sbmlutils/factory.py\" target=\"_blank\"><span style=\"color: #7f7f7f; text-decoration-color: #7f7f7f\">factory.py</span></a><span style=\"color: #7f7f7f; text-decoration-color: #7f7f7f\">:</span><a href=\"file:///home/mkoenig/git/sbmlutils/src/sbmlutils/factory.py#441\" target=\"_blank\"><span style=\"color: #7f7f7f; text-decoration-color: #7f7f7f\">441</span></a>\n",
       "</pre>\n"
      ],
      "text/plain": [
       "\u001b[31mWARNING \u001b[0m \u001b[32m'name'\u001b[0m should be set on \u001b[32m'Parameter\u001b[0m\u001b[32m(\u001b[0m\u001b[32mp_cauchy_2\u001b[0m\u001b[32m)\u001b[0m\u001b[32m'\u001b[0m                                             \u001b]8;id=702928;file:///home/mkoenig/git/sbmlutils/src/sbmlutils/factory.py\u001b\\\u001b[2mfactory.py\u001b[0m\u001b]8;;\u001b\\\u001b[2m:\u001b[0m\u001b]8;id=934870;file:///home/mkoenig/git/sbmlutils/src/sbmlutils/factory.py#441\u001b\\\u001b[2m441\u001b[0m\u001b]8;;\u001b\\\n"
      ]
     },
     "metadata": {},
     "output_type": "display_data"
    },
    {
     "data": {
      "text/html": [
       "<pre style=\"white-space:pre;overflow-x:auto;line-height:normal;font-family:Menlo,'DejaVu Sans Mono',consolas,'Courier New',monospace\"><span style=\"color: #800000; text-decoration-color: #800000\">WARNING </span> <span style=\"color: #008000; text-decoration-color: #008000\">'sboTerm'</span> should be set on <span style=\"color: #008000; text-decoration-color: #008000\">'Parameter(p_cauchy_2)'</span>                                          <a href=\"file:///home/mkoenig/git/sbmlutils/src/sbmlutils/factory.py\" target=\"_blank\"><span style=\"color: #7f7f7f; text-decoration-color: #7f7f7f\">factory.py</span></a><span style=\"color: #7f7f7f; text-decoration-color: #7f7f7f\">:</span><a href=\"file:///home/mkoenig/git/sbmlutils/src/sbmlutils/factory.py#466\" target=\"_blank\"><span style=\"color: #7f7f7f; text-decoration-color: #7f7f7f\">466</span></a>\n",
       "</pre>\n"
      ],
      "text/plain": [
       "\u001b[31mWARNING \u001b[0m \u001b[32m'sboTerm'\u001b[0m should be set on \u001b[32m'Parameter\u001b[0m\u001b[32m(\u001b[0m\u001b[32mp_cauchy_2\u001b[0m\u001b[32m)\u001b[0m\u001b[32m'\u001b[0m                                          \u001b]8;id=316298;file:///home/mkoenig/git/sbmlutils/src/sbmlutils/factory.py\u001b\\\u001b[2mfactory.py\u001b[0m\u001b]8;;\u001b\\\u001b[2m:\u001b[0m\u001b]8;id=616037;file:///home/mkoenig/git/sbmlutils/src/sbmlutils/factory.py#466\u001b\\\u001b[2m466\u001b[0m\u001b]8;;\u001b\\\n"
      ]
     },
     "metadata": {},
     "output_type": "display_data"
    },
    {
     "data": {
      "text/html": [
       "<pre style=\"white-space:pre;overflow-x:auto;line-height:normal;font-family:Menlo,'DejaVu Sans Mono',consolas,'Courier New',monospace\"><span style=\"color: #800000; text-decoration-color: #800000\">WARNING </span> <span style=\"color: #008000; text-decoration-color: #008000\">'name'</span> should be set on <span style=\"color: #008000; text-decoration-color: #008000\">'InitialAssignment()'</span>                                               <a href=\"file:///home/mkoenig/git/sbmlutils/src/sbmlutils/factory.py\" target=\"_blank\"><span style=\"color: #7f7f7f; text-decoration-color: #7f7f7f\">factory.py</span></a><span style=\"color: #7f7f7f; text-decoration-color: #7f7f7f\">:</span><a href=\"file:///home/mkoenig/git/sbmlutils/src/sbmlutils/factory.py#441\" target=\"_blank\"><span style=\"color: #7f7f7f; text-decoration-color: #7f7f7f\">441</span></a>\n",
       "</pre>\n"
      ],
      "text/plain": [
       "\u001b[31mWARNING \u001b[0m \u001b[32m'name'\u001b[0m should be set on \u001b[32m'InitialAssignment\u001b[0m\u001b[32m(\u001b[0m\u001b[32m)\u001b[0m\u001b[32m'\u001b[0m                                               \u001b]8;id=555235;file:///home/mkoenig/git/sbmlutils/src/sbmlutils/factory.py\u001b\\\u001b[2mfactory.py\u001b[0m\u001b]8;;\u001b\\\u001b[2m:\u001b[0m\u001b]8;id=718944;file:///home/mkoenig/git/sbmlutils/src/sbmlutils/factory.py#441\u001b\\\u001b[2m441\u001b[0m\u001b]8;;\u001b\\\n"
      ]
     },
     "metadata": {},
     "output_type": "display_data"
    },
    {
     "data": {
      "text/html": [
       "<pre style=\"white-space:pre;overflow-x:auto;line-height:normal;font-family:Menlo,'DejaVu Sans Mono',consolas,'Courier New',monospace\"><span style=\"color: #800000; text-decoration-color: #800000\">WARNING </span> <span style=\"color: #008000; text-decoration-color: #008000\">'sboTerm'</span> should be set on <span style=\"color: #008000; text-decoration-color: #008000\">'InitialAssignment()'</span>                                            <a href=\"file:///home/mkoenig/git/sbmlutils/src/sbmlutils/factory.py\" target=\"_blank\"><span style=\"color: #7f7f7f; text-decoration-color: #7f7f7f\">factory.py</span></a><span style=\"color: #7f7f7f; text-decoration-color: #7f7f7f\">:</span><a href=\"file:///home/mkoenig/git/sbmlutils/src/sbmlutils/factory.py#466\" target=\"_blank\"><span style=\"color: #7f7f7f; text-decoration-color: #7f7f7f\">466</span></a>\n",
       "</pre>\n"
      ],
      "text/plain": [
       "\u001b[31mWARNING \u001b[0m \u001b[32m'sboTerm'\u001b[0m should be set on \u001b[32m'InitialAssignment\u001b[0m\u001b[32m(\u001b[0m\u001b[32m)\u001b[0m\u001b[32m'\u001b[0m                                            \u001b]8;id=8311;file:///home/mkoenig/git/sbmlutils/src/sbmlutils/factory.py\u001b\\\u001b[2mfactory.py\u001b[0m\u001b]8;;\u001b\\\u001b[2m:\u001b[0m\u001b]8;id=906650;file:///home/mkoenig/git/sbmlutils/src/sbmlutils/factory.py#466\u001b\\\u001b[2m466\u001b[0m\u001b]8;;\u001b\\\n"
      ]
     },
     "metadata": {},
     "output_type": "display_data"
    },
    {
     "data": {
      "text/html": [
       "<pre style=\"white-space:pre;overflow-x:auto;line-height:normal;font-family:Menlo,'DejaVu Sans Mono',consolas,'Courier New',monospace\"><span style=\"color: #800000; text-decoration-color: #800000\">WARNING </span> <span style=\"color: #008000; text-decoration-color: #008000\">'name'</span> should be set on <span style=\"color: #008000; text-decoration-color: #008000\">'Parameter(p_chisquare_1)'</span>                                          <a href=\"file:///home/mkoenig/git/sbmlutils/src/sbmlutils/factory.py\" target=\"_blank\"><span style=\"color: #7f7f7f; text-decoration-color: #7f7f7f\">factory.py</span></a><span style=\"color: #7f7f7f; text-decoration-color: #7f7f7f\">:</span><a href=\"file:///home/mkoenig/git/sbmlutils/src/sbmlutils/factory.py#441\" target=\"_blank\"><span style=\"color: #7f7f7f; text-decoration-color: #7f7f7f\">441</span></a>\n",
       "</pre>\n"
      ],
      "text/plain": [
       "\u001b[31mWARNING \u001b[0m \u001b[32m'name'\u001b[0m should be set on \u001b[32m'Parameter\u001b[0m\u001b[32m(\u001b[0m\u001b[32mp_chisquare_1\u001b[0m\u001b[32m)\u001b[0m\u001b[32m'\u001b[0m                                          \u001b]8;id=718415;file:///home/mkoenig/git/sbmlutils/src/sbmlutils/factory.py\u001b\\\u001b[2mfactory.py\u001b[0m\u001b]8;;\u001b\\\u001b[2m:\u001b[0m\u001b]8;id=520948;file:///home/mkoenig/git/sbmlutils/src/sbmlutils/factory.py#441\u001b\\\u001b[2m441\u001b[0m\u001b]8;;\u001b\\\n"
      ]
     },
     "metadata": {},
     "output_type": "display_data"
    },
    {
     "data": {
      "text/html": [
       "<pre style=\"white-space:pre;overflow-x:auto;line-height:normal;font-family:Menlo,'DejaVu Sans Mono',consolas,'Courier New',monospace\"><span style=\"color: #800000; text-decoration-color: #800000\">WARNING </span> <span style=\"color: #008000; text-decoration-color: #008000\">'sboTerm'</span> should be set on <span style=\"color: #008000; text-decoration-color: #008000\">'Parameter(p_chisquare_1)'</span>                                       <a href=\"file:///home/mkoenig/git/sbmlutils/src/sbmlutils/factory.py\" target=\"_blank\"><span style=\"color: #7f7f7f; text-decoration-color: #7f7f7f\">factory.py</span></a><span style=\"color: #7f7f7f; text-decoration-color: #7f7f7f\">:</span><a href=\"file:///home/mkoenig/git/sbmlutils/src/sbmlutils/factory.py#466\" target=\"_blank\"><span style=\"color: #7f7f7f; text-decoration-color: #7f7f7f\">466</span></a>\n",
       "</pre>\n"
      ],
      "text/plain": [
       "\u001b[31mWARNING \u001b[0m \u001b[32m'sboTerm'\u001b[0m should be set on \u001b[32m'Parameter\u001b[0m\u001b[32m(\u001b[0m\u001b[32mp_chisquare_1\u001b[0m\u001b[32m)\u001b[0m\u001b[32m'\u001b[0m                                       \u001b]8;id=199367;file:///home/mkoenig/git/sbmlutils/src/sbmlutils/factory.py\u001b\\\u001b[2mfactory.py\u001b[0m\u001b]8;;\u001b\\\u001b[2m:\u001b[0m\u001b]8;id=61001;file:///home/mkoenig/git/sbmlutils/src/sbmlutils/factory.py#466\u001b\\\u001b[2m466\u001b[0m\u001b]8;;\u001b\\\n"
      ]
     },
     "metadata": {},
     "output_type": "display_data"
    },
    {
     "data": {
      "text/html": [
       "<pre style=\"white-space:pre;overflow-x:auto;line-height:normal;font-family:Menlo,'DejaVu Sans Mono',consolas,'Courier New',monospace\"><span style=\"color: #800000; text-decoration-color: #800000\">WARNING </span> <span style=\"color: #008000; text-decoration-color: #008000\">'name'</span> should be set on <span style=\"color: #008000; text-decoration-color: #008000\">'InitialAssignment()'</span>                                               <a href=\"file:///home/mkoenig/git/sbmlutils/src/sbmlutils/factory.py\" target=\"_blank\"><span style=\"color: #7f7f7f; text-decoration-color: #7f7f7f\">factory.py</span></a><span style=\"color: #7f7f7f; text-decoration-color: #7f7f7f\">:</span><a href=\"file:///home/mkoenig/git/sbmlutils/src/sbmlutils/factory.py#441\" target=\"_blank\"><span style=\"color: #7f7f7f; text-decoration-color: #7f7f7f\">441</span></a>\n",
       "</pre>\n"
      ],
      "text/plain": [
       "\u001b[31mWARNING \u001b[0m \u001b[32m'name'\u001b[0m should be set on \u001b[32m'InitialAssignment\u001b[0m\u001b[32m(\u001b[0m\u001b[32m)\u001b[0m\u001b[32m'\u001b[0m                                               \u001b]8;id=116085;file:///home/mkoenig/git/sbmlutils/src/sbmlutils/factory.py\u001b\\\u001b[2mfactory.py\u001b[0m\u001b]8;;\u001b\\\u001b[2m:\u001b[0m\u001b]8;id=211274;file:///home/mkoenig/git/sbmlutils/src/sbmlutils/factory.py#441\u001b\\\u001b[2m441\u001b[0m\u001b]8;;\u001b\\\n"
      ]
     },
     "metadata": {},
     "output_type": "display_data"
    },
    {
     "data": {
      "text/html": [
       "<pre style=\"white-space:pre;overflow-x:auto;line-height:normal;font-family:Menlo,'DejaVu Sans Mono',consolas,'Courier New',monospace\"><span style=\"color: #800000; text-decoration-color: #800000\">WARNING </span> <span style=\"color: #008000; text-decoration-color: #008000\">'sboTerm'</span> should be set on <span style=\"color: #008000; text-decoration-color: #008000\">'InitialAssignment()'</span>                                            <a href=\"file:///home/mkoenig/git/sbmlutils/src/sbmlutils/factory.py\" target=\"_blank\"><span style=\"color: #7f7f7f; text-decoration-color: #7f7f7f\">factory.py</span></a><span style=\"color: #7f7f7f; text-decoration-color: #7f7f7f\">:</span><a href=\"file:///home/mkoenig/git/sbmlutils/src/sbmlutils/factory.py#466\" target=\"_blank\"><span style=\"color: #7f7f7f; text-decoration-color: #7f7f7f\">466</span></a>\n",
       "</pre>\n"
      ],
      "text/plain": [
       "\u001b[31mWARNING \u001b[0m \u001b[32m'sboTerm'\u001b[0m should be set on \u001b[32m'InitialAssignment\u001b[0m\u001b[32m(\u001b[0m\u001b[32m)\u001b[0m\u001b[32m'\u001b[0m                                            \u001b]8;id=678338;file:///home/mkoenig/git/sbmlutils/src/sbmlutils/factory.py\u001b\\\u001b[2mfactory.py\u001b[0m\u001b]8;;\u001b\\\u001b[2m:\u001b[0m\u001b]8;id=821544;file:///home/mkoenig/git/sbmlutils/src/sbmlutils/factory.py#466\u001b\\\u001b[2m466\u001b[0m\u001b]8;;\u001b\\\n"
      ]
     },
     "metadata": {},
     "output_type": "display_data"
    },
    {
     "data": {
      "text/html": [
       "<pre style=\"white-space:pre;overflow-x:auto;line-height:normal;font-family:Menlo,'DejaVu Sans Mono',consolas,'Courier New',monospace\"><span style=\"color: #800000; text-decoration-color: #800000\">WARNING </span> <span style=\"color: #008000; text-decoration-color: #008000\">'name'</span> should be set on <span style=\"color: #008000; text-decoration-color: #008000\">'Parameter(p_chisquare_2)'</span>                                          <a href=\"file:///home/mkoenig/git/sbmlutils/src/sbmlutils/factory.py\" target=\"_blank\"><span style=\"color: #7f7f7f; text-decoration-color: #7f7f7f\">factory.py</span></a><span style=\"color: #7f7f7f; text-decoration-color: #7f7f7f\">:</span><a href=\"file:///home/mkoenig/git/sbmlutils/src/sbmlutils/factory.py#441\" target=\"_blank\"><span style=\"color: #7f7f7f; text-decoration-color: #7f7f7f\">441</span></a>\n",
       "</pre>\n"
      ],
      "text/plain": [
       "\u001b[31mWARNING \u001b[0m \u001b[32m'name'\u001b[0m should be set on \u001b[32m'Parameter\u001b[0m\u001b[32m(\u001b[0m\u001b[32mp_chisquare_2\u001b[0m\u001b[32m)\u001b[0m\u001b[32m'\u001b[0m                                          \u001b]8;id=900730;file:///home/mkoenig/git/sbmlutils/src/sbmlutils/factory.py\u001b\\\u001b[2mfactory.py\u001b[0m\u001b]8;;\u001b\\\u001b[2m:\u001b[0m\u001b]8;id=532118;file:///home/mkoenig/git/sbmlutils/src/sbmlutils/factory.py#441\u001b\\\u001b[2m441\u001b[0m\u001b]8;;\u001b\\\n"
      ]
     },
     "metadata": {},
     "output_type": "display_data"
    },
    {
     "data": {
      "text/html": [
       "<pre style=\"white-space:pre;overflow-x:auto;line-height:normal;font-family:Menlo,'DejaVu Sans Mono',consolas,'Courier New',monospace\"><span style=\"color: #800000; text-decoration-color: #800000\">WARNING </span> <span style=\"color: #008000; text-decoration-color: #008000\">'sboTerm'</span> should be set on <span style=\"color: #008000; text-decoration-color: #008000\">'Parameter(p_chisquare_2)'</span>                                       <a href=\"file:///home/mkoenig/git/sbmlutils/src/sbmlutils/factory.py\" target=\"_blank\"><span style=\"color: #7f7f7f; text-decoration-color: #7f7f7f\">factory.py</span></a><span style=\"color: #7f7f7f; text-decoration-color: #7f7f7f\">:</span><a href=\"file:///home/mkoenig/git/sbmlutils/src/sbmlutils/factory.py#466\" target=\"_blank\"><span style=\"color: #7f7f7f; text-decoration-color: #7f7f7f\">466</span></a>\n",
       "</pre>\n"
      ],
      "text/plain": [
       "\u001b[31mWARNING \u001b[0m \u001b[32m'sboTerm'\u001b[0m should be set on \u001b[32m'Parameter\u001b[0m\u001b[32m(\u001b[0m\u001b[32mp_chisquare_2\u001b[0m\u001b[32m)\u001b[0m\u001b[32m'\u001b[0m                                       \u001b]8;id=282028;file:///home/mkoenig/git/sbmlutils/src/sbmlutils/factory.py\u001b\\\u001b[2mfactory.py\u001b[0m\u001b]8;;\u001b\\\u001b[2m:\u001b[0m\u001b]8;id=647702;file:///home/mkoenig/git/sbmlutils/src/sbmlutils/factory.py#466\u001b\\\u001b[2m466\u001b[0m\u001b]8;;\u001b\\\n"
      ]
     },
     "metadata": {},
     "output_type": "display_data"
    },
    {
     "data": {
      "text/html": [
       "<pre style=\"white-space:pre;overflow-x:auto;line-height:normal;font-family:Menlo,'DejaVu Sans Mono',consolas,'Courier New',monospace\"><span style=\"color: #800000; text-decoration-color: #800000\">WARNING </span> <span style=\"color: #008000; text-decoration-color: #008000\">'name'</span> should be set on <span style=\"color: #008000; text-decoration-color: #008000\">'InitialAssignment()'</span>                                               <a href=\"file:///home/mkoenig/git/sbmlutils/src/sbmlutils/factory.py\" target=\"_blank\"><span style=\"color: #7f7f7f; text-decoration-color: #7f7f7f\">factory.py</span></a><span style=\"color: #7f7f7f; text-decoration-color: #7f7f7f\">:</span><a href=\"file:///home/mkoenig/git/sbmlutils/src/sbmlutils/factory.py#441\" target=\"_blank\"><span style=\"color: #7f7f7f; text-decoration-color: #7f7f7f\">441</span></a>\n",
       "</pre>\n"
      ],
      "text/plain": [
       "\u001b[31mWARNING \u001b[0m \u001b[32m'name'\u001b[0m should be set on \u001b[32m'InitialAssignment\u001b[0m\u001b[32m(\u001b[0m\u001b[32m)\u001b[0m\u001b[32m'\u001b[0m                                               \u001b]8;id=811548;file:///home/mkoenig/git/sbmlutils/src/sbmlutils/factory.py\u001b\\\u001b[2mfactory.py\u001b[0m\u001b]8;;\u001b\\\u001b[2m:\u001b[0m\u001b]8;id=356803;file:///home/mkoenig/git/sbmlutils/src/sbmlutils/factory.py#441\u001b\\\u001b[2m441\u001b[0m\u001b]8;;\u001b\\\n"
      ]
     },
     "metadata": {},
     "output_type": "display_data"
    },
    {
     "data": {
      "text/html": [
       "<pre style=\"white-space:pre;overflow-x:auto;line-height:normal;font-family:Menlo,'DejaVu Sans Mono',consolas,'Courier New',monospace\"><span style=\"color: #800000; text-decoration-color: #800000\">WARNING </span> <span style=\"color: #008000; text-decoration-color: #008000\">'sboTerm'</span> should be set on <span style=\"color: #008000; text-decoration-color: #008000\">'InitialAssignment()'</span>                                            <a href=\"file:///home/mkoenig/git/sbmlutils/src/sbmlutils/factory.py\" target=\"_blank\"><span style=\"color: #7f7f7f; text-decoration-color: #7f7f7f\">factory.py</span></a><span style=\"color: #7f7f7f; text-decoration-color: #7f7f7f\">:</span><a href=\"file:///home/mkoenig/git/sbmlutils/src/sbmlutils/factory.py#466\" target=\"_blank\"><span style=\"color: #7f7f7f; text-decoration-color: #7f7f7f\">466</span></a>\n",
       "</pre>\n"
      ],
      "text/plain": [
       "\u001b[31mWARNING \u001b[0m \u001b[32m'sboTerm'\u001b[0m should be set on \u001b[32m'InitialAssignment\u001b[0m\u001b[32m(\u001b[0m\u001b[32m)\u001b[0m\u001b[32m'\u001b[0m                                            \u001b]8;id=62050;file:///home/mkoenig/git/sbmlutils/src/sbmlutils/factory.py\u001b\\\u001b[2mfactory.py\u001b[0m\u001b]8;;\u001b\\\u001b[2m:\u001b[0m\u001b]8;id=890853;file:///home/mkoenig/git/sbmlutils/src/sbmlutils/factory.py#466\u001b\\\u001b[2m466\u001b[0m\u001b]8;;\u001b\\\n"
      ]
     },
     "metadata": {},
     "output_type": "display_data"
    },
    {
     "data": {
      "text/html": [
       "<pre style=\"white-space:pre;overflow-x:auto;line-height:normal;font-family:Menlo,'DejaVu Sans Mono',consolas,'Courier New',monospace\"><span style=\"color: #800000; text-decoration-color: #800000\">WARNING </span> <span style=\"color: #008000; text-decoration-color: #008000\">'name'</span> should be set on <span style=\"color: #008000; text-decoration-color: #008000\">'Parameter(p_exponential_1)'</span>                                        <a href=\"file:///home/mkoenig/git/sbmlutils/src/sbmlutils/factory.py\" target=\"_blank\"><span style=\"color: #7f7f7f; text-decoration-color: #7f7f7f\">factory.py</span></a><span style=\"color: #7f7f7f; text-decoration-color: #7f7f7f\">:</span><a href=\"file:///home/mkoenig/git/sbmlutils/src/sbmlutils/factory.py#441\" target=\"_blank\"><span style=\"color: #7f7f7f; text-decoration-color: #7f7f7f\">441</span></a>\n",
       "</pre>\n"
      ],
      "text/plain": [
       "\u001b[31mWARNING \u001b[0m \u001b[32m'name'\u001b[0m should be set on \u001b[32m'Parameter\u001b[0m\u001b[32m(\u001b[0m\u001b[32mp_exponential_1\u001b[0m\u001b[32m)\u001b[0m\u001b[32m'\u001b[0m                                        \u001b]8;id=285144;file:///home/mkoenig/git/sbmlutils/src/sbmlutils/factory.py\u001b\\\u001b[2mfactory.py\u001b[0m\u001b]8;;\u001b\\\u001b[2m:\u001b[0m\u001b]8;id=618857;file:///home/mkoenig/git/sbmlutils/src/sbmlutils/factory.py#441\u001b\\\u001b[2m441\u001b[0m\u001b]8;;\u001b\\\n"
      ]
     },
     "metadata": {},
     "output_type": "display_data"
    },
    {
     "data": {
      "text/html": [
       "<pre style=\"white-space:pre;overflow-x:auto;line-height:normal;font-family:Menlo,'DejaVu Sans Mono',consolas,'Courier New',monospace\"><span style=\"color: #800000; text-decoration-color: #800000\">WARNING </span> <span style=\"color: #008000; text-decoration-color: #008000\">'sboTerm'</span> should be set on <span style=\"color: #008000; text-decoration-color: #008000\">'Parameter(p_exponential_1)'</span>                                     <a href=\"file:///home/mkoenig/git/sbmlutils/src/sbmlutils/factory.py\" target=\"_blank\"><span style=\"color: #7f7f7f; text-decoration-color: #7f7f7f\">factory.py</span></a><span style=\"color: #7f7f7f; text-decoration-color: #7f7f7f\">:</span><a href=\"file:///home/mkoenig/git/sbmlutils/src/sbmlutils/factory.py#466\" target=\"_blank\"><span style=\"color: #7f7f7f; text-decoration-color: #7f7f7f\">466</span></a>\n",
       "</pre>\n"
      ],
      "text/plain": [
       "\u001b[31mWARNING \u001b[0m \u001b[32m'sboTerm'\u001b[0m should be set on \u001b[32m'Parameter\u001b[0m\u001b[32m(\u001b[0m\u001b[32mp_exponential_1\u001b[0m\u001b[32m)\u001b[0m\u001b[32m'\u001b[0m                                     \u001b]8;id=25631;file:///home/mkoenig/git/sbmlutils/src/sbmlutils/factory.py\u001b\\\u001b[2mfactory.py\u001b[0m\u001b]8;;\u001b\\\u001b[2m:\u001b[0m\u001b]8;id=38983;file:///home/mkoenig/git/sbmlutils/src/sbmlutils/factory.py#466\u001b\\\u001b[2m466\u001b[0m\u001b]8;;\u001b\\\n"
      ]
     },
     "metadata": {},
     "output_type": "display_data"
    },
    {
     "data": {
      "text/html": [
       "<pre style=\"white-space:pre;overflow-x:auto;line-height:normal;font-family:Menlo,'DejaVu Sans Mono',consolas,'Courier New',monospace\"><span style=\"color: #800000; text-decoration-color: #800000\">WARNING </span> <span style=\"color: #008000; text-decoration-color: #008000\">'name'</span> should be set on <span style=\"color: #008000; text-decoration-color: #008000\">'InitialAssignment()'</span>                                               <a href=\"file:///home/mkoenig/git/sbmlutils/src/sbmlutils/factory.py\" target=\"_blank\"><span style=\"color: #7f7f7f; text-decoration-color: #7f7f7f\">factory.py</span></a><span style=\"color: #7f7f7f; text-decoration-color: #7f7f7f\">:</span><a href=\"file:///home/mkoenig/git/sbmlutils/src/sbmlutils/factory.py#441\" target=\"_blank\"><span style=\"color: #7f7f7f; text-decoration-color: #7f7f7f\">441</span></a>\n",
       "</pre>\n"
      ],
      "text/plain": [
       "\u001b[31mWARNING \u001b[0m \u001b[32m'name'\u001b[0m should be set on \u001b[32m'InitialAssignment\u001b[0m\u001b[32m(\u001b[0m\u001b[32m)\u001b[0m\u001b[32m'\u001b[0m                                               \u001b]8;id=405616;file:///home/mkoenig/git/sbmlutils/src/sbmlutils/factory.py\u001b\\\u001b[2mfactory.py\u001b[0m\u001b]8;;\u001b\\\u001b[2m:\u001b[0m\u001b]8;id=921987;file:///home/mkoenig/git/sbmlutils/src/sbmlutils/factory.py#441\u001b\\\u001b[2m441\u001b[0m\u001b]8;;\u001b\\\n"
      ]
     },
     "metadata": {},
     "output_type": "display_data"
    },
    {
     "data": {
      "text/html": [
       "<pre style=\"white-space:pre;overflow-x:auto;line-height:normal;font-family:Menlo,'DejaVu Sans Mono',consolas,'Courier New',monospace\"><span style=\"color: #800000; text-decoration-color: #800000\">WARNING </span> <span style=\"color: #008000; text-decoration-color: #008000\">'sboTerm'</span> should be set on <span style=\"color: #008000; text-decoration-color: #008000\">'InitialAssignment()'</span>                                            <a href=\"file:///home/mkoenig/git/sbmlutils/src/sbmlutils/factory.py\" target=\"_blank\"><span style=\"color: #7f7f7f; text-decoration-color: #7f7f7f\">factory.py</span></a><span style=\"color: #7f7f7f; text-decoration-color: #7f7f7f\">:</span><a href=\"file:///home/mkoenig/git/sbmlutils/src/sbmlutils/factory.py#466\" target=\"_blank\"><span style=\"color: #7f7f7f; text-decoration-color: #7f7f7f\">466</span></a>\n",
       "</pre>\n"
      ],
      "text/plain": [
       "\u001b[31mWARNING \u001b[0m \u001b[32m'sboTerm'\u001b[0m should be set on \u001b[32m'InitialAssignment\u001b[0m\u001b[32m(\u001b[0m\u001b[32m)\u001b[0m\u001b[32m'\u001b[0m                                            \u001b]8;id=298828;file:///home/mkoenig/git/sbmlutils/src/sbmlutils/factory.py\u001b\\\u001b[2mfactory.py\u001b[0m\u001b]8;;\u001b\\\u001b[2m:\u001b[0m\u001b]8;id=997793;file:///home/mkoenig/git/sbmlutils/src/sbmlutils/factory.py#466\u001b\\\u001b[2m466\u001b[0m\u001b]8;;\u001b\\\n"
      ]
     },
     "metadata": {},
     "output_type": "display_data"
    },
    {
     "data": {
      "text/html": [
       "<pre style=\"white-space:pre;overflow-x:auto;line-height:normal;font-family:Menlo,'DejaVu Sans Mono',consolas,'Courier New',monospace\"><span style=\"color: #800000; text-decoration-color: #800000\">WARNING </span> <span style=\"color: #008000; text-decoration-color: #008000\">'name'</span> should be set on <span style=\"color: #008000; text-decoration-color: #008000\">'Parameter(p_exponential_2)'</span>                                        <a href=\"file:///home/mkoenig/git/sbmlutils/src/sbmlutils/factory.py\" target=\"_blank\"><span style=\"color: #7f7f7f; text-decoration-color: #7f7f7f\">factory.py</span></a><span style=\"color: #7f7f7f; text-decoration-color: #7f7f7f\">:</span><a href=\"file:///home/mkoenig/git/sbmlutils/src/sbmlutils/factory.py#441\" target=\"_blank\"><span style=\"color: #7f7f7f; text-decoration-color: #7f7f7f\">441</span></a>\n",
       "</pre>\n"
      ],
      "text/plain": [
       "\u001b[31mWARNING \u001b[0m \u001b[32m'name'\u001b[0m should be set on \u001b[32m'Parameter\u001b[0m\u001b[32m(\u001b[0m\u001b[32mp_exponential_2\u001b[0m\u001b[32m)\u001b[0m\u001b[32m'\u001b[0m                                        \u001b]8;id=194494;file:///home/mkoenig/git/sbmlutils/src/sbmlutils/factory.py\u001b\\\u001b[2mfactory.py\u001b[0m\u001b]8;;\u001b\\\u001b[2m:\u001b[0m\u001b]8;id=226260;file:///home/mkoenig/git/sbmlutils/src/sbmlutils/factory.py#441\u001b\\\u001b[2m441\u001b[0m\u001b]8;;\u001b\\\n"
      ]
     },
     "metadata": {},
     "output_type": "display_data"
    },
    {
     "data": {
      "text/html": [
       "<pre style=\"white-space:pre;overflow-x:auto;line-height:normal;font-family:Menlo,'DejaVu Sans Mono',consolas,'Courier New',monospace\"><span style=\"color: #800000; text-decoration-color: #800000\">WARNING </span> <span style=\"color: #008000; text-decoration-color: #008000\">'sboTerm'</span> should be set on <span style=\"color: #008000; text-decoration-color: #008000\">'Parameter(p_exponential_2)'</span>                                     <a href=\"file:///home/mkoenig/git/sbmlutils/src/sbmlutils/factory.py\" target=\"_blank\"><span style=\"color: #7f7f7f; text-decoration-color: #7f7f7f\">factory.py</span></a><span style=\"color: #7f7f7f; text-decoration-color: #7f7f7f\">:</span><a href=\"file:///home/mkoenig/git/sbmlutils/src/sbmlutils/factory.py#466\" target=\"_blank\"><span style=\"color: #7f7f7f; text-decoration-color: #7f7f7f\">466</span></a>\n",
       "</pre>\n"
      ],
      "text/plain": [
       "\u001b[31mWARNING \u001b[0m \u001b[32m'sboTerm'\u001b[0m should be set on \u001b[32m'Parameter\u001b[0m\u001b[32m(\u001b[0m\u001b[32mp_exponential_2\u001b[0m\u001b[32m)\u001b[0m\u001b[32m'\u001b[0m                                     \u001b]8;id=300296;file:///home/mkoenig/git/sbmlutils/src/sbmlutils/factory.py\u001b\\\u001b[2mfactory.py\u001b[0m\u001b]8;;\u001b\\\u001b[2m:\u001b[0m\u001b]8;id=453641;file:///home/mkoenig/git/sbmlutils/src/sbmlutils/factory.py#466\u001b\\\u001b[2m466\u001b[0m\u001b]8;;\u001b\\\n"
      ]
     },
     "metadata": {},
     "output_type": "display_data"
    },
    {
     "data": {
      "text/html": [
       "<pre style=\"white-space:pre;overflow-x:auto;line-height:normal;font-family:Menlo,'DejaVu Sans Mono',consolas,'Courier New',monospace\"><span style=\"color: #800000; text-decoration-color: #800000\">WARNING </span> <span style=\"color: #008000; text-decoration-color: #008000\">'name'</span> should be set on <span style=\"color: #008000; text-decoration-color: #008000\">'InitialAssignment()'</span>                                               <a href=\"file:///home/mkoenig/git/sbmlutils/src/sbmlutils/factory.py\" target=\"_blank\"><span style=\"color: #7f7f7f; text-decoration-color: #7f7f7f\">factory.py</span></a><span style=\"color: #7f7f7f; text-decoration-color: #7f7f7f\">:</span><a href=\"file:///home/mkoenig/git/sbmlutils/src/sbmlutils/factory.py#441\" target=\"_blank\"><span style=\"color: #7f7f7f; text-decoration-color: #7f7f7f\">441</span></a>\n",
       "</pre>\n"
      ],
      "text/plain": [
       "\u001b[31mWARNING \u001b[0m \u001b[32m'name'\u001b[0m should be set on \u001b[32m'InitialAssignment\u001b[0m\u001b[32m(\u001b[0m\u001b[32m)\u001b[0m\u001b[32m'\u001b[0m                                               \u001b]8;id=303505;file:///home/mkoenig/git/sbmlutils/src/sbmlutils/factory.py\u001b\\\u001b[2mfactory.py\u001b[0m\u001b]8;;\u001b\\\u001b[2m:\u001b[0m\u001b]8;id=831024;file:///home/mkoenig/git/sbmlutils/src/sbmlutils/factory.py#441\u001b\\\u001b[2m441\u001b[0m\u001b]8;;\u001b\\\n"
      ]
     },
     "metadata": {},
     "output_type": "display_data"
    },
    {
     "data": {
      "text/html": [
       "<pre style=\"white-space:pre;overflow-x:auto;line-height:normal;font-family:Menlo,'DejaVu Sans Mono',consolas,'Courier New',monospace\"><span style=\"color: #800000; text-decoration-color: #800000\">WARNING </span> <span style=\"color: #008000; text-decoration-color: #008000\">'sboTerm'</span> should be set on <span style=\"color: #008000; text-decoration-color: #008000\">'InitialAssignment()'</span>                                            <a href=\"file:///home/mkoenig/git/sbmlutils/src/sbmlutils/factory.py\" target=\"_blank\"><span style=\"color: #7f7f7f; text-decoration-color: #7f7f7f\">factory.py</span></a><span style=\"color: #7f7f7f; text-decoration-color: #7f7f7f\">:</span><a href=\"file:///home/mkoenig/git/sbmlutils/src/sbmlutils/factory.py#466\" target=\"_blank\"><span style=\"color: #7f7f7f; text-decoration-color: #7f7f7f\">466</span></a>\n",
       "</pre>\n"
      ],
      "text/plain": [
       "\u001b[31mWARNING \u001b[0m \u001b[32m'sboTerm'\u001b[0m should be set on \u001b[32m'InitialAssignment\u001b[0m\u001b[32m(\u001b[0m\u001b[32m)\u001b[0m\u001b[32m'\u001b[0m                                            \u001b]8;id=500697;file:///home/mkoenig/git/sbmlutils/src/sbmlutils/factory.py\u001b\\\u001b[2mfactory.py\u001b[0m\u001b]8;;\u001b\\\u001b[2m:\u001b[0m\u001b]8;id=450591;file:///home/mkoenig/git/sbmlutils/src/sbmlutils/factory.py#466\u001b\\\u001b[2m466\u001b[0m\u001b]8;;\u001b\\\n"
      ]
     },
     "metadata": {},
     "output_type": "display_data"
    },
    {
     "data": {
      "text/html": [
       "<pre style=\"white-space:pre;overflow-x:auto;line-height:normal;font-family:Menlo,'DejaVu Sans Mono',consolas,'Courier New',monospace\"><span style=\"color: #800000; text-decoration-color: #800000\">WARNING </span> <span style=\"color: #008000; text-decoration-color: #008000\">'name'</span> should be set on <span style=\"color: #008000; text-decoration-color: #008000\">'Parameter(p_gamma_1)'</span>                                              <a href=\"file:///home/mkoenig/git/sbmlutils/src/sbmlutils/factory.py\" target=\"_blank\"><span style=\"color: #7f7f7f; text-decoration-color: #7f7f7f\">factory.py</span></a><span style=\"color: #7f7f7f; text-decoration-color: #7f7f7f\">:</span><a href=\"file:///home/mkoenig/git/sbmlutils/src/sbmlutils/factory.py#441\" target=\"_blank\"><span style=\"color: #7f7f7f; text-decoration-color: #7f7f7f\">441</span></a>\n",
       "</pre>\n"
      ],
      "text/plain": [
       "\u001b[31mWARNING \u001b[0m \u001b[32m'name'\u001b[0m should be set on \u001b[32m'Parameter\u001b[0m\u001b[32m(\u001b[0m\u001b[32mp_gamma_1\u001b[0m\u001b[32m)\u001b[0m\u001b[32m'\u001b[0m                                              \u001b]8;id=628342;file:///home/mkoenig/git/sbmlutils/src/sbmlutils/factory.py\u001b\\\u001b[2mfactory.py\u001b[0m\u001b]8;;\u001b\\\u001b[2m:\u001b[0m\u001b]8;id=371142;file:///home/mkoenig/git/sbmlutils/src/sbmlutils/factory.py#441\u001b\\\u001b[2m441\u001b[0m\u001b]8;;\u001b\\\n"
      ]
     },
     "metadata": {},
     "output_type": "display_data"
    },
    {
     "data": {
      "text/html": [
       "<pre style=\"white-space:pre;overflow-x:auto;line-height:normal;font-family:Menlo,'DejaVu Sans Mono',consolas,'Courier New',monospace\"><span style=\"color: #800000; text-decoration-color: #800000\">WARNING </span> <span style=\"color: #008000; text-decoration-color: #008000\">'sboTerm'</span> should be set on <span style=\"color: #008000; text-decoration-color: #008000\">'Parameter(p_gamma_1)'</span>                                           <a href=\"file:///home/mkoenig/git/sbmlutils/src/sbmlutils/factory.py\" target=\"_blank\"><span style=\"color: #7f7f7f; text-decoration-color: #7f7f7f\">factory.py</span></a><span style=\"color: #7f7f7f; text-decoration-color: #7f7f7f\">:</span><a href=\"file:///home/mkoenig/git/sbmlutils/src/sbmlutils/factory.py#466\" target=\"_blank\"><span style=\"color: #7f7f7f; text-decoration-color: #7f7f7f\">466</span></a>\n",
       "</pre>\n"
      ],
      "text/plain": [
       "\u001b[31mWARNING \u001b[0m \u001b[32m'sboTerm'\u001b[0m should be set on \u001b[32m'Parameter\u001b[0m\u001b[32m(\u001b[0m\u001b[32mp_gamma_1\u001b[0m\u001b[32m)\u001b[0m\u001b[32m'\u001b[0m                                           \u001b]8;id=543261;file:///home/mkoenig/git/sbmlutils/src/sbmlutils/factory.py\u001b\\\u001b[2mfactory.py\u001b[0m\u001b]8;;\u001b\\\u001b[2m:\u001b[0m\u001b]8;id=319475;file:///home/mkoenig/git/sbmlutils/src/sbmlutils/factory.py#466\u001b\\\u001b[2m466\u001b[0m\u001b]8;;\u001b\\\n"
      ]
     },
     "metadata": {},
     "output_type": "display_data"
    },
    {
     "data": {
      "text/html": [
       "<pre style=\"white-space:pre;overflow-x:auto;line-height:normal;font-family:Menlo,'DejaVu Sans Mono',consolas,'Courier New',monospace\"><span style=\"color: #800000; text-decoration-color: #800000\">WARNING </span> <span style=\"color: #008000; text-decoration-color: #008000\">'name'</span> should be set on <span style=\"color: #008000; text-decoration-color: #008000\">'InitialAssignment()'</span>                                               <a href=\"file:///home/mkoenig/git/sbmlutils/src/sbmlutils/factory.py\" target=\"_blank\"><span style=\"color: #7f7f7f; text-decoration-color: #7f7f7f\">factory.py</span></a><span style=\"color: #7f7f7f; text-decoration-color: #7f7f7f\">:</span><a href=\"file:///home/mkoenig/git/sbmlutils/src/sbmlutils/factory.py#441\" target=\"_blank\"><span style=\"color: #7f7f7f; text-decoration-color: #7f7f7f\">441</span></a>\n",
       "</pre>\n"
      ],
      "text/plain": [
       "\u001b[31mWARNING \u001b[0m \u001b[32m'name'\u001b[0m should be set on \u001b[32m'InitialAssignment\u001b[0m\u001b[32m(\u001b[0m\u001b[32m)\u001b[0m\u001b[32m'\u001b[0m                                               \u001b]8;id=98497;file:///home/mkoenig/git/sbmlutils/src/sbmlutils/factory.py\u001b\\\u001b[2mfactory.py\u001b[0m\u001b]8;;\u001b\\\u001b[2m:\u001b[0m\u001b]8;id=550441;file:///home/mkoenig/git/sbmlutils/src/sbmlutils/factory.py#441\u001b\\\u001b[2m441\u001b[0m\u001b]8;;\u001b\\\n"
      ]
     },
     "metadata": {},
     "output_type": "display_data"
    },
    {
     "data": {
      "text/html": [
       "<pre style=\"white-space:pre;overflow-x:auto;line-height:normal;font-family:Menlo,'DejaVu Sans Mono',consolas,'Courier New',monospace\"><span style=\"color: #800000; text-decoration-color: #800000\">WARNING </span> <span style=\"color: #008000; text-decoration-color: #008000\">'sboTerm'</span> should be set on <span style=\"color: #008000; text-decoration-color: #008000\">'InitialAssignment()'</span>                                            <a href=\"file:///home/mkoenig/git/sbmlutils/src/sbmlutils/factory.py\" target=\"_blank\"><span style=\"color: #7f7f7f; text-decoration-color: #7f7f7f\">factory.py</span></a><span style=\"color: #7f7f7f; text-decoration-color: #7f7f7f\">:</span><a href=\"file:///home/mkoenig/git/sbmlutils/src/sbmlutils/factory.py#466\" target=\"_blank\"><span style=\"color: #7f7f7f; text-decoration-color: #7f7f7f\">466</span></a>\n",
       "</pre>\n"
      ],
      "text/plain": [
       "\u001b[31mWARNING \u001b[0m \u001b[32m'sboTerm'\u001b[0m should be set on \u001b[32m'InitialAssignment\u001b[0m\u001b[32m(\u001b[0m\u001b[32m)\u001b[0m\u001b[32m'\u001b[0m                                            \u001b]8;id=969959;file:///home/mkoenig/git/sbmlutils/src/sbmlutils/factory.py\u001b\\\u001b[2mfactory.py\u001b[0m\u001b]8;;\u001b\\\u001b[2m:\u001b[0m\u001b]8;id=123540;file:///home/mkoenig/git/sbmlutils/src/sbmlutils/factory.py#466\u001b\\\u001b[2m466\u001b[0m\u001b]8;;\u001b\\\n"
      ]
     },
     "metadata": {},
     "output_type": "display_data"
    },
    {
     "data": {
      "text/html": [
       "<pre style=\"white-space:pre;overflow-x:auto;line-height:normal;font-family:Menlo,'DejaVu Sans Mono',consolas,'Courier New',monospace\"><span style=\"color: #800000; text-decoration-color: #800000\">WARNING </span> <span style=\"color: #008000; text-decoration-color: #008000\">'name'</span> should be set on <span style=\"color: #008000; text-decoration-color: #008000\">'Parameter(p_gamma_2)'</span>                                              <a href=\"file:///home/mkoenig/git/sbmlutils/src/sbmlutils/factory.py\" target=\"_blank\"><span style=\"color: #7f7f7f; text-decoration-color: #7f7f7f\">factory.py</span></a><span style=\"color: #7f7f7f; text-decoration-color: #7f7f7f\">:</span><a href=\"file:///home/mkoenig/git/sbmlutils/src/sbmlutils/factory.py#441\" target=\"_blank\"><span style=\"color: #7f7f7f; text-decoration-color: #7f7f7f\">441</span></a>\n",
       "</pre>\n"
      ],
      "text/plain": [
       "\u001b[31mWARNING \u001b[0m \u001b[32m'name'\u001b[0m should be set on \u001b[32m'Parameter\u001b[0m\u001b[32m(\u001b[0m\u001b[32mp_gamma_2\u001b[0m\u001b[32m)\u001b[0m\u001b[32m'\u001b[0m                                              \u001b]8;id=274056;file:///home/mkoenig/git/sbmlutils/src/sbmlutils/factory.py\u001b\\\u001b[2mfactory.py\u001b[0m\u001b]8;;\u001b\\\u001b[2m:\u001b[0m\u001b]8;id=992982;file:///home/mkoenig/git/sbmlutils/src/sbmlutils/factory.py#441\u001b\\\u001b[2m441\u001b[0m\u001b]8;;\u001b\\\n"
      ]
     },
     "metadata": {},
     "output_type": "display_data"
    },
    {
     "data": {
      "text/html": [
       "<pre style=\"white-space:pre;overflow-x:auto;line-height:normal;font-family:Menlo,'DejaVu Sans Mono',consolas,'Courier New',monospace\"><span style=\"color: #800000; text-decoration-color: #800000\">WARNING </span> <span style=\"color: #008000; text-decoration-color: #008000\">'sboTerm'</span> should be set on <span style=\"color: #008000; text-decoration-color: #008000\">'Parameter(p_gamma_2)'</span>                                           <a href=\"file:///home/mkoenig/git/sbmlutils/src/sbmlutils/factory.py\" target=\"_blank\"><span style=\"color: #7f7f7f; text-decoration-color: #7f7f7f\">factory.py</span></a><span style=\"color: #7f7f7f; text-decoration-color: #7f7f7f\">:</span><a href=\"file:///home/mkoenig/git/sbmlutils/src/sbmlutils/factory.py#466\" target=\"_blank\"><span style=\"color: #7f7f7f; text-decoration-color: #7f7f7f\">466</span></a>\n",
       "</pre>\n"
      ],
      "text/plain": [
       "\u001b[31mWARNING \u001b[0m \u001b[32m'sboTerm'\u001b[0m should be set on \u001b[32m'Parameter\u001b[0m\u001b[32m(\u001b[0m\u001b[32mp_gamma_2\u001b[0m\u001b[32m)\u001b[0m\u001b[32m'\u001b[0m                                           \u001b]8;id=473858;file:///home/mkoenig/git/sbmlutils/src/sbmlutils/factory.py\u001b\\\u001b[2mfactory.py\u001b[0m\u001b]8;;\u001b\\\u001b[2m:\u001b[0m\u001b]8;id=509005;file:///home/mkoenig/git/sbmlutils/src/sbmlutils/factory.py#466\u001b\\\u001b[2m466\u001b[0m\u001b]8;;\u001b\\\n"
      ]
     },
     "metadata": {},
     "output_type": "display_data"
    },
    {
     "data": {
      "text/html": [
       "<pre style=\"white-space:pre;overflow-x:auto;line-height:normal;font-family:Menlo,'DejaVu Sans Mono',consolas,'Courier New',monospace\"><span style=\"color: #800000; text-decoration-color: #800000\">WARNING </span> <span style=\"color: #008000; text-decoration-color: #008000\">'name'</span> should be set on <span style=\"color: #008000; text-decoration-color: #008000\">'InitialAssignment()'</span>                                               <a href=\"file:///home/mkoenig/git/sbmlutils/src/sbmlutils/factory.py\" target=\"_blank\"><span style=\"color: #7f7f7f; text-decoration-color: #7f7f7f\">factory.py</span></a><span style=\"color: #7f7f7f; text-decoration-color: #7f7f7f\">:</span><a href=\"file:///home/mkoenig/git/sbmlutils/src/sbmlutils/factory.py#441\" target=\"_blank\"><span style=\"color: #7f7f7f; text-decoration-color: #7f7f7f\">441</span></a>\n",
       "</pre>\n"
      ],
      "text/plain": [
       "\u001b[31mWARNING \u001b[0m \u001b[32m'name'\u001b[0m should be set on \u001b[32m'InitialAssignment\u001b[0m\u001b[32m(\u001b[0m\u001b[32m)\u001b[0m\u001b[32m'\u001b[0m                                               \u001b]8;id=967161;file:///home/mkoenig/git/sbmlutils/src/sbmlutils/factory.py\u001b\\\u001b[2mfactory.py\u001b[0m\u001b]8;;\u001b\\\u001b[2m:\u001b[0m\u001b]8;id=197981;file:///home/mkoenig/git/sbmlutils/src/sbmlutils/factory.py#441\u001b\\\u001b[2m441\u001b[0m\u001b]8;;\u001b\\\n"
      ]
     },
     "metadata": {},
     "output_type": "display_data"
    },
    {
     "data": {
      "text/html": [
       "<pre style=\"white-space:pre;overflow-x:auto;line-height:normal;font-family:Menlo,'DejaVu Sans Mono',consolas,'Courier New',monospace\"><span style=\"color: #800000; text-decoration-color: #800000\">WARNING </span> <span style=\"color: #008000; text-decoration-color: #008000\">'sboTerm'</span> should be set on <span style=\"color: #008000; text-decoration-color: #008000\">'InitialAssignment()'</span>                                            <a href=\"file:///home/mkoenig/git/sbmlutils/src/sbmlutils/factory.py\" target=\"_blank\"><span style=\"color: #7f7f7f; text-decoration-color: #7f7f7f\">factory.py</span></a><span style=\"color: #7f7f7f; text-decoration-color: #7f7f7f\">:</span><a href=\"file:///home/mkoenig/git/sbmlutils/src/sbmlutils/factory.py#466\" target=\"_blank\"><span style=\"color: #7f7f7f; text-decoration-color: #7f7f7f\">466</span></a>\n",
       "</pre>\n"
      ],
      "text/plain": [
       "\u001b[31mWARNING \u001b[0m \u001b[32m'sboTerm'\u001b[0m should be set on \u001b[32m'InitialAssignment\u001b[0m\u001b[32m(\u001b[0m\u001b[32m)\u001b[0m\u001b[32m'\u001b[0m                                            \u001b]8;id=625166;file:///home/mkoenig/git/sbmlutils/src/sbmlutils/factory.py\u001b\\\u001b[2mfactory.py\u001b[0m\u001b]8;;\u001b\\\u001b[2m:\u001b[0m\u001b]8;id=231430;file:///home/mkoenig/git/sbmlutils/src/sbmlutils/factory.py#466\u001b\\\u001b[2m466\u001b[0m\u001b]8;;\u001b\\\n"
      ]
     },
     "metadata": {},
     "output_type": "display_data"
    },
    {
     "data": {
      "text/html": [
       "<pre style=\"white-space:pre;overflow-x:auto;line-height:normal;font-family:Menlo,'DejaVu Sans Mono',consolas,'Courier New',monospace\"><span style=\"color: #800000; text-decoration-color: #800000\">WARNING </span> <span style=\"color: #008000; text-decoration-color: #008000\">'name'</span> should be set on <span style=\"color: #008000; text-decoration-color: #008000\">'Parameter(p_laplace_1)'</span>                                            <a href=\"file:///home/mkoenig/git/sbmlutils/src/sbmlutils/factory.py\" target=\"_blank\"><span style=\"color: #7f7f7f; text-decoration-color: #7f7f7f\">factory.py</span></a><span style=\"color: #7f7f7f; text-decoration-color: #7f7f7f\">:</span><a href=\"file:///home/mkoenig/git/sbmlutils/src/sbmlutils/factory.py#441\" target=\"_blank\"><span style=\"color: #7f7f7f; text-decoration-color: #7f7f7f\">441</span></a>\n",
       "</pre>\n"
      ],
      "text/plain": [
       "\u001b[31mWARNING \u001b[0m \u001b[32m'name'\u001b[0m should be set on \u001b[32m'Parameter\u001b[0m\u001b[32m(\u001b[0m\u001b[32mp_laplace_1\u001b[0m\u001b[32m)\u001b[0m\u001b[32m'\u001b[0m                                            \u001b]8;id=585232;file:///home/mkoenig/git/sbmlutils/src/sbmlutils/factory.py\u001b\\\u001b[2mfactory.py\u001b[0m\u001b]8;;\u001b\\\u001b[2m:\u001b[0m\u001b]8;id=572223;file:///home/mkoenig/git/sbmlutils/src/sbmlutils/factory.py#441\u001b\\\u001b[2m441\u001b[0m\u001b]8;;\u001b\\\n"
      ]
     },
     "metadata": {},
     "output_type": "display_data"
    },
    {
     "data": {
      "text/html": [
       "<pre style=\"white-space:pre;overflow-x:auto;line-height:normal;font-family:Menlo,'DejaVu Sans Mono',consolas,'Courier New',monospace\"><span style=\"color: #800000; text-decoration-color: #800000\">WARNING </span> <span style=\"color: #008000; text-decoration-color: #008000\">'sboTerm'</span> should be set on <span style=\"color: #008000; text-decoration-color: #008000\">'Parameter(p_laplace_1)'</span>                                         <a href=\"file:///home/mkoenig/git/sbmlutils/src/sbmlutils/factory.py\" target=\"_blank\"><span style=\"color: #7f7f7f; text-decoration-color: #7f7f7f\">factory.py</span></a><span style=\"color: #7f7f7f; text-decoration-color: #7f7f7f\">:</span><a href=\"file:///home/mkoenig/git/sbmlutils/src/sbmlutils/factory.py#466\" target=\"_blank\"><span style=\"color: #7f7f7f; text-decoration-color: #7f7f7f\">466</span></a>\n",
       "</pre>\n"
      ],
      "text/plain": [
       "\u001b[31mWARNING \u001b[0m \u001b[32m'sboTerm'\u001b[0m should be set on \u001b[32m'Parameter\u001b[0m\u001b[32m(\u001b[0m\u001b[32mp_laplace_1\u001b[0m\u001b[32m)\u001b[0m\u001b[32m'\u001b[0m                                         \u001b]8;id=474886;file:///home/mkoenig/git/sbmlutils/src/sbmlutils/factory.py\u001b\\\u001b[2mfactory.py\u001b[0m\u001b]8;;\u001b\\\u001b[2m:\u001b[0m\u001b]8;id=279946;file:///home/mkoenig/git/sbmlutils/src/sbmlutils/factory.py#466\u001b\\\u001b[2m466\u001b[0m\u001b]8;;\u001b\\\n"
      ]
     },
     "metadata": {},
     "output_type": "display_data"
    },
    {
     "data": {
      "text/html": [
       "<pre style=\"white-space:pre;overflow-x:auto;line-height:normal;font-family:Menlo,'DejaVu Sans Mono',consolas,'Courier New',monospace\"><span style=\"color: #800000; text-decoration-color: #800000\">WARNING </span> <span style=\"color: #008000; text-decoration-color: #008000\">'name'</span> should be set on <span style=\"color: #008000; text-decoration-color: #008000\">'InitialAssignment()'</span>                                               <a href=\"file:///home/mkoenig/git/sbmlutils/src/sbmlutils/factory.py\" target=\"_blank\"><span style=\"color: #7f7f7f; text-decoration-color: #7f7f7f\">factory.py</span></a><span style=\"color: #7f7f7f; text-decoration-color: #7f7f7f\">:</span><a href=\"file:///home/mkoenig/git/sbmlutils/src/sbmlutils/factory.py#441\" target=\"_blank\"><span style=\"color: #7f7f7f; text-decoration-color: #7f7f7f\">441</span></a>\n",
       "</pre>\n"
      ],
      "text/plain": [
       "\u001b[31mWARNING \u001b[0m \u001b[32m'name'\u001b[0m should be set on \u001b[32m'InitialAssignment\u001b[0m\u001b[32m(\u001b[0m\u001b[32m)\u001b[0m\u001b[32m'\u001b[0m                                               \u001b]8;id=287403;file:///home/mkoenig/git/sbmlutils/src/sbmlutils/factory.py\u001b\\\u001b[2mfactory.py\u001b[0m\u001b]8;;\u001b\\\u001b[2m:\u001b[0m\u001b]8;id=473863;file:///home/mkoenig/git/sbmlutils/src/sbmlutils/factory.py#441\u001b\\\u001b[2m441\u001b[0m\u001b]8;;\u001b\\\n"
      ]
     },
     "metadata": {},
     "output_type": "display_data"
    },
    {
     "data": {
      "text/html": [
       "<pre style=\"white-space:pre;overflow-x:auto;line-height:normal;font-family:Menlo,'DejaVu Sans Mono',consolas,'Courier New',monospace\"><span style=\"color: #800000; text-decoration-color: #800000\">WARNING </span> <span style=\"color: #008000; text-decoration-color: #008000\">'sboTerm'</span> should be set on <span style=\"color: #008000; text-decoration-color: #008000\">'InitialAssignment()'</span>                                            <a href=\"file:///home/mkoenig/git/sbmlutils/src/sbmlutils/factory.py\" target=\"_blank\"><span style=\"color: #7f7f7f; text-decoration-color: #7f7f7f\">factory.py</span></a><span style=\"color: #7f7f7f; text-decoration-color: #7f7f7f\">:</span><a href=\"file:///home/mkoenig/git/sbmlutils/src/sbmlutils/factory.py#466\" target=\"_blank\"><span style=\"color: #7f7f7f; text-decoration-color: #7f7f7f\">466</span></a>\n",
       "</pre>\n"
      ],
      "text/plain": [
       "\u001b[31mWARNING \u001b[0m \u001b[32m'sboTerm'\u001b[0m should be set on \u001b[32m'InitialAssignment\u001b[0m\u001b[32m(\u001b[0m\u001b[32m)\u001b[0m\u001b[32m'\u001b[0m                                            \u001b]8;id=621896;file:///home/mkoenig/git/sbmlutils/src/sbmlutils/factory.py\u001b\\\u001b[2mfactory.py\u001b[0m\u001b]8;;\u001b\\\u001b[2m:\u001b[0m\u001b]8;id=344838;file:///home/mkoenig/git/sbmlutils/src/sbmlutils/factory.py#466\u001b\\\u001b[2m466\u001b[0m\u001b]8;;\u001b\\\n"
      ]
     },
     "metadata": {},
     "output_type": "display_data"
    },
    {
     "data": {
      "text/html": [
       "<pre style=\"white-space:pre;overflow-x:auto;line-height:normal;font-family:Menlo,'DejaVu Sans Mono',consolas,'Courier New',monospace\"><span style=\"color: #800000; text-decoration-color: #800000\">WARNING </span> <span style=\"color: #008000; text-decoration-color: #008000\">'name'</span> should be set on <span style=\"color: #008000; text-decoration-color: #008000\">'Parameter(p_laplace_2)'</span>                                            <a href=\"file:///home/mkoenig/git/sbmlutils/src/sbmlutils/factory.py\" target=\"_blank\"><span style=\"color: #7f7f7f; text-decoration-color: #7f7f7f\">factory.py</span></a><span style=\"color: #7f7f7f; text-decoration-color: #7f7f7f\">:</span><a href=\"file:///home/mkoenig/git/sbmlutils/src/sbmlutils/factory.py#441\" target=\"_blank\"><span style=\"color: #7f7f7f; text-decoration-color: #7f7f7f\">441</span></a>\n",
       "</pre>\n"
      ],
      "text/plain": [
       "\u001b[31mWARNING \u001b[0m \u001b[32m'name'\u001b[0m should be set on \u001b[32m'Parameter\u001b[0m\u001b[32m(\u001b[0m\u001b[32mp_laplace_2\u001b[0m\u001b[32m)\u001b[0m\u001b[32m'\u001b[0m                                            \u001b]8;id=363409;file:///home/mkoenig/git/sbmlutils/src/sbmlutils/factory.py\u001b\\\u001b[2mfactory.py\u001b[0m\u001b]8;;\u001b\\\u001b[2m:\u001b[0m\u001b]8;id=744443;file:///home/mkoenig/git/sbmlutils/src/sbmlutils/factory.py#441\u001b\\\u001b[2m441\u001b[0m\u001b]8;;\u001b\\\n"
      ]
     },
     "metadata": {},
     "output_type": "display_data"
    },
    {
     "data": {
      "text/html": [
       "<pre style=\"white-space:pre;overflow-x:auto;line-height:normal;font-family:Menlo,'DejaVu Sans Mono',consolas,'Courier New',monospace\"><span style=\"color: #800000; text-decoration-color: #800000\">WARNING </span> <span style=\"color: #008000; text-decoration-color: #008000\">'sboTerm'</span> should be set on <span style=\"color: #008000; text-decoration-color: #008000\">'Parameter(p_laplace_2)'</span>                                         <a href=\"file:///home/mkoenig/git/sbmlutils/src/sbmlutils/factory.py\" target=\"_blank\"><span style=\"color: #7f7f7f; text-decoration-color: #7f7f7f\">factory.py</span></a><span style=\"color: #7f7f7f; text-decoration-color: #7f7f7f\">:</span><a href=\"file:///home/mkoenig/git/sbmlutils/src/sbmlutils/factory.py#466\" target=\"_blank\"><span style=\"color: #7f7f7f; text-decoration-color: #7f7f7f\">466</span></a>\n",
       "</pre>\n"
      ],
      "text/plain": [
       "\u001b[31mWARNING \u001b[0m \u001b[32m'sboTerm'\u001b[0m should be set on \u001b[32m'Parameter\u001b[0m\u001b[32m(\u001b[0m\u001b[32mp_laplace_2\u001b[0m\u001b[32m)\u001b[0m\u001b[32m'\u001b[0m                                         \u001b]8;id=701540;file:///home/mkoenig/git/sbmlutils/src/sbmlutils/factory.py\u001b\\\u001b[2mfactory.py\u001b[0m\u001b]8;;\u001b\\\u001b[2m:\u001b[0m\u001b]8;id=253105;file:///home/mkoenig/git/sbmlutils/src/sbmlutils/factory.py#466\u001b\\\u001b[2m466\u001b[0m\u001b]8;;\u001b\\\n"
      ]
     },
     "metadata": {},
     "output_type": "display_data"
    },
    {
     "data": {
      "text/html": [
       "<pre style=\"white-space:pre;overflow-x:auto;line-height:normal;font-family:Menlo,'DejaVu Sans Mono',consolas,'Courier New',monospace\"><span style=\"color: #800000; text-decoration-color: #800000\">WARNING </span> <span style=\"color: #008000; text-decoration-color: #008000\">'name'</span> should be set on <span style=\"color: #008000; text-decoration-color: #008000\">'InitialAssignment()'</span>                                               <a href=\"file:///home/mkoenig/git/sbmlutils/src/sbmlutils/factory.py\" target=\"_blank\"><span style=\"color: #7f7f7f; text-decoration-color: #7f7f7f\">factory.py</span></a><span style=\"color: #7f7f7f; text-decoration-color: #7f7f7f\">:</span><a href=\"file:///home/mkoenig/git/sbmlutils/src/sbmlutils/factory.py#441\" target=\"_blank\"><span style=\"color: #7f7f7f; text-decoration-color: #7f7f7f\">441</span></a>\n",
       "</pre>\n"
      ],
      "text/plain": [
       "\u001b[31mWARNING \u001b[0m \u001b[32m'name'\u001b[0m should be set on \u001b[32m'InitialAssignment\u001b[0m\u001b[32m(\u001b[0m\u001b[32m)\u001b[0m\u001b[32m'\u001b[0m                                               \u001b]8;id=37485;file:///home/mkoenig/git/sbmlutils/src/sbmlutils/factory.py\u001b\\\u001b[2mfactory.py\u001b[0m\u001b]8;;\u001b\\\u001b[2m:\u001b[0m\u001b]8;id=944453;file:///home/mkoenig/git/sbmlutils/src/sbmlutils/factory.py#441\u001b\\\u001b[2m441\u001b[0m\u001b]8;;\u001b\\\n"
      ]
     },
     "metadata": {},
     "output_type": "display_data"
    },
    {
     "data": {
      "text/html": [
       "<pre style=\"white-space:pre;overflow-x:auto;line-height:normal;font-family:Menlo,'DejaVu Sans Mono',consolas,'Courier New',monospace\"><span style=\"color: #800000; text-decoration-color: #800000\">WARNING </span> <span style=\"color: #008000; text-decoration-color: #008000\">'sboTerm'</span> should be set on <span style=\"color: #008000; text-decoration-color: #008000\">'InitialAssignment()'</span>                                            <a href=\"file:///home/mkoenig/git/sbmlutils/src/sbmlutils/factory.py\" target=\"_blank\"><span style=\"color: #7f7f7f; text-decoration-color: #7f7f7f\">factory.py</span></a><span style=\"color: #7f7f7f; text-decoration-color: #7f7f7f\">:</span><a href=\"file:///home/mkoenig/git/sbmlutils/src/sbmlutils/factory.py#466\" target=\"_blank\"><span style=\"color: #7f7f7f; text-decoration-color: #7f7f7f\">466</span></a>\n",
       "</pre>\n"
      ],
      "text/plain": [
       "\u001b[31mWARNING \u001b[0m \u001b[32m'sboTerm'\u001b[0m should be set on \u001b[32m'InitialAssignment\u001b[0m\u001b[32m(\u001b[0m\u001b[32m)\u001b[0m\u001b[32m'\u001b[0m                                            \u001b]8;id=342313;file:///home/mkoenig/git/sbmlutils/src/sbmlutils/factory.py\u001b\\\u001b[2mfactory.py\u001b[0m\u001b]8;;\u001b\\\u001b[2m:\u001b[0m\u001b]8;id=414920;file:///home/mkoenig/git/sbmlutils/src/sbmlutils/factory.py#466\u001b\\\u001b[2m466\u001b[0m\u001b]8;;\u001b\\\n"
      ]
     },
     "metadata": {},
     "output_type": "display_data"
    },
    {
     "data": {
      "text/html": [
       "<pre style=\"white-space:pre;overflow-x:auto;line-height:normal;font-family:Menlo,'DejaVu Sans Mono',consolas,'Courier New',monospace\"><span style=\"color: #800000; text-decoration-color: #800000\">WARNING </span> <span style=\"color: #008000; text-decoration-color: #008000\">'name'</span> should be set on <span style=\"color: #008000; text-decoration-color: #008000\">'Parameter(p_lognormal_1)'</span>                                          <a href=\"file:///home/mkoenig/git/sbmlutils/src/sbmlutils/factory.py\" target=\"_blank\"><span style=\"color: #7f7f7f; text-decoration-color: #7f7f7f\">factory.py</span></a><span style=\"color: #7f7f7f; text-decoration-color: #7f7f7f\">:</span><a href=\"file:///home/mkoenig/git/sbmlutils/src/sbmlutils/factory.py#441\" target=\"_blank\"><span style=\"color: #7f7f7f; text-decoration-color: #7f7f7f\">441</span></a>\n",
       "</pre>\n"
      ],
      "text/plain": [
       "\u001b[31mWARNING \u001b[0m \u001b[32m'name'\u001b[0m should be set on \u001b[32m'Parameter\u001b[0m\u001b[32m(\u001b[0m\u001b[32mp_lognormal_1\u001b[0m\u001b[32m)\u001b[0m\u001b[32m'\u001b[0m                                          \u001b]8;id=768059;file:///home/mkoenig/git/sbmlutils/src/sbmlutils/factory.py\u001b\\\u001b[2mfactory.py\u001b[0m\u001b]8;;\u001b\\\u001b[2m:\u001b[0m\u001b]8;id=986232;file:///home/mkoenig/git/sbmlutils/src/sbmlutils/factory.py#441\u001b\\\u001b[2m441\u001b[0m\u001b]8;;\u001b\\\n"
      ]
     },
     "metadata": {},
     "output_type": "display_data"
    },
    {
     "data": {
      "text/html": [
       "<pre style=\"white-space:pre;overflow-x:auto;line-height:normal;font-family:Menlo,'DejaVu Sans Mono',consolas,'Courier New',monospace\"><span style=\"color: #800000; text-decoration-color: #800000\">WARNING </span> <span style=\"color: #008000; text-decoration-color: #008000\">'sboTerm'</span> should be set on <span style=\"color: #008000; text-decoration-color: #008000\">'Parameter(p_lognormal_1)'</span>                                       <a href=\"file:///home/mkoenig/git/sbmlutils/src/sbmlutils/factory.py\" target=\"_blank\"><span style=\"color: #7f7f7f; text-decoration-color: #7f7f7f\">factory.py</span></a><span style=\"color: #7f7f7f; text-decoration-color: #7f7f7f\">:</span><a href=\"file:///home/mkoenig/git/sbmlutils/src/sbmlutils/factory.py#466\" target=\"_blank\"><span style=\"color: #7f7f7f; text-decoration-color: #7f7f7f\">466</span></a>\n",
       "</pre>\n"
      ],
      "text/plain": [
       "\u001b[31mWARNING \u001b[0m \u001b[32m'sboTerm'\u001b[0m should be set on \u001b[32m'Parameter\u001b[0m\u001b[32m(\u001b[0m\u001b[32mp_lognormal_1\u001b[0m\u001b[32m)\u001b[0m\u001b[32m'\u001b[0m                                       \u001b]8;id=716755;file:///home/mkoenig/git/sbmlutils/src/sbmlutils/factory.py\u001b\\\u001b[2mfactory.py\u001b[0m\u001b]8;;\u001b\\\u001b[2m:\u001b[0m\u001b]8;id=794478;file:///home/mkoenig/git/sbmlutils/src/sbmlutils/factory.py#466\u001b\\\u001b[2m466\u001b[0m\u001b]8;;\u001b\\\n"
      ]
     },
     "metadata": {},
     "output_type": "display_data"
    },
    {
     "data": {
      "text/html": [
       "<pre style=\"white-space:pre;overflow-x:auto;line-height:normal;font-family:Menlo,'DejaVu Sans Mono',consolas,'Courier New',monospace\"><span style=\"color: #800000; text-decoration-color: #800000\">WARNING </span> <span style=\"color: #008000; text-decoration-color: #008000\">'name'</span> should be set on <span style=\"color: #008000; text-decoration-color: #008000\">'InitialAssignment()'</span>                                               <a href=\"file:///home/mkoenig/git/sbmlutils/src/sbmlutils/factory.py\" target=\"_blank\"><span style=\"color: #7f7f7f; text-decoration-color: #7f7f7f\">factory.py</span></a><span style=\"color: #7f7f7f; text-decoration-color: #7f7f7f\">:</span><a href=\"file:///home/mkoenig/git/sbmlutils/src/sbmlutils/factory.py#441\" target=\"_blank\"><span style=\"color: #7f7f7f; text-decoration-color: #7f7f7f\">441</span></a>\n",
       "</pre>\n"
      ],
      "text/plain": [
       "\u001b[31mWARNING \u001b[0m \u001b[32m'name'\u001b[0m should be set on \u001b[32m'InitialAssignment\u001b[0m\u001b[32m(\u001b[0m\u001b[32m)\u001b[0m\u001b[32m'\u001b[0m                                               \u001b]8;id=780595;file:///home/mkoenig/git/sbmlutils/src/sbmlutils/factory.py\u001b\\\u001b[2mfactory.py\u001b[0m\u001b]8;;\u001b\\\u001b[2m:\u001b[0m\u001b]8;id=765811;file:///home/mkoenig/git/sbmlutils/src/sbmlutils/factory.py#441\u001b\\\u001b[2m441\u001b[0m\u001b]8;;\u001b\\\n"
      ]
     },
     "metadata": {},
     "output_type": "display_data"
    },
    {
     "data": {
      "text/html": [
       "<pre style=\"white-space:pre;overflow-x:auto;line-height:normal;font-family:Menlo,'DejaVu Sans Mono',consolas,'Courier New',monospace\"><span style=\"color: #800000; text-decoration-color: #800000\">WARNING </span> <span style=\"color: #008000; text-decoration-color: #008000\">'sboTerm'</span> should be set on <span style=\"color: #008000; text-decoration-color: #008000\">'InitialAssignment()'</span>                                            <a href=\"file:///home/mkoenig/git/sbmlutils/src/sbmlutils/factory.py\" target=\"_blank\"><span style=\"color: #7f7f7f; text-decoration-color: #7f7f7f\">factory.py</span></a><span style=\"color: #7f7f7f; text-decoration-color: #7f7f7f\">:</span><a href=\"file:///home/mkoenig/git/sbmlutils/src/sbmlutils/factory.py#466\" target=\"_blank\"><span style=\"color: #7f7f7f; text-decoration-color: #7f7f7f\">466</span></a>\n",
       "</pre>\n"
      ],
      "text/plain": [
       "\u001b[31mWARNING \u001b[0m \u001b[32m'sboTerm'\u001b[0m should be set on \u001b[32m'InitialAssignment\u001b[0m\u001b[32m(\u001b[0m\u001b[32m)\u001b[0m\u001b[32m'\u001b[0m                                            \u001b]8;id=752897;file:///home/mkoenig/git/sbmlutils/src/sbmlutils/factory.py\u001b\\\u001b[2mfactory.py\u001b[0m\u001b]8;;\u001b\\\u001b[2m:\u001b[0m\u001b]8;id=514930;file:///home/mkoenig/git/sbmlutils/src/sbmlutils/factory.py#466\u001b\\\u001b[2m466\u001b[0m\u001b]8;;\u001b\\\n"
      ]
     },
     "metadata": {},
     "output_type": "display_data"
    },
    {
     "data": {
      "text/html": [
       "<pre style=\"white-space:pre;overflow-x:auto;line-height:normal;font-family:Menlo,'DejaVu Sans Mono',consolas,'Courier New',monospace\"><span style=\"color: #800000; text-decoration-color: #800000\">WARNING </span> <span style=\"color: #008000; text-decoration-color: #008000\">'name'</span> should be set on <span style=\"color: #008000; text-decoration-color: #008000\">'Parameter(p_lognormal_2)'</span>                                          <a href=\"file:///home/mkoenig/git/sbmlutils/src/sbmlutils/factory.py\" target=\"_blank\"><span style=\"color: #7f7f7f; text-decoration-color: #7f7f7f\">factory.py</span></a><span style=\"color: #7f7f7f; text-decoration-color: #7f7f7f\">:</span><a href=\"file:///home/mkoenig/git/sbmlutils/src/sbmlutils/factory.py#441\" target=\"_blank\"><span style=\"color: #7f7f7f; text-decoration-color: #7f7f7f\">441</span></a>\n",
       "</pre>\n"
      ],
      "text/plain": [
       "\u001b[31mWARNING \u001b[0m \u001b[32m'name'\u001b[0m should be set on \u001b[32m'Parameter\u001b[0m\u001b[32m(\u001b[0m\u001b[32mp_lognormal_2\u001b[0m\u001b[32m)\u001b[0m\u001b[32m'\u001b[0m                                          \u001b]8;id=249845;file:///home/mkoenig/git/sbmlutils/src/sbmlutils/factory.py\u001b\\\u001b[2mfactory.py\u001b[0m\u001b]8;;\u001b\\\u001b[2m:\u001b[0m\u001b]8;id=272970;file:///home/mkoenig/git/sbmlutils/src/sbmlutils/factory.py#441\u001b\\\u001b[2m441\u001b[0m\u001b]8;;\u001b\\\n"
      ]
     },
     "metadata": {},
     "output_type": "display_data"
    },
    {
     "data": {
      "text/html": [
       "<pre style=\"white-space:pre;overflow-x:auto;line-height:normal;font-family:Menlo,'DejaVu Sans Mono',consolas,'Courier New',monospace\"><span style=\"color: #800000; text-decoration-color: #800000\">WARNING </span> <span style=\"color: #008000; text-decoration-color: #008000\">'sboTerm'</span> should be set on <span style=\"color: #008000; text-decoration-color: #008000\">'Parameter(p_lognormal_2)'</span>                                       <a href=\"file:///home/mkoenig/git/sbmlutils/src/sbmlutils/factory.py\" target=\"_blank\"><span style=\"color: #7f7f7f; text-decoration-color: #7f7f7f\">factory.py</span></a><span style=\"color: #7f7f7f; text-decoration-color: #7f7f7f\">:</span><a href=\"file:///home/mkoenig/git/sbmlutils/src/sbmlutils/factory.py#466\" target=\"_blank\"><span style=\"color: #7f7f7f; text-decoration-color: #7f7f7f\">466</span></a>\n",
       "</pre>\n"
      ],
      "text/plain": [
       "\u001b[31mWARNING \u001b[0m \u001b[32m'sboTerm'\u001b[0m should be set on \u001b[32m'Parameter\u001b[0m\u001b[32m(\u001b[0m\u001b[32mp_lognormal_2\u001b[0m\u001b[32m)\u001b[0m\u001b[32m'\u001b[0m                                       \u001b]8;id=236551;file:///home/mkoenig/git/sbmlutils/src/sbmlutils/factory.py\u001b\\\u001b[2mfactory.py\u001b[0m\u001b]8;;\u001b\\\u001b[2m:\u001b[0m\u001b]8;id=681773;file:///home/mkoenig/git/sbmlutils/src/sbmlutils/factory.py#466\u001b\\\u001b[2m466\u001b[0m\u001b]8;;\u001b\\\n"
      ]
     },
     "metadata": {},
     "output_type": "display_data"
    },
    {
     "data": {
      "text/html": [
       "<pre style=\"white-space:pre;overflow-x:auto;line-height:normal;font-family:Menlo,'DejaVu Sans Mono',consolas,'Courier New',monospace\"><span style=\"color: #800000; text-decoration-color: #800000\">WARNING </span> <span style=\"color: #008000; text-decoration-color: #008000\">'name'</span> should be set on <span style=\"color: #008000; text-decoration-color: #008000\">'InitialAssignment()'</span>                                               <a href=\"file:///home/mkoenig/git/sbmlutils/src/sbmlutils/factory.py\" target=\"_blank\"><span style=\"color: #7f7f7f; text-decoration-color: #7f7f7f\">factory.py</span></a><span style=\"color: #7f7f7f; text-decoration-color: #7f7f7f\">:</span><a href=\"file:///home/mkoenig/git/sbmlutils/src/sbmlutils/factory.py#441\" target=\"_blank\"><span style=\"color: #7f7f7f; text-decoration-color: #7f7f7f\">441</span></a>\n",
       "</pre>\n"
      ],
      "text/plain": [
       "\u001b[31mWARNING \u001b[0m \u001b[32m'name'\u001b[0m should be set on \u001b[32m'InitialAssignment\u001b[0m\u001b[32m(\u001b[0m\u001b[32m)\u001b[0m\u001b[32m'\u001b[0m                                               \u001b]8;id=86776;file:///home/mkoenig/git/sbmlutils/src/sbmlutils/factory.py\u001b\\\u001b[2mfactory.py\u001b[0m\u001b]8;;\u001b\\\u001b[2m:\u001b[0m\u001b]8;id=723179;file:///home/mkoenig/git/sbmlutils/src/sbmlutils/factory.py#441\u001b\\\u001b[2m441\u001b[0m\u001b]8;;\u001b\\\n"
      ]
     },
     "metadata": {},
     "output_type": "display_data"
    },
    {
     "data": {
      "text/html": [
       "<pre style=\"white-space:pre;overflow-x:auto;line-height:normal;font-family:Menlo,'DejaVu Sans Mono',consolas,'Courier New',monospace\"><span style=\"color: #800000; text-decoration-color: #800000\">WARNING </span> <span style=\"color: #008000; text-decoration-color: #008000\">'sboTerm'</span> should be set on <span style=\"color: #008000; text-decoration-color: #008000\">'InitialAssignment()'</span>                                            <a href=\"file:///home/mkoenig/git/sbmlutils/src/sbmlutils/factory.py\" target=\"_blank\"><span style=\"color: #7f7f7f; text-decoration-color: #7f7f7f\">factory.py</span></a><span style=\"color: #7f7f7f; text-decoration-color: #7f7f7f\">:</span><a href=\"file:///home/mkoenig/git/sbmlutils/src/sbmlutils/factory.py#466\" target=\"_blank\"><span style=\"color: #7f7f7f; text-decoration-color: #7f7f7f\">466</span></a>\n",
       "</pre>\n"
      ],
      "text/plain": [
       "\u001b[31mWARNING \u001b[0m \u001b[32m'sboTerm'\u001b[0m should be set on \u001b[32m'InitialAssignment\u001b[0m\u001b[32m(\u001b[0m\u001b[32m)\u001b[0m\u001b[32m'\u001b[0m                                            \u001b]8;id=199470;file:///home/mkoenig/git/sbmlutils/src/sbmlutils/factory.py\u001b\\\u001b[2mfactory.py\u001b[0m\u001b]8;;\u001b\\\u001b[2m:\u001b[0m\u001b]8;id=929798;file:///home/mkoenig/git/sbmlutils/src/sbmlutils/factory.py#466\u001b\\\u001b[2m466\u001b[0m\u001b]8;;\u001b\\\n"
      ]
     },
     "metadata": {},
     "output_type": "display_data"
    },
    {
     "data": {
      "text/html": [
       "<pre style=\"white-space:pre;overflow-x:auto;line-height:normal;font-family:Menlo,'DejaVu Sans Mono',consolas,'Courier New',monospace\"><span style=\"color: #800000; text-decoration-color: #800000\">WARNING </span> <span style=\"color: #008000; text-decoration-color: #008000\">'name'</span> should be set on <span style=\"color: #008000; text-decoration-color: #008000\">'Parameter(p_poisson_1)'</span>                                            <a href=\"file:///home/mkoenig/git/sbmlutils/src/sbmlutils/factory.py\" target=\"_blank\"><span style=\"color: #7f7f7f; text-decoration-color: #7f7f7f\">factory.py</span></a><span style=\"color: #7f7f7f; text-decoration-color: #7f7f7f\">:</span><a href=\"file:///home/mkoenig/git/sbmlutils/src/sbmlutils/factory.py#441\" target=\"_blank\"><span style=\"color: #7f7f7f; text-decoration-color: #7f7f7f\">441</span></a>\n",
       "</pre>\n"
      ],
      "text/plain": [
       "\u001b[31mWARNING \u001b[0m \u001b[32m'name'\u001b[0m should be set on \u001b[32m'Parameter\u001b[0m\u001b[32m(\u001b[0m\u001b[32mp_poisson_1\u001b[0m\u001b[32m)\u001b[0m\u001b[32m'\u001b[0m                                            \u001b]8;id=29936;file:///home/mkoenig/git/sbmlutils/src/sbmlutils/factory.py\u001b\\\u001b[2mfactory.py\u001b[0m\u001b]8;;\u001b\\\u001b[2m:\u001b[0m\u001b]8;id=327109;file:///home/mkoenig/git/sbmlutils/src/sbmlutils/factory.py#441\u001b\\\u001b[2m441\u001b[0m\u001b]8;;\u001b\\\n"
      ]
     },
     "metadata": {},
     "output_type": "display_data"
    },
    {
     "data": {
      "text/html": [
       "<pre style=\"white-space:pre;overflow-x:auto;line-height:normal;font-family:Menlo,'DejaVu Sans Mono',consolas,'Courier New',monospace\"><span style=\"color: #800000; text-decoration-color: #800000\">WARNING </span> <span style=\"color: #008000; text-decoration-color: #008000\">'sboTerm'</span> should be set on <span style=\"color: #008000; text-decoration-color: #008000\">'Parameter(p_poisson_1)'</span>                                         <a href=\"file:///home/mkoenig/git/sbmlutils/src/sbmlutils/factory.py\" target=\"_blank\"><span style=\"color: #7f7f7f; text-decoration-color: #7f7f7f\">factory.py</span></a><span style=\"color: #7f7f7f; text-decoration-color: #7f7f7f\">:</span><a href=\"file:///home/mkoenig/git/sbmlutils/src/sbmlutils/factory.py#466\" target=\"_blank\"><span style=\"color: #7f7f7f; text-decoration-color: #7f7f7f\">466</span></a>\n",
       "</pre>\n"
      ],
      "text/plain": [
       "\u001b[31mWARNING \u001b[0m \u001b[32m'sboTerm'\u001b[0m should be set on \u001b[32m'Parameter\u001b[0m\u001b[32m(\u001b[0m\u001b[32mp_poisson_1\u001b[0m\u001b[32m)\u001b[0m\u001b[32m'\u001b[0m                                         \u001b]8;id=294930;file:///home/mkoenig/git/sbmlutils/src/sbmlutils/factory.py\u001b\\\u001b[2mfactory.py\u001b[0m\u001b]8;;\u001b\\\u001b[2m:\u001b[0m\u001b]8;id=543517;file:///home/mkoenig/git/sbmlutils/src/sbmlutils/factory.py#466\u001b\\\u001b[2m466\u001b[0m\u001b]8;;\u001b\\\n"
      ]
     },
     "metadata": {},
     "output_type": "display_data"
    },
    {
     "data": {
      "text/html": [
       "<pre style=\"white-space:pre;overflow-x:auto;line-height:normal;font-family:Menlo,'DejaVu Sans Mono',consolas,'Courier New',monospace\"><span style=\"color: #800000; text-decoration-color: #800000\">WARNING </span> <span style=\"color: #008000; text-decoration-color: #008000\">'name'</span> should be set on <span style=\"color: #008000; text-decoration-color: #008000\">'InitialAssignment()'</span>                                               <a href=\"file:///home/mkoenig/git/sbmlutils/src/sbmlutils/factory.py\" target=\"_blank\"><span style=\"color: #7f7f7f; text-decoration-color: #7f7f7f\">factory.py</span></a><span style=\"color: #7f7f7f; text-decoration-color: #7f7f7f\">:</span><a href=\"file:///home/mkoenig/git/sbmlutils/src/sbmlutils/factory.py#441\" target=\"_blank\"><span style=\"color: #7f7f7f; text-decoration-color: #7f7f7f\">441</span></a>\n",
       "</pre>\n"
      ],
      "text/plain": [
       "\u001b[31mWARNING \u001b[0m \u001b[32m'name'\u001b[0m should be set on \u001b[32m'InitialAssignment\u001b[0m\u001b[32m(\u001b[0m\u001b[32m)\u001b[0m\u001b[32m'\u001b[0m                                               \u001b]8;id=538146;file:///home/mkoenig/git/sbmlutils/src/sbmlutils/factory.py\u001b\\\u001b[2mfactory.py\u001b[0m\u001b]8;;\u001b\\\u001b[2m:\u001b[0m\u001b]8;id=956232;file:///home/mkoenig/git/sbmlutils/src/sbmlutils/factory.py#441\u001b\\\u001b[2m441\u001b[0m\u001b]8;;\u001b\\\n"
      ]
     },
     "metadata": {},
     "output_type": "display_data"
    },
    {
     "data": {
      "text/html": [
       "<pre style=\"white-space:pre;overflow-x:auto;line-height:normal;font-family:Menlo,'DejaVu Sans Mono',consolas,'Courier New',monospace\"><span style=\"color: #800000; text-decoration-color: #800000\">WARNING </span> <span style=\"color: #008000; text-decoration-color: #008000\">'sboTerm'</span> should be set on <span style=\"color: #008000; text-decoration-color: #008000\">'InitialAssignment()'</span>                                            <a href=\"file:///home/mkoenig/git/sbmlutils/src/sbmlutils/factory.py\" target=\"_blank\"><span style=\"color: #7f7f7f; text-decoration-color: #7f7f7f\">factory.py</span></a><span style=\"color: #7f7f7f; text-decoration-color: #7f7f7f\">:</span><a href=\"file:///home/mkoenig/git/sbmlutils/src/sbmlutils/factory.py#466\" target=\"_blank\"><span style=\"color: #7f7f7f; text-decoration-color: #7f7f7f\">466</span></a>\n",
       "</pre>\n"
      ],
      "text/plain": [
       "\u001b[31mWARNING \u001b[0m \u001b[32m'sboTerm'\u001b[0m should be set on \u001b[32m'InitialAssignment\u001b[0m\u001b[32m(\u001b[0m\u001b[32m)\u001b[0m\u001b[32m'\u001b[0m                                            \u001b]8;id=638927;file:///home/mkoenig/git/sbmlutils/src/sbmlutils/factory.py\u001b\\\u001b[2mfactory.py\u001b[0m\u001b]8;;\u001b\\\u001b[2m:\u001b[0m\u001b]8;id=656540;file:///home/mkoenig/git/sbmlutils/src/sbmlutils/factory.py#466\u001b\\\u001b[2m466\u001b[0m\u001b]8;;\u001b\\\n"
      ]
     },
     "metadata": {},
     "output_type": "display_data"
    },
    {
     "data": {
      "text/html": [
       "<pre style=\"white-space:pre;overflow-x:auto;line-height:normal;font-family:Menlo,'DejaVu Sans Mono',consolas,'Courier New',monospace\"><span style=\"color: #800000; text-decoration-color: #800000\">WARNING </span> <span style=\"color: #008000; text-decoration-color: #008000\">'name'</span> should be set on <span style=\"color: #008000; text-decoration-color: #008000\">'Parameter(p_poisson_2)'</span>                                            <a href=\"file:///home/mkoenig/git/sbmlutils/src/sbmlutils/factory.py\" target=\"_blank\"><span style=\"color: #7f7f7f; text-decoration-color: #7f7f7f\">factory.py</span></a><span style=\"color: #7f7f7f; text-decoration-color: #7f7f7f\">:</span><a href=\"file:///home/mkoenig/git/sbmlutils/src/sbmlutils/factory.py#441\" target=\"_blank\"><span style=\"color: #7f7f7f; text-decoration-color: #7f7f7f\">441</span></a>\n",
       "</pre>\n"
      ],
      "text/plain": [
       "\u001b[31mWARNING \u001b[0m \u001b[32m'name'\u001b[0m should be set on \u001b[32m'Parameter\u001b[0m\u001b[32m(\u001b[0m\u001b[32mp_poisson_2\u001b[0m\u001b[32m)\u001b[0m\u001b[32m'\u001b[0m                                            \u001b]8;id=333503;file:///home/mkoenig/git/sbmlutils/src/sbmlutils/factory.py\u001b\\\u001b[2mfactory.py\u001b[0m\u001b]8;;\u001b\\\u001b[2m:\u001b[0m\u001b]8;id=913813;file:///home/mkoenig/git/sbmlutils/src/sbmlutils/factory.py#441\u001b\\\u001b[2m441\u001b[0m\u001b]8;;\u001b\\\n"
      ]
     },
     "metadata": {},
     "output_type": "display_data"
    },
    {
     "data": {
      "text/html": [
       "<pre style=\"white-space:pre;overflow-x:auto;line-height:normal;font-family:Menlo,'DejaVu Sans Mono',consolas,'Courier New',monospace\"><span style=\"color: #800000; text-decoration-color: #800000\">WARNING </span> <span style=\"color: #008000; text-decoration-color: #008000\">'sboTerm'</span> should be set on <span style=\"color: #008000; text-decoration-color: #008000\">'Parameter(p_poisson_2)'</span>                                         <a href=\"file:///home/mkoenig/git/sbmlutils/src/sbmlutils/factory.py\" target=\"_blank\"><span style=\"color: #7f7f7f; text-decoration-color: #7f7f7f\">factory.py</span></a><span style=\"color: #7f7f7f; text-decoration-color: #7f7f7f\">:</span><a href=\"file:///home/mkoenig/git/sbmlutils/src/sbmlutils/factory.py#466\" target=\"_blank\"><span style=\"color: #7f7f7f; text-decoration-color: #7f7f7f\">466</span></a>\n",
       "</pre>\n"
      ],
      "text/plain": [
       "\u001b[31mWARNING \u001b[0m \u001b[32m'sboTerm'\u001b[0m should be set on \u001b[32m'Parameter\u001b[0m\u001b[32m(\u001b[0m\u001b[32mp_poisson_2\u001b[0m\u001b[32m)\u001b[0m\u001b[32m'\u001b[0m                                         \u001b]8;id=511573;file:///home/mkoenig/git/sbmlutils/src/sbmlutils/factory.py\u001b\\\u001b[2mfactory.py\u001b[0m\u001b]8;;\u001b\\\u001b[2m:\u001b[0m\u001b]8;id=680751;file:///home/mkoenig/git/sbmlutils/src/sbmlutils/factory.py#466\u001b\\\u001b[2m466\u001b[0m\u001b]8;;\u001b\\\n"
      ]
     },
     "metadata": {},
     "output_type": "display_data"
    },
    {
     "data": {
      "text/html": [
       "<pre style=\"white-space:pre;overflow-x:auto;line-height:normal;font-family:Menlo,'DejaVu Sans Mono',consolas,'Courier New',monospace\"><span style=\"color: #800000; text-decoration-color: #800000\">WARNING </span> <span style=\"color: #008000; text-decoration-color: #008000\">'name'</span> should be set on <span style=\"color: #008000; text-decoration-color: #008000\">'InitialAssignment()'</span>                                               <a href=\"file:///home/mkoenig/git/sbmlutils/src/sbmlutils/factory.py\" target=\"_blank\"><span style=\"color: #7f7f7f; text-decoration-color: #7f7f7f\">factory.py</span></a><span style=\"color: #7f7f7f; text-decoration-color: #7f7f7f\">:</span><a href=\"file:///home/mkoenig/git/sbmlutils/src/sbmlutils/factory.py#441\" target=\"_blank\"><span style=\"color: #7f7f7f; text-decoration-color: #7f7f7f\">441</span></a>\n",
       "</pre>\n"
      ],
      "text/plain": [
       "\u001b[31mWARNING \u001b[0m \u001b[32m'name'\u001b[0m should be set on \u001b[32m'InitialAssignment\u001b[0m\u001b[32m(\u001b[0m\u001b[32m)\u001b[0m\u001b[32m'\u001b[0m                                               \u001b]8;id=702012;file:///home/mkoenig/git/sbmlutils/src/sbmlutils/factory.py\u001b\\\u001b[2mfactory.py\u001b[0m\u001b]8;;\u001b\\\u001b[2m:\u001b[0m\u001b]8;id=555038;file:///home/mkoenig/git/sbmlutils/src/sbmlutils/factory.py#441\u001b\\\u001b[2m441\u001b[0m\u001b]8;;\u001b\\\n"
      ]
     },
     "metadata": {},
     "output_type": "display_data"
    },
    {
     "data": {
      "text/html": [
       "<pre style=\"white-space:pre;overflow-x:auto;line-height:normal;font-family:Menlo,'DejaVu Sans Mono',consolas,'Courier New',monospace\"><span style=\"color: #800000; text-decoration-color: #800000\">WARNING </span> <span style=\"color: #008000; text-decoration-color: #008000\">'sboTerm'</span> should be set on <span style=\"color: #008000; text-decoration-color: #008000\">'InitialAssignment()'</span>                                            <a href=\"file:///home/mkoenig/git/sbmlutils/src/sbmlutils/factory.py\" target=\"_blank\"><span style=\"color: #7f7f7f; text-decoration-color: #7f7f7f\">factory.py</span></a><span style=\"color: #7f7f7f; text-decoration-color: #7f7f7f\">:</span><a href=\"file:///home/mkoenig/git/sbmlutils/src/sbmlutils/factory.py#466\" target=\"_blank\"><span style=\"color: #7f7f7f; text-decoration-color: #7f7f7f\">466</span></a>\n",
       "</pre>\n"
      ],
      "text/plain": [
       "\u001b[31mWARNING \u001b[0m \u001b[32m'sboTerm'\u001b[0m should be set on \u001b[32m'InitialAssignment\u001b[0m\u001b[32m(\u001b[0m\u001b[32m)\u001b[0m\u001b[32m'\u001b[0m                                            \u001b]8;id=478774;file:///home/mkoenig/git/sbmlutils/src/sbmlutils/factory.py\u001b\\\u001b[2mfactory.py\u001b[0m\u001b]8;;\u001b\\\u001b[2m:\u001b[0m\u001b]8;id=527166;file:///home/mkoenig/git/sbmlutils/src/sbmlutils/factory.py#466\u001b\\\u001b[2m466\u001b[0m\u001b]8;;\u001b\\\n"
      ]
     },
     "metadata": {},
     "output_type": "display_data"
    },
    {
     "data": {
      "text/html": [
       "<pre style=\"white-space:pre;overflow-x:auto;line-height:normal;font-family:Menlo,'DejaVu Sans Mono',consolas,'Courier New',monospace\"><span style=\"color: #800000; text-decoration-color: #800000\">WARNING </span> <span style=\"color: #008000; text-decoration-color: #008000\">'name'</span> should be set on <span style=\"color: #008000; text-decoration-color: #008000\">'Parameter(p_raleigh_1)'</span>                                            <a href=\"file:///home/mkoenig/git/sbmlutils/src/sbmlutils/factory.py\" target=\"_blank\"><span style=\"color: #7f7f7f; text-decoration-color: #7f7f7f\">factory.py</span></a><span style=\"color: #7f7f7f; text-decoration-color: #7f7f7f\">:</span><a href=\"file:///home/mkoenig/git/sbmlutils/src/sbmlutils/factory.py#441\" target=\"_blank\"><span style=\"color: #7f7f7f; text-decoration-color: #7f7f7f\">441</span></a>\n",
       "</pre>\n"
      ],
      "text/plain": [
       "\u001b[31mWARNING \u001b[0m \u001b[32m'name'\u001b[0m should be set on \u001b[32m'Parameter\u001b[0m\u001b[32m(\u001b[0m\u001b[32mp_raleigh_1\u001b[0m\u001b[32m)\u001b[0m\u001b[32m'\u001b[0m                                            \u001b]8;id=415878;file:///home/mkoenig/git/sbmlutils/src/sbmlutils/factory.py\u001b\\\u001b[2mfactory.py\u001b[0m\u001b]8;;\u001b\\\u001b[2m:\u001b[0m\u001b]8;id=666005;file:///home/mkoenig/git/sbmlutils/src/sbmlutils/factory.py#441\u001b\\\u001b[2m441\u001b[0m\u001b]8;;\u001b\\\n"
      ]
     },
     "metadata": {},
     "output_type": "display_data"
    },
    {
     "data": {
      "text/html": [
       "<pre style=\"white-space:pre;overflow-x:auto;line-height:normal;font-family:Menlo,'DejaVu Sans Mono',consolas,'Courier New',monospace\"><span style=\"color: #800000; text-decoration-color: #800000\">WARNING </span> <span style=\"color: #008000; text-decoration-color: #008000\">'sboTerm'</span> should be set on <span style=\"color: #008000; text-decoration-color: #008000\">'Parameter(p_raleigh_1)'</span>                                         <a href=\"file:///home/mkoenig/git/sbmlutils/src/sbmlutils/factory.py\" target=\"_blank\"><span style=\"color: #7f7f7f; text-decoration-color: #7f7f7f\">factory.py</span></a><span style=\"color: #7f7f7f; text-decoration-color: #7f7f7f\">:</span><a href=\"file:///home/mkoenig/git/sbmlutils/src/sbmlutils/factory.py#466\" target=\"_blank\"><span style=\"color: #7f7f7f; text-decoration-color: #7f7f7f\">466</span></a>\n",
       "</pre>\n"
      ],
      "text/plain": [
       "\u001b[31mWARNING \u001b[0m \u001b[32m'sboTerm'\u001b[0m should be set on \u001b[32m'Parameter\u001b[0m\u001b[32m(\u001b[0m\u001b[32mp_raleigh_1\u001b[0m\u001b[32m)\u001b[0m\u001b[32m'\u001b[0m                                         \u001b]8;id=550578;file:///home/mkoenig/git/sbmlutils/src/sbmlutils/factory.py\u001b\\\u001b[2mfactory.py\u001b[0m\u001b]8;;\u001b\\\u001b[2m:\u001b[0m\u001b]8;id=479038;file:///home/mkoenig/git/sbmlutils/src/sbmlutils/factory.py#466\u001b\\\u001b[2m466\u001b[0m\u001b]8;;\u001b\\\n"
      ]
     },
     "metadata": {},
     "output_type": "display_data"
    },
    {
     "data": {
      "text/html": [
       "<pre style=\"white-space:pre;overflow-x:auto;line-height:normal;font-family:Menlo,'DejaVu Sans Mono',consolas,'Courier New',monospace\"><span style=\"color: #800000; text-decoration-color: #800000\">WARNING </span> <span style=\"color: #008000; text-decoration-color: #008000\">'name'</span> should be set on <span style=\"color: #008000; text-decoration-color: #008000\">'InitialAssignment()'</span>                                               <a href=\"file:///home/mkoenig/git/sbmlutils/src/sbmlutils/factory.py\" target=\"_blank\"><span style=\"color: #7f7f7f; text-decoration-color: #7f7f7f\">factory.py</span></a><span style=\"color: #7f7f7f; text-decoration-color: #7f7f7f\">:</span><a href=\"file:///home/mkoenig/git/sbmlutils/src/sbmlutils/factory.py#441\" target=\"_blank\"><span style=\"color: #7f7f7f; text-decoration-color: #7f7f7f\">441</span></a>\n",
       "</pre>\n"
      ],
      "text/plain": [
       "\u001b[31mWARNING \u001b[0m \u001b[32m'name'\u001b[0m should be set on \u001b[32m'InitialAssignment\u001b[0m\u001b[32m(\u001b[0m\u001b[32m)\u001b[0m\u001b[32m'\u001b[0m                                               \u001b]8;id=312320;file:///home/mkoenig/git/sbmlutils/src/sbmlutils/factory.py\u001b\\\u001b[2mfactory.py\u001b[0m\u001b]8;;\u001b\\\u001b[2m:\u001b[0m\u001b]8;id=828648;file:///home/mkoenig/git/sbmlutils/src/sbmlutils/factory.py#441\u001b\\\u001b[2m441\u001b[0m\u001b]8;;\u001b\\\n"
      ]
     },
     "metadata": {},
     "output_type": "display_data"
    },
    {
     "data": {
      "text/html": [
       "<pre style=\"white-space:pre;overflow-x:auto;line-height:normal;font-family:Menlo,'DejaVu Sans Mono',consolas,'Courier New',monospace\"><span style=\"color: #800000; text-decoration-color: #800000\">WARNING </span> <span style=\"color: #008000; text-decoration-color: #008000\">'sboTerm'</span> should be set on <span style=\"color: #008000; text-decoration-color: #008000\">'InitialAssignment()'</span>                                            <a href=\"file:///home/mkoenig/git/sbmlutils/src/sbmlutils/factory.py\" target=\"_blank\"><span style=\"color: #7f7f7f; text-decoration-color: #7f7f7f\">factory.py</span></a><span style=\"color: #7f7f7f; text-decoration-color: #7f7f7f\">:</span><a href=\"file:///home/mkoenig/git/sbmlutils/src/sbmlutils/factory.py#466\" target=\"_blank\"><span style=\"color: #7f7f7f; text-decoration-color: #7f7f7f\">466</span></a>\n",
       "</pre>\n"
      ],
      "text/plain": [
       "\u001b[31mWARNING \u001b[0m \u001b[32m'sboTerm'\u001b[0m should be set on \u001b[32m'InitialAssignment\u001b[0m\u001b[32m(\u001b[0m\u001b[32m)\u001b[0m\u001b[32m'\u001b[0m                                            \u001b]8;id=725221;file:///home/mkoenig/git/sbmlutils/src/sbmlutils/factory.py\u001b\\\u001b[2mfactory.py\u001b[0m\u001b]8;;\u001b\\\u001b[2m:\u001b[0m\u001b]8;id=929663;file:///home/mkoenig/git/sbmlutils/src/sbmlutils/factory.py#466\u001b\\\u001b[2m466\u001b[0m\u001b]8;;\u001b\\\n"
      ]
     },
     "metadata": {},
     "output_type": "display_data"
    },
    {
     "data": {
      "text/html": [
       "<pre style=\"white-space:pre;overflow-x:auto;line-height:normal;font-family:Menlo,'DejaVu Sans Mono',consolas,'Courier New',monospace\"><span style=\"color: #800000; text-decoration-color: #800000\">WARNING </span> <span style=\"color: #008000; text-decoration-color: #008000\">'name'</span> should be set on <span style=\"color: #008000; text-decoration-color: #008000\">'Parameter(p_raleigh_2)'</span>                                            <a href=\"file:///home/mkoenig/git/sbmlutils/src/sbmlutils/factory.py\" target=\"_blank\"><span style=\"color: #7f7f7f; text-decoration-color: #7f7f7f\">factory.py</span></a><span style=\"color: #7f7f7f; text-decoration-color: #7f7f7f\">:</span><a href=\"file:///home/mkoenig/git/sbmlutils/src/sbmlutils/factory.py#441\" target=\"_blank\"><span style=\"color: #7f7f7f; text-decoration-color: #7f7f7f\">441</span></a>\n",
       "</pre>\n"
      ],
      "text/plain": [
       "\u001b[31mWARNING \u001b[0m \u001b[32m'name'\u001b[0m should be set on \u001b[32m'Parameter\u001b[0m\u001b[32m(\u001b[0m\u001b[32mp_raleigh_2\u001b[0m\u001b[32m)\u001b[0m\u001b[32m'\u001b[0m                                            \u001b]8;id=103459;file:///home/mkoenig/git/sbmlutils/src/sbmlutils/factory.py\u001b\\\u001b[2mfactory.py\u001b[0m\u001b]8;;\u001b\\\u001b[2m:\u001b[0m\u001b]8;id=820941;file:///home/mkoenig/git/sbmlutils/src/sbmlutils/factory.py#441\u001b\\\u001b[2m441\u001b[0m\u001b]8;;\u001b\\\n"
      ]
     },
     "metadata": {},
     "output_type": "display_data"
    },
    {
     "data": {
      "text/html": [
       "<pre style=\"white-space:pre;overflow-x:auto;line-height:normal;font-family:Menlo,'DejaVu Sans Mono',consolas,'Courier New',monospace\"><span style=\"color: #800000; text-decoration-color: #800000\">WARNING </span> <span style=\"color: #008000; text-decoration-color: #008000\">'sboTerm'</span> should be set on <span style=\"color: #008000; text-decoration-color: #008000\">'Parameter(p_raleigh_2)'</span>                                         <a href=\"file:///home/mkoenig/git/sbmlutils/src/sbmlutils/factory.py\" target=\"_blank\"><span style=\"color: #7f7f7f; text-decoration-color: #7f7f7f\">factory.py</span></a><span style=\"color: #7f7f7f; text-decoration-color: #7f7f7f\">:</span><a href=\"file:///home/mkoenig/git/sbmlutils/src/sbmlutils/factory.py#466\" target=\"_blank\"><span style=\"color: #7f7f7f; text-decoration-color: #7f7f7f\">466</span></a>\n",
       "</pre>\n"
      ],
      "text/plain": [
       "\u001b[31mWARNING \u001b[0m \u001b[32m'sboTerm'\u001b[0m should be set on \u001b[32m'Parameter\u001b[0m\u001b[32m(\u001b[0m\u001b[32mp_raleigh_2\u001b[0m\u001b[32m)\u001b[0m\u001b[32m'\u001b[0m                                         \u001b]8;id=944030;file:///home/mkoenig/git/sbmlutils/src/sbmlutils/factory.py\u001b\\\u001b[2mfactory.py\u001b[0m\u001b]8;;\u001b\\\u001b[2m:\u001b[0m\u001b]8;id=454412;file:///home/mkoenig/git/sbmlutils/src/sbmlutils/factory.py#466\u001b\\\u001b[2m466\u001b[0m\u001b]8;;\u001b\\\n"
      ]
     },
     "metadata": {},
     "output_type": "display_data"
    },
    {
     "data": {
      "text/html": [
       "<pre style=\"white-space:pre;overflow-x:auto;line-height:normal;font-family:Menlo,'DejaVu Sans Mono',consolas,'Courier New',monospace\"><span style=\"color: #800000; text-decoration-color: #800000\">WARNING </span> <span style=\"color: #008000; text-decoration-color: #008000\">'name'</span> should be set on <span style=\"color: #008000; text-decoration-color: #008000\">'InitialAssignment()'</span>                                               <a href=\"file:///home/mkoenig/git/sbmlutils/src/sbmlutils/factory.py\" target=\"_blank\"><span style=\"color: #7f7f7f; text-decoration-color: #7f7f7f\">factory.py</span></a><span style=\"color: #7f7f7f; text-decoration-color: #7f7f7f\">:</span><a href=\"file:///home/mkoenig/git/sbmlutils/src/sbmlutils/factory.py#441\" target=\"_blank\"><span style=\"color: #7f7f7f; text-decoration-color: #7f7f7f\">441</span></a>\n",
       "</pre>\n"
      ],
      "text/plain": [
       "\u001b[31mWARNING \u001b[0m \u001b[32m'name'\u001b[0m should be set on \u001b[32m'InitialAssignment\u001b[0m\u001b[32m(\u001b[0m\u001b[32m)\u001b[0m\u001b[32m'\u001b[0m                                               \u001b]8;id=615940;file:///home/mkoenig/git/sbmlutils/src/sbmlutils/factory.py\u001b\\\u001b[2mfactory.py\u001b[0m\u001b]8;;\u001b\\\u001b[2m:\u001b[0m\u001b]8;id=580573;file:///home/mkoenig/git/sbmlutils/src/sbmlutils/factory.py#441\u001b\\\u001b[2m441\u001b[0m\u001b]8;;\u001b\\\n"
      ]
     },
     "metadata": {},
     "output_type": "display_data"
    },
    {
     "data": {
      "text/html": [
       "<pre style=\"white-space:pre;overflow-x:auto;line-height:normal;font-family:Menlo,'DejaVu Sans Mono',consolas,'Courier New',monospace\"><span style=\"color: #800000; text-decoration-color: #800000\">WARNING </span> <span style=\"color: #008000; text-decoration-color: #008000\">'sboTerm'</span> should be set on <span style=\"color: #008000; text-decoration-color: #008000\">'InitialAssignment()'</span>                                            <a href=\"file:///home/mkoenig/git/sbmlutils/src/sbmlutils/factory.py\" target=\"_blank\"><span style=\"color: #7f7f7f; text-decoration-color: #7f7f7f\">factory.py</span></a><span style=\"color: #7f7f7f; text-decoration-color: #7f7f7f\">:</span><a href=\"file:///home/mkoenig/git/sbmlutils/src/sbmlutils/factory.py#466\" target=\"_blank\"><span style=\"color: #7f7f7f; text-decoration-color: #7f7f7f\">466</span></a>\n",
       "</pre>\n"
      ],
      "text/plain": [
       "\u001b[31mWARNING \u001b[0m \u001b[32m'sboTerm'\u001b[0m should be set on \u001b[32m'InitialAssignment\u001b[0m\u001b[32m(\u001b[0m\u001b[32m)\u001b[0m\u001b[32m'\u001b[0m                                            \u001b]8;id=964607;file:///home/mkoenig/git/sbmlutils/src/sbmlutils/factory.py\u001b\\\u001b[2mfactory.py\u001b[0m\u001b]8;;\u001b\\\u001b[2m:\u001b[0m\u001b]8;id=568850;file:///home/mkoenig/git/sbmlutils/src/sbmlutils/factory.py#466\u001b\\\u001b[2m466\u001b[0m\u001b]8;;\u001b\\\n"
      ]
     },
     "metadata": {},
     "output_type": "display_data"
    },
    {
     "data": {
      "text/html": [
       "<style type=\"text/css\">pre { line-height: 125%; }\n",
       "td.linenos .normal { color: inherit; background-color: transparent; padding-left: 5px; padding-right: 5px; }\n",
       "span.linenos { color: inherit; background-color: transparent; padding-left: 5px; padding-right: 5px; }\n",
       "td.linenos .special { color: #000000; background-color: #ffffc0; padding-left: 5px; padding-right: 5px; }\n",
       "span.linenos.special { color: #000000; background-color: #ffffc0; padding-left: 5px; padding-right: 5px; }\n",
       ".highlight .hll { background-color: #ffffcc }\n",
       ".highlight { background: #f8f8f8; }\n",
       ".highlight .c { color: #3D7B7B; font-style: italic } /* Comment */\n",
       ".highlight .err { border: 1px solid #FF0000 } /* Error */\n",
       ".highlight .k { color: #008000; font-weight: bold } /* Keyword */\n",
       ".highlight .o { color: #666666 } /* Operator */\n",
       ".highlight .ch { color: #3D7B7B; font-style: italic } /* Comment.Hashbang */\n",
       ".highlight .cm { color: #3D7B7B; font-style: italic } /* Comment.Multiline */\n",
       ".highlight .cp { color: #9C6500 } /* Comment.Preproc */\n",
       ".highlight .cpf { color: #3D7B7B; font-style: italic } /* Comment.PreprocFile */\n",
       ".highlight .c1 { color: #3D7B7B; font-style: italic } /* Comment.Single */\n",
       ".highlight .cs { color: #3D7B7B; font-style: italic } /* Comment.Special */\n",
       ".highlight .gd { color: #A00000 } /* Generic.Deleted */\n",
       ".highlight .ge { font-style: italic } /* Generic.Emph */\n",
       ".highlight .gr { color: #E40000 } /* Generic.Error */\n",
       ".highlight .gh { color: #000080; font-weight: bold } /* Generic.Heading */\n",
       ".highlight .gi { color: #008400 } /* Generic.Inserted */\n",
       ".highlight .go { color: #717171 } /* Generic.Output */\n",
       ".highlight .gp { color: #000080; font-weight: bold } /* Generic.Prompt */\n",
       ".highlight .gs { font-weight: bold } /* Generic.Strong */\n",
       ".highlight .gu { color: #800080; font-weight: bold } /* Generic.Subheading */\n",
       ".highlight .gt { color: #0044DD } /* Generic.Traceback */\n",
       ".highlight .kc { color: #008000; font-weight: bold } /* Keyword.Constant */\n",
       ".highlight .kd { color: #008000; font-weight: bold } /* Keyword.Declaration */\n",
       ".highlight .kn { color: #008000; font-weight: bold } /* Keyword.Namespace */\n",
       ".highlight .kp { color: #008000 } /* Keyword.Pseudo */\n",
       ".highlight .kr { color: #008000; font-weight: bold } /* Keyword.Reserved */\n",
       ".highlight .kt { color: #B00040 } /* Keyword.Type */\n",
       ".highlight .m { color: #666666 } /* Literal.Number */\n",
       ".highlight .s { color: #BA2121 } /* Literal.String */\n",
       ".highlight .na { color: #687822 } /* Name.Attribute */\n",
       ".highlight .nb { color: #008000 } /* Name.Builtin */\n",
       ".highlight .nc { color: #0000FF; font-weight: bold } /* Name.Class */\n",
       ".highlight .no { color: #880000 } /* Name.Constant */\n",
       ".highlight .nd { color: #AA22FF } /* Name.Decorator */\n",
       ".highlight .ni { color: #717171; font-weight: bold } /* Name.Entity */\n",
       ".highlight .ne { color: #CB3F38; font-weight: bold } /* Name.Exception */\n",
       ".highlight .nf { color: #0000FF } /* Name.Function */\n",
       ".highlight .nl { color: #767600 } /* Name.Label */\n",
       ".highlight .nn { color: #0000FF; font-weight: bold } /* Name.Namespace */\n",
       ".highlight .nt { color: #008000; font-weight: bold } /* Name.Tag */\n",
       ".highlight .nv { color: #19177C } /* Name.Variable */\n",
       ".highlight .ow { color: #AA22FF; font-weight: bold } /* Operator.Word */\n",
       ".highlight .w { color: #bbbbbb } /* Text.Whitespace */\n",
       ".highlight .mb { color: #666666 } /* Literal.Number.Bin */\n",
       ".highlight .mf { color: #666666 } /* Literal.Number.Float */\n",
       ".highlight .mh { color: #666666 } /* Literal.Number.Hex */\n",
       ".highlight .mi { color: #666666 } /* Literal.Number.Integer */\n",
       ".highlight .mo { color: #666666 } /* Literal.Number.Oct */\n",
       ".highlight .sa { color: #BA2121 } /* Literal.String.Affix */\n",
       ".highlight .sb { color: #BA2121 } /* Literal.String.Backtick */\n",
       ".highlight .sc { color: #BA2121 } /* Literal.String.Char */\n",
       ".highlight .dl { color: #BA2121 } /* Literal.String.Delimiter */\n",
       ".highlight .sd { color: #BA2121; font-style: italic } /* Literal.String.Doc */\n",
       ".highlight .s2 { color: #BA2121 } /* Literal.String.Double */\n",
       ".highlight .se { color: #AA5D1F; font-weight: bold } /* Literal.String.Escape */\n",
       ".highlight .sh { color: #BA2121 } /* Literal.String.Heredoc */\n",
       ".highlight .si { color: #A45A77; font-weight: bold } /* Literal.String.Interpol */\n",
       ".highlight .sx { color: #008000 } /* Literal.String.Other */\n",
       ".highlight .sr { color: #A45A77 } /* Literal.String.Regex */\n",
       ".highlight .s1 { color: #BA2121 } /* Literal.String.Single */\n",
       ".highlight .ss { color: #19177C } /* Literal.String.Symbol */\n",
       ".highlight .bp { color: #008000 } /* Name.Builtin.Pseudo */\n",
       ".highlight .fm { color: #0000FF } /* Name.Function.Magic */\n",
       ".highlight .vc { color: #19177C } /* Name.Variable.Class */\n",
       ".highlight .vg { color: #19177C } /* Name.Variable.Global */\n",
       ".highlight .vi { color: #19177C } /* Name.Variable.Instance */\n",
       ".highlight .vm { color: #19177C } /* Name.Variable.Magic */\n",
       ".highlight .il { color: #666666 } /* Literal.Number.Integer.Long */</style>    <div class=\"highlight\"><pre><span></span><span class=\"cp\">&lt;?xml version=&quot;1.0&quot; encoding=&quot;UTF-8&quot;?&gt;</span>\n",
       "<span class=\"nt\">&lt;sbml</span> <span class=\"na\">xmlns=</span><span class=\"s\">&quot;http://www.sbml.org/sbml/level3/version1/core&quot;</span> <span class=\"na\">xmlns:distrib=</span><span class=\"s\">&quot;http://www.sbml.org/sbml/level3/version1/distrib/version1&quot;</span> <span class=\"na\">xmlns:comp=</span><span class=\"s\">&quot;http://www.sbml.org/sbml/level3/version1/comp/version1&quot;</span> <span class=\"na\">level=</span><span class=\"s\">&quot;3&quot;</span> <span class=\"na\">version=</span><span class=\"s\">&quot;1&quot;</span> <span class=\"na\">distrib:required=</span><span class=\"s\">&quot;true&quot;</span> <span class=\"na\">comp:required=</span><span class=\"s\">&quot;true&quot;</span><span class=\"nt\">&gt;</span>\n",
       "  <span class=\"nt\">&lt;notes&gt;</span>\n",
       "    <span class=\"nt\">&lt;body</span> <span class=\"na\">xmlns=</span><span class=\"s\">&quot;http://www.w3.org/1999/xhtml&quot;</span><span class=\"nt\">&gt;</span>\n",
       "      <span class=\"nt\">&lt;p&gt;</span>Created with <span class=\"nt\">&lt;a</span> <span class=\"na\">href=</span><span class=\"s\">&quot;https://github.com/matthiaskoenig/sbmlutils&quot;</span><span class=\"nt\">&gt;</span>https://github.com/matthiaskoenig/sbmlutils<span class=\"nt\">&lt;/a&gt;</span>.\n",
       "<span class=\"nt\">&lt;a</span> <span class=\"na\">href=</span><span class=\"s\">&quot;https://doi.org/10.5281/zenodo.5525390&quot;</span><span class=\"nt\">&gt;</span>\n",
       "        <span class=\"nt\">&lt;img</span> <span class=\"na\">src=</span><span class=\"s\">&quot;https://zenodo.org/badge/DOI/10.5281/zenodo.5525390.svg&quot;</span> <span class=\"na\">alt=</span><span class=\"s\">&quot;DOI&quot;</span><span class=\"nt\">/&gt;&lt;/a&gt;&lt;/p&gt;</span>\n",
       "      <span class=\"nt\">&lt;/body&gt;</span>\n",
       "    <span class=\"nt\">&lt;/notes&gt;</span>\n",
       "  <span class=\"nt\">&lt;model</span> <span class=\"na\">id=</span><span class=\"s\">&quot;all_distributions&quot;</span><span class=\"nt\">&gt;</span>\n",
       "    <span class=\"nt\">&lt;listOfParameters&gt;</span>\n",
       "      <span class=\"nt\">&lt;parameter</span> <span class=\"na\">id=</span><span class=\"s\">&quot;p_normal_1&quot;</span> <span class=\"na\">value=</span><span class=\"s\">&quot;NaN&quot;</span> <span class=\"na\">units=</span><span class=\"s\">&quot;dimensionless&quot;</span> <span class=\"na\">constant=</span><span class=\"s\">&quot;true&quot;</span><span class=\"nt\">/&gt;</span>\n",
       "      <span class=\"nt\">&lt;parameter</span> <span class=\"na\">id=</span><span class=\"s\">&quot;p_normal_2&quot;</span> <span class=\"na\">value=</span><span class=\"s\">&quot;NaN&quot;</span> <span class=\"na\">units=</span><span class=\"s\">&quot;dimensionless&quot;</span> <span class=\"na\">constant=</span><span class=\"s\">&quot;true&quot;</span><span class=\"nt\">/&gt;</span>\n",
       "      <span class=\"nt\">&lt;parameter</span> <span class=\"na\">id=</span><span class=\"s\">&quot;p_uniform&quot;</span> <span class=\"na\">value=</span><span class=\"s\">&quot;NaN&quot;</span> <span class=\"na\">units=</span><span class=\"s\">&quot;dimensionless&quot;</span> <span class=\"na\">constant=</span><span class=\"s\">&quot;true&quot;</span><span class=\"nt\">/&gt;</span>\n",
       "      <span class=\"nt\">&lt;parameter</span> <span class=\"na\">id=</span><span class=\"s\">&quot;p_bernoulli&quot;</span> <span class=\"na\">value=</span><span class=\"s\">&quot;NaN&quot;</span> <span class=\"na\">units=</span><span class=\"s\">&quot;dimensionless&quot;</span> <span class=\"na\">constant=</span><span class=\"s\">&quot;true&quot;</span><span class=\"nt\">/&gt;</span>\n",
       "      <span class=\"nt\">&lt;parameter</span> <span class=\"na\">id=</span><span class=\"s\">&quot;p_binomial_1&quot;</span> <span class=\"na\">value=</span><span class=\"s\">&quot;NaN&quot;</span> <span class=\"na\">units=</span><span class=\"s\">&quot;dimensionless&quot;</span> <span class=\"na\">constant=</span><span class=\"s\">&quot;true&quot;</span><span class=\"nt\">/&gt;</span>\n",
       "      <span class=\"nt\">&lt;parameter</span> <span class=\"na\">id=</span><span class=\"s\">&quot;p_binomial_2&quot;</span> <span class=\"na\">value=</span><span class=\"s\">&quot;NaN&quot;</span> <span class=\"na\">units=</span><span class=\"s\">&quot;dimensionless&quot;</span> <span class=\"na\">constant=</span><span class=\"s\">&quot;true&quot;</span><span class=\"nt\">/&gt;</span>\n",
       "      <span class=\"nt\">&lt;parameter</span> <span class=\"na\">id=</span><span class=\"s\">&quot;p_cauchy_1&quot;</span> <span class=\"na\">value=</span><span class=\"s\">&quot;NaN&quot;</span> <span class=\"na\">units=</span><span class=\"s\">&quot;dimensionless&quot;</span> <span class=\"na\">constant=</span><span class=\"s\">&quot;true&quot;</span><span class=\"nt\">/&gt;</span>\n",
       "      <span class=\"nt\">&lt;parameter</span> <span class=\"na\">id=</span><span class=\"s\">&quot;p_cauchy_2&quot;</span> <span class=\"na\">value=</span><span class=\"s\">&quot;NaN&quot;</span> <span class=\"na\">units=</span><span class=\"s\">&quot;dimensionless&quot;</span> <span class=\"na\">constant=</span><span class=\"s\">&quot;true&quot;</span><span class=\"nt\">/&gt;</span>\n",
       "      <span class=\"nt\">&lt;parameter</span> <span class=\"na\">id=</span><span class=\"s\">&quot;p_chisquare_1&quot;</span> <span class=\"na\">value=</span><span class=\"s\">&quot;NaN&quot;</span> <span class=\"na\">units=</span><span class=\"s\">&quot;dimensionless&quot;</span> <span class=\"na\">constant=</span><span class=\"s\">&quot;true&quot;</span><span class=\"nt\">/&gt;</span>\n",
       "      <span class=\"nt\">&lt;parameter</span> <span class=\"na\">id=</span><span class=\"s\">&quot;p_chisquare_2&quot;</span> <span class=\"na\">value=</span><span class=\"s\">&quot;NaN&quot;</span> <span class=\"na\">units=</span><span class=\"s\">&quot;dimensionless&quot;</span> <span class=\"na\">constant=</span><span class=\"s\">&quot;true&quot;</span><span class=\"nt\">/&gt;</span>\n",
       "      <span class=\"nt\">&lt;parameter</span> <span class=\"na\">id=</span><span class=\"s\">&quot;p_exponential_1&quot;</span> <span class=\"na\">value=</span><span class=\"s\">&quot;NaN&quot;</span> <span class=\"na\">units=</span><span class=\"s\">&quot;dimensionless&quot;</span> <span class=\"na\">constant=</span><span class=\"s\">&quot;true&quot;</span><span class=\"nt\">/&gt;</span>\n",
       "      <span class=\"nt\">&lt;parameter</span> <span class=\"na\">id=</span><span class=\"s\">&quot;p_exponential_2&quot;</span> <span class=\"na\">value=</span><span class=\"s\">&quot;NaN&quot;</span> <span class=\"na\">units=</span><span class=\"s\">&quot;dimensionless&quot;</span> <span class=\"na\">constant=</span><span class=\"s\">&quot;true&quot;</span><span class=\"nt\">/&gt;</span>\n",
       "      <span class=\"nt\">&lt;parameter</span> <span class=\"na\">id=</span><span class=\"s\">&quot;p_gamma_1&quot;</span> <span class=\"na\">value=</span><span class=\"s\">&quot;NaN&quot;</span> <span class=\"na\">units=</span><span class=\"s\">&quot;dimensionless&quot;</span> <span class=\"na\">constant=</span><span class=\"s\">&quot;true&quot;</span><span class=\"nt\">/&gt;</span>\n",
       "      <span class=\"nt\">&lt;parameter</span> <span class=\"na\">id=</span><span class=\"s\">&quot;p_gamma_2&quot;</span> <span class=\"na\">value=</span><span class=\"s\">&quot;NaN&quot;</span> <span class=\"na\">units=</span><span class=\"s\">&quot;dimensionless&quot;</span> <span class=\"na\">constant=</span><span class=\"s\">&quot;true&quot;</span><span class=\"nt\">/&gt;</span>\n",
       "      <span class=\"nt\">&lt;parameter</span> <span class=\"na\">id=</span><span class=\"s\">&quot;p_laplace_1&quot;</span> <span class=\"na\">value=</span><span class=\"s\">&quot;NaN&quot;</span> <span class=\"na\">units=</span><span class=\"s\">&quot;dimensionless&quot;</span> <span class=\"na\">constant=</span><span class=\"s\">&quot;true&quot;</span><span class=\"nt\">/&gt;</span>\n",
       "      <span class=\"nt\">&lt;parameter</span> <span class=\"na\">id=</span><span class=\"s\">&quot;p_laplace_2&quot;</span> <span class=\"na\">value=</span><span class=\"s\">&quot;NaN&quot;</span> <span class=\"na\">units=</span><span class=\"s\">&quot;dimensionless&quot;</span> <span class=\"na\">constant=</span><span class=\"s\">&quot;true&quot;</span><span class=\"nt\">/&gt;</span>\n",
       "      <span class=\"nt\">&lt;parameter</span> <span class=\"na\">id=</span><span class=\"s\">&quot;p_lognormal_1&quot;</span> <span class=\"na\">value=</span><span class=\"s\">&quot;NaN&quot;</span> <span class=\"na\">units=</span><span class=\"s\">&quot;dimensionless&quot;</span> <span class=\"na\">constant=</span><span class=\"s\">&quot;true&quot;</span><span class=\"nt\">/&gt;</span>\n",
       "      <span class=\"nt\">&lt;parameter</span> <span class=\"na\">id=</span><span class=\"s\">&quot;p_lognormal_2&quot;</span> <span class=\"na\">value=</span><span class=\"s\">&quot;NaN&quot;</span> <span class=\"na\">units=</span><span class=\"s\">&quot;dimensionless&quot;</span> <span class=\"na\">constant=</span><span class=\"s\">&quot;true&quot;</span><span class=\"nt\">/&gt;</span>\n",
       "      <span class=\"nt\">&lt;parameter</span> <span class=\"na\">id=</span><span class=\"s\">&quot;p_poisson_1&quot;</span> <span class=\"na\">value=</span><span class=\"s\">&quot;NaN&quot;</span> <span class=\"na\">units=</span><span class=\"s\">&quot;dimensionless&quot;</span> <span class=\"na\">constant=</span><span class=\"s\">&quot;true&quot;</span><span class=\"nt\">/&gt;</span>\n",
       "      <span class=\"nt\">&lt;parameter</span> <span class=\"na\">id=</span><span class=\"s\">&quot;p_poisson_2&quot;</span> <span class=\"na\">value=</span><span class=\"s\">&quot;NaN&quot;</span> <span class=\"na\">units=</span><span class=\"s\">&quot;dimensionless&quot;</span> <span class=\"na\">constant=</span><span class=\"s\">&quot;true&quot;</span><span class=\"nt\">/&gt;</span>\n",
       "      <span class=\"nt\">&lt;parameter</span> <span class=\"na\">id=</span><span class=\"s\">&quot;p_raleigh_1&quot;</span> <span class=\"na\">value=</span><span class=\"s\">&quot;NaN&quot;</span> <span class=\"na\">units=</span><span class=\"s\">&quot;dimensionless&quot;</span> <span class=\"na\">constant=</span><span class=\"s\">&quot;true&quot;</span><span class=\"nt\">/&gt;</span>\n",
       "      <span class=\"nt\">&lt;parameter</span> <span class=\"na\">id=</span><span class=\"s\">&quot;p_raleigh_2&quot;</span> <span class=\"na\">value=</span><span class=\"s\">&quot;NaN&quot;</span> <span class=\"na\">units=</span><span class=\"s\">&quot;dimensionless&quot;</span> <span class=\"na\">constant=</span><span class=\"s\">&quot;true&quot;</span><span class=\"nt\">/&gt;</span>\n",
       "    <span class=\"nt\">&lt;/listOfParameters&gt;</span>\n",
       "    <span class=\"nt\">&lt;listOfInitialAssignments&gt;</span>\n",
       "      <span class=\"nt\">&lt;initialAssignment</span> <span class=\"na\">symbol=</span><span class=\"s\">&quot;p_normal_1&quot;</span><span class=\"nt\">&gt;</span>\n",
       "        <span class=\"nt\">&lt;math</span> <span class=\"na\">xmlns=</span><span class=\"s\">&quot;http://www.w3.org/1998/Math/MathML&quot;</span><span class=\"nt\">&gt;</span>\n",
       "          <span class=\"nt\">&lt;apply&gt;</span>\n",
       "            <span class=\"nt\">&lt;csymbol</span> <span class=\"na\">encoding=</span><span class=\"s\">&quot;text&quot;</span> <span class=\"na\">definitionURL=</span><span class=\"s\">&quot;http://www.sbml.org/sbml/symbols/distrib/normal&quot;</span><span class=\"nt\">&gt;</span> normal <span class=\"nt\">&lt;/csymbol&gt;</span>\n",
       "            <span class=\"nt\">&lt;cn</span> <span class=\"na\">type=</span><span class=\"s\">&quot;integer&quot;</span><span class=\"nt\">&gt;</span> 0 <span class=\"nt\">&lt;/cn&gt;</span>\n",
       "            <span class=\"nt\">&lt;cn</span> <span class=\"na\">type=</span><span class=\"s\">&quot;integer&quot;</span><span class=\"nt\">&gt;</span> 1 <span class=\"nt\">&lt;/cn&gt;</span>\n",
       "          <span class=\"nt\">&lt;/apply&gt;</span>\n",
       "        <span class=\"nt\">&lt;/math&gt;</span>\n",
       "      <span class=\"nt\">&lt;/initialAssignment&gt;</span>\n",
       "      <span class=\"nt\">&lt;initialAssignment</span> <span class=\"na\">symbol=</span><span class=\"s\">&quot;p_normal_2&quot;</span><span class=\"nt\">&gt;</span>\n",
       "        <span class=\"nt\">&lt;math</span> <span class=\"na\">xmlns=</span><span class=\"s\">&quot;http://www.w3.org/1998/Math/MathML&quot;</span><span class=\"nt\">&gt;</span>\n",
       "          <span class=\"nt\">&lt;apply&gt;</span>\n",
       "            <span class=\"nt\">&lt;csymbol</span> <span class=\"na\">encoding=</span><span class=\"s\">&quot;text&quot;</span> <span class=\"na\">definitionURL=</span><span class=\"s\">&quot;http://www.sbml.org/sbml/symbols/distrib/normal&quot;</span><span class=\"nt\">&gt;</span> normal <span class=\"nt\">&lt;/csymbol&gt;</span>\n",
       "            <span class=\"nt\">&lt;cn</span> <span class=\"na\">type=</span><span class=\"s\">&quot;integer&quot;</span><span class=\"nt\">&gt;</span> 0 <span class=\"nt\">&lt;/cn&gt;</span>\n",
       "            <span class=\"nt\">&lt;cn</span> <span class=\"na\">type=</span><span class=\"s\">&quot;integer&quot;</span><span class=\"nt\">&gt;</span> 1 <span class=\"nt\">&lt;/cn&gt;</span>\n",
       "            <span class=\"nt\">&lt;cn</span> <span class=\"na\">type=</span><span class=\"s\">&quot;integer&quot;</span><span class=\"nt\">&gt;</span> 0 <span class=\"nt\">&lt;/cn&gt;</span>\n",
       "            <span class=\"nt\">&lt;cn</span> <span class=\"na\">type=</span><span class=\"s\">&quot;integer&quot;</span><span class=\"nt\">&gt;</span> 10 <span class=\"nt\">&lt;/cn&gt;</span>\n",
       "          <span class=\"nt\">&lt;/apply&gt;</span>\n",
       "        <span class=\"nt\">&lt;/math&gt;</span>\n",
       "      <span class=\"nt\">&lt;/initialAssignment&gt;</span>\n",
       "      <span class=\"nt\">&lt;initialAssignment</span> <span class=\"na\">symbol=</span><span class=\"s\">&quot;p_uniform&quot;</span><span class=\"nt\">&gt;</span>\n",
       "        <span class=\"nt\">&lt;math</span> <span class=\"na\">xmlns=</span><span class=\"s\">&quot;http://www.w3.org/1998/Math/MathML&quot;</span><span class=\"nt\">&gt;</span>\n",
       "          <span class=\"nt\">&lt;apply&gt;</span>\n",
       "            <span class=\"nt\">&lt;csymbol</span> <span class=\"na\">encoding=</span><span class=\"s\">&quot;text&quot;</span> <span class=\"na\">definitionURL=</span><span class=\"s\">&quot;http://www.sbml.org/sbml/symbols/distrib/uniform&quot;</span><span class=\"nt\">&gt;</span> uniform <span class=\"nt\">&lt;/csymbol&gt;</span>\n",
       "            <span class=\"nt\">&lt;cn</span> <span class=\"na\">type=</span><span class=\"s\">&quot;integer&quot;</span><span class=\"nt\">&gt;</span> 5 <span class=\"nt\">&lt;/cn&gt;</span>\n",
       "            <span class=\"nt\">&lt;cn</span> <span class=\"na\">type=</span><span class=\"s\">&quot;integer&quot;</span><span class=\"nt\">&gt;</span> 10 <span class=\"nt\">&lt;/cn&gt;</span>\n",
       "          <span class=\"nt\">&lt;/apply&gt;</span>\n",
       "        <span class=\"nt\">&lt;/math&gt;</span>\n",
       "      <span class=\"nt\">&lt;/initialAssignment&gt;</span>\n",
       "      <span class=\"nt\">&lt;initialAssignment</span> <span class=\"na\">symbol=</span><span class=\"s\">&quot;p_bernoulli&quot;</span><span class=\"nt\">&gt;</span>\n",
       "        <span class=\"nt\">&lt;math</span> <span class=\"na\">xmlns=</span><span class=\"s\">&quot;http://www.w3.org/1998/Math/MathML&quot;</span><span class=\"nt\">&gt;</span>\n",
       "          <span class=\"nt\">&lt;apply&gt;</span>\n",
       "            <span class=\"nt\">&lt;csymbol</span> <span class=\"na\">encoding=</span><span class=\"s\">&quot;text&quot;</span> <span class=\"na\">definitionURL=</span><span class=\"s\">&quot;http://www.sbml.org/sbml/symbols/distrib/bernoulli&quot;</span><span class=\"nt\">&gt;</span> bernoulli <span class=\"nt\">&lt;/csymbol&gt;</span>\n",
       "            <span class=\"nt\">&lt;cn&gt;</span> 0.4 <span class=\"nt\">&lt;/cn&gt;</span>\n",
       "          <span class=\"nt\">&lt;/apply&gt;</span>\n",
       "        <span class=\"nt\">&lt;/math&gt;</span>\n",
       "      <span class=\"nt\">&lt;/initialAssignment&gt;</span>\n",
       "      <span class=\"nt\">&lt;initialAssignment</span> <span class=\"na\">symbol=</span><span class=\"s\">&quot;p_binomial_1&quot;</span><span class=\"nt\">&gt;</span>\n",
       "        <span class=\"nt\">&lt;math</span> <span class=\"na\">xmlns=</span><span class=\"s\">&quot;http://www.w3.org/1998/Math/MathML&quot;</span><span class=\"nt\">&gt;</span>\n",
       "          <span class=\"nt\">&lt;apply&gt;</span>\n",
       "            <span class=\"nt\">&lt;csymbol</span> <span class=\"na\">encoding=</span><span class=\"s\">&quot;text&quot;</span> <span class=\"na\">definitionURL=</span><span class=\"s\">&quot;http://www.sbml.org/sbml/symbols/distrib/binomial&quot;</span><span class=\"nt\">&gt;</span> binomial <span class=\"nt\">&lt;/csymbol&gt;</span>\n",
       "            <span class=\"nt\">&lt;cn</span> <span class=\"na\">type=</span><span class=\"s\">&quot;integer&quot;</span><span class=\"nt\">&gt;</span> 100 <span class=\"nt\">&lt;/cn&gt;</span>\n",
       "            <span class=\"nt\">&lt;cn&gt;</span> 0.3 <span class=\"nt\">&lt;/cn&gt;</span>\n",
       "          <span class=\"nt\">&lt;/apply&gt;</span>\n",
       "        <span class=\"nt\">&lt;/math&gt;</span>\n",
       "      <span class=\"nt\">&lt;/initialAssignment&gt;</span>\n",
       "      <span class=\"nt\">&lt;initialAssignment</span> <span class=\"na\">symbol=</span><span class=\"s\">&quot;p_binomial_2&quot;</span><span class=\"nt\">&gt;</span>\n",
       "        <span class=\"nt\">&lt;math</span> <span class=\"na\">xmlns=</span><span class=\"s\">&quot;http://www.w3.org/1998/Math/MathML&quot;</span><span class=\"nt\">&gt;</span>\n",
       "          <span class=\"nt\">&lt;apply&gt;</span>\n",
       "            <span class=\"nt\">&lt;csymbol</span> <span class=\"na\">encoding=</span><span class=\"s\">&quot;text&quot;</span> <span class=\"na\">definitionURL=</span><span class=\"s\">&quot;http://www.sbml.org/sbml/symbols/distrib/binomial&quot;</span><span class=\"nt\">&gt;</span> binomial <span class=\"nt\">&lt;/csymbol&gt;</span>\n",
       "            <span class=\"nt\">&lt;cn</span> <span class=\"na\">type=</span><span class=\"s\">&quot;integer&quot;</span><span class=\"nt\">&gt;</span> 100 <span class=\"nt\">&lt;/cn&gt;</span>\n",
       "            <span class=\"nt\">&lt;cn&gt;</span> 0.3 <span class=\"nt\">&lt;/cn&gt;</span>\n",
       "            <span class=\"nt\">&lt;cn</span> <span class=\"na\">type=</span><span class=\"s\">&quot;integer&quot;</span><span class=\"nt\">&gt;</span> 0 <span class=\"nt\">&lt;/cn&gt;</span>\n",
       "            <span class=\"nt\">&lt;cn</span> <span class=\"na\">type=</span><span class=\"s\">&quot;integer&quot;</span><span class=\"nt\">&gt;</span> 2 <span class=\"nt\">&lt;/cn&gt;</span>\n",
       "          <span class=\"nt\">&lt;/apply&gt;</span>\n",
       "        <span class=\"nt\">&lt;/math&gt;</span>\n",
       "      <span class=\"nt\">&lt;/initialAssignment&gt;</span>\n",
       "      <span class=\"nt\">&lt;initialAssignment</span> <span class=\"na\">symbol=</span><span class=\"s\">&quot;p_cauchy_1&quot;</span><span class=\"nt\">&gt;</span>\n",
       "        <span class=\"nt\">&lt;math</span> <span class=\"na\">xmlns=</span><span class=\"s\">&quot;http://www.w3.org/1998/Math/MathML&quot;</span><span class=\"nt\">&gt;</span>\n",
       "          <span class=\"nt\">&lt;apply&gt;</span>\n",
       "            <span class=\"nt\">&lt;csymbol</span> <span class=\"na\">encoding=</span><span class=\"s\">&quot;text&quot;</span> <span class=\"na\">definitionURL=</span><span class=\"s\">&quot;http://www.sbml.org/sbml/symbols/distrib/cauchy&quot;</span><span class=\"nt\">&gt;</span> cauchy <span class=\"nt\">&lt;/csymbol&gt;</span>\n",
       "            <span class=\"nt\">&lt;cn</span> <span class=\"na\">type=</span><span class=\"s\">&quot;integer&quot;</span><span class=\"nt\">&gt;</span> 0 <span class=\"nt\">&lt;/cn&gt;</span>\n",
       "            <span class=\"nt\">&lt;cn</span> <span class=\"na\">type=</span><span class=\"s\">&quot;integer&quot;</span><span class=\"nt\">&gt;</span> 1 <span class=\"nt\">&lt;/cn&gt;</span>\n",
       "          <span class=\"nt\">&lt;/apply&gt;</span>\n",
       "        <span class=\"nt\">&lt;/math&gt;</span>\n",
       "      <span class=\"nt\">&lt;/initialAssignment&gt;</span>\n",
       "      <span class=\"nt\">&lt;initialAssignment</span> <span class=\"na\">symbol=</span><span class=\"s\">&quot;p_cauchy_2&quot;</span><span class=\"nt\">&gt;</span>\n",
       "        <span class=\"nt\">&lt;math</span> <span class=\"na\">xmlns=</span><span class=\"s\">&quot;http://www.w3.org/1998/Math/MathML&quot;</span><span class=\"nt\">&gt;</span>\n",
       "          <span class=\"nt\">&lt;apply&gt;</span>\n",
       "            <span class=\"nt\">&lt;csymbol</span> <span class=\"na\">encoding=</span><span class=\"s\">&quot;text&quot;</span> <span class=\"na\">definitionURL=</span><span class=\"s\">&quot;http://www.sbml.org/sbml/symbols/distrib/cauchy&quot;</span><span class=\"nt\">&gt;</span> cauchy <span class=\"nt\">&lt;/csymbol&gt;</span>\n",
       "            <span class=\"nt\">&lt;cn</span> <span class=\"na\">type=</span><span class=\"s\">&quot;integer&quot;</span><span class=\"nt\">&gt;</span> 0 <span class=\"nt\">&lt;/cn&gt;</span>\n",
       "            <span class=\"nt\">&lt;cn</span> <span class=\"na\">type=</span><span class=\"s\">&quot;integer&quot;</span><span class=\"nt\">&gt;</span> 1 <span class=\"nt\">&lt;/cn&gt;</span>\n",
       "            <span class=\"nt\">&lt;cn</span> <span class=\"na\">type=</span><span class=\"s\">&quot;integer&quot;</span><span class=\"nt\">&gt;</span> 0 <span class=\"nt\">&lt;/cn&gt;</span>\n",
       "            <span class=\"nt\">&lt;cn</span> <span class=\"na\">type=</span><span class=\"s\">&quot;integer&quot;</span><span class=\"nt\">&gt;</span> 5 <span class=\"nt\">&lt;/cn&gt;</span>\n",
       "          <span class=\"nt\">&lt;/apply&gt;</span>\n",
       "        <span class=\"nt\">&lt;/math&gt;</span>\n",
       "      <span class=\"nt\">&lt;/initialAssignment&gt;</span>\n",
       "      <span class=\"nt\">&lt;initialAssignment</span> <span class=\"na\">symbol=</span><span class=\"s\">&quot;p_chisquare_1&quot;</span><span class=\"nt\">&gt;</span>\n",
       "        <span class=\"nt\">&lt;math</span> <span class=\"na\">xmlns=</span><span class=\"s\">&quot;http://www.w3.org/1998/Math/MathML&quot;</span><span class=\"nt\">&gt;</span>\n",
       "          <span class=\"nt\">&lt;apply&gt;</span>\n",
       "            <span class=\"nt\">&lt;csymbol</span> <span class=\"na\">encoding=</span><span class=\"s\">&quot;text&quot;</span> <span class=\"na\">definitionURL=</span><span class=\"s\">&quot;http://www.sbml.org/sbml/symbols/distrib/chisquare&quot;</span><span class=\"nt\">&gt;</span> chisquare <span class=\"nt\">&lt;/csymbol&gt;</span>\n",
       "            <span class=\"nt\">&lt;cn</span> <span class=\"na\">type=</span><span class=\"s\">&quot;integer&quot;</span><span class=\"nt\">&gt;</span> 10 <span class=\"nt\">&lt;/cn&gt;</span>\n",
       "          <span class=\"nt\">&lt;/apply&gt;</span>\n",
       "        <span class=\"nt\">&lt;/math&gt;</span>\n",
       "      <span class=\"nt\">&lt;/initialAssignment&gt;</span>\n",
       "      <span class=\"nt\">&lt;initialAssignment</span> <span class=\"na\">symbol=</span><span class=\"s\">&quot;p_chisquare_2&quot;</span><span class=\"nt\">&gt;</span>\n",
       "        <span class=\"nt\">&lt;math</span> <span class=\"na\">xmlns=</span><span class=\"s\">&quot;http://www.w3.org/1998/Math/MathML&quot;</span><span class=\"nt\">&gt;</span>\n",
       "          <span class=\"nt\">&lt;apply&gt;</span>\n",
       "            <span class=\"nt\">&lt;csymbol</span> <span class=\"na\">encoding=</span><span class=\"s\">&quot;text&quot;</span> <span class=\"na\">definitionURL=</span><span class=\"s\">&quot;http://www.sbml.org/sbml/symbols/distrib/chisquare&quot;</span><span class=\"nt\">&gt;</span> chisquare <span class=\"nt\">&lt;/csymbol&gt;</span>\n",
       "            <span class=\"nt\">&lt;cn</span> <span class=\"na\">type=</span><span class=\"s\">&quot;integer&quot;</span><span class=\"nt\">&gt;</span> 10 <span class=\"nt\">&lt;/cn&gt;</span>\n",
       "            <span class=\"nt\">&lt;cn</span> <span class=\"na\">type=</span><span class=\"s\">&quot;integer&quot;</span><span class=\"nt\">&gt;</span> 0 <span class=\"nt\">&lt;/cn&gt;</span>\n",
       "            <span class=\"nt\">&lt;cn</span> <span class=\"na\">type=</span><span class=\"s\">&quot;integer&quot;</span><span class=\"nt\">&gt;</span> 10 <span class=\"nt\">&lt;/cn&gt;</span>\n",
       "          <span class=\"nt\">&lt;/apply&gt;</span>\n",
       "        <span class=\"nt\">&lt;/math&gt;</span>\n",
       "      <span class=\"nt\">&lt;/initialAssignment&gt;</span>\n",
       "      <span class=\"nt\">&lt;initialAssignment</span> <span class=\"na\">symbol=</span><span class=\"s\">&quot;p_exponential_1&quot;</span><span class=\"nt\">&gt;</span>\n",
       "        <span class=\"nt\">&lt;math</span> <span class=\"na\">xmlns=</span><span class=\"s\">&quot;http://www.w3.org/1998/Math/MathML&quot;</span><span class=\"nt\">&gt;</span>\n",
       "          <span class=\"nt\">&lt;apply&gt;</span>\n",
       "            <span class=\"nt\">&lt;csymbol</span> <span class=\"na\">encoding=</span><span class=\"s\">&quot;text&quot;</span> <span class=\"na\">definitionURL=</span><span class=\"s\">&quot;http://www.sbml.org/sbml/symbols/distrib/exponential&quot;</span><span class=\"nt\">&gt;</span> exponential <span class=\"nt\">&lt;/csymbol&gt;</span>\n",
       "            <span class=\"nt\">&lt;cn&gt;</span> 1 <span class=\"nt\">&lt;/cn&gt;</span>\n",
       "          <span class=\"nt\">&lt;/apply&gt;</span>\n",
       "        <span class=\"nt\">&lt;/math&gt;</span>\n",
       "      <span class=\"nt\">&lt;/initialAssignment&gt;</span>\n",
       "      <span class=\"nt\">&lt;initialAssignment</span> <span class=\"na\">symbol=</span><span class=\"s\">&quot;p_exponential_2&quot;</span><span class=\"nt\">&gt;</span>\n",
       "        <span class=\"nt\">&lt;math</span> <span class=\"na\">xmlns=</span><span class=\"s\">&quot;http://www.w3.org/1998/Math/MathML&quot;</span><span class=\"nt\">&gt;</span>\n",
       "          <span class=\"nt\">&lt;apply&gt;</span>\n",
       "            <span class=\"nt\">&lt;csymbol</span> <span class=\"na\">encoding=</span><span class=\"s\">&quot;text&quot;</span> <span class=\"na\">definitionURL=</span><span class=\"s\">&quot;http://www.sbml.org/sbml/symbols/distrib/exponential&quot;</span><span class=\"nt\">&gt;</span> exponential <span class=\"nt\">&lt;/csymbol&gt;</span>\n",
       "            <span class=\"nt\">&lt;cn&gt;</span> 1 <span class=\"nt\">&lt;/cn&gt;</span>\n",
       "            <span class=\"nt\">&lt;cn</span> <span class=\"na\">type=</span><span class=\"s\">&quot;integer&quot;</span><span class=\"nt\">&gt;</span> 0 <span class=\"nt\">&lt;/cn&gt;</span>\n",
       "            <span class=\"nt\">&lt;cn</span> <span class=\"na\">type=</span><span class=\"s\">&quot;integer&quot;</span><span class=\"nt\">&gt;</span> 10 <span class=\"nt\">&lt;/cn&gt;</span>\n",
       "          <span class=\"nt\">&lt;/apply&gt;</span>\n",
       "        <span class=\"nt\">&lt;/math&gt;</span>\n",
       "      <span class=\"nt\">&lt;/initialAssignment&gt;</span>\n",
       "      <span class=\"nt\">&lt;initialAssignment</span> <span class=\"na\">symbol=</span><span class=\"s\">&quot;p_gamma_1&quot;</span><span class=\"nt\">&gt;</span>\n",
       "        <span class=\"nt\">&lt;math</span> <span class=\"na\">xmlns=</span><span class=\"s\">&quot;http://www.w3.org/1998/Math/MathML&quot;</span><span class=\"nt\">&gt;</span>\n",
       "          <span class=\"nt\">&lt;apply&gt;</span>\n",
       "            <span class=\"nt\">&lt;csymbol</span> <span class=\"na\">encoding=</span><span class=\"s\">&quot;text&quot;</span> <span class=\"na\">definitionURL=</span><span class=\"s\">&quot;http://www.sbml.org/sbml/symbols/distrib/gamma&quot;</span><span class=\"nt\">&gt;</span> gamma <span class=\"nt\">&lt;/csymbol&gt;</span>\n",
       "            <span class=\"nt\">&lt;cn</span> <span class=\"na\">type=</span><span class=\"s\">&quot;integer&quot;</span><span class=\"nt\">&gt;</span> 0 <span class=\"nt\">&lt;/cn&gt;</span>\n",
       "            <span class=\"nt\">&lt;cn</span> <span class=\"na\">type=</span><span class=\"s\">&quot;integer&quot;</span><span class=\"nt\">&gt;</span> 1 <span class=\"nt\">&lt;/cn&gt;</span>\n",
       "          <span class=\"nt\">&lt;/apply&gt;</span>\n",
       "        <span class=\"nt\">&lt;/math&gt;</span>\n",
       "      <span class=\"nt\">&lt;/initialAssignment&gt;</span>\n",
       "      <span class=\"nt\">&lt;initialAssignment</span> <span class=\"na\">symbol=</span><span class=\"s\">&quot;p_gamma_2&quot;</span><span class=\"nt\">&gt;</span>\n",
       "        <span class=\"nt\">&lt;math</span> <span class=\"na\">xmlns=</span><span class=\"s\">&quot;http://www.w3.org/1998/Math/MathML&quot;</span><span class=\"nt\">&gt;</span>\n",
       "          <span class=\"nt\">&lt;apply&gt;</span>\n",
       "            <span class=\"nt\">&lt;csymbol</span> <span class=\"na\">encoding=</span><span class=\"s\">&quot;text&quot;</span> <span class=\"na\">definitionURL=</span><span class=\"s\">&quot;http://www.sbml.org/sbml/symbols/distrib/gamma&quot;</span><span class=\"nt\">&gt;</span> gamma <span class=\"nt\">&lt;/csymbol&gt;</span>\n",
       "            <span class=\"nt\">&lt;cn</span> <span class=\"na\">type=</span><span class=\"s\">&quot;integer&quot;</span><span class=\"nt\">&gt;</span> 0 <span class=\"nt\">&lt;/cn&gt;</span>\n",
       "            <span class=\"nt\">&lt;cn</span> <span class=\"na\">type=</span><span class=\"s\">&quot;integer&quot;</span><span class=\"nt\">&gt;</span> 1 <span class=\"nt\">&lt;/cn&gt;</span>\n",
       "            <span class=\"nt\">&lt;cn</span> <span class=\"na\">type=</span><span class=\"s\">&quot;integer&quot;</span><span class=\"nt\">&gt;</span> 0 <span class=\"nt\">&lt;/cn&gt;</span>\n",
       "            <span class=\"nt\">&lt;cn</span> <span class=\"na\">type=</span><span class=\"s\">&quot;integer&quot;</span><span class=\"nt\">&gt;</span> 10 <span class=\"nt\">&lt;/cn&gt;</span>\n",
       "          <span class=\"nt\">&lt;/apply&gt;</span>\n",
       "        <span class=\"nt\">&lt;/math&gt;</span>\n",
       "      <span class=\"nt\">&lt;/initialAssignment&gt;</span>\n",
       "      <span class=\"nt\">&lt;initialAssignment</span> <span class=\"na\">symbol=</span><span class=\"s\">&quot;p_laplace_1&quot;</span><span class=\"nt\">&gt;</span>\n",
       "        <span class=\"nt\">&lt;math</span> <span class=\"na\">xmlns=</span><span class=\"s\">&quot;http://www.w3.org/1998/Math/MathML&quot;</span><span class=\"nt\">&gt;</span>\n",
       "          <span class=\"nt\">&lt;apply&gt;</span>\n",
       "            <span class=\"nt\">&lt;csymbol</span> <span class=\"na\">encoding=</span><span class=\"s\">&quot;text&quot;</span> <span class=\"na\">definitionURL=</span><span class=\"s\">&quot;http://www.sbml.org/sbml/symbols/distrib/laplace&quot;</span><span class=\"nt\">&gt;</span> laplace <span class=\"nt\">&lt;/csymbol&gt;</span>\n",
       "            <span class=\"nt\">&lt;cn</span> <span class=\"na\">type=</span><span class=\"s\">&quot;integer&quot;</span><span class=\"nt\">&gt;</span> 0 <span class=\"nt\">&lt;/cn&gt;</span>\n",
       "            <span class=\"nt\">&lt;cn</span> <span class=\"na\">type=</span><span class=\"s\">&quot;integer&quot;</span><span class=\"nt\">&gt;</span> 1 <span class=\"nt\">&lt;/cn&gt;</span>\n",
       "          <span class=\"nt\">&lt;/apply&gt;</span>\n",
       "        <span class=\"nt\">&lt;/math&gt;</span>\n",
       "      <span class=\"nt\">&lt;/initialAssignment&gt;</span>\n",
       "      <span class=\"nt\">&lt;initialAssignment</span> <span class=\"na\">symbol=</span><span class=\"s\">&quot;p_laplace_2&quot;</span><span class=\"nt\">&gt;</span>\n",
       "        <span class=\"nt\">&lt;math</span> <span class=\"na\">xmlns=</span><span class=\"s\">&quot;http://www.w3.org/1998/Math/MathML&quot;</span><span class=\"nt\">&gt;</span>\n",
       "          <span class=\"nt\">&lt;apply&gt;</span>\n",
       "            <span class=\"nt\">&lt;csymbol</span> <span class=\"na\">encoding=</span><span class=\"s\">&quot;text&quot;</span> <span class=\"na\">definitionURL=</span><span class=\"s\">&quot;http://www.sbml.org/sbml/symbols/distrib/laplace&quot;</span><span class=\"nt\">&gt;</span> laplace <span class=\"nt\">&lt;/csymbol&gt;</span>\n",
       "            <span class=\"nt\">&lt;cn</span> <span class=\"na\">type=</span><span class=\"s\">&quot;integer&quot;</span><span class=\"nt\">&gt;</span> 0 <span class=\"nt\">&lt;/cn&gt;</span>\n",
       "            <span class=\"nt\">&lt;cn</span> <span class=\"na\">type=</span><span class=\"s\">&quot;integer&quot;</span><span class=\"nt\">&gt;</span> 1 <span class=\"nt\">&lt;/cn&gt;</span>\n",
       "            <span class=\"nt\">&lt;cn</span> <span class=\"na\">type=</span><span class=\"s\">&quot;integer&quot;</span><span class=\"nt\">&gt;</span> 0 <span class=\"nt\">&lt;/cn&gt;</span>\n",
       "            <span class=\"nt\">&lt;cn</span> <span class=\"na\">type=</span><span class=\"s\">&quot;integer&quot;</span><span class=\"nt\">&gt;</span> 10 <span class=\"nt\">&lt;/cn&gt;</span>\n",
       "          <span class=\"nt\">&lt;/apply&gt;</span>\n",
       "        <span class=\"nt\">&lt;/math&gt;</span>\n",
       "      <span class=\"nt\">&lt;/initialAssignment&gt;</span>\n",
       "      <span class=\"nt\">&lt;initialAssignment</span> <span class=\"na\">symbol=</span><span class=\"s\">&quot;p_lognormal_1&quot;</span><span class=\"nt\">&gt;</span>\n",
       "        <span class=\"nt\">&lt;math</span> <span class=\"na\">xmlns=</span><span class=\"s\">&quot;http://www.w3.org/1998/Math/MathML&quot;</span><span class=\"nt\">&gt;</span>\n",
       "          <span class=\"nt\">&lt;apply&gt;</span>\n",
       "            <span class=\"nt\">&lt;csymbol</span> <span class=\"na\">encoding=</span><span class=\"s\">&quot;text&quot;</span> <span class=\"na\">definitionURL=</span><span class=\"s\">&quot;http://www.sbml.org/sbml/symbols/distrib/lognormal&quot;</span><span class=\"nt\">&gt;</span> lognormal <span class=\"nt\">&lt;/csymbol&gt;</span>\n",
       "            <span class=\"nt\">&lt;cn</span> <span class=\"na\">type=</span><span class=\"s\">&quot;integer&quot;</span><span class=\"nt\">&gt;</span> 0 <span class=\"nt\">&lt;/cn&gt;</span>\n",
       "            <span class=\"nt\">&lt;cn</span> <span class=\"na\">type=</span><span class=\"s\">&quot;integer&quot;</span><span class=\"nt\">&gt;</span> 1 <span class=\"nt\">&lt;/cn&gt;</span>\n",
       "          <span class=\"nt\">&lt;/apply&gt;</span>\n",
       "        <span class=\"nt\">&lt;/math&gt;</span>\n",
       "      <span class=\"nt\">&lt;/initialAssignment&gt;</span>\n",
       "      <span class=\"nt\">&lt;initialAssignment</span> <span class=\"na\">symbol=</span><span class=\"s\">&quot;p_lognormal_2&quot;</span><span class=\"nt\">&gt;</span>\n",
       "        <span class=\"nt\">&lt;math</span> <span class=\"na\">xmlns=</span><span class=\"s\">&quot;http://www.w3.org/1998/Math/MathML&quot;</span><span class=\"nt\">&gt;</span>\n",
       "          <span class=\"nt\">&lt;apply&gt;</span>\n",
       "            <span class=\"nt\">&lt;csymbol</span> <span class=\"na\">encoding=</span><span class=\"s\">&quot;text&quot;</span> <span class=\"na\">definitionURL=</span><span class=\"s\">&quot;http://www.sbml.org/sbml/symbols/distrib/lognormal&quot;</span><span class=\"nt\">&gt;</span> lognormal <span class=\"nt\">&lt;/csymbol&gt;</span>\n",
       "            <span class=\"nt\">&lt;cn</span> <span class=\"na\">type=</span><span class=\"s\">&quot;integer&quot;</span><span class=\"nt\">&gt;</span> 0 <span class=\"nt\">&lt;/cn&gt;</span>\n",
       "            <span class=\"nt\">&lt;cn</span> <span class=\"na\">type=</span><span class=\"s\">&quot;integer&quot;</span><span class=\"nt\">&gt;</span> 1 <span class=\"nt\">&lt;/cn&gt;</span>\n",
       "            <span class=\"nt\">&lt;cn</span> <span class=\"na\">type=</span><span class=\"s\">&quot;integer&quot;</span><span class=\"nt\">&gt;</span> 0 <span class=\"nt\">&lt;/cn&gt;</span>\n",
       "            <span class=\"nt\">&lt;cn</span> <span class=\"na\">type=</span><span class=\"s\">&quot;integer&quot;</span><span class=\"nt\">&gt;</span> 10 <span class=\"nt\">&lt;/cn&gt;</span>\n",
       "          <span class=\"nt\">&lt;/apply&gt;</span>\n",
       "        <span class=\"nt\">&lt;/math&gt;</span>\n",
       "      <span class=\"nt\">&lt;/initialAssignment&gt;</span>\n",
       "      <span class=\"nt\">&lt;initialAssignment</span> <span class=\"na\">symbol=</span><span class=\"s\">&quot;p_poisson_1&quot;</span><span class=\"nt\">&gt;</span>\n",
       "        <span class=\"nt\">&lt;math</span> <span class=\"na\">xmlns=</span><span class=\"s\">&quot;http://www.w3.org/1998/Math/MathML&quot;</span><span class=\"nt\">&gt;</span>\n",
       "          <span class=\"nt\">&lt;apply&gt;</span>\n",
       "            <span class=\"nt\">&lt;csymbol</span> <span class=\"na\">encoding=</span><span class=\"s\">&quot;text&quot;</span> <span class=\"na\">definitionURL=</span><span class=\"s\">&quot;http://www.sbml.org/sbml/symbols/distrib/poisson&quot;</span><span class=\"nt\">&gt;</span> poisson <span class=\"nt\">&lt;/csymbol&gt;</span>\n",
       "            <span class=\"nt\">&lt;cn&gt;</span> 0.5 <span class=\"nt\">&lt;/cn&gt;</span>\n",
       "          <span class=\"nt\">&lt;/apply&gt;</span>\n",
       "        <span class=\"nt\">&lt;/math&gt;</span>\n",
       "      <span class=\"nt\">&lt;/initialAssignment&gt;</span>\n",
       "      <span class=\"nt\">&lt;initialAssignment</span> <span class=\"na\">symbol=</span><span class=\"s\">&quot;p_poisson_2&quot;</span><span class=\"nt\">&gt;</span>\n",
       "        <span class=\"nt\">&lt;math</span> <span class=\"na\">xmlns=</span><span class=\"s\">&quot;http://www.w3.org/1998/Math/MathML&quot;</span><span class=\"nt\">&gt;</span>\n",
       "          <span class=\"nt\">&lt;apply&gt;</span>\n",
       "            <span class=\"nt\">&lt;csymbol</span> <span class=\"na\">encoding=</span><span class=\"s\">&quot;text&quot;</span> <span class=\"na\">definitionURL=</span><span class=\"s\">&quot;http://www.sbml.org/sbml/symbols/distrib/poisson&quot;</span><span class=\"nt\">&gt;</span> poisson <span class=\"nt\">&lt;/csymbol&gt;</span>\n",
       "            <span class=\"nt\">&lt;cn&gt;</span> 0.5 <span class=\"nt\">&lt;/cn&gt;</span>\n",
       "            <span class=\"nt\">&lt;cn</span> <span class=\"na\">type=</span><span class=\"s\">&quot;integer&quot;</span><span class=\"nt\">&gt;</span> 0 <span class=\"nt\">&lt;/cn&gt;</span>\n",
       "            <span class=\"nt\">&lt;cn</span> <span class=\"na\">type=</span><span class=\"s\">&quot;integer&quot;</span><span class=\"nt\">&gt;</span> 10 <span class=\"nt\">&lt;/cn&gt;</span>\n",
       "          <span class=\"nt\">&lt;/apply&gt;</span>\n",
       "        <span class=\"nt\">&lt;/math&gt;</span>\n",
       "      <span class=\"nt\">&lt;/initialAssignment&gt;</span>\n",
       "      <span class=\"nt\">&lt;initialAssignment</span> <span class=\"na\">symbol=</span><span class=\"s\">&quot;p_raleigh_1&quot;</span><span class=\"nt\">&gt;</span>\n",
       "        <span class=\"nt\">&lt;math</span> <span class=\"na\">xmlns=</span><span class=\"s\">&quot;http://www.w3.org/1998/Math/MathML&quot;</span><span class=\"nt\">&gt;</span>\n",
       "          <span class=\"nt\">&lt;apply&gt;</span>\n",
       "            <span class=\"nt\">&lt;csymbol</span> <span class=\"na\">encoding=</span><span class=\"s\">&quot;text&quot;</span> <span class=\"na\">definitionURL=</span><span class=\"s\">&quot;http://www.sbml.org/sbml/symbols/distrib/rayleigh&quot;</span><span class=\"nt\">&gt;</span> rayleigh <span class=\"nt\">&lt;/csymbol&gt;</span>\n",
       "            <span class=\"nt\">&lt;cn&gt;</span> 0.5 <span class=\"nt\">&lt;/cn&gt;</span>\n",
       "          <span class=\"nt\">&lt;/apply&gt;</span>\n",
       "        <span class=\"nt\">&lt;/math&gt;</span>\n",
       "      <span class=\"nt\">&lt;/initialAssignment&gt;</span>\n",
       "      <span class=\"nt\">&lt;initialAssignment</span> <span class=\"na\">symbol=</span><span class=\"s\">&quot;p_raleigh_2&quot;</span><span class=\"nt\">&gt;</span>\n",
       "        <span class=\"nt\">&lt;math</span> <span class=\"na\">xmlns=</span><span class=\"s\">&quot;http://www.w3.org/1998/Math/MathML&quot;</span><span class=\"nt\">&gt;</span>\n",
       "          <span class=\"nt\">&lt;apply&gt;</span>\n",
       "            <span class=\"nt\">&lt;csymbol</span> <span class=\"na\">encoding=</span><span class=\"s\">&quot;text&quot;</span> <span class=\"na\">definitionURL=</span><span class=\"s\">&quot;http://www.sbml.org/sbml/symbols/distrib/rayleigh&quot;</span><span class=\"nt\">&gt;</span> rayleigh <span class=\"nt\">&lt;/csymbol&gt;</span>\n",
       "            <span class=\"nt\">&lt;cn&gt;</span> 0.5 <span class=\"nt\">&lt;/cn&gt;</span>\n",
       "            <span class=\"nt\">&lt;cn</span> <span class=\"na\">type=</span><span class=\"s\">&quot;integer&quot;</span><span class=\"nt\">&gt;</span> 0 <span class=\"nt\">&lt;/cn&gt;</span>\n",
       "            <span class=\"nt\">&lt;cn</span> <span class=\"na\">type=</span><span class=\"s\">&quot;integer&quot;</span><span class=\"nt\">&gt;</span> 10 <span class=\"nt\">&lt;/cn&gt;</span>\n",
       "          <span class=\"nt\">&lt;/apply&gt;</span>\n",
       "        <span class=\"nt\">&lt;/math&gt;</span>\n",
       "      <span class=\"nt\">&lt;/initialAssignment&gt;</span>\n",
       "    <span class=\"nt\">&lt;/listOfInitialAssignments&gt;</span>\n",
       "  <span class=\"nt\">&lt;/model&gt;</span>\n",
       "<span class=\"nt\">&lt;/sbml&gt;</span>\n",
       "</pre></div>\n"
      ]
     },
     "metadata": {},
     "output_type": "display_data"
    },
    {
     "data": {
      "text/html": [
       "<pre style=\"white-space:pre;overflow-x:auto;line-height:normal;font-family:Menlo,'DejaVu Sans Mono',consolas,'Courier New',monospace\">\n",
       "</pre>\n"
      ],
      "text/plain": [
       "\n"
      ]
     },
     "metadata": {},
     "output_type": "display_data"
    },
    {
     "data": {
      "text/html": [
       "<pre style=\"white-space:pre;overflow-x:auto;line-height:normal;font-family:Menlo,'DejaVu Sans Mono',consolas,'Courier New',monospace\"><span style=\"color: #008000; text-decoration-color: #008000\">────────────────────────────────────────────────── </span>Validate SBML<span style=\"color: #008000; text-decoration-color: #008000\"> ──────────────────────────────────────────────────</span>\n",
       "</pre>\n"
      ],
      "text/plain": [
       "\u001b[32m────────────────────────────────────────────────── \u001b[0mValidate SBML\u001b[32m ──────────────────────────────────────────────────\u001b[0m\n"
      ]
     },
     "metadata": {},
     "output_type": "display_data"
    },
    {
     "data": {
      "text/html": [
       "<pre style=\"white-space:pre;overflow-x:auto;line-height:normal;font-family:Menlo,'DejaVu Sans Mono',consolas,'Courier New',monospace\"><span style=\"color: #008000; text-decoration-color: #008000; font-weight: bold\">&lt;</span><span style=\"color: #ff00ff; text-decoration-color: #ff00ff; font-weight: bold\">SBMLDocument</span><span style=\"color: #008000; text-decoration-color: #008000; font-weight: bold\">&gt;</span>\n",
       "<span style=\"color: #008000; text-decoration-color: #008000\">valid                    : TRUE</span>\n",
       "<span style=\"color: #008000; text-decoration-color: #008000\">check time </span><span style=\"color: #008000; text-decoration-color: #008000; font-weight: bold\">(</span><span style=\"color: #008000; text-decoration-color: #008000\">s</span><span style=\"color: #008000; text-decoration-color: #008000; font-weight: bold\">)</span><span style=\"color: #008000; text-decoration-color: #008000\">           : </span><span style=\"color: #008080; text-decoration-color: #008080; font-weight: bold\">0.004</span>\n",
       "</pre>\n"
      ],
      "text/plain": [
       "\u001b[1;32m<\u001b[0m\u001b[1;95mSBMLDocument\u001b[0m\u001b[1;32m>\u001b[0m\n",
       "\u001b[32mvalid                    : TRUE\u001b[0m\n",
       "\u001b[32mcheck time \u001b[0m\u001b[1;32m(\u001b[0m\u001b[32ms\u001b[0m\u001b[1;32m)\u001b[0m\u001b[32m           : \u001b[0m\u001b[1;36m0.004\u001b[0m\n"
      ]
     },
     "metadata": {},
     "output_type": "display_data"
    },
    {
     "data": {
      "text/html": [
       "<pre style=\"white-space:pre;overflow-x:auto;line-height:normal;font-family:Menlo,'DejaVu Sans Mono',consolas,'Courier New',monospace\"><span style=\"color: #008000; text-decoration-color: #008000\">───────────────────────────────────────────────────────────────────────────────────────────────────────────────────</span>\n",
       "</pre>\n"
      ],
      "text/plain": [
       "\u001b[32m───────────────────────────────────────────────────────────────────────────────────────────────────────────────────\u001b[0m\n"
      ]
     },
     "metadata": {},
     "output_type": "display_data"
    },
    {
     "data": {
      "text/html": [
       "<pre style=\"white-space:pre;overflow-x:auto;line-height:normal;font-family:Menlo,'DejaVu Sans Mono',consolas,'Courier New',monospace\">\n",
       "</pre>\n"
      ],
      "text/plain": [
       "\n"
      ]
     },
     "metadata": {},
     "output_type": "display_data"
    }
   ],
   "source": [
    "model = Model(\n",
    "    'all_distributions',\n",
    "    packages = [Package.DISTRIB_V1],\n",
    "    objects = [\n",
    "        InitialAssignment('p_normal_1', 'normal(0, 1)'),\n",
    "        InitialAssignment('p_normal_2', 'normal(0, 1, 0, 10)'),\n",
    "        InitialAssignment('p_uniform', 'uniform(5, 10)'),\n",
    "        InitialAssignment('p_bernoulli', 'bernoulli(0.4)'),\n",
    "        InitialAssignment('p_binomial_1', 'binomial(100, 0.3)'),\n",
    "        InitialAssignment('p_binomial_2', 'binomial(100, 0.3, 0, 2)'),\n",
    "        InitialAssignment('p_cauchy_1', 'cauchy(0, 1)'),\n",
    "        InitialAssignment('p_cauchy_2', 'cauchy(0, 1, 0, 5)'),\n",
    "        InitialAssignment('p_chisquare_1', 'chisquare(10)'),\n",
    "        InitialAssignment('p_chisquare_2', 'chisquare(10, 0, 10)'),\n",
    "        InitialAssignment('p_exponential_1', 'exponential(1.0)'),\n",
    "        InitialAssignment('p_exponential_2', 'exponential(1.0, 0, 10)'),\n",
    "        InitialAssignment('p_gamma_1', 'gamma(0, 1)'),\n",
    "        InitialAssignment('p_gamma_2', 'gamma(0, 1, 0, 10)'),\n",
    "        InitialAssignment('p_laplace_1', 'laplace(0, 1)'),\n",
    "        InitialAssignment('p_laplace_2', 'laplace(0, 1, 0, 10)'),\n",
    "        InitialAssignment('p_lognormal_1', 'lognormal(0, 1)'),\n",
    "        InitialAssignment('p_lognormal_2', 'lognormal(0, 1, 0, 10)'),\n",
    "        InitialAssignment('p_poisson_1', 'poisson(0.5)'),\n",
    "        InitialAssignment('p_poisson_2', 'poisson(0.5, 0, 10)'),\n",
    "        InitialAssignment('p_raleigh_1', 'rayleigh(0.5)'),\n",
    "        InitialAssignment('p_raleigh_2', 'rayleigh(0.5, 0, 10)'),\n",
    "    ]\n",
    ")\n",
    "\n",
    "# create model and print SBML\n",
    "doc = Document(model)\n",
    "print_xml(doc.get_sbml())\n",
    "\n",
    "# validate model\n",
    "validate_doc(doc.doc, options=ValidationOptions(units_consistency=False));"
   ]
  },
  {
   "cell_type": "markdown",
   "metadata": {},
   "source": [
    "### Basic uncertainty example\n",
    "Here, the species with an initial amount of `3.22` is described as having a `standard deviation` of `0.3`, a value that might\n",
    "be written as `3.22 +- 0.3`."
   ]
  },
  {
   "cell_type": "code",
   "execution_count": 8,
   "metadata": {},
   "outputs": [
    {
     "data": {
      "text/html": [
       "<pre style=\"white-space:pre;overflow-x:auto;line-height:normal;font-family:Menlo,'DejaVu Sans Mono',consolas,'Courier New',monospace\"><span style=\"color: #000080; text-decoration-color: #000080\">INFO    </span> Create SBML for model <span style=\"color: #008000; text-decoration-color: #008000\">'basic_example_1'</span>                                                    <a href=\"file:///home/mkoenig/git/sbmlutils/src/sbmlutils/factory.py\" target=\"_blank\"><span style=\"color: #7f7f7f; text-decoration-color: #7f7f7f\">factory.py</span></a><span style=\"color: #7f7f7f; text-decoration-color: #7f7f7f\">:</span><a href=\"file:///home/mkoenig/git/sbmlutils/src/sbmlutils/factory.py#3526\" target=\"_blank\"><span style=\"color: #7f7f7f; text-decoration-color: #7f7f7f\">3526</span></a>\n",
       "</pre>\n"
      ],
      "text/plain": [
       "\u001b[34mINFO    \u001b[0m Create SBML for model \u001b[32m'basic_example_1'\u001b[0m                                                    \u001b]8;id=16280;file:///home/mkoenig/git/sbmlutils/src/sbmlutils/factory.py\u001b\\\u001b[2mfactory.py\u001b[0m\u001b]8;;\u001b\\\u001b[2m:\u001b[0m\u001b]8;id=602550;file:///home/mkoenig/git/sbmlutils/src/sbmlutils/factory.py#3526\u001b\\\u001b[2m3526\u001b[0m\u001b]8;;\u001b\\\n"
      ]
     },
     "metadata": {},
     "output_type": "display_data"
    },
    {
     "data": {
      "text/html": [
       "<pre style=\"white-space:pre;overflow-x:auto;line-height:normal;font-family:Menlo,'DejaVu Sans Mono',consolas,'Courier New',monospace\"><span style=\"color: #800000; text-decoration-color: #800000\">WARNING </span> <span style=\"color: #008000; text-decoration-color: #008000\">'name'</span> should be set on <span style=\"color: #008000; text-decoration-color: #008000\">'Model(sid='</span>basic_example_1', <span style=\"color: #808000; text-decoration-color: #808000\">packages</span>=<span style=\"font-weight: bold\">[&lt;</span><span style=\"color: #ff00ff; text-decoration-color: #ff00ff; font-weight: bold\">Package.DISTRIB_V1:</span><span style=\"color: #000000; text-decoration-color: #000000\"> </span>       <a href=\"file:///home/mkoenig/git/sbmlutils/src/sbmlutils/factory.py\" target=\"_blank\"><span style=\"color: #7f7f7f; text-decoration-color: #7f7f7f\">factory.py</span></a><span style=\"color: #7f7f7f; text-decoration-color: #7f7f7f\">:</span><a href=\"file:///home/mkoenig/git/sbmlutils/src/sbmlutils/factory.py#441\" target=\"_blank\"><span style=\"color: #7f7f7f; text-decoration-color: #7f7f7f\">441</span></a>\n",
       "         <span style=\"color: #008000; text-decoration-color: #008000\">'distrib-v1'</span><span style=\"font-weight: bold\">&gt;</span>, <span style=\"font-weight: bold\">&lt;</span><span style=\"color: #ff00ff; text-decoration-color: #ff00ff; font-weight: bold\">Package.COMP_V1:</span><span style=\"color: #000000; text-decoration-color: #000000\"> </span><span style=\"color: #008000; text-decoration-color: #008000\">'comp-v1'</span><span style=\"font-weight: bold\">&gt;]</span>, <span style=\"color: #808000; text-decoration-color: #808000\">units</span>=<span style=\"font-weight: bold\">&lt;</span><span style=\"color: #ff00ff; text-decoration-color: #ff00ff; font-weight: bold\">class</span><span style=\"color: #000000; text-decoration-color: #000000\"> </span><span style=\"color: #008000; text-decoration-color: #008000\">'sbmlutils.factory.Units'</span><span style=\"font-weight: bold\">&gt;</span>,      <span style=\"color: #7f7f7f; text-decoration-color: #7f7f7f\">              </span>\n",
       "         <span style=\"color: #808000; text-decoration-color: #808000\">compartments</span>=<span style=\"font-weight: bold\">[</span>C = <span style=\"color: #008080; text-decoration-color: #008080; font-weight: bold\">1.0</span> <span style=\"font-weight: bold\">[</span><span style=\"color: #800080; text-decoration-color: #800080; font-style: italic\">None</span><span style=\"font-weight: bold\">]]</span>, <span style=\"color: #808000; text-decoration-color: #808000\">species</span>=<span style=\"font-weight: bold\">[&lt;</span><span style=\"color: #ff00ff; text-decoration-color: #ff00ff; font-weight: bold\">sbmlutils.factory.Species</span><span style=\"color: #000000; text-decoration-color: #000000\"> object at </span>               <span style=\"color: #7f7f7f; text-decoration-color: #7f7f7f\">              </span>\n",
       "         <span style=\"color: #008080; text-decoration-color: #008080; font-weight: bold\">0x7f8eaa93f9a0</span><span style=\"font-weight: bold\">&gt;]</span>, <span style=\"color: #808000; text-decoration-color: #808000\">_FrozenClass__isfrozen</span>=<span style=\"color: #00ff00; text-decoration-color: #00ff00; font-style: italic\">True</span><span style=\"font-weight: bold\">)</span>'                                             <span style=\"color: #7f7f7f; text-decoration-color: #7f7f7f\">              </span>\n",
       "</pre>\n"
      ],
      "text/plain": [
       "\u001b[31mWARNING \u001b[0m \u001b[32m'name'\u001b[0m should be set on \u001b[32m'Model\u001b[0m\u001b[32m(\u001b[0m\u001b[32msid\u001b[0m\u001b[32m='\u001b[0mbasic_example_1', \u001b[33mpackages\u001b[0m=\u001b[1m[\u001b[0m\u001b[1m<\u001b[0m\u001b[1;95mPackage.DISTRIB_V1:\u001b[0m\u001b[39m \u001b[0m       \u001b]8;id=647246;file:///home/mkoenig/git/sbmlutils/src/sbmlutils/factory.py\u001b\\\u001b[2mfactory.py\u001b[0m\u001b]8;;\u001b\\\u001b[2m:\u001b[0m\u001b]8;id=2865;file:///home/mkoenig/git/sbmlutils/src/sbmlutils/factory.py#441\u001b\\\u001b[2m441\u001b[0m\u001b]8;;\u001b\\\n",
       "         \u001b[32m'distrib-v1'\u001b[0m\u001b[1m>\u001b[0m, \u001b[1m<\u001b[0m\u001b[1;95mPackage.COMP_V1:\u001b[0m\u001b[39m \u001b[0m\u001b[32m'comp-v1'\u001b[0m\u001b[1m>\u001b[0m\u001b[1m]\u001b[0m, \u001b[33munits\u001b[0m=\u001b[1m<\u001b[0m\u001b[1;95mclass\u001b[0m\u001b[39m \u001b[0m\u001b[32m'sbmlutils.factory.Units'\u001b[0m\u001b[1m>\u001b[0m,      \u001b[2m              \u001b[0m\n",
       "         \u001b[33mcompartments\u001b[0m=\u001b[1m[\u001b[0mC = \u001b[1;36m1.0\u001b[0m \u001b[1m[\u001b[0m\u001b[3;35mNone\u001b[0m\u001b[1m]\u001b[0m\u001b[1m]\u001b[0m, \u001b[33mspecies\u001b[0m=\u001b[1m[\u001b[0m\u001b[1m<\u001b[0m\u001b[1;95msbmlutils.factory.Species\u001b[0m\u001b[39m object at \u001b[0m               \u001b[2m              \u001b[0m\n",
       "         \u001b[1;36m0x7f8eaa93f9a0\u001b[0m\u001b[1m>\u001b[0m\u001b[1m]\u001b[0m, \u001b[33m_FrozenClass__isfrozen\u001b[0m=\u001b[3;92mTrue\u001b[0m\u001b[1m)\u001b[0m'                                             \u001b[2m              \u001b[0m\n"
      ]
     },
     "metadata": {},
     "output_type": "display_data"
    },
    {
     "data": {
      "text/html": [
       "<pre style=\"white-space:pre;overflow-x:auto;line-height:normal;font-family:Menlo,'DejaVu Sans Mono',consolas,'Courier New',monospace\"><span style=\"color: #800000; text-decoration-color: #800000\">WARNING </span> <span style=\"color: #008000; text-decoration-color: #008000\">'name'</span> should be set on <span style=\"color: #008000; text-decoration-color: #008000\">'Compartment(C)'</span>                                                    <a href=\"file:///home/mkoenig/git/sbmlutils/src/sbmlutils/factory.py\" target=\"_blank\"><span style=\"color: #7f7f7f; text-decoration-color: #7f7f7f\">factory.py</span></a><span style=\"color: #7f7f7f; text-decoration-color: #7f7f7f\">:</span><a href=\"file:///home/mkoenig/git/sbmlutils/src/sbmlutils/factory.py#441\" target=\"_blank\"><span style=\"color: #7f7f7f; text-decoration-color: #7f7f7f\">441</span></a>\n",
       "</pre>\n"
      ],
      "text/plain": [
       "\u001b[31mWARNING \u001b[0m \u001b[32m'name'\u001b[0m should be set on \u001b[32m'Compartment\u001b[0m\u001b[32m(\u001b[0m\u001b[32mC\u001b[0m\u001b[32m)\u001b[0m\u001b[32m'\u001b[0m                                                    \u001b]8;id=695302;file:///home/mkoenig/git/sbmlutils/src/sbmlutils/factory.py\u001b\\\u001b[2mfactory.py\u001b[0m\u001b]8;;\u001b\\\u001b[2m:\u001b[0m\u001b]8;id=745862;file:///home/mkoenig/git/sbmlutils/src/sbmlutils/factory.py#441\u001b\\\u001b[2m441\u001b[0m\u001b]8;;\u001b\\\n"
      ]
     },
     "metadata": {},
     "output_type": "display_data"
    },
    {
     "data": {
      "text/html": [
       "<pre style=\"white-space:pre;overflow-x:auto;line-height:normal;font-family:Menlo,'DejaVu Sans Mono',consolas,'Courier New',monospace\"><span style=\"color: #800000; text-decoration-color: #800000\">WARNING </span> <span style=\"color: #008000; text-decoration-color: #008000\">'sboTerm'</span> should be set on <span style=\"color: #008000; text-decoration-color: #008000\">'Compartment(C)'</span>                                                 <a href=\"file:///home/mkoenig/git/sbmlutils/src/sbmlutils/factory.py\" target=\"_blank\"><span style=\"color: #7f7f7f; text-decoration-color: #7f7f7f\">factory.py</span></a><span style=\"color: #7f7f7f; text-decoration-color: #7f7f7f\">:</span><a href=\"file:///home/mkoenig/git/sbmlutils/src/sbmlutils/factory.py#466\" target=\"_blank\"><span style=\"color: #7f7f7f; text-decoration-color: #7f7f7f\">466</span></a>\n",
       "</pre>\n"
      ],
      "text/plain": [
       "\u001b[31mWARNING \u001b[0m \u001b[32m'sboTerm'\u001b[0m should be set on \u001b[32m'Compartment\u001b[0m\u001b[32m(\u001b[0m\u001b[32mC\u001b[0m\u001b[32m)\u001b[0m\u001b[32m'\u001b[0m                                                 \u001b]8;id=439789;file:///home/mkoenig/git/sbmlutils/src/sbmlutils/factory.py\u001b\\\u001b[2mfactory.py\u001b[0m\u001b]8;;\u001b\\\u001b[2m:\u001b[0m\u001b]8;id=923132;file:///home/mkoenig/git/sbmlutils/src/sbmlutils/factory.py#466\u001b\\\u001b[2m466\u001b[0m\u001b]8;;\u001b\\\n"
      ]
     },
     "metadata": {},
     "output_type": "display_data"
    },
    {
     "data": {
      "text/html": [
       "<pre style=\"white-space:pre;overflow-x:auto;line-height:normal;font-family:Menlo,'DejaVu Sans Mono',consolas,'Courier New',monospace\"><span style=\"color: #800000; text-decoration-color: #800000\">WARNING </span> <span style=\"color: #008000; text-decoration-color: #008000\">'name'</span> should be set on <span style=\"color: #008000; text-decoration-color: #008000\">'Species(s1, [&lt;sbmlutils.factory.Uncertainty object at </span>             <a href=\"file:///home/mkoenig/git/sbmlutils/src/sbmlutils/factory.py\" target=\"_blank\"><span style=\"color: #7f7f7f; text-decoration-color: #7f7f7f\">factory.py</span></a><span style=\"color: #7f7f7f; text-decoration-color: #7f7f7f\">:</span><a href=\"file:///home/mkoenig/git/sbmlutils/src/sbmlutils/factory.py#441\" target=\"_blank\"><span style=\"color: #7f7f7f; text-decoration-color: #7f7f7f\">441</span></a>\n",
       "         <span style=\"color: #008000; text-decoration-color: #008000\">0x7f8eaa93ffd0&gt;])'</span>                                                                          <span style=\"color: #7f7f7f; text-decoration-color: #7f7f7f\">              </span>\n",
       "</pre>\n"
      ],
      "text/plain": [
       "\u001b[31mWARNING \u001b[0m \u001b[32m'name'\u001b[0m should be set on \u001b[32m'Species\u001b[0m\u001b[32m(\u001b[0m\u001b[32ms1, \u001b[0m\u001b[32m[\u001b[0m\u001b[32m<\u001b[0m\u001b[32msbmlutils.factory.Uncertainty\u001b[0m\u001b[32m object at \u001b[0m             \u001b]8;id=627456;file:///home/mkoenig/git/sbmlutils/src/sbmlutils/factory.py\u001b\\\u001b[2mfactory.py\u001b[0m\u001b]8;;\u001b\\\u001b[2m:\u001b[0m\u001b]8;id=459760;file:///home/mkoenig/git/sbmlutils/src/sbmlutils/factory.py#441\u001b\\\u001b[2m441\u001b[0m\u001b]8;;\u001b\\\n",
       "         \u001b[32m0x7f8eaa93ffd0\u001b[0m\u001b[32m>\u001b[0m\u001b[32m]\u001b[0m\u001b[32m)\u001b[0m\u001b[32m'\u001b[0m                                                                          \u001b[2m              \u001b[0m\n"
      ]
     },
     "metadata": {},
     "output_type": "display_data"
    },
    {
     "data": {
      "text/html": [
       "<pre style=\"white-space:pre;overflow-x:auto;line-height:normal;font-family:Menlo,'DejaVu Sans Mono',consolas,'Courier New',monospace\"><span style=\"color: #800000; text-decoration-color: #800000\">WARNING </span> <span style=\"color: #008000; text-decoration-color: #008000\">'sboTerm'</span> should be set on <span style=\"color: #008000; text-decoration-color: #008000\">'Species(s1, [&lt;sbmlutils.factory.Uncertainty object at </span>          <a href=\"file:///home/mkoenig/git/sbmlutils/src/sbmlutils/factory.py\" target=\"_blank\"><span style=\"color: #7f7f7f; text-decoration-color: #7f7f7f\">factory.py</span></a><span style=\"color: #7f7f7f; text-decoration-color: #7f7f7f\">:</span><a href=\"file:///home/mkoenig/git/sbmlutils/src/sbmlutils/factory.py#466\" target=\"_blank\"><span style=\"color: #7f7f7f; text-decoration-color: #7f7f7f\">466</span></a>\n",
       "         <span style=\"color: #008000; text-decoration-color: #008000\">0x7f8eaa93ffd0&gt;])'</span>                                                                          <span style=\"color: #7f7f7f; text-decoration-color: #7f7f7f\">              </span>\n",
       "</pre>\n"
      ],
      "text/plain": [
       "\u001b[31mWARNING \u001b[0m \u001b[32m'sboTerm'\u001b[0m should be set on \u001b[32m'Species\u001b[0m\u001b[32m(\u001b[0m\u001b[32ms1, \u001b[0m\u001b[32m[\u001b[0m\u001b[32m<\u001b[0m\u001b[32msbmlutils.factory.Uncertainty\u001b[0m\u001b[32m object at \u001b[0m          \u001b]8;id=988984;file:///home/mkoenig/git/sbmlutils/src/sbmlutils/factory.py\u001b\\\u001b[2mfactory.py\u001b[0m\u001b]8;;\u001b\\\u001b[2m:\u001b[0m\u001b]8;id=642907;file:///home/mkoenig/git/sbmlutils/src/sbmlutils/factory.py#466\u001b\\\u001b[2m466\u001b[0m\u001b]8;;\u001b\\\n",
       "         \u001b[32m0x7f8eaa93ffd0\u001b[0m\u001b[32m>\u001b[0m\u001b[32m]\u001b[0m\u001b[32m)\u001b[0m\u001b[32m'\u001b[0m                                                                          \u001b[2m              \u001b[0m\n"
      ]
     },
     "metadata": {},
     "output_type": "display_data"
    },
    {
     "data": {
      "text/html": [
       "<pre style=\"white-space:pre;overflow-x:auto;line-height:normal;font-family:Menlo,'DejaVu Sans Mono',consolas,'Courier New',monospace\"><span style=\"color: #800000; text-decoration-color: #800000\">WARNING </span> <span style=\"color: #008000; text-decoration-color: #008000\">'name'</span> should be set on <span style=\"color: #008000; text-decoration-color: #008000\">'Uncertainty()'</span>                                                     <a href=\"file:///home/mkoenig/git/sbmlutils/src/sbmlutils/factory.py\" target=\"_blank\"><span style=\"color: #7f7f7f; text-decoration-color: #7f7f7f\">factory.py</span></a><span style=\"color: #7f7f7f; text-decoration-color: #7f7f7f\">:</span><a href=\"file:///home/mkoenig/git/sbmlutils/src/sbmlutils/factory.py#441\" target=\"_blank\"><span style=\"color: #7f7f7f; text-decoration-color: #7f7f7f\">441</span></a>\n",
       "</pre>\n"
      ],
      "text/plain": [
       "\u001b[31mWARNING \u001b[0m \u001b[32m'name'\u001b[0m should be set on \u001b[32m'Uncertainty\u001b[0m\u001b[32m(\u001b[0m\u001b[32m)\u001b[0m\u001b[32m'\u001b[0m                                                     \u001b]8;id=715529;file:///home/mkoenig/git/sbmlutils/src/sbmlutils/factory.py\u001b\\\u001b[2mfactory.py\u001b[0m\u001b]8;;\u001b\\\u001b[2m:\u001b[0m\u001b]8;id=931984;file:///home/mkoenig/git/sbmlutils/src/sbmlutils/factory.py#441\u001b\\\u001b[2m441\u001b[0m\u001b]8;;\u001b\\\n"
      ]
     },
     "metadata": {},
     "output_type": "display_data"
    },
    {
     "data": {
      "text/html": [
       "<pre style=\"white-space:pre;overflow-x:auto;line-height:normal;font-family:Menlo,'DejaVu Sans Mono',consolas,'Courier New',monospace\"><span style=\"color: #800000; text-decoration-color: #800000\">WARNING </span> <span style=\"color: #008000; text-decoration-color: #008000\">'sboTerm'</span> should be set on <span style=\"color: #008000; text-decoration-color: #008000\">'Uncertainty()'</span>                                                  <a href=\"file:///home/mkoenig/git/sbmlutils/src/sbmlutils/factory.py\" target=\"_blank\"><span style=\"color: #7f7f7f; text-decoration-color: #7f7f7f\">factory.py</span></a><span style=\"color: #7f7f7f; text-decoration-color: #7f7f7f\">:</span><a href=\"file:///home/mkoenig/git/sbmlutils/src/sbmlutils/factory.py#466\" target=\"_blank\"><span style=\"color: #7f7f7f; text-decoration-color: #7f7f7f\">466</span></a>\n",
       "</pre>\n"
      ],
      "text/plain": [
       "\u001b[31mWARNING \u001b[0m \u001b[32m'sboTerm'\u001b[0m should be set on \u001b[32m'Uncertainty\u001b[0m\u001b[32m(\u001b[0m\u001b[32m)\u001b[0m\u001b[32m'\u001b[0m                                                  \u001b]8;id=130472;file:///home/mkoenig/git/sbmlutils/src/sbmlutils/factory.py\u001b\\\u001b[2mfactory.py\u001b[0m\u001b]8;;\u001b\\\u001b[2m:\u001b[0m\u001b]8;id=41928;file:///home/mkoenig/git/sbmlutils/src/sbmlutils/factory.py#466\u001b\\\u001b[2m466\u001b[0m\u001b]8;;\u001b\\\n"
      ]
     },
     "metadata": {},
     "output_type": "display_data"
    },
    {
     "data": {
      "text/html": [
       "<style type=\"text/css\">pre { line-height: 125%; }\n",
       "td.linenos .normal { color: inherit; background-color: transparent; padding-left: 5px; padding-right: 5px; }\n",
       "span.linenos { color: inherit; background-color: transparent; padding-left: 5px; padding-right: 5px; }\n",
       "td.linenos .special { color: #000000; background-color: #ffffc0; padding-left: 5px; padding-right: 5px; }\n",
       "span.linenos.special { color: #000000; background-color: #ffffc0; padding-left: 5px; padding-right: 5px; }\n",
       ".highlight .hll { background-color: #ffffcc }\n",
       ".highlight { background: #f8f8f8; }\n",
       ".highlight .c { color: #3D7B7B; font-style: italic } /* Comment */\n",
       ".highlight .err { border: 1px solid #FF0000 } /* Error */\n",
       ".highlight .k { color: #008000; font-weight: bold } /* Keyword */\n",
       ".highlight .o { color: #666666 } /* Operator */\n",
       ".highlight .ch { color: #3D7B7B; font-style: italic } /* Comment.Hashbang */\n",
       ".highlight .cm { color: #3D7B7B; font-style: italic } /* Comment.Multiline */\n",
       ".highlight .cp { color: #9C6500 } /* Comment.Preproc */\n",
       ".highlight .cpf { color: #3D7B7B; font-style: italic } /* Comment.PreprocFile */\n",
       ".highlight .c1 { color: #3D7B7B; font-style: italic } /* Comment.Single */\n",
       ".highlight .cs { color: #3D7B7B; font-style: italic } /* Comment.Special */\n",
       ".highlight .gd { color: #A00000 } /* Generic.Deleted */\n",
       ".highlight .ge { font-style: italic } /* Generic.Emph */\n",
       ".highlight .gr { color: #E40000 } /* Generic.Error */\n",
       ".highlight .gh { color: #000080; font-weight: bold } /* Generic.Heading */\n",
       ".highlight .gi { color: #008400 } /* Generic.Inserted */\n",
       ".highlight .go { color: #717171 } /* Generic.Output */\n",
       ".highlight .gp { color: #000080; font-weight: bold } /* Generic.Prompt */\n",
       ".highlight .gs { font-weight: bold } /* Generic.Strong */\n",
       ".highlight .gu { color: #800080; font-weight: bold } /* Generic.Subheading */\n",
       ".highlight .gt { color: #0044DD } /* Generic.Traceback */\n",
       ".highlight .kc { color: #008000; font-weight: bold } /* Keyword.Constant */\n",
       ".highlight .kd { color: #008000; font-weight: bold } /* Keyword.Declaration */\n",
       ".highlight .kn { color: #008000; font-weight: bold } /* Keyword.Namespace */\n",
       ".highlight .kp { color: #008000 } /* Keyword.Pseudo */\n",
       ".highlight .kr { color: #008000; font-weight: bold } /* Keyword.Reserved */\n",
       ".highlight .kt { color: #B00040 } /* Keyword.Type */\n",
       ".highlight .m { color: #666666 } /* Literal.Number */\n",
       ".highlight .s { color: #BA2121 } /* Literal.String */\n",
       ".highlight .na { color: #687822 } /* Name.Attribute */\n",
       ".highlight .nb { color: #008000 } /* Name.Builtin */\n",
       ".highlight .nc { color: #0000FF; font-weight: bold } /* Name.Class */\n",
       ".highlight .no { color: #880000 } /* Name.Constant */\n",
       ".highlight .nd { color: #AA22FF } /* Name.Decorator */\n",
       ".highlight .ni { color: #717171; font-weight: bold } /* Name.Entity */\n",
       ".highlight .ne { color: #CB3F38; font-weight: bold } /* Name.Exception */\n",
       ".highlight .nf { color: #0000FF } /* Name.Function */\n",
       ".highlight .nl { color: #767600 } /* Name.Label */\n",
       ".highlight .nn { color: #0000FF; font-weight: bold } /* Name.Namespace */\n",
       ".highlight .nt { color: #008000; font-weight: bold } /* Name.Tag */\n",
       ".highlight .nv { color: #19177C } /* Name.Variable */\n",
       ".highlight .ow { color: #AA22FF; font-weight: bold } /* Operator.Word */\n",
       ".highlight .w { color: #bbbbbb } /* Text.Whitespace */\n",
       ".highlight .mb { color: #666666 } /* Literal.Number.Bin */\n",
       ".highlight .mf { color: #666666 } /* Literal.Number.Float */\n",
       ".highlight .mh { color: #666666 } /* Literal.Number.Hex */\n",
       ".highlight .mi { color: #666666 } /* Literal.Number.Integer */\n",
       ".highlight .mo { color: #666666 } /* Literal.Number.Oct */\n",
       ".highlight .sa { color: #BA2121 } /* Literal.String.Affix */\n",
       ".highlight .sb { color: #BA2121 } /* Literal.String.Backtick */\n",
       ".highlight .sc { color: #BA2121 } /* Literal.String.Char */\n",
       ".highlight .dl { color: #BA2121 } /* Literal.String.Delimiter */\n",
       ".highlight .sd { color: #BA2121; font-style: italic } /* Literal.String.Doc */\n",
       ".highlight .s2 { color: #BA2121 } /* Literal.String.Double */\n",
       ".highlight .se { color: #AA5D1F; font-weight: bold } /* Literal.String.Escape */\n",
       ".highlight .sh { color: #BA2121 } /* Literal.String.Heredoc */\n",
       ".highlight .si { color: #A45A77; font-weight: bold } /* Literal.String.Interpol */\n",
       ".highlight .sx { color: #008000 } /* Literal.String.Other */\n",
       ".highlight .sr { color: #A45A77 } /* Literal.String.Regex */\n",
       ".highlight .s1 { color: #BA2121 } /* Literal.String.Single */\n",
       ".highlight .ss { color: #19177C } /* Literal.String.Symbol */\n",
       ".highlight .bp { color: #008000 } /* Name.Builtin.Pseudo */\n",
       ".highlight .fm { color: #0000FF } /* Name.Function.Magic */\n",
       ".highlight .vc { color: #19177C } /* Name.Variable.Class */\n",
       ".highlight .vg { color: #19177C } /* Name.Variable.Global */\n",
       ".highlight .vi { color: #19177C } /* Name.Variable.Instance */\n",
       ".highlight .vm { color: #19177C } /* Name.Variable.Magic */\n",
       ".highlight .il { color: #666666 } /* Literal.Number.Integer.Long */</style>    <div class=\"highlight\"><pre><span></span><span class=\"cp\">&lt;?xml version=&quot;1.0&quot; encoding=&quot;UTF-8&quot;?&gt;</span>\n",
       "<span class=\"nt\">&lt;sbml</span> <span class=\"na\">xmlns=</span><span class=\"s\">&quot;http://www.sbml.org/sbml/level3/version1/core&quot;</span> <span class=\"na\">xmlns:distrib=</span><span class=\"s\">&quot;http://www.sbml.org/sbml/level3/version1/distrib/version1&quot;</span> <span class=\"na\">xmlns:comp=</span><span class=\"s\">&quot;http://www.sbml.org/sbml/level3/version1/comp/version1&quot;</span> <span class=\"na\">level=</span><span class=\"s\">&quot;3&quot;</span> <span class=\"na\">version=</span><span class=\"s\">&quot;1&quot;</span> <span class=\"na\">distrib:required=</span><span class=\"s\">&quot;true&quot;</span> <span class=\"na\">comp:required=</span><span class=\"s\">&quot;true&quot;</span><span class=\"nt\">&gt;</span>\n",
       "  <span class=\"nt\">&lt;notes&gt;</span>\n",
       "    <span class=\"nt\">&lt;body</span> <span class=\"na\">xmlns=</span><span class=\"s\">&quot;http://www.w3.org/1999/xhtml&quot;</span><span class=\"nt\">&gt;</span>\n",
       "      <span class=\"nt\">&lt;p&gt;</span>Created with <span class=\"nt\">&lt;a</span> <span class=\"na\">href=</span><span class=\"s\">&quot;https://github.com/matthiaskoenig/sbmlutils&quot;</span><span class=\"nt\">&gt;</span>https://github.com/matthiaskoenig/sbmlutils<span class=\"nt\">&lt;/a&gt;</span>.\n",
       "<span class=\"nt\">&lt;a</span> <span class=\"na\">href=</span><span class=\"s\">&quot;https://doi.org/10.5281/zenodo.5525390&quot;</span><span class=\"nt\">&gt;</span>\n",
       "        <span class=\"nt\">&lt;img</span> <span class=\"na\">src=</span><span class=\"s\">&quot;https://zenodo.org/badge/DOI/10.5281/zenodo.5525390.svg&quot;</span> <span class=\"na\">alt=</span><span class=\"s\">&quot;DOI&quot;</span><span class=\"nt\">/&gt;&lt;/a&gt;&lt;/p&gt;</span>\n",
       "      <span class=\"nt\">&lt;/body&gt;</span>\n",
       "    <span class=\"nt\">&lt;/notes&gt;</span>\n",
       "  <span class=\"nt\">&lt;model</span> <span class=\"na\">id=</span><span class=\"s\">&quot;basic_example_1&quot;</span><span class=\"nt\">&gt;</span>\n",
       "    <span class=\"nt\">&lt;listOfCompartments&gt;</span>\n",
       "      <span class=\"nt\">&lt;compartment</span> <span class=\"na\">id=</span><span class=\"s\">&quot;C&quot;</span> <span class=\"na\">spatialDimensions=</span><span class=\"s\">&quot;3&quot;</span> <span class=\"na\">size=</span><span class=\"s\">&quot;1&quot;</span> <span class=\"na\">constant=</span><span class=\"s\">&quot;true&quot;</span><span class=\"nt\">/&gt;</span>\n",
       "    <span class=\"nt\">&lt;/listOfCompartments&gt;</span>\n",
       "    <span class=\"nt\">&lt;listOfSpecies&gt;</span>\n",
       "      <span class=\"nt\">&lt;species</span> <span class=\"na\">id=</span><span class=\"s\">&quot;s1&quot;</span> <span class=\"na\">compartment=</span><span class=\"s\">&quot;C&quot;</span> <span class=\"na\">initialAmount=</span><span class=\"s\">&quot;3.22&quot;</span> <span class=\"na\">hasOnlySubstanceUnits=</span><span class=\"s\">&quot;false&quot;</span> <span class=\"na\">boundaryCondition=</span><span class=\"s\">&quot;false&quot;</span> <span class=\"na\">constant=</span><span class=\"s\">&quot;false&quot;</span><span class=\"nt\">&gt;</span>\n",
       "        <span class=\"nt\">&lt;distrib:listOfUncertainties&gt;</span>\n",
       "          <span class=\"nt\">&lt;distrib:uncertainty&gt;</span>\n",
       "            <span class=\"nt\">&lt;distrib:uncertParameter</span> <span class=\"na\">distrib:value=</span><span class=\"s\">&quot;0.3&quot;</span> <span class=\"na\">distrib:type=</span><span class=\"s\">&quot;standardDeviation&quot;</span><span class=\"nt\">/&gt;</span>\n",
       "          <span class=\"nt\">&lt;/distrib:uncertainty&gt;</span>\n",
       "        <span class=\"nt\">&lt;/distrib:listOfUncertainties&gt;</span>\n",
       "      <span class=\"nt\">&lt;/species&gt;</span>\n",
       "    <span class=\"nt\">&lt;/listOfSpecies&gt;</span>\n",
       "  <span class=\"nt\">&lt;/model&gt;</span>\n",
       "<span class=\"nt\">&lt;/sbml&gt;</span>\n",
       "</pre></div>\n"
      ]
     },
     "metadata": {},
     "output_type": "display_data"
    },
    {
     "data": {
      "text/html": [
       "<pre style=\"white-space:pre;overflow-x:auto;line-height:normal;font-family:Menlo,'DejaVu Sans Mono',consolas,'Courier New',monospace\">\n",
       "</pre>\n"
      ],
      "text/plain": [
       "\n"
      ]
     },
     "metadata": {},
     "output_type": "display_data"
    },
    {
     "data": {
      "text/html": [
       "<pre style=\"white-space:pre;overflow-x:auto;line-height:normal;font-family:Menlo,'DejaVu Sans Mono',consolas,'Courier New',monospace\"><span style=\"color: #008000; text-decoration-color: #008000\">────────────────────────────────────────────────── </span>Validate SBML<span style=\"color: #008000; text-decoration-color: #008000\"> ──────────────────────────────────────────────────</span>\n",
       "</pre>\n"
      ],
      "text/plain": [
       "\u001b[32m────────────────────────────────────────────────── \u001b[0mValidate SBML\u001b[32m ──────────────────────────────────────────────────\u001b[0m\n"
      ]
     },
     "metadata": {},
     "output_type": "display_data"
    },
    {
     "data": {
      "text/html": [
       "<pre style=\"white-space:pre;overflow-x:auto;line-height:normal;font-family:Menlo,'DejaVu Sans Mono',consolas,'Courier New',monospace\"><span style=\"color: #008000; text-decoration-color: #008000; font-weight: bold\">&lt;</span><span style=\"color: #ff00ff; text-decoration-color: #ff00ff; font-weight: bold\">SBMLDocument</span><span style=\"color: #008000; text-decoration-color: #008000; font-weight: bold\">&gt;</span>\n",
       "<span style=\"color: #008000; text-decoration-color: #008000\">valid                    : TRUE</span>\n",
       "<span style=\"color: #008000; text-decoration-color: #008000\">check time </span><span style=\"color: #008000; text-decoration-color: #008000; font-weight: bold\">(</span><span style=\"color: #008000; text-decoration-color: #008000\">s</span><span style=\"color: #008000; text-decoration-color: #008000; font-weight: bold\">)</span><span style=\"color: #008000; text-decoration-color: #008000\">           : </span><span style=\"color: #008080; text-decoration-color: #008080; font-weight: bold\">0.001</span>\n",
       "</pre>\n"
      ],
      "text/plain": [
       "\u001b[1;32m<\u001b[0m\u001b[1;95mSBMLDocument\u001b[0m\u001b[1;32m>\u001b[0m\n",
       "\u001b[32mvalid                    : TRUE\u001b[0m\n",
       "\u001b[32mcheck time \u001b[0m\u001b[1;32m(\u001b[0m\u001b[32ms\u001b[0m\u001b[1;32m)\u001b[0m\u001b[32m           : \u001b[0m\u001b[1;36m0.001\u001b[0m\n"
      ]
     },
     "metadata": {},
     "output_type": "display_data"
    },
    {
     "data": {
      "text/html": [
       "<pre style=\"white-space:pre;overflow-x:auto;line-height:normal;font-family:Menlo,'DejaVu Sans Mono',consolas,'Courier New',monospace\"><span style=\"color: #008000; text-decoration-color: #008000\">───────────────────────────────────────────────────────────────────────────────────────────────────────────────────</span>\n",
       "</pre>\n"
      ],
      "text/plain": [
       "\u001b[32m───────────────────────────────────────────────────────────────────────────────────────────────────────────────────\u001b[0m\n"
      ]
     },
     "metadata": {},
     "output_type": "display_data"
    },
    {
     "data": {
      "text/html": [
       "<pre style=\"white-space:pre;overflow-x:auto;line-height:normal;font-family:Menlo,'DejaVu Sans Mono',consolas,'Courier New',monospace\">\n",
       "</pre>\n"
      ],
      "text/plain": [
       "\n"
      ]
     },
     "metadata": {},
     "output_type": "display_data"
    }
   ],
   "source": [
    "import libsbml\n",
    "md: ModelDict = {\n",
    "    'sid': 'basic_example_1',\n",
    "    'packages': [Package.DISTRIB_V1],\n",
    "    'compartments': [\n",
    "        Compartment(\"C\", value=1.0)\n",
    "    ],\n",
    "    'species': [\n",
    "        Species(sid=\"s1\", compartment=\"C\", initialAmount=3.22, \n",
    "                uncertainties=[\n",
    "                  Uncertainty(uncertParameters=[\n",
    "                      UncertParameter(type=libsbml.DISTRIB_UNCERTTYPE_STANDARDDEVIATION, value=0.3)\n",
    "                  ])\n",
    "                ])\n",
    "    ],\n",
    "}\n",
    "\n",
    "# create model and print SBML\n",
    "doc = Document(Model(**md))\n",
    "print_xml(doc.get_sbml())\n",
    "\n",
    "# validate model\n",
    "validate_doc(doc.doc, options=ValidationOptions(units_consistency=False));"
   ]
  },
  {
   "cell_type": "markdown",
   "metadata": {},
   "source": [
    "It is also possible to include additional information about the species, should more be known. In this example, the initial amount of `3.22` is noted as having a mean of `3.2`, a standard deviation of `0.3`, and a variance\n",
    "of `0.09`."
   ]
  },
  {
   "cell_type": "code",
   "execution_count": 9,
   "metadata": {},
   "outputs": [
    {
     "data": {
      "text/html": [
       "<pre style=\"white-space:pre;overflow-x:auto;line-height:normal;font-family:Menlo,'DejaVu Sans Mono',consolas,'Courier New',monospace\"><span style=\"color: #000080; text-decoration-color: #000080\">INFO    </span> Create SBML for model <span style=\"color: #008000; text-decoration-color: #008000\">'basic_example_2'</span>                                                    <a href=\"file:///home/mkoenig/git/sbmlutils/src/sbmlutils/factory.py\" target=\"_blank\"><span style=\"color: #7f7f7f; text-decoration-color: #7f7f7f\">factory.py</span></a><span style=\"color: #7f7f7f; text-decoration-color: #7f7f7f\">:</span><a href=\"file:///home/mkoenig/git/sbmlutils/src/sbmlutils/factory.py#3526\" target=\"_blank\"><span style=\"color: #7f7f7f; text-decoration-color: #7f7f7f\">3526</span></a>\n",
       "</pre>\n"
      ],
      "text/plain": [
       "\u001b[34mINFO    \u001b[0m Create SBML for model \u001b[32m'basic_example_2'\u001b[0m                                                    \u001b]8;id=37971;file:///home/mkoenig/git/sbmlutils/src/sbmlutils/factory.py\u001b\\\u001b[2mfactory.py\u001b[0m\u001b]8;;\u001b\\\u001b[2m:\u001b[0m\u001b]8;id=261034;file:///home/mkoenig/git/sbmlutils/src/sbmlutils/factory.py#3526\u001b\\\u001b[2m3526\u001b[0m\u001b]8;;\u001b\\\n"
      ]
     },
     "metadata": {},
     "output_type": "display_data"
    },
    {
     "data": {
      "text/html": [
       "<pre style=\"white-space:pre;overflow-x:auto;line-height:normal;font-family:Menlo,'DejaVu Sans Mono',consolas,'Courier New',monospace\"><span style=\"color: #800000; text-decoration-color: #800000\">WARNING </span> <span style=\"color: #008000; text-decoration-color: #008000\">'name'</span> should be set on <span style=\"color: #008000; text-decoration-color: #008000\">'Model(sid='</span>basic_example_2', <span style=\"color: #808000; text-decoration-color: #808000\">packages</span>=<span style=\"font-weight: bold\">[&lt;</span><span style=\"color: #ff00ff; text-decoration-color: #ff00ff; font-weight: bold\">Package.DISTRIB_V1:</span><span style=\"color: #000000; text-decoration-color: #000000\"> </span>       <a href=\"file:///home/mkoenig/git/sbmlutils/src/sbmlutils/factory.py\" target=\"_blank\"><span style=\"color: #7f7f7f; text-decoration-color: #7f7f7f\">factory.py</span></a><span style=\"color: #7f7f7f; text-decoration-color: #7f7f7f\">:</span><a href=\"file:///home/mkoenig/git/sbmlutils/src/sbmlutils/factory.py#441\" target=\"_blank\"><span style=\"color: #7f7f7f; text-decoration-color: #7f7f7f\">441</span></a>\n",
       "         <span style=\"color: #008000; text-decoration-color: #008000\">'distrib-v1'</span><span style=\"font-weight: bold\">&gt;</span>, <span style=\"font-weight: bold\">&lt;</span><span style=\"color: #ff00ff; text-decoration-color: #ff00ff; font-weight: bold\">Package.COMP_V1:</span><span style=\"color: #000000; text-decoration-color: #000000\"> </span><span style=\"color: #008000; text-decoration-color: #008000\">'comp-v1'</span><span style=\"font-weight: bold\">&gt;]</span>, <span style=\"color: #808000; text-decoration-color: #808000\">units</span>=<span style=\"font-weight: bold\">&lt;</span><span style=\"color: #ff00ff; text-decoration-color: #ff00ff; font-weight: bold\">class</span><span style=\"color: #000000; text-decoration-color: #000000\"> </span><span style=\"color: #008000; text-decoration-color: #008000\">'sbmlutils.factory.Units'</span><span style=\"font-weight: bold\">&gt;</span>,      <span style=\"color: #7f7f7f; text-decoration-color: #7f7f7f\">              </span>\n",
       "         <span style=\"color: #808000; text-decoration-color: #808000\">compartments</span>=<span style=\"font-weight: bold\">[</span>C = <span style=\"color: #008080; text-decoration-color: #008080; font-weight: bold\">1.0</span> <span style=\"font-weight: bold\">[</span><span style=\"color: #800080; text-decoration-color: #800080; font-style: italic\">None</span><span style=\"font-weight: bold\">]]</span>, <span style=\"color: #808000; text-decoration-color: #808000\">species</span>=<span style=\"font-weight: bold\">[&lt;</span><span style=\"color: #ff00ff; text-decoration-color: #ff00ff; font-weight: bold\">sbmlutils.factory.Species</span><span style=\"color: #000000; text-decoration-color: #000000\"> object at </span>               <span style=\"color: #7f7f7f; text-decoration-color: #7f7f7f\">              </span>\n",
       "         <span style=\"color: #008080; text-decoration-color: #008080; font-weight: bold\">0x7f8eaa8b1370</span><span style=\"font-weight: bold\">&gt;]</span>, <span style=\"color: #808000; text-decoration-color: #808000\">_FrozenClass__isfrozen</span>=<span style=\"color: #00ff00; text-decoration-color: #00ff00; font-style: italic\">True</span><span style=\"font-weight: bold\">)</span>'                                             <span style=\"color: #7f7f7f; text-decoration-color: #7f7f7f\">              </span>\n",
       "</pre>\n"
      ],
      "text/plain": [
       "\u001b[31mWARNING \u001b[0m \u001b[32m'name'\u001b[0m should be set on \u001b[32m'Model\u001b[0m\u001b[32m(\u001b[0m\u001b[32msid\u001b[0m\u001b[32m='\u001b[0mbasic_example_2', \u001b[33mpackages\u001b[0m=\u001b[1m[\u001b[0m\u001b[1m<\u001b[0m\u001b[1;95mPackage.DISTRIB_V1:\u001b[0m\u001b[39m \u001b[0m       \u001b]8;id=143223;file:///home/mkoenig/git/sbmlutils/src/sbmlutils/factory.py\u001b\\\u001b[2mfactory.py\u001b[0m\u001b]8;;\u001b\\\u001b[2m:\u001b[0m\u001b]8;id=280202;file:///home/mkoenig/git/sbmlutils/src/sbmlutils/factory.py#441\u001b\\\u001b[2m441\u001b[0m\u001b]8;;\u001b\\\n",
       "         \u001b[32m'distrib-v1'\u001b[0m\u001b[1m>\u001b[0m, \u001b[1m<\u001b[0m\u001b[1;95mPackage.COMP_V1:\u001b[0m\u001b[39m \u001b[0m\u001b[32m'comp-v1'\u001b[0m\u001b[1m>\u001b[0m\u001b[1m]\u001b[0m, \u001b[33munits\u001b[0m=\u001b[1m<\u001b[0m\u001b[1;95mclass\u001b[0m\u001b[39m \u001b[0m\u001b[32m'sbmlutils.factory.Units'\u001b[0m\u001b[1m>\u001b[0m,      \u001b[2m              \u001b[0m\n",
       "         \u001b[33mcompartments\u001b[0m=\u001b[1m[\u001b[0mC = \u001b[1;36m1.0\u001b[0m \u001b[1m[\u001b[0m\u001b[3;35mNone\u001b[0m\u001b[1m]\u001b[0m\u001b[1m]\u001b[0m, \u001b[33mspecies\u001b[0m=\u001b[1m[\u001b[0m\u001b[1m<\u001b[0m\u001b[1;95msbmlutils.factory.Species\u001b[0m\u001b[39m object at \u001b[0m               \u001b[2m              \u001b[0m\n",
       "         \u001b[1;36m0x7f8eaa8b1370\u001b[0m\u001b[1m>\u001b[0m\u001b[1m]\u001b[0m, \u001b[33m_FrozenClass__isfrozen\u001b[0m=\u001b[3;92mTrue\u001b[0m\u001b[1m)\u001b[0m'                                             \u001b[2m              \u001b[0m\n"
      ]
     },
     "metadata": {},
     "output_type": "display_data"
    },
    {
     "data": {
      "text/html": [
       "<pre style=\"white-space:pre;overflow-x:auto;line-height:normal;font-family:Menlo,'DejaVu Sans Mono',consolas,'Courier New',monospace\"><span style=\"color: #800000; text-decoration-color: #800000\">WARNING </span> <span style=\"color: #008000; text-decoration-color: #008000\">'name'</span> should be set on <span style=\"color: #008000; text-decoration-color: #008000\">'Compartment(C)'</span>                                                    <a href=\"file:///home/mkoenig/git/sbmlutils/src/sbmlutils/factory.py\" target=\"_blank\"><span style=\"color: #7f7f7f; text-decoration-color: #7f7f7f\">factory.py</span></a><span style=\"color: #7f7f7f; text-decoration-color: #7f7f7f\">:</span><a href=\"file:///home/mkoenig/git/sbmlutils/src/sbmlutils/factory.py#441\" target=\"_blank\"><span style=\"color: #7f7f7f; text-decoration-color: #7f7f7f\">441</span></a>\n",
       "</pre>\n"
      ],
      "text/plain": [
       "\u001b[31mWARNING \u001b[0m \u001b[32m'name'\u001b[0m should be set on \u001b[32m'Compartment\u001b[0m\u001b[32m(\u001b[0m\u001b[32mC\u001b[0m\u001b[32m)\u001b[0m\u001b[32m'\u001b[0m                                                    \u001b]8;id=652807;file:///home/mkoenig/git/sbmlutils/src/sbmlutils/factory.py\u001b\\\u001b[2mfactory.py\u001b[0m\u001b]8;;\u001b\\\u001b[2m:\u001b[0m\u001b]8;id=917893;file:///home/mkoenig/git/sbmlutils/src/sbmlutils/factory.py#441\u001b\\\u001b[2m441\u001b[0m\u001b]8;;\u001b\\\n"
      ]
     },
     "metadata": {},
     "output_type": "display_data"
    },
    {
     "data": {
      "text/html": [
       "<pre style=\"white-space:pre;overflow-x:auto;line-height:normal;font-family:Menlo,'DejaVu Sans Mono',consolas,'Courier New',monospace\"><span style=\"color: #800000; text-decoration-color: #800000\">WARNING </span> <span style=\"color: #008000; text-decoration-color: #008000\">'sboTerm'</span> should be set on <span style=\"color: #008000; text-decoration-color: #008000\">'Compartment(C)'</span>                                                 <a href=\"file:///home/mkoenig/git/sbmlutils/src/sbmlutils/factory.py\" target=\"_blank\"><span style=\"color: #7f7f7f; text-decoration-color: #7f7f7f\">factory.py</span></a><span style=\"color: #7f7f7f; text-decoration-color: #7f7f7f\">:</span><a href=\"file:///home/mkoenig/git/sbmlutils/src/sbmlutils/factory.py#466\" target=\"_blank\"><span style=\"color: #7f7f7f; text-decoration-color: #7f7f7f\">466</span></a>\n",
       "</pre>\n"
      ],
      "text/plain": [
       "\u001b[31mWARNING \u001b[0m \u001b[32m'sboTerm'\u001b[0m should be set on \u001b[32m'Compartment\u001b[0m\u001b[32m(\u001b[0m\u001b[32mC\u001b[0m\u001b[32m)\u001b[0m\u001b[32m'\u001b[0m                                                 \u001b]8;id=90796;file:///home/mkoenig/git/sbmlutils/src/sbmlutils/factory.py\u001b\\\u001b[2mfactory.py\u001b[0m\u001b]8;;\u001b\\\u001b[2m:\u001b[0m\u001b]8;id=260071;file:///home/mkoenig/git/sbmlutils/src/sbmlutils/factory.py#466\u001b\\\u001b[2m466\u001b[0m\u001b]8;;\u001b\\\n"
      ]
     },
     "metadata": {},
     "output_type": "display_data"
    },
    {
     "data": {
      "text/html": [
       "<pre style=\"white-space:pre;overflow-x:auto;line-height:normal;font-family:Menlo,'DejaVu Sans Mono',consolas,'Courier New',monospace\"><span style=\"color: #800000; text-decoration-color: #800000\">WARNING </span> <span style=\"color: #008000; text-decoration-color: #008000\">'name'</span> should be set on <span style=\"color: #008000; text-decoration-color: #008000\">'Species(s1, [&lt;sbmlutils.factory.Uncertainty object at </span>             <a href=\"file:///home/mkoenig/git/sbmlutils/src/sbmlutils/factory.py\" target=\"_blank\"><span style=\"color: #7f7f7f; text-decoration-color: #7f7f7f\">factory.py</span></a><span style=\"color: #7f7f7f; text-decoration-color: #7f7f7f\">:</span><a href=\"file:///home/mkoenig/git/sbmlutils/src/sbmlutils/factory.py#441\" target=\"_blank\"><span style=\"color: #7f7f7f; text-decoration-color: #7f7f7f\">441</span></a>\n",
       "         <span style=\"color: #008000; text-decoration-color: #008000\">0x7f8eaa9c5850&gt;])'</span>                                                                          <span style=\"color: #7f7f7f; text-decoration-color: #7f7f7f\">              </span>\n",
       "</pre>\n"
      ],
      "text/plain": [
       "\u001b[31mWARNING \u001b[0m \u001b[32m'name'\u001b[0m should be set on \u001b[32m'Species\u001b[0m\u001b[32m(\u001b[0m\u001b[32ms1, \u001b[0m\u001b[32m[\u001b[0m\u001b[32m<\u001b[0m\u001b[32msbmlutils.factory.Uncertainty\u001b[0m\u001b[32m object at \u001b[0m             \u001b]8;id=584955;file:///home/mkoenig/git/sbmlutils/src/sbmlutils/factory.py\u001b\\\u001b[2mfactory.py\u001b[0m\u001b]8;;\u001b\\\u001b[2m:\u001b[0m\u001b]8;id=488767;file:///home/mkoenig/git/sbmlutils/src/sbmlutils/factory.py#441\u001b\\\u001b[2m441\u001b[0m\u001b]8;;\u001b\\\n",
       "         \u001b[32m0x7f8eaa9c5850\u001b[0m\u001b[32m>\u001b[0m\u001b[32m]\u001b[0m\u001b[32m)\u001b[0m\u001b[32m'\u001b[0m                                                                          \u001b[2m              \u001b[0m\n"
      ]
     },
     "metadata": {},
     "output_type": "display_data"
    },
    {
     "data": {
      "text/html": [
       "<pre style=\"white-space:pre;overflow-x:auto;line-height:normal;font-family:Menlo,'DejaVu Sans Mono',consolas,'Courier New',monospace\"><span style=\"color: #800000; text-decoration-color: #800000\">WARNING </span> <span style=\"color: #008000; text-decoration-color: #008000\">'sboTerm'</span> should be set on <span style=\"color: #008000; text-decoration-color: #008000\">'Species(s1, [&lt;sbmlutils.factory.Uncertainty object at </span>          <a href=\"file:///home/mkoenig/git/sbmlutils/src/sbmlutils/factory.py\" target=\"_blank\"><span style=\"color: #7f7f7f; text-decoration-color: #7f7f7f\">factory.py</span></a><span style=\"color: #7f7f7f; text-decoration-color: #7f7f7f\">:</span><a href=\"file:///home/mkoenig/git/sbmlutils/src/sbmlutils/factory.py#466\" target=\"_blank\"><span style=\"color: #7f7f7f; text-decoration-color: #7f7f7f\">466</span></a>\n",
       "         <span style=\"color: #008000; text-decoration-color: #008000\">0x7f8eaa9c5850&gt;])'</span>                                                                          <span style=\"color: #7f7f7f; text-decoration-color: #7f7f7f\">              </span>\n",
       "</pre>\n"
      ],
      "text/plain": [
       "\u001b[31mWARNING \u001b[0m \u001b[32m'sboTerm'\u001b[0m should be set on \u001b[32m'Species\u001b[0m\u001b[32m(\u001b[0m\u001b[32ms1, \u001b[0m\u001b[32m[\u001b[0m\u001b[32m<\u001b[0m\u001b[32msbmlutils.factory.Uncertainty\u001b[0m\u001b[32m object at \u001b[0m          \u001b]8;id=562134;file:///home/mkoenig/git/sbmlutils/src/sbmlutils/factory.py\u001b\\\u001b[2mfactory.py\u001b[0m\u001b]8;;\u001b\\\u001b[2m:\u001b[0m\u001b]8;id=581269;file:///home/mkoenig/git/sbmlutils/src/sbmlutils/factory.py#466\u001b\\\u001b[2m466\u001b[0m\u001b]8;;\u001b\\\n",
       "         \u001b[32m0x7f8eaa9c5850\u001b[0m\u001b[32m>\u001b[0m\u001b[32m]\u001b[0m\u001b[32m)\u001b[0m\u001b[32m'\u001b[0m                                                                          \u001b[2m              \u001b[0m\n"
      ]
     },
     "metadata": {},
     "output_type": "display_data"
    },
    {
     "data": {
      "text/html": [
       "<pre style=\"white-space:pre;overflow-x:auto;line-height:normal;font-family:Menlo,'DejaVu Sans Mono',consolas,'Courier New',monospace\"><span style=\"color: #800000; text-decoration-color: #800000\">WARNING </span> <span style=\"color: #008000; text-decoration-color: #008000\">'name'</span> should be set on <span style=\"color: #008000; text-decoration-color: #008000\">'Uncertainty()'</span>                                                     <a href=\"file:///home/mkoenig/git/sbmlutils/src/sbmlutils/factory.py\" target=\"_blank\"><span style=\"color: #7f7f7f; text-decoration-color: #7f7f7f\">factory.py</span></a><span style=\"color: #7f7f7f; text-decoration-color: #7f7f7f\">:</span><a href=\"file:///home/mkoenig/git/sbmlutils/src/sbmlutils/factory.py#441\" target=\"_blank\"><span style=\"color: #7f7f7f; text-decoration-color: #7f7f7f\">441</span></a>\n",
       "</pre>\n"
      ],
      "text/plain": [
       "\u001b[31mWARNING \u001b[0m \u001b[32m'name'\u001b[0m should be set on \u001b[32m'Uncertainty\u001b[0m\u001b[32m(\u001b[0m\u001b[32m)\u001b[0m\u001b[32m'\u001b[0m                                                     \u001b]8;id=89157;file:///home/mkoenig/git/sbmlutils/src/sbmlutils/factory.py\u001b\\\u001b[2mfactory.py\u001b[0m\u001b]8;;\u001b\\\u001b[2m:\u001b[0m\u001b]8;id=869799;file:///home/mkoenig/git/sbmlutils/src/sbmlutils/factory.py#441\u001b\\\u001b[2m441\u001b[0m\u001b]8;;\u001b\\\n"
      ]
     },
     "metadata": {},
     "output_type": "display_data"
    },
    {
     "data": {
      "text/html": [
       "<pre style=\"white-space:pre;overflow-x:auto;line-height:normal;font-family:Menlo,'DejaVu Sans Mono',consolas,'Courier New',monospace\"><span style=\"color: #800000; text-decoration-color: #800000\">WARNING </span> <span style=\"color: #008000; text-decoration-color: #008000\">'sboTerm'</span> should be set on <span style=\"color: #008000; text-decoration-color: #008000\">'Uncertainty()'</span>                                                  <a href=\"file:///home/mkoenig/git/sbmlutils/src/sbmlutils/factory.py\" target=\"_blank\"><span style=\"color: #7f7f7f; text-decoration-color: #7f7f7f\">factory.py</span></a><span style=\"color: #7f7f7f; text-decoration-color: #7f7f7f\">:</span><a href=\"file:///home/mkoenig/git/sbmlutils/src/sbmlutils/factory.py#466\" target=\"_blank\"><span style=\"color: #7f7f7f; text-decoration-color: #7f7f7f\">466</span></a>\n",
       "</pre>\n"
      ],
      "text/plain": [
       "\u001b[31mWARNING \u001b[0m \u001b[32m'sboTerm'\u001b[0m should be set on \u001b[32m'Uncertainty\u001b[0m\u001b[32m(\u001b[0m\u001b[32m)\u001b[0m\u001b[32m'\u001b[0m                                                  \u001b]8;id=690517;file:///home/mkoenig/git/sbmlutils/src/sbmlutils/factory.py\u001b\\\u001b[2mfactory.py\u001b[0m\u001b]8;;\u001b\\\u001b[2m:\u001b[0m\u001b]8;id=956812;file:///home/mkoenig/git/sbmlutils/src/sbmlutils/factory.py#466\u001b\\\u001b[2m466\u001b[0m\u001b]8;;\u001b\\\n"
      ]
     },
     "metadata": {},
     "output_type": "display_data"
    },
    {
     "data": {
      "text/html": [
       "<style type=\"text/css\">pre { line-height: 125%; }\n",
       "td.linenos .normal { color: inherit; background-color: transparent; padding-left: 5px; padding-right: 5px; }\n",
       "span.linenos { color: inherit; background-color: transparent; padding-left: 5px; padding-right: 5px; }\n",
       "td.linenos .special { color: #000000; background-color: #ffffc0; padding-left: 5px; padding-right: 5px; }\n",
       "span.linenos.special { color: #000000; background-color: #ffffc0; padding-left: 5px; padding-right: 5px; }\n",
       ".highlight .hll { background-color: #ffffcc }\n",
       ".highlight { background: #f8f8f8; }\n",
       ".highlight .c { color: #3D7B7B; font-style: italic } /* Comment */\n",
       ".highlight .err { border: 1px solid #FF0000 } /* Error */\n",
       ".highlight .k { color: #008000; font-weight: bold } /* Keyword */\n",
       ".highlight .o { color: #666666 } /* Operator */\n",
       ".highlight .ch { color: #3D7B7B; font-style: italic } /* Comment.Hashbang */\n",
       ".highlight .cm { color: #3D7B7B; font-style: italic } /* Comment.Multiline */\n",
       ".highlight .cp { color: #9C6500 } /* Comment.Preproc */\n",
       ".highlight .cpf { color: #3D7B7B; font-style: italic } /* Comment.PreprocFile */\n",
       ".highlight .c1 { color: #3D7B7B; font-style: italic } /* Comment.Single */\n",
       ".highlight .cs { color: #3D7B7B; font-style: italic } /* Comment.Special */\n",
       ".highlight .gd { color: #A00000 } /* Generic.Deleted */\n",
       ".highlight .ge { font-style: italic } /* Generic.Emph */\n",
       ".highlight .gr { color: #E40000 } /* Generic.Error */\n",
       ".highlight .gh { color: #000080; font-weight: bold } /* Generic.Heading */\n",
       ".highlight .gi { color: #008400 } /* Generic.Inserted */\n",
       ".highlight .go { color: #717171 } /* Generic.Output */\n",
       ".highlight .gp { color: #000080; font-weight: bold } /* Generic.Prompt */\n",
       ".highlight .gs { font-weight: bold } /* Generic.Strong */\n",
       ".highlight .gu { color: #800080; font-weight: bold } /* Generic.Subheading */\n",
       ".highlight .gt { color: #0044DD } /* Generic.Traceback */\n",
       ".highlight .kc { color: #008000; font-weight: bold } /* Keyword.Constant */\n",
       ".highlight .kd { color: #008000; font-weight: bold } /* Keyword.Declaration */\n",
       ".highlight .kn { color: #008000; font-weight: bold } /* Keyword.Namespace */\n",
       ".highlight .kp { color: #008000 } /* Keyword.Pseudo */\n",
       ".highlight .kr { color: #008000; font-weight: bold } /* Keyword.Reserved */\n",
       ".highlight .kt { color: #B00040 } /* Keyword.Type */\n",
       ".highlight .m { color: #666666 } /* Literal.Number */\n",
       ".highlight .s { color: #BA2121 } /* Literal.String */\n",
       ".highlight .na { color: #687822 } /* Name.Attribute */\n",
       ".highlight .nb { color: #008000 } /* Name.Builtin */\n",
       ".highlight .nc { color: #0000FF; font-weight: bold } /* Name.Class */\n",
       ".highlight .no { color: #880000 } /* Name.Constant */\n",
       ".highlight .nd { color: #AA22FF } /* Name.Decorator */\n",
       ".highlight .ni { color: #717171; font-weight: bold } /* Name.Entity */\n",
       ".highlight .ne { color: #CB3F38; font-weight: bold } /* Name.Exception */\n",
       ".highlight .nf { color: #0000FF } /* Name.Function */\n",
       ".highlight .nl { color: #767600 } /* Name.Label */\n",
       ".highlight .nn { color: #0000FF; font-weight: bold } /* Name.Namespace */\n",
       ".highlight .nt { color: #008000; font-weight: bold } /* Name.Tag */\n",
       ".highlight .nv { color: #19177C } /* Name.Variable */\n",
       ".highlight .ow { color: #AA22FF; font-weight: bold } /* Operator.Word */\n",
       ".highlight .w { color: #bbbbbb } /* Text.Whitespace */\n",
       ".highlight .mb { color: #666666 } /* Literal.Number.Bin */\n",
       ".highlight .mf { color: #666666 } /* Literal.Number.Float */\n",
       ".highlight .mh { color: #666666 } /* Literal.Number.Hex */\n",
       ".highlight .mi { color: #666666 } /* Literal.Number.Integer */\n",
       ".highlight .mo { color: #666666 } /* Literal.Number.Oct */\n",
       ".highlight .sa { color: #BA2121 } /* Literal.String.Affix */\n",
       ".highlight .sb { color: #BA2121 } /* Literal.String.Backtick */\n",
       ".highlight .sc { color: #BA2121 } /* Literal.String.Char */\n",
       ".highlight .dl { color: #BA2121 } /* Literal.String.Delimiter */\n",
       ".highlight .sd { color: #BA2121; font-style: italic } /* Literal.String.Doc */\n",
       ".highlight .s2 { color: #BA2121 } /* Literal.String.Double */\n",
       ".highlight .se { color: #AA5D1F; font-weight: bold } /* Literal.String.Escape */\n",
       ".highlight .sh { color: #BA2121 } /* Literal.String.Heredoc */\n",
       ".highlight .si { color: #A45A77; font-weight: bold } /* Literal.String.Interpol */\n",
       ".highlight .sx { color: #008000 } /* Literal.String.Other */\n",
       ".highlight .sr { color: #A45A77 } /* Literal.String.Regex */\n",
       ".highlight .s1 { color: #BA2121 } /* Literal.String.Single */\n",
       ".highlight .ss { color: #19177C } /* Literal.String.Symbol */\n",
       ".highlight .bp { color: #008000 } /* Name.Builtin.Pseudo */\n",
       ".highlight .fm { color: #0000FF } /* Name.Function.Magic */\n",
       ".highlight .vc { color: #19177C } /* Name.Variable.Class */\n",
       ".highlight .vg { color: #19177C } /* Name.Variable.Global */\n",
       ".highlight .vi { color: #19177C } /* Name.Variable.Instance */\n",
       ".highlight .vm { color: #19177C } /* Name.Variable.Magic */\n",
       ".highlight .il { color: #666666 } /* Literal.Number.Integer.Long */</style>    <div class=\"highlight\"><pre><span></span><span class=\"cp\">&lt;?xml version=&quot;1.0&quot; encoding=&quot;UTF-8&quot;?&gt;</span>\n",
       "<span class=\"nt\">&lt;sbml</span> <span class=\"na\">xmlns=</span><span class=\"s\">&quot;http://www.sbml.org/sbml/level3/version1/core&quot;</span> <span class=\"na\">xmlns:distrib=</span><span class=\"s\">&quot;http://www.sbml.org/sbml/level3/version1/distrib/version1&quot;</span> <span class=\"na\">xmlns:comp=</span><span class=\"s\">&quot;http://www.sbml.org/sbml/level3/version1/comp/version1&quot;</span> <span class=\"na\">level=</span><span class=\"s\">&quot;3&quot;</span> <span class=\"na\">version=</span><span class=\"s\">&quot;1&quot;</span> <span class=\"na\">distrib:required=</span><span class=\"s\">&quot;true&quot;</span> <span class=\"na\">comp:required=</span><span class=\"s\">&quot;true&quot;</span><span class=\"nt\">&gt;</span>\n",
       "  <span class=\"nt\">&lt;notes&gt;</span>\n",
       "    <span class=\"nt\">&lt;body</span> <span class=\"na\">xmlns=</span><span class=\"s\">&quot;http://www.w3.org/1999/xhtml&quot;</span><span class=\"nt\">&gt;</span>\n",
       "      <span class=\"nt\">&lt;p&gt;</span>Created with <span class=\"nt\">&lt;a</span> <span class=\"na\">href=</span><span class=\"s\">&quot;https://github.com/matthiaskoenig/sbmlutils&quot;</span><span class=\"nt\">&gt;</span>https://github.com/matthiaskoenig/sbmlutils<span class=\"nt\">&lt;/a&gt;</span>.\n",
       "<span class=\"nt\">&lt;a</span> <span class=\"na\">href=</span><span class=\"s\">&quot;https://doi.org/10.5281/zenodo.5525390&quot;</span><span class=\"nt\">&gt;</span>\n",
       "        <span class=\"nt\">&lt;img</span> <span class=\"na\">src=</span><span class=\"s\">&quot;https://zenodo.org/badge/DOI/10.5281/zenodo.5525390.svg&quot;</span> <span class=\"na\">alt=</span><span class=\"s\">&quot;DOI&quot;</span><span class=\"nt\">/&gt;&lt;/a&gt;&lt;/p&gt;</span>\n",
       "      <span class=\"nt\">&lt;/body&gt;</span>\n",
       "    <span class=\"nt\">&lt;/notes&gt;</span>\n",
       "  <span class=\"nt\">&lt;model</span> <span class=\"na\">id=</span><span class=\"s\">&quot;basic_example_2&quot;</span><span class=\"nt\">&gt;</span>\n",
       "    <span class=\"nt\">&lt;listOfCompartments&gt;</span>\n",
       "      <span class=\"nt\">&lt;compartment</span> <span class=\"na\">id=</span><span class=\"s\">&quot;C&quot;</span> <span class=\"na\">spatialDimensions=</span><span class=\"s\">&quot;3&quot;</span> <span class=\"na\">size=</span><span class=\"s\">&quot;1&quot;</span> <span class=\"na\">constant=</span><span class=\"s\">&quot;true&quot;</span><span class=\"nt\">/&gt;</span>\n",
       "    <span class=\"nt\">&lt;/listOfCompartments&gt;</span>\n",
       "    <span class=\"nt\">&lt;listOfSpecies&gt;</span>\n",
       "      <span class=\"nt\">&lt;species</span> <span class=\"na\">id=</span><span class=\"s\">&quot;s1&quot;</span> <span class=\"na\">compartment=</span><span class=\"s\">&quot;C&quot;</span> <span class=\"na\">initialAmount=</span><span class=\"s\">&quot;3.22&quot;</span> <span class=\"na\">hasOnlySubstanceUnits=</span><span class=\"s\">&quot;false&quot;</span> <span class=\"na\">boundaryCondition=</span><span class=\"s\">&quot;false&quot;</span> <span class=\"na\">constant=</span><span class=\"s\">&quot;false&quot;</span><span class=\"nt\">&gt;</span>\n",
       "        <span class=\"nt\">&lt;distrib:listOfUncertainties&gt;</span>\n",
       "          <span class=\"nt\">&lt;distrib:uncertainty&gt;</span>\n",
       "            <span class=\"nt\">&lt;distrib:uncertParameter</span> <span class=\"na\">distrib:value=</span><span class=\"s\">&quot;3.2&quot;</span> <span class=\"na\">distrib:type=</span><span class=\"s\">&quot;mean&quot;</span><span class=\"nt\">/&gt;</span>\n",
       "            <span class=\"nt\">&lt;distrib:uncertParameter</span> <span class=\"na\">distrib:value=</span><span class=\"s\">&quot;0.3&quot;</span> <span class=\"na\">distrib:type=</span><span class=\"s\">&quot;standardDeviation&quot;</span><span class=\"nt\">/&gt;</span>\n",
       "            <span class=\"nt\">&lt;distrib:uncertParameter</span> <span class=\"na\">distrib:value=</span><span class=\"s\">&quot;0.09&quot;</span> <span class=\"na\">distrib:type=</span><span class=\"s\">&quot;variance&quot;</span><span class=\"nt\">/&gt;</span>\n",
       "          <span class=\"nt\">&lt;/distrib:uncertainty&gt;</span>\n",
       "        <span class=\"nt\">&lt;/distrib:listOfUncertainties&gt;</span>\n",
       "      <span class=\"nt\">&lt;/species&gt;</span>\n",
       "    <span class=\"nt\">&lt;/listOfSpecies&gt;</span>\n",
       "  <span class=\"nt\">&lt;/model&gt;</span>\n",
       "<span class=\"nt\">&lt;/sbml&gt;</span>\n",
       "</pre></div>\n"
      ]
     },
     "metadata": {},
     "output_type": "display_data"
    },
    {
     "data": {
      "text/html": [
       "<pre style=\"white-space:pre;overflow-x:auto;line-height:normal;font-family:Menlo,'DejaVu Sans Mono',consolas,'Courier New',monospace\">\n",
       "</pre>\n"
      ],
      "text/plain": [
       "\n"
      ]
     },
     "metadata": {},
     "output_type": "display_data"
    },
    {
     "data": {
      "text/html": [
       "<pre style=\"white-space:pre;overflow-x:auto;line-height:normal;font-family:Menlo,'DejaVu Sans Mono',consolas,'Courier New',monospace\"><span style=\"color: #008000; text-decoration-color: #008000\">────────────────────────────────────────────────── </span>Validate SBML<span style=\"color: #008000; text-decoration-color: #008000\"> ──────────────────────────────────────────────────</span>\n",
       "</pre>\n"
      ],
      "text/plain": [
       "\u001b[32m────────────────────────────────────────────────── \u001b[0mValidate SBML\u001b[32m ──────────────────────────────────────────────────\u001b[0m\n"
      ]
     },
     "metadata": {},
     "output_type": "display_data"
    },
    {
     "data": {
      "text/html": [
       "<pre style=\"white-space:pre;overflow-x:auto;line-height:normal;font-family:Menlo,'DejaVu Sans Mono',consolas,'Courier New',monospace\"><span style=\"color: #008000; text-decoration-color: #008000; font-weight: bold\">&lt;</span><span style=\"color: #ff00ff; text-decoration-color: #ff00ff; font-weight: bold\">SBMLDocument</span><span style=\"color: #008000; text-decoration-color: #008000; font-weight: bold\">&gt;</span>\n",
       "<span style=\"color: #008000; text-decoration-color: #008000\">valid                    : TRUE</span>\n",
       "<span style=\"color: #008000; text-decoration-color: #008000\">check time </span><span style=\"color: #008000; text-decoration-color: #008000; font-weight: bold\">(</span><span style=\"color: #008000; text-decoration-color: #008000\">s</span><span style=\"color: #008000; text-decoration-color: #008000; font-weight: bold\">)</span><span style=\"color: #008000; text-decoration-color: #008000\">           : </span><span style=\"color: #008080; text-decoration-color: #008080; font-weight: bold\">0.002</span>\n",
       "</pre>\n"
      ],
      "text/plain": [
       "\u001b[1;32m<\u001b[0m\u001b[1;95mSBMLDocument\u001b[0m\u001b[1;32m>\u001b[0m\n",
       "\u001b[32mvalid                    : TRUE\u001b[0m\n",
       "\u001b[32mcheck time \u001b[0m\u001b[1;32m(\u001b[0m\u001b[32ms\u001b[0m\u001b[1;32m)\u001b[0m\u001b[32m           : \u001b[0m\u001b[1;36m0.002\u001b[0m\n"
      ]
     },
     "metadata": {},
     "output_type": "display_data"
    },
    {
     "data": {
      "text/html": [
       "<pre style=\"white-space:pre;overflow-x:auto;line-height:normal;font-family:Menlo,'DejaVu Sans Mono',consolas,'Courier New',monospace\"><span style=\"color: #008000; text-decoration-color: #008000\">───────────────────────────────────────────────────────────────────────────────────────────────────────────────────</span>\n",
       "</pre>\n"
      ],
      "text/plain": [
       "\u001b[32m───────────────────────────────────────────────────────────────────────────────────────────────────────────────────\u001b[0m\n"
      ]
     },
     "metadata": {},
     "output_type": "display_data"
    },
    {
     "data": {
      "text/html": [
       "<pre style=\"white-space:pre;overflow-x:auto;line-height:normal;font-family:Menlo,'DejaVu Sans Mono',consolas,'Courier New',monospace\">\n",
       "</pre>\n"
      ],
      "text/plain": [
       "\n"
      ]
     },
     "metadata": {},
     "output_type": "display_data"
    }
   ],
   "source": [
    "import libsbml\n",
    "md: ModelDict = {\n",
    "    'sid': 'basic_example_2',\n",
    "    'packages': [Package.DISTRIB_V1],\n",
    "    'compartments': [\n",
    "        Compartment(\"C\", value=1.0)\n",
    "    ],\n",
    "    'species': [\n",
    "        Species(sid=\"s1\", compartment=\"C\", initialAmount=3.22, \n",
    "                uncertainties=[\n",
    "                  Uncertainty(uncertParameters=[\n",
    "                      UncertParameter(type=libsbml.DISTRIB_UNCERTTYPE_MEAN, value=3.2),\n",
    "                      UncertParameter(type=libsbml.DISTRIB_UNCERTTYPE_STANDARDDEVIATION, value=0.3),\n",
    "                      UncertParameter(type=libsbml.DISTRIB_UNCERTTYPE_VARIANCE, value=0.09),\n",
    "                  ])\n",
    "                ])\n",
    "    ],\n",
    "}\n",
    "\n",
    "# create model and print SBML\n",
    "doc = Document(Model(**md))\n",
    "print_xml(doc.get_sbml())\n",
    "\n",
    "# validate model\n",
    "validate_doc(doc.doc, options=ValidationOptions(units_consistency=False));"
   ]
  },
  {
   "cell_type": "markdown",
   "metadata": {},
   "source": [
    "### Multiple uncertainties\n",
    "The following gives an example how to encode multiple uncertainties for a parameter.\n",
    "Here the two uncertainties \n",
    "`5.0 (mean) +- 0.3 (std) [2.0 - 8.0]` \n",
    "and \n",
    "`4.5 (mean) +- 1.1 (std) [1.0 - 10.0]` \n",
    "are set."
   ]
  },
  {
   "cell_type": "code",
   "execution_count": 10,
   "metadata": {},
   "outputs": [
    {
     "data": {
      "text/html": [
       "<pre style=\"white-space:pre;overflow-x:auto;line-height:normal;font-family:Menlo,'DejaVu Sans Mono',consolas,'Courier New',monospace\"><span style=\"color: #000080; text-decoration-color: #000080\">INFO    </span> Create SBML for model <span style=\"color: #008000; text-decoration-color: #008000\">'multiple_uncertainties'</span>                                             <a href=\"file:///home/mkoenig/git/sbmlutils/src/sbmlutils/factory.py\" target=\"_blank\"><span style=\"color: #7f7f7f; text-decoration-color: #7f7f7f\">factory.py</span></a><span style=\"color: #7f7f7f; text-decoration-color: #7f7f7f\">:</span><a href=\"file:///home/mkoenig/git/sbmlutils/src/sbmlutils/factory.py#3526\" target=\"_blank\"><span style=\"color: #7f7f7f; text-decoration-color: #7f7f7f\">3526</span></a>\n",
       "</pre>\n"
      ],
      "text/plain": [
       "\u001b[34mINFO    \u001b[0m Create SBML for model \u001b[32m'multiple_uncertainties'\u001b[0m                                             \u001b]8;id=770179;file:///home/mkoenig/git/sbmlutils/src/sbmlutils/factory.py\u001b\\\u001b[2mfactory.py\u001b[0m\u001b]8;;\u001b\\\u001b[2m:\u001b[0m\u001b]8;id=73502;file:///home/mkoenig/git/sbmlutils/src/sbmlutils/factory.py#3526\u001b\\\u001b[2m3526\u001b[0m\u001b]8;;\u001b\\\n"
      ]
     },
     "metadata": {},
     "output_type": "display_data"
    },
    {
     "data": {
      "text/html": [
       "<pre style=\"white-space:pre;overflow-x:auto;line-height:normal;font-family:Menlo,'DejaVu Sans Mono',consolas,'Courier New',monospace\"><span style=\"color: #800000; text-decoration-color: #800000\">WARNING </span> <span style=\"color: #008000; text-decoration-color: #008000\">'name'</span> should be set on <span style=\"color: #008000; text-decoration-color: #008000\">'Model(sid='</span>multiple_uncertainties', <span style=\"color: #808000; text-decoration-color: #808000\">packages</span>=<span style=\"font-weight: bold\">[&lt;</span><span style=\"color: #ff00ff; text-decoration-color: #ff00ff; font-weight: bold\">Package.DISTRIB_V1:</span> <a href=\"file:///home/mkoenig/git/sbmlutils/src/sbmlutils/factory.py\" target=\"_blank\"><span style=\"color: #7f7f7f; text-decoration-color: #7f7f7f\">factory.py</span></a><span style=\"color: #7f7f7f; text-decoration-color: #7f7f7f\">:</span><a href=\"file:///home/mkoenig/git/sbmlutils/src/sbmlutils/factory.py#441\" target=\"_blank\"><span style=\"color: #7f7f7f; text-decoration-color: #7f7f7f\">441</span></a>\n",
       "         <span style=\"color: #008000; text-decoration-color: #008000\">'distrib-v1'</span><span style=\"font-weight: bold\">&gt;</span>, <span style=\"font-weight: bold\">&lt;</span><span style=\"color: #ff00ff; text-decoration-color: #ff00ff; font-weight: bold\">Package.COMP_V1:</span><span style=\"color: #000000; text-decoration-color: #000000\"> </span><span style=\"color: #008000; text-decoration-color: #008000\">'comp-v1'</span><span style=\"font-weight: bold\">&gt;]</span>, <span style=\"color: #808000; text-decoration-color: #808000\">model_units</span>=<span style=\"font-weight: bold\">&lt;</span><span style=\"color: #ff00ff; text-decoration-color: #ff00ff; font-weight: bold\">sbmlutils.factory.ModelUnits</span><span style=\"color: #000000; text-decoration-color: #000000\"> </span>    <span style=\"color: #7f7f7f; text-decoration-color: #7f7f7f\">              </span>\n",
       "         <span style=\"color: #000000; text-decoration-color: #000000\">object at </span><span style=\"color: #008080; text-decoration-color: #008080; font-weight: bold\">0x7f8eaa8ceb50</span><span style=\"font-weight: bold\">&gt;</span>, <span style=\"color: #808000; text-decoration-color: #808000\">units</span>=<span style=\"font-weight: bold\">&lt;</span><span style=\"color: #ff00ff; text-decoration-color: #ff00ff; font-weight: bold\">class</span><span style=\"color: #000000; text-decoration-color: #000000\"> </span><span style=\"color: #008000; text-decoration-color: #008000\">'__main__.U'</span><span style=\"font-weight: bold\">&gt;</span>, <span style=\"color: #808000; text-decoration-color: #808000\">parameters</span>=<span style=\"font-weight: bold\">[</span>p1 = <span style=\"color: #008080; text-decoration-color: #008080; font-weight: bold\">5.0</span>                 <span style=\"color: #7f7f7f; text-decoration-color: #7f7f7f\">              </span>\n",
       "         <span style=\"font-weight: bold\">[</span><span style=\"color: #800080; text-decoration-color: #800080; font-weight: bold\">UnitDefinition</span><span style=\"font-weight: bold\">(</span>mM, mmole/liter<span style=\"font-weight: bold\">)]]</span>, <span style=\"color: #808000; text-decoration-color: #808000\">assignments</span>=<span style=\"font-weight: bold\">[&lt;</span><span style=\"color: #ff00ff; text-decoration-color: #ff00ff; font-weight: bold\">sbmlutils.factory.InitialAssignment</span><span style=\"color: #000000; text-decoration-color: #000000\"> </span>      <span style=\"color: #7f7f7f; text-decoration-color: #7f7f7f\">              </span>\n",
       "         <span style=\"color: #000000; text-decoration-color: #000000\">object at </span><span style=\"color: #008080; text-decoration-color: #008080; font-weight: bold\">0x7f8eaa8ce760</span><span style=\"font-weight: bold\">&gt;]</span>, <span style=\"color: #808000; text-decoration-color: #808000\">_FrozenClass__isfrozen</span>=<span style=\"color: #00ff00; text-decoration-color: #00ff00; font-style: italic\">True</span><span style=\"font-weight: bold\">)</span>'                                   <span style=\"color: #7f7f7f; text-decoration-color: #7f7f7f\">              </span>\n",
       "</pre>\n"
      ],
      "text/plain": [
       "\u001b[31mWARNING \u001b[0m \u001b[32m'name'\u001b[0m should be set on \u001b[32m'Model\u001b[0m\u001b[32m(\u001b[0m\u001b[32msid\u001b[0m\u001b[32m='\u001b[0mmultiple_uncertainties', \u001b[33mpackages\u001b[0m=\u001b[1m[\u001b[0m\u001b[1m<\u001b[0m\u001b[1;95mPackage.DISTRIB_V1:\u001b[0m \u001b]8;id=362222;file:///home/mkoenig/git/sbmlutils/src/sbmlutils/factory.py\u001b\\\u001b[2mfactory.py\u001b[0m\u001b]8;;\u001b\\\u001b[2m:\u001b[0m\u001b]8;id=573699;file:///home/mkoenig/git/sbmlutils/src/sbmlutils/factory.py#441\u001b\\\u001b[2m441\u001b[0m\u001b]8;;\u001b\\\n",
       "         \u001b[32m'distrib-v1'\u001b[0m\u001b[1m>\u001b[0m, \u001b[1m<\u001b[0m\u001b[1;95mPackage.COMP_V1:\u001b[0m\u001b[39m \u001b[0m\u001b[32m'comp-v1'\u001b[0m\u001b[1m>\u001b[0m\u001b[1m]\u001b[0m, \u001b[33mmodel_units\u001b[0m=\u001b[1m<\u001b[0m\u001b[1;95msbmlutils.factory.ModelUnits\u001b[0m\u001b[39m \u001b[0m    \u001b[2m              \u001b[0m\n",
       "         \u001b[39mobject at \u001b[0m\u001b[1;36m0x7f8eaa8ceb50\u001b[0m\u001b[1m>\u001b[0m, \u001b[33munits\u001b[0m=\u001b[1m<\u001b[0m\u001b[1;95mclass\u001b[0m\u001b[39m \u001b[0m\u001b[32m'__main__.U'\u001b[0m\u001b[1m>\u001b[0m, \u001b[33mparameters\u001b[0m=\u001b[1m[\u001b[0mp1 = \u001b[1;36m5.0\u001b[0m                 \u001b[2m              \u001b[0m\n",
       "         \u001b[1m[\u001b[0m\u001b[1;35mUnitDefinition\u001b[0m\u001b[1m(\u001b[0mmM, mmole/liter\u001b[1m)\u001b[0m\u001b[1m]\u001b[0m\u001b[1m]\u001b[0m, \u001b[33massignments\u001b[0m=\u001b[1m[\u001b[0m\u001b[1m<\u001b[0m\u001b[1;95msbmlutils.factory.InitialAssignment\u001b[0m\u001b[39m \u001b[0m      \u001b[2m              \u001b[0m\n",
       "         \u001b[39mobject at \u001b[0m\u001b[1;36m0x7f8eaa8ce760\u001b[0m\u001b[1m>\u001b[0m\u001b[1m]\u001b[0m, \u001b[33m_FrozenClass__isfrozen\u001b[0m=\u001b[3;92mTrue\u001b[0m\u001b[1m)\u001b[0m'                                   \u001b[2m              \u001b[0m\n"
      ]
     },
     "metadata": {},
     "output_type": "display_data"
    },
    {
     "data": {
      "text/html": [
       "<pre style=\"white-space:pre;overflow-x:auto;line-height:normal;font-family:Menlo,'DejaVu Sans Mono',consolas,'Courier New',monospace\"><span style=\"color: #800000; text-decoration-color: #800000\">WARNING </span> <span style=\"color: #008000; text-decoration-color: #008000\">'name'</span> should be set on <span style=\"color: #008000; text-decoration-color: #008000\">'Parameter(p1, [&lt;sbmlutils.factory.Uncertainty object at </span>           <a href=\"file:///home/mkoenig/git/sbmlutils/src/sbmlutils/factory.py\" target=\"_blank\"><span style=\"color: #7f7f7f; text-decoration-color: #7f7f7f\">factory.py</span></a><span style=\"color: #7f7f7f; text-decoration-color: #7f7f7f\">:</span><a href=\"file:///home/mkoenig/git/sbmlutils/src/sbmlutils/factory.py#441\" target=\"_blank\"><span style=\"color: #7f7f7f; text-decoration-color: #7f7f7f\">441</span></a>\n",
       "         <span style=\"color: #008000; text-decoration-color: #008000\">0x7f8eaa8ce160&gt;, &lt;sbmlutils.factory.Uncertainty object at 0x7f8eaa8ce310&gt;])'</span>                <span style=\"color: #7f7f7f; text-decoration-color: #7f7f7f\">              </span>\n",
       "</pre>\n"
      ],
      "text/plain": [
       "\u001b[31mWARNING \u001b[0m \u001b[32m'name'\u001b[0m should be set on \u001b[32m'Parameter\u001b[0m\u001b[32m(\u001b[0m\u001b[32mp1, \u001b[0m\u001b[32m[\u001b[0m\u001b[32m<\u001b[0m\u001b[32msbmlutils.factory.Uncertainty\u001b[0m\u001b[32m object at \u001b[0m           \u001b]8;id=937849;file:///home/mkoenig/git/sbmlutils/src/sbmlutils/factory.py\u001b\\\u001b[2mfactory.py\u001b[0m\u001b]8;;\u001b\\\u001b[2m:\u001b[0m\u001b]8;id=662776;file:///home/mkoenig/git/sbmlutils/src/sbmlutils/factory.py#441\u001b\\\u001b[2m441\u001b[0m\u001b]8;;\u001b\\\n",
       "         \u001b[32m0x7f8eaa8ce160\u001b[0m\u001b[32m>\u001b[0m\u001b[32m, \u001b[0m\u001b[32m<\u001b[0m\u001b[32msbmlutils.factory.Uncertainty\u001b[0m\u001b[32m object at 0x7f8eaa8ce310\u001b[0m\u001b[32m>\u001b[0m\u001b[32m]\u001b[0m\u001b[32m)\u001b[0m\u001b[32m'\u001b[0m                \u001b[2m              \u001b[0m\n"
      ]
     },
     "metadata": {},
     "output_type": "display_data"
    },
    {
     "data": {
      "text/html": [
       "<pre style=\"white-space:pre;overflow-x:auto;line-height:normal;font-family:Menlo,'DejaVu Sans Mono',consolas,'Courier New',monospace\"><span style=\"color: #800000; text-decoration-color: #800000\">WARNING </span> <span style=\"color: #008000; text-decoration-color: #008000\">'sboTerm'</span> should be set on <span style=\"color: #008000; text-decoration-color: #008000\">'Parameter(p1, [&lt;sbmlutils.factory.Uncertainty object at </span>        <a href=\"file:///home/mkoenig/git/sbmlutils/src/sbmlutils/factory.py\" target=\"_blank\"><span style=\"color: #7f7f7f; text-decoration-color: #7f7f7f\">factory.py</span></a><span style=\"color: #7f7f7f; text-decoration-color: #7f7f7f\">:</span><a href=\"file:///home/mkoenig/git/sbmlutils/src/sbmlutils/factory.py#466\" target=\"_blank\"><span style=\"color: #7f7f7f; text-decoration-color: #7f7f7f\">466</span></a>\n",
       "         <span style=\"color: #008000; text-decoration-color: #008000\">0x7f8eaa8ce160&gt;, &lt;sbmlutils.factory.Uncertainty object at 0x7f8eaa8ce310&gt;])'</span>                <span style=\"color: #7f7f7f; text-decoration-color: #7f7f7f\">              </span>\n",
       "</pre>\n"
      ],
      "text/plain": [
       "\u001b[31mWARNING \u001b[0m \u001b[32m'sboTerm'\u001b[0m should be set on \u001b[32m'Parameter\u001b[0m\u001b[32m(\u001b[0m\u001b[32mp1, \u001b[0m\u001b[32m[\u001b[0m\u001b[32m<\u001b[0m\u001b[32msbmlutils.factory.Uncertainty\u001b[0m\u001b[32m object at \u001b[0m        \u001b]8;id=590127;file:///home/mkoenig/git/sbmlutils/src/sbmlutils/factory.py\u001b\\\u001b[2mfactory.py\u001b[0m\u001b]8;;\u001b\\\u001b[2m:\u001b[0m\u001b]8;id=225112;file:///home/mkoenig/git/sbmlutils/src/sbmlutils/factory.py#466\u001b\\\u001b[2m466\u001b[0m\u001b]8;;\u001b\\\n",
       "         \u001b[32m0x7f8eaa8ce160\u001b[0m\u001b[32m>\u001b[0m\u001b[32m, \u001b[0m\u001b[32m<\u001b[0m\u001b[32msbmlutils.factory.Uncertainty\u001b[0m\u001b[32m object at 0x7f8eaa8ce310\u001b[0m\u001b[32m>\u001b[0m\u001b[32m]\u001b[0m\u001b[32m)\u001b[0m\u001b[32m'\u001b[0m                \u001b[2m              \u001b[0m\n"
      ]
     },
     "metadata": {},
     "output_type": "display_data"
    },
    {
     "data": {
      "text/html": [
       "<pre style=\"white-space:pre;overflow-x:auto;line-height:normal;font-family:Menlo,'DejaVu Sans Mono',consolas,'Courier New',monospace\"><span style=\"color: #800000; text-decoration-color: #800000\">WARNING </span> <span style=\"color: #008000; text-decoration-color: #008000\">'name'</span> should be set on <span style=\"color: #008000; text-decoration-color: #008000\">'Uncertainty(p1_uncertainty_1)'</span>                                     <a href=\"file:///home/mkoenig/git/sbmlutils/src/sbmlutils/factory.py\" target=\"_blank\"><span style=\"color: #7f7f7f; text-decoration-color: #7f7f7f\">factory.py</span></a><span style=\"color: #7f7f7f; text-decoration-color: #7f7f7f\">:</span><a href=\"file:///home/mkoenig/git/sbmlutils/src/sbmlutils/factory.py#441\" target=\"_blank\"><span style=\"color: #7f7f7f; text-decoration-color: #7f7f7f\">441</span></a>\n",
       "</pre>\n"
      ],
      "text/plain": [
       "\u001b[31mWARNING \u001b[0m \u001b[32m'name'\u001b[0m should be set on \u001b[32m'Uncertainty\u001b[0m\u001b[32m(\u001b[0m\u001b[32mp1_uncertainty_1\u001b[0m\u001b[32m)\u001b[0m\u001b[32m'\u001b[0m                                     \u001b]8;id=900983;file:///home/mkoenig/git/sbmlutils/src/sbmlutils/factory.py\u001b\\\u001b[2mfactory.py\u001b[0m\u001b]8;;\u001b\\\u001b[2m:\u001b[0m\u001b]8;id=345373;file:///home/mkoenig/git/sbmlutils/src/sbmlutils/factory.py#441\u001b\\\u001b[2m441\u001b[0m\u001b]8;;\u001b\\\n"
      ]
     },
     "metadata": {},
     "output_type": "display_data"
    },
    {
     "data": {
      "text/html": [
       "<pre style=\"white-space:pre;overflow-x:auto;line-height:normal;font-family:Menlo,'DejaVu Sans Mono',consolas,'Courier New',monospace\"><span style=\"color: #800000; text-decoration-color: #800000\">WARNING </span> <span style=\"color: #008000; text-decoration-color: #008000\">'sboTerm'</span> should be set on <span style=\"color: #008000; text-decoration-color: #008000\">'Uncertainty(p1_uncertainty_1)'</span>                                  <a href=\"file:///home/mkoenig/git/sbmlutils/src/sbmlutils/factory.py\" target=\"_blank\"><span style=\"color: #7f7f7f; text-decoration-color: #7f7f7f\">factory.py</span></a><span style=\"color: #7f7f7f; text-decoration-color: #7f7f7f\">:</span><a href=\"file:///home/mkoenig/git/sbmlutils/src/sbmlutils/factory.py#466\" target=\"_blank\"><span style=\"color: #7f7f7f; text-decoration-color: #7f7f7f\">466</span></a>\n",
       "</pre>\n"
      ],
      "text/plain": [
       "\u001b[31mWARNING \u001b[0m \u001b[32m'sboTerm'\u001b[0m should be set on \u001b[32m'Uncertainty\u001b[0m\u001b[32m(\u001b[0m\u001b[32mp1_uncertainty_1\u001b[0m\u001b[32m)\u001b[0m\u001b[32m'\u001b[0m                                  \u001b]8;id=329724;file:///home/mkoenig/git/sbmlutils/src/sbmlutils/factory.py\u001b\\\u001b[2mfactory.py\u001b[0m\u001b]8;;\u001b\\\u001b[2m:\u001b[0m\u001b]8;id=45363;file:///home/mkoenig/git/sbmlutils/src/sbmlutils/factory.py#466\u001b\\\u001b[2m466\u001b[0m\u001b]8;;\u001b\\\n"
      ]
     },
     "metadata": {},
     "output_type": "display_data"
    },
    {
     "data": {
      "text/html": [
       "<pre style=\"white-space:pre;overflow-x:auto;line-height:normal;font-family:Menlo,'DejaVu Sans Mono',consolas,'Courier New',monospace\"><span style=\"color: #800000; text-decoration-color: #800000; font-weight: bold\">ERROR   </span> Unsupported type for UncertParameter: <span style=\"color: #008000; text-decoration-color: #008000\">'15'</span> in <span style=\"color: #008000; text-decoration-color: #008000\">'&lt;sbmlutils.factory.UncertSpan object at </span>    <a href=\"file:///home/mkoenig/git/sbmlutils/src/sbmlutils/factory.py\" target=\"_blank\"><span style=\"color: #7f7f7f; text-decoration-color: #7f7f7f\">factory.py</span></a><span style=\"color: #7f7f7f; text-decoration-color: #7f7f7f\">:</span><a href=\"file:///home/mkoenig/git/sbmlutils/src/sbmlutils/factory.py#2121\" target=\"_blank\"><span style=\"color: #7f7f7f; text-decoration-color: #7f7f7f\">2121</span></a>\n",
       "         <span style=\"color: #008000; text-decoration-color: #008000\">0x7f8eaa8ce1f0&gt;'</span>.                                                                          <span style=\"color: #7f7f7f; text-decoration-color: #7f7f7f\">               </span>\n",
       "</pre>\n"
      ],
      "text/plain": [
       "\u001b[1;31mERROR   \u001b[0m Unsupported type for UncertParameter: \u001b[32m'15'\u001b[0m in \u001b[32m'\u001b[0m\u001b[32m<\u001b[0m\u001b[32msbmlutils.factory.UncertSpan\u001b[0m\u001b[32m object at \u001b[0m    \u001b]8;id=579186;file:///home/mkoenig/git/sbmlutils/src/sbmlutils/factory.py\u001b\\\u001b[2mfactory.py\u001b[0m\u001b]8;;\u001b\\\u001b[2m:\u001b[0m\u001b]8;id=770772;file:///home/mkoenig/git/sbmlutils/src/sbmlutils/factory.py#2121\u001b\\\u001b[2m2121\u001b[0m\u001b]8;;\u001b\\\n",
       "         \u001b[32m0x7f8eaa8ce1f0\u001b[0m\u001b[32m>\u001b[0m\u001b[32m'\u001b[0m.                                                                          \u001b[2m               \u001b[0m\n"
      ]
     },
     "metadata": {},
     "output_type": "display_data"
    },
    {
     "data": {
      "text/html": [
       "<pre style=\"white-space:pre;overflow-x:auto;line-height:normal;font-family:Menlo,'DejaVu Sans Mono',consolas,'Courier New',monospace\"><span style=\"color: #800000; text-decoration-color: #800000\">WARNING </span> <span style=\"color: #008000; text-decoration-color: #008000\">'name'</span> should be set on <span style=\"color: #008000; text-decoration-color: #008000\">'Uncertainty(p1_uncertainty_2)'</span>                                     <a href=\"file:///home/mkoenig/git/sbmlutils/src/sbmlutils/factory.py\" target=\"_blank\"><span style=\"color: #7f7f7f; text-decoration-color: #7f7f7f\">factory.py</span></a><span style=\"color: #7f7f7f; text-decoration-color: #7f7f7f\">:</span><a href=\"file:///home/mkoenig/git/sbmlutils/src/sbmlutils/factory.py#441\" target=\"_blank\"><span style=\"color: #7f7f7f; text-decoration-color: #7f7f7f\">441</span></a>\n",
       "</pre>\n"
      ],
      "text/plain": [
       "\u001b[31mWARNING \u001b[0m \u001b[32m'name'\u001b[0m should be set on \u001b[32m'Uncertainty\u001b[0m\u001b[32m(\u001b[0m\u001b[32mp1_uncertainty_2\u001b[0m\u001b[32m)\u001b[0m\u001b[32m'\u001b[0m                                     \u001b]8;id=517018;file:///home/mkoenig/git/sbmlutils/src/sbmlutils/factory.py\u001b\\\u001b[2mfactory.py\u001b[0m\u001b]8;;\u001b\\\u001b[2m:\u001b[0m\u001b]8;id=315153;file:///home/mkoenig/git/sbmlutils/src/sbmlutils/factory.py#441\u001b\\\u001b[2m441\u001b[0m\u001b]8;;\u001b\\\n"
      ]
     },
     "metadata": {},
     "output_type": "display_data"
    },
    {
     "data": {
      "text/html": [
       "<pre style=\"white-space:pre;overflow-x:auto;line-height:normal;font-family:Menlo,'DejaVu Sans Mono',consolas,'Courier New',monospace\"><span style=\"color: #800000; text-decoration-color: #800000\">WARNING </span> <span style=\"color: #008000; text-decoration-color: #008000\">'sboTerm'</span> should be set on <span style=\"color: #008000; text-decoration-color: #008000\">'Uncertainty(p1_uncertainty_2)'</span>                                  <a href=\"file:///home/mkoenig/git/sbmlutils/src/sbmlutils/factory.py\" target=\"_blank\"><span style=\"color: #7f7f7f; text-decoration-color: #7f7f7f\">factory.py</span></a><span style=\"color: #7f7f7f; text-decoration-color: #7f7f7f\">:</span><a href=\"file:///home/mkoenig/git/sbmlutils/src/sbmlutils/factory.py#466\" target=\"_blank\"><span style=\"color: #7f7f7f; text-decoration-color: #7f7f7f\">466</span></a>\n",
       "</pre>\n"
      ],
      "text/plain": [
       "\u001b[31mWARNING \u001b[0m \u001b[32m'sboTerm'\u001b[0m should be set on \u001b[32m'Uncertainty\u001b[0m\u001b[32m(\u001b[0m\u001b[32mp1_uncertainty_2\u001b[0m\u001b[32m)\u001b[0m\u001b[32m'\u001b[0m                                  \u001b]8;id=716953;file:///home/mkoenig/git/sbmlutils/src/sbmlutils/factory.py\u001b\\\u001b[2mfactory.py\u001b[0m\u001b]8;;\u001b\\\u001b[2m:\u001b[0m\u001b]8;id=917213;file:///home/mkoenig/git/sbmlutils/src/sbmlutils/factory.py#466\u001b\\\u001b[2m466\u001b[0m\u001b]8;;\u001b\\\n"
      ]
     },
     "metadata": {},
     "output_type": "display_data"
    },
    {
     "data": {
      "text/html": [
       "<pre style=\"white-space:pre;overflow-x:auto;line-height:normal;font-family:Menlo,'DejaVu Sans Mono',consolas,'Courier New',monospace\"><span style=\"color: #800000; text-decoration-color: #800000; font-weight: bold\">ERROR   </span> Unsupported type for UncertParameter: <span style=\"color: #008000; text-decoration-color: #008000\">'15'</span> in <span style=\"color: #008000; text-decoration-color: #008000\">'&lt;sbmlutils.factory.UncertSpan object at </span>    <a href=\"file:///home/mkoenig/git/sbmlutils/src/sbmlutils/factory.py\" target=\"_blank\"><span style=\"color: #7f7f7f; text-decoration-color: #7f7f7f\">factory.py</span></a><span style=\"color: #7f7f7f; text-decoration-color: #7f7f7f\">:</span><a href=\"file:///home/mkoenig/git/sbmlutils/src/sbmlutils/factory.py#2121\" target=\"_blank\"><span style=\"color: #7f7f7f; text-decoration-color: #7f7f7f\">2121</span></a>\n",
       "         <span style=\"color: #008000; text-decoration-color: #008000\">0x7f8eaa8ce2b0&gt;'</span>.                                                                          <span style=\"color: #7f7f7f; text-decoration-color: #7f7f7f\">               </span>\n",
       "</pre>\n"
      ],
      "text/plain": [
       "\u001b[1;31mERROR   \u001b[0m Unsupported type for UncertParameter: \u001b[32m'15'\u001b[0m in \u001b[32m'\u001b[0m\u001b[32m<\u001b[0m\u001b[32msbmlutils.factory.UncertSpan\u001b[0m\u001b[32m object at \u001b[0m    \u001b]8;id=715719;file:///home/mkoenig/git/sbmlutils/src/sbmlutils/factory.py\u001b\\\u001b[2mfactory.py\u001b[0m\u001b]8;;\u001b\\\u001b[2m:\u001b[0m\u001b]8;id=148469;file:///home/mkoenig/git/sbmlutils/src/sbmlutils/factory.py#2121\u001b\\\u001b[2m2121\u001b[0m\u001b]8;;\u001b\\\n",
       "         \u001b[32m0x7f8eaa8ce2b0\u001b[0m\u001b[32m>\u001b[0m\u001b[32m'\u001b[0m.                                                                          \u001b[2m               \u001b[0m\n"
      ]
     },
     "metadata": {},
     "output_type": "display_data"
    },
    {
     "data": {
      "text/html": [
       "<pre style=\"white-space:pre;overflow-x:auto;line-height:normal;font-family:Menlo,'DejaVu Sans Mono',consolas,'Courier New',monospace\"><span style=\"color: #800000; text-decoration-color: #800000\">WARNING </span> <span style=\"color: #008000; text-decoration-color: #008000\">'name'</span> should be set on <span style=\"color: #008000; text-decoration-color: #008000\">'InitialAssignment()'</span>                                               <a href=\"file:///home/mkoenig/git/sbmlutils/src/sbmlutils/factory.py\" target=\"_blank\"><span style=\"color: #7f7f7f; text-decoration-color: #7f7f7f\">factory.py</span></a><span style=\"color: #7f7f7f; text-decoration-color: #7f7f7f\">:</span><a href=\"file:///home/mkoenig/git/sbmlutils/src/sbmlutils/factory.py#441\" target=\"_blank\"><span style=\"color: #7f7f7f; text-decoration-color: #7f7f7f\">441</span></a>\n",
       "</pre>\n"
      ],
      "text/plain": [
       "\u001b[31mWARNING \u001b[0m \u001b[32m'name'\u001b[0m should be set on \u001b[32m'InitialAssignment\u001b[0m\u001b[32m(\u001b[0m\u001b[32m)\u001b[0m\u001b[32m'\u001b[0m                                               \u001b]8;id=369491;file:///home/mkoenig/git/sbmlutils/src/sbmlutils/factory.py\u001b\\\u001b[2mfactory.py\u001b[0m\u001b]8;;\u001b\\\u001b[2m:\u001b[0m\u001b]8;id=302689;file:///home/mkoenig/git/sbmlutils/src/sbmlutils/factory.py#441\u001b\\\u001b[2m441\u001b[0m\u001b]8;;\u001b\\\n"
      ]
     },
     "metadata": {},
     "output_type": "display_data"
    },
    {
     "data": {
      "text/html": [
       "<pre style=\"white-space:pre;overflow-x:auto;line-height:normal;font-family:Menlo,'DejaVu Sans Mono',consolas,'Courier New',monospace\"><span style=\"color: #800000; text-decoration-color: #800000\">WARNING </span> <span style=\"color: #008000; text-decoration-color: #008000\">'sboTerm'</span> should be set on <span style=\"color: #008000; text-decoration-color: #008000\">'InitialAssignment()'</span>                                            <a href=\"file:///home/mkoenig/git/sbmlutils/src/sbmlutils/factory.py\" target=\"_blank\"><span style=\"color: #7f7f7f; text-decoration-color: #7f7f7f\">factory.py</span></a><span style=\"color: #7f7f7f; text-decoration-color: #7f7f7f\">:</span><a href=\"file:///home/mkoenig/git/sbmlutils/src/sbmlutils/factory.py#466\" target=\"_blank\"><span style=\"color: #7f7f7f; text-decoration-color: #7f7f7f\">466</span></a>\n",
       "</pre>\n"
      ],
      "text/plain": [
       "\u001b[31mWARNING \u001b[0m \u001b[32m'sboTerm'\u001b[0m should be set on \u001b[32m'InitialAssignment\u001b[0m\u001b[32m(\u001b[0m\u001b[32m)\u001b[0m\u001b[32m'\u001b[0m                                            \u001b]8;id=841252;file:///home/mkoenig/git/sbmlutils/src/sbmlutils/factory.py\u001b\\\u001b[2mfactory.py\u001b[0m\u001b]8;;\u001b\\\u001b[2m:\u001b[0m\u001b]8;id=809328;file:///home/mkoenig/git/sbmlutils/src/sbmlutils/factory.py#466\u001b\\\u001b[2m466\u001b[0m\u001b]8;;\u001b\\\n"
      ]
     },
     "metadata": {},
     "output_type": "display_data"
    },
    {
     "data": {
      "text/html": [
       "<style type=\"text/css\">pre { line-height: 125%; }\n",
       "td.linenos .normal { color: inherit; background-color: transparent; padding-left: 5px; padding-right: 5px; }\n",
       "span.linenos { color: inherit; background-color: transparent; padding-left: 5px; padding-right: 5px; }\n",
       "td.linenos .special { color: #000000; background-color: #ffffc0; padding-left: 5px; padding-right: 5px; }\n",
       "span.linenos.special { color: #000000; background-color: #ffffc0; padding-left: 5px; padding-right: 5px; }\n",
       ".highlight .hll { background-color: #ffffcc }\n",
       ".highlight { background: #f8f8f8; }\n",
       ".highlight .c { color: #3D7B7B; font-style: italic } /* Comment */\n",
       ".highlight .err { border: 1px solid #FF0000 } /* Error */\n",
       ".highlight .k { color: #008000; font-weight: bold } /* Keyword */\n",
       ".highlight .o { color: #666666 } /* Operator */\n",
       ".highlight .ch { color: #3D7B7B; font-style: italic } /* Comment.Hashbang */\n",
       ".highlight .cm { color: #3D7B7B; font-style: italic } /* Comment.Multiline */\n",
       ".highlight .cp { color: #9C6500 } /* Comment.Preproc */\n",
       ".highlight .cpf { color: #3D7B7B; font-style: italic } /* Comment.PreprocFile */\n",
       ".highlight .c1 { color: #3D7B7B; font-style: italic } /* Comment.Single */\n",
       ".highlight .cs { color: #3D7B7B; font-style: italic } /* Comment.Special */\n",
       ".highlight .gd { color: #A00000 } /* Generic.Deleted */\n",
       ".highlight .ge { font-style: italic } /* Generic.Emph */\n",
       ".highlight .gr { color: #E40000 } /* Generic.Error */\n",
       ".highlight .gh { color: #000080; font-weight: bold } /* Generic.Heading */\n",
       ".highlight .gi { color: #008400 } /* Generic.Inserted */\n",
       ".highlight .go { color: #717171 } /* Generic.Output */\n",
       ".highlight .gp { color: #000080; font-weight: bold } /* Generic.Prompt */\n",
       ".highlight .gs { font-weight: bold } /* Generic.Strong */\n",
       ".highlight .gu { color: #800080; font-weight: bold } /* Generic.Subheading */\n",
       ".highlight .gt { color: #0044DD } /* Generic.Traceback */\n",
       ".highlight .kc { color: #008000; font-weight: bold } /* Keyword.Constant */\n",
       ".highlight .kd { color: #008000; font-weight: bold } /* Keyword.Declaration */\n",
       ".highlight .kn { color: #008000; font-weight: bold } /* Keyword.Namespace */\n",
       ".highlight .kp { color: #008000 } /* Keyword.Pseudo */\n",
       ".highlight .kr { color: #008000; font-weight: bold } /* Keyword.Reserved */\n",
       ".highlight .kt { color: #B00040 } /* Keyword.Type */\n",
       ".highlight .m { color: #666666 } /* Literal.Number */\n",
       ".highlight .s { color: #BA2121 } /* Literal.String */\n",
       ".highlight .na { color: #687822 } /* Name.Attribute */\n",
       ".highlight .nb { color: #008000 } /* Name.Builtin */\n",
       ".highlight .nc { color: #0000FF; font-weight: bold } /* Name.Class */\n",
       ".highlight .no { color: #880000 } /* Name.Constant */\n",
       ".highlight .nd { color: #AA22FF } /* Name.Decorator */\n",
       ".highlight .ni { color: #717171; font-weight: bold } /* Name.Entity */\n",
       ".highlight .ne { color: #CB3F38; font-weight: bold } /* Name.Exception */\n",
       ".highlight .nf { color: #0000FF } /* Name.Function */\n",
       ".highlight .nl { color: #767600 } /* Name.Label */\n",
       ".highlight .nn { color: #0000FF; font-weight: bold } /* Name.Namespace */\n",
       ".highlight .nt { color: #008000; font-weight: bold } /* Name.Tag */\n",
       ".highlight .nv { color: #19177C } /* Name.Variable */\n",
       ".highlight .ow { color: #AA22FF; font-weight: bold } /* Operator.Word */\n",
       ".highlight .w { color: #bbbbbb } /* Text.Whitespace */\n",
       ".highlight .mb { color: #666666 } /* Literal.Number.Bin */\n",
       ".highlight .mf { color: #666666 } /* Literal.Number.Float */\n",
       ".highlight .mh { color: #666666 } /* Literal.Number.Hex */\n",
       ".highlight .mi { color: #666666 } /* Literal.Number.Integer */\n",
       ".highlight .mo { color: #666666 } /* Literal.Number.Oct */\n",
       ".highlight .sa { color: #BA2121 } /* Literal.String.Affix */\n",
       ".highlight .sb { color: #BA2121 } /* Literal.String.Backtick */\n",
       ".highlight .sc { color: #BA2121 } /* Literal.String.Char */\n",
       ".highlight .dl { color: #BA2121 } /* Literal.String.Delimiter */\n",
       ".highlight .sd { color: #BA2121; font-style: italic } /* Literal.String.Doc */\n",
       ".highlight .s2 { color: #BA2121 } /* Literal.String.Double */\n",
       ".highlight .se { color: #AA5D1F; font-weight: bold } /* Literal.String.Escape */\n",
       ".highlight .sh { color: #BA2121 } /* Literal.String.Heredoc */\n",
       ".highlight .si { color: #A45A77; font-weight: bold } /* Literal.String.Interpol */\n",
       ".highlight .sx { color: #008000 } /* Literal.String.Other */\n",
       ".highlight .sr { color: #A45A77 } /* Literal.String.Regex */\n",
       ".highlight .s1 { color: #BA2121 } /* Literal.String.Single */\n",
       ".highlight .ss { color: #19177C } /* Literal.String.Symbol */\n",
       ".highlight .bp { color: #008000 } /* Name.Builtin.Pseudo */\n",
       ".highlight .fm { color: #0000FF } /* Name.Function.Magic */\n",
       ".highlight .vc { color: #19177C } /* Name.Variable.Class */\n",
       ".highlight .vg { color: #19177C } /* Name.Variable.Global */\n",
       ".highlight .vi { color: #19177C } /* Name.Variable.Instance */\n",
       ".highlight .vm { color: #19177C } /* Name.Variable.Magic */\n",
       ".highlight .il { color: #666666 } /* Literal.Number.Integer.Long */</style>    <div class=\"highlight\"><pre><span></span><span class=\"cp\">&lt;?xml version=&quot;1.0&quot; encoding=&quot;UTF-8&quot;?&gt;</span>\n",
       "<span class=\"nt\">&lt;sbml</span> <span class=\"na\">xmlns=</span><span class=\"s\">&quot;http://www.sbml.org/sbml/level3/version1/core&quot;</span> <span class=\"na\">xmlns:distrib=</span><span class=\"s\">&quot;http://www.sbml.org/sbml/level3/version1/distrib/version1&quot;</span> <span class=\"na\">xmlns:comp=</span><span class=\"s\">&quot;http://www.sbml.org/sbml/level3/version1/comp/version1&quot;</span> <span class=\"na\">level=</span><span class=\"s\">&quot;3&quot;</span> <span class=\"na\">version=</span><span class=\"s\">&quot;1&quot;</span> <span class=\"na\">distrib:required=</span><span class=\"s\">&quot;true&quot;</span> <span class=\"na\">comp:required=</span><span class=\"s\">&quot;true&quot;</span><span class=\"nt\">&gt;</span>\n",
       "  <span class=\"nt\">&lt;notes&gt;</span>\n",
       "    <span class=\"nt\">&lt;body</span> <span class=\"na\">xmlns=</span><span class=\"s\">&quot;http://www.w3.org/1999/xhtml&quot;</span><span class=\"nt\">&gt;</span>\n",
       "      <span class=\"nt\">&lt;p&gt;</span>Created with <span class=\"nt\">&lt;a</span> <span class=\"na\">href=</span><span class=\"s\">&quot;https://github.com/matthiaskoenig/sbmlutils&quot;</span><span class=\"nt\">&gt;</span>https://github.com/matthiaskoenig/sbmlutils<span class=\"nt\">&lt;/a&gt;</span>.\n",
       "<span class=\"nt\">&lt;a</span> <span class=\"na\">href=</span><span class=\"s\">&quot;https://doi.org/10.5281/zenodo.5525390&quot;</span><span class=\"nt\">&gt;</span>\n",
       "        <span class=\"nt\">&lt;img</span> <span class=\"na\">src=</span><span class=\"s\">&quot;https://zenodo.org/badge/DOI/10.5281/zenodo.5525390.svg&quot;</span> <span class=\"na\">alt=</span><span class=\"s\">&quot;DOI&quot;</span><span class=\"nt\">/&gt;&lt;/a&gt;&lt;/p&gt;</span>\n",
       "      <span class=\"nt\">&lt;/body&gt;</span>\n",
       "    <span class=\"nt\">&lt;/notes&gt;</span>\n",
       "  <span class=\"nt\">&lt;model</span> <span class=\"na\">id=</span><span class=\"s\">&quot;multiple_uncertainties&quot;</span> <span class=\"na\">substanceUnits=</span><span class=\"s\">&quot;mole&quot;</span> <span class=\"na\">timeUnits=</span><span class=\"s\">&quot;hr&quot;</span> <span class=\"na\">volumeUnits=</span><span class=\"s\">&quot;litre&quot;</span> <span class=\"na\">areaUnits=</span><span class=\"s\">&quot;m2&quot;</span> <span class=\"na\">lengthUnits=</span><span class=\"s\">&quot;metre&quot;</span> <span class=\"na\">extentUnits=</span><span class=\"s\">&quot;mole&quot;</span><span class=\"nt\">&gt;</span>\n",
       "    <span class=\"nt\">&lt;listOfUnitDefinitions&gt;</span>\n",
       "      <span class=\"nt\">&lt;unitDefinition</span> <span class=\"na\">id=</span><span class=\"s\">&quot;hr&quot;</span> <span class=\"na\">name=</span><span class=\"s\">&quot;hr&quot;</span><span class=\"nt\">&gt;</span>\n",
       "        <span class=\"nt\">&lt;listOfUnits&gt;</span>\n",
       "          <span class=\"nt\">&lt;unit</span> <span class=\"na\">kind=</span><span class=\"s\">&quot;second&quot;</span> <span class=\"na\">exponent=</span><span class=\"s\">&quot;1&quot;</span> <span class=\"na\">scale=</span><span class=\"s\">&quot;0&quot;</span> <span class=\"na\">multiplier=</span><span class=\"s\">&quot;3600&quot;</span><span class=\"nt\">/&gt;</span>\n",
       "        <span class=\"nt\">&lt;/listOfUnits&gt;</span>\n",
       "      <span class=\"nt\">&lt;/unitDefinition&gt;</span>\n",
       "      <span class=\"nt\">&lt;unitDefinition</span> <span class=\"na\">id=</span><span class=\"s\">&quot;m2&quot;</span> <span class=\"na\">name=</span><span class=\"s\">&quot;meter^2&quot;</span><span class=\"nt\">&gt;</span>\n",
       "        <span class=\"nt\">&lt;listOfUnits&gt;</span>\n",
       "          <span class=\"nt\">&lt;unit</span> <span class=\"na\">kind=</span><span class=\"s\">&quot;metre&quot;</span> <span class=\"na\">exponent=</span><span class=\"s\">&quot;2&quot;</span> <span class=\"na\">scale=</span><span class=\"s\">&quot;0&quot;</span> <span class=\"na\">multiplier=</span><span class=\"s\">&quot;1&quot;</span><span class=\"nt\">/&gt;</span>\n",
       "        <span class=\"nt\">&lt;/listOfUnits&gt;</span>\n",
       "      <span class=\"nt\">&lt;/unitDefinition&gt;</span>\n",
       "      <span class=\"nt\">&lt;unitDefinition</span> <span class=\"na\">id=</span><span class=\"s\">&quot;mM&quot;</span> <span class=\"na\">name=</span><span class=\"s\">&quot;mmole/liter&quot;</span><span class=\"nt\">&gt;</span>\n",
       "        <span class=\"nt\">&lt;listOfUnits&gt;</span>\n",
       "          <span class=\"nt\">&lt;unit</span> <span class=\"na\">kind=</span><span class=\"s\">&quot;mole&quot;</span> <span class=\"na\">exponent=</span><span class=\"s\">&quot;1&quot;</span> <span class=\"na\">scale=</span><span class=\"s\">&quot;0&quot;</span> <span class=\"na\">multiplier=</span><span class=\"s\">&quot;0.001&quot;</span><span class=\"nt\">/&gt;</span>\n",
       "          <span class=\"nt\">&lt;unit</span> <span class=\"na\">kind=</span><span class=\"s\">&quot;litre&quot;</span> <span class=\"na\">exponent=</span><span class=\"s\">&quot;-1&quot;</span> <span class=\"na\">scale=</span><span class=\"s\">&quot;0&quot;</span> <span class=\"na\">multiplier=</span><span class=\"s\">&quot;1&quot;</span><span class=\"nt\">/&gt;</span>\n",
       "        <span class=\"nt\">&lt;/listOfUnits&gt;</span>\n",
       "      <span class=\"nt\">&lt;/unitDefinition&gt;</span>\n",
       "    <span class=\"nt\">&lt;/listOfUnitDefinitions&gt;</span>\n",
       "    <span class=\"nt\">&lt;listOfParameters&gt;</span>\n",
       "      <span class=\"nt\">&lt;parameter</span> <span class=\"na\">id=</span><span class=\"s\">&quot;p1&quot;</span> <span class=\"na\">value=</span><span class=\"s\">&quot;5&quot;</span> <span class=\"na\">units=</span><span class=\"s\">&quot;mM&quot;</span> <span class=\"na\">constant=</span><span class=\"s\">&quot;true&quot;</span><span class=\"nt\">&gt;</span>\n",
       "        <span class=\"nt\">&lt;distrib:listOfUncertainties&gt;</span>\n",
       "          <span class=\"nt\">&lt;distrib:uncertainty</span> <span class=\"na\">distrib:id=</span><span class=\"s\">&quot;p1_uncertainty_1&quot;</span><span class=\"nt\">&gt;</span>\n",
       "            <span class=\"nt\">&lt;distrib:uncertParameter</span> <span class=\"na\">distrib:value=</span><span class=\"s\">&quot;5&quot;</span> <span class=\"na\">distrib:units=</span><span class=\"s\">&quot;mM&quot;</span> <span class=\"na\">distrib:type=</span><span class=\"s\">&quot;mean&quot;</span><span class=\"nt\">/&gt;</span>\n",
       "            <span class=\"nt\">&lt;distrib:uncertParameter</span> <span class=\"na\">distrib:value=</span><span class=\"s\">&quot;0.3&quot;</span> <span class=\"na\">distrib:units=</span><span class=\"s\">&quot;mM&quot;</span> <span class=\"na\">distrib:type=</span><span class=\"s\">&quot;standardDeviation&quot;</span><span class=\"nt\">/&gt;</span>\n",
       "          <span class=\"nt\">&lt;/distrib:uncertainty&gt;</span>\n",
       "          <span class=\"nt\">&lt;distrib:uncertainty</span> <span class=\"na\">distrib:id=</span><span class=\"s\">&quot;p1_uncertainty_2&quot;</span><span class=\"nt\">&gt;</span>\n",
       "            <span class=\"nt\">&lt;distrib:uncertParameter</span> <span class=\"na\">distrib:value=</span><span class=\"s\">&quot;4.5&quot;</span> <span class=\"na\">distrib:units=</span><span class=\"s\">&quot;mM&quot;</span> <span class=\"na\">distrib:type=</span><span class=\"s\">&quot;mean&quot;</span><span class=\"nt\">/&gt;</span>\n",
       "            <span class=\"nt\">&lt;distrib:uncertParameter</span> <span class=\"na\">distrib:value=</span><span class=\"s\">&quot;1.1&quot;</span> <span class=\"na\">distrib:units=</span><span class=\"s\">&quot;mM&quot;</span> <span class=\"na\">distrib:type=</span><span class=\"s\">&quot;standardDeviation&quot;</span><span class=\"nt\">/&gt;</span>\n",
       "          <span class=\"nt\">&lt;/distrib:uncertainty&gt;</span>\n",
       "        <span class=\"nt\">&lt;/distrib:listOfUncertainties&gt;</span>\n",
       "      <span class=\"nt\">&lt;/parameter&gt;</span>\n",
       "    <span class=\"nt\">&lt;/listOfParameters&gt;</span>\n",
       "    <span class=\"nt\">&lt;listOfInitialAssignments&gt;</span>\n",
       "      <span class=\"nt\">&lt;initialAssignment</span> <span class=\"na\">symbol=</span><span class=\"s\">&quot;p1&quot;</span><span class=\"nt\">&gt;</span>\n",
       "        <span class=\"nt\">&lt;math</span> <span class=\"na\">xmlns=</span><span class=\"s\">&quot;http://www.w3.org/1998/Math/MathML&quot;</span> <span class=\"na\">xmlns:sbml=</span><span class=\"s\">&quot;http://www.sbml.org/sbml/level3/version1/core&quot;</span><span class=\"nt\">&gt;</span>\n",
       "          <span class=\"nt\">&lt;apply&gt;</span>\n",
       "            <span class=\"nt\">&lt;csymbol</span> <span class=\"na\">encoding=</span><span class=\"s\">&quot;text&quot;</span> <span class=\"na\">definitionURL=</span><span class=\"s\">&quot;http://www.sbml.org/sbml/symbols/distrib/normal&quot;</span><span class=\"nt\">&gt;</span> normal <span class=\"nt\">&lt;/csymbol&gt;</span>\n",
       "            <span class=\"nt\">&lt;cn</span> <span class=\"na\">sbml:units=</span><span class=\"s\">&quot;mM&quot;</span> <span class=\"na\">type=</span><span class=\"s\">&quot;integer&quot;</span><span class=\"nt\">&gt;</span> 0 <span class=\"nt\">&lt;/cn&gt;</span>\n",
       "            <span class=\"nt\">&lt;cn</span> <span class=\"na\">sbml:units=</span><span class=\"s\">&quot;mM&quot;</span> <span class=\"na\">type=</span><span class=\"s\">&quot;integer&quot;</span><span class=\"nt\">&gt;</span> 1 <span class=\"nt\">&lt;/cn&gt;</span>\n",
       "          <span class=\"nt\">&lt;/apply&gt;</span>\n",
       "        <span class=\"nt\">&lt;/math&gt;</span>\n",
       "      <span class=\"nt\">&lt;/initialAssignment&gt;</span>\n",
       "    <span class=\"nt\">&lt;/listOfInitialAssignments&gt;</span>\n",
       "  <span class=\"nt\">&lt;/model&gt;</span>\n",
       "<span class=\"nt\">&lt;/sbml&gt;</span>\n",
       "</pre></div>\n"
      ]
     },
     "metadata": {},
     "output_type": "display_data"
    },
    {
     "data": {
      "text/html": [
       "<pre style=\"white-space:pre;overflow-x:auto;line-height:normal;font-family:Menlo,'DejaVu Sans Mono',consolas,'Courier New',monospace\">\n",
       "</pre>\n"
      ],
      "text/plain": [
       "\n"
      ]
     },
     "metadata": {},
     "output_type": "display_data"
    },
    {
     "data": {
      "text/html": [
       "<pre style=\"white-space:pre;overflow-x:auto;line-height:normal;font-family:Menlo,'DejaVu Sans Mono',consolas,'Courier New',monospace\"><span style=\"color: #008000; text-decoration-color: #008000\">────────────────────────────────────────────────── </span>Validate SBML<span style=\"color: #008000; text-decoration-color: #008000\"> ──────────────────────────────────────────────────</span>\n",
       "</pre>\n"
      ],
      "text/plain": [
       "\u001b[32m────────────────────────────────────────────────── \u001b[0mValidate SBML\u001b[32m ──────────────────────────────────────────────────\u001b[0m\n"
      ]
     },
     "metadata": {},
     "output_type": "display_data"
    },
    {
     "data": {
      "text/html": [
       "<pre style=\"white-space:pre;overflow-x:auto;line-height:normal;font-family:Menlo,'DejaVu Sans Mono',consolas,'Courier New',monospace\"><span style=\"color: #008000; text-decoration-color: #008000; font-weight: bold\">&lt;</span><span style=\"color: #ff00ff; text-decoration-color: #ff00ff; font-weight: bold\">SBMLDocument</span><span style=\"color: #008000; text-decoration-color: #008000; font-weight: bold\">&gt;</span>\n",
       "<span style=\"color: #008000; text-decoration-color: #008000\">valid                    : TRUE</span>\n",
       "<span style=\"color: #008000; text-decoration-color: #008000\">check time </span><span style=\"color: #008000; text-decoration-color: #008000; font-weight: bold\">(</span><span style=\"color: #008000; text-decoration-color: #008000\">s</span><span style=\"color: #008000; text-decoration-color: #008000; font-weight: bold\">)</span><span style=\"color: #008000; text-decoration-color: #008000\">           : </span><span style=\"color: #008080; text-decoration-color: #008080; font-weight: bold\">0.002</span>\n",
       "</pre>\n"
      ],
      "text/plain": [
       "\u001b[1;32m<\u001b[0m\u001b[1;95mSBMLDocument\u001b[0m\u001b[1;32m>\u001b[0m\n",
       "\u001b[32mvalid                    : TRUE\u001b[0m\n",
       "\u001b[32mcheck time \u001b[0m\u001b[1;32m(\u001b[0m\u001b[32ms\u001b[0m\u001b[1;32m)\u001b[0m\u001b[32m           : \u001b[0m\u001b[1;36m0.002\u001b[0m\n"
      ]
     },
     "metadata": {},
     "output_type": "display_data"
    },
    {
     "data": {
      "text/html": [
       "<pre style=\"white-space:pre;overflow-x:auto;line-height:normal;font-family:Menlo,'DejaVu Sans Mono',consolas,'Courier New',monospace\"><span style=\"color: #008000; text-decoration-color: #008000\">───────────────────────────────────────────────────────────────────────────────────────────────────────────────────</span>\n",
       "</pre>\n"
      ],
      "text/plain": [
       "\u001b[32m───────────────────────────────────────────────────────────────────────────────────────────────────────────────────\u001b[0m\n"
      ]
     },
     "metadata": {},
     "output_type": "display_data"
    },
    {
     "data": {
      "text/html": [
       "<pre style=\"white-space:pre;overflow-x:auto;line-height:normal;font-family:Menlo,'DejaVu Sans Mono',consolas,'Courier New',monospace\">\n",
       "</pre>\n"
      ],
      "text/plain": [
       "\n"
      ]
     },
     "metadata": {},
     "output_type": "display_data"
    }
   ],
   "source": [
    "import libsbml\n",
    "\n",
    "class U(Units):\n",
    "    hr = UnitDefinition(\"hr\")\n",
    "    m2 = UnitDefinition(\"m2\", \"meter^2\")\n",
    "    mM = UnitDefinition(\"mM\", \"mmole/liter\")\n",
    "\n",
    "md: ModelDict = {\n",
    "    'sid': 'multiple_uncertainties',\n",
    "    'packages': [Package.DISTRIB_V1],\n",
    "    'units': U,\n",
    "    'model_units': ModelUnits(time=U.hr, extent=U.mole, substance=U.mole,\n",
    "                              length=U.meter, area=U.m2, volume=U.liter),\n",
    "    \n",
    "    'parameters': [\n",
    "        Parameter(sid=\"p1\", value=5.0, unit=U.mM, \n",
    "                  uncertainties=[\n",
    "                      Uncertainty('p1_uncertainty_1', uncertParameters=[\n",
    "                          UncertParameter(type=libsbml.DISTRIB_UNCERTTYPE_MEAN, value=5.0, unit=U.mM),\n",
    "                          UncertParameter(type=libsbml.DISTRIB_UNCERTTYPE_STANDARDDEVIATION, value=0.3, unit=U.mM),\n",
    "                          UncertSpan(type=libsbml.DISTRIB_UNCERTTYPE_RANGE, valueLower=2.0, valueUpper=8.0, unit=U.mM),\n",
    "                      ]),\n",
    "                      Uncertainty('p1_uncertainty_2', uncertParameters=[\n",
    "                          UncertParameter(type=libsbml.DISTRIB_UNCERTTYPE_MEAN, value=4.5, unit=U.mM),\n",
    "                          UncertParameter(type=libsbml.DISTRIB_UNCERTTYPE_STANDARDDEVIATION, value=1.1, unit=U.mM),\n",
    "                          UncertSpan(type=libsbml.DISTRIB_UNCERTTYPE_RANGE, valueLower=1.0, valueUpper=10.0, unit=U.mM),\n",
    "                      ])\n",
    "                  ])\n",
    "    ],\n",
    "    'assignments': [\n",
    "        InitialAssignment('p1', 'normal(0 mM, 1 mM)'),\n",
    "    ]\n",
    "}\n",
    "\n",
    "# create model and print SBML\n",
    "doc = Document(Model(**md))\n",
    "print_xml(doc.get_sbml())\n",
    "\n",
    "# validate model\n",
    "validate_doc(doc.doc, options=ValidationOptions(units_consistency=False));"
   ]
  },
  {
   "cell_type": "markdown",
   "metadata": {},
   "source": [
    "### Defining a random variable\n",
    "In addition to describing the uncertainty about an experimental observation one can also use this mechanism\n",
    "to describe a parameter as a random variable."
   ]
  },
  {
   "cell_type": "code",
   "execution_count": 11,
   "metadata": {},
   "outputs": [
    {
     "data": {
      "text/html": [
       "<pre style=\"white-space:pre;overflow-x:auto;line-height:normal;font-family:Menlo,'DejaVu Sans Mono',consolas,'Courier New',monospace\"><span style=\"color: #000080; text-decoration-color: #000080\">INFO    </span> Create SBML for model <span style=\"color: #008000; text-decoration-color: #008000\">'random_variable'</span>                                                    <a href=\"file:///home/mkoenig/git/sbmlutils/src/sbmlutils/factory.py\" target=\"_blank\"><span style=\"color: #7f7f7f; text-decoration-color: #7f7f7f\">factory.py</span></a><span style=\"color: #7f7f7f; text-decoration-color: #7f7f7f\">:</span><a href=\"file:///home/mkoenig/git/sbmlutils/src/sbmlutils/factory.py#3526\" target=\"_blank\"><span style=\"color: #7f7f7f; text-decoration-color: #7f7f7f\">3526</span></a>\n",
       "</pre>\n"
      ],
      "text/plain": [
       "\u001b[34mINFO    \u001b[0m Create SBML for model \u001b[32m'random_variable'\u001b[0m                                                    \u001b]8;id=474479;file:///home/mkoenig/git/sbmlutils/src/sbmlutils/factory.py\u001b\\\u001b[2mfactory.py\u001b[0m\u001b]8;;\u001b\\\u001b[2m:\u001b[0m\u001b]8;id=146191;file:///home/mkoenig/git/sbmlutils/src/sbmlutils/factory.py#3526\u001b\\\u001b[2m3526\u001b[0m\u001b]8;;\u001b\\\n"
      ]
     },
     "metadata": {},
     "output_type": "display_data"
    },
    {
     "data": {
      "text/html": [
       "<pre style=\"white-space:pre;overflow-x:auto;line-height:normal;font-family:Menlo,'DejaVu Sans Mono',consolas,'Courier New',monospace\"><span style=\"color: #800000; text-decoration-color: #800000\">WARNING </span> <span style=\"color: #008000; text-decoration-color: #008000\">'name'</span> should be set on <span style=\"color: #008000; text-decoration-color: #008000\">'Model(sid='</span>random_variable', <span style=\"color: #808000; text-decoration-color: #808000\">packages</span>=<span style=\"font-weight: bold\">[&lt;</span><span style=\"color: #ff00ff; text-decoration-color: #ff00ff; font-weight: bold\">Package.DISTRIB_V1:</span><span style=\"color: #000000; text-decoration-color: #000000\"> </span>       <a href=\"file:///home/mkoenig/git/sbmlutils/src/sbmlutils/factory.py\" target=\"_blank\"><span style=\"color: #7f7f7f; text-decoration-color: #7f7f7f\">factory.py</span></a><span style=\"color: #7f7f7f; text-decoration-color: #7f7f7f\">:</span><a href=\"file:///home/mkoenig/git/sbmlutils/src/sbmlutils/factory.py#441\" target=\"_blank\"><span style=\"color: #7f7f7f; text-decoration-color: #7f7f7f\">441</span></a>\n",
       "         <span style=\"color: #008000; text-decoration-color: #008000\">'distrib-v1'</span><span style=\"font-weight: bold\">&gt;</span>, <span style=\"font-weight: bold\">&lt;</span><span style=\"color: #ff00ff; text-decoration-color: #ff00ff; font-weight: bold\">Package.COMP_V1:</span><span style=\"color: #000000; text-decoration-color: #000000\"> </span><span style=\"color: #008000; text-decoration-color: #008000\">'comp-v1'</span><span style=\"font-weight: bold\">&gt;]</span>, <span style=\"color: #808000; text-decoration-color: #808000\">units</span>=<span style=\"font-weight: bold\">&lt;</span><span style=\"color: #ff00ff; text-decoration-color: #ff00ff; font-weight: bold\">class</span><span style=\"color: #000000; text-decoration-color: #000000\"> </span><span style=\"color: #008000; text-decoration-color: #008000\">'sbmlutils.factory.Units'</span><span style=\"font-weight: bold\">&gt;</span>,      <span style=\"color: #7f7f7f; text-decoration-color: #7f7f7f\">              </span>\n",
       "         <span style=\"color: #808000; text-decoration-color: #808000\">parameters</span>=<span style=\"font-weight: bold\">[</span>shape_Z = <span style=\"color: #008080; text-decoration-color: #008080; font-weight: bold\">10.0</span> <span style=\"font-weight: bold\">[</span><span style=\"color: #800080; text-decoration-color: #800080; font-style: italic\">None</span><span style=\"font-weight: bold\">]</span>, scale_Z = <span style=\"color: #008080; text-decoration-color: #008080; font-weight: bold\">0.1</span> <span style=\"font-weight: bold\">[</span><span style=\"color: #800080; text-decoration-color: #800080; font-style: italic\">None</span><span style=\"font-weight: bold\">]</span>, Z = <span style=\"color: #008080; text-decoration-color: #008080; font-weight: bold\">0.1</span> <span style=\"font-weight: bold\">[</span><span style=\"color: #800080; text-decoration-color: #800080; font-style: italic\">None</span><span style=\"font-weight: bold\">]]</span>,                   <span style=\"color: #7f7f7f; text-decoration-color: #7f7f7f\">              </span>\n",
       "         <span style=\"color: #808000; text-decoration-color: #808000\">_FrozenClass__isfrozen</span>=<span style=\"color: #00ff00; text-decoration-color: #00ff00; font-style: italic\">True</span><span style=\"font-weight: bold\">)</span>'                                                               <span style=\"color: #7f7f7f; text-decoration-color: #7f7f7f\">              </span>\n",
       "</pre>\n"
      ],
      "text/plain": [
       "\u001b[31mWARNING \u001b[0m \u001b[32m'name'\u001b[0m should be set on \u001b[32m'Model\u001b[0m\u001b[32m(\u001b[0m\u001b[32msid\u001b[0m\u001b[32m='\u001b[0mrandom_variable', \u001b[33mpackages\u001b[0m=\u001b[1m[\u001b[0m\u001b[1m<\u001b[0m\u001b[1;95mPackage.DISTRIB_V1:\u001b[0m\u001b[39m \u001b[0m       \u001b]8;id=177856;file:///home/mkoenig/git/sbmlutils/src/sbmlutils/factory.py\u001b\\\u001b[2mfactory.py\u001b[0m\u001b]8;;\u001b\\\u001b[2m:\u001b[0m\u001b]8;id=496315;file:///home/mkoenig/git/sbmlutils/src/sbmlutils/factory.py#441\u001b\\\u001b[2m441\u001b[0m\u001b]8;;\u001b\\\n",
       "         \u001b[32m'distrib-v1'\u001b[0m\u001b[1m>\u001b[0m, \u001b[1m<\u001b[0m\u001b[1;95mPackage.COMP_V1:\u001b[0m\u001b[39m \u001b[0m\u001b[32m'comp-v1'\u001b[0m\u001b[1m>\u001b[0m\u001b[1m]\u001b[0m, \u001b[33munits\u001b[0m=\u001b[1m<\u001b[0m\u001b[1;95mclass\u001b[0m\u001b[39m \u001b[0m\u001b[32m'sbmlutils.factory.Units'\u001b[0m\u001b[1m>\u001b[0m,      \u001b[2m              \u001b[0m\n",
       "         \u001b[33mparameters\u001b[0m=\u001b[1m[\u001b[0mshape_Z = \u001b[1;36m10.0\u001b[0m \u001b[1m[\u001b[0m\u001b[3;35mNone\u001b[0m\u001b[1m]\u001b[0m, scale_Z = \u001b[1;36m0.1\u001b[0m \u001b[1m[\u001b[0m\u001b[3;35mNone\u001b[0m\u001b[1m]\u001b[0m, Z = \u001b[1;36m0.1\u001b[0m \u001b[1m[\u001b[0m\u001b[3;35mNone\u001b[0m\u001b[1m]\u001b[0m\u001b[1m]\u001b[0m,                   \u001b[2m              \u001b[0m\n",
       "         \u001b[33m_FrozenClass__isfrozen\u001b[0m=\u001b[3;92mTrue\u001b[0m\u001b[1m)\u001b[0m'                                                               \u001b[2m              \u001b[0m\n"
      ]
     },
     "metadata": {},
     "output_type": "display_data"
    },
    {
     "data": {
      "text/html": [
       "<pre style=\"white-space:pre;overflow-x:auto;line-height:normal;font-family:Menlo,'DejaVu Sans Mono',consolas,'Courier New',monospace\"><span style=\"color: #800000; text-decoration-color: #800000\">WARNING </span> <span style=\"color: #008000; text-decoration-color: #008000\">'name'</span> should be set on <span style=\"color: #008000; text-decoration-color: #008000\">'Parameter(shape_Z)'</span>                                                <a href=\"file:///home/mkoenig/git/sbmlutils/src/sbmlutils/factory.py\" target=\"_blank\"><span style=\"color: #7f7f7f; text-decoration-color: #7f7f7f\">factory.py</span></a><span style=\"color: #7f7f7f; text-decoration-color: #7f7f7f\">:</span><a href=\"file:///home/mkoenig/git/sbmlutils/src/sbmlutils/factory.py#441\" target=\"_blank\"><span style=\"color: #7f7f7f; text-decoration-color: #7f7f7f\">441</span></a>\n",
       "</pre>\n"
      ],
      "text/plain": [
       "\u001b[31mWARNING \u001b[0m \u001b[32m'name'\u001b[0m should be set on \u001b[32m'Parameter\u001b[0m\u001b[32m(\u001b[0m\u001b[32mshape_Z\u001b[0m\u001b[32m)\u001b[0m\u001b[32m'\u001b[0m                                                \u001b]8;id=664361;file:///home/mkoenig/git/sbmlutils/src/sbmlutils/factory.py\u001b\\\u001b[2mfactory.py\u001b[0m\u001b]8;;\u001b\\\u001b[2m:\u001b[0m\u001b]8;id=128298;file:///home/mkoenig/git/sbmlutils/src/sbmlutils/factory.py#441\u001b\\\u001b[2m441\u001b[0m\u001b]8;;\u001b\\\n"
      ]
     },
     "metadata": {},
     "output_type": "display_data"
    },
    {
     "data": {
      "text/html": [
       "<pre style=\"white-space:pre;overflow-x:auto;line-height:normal;font-family:Menlo,'DejaVu Sans Mono',consolas,'Courier New',monospace\"><span style=\"color: #800000; text-decoration-color: #800000\">WARNING </span> <span style=\"color: #008000; text-decoration-color: #008000\">'sboTerm'</span> should be set on <span style=\"color: #008000; text-decoration-color: #008000\">'Parameter(shape_Z)'</span>                                             <a href=\"file:///home/mkoenig/git/sbmlutils/src/sbmlutils/factory.py\" target=\"_blank\"><span style=\"color: #7f7f7f; text-decoration-color: #7f7f7f\">factory.py</span></a><span style=\"color: #7f7f7f; text-decoration-color: #7f7f7f\">:</span><a href=\"file:///home/mkoenig/git/sbmlutils/src/sbmlutils/factory.py#466\" target=\"_blank\"><span style=\"color: #7f7f7f; text-decoration-color: #7f7f7f\">466</span></a>\n",
       "</pre>\n"
      ],
      "text/plain": [
       "\u001b[31mWARNING \u001b[0m \u001b[32m'sboTerm'\u001b[0m should be set on \u001b[32m'Parameter\u001b[0m\u001b[32m(\u001b[0m\u001b[32mshape_Z\u001b[0m\u001b[32m)\u001b[0m\u001b[32m'\u001b[0m                                             \u001b]8;id=863280;file:///home/mkoenig/git/sbmlutils/src/sbmlutils/factory.py\u001b\\\u001b[2mfactory.py\u001b[0m\u001b]8;;\u001b\\\u001b[2m:\u001b[0m\u001b]8;id=855822;file:///home/mkoenig/git/sbmlutils/src/sbmlutils/factory.py#466\u001b\\\u001b[2m466\u001b[0m\u001b]8;;\u001b\\\n"
      ]
     },
     "metadata": {},
     "output_type": "display_data"
    },
    {
     "data": {
      "text/html": [
       "<pre style=\"white-space:pre;overflow-x:auto;line-height:normal;font-family:Menlo,'DejaVu Sans Mono',consolas,'Courier New',monospace\"><span style=\"color: #800000; text-decoration-color: #800000\">WARNING </span> <span style=\"color: #008000; text-decoration-color: #008000\">'name'</span> should be set on <span style=\"color: #008000; text-decoration-color: #008000\">'Parameter(scale_Z)'</span>                                                <a href=\"file:///home/mkoenig/git/sbmlutils/src/sbmlutils/factory.py\" target=\"_blank\"><span style=\"color: #7f7f7f; text-decoration-color: #7f7f7f\">factory.py</span></a><span style=\"color: #7f7f7f; text-decoration-color: #7f7f7f\">:</span><a href=\"file:///home/mkoenig/git/sbmlutils/src/sbmlutils/factory.py#441\" target=\"_blank\"><span style=\"color: #7f7f7f; text-decoration-color: #7f7f7f\">441</span></a>\n",
       "</pre>\n"
      ],
      "text/plain": [
       "\u001b[31mWARNING \u001b[0m \u001b[32m'name'\u001b[0m should be set on \u001b[32m'Parameter\u001b[0m\u001b[32m(\u001b[0m\u001b[32mscale_Z\u001b[0m\u001b[32m)\u001b[0m\u001b[32m'\u001b[0m                                                \u001b]8;id=892256;file:///home/mkoenig/git/sbmlutils/src/sbmlutils/factory.py\u001b\\\u001b[2mfactory.py\u001b[0m\u001b]8;;\u001b\\\u001b[2m:\u001b[0m\u001b]8;id=888651;file:///home/mkoenig/git/sbmlutils/src/sbmlutils/factory.py#441\u001b\\\u001b[2m441\u001b[0m\u001b]8;;\u001b\\\n"
      ]
     },
     "metadata": {},
     "output_type": "display_data"
    },
    {
     "data": {
      "text/html": [
       "<pre style=\"white-space:pre;overflow-x:auto;line-height:normal;font-family:Menlo,'DejaVu Sans Mono',consolas,'Courier New',monospace\"><span style=\"color: #800000; text-decoration-color: #800000\">WARNING </span> <span style=\"color: #008000; text-decoration-color: #008000\">'sboTerm'</span> should be set on <span style=\"color: #008000; text-decoration-color: #008000\">'Parameter(scale_Z)'</span>                                             <a href=\"file:///home/mkoenig/git/sbmlutils/src/sbmlutils/factory.py\" target=\"_blank\"><span style=\"color: #7f7f7f; text-decoration-color: #7f7f7f\">factory.py</span></a><span style=\"color: #7f7f7f; text-decoration-color: #7f7f7f\">:</span><a href=\"file:///home/mkoenig/git/sbmlutils/src/sbmlutils/factory.py#466\" target=\"_blank\"><span style=\"color: #7f7f7f; text-decoration-color: #7f7f7f\">466</span></a>\n",
       "</pre>\n"
      ],
      "text/plain": [
       "\u001b[31mWARNING \u001b[0m \u001b[32m'sboTerm'\u001b[0m should be set on \u001b[32m'Parameter\u001b[0m\u001b[32m(\u001b[0m\u001b[32mscale_Z\u001b[0m\u001b[32m)\u001b[0m\u001b[32m'\u001b[0m                                             \u001b]8;id=365272;file:///home/mkoenig/git/sbmlutils/src/sbmlutils/factory.py\u001b\\\u001b[2mfactory.py\u001b[0m\u001b]8;;\u001b\\\u001b[2m:\u001b[0m\u001b]8;id=559137;file:///home/mkoenig/git/sbmlutils/src/sbmlutils/factory.py#466\u001b\\\u001b[2m466\u001b[0m\u001b]8;;\u001b\\\n"
      ]
     },
     "metadata": {},
     "output_type": "display_data"
    },
    {
     "data": {
      "text/html": [
       "<pre style=\"white-space:pre;overflow-x:auto;line-height:normal;font-family:Menlo,'DejaVu Sans Mono',consolas,'Courier New',monospace\"><span style=\"color: #800000; text-decoration-color: #800000\">WARNING </span> <span style=\"color: #008000; text-decoration-color: #008000\">'name'</span> should be set on <span style=\"color: #008000; text-decoration-color: #008000\">'Parameter(Z, [&lt;sbmlutils.factory.Uncertainty object at </span>            <a href=\"file:///home/mkoenig/git/sbmlutils/src/sbmlutils/factory.py\" target=\"_blank\"><span style=\"color: #7f7f7f; text-decoration-color: #7f7f7f\">factory.py</span></a><span style=\"color: #7f7f7f; text-decoration-color: #7f7f7f\">:</span><a href=\"file:///home/mkoenig/git/sbmlutils/src/sbmlutils/factory.py#441\" target=\"_blank\"><span style=\"color: #7f7f7f; text-decoration-color: #7f7f7f\">441</span></a>\n",
       "         <span style=\"color: #008000; text-decoration-color: #008000\">0x7f8eaa8d43d0&gt;])'</span>                                                                          <span style=\"color: #7f7f7f; text-decoration-color: #7f7f7f\">              </span>\n",
       "</pre>\n"
      ],
      "text/plain": [
       "\u001b[31mWARNING \u001b[0m \u001b[32m'name'\u001b[0m should be set on \u001b[32m'Parameter\u001b[0m\u001b[32m(\u001b[0m\u001b[32mZ, \u001b[0m\u001b[32m[\u001b[0m\u001b[32m<\u001b[0m\u001b[32msbmlutils.factory.Uncertainty\u001b[0m\u001b[32m object at \u001b[0m            \u001b]8;id=456607;file:///home/mkoenig/git/sbmlutils/src/sbmlutils/factory.py\u001b\\\u001b[2mfactory.py\u001b[0m\u001b]8;;\u001b\\\u001b[2m:\u001b[0m\u001b]8;id=650397;file:///home/mkoenig/git/sbmlutils/src/sbmlutils/factory.py#441\u001b\\\u001b[2m441\u001b[0m\u001b]8;;\u001b\\\n",
       "         \u001b[32m0x7f8eaa8d43d0\u001b[0m\u001b[32m>\u001b[0m\u001b[32m]\u001b[0m\u001b[32m)\u001b[0m\u001b[32m'\u001b[0m                                                                          \u001b[2m              \u001b[0m\n"
      ]
     },
     "metadata": {},
     "output_type": "display_data"
    },
    {
     "data": {
      "text/html": [
       "<pre style=\"white-space:pre;overflow-x:auto;line-height:normal;font-family:Menlo,'DejaVu Sans Mono',consolas,'Courier New',monospace\"><span style=\"color: #800000; text-decoration-color: #800000\">WARNING </span> <span style=\"color: #008000; text-decoration-color: #008000\">'sboTerm'</span> should be set on <span style=\"color: #008000; text-decoration-color: #008000\">'Parameter(Z, [&lt;sbmlutils.factory.Uncertainty object at </span>         <a href=\"file:///home/mkoenig/git/sbmlutils/src/sbmlutils/factory.py\" target=\"_blank\"><span style=\"color: #7f7f7f; text-decoration-color: #7f7f7f\">factory.py</span></a><span style=\"color: #7f7f7f; text-decoration-color: #7f7f7f\">:</span><a href=\"file:///home/mkoenig/git/sbmlutils/src/sbmlutils/factory.py#466\" target=\"_blank\"><span style=\"color: #7f7f7f; text-decoration-color: #7f7f7f\">466</span></a>\n",
       "         <span style=\"color: #008000; text-decoration-color: #008000\">0x7f8eaa8d43d0&gt;])'</span>                                                                          <span style=\"color: #7f7f7f; text-decoration-color: #7f7f7f\">              </span>\n",
       "</pre>\n"
      ],
      "text/plain": [
       "\u001b[31mWARNING \u001b[0m \u001b[32m'sboTerm'\u001b[0m should be set on \u001b[32m'Parameter\u001b[0m\u001b[32m(\u001b[0m\u001b[32mZ, \u001b[0m\u001b[32m[\u001b[0m\u001b[32m<\u001b[0m\u001b[32msbmlutils.factory.Uncertainty\u001b[0m\u001b[32m object at \u001b[0m         \u001b]8;id=555871;file:///home/mkoenig/git/sbmlutils/src/sbmlutils/factory.py\u001b\\\u001b[2mfactory.py\u001b[0m\u001b]8;;\u001b\\\u001b[2m:\u001b[0m\u001b]8;id=429924;file:///home/mkoenig/git/sbmlutils/src/sbmlutils/factory.py#466\u001b\\\u001b[2m466\u001b[0m\u001b]8;;\u001b\\\n",
       "         \u001b[32m0x7f8eaa8d43d0\u001b[0m\u001b[32m>\u001b[0m\u001b[32m]\u001b[0m\u001b[32m)\u001b[0m\u001b[32m'\u001b[0m                                                                          \u001b[2m              \u001b[0m\n"
      ]
     },
     "metadata": {},
     "output_type": "display_data"
    },
    {
     "data": {
      "text/html": [
       "<pre style=\"white-space:pre;overflow-x:auto;line-height:normal;font-family:Menlo,'DejaVu Sans Mono',consolas,'Courier New',monospace\"><span style=\"color: #800000; text-decoration-color: #800000\">WARNING </span> <span style=\"color: #008000; text-decoration-color: #008000\">'name'</span> should be set on <span style=\"color: #008000; text-decoration-color: #008000\">'Uncertainty()'</span>                                                     <a href=\"file:///home/mkoenig/git/sbmlutils/src/sbmlutils/factory.py\" target=\"_blank\"><span style=\"color: #7f7f7f; text-decoration-color: #7f7f7f\">factory.py</span></a><span style=\"color: #7f7f7f; text-decoration-color: #7f7f7f\">:</span><a href=\"file:///home/mkoenig/git/sbmlutils/src/sbmlutils/factory.py#441\" target=\"_blank\"><span style=\"color: #7f7f7f; text-decoration-color: #7f7f7f\">441</span></a>\n",
       "</pre>\n"
      ],
      "text/plain": [
       "\u001b[31mWARNING \u001b[0m \u001b[32m'name'\u001b[0m should be set on \u001b[32m'Uncertainty\u001b[0m\u001b[32m(\u001b[0m\u001b[32m)\u001b[0m\u001b[32m'\u001b[0m                                                     \u001b]8;id=987523;file:///home/mkoenig/git/sbmlutils/src/sbmlutils/factory.py\u001b\\\u001b[2mfactory.py\u001b[0m\u001b]8;;\u001b\\\u001b[2m:\u001b[0m\u001b]8;id=965676;file:///home/mkoenig/git/sbmlutils/src/sbmlutils/factory.py#441\u001b\\\u001b[2m441\u001b[0m\u001b]8;;\u001b\\\n"
      ]
     },
     "metadata": {},
     "output_type": "display_data"
    },
    {
     "data": {
      "text/html": [
       "<pre style=\"white-space:pre;overflow-x:auto;line-height:normal;font-family:Menlo,'DejaVu Sans Mono',consolas,'Courier New',monospace\"><span style=\"color: #800000; text-decoration-color: #800000\">WARNING </span> <span style=\"color: #008000; text-decoration-color: #008000\">'sboTerm'</span> should be set on <span style=\"color: #008000; text-decoration-color: #008000\">'Uncertainty()'</span>                                                  <a href=\"file:///home/mkoenig/git/sbmlutils/src/sbmlutils/factory.py\" target=\"_blank\"><span style=\"color: #7f7f7f; text-decoration-color: #7f7f7f\">factory.py</span></a><span style=\"color: #7f7f7f; text-decoration-color: #7f7f7f\">:</span><a href=\"file:///home/mkoenig/git/sbmlutils/src/sbmlutils/factory.py#466\" target=\"_blank\"><span style=\"color: #7f7f7f; text-decoration-color: #7f7f7f\">466</span></a>\n",
       "</pre>\n"
      ],
      "text/plain": [
       "\u001b[31mWARNING \u001b[0m \u001b[32m'sboTerm'\u001b[0m should be set on \u001b[32m'Uncertainty\u001b[0m\u001b[32m(\u001b[0m\u001b[32m)\u001b[0m\u001b[32m'\u001b[0m                                                  \u001b]8;id=844528;file:///home/mkoenig/git/sbmlutils/src/sbmlutils/factory.py\u001b\\\u001b[2mfactory.py\u001b[0m\u001b]8;;\u001b\\\u001b[2m:\u001b[0m\u001b]8;id=314178;file:///home/mkoenig/git/sbmlutils/src/sbmlutils/factory.py#466\u001b\\\u001b[2m466\u001b[0m\u001b]8;;\u001b\\\n"
      ]
     },
     "metadata": {},
     "output_type": "display_data"
    },
    {
     "data": {
      "text/html": [
       "<style type=\"text/css\">pre { line-height: 125%; }\n",
       "td.linenos .normal { color: inherit; background-color: transparent; padding-left: 5px; padding-right: 5px; }\n",
       "span.linenos { color: inherit; background-color: transparent; padding-left: 5px; padding-right: 5px; }\n",
       "td.linenos .special { color: #000000; background-color: #ffffc0; padding-left: 5px; padding-right: 5px; }\n",
       "span.linenos.special { color: #000000; background-color: #ffffc0; padding-left: 5px; padding-right: 5px; }\n",
       ".highlight .hll { background-color: #ffffcc }\n",
       ".highlight { background: #f8f8f8; }\n",
       ".highlight .c { color: #3D7B7B; font-style: italic } /* Comment */\n",
       ".highlight .err { border: 1px solid #FF0000 } /* Error */\n",
       ".highlight .k { color: #008000; font-weight: bold } /* Keyword */\n",
       ".highlight .o { color: #666666 } /* Operator */\n",
       ".highlight .ch { color: #3D7B7B; font-style: italic } /* Comment.Hashbang */\n",
       ".highlight .cm { color: #3D7B7B; font-style: italic } /* Comment.Multiline */\n",
       ".highlight .cp { color: #9C6500 } /* Comment.Preproc */\n",
       ".highlight .cpf { color: #3D7B7B; font-style: italic } /* Comment.PreprocFile */\n",
       ".highlight .c1 { color: #3D7B7B; font-style: italic } /* Comment.Single */\n",
       ".highlight .cs { color: #3D7B7B; font-style: italic } /* Comment.Special */\n",
       ".highlight .gd { color: #A00000 } /* Generic.Deleted */\n",
       ".highlight .ge { font-style: italic } /* Generic.Emph */\n",
       ".highlight .gr { color: #E40000 } /* Generic.Error */\n",
       ".highlight .gh { color: #000080; font-weight: bold } /* Generic.Heading */\n",
       ".highlight .gi { color: #008400 } /* Generic.Inserted */\n",
       ".highlight .go { color: #717171 } /* Generic.Output */\n",
       ".highlight .gp { color: #000080; font-weight: bold } /* Generic.Prompt */\n",
       ".highlight .gs { font-weight: bold } /* Generic.Strong */\n",
       ".highlight .gu { color: #800080; font-weight: bold } /* Generic.Subheading */\n",
       ".highlight .gt { color: #0044DD } /* Generic.Traceback */\n",
       ".highlight .kc { color: #008000; font-weight: bold } /* Keyword.Constant */\n",
       ".highlight .kd { color: #008000; font-weight: bold } /* Keyword.Declaration */\n",
       ".highlight .kn { color: #008000; font-weight: bold } /* Keyword.Namespace */\n",
       ".highlight .kp { color: #008000 } /* Keyword.Pseudo */\n",
       ".highlight .kr { color: #008000; font-weight: bold } /* Keyword.Reserved */\n",
       ".highlight .kt { color: #B00040 } /* Keyword.Type */\n",
       ".highlight .m { color: #666666 } /* Literal.Number */\n",
       ".highlight .s { color: #BA2121 } /* Literal.String */\n",
       ".highlight .na { color: #687822 } /* Name.Attribute */\n",
       ".highlight .nb { color: #008000 } /* Name.Builtin */\n",
       ".highlight .nc { color: #0000FF; font-weight: bold } /* Name.Class */\n",
       ".highlight .no { color: #880000 } /* Name.Constant */\n",
       ".highlight .nd { color: #AA22FF } /* Name.Decorator */\n",
       ".highlight .ni { color: #717171; font-weight: bold } /* Name.Entity */\n",
       ".highlight .ne { color: #CB3F38; font-weight: bold } /* Name.Exception */\n",
       ".highlight .nf { color: #0000FF } /* Name.Function */\n",
       ".highlight .nl { color: #767600 } /* Name.Label */\n",
       ".highlight .nn { color: #0000FF; font-weight: bold } /* Name.Namespace */\n",
       ".highlight .nt { color: #008000; font-weight: bold } /* Name.Tag */\n",
       ".highlight .nv { color: #19177C } /* Name.Variable */\n",
       ".highlight .ow { color: #AA22FF; font-weight: bold } /* Operator.Word */\n",
       ".highlight .w { color: #bbbbbb } /* Text.Whitespace */\n",
       ".highlight .mb { color: #666666 } /* Literal.Number.Bin */\n",
       ".highlight .mf { color: #666666 } /* Literal.Number.Float */\n",
       ".highlight .mh { color: #666666 } /* Literal.Number.Hex */\n",
       ".highlight .mi { color: #666666 } /* Literal.Number.Integer */\n",
       ".highlight .mo { color: #666666 } /* Literal.Number.Oct */\n",
       ".highlight .sa { color: #BA2121 } /* Literal.String.Affix */\n",
       ".highlight .sb { color: #BA2121 } /* Literal.String.Backtick */\n",
       ".highlight .sc { color: #BA2121 } /* Literal.String.Char */\n",
       ".highlight .dl { color: #BA2121 } /* Literal.String.Delimiter */\n",
       ".highlight .sd { color: #BA2121; font-style: italic } /* Literal.String.Doc */\n",
       ".highlight .s2 { color: #BA2121 } /* Literal.String.Double */\n",
       ".highlight .se { color: #AA5D1F; font-weight: bold } /* Literal.String.Escape */\n",
       ".highlight .sh { color: #BA2121 } /* Literal.String.Heredoc */\n",
       ".highlight .si { color: #A45A77; font-weight: bold } /* Literal.String.Interpol */\n",
       ".highlight .sx { color: #008000 } /* Literal.String.Other */\n",
       ".highlight .sr { color: #A45A77 } /* Literal.String.Regex */\n",
       ".highlight .s1 { color: #BA2121 } /* Literal.String.Single */\n",
       ".highlight .ss { color: #19177C } /* Literal.String.Symbol */\n",
       ".highlight .bp { color: #008000 } /* Name.Builtin.Pseudo */\n",
       ".highlight .fm { color: #0000FF } /* Name.Function.Magic */\n",
       ".highlight .vc { color: #19177C } /* Name.Variable.Class */\n",
       ".highlight .vg { color: #19177C } /* Name.Variable.Global */\n",
       ".highlight .vi { color: #19177C } /* Name.Variable.Instance */\n",
       ".highlight .vm { color: #19177C } /* Name.Variable.Magic */\n",
       ".highlight .il { color: #666666 } /* Literal.Number.Integer.Long */</style>    <div class=\"highlight\"><pre><span></span><span class=\"cp\">&lt;?xml version=&quot;1.0&quot; encoding=&quot;UTF-8&quot;?&gt;</span>\n",
       "<span class=\"nt\">&lt;sbml</span> <span class=\"na\">xmlns=</span><span class=\"s\">&quot;http://www.sbml.org/sbml/level3/version1/core&quot;</span> <span class=\"na\">xmlns:distrib=</span><span class=\"s\">&quot;http://www.sbml.org/sbml/level3/version1/distrib/version1&quot;</span> <span class=\"na\">xmlns:comp=</span><span class=\"s\">&quot;http://www.sbml.org/sbml/level3/version1/comp/version1&quot;</span> <span class=\"na\">level=</span><span class=\"s\">&quot;3&quot;</span> <span class=\"na\">version=</span><span class=\"s\">&quot;1&quot;</span> <span class=\"na\">distrib:required=</span><span class=\"s\">&quot;true&quot;</span> <span class=\"na\">comp:required=</span><span class=\"s\">&quot;true&quot;</span><span class=\"nt\">&gt;</span>\n",
       "  <span class=\"nt\">&lt;notes&gt;</span>\n",
       "    <span class=\"nt\">&lt;body</span> <span class=\"na\">xmlns=</span><span class=\"s\">&quot;http://www.w3.org/1999/xhtml&quot;</span><span class=\"nt\">&gt;</span>\n",
       "      <span class=\"nt\">&lt;p&gt;</span>Created with <span class=\"nt\">&lt;a</span> <span class=\"na\">href=</span><span class=\"s\">&quot;https://github.com/matthiaskoenig/sbmlutils&quot;</span><span class=\"nt\">&gt;</span>https://github.com/matthiaskoenig/sbmlutils<span class=\"nt\">&lt;/a&gt;</span>.\n",
       "<span class=\"nt\">&lt;a</span> <span class=\"na\">href=</span><span class=\"s\">&quot;https://doi.org/10.5281/zenodo.5525390&quot;</span><span class=\"nt\">&gt;</span>\n",
       "        <span class=\"nt\">&lt;img</span> <span class=\"na\">src=</span><span class=\"s\">&quot;https://zenodo.org/badge/DOI/10.5281/zenodo.5525390.svg&quot;</span> <span class=\"na\">alt=</span><span class=\"s\">&quot;DOI&quot;</span><span class=\"nt\">/&gt;&lt;/a&gt;&lt;/p&gt;</span>\n",
       "      <span class=\"nt\">&lt;/body&gt;</span>\n",
       "    <span class=\"nt\">&lt;/notes&gt;</span>\n",
       "  <span class=\"nt\">&lt;model</span> <span class=\"na\">id=</span><span class=\"s\">&quot;random_variable&quot;</span><span class=\"nt\">&gt;</span>\n",
       "    <span class=\"nt\">&lt;listOfParameters&gt;</span>\n",
       "      <span class=\"nt\">&lt;parameter</span> <span class=\"na\">id=</span><span class=\"s\">&quot;shape_Z&quot;</span> <span class=\"na\">value=</span><span class=\"s\">&quot;10&quot;</span> <span class=\"na\">constant=</span><span class=\"s\">&quot;true&quot;</span><span class=\"nt\">/&gt;</span>\n",
       "      <span class=\"nt\">&lt;parameter</span> <span class=\"na\">id=</span><span class=\"s\">&quot;scale_Z&quot;</span> <span class=\"na\">value=</span><span class=\"s\">&quot;0.1&quot;</span> <span class=\"na\">constant=</span><span class=\"s\">&quot;true&quot;</span><span class=\"nt\">/&gt;</span>\n",
       "      <span class=\"nt\">&lt;parameter</span> <span class=\"na\">id=</span><span class=\"s\">&quot;Z&quot;</span> <span class=\"na\">value=</span><span class=\"s\">&quot;0.1&quot;</span> <span class=\"na\">constant=</span><span class=\"s\">&quot;true&quot;</span><span class=\"nt\">&gt;</span>\n",
       "        <span class=\"nt\">&lt;distrib:listOfUncertainties&gt;</span>\n",
       "          <span class=\"nt\">&lt;distrib:uncertainty&gt;</span>\n",
       "            <span class=\"nt\">&lt;distrib:uncertParameter</span> <span class=\"na\">distrib:value=</span><span class=\"s\">&quot;1.03&quot;</span> <span class=\"na\">distrib:type=</span><span class=\"s\">&quot;mean&quot;</span><span class=\"nt\">/&gt;</span>\n",
       "            <span class=\"nt\">&lt;distrib:uncertParameter</span> <span class=\"na\">distrib:value=</span><span class=\"s\">&quot;0.97&quot;</span> <span class=\"na\">distrib:type=</span><span class=\"s\">&quot;variance&quot;</span><span class=\"nt\">/&gt;</span>\n",
       "            <span class=\"nt\">&lt;distrib:uncertParameter</span> <span class=\"na\">distrib:type=</span><span class=\"s\">&quot;distribution&quot;</span> <span class=\"na\">distrib:definitionURL=</span><span class=\"s\">&quot;http://www.sbml.org/sbml/symbols/distrib/gamma&quot;</span><span class=\"nt\">&gt;</span>\n",
       "              <span class=\"nt\">&lt;math</span> <span class=\"na\">xmlns=</span><span class=\"s\">&quot;http://www.w3.org/1998/Math/MathML&quot;</span><span class=\"nt\">&gt;</span>\n",
       "                <span class=\"nt\">&lt;apply&gt;</span>\n",
       "                  <span class=\"nt\">&lt;csymbol</span> <span class=\"na\">encoding=</span><span class=\"s\">&quot;text&quot;</span> <span class=\"na\">definitionURL=</span><span class=\"s\">&quot;http://www.sbml.org/sbml/symbols/distrib/gamma&quot;</span><span class=\"nt\">&gt;</span> gamma <span class=\"nt\">&lt;/csymbol&gt;</span>\n",
       "                  <span class=\"nt\">&lt;ci&gt;</span> shape_Z <span class=\"nt\">&lt;/ci&gt;</span>\n",
       "                  <span class=\"nt\">&lt;ci&gt;</span> scale_Z <span class=\"nt\">&lt;/ci&gt;</span>\n",
       "                <span class=\"nt\">&lt;/apply&gt;</span>\n",
       "              <span class=\"nt\">&lt;/math&gt;</span>\n",
       "            <span class=\"nt\">&lt;/distrib:uncertParameter&gt;</span>\n",
       "          <span class=\"nt\">&lt;/distrib:uncertainty&gt;</span>\n",
       "        <span class=\"nt\">&lt;/distrib:listOfUncertainties&gt;</span>\n",
       "      <span class=\"nt\">&lt;/parameter&gt;</span>\n",
       "    <span class=\"nt\">&lt;/listOfParameters&gt;</span>\n",
       "  <span class=\"nt\">&lt;/model&gt;</span>\n",
       "<span class=\"nt\">&lt;/sbml&gt;</span>\n",
       "</pre></div>\n"
      ]
     },
     "metadata": {},
     "output_type": "display_data"
    },
    {
     "data": {
      "text/html": [
       "<pre style=\"white-space:pre;overflow-x:auto;line-height:normal;font-family:Menlo,'DejaVu Sans Mono',consolas,'Courier New',monospace\">\n",
       "</pre>\n"
      ],
      "text/plain": [
       "\n"
      ]
     },
     "metadata": {},
     "output_type": "display_data"
    },
    {
     "data": {
      "text/html": [
       "<pre style=\"white-space:pre;overflow-x:auto;line-height:normal;font-family:Menlo,'DejaVu Sans Mono',consolas,'Courier New',monospace\"><span style=\"color: #008000; text-decoration-color: #008000\">────────────────────────────────────────────────── </span>Validate SBML<span style=\"color: #008000; text-decoration-color: #008000\"> ──────────────────────────────────────────────────</span>\n",
       "</pre>\n"
      ],
      "text/plain": [
       "\u001b[32m────────────────────────────────────────────────── \u001b[0mValidate SBML\u001b[32m ──────────────────────────────────────────────────\u001b[0m\n"
      ]
     },
     "metadata": {},
     "output_type": "display_data"
    },
    {
     "data": {
      "text/html": [
       "<pre style=\"white-space:pre;overflow-x:auto;line-height:normal;font-family:Menlo,'DejaVu Sans Mono',consolas,'Courier New',monospace\"><span style=\"color: #008000; text-decoration-color: #008000; font-weight: bold\">&lt;</span><span style=\"color: #ff00ff; text-decoration-color: #ff00ff; font-weight: bold\">SBMLDocument</span><span style=\"color: #008000; text-decoration-color: #008000; font-weight: bold\">&gt;</span>\n",
       "<span style=\"color: #008000; text-decoration-color: #008000\">valid                    : TRUE</span>\n",
       "<span style=\"color: #008000; text-decoration-color: #008000\">check time </span><span style=\"color: #008000; text-decoration-color: #008000; font-weight: bold\">(</span><span style=\"color: #008000; text-decoration-color: #008000\">s</span><span style=\"color: #008000; text-decoration-color: #008000; font-weight: bold\">)</span><span style=\"color: #008000; text-decoration-color: #008000\">           : </span><span style=\"color: #008080; text-decoration-color: #008080; font-weight: bold\">0.002</span>\n",
       "</pre>\n"
      ],
      "text/plain": [
       "\u001b[1;32m<\u001b[0m\u001b[1;95mSBMLDocument\u001b[0m\u001b[1;32m>\u001b[0m\n",
       "\u001b[32mvalid                    : TRUE\u001b[0m\n",
       "\u001b[32mcheck time \u001b[0m\u001b[1;32m(\u001b[0m\u001b[32ms\u001b[0m\u001b[1;32m)\u001b[0m\u001b[32m           : \u001b[0m\u001b[1;36m0.002\u001b[0m\n"
      ]
     },
     "metadata": {},
     "output_type": "display_data"
    },
    {
     "data": {
      "text/html": [
       "<pre style=\"white-space:pre;overflow-x:auto;line-height:normal;font-family:Menlo,'DejaVu Sans Mono',consolas,'Courier New',monospace\"><span style=\"color: #008000; text-decoration-color: #008000\">───────────────────────────────────────────────────────────────────────────────────────────────────────────────────</span>\n",
       "</pre>\n"
      ],
      "text/plain": [
       "\u001b[32m───────────────────────────────────────────────────────────────────────────────────────────────────────────────────\u001b[0m\n"
      ]
     },
     "metadata": {},
     "output_type": "display_data"
    },
    {
     "data": {
      "text/html": [
       "<pre style=\"white-space:pre;overflow-x:auto;line-height:normal;font-family:Menlo,'DejaVu Sans Mono',consolas,'Courier New',monospace\">\n",
       "</pre>\n"
      ],
      "text/plain": [
       "\n"
      ]
     },
     "metadata": {},
     "output_type": "display_data"
    }
   ],
   "source": [
    "import libsbml\n",
    "md: ModelDict = {\n",
    "    'sid': 'random_variable',\n",
    "    'packages': [Package.DISTRIB_V1],\n",
    "    'parameters': [\n",
    "        Parameter(\"shape_Z\", value=10.0),\n",
    "        Parameter(\"scale_Z\", value=0.1),\n",
    "        Parameter(\"Z\", value=0.1,\n",
    "                  uncertainties=[\n",
    "                      Uncertainty(formula=\"gamma(shape_Z, scale_Z)\",\n",
    "                                  uncertParameters=[\n",
    "                                      UncertParameter(type=libsbml.DISTRIB_UNCERTTYPE_MEAN, value=1.03),\n",
    "                                      UncertParameter(type=libsbml.DISTRIB_UNCERTTYPE_VARIANCE, value=0.97),\n",
    "                                  ])\n",
    "                  ])\n",
    "    ]\n",
    "}\n",
    "\n",
    "# create model and print SBML\n",
    "doc = Document(Model(**md))\n",
    "print_xml(doc.get_sbml())\n",
    "\n",
    "# validate model\n",
    "validate_doc(doc.doc, options=ValidationOptions(units_consistency=False));"
   ]
  },
  {
   "cell_type": "markdown",
   "metadata": {},
   "source": [
    "### Overview over UncertParameters and UncertSpans\n",
    "The following example provides an overview over the available fields."
   ]
  },
  {
   "cell_type": "code",
   "execution_count": 12,
   "metadata": {},
   "outputs": [
    {
     "data": {
      "text/html": [
       "<pre style=\"white-space:pre;overflow-x:auto;line-height:normal;font-family:Menlo,'DejaVu Sans Mono',consolas,'Courier New',monospace\"><span style=\"color: #000080; text-decoration-color: #000080\">INFO    </span> Create SBML for model <span style=\"color: #008000; text-decoration-color: #008000\">'parameters_spans'</span>                                                   <a href=\"file:///home/mkoenig/git/sbmlutils/src/sbmlutils/factory.py\" target=\"_blank\"><span style=\"color: #7f7f7f; text-decoration-color: #7f7f7f\">factory.py</span></a><span style=\"color: #7f7f7f; text-decoration-color: #7f7f7f\">:</span><a href=\"file:///home/mkoenig/git/sbmlutils/src/sbmlutils/factory.py#3526\" target=\"_blank\"><span style=\"color: #7f7f7f; text-decoration-color: #7f7f7f\">3526</span></a>\n",
       "</pre>\n"
      ],
      "text/plain": [
       "\u001b[34mINFO    \u001b[0m Create SBML for model \u001b[32m'parameters_spans'\u001b[0m                                                   \u001b]8;id=312206;file:///home/mkoenig/git/sbmlutils/src/sbmlutils/factory.py\u001b\\\u001b[2mfactory.py\u001b[0m\u001b]8;;\u001b\\\u001b[2m:\u001b[0m\u001b]8;id=565974;file:///home/mkoenig/git/sbmlutils/src/sbmlutils/factory.py#3526\u001b\\\u001b[2m3526\u001b[0m\u001b]8;;\u001b\\\n"
      ]
     },
     "metadata": {},
     "output_type": "display_data"
    },
    {
     "data": {
      "text/html": [
       "<pre style=\"white-space:pre;overflow-x:auto;line-height:normal;font-family:Menlo,'DejaVu Sans Mono',consolas,'Courier New',monospace\"><span style=\"color: #800000; text-decoration-color: #800000\">WARNING </span> <span style=\"color: #008000; text-decoration-color: #008000\">'name'</span> should be set on <span style=\"color: #008000; text-decoration-color: #008000\">'Model(sid='</span>parameters_spans', <span style=\"color: #808000; text-decoration-color: #808000\">packages</span>=<span style=\"font-weight: bold\">[&lt;</span><span style=\"color: #ff00ff; text-decoration-color: #ff00ff; font-weight: bold\">Package.DISTRIB_V1:</span><span style=\"color: #000000; text-decoration-color: #000000\"> </span>      <a href=\"file:///home/mkoenig/git/sbmlutils/src/sbmlutils/factory.py\" target=\"_blank\"><span style=\"color: #7f7f7f; text-decoration-color: #7f7f7f\">factory.py</span></a><span style=\"color: #7f7f7f; text-decoration-color: #7f7f7f\">:</span><a href=\"file:///home/mkoenig/git/sbmlutils/src/sbmlutils/factory.py#441\" target=\"_blank\"><span style=\"color: #7f7f7f; text-decoration-color: #7f7f7f\">441</span></a>\n",
       "         <span style=\"color: #008000; text-decoration-color: #008000\">'distrib-v1'</span><span style=\"font-weight: bold\">&gt;</span>, <span style=\"font-weight: bold\">&lt;</span><span style=\"color: #ff00ff; text-decoration-color: #ff00ff; font-weight: bold\">Package.COMP_V1:</span><span style=\"color: #000000; text-decoration-color: #000000\"> </span><span style=\"color: #008000; text-decoration-color: #008000\">'comp-v1'</span><span style=\"font-weight: bold\">&gt;]</span>, <span style=\"color: #808000; text-decoration-color: #808000\">units</span>=<span style=\"font-weight: bold\">&lt;</span><span style=\"color: #ff00ff; text-decoration-color: #ff00ff; font-weight: bold\">class</span><span style=\"color: #000000; text-decoration-color: #000000\"> </span><span style=\"color: #008000; text-decoration-color: #008000\">'sbmlutils.factory.Units'</span><span style=\"font-weight: bold\">&gt;</span>,      <span style=\"color: #7f7f7f; text-decoration-color: #7f7f7f\">              </span>\n",
       "         <span style=\"color: #808000; text-decoration-color: #808000\">parameters</span>=<span style=\"font-weight: bold\">[</span>p = <span style=\"color: #800080; text-decoration-color: #800080; font-style: italic\">None</span> <span style=\"font-weight: bold\">[</span><span style=\"color: #800080; text-decoration-color: #800080; font-style: italic\">None</span><span style=\"font-weight: bold\">]]</span>, <span style=\"color: #808000; text-decoration-color: #808000\">_FrozenClass__isfrozen</span>=<span style=\"color: #00ff00; text-decoration-color: #00ff00; font-style: italic\">True</span><span style=\"font-weight: bold\">)</span>'                                 <span style=\"color: #7f7f7f; text-decoration-color: #7f7f7f\">              </span>\n",
       "</pre>\n"
      ],
      "text/plain": [
       "\u001b[31mWARNING \u001b[0m \u001b[32m'name'\u001b[0m should be set on \u001b[32m'Model\u001b[0m\u001b[32m(\u001b[0m\u001b[32msid\u001b[0m\u001b[32m='\u001b[0mparameters_spans', \u001b[33mpackages\u001b[0m=\u001b[1m[\u001b[0m\u001b[1m<\u001b[0m\u001b[1;95mPackage.DISTRIB_V1:\u001b[0m\u001b[39m \u001b[0m      \u001b]8;id=921306;file:///home/mkoenig/git/sbmlutils/src/sbmlutils/factory.py\u001b\\\u001b[2mfactory.py\u001b[0m\u001b]8;;\u001b\\\u001b[2m:\u001b[0m\u001b]8;id=44795;file:///home/mkoenig/git/sbmlutils/src/sbmlutils/factory.py#441\u001b\\\u001b[2m441\u001b[0m\u001b]8;;\u001b\\\n",
       "         \u001b[32m'distrib-v1'\u001b[0m\u001b[1m>\u001b[0m, \u001b[1m<\u001b[0m\u001b[1;95mPackage.COMP_V1:\u001b[0m\u001b[39m \u001b[0m\u001b[32m'comp-v1'\u001b[0m\u001b[1m>\u001b[0m\u001b[1m]\u001b[0m, \u001b[33munits\u001b[0m=\u001b[1m<\u001b[0m\u001b[1;95mclass\u001b[0m\u001b[39m \u001b[0m\u001b[32m'sbmlutils.factory.Units'\u001b[0m\u001b[1m>\u001b[0m,      \u001b[2m              \u001b[0m\n",
       "         \u001b[33mparameters\u001b[0m=\u001b[1m[\u001b[0mp = \u001b[3;35mNone\u001b[0m \u001b[1m[\u001b[0m\u001b[3;35mNone\u001b[0m\u001b[1m]\u001b[0m\u001b[1m]\u001b[0m, \u001b[33m_FrozenClass__isfrozen\u001b[0m=\u001b[3;92mTrue\u001b[0m\u001b[1m)\u001b[0m'                                 \u001b[2m              \u001b[0m\n"
      ]
     },
     "metadata": {},
     "output_type": "display_data"
    },
    {
     "data": {
      "text/html": [
       "<pre style=\"white-space:pre;overflow-x:auto;line-height:normal;font-family:Menlo,'DejaVu Sans Mono',consolas,'Courier New',monospace\"><span style=\"color: #800000; text-decoration-color: #800000\">WARNING </span> <span style=\"color: #008000; text-decoration-color: #008000\">'name'</span> should be set on <span style=\"color: #008000; text-decoration-color: #008000\">'Parameter(p, [&lt;sbmlutils.factory.Uncertainty object at </span>            <a href=\"file:///home/mkoenig/git/sbmlutils/src/sbmlutils/factory.py\" target=\"_blank\"><span style=\"color: #7f7f7f; text-decoration-color: #7f7f7f\">factory.py</span></a><span style=\"color: #7f7f7f; text-decoration-color: #7f7f7f\">:</span><a href=\"file:///home/mkoenig/git/sbmlutils/src/sbmlutils/factory.py#441\" target=\"_blank\"><span style=\"color: #7f7f7f; text-decoration-color: #7f7f7f\">441</span></a>\n",
       "         <span style=\"color: #008000; text-decoration-color: #008000\">0x7f8eaa8ce730&gt;])'</span>                                                                          <span style=\"color: #7f7f7f; text-decoration-color: #7f7f7f\">              </span>\n",
       "</pre>\n"
      ],
      "text/plain": [
       "\u001b[31mWARNING \u001b[0m \u001b[32m'name'\u001b[0m should be set on \u001b[32m'Parameter\u001b[0m\u001b[32m(\u001b[0m\u001b[32mp, \u001b[0m\u001b[32m[\u001b[0m\u001b[32m<\u001b[0m\u001b[32msbmlutils.factory.Uncertainty\u001b[0m\u001b[32m object at \u001b[0m            \u001b]8;id=359061;file:///home/mkoenig/git/sbmlutils/src/sbmlutils/factory.py\u001b\\\u001b[2mfactory.py\u001b[0m\u001b]8;;\u001b\\\u001b[2m:\u001b[0m\u001b]8;id=716369;file:///home/mkoenig/git/sbmlutils/src/sbmlutils/factory.py#441\u001b\\\u001b[2m441\u001b[0m\u001b]8;;\u001b\\\n",
       "         \u001b[32m0x7f8eaa8ce730\u001b[0m\u001b[32m>\u001b[0m\u001b[32m]\u001b[0m\u001b[32m)\u001b[0m\u001b[32m'\u001b[0m                                                                          \u001b[2m              \u001b[0m\n"
      ]
     },
     "metadata": {},
     "output_type": "display_data"
    },
    {
     "data": {
      "text/html": [
       "<pre style=\"white-space:pre;overflow-x:auto;line-height:normal;font-family:Menlo,'DejaVu Sans Mono',consolas,'Courier New',monospace\"><span style=\"color: #800000; text-decoration-color: #800000\">WARNING </span> <span style=\"color: #008000; text-decoration-color: #008000\">'sboTerm'</span> should be set on <span style=\"color: #008000; text-decoration-color: #008000\">'Parameter(p, [&lt;sbmlutils.factory.Uncertainty object at </span>         <a href=\"file:///home/mkoenig/git/sbmlutils/src/sbmlutils/factory.py\" target=\"_blank\"><span style=\"color: #7f7f7f; text-decoration-color: #7f7f7f\">factory.py</span></a><span style=\"color: #7f7f7f; text-decoration-color: #7f7f7f\">:</span><a href=\"file:///home/mkoenig/git/sbmlutils/src/sbmlutils/factory.py#466\" target=\"_blank\"><span style=\"color: #7f7f7f; text-decoration-color: #7f7f7f\">466</span></a>\n",
       "         <span style=\"color: #008000; text-decoration-color: #008000\">0x7f8eaa8ce730&gt;])'</span>                                                                          <span style=\"color: #7f7f7f; text-decoration-color: #7f7f7f\">              </span>\n",
       "</pre>\n"
      ],
      "text/plain": [
       "\u001b[31mWARNING \u001b[0m \u001b[32m'sboTerm'\u001b[0m should be set on \u001b[32m'Parameter\u001b[0m\u001b[32m(\u001b[0m\u001b[32mp, \u001b[0m\u001b[32m[\u001b[0m\u001b[32m<\u001b[0m\u001b[32msbmlutils.factory.Uncertainty\u001b[0m\u001b[32m object at \u001b[0m         \u001b]8;id=750336;file:///home/mkoenig/git/sbmlutils/src/sbmlutils/factory.py\u001b\\\u001b[2mfactory.py\u001b[0m\u001b]8;;\u001b\\\u001b[2m:\u001b[0m\u001b]8;id=747356;file:///home/mkoenig/git/sbmlutils/src/sbmlutils/factory.py#466\u001b\\\u001b[2m466\u001b[0m\u001b]8;;\u001b\\\n",
       "         \u001b[32m0x7f8eaa8ce730\u001b[0m\u001b[32m>\u001b[0m\u001b[32m]\u001b[0m\u001b[32m)\u001b[0m\u001b[32m'\u001b[0m                                                                          \u001b[2m              \u001b[0m\n"
      ]
     },
     "metadata": {},
     "output_type": "display_data"
    },
    {
     "data": {
      "text/html": [
       "<pre style=\"white-space:pre;overflow-x:auto;line-height:normal;font-family:Menlo,'DejaVu Sans Mono',consolas,'Courier New',monospace\"><span style=\"color: #800000; text-decoration-color: #800000\">WARNING </span> <span style=\"color: #008000; text-decoration-color: #008000\">'name'</span> should be set on <span style=\"color: #008000; text-decoration-color: #008000\">'Uncertainty()'</span>                                                     <a href=\"file:///home/mkoenig/git/sbmlutils/src/sbmlutils/factory.py\" target=\"_blank\"><span style=\"color: #7f7f7f; text-decoration-color: #7f7f7f\">factory.py</span></a><span style=\"color: #7f7f7f; text-decoration-color: #7f7f7f\">:</span><a href=\"file:///home/mkoenig/git/sbmlutils/src/sbmlutils/factory.py#441\" target=\"_blank\"><span style=\"color: #7f7f7f; text-decoration-color: #7f7f7f\">441</span></a>\n",
       "</pre>\n"
      ],
      "text/plain": [
       "\u001b[31mWARNING \u001b[0m \u001b[32m'name'\u001b[0m should be set on \u001b[32m'Uncertainty\u001b[0m\u001b[32m(\u001b[0m\u001b[32m)\u001b[0m\u001b[32m'\u001b[0m                                                     \u001b]8;id=911464;file:///home/mkoenig/git/sbmlutils/src/sbmlutils/factory.py\u001b\\\u001b[2mfactory.py\u001b[0m\u001b]8;;\u001b\\\u001b[2m:\u001b[0m\u001b]8;id=72106;file:///home/mkoenig/git/sbmlutils/src/sbmlutils/factory.py#441\u001b\\\u001b[2m441\u001b[0m\u001b]8;;\u001b\\\n"
      ]
     },
     "metadata": {},
     "output_type": "display_data"
    },
    {
     "data": {
      "text/html": [
       "<pre style=\"white-space:pre;overflow-x:auto;line-height:normal;font-family:Menlo,'DejaVu Sans Mono',consolas,'Courier New',monospace\"><span style=\"color: #800000; text-decoration-color: #800000\">WARNING </span> <span style=\"color: #008000; text-decoration-color: #008000\">'sboTerm'</span> should be set on <span style=\"color: #008000; text-decoration-color: #008000\">'Uncertainty()'</span>                                                  <a href=\"file:///home/mkoenig/git/sbmlutils/src/sbmlutils/factory.py\" target=\"_blank\"><span style=\"color: #7f7f7f; text-decoration-color: #7f7f7f\">factory.py</span></a><span style=\"color: #7f7f7f; text-decoration-color: #7f7f7f\">:</span><a href=\"file:///home/mkoenig/git/sbmlutils/src/sbmlutils/factory.py#466\" target=\"_blank\"><span style=\"color: #7f7f7f; text-decoration-color: #7f7f7f\">466</span></a>\n",
       "</pre>\n"
      ],
      "text/plain": [
       "\u001b[31mWARNING \u001b[0m \u001b[32m'sboTerm'\u001b[0m should be set on \u001b[32m'Uncertainty\u001b[0m\u001b[32m(\u001b[0m\u001b[32m)\u001b[0m\u001b[32m'\u001b[0m                                                  \u001b]8;id=253849;file:///home/mkoenig/git/sbmlutils/src/sbmlutils/factory.py\u001b\\\u001b[2mfactory.py\u001b[0m\u001b]8;;\u001b\\\u001b[2m:\u001b[0m\u001b]8;id=507591;file:///home/mkoenig/git/sbmlutils/src/sbmlutils/factory.py#466\u001b\\\u001b[2m466\u001b[0m\u001b]8;;\u001b\\\n"
      ]
     },
     "metadata": {},
     "output_type": "display_data"
    },
    {
     "data": {
      "text/html": [
       "<pre style=\"white-space:pre;overflow-x:auto;line-height:normal;font-family:Menlo,'DejaVu Sans Mono',consolas,'Courier New',monospace\"><span style=\"color: #800000; text-decoration-color: #800000; font-weight: bold\">ERROR   </span> Unsupported type for UncertParameter: <span style=\"color: #008000; text-decoration-color: #008000\">'12'</span> in <span style=\"color: #008000; text-decoration-color: #008000\">'&lt;sbmlutils.factory.UncertSpan object at </span>    <a href=\"file:///home/mkoenig/git/sbmlutils/src/sbmlutils/factory.py\" target=\"_blank\"><span style=\"color: #7f7f7f; text-decoration-color: #7f7f7f\">factory.py</span></a><span style=\"color: #7f7f7f; text-decoration-color: #7f7f7f\">:</span><a href=\"file:///home/mkoenig/git/sbmlutils/src/sbmlutils/factory.py#2121\" target=\"_blank\"><span style=\"color: #7f7f7f; text-decoration-color: #7f7f7f\">2121</span></a>\n",
       "         <span style=\"color: #008000; text-decoration-color: #008000\">0x7f8eaa8ce4c0&gt;'</span>.                                                                          <span style=\"color: #7f7f7f; text-decoration-color: #7f7f7f\">               </span>\n",
       "</pre>\n"
      ],
      "text/plain": [
       "\u001b[1;31mERROR   \u001b[0m Unsupported type for UncertParameter: \u001b[32m'12'\u001b[0m in \u001b[32m'\u001b[0m\u001b[32m<\u001b[0m\u001b[32msbmlutils.factory.UncertSpan\u001b[0m\u001b[32m object at \u001b[0m    \u001b]8;id=576783;file:///home/mkoenig/git/sbmlutils/src/sbmlutils/factory.py\u001b\\\u001b[2mfactory.py\u001b[0m\u001b]8;;\u001b\\\u001b[2m:\u001b[0m\u001b]8;id=246028;file:///home/mkoenig/git/sbmlutils/src/sbmlutils/factory.py#2121\u001b\\\u001b[2m2121\u001b[0m\u001b]8;;\u001b\\\n",
       "         \u001b[32m0x7f8eaa8ce4c0\u001b[0m\u001b[32m>\u001b[0m\u001b[32m'\u001b[0m.                                                                          \u001b[2m               \u001b[0m\n"
      ]
     },
     "metadata": {},
     "output_type": "display_data"
    },
    {
     "data": {
      "text/html": [
       "<pre style=\"white-space:pre;overflow-x:auto;line-height:normal;font-family:Menlo,'DejaVu Sans Mono',consolas,'Courier New',monospace\"><span style=\"color: #800000; text-decoration-color: #800000; font-weight: bold\">ERROR   </span> Unsupported type for UncertParameter: <span style=\"color: #008000; text-decoration-color: #008000\">'13'</span> in <span style=\"color: #008000; text-decoration-color: #008000\">'&lt;sbmlutils.factory.UncertSpan object at </span>    <a href=\"file:///home/mkoenig/git/sbmlutils/src/sbmlutils/factory.py\" target=\"_blank\"><span style=\"color: #7f7f7f; text-decoration-color: #7f7f7f\">factory.py</span></a><span style=\"color: #7f7f7f; text-decoration-color: #7f7f7f\">:</span><a href=\"file:///home/mkoenig/git/sbmlutils/src/sbmlutils/factory.py#2121\" target=\"_blank\"><span style=\"color: #7f7f7f; text-decoration-color: #7f7f7f\">2121</span></a>\n",
       "         <span style=\"color: #008000; text-decoration-color: #008000\">0x7f8eaa8ce5b0&gt;'</span>.                                                                          <span style=\"color: #7f7f7f; text-decoration-color: #7f7f7f\">               </span>\n",
       "</pre>\n"
      ],
      "text/plain": [
       "\u001b[1;31mERROR   \u001b[0m Unsupported type for UncertParameter: \u001b[32m'13'\u001b[0m in \u001b[32m'\u001b[0m\u001b[32m<\u001b[0m\u001b[32msbmlutils.factory.UncertSpan\u001b[0m\u001b[32m object at \u001b[0m    \u001b]8;id=524628;file:///home/mkoenig/git/sbmlutils/src/sbmlutils/factory.py\u001b\\\u001b[2mfactory.py\u001b[0m\u001b]8;;\u001b\\\u001b[2m:\u001b[0m\u001b]8;id=882014;file:///home/mkoenig/git/sbmlutils/src/sbmlutils/factory.py#2121\u001b\\\u001b[2m2121\u001b[0m\u001b]8;;\u001b\\\n",
       "         \u001b[32m0x7f8eaa8ce5b0\u001b[0m\u001b[32m>\u001b[0m\u001b[32m'\u001b[0m.                                                                          \u001b[2m               \u001b[0m\n"
      ]
     },
     "metadata": {},
     "output_type": "display_data"
    },
    {
     "data": {
      "text/html": [
       "<pre style=\"white-space:pre;overflow-x:auto;line-height:normal;font-family:Menlo,'DejaVu Sans Mono',consolas,'Courier New',monospace\"><span style=\"color: #800000; text-decoration-color: #800000; font-weight: bold\">ERROR   </span> Unsupported type for UncertParameter: <span style=\"color: #008000; text-decoration-color: #008000\">'14'</span> in <span style=\"color: #008000; text-decoration-color: #008000\">'&lt;sbmlutils.factory.UncertSpan object at </span>    <a href=\"file:///home/mkoenig/git/sbmlutils/src/sbmlutils/factory.py\" target=\"_blank\"><span style=\"color: #7f7f7f; text-decoration-color: #7f7f7f\">factory.py</span></a><span style=\"color: #7f7f7f; text-decoration-color: #7f7f7f\">:</span><a href=\"file:///home/mkoenig/git/sbmlutils/src/sbmlutils/factory.py#2121\" target=\"_blank\"><span style=\"color: #7f7f7f; text-decoration-color: #7f7f7f\">2121</span></a>\n",
       "         <span style=\"color: #008000; text-decoration-color: #008000\">0x7f8eaa8cedf0&gt;'</span>.                                                                          <span style=\"color: #7f7f7f; text-decoration-color: #7f7f7f\">               </span>\n",
       "</pre>\n"
      ],
      "text/plain": [
       "\u001b[1;31mERROR   \u001b[0m Unsupported type for UncertParameter: \u001b[32m'14'\u001b[0m in \u001b[32m'\u001b[0m\u001b[32m<\u001b[0m\u001b[32msbmlutils.factory.UncertSpan\u001b[0m\u001b[32m object at \u001b[0m    \u001b]8;id=613975;file:///home/mkoenig/git/sbmlutils/src/sbmlutils/factory.py\u001b\\\u001b[2mfactory.py\u001b[0m\u001b]8;;\u001b\\\u001b[2m:\u001b[0m\u001b]8;id=283059;file:///home/mkoenig/git/sbmlutils/src/sbmlutils/factory.py#2121\u001b\\\u001b[2m2121\u001b[0m\u001b]8;;\u001b\\\n",
       "         \u001b[32m0x7f8eaa8cedf0\u001b[0m\u001b[32m>\u001b[0m\u001b[32m'\u001b[0m.                                                                          \u001b[2m               \u001b[0m\n"
      ]
     },
     "metadata": {},
     "output_type": "display_data"
    },
    {
     "data": {
      "text/html": [
       "<pre style=\"white-space:pre;overflow-x:auto;line-height:normal;font-family:Menlo,'DejaVu Sans Mono',consolas,'Courier New',monospace\"><span style=\"color: #800000; text-decoration-color: #800000; font-weight: bold\">ERROR   </span> Unsupported type for UncertParameter: <span style=\"color: #008000; text-decoration-color: #008000\">'15'</span> in <span style=\"color: #008000; text-decoration-color: #008000\">'&lt;sbmlutils.factory.UncertSpan object at </span>    <a href=\"file:///home/mkoenig/git/sbmlutils/src/sbmlutils/factory.py\" target=\"_blank\"><span style=\"color: #7f7f7f; text-decoration-color: #7f7f7f\">factory.py</span></a><span style=\"color: #7f7f7f; text-decoration-color: #7f7f7f\">:</span><a href=\"file:///home/mkoenig/git/sbmlutils/src/sbmlutils/factory.py#2121\" target=\"_blank\"><span style=\"color: #7f7f7f; text-decoration-color: #7f7f7f\">2121</span></a>\n",
       "         <span style=\"color: #008000; text-decoration-color: #008000\">0x7f8eaa8cecd0&gt;'</span>.                                                                          <span style=\"color: #7f7f7f; text-decoration-color: #7f7f7f\">               </span>\n",
       "</pre>\n"
      ],
      "text/plain": [
       "\u001b[1;31mERROR   \u001b[0m Unsupported type for UncertParameter: \u001b[32m'15'\u001b[0m in \u001b[32m'\u001b[0m\u001b[32m<\u001b[0m\u001b[32msbmlutils.factory.UncertSpan\u001b[0m\u001b[32m object at \u001b[0m    \u001b]8;id=675419;file:///home/mkoenig/git/sbmlutils/src/sbmlutils/factory.py\u001b\\\u001b[2mfactory.py\u001b[0m\u001b]8;;\u001b\\\u001b[2m:\u001b[0m\u001b]8;id=940998;file:///home/mkoenig/git/sbmlutils/src/sbmlutils/factory.py#2121\u001b\\\u001b[2m2121\u001b[0m\u001b]8;;\u001b\\\n",
       "         \u001b[32m0x7f8eaa8cecd0\u001b[0m\u001b[32m>\u001b[0m\u001b[32m'\u001b[0m.                                                                          \u001b[2m               \u001b[0m\n"
      ]
     },
     "metadata": {},
     "output_type": "display_data"
    },
    {
     "data": {
      "text/html": [
       "<style type=\"text/css\">pre { line-height: 125%; }\n",
       "td.linenos .normal { color: inherit; background-color: transparent; padding-left: 5px; padding-right: 5px; }\n",
       "span.linenos { color: inherit; background-color: transparent; padding-left: 5px; padding-right: 5px; }\n",
       "td.linenos .special { color: #000000; background-color: #ffffc0; padding-left: 5px; padding-right: 5px; }\n",
       "span.linenos.special { color: #000000; background-color: #ffffc0; padding-left: 5px; padding-right: 5px; }\n",
       ".highlight .hll { background-color: #ffffcc }\n",
       ".highlight { background: #f8f8f8; }\n",
       ".highlight .c { color: #3D7B7B; font-style: italic } /* Comment */\n",
       ".highlight .err { border: 1px solid #FF0000 } /* Error */\n",
       ".highlight .k { color: #008000; font-weight: bold } /* Keyword */\n",
       ".highlight .o { color: #666666 } /* Operator */\n",
       ".highlight .ch { color: #3D7B7B; font-style: italic } /* Comment.Hashbang */\n",
       ".highlight .cm { color: #3D7B7B; font-style: italic } /* Comment.Multiline */\n",
       ".highlight .cp { color: #9C6500 } /* Comment.Preproc */\n",
       ".highlight .cpf { color: #3D7B7B; font-style: italic } /* Comment.PreprocFile */\n",
       ".highlight .c1 { color: #3D7B7B; font-style: italic } /* Comment.Single */\n",
       ".highlight .cs { color: #3D7B7B; font-style: italic } /* Comment.Special */\n",
       ".highlight .gd { color: #A00000 } /* Generic.Deleted */\n",
       ".highlight .ge { font-style: italic } /* Generic.Emph */\n",
       ".highlight .gr { color: #E40000 } /* Generic.Error */\n",
       ".highlight .gh { color: #000080; font-weight: bold } /* Generic.Heading */\n",
       ".highlight .gi { color: #008400 } /* Generic.Inserted */\n",
       ".highlight .go { color: #717171 } /* Generic.Output */\n",
       ".highlight .gp { color: #000080; font-weight: bold } /* Generic.Prompt */\n",
       ".highlight .gs { font-weight: bold } /* Generic.Strong */\n",
       ".highlight .gu { color: #800080; font-weight: bold } /* Generic.Subheading */\n",
       ".highlight .gt { color: #0044DD } /* Generic.Traceback */\n",
       ".highlight .kc { color: #008000; font-weight: bold } /* Keyword.Constant */\n",
       ".highlight .kd { color: #008000; font-weight: bold } /* Keyword.Declaration */\n",
       ".highlight .kn { color: #008000; font-weight: bold } /* Keyword.Namespace */\n",
       ".highlight .kp { color: #008000 } /* Keyword.Pseudo */\n",
       ".highlight .kr { color: #008000; font-weight: bold } /* Keyword.Reserved */\n",
       ".highlight .kt { color: #B00040 } /* Keyword.Type */\n",
       ".highlight .m { color: #666666 } /* Literal.Number */\n",
       ".highlight .s { color: #BA2121 } /* Literal.String */\n",
       ".highlight .na { color: #687822 } /* Name.Attribute */\n",
       ".highlight .nb { color: #008000 } /* Name.Builtin */\n",
       ".highlight .nc { color: #0000FF; font-weight: bold } /* Name.Class */\n",
       ".highlight .no { color: #880000 } /* Name.Constant */\n",
       ".highlight .nd { color: #AA22FF } /* Name.Decorator */\n",
       ".highlight .ni { color: #717171; font-weight: bold } /* Name.Entity */\n",
       ".highlight .ne { color: #CB3F38; font-weight: bold } /* Name.Exception */\n",
       ".highlight .nf { color: #0000FF } /* Name.Function */\n",
       ".highlight .nl { color: #767600 } /* Name.Label */\n",
       ".highlight .nn { color: #0000FF; font-weight: bold } /* Name.Namespace */\n",
       ".highlight .nt { color: #008000; font-weight: bold } /* Name.Tag */\n",
       ".highlight .nv { color: #19177C } /* Name.Variable */\n",
       ".highlight .ow { color: #AA22FF; font-weight: bold } /* Operator.Word */\n",
       ".highlight .w { color: #bbbbbb } /* Text.Whitespace */\n",
       ".highlight .mb { color: #666666 } /* Literal.Number.Bin */\n",
       ".highlight .mf { color: #666666 } /* Literal.Number.Float */\n",
       ".highlight .mh { color: #666666 } /* Literal.Number.Hex */\n",
       ".highlight .mi { color: #666666 } /* Literal.Number.Integer */\n",
       ".highlight .mo { color: #666666 } /* Literal.Number.Oct */\n",
       ".highlight .sa { color: #BA2121 } /* Literal.String.Affix */\n",
       ".highlight .sb { color: #BA2121 } /* Literal.String.Backtick */\n",
       ".highlight .sc { color: #BA2121 } /* Literal.String.Char */\n",
       ".highlight .dl { color: #BA2121 } /* Literal.String.Delimiter */\n",
       ".highlight .sd { color: #BA2121; font-style: italic } /* Literal.String.Doc */\n",
       ".highlight .s2 { color: #BA2121 } /* Literal.String.Double */\n",
       ".highlight .se { color: #AA5D1F; font-weight: bold } /* Literal.String.Escape */\n",
       ".highlight .sh { color: #BA2121 } /* Literal.String.Heredoc */\n",
       ".highlight .si { color: #A45A77; font-weight: bold } /* Literal.String.Interpol */\n",
       ".highlight .sx { color: #008000 } /* Literal.String.Other */\n",
       ".highlight .sr { color: #A45A77 } /* Literal.String.Regex */\n",
       ".highlight .s1 { color: #BA2121 } /* Literal.String.Single */\n",
       ".highlight .ss { color: #19177C } /* Literal.String.Symbol */\n",
       ".highlight .bp { color: #008000 } /* Name.Builtin.Pseudo */\n",
       ".highlight .fm { color: #0000FF } /* Name.Function.Magic */\n",
       ".highlight .vc { color: #19177C } /* Name.Variable.Class */\n",
       ".highlight .vg { color: #19177C } /* Name.Variable.Global */\n",
       ".highlight .vi { color: #19177C } /* Name.Variable.Instance */\n",
       ".highlight .vm { color: #19177C } /* Name.Variable.Magic */\n",
       ".highlight .il { color: #666666 } /* Literal.Number.Integer.Long */</style>    <div class=\"highlight\"><pre><span></span><span class=\"cp\">&lt;?xml version=&quot;1.0&quot; encoding=&quot;UTF-8&quot;?&gt;</span>\n",
       "<span class=\"nt\">&lt;sbml</span> <span class=\"na\">xmlns=</span><span class=\"s\">&quot;http://www.sbml.org/sbml/level3/version1/core&quot;</span> <span class=\"na\">xmlns:distrib=</span><span class=\"s\">&quot;http://www.sbml.org/sbml/level3/version1/distrib/version1&quot;</span> <span class=\"na\">xmlns:comp=</span><span class=\"s\">&quot;http://www.sbml.org/sbml/level3/version1/comp/version1&quot;</span> <span class=\"na\">level=</span><span class=\"s\">&quot;3&quot;</span> <span class=\"na\">version=</span><span class=\"s\">&quot;1&quot;</span> <span class=\"na\">distrib:required=</span><span class=\"s\">&quot;true&quot;</span> <span class=\"na\">comp:required=</span><span class=\"s\">&quot;true&quot;</span><span class=\"nt\">&gt;</span>\n",
       "  <span class=\"nt\">&lt;notes&gt;</span>\n",
       "    <span class=\"nt\">&lt;body</span> <span class=\"na\">xmlns=</span><span class=\"s\">&quot;http://www.w3.org/1999/xhtml&quot;</span><span class=\"nt\">&gt;</span>\n",
       "      <span class=\"nt\">&lt;p&gt;</span>Created with <span class=\"nt\">&lt;a</span> <span class=\"na\">href=</span><span class=\"s\">&quot;https://github.com/matthiaskoenig/sbmlutils&quot;</span><span class=\"nt\">&gt;</span>https://github.com/matthiaskoenig/sbmlutils<span class=\"nt\">&lt;/a&gt;</span>.\n",
       "<span class=\"nt\">&lt;a</span> <span class=\"na\">href=</span><span class=\"s\">&quot;https://doi.org/10.5281/zenodo.5525390&quot;</span><span class=\"nt\">&gt;</span>\n",
       "        <span class=\"nt\">&lt;img</span> <span class=\"na\">src=</span><span class=\"s\">&quot;https://zenodo.org/badge/DOI/10.5281/zenodo.5525390.svg&quot;</span> <span class=\"na\">alt=</span><span class=\"s\">&quot;DOI&quot;</span><span class=\"nt\">/&gt;&lt;/a&gt;&lt;/p&gt;</span>\n",
       "      <span class=\"nt\">&lt;/body&gt;</span>\n",
       "    <span class=\"nt\">&lt;/notes&gt;</span>\n",
       "  <span class=\"nt\">&lt;model</span> <span class=\"na\">id=</span><span class=\"s\">&quot;parameters_spans&quot;</span><span class=\"nt\">&gt;</span>\n",
       "    <span class=\"nt\">&lt;listOfParameters&gt;</span>\n",
       "      <span class=\"nt\">&lt;parameter</span> <span class=\"na\">id=</span><span class=\"s\">&quot;p&quot;</span> <span class=\"na\">value=</span><span class=\"s\">&quot;NaN&quot;</span> <span class=\"na\">constant=</span><span class=\"s\">&quot;true&quot;</span><span class=\"nt\">&gt;</span>\n",
       "        <span class=\"nt\">&lt;distrib:listOfUncertainties&gt;</span>\n",
       "          <span class=\"nt\">&lt;distrib:uncertainty&gt;</span>\n",
       "            <span class=\"nt\">&lt;distrib:uncertParameter</span> <span class=\"na\">distrib:value=</span><span class=\"s\">&quot;1&quot;</span> <span class=\"na\">distrib:type=</span><span class=\"s\">&quot;coeffientOfVariation&quot;</span><span class=\"nt\">/&gt;</span>\n",
       "            <span class=\"nt\">&lt;distrib:uncertParameter</span> <span class=\"na\">distrib:value=</span><span class=\"s\">&quot;2&quot;</span> <span class=\"na\">distrib:type=</span><span class=\"s\">&quot;kurtosis&quot;</span><span class=\"nt\">/&gt;</span>\n",
       "            <span class=\"nt\">&lt;distrib:uncertParameter</span> <span class=\"na\">distrib:value=</span><span class=\"s\">&quot;3&quot;</span> <span class=\"na\">distrib:type=</span><span class=\"s\">&quot;mean&quot;</span><span class=\"nt\">/&gt;</span>\n",
       "            <span class=\"nt\">&lt;distrib:uncertParameter</span> <span class=\"na\">distrib:value=</span><span class=\"s\">&quot;4&quot;</span> <span class=\"na\">distrib:type=</span><span class=\"s\">&quot;median&quot;</span><span class=\"nt\">/&gt;</span>\n",
       "            <span class=\"nt\">&lt;distrib:uncertParameter</span> <span class=\"na\">distrib:value=</span><span class=\"s\">&quot;5&quot;</span> <span class=\"na\">distrib:type=</span><span class=\"s\">&quot;mode&quot;</span><span class=\"nt\">/&gt;</span>\n",
       "            <span class=\"nt\">&lt;distrib:uncertParameter</span> <span class=\"na\">distrib:value=</span><span class=\"s\">&quot;6&quot;</span> <span class=\"na\">distrib:type=</span><span class=\"s\">&quot;sampleSize&quot;</span><span class=\"nt\">/&gt;</span>\n",
       "            <span class=\"nt\">&lt;distrib:uncertParameter</span> <span class=\"na\">distrib:value=</span><span class=\"s\">&quot;7&quot;</span> <span class=\"na\">distrib:type=</span><span class=\"s\">&quot;skewness&quot;</span><span class=\"nt\">/&gt;</span>\n",
       "            <span class=\"nt\">&lt;distrib:uncertParameter</span> <span class=\"na\">distrib:value=</span><span class=\"s\">&quot;8&quot;</span> <span class=\"na\">distrib:type=</span><span class=\"s\">&quot;standardDeviation&quot;</span><span class=\"nt\">/&gt;</span>\n",
       "            <span class=\"nt\">&lt;distrib:uncertParameter</span> <span class=\"na\">distrib:value=</span><span class=\"s\">&quot;9&quot;</span> <span class=\"na\">distrib:type=</span><span class=\"s\">&quot;standardError&quot;</span><span class=\"nt\">/&gt;</span>\n",
       "            <span class=\"nt\">&lt;distrib:uncertParameter</span> <span class=\"na\">distrib:value=</span><span class=\"s\">&quot;10&quot;</span> <span class=\"na\">distrib:type=</span><span class=\"s\">&quot;variance&quot;</span><span class=\"nt\">/&gt;</span>\n",
       "            <span class=\"nt\">&lt;distrib:uncertParameter</span> <span class=\"na\">distrib:type=</span><span class=\"s\">&quot;distribution&quot;</span> <span class=\"na\">distrib:definitionURL=</span><span class=\"s\">&quot;http://www.sbml.org/sbml/symbols/distrib/normal&quot;</span><span class=\"nt\">&gt;</span>\n",
       "              <span class=\"nt\">&lt;math</span> <span class=\"na\">xmlns=</span><span class=\"s\">&quot;http://www.w3.org/1998/Math/MathML&quot;</span><span class=\"nt\">&gt;</span>\n",
       "                <span class=\"nt\">&lt;apply&gt;</span>\n",
       "                  <span class=\"nt\">&lt;csymbol</span> <span class=\"na\">encoding=</span><span class=\"s\">&quot;text&quot;</span> <span class=\"na\">definitionURL=</span><span class=\"s\">&quot;http://www.sbml.org/sbml/symbols/distrib/normal&quot;</span><span class=\"nt\">&gt;</span> normal <span class=\"nt\">&lt;/csymbol&gt;</span>\n",
       "                  <span class=\"nt\">&lt;cn</span> <span class=\"na\">type=</span><span class=\"s\">&quot;integer&quot;</span><span class=\"nt\">&gt;</span> 0 <span class=\"nt\">&lt;/cn&gt;</span>\n",
       "                  <span class=\"nt\">&lt;cn</span> <span class=\"na\">type=</span><span class=\"s\">&quot;integer&quot;</span><span class=\"nt\">&gt;</span> 1 <span class=\"nt\">&lt;/cn&gt;</span>\n",
       "                <span class=\"nt\">&lt;/apply&gt;</span>\n",
       "              <span class=\"nt\">&lt;/math&gt;</span>\n",
       "            <span class=\"nt\">&lt;/distrib:uncertParameter&gt;</span>\n",
       "          <span class=\"nt\">&lt;/distrib:uncertainty&gt;</span>\n",
       "        <span class=\"nt\">&lt;/distrib:listOfUncertainties&gt;</span>\n",
       "      <span class=\"nt\">&lt;/parameter&gt;</span>\n",
       "    <span class=\"nt\">&lt;/listOfParameters&gt;</span>\n",
       "  <span class=\"nt\">&lt;/model&gt;</span>\n",
       "<span class=\"nt\">&lt;/sbml&gt;</span>\n",
       "</pre></div>\n"
      ]
     },
     "metadata": {},
     "output_type": "display_data"
    },
    {
     "data": {
      "text/html": [
       "<pre style=\"white-space:pre;overflow-x:auto;line-height:normal;font-family:Menlo,'DejaVu Sans Mono',consolas,'Courier New',monospace\">\n",
       "</pre>\n"
      ],
      "text/plain": [
       "\n"
      ]
     },
     "metadata": {},
     "output_type": "display_data"
    },
    {
     "data": {
      "text/html": [
       "<pre style=\"white-space:pre;overflow-x:auto;line-height:normal;font-family:Menlo,'DejaVu Sans Mono',consolas,'Courier New',monospace\"><span style=\"color: #008000; text-decoration-color: #008000\">────────────────────────────────────────────────── </span>Validate SBML<span style=\"color: #008000; text-decoration-color: #008000\"> ──────────────────────────────────────────────────</span>\n",
       "</pre>\n"
      ],
      "text/plain": [
       "\u001b[32m────────────────────────────────────────────────── \u001b[0mValidate SBML\u001b[32m ──────────────────────────────────────────────────\u001b[0m\n"
      ]
     },
     "metadata": {},
     "output_type": "display_data"
    },
    {
     "data": {
      "text/html": [
       "<pre style=\"white-space:pre;overflow-x:auto;line-height:normal;font-family:Menlo,'DejaVu Sans Mono',consolas,'Courier New',monospace\"><span style=\"color: #008000; text-decoration-color: #008000; font-weight: bold\">&lt;</span><span style=\"color: #ff00ff; text-decoration-color: #ff00ff; font-weight: bold\">SBMLDocument</span><span style=\"color: #008000; text-decoration-color: #008000; font-weight: bold\">&gt;</span>\n",
       "<span style=\"color: #008000; text-decoration-color: #008000\">valid                    : TRUE</span>\n",
       "<span style=\"color: #008000; text-decoration-color: #008000\">check time </span><span style=\"color: #008000; text-decoration-color: #008000; font-weight: bold\">(</span><span style=\"color: #008000; text-decoration-color: #008000\">s</span><span style=\"color: #008000; text-decoration-color: #008000; font-weight: bold\">)</span><span style=\"color: #008000; text-decoration-color: #008000\">           : </span><span style=\"color: #008080; text-decoration-color: #008080; font-weight: bold\">0.002</span>\n",
       "</pre>\n"
      ],
      "text/plain": [
       "\u001b[1;32m<\u001b[0m\u001b[1;95mSBMLDocument\u001b[0m\u001b[1;32m>\u001b[0m\n",
       "\u001b[32mvalid                    : TRUE\u001b[0m\n",
       "\u001b[32mcheck time \u001b[0m\u001b[1;32m(\u001b[0m\u001b[32ms\u001b[0m\u001b[1;32m)\u001b[0m\u001b[32m           : \u001b[0m\u001b[1;36m0.002\u001b[0m\n"
      ]
     },
     "metadata": {},
     "output_type": "display_data"
    },
    {
     "data": {
      "text/html": [
       "<pre style=\"white-space:pre;overflow-x:auto;line-height:normal;font-family:Menlo,'DejaVu Sans Mono',consolas,'Courier New',monospace\"><span style=\"color: #008000; text-decoration-color: #008000\">───────────────────────────────────────────────────────────────────────────────────────────────────────────────────</span>\n",
       "</pre>\n"
      ],
      "text/plain": [
       "\u001b[32m───────────────────────────────────────────────────────────────────────────────────────────────────────────────────\u001b[0m\n"
      ]
     },
     "metadata": {},
     "output_type": "display_data"
    },
    {
     "data": {
      "text/html": [
       "<pre style=\"white-space:pre;overflow-x:auto;line-height:normal;font-family:Menlo,'DejaVu Sans Mono',consolas,'Courier New',monospace\">\n",
       "</pre>\n"
      ],
      "text/plain": [
       "\n"
      ]
     },
     "metadata": {},
     "output_type": "display_data"
    }
   ],
   "source": [
    "import libsbml\n",
    "md: ModelDict = {\n",
    "    'sid': 'parameters_spans',\n",
    "    'packages': [Package.DISTRIB_V1],\n",
    "    'parameters': [\n",
    "        Parameter(\"p\",\n",
    "          uncertainties=[\n",
    "              Uncertainty(\n",
    "                  formula=\"normal(0, 1)\",  # distribution\n",
    "                  uncertParameters=[\n",
    "                      UncertParameter(type=libsbml.DISTRIB_UNCERTTYPE_COEFFIENTOFVARIATION, value=1.0),\n",
    "                      UncertParameter(type=libsbml.DISTRIB_UNCERTTYPE_KURTOSIS, value=2.0),\n",
    "                      UncertParameter(type=libsbml.DISTRIB_UNCERTTYPE_MEAN, value=3.0),\n",
    "                      UncertParameter(type=libsbml.DISTRIB_UNCERTTYPE_MEDIAN, value=4.0),\n",
    "                      UncertParameter(type=libsbml.DISTRIB_UNCERTTYPE_MODE, value=5.0),\n",
    "                      UncertParameter(type=libsbml.DISTRIB_UNCERTTYPE_SAMPLESIZE, value=6.0),\n",
    "                      UncertParameter(type=libsbml.DISTRIB_UNCERTTYPE_SKEWNESS, value=7.0),\n",
    "                      UncertParameter(type=libsbml.DISTRIB_UNCERTTYPE_STANDARDDEVIATION, value=8.0),\n",
    "                      UncertParameter(type=libsbml.DISTRIB_UNCERTTYPE_STANDARDERROR, value=9.0),\n",
    "                      UncertParameter(type=libsbml.DISTRIB_UNCERTTYPE_VARIANCE, value=10.0),\n",
    "                      UncertSpan(type=libsbml.DISTRIB_UNCERTTYPE_CONFIDENCEINTERVAL, valueLower=1.0, valueUpper=2.0),\n",
    "                      UncertSpan(type=libsbml.DISTRIB_UNCERTTYPE_CREDIBLEINTERVAL, valueLower=2.0, valueUpper=3.0),\n",
    "                      UncertSpan(type=libsbml.DISTRIB_UNCERTTYPE_INTERQUARTILERANGE, valueLower=3.0, valueUpper=4.0),\n",
    "                      UncertSpan(type=libsbml.DISTRIB_UNCERTTYPE_RANGE, valueLower=4.0, valueUpper=5.0),\n",
    "                  ])\n",
    "          ])\n",
    "    ]\n",
    "}\n",
    "\n",
    "# create model and print SBML\n",
    "doc = Document(Model(**md))\n",
    "print_xml(doc.get_sbml())\n",
    "\n",
    "# validate model\n",
    "validate_doc(doc.doc, options=ValidationOptions(units_consistency=False));"
   ]
  },
  {
   "cell_type": "markdown",
   "metadata": {},
   "source": [
    "### Information on experimental parameters (SABIO-RK)\n",
    "In the following example we store the experimental information which was used for setting the parameter in the model."
   ]
  },
  {
   "cell_type": "code",
   "execution_count": 13,
   "metadata": {},
   "outputs": [
    {
     "data": {
      "text/html": [
       "<pre style=\"white-space:pre;overflow-x:auto;line-height:normal;font-family:Menlo,'DejaVu Sans Mono',consolas,'Courier New',monospace\"><span style=\"color: #000080; text-decoration-color: #000080\">INFO    </span> Create SBML for model <span style=\"color: #008000; text-decoration-color: #008000\">'sabiork_parameter'</span>                                                  <a href=\"file:///home/mkoenig/git/sbmlutils/src/sbmlutils/factory.py\" target=\"_blank\"><span style=\"color: #7f7f7f; text-decoration-color: #7f7f7f\">factory.py</span></a><span style=\"color: #7f7f7f; text-decoration-color: #7f7f7f\">:</span><a href=\"file:///home/mkoenig/git/sbmlutils/src/sbmlutils/factory.py#3526\" target=\"_blank\"><span style=\"color: #7f7f7f; text-decoration-color: #7f7f7f\">3526</span></a>\n",
       "</pre>\n"
      ],
      "text/plain": [
       "\u001b[34mINFO    \u001b[0m Create SBML for model \u001b[32m'sabiork_parameter'\u001b[0m                                                  \u001b]8;id=89404;file:///home/mkoenig/git/sbmlutils/src/sbmlutils/factory.py\u001b\\\u001b[2mfactory.py\u001b[0m\u001b]8;;\u001b\\\u001b[2m:\u001b[0m\u001b]8;id=352611;file:///home/mkoenig/git/sbmlutils/src/sbmlutils/factory.py#3526\u001b\\\u001b[2m3526\u001b[0m\u001b]8;;\u001b\\\n"
      ]
     },
     "metadata": {},
     "output_type": "display_data"
    },
    {
     "data": {
      "text/html": [
       "<pre style=\"white-space:pre;overflow-x:auto;line-height:normal;font-family:Menlo,'DejaVu Sans Mono',consolas,'Courier New',monospace\"><span style=\"color: #800000; text-decoration-color: #800000\">WARNING </span> <span style=\"color: #008000; text-decoration-color: #008000\">'name'</span> should be set on <span style=\"color: #008000; text-decoration-color: #008000\">'Model(sid='</span>sabiork_parameter', <span style=\"color: #808000; text-decoration-color: #808000\">packages</span>=<span style=\"font-weight: bold\">[&lt;</span><span style=\"color: #ff00ff; text-decoration-color: #ff00ff; font-weight: bold\">Package.DISTRIB_V1:</span><span style=\"color: #000000; text-decoration-color: #000000\"> </span>     <a href=\"file:///home/mkoenig/git/sbmlutils/src/sbmlutils/factory.py\" target=\"_blank\"><span style=\"color: #7f7f7f; text-decoration-color: #7f7f7f\">factory.py</span></a><span style=\"color: #7f7f7f; text-decoration-color: #7f7f7f\">:</span><a href=\"file:///home/mkoenig/git/sbmlutils/src/sbmlutils/factory.py#441\" target=\"_blank\"><span style=\"color: #7f7f7f; text-decoration-color: #7f7f7f\">441</span></a>\n",
       "         <span style=\"color: #008000; text-decoration-color: #008000\">'distrib-v1'</span><span style=\"font-weight: bold\">&gt;</span>, <span style=\"font-weight: bold\">&lt;</span><span style=\"color: #ff00ff; text-decoration-color: #ff00ff; font-weight: bold\">Package.COMP_V1:</span><span style=\"color: #000000; text-decoration-color: #000000\"> </span><span style=\"color: #008000; text-decoration-color: #008000\">'comp-v1'</span><span style=\"font-weight: bold\">&gt;]</span>, <span style=\"color: #808000; text-decoration-color: #808000\">model_units</span>=<span style=\"font-weight: bold\">&lt;</span><span style=\"color: #ff00ff; text-decoration-color: #ff00ff; font-weight: bold\">sbmlutils.factory.ModelUnits</span><span style=\"color: #000000; text-decoration-color: #000000\"> </span>    <span style=\"color: #7f7f7f; text-decoration-color: #7f7f7f\">              </span>\n",
       "         <span style=\"color: #000000; text-decoration-color: #000000\">object at </span><span style=\"color: #008080; text-decoration-color: #008080; font-weight: bold\">0x7f8eaa93faf0</span><span style=\"font-weight: bold\">&gt;</span>, <span style=\"color: #808000; text-decoration-color: #808000\">units</span>=<span style=\"font-weight: bold\">&lt;</span><span style=\"color: #ff00ff; text-decoration-color: #ff00ff; font-weight: bold\">class</span><span style=\"color: #000000; text-decoration-color: #000000\"> </span><span style=\"color: #008000; text-decoration-color: #008000\">'__main__.U'</span><span style=\"font-weight: bold\">&gt;</span>, <span style=\"color: #808000; text-decoration-color: #808000\">parameters</span>=<span style=\"font-weight: bold\">[</span>Km_glc = <span style=\"color: #008080; text-decoration-color: #008080; font-weight: bold\">5.0</span>             <span style=\"color: #7f7f7f; text-decoration-color: #7f7f7f\">              </span>\n",
       "         <span style=\"font-weight: bold\">[</span><span style=\"color: #800080; text-decoration-color: #800080; font-weight: bold\">UnitDefinition</span><span style=\"font-weight: bold\">(</span>mM, mmole/liter<span style=\"font-weight: bold\">)]]</span>, <span style=\"color: #808000; text-decoration-color: #808000\">_FrozenClass__isfrozen</span>=<span style=\"color: #00ff00; text-decoration-color: #00ff00; font-style: italic\">True</span><span style=\"font-weight: bold\">)</span>'                           <span style=\"color: #7f7f7f; text-decoration-color: #7f7f7f\">              </span>\n",
       "</pre>\n"
      ],
      "text/plain": [
       "\u001b[31mWARNING \u001b[0m \u001b[32m'name'\u001b[0m should be set on \u001b[32m'Model\u001b[0m\u001b[32m(\u001b[0m\u001b[32msid\u001b[0m\u001b[32m='\u001b[0msabiork_parameter', \u001b[33mpackages\u001b[0m=\u001b[1m[\u001b[0m\u001b[1m<\u001b[0m\u001b[1;95mPackage.DISTRIB_V1:\u001b[0m\u001b[39m \u001b[0m     \u001b]8;id=457156;file:///home/mkoenig/git/sbmlutils/src/sbmlutils/factory.py\u001b\\\u001b[2mfactory.py\u001b[0m\u001b]8;;\u001b\\\u001b[2m:\u001b[0m\u001b]8;id=290286;file:///home/mkoenig/git/sbmlutils/src/sbmlutils/factory.py#441\u001b\\\u001b[2m441\u001b[0m\u001b]8;;\u001b\\\n",
       "         \u001b[32m'distrib-v1'\u001b[0m\u001b[1m>\u001b[0m, \u001b[1m<\u001b[0m\u001b[1;95mPackage.COMP_V1:\u001b[0m\u001b[39m \u001b[0m\u001b[32m'comp-v1'\u001b[0m\u001b[1m>\u001b[0m\u001b[1m]\u001b[0m, \u001b[33mmodel_units\u001b[0m=\u001b[1m<\u001b[0m\u001b[1;95msbmlutils.factory.ModelUnits\u001b[0m\u001b[39m \u001b[0m    \u001b[2m              \u001b[0m\n",
       "         \u001b[39mobject at \u001b[0m\u001b[1;36m0x7f8eaa93faf0\u001b[0m\u001b[1m>\u001b[0m, \u001b[33munits\u001b[0m=\u001b[1m<\u001b[0m\u001b[1;95mclass\u001b[0m\u001b[39m \u001b[0m\u001b[32m'__main__.U'\u001b[0m\u001b[1m>\u001b[0m, \u001b[33mparameters\u001b[0m=\u001b[1m[\u001b[0mKm_glc = \u001b[1;36m5.0\u001b[0m             \u001b[2m              \u001b[0m\n",
       "         \u001b[1m[\u001b[0m\u001b[1;35mUnitDefinition\u001b[0m\u001b[1m(\u001b[0mmM, mmole/liter\u001b[1m)\u001b[0m\u001b[1m]\u001b[0m\u001b[1m]\u001b[0m, \u001b[33m_FrozenClass__isfrozen\u001b[0m=\u001b[3;92mTrue\u001b[0m\u001b[1m)\u001b[0m'                           \u001b[2m              \u001b[0m\n"
      ]
     },
     "metadata": {},
     "output_type": "display_data"
    },
    {
     "data": {
      "text/html": [
       "<pre style=\"white-space:pre;overflow-x:auto;line-height:normal;font-family:Menlo,'DejaVu Sans Mono',consolas,'Courier New',monospace\"><span style=\"color: #800000; text-decoration-color: #800000\">WARNING </span> <span style=\"color: #008000; text-decoration-color: #008000\">'name'</span> should be set on <span style=\"color: #008000; text-decoration-color: #008000\">'Uncertainty(uncertainty1, [(&lt;BQB.IS: '</span><span style=\"color: #000000; text-decoration-color: #000000\">BQB_IS'</span><span style=\"font-weight: bold\">&gt;</span>,                    <a href=\"file:///home/mkoenig/git/sbmlutils/src/sbmlutils/factory.py\" target=\"_blank\"><span style=\"color: #7f7f7f; text-decoration-color: #7f7f7f\">factory.py</span></a><span style=\"color: #7f7f7f; text-decoration-color: #7f7f7f\">:</span><a href=\"file:///home/mkoenig/git/sbmlutils/src/sbmlutils/factory.py#441\" target=\"_blank\"><span style=\"color: #7f7f7f; text-decoration-color: #7f7f7f\">441</span></a>\n",
       "         <span style=\"color: #008000; text-decoration-color: #008000\">'sabiork.kineticrecord/793'</span><span style=\"font-weight: bold\">)</span>, <span style=\"font-weight: bold\">(&lt;</span><span style=\"color: #ff00ff; text-decoration-color: #ff00ff; font-weight: bold\">BQB.HAS_TAXON:</span><span style=\"color: #000000; text-decoration-color: #000000\"> </span><span style=\"color: #008000; text-decoration-color: #008000\">'BQB_HAS_TAXON'</span><span style=\"font-weight: bold\">&gt;</span>, <span style=\"color: #008000; text-decoration-color: #008000\">'taxonomy/9606'</span><span style=\"font-weight: bold\">)</span>,          <span style=\"color: #7f7f7f; text-decoration-color: #7f7f7f\">              </span>\n",
       "         <span style=\"font-weight: bold\">(&lt;</span><span style=\"color: #ff00ff; text-decoration-color: #ff00ff; font-weight: bold\">BQB.IS:</span><span style=\"color: #000000; text-decoration-color: #000000\"> </span><span style=\"color: #008000; text-decoration-color: #008000\">'BQB_IS'</span><span style=\"font-weight: bold\">&gt;</span>, <span style=\"color: #008000; text-decoration-color: #008000\">'ec-code/2.7.1.2'</span><span style=\"font-weight: bold\">)</span>, <span style=\"font-weight: bold\">(&lt;</span><span style=\"color: #ff00ff; text-decoration-color: #ff00ff; font-weight: bold\">BQB.IS:</span><span style=\"color: #000000; text-decoration-color: #000000\"> </span><span style=\"color: #008000; text-decoration-color: #008000\">'BQB_IS'</span><span style=\"font-weight: bold\">&gt;</span>, <span style=\"color: #008000; text-decoration-color: #008000\">'uniprot/P35557'</span><span style=\"font-weight: bold\">)</span>, <span style=\"font-weight: bold\">(&lt;</span><span style=\"color: #ff00ff; text-decoration-color: #ff00ff; font-weight: bold\">BQB.IS:</span><span style=\"color: #000000; text-decoration-color: #000000\"> </span> <span style=\"color: #7f7f7f; text-decoration-color: #7f7f7f\">              </span>\n",
       "         <span style=\"color: #008000; text-decoration-color: #008000\">'BQB_IS'</span><span style=\"font-weight: bold\">&gt;</span>, <span style=\"color: #008000; text-decoration-color: #008000\">'bto/BTO:0000075'</span><span style=\"font-weight: bold\">)])</span>'                                                            <span style=\"color: #7f7f7f; text-decoration-color: #7f7f7f\">              </span>\n",
       "</pre>\n"
      ],
      "text/plain": [
       "\u001b[31mWARNING \u001b[0m \u001b[32m'name'\u001b[0m should be set on \u001b[32m'Uncertainty\u001b[0m\u001b[32m(\u001b[0m\u001b[32muncertainty1, \u001b[0m\u001b[32m[\u001b[0m\u001b[32m(\u001b[0m\u001b[32m<\u001b[0m\u001b[32mBQB.IS:\u001b[0m\u001b[32m '\u001b[0m\u001b[39mBQB_IS'\u001b[0m\u001b[1m>\u001b[0m,                    \u001b]8;id=158234;file:///home/mkoenig/git/sbmlutils/src/sbmlutils/factory.py\u001b\\\u001b[2mfactory.py\u001b[0m\u001b]8;;\u001b\\\u001b[2m:\u001b[0m\u001b]8;id=530564;file:///home/mkoenig/git/sbmlutils/src/sbmlutils/factory.py#441\u001b\\\u001b[2m441\u001b[0m\u001b]8;;\u001b\\\n",
       "         \u001b[32m'sabiork.kineticrecord/793'\u001b[0m\u001b[1m)\u001b[0m, \u001b[1m(\u001b[0m\u001b[1m<\u001b[0m\u001b[1;95mBQB.HAS_TAXON:\u001b[0m\u001b[39m \u001b[0m\u001b[32m'BQB_HAS_TAXON'\u001b[0m\u001b[1m>\u001b[0m, \u001b[32m'taxonomy/9606'\u001b[0m\u001b[1m)\u001b[0m,          \u001b[2m              \u001b[0m\n",
       "         \u001b[1m(\u001b[0m\u001b[1m<\u001b[0m\u001b[1;95mBQB.IS:\u001b[0m\u001b[39m \u001b[0m\u001b[32m'BQB_IS'\u001b[0m\u001b[1m>\u001b[0m, \u001b[32m'ec-code/2.7.1.2'\u001b[0m\u001b[1m)\u001b[0m, \u001b[1m(\u001b[0m\u001b[1m<\u001b[0m\u001b[1;95mBQB.IS:\u001b[0m\u001b[39m \u001b[0m\u001b[32m'BQB_IS'\u001b[0m\u001b[1m>\u001b[0m, \u001b[32m'uniprot/P35557'\u001b[0m\u001b[1m)\u001b[0m, \u001b[1m(\u001b[0m\u001b[1m<\u001b[0m\u001b[1;95mBQB.IS:\u001b[0m\u001b[39m \u001b[0m \u001b[2m              \u001b[0m\n",
       "         \u001b[32m'BQB_IS'\u001b[0m\u001b[1m>\u001b[0m, \u001b[32m'bto/BTO:0000075'\u001b[0m\u001b[1m)\u001b[0m\u001b[1m]\u001b[0m\u001b[1m)\u001b[0m'                                                            \u001b[2m              \u001b[0m\n"
      ]
     },
     "metadata": {},
     "output_type": "display_data"
    },
    {
     "data": {
      "text/html": [
       "<pre style=\"white-space:pre;overflow-x:auto;line-height:normal;font-family:Menlo,'DejaVu Sans Mono',consolas,'Courier New',monospace\"><span style=\"color: #800000; text-decoration-color: #800000\">WARNING </span> <span style=\"color: #008000; text-decoration-color: #008000\">'sboTerm'</span> should be set on <span style=\"color: #008000; text-decoration-color: #008000\">'Uncertainty(uncertainty1, [(&lt;BQB.IS: '</span><span style=\"color: #000000; text-decoration-color: #000000\">BQB_IS'</span><span style=\"font-weight: bold\">&gt;</span>,                 <a href=\"file:///home/mkoenig/git/sbmlutils/src/sbmlutils/factory.py\" target=\"_blank\"><span style=\"color: #7f7f7f; text-decoration-color: #7f7f7f\">factory.py</span></a><span style=\"color: #7f7f7f; text-decoration-color: #7f7f7f\">:</span><a href=\"file:///home/mkoenig/git/sbmlutils/src/sbmlutils/factory.py#466\" target=\"_blank\"><span style=\"color: #7f7f7f; text-decoration-color: #7f7f7f\">466</span></a>\n",
       "         <span style=\"color: #008000; text-decoration-color: #008000\">'sabiork.kineticrecord/793'</span><span style=\"font-weight: bold\">)</span>, <span style=\"font-weight: bold\">(&lt;</span><span style=\"color: #ff00ff; text-decoration-color: #ff00ff; font-weight: bold\">BQB.HAS_TAXON:</span><span style=\"color: #000000; text-decoration-color: #000000\"> </span><span style=\"color: #008000; text-decoration-color: #008000\">'BQB_HAS_TAXON'</span><span style=\"font-weight: bold\">&gt;</span>, <span style=\"color: #008000; text-decoration-color: #008000\">'taxonomy/9606'</span><span style=\"font-weight: bold\">)</span>,          <span style=\"color: #7f7f7f; text-decoration-color: #7f7f7f\">              </span>\n",
       "         <span style=\"font-weight: bold\">(&lt;</span><span style=\"color: #ff00ff; text-decoration-color: #ff00ff; font-weight: bold\">BQB.IS:</span><span style=\"color: #000000; text-decoration-color: #000000\"> </span><span style=\"color: #008000; text-decoration-color: #008000\">'BQB_IS'</span><span style=\"font-weight: bold\">&gt;</span>, <span style=\"color: #008000; text-decoration-color: #008000\">'ec-code/2.7.1.2'</span><span style=\"font-weight: bold\">)</span>, <span style=\"font-weight: bold\">(&lt;</span><span style=\"color: #ff00ff; text-decoration-color: #ff00ff; font-weight: bold\">BQB.IS:</span><span style=\"color: #000000; text-decoration-color: #000000\"> </span><span style=\"color: #008000; text-decoration-color: #008000\">'BQB_IS'</span><span style=\"font-weight: bold\">&gt;</span>, <span style=\"color: #008000; text-decoration-color: #008000\">'uniprot/P35557'</span><span style=\"font-weight: bold\">)</span>, <span style=\"font-weight: bold\">(&lt;</span><span style=\"color: #ff00ff; text-decoration-color: #ff00ff; font-weight: bold\">BQB.IS:</span><span style=\"color: #000000; text-decoration-color: #000000\"> </span> <span style=\"color: #7f7f7f; text-decoration-color: #7f7f7f\">              </span>\n",
       "         <span style=\"color: #008000; text-decoration-color: #008000\">'BQB_IS'</span><span style=\"font-weight: bold\">&gt;</span>, <span style=\"color: #008000; text-decoration-color: #008000\">'bto/BTO:0000075'</span><span style=\"font-weight: bold\">)])</span>'                                                            <span style=\"color: #7f7f7f; text-decoration-color: #7f7f7f\">              </span>\n",
       "</pre>\n"
      ],
      "text/plain": [
       "\u001b[31mWARNING \u001b[0m \u001b[32m'sboTerm'\u001b[0m should be set on \u001b[32m'Uncertainty\u001b[0m\u001b[32m(\u001b[0m\u001b[32muncertainty1, \u001b[0m\u001b[32m[\u001b[0m\u001b[32m(\u001b[0m\u001b[32m<\u001b[0m\u001b[32mBQB.IS:\u001b[0m\u001b[32m '\u001b[0m\u001b[39mBQB_IS'\u001b[0m\u001b[1m>\u001b[0m,                 \u001b]8;id=159142;file:///home/mkoenig/git/sbmlutils/src/sbmlutils/factory.py\u001b\\\u001b[2mfactory.py\u001b[0m\u001b]8;;\u001b\\\u001b[2m:\u001b[0m\u001b]8;id=866594;file:///home/mkoenig/git/sbmlutils/src/sbmlutils/factory.py#466\u001b\\\u001b[2m466\u001b[0m\u001b]8;;\u001b\\\n",
       "         \u001b[32m'sabiork.kineticrecord/793'\u001b[0m\u001b[1m)\u001b[0m, \u001b[1m(\u001b[0m\u001b[1m<\u001b[0m\u001b[1;95mBQB.HAS_TAXON:\u001b[0m\u001b[39m \u001b[0m\u001b[32m'BQB_HAS_TAXON'\u001b[0m\u001b[1m>\u001b[0m, \u001b[32m'taxonomy/9606'\u001b[0m\u001b[1m)\u001b[0m,          \u001b[2m              \u001b[0m\n",
       "         \u001b[1m(\u001b[0m\u001b[1m<\u001b[0m\u001b[1;95mBQB.IS:\u001b[0m\u001b[39m \u001b[0m\u001b[32m'BQB_IS'\u001b[0m\u001b[1m>\u001b[0m, \u001b[32m'ec-code/2.7.1.2'\u001b[0m\u001b[1m)\u001b[0m, \u001b[1m(\u001b[0m\u001b[1m<\u001b[0m\u001b[1;95mBQB.IS:\u001b[0m\u001b[39m \u001b[0m\u001b[32m'BQB_IS'\u001b[0m\u001b[1m>\u001b[0m, \u001b[32m'uniprot/P35557'\u001b[0m\u001b[1m)\u001b[0m, \u001b[1m(\u001b[0m\u001b[1m<\u001b[0m\u001b[1;95mBQB.IS:\u001b[0m\u001b[39m \u001b[0m \u001b[2m              \u001b[0m\n",
       "         \u001b[32m'BQB_IS'\u001b[0m\u001b[1m>\u001b[0m, \u001b[32m'bto/BTO:0000075'\u001b[0m\u001b[1m)\u001b[0m\u001b[1m]\u001b[0m\u001b[1m)\u001b[0m'                                                            \u001b[2m              \u001b[0m\n"
      ]
     },
     "metadata": {},
     "output_type": "display_data"
    },
    {
     "data": {
      "text/html": [
       "<pre style=\"white-space:pre;overflow-x:auto;line-height:normal;font-family:Menlo,'DejaVu Sans Mono',consolas,'Courier New',monospace\"><span style=\"color: #800000; text-decoration-color: #800000\">WARNING </span> <span style=\"color: #008000; text-decoration-color: #008000\">'name'</span> should be set on <span style=\"color: #008000; text-decoration-color: #008000\">'Uncertainty(uncertainty2, [(&lt;BQB.IS: '</span><span style=\"color: #000000; text-decoration-color: #000000\">BQB_IS'</span><span style=\"font-weight: bold\">&gt;</span>,                    <a href=\"file:///home/mkoenig/git/sbmlutils/src/sbmlutils/factory.py\" target=\"_blank\"><span style=\"color: #7f7f7f; text-decoration-color: #7f7f7f\">factory.py</span></a><span style=\"color: #7f7f7f; text-decoration-color: #7f7f7f\">:</span><a href=\"file:///home/mkoenig/git/sbmlutils/src/sbmlutils/factory.py#441\" target=\"_blank\"><span style=\"color: #7f7f7f; text-decoration-color: #7f7f7f\">441</span></a>\n",
       "         <span style=\"color: #008000; text-decoration-color: #008000\">'sabiork.kineticrecord/2581'</span><span style=\"font-weight: bold\">)</span>, <span style=\"font-weight: bold\">(&lt;</span><span style=\"color: #ff00ff; text-decoration-color: #ff00ff; font-weight: bold\">BQB.HAS_TAXON:</span><span style=\"color: #000000; text-decoration-color: #000000\"> </span><span style=\"color: #008000; text-decoration-color: #008000\">'BQB_HAS_TAXON'</span><span style=\"font-weight: bold\">&gt;</span>, <span style=\"color: #008000; text-decoration-color: #008000\">'taxonomy/9606'</span><span style=\"font-weight: bold\">)</span>,         <span style=\"color: #7f7f7f; text-decoration-color: #7f7f7f\">              </span>\n",
       "         <span style=\"font-weight: bold\">(&lt;</span><span style=\"color: #ff00ff; text-decoration-color: #ff00ff; font-weight: bold\">BQB.IS:</span><span style=\"color: #000000; text-decoration-color: #000000\"> </span><span style=\"color: #008000; text-decoration-color: #008000\">'BQB_IS'</span><span style=\"font-weight: bold\">&gt;</span>, <span style=\"color: #008000; text-decoration-color: #008000\">'ec-code/2.7.1.2'</span><span style=\"font-weight: bold\">)</span>, <span style=\"font-weight: bold\">(&lt;</span><span style=\"color: #ff00ff; text-decoration-color: #ff00ff; font-weight: bold\">BQB.IS:</span><span style=\"color: #000000; text-decoration-color: #000000\"> </span><span style=\"color: #008000; text-decoration-color: #008000\">'BQB_IS'</span><span style=\"font-weight: bold\">&gt;</span>, <span style=\"color: #008000; text-decoration-color: #008000\">'uniprot/P35557'</span><span style=\"font-weight: bold\">)</span>, <span style=\"font-weight: bold\">(&lt;</span><span style=\"color: #ff00ff; text-decoration-color: #ff00ff; font-weight: bold\">BQB.IS:</span><span style=\"color: #000000; text-decoration-color: #000000\"> </span> <span style=\"color: #7f7f7f; text-decoration-color: #7f7f7f\">              </span>\n",
       "         <span style=\"color: #008000; text-decoration-color: #008000\">'BQB_IS'</span><span style=\"font-weight: bold\">&gt;</span>, <span style=\"color: #008000; text-decoration-color: #008000\">'bto/BTO:0000075'</span><span style=\"font-weight: bold\">)])</span>'                                                            <span style=\"color: #7f7f7f; text-decoration-color: #7f7f7f\">              </span>\n",
       "</pre>\n"
      ],
      "text/plain": [
       "\u001b[31mWARNING \u001b[0m \u001b[32m'name'\u001b[0m should be set on \u001b[32m'Uncertainty\u001b[0m\u001b[32m(\u001b[0m\u001b[32muncertainty2, \u001b[0m\u001b[32m[\u001b[0m\u001b[32m(\u001b[0m\u001b[32m<\u001b[0m\u001b[32mBQB.IS:\u001b[0m\u001b[32m '\u001b[0m\u001b[39mBQB_IS'\u001b[0m\u001b[1m>\u001b[0m,                    \u001b]8;id=682406;file:///home/mkoenig/git/sbmlutils/src/sbmlutils/factory.py\u001b\\\u001b[2mfactory.py\u001b[0m\u001b]8;;\u001b\\\u001b[2m:\u001b[0m\u001b]8;id=85481;file:///home/mkoenig/git/sbmlutils/src/sbmlutils/factory.py#441\u001b\\\u001b[2m441\u001b[0m\u001b]8;;\u001b\\\n",
       "         \u001b[32m'sabiork.kineticrecord/2581'\u001b[0m\u001b[1m)\u001b[0m, \u001b[1m(\u001b[0m\u001b[1m<\u001b[0m\u001b[1;95mBQB.HAS_TAXON:\u001b[0m\u001b[39m \u001b[0m\u001b[32m'BQB_HAS_TAXON'\u001b[0m\u001b[1m>\u001b[0m, \u001b[32m'taxonomy/9606'\u001b[0m\u001b[1m)\u001b[0m,         \u001b[2m              \u001b[0m\n",
       "         \u001b[1m(\u001b[0m\u001b[1m<\u001b[0m\u001b[1;95mBQB.IS:\u001b[0m\u001b[39m \u001b[0m\u001b[32m'BQB_IS'\u001b[0m\u001b[1m>\u001b[0m, \u001b[32m'ec-code/2.7.1.2'\u001b[0m\u001b[1m)\u001b[0m, \u001b[1m(\u001b[0m\u001b[1m<\u001b[0m\u001b[1;95mBQB.IS:\u001b[0m\u001b[39m \u001b[0m\u001b[32m'BQB_IS'\u001b[0m\u001b[1m>\u001b[0m, \u001b[32m'uniprot/P35557'\u001b[0m\u001b[1m)\u001b[0m, \u001b[1m(\u001b[0m\u001b[1m<\u001b[0m\u001b[1;95mBQB.IS:\u001b[0m\u001b[39m \u001b[0m \u001b[2m              \u001b[0m\n",
       "         \u001b[32m'BQB_IS'\u001b[0m\u001b[1m>\u001b[0m, \u001b[32m'bto/BTO:0000075'\u001b[0m\u001b[1m)\u001b[0m\u001b[1m]\u001b[0m\u001b[1m)\u001b[0m'                                                            \u001b[2m              \u001b[0m\n"
      ]
     },
     "metadata": {},
     "output_type": "display_data"
    },
    {
     "data": {
      "text/html": [
       "<pre style=\"white-space:pre;overflow-x:auto;line-height:normal;font-family:Menlo,'DejaVu Sans Mono',consolas,'Courier New',monospace\"><span style=\"color: #800000; text-decoration-color: #800000\">WARNING </span> <span style=\"color: #008000; text-decoration-color: #008000\">'sboTerm'</span> should be set on <span style=\"color: #008000; text-decoration-color: #008000\">'Uncertainty(uncertainty2, [(&lt;BQB.IS: '</span><span style=\"color: #000000; text-decoration-color: #000000\">BQB_IS'</span><span style=\"font-weight: bold\">&gt;</span>,                 <a href=\"file:///home/mkoenig/git/sbmlutils/src/sbmlutils/factory.py\" target=\"_blank\"><span style=\"color: #7f7f7f; text-decoration-color: #7f7f7f\">factory.py</span></a><span style=\"color: #7f7f7f; text-decoration-color: #7f7f7f\">:</span><a href=\"file:///home/mkoenig/git/sbmlutils/src/sbmlutils/factory.py#466\" target=\"_blank\"><span style=\"color: #7f7f7f; text-decoration-color: #7f7f7f\">466</span></a>\n",
       "         <span style=\"color: #008000; text-decoration-color: #008000\">'sabiork.kineticrecord/2581'</span><span style=\"font-weight: bold\">)</span>, <span style=\"font-weight: bold\">(&lt;</span><span style=\"color: #ff00ff; text-decoration-color: #ff00ff; font-weight: bold\">BQB.HAS_TAXON:</span><span style=\"color: #000000; text-decoration-color: #000000\"> </span><span style=\"color: #008000; text-decoration-color: #008000\">'BQB_HAS_TAXON'</span><span style=\"font-weight: bold\">&gt;</span>, <span style=\"color: #008000; text-decoration-color: #008000\">'taxonomy/9606'</span><span style=\"font-weight: bold\">)</span>,         <span style=\"color: #7f7f7f; text-decoration-color: #7f7f7f\">              </span>\n",
       "         <span style=\"font-weight: bold\">(&lt;</span><span style=\"color: #ff00ff; text-decoration-color: #ff00ff; font-weight: bold\">BQB.IS:</span><span style=\"color: #000000; text-decoration-color: #000000\"> </span><span style=\"color: #008000; text-decoration-color: #008000\">'BQB_IS'</span><span style=\"font-weight: bold\">&gt;</span>, <span style=\"color: #008000; text-decoration-color: #008000\">'ec-code/2.7.1.2'</span><span style=\"font-weight: bold\">)</span>, <span style=\"font-weight: bold\">(&lt;</span><span style=\"color: #ff00ff; text-decoration-color: #ff00ff; font-weight: bold\">BQB.IS:</span><span style=\"color: #000000; text-decoration-color: #000000\"> </span><span style=\"color: #008000; text-decoration-color: #008000\">'BQB_IS'</span><span style=\"font-weight: bold\">&gt;</span>, <span style=\"color: #008000; text-decoration-color: #008000\">'uniprot/P35557'</span><span style=\"font-weight: bold\">)</span>, <span style=\"font-weight: bold\">(&lt;</span><span style=\"color: #ff00ff; text-decoration-color: #ff00ff; font-weight: bold\">BQB.IS:</span><span style=\"color: #000000; text-decoration-color: #000000\"> </span> <span style=\"color: #7f7f7f; text-decoration-color: #7f7f7f\">              </span>\n",
       "         <span style=\"color: #008000; text-decoration-color: #008000\">'BQB_IS'</span><span style=\"font-weight: bold\">&gt;</span>, <span style=\"color: #008000; text-decoration-color: #008000\">'bto/BTO:0000075'</span><span style=\"font-weight: bold\">)])</span>'                                                            <span style=\"color: #7f7f7f; text-decoration-color: #7f7f7f\">              </span>\n",
       "</pre>\n"
      ],
      "text/plain": [
       "\u001b[31mWARNING \u001b[0m \u001b[32m'sboTerm'\u001b[0m should be set on \u001b[32m'Uncertainty\u001b[0m\u001b[32m(\u001b[0m\u001b[32muncertainty2, \u001b[0m\u001b[32m[\u001b[0m\u001b[32m(\u001b[0m\u001b[32m<\u001b[0m\u001b[32mBQB.IS:\u001b[0m\u001b[32m '\u001b[0m\u001b[39mBQB_IS'\u001b[0m\u001b[1m>\u001b[0m,                 \u001b]8;id=259255;file:///home/mkoenig/git/sbmlutils/src/sbmlutils/factory.py\u001b\\\u001b[2mfactory.py\u001b[0m\u001b]8;;\u001b\\\u001b[2m:\u001b[0m\u001b]8;id=82321;file:///home/mkoenig/git/sbmlutils/src/sbmlutils/factory.py#466\u001b\\\u001b[2m466\u001b[0m\u001b]8;;\u001b\\\n",
       "         \u001b[32m'sabiork.kineticrecord/2581'\u001b[0m\u001b[1m)\u001b[0m, \u001b[1m(\u001b[0m\u001b[1m<\u001b[0m\u001b[1;95mBQB.HAS_TAXON:\u001b[0m\u001b[39m \u001b[0m\u001b[32m'BQB_HAS_TAXON'\u001b[0m\u001b[1m>\u001b[0m, \u001b[32m'taxonomy/9606'\u001b[0m\u001b[1m)\u001b[0m,         \u001b[2m              \u001b[0m\n",
       "         \u001b[1m(\u001b[0m\u001b[1m<\u001b[0m\u001b[1;95mBQB.IS:\u001b[0m\u001b[39m \u001b[0m\u001b[32m'BQB_IS'\u001b[0m\u001b[1m>\u001b[0m, \u001b[32m'ec-code/2.7.1.2'\u001b[0m\u001b[1m)\u001b[0m, \u001b[1m(\u001b[0m\u001b[1m<\u001b[0m\u001b[1;95mBQB.IS:\u001b[0m\u001b[39m \u001b[0m\u001b[32m'BQB_IS'\u001b[0m\u001b[1m>\u001b[0m, \u001b[32m'uniprot/P35557'\u001b[0m\u001b[1m)\u001b[0m, \u001b[1m(\u001b[0m\u001b[1m<\u001b[0m\u001b[1;95mBQB.IS:\u001b[0m\u001b[39m \u001b[0m \u001b[2m              \u001b[0m\n",
       "         \u001b[32m'BQB_IS'\u001b[0m\u001b[1m>\u001b[0m, \u001b[32m'bto/BTO:0000075'\u001b[0m\u001b[1m)\u001b[0m\u001b[1m]\u001b[0m\u001b[1m)\u001b[0m'                                                            \u001b[2m              \u001b[0m\n"
      ]
     },
     "metadata": {},
     "output_type": "display_data"
    },
    {
     "data": {
      "text/html": [
       "<style type=\"text/css\">pre { line-height: 125%; }\n",
       "td.linenos .normal { color: inherit; background-color: transparent; padding-left: 5px; padding-right: 5px; }\n",
       "span.linenos { color: inherit; background-color: transparent; padding-left: 5px; padding-right: 5px; }\n",
       "td.linenos .special { color: #000000; background-color: #ffffc0; padding-left: 5px; padding-right: 5px; }\n",
       "span.linenos.special { color: #000000; background-color: #ffffc0; padding-left: 5px; padding-right: 5px; }\n",
       ".highlight .hll { background-color: #ffffcc }\n",
       ".highlight { background: #f8f8f8; }\n",
       ".highlight .c { color: #3D7B7B; font-style: italic } /* Comment */\n",
       ".highlight .err { border: 1px solid #FF0000 } /* Error */\n",
       ".highlight .k { color: #008000; font-weight: bold } /* Keyword */\n",
       ".highlight .o { color: #666666 } /* Operator */\n",
       ".highlight .ch { color: #3D7B7B; font-style: italic } /* Comment.Hashbang */\n",
       ".highlight .cm { color: #3D7B7B; font-style: italic } /* Comment.Multiline */\n",
       ".highlight .cp { color: #9C6500 } /* Comment.Preproc */\n",
       ".highlight .cpf { color: #3D7B7B; font-style: italic } /* Comment.PreprocFile */\n",
       ".highlight .c1 { color: #3D7B7B; font-style: italic } /* Comment.Single */\n",
       ".highlight .cs { color: #3D7B7B; font-style: italic } /* Comment.Special */\n",
       ".highlight .gd { color: #A00000 } /* Generic.Deleted */\n",
       ".highlight .ge { font-style: italic } /* Generic.Emph */\n",
       ".highlight .gr { color: #E40000 } /* Generic.Error */\n",
       ".highlight .gh { color: #000080; font-weight: bold } /* Generic.Heading */\n",
       ".highlight .gi { color: #008400 } /* Generic.Inserted */\n",
       ".highlight .go { color: #717171 } /* Generic.Output */\n",
       ".highlight .gp { color: #000080; font-weight: bold } /* Generic.Prompt */\n",
       ".highlight .gs { font-weight: bold } /* Generic.Strong */\n",
       ".highlight .gu { color: #800080; font-weight: bold } /* Generic.Subheading */\n",
       ".highlight .gt { color: #0044DD } /* Generic.Traceback */\n",
       ".highlight .kc { color: #008000; font-weight: bold } /* Keyword.Constant */\n",
       ".highlight .kd { color: #008000; font-weight: bold } /* Keyword.Declaration */\n",
       ".highlight .kn { color: #008000; font-weight: bold } /* Keyword.Namespace */\n",
       ".highlight .kp { color: #008000 } /* Keyword.Pseudo */\n",
       ".highlight .kr { color: #008000; font-weight: bold } /* Keyword.Reserved */\n",
       ".highlight .kt { color: #B00040 } /* Keyword.Type */\n",
       ".highlight .m { color: #666666 } /* Literal.Number */\n",
       ".highlight .s { color: #BA2121 } /* Literal.String */\n",
       ".highlight .na { color: #687822 } /* Name.Attribute */\n",
       ".highlight .nb { color: #008000 } /* Name.Builtin */\n",
       ".highlight .nc { color: #0000FF; font-weight: bold } /* Name.Class */\n",
       ".highlight .no { color: #880000 } /* Name.Constant */\n",
       ".highlight .nd { color: #AA22FF } /* Name.Decorator */\n",
       ".highlight .ni { color: #717171; font-weight: bold } /* Name.Entity */\n",
       ".highlight .ne { color: #CB3F38; font-weight: bold } /* Name.Exception */\n",
       ".highlight .nf { color: #0000FF } /* Name.Function */\n",
       ".highlight .nl { color: #767600 } /* Name.Label */\n",
       ".highlight .nn { color: #0000FF; font-weight: bold } /* Name.Namespace */\n",
       ".highlight .nt { color: #008000; font-weight: bold } /* Name.Tag */\n",
       ".highlight .nv { color: #19177C } /* Name.Variable */\n",
       ".highlight .ow { color: #AA22FF; font-weight: bold } /* Operator.Word */\n",
       ".highlight .w { color: #bbbbbb } /* Text.Whitespace */\n",
       ".highlight .mb { color: #666666 } /* Literal.Number.Bin */\n",
       ".highlight .mf { color: #666666 } /* Literal.Number.Float */\n",
       ".highlight .mh { color: #666666 } /* Literal.Number.Hex */\n",
       ".highlight .mi { color: #666666 } /* Literal.Number.Integer */\n",
       ".highlight .mo { color: #666666 } /* Literal.Number.Oct */\n",
       ".highlight .sa { color: #BA2121 } /* Literal.String.Affix */\n",
       ".highlight .sb { color: #BA2121 } /* Literal.String.Backtick */\n",
       ".highlight .sc { color: #BA2121 } /* Literal.String.Char */\n",
       ".highlight .dl { color: #BA2121 } /* Literal.String.Delimiter */\n",
       ".highlight .sd { color: #BA2121; font-style: italic } /* Literal.String.Doc */\n",
       ".highlight .s2 { color: #BA2121 } /* Literal.String.Double */\n",
       ".highlight .se { color: #AA5D1F; font-weight: bold } /* Literal.String.Escape */\n",
       ".highlight .sh { color: #BA2121 } /* Literal.String.Heredoc */\n",
       ".highlight .si { color: #A45A77; font-weight: bold } /* Literal.String.Interpol */\n",
       ".highlight .sx { color: #008000 } /* Literal.String.Other */\n",
       ".highlight .sr { color: #A45A77 } /* Literal.String.Regex */\n",
       ".highlight .s1 { color: #BA2121 } /* Literal.String.Single */\n",
       ".highlight .ss { color: #19177C } /* Literal.String.Symbol */\n",
       ".highlight .bp { color: #008000 } /* Name.Builtin.Pseudo */\n",
       ".highlight .fm { color: #0000FF } /* Name.Function.Magic */\n",
       ".highlight .vc { color: #19177C } /* Name.Variable.Class */\n",
       ".highlight .vg { color: #19177C } /* Name.Variable.Global */\n",
       ".highlight .vi { color: #19177C } /* Name.Variable.Instance */\n",
       ".highlight .vm { color: #19177C } /* Name.Variable.Magic */\n",
       ".highlight .il { color: #666666 } /* Literal.Number.Integer.Long */</style>    <div class=\"highlight\"><pre><span></span><span class=\"cp\">&lt;?xml version=&quot;1.0&quot; encoding=&quot;UTF-8&quot;?&gt;</span>\n",
       "<span class=\"nt\">&lt;sbml</span> <span class=\"na\">xmlns=</span><span class=\"s\">&quot;http://www.sbml.org/sbml/level3/version1/core&quot;</span> <span class=\"na\">xmlns:distrib=</span><span class=\"s\">&quot;http://www.sbml.org/sbml/level3/version1/distrib/version1&quot;</span> <span class=\"na\">xmlns:comp=</span><span class=\"s\">&quot;http://www.sbml.org/sbml/level3/version1/comp/version1&quot;</span> <span class=\"na\">level=</span><span class=\"s\">&quot;3&quot;</span> <span class=\"na\">version=</span><span class=\"s\">&quot;1&quot;</span> <span class=\"na\">distrib:required=</span><span class=\"s\">&quot;true&quot;</span> <span class=\"na\">comp:required=</span><span class=\"s\">&quot;true&quot;</span><span class=\"nt\">&gt;</span>\n",
       "  <span class=\"nt\">&lt;notes&gt;</span>\n",
       "    <span class=\"nt\">&lt;body</span> <span class=\"na\">xmlns=</span><span class=\"s\">&quot;http://www.w3.org/1999/xhtml&quot;</span><span class=\"nt\">&gt;</span>\n",
       "      <span class=\"nt\">&lt;p&gt;</span>Created with <span class=\"nt\">&lt;a</span> <span class=\"na\">href=</span><span class=\"s\">&quot;https://github.com/matthiaskoenig/sbmlutils&quot;</span><span class=\"nt\">&gt;</span>https://github.com/matthiaskoenig/sbmlutils<span class=\"nt\">&lt;/a&gt;</span>.\n",
       "<span class=\"nt\">&lt;a</span> <span class=\"na\">href=</span><span class=\"s\">&quot;https://doi.org/10.5281/zenodo.5525390&quot;</span><span class=\"nt\">&gt;</span>\n",
       "        <span class=\"nt\">&lt;img</span> <span class=\"na\">src=</span><span class=\"s\">&quot;https://zenodo.org/badge/DOI/10.5281/zenodo.5525390.svg&quot;</span> <span class=\"na\">alt=</span><span class=\"s\">&quot;DOI&quot;</span><span class=\"nt\">/&gt;&lt;/a&gt;&lt;/p&gt;</span>\n",
       "      <span class=\"nt\">&lt;/body&gt;</span>\n",
       "    <span class=\"nt\">&lt;/notes&gt;</span>\n",
       "  <span class=\"nt\">&lt;model</span> <span class=\"na\">id=</span><span class=\"s\">&quot;sabiork_parameter&quot;</span> <span class=\"na\">substanceUnits=</span><span class=\"s\">&quot;mole&quot;</span> <span class=\"na\">timeUnits=</span><span class=\"s\">&quot;hr&quot;</span> <span class=\"na\">volumeUnits=</span><span class=\"s\">&quot;litre&quot;</span> <span class=\"na\">areaUnits=</span><span class=\"s\">&quot;m2&quot;</span> <span class=\"na\">lengthUnits=</span><span class=\"s\">&quot;metre&quot;</span> <span class=\"na\">extentUnits=</span><span class=\"s\">&quot;mole&quot;</span><span class=\"nt\">&gt;</span>\n",
       "    <span class=\"nt\">&lt;listOfUnitDefinitions&gt;</span>\n",
       "      <span class=\"nt\">&lt;unitDefinition</span> <span class=\"na\">id=</span><span class=\"s\">&quot;hr&quot;</span> <span class=\"na\">name=</span><span class=\"s\">&quot;hr&quot;</span><span class=\"nt\">&gt;</span>\n",
       "        <span class=\"nt\">&lt;listOfUnits&gt;</span>\n",
       "          <span class=\"nt\">&lt;unit</span> <span class=\"na\">kind=</span><span class=\"s\">&quot;second&quot;</span> <span class=\"na\">exponent=</span><span class=\"s\">&quot;1&quot;</span> <span class=\"na\">scale=</span><span class=\"s\">&quot;0&quot;</span> <span class=\"na\">multiplier=</span><span class=\"s\">&quot;3600&quot;</span><span class=\"nt\">/&gt;</span>\n",
       "        <span class=\"nt\">&lt;/listOfUnits&gt;</span>\n",
       "      <span class=\"nt\">&lt;/unitDefinition&gt;</span>\n",
       "      <span class=\"nt\">&lt;unitDefinition</span> <span class=\"na\">id=</span><span class=\"s\">&quot;m2&quot;</span> <span class=\"na\">name=</span><span class=\"s\">&quot;meter^2&quot;</span><span class=\"nt\">&gt;</span>\n",
       "        <span class=\"nt\">&lt;listOfUnits&gt;</span>\n",
       "          <span class=\"nt\">&lt;unit</span> <span class=\"na\">kind=</span><span class=\"s\">&quot;metre&quot;</span> <span class=\"na\">exponent=</span><span class=\"s\">&quot;2&quot;</span> <span class=\"na\">scale=</span><span class=\"s\">&quot;0&quot;</span> <span class=\"na\">multiplier=</span><span class=\"s\">&quot;1&quot;</span><span class=\"nt\">/&gt;</span>\n",
       "        <span class=\"nt\">&lt;/listOfUnits&gt;</span>\n",
       "      <span class=\"nt\">&lt;/unitDefinition&gt;</span>\n",
       "      <span class=\"nt\">&lt;unitDefinition</span> <span class=\"na\">id=</span><span class=\"s\">&quot;mM&quot;</span> <span class=\"na\">name=</span><span class=\"s\">&quot;mmole/liter&quot;</span><span class=\"nt\">&gt;</span>\n",
       "        <span class=\"nt\">&lt;listOfUnits&gt;</span>\n",
       "          <span class=\"nt\">&lt;unit</span> <span class=\"na\">kind=</span><span class=\"s\">&quot;mole&quot;</span> <span class=\"na\">exponent=</span><span class=\"s\">&quot;1&quot;</span> <span class=\"na\">scale=</span><span class=\"s\">&quot;0&quot;</span> <span class=\"na\">multiplier=</span><span class=\"s\">&quot;0.001&quot;</span><span class=\"nt\">/&gt;</span>\n",
       "          <span class=\"nt\">&lt;unit</span> <span class=\"na\">kind=</span><span class=\"s\">&quot;litre&quot;</span> <span class=\"na\">exponent=</span><span class=\"s\">&quot;-1&quot;</span> <span class=\"na\">scale=</span><span class=\"s\">&quot;0&quot;</span> <span class=\"na\">multiplier=</span><span class=\"s\">&quot;1&quot;</span><span class=\"nt\">/&gt;</span>\n",
       "        <span class=\"nt\">&lt;/listOfUnits&gt;</span>\n",
       "      <span class=\"nt\">&lt;/unitDefinition&gt;</span>\n",
       "    <span class=\"nt\">&lt;/listOfUnitDefinitions&gt;</span>\n",
       "    <span class=\"nt\">&lt;listOfParameters&gt;</span>\n",
       "      <span class=\"nt\">&lt;parameter</span> <span class=\"na\">metaid=</span><span class=\"s\">&quot;meta_Km_glc&quot;</span> <span class=\"na\">sboTerm=</span><span class=\"s\">&quot;SBO:0000027&quot;</span> <span class=\"na\">id=</span><span class=\"s\">&quot;Km_glc&quot;</span> <span class=\"na\">name=</span><span class=\"s\">&quot;Michelis-Menten constant glucose&quot;</span> <span class=\"na\">value=</span><span class=\"s\">&quot;5&quot;</span> <span class=\"na\">units=</span><span class=\"s\">&quot;mM&quot;</span> <span class=\"na\">constant=</span><span class=\"s\">&quot;true&quot;</span><span class=\"nt\">&gt;</span>\n",
       "        <span class=\"nt\">&lt;annotation&gt;</span>\n",
       "          <span class=\"nt\">&lt;rdf:RDF</span> <span class=\"na\">xmlns:rdf=</span><span class=\"s\">&quot;http://www.w3.org/1999/02/22-rdf-syntax-ns#&quot;</span> <span class=\"na\">xmlns:dcterms=</span><span class=\"s\">&quot;http://purl.org/dc/terms/&quot;</span> <span class=\"na\">xmlns:vCard=</span><span class=\"s\">&quot;http://www.w3.org/2001/vcard-rdf/3.0#&quot;</span> <span class=\"na\">xmlns:vCard4=</span><span class=\"s\">&quot;http://www.w3.org/2006/vcard/ns#&quot;</span> <span class=\"na\">xmlns:bqbiol=</span><span class=\"s\">&quot;http://biomodels.net/biology-qualifiers/&quot;</span> <span class=\"na\">xmlns:bqmodel=</span><span class=\"s\">&quot;http://biomodels.net/model-qualifiers/&quot;</span><span class=\"nt\">&gt;</span>\n",
       "            <span class=\"nt\">&lt;rdf:Description</span> <span class=\"na\">rdf:about=</span><span class=\"s\">&quot;#meta_Km_glc&quot;</span><span class=\"nt\">&gt;</span>\n",
       "              <span class=\"nt\">&lt;bqbiol:is&gt;</span>\n",
       "                <span class=\"nt\">&lt;rdf:Bag&gt;</span>\n",
       "                  <span class=\"nt\">&lt;rdf:li</span> <span class=\"na\">rdf:resource=</span><span class=\"s\">&quot;http://identifiers.org/SBO:0000027&quot;</span><span class=\"nt\">/&gt;</span>\n",
       "                <span class=\"nt\">&lt;/rdf:Bag&gt;</span>\n",
       "              <span class=\"nt\">&lt;/bqbiol:is&gt;</span>\n",
       "            <span class=\"nt\">&lt;/rdf:Description&gt;</span>\n",
       "          <span class=\"nt\">&lt;/rdf:RDF&gt;</span>\n",
       "        <span class=\"nt\">&lt;/annotation&gt;</span>\n",
       "        <span class=\"nt\">&lt;distrib:listOfUncertainties&gt;</span>\n",
       "          <span class=\"nt\">&lt;distrib:uncertainty</span> <span class=\"na\">metaid=</span><span class=\"s\">&quot;meta_uncertainty1&quot;</span> <span class=\"na\">distrib:id=</span><span class=\"s\">&quot;uncertainty1&quot;</span><span class=\"nt\">&gt;</span>\n",
       "            <span class=\"nt\">&lt;annotation&gt;</span>\n",
       "              <span class=\"nt\">&lt;rdf:RDF</span> <span class=\"na\">xmlns:rdf=</span><span class=\"s\">&quot;http://www.w3.org/1999/02/22-rdf-syntax-ns#&quot;</span> <span class=\"na\">xmlns:dcterms=</span><span class=\"s\">&quot;http://purl.org/dc/terms/&quot;</span> <span class=\"na\">xmlns:vCard=</span><span class=\"s\">&quot;http://www.w3.org/2001/vcard-rdf/3.0#&quot;</span> <span class=\"na\">xmlns:vCard4=</span><span class=\"s\">&quot;http://www.w3.org/2006/vcard/ns#&quot;</span> <span class=\"na\">xmlns:bqbiol=</span><span class=\"s\">&quot;http://biomodels.net/biology-qualifiers/&quot;</span> <span class=\"na\">xmlns:bqmodel=</span><span class=\"s\">&quot;http://biomodels.net/model-qualifiers/&quot;</span><span class=\"nt\">&gt;</span>\n",
       "                <span class=\"nt\">&lt;rdf:Description</span> <span class=\"na\">rdf:about=</span><span class=\"s\">&quot;#meta_uncertainty1&quot;</span><span class=\"nt\">&gt;</span>\n",
       "                  <span class=\"nt\">&lt;bqbiol:is&gt;</span>\n",
       "                    <span class=\"nt\">&lt;rdf:Bag&gt;</span>\n",
       "                      <span class=\"nt\">&lt;rdf:li</span> <span class=\"na\">rdf:resource=</span><span class=\"s\">&quot;http://identifiers.org/sabiork.kineticrecord/793&quot;</span><span class=\"nt\">/&gt;</span>\n",
       "                      <span class=\"nt\">&lt;rdf:li</span> <span class=\"na\">rdf:resource=</span><span class=\"s\">&quot;http://identifiers.org/ec-code/2.7.1.2&quot;</span><span class=\"nt\">/&gt;</span>\n",
       "                      <span class=\"nt\">&lt;rdf:li</span> <span class=\"na\">rdf:resource=</span><span class=\"s\">&quot;http://identifiers.org/uniprot/P35557&quot;</span><span class=\"nt\">/&gt;</span>\n",
       "                      <span class=\"nt\">&lt;rdf:li</span> <span class=\"na\">rdf:resource=</span><span class=\"s\">&quot;http://identifiers.org/BTO:0000075&quot;</span><span class=\"nt\">/&gt;</span>\n",
       "                    <span class=\"nt\">&lt;/rdf:Bag&gt;</span>\n",
       "                  <span class=\"nt\">&lt;/bqbiol:is&gt;</span>\n",
       "                  <span class=\"nt\">&lt;bqbiol:hasTaxon&gt;</span>\n",
       "                    <span class=\"nt\">&lt;rdf:Bag&gt;</span>\n",
       "                      <span class=\"nt\">&lt;rdf:li</span> <span class=\"na\">rdf:resource=</span><span class=\"s\">&quot;http://identifiers.org/taxonomy/9606&quot;</span><span class=\"nt\">/&gt;</span>\n",
       "                    <span class=\"nt\">&lt;/rdf:Bag&gt;</span>\n",
       "                  <span class=\"nt\">&lt;/bqbiol:hasTaxon&gt;</span>\n",
       "                <span class=\"nt\">&lt;/rdf:Description&gt;</span>\n",
       "              <span class=\"nt\">&lt;/rdf:RDF&gt;</span>\n",
       "            <span class=\"nt\">&lt;/annotation&gt;</span>\n",
       "            <span class=\"nt\">&lt;distrib:uncertParameter</span> <span class=\"na\">distrib:value=</span><span class=\"s\">&quot;5.07&quot;</span> <span class=\"na\">distrib:type=</span><span class=\"s\">&quot;mean&quot;</span><span class=\"nt\">/&gt;</span>\n",
       "            <span class=\"nt\">&lt;distrib:uncertParameter</span> <span class=\"na\">distrib:value=</span><span class=\"s\">&quot;0.97&quot;</span> <span class=\"na\">distrib:type=</span><span class=\"s\">&quot;standardDeviation&quot;</span><span class=\"nt\">/&gt;</span>\n",
       "          <span class=\"nt\">&lt;/distrib:uncertainty&gt;</span>\n",
       "          <span class=\"nt\">&lt;distrib:uncertainty</span> <span class=\"na\">metaid=</span><span class=\"s\">&quot;meta_uncertainty2&quot;</span> <span class=\"na\">distrib:id=</span><span class=\"s\">&quot;uncertainty2&quot;</span><span class=\"nt\">&gt;</span>\n",
       "            <span class=\"nt\">&lt;annotation&gt;</span>\n",
       "              <span class=\"nt\">&lt;rdf:RDF</span> <span class=\"na\">xmlns:rdf=</span><span class=\"s\">&quot;http://www.w3.org/1999/02/22-rdf-syntax-ns#&quot;</span> <span class=\"na\">xmlns:dcterms=</span><span class=\"s\">&quot;http://purl.org/dc/terms/&quot;</span> <span class=\"na\">xmlns:vCard=</span><span class=\"s\">&quot;http://www.w3.org/2001/vcard-rdf/3.0#&quot;</span> <span class=\"na\">xmlns:vCard4=</span><span class=\"s\">&quot;http://www.w3.org/2006/vcard/ns#&quot;</span> <span class=\"na\">xmlns:bqbiol=</span><span class=\"s\">&quot;http://biomodels.net/biology-qualifiers/&quot;</span> <span class=\"na\">xmlns:bqmodel=</span><span class=\"s\">&quot;http://biomodels.net/model-qualifiers/&quot;</span><span class=\"nt\">&gt;</span>\n",
       "                <span class=\"nt\">&lt;rdf:Description</span> <span class=\"na\">rdf:about=</span><span class=\"s\">&quot;#meta_uncertainty2&quot;</span><span class=\"nt\">&gt;</span>\n",
       "                  <span class=\"nt\">&lt;bqbiol:is&gt;</span>\n",
       "                    <span class=\"nt\">&lt;rdf:Bag&gt;</span>\n",
       "                      <span class=\"nt\">&lt;rdf:li</span> <span class=\"na\">rdf:resource=</span><span class=\"s\">&quot;http://identifiers.org/sabiork.kineticrecord/2581&quot;</span><span class=\"nt\">/&gt;</span>\n",
       "                      <span class=\"nt\">&lt;rdf:li</span> <span class=\"na\">rdf:resource=</span><span class=\"s\">&quot;http://identifiers.org/ec-code/2.7.1.2&quot;</span><span class=\"nt\">/&gt;</span>\n",
       "                      <span class=\"nt\">&lt;rdf:li</span> <span class=\"na\">rdf:resource=</span><span class=\"s\">&quot;http://identifiers.org/uniprot/P35557&quot;</span><span class=\"nt\">/&gt;</span>\n",
       "                      <span class=\"nt\">&lt;rdf:li</span> <span class=\"na\">rdf:resource=</span><span class=\"s\">&quot;http://identifiers.org/BTO:0000075&quot;</span><span class=\"nt\">/&gt;</span>\n",
       "                    <span class=\"nt\">&lt;/rdf:Bag&gt;</span>\n",
       "                  <span class=\"nt\">&lt;/bqbiol:is&gt;</span>\n",
       "                  <span class=\"nt\">&lt;bqbiol:hasTaxon&gt;</span>\n",
       "                    <span class=\"nt\">&lt;rdf:Bag&gt;</span>\n",
       "                      <span class=\"nt\">&lt;rdf:li</span> <span class=\"na\">rdf:resource=</span><span class=\"s\">&quot;http://identifiers.org/taxonomy/9606&quot;</span><span class=\"nt\">/&gt;</span>\n",
       "                    <span class=\"nt\">&lt;/rdf:Bag&gt;</span>\n",
       "                  <span class=\"nt\">&lt;/bqbiol:hasTaxon&gt;</span>\n",
       "                <span class=\"nt\">&lt;/rdf:Description&gt;</span>\n",
       "              <span class=\"nt\">&lt;/rdf:RDF&gt;</span>\n",
       "            <span class=\"nt\">&lt;/annotation&gt;</span>\n",
       "            <span class=\"nt\">&lt;distrib:uncertParameter</span> <span class=\"na\">distrib:value=</span><span class=\"s\">&quot;2.7&quot;</span> <span class=\"na\">distrib:type=</span><span class=\"s\">&quot;mean&quot;</span><span class=\"nt\">/&gt;</span>\n",
       "            <span class=\"nt\">&lt;distrib:uncertParameter</span> <span class=\"na\">distrib:value=</span><span class=\"s\">&quot;0.11&quot;</span> <span class=\"na\">distrib:type=</span><span class=\"s\">&quot;standardDeviation&quot;</span><span class=\"nt\">/&gt;</span>\n",
       "          <span class=\"nt\">&lt;/distrib:uncertainty&gt;</span>\n",
       "        <span class=\"nt\">&lt;/distrib:listOfUncertainties&gt;</span>\n",
       "      <span class=\"nt\">&lt;/parameter&gt;</span>\n",
       "    <span class=\"nt\">&lt;/listOfParameters&gt;</span>\n",
       "  <span class=\"nt\">&lt;/model&gt;</span>\n",
       "<span class=\"nt\">&lt;/sbml&gt;</span>\n",
       "</pre></div>\n"
      ]
     },
     "metadata": {},
     "output_type": "display_data"
    },
    {
     "data": {
      "text/html": [
       "<pre style=\"white-space:pre;overflow-x:auto;line-height:normal;font-family:Menlo,'DejaVu Sans Mono',consolas,'Courier New',monospace\">\n",
       "</pre>\n"
      ],
      "text/plain": [
       "\n"
      ]
     },
     "metadata": {},
     "output_type": "display_data"
    },
    {
     "data": {
      "text/html": [
       "<pre style=\"white-space:pre;overflow-x:auto;line-height:normal;font-family:Menlo,'DejaVu Sans Mono',consolas,'Courier New',monospace\"><span style=\"color: #008000; text-decoration-color: #008000\">────────────────────────────────────────────────── </span>Validate SBML<span style=\"color: #008000; text-decoration-color: #008000\"> ──────────────────────────────────────────────────</span>\n",
       "</pre>\n"
      ],
      "text/plain": [
       "\u001b[32m────────────────────────────────────────────────── \u001b[0mValidate SBML\u001b[32m ──────────────────────────────────────────────────\u001b[0m\n"
      ]
     },
     "metadata": {},
     "output_type": "display_data"
    },
    {
     "data": {
      "text/html": [
       "<pre style=\"white-space:pre;overflow-x:auto;line-height:normal;font-family:Menlo,'DejaVu Sans Mono',consolas,'Courier New',monospace\"><span style=\"color: #008000; text-decoration-color: #008000; font-weight: bold\">&lt;</span><span style=\"color: #ff00ff; text-decoration-color: #ff00ff; font-weight: bold\">SBMLDocument</span><span style=\"color: #008000; text-decoration-color: #008000; font-weight: bold\">&gt;</span>\n",
       "<span style=\"color: #008000; text-decoration-color: #008000\">valid                    : TRUE</span>\n",
       "<span style=\"color: #008000; text-decoration-color: #008000\">check time </span><span style=\"color: #008000; text-decoration-color: #008000; font-weight: bold\">(</span><span style=\"color: #008000; text-decoration-color: #008000\">s</span><span style=\"color: #008000; text-decoration-color: #008000; font-weight: bold\">)</span><span style=\"color: #008000; text-decoration-color: #008000\">           : </span><span style=\"color: #008080; text-decoration-color: #008080; font-weight: bold\">0.003</span>\n",
       "</pre>\n"
      ],
      "text/plain": [
       "\u001b[1;32m<\u001b[0m\u001b[1;95mSBMLDocument\u001b[0m\u001b[1;32m>\u001b[0m\n",
       "\u001b[32mvalid                    : TRUE\u001b[0m\n",
       "\u001b[32mcheck time \u001b[0m\u001b[1;32m(\u001b[0m\u001b[32ms\u001b[0m\u001b[1;32m)\u001b[0m\u001b[32m           : \u001b[0m\u001b[1;36m0.003\u001b[0m\n"
      ]
     },
     "metadata": {},
     "output_type": "display_data"
    },
    {
     "data": {
      "text/html": [
       "<pre style=\"white-space:pre;overflow-x:auto;line-height:normal;font-family:Menlo,'DejaVu Sans Mono',consolas,'Courier New',monospace\"><span style=\"color: #008000; text-decoration-color: #008000\">───────────────────────────────────────────────────────────────────────────────────────────────────────────────────</span>\n",
       "</pre>\n"
      ],
      "text/plain": [
       "\u001b[32m───────────────────────────────────────────────────────────────────────────────────────────────────────────────────\u001b[0m\n"
      ]
     },
     "metadata": {},
     "output_type": "display_data"
    },
    {
     "data": {
      "text/html": [
       "<pre style=\"white-space:pre;overflow-x:auto;line-height:normal;font-family:Menlo,'DejaVu Sans Mono',consolas,'Courier New',monospace\">\n",
       "</pre>\n"
      ],
      "text/plain": [
       "\n"
      ]
     },
     "metadata": {},
     "output_type": "display_data"
    }
   ],
   "source": [
    "import libsbml\n",
    "from sbmlutils.metadata import *\n",
    "\n",
    "class U(Units):\n",
    "    hr = UnitDefinition(\"hr\")\n",
    "    m2 = UnitDefinition(\"m2\", \"meter^2\")\n",
    "    mM = UnitDefinition(\"mM\", \"mmole/liter\")\n",
    "    \n",
    "\n",
    "md: ModelDict = {\n",
    "    'sid': 'sabiork_parameter',\n",
    "    'packages': [Package.DISTRIB_V1],\n",
    "    'units': U,\n",
    "    'model_units': ModelUnits(time=U.hr, extent=U.mole,\n",
    "                              substance=U.mole,\n",
    "                              length=U.meter, area=U.m2,\n",
    "                              volume=U.liter),\n",
    "    'parameters': [\n",
    "        Parameter(\n",
    "            sid=\"Km_glc\", name=\"Michelis-Menten constant glucose\",\n",
    "            value=5.0, unit=U.mM, sboTerm=SBO.MICHAELIS_CONSTANT,\n",
    "            uncertainties=[\n",
    "                Uncertainty(\n",
    "                  sid=\"uncertainty1\",\n",
    "                  uncertParameters=[\n",
    "                      UncertParameter(\n",
    "                          type=libsbml.DISTRIB_UNCERTTYPE_MEAN,\n",
    "                          value=5.07),\n",
    "                      UncertParameter(\n",
    "                          type=libsbml.DISTRIB_UNCERTTYPE_STANDARDDEVIATION,\n",
    "                          value=0.97),\n",
    "                  ], annotations=[\n",
    "                        (BQB.IS, \"sabiork.kineticrecord/793\"),  # entry in SABIO-RK\n",
    "                        (BQB.HAS_TAXON, \"taxonomy/9606\"),  # homo sapiens\n",
    "                        (BQB.IS, \"ec-code/2.7.1.2\"),  # glucokinase\n",
    "                        (BQB.IS, \"uniprot/P35557\"),  # Glucokinase homo sapiens\n",
    "                        (BQB.IS, \"bto/BTO:0000075\"),  # liver\n",
    "                    ]),\n",
    "                Uncertainty(\n",
    "                    sid=\"uncertainty2\",\n",
    "                    uncertParameters=[\n",
    "                        UncertParameter(\n",
    "                            type=libsbml.DISTRIB_UNCERTTYPE_MEAN,\n",
    "                            value=2.7),\n",
    "                        UncertParameter(\n",
    "                            type=libsbml.DISTRIB_UNCERTTYPE_STANDARDDEVIATION,\n",
    "                            value=0.11),\n",
    "                    ], annotations=[\n",
    "                        (BQB.IS, \"sabiork.kineticrecord/2581\"),\n",
    "                        # entry in SABIO-RK\n",
    "                        (BQB.HAS_TAXON, \"taxonomy/9606\"),  # homo sapiens\n",
    "                        (BQB.IS, \"ec-code/2.7.1.2\"),  # glucokinase\n",
    "                        (BQB.IS, \"uniprot/P35557\"),  # Glucokinase homo sapiens\n",
    "                        (BQB.IS, \"bto/BTO:0000075\"),  # liver\n",
    "                    ]),\n",
    "            ])\n",
    "    ]\n",
    "}\n",
    "\n",
    "# create model and print SBML\n",
    "doc = Document(Model(**md))\n",
    "print_xml(doc.get_sbml())\n",
    "\n",
    "# validate model\n",
    "validate_doc(doc.doc, options=ValidationOptions(units_consistency=False));"
   ]
  },
  {
   "cell_type": "code",
   "execution_count": null,
   "metadata": {},
   "outputs": [],
   "source": []
  }
 ],
 "metadata": {
  "kernelspec": {
   "display_name": "sbmlutils",
   "language": "python",
   "name": "sbmlutils"
  },
  "language_info": {
   "codemirror_mode": {
    "name": "ipython",
    "version": 3
   },
   "file_extension": ".py",
   "mimetype": "text/x-python",
   "name": "python",
   "nbconvert_exporter": "python",
   "pygments_lexer": "ipython3",
   "version": "3.9.16"
  }
 },
 "nbformat": 4,
 "nbformat_minor": 4
}
