{
 "cells": [
  {
   "cell_type": "markdown",
   "metadata": {},
   "source": [
    "## SBML Flux Balance Constraints (fbc)\n",
    "The following examples demonstrate the creation of SBML models with SBML fbc information."
   ]
  },
  {
   "cell_type": "code",
   "execution_count": 7,
   "metadata": {},
   "outputs": [
    {
     "name": "stdout",
     "output_type": "stream",
     "text": [
      "The autoreload extension is already loaded. To reload it, use:\n",
      "  %reload_ext autoreload\n"
     ]
    }
   ],
   "source": [
    "%load_ext autoreload\n",
    "%autoreload 2"
   ]
  },
  {
   "cell_type": "code",
   "execution_count": 8,
   "metadata": {},
   "outputs": [],
   "source": [
    "from rich.jupyter import print\n",
    "from notebook_utils import print_xml\n",
    "from sbmlutils.factory import *\n",
    "from sbmlutils.validation import validate_doc"
   ]
  },
  {
   "cell_type": "markdown",
   "metadata": {},
   "source": [
    "### Setting charge and formula on species\n",
    "The optional attribute `charge` refers to the Species objects charge (in terms of electrons, not the SI unit coulombs)."
   ]
  },
  {
   "cell_type": "code",
   "execution_count": 9,
   "metadata": {},
   "outputs": [
    {
     "data": {
      "text/html": [
       "<pre style=\"white-space:pre;overflow-x:auto;line-height:normal;font-family:Menlo,'DejaVu Sans Mono',consolas,'Courier New',monospace\"><span style=\"color: #000080; text-decoration-color: #000080\">INFO    </span> Create SBML for model <span style=\"color: #008000; text-decoration-color: #008000\">'fbc_charge_formula'</span>                           <a href=\"file:///home/mkoenig/git/sbmlutils/src/sbmlutils/factory.py\" target=\"_blank\"><span style=\"color: #7f7f7f; text-decoration-color: #7f7f7f\">factory.py</span></a><span style=\"color: #7f7f7f; text-decoration-color: #7f7f7f\">:</span><a href=\"file:///home/mkoenig/git/sbmlutils/src/sbmlutils/factory.py#2997\" target=\"_blank\"><span style=\"color: #7f7f7f; text-decoration-color: #7f7f7f\">2997</span></a>\n",
       "</pre>\n"
      ],
      "text/plain": [
       "\u001b[34mINFO    \u001b[0m Create SBML for model \u001b[32m'fbc_charge_formula'\u001b[0m                           \u001b]8;id=151168;file:///home/mkoenig/git/sbmlutils/src/sbmlutils/factory.py\u001b\\\u001b[2mfactory.py\u001b[0m\u001b]8;;\u001b\\\u001b[2m:\u001b[0m\u001b]8;id=748041;file:///home/mkoenig/git/sbmlutils/src/sbmlutils/factory.py#2997\u001b\\\u001b[2m2997\u001b[0m\u001b]8;;\u001b\\\n"
      ]
     },
     "metadata": {},
     "output_type": "display_data"
    },
    {
     "data": {
      "text/html": [
       "<pre style=\"white-space:pre;overflow-x:auto;line-height:normal;font-family:Menlo,'DejaVu Sans Mono',consolas,'Courier New',monospace\"><span style=\"color: #800000; text-decoration-color: #800000\">WARNING </span> <span style=\"color: #008000; text-decoration-color: #008000\">'name'</span> should be set on <span style=\"color: #008000; text-decoration-color: #008000\">'&lt;Model fbc_charge_formula&gt;'</span>                  <a href=\"file:///home/mkoenig/git/sbmlutils/src/sbmlutils/factory.py\" target=\"_blank\"><span style=\"color: #7f7f7f; text-decoration-color: #7f7f7f\">factory.py</span></a><span style=\"color: #7f7f7f; text-decoration-color: #7f7f7f\">:</span><a href=\"file:///home/mkoenig/git/sbmlutils/src/sbmlutils/factory.py#437\" target=\"_blank\"><span style=\"color: #7f7f7f; text-decoration-color: #7f7f7f\">437</span></a>\n",
       "</pre>\n"
      ],
      "text/plain": [
       "\u001b[31mWARNING \u001b[0m \u001b[32m'name'\u001b[0m should be set on \u001b[32m'\u001b[0m\u001b[32m<\u001b[0m\u001b[32mModel\u001b[0m\u001b[32m fbc_charge_formula\u001b[0m\u001b[32m>\u001b[0m\u001b[32m'\u001b[0m                  \u001b]8;id=959775;file:///home/mkoenig/git/sbmlutils/src/sbmlutils/factory.py\u001b\\\u001b[2mfactory.py\u001b[0m\u001b]8;;\u001b\\\u001b[2m:\u001b[0m\u001b]8;id=932755;file:///home/mkoenig/git/sbmlutils/src/sbmlutils/factory.py#437\u001b\\\u001b[2m437\u001b[0m\u001b]8;;\u001b\\\n"
      ]
     },
     "metadata": {},
     "output_type": "display_data"
    },
    {
     "data": {
      "text/html": [
       "<style type=\"text/css\">pre { line-height: 125%; }\n",
       "td.linenos .normal { color: inherit; background-color: transparent; padding-left: 5px; padding-right: 5px; }\n",
       "span.linenos { color: inherit; background-color: transparent; padding-left: 5px; padding-right: 5px; }\n",
       "td.linenos .special { color: #000000; background-color: #ffffc0; padding-left: 5px; padding-right: 5px; }\n",
       "span.linenos.special { color: #000000; background-color: #ffffc0; padding-left: 5px; padding-right: 5px; }\n",
       ".highlight .hll { background-color: #ffffcc }\n",
       ".highlight { background: #f8f8f8; }\n",
       ".highlight .c { color: #3D7B7B; font-style: italic } /* Comment */\n",
       ".highlight .err { border: 1px solid #FF0000 } /* Error */\n",
       ".highlight .k { color: #008000; font-weight: bold } /* Keyword */\n",
       ".highlight .o { color: #666666 } /* Operator */\n",
       ".highlight .ch { color: #3D7B7B; font-style: italic } /* Comment.Hashbang */\n",
       ".highlight .cm { color: #3D7B7B; font-style: italic } /* Comment.Multiline */\n",
       ".highlight .cp { color: #9C6500 } /* Comment.Preproc */\n",
       ".highlight .cpf { color: #3D7B7B; font-style: italic } /* Comment.PreprocFile */\n",
       ".highlight .c1 { color: #3D7B7B; font-style: italic } /* Comment.Single */\n",
       ".highlight .cs { color: #3D7B7B; font-style: italic } /* Comment.Special */\n",
       ".highlight .gd { color: #A00000 } /* Generic.Deleted */\n",
       ".highlight .ge { font-style: italic } /* Generic.Emph */\n",
       ".highlight .gr { color: #E40000 } /* Generic.Error */\n",
       ".highlight .gh { color: #000080; font-weight: bold } /* Generic.Heading */\n",
       ".highlight .gi { color: #008400 } /* Generic.Inserted */\n",
       ".highlight .go { color: #717171 } /* Generic.Output */\n",
       ".highlight .gp { color: #000080; font-weight: bold } /* Generic.Prompt */\n",
       ".highlight .gs { font-weight: bold } /* Generic.Strong */\n",
       ".highlight .gu { color: #800080; font-weight: bold } /* Generic.Subheading */\n",
       ".highlight .gt { color: #0044DD } /* Generic.Traceback */\n",
       ".highlight .kc { color: #008000; font-weight: bold } /* Keyword.Constant */\n",
       ".highlight .kd { color: #008000; font-weight: bold } /* Keyword.Declaration */\n",
       ".highlight .kn { color: #008000; font-weight: bold } /* Keyword.Namespace */\n",
       ".highlight .kp { color: #008000 } /* Keyword.Pseudo */\n",
       ".highlight .kr { color: #008000; font-weight: bold } /* Keyword.Reserved */\n",
       ".highlight .kt { color: #B00040 } /* Keyword.Type */\n",
       ".highlight .m { color: #666666 } /* Literal.Number */\n",
       ".highlight .s { color: #BA2121 } /* Literal.String */\n",
       ".highlight .na { color: #687822 } /* Name.Attribute */\n",
       ".highlight .nb { color: #008000 } /* Name.Builtin */\n",
       ".highlight .nc { color: #0000FF; font-weight: bold } /* Name.Class */\n",
       ".highlight .no { color: #880000 } /* Name.Constant */\n",
       ".highlight .nd { color: #AA22FF } /* Name.Decorator */\n",
       ".highlight .ni { color: #717171; font-weight: bold } /* Name.Entity */\n",
       ".highlight .ne { color: #CB3F38; font-weight: bold } /* Name.Exception */\n",
       ".highlight .nf { color: #0000FF } /* Name.Function */\n",
       ".highlight .nl { color: #767600 } /* Name.Label */\n",
       ".highlight .nn { color: #0000FF; font-weight: bold } /* Name.Namespace */\n",
       ".highlight .nt { color: #008000; font-weight: bold } /* Name.Tag */\n",
       ".highlight .nv { color: #19177C } /* Name.Variable */\n",
       ".highlight .ow { color: #AA22FF; font-weight: bold } /* Operator.Word */\n",
       ".highlight .w { color: #bbbbbb } /* Text.Whitespace */\n",
       ".highlight .mb { color: #666666 } /* Literal.Number.Bin */\n",
       ".highlight .mf { color: #666666 } /* Literal.Number.Float */\n",
       ".highlight .mh { color: #666666 } /* Literal.Number.Hex */\n",
       ".highlight .mi { color: #666666 } /* Literal.Number.Integer */\n",
       ".highlight .mo { color: #666666 } /* Literal.Number.Oct */\n",
       ".highlight .sa { color: #BA2121 } /* Literal.String.Affix */\n",
       ".highlight .sb { color: #BA2121 } /* Literal.String.Backtick */\n",
       ".highlight .sc { color: #BA2121 } /* Literal.String.Char */\n",
       ".highlight .dl { color: #BA2121 } /* Literal.String.Delimiter */\n",
       ".highlight .sd { color: #BA2121; font-style: italic } /* Literal.String.Doc */\n",
       ".highlight .s2 { color: #BA2121 } /* Literal.String.Double */\n",
       ".highlight .se { color: #AA5D1F; font-weight: bold } /* Literal.String.Escape */\n",
       ".highlight .sh { color: #BA2121 } /* Literal.String.Heredoc */\n",
       ".highlight .si { color: #A45A77; font-weight: bold } /* Literal.String.Interpol */\n",
       ".highlight .sx { color: #008000 } /* Literal.String.Other */\n",
       ".highlight .sr { color: #A45A77 } /* Literal.String.Regex */\n",
       ".highlight .s1 { color: #BA2121 } /* Literal.String.Single */\n",
       ".highlight .ss { color: #19177C } /* Literal.String.Symbol */\n",
       ".highlight .bp { color: #008000 } /* Name.Builtin.Pseudo */\n",
       ".highlight .fm { color: #0000FF } /* Name.Function.Magic */\n",
       ".highlight .vc { color: #19177C } /* Name.Variable.Class */\n",
       ".highlight .vg { color: #19177C } /* Name.Variable.Global */\n",
       ".highlight .vi { color: #19177C } /* Name.Variable.Instance */\n",
       ".highlight .vm { color: #19177C } /* Name.Variable.Magic */\n",
       ".highlight .il { color: #666666 } /* Literal.Number.Integer.Long */</style>    <div class=\"highlight\"><pre><span></span><span class=\"cp\">&lt;?xml version=&quot;1.0&quot; encoding=&quot;UTF-8&quot;?&gt;</span>\n",
       "<span class=\"nt\">&lt;sbml</span> <span class=\"na\">xmlns=</span><span class=\"s\">&quot;http://www.sbml.org/sbml/level3/version1/core&quot;</span> <span class=\"na\">xmlns:comp=</span><span class=\"s\">&quot;http://www.sbml.org/sbml/level3/version1/comp/version1&quot;</span> <span class=\"na\">xmlns:fbc=</span><span class=\"s\">&quot;http://www.sbml.org/sbml/level3/version1/fbc/version2&quot;</span> <span class=\"na\">level=</span><span class=\"s\">&quot;3&quot;</span> <span class=\"na\">version=</span><span class=\"s\">&quot;1&quot;</span> <span class=\"na\">comp:required=</span><span class=\"s\">&quot;true&quot;</span> <span class=\"na\">fbc:required=</span><span class=\"s\">&quot;false&quot;</span><span class=\"nt\">&gt;</span>\n",
       "  <span class=\"nt\">&lt;notes&gt;</span>\n",
       "    <span class=\"nt\">&lt;body</span> <span class=\"na\">xmlns=</span><span class=\"s\">&quot;http://www.w3.org/1999/xhtml&quot;</span><span class=\"nt\">&gt;</span>\n",
       "      <span class=\"nt\">&lt;p&gt;</span>Created with <span class=\"nt\">&lt;a</span> <span class=\"na\">href=</span><span class=\"s\">&quot;https://github.com/matthiaskoenig/sbmlutils&quot;</span><span class=\"nt\">&gt;</span>https://github.com/matthiaskoenig/sbmlutils<span class=\"nt\">&lt;/a&gt;</span>.\n",
       "<span class=\"nt\">&lt;a</span> <span class=\"na\">href=</span><span class=\"s\">&quot;https://doi.org/10.5281/zenodo.5525390&quot;</span><span class=\"nt\">&gt;</span>\n",
       "        <span class=\"nt\">&lt;img</span> <span class=\"na\">src=</span><span class=\"s\">&quot;https://zenodo.org/badge/DOI/10.5281/zenodo.5525390.svg&quot;</span> <span class=\"na\">alt=</span><span class=\"s\">&quot;DOI&quot;</span><span class=\"nt\">/&gt;&lt;/a&gt;&lt;/p&gt;</span>\n",
       "      <span class=\"nt\">&lt;/body&gt;</span>\n",
       "    <span class=\"nt\">&lt;/notes&gt;</span>\n",
       "  <span class=\"nt\">&lt;model</span> <span class=\"na\">id=</span><span class=\"s\">&quot;fbc_charge_formula&quot;</span> <span class=\"na\">substanceUnits=</span><span class=\"s\">&quot;mole&quot;</span> <span class=\"na\">timeUnits=</span><span class=\"s\">&quot;hr&quot;</span> <span class=\"na\">volumeUnits=</span><span class=\"s\">&quot;litre&quot;</span> <span class=\"na\">areaUnits=</span><span class=\"s\">&quot;m2&quot;</span> <span class=\"na\">lengthUnits=</span><span class=\"s\">&quot;metre&quot;</span> <span class=\"na\">extentUnits=</span><span class=\"s\">&quot;mole&quot;</span> <span class=\"na\">fbc:strict=</span><span class=\"s\">&quot;false&quot;</span><span class=\"nt\">&gt;</span>\n",
       "    <span class=\"nt\">&lt;listOfUnitDefinitions&gt;</span>\n",
       "      <span class=\"nt\">&lt;unitDefinition</span> <span class=\"na\">id=</span><span class=\"s\">&quot;hr&quot;</span> <span class=\"na\">name=</span><span class=\"s\">&quot;hr&quot;</span><span class=\"nt\">&gt;</span>\n",
       "        <span class=\"nt\">&lt;listOfUnits&gt;</span>\n",
       "          <span class=\"nt\">&lt;unit</span> <span class=\"na\">kind=</span><span class=\"s\">&quot;second&quot;</span> <span class=\"na\">exponent=</span><span class=\"s\">&quot;1&quot;</span> <span class=\"na\">scale=</span><span class=\"s\">&quot;0&quot;</span> <span class=\"na\">multiplier=</span><span class=\"s\">&quot;3600&quot;</span><span class=\"nt\">/&gt;</span>\n",
       "        <span class=\"nt\">&lt;/listOfUnits&gt;</span>\n",
       "      <span class=\"nt\">&lt;/unitDefinition&gt;</span>\n",
       "      <span class=\"nt\">&lt;unitDefinition</span> <span class=\"na\">id=</span><span class=\"s\">&quot;m2&quot;</span> <span class=\"na\">name=</span><span class=\"s\">&quot;meter^2&quot;</span><span class=\"nt\">&gt;</span>\n",
       "        <span class=\"nt\">&lt;listOfUnits&gt;</span>\n",
       "          <span class=\"nt\">&lt;unit</span> <span class=\"na\">kind=</span><span class=\"s\">&quot;metre&quot;</span> <span class=\"na\">exponent=</span><span class=\"s\">&quot;2&quot;</span> <span class=\"na\">scale=</span><span class=\"s\">&quot;0&quot;</span> <span class=\"na\">multiplier=</span><span class=\"s\">&quot;1&quot;</span><span class=\"nt\">/&gt;</span>\n",
       "        <span class=\"nt\">&lt;/listOfUnits&gt;</span>\n",
       "      <span class=\"nt\">&lt;/unitDefinition&gt;</span>\n",
       "      <span class=\"nt\">&lt;unitDefinition</span> <span class=\"na\">id=</span><span class=\"s\">&quot;mM&quot;</span> <span class=\"na\">name=</span><span class=\"s\">&quot;mmole/liter&quot;</span><span class=\"nt\">&gt;</span>\n",
       "        <span class=\"nt\">&lt;listOfUnits&gt;</span>\n",
       "          <span class=\"nt\">&lt;unit</span> <span class=\"na\">kind=</span><span class=\"s\">&quot;mole&quot;</span> <span class=\"na\">exponent=</span><span class=\"s\">&quot;1&quot;</span> <span class=\"na\">scale=</span><span class=\"s\">&quot;0&quot;</span> <span class=\"na\">multiplier=</span><span class=\"s\">&quot;0.001&quot;</span><span class=\"nt\">/&gt;</span>\n",
       "          <span class=\"nt\">&lt;unit</span> <span class=\"na\">kind=</span><span class=\"s\">&quot;litre&quot;</span> <span class=\"na\">exponent=</span><span class=\"s\">&quot;-1&quot;</span> <span class=\"na\">scale=</span><span class=\"s\">&quot;0&quot;</span> <span class=\"na\">multiplier=</span><span class=\"s\">&quot;1&quot;</span><span class=\"nt\">/&gt;</span>\n",
       "        <span class=\"nt\">&lt;/listOfUnits&gt;</span>\n",
       "      <span class=\"nt\">&lt;/unitDefinition&gt;</span>\n",
       "    <span class=\"nt\">&lt;/listOfUnitDefinitions&gt;</span>\n",
       "  <span class=\"nt\">&lt;/model&gt;</span>\n",
       "<span class=\"nt\">&lt;/sbml&gt;</span>\n",
       "</pre></div>\n"
      ]
     },
     "metadata": {},
     "output_type": "display_data"
    },
    {
     "ename": "TypeError",
     "evalue": "validate_doc() got an unexpected keyword argument 'units_consistency'",
     "output_type": "error",
     "traceback": [
      "\u001b[0;31m---------------------------------------------------------------------------\u001b[0m",
      "\u001b[0;31mTypeError\u001b[0m                                 Traceback (most recent call last)",
      "Input \u001b[0;32mIn [9]\u001b[0m, in \u001b[0;36m<cell line: 25>\u001b[0;34m()\u001b[0m\n\u001b[1;32m     22\u001b[0m print_xml(doc\u001b[38;5;241m.\u001b[39mget_sbml())\n\u001b[1;32m     24\u001b[0m \u001b[38;5;66;03m# validate model\u001b[39;00m\n\u001b[0;32m---> 25\u001b[0m \u001b[43mvalidate_doc\u001b[49m\u001b[43m(\u001b[49m\u001b[43mdoc\u001b[49m\u001b[38;5;241;43m.\u001b[39;49m\u001b[43mdoc\u001b[49m\u001b[43m,\u001b[49m\u001b[43m \u001b[49m\u001b[43munits_consistency\u001b[49m\u001b[38;5;241;43m=\u001b[39;49m\u001b[38;5;28;43;01mFalse\u001b[39;49;00m\u001b[43m)\u001b[49m\n",
      "\u001b[0;31mTypeError\u001b[0m: validate_doc() got an unexpected keyword argument 'units_consistency'"
     ]
    }
   ],
   "source": [
    "class U(Units):\n",
    "    \"\"\"UnitDefinitions.\"\"\"\n",
    "    hr = UnitDefinition(\"hr\")\n",
    "    m2 = UnitDefinition(\"m2\", \"meter^2\")\n",
    "    mM = UnitDefinition(\"mM\", \"mmole/liter\")\n",
    "\n",
    "# model definition    \n",
    "model = Model(\n",
    "    'fbc_charge_formula',\n",
    "    packages= ['fbc'],\n",
    "    units=U,\n",
    "    model_units= ModelUnits(\n",
    "        time=U.hr, extent=U.mole, substance=U.mole,\n",
    "        length=U.meter, area=U.m2, volume=U.liter),\n",
    "    species=[\n",
    "        \n",
    "    ]\n",
    ")\n",
    "\n",
    "# create model and print SBML\n",
    "doc = Document(model)\n",
    "print_xml(doc.get_sbml())\n",
    "\n",
    "# validate model\n",
    "validate_doc(doc.doc, units_consistency=False);"
   ]
  },
  {
   "cell_type": "markdown",
   "metadata": {},
   "source": [
    "### Using a normal distribution\n",
    "In this example, the initial value of y is set as a draw from the normal distribution `normal(z,10)`:"
   ]
  },
  {
   "cell_type": "code",
   "execution_count": 4,
   "metadata": {},
   "outputs": [
    {
     "data": {
      "text/html": [
       "<pre style=\"white-space:pre;overflow-x:auto;line-height:normal;font-family:Menlo,'DejaVu Sans Mono',consolas,'Courier New',monospace\"><span style=\"color: #000080; text-decoration-color: #000080\">INFO    </span> Create SBML for model <span style=\"color: #008000; text-decoration-color: #008000\">'normal'</span>                                       <a href=\"file:///home/mkoenig/git/sbmlutils/src/sbmlutils/factory.py\"><span style=\"color: #7f7f7f; text-decoration-color: #7f7f7f\">factory.py</span></a><span style=\"color: #7f7f7f; text-decoration-color: #7f7f7f\">:2896</span>\n",
       "</pre>\n"
      ],
      "text/plain": [
       "\u001b[34mINFO    \u001b[0m Create SBML for model \u001b[32m'normal'\u001b[0m                                       \u001b]8;id=139548;file:///home/mkoenig/git/sbmlutils/src/sbmlutils/factory.py\u001b\\\u001b[2mfactory.py\u001b[0m\u001b]8;;\u001b\\\u001b[2m:2896\u001b[0m\n"
      ]
     },
     "metadata": {},
     "output_type": "display_data"
    },
    {
     "data": {
      "text/html": [
       "<pre style=\"white-space:pre;overflow-x:auto;line-height:normal;font-family:Menlo,'DejaVu Sans Mono',consolas,'Courier New',monospace\"><span style=\"color: #800000; text-decoration-color: #800000\">WARNING </span> <span style=\"color: #008000; text-decoration-color: #008000\">'name'</span> should be set on <span style=\"color: #008000; text-decoration-color: #008000\">'&lt;Model normal&gt;'</span>                              <a href=\"file:///home/mkoenig/git/sbmlutils/src/sbmlutils/factory.py\"><span style=\"color: #7f7f7f; text-decoration-color: #7f7f7f\">factory.py</span></a><span style=\"color: #7f7f7f; text-decoration-color: #7f7f7f\">:436</span>\n",
       "</pre>\n"
      ],
      "text/plain": [
       "\u001b[31mWARNING \u001b[0m \u001b[32m'name'\u001b[0m should be set on \u001b[32m'\u001b[0m\u001b[32m<\u001b[0m\u001b[32mModel\u001b[0m\u001b[32m normal\u001b[0m\u001b[32m>\u001b[0m\u001b[32m'\u001b[0m                              \u001b]8;id=704195;file:///home/mkoenig/git/sbmlutils/src/sbmlutils/factory.py\u001b\\\u001b[2mfactory.py\u001b[0m\u001b]8;;\u001b\\\u001b[2m:436\u001b[0m\n"
      ]
     },
     "metadata": {},
     "output_type": "display_data"
    },
    {
     "data": {
      "text/html": [
       "<pre style=\"white-space:pre;overflow-x:auto;line-height:normal;font-family:Menlo,'DejaVu Sans Mono',consolas,'Courier New',monospace\"><span style=\"color: #800000; text-decoration-color: #800000\">WARNING </span> <span style=\"color: #008000; text-decoration-color: #008000\">'name'</span> should be set on <span style=\"color: #008000; text-decoration-color: #008000\">'&lt;Parameter y&gt;'</span>                               <a href=\"file:///home/mkoenig/git/sbmlutils/src/sbmlutils/factory.py\"><span style=\"color: #7f7f7f; text-decoration-color: #7f7f7f\">factory.py</span></a><span style=\"color: #7f7f7f; text-decoration-color: #7f7f7f\">:436</span>\n",
       "</pre>\n"
      ],
      "text/plain": [
       "\u001b[31mWARNING \u001b[0m \u001b[32m'name'\u001b[0m should be set on \u001b[32m'\u001b[0m\u001b[32m<\u001b[0m\u001b[32mParameter\u001b[0m\u001b[32m y\u001b[0m\u001b[32m>\u001b[0m\u001b[32m'\u001b[0m                               \u001b]8;id=899377;file:///home/mkoenig/git/sbmlutils/src/sbmlutils/factory.py\u001b\\\u001b[2mfactory.py\u001b[0m\u001b]8;;\u001b\\\u001b[2m:436\u001b[0m\n"
      ]
     },
     "metadata": {},
     "output_type": "display_data"
    },
    {
     "data": {
      "text/html": [
       "<pre style=\"white-space:pre;overflow-x:auto;line-height:normal;font-family:Menlo,'DejaVu Sans Mono',consolas,'Courier New',monospace\"><span style=\"color: #800000; text-decoration-color: #800000\">WARNING </span> <span style=\"color: #008000; text-decoration-color: #008000\">'sboTerm'</span> should be set on <span style=\"color: #008000; text-decoration-color: #008000\">'&lt;Parameter y&gt;'</span>                            <a href=\"file:///home/mkoenig/git/sbmlutils/src/sbmlutils/factory.py\"><span style=\"color: #7f7f7f; text-decoration-color: #7f7f7f\">factory.py</span></a><span style=\"color: #7f7f7f; text-decoration-color: #7f7f7f\">:461</span>\n",
       "</pre>\n"
      ],
      "text/plain": [
       "\u001b[31mWARNING \u001b[0m \u001b[32m'sboTerm'\u001b[0m should be set on \u001b[32m'\u001b[0m\u001b[32m<\u001b[0m\u001b[32mParameter\u001b[0m\u001b[32m y\u001b[0m\u001b[32m>\u001b[0m\u001b[32m'\u001b[0m                            \u001b]8;id=550576;file:///home/mkoenig/git/sbmlutils/src/sbmlutils/factory.py\u001b\\\u001b[2mfactory.py\u001b[0m\u001b]8;;\u001b\\\u001b[2m:461\u001b[0m\n"
      ]
     },
     "metadata": {},
     "output_type": "display_data"
    },
    {
     "data": {
      "text/html": [
       "<pre style=\"white-space:pre;overflow-x:auto;line-height:normal;font-family:Menlo,'DejaVu Sans Mono',consolas,'Courier New',monospace\"><span style=\"color: #800000; text-decoration-color: #800000\">WARNING </span> <span style=\"color: #008000; text-decoration-color: #008000\">'name'</span> should be set on <span style=\"color: #008000; text-decoration-color: #008000\">'&lt;Parameter z&gt;'</span>                               <a href=\"file:///home/mkoenig/git/sbmlutils/src/sbmlutils/factory.py\"><span style=\"color: #7f7f7f; text-decoration-color: #7f7f7f\">factory.py</span></a><span style=\"color: #7f7f7f; text-decoration-color: #7f7f7f\">:436</span>\n",
       "</pre>\n"
      ],
      "text/plain": [
       "\u001b[31mWARNING \u001b[0m \u001b[32m'name'\u001b[0m should be set on \u001b[32m'\u001b[0m\u001b[32m<\u001b[0m\u001b[32mParameter\u001b[0m\u001b[32m z\u001b[0m\u001b[32m>\u001b[0m\u001b[32m'\u001b[0m                               \u001b]8;id=48978;file:///home/mkoenig/git/sbmlutils/src/sbmlutils/factory.py\u001b\\\u001b[2mfactory.py\u001b[0m\u001b]8;;\u001b\\\u001b[2m:436\u001b[0m\n"
      ]
     },
     "metadata": {},
     "output_type": "display_data"
    },
    {
     "data": {
      "text/html": [
       "<pre style=\"white-space:pre;overflow-x:auto;line-height:normal;font-family:Menlo,'DejaVu Sans Mono',consolas,'Courier New',monospace\"><span style=\"color: #800000; text-decoration-color: #800000\">WARNING </span> <span style=\"color: #008000; text-decoration-color: #008000\">'sboTerm'</span> should be set on <span style=\"color: #008000; text-decoration-color: #008000\">'&lt;Parameter z&gt;'</span>                            <a href=\"file:///home/mkoenig/git/sbmlutils/src/sbmlutils/factory.py\"><span style=\"color: #7f7f7f; text-decoration-color: #7f7f7f\">factory.py</span></a><span style=\"color: #7f7f7f; text-decoration-color: #7f7f7f\">:461</span>\n",
       "</pre>\n"
      ],
      "text/plain": [
       "\u001b[31mWARNING \u001b[0m \u001b[32m'sboTerm'\u001b[0m should be set on \u001b[32m'\u001b[0m\u001b[32m<\u001b[0m\u001b[32mParameter\u001b[0m\u001b[32m z\u001b[0m\u001b[32m>\u001b[0m\u001b[32m'\u001b[0m                            \u001b]8;id=773653;file:///home/mkoenig/git/sbmlutils/src/sbmlutils/factory.py\u001b\\\u001b[2mfactory.py\u001b[0m\u001b]8;;\u001b\\\u001b[2m:461\u001b[0m\n"
      ]
     },
     "metadata": {},
     "output_type": "display_data"
    },
    {
     "data": {
      "text/html": [
       "<pre style=\"white-space:pre;overflow-x:auto;line-height:normal;font-family:Menlo,'DejaVu Sans Mono',consolas,'Courier New',monospace\"><span style=\"color: #800000; text-decoration-color: #800000\">WARNING </span> <span style=\"color: #008000; text-decoration-color: #008000\">'name'</span> should be set on <span style=\"color: #008000; text-decoration-color: #008000\">'&lt;InitialAssignment y&gt;'</span>                       <a href=\"file:///home/mkoenig/git/sbmlutils/src/sbmlutils/factory.py\"><span style=\"color: #7f7f7f; text-decoration-color: #7f7f7f\">factory.py</span></a><span style=\"color: #7f7f7f; text-decoration-color: #7f7f7f\">:436</span>\n",
       "</pre>\n"
      ],
      "text/plain": [
       "\u001b[31mWARNING \u001b[0m \u001b[32m'name'\u001b[0m should be set on \u001b[32m'\u001b[0m\u001b[32m<\u001b[0m\u001b[32mInitialAssignment\u001b[0m\u001b[32m y\u001b[0m\u001b[32m>\u001b[0m\u001b[32m'\u001b[0m                       \u001b]8;id=587725;file:///home/mkoenig/git/sbmlutils/src/sbmlutils/factory.py\u001b\\\u001b[2mfactory.py\u001b[0m\u001b]8;;\u001b\\\u001b[2m:436\u001b[0m\n"
      ]
     },
     "metadata": {},
     "output_type": "display_data"
    },
    {
     "data": {
      "text/html": [
       "<pre style=\"white-space:pre;overflow-x:auto;line-height:normal;font-family:Menlo,'DejaVu Sans Mono',consolas,'Courier New',monospace\"><span style=\"color: #800000; text-decoration-color: #800000\">WARNING </span> <span style=\"color: #008000; text-decoration-color: #008000\">'sboTerm'</span> should be set on <span style=\"color: #008000; text-decoration-color: #008000\">'&lt;InitialAssignment y&gt;'</span>                    <a href=\"file:///home/mkoenig/git/sbmlutils/src/sbmlutils/factory.py\"><span style=\"color: #7f7f7f; text-decoration-color: #7f7f7f\">factory.py</span></a><span style=\"color: #7f7f7f; text-decoration-color: #7f7f7f\">:461</span>\n",
       "</pre>\n"
      ],
      "text/plain": [
       "\u001b[31mWARNING \u001b[0m \u001b[32m'sboTerm'\u001b[0m should be set on \u001b[32m'\u001b[0m\u001b[32m<\u001b[0m\u001b[32mInitialAssignment\u001b[0m\u001b[32m y\u001b[0m\u001b[32m>\u001b[0m\u001b[32m'\u001b[0m                    \u001b]8;id=865687;file:///home/mkoenig/git/sbmlutils/src/sbmlutils/factory.py\u001b\\\u001b[2mfactory.py\u001b[0m\u001b]8;;\u001b\\\u001b[2m:461\u001b[0m\n"
      ]
     },
     "metadata": {},
     "output_type": "display_data"
    },
    {
     "data": {
      "text/html": [
       "<style type=\"text/css\">pre { line-height: 125%; }\n",
       "td.linenos .normal { color: inherit; background-color: transparent; padding-left: 5px; padding-right: 5px; }\n",
       "span.linenos { color: inherit; background-color: transparent; padding-left: 5px; padding-right: 5px; }\n",
       "td.linenos .special { color: #000000; background-color: #ffffc0; padding-left: 5px; padding-right: 5px; }\n",
       "span.linenos.special { color: #000000; background-color: #ffffc0; padding-left: 5px; padding-right: 5px; }\n",
       ".highlight .hll { background-color: #ffffcc }\n",
       ".highlight { background: #f8f8f8; }\n",
       ".highlight .c { color: #408080; font-style: italic } /* Comment */\n",
       ".highlight .err { border: 1px solid #FF0000 } /* Error */\n",
       ".highlight .k { color: #008000; font-weight: bold } /* Keyword */\n",
       ".highlight .o { color: #666666 } /* Operator */\n",
       ".highlight .ch { color: #408080; font-style: italic } /* Comment.Hashbang */\n",
       ".highlight .cm { color: #408080; font-style: italic } /* Comment.Multiline */\n",
       ".highlight .cp { color: #BC7A00 } /* Comment.Preproc */\n",
       ".highlight .cpf { color: #408080; font-style: italic } /* Comment.PreprocFile */\n",
       ".highlight .c1 { color: #408080; font-style: italic } /* Comment.Single */\n",
       ".highlight .cs { color: #408080; font-style: italic } /* Comment.Special */\n",
       ".highlight .gd { color: #A00000 } /* Generic.Deleted */\n",
       ".highlight .ge { font-style: italic } /* Generic.Emph */\n",
       ".highlight .gr { color: #FF0000 } /* Generic.Error */\n",
       ".highlight .gh { color: #000080; font-weight: bold } /* Generic.Heading */\n",
       ".highlight .gi { color: #00A000 } /* Generic.Inserted */\n",
       ".highlight .go { color: #888888 } /* Generic.Output */\n",
       ".highlight .gp { color: #000080; font-weight: bold } /* Generic.Prompt */\n",
       ".highlight .gs { font-weight: bold } /* Generic.Strong */\n",
       ".highlight .gu { color: #800080; font-weight: bold } /* Generic.Subheading */\n",
       ".highlight .gt { color: #0044DD } /* Generic.Traceback */\n",
       ".highlight .kc { color: #008000; font-weight: bold } /* Keyword.Constant */\n",
       ".highlight .kd { color: #008000; font-weight: bold } /* Keyword.Declaration */\n",
       ".highlight .kn { color: #008000; font-weight: bold } /* Keyword.Namespace */\n",
       ".highlight .kp { color: #008000 } /* Keyword.Pseudo */\n",
       ".highlight .kr { color: #008000; font-weight: bold } /* Keyword.Reserved */\n",
       ".highlight .kt { color: #B00040 } /* Keyword.Type */\n",
       ".highlight .m { color: #666666 } /* Literal.Number */\n",
       ".highlight .s { color: #BA2121 } /* Literal.String */\n",
       ".highlight .na { color: #7D9029 } /* Name.Attribute */\n",
       ".highlight .nb { color: #008000 } /* Name.Builtin */\n",
       ".highlight .nc { color: #0000FF; font-weight: bold } /* Name.Class */\n",
       ".highlight .no { color: #880000 } /* Name.Constant */\n",
       ".highlight .nd { color: #AA22FF } /* Name.Decorator */\n",
       ".highlight .ni { color: #999999; font-weight: bold } /* Name.Entity */\n",
       ".highlight .ne { color: #D2413A; font-weight: bold } /* Name.Exception */\n",
       ".highlight .nf { color: #0000FF } /* Name.Function */\n",
       ".highlight .nl { color: #A0A000 } /* Name.Label */\n",
       ".highlight .nn { color: #0000FF; font-weight: bold } /* Name.Namespace */\n",
       ".highlight .nt { color: #008000; font-weight: bold } /* Name.Tag */\n",
       ".highlight .nv { color: #19177C } /* Name.Variable */\n",
       ".highlight .ow { color: #AA22FF; font-weight: bold } /* Operator.Word */\n",
       ".highlight .w { color: #bbbbbb } /* Text.Whitespace */\n",
       ".highlight .mb { color: #666666 } /* Literal.Number.Bin */\n",
       ".highlight .mf { color: #666666 } /* Literal.Number.Float */\n",
       ".highlight .mh { color: #666666 } /* Literal.Number.Hex */\n",
       ".highlight .mi { color: #666666 } /* Literal.Number.Integer */\n",
       ".highlight .mo { color: #666666 } /* Literal.Number.Oct */\n",
       ".highlight .sa { color: #BA2121 } /* Literal.String.Affix */\n",
       ".highlight .sb { color: #BA2121 } /* Literal.String.Backtick */\n",
       ".highlight .sc { color: #BA2121 } /* Literal.String.Char */\n",
       ".highlight .dl { color: #BA2121 } /* Literal.String.Delimiter */\n",
       ".highlight .sd { color: #BA2121; font-style: italic } /* Literal.String.Doc */\n",
       ".highlight .s2 { color: #BA2121 } /* Literal.String.Double */\n",
       ".highlight .se { color: #BB6622; font-weight: bold } /* Literal.String.Escape */\n",
       ".highlight .sh { color: #BA2121 } /* Literal.String.Heredoc */\n",
       ".highlight .si { color: #BB6688; font-weight: bold } /* Literal.String.Interpol */\n",
       ".highlight .sx { color: #008000 } /* Literal.String.Other */\n",
       ".highlight .sr { color: #BB6688 } /* Literal.String.Regex */\n",
       ".highlight .s1 { color: #BA2121 } /* Literal.String.Single */\n",
       ".highlight .ss { color: #19177C } /* Literal.String.Symbol */\n",
       ".highlight .bp { color: #008000 } /* Name.Builtin.Pseudo */\n",
       ".highlight .fm { color: #0000FF } /* Name.Function.Magic */\n",
       ".highlight .vc { color: #19177C } /* Name.Variable.Class */\n",
       ".highlight .vg { color: #19177C } /* Name.Variable.Global */\n",
       ".highlight .vi { color: #19177C } /* Name.Variable.Instance */\n",
       ".highlight .vm { color: #19177C } /* Name.Variable.Magic */\n",
       ".highlight .il { color: #666666 } /* Literal.Number.Integer.Long */</style>    <div class=\"highlight\"><pre><span></span><span class=\"cp\">&lt;?xml version=&quot;1.0&quot; encoding=&quot;UTF-8&quot;?&gt;</span>\n",
       "<span class=\"nt\">&lt;sbml</span> <span class=\"na\">xmlns=</span><span class=\"s\">&quot;http://www.sbml.org/sbml/level3/version1/core&quot;</span> <span class=\"na\">xmlns:comp=</span><span class=\"s\">&quot;http://www.sbml.org/sbml/level3/version1/comp/version1&quot;</span> <span class=\"na\">xmlns:distrib=</span><span class=\"s\">&quot;http://www.sbml.org/sbml/level3/version1/distrib/version1&quot;</span> <span class=\"na\">level=</span><span class=\"s\">&quot;3&quot;</span> <span class=\"na\">version=</span><span class=\"s\">&quot;1&quot;</span> <span class=\"na\">comp:required=</span><span class=\"s\">&quot;true&quot;</span> <span class=\"na\">distrib:required=</span><span class=\"s\">&quot;true&quot;</span><span class=\"nt\">&gt;</span>\n",
       "  <span class=\"nt\">&lt;notes&gt;</span>\n",
       "    <span class=\"nt\">&lt;body</span> <span class=\"na\">xmlns=</span><span class=\"s\">&quot;http://www.w3.org/1999/xhtml&quot;</span><span class=\"nt\">&gt;</span>\n",
       "      <span class=\"nt\">&lt;p&gt;</span>Created with <span class=\"nt\">&lt;a</span> <span class=\"na\">href=</span><span class=\"s\">&quot;https://github.com/matthiaskoenig/sbmlutils&quot;</span><span class=\"nt\">&gt;</span>https://github.com/matthiaskoenig/sbmlutils<span class=\"nt\">&lt;/a&gt;</span>.\n",
       "<span class=\"nt\">&lt;a</span> <span class=\"na\">href=</span><span class=\"s\">&quot;https://doi.org/10.5281/zenodo.5525390&quot;</span><span class=\"nt\">&gt;</span>\n",
       "        <span class=\"nt\">&lt;img</span> <span class=\"na\">src=</span><span class=\"s\">&quot;https://zenodo.org/badge/DOI/10.5281/zenodo.5525390.svg&quot;</span> <span class=\"na\">alt=</span><span class=\"s\">&quot;DOI&quot;</span><span class=\"nt\">/&gt;&lt;/a&gt;&lt;/p&gt;</span>\n",
       "      <span class=\"nt\">&lt;/body&gt;</span>\n",
       "    <span class=\"nt\">&lt;/notes&gt;</span>\n",
       "  <span class=\"nt\">&lt;model</span> <span class=\"na\">id=</span><span class=\"s\">&quot;normal&quot;</span><span class=\"nt\">&gt;</span>\n",
       "    <span class=\"nt\">&lt;listOfParameters&gt;</span>\n",
       "      <span class=\"nt\">&lt;parameter</span> <span class=\"na\">id=</span><span class=\"s\">&quot;y&quot;</span> <span class=\"na\">value=</span><span class=\"s\">&quot;1&quot;</span> <span class=\"na\">constant=</span><span class=\"s\">&quot;true&quot;</span><span class=\"nt\">/&gt;</span>\n",
       "      <span class=\"nt\">&lt;parameter</span> <span class=\"na\">id=</span><span class=\"s\">&quot;z&quot;</span> <span class=\"na\">value=</span><span class=\"s\">&quot;1&quot;</span> <span class=\"na\">constant=</span><span class=\"s\">&quot;true&quot;</span><span class=\"nt\">/&gt;</span>\n",
       "    <span class=\"nt\">&lt;/listOfParameters&gt;</span>\n",
       "    <span class=\"nt\">&lt;listOfInitialAssignments&gt;</span>\n",
       "      <span class=\"nt\">&lt;initialAssignment</span> <span class=\"na\">symbol=</span><span class=\"s\">&quot;y&quot;</span><span class=\"nt\">&gt;</span>\n",
       "        <span class=\"nt\">&lt;math</span> <span class=\"na\">xmlns=</span><span class=\"s\">&quot;http://www.w3.org/1998/Math/MathML&quot;</span><span class=\"nt\">&gt;</span>\n",
       "          <span class=\"nt\">&lt;apply&gt;</span>\n",
       "            <span class=\"nt\">&lt;csymbol</span> <span class=\"na\">encoding=</span><span class=\"s\">&quot;text&quot;</span> <span class=\"na\">definitionURL=</span><span class=\"s\">&quot;http://www.sbml.org/sbml/symbols/distrib/normal&quot;</span><span class=\"nt\">&gt;</span> normal <span class=\"nt\">&lt;/csymbol&gt;</span>\n",
       "            <span class=\"nt\">&lt;ci&gt;</span> z <span class=\"nt\">&lt;/ci&gt;</span>\n",
       "            <span class=\"nt\">&lt;cn</span> <span class=\"na\">type=</span><span class=\"s\">&quot;integer&quot;</span><span class=\"nt\">&gt;</span> 10 <span class=\"nt\">&lt;/cn&gt;</span>\n",
       "          <span class=\"nt\">&lt;/apply&gt;</span>\n",
       "        <span class=\"nt\">&lt;/math&gt;</span>\n",
       "      <span class=\"nt\">&lt;/initialAssignment&gt;</span>\n",
       "    <span class=\"nt\">&lt;/listOfInitialAssignments&gt;</span>\n",
       "  <span class=\"nt\">&lt;/model&gt;</span>\n",
       "<span class=\"nt\">&lt;/sbml&gt;</span>\n",
       "</pre></div>\n"
      ]
     },
     "metadata": {},
     "output_type": "display_data"
    },
    {
     "data": {
      "text/html": [
       "<pre style=\"white-space:pre;overflow-x:auto;line-height:normal;font-family:Menlo,'DejaVu Sans Mono',consolas,'Courier New',monospace\">\n",
       "</pre>\n"
      ],
      "text/plain": [
       "\n"
      ]
     },
     "metadata": {},
     "output_type": "display_data"
    },
    {
     "data": {
      "text/html": [
       "<pre style=\"white-space:pre;overflow-x:auto;line-height:normal;font-family:Menlo,'DejaVu Sans Mono',consolas,'Courier New',monospace\"><span style=\"color: #008000; text-decoration-color: #008000\">─────────────────────────────────────── </span>Validate SBML<span style=\"color: #008000; text-decoration-color: #008000\"> ───────────────────────────────────────</span>\n",
       "</pre>\n"
      ],
      "text/plain": [
       "\u001b[32m─────────────────────────────────────── \u001b[0mValidate SBML\u001b[32m ───────────────────────────────────────\u001b[0m\n"
      ]
     },
     "metadata": {},
     "output_type": "display_data"
    },
    {
     "data": {
      "text/html": [
       "<pre style=\"white-space:pre;overflow-x:auto;line-height:normal;font-family:Menlo,'DejaVu Sans Mono',consolas,'Courier New',monospace\"><span style=\"color: #008000; text-decoration-color: #008000; font-weight: bold\">&lt;</span><span style=\"color: #ff00ff; text-decoration-color: #ff00ff; font-weight: bold\">SBMLDocument</span><span style=\"color: #008000; text-decoration-color: #008000; font-weight: bold\">&gt;</span>\n",
       "<span style=\"color: #008000; text-decoration-color: #008000\">valid                    : TRUE</span>\n",
       "<span style=\"color: #008000; text-decoration-color: #008000\">check time </span><span style=\"color: #008000; text-decoration-color: #008000; font-weight: bold\">(</span><span style=\"color: #008000; text-decoration-color: #008000\">s</span><span style=\"color: #008000; text-decoration-color: #008000; font-weight: bold\">)</span><span style=\"color: #008000; text-decoration-color: #008000\">           : </span><span style=\"color: #008080; text-decoration-color: #008080; font-weight: bold\">0.001</span>\n",
       "</pre>\n"
      ],
      "text/plain": [
       "\u001b[1;32m<\u001b[0m\u001b[1;95mSBMLDocument\u001b[0m\u001b[1;32m>\u001b[0m\n",
       "\u001b[32mvalid                    : TRUE\u001b[0m\n",
       "\u001b[32mcheck time \u001b[0m\u001b[1;32m(\u001b[0m\u001b[32ms\u001b[0m\u001b[1;32m)\u001b[0m\u001b[32m           : \u001b[0m\u001b[1;36m0.001\u001b[0m\n"
      ]
     },
     "metadata": {},
     "output_type": "display_data"
    },
    {
     "data": {
      "text/html": [
       "<pre style=\"white-space:pre;overflow-x:auto;line-height:normal;font-family:Menlo,'DejaVu Sans Mono',consolas,'Courier New',monospace\"><span style=\"color: #008000; text-decoration-color: #008000\">─────────────────────────────────────────────────────────────────────────────────────────────</span>\n",
       "</pre>\n"
      ],
      "text/plain": [
       "\u001b[32m─────────────────────────────────────────────────────────────────────────────────────────────\u001b[0m\n"
      ]
     },
     "metadata": {},
     "output_type": "display_data"
    },
    {
     "data": {
      "text/html": [
       "<pre style=\"white-space:pre;overflow-x:auto;line-height:normal;font-family:Menlo,'DejaVu Sans Mono',consolas,'Courier New',monospace\">\n",
       "</pre>\n"
      ],
      "text/plain": [
       "\n"
      ]
     },
     "metadata": {},
     "output_type": "display_data"
    }
   ],
   "source": [
    "model = Model(\n",
    "    'normal',\n",
    "    packages=['distrib'],\n",
    "    objects=[\n",
    "        Parameter('y', value=1.0),\n",
    "        Parameter('z', value=1.0),\n",
    "        InitialAssignment('y', 'normal(z, 10)'),\n",
    "    ]\n",
    ")\n",
    "\n",
    "# create model and print SBML\n",
    "doc = Document(model)\n",
    "print_xml(doc.get_sbml())\n",
    "\n",
    "# validate model\n",
    "validate_doc(doc.doc, units_consistency=False);"
   ]
  },
  {
   "cell_type": "markdown",
   "metadata": {},
   "source": [
    "### Defining a truncated normal distribution\n",
    "When used with four arguments instead of two, the normal distribution is truncated to `normal(z, 10, z-2, z+2)`. This use would apply a draw from a normal distribution with `mean z`, `standard deviation 10`, `lower bound z-2` (inclusive) and `upper bound z+2` (not inclusive) to the SBML symbol `y`."
   ]
  },
  {
   "cell_type": "code",
   "execution_count": 5,
   "metadata": {},
   "outputs": [
    {
     "data": {
      "text/html": [
       "<pre style=\"white-space:pre;overflow-x:auto;line-height:normal;font-family:Menlo,'DejaVu Sans Mono',consolas,'Courier New',monospace\"><span style=\"color: #000080; text-decoration-color: #000080\">INFO    </span> Create SBML for model <span style=\"color: #008000; text-decoration-color: #008000\">'truncated_normal'</span>                             <a href=\"file:///home/mkoenig/git/sbmlutils/src/sbmlutils/factory.py\"><span style=\"color: #7f7f7f; text-decoration-color: #7f7f7f\">factory.py</span></a><span style=\"color: #7f7f7f; text-decoration-color: #7f7f7f\">:2896</span>\n",
       "</pre>\n"
      ],
      "text/plain": [
       "\u001b[34mINFO    \u001b[0m Create SBML for model \u001b[32m'truncated_normal'\u001b[0m                             \u001b]8;id=25142;file:///home/mkoenig/git/sbmlutils/src/sbmlutils/factory.py\u001b\\\u001b[2mfactory.py\u001b[0m\u001b]8;;\u001b\\\u001b[2m:2896\u001b[0m\n"
      ]
     },
     "metadata": {},
     "output_type": "display_data"
    },
    {
     "data": {
      "text/html": [
       "<pre style=\"white-space:pre;overflow-x:auto;line-height:normal;font-family:Menlo,'DejaVu Sans Mono',consolas,'Courier New',monospace\"><span style=\"color: #800000; text-decoration-color: #800000\">WARNING </span> <span style=\"color: #008000; text-decoration-color: #008000\">'name'</span> should be set on <span style=\"color: #008000; text-decoration-color: #008000\">'&lt;Model truncated_normal&gt;'</span>                    <a href=\"file:///home/mkoenig/git/sbmlutils/src/sbmlutils/factory.py\"><span style=\"color: #7f7f7f; text-decoration-color: #7f7f7f\">factory.py</span></a><span style=\"color: #7f7f7f; text-decoration-color: #7f7f7f\">:436</span>\n",
       "</pre>\n"
      ],
      "text/plain": [
       "\u001b[31mWARNING \u001b[0m \u001b[32m'name'\u001b[0m should be set on \u001b[32m'\u001b[0m\u001b[32m<\u001b[0m\u001b[32mModel\u001b[0m\u001b[32m truncated_normal\u001b[0m\u001b[32m>\u001b[0m\u001b[32m'\u001b[0m                    \u001b]8;id=767609;file:///home/mkoenig/git/sbmlutils/src/sbmlutils/factory.py\u001b\\\u001b[2mfactory.py\u001b[0m\u001b]8;;\u001b\\\u001b[2m:436\u001b[0m\n"
      ]
     },
     "metadata": {},
     "output_type": "display_data"
    },
    {
     "data": {
      "text/html": [
       "<pre style=\"white-space:pre;overflow-x:auto;line-height:normal;font-family:Menlo,'DejaVu Sans Mono',consolas,'Courier New',monospace\"><span style=\"color: #800000; text-decoration-color: #800000\">WARNING </span> <span style=\"color: #008000; text-decoration-color: #008000\">'name'</span> should be set on <span style=\"color: #008000; text-decoration-color: #008000\">'&lt;Parameter y&gt;'</span>                               <a href=\"file:///home/mkoenig/git/sbmlutils/src/sbmlutils/factory.py\"><span style=\"color: #7f7f7f; text-decoration-color: #7f7f7f\">factory.py</span></a><span style=\"color: #7f7f7f; text-decoration-color: #7f7f7f\">:436</span>\n",
       "</pre>\n"
      ],
      "text/plain": [
       "\u001b[31mWARNING \u001b[0m \u001b[32m'name'\u001b[0m should be set on \u001b[32m'\u001b[0m\u001b[32m<\u001b[0m\u001b[32mParameter\u001b[0m\u001b[32m y\u001b[0m\u001b[32m>\u001b[0m\u001b[32m'\u001b[0m                               \u001b]8;id=939760;file:///home/mkoenig/git/sbmlutils/src/sbmlutils/factory.py\u001b\\\u001b[2mfactory.py\u001b[0m\u001b]8;;\u001b\\\u001b[2m:436\u001b[0m\n"
      ]
     },
     "metadata": {},
     "output_type": "display_data"
    },
    {
     "data": {
      "text/html": [
       "<pre style=\"white-space:pre;overflow-x:auto;line-height:normal;font-family:Menlo,'DejaVu Sans Mono',consolas,'Courier New',monospace\"><span style=\"color: #800000; text-decoration-color: #800000\">WARNING </span> <span style=\"color: #008000; text-decoration-color: #008000\">'sboTerm'</span> should be set on <span style=\"color: #008000; text-decoration-color: #008000\">'&lt;Parameter y&gt;'</span>                            <a href=\"file:///home/mkoenig/git/sbmlutils/src/sbmlutils/factory.py\"><span style=\"color: #7f7f7f; text-decoration-color: #7f7f7f\">factory.py</span></a><span style=\"color: #7f7f7f; text-decoration-color: #7f7f7f\">:461</span>\n",
       "</pre>\n"
      ],
      "text/plain": [
       "\u001b[31mWARNING \u001b[0m \u001b[32m'sboTerm'\u001b[0m should be set on \u001b[32m'\u001b[0m\u001b[32m<\u001b[0m\u001b[32mParameter\u001b[0m\u001b[32m y\u001b[0m\u001b[32m>\u001b[0m\u001b[32m'\u001b[0m                            \u001b]8;id=861398;file:///home/mkoenig/git/sbmlutils/src/sbmlutils/factory.py\u001b\\\u001b[2mfactory.py\u001b[0m\u001b]8;;\u001b\\\u001b[2m:461\u001b[0m\n"
      ]
     },
     "metadata": {},
     "output_type": "display_data"
    },
    {
     "data": {
      "text/html": [
       "<pre style=\"white-space:pre;overflow-x:auto;line-height:normal;font-family:Menlo,'DejaVu Sans Mono',consolas,'Courier New',monospace\"><span style=\"color: #800000; text-decoration-color: #800000\">WARNING </span> <span style=\"color: #008000; text-decoration-color: #008000\">'name'</span> should be set on <span style=\"color: #008000; text-decoration-color: #008000\">'&lt;Parameter z&gt;'</span>                               <a href=\"file:///home/mkoenig/git/sbmlutils/src/sbmlutils/factory.py\"><span style=\"color: #7f7f7f; text-decoration-color: #7f7f7f\">factory.py</span></a><span style=\"color: #7f7f7f; text-decoration-color: #7f7f7f\">:436</span>\n",
       "</pre>\n"
      ],
      "text/plain": [
       "\u001b[31mWARNING \u001b[0m \u001b[32m'name'\u001b[0m should be set on \u001b[32m'\u001b[0m\u001b[32m<\u001b[0m\u001b[32mParameter\u001b[0m\u001b[32m z\u001b[0m\u001b[32m>\u001b[0m\u001b[32m'\u001b[0m                               \u001b]8;id=5655;file:///home/mkoenig/git/sbmlutils/src/sbmlutils/factory.py\u001b\\\u001b[2mfactory.py\u001b[0m\u001b]8;;\u001b\\\u001b[2m:436\u001b[0m\n"
      ]
     },
     "metadata": {},
     "output_type": "display_data"
    },
    {
     "data": {
      "text/html": [
       "<pre style=\"white-space:pre;overflow-x:auto;line-height:normal;font-family:Menlo,'DejaVu Sans Mono',consolas,'Courier New',monospace\"><span style=\"color: #800000; text-decoration-color: #800000\">WARNING </span> <span style=\"color: #008000; text-decoration-color: #008000\">'sboTerm'</span> should be set on <span style=\"color: #008000; text-decoration-color: #008000\">'&lt;Parameter z&gt;'</span>                            <a href=\"file:///home/mkoenig/git/sbmlutils/src/sbmlutils/factory.py\"><span style=\"color: #7f7f7f; text-decoration-color: #7f7f7f\">factory.py</span></a><span style=\"color: #7f7f7f; text-decoration-color: #7f7f7f\">:461</span>\n",
       "</pre>\n"
      ],
      "text/plain": [
       "\u001b[31mWARNING \u001b[0m \u001b[32m'sboTerm'\u001b[0m should be set on \u001b[32m'\u001b[0m\u001b[32m<\u001b[0m\u001b[32mParameter\u001b[0m\u001b[32m z\u001b[0m\u001b[32m>\u001b[0m\u001b[32m'\u001b[0m                            \u001b]8;id=811385;file:///home/mkoenig/git/sbmlutils/src/sbmlutils/factory.py\u001b\\\u001b[2mfactory.py\u001b[0m\u001b]8;;\u001b\\\u001b[2m:461\u001b[0m\n"
      ]
     },
     "metadata": {},
     "output_type": "display_data"
    },
    {
     "data": {
      "text/html": [
       "<pre style=\"white-space:pre;overflow-x:auto;line-height:normal;font-family:Menlo,'DejaVu Sans Mono',consolas,'Courier New',monospace\"><span style=\"color: #800000; text-decoration-color: #800000\">WARNING </span> <span style=\"color: #008000; text-decoration-color: #008000\">'name'</span> should be set on <span style=\"color: #008000; text-decoration-color: #008000\">'&lt;InitialAssignment y&gt;'</span>                       <a href=\"file:///home/mkoenig/git/sbmlutils/src/sbmlutils/factory.py\"><span style=\"color: #7f7f7f; text-decoration-color: #7f7f7f\">factory.py</span></a><span style=\"color: #7f7f7f; text-decoration-color: #7f7f7f\">:436</span>\n",
       "</pre>\n"
      ],
      "text/plain": [
       "\u001b[31mWARNING \u001b[0m \u001b[32m'name'\u001b[0m should be set on \u001b[32m'\u001b[0m\u001b[32m<\u001b[0m\u001b[32mInitialAssignment\u001b[0m\u001b[32m y\u001b[0m\u001b[32m>\u001b[0m\u001b[32m'\u001b[0m                       \u001b]8;id=388439;file:///home/mkoenig/git/sbmlutils/src/sbmlutils/factory.py\u001b\\\u001b[2mfactory.py\u001b[0m\u001b]8;;\u001b\\\u001b[2m:436\u001b[0m\n"
      ]
     },
     "metadata": {},
     "output_type": "display_data"
    },
    {
     "data": {
      "text/html": [
       "<pre style=\"white-space:pre;overflow-x:auto;line-height:normal;font-family:Menlo,'DejaVu Sans Mono',consolas,'Courier New',monospace\"><span style=\"color: #800000; text-decoration-color: #800000\">WARNING </span> <span style=\"color: #008000; text-decoration-color: #008000\">'sboTerm'</span> should be set on <span style=\"color: #008000; text-decoration-color: #008000\">'&lt;InitialAssignment y&gt;'</span>                    <a href=\"file:///home/mkoenig/git/sbmlutils/src/sbmlutils/factory.py\"><span style=\"color: #7f7f7f; text-decoration-color: #7f7f7f\">factory.py</span></a><span style=\"color: #7f7f7f; text-decoration-color: #7f7f7f\">:461</span>\n",
       "</pre>\n"
      ],
      "text/plain": [
       "\u001b[31mWARNING \u001b[0m \u001b[32m'sboTerm'\u001b[0m should be set on \u001b[32m'\u001b[0m\u001b[32m<\u001b[0m\u001b[32mInitialAssignment\u001b[0m\u001b[32m y\u001b[0m\u001b[32m>\u001b[0m\u001b[32m'\u001b[0m                    \u001b]8;id=48572;file:///home/mkoenig/git/sbmlutils/src/sbmlutils/factory.py\u001b\\\u001b[2mfactory.py\u001b[0m\u001b]8;;\u001b\\\u001b[2m:461\u001b[0m\n"
      ]
     },
     "metadata": {},
     "output_type": "display_data"
    },
    {
     "data": {
      "text/html": [
       "<style type=\"text/css\">pre { line-height: 125%; }\n",
       "td.linenos .normal { color: inherit; background-color: transparent; padding-left: 5px; padding-right: 5px; }\n",
       "span.linenos { color: inherit; background-color: transparent; padding-left: 5px; padding-right: 5px; }\n",
       "td.linenos .special { color: #000000; background-color: #ffffc0; padding-left: 5px; padding-right: 5px; }\n",
       "span.linenos.special { color: #000000; background-color: #ffffc0; padding-left: 5px; padding-right: 5px; }\n",
       ".highlight .hll { background-color: #ffffcc }\n",
       ".highlight { background: #f8f8f8; }\n",
       ".highlight .c { color: #408080; font-style: italic } /* Comment */\n",
       ".highlight .err { border: 1px solid #FF0000 } /* Error */\n",
       ".highlight .k { color: #008000; font-weight: bold } /* Keyword */\n",
       ".highlight .o { color: #666666 } /* Operator */\n",
       ".highlight .ch { color: #408080; font-style: italic } /* Comment.Hashbang */\n",
       ".highlight .cm { color: #408080; font-style: italic } /* Comment.Multiline */\n",
       ".highlight .cp { color: #BC7A00 } /* Comment.Preproc */\n",
       ".highlight .cpf { color: #408080; font-style: italic } /* Comment.PreprocFile */\n",
       ".highlight .c1 { color: #408080; font-style: italic } /* Comment.Single */\n",
       ".highlight .cs { color: #408080; font-style: italic } /* Comment.Special */\n",
       ".highlight .gd { color: #A00000 } /* Generic.Deleted */\n",
       ".highlight .ge { font-style: italic } /* Generic.Emph */\n",
       ".highlight .gr { color: #FF0000 } /* Generic.Error */\n",
       ".highlight .gh { color: #000080; font-weight: bold } /* Generic.Heading */\n",
       ".highlight .gi { color: #00A000 } /* Generic.Inserted */\n",
       ".highlight .go { color: #888888 } /* Generic.Output */\n",
       ".highlight .gp { color: #000080; font-weight: bold } /* Generic.Prompt */\n",
       ".highlight .gs { font-weight: bold } /* Generic.Strong */\n",
       ".highlight .gu { color: #800080; font-weight: bold } /* Generic.Subheading */\n",
       ".highlight .gt { color: #0044DD } /* Generic.Traceback */\n",
       ".highlight .kc { color: #008000; font-weight: bold } /* Keyword.Constant */\n",
       ".highlight .kd { color: #008000; font-weight: bold } /* Keyword.Declaration */\n",
       ".highlight .kn { color: #008000; font-weight: bold } /* Keyword.Namespace */\n",
       ".highlight .kp { color: #008000 } /* Keyword.Pseudo */\n",
       ".highlight .kr { color: #008000; font-weight: bold } /* Keyword.Reserved */\n",
       ".highlight .kt { color: #B00040 } /* Keyword.Type */\n",
       ".highlight .m { color: #666666 } /* Literal.Number */\n",
       ".highlight .s { color: #BA2121 } /* Literal.String */\n",
       ".highlight .na { color: #7D9029 } /* Name.Attribute */\n",
       ".highlight .nb { color: #008000 } /* Name.Builtin */\n",
       ".highlight .nc { color: #0000FF; font-weight: bold } /* Name.Class */\n",
       ".highlight .no { color: #880000 } /* Name.Constant */\n",
       ".highlight .nd { color: #AA22FF } /* Name.Decorator */\n",
       ".highlight .ni { color: #999999; font-weight: bold } /* Name.Entity */\n",
       ".highlight .ne { color: #D2413A; font-weight: bold } /* Name.Exception */\n",
       ".highlight .nf { color: #0000FF } /* Name.Function */\n",
       ".highlight .nl { color: #A0A000 } /* Name.Label */\n",
       ".highlight .nn { color: #0000FF; font-weight: bold } /* Name.Namespace */\n",
       ".highlight .nt { color: #008000; font-weight: bold } /* Name.Tag */\n",
       ".highlight .nv { color: #19177C } /* Name.Variable */\n",
       ".highlight .ow { color: #AA22FF; font-weight: bold } /* Operator.Word */\n",
       ".highlight .w { color: #bbbbbb } /* Text.Whitespace */\n",
       ".highlight .mb { color: #666666 } /* Literal.Number.Bin */\n",
       ".highlight .mf { color: #666666 } /* Literal.Number.Float */\n",
       ".highlight .mh { color: #666666 } /* Literal.Number.Hex */\n",
       ".highlight .mi { color: #666666 } /* Literal.Number.Integer */\n",
       ".highlight .mo { color: #666666 } /* Literal.Number.Oct */\n",
       ".highlight .sa { color: #BA2121 } /* Literal.String.Affix */\n",
       ".highlight .sb { color: #BA2121 } /* Literal.String.Backtick */\n",
       ".highlight .sc { color: #BA2121 } /* Literal.String.Char */\n",
       ".highlight .dl { color: #BA2121 } /* Literal.String.Delimiter */\n",
       ".highlight .sd { color: #BA2121; font-style: italic } /* Literal.String.Doc */\n",
       ".highlight .s2 { color: #BA2121 } /* Literal.String.Double */\n",
       ".highlight .se { color: #BB6622; font-weight: bold } /* Literal.String.Escape */\n",
       ".highlight .sh { color: #BA2121 } /* Literal.String.Heredoc */\n",
       ".highlight .si { color: #BB6688; font-weight: bold } /* Literal.String.Interpol */\n",
       ".highlight .sx { color: #008000 } /* Literal.String.Other */\n",
       ".highlight .sr { color: #BB6688 } /* Literal.String.Regex */\n",
       ".highlight .s1 { color: #BA2121 } /* Literal.String.Single */\n",
       ".highlight .ss { color: #19177C } /* Literal.String.Symbol */\n",
       ".highlight .bp { color: #008000 } /* Name.Builtin.Pseudo */\n",
       ".highlight .fm { color: #0000FF } /* Name.Function.Magic */\n",
       ".highlight .vc { color: #19177C } /* Name.Variable.Class */\n",
       ".highlight .vg { color: #19177C } /* Name.Variable.Global */\n",
       ".highlight .vi { color: #19177C } /* Name.Variable.Instance */\n",
       ".highlight .vm { color: #19177C } /* Name.Variable.Magic */\n",
       ".highlight .il { color: #666666 } /* Literal.Number.Integer.Long */</style>    <div class=\"highlight\"><pre><span></span><span class=\"cp\">&lt;?xml version=&quot;1.0&quot; encoding=&quot;UTF-8&quot;?&gt;</span>\n",
       "<span class=\"nt\">&lt;sbml</span> <span class=\"na\">xmlns=</span><span class=\"s\">&quot;http://www.sbml.org/sbml/level3/version1/core&quot;</span> <span class=\"na\">xmlns:comp=</span><span class=\"s\">&quot;http://www.sbml.org/sbml/level3/version1/comp/version1&quot;</span> <span class=\"na\">xmlns:distrib=</span><span class=\"s\">&quot;http://www.sbml.org/sbml/level3/version1/distrib/version1&quot;</span> <span class=\"na\">level=</span><span class=\"s\">&quot;3&quot;</span> <span class=\"na\">version=</span><span class=\"s\">&quot;1&quot;</span> <span class=\"na\">comp:required=</span><span class=\"s\">&quot;true&quot;</span> <span class=\"na\">distrib:required=</span><span class=\"s\">&quot;true&quot;</span><span class=\"nt\">&gt;</span>\n",
       "  <span class=\"nt\">&lt;notes&gt;</span>\n",
       "    <span class=\"nt\">&lt;body</span> <span class=\"na\">xmlns=</span><span class=\"s\">&quot;http://www.w3.org/1999/xhtml&quot;</span><span class=\"nt\">&gt;</span>\n",
       "      <span class=\"nt\">&lt;p&gt;</span>Created with <span class=\"nt\">&lt;a</span> <span class=\"na\">href=</span><span class=\"s\">&quot;https://github.com/matthiaskoenig/sbmlutils&quot;</span><span class=\"nt\">&gt;</span>https://github.com/matthiaskoenig/sbmlutils<span class=\"nt\">&lt;/a&gt;</span>.\n",
       "<span class=\"nt\">&lt;a</span> <span class=\"na\">href=</span><span class=\"s\">&quot;https://doi.org/10.5281/zenodo.5525390&quot;</span><span class=\"nt\">&gt;</span>\n",
       "        <span class=\"nt\">&lt;img</span> <span class=\"na\">src=</span><span class=\"s\">&quot;https://zenodo.org/badge/DOI/10.5281/zenodo.5525390.svg&quot;</span> <span class=\"na\">alt=</span><span class=\"s\">&quot;DOI&quot;</span><span class=\"nt\">/&gt;&lt;/a&gt;&lt;/p&gt;</span>\n",
       "      <span class=\"nt\">&lt;/body&gt;</span>\n",
       "    <span class=\"nt\">&lt;/notes&gt;</span>\n",
       "  <span class=\"nt\">&lt;model</span> <span class=\"na\">id=</span><span class=\"s\">&quot;truncated_normal&quot;</span><span class=\"nt\">&gt;</span>\n",
       "    <span class=\"nt\">&lt;listOfParameters&gt;</span>\n",
       "      <span class=\"nt\">&lt;parameter</span> <span class=\"na\">id=</span><span class=\"s\">&quot;y&quot;</span> <span class=\"na\">value=</span><span class=\"s\">&quot;1&quot;</span> <span class=\"na\">constant=</span><span class=\"s\">&quot;true&quot;</span><span class=\"nt\">/&gt;</span>\n",
       "      <span class=\"nt\">&lt;parameter</span> <span class=\"na\">id=</span><span class=\"s\">&quot;z&quot;</span> <span class=\"na\">value=</span><span class=\"s\">&quot;1&quot;</span> <span class=\"na\">constant=</span><span class=\"s\">&quot;true&quot;</span><span class=\"nt\">/&gt;</span>\n",
       "    <span class=\"nt\">&lt;/listOfParameters&gt;</span>\n",
       "    <span class=\"nt\">&lt;listOfInitialAssignments&gt;</span>\n",
       "      <span class=\"nt\">&lt;initialAssignment</span> <span class=\"na\">symbol=</span><span class=\"s\">&quot;y&quot;</span><span class=\"nt\">&gt;</span>\n",
       "        <span class=\"nt\">&lt;math</span> <span class=\"na\">xmlns=</span><span class=\"s\">&quot;http://www.w3.org/1998/Math/MathML&quot;</span><span class=\"nt\">&gt;</span>\n",
       "          <span class=\"nt\">&lt;apply&gt;</span>\n",
       "            <span class=\"nt\">&lt;csymbol</span> <span class=\"na\">encoding=</span><span class=\"s\">&quot;text&quot;</span> <span class=\"na\">definitionURL=</span><span class=\"s\">&quot;http://www.sbml.org/sbml/symbols/distrib/normal&quot;</span><span class=\"nt\">&gt;</span> normal <span class=\"nt\">&lt;/csymbol&gt;</span>\n",
       "            <span class=\"nt\">&lt;ci&gt;</span> z <span class=\"nt\">&lt;/ci&gt;</span>\n",
       "            <span class=\"nt\">&lt;cn</span> <span class=\"na\">type=</span><span class=\"s\">&quot;integer&quot;</span><span class=\"nt\">&gt;</span> 10 <span class=\"nt\">&lt;/cn&gt;</span>\n",
       "            <span class=\"nt\">&lt;apply&gt;</span>\n",
       "              <span class=\"nt\">&lt;minus/&gt;</span>\n",
       "              <span class=\"nt\">&lt;ci&gt;</span> z <span class=\"nt\">&lt;/ci&gt;</span>\n",
       "              <span class=\"nt\">&lt;cn</span> <span class=\"na\">type=</span><span class=\"s\">&quot;integer&quot;</span><span class=\"nt\">&gt;</span> 2 <span class=\"nt\">&lt;/cn&gt;</span>\n",
       "            <span class=\"nt\">&lt;/apply&gt;</span>\n",
       "            <span class=\"nt\">&lt;apply&gt;</span>\n",
       "              <span class=\"nt\">&lt;plus/&gt;</span>\n",
       "              <span class=\"nt\">&lt;ci&gt;</span> z <span class=\"nt\">&lt;/ci&gt;</span>\n",
       "              <span class=\"nt\">&lt;cn</span> <span class=\"na\">type=</span><span class=\"s\">&quot;integer&quot;</span><span class=\"nt\">&gt;</span> 2 <span class=\"nt\">&lt;/cn&gt;</span>\n",
       "            <span class=\"nt\">&lt;/apply&gt;</span>\n",
       "          <span class=\"nt\">&lt;/apply&gt;</span>\n",
       "        <span class=\"nt\">&lt;/math&gt;</span>\n",
       "      <span class=\"nt\">&lt;/initialAssignment&gt;</span>\n",
       "    <span class=\"nt\">&lt;/listOfInitialAssignments&gt;</span>\n",
       "  <span class=\"nt\">&lt;/model&gt;</span>\n",
       "<span class=\"nt\">&lt;/sbml&gt;</span>\n",
       "</pre></div>\n"
      ]
     },
     "metadata": {},
     "output_type": "display_data"
    },
    {
     "data": {
      "text/html": [
       "<pre style=\"white-space:pre;overflow-x:auto;line-height:normal;font-family:Menlo,'DejaVu Sans Mono',consolas,'Courier New',monospace\">\n",
       "</pre>\n"
      ],
      "text/plain": [
       "\n"
      ]
     },
     "metadata": {},
     "output_type": "display_data"
    },
    {
     "data": {
      "text/html": [
       "<pre style=\"white-space:pre;overflow-x:auto;line-height:normal;font-family:Menlo,'DejaVu Sans Mono',consolas,'Courier New',monospace\"><span style=\"color: #008000; text-decoration-color: #008000\">─────────────────────────────────────── </span>Validate SBML<span style=\"color: #008000; text-decoration-color: #008000\"> ───────────────────────────────────────</span>\n",
       "</pre>\n"
      ],
      "text/plain": [
       "\u001b[32m─────────────────────────────────────── \u001b[0mValidate SBML\u001b[32m ───────────────────────────────────────\u001b[0m\n"
      ]
     },
     "metadata": {},
     "output_type": "display_data"
    },
    {
     "data": {
      "text/html": [
       "<pre style=\"white-space:pre;overflow-x:auto;line-height:normal;font-family:Menlo,'DejaVu Sans Mono',consolas,'Courier New',monospace\"><span style=\"color: #008000; text-decoration-color: #008000; font-weight: bold\">&lt;</span><span style=\"color: #ff00ff; text-decoration-color: #ff00ff; font-weight: bold\">SBMLDocument</span><span style=\"color: #008000; text-decoration-color: #008000; font-weight: bold\">&gt;</span>\n",
       "<span style=\"color: #008000; text-decoration-color: #008000\">valid                    : TRUE</span>\n",
       "<span style=\"color: #008000; text-decoration-color: #008000\">check time </span><span style=\"color: #008000; text-decoration-color: #008000; font-weight: bold\">(</span><span style=\"color: #008000; text-decoration-color: #008000\">s</span><span style=\"color: #008000; text-decoration-color: #008000; font-weight: bold\">)</span><span style=\"color: #008000; text-decoration-color: #008000\">           : </span><span style=\"color: #008080; text-decoration-color: #008080; font-weight: bold\">0.002</span>\n",
       "</pre>\n"
      ],
      "text/plain": [
       "\u001b[1;32m<\u001b[0m\u001b[1;95mSBMLDocument\u001b[0m\u001b[1;32m>\u001b[0m\n",
       "\u001b[32mvalid                    : TRUE\u001b[0m\n",
       "\u001b[32mcheck time \u001b[0m\u001b[1;32m(\u001b[0m\u001b[32ms\u001b[0m\u001b[1;32m)\u001b[0m\u001b[32m           : \u001b[0m\u001b[1;36m0.002\u001b[0m\n"
      ]
     },
     "metadata": {},
     "output_type": "display_data"
    },
    {
     "data": {
      "text/html": [
       "<pre style=\"white-space:pre;overflow-x:auto;line-height:normal;font-family:Menlo,'DejaVu Sans Mono',consolas,'Courier New',monospace\"><span style=\"color: #008000; text-decoration-color: #008000\">─────────────────────────────────────────────────────────────────────────────────────────────</span>\n",
       "</pre>\n"
      ],
      "text/plain": [
       "\u001b[32m─────────────────────────────────────────────────────────────────────────────────────────────\u001b[0m\n"
      ]
     },
     "metadata": {},
     "output_type": "display_data"
    },
    {
     "data": {
      "text/html": [
       "<pre style=\"white-space:pre;overflow-x:auto;line-height:normal;font-family:Menlo,'DejaVu Sans Mono',consolas,'Courier New',monospace\">\n",
       "</pre>\n"
      ],
      "text/plain": [
       "\n"
      ]
     },
     "metadata": {},
     "output_type": "display_data"
    }
   ],
   "source": [
    "model = Model(\n",
    "    'truncated_normal',\n",
    "    packages = ['distrib'],\n",
    "    objects = [\n",
    "        Parameter('y', value=1.0),\n",
    "        Parameter('z', value=1.0),\n",
    "        InitialAssignment('y', 'normal(z, 10, z-2, z+2)'),\n",
    "    ]\n",
    ")\n",
    "\n",
    "# create model and print SBML\n",
    "doc = Document(model)\n",
    "print_xml(doc.get_sbml())\n",
    "\n",
    "# validate model\n",
    "validate_doc(doc.doc, units_consistency=False);"
   ]
  },
  {
   "cell_type": "markdown",
   "metadata": {},
   "source": [
    "### Defining conditional events \n",
    "Simultaneous events in SBML are ordered based on their Priority values, with higher values being executed first, and potentially cancelling events that fire after them. In this example, two simultaneous events have priorities set with csymbols defined in distrib. The event `E0` has a priority of `uniform(0,1)`, while the event `E1` has a priority of `uniform(0,2)`. This means that 75% of the time, event `E1` will have a higher priority than `E0`, and will fire first, assigning a value of `5` to parameter `x`. Because this negates the trigger condition for `E0`, which is set `persistent=\"false\"`, this means that `E0` never fires, and the value of `x` remains at `5`. The remaining 25% of the time, the reverse happens, with `E0` setting the value of `x` to `3` instead."
   ]
  },
  {
   "cell_type": "code",
   "execution_count": 6,
   "metadata": {},
   "outputs": [
    {
     "data": {
      "text/html": [
       "<pre style=\"white-space:pre;overflow-x:auto;line-height:normal;font-family:Menlo,'DejaVu Sans Mono',consolas,'Courier New',monospace\"><span style=\"color: #000080; text-decoration-color: #000080\">INFO    </span> Create SBML for model <span style=\"color: #008000; text-decoration-color: #008000\">'conditional_events'</span>                           <a href=\"file:///home/mkoenig/git/sbmlutils/src/sbmlutils/factory.py\"><span style=\"color: #7f7f7f; text-decoration-color: #7f7f7f\">factory.py</span></a><span style=\"color: #7f7f7f; text-decoration-color: #7f7f7f\">:2896</span>\n",
       "</pre>\n"
      ],
      "text/plain": [
       "\u001b[34mINFO    \u001b[0m Create SBML for model \u001b[32m'conditional_events'\u001b[0m                           \u001b]8;id=543625;file:///home/mkoenig/git/sbmlutils/src/sbmlutils/factory.py\u001b\\\u001b[2mfactory.py\u001b[0m\u001b]8;;\u001b\\\u001b[2m:2896\u001b[0m\n"
      ]
     },
     "metadata": {},
     "output_type": "display_data"
    },
    {
     "data": {
      "text/html": [
       "<pre style=\"white-space:pre;overflow-x:auto;line-height:normal;font-family:Menlo,'DejaVu Sans Mono',consolas,'Courier New',monospace\"><span style=\"color: #800000; text-decoration-color: #800000\">WARNING </span> <span style=\"color: #008000; text-decoration-color: #008000\">'name'</span> should be set on <span style=\"color: #008000; text-decoration-color: #008000\">'&lt;Model conditional_events&gt;'</span>                  <a href=\"file:///home/mkoenig/git/sbmlutils/src/sbmlutils/factory.py\"><span style=\"color: #7f7f7f; text-decoration-color: #7f7f7f\">factory.py</span></a><span style=\"color: #7f7f7f; text-decoration-color: #7f7f7f\">:436</span>\n",
       "</pre>\n"
      ],
      "text/plain": [
       "\u001b[31mWARNING \u001b[0m \u001b[32m'name'\u001b[0m should be set on \u001b[32m'\u001b[0m\u001b[32m<\u001b[0m\u001b[32mModel\u001b[0m\u001b[32m conditional_events\u001b[0m\u001b[32m>\u001b[0m\u001b[32m'\u001b[0m                  \u001b]8;id=330498;file:///home/mkoenig/git/sbmlutils/src/sbmlutils/factory.py\u001b\\\u001b[2mfactory.py\u001b[0m\u001b]8;;\u001b\\\u001b[2m:436\u001b[0m\n"
      ]
     },
     "metadata": {},
     "output_type": "display_data"
    },
    {
     "data": {
      "text/html": [
       "<pre style=\"white-space:pre;overflow-x:auto;line-height:normal;font-family:Menlo,'DejaVu Sans Mono',consolas,'Courier New',monospace\"><span style=\"color: #800000; text-decoration-color: #800000\">WARNING </span> <span style=\"color: #008000; text-decoration-color: #008000\">'name'</span> should be set on <span style=\"color: #008000; text-decoration-color: #008000\">'&lt;Parameter x&gt;'</span>                               <a href=\"file:///home/mkoenig/git/sbmlutils/src/sbmlutils/factory.py\"><span style=\"color: #7f7f7f; text-decoration-color: #7f7f7f\">factory.py</span></a><span style=\"color: #7f7f7f; text-decoration-color: #7f7f7f\">:436</span>\n",
       "</pre>\n"
      ],
      "text/plain": [
       "\u001b[31mWARNING \u001b[0m \u001b[32m'name'\u001b[0m should be set on \u001b[32m'\u001b[0m\u001b[32m<\u001b[0m\u001b[32mParameter\u001b[0m\u001b[32m x\u001b[0m\u001b[32m>\u001b[0m\u001b[32m'\u001b[0m                               \u001b]8;id=203989;file:///home/mkoenig/git/sbmlutils/src/sbmlutils/factory.py\u001b\\\u001b[2mfactory.py\u001b[0m\u001b]8;;\u001b\\\u001b[2m:436\u001b[0m\n"
      ]
     },
     "metadata": {},
     "output_type": "display_data"
    },
    {
     "data": {
      "text/html": [
       "<pre style=\"white-space:pre;overflow-x:auto;line-height:normal;font-family:Menlo,'DejaVu Sans Mono',consolas,'Courier New',monospace\"><span style=\"color: #800000; text-decoration-color: #800000\">WARNING </span> <span style=\"color: #008000; text-decoration-color: #008000\">'sboTerm'</span> should be set on <span style=\"color: #008000; text-decoration-color: #008000\">'&lt;Parameter x&gt;'</span>                            <a href=\"file:///home/mkoenig/git/sbmlutils/src/sbmlutils/factory.py\"><span style=\"color: #7f7f7f; text-decoration-color: #7f7f7f\">factory.py</span></a><span style=\"color: #7f7f7f; text-decoration-color: #7f7f7f\">:461</span>\n",
       "</pre>\n"
      ],
      "text/plain": [
       "\u001b[31mWARNING \u001b[0m \u001b[32m'sboTerm'\u001b[0m should be set on \u001b[32m'\u001b[0m\u001b[32m<\u001b[0m\u001b[32mParameter\u001b[0m\u001b[32m x\u001b[0m\u001b[32m>\u001b[0m\u001b[32m'\u001b[0m                            \u001b]8;id=555086;file:///home/mkoenig/git/sbmlutils/src/sbmlutils/factory.py\u001b\\\u001b[2mfactory.py\u001b[0m\u001b]8;;\u001b\\\u001b[2m:461\u001b[0m\n"
      ]
     },
     "metadata": {},
     "output_type": "display_data"
    },
    {
     "data": {
      "text/html": [
       "<pre style=\"white-space:pre;overflow-x:auto;line-height:normal;font-family:Menlo,'DejaVu Sans Mono',consolas,'Courier New',monospace\"><span style=\"color: #800000; text-decoration-color: #800000\">WARNING </span> <span style=\"color: #008000; text-decoration-color: #008000\">'name'</span> should be set on <span style=\"color: #008000; text-decoration-color: #008000\">'&lt;Event E0&gt;'</span>                                  <a href=\"file:///home/mkoenig/git/sbmlutils/src/sbmlutils/factory.py\"><span style=\"color: #7f7f7f; text-decoration-color: #7f7f7f\">factory.py</span></a><span style=\"color: #7f7f7f; text-decoration-color: #7f7f7f\">:436</span>\n",
       "</pre>\n"
      ],
      "text/plain": [
       "\u001b[31mWARNING \u001b[0m \u001b[32m'name'\u001b[0m should be set on \u001b[32m'\u001b[0m\u001b[32m<\u001b[0m\u001b[32mEvent\u001b[0m\u001b[32m E0\u001b[0m\u001b[32m>\u001b[0m\u001b[32m'\u001b[0m                                  \u001b]8;id=834545;file:///home/mkoenig/git/sbmlutils/src/sbmlutils/factory.py\u001b\\\u001b[2mfactory.py\u001b[0m\u001b]8;;\u001b\\\u001b[2m:436\u001b[0m\n"
      ]
     },
     "metadata": {},
     "output_type": "display_data"
    },
    {
     "data": {
      "text/html": [
       "<pre style=\"white-space:pre;overflow-x:auto;line-height:normal;font-family:Menlo,'DejaVu Sans Mono',consolas,'Courier New',monospace\"><span style=\"color: #800000; text-decoration-color: #800000\">WARNING </span> <span style=\"color: #008000; text-decoration-color: #008000\">'sboTerm'</span> should be set on <span style=\"color: #008000; text-decoration-color: #008000\">'&lt;Event E0&gt;'</span>                               <a href=\"file:///home/mkoenig/git/sbmlutils/src/sbmlutils/factory.py\"><span style=\"color: #7f7f7f; text-decoration-color: #7f7f7f\">factory.py</span></a><span style=\"color: #7f7f7f; text-decoration-color: #7f7f7f\">:461</span>\n",
       "</pre>\n"
      ],
      "text/plain": [
       "\u001b[31mWARNING \u001b[0m \u001b[32m'sboTerm'\u001b[0m should be set on \u001b[32m'\u001b[0m\u001b[32m<\u001b[0m\u001b[32mEvent\u001b[0m\u001b[32m E0\u001b[0m\u001b[32m>\u001b[0m\u001b[32m'\u001b[0m                               \u001b]8;id=858913;file:///home/mkoenig/git/sbmlutils/src/sbmlutils/factory.py\u001b\\\u001b[2mfactory.py\u001b[0m\u001b]8;;\u001b\\\u001b[2m:461\u001b[0m\n"
      ]
     },
     "metadata": {},
     "output_type": "display_data"
    },
    {
     "data": {
      "text/html": [
       "<pre style=\"white-space:pre;overflow-x:auto;line-height:normal;font-family:Menlo,'DejaVu Sans Mono',consolas,'Courier New',monospace\"><span style=\"color: #800000; text-decoration-color: #800000\">WARNING </span> <span style=\"color: #008000; text-decoration-color: #008000\">'name'</span> should be set on <span style=\"color: #008000; text-decoration-color: #008000\">'&lt;Event E1&gt;'</span>                                  <a href=\"file:///home/mkoenig/git/sbmlutils/src/sbmlutils/factory.py\"><span style=\"color: #7f7f7f; text-decoration-color: #7f7f7f\">factory.py</span></a><span style=\"color: #7f7f7f; text-decoration-color: #7f7f7f\">:436</span>\n",
       "</pre>\n"
      ],
      "text/plain": [
       "\u001b[31mWARNING \u001b[0m \u001b[32m'name'\u001b[0m should be set on \u001b[32m'\u001b[0m\u001b[32m<\u001b[0m\u001b[32mEvent\u001b[0m\u001b[32m E1\u001b[0m\u001b[32m>\u001b[0m\u001b[32m'\u001b[0m                                  \u001b]8;id=287663;file:///home/mkoenig/git/sbmlutils/src/sbmlutils/factory.py\u001b\\\u001b[2mfactory.py\u001b[0m\u001b]8;;\u001b\\\u001b[2m:436\u001b[0m\n"
      ]
     },
     "metadata": {},
     "output_type": "display_data"
    },
    {
     "data": {
      "text/html": [
       "<pre style=\"white-space:pre;overflow-x:auto;line-height:normal;font-family:Menlo,'DejaVu Sans Mono',consolas,'Courier New',monospace\"><span style=\"color: #800000; text-decoration-color: #800000\">WARNING </span> <span style=\"color: #008000; text-decoration-color: #008000\">'sboTerm'</span> should be set on <span style=\"color: #008000; text-decoration-color: #008000\">'&lt;Event E1&gt;'</span>                               <a href=\"file:///home/mkoenig/git/sbmlutils/src/sbmlutils/factory.py\"><span style=\"color: #7f7f7f; text-decoration-color: #7f7f7f\">factory.py</span></a><span style=\"color: #7f7f7f; text-decoration-color: #7f7f7f\">:461</span>\n",
       "</pre>\n"
      ],
      "text/plain": [
       "\u001b[31mWARNING \u001b[0m \u001b[32m'sboTerm'\u001b[0m should be set on \u001b[32m'\u001b[0m\u001b[32m<\u001b[0m\u001b[32mEvent\u001b[0m\u001b[32m E1\u001b[0m\u001b[32m>\u001b[0m\u001b[32m'\u001b[0m                               \u001b]8;id=789040;file:///home/mkoenig/git/sbmlutils/src/sbmlutils/factory.py\u001b\\\u001b[2mfactory.py\u001b[0m\u001b]8;;\u001b\\\u001b[2m:461\u001b[0m\n"
      ]
     },
     "metadata": {},
     "output_type": "display_data"
    },
    {
     "data": {
      "text/html": [
       "<style type=\"text/css\">pre { line-height: 125%; }\n",
       "td.linenos .normal { color: inherit; background-color: transparent; padding-left: 5px; padding-right: 5px; }\n",
       "span.linenos { color: inherit; background-color: transparent; padding-left: 5px; padding-right: 5px; }\n",
       "td.linenos .special { color: #000000; background-color: #ffffc0; padding-left: 5px; padding-right: 5px; }\n",
       "span.linenos.special { color: #000000; background-color: #ffffc0; padding-left: 5px; padding-right: 5px; }\n",
       ".highlight .hll { background-color: #ffffcc }\n",
       ".highlight { background: #f8f8f8; }\n",
       ".highlight .c { color: #408080; font-style: italic } /* Comment */\n",
       ".highlight .err { border: 1px solid #FF0000 } /* Error */\n",
       ".highlight .k { color: #008000; font-weight: bold } /* Keyword */\n",
       ".highlight .o { color: #666666 } /* Operator */\n",
       ".highlight .ch { color: #408080; font-style: italic } /* Comment.Hashbang */\n",
       ".highlight .cm { color: #408080; font-style: italic } /* Comment.Multiline */\n",
       ".highlight .cp { color: #BC7A00 } /* Comment.Preproc */\n",
       ".highlight .cpf { color: #408080; font-style: italic } /* Comment.PreprocFile */\n",
       ".highlight .c1 { color: #408080; font-style: italic } /* Comment.Single */\n",
       ".highlight .cs { color: #408080; font-style: italic } /* Comment.Special */\n",
       ".highlight .gd { color: #A00000 } /* Generic.Deleted */\n",
       ".highlight .ge { font-style: italic } /* Generic.Emph */\n",
       ".highlight .gr { color: #FF0000 } /* Generic.Error */\n",
       ".highlight .gh { color: #000080; font-weight: bold } /* Generic.Heading */\n",
       ".highlight .gi { color: #00A000 } /* Generic.Inserted */\n",
       ".highlight .go { color: #888888 } /* Generic.Output */\n",
       ".highlight .gp { color: #000080; font-weight: bold } /* Generic.Prompt */\n",
       ".highlight .gs { font-weight: bold } /* Generic.Strong */\n",
       ".highlight .gu { color: #800080; font-weight: bold } /* Generic.Subheading */\n",
       ".highlight .gt { color: #0044DD } /* Generic.Traceback */\n",
       ".highlight .kc { color: #008000; font-weight: bold } /* Keyword.Constant */\n",
       ".highlight .kd { color: #008000; font-weight: bold } /* Keyword.Declaration */\n",
       ".highlight .kn { color: #008000; font-weight: bold } /* Keyword.Namespace */\n",
       ".highlight .kp { color: #008000 } /* Keyword.Pseudo */\n",
       ".highlight .kr { color: #008000; font-weight: bold } /* Keyword.Reserved */\n",
       ".highlight .kt { color: #B00040 } /* Keyword.Type */\n",
       ".highlight .m { color: #666666 } /* Literal.Number */\n",
       ".highlight .s { color: #BA2121 } /* Literal.String */\n",
       ".highlight .na { color: #7D9029 } /* Name.Attribute */\n",
       ".highlight .nb { color: #008000 } /* Name.Builtin */\n",
       ".highlight .nc { color: #0000FF; font-weight: bold } /* Name.Class */\n",
       ".highlight .no { color: #880000 } /* Name.Constant */\n",
       ".highlight .nd { color: #AA22FF } /* Name.Decorator */\n",
       ".highlight .ni { color: #999999; font-weight: bold } /* Name.Entity */\n",
       ".highlight .ne { color: #D2413A; font-weight: bold } /* Name.Exception */\n",
       ".highlight .nf { color: #0000FF } /* Name.Function */\n",
       ".highlight .nl { color: #A0A000 } /* Name.Label */\n",
       ".highlight .nn { color: #0000FF; font-weight: bold } /* Name.Namespace */\n",
       ".highlight .nt { color: #008000; font-weight: bold } /* Name.Tag */\n",
       ".highlight .nv { color: #19177C } /* Name.Variable */\n",
       ".highlight .ow { color: #AA22FF; font-weight: bold } /* Operator.Word */\n",
       ".highlight .w { color: #bbbbbb } /* Text.Whitespace */\n",
       ".highlight .mb { color: #666666 } /* Literal.Number.Bin */\n",
       ".highlight .mf { color: #666666 } /* Literal.Number.Float */\n",
       ".highlight .mh { color: #666666 } /* Literal.Number.Hex */\n",
       ".highlight .mi { color: #666666 } /* Literal.Number.Integer */\n",
       ".highlight .mo { color: #666666 } /* Literal.Number.Oct */\n",
       ".highlight .sa { color: #BA2121 } /* Literal.String.Affix */\n",
       ".highlight .sb { color: #BA2121 } /* Literal.String.Backtick */\n",
       ".highlight .sc { color: #BA2121 } /* Literal.String.Char */\n",
       ".highlight .dl { color: #BA2121 } /* Literal.String.Delimiter */\n",
       ".highlight .sd { color: #BA2121; font-style: italic } /* Literal.String.Doc */\n",
       ".highlight .s2 { color: #BA2121 } /* Literal.String.Double */\n",
       ".highlight .se { color: #BB6622; font-weight: bold } /* Literal.String.Escape */\n",
       ".highlight .sh { color: #BA2121 } /* Literal.String.Heredoc */\n",
       ".highlight .si { color: #BB6688; font-weight: bold } /* Literal.String.Interpol */\n",
       ".highlight .sx { color: #008000 } /* Literal.String.Other */\n",
       ".highlight .sr { color: #BB6688 } /* Literal.String.Regex */\n",
       ".highlight .s1 { color: #BA2121 } /* Literal.String.Single */\n",
       ".highlight .ss { color: #19177C } /* Literal.String.Symbol */\n",
       ".highlight .bp { color: #008000 } /* Name.Builtin.Pseudo */\n",
       ".highlight .fm { color: #0000FF } /* Name.Function.Magic */\n",
       ".highlight .vc { color: #19177C } /* Name.Variable.Class */\n",
       ".highlight .vg { color: #19177C } /* Name.Variable.Global */\n",
       ".highlight .vi { color: #19177C } /* Name.Variable.Instance */\n",
       ".highlight .vm { color: #19177C } /* Name.Variable.Magic */\n",
       ".highlight .il { color: #666666 } /* Literal.Number.Integer.Long */</style>    <div class=\"highlight\"><pre><span></span><span class=\"cp\">&lt;?xml version=&quot;1.0&quot; encoding=&quot;UTF-8&quot;?&gt;</span>\n",
       "<span class=\"nt\">&lt;sbml</span> <span class=\"na\">xmlns=</span><span class=\"s\">&quot;http://www.sbml.org/sbml/level3/version1/core&quot;</span> <span class=\"na\">xmlns:comp=</span><span class=\"s\">&quot;http://www.sbml.org/sbml/level3/version1/comp/version1&quot;</span> <span class=\"na\">xmlns:distrib=</span><span class=\"s\">&quot;http://www.sbml.org/sbml/level3/version1/distrib/version1&quot;</span> <span class=\"na\">level=</span><span class=\"s\">&quot;3&quot;</span> <span class=\"na\">version=</span><span class=\"s\">&quot;1&quot;</span> <span class=\"na\">comp:required=</span><span class=\"s\">&quot;true&quot;</span> <span class=\"na\">distrib:required=</span><span class=\"s\">&quot;true&quot;</span><span class=\"nt\">&gt;</span>\n",
       "  <span class=\"nt\">&lt;notes&gt;</span>\n",
       "    <span class=\"nt\">&lt;body</span> <span class=\"na\">xmlns=</span><span class=\"s\">&quot;http://www.w3.org/1999/xhtml&quot;</span><span class=\"nt\">&gt;</span>\n",
       "      <span class=\"nt\">&lt;p&gt;</span>Created with <span class=\"nt\">&lt;a</span> <span class=\"na\">href=</span><span class=\"s\">&quot;https://github.com/matthiaskoenig/sbmlutils&quot;</span><span class=\"nt\">&gt;</span>https://github.com/matthiaskoenig/sbmlutils<span class=\"nt\">&lt;/a&gt;</span>.\n",
       "<span class=\"nt\">&lt;a</span> <span class=\"na\">href=</span><span class=\"s\">&quot;https://doi.org/10.5281/zenodo.5525390&quot;</span><span class=\"nt\">&gt;</span>\n",
       "        <span class=\"nt\">&lt;img</span> <span class=\"na\">src=</span><span class=\"s\">&quot;https://zenodo.org/badge/DOI/10.5281/zenodo.5525390.svg&quot;</span> <span class=\"na\">alt=</span><span class=\"s\">&quot;DOI&quot;</span><span class=\"nt\">/&gt;&lt;/a&gt;&lt;/p&gt;</span>\n",
       "      <span class=\"nt\">&lt;/body&gt;</span>\n",
       "    <span class=\"nt\">&lt;/notes&gt;</span>\n",
       "  <span class=\"nt\">&lt;model</span> <span class=\"na\">id=</span><span class=\"s\">&quot;conditional_events&quot;</span><span class=\"nt\">&gt;</span>\n",
       "    <span class=\"nt\">&lt;listOfParameters&gt;</span>\n",
       "      <span class=\"nt\">&lt;parameter</span> <span class=\"na\">id=</span><span class=\"s\">&quot;x&quot;</span> <span class=\"na\">value=</span><span class=\"s\">&quot;1&quot;</span> <span class=\"na\">constant=</span><span class=\"s\">&quot;false&quot;</span><span class=\"nt\">/&gt;</span>\n",
       "    <span class=\"nt\">&lt;/listOfParameters&gt;</span>\n",
       "    <span class=\"nt\">&lt;listOfEvents&gt;</span>\n",
       "      <span class=\"nt\">&lt;event</span> <span class=\"na\">id=</span><span class=\"s\">&quot;E0&quot;</span> <span class=\"na\">useValuesFromTriggerTime=</span><span class=\"s\">&quot;true&quot;</span><span class=\"nt\">&gt;</span>\n",
       "        <span class=\"nt\">&lt;trigger</span> <span class=\"na\">initialValue=</span><span class=\"s\">&quot;true&quot;</span> <span class=\"na\">persistent=</span><span class=\"s\">&quot;false&quot;</span><span class=\"nt\">&gt;</span>\n",
       "          <span class=\"nt\">&lt;math</span> <span class=\"na\">xmlns=</span><span class=\"s\">&quot;http://www.w3.org/1998/Math/MathML&quot;</span><span class=\"nt\">&gt;</span>\n",
       "            <span class=\"nt\">&lt;apply&gt;</span>\n",
       "              <span class=\"nt\">&lt;and/&gt;</span>\n",
       "              <span class=\"nt\">&lt;apply&gt;</span>\n",
       "                <span class=\"nt\">&lt;gt/&gt;</span>\n",
       "                <span class=\"nt\">&lt;csymbol</span> <span class=\"na\">encoding=</span><span class=\"s\">&quot;text&quot;</span> <span class=\"na\">definitionURL=</span><span class=\"s\">&quot;http://www.sbml.org/sbml/symbols/time&quot;</span><span class=\"nt\">&gt;</span> time <span class=\"nt\">&lt;/csymbol&gt;</span>\n",
       "                <span class=\"nt\">&lt;cn</span> <span class=\"na\">type=</span><span class=\"s\">&quot;integer&quot;</span><span class=\"nt\">&gt;</span> 2 <span class=\"nt\">&lt;/cn&gt;</span>\n",
       "              <span class=\"nt\">&lt;/apply&gt;</span>\n",
       "              <span class=\"nt\">&lt;apply&gt;</span>\n",
       "                <span class=\"nt\">&lt;lt/&gt;</span>\n",
       "                <span class=\"nt\">&lt;ci&gt;</span> x <span class=\"nt\">&lt;/ci&gt;</span>\n",
       "                <span class=\"nt\">&lt;cn</span> <span class=\"na\">type=</span><span class=\"s\">&quot;integer&quot;</span><span class=\"nt\">&gt;</span> 1 <span class=\"nt\">&lt;/cn&gt;</span>\n",
       "              <span class=\"nt\">&lt;/apply&gt;</span>\n",
       "            <span class=\"nt\">&lt;/apply&gt;</span>\n",
       "          <span class=\"nt\">&lt;/math&gt;</span>\n",
       "        <span class=\"nt\">&lt;/trigger&gt;</span>\n",
       "        <span class=\"nt\">&lt;priority&gt;</span>\n",
       "          <span class=\"nt\">&lt;math</span> <span class=\"na\">xmlns=</span><span class=\"s\">&quot;http://www.w3.org/1998/Math/MathML&quot;</span><span class=\"nt\">&gt;</span>\n",
       "            <span class=\"nt\">&lt;apply&gt;</span>\n",
       "              <span class=\"nt\">&lt;csymbol</span> <span class=\"na\">encoding=</span><span class=\"s\">&quot;text&quot;</span> <span class=\"na\">definitionURL=</span><span class=\"s\">&quot;http://www.sbml.org/sbml/symbols/distrib/uniform&quot;</span><span class=\"nt\">&gt;</span> uniform <span class=\"nt\">&lt;/csymbol&gt;</span>\n",
       "              <span class=\"nt\">&lt;cn</span> <span class=\"na\">type=</span><span class=\"s\">&quot;integer&quot;</span><span class=\"nt\">&gt;</span> 0 <span class=\"nt\">&lt;/cn&gt;</span>\n",
       "              <span class=\"nt\">&lt;cn</span> <span class=\"na\">type=</span><span class=\"s\">&quot;integer&quot;</span><span class=\"nt\">&gt;</span> 1 <span class=\"nt\">&lt;/cn&gt;</span>\n",
       "            <span class=\"nt\">&lt;/apply&gt;</span>\n",
       "          <span class=\"nt\">&lt;/math&gt;</span>\n",
       "        <span class=\"nt\">&lt;/priority&gt;</span>\n",
       "        <span class=\"nt\">&lt;listOfEventAssignments&gt;</span>\n",
       "          <span class=\"nt\">&lt;eventAssignment</span> <span class=\"na\">variable=</span><span class=\"s\">&quot;x&quot;</span><span class=\"nt\">&gt;</span>\n",
       "            <span class=\"nt\">&lt;math</span> <span class=\"na\">xmlns=</span><span class=\"s\">&quot;http://www.w3.org/1998/Math/MathML&quot;</span><span class=\"nt\">&gt;</span>\n",
       "              <span class=\"nt\">&lt;cn</span> <span class=\"na\">type=</span><span class=\"s\">&quot;integer&quot;</span><span class=\"nt\">&gt;</span> 3 <span class=\"nt\">&lt;/cn&gt;</span>\n",
       "            <span class=\"nt\">&lt;/math&gt;</span>\n",
       "          <span class=\"nt\">&lt;/eventAssignment&gt;</span>\n",
       "        <span class=\"nt\">&lt;/listOfEventAssignments&gt;</span>\n",
       "      <span class=\"nt\">&lt;/event&gt;</span>\n",
       "      <span class=\"nt\">&lt;event</span> <span class=\"na\">id=</span><span class=\"s\">&quot;E1&quot;</span> <span class=\"na\">useValuesFromTriggerTime=</span><span class=\"s\">&quot;true&quot;</span><span class=\"nt\">&gt;</span>\n",
       "        <span class=\"nt\">&lt;trigger</span> <span class=\"na\">initialValue=</span><span class=\"s\">&quot;true&quot;</span> <span class=\"na\">persistent=</span><span class=\"s\">&quot;false&quot;</span><span class=\"nt\">&gt;</span>\n",
       "          <span class=\"nt\">&lt;math</span> <span class=\"na\">xmlns=</span><span class=\"s\">&quot;http://www.w3.org/1998/Math/MathML&quot;</span><span class=\"nt\">&gt;</span>\n",
       "            <span class=\"nt\">&lt;apply&gt;</span>\n",
       "              <span class=\"nt\">&lt;and/&gt;</span>\n",
       "              <span class=\"nt\">&lt;apply&gt;</span>\n",
       "                <span class=\"nt\">&lt;gt/&gt;</span>\n",
       "                <span class=\"nt\">&lt;csymbol</span> <span class=\"na\">encoding=</span><span class=\"s\">&quot;text&quot;</span> <span class=\"na\">definitionURL=</span><span class=\"s\">&quot;http://www.sbml.org/sbml/symbols/time&quot;</span><span class=\"nt\">&gt;</span> time <span class=\"nt\">&lt;/csymbol&gt;</span>\n",
       "                <span class=\"nt\">&lt;cn</span> <span class=\"na\">type=</span><span class=\"s\">&quot;integer&quot;</span><span class=\"nt\">&gt;</span> 2 <span class=\"nt\">&lt;/cn&gt;</span>\n",
       "              <span class=\"nt\">&lt;/apply&gt;</span>\n",
       "              <span class=\"nt\">&lt;apply&gt;</span>\n",
       "                <span class=\"nt\">&lt;lt/&gt;</span>\n",
       "                <span class=\"nt\">&lt;ci&gt;</span> x <span class=\"nt\">&lt;/ci&gt;</span>\n",
       "                <span class=\"nt\">&lt;cn</span> <span class=\"na\">type=</span><span class=\"s\">&quot;integer&quot;</span><span class=\"nt\">&gt;</span> 1 <span class=\"nt\">&lt;/cn&gt;</span>\n",
       "              <span class=\"nt\">&lt;/apply&gt;</span>\n",
       "            <span class=\"nt\">&lt;/apply&gt;</span>\n",
       "          <span class=\"nt\">&lt;/math&gt;</span>\n",
       "        <span class=\"nt\">&lt;/trigger&gt;</span>\n",
       "        <span class=\"nt\">&lt;priority&gt;</span>\n",
       "          <span class=\"nt\">&lt;math</span> <span class=\"na\">xmlns=</span><span class=\"s\">&quot;http://www.w3.org/1998/Math/MathML&quot;</span><span class=\"nt\">&gt;</span>\n",
       "            <span class=\"nt\">&lt;apply&gt;</span>\n",
       "              <span class=\"nt\">&lt;csymbol</span> <span class=\"na\">encoding=</span><span class=\"s\">&quot;text&quot;</span> <span class=\"na\">definitionURL=</span><span class=\"s\">&quot;http://www.sbml.org/sbml/symbols/distrib/uniform&quot;</span><span class=\"nt\">&gt;</span> uniform <span class=\"nt\">&lt;/csymbol&gt;</span>\n",
       "              <span class=\"nt\">&lt;cn</span> <span class=\"na\">type=</span><span class=\"s\">&quot;integer&quot;</span><span class=\"nt\">&gt;</span> 0 <span class=\"nt\">&lt;/cn&gt;</span>\n",
       "              <span class=\"nt\">&lt;cn</span> <span class=\"na\">type=</span><span class=\"s\">&quot;integer&quot;</span><span class=\"nt\">&gt;</span> 2 <span class=\"nt\">&lt;/cn&gt;</span>\n",
       "            <span class=\"nt\">&lt;/apply&gt;</span>\n",
       "          <span class=\"nt\">&lt;/math&gt;</span>\n",
       "        <span class=\"nt\">&lt;/priority&gt;</span>\n",
       "        <span class=\"nt\">&lt;listOfEventAssignments&gt;</span>\n",
       "          <span class=\"nt\">&lt;eventAssignment</span> <span class=\"na\">variable=</span><span class=\"s\">&quot;x&quot;</span><span class=\"nt\">&gt;</span>\n",
       "            <span class=\"nt\">&lt;math</span> <span class=\"na\">xmlns=</span><span class=\"s\">&quot;http://www.w3.org/1998/Math/MathML&quot;</span><span class=\"nt\">&gt;</span>\n",
       "              <span class=\"nt\">&lt;cn</span> <span class=\"na\">type=</span><span class=\"s\">&quot;integer&quot;</span><span class=\"nt\">&gt;</span> 5 <span class=\"nt\">&lt;/cn&gt;</span>\n",
       "            <span class=\"nt\">&lt;/math&gt;</span>\n",
       "          <span class=\"nt\">&lt;/eventAssignment&gt;</span>\n",
       "        <span class=\"nt\">&lt;/listOfEventAssignments&gt;</span>\n",
       "      <span class=\"nt\">&lt;/event&gt;</span>\n",
       "    <span class=\"nt\">&lt;/listOfEvents&gt;</span>\n",
       "  <span class=\"nt\">&lt;/model&gt;</span>\n",
       "<span class=\"nt\">&lt;/sbml&gt;</span>\n",
       "</pre></div>\n"
      ]
     },
     "metadata": {},
     "output_type": "display_data"
    },
    {
     "data": {
      "text/html": [
       "<pre style=\"white-space:pre;overflow-x:auto;line-height:normal;font-family:Menlo,'DejaVu Sans Mono',consolas,'Courier New',monospace\">\n",
       "</pre>\n"
      ],
      "text/plain": [
       "\n"
      ]
     },
     "metadata": {},
     "output_type": "display_data"
    },
    {
     "data": {
      "text/html": [
       "<pre style=\"white-space:pre;overflow-x:auto;line-height:normal;font-family:Menlo,'DejaVu Sans Mono',consolas,'Courier New',monospace\"><span style=\"color: #008000; text-decoration-color: #008000\">─────────────────────────────────────── </span>Validate SBML<span style=\"color: #008000; text-decoration-color: #008000\"> ───────────────────────────────────────</span>\n",
       "</pre>\n"
      ],
      "text/plain": [
       "\u001b[32m─────────────────────────────────────── \u001b[0mValidate SBML\u001b[32m ───────────────────────────────────────\u001b[0m\n"
      ]
     },
     "metadata": {},
     "output_type": "display_data"
    },
    {
     "data": {
      "text/html": [
       "<pre style=\"white-space:pre;overflow-x:auto;line-height:normal;font-family:Menlo,'DejaVu Sans Mono',consolas,'Courier New',monospace\"><span style=\"color: #008000; text-decoration-color: #008000; font-weight: bold\">&lt;</span><span style=\"color: #ff00ff; text-decoration-color: #ff00ff; font-weight: bold\">SBMLDocument</span><span style=\"color: #008000; text-decoration-color: #008000; font-weight: bold\">&gt;</span>\n",
       "<span style=\"color: #008000; text-decoration-color: #008000\">valid                    : TRUE</span>\n",
       "<span style=\"color: #008000; text-decoration-color: #008000\">check time </span><span style=\"color: #008000; text-decoration-color: #008000; font-weight: bold\">(</span><span style=\"color: #008000; text-decoration-color: #008000\">s</span><span style=\"color: #008000; text-decoration-color: #008000; font-weight: bold\">)</span><span style=\"color: #008000; text-decoration-color: #008000\">           : </span><span style=\"color: #008080; text-decoration-color: #008080; font-weight: bold\">0.002</span>\n",
       "</pre>\n"
      ],
      "text/plain": [
       "\u001b[1;32m<\u001b[0m\u001b[1;95mSBMLDocument\u001b[0m\u001b[1;32m>\u001b[0m\n",
       "\u001b[32mvalid                    : TRUE\u001b[0m\n",
       "\u001b[32mcheck time \u001b[0m\u001b[1;32m(\u001b[0m\u001b[32ms\u001b[0m\u001b[1;32m)\u001b[0m\u001b[32m           : \u001b[0m\u001b[1;36m0.002\u001b[0m\n"
      ]
     },
     "metadata": {},
     "output_type": "display_data"
    },
    {
     "data": {
      "text/html": [
       "<pre style=\"white-space:pre;overflow-x:auto;line-height:normal;font-family:Menlo,'DejaVu Sans Mono',consolas,'Courier New',monospace\"><span style=\"color: #008000; text-decoration-color: #008000\">─────────────────────────────────────────────────────────────────────────────────────────────</span>\n",
       "</pre>\n"
      ],
      "text/plain": [
       "\u001b[32m─────────────────────────────────────────────────────────────────────────────────────────────\u001b[0m\n"
      ]
     },
     "metadata": {},
     "output_type": "display_data"
    },
    {
     "data": {
      "text/html": [
       "<pre style=\"white-space:pre;overflow-x:auto;line-height:normal;font-family:Menlo,'DejaVu Sans Mono',consolas,'Courier New',monospace\">\n",
       "</pre>\n"
      ],
      "text/plain": [
       "\n"
      ]
     },
     "metadata": {},
     "output_type": "display_data"
    }
   ],
   "source": [
    "model = Model(\n",
    "    'conditional_events',\n",
    "    packages=['distrib'],\n",
    "    objects=[\n",
    "        Parameter('x', value=1.0, constant=False),\n",
    "        Event(\n",
    "            \"E0\", \n",
    "            trigger=\"time>2 && x<1\", \n",
    "            priority=\"uniform(0, 1)\",\n",
    "            trigger_initialValue=True, trigger_persistent=False,\n",
    "            assignments={\"x\": \"3\"}\n",
    "        ),\n",
    "        Event(\n",
    "            \"E1\", \n",
    "            trigger=\"time>2 && x<1\", \n",
    "            priority=\"uniform(0, 2)\",\n",
    "            trigger_initialValue=True, trigger_persistent=False,\n",
    "            assignments={\"x\": \"5\"}\n",
    "        )\n",
    "    ]\n",
    ")\n",
    "\n",
    "# create model and print SBML\n",
    "doc = Document(model)\n",
    "print_xml(doc.get_sbml())\n",
    "\n",
    "# validate model\n",
    "validate_doc(doc.doc, units_consistency=False);"
   ]
  },
  {
   "cell_type": "markdown",
   "metadata": {
    "jupyter": {
     "outputs_hidden": true
    }
   },
   "source": [
    "### Overview of all distributions\n",
    "The following gives an example how to use all of the various distributions"
   ]
  },
  {
   "cell_type": "code",
   "execution_count": 7,
   "metadata": {},
   "outputs": [
    {
     "data": {
      "text/html": [
       "<pre style=\"white-space:pre;overflow-x:auto;line-height:normal;font-family:Menlo,'DejaVu Sans Mono',consolas,'Courier New',monospace\"><span style=\"color: #000080; text-decoration-color: #000080\">INFO    </span> Create SBML for model <span style=\"color: #008000; text-decoration-color: #008000\">'all_distributions'</span>                            <a href=\"file:///home/mkoenig/git/sbmlutils/src/sbmlutils/factory.py\"><span style=\"color: #7f7f7f; text-decoration-color: #7f7f7f\">factory.py</span></a><span style=\"color: #7f7f7f; text-decoration-color: #7f7f7f\">:2896</span>\n",
       "</pre>\n"
      ],
      "text/plain": [
       "\u001b[34mINFO    \u001b[0m Create SBML for model \u001b[32m'all_distributions'\u001b[0m                            \u001b]8;id=9247;file:///home/mkoenig/git/sbmlutils/src/sbmlutils/factory.py\u001b\\\u001b[2mfactory.py\u001b[0m\u001b]8;;\u001b\\\u001b[2m:2896\u001b[0m\n"
      ]
     },
     "metadata": {},
     "output_type": "display_data"
    },
    {
     "data": {
      "text/html": [
       "<pre style=\"white-space:pre;overflow-x:auto;line-height:normal;font-family:Menlo,'DejaVu Sans Mono',consolas,'Courier New',monospace\"><span style=\"color: #800000; text-decoration-color: #800000\">WARNING </span> <span style=\"color: #008000; text-decoration-color: #008000\">'name'</span> should be set on <span style=\"color: #008000; text-decoration-color: #008000\">'&lt;Model all_distributions&gt;'</span>                   <a href=\"file:///home/mkoenig/git/sbmlutils/src/sbmlutils/factory.py\"><span style=\"color: #7f7f7f; text-decoration-color: #7f7f7f\">factory.py</span></a><span style=\"color: #7f7f7f; text-decoration-color: #7f7f7f\">:436</span>\n",
       "</pre>\n"
      ],
      "text/plain": [
       "\u001b[31mWARNING \u001b[0m \u001b[32m'name'\u001b[0m should be set on \u001b[32m'\u001b[0m\u001b[32m<\u001b[0m\u001b[32mModel\u001b[0m\u001b[32m all_distributions\u001b[0m\u001b[32m>\u001b[0m\u001b[32m'\u001b[0m                   \u001b]8;id=634893;file:///home/mkoenig/git/sbmlutils/src/sbmlutils/factory.py\u001b\\\u001b[2mfactory.py\u001b[0m\u001b]8;;\u001b\\\u001b[2m:436\u001b[0m\n"
      ]
     },
     "metadata": {},
     "output_type": "display_data"
    },
    {
     "data": {
      "text/html": [
       "<pre style=\"white-space:pre;overflow-x:auto;line-height:normal;font-family:Menlo,'DejaVu Sans Mono',consolas,'Courier New',monospace\"><span style=\"color: #800000; text-decoration-color: #800000\">WARNING </span> <span style=\"color: #008000; text-decoration-color: #008000\">'name'</span> should be set on <span style=\"color: #008000; text-decoration-color: #008000\">'&lt;Parameter p_normal_1&gt;'</span>                      <a href=\"file:///home/mkoenig/git/sbmlutils/src/sbmlutils/factory.py\"><span style=\"color: #7f7f7f; text-decoration-color: #7f7f7f\">factory.py</span></a><span style=\"color: #7f7f7f; text-decoration-color: #7f7f7f\">:436</span>\n",
       "</pre>\n"
      ],
      "text/plain": [
       "\u001b[31mWARNING \u001b[0m \u001b[32m'name'\u001b[0m should be set on \u001b[32m'\u001b[0m\u001b[32m<\u001b[0m\u001b[32mParameter\u001b[0m\u001b[32m p_normal_1\u001b[0m\u001b[32m>\u001b[0m\u001b[32m'\u001b[0m                      \u001b]8;id=201119;file:///home/mkoenig/git/sbmlutils/src/sbmlutils/factory.py\u001b\\\u001b[2mfactory.py\u001b[0m\u001b]8;;\u001b\\\u001b[2m:436\u001b[0m\n"
      ]
     },
     "metadata": {},
     "output_type": "display_data"
    },
    {
     "data": {
      "text/html": [
       "<pre style=\"white-space:pre;overflow-x:auto;line-height:normal;font-family:Menlo,'DejaVu Sans Mono',consolas,'Courier New',monospace\"><span style=\"color: #800000; text-decoration-color: #800000\">WARNING </span> <span style=\"color: #008000; text-decoration-color: #008000\">'sboTerm'</span> should be set on <span style=\"color: #008000; text-decoration-color: #008000\">'&lt;Parameter p_normal_1&gt;'</span>                   <a href=\"file:///home/mkoenig/git/sbmlutils/src/sbmlutils/factory.py\"><span style=\"color: #7f7f7f; text-decoration-color: #7f7f7f\">factory.py</span></a><span style=\"color: #7f7f7f; text-decoration-color: #7f7f7f\">:461</span>\n",
       "</pre>\n"
      ],
      "text/plain": [
       "\u001b[31mWARNING \u001b[0m \u001b[32m'sboTerm'\u001b[0m should be set on \u001b[32m'\u001b[0m\u001b[32m<\u001b[0m\u001b[32mParameter\u001b[0m\u001b[32m p_normal_1\u001b[0m\u001b[32m>\u001b[0m\u001b[32m'\u001b[0m                   \u001b]8;id=819355;file:///home/mkoenig/git/sbmlutils/src/sbmlutils/factory.py\u001b\\\u001b[2mfactory.py\u001b[0m\u001b]8;;\u001b\\\u001b[2m:461\u001b[0m\n"
      ]
     },
     "metadata": {},
     "output_type": "display_data"
    },
    {
     "data": {
      "text/html": [
       "<pre style=\"white-space:pre;overflow-x:auto;line-height:normal;font-family:Menlo,'DejaVu Sans Mono',consolas,'Courier New',monospace\"><span style=\"color: #800000; text-decoration-color: #800000\">WARNING </span> <span style=\"color: #008000; text-decoration-color: #008000\">'name'</span> should be set on <span style=\"color: #008000; text-decoration-color: #008000\">'&lt;InitialAssignment p_normal_1&gt;'</span>              <a href=\"file:///home/mkoenig/git/sbmlutils/src/sbmlutils/factory.py\"><span style=\"color: #7f7f7f; text-decoration-color: #7f7f7f\">factory.py</span></a><span style=\"color: #7f7f7f; text-decoration-color: #7f7f7f\">:436</span>\n",
       "</pre>\n"
      ],
      "text/plain": [
       "\u001b[31mWARNING \u001b[0m \u001b[32m'name'\u001b[0m should be set on \u001b[32m'\u001b[0m\u001b[32m<\u001b[0m\u001b[32mInitialAssignment\u001b[0m\u001b[32m p_normal_1\u001b[0m\u001b[32m>\u001b[0m\u001b[32m'\u001b[0m              \u001b]8;id=534111;file:///home/mkoenig/git/sbmlutils/src/sbmlutils/factory.py\u001b\\\u001b[2mfactory.py\u001b[0m\u001b]8;;\u001b\\\u001b[2m:436\u001b[0m\n"
      ]
     },
     "metadata": {},
     "output_type": "display_data"
    },
    {
     "data": {
      "text/html": [
       "<pre style=\"white-space:pre;overflow-x:auto;line-height:normal;font-family:Menlo,'DejaVu Sans Mono',consolas,'Courier New',monospace\"><span style=\"color: #800000; text-decoration-color: #800000\">WARNING </span> <span style=\"color: #008000; text-decoration-color: #008000\">'sboTerm'</span> should be set on <span style=\"color: #008000; text-decoration-color: #008000\">'&lt;InitialAssignment p_normal_1&gt;'</span>           <a href=\"file:///home/mkoenig/git/sbmlutils/src/sbmlutils/factory.py\"><span style=\"color: #7f7f7f; text-decoration-color: #7f7f7f\">factory.py</span></a><span style=\"color: #7f7f7f; text-decoration-color: #7f7f7f\">:461</span>\n",
       "</pre>\n"
      ],
      "text/plain": [
       "\u001b[31mWARNING \u001b[0m \u001b[32m'sboTerm'\u001b[0m should be set on \u001b[32m'\u001b[0m\u001b[32m<\u001b[0m\u001b[32mInitialAssignment\u001b[0m\u001b[32m p_normal_1\u001b[0m\u001b[32m>\u001b[0m\u001b[32m'\u001b[0m           \u001b]8;id=218130;file:///home/mkoenig/git/sbmlutils/src/sbmlutils/factory.py\u001b\\\u001b[2mfactory.py\u001b[0m\u001b]8;;\u001b\\\u001b[2m:461\u001b[0m\n"
      ]
     },
     "metadata": {},
     "output_type": "display_data"
    },
    {
     "data": {
      "text/html": [
       "<pre style=\"white-space:pre;overflow-x:auto;line-height:normal;font-family:Menlo,'DejaVu Sans Mono',consolas,'Courier New',monospace\"><span style=\"color: #800000; text-decoration-color: #800000\">WARNING </span> <span style=\"color: #008000; text-decoration-color: #008000\">'name'</span> should be set on <span style=\"color: #008000; text-decoration-color: #008000\">'&lt;Parameter p_normal_2&gt;'</span>                      <a href=\"file:///home/mkoenig/git/sbmlutils/src/sbmlutils/factory.py\"><span style=\"color: #7f7f7f; text-decoration-color: #7f7f7f\">factory.py</span></a><span style=\"color: #7f7f7f; text-decoration-color: #7f7f7f\">:436</span>\n",
       "</pre>\n"
      ],
      "text/plain": [
       "\u001b[31mWARNING \u001b[0m \u001b[32m'name'\u001b[0m should be set on \u001b[32m'\u001b[0m\u001b[32m<\u001b[0m\u001b[32mParameter\u001b[0m\u001b[32m p_normal_2\u001b[0m\u001b[32m>\u001b[0m\u001b[32m'\u001b[0m                      \u001b]8;id=721996;file:///home/mkoenig/git/sbmlutils/src/sbmlutils/factory.py\u001b\\\u001b[2mfactory.py\u001b[0m\u001b]8;;\u001b\\\u001b[2m:436\u001b[0m\n"
      ]
     },
     "metadata": {},
     "output_type": "display_data"
    },
    {
     "data": {
      "text/html": [
       "<pre style=\"white-space:pre;overflow-x:auto;line-height:normal;font-family:Menlo,'DejaVu Sans Mono',consolas,'Courier New',monospace\"><span style=\"color: #800000; text-decoration-color: #800000\">WARNING </span> <span style=\"color: #008000; text-decoration-color: #008000\">'sboTerm'</span> should be set on <span style=\"color: #008000; text-decoration-color: #008000\">'&lt;Parameter p_normal_2&gt;'</span>                   <a href=\"file:///home/mkoenig/git/sbmlutils/src/sbmlutils/factory.py\"><span style=\"color: #7f7f7f; text-decoration-color: #7f7f7f\">factory.py</span></a><span style=\"color: #7f7f7f; text-decoration-color: #7f7f7f\">:461</span>\n",
       "</pre>\n"
      ],
      "text/plain": [
       "\u001b[31mWARNING \u001b[0m \u001b[32m'sboTerm'\u001b[0m should be set on \u001b[32m'\u001b[0m\u001b[32m<\u001b[0m\u001b[32mParameter\u001b[0m\u001b[32m p_normal_2\u001b[0m\u001b[32m>\u001b[0m\u001b[32m'\u001b[0m                   \u001b]8;id=601968;file:///home/mkoenig/git/sbmlutils/src/sbmlutils/factory.py\u001b\\\u001b[2mfactory.py\u001b[0m\u001b]8;;\u001b\\\u001b[2m:461\u001b[0m\n"
      ]
     },
     "metadata": {},
     "output_type": "display_data"
    },
    {
     "data": {
      "text/html": [
       "<pre style=\"white-space:pre;overflow-x:auto;line-height:normal;font-family:Menlo,'DejaVu Sans Mono',consolas,'Courier New',monospace\"><span style=\"color: #800000; text-decoration-color: #800000\">WARNING </span> <span style=\"color: #008000; text-decoration-color: #008000\">'name'</span> should be set on <span style=\"color: #008000; text-decoration-color: #008000\">'&lt;InitialAssignment p_normal_2&gt;'</span>              <a href=\"file:///home/mkoenig/git/sbmlutils/src/sbmlutils/factory.py\"><span style=\"color: #7f7f7f; text-decoration-color: #7f7f7f\">factory.py</span></a><span style=\"color: #7f7f7f; text-decoration-color: #7f7f7f\">:436</span>\n",
       "</pre>\n"
      ],
      "text/plain": [
       "\u001b[31mWARNING \u001b[0m \u001b[32m'name'\u001b[0m should be set on \u001b[32m'\u001b[0m\u001b[32m<\u001b[0m\u001b[32mInitialAssignment\u001b[0m\u001b[32m p_normal_2\u001b[0m\u001b[32m>\u001b[0m\u001b[32m'\u001b[0m              \u001b]8;id=716231;file:///home/mkoenig/git/sbmlutils/src/sbmlutils/factory.py\u001b\\\u001b[2mfactory.py\u001b[0m\u001b]8;;\u001b\\\u001b[2m:436\u001b[0m\n"
      ]
     },
     "metadata": {},
     "output_type": "display_data"
    },
    {
     "data": {
      "text/html": [
       "<pre style=\"white-space:pre;overflow-x:auto;line-height:normal;font-family:Menlo,'DejaVu Sans Mono',consolas,'Courier New',monospace\"><span style=\"color: #800000; text-decoration-color: #800000\">WARNING </span> <span style=\"color: #008000; text-decoration-color: #008000\">'sboTerm'</span> should be set on <span style=\"color: #008000; text-decoration-color: #008000\">'&lt;InitialAssignment p_normal_2&gt;'</span>           <a href=\"file:///home/mkoenig/git/sbmlutils/src/sbmlutils/factory.py\"><span style=\"color: #7f7f7f; text-decoration-color: #7f7f7f\">factory.py</span></a><span style=\"color: #7f7f7f; text-decoration-color: #7f7f7f\">:461</span>\n",
       "</pre>\n"
      ],
      "text/plain": [
       "\u001b[31mWARNING \u001b[0m \u001b[32m'sboTerm'\u001b[0m should be set on \u001b[32m'\u001b[0m\u001b[32m<\u001b[0m\u001b[32mInitialAssignment\u001b[0m\u001b[32m p_normal_2\u001b[0m\u001b[32m>\u001b[0m\u001b[32m'\u001b[0m           \u001b]8;id=403769;file:///home/mkoenig/git/sbmlutils/src/sbmlutils/factory.py\u001b\\\u001b[2mfactory.py\u001b[0m\u001b]8;;\u001b\\\u001b[2m:461\u001b[0m\n"
      ]
     },
     "metadata": {},
     "output_type": "display_data"
    },
    {
     "data": {
      "text/html": [
       "<pre style=\"white-space:pre;overflow-x:auto;line-height:normal;font-family:Menlo,'DejaVu Sans Mono',consolas,'Courier New',monospace\"><span style=\"color: #800000; text-decoration-color: #800000\">WARNING </span> <span style=\"color: #008000; text-decoration-color: #008000\">'name'</span> should be set on <span style=\"color: #008000; text-decoration-color: #008000\">'&lt;Parameter p_uniform&gt;'</span>                       <a href=\"file:///home/mkoenig/git/sbmlutils/src/sbmlutils/factory.py\"><span style=\"color: #7f7f7f; text-decoration-color: #7f7f7f\">factory.py</span></a><span style=\"color: #7f7f7f; text-decoration-color: #7f7f7f\">:436</span>\n",
       "</pre>\n"
      ],
      "text/plain": [
       "\u001b[31mWARNING \u001b[0m \u001b[32m'name'\u001b[0m should be set on \u001b[32m'\u001b[0m\u001b[32m<\u001b[0m\u001b[32mParameter\u001b[0m\u001b[32m p_uniform\u001b[0m\u001b[32m>\u001b[0m\u001b[32m'\u001b[0m                       \u001b]8;id=199715;file:///home/mkoenig/git/sbmlutils/src/sbmlutils/factory.py\u001b\\\u001b[2mfactory.py\u001b[0m\u001b]8;;\u001b\\\u001b[2m:436\u001b[0m\n"
      ]
     },
     "metadata": {},
     "output_type": "display_data"
    },
    {
     "data": {
      "text/html": [
       "<pre style=\"white-space:pre;overflow-x:auto;line-height:normal;font-family:Menlo,'DejaVu Sans Mono',consolas,'Courier New',monospace\"><span style=\"color: #800000; text-decoration-color: #800000\">WARNING </span> <span style=\"color: #008000; text-decoration-color: #008000\">'sboTerm'</span> should be set on <span style=\"color: #008000; text-decoration-color: #008000\">'&lt;Parameter p_uniform&gt;'</span>                    <a href=\"file:///home/mkoenig/git/sbmlutils/src/sbmlutils/factory.py\"><span style=\"color: #7f7f7f; text-decoration-color: #7f7f7f\">factory.py</span></a><span style=\"color: #7f7f7f; text-decoration-color: #7f7f7f\">:461</span>\n",
       "</pre>\n"
      ],
      "text/plain": [
       "\u001b[31mWARNING \u001b[0m \u001b[32m'sboTerm'\u001b[0m should be set on \u001b[32m'\u001b[0m\u001b[32m<\u001b[0m\u001b[32mParameter\u001b[0m\u001b[32m p_uniform\u001b[0m\u001b[32m>\u001b[0m\u001b[32m'\u001b[0m                    \u001b]8;id=73233;file:///home/mkoenig/git/sbmlutils/src/sbmlutils/factory.py\u001b\\\u001b[2mfactory.py\u001b[0m\u001b]8;;\u001b\\\u001b[2m:461\u001b[0m\n"
      ]
     },
     "metadata": {},
     "output_type": "display_data"
    },
    {
     "data": {
      "text/html": [
       "<pre style=\"white-space:pre;overflow-x:auto;line-height:normal;font-family:Menlo,'DejaVu Sans Mono',consolas,'Courier New',monospace\"><span style=\"color: #800000; text-decoration-color: #800000\">WARNING </span> <span style=\"color: #008000; text-decoration-color: #008000\">'name'</span> should be set on <span style=\"color: #008000; text-decoration-color: #008000\">'&lt;InitialAssignment p_uniform&gt;'</span>               <a href=\"file:///home/mkoenig/git/sbmlutils/src/sbmlutils/factory.py\"><span style=\"color: #7f7f7f; text-decoration-color: #7f7f7f\">factory.py</span></a><span style=\"color: #7f7f7f; text-decoration-color: #7f7f7f\">:436</span>\n",
       "</pre>\n"
      ],
      "text/plain": [
       "\u001b[31mWARNING \u001b[0m \u001b[32m'name'\u001b[0m should be set on \u001b[32m'\u001b[0m\u001b[32m<\u001b[0m\u001b[32mInitialAssignment\u001b[0m\u001b[32m p_uniform\u001b[0m\u001b[32m>\u001b[0m\u001b[32m'\u001b[0m               \u001b]8;id=397520;file:///home/mkoenig/git/sbmlutils/src/sbmlutils/factory.py\u001b\\\u001b[2mfactory.py\u001b[0m\u001b]8;;\u001b\\\u001b[2m:436\u001b[0m\n"
      ]
     },
     "metadata": {},
     "output_type": "display_data"
    },
    {
     "data": {
      "text/html": [
       "<pre style=\"white-space:pre;overflow-x:auto;line-height:normal;font-family:Menlo,'DejaVu Sans Mono',consolas,'Courier New',monospace\"><span style=\"color: #800000; text-decoration-color: #800000\">WARNING </span> <span style=\"color: #008000; text-decoration-color: #008000\">'sboTerm'</span> should be set on <span style=\"color: #008000; text-decoration-color: #008000\">'&lt;InitialAssignment p_uniform&gt;'</span>            <a href=\"file:///home/mkoenig/git/sbmlutils/src/sbmlutils/factory.py\"><span style=\"color: #7f7f7f; text-decoration-color: #7f7f7f\">factory.py</span></a><span style=\"color: #7f7f7f; text-decoration-color: #7f7f7f\">:461</span>\n",
       "</pre>\n"
      ],
      "text/plain": [
       "\u001b[31mWARNING \u001b[0m \u001b[32m'sboTerm'\u001b[0m should be set on \u001b[32m'\u001b[0m\u001b[32m<\u001b[0m\u001b[32mInitialAssignment\u001b[0m\u001b[32m p_uniform\u001b[0m\u001b[32m>\u001b[0m\u001b[32m'\u001b[0m            \u001b]8;id=958955;file:///home/mkoenig/git/sbmlutils/src/sbmlutils/factory.py\u001b\\\u001b[2mfactory.py\u001b[0m\u001b]8;;\u001b\\\u001b[2m:461\u001b[0m\n"
      ]
     },
     "metadata": {},
     "output_type": "display_data"
    },
    {
     "data": {
      "text/html": [
       "<pre style=\"white-space:pre;overflow-x:auto;line-height:normal;font-family:Menlo,'DejaVu Sans Mono',consolas,'Courier New',monospace\"><span style=\"color: #800000; text-decoration-color: #800000\">WARNING </span> <span style=\"color: #008000; text-decoration-color: #008000\">'name'</span> should be set on <span style=\"color: #008000; text-decoration-color: #008000\">'&lt;Parameter p_bernoulli&gt;'</span>                     <a href=\"file:///home/mkoenig/git/sbmlutils/src/sbmlutils/factory.py\"><span style=\"color: #7f7f7f; text-decoration-color: #7f7f7f\">factory.py</span></a><span style=\"color: #7f7f7f; text-decoration-color: #7f7f7f\">:436</span>\n",
       "</pre>\n"
      ],
      "text/plain": [
       "\u001b[31mWARNING \u001b[0m \u001b[32m'name'\u001b[0m should be set on \u001b[32m'\u001b[0m\u001b[32m<\u001b[0m\u001b[32mParameter\u001b[0m\u001b[32m p_bernoulli\u001b[0m\u001b[32m>\u001b[0m\u001b[32m'\u001b[0m                     \u001b]8;id=411469;file:///home/mkoenig/git/sbmlutils/src/sbmlutils/factory.py\u001b\\\u001b[2mfactory.py\u001b[0m\u001b]8;;\u001b\\\u001b[2m:436\u001b[0m\n"
      ]
     },
     "metadata": {},
     "output_type": "display_data"
    },
    {
     "data": {
      "text/html": [
       "<pre style=\"white-space:pre;overflow-x:auto;line-height:normal;font-family:Menlo,'DejaVu Sans Mono',consolas,'Courier New',monospace\"><span style=\"color: #800000; text-decoration-color: #800000\">WARNING </span> <span style=\"color: #008000; text-decoration-color: #008000\">'sboTerm'</span> should be set on <span style=\"color: #008000; text-decoration-color: #008000\">'&lt;Parameter p_bernoulli&gt;'</span>                  <a href=\"file:///home/mkoenig/git/sbmlutils/src/sbmlutils/factory.py\"><span style=\"color: #7f7f7f; text-decoration-color: #7f7f7f\">factory.py</span></a><span style=\"color: #7f7f7f; text-decoration-color: #7f7f7f\">:461</span>\n",
       "</pre>\n"
      ],
      "text/plain": [
       "\u001b[31mWARNING \u001b[0m \u001b[32m'sboTerm'\u001b[0m should be set on \u001b[32m'\u001b[0m\u001b[32m<\u001b[0m\u001b[32mParameter\u001b[0m\u001b[32m p_bernoulli\u001b[0m\u001b[32m>\u001b[0m\u001b[32m'\u001b[0m                  \u001b]8;id=398023;file:///home/mkoenig/git/sbmlutils/src/sbmlutils/factory.py\u001b\\\u001b[2mfactory.py\u001b[0m\u001b]8;;\u001b\\\u001b[2m:461\u001b[0m\n"
      ]
     },
     "metadata": {},
     "output_type": "display_data"
    },
    {
     "data": {
      "text/html": [
       "<pre style=\"white-space:pre;overflow-x:auto;line-height:normal;font-family:Menlo,'DejaVu Sans Mono',consolas,'Courier New',monospace\"><span style=\"color: #800000; text-decoration-color: #800000\">WARNING </span> <span style=\"color: #008000; text-decoration-color: #008000\">'name'</span> should be set on <span style=\"color: #008000; text-decoration-color: #008000\">'&lt;InitialAssignment p_bernoulli&gt;'</span>             <a href=\"file:///home/mkoenig/git/sbmlutils/src/sbmlutils/factory.py\"><span style=\"color: #7f7f7f; text-decoration-color: #7f7f7f\">factory.py</span></a><span style=\"color: #7f7f7f; text-decoration-color: #7f7f7f\">:436</span>\n",
       "</pre>\n"
      ],
      "text/plain": [
       "\u001b[31mWARNING \u001b[0m \u001b[32m'name'\u001b[0m should be set on \u001b[32m'\u001b[0m\u001b[32m<\u001b[0m\u001b[32mInitialAssignment\u001b[0m\u001b[32m p_bernoulli\u001b[0m\u001b[32m>\u001b[0m\u001b[32m'\u001b[0m             \u001b]8;id=980467;file:///home/mkoenig/git/sbmlutils/src/sbmlutils/factory.py\u001b\\\u001b[2mfactory.py\u001b[0m\u001b]8;;\u001b\\\u001b[2m:436\u001b[0m\n"
      ]
     },
     "metadata": {},
     "output_type": "display_data"
    },
    {
     "data": {
      "text/html": [
       "<pre style=\"white-space:pre;overflow-x:auto;line-height:normal;font-family:Menlo,'DejaVu Sans Mono',consolas,'Courier New',monospace\"><span style=\"color: #800000; text-decoration-color: #800000\">WARNING </span> <span style=\"color: #008000; text-decoration-color: #008000\">'sboTerm'</span> should be set on <span style=\"color: #008000; text-decoration-color: #008000\">'&lt;InitialAssignment p_bernoulli&gt;'</span>          <a href=\"file:///home/mkoenig/git/sbmlutils/src/sbmlutils/factory.py\"><span style=\"color: #7f7f7f; text-decoration-color: #7f7f7f\">factory.py</span></a><span style=\"color: #7f7f7f; text-decoration-color: #7f7f7f\">:461</span>\n",
       "</pre>\n"
      ],
      "text/plain": [
       "\u001b[31mWARNING \u001b[0m \u001b[32m'sboTerm'\u001b[0m should be set on \u001b[32m'\u001b[0m\u001b[32m<\u001b[0m\u001b[32mInitialAssignment\u001b[0m\u001b[32m p_bernoulli\u001b[0m\u001b[32m>\u001b[0m\u001b[32m'\u001b[0m          \u001b]8;id=251740;file:///home/mkoenig/git/sbmlutils/src/sbmlutils/factory.py\u001b\\\u001b[2mfactory.py\u001b[0m\u001b]8;;\u001b\\\u001b[2m:461\u001b[0m\n"
      ]
     },
     "metadata": {},
     "output_type": "display_data"
    },
    {
     "data": {
      "text/html": [
       "<pre style=\"white-space:pre;overflow-x:auto;line-height:normal;font-family:Menlo,'DejaVu Sans Mono',consolas,'Courier New',monospace\"><span style=\"color: #800000; text-decoration-color: #800000\">WARNING </span> <span style=\"color: #008000; text-decoration-color: #008000\">'name'</span> should be set on <span style=\"color: #008000; text-decoration-color: #008000\">'&lt;Parameter p_binomial_1&gt;'</span>                    <a href=\"file:///home/mkoenig/git/sbmlutils/src/sbmlutils/factory.py\"><span style=\"color: #7f7f7f; text-decoration-color: #7f7f7f\">factory.py</span></a><span style=\"color: #7f7f7f; text-decoration-color: #7f7f7f\">:436</span>\n",
       "</pre>\n"
      ],
      "text/plain": [
       "\u001b[31mWARNING \u001b[0m \u001b[32m'name'\u001b[0m should be set on \u001b[32m'\u001b[0m\u001b[32m<\u001b[0m\u001b[32mParameter\u001b[0m\u001b[32m p_binomial_1\u001b[0m\u001b[32m>\u001b[0m\u001b[32m'\u001b[0m                    \u001b]8;id=922568;file:///home/mkoenig/git/sbmlutils/src/sbmlutils/factory.py\u001b\\\u001b[2mfactory.py\u001b[0m\u001b]8;;\u001b\\\u001b[2m:436\u001b[0m\n"
      ]
     },
     "metadata": {},
     "output_type": "display_data"
    },
    {
     "data": {
      "text/html": [
       "<pre style=\"white-space:pre;overflow-x:auto;line-height:normal;font-family:Menlo,'DejaVu Sans Mono',consolas,'Courier New',monospace\"><span style=\"color: #800000; text-decoration-color: #800000\">WARNING </span> <span style=\"color: #008000; text-decoration-color: #008000\">'sboTerm'</span> should be set on <span style=\"color: #008000; text-decoration-color: #008000\">'&lt;Parameter p_binomial_1&gt;'</span>                 <a href=\"file:///home/mkoenig/git/sbmlutils/src/sbmlutils/factory.py\"><span style=\"color: #7f7f7f; text-decoration-color: #7f7f7f\">factory.py</span></a><span style=\"color: #7f7f7f; text-decoration-color: #7f7f7f\">:461</span>\n",
       "</pre>\n"
      ],
      "text/plain": [
       "\u001b[31mWARNING \u001b[0m \u001b[32m'sboTerm'\u001b[0m should be set on \u001b[32m'\u001b[0m\u001b[32m<\u001b[0m\u001b[32mParameter\u001b[0m\u001b[32m p_binomial_1\u001b[0m\u001b[32m>\u001b[0m\u001b[32m'\u001b[0m                 \u001b]8;id=665585;file:///home/mkoenig/git/sbmlutils/src/sbmlutils/factory.py\u001b\\\u001b[2mfactory.py\u001b[0m\u001b]8;;\u001b\\\u001b[2m:461\u001b[0m\n"
      ]
     },
     "metadata": {},
     "output_type": "display_data"
    },
    {
     "data": {
      "text/html": [
       "<pre style=\"white-space:pre;overflow-x:auto;line-height:normal;font-family:Menlo,'DejaVu Sans Mono',consolas,'Courier New',monospace\"><span style=\"color: #800000; text-decoration-color: #800000\">WARNING </span> <span style=\"color: #008000; text-decoration-color: #008000\">'name'</span> should be set on <span style=\"color: #008000; text-decoration-color: #008000\">'&lt;InitialAssignment p_binomial_1&gt;'</span>            <a href=\"file:///home/mkoenig/git/sbmlutils/src/sbmlutils/factory.py\"><span style=\"color: #7f7f7f; text-decoration-color: #7f7f7f\">factory.py</span></a><span style=\"color: #7f7f7f; text-decoration-color: #7f7f7f\">:436</span>\n",
       "</pre>\n"
      ],
      "text/plain": [
       "\u001b[31mWARNING \u001b[0m \u001b[32m'name'\u001b[0m should be set on \u001b[32m'\u001b[0m\u001b[32m<\u001b[0m\u001b[32mInitialAssignment\u001b[0m\u001b[32m p_binomial_1\u001b[0m\u001b[32m>\u001b[0m\u001b[32m'\u001b[0m            \u001b]8;id=76032;file:///home/mkoenig/git/sbmlutils/src/sbmlutils/factory.py\u001b\\\u001b[2mfactory.py\u001b[0m\u001b]8;;\u001b\\\u001b[2m:436\u001b[0m\n"
      ]
     },
     "metadata": {},
     "output_type": "display_data"
    },
    {
     "data": {
      "text/html": [
       "<pre style=\"white-space:pre;overflow-x:auto;line-height:normal;font-family:Menlo,'DejaVu Sans Mono',consolas,'Courier New',monospace\"><span style=\"color: #800000; text-decoration-color: #800000\">WARNING </span> <span style=\"color: #008000; text-decoration-color: #008000\">'sboTerm'</span> should be set on <span style=\"color: #008000; text-decoration-color: #008000\">'&lt;InitialAssignment p_binomial_1&gt;'</span>         <a href=\"file:///home/mkoenig/git/sbmlutils/src/sbmlutils/factory.py\"><span style=\"color: #7f7f7f; text-decoration-color: #7f7f7f\">factory.py</span></a><span style=\"color: #7f7f7f; text-decoration-color: #7f7f7f\">:461</span>\n",
       "</pre>\n"
      ],
      "text/plain": [
       "\u001b[31mWARNING \u001b[0m \u001b[32m'sboTerm'\u001b[0m should be set on \u001b[32m'\u001b[0m\u001b[32m<\u001b[0m\u001b[32mInitialAssignment\u001b[0m\u001b[32m p_binomial_1\u001b[0m\u001b[32m>\u001b[0m\u001b[32m'\u001b[0m         \u001b]8;id=689151;file:///home/mkoenig/git/sbmlutils/src/sbmlutils/factory.py\u001b\\\u001b[2mfactory.py\u001b[0m\u001b]8;;\u001b\\\u001b[2m:461\u001b[0m\n"
      ]
     },
     "metadata": {},
     "output_type": "display_data"
    },
    {
     "data": {
      "text/html": [
       "<pre style=\"white-space:pre;overflow-x:auto;line-height:normal;font-family:Menlo,'DejaVu Sans Mono',consolas,'Courier New',monospace\"><span style=\"color: #800000; text-decoration-color: #800000\">WARNING </span> <span style=\"color: #008000; text-decoration-color: #008000\">'name'</span> should be set on <span style=\"color: #008000; text-decoration-color: #008000\">'&lt;Parameter p_binomial_2&gt;'</span>                    <a href=\"file:///home/mkoenig/git/sbmlutils/src/sbmlutils/factory.py\"><span style=\"color: #7f7f7f; text-decoration-color: #7f7f7f\">factory.py</span></a><span style=\"color: #7f7f7f; text-decoration-color: #7f7f7f\">:436</span>\n",
       "</pre>\n"
      ],
      "text/plain": [
       "\u001b[31mWARNING \u001b[0m \u001b[32m'name'\u001b[0m should be set on \u001b[32m'\u001b[0m\u001b[32m<\u001b[0m\u001b[32mParameter\u001b[0m\u001b[32m p_binomial_2\u001b[0m\u001b[32m>\u001b[0m\u001b[32m'\u001b[0m                    \u001b]8;id=311597;file:///home/mkoenig/git/sbmlutils/src/sbmlutils/factory.py\u001b\\\u001b[2mfactory.py\u001b[0m\u001b]8;;\u001b\\\u001b[2m:436\u001b[0m\n"
      ]
     },
     "metadata": {},
     "output_type": "display_data"
    },
    {
     "data": {
      "text/html": [
       "<pre style=\"white-space:pre;overflow-x:auto;line-height:normal;font-family:Menlo,'DejaVu Sans Mono',consolas,'Courier New',monospace\"><span style=\"color: #800000; text-decoration-color: #800000\">WARNING </span> <span style=\"color: #008000; text-decoration-color: #008000\">'sboTerm'</span> should be set on <span style=\"color: #008000; text-decoration-color: #008000\">'&lt;Parameter p_binomial_2&gt;'</span>                 <a href=\"file:///home/mkoenig/git/sbmlutils/src/sbmlutils/factory.py\"><span style=\"color: #7f7f7f; text-decoration-color: #7f7f7f\">factory.py</span></a><span style=\"color: #7f7f7f; text-decoration-color: #7f7f7f\">:461</span>\n",
       "</pre>\n"
      ],
      "text/plain": [
       "\u001b[31mWARNING \u001b[0m \u001b[32m'sboTerm'\u001b[0m should be set on \u001b[32m'\u001b[0m\u001b[32m<\u001b[0m\u001b[32mParameter\u001b[0m\u001b[32m p_binomial_2\u001b[0m\u001b[32m>\u001b[0m\u001b[32m'\u001b[0m                 \u001b]8;id=594742;file:///home/mkoenig/git/sbmlutils/src/sbmlutils/factory.py\u001b\\\u001b[2mfactory.py\u001b[0m\u001b]8;;\u001b\\\u001b[2m:461\u001b[0m\n"
      ]
     },
     "metadata": {},
     "output_type": "display_data"
    },
    {
     "data": {
      "text/html": [
       "<pre style=\"white-space:pre;overflow-x:auto;line-height:normal;font-family:Menlo,'DejaVu Sans Mono',consolas,'Courier New',monospace\"><span style=\"color: #800000; text-decoration-color: #800000\">WARNING </span> <span style=\"color: #008000; text-decoration-color: #008000\">'name'</span> should be set on <span style=\"color: #008000; text-decoration-color: #008000\">'&lt;InitialAssignment p_binomial_2&gt;'</span>            <a href=\"file:///home/mkoenig/git/sbmlutils/src/sbmlutils/factory.py\"><span style=\"color: #7f7f7f; text-decoration-color: #7f7f7f\">factory.py</span></a><span style=\"color: #7f7f7f; text-decoration-color: #7f7f7f\">:436</span>\n",
       "</pre>\n"
      ],
      "text/plain": [
       "\u001b[31mWARNING \u001b[0m \u001b[32m'name'\u001b[0m should be set on \u001b[32m'\u001b[0m\u001b[32m<\u001b[0m\u001b[32mInitialAssignment\u001b[0m\u001b[32m p_binomial_2\u001b[0m\u001b[32m>\u001b[0m\u001b[32m'\u001b[0m            \u001b]8;id=444469;file:///home/mkoenig/git/sbmlutils/src/sbmlutils/factory.py\u001b\\\u001b[2mfactory.py\u001b[0m\u001b]8;;\u001b\\\u001b[2m:436\u001b[0m\n"
      ]
     },
     "metadata": {},
     "output_type": "display_data"
    },
    {
     "data": {
      "text/html": [
       "<pre style=\"white-space:pre;overflow-x:auto;line-height:normal;font-family:Menlo,'DejaVu Sans Mono',consolas,'Courier New',monospace\"><span style=\"color: #800000; text-decoration-color: #800000\">WARNING </span> <span style=\"color: #008000; text-decoration-color: #008000\">'sboTerm'</span> should be set on <span style=\"color: #008000; text-decoration-color: #008000\">'&lt;InitialAssignment p_binomial_2&gt;'</span>         <a href=\"file:///home/mkoenig/git/sbmlutils/src/sbmlutils/factory.py\"><span style=\"color: #7f7f7f; text-decoration-color: #7f7f7f\">factory.py</span></a><span style=\"color: #7f7f7f; text-decoration-color: #7f7f7f\">:461</span>\n",
       "</pre>\n"
      ],
      "text/plain": [
       "\u001b[31mWARNING \u001b[0m \u001b[32m'sboTerm'\u001b[0m should be set on \u001b[32m'\u001b[0m\u001b[32m<\u001b[0m\u001b[32mInitialAssignment\u001b[0m\u001b[32m p_binomial_2\u001b[0m\u001b[32m>\u001b[0m\u001b[32m'\u001b[0m         \u001b]8;id=302226;file:///home/mkoenig/git/sbmlutils/src/sbmlutils/factory.py\u001b\\\u001b[2mfactory.py\u001b[0m\u001b]8;;\u001b\\\u001b[2m:461\u001b[0m\n"
      ]
     },
     "metadata": {},
     "output_type": "display_data"
    },
    {
     "data": {
      "text/html": [
       "<pre style=\"white-space:pre;overflow-x:auto;line-height:normal;font-family:Menlo,'DejaVu Sans Mono',consolas,'Courier New',monospace\"><span style=\"color: #800000; text-decoration-color: #800000\">WARNING </span> <span style=\"color: #008000; text-decoration-color: #008000\">'name'</span> should be set on <span style=\"color: #008000; text-decoration-color: #008000\">'&lt;Parameter p_cauchy_1&gt;'</span>                      <a href=\"file:///home/mkoenig/git/sbmlutils/src/sbmlutils/factory.py\"><span style=\"color: #7f7f7f; text-decoration-color: #7f7f7f\">factory.py</span></a><span style=\"color: #7f7f7f; text-decoration-color: #7f7f7f\">:436</span>\n",
       "</pre>\n"
      ],
      "text/plain": [
       "\u001b[31mWARNING \u001b[0m \u001b[32m'name'\u001b[0m should be set on \u001b[32m'\u001b[0m\u001b[32m<\u001b[0m\u001b[32mParameter\u001b[0m\u001b[32m p_cauchy_1\u001b[0m\u001b[32m>\u001b[0m\u001b[32m'\u001b[0m                      \u001b]8;id=492730;file:///home/mkoenig/git/sbmlutils/src/sbmlutils/factory.py\u001b\\\u001b[2mfactory.py\u001b[0m\u001b]8;;\u001b\\\u001b[2m:436\u001b[0m\n"
      ]
     },
     "metadata": {},
     "output_type": "display_data"
    },
    {
     "data": {
      "text/html": [
       "<pre style=\"white-space:pre;overflow-x:auto;line-height:normal;font-family:Menlo,'DejaVu Sans Mono',consolas,'Courier New',monospace\"><span style=\"color: #800000; text-decoration-color: #800000\">WARNING </span> <span style=\"color: #008000; text-decoration-color: #008000\">'sboTerm'</span> should be set on <span style=\"color: #008000; text-decoration-color: #008000\">'&lt;Parameter p_cauchy_1&gt;'</span>                   <a href=\"file:///home/mkoenig/git/sbmlutils/src/sbmlutils/factory.py\"><span style=\"color: #7f7f7f; text-decoration-color: #7f7f7f\">factory.py</span></a><span style=\"color: #7f7f7f; text-decoration-color: #7f7f7f\">:461</span>\n",
       "</pre>\n"
      ],
      "text/plain": [
       "\u001b[31mWARNING \u001b[0m \u001b[32m'sboTerm'\u001b[0m should be set on \u001b[32m'\u001b[0m\u001b[32m<\u001b[0m\u001b[32mParameter\u001b[0m\u001b[32m p_cauchy_1\u001b[0m\u001b[32m>\u001b[0m\u001b[32m'\u001b[0m                   \u001b]8;id=508976;file:///home/mkoenig/git/sbmlutils/src/sbmlutils/factory.py\u001b\\\u001b[2mfactory.py\u001b[0m\u001b]8;;\u001b\\\u001b[2m:461\u001b[0m\n"
      ]
     },
     "metadata": {},
     "output_type": "display_data"
    },
    {
     "data": {
      "text/html": [
       "<pre style=\"white-space:pre;overflow-x:auto;line-height:normal;font-family:Menlo,'DejaVu Sans Mono',consolas,'Courier New',monospace\"><span style=\"color: #800000; text-decoration-color: #800000\">WARNING </span> <span style=\"color: #008000; text-decoration-color: #008000\">'name'</span> should be set on <span style=\"color: #008000; text-decoration-color: #008000\">'&lt;InitialAssignment p_cauchy_1&gt;'</span>              <a href=\"file:///home/mkoenig/git/sbmlutils/src/sbmlutils/factory.py\"><span style=\"color: #7f7f7f; text-decoration-color: #7f7f7f\">factory.py</span></a><span style=\"color: #7f7f7f; text-decoration-color: #7f7f7f\">:436</span>\n",
       "</pre>\n"
      ],
      "text/plain": [
       "\u001b[31mWARNING \u001b[0m \u001b[32m'name'\u001b[0m should be set on \u001b[32m'\u001b[0m\u001b[32m<\u001b[0m\u001b[32mInitialAssignment\u001b[0m\u001b[32m p_cauchy_1\u001b[0m\u001b[32m>\u001b[0m\u001b[32m'\u001b[0m              \u001b]8;id=622518;file:///home/mkoenig/git/sbmlutils/src/sbmlutils/factory.py\u001b\\\u001b[2mfactory.py\u001b[0m\u001b]8;;\u001b\\\u001b[2m:436\u001b[0m\n"
      ]
     },
     "metadata": {},
     "output_type": "display_data"
    },
    {
     "data": {
      "text/html": [
       "<pre style=\"white-space:pre;overflow-x:auto;line-height:normal;font-family:Menlo,'DejaVu Sans Mono',consolas,'Courier New',monospace\"><span style=\"color: #800000; text-decoration-color: #800000\">WARNING </span> <span style=\"color: #008000; text-decoration-color: #008000\">'sboTerm'</span> should be set on <span style=\"color: #008000; text-decoration-color: #008000\">'&lt;InitialAssignment p_cauchy_1&gt;'</span>           <a href=\"file:///home/mkoenig/git/sbmlutils/src/sbmlutils/factory.py\"><span style=\"color: #7f7f7f; text-decoration-color: #7f7f7f\">factory.py</span></a><span style=\"color: #7f7f7f; text-decoration-color: #7f7f7f\">:461</span>\n",
       "</pre>\n"
      ],
      "text/plain": [
       "\u001b[31mWARNING \u001b[0m \u001b[32m'sboTerm'\u001b[0m should be set on \u001b[32m'\u001b[0m\u001b[32m<\u001b[0m\u001b[32mInitialAssignment\u001b[0m\u001b[32m p_cauchy_1\u001b[0m\u001b[32m>\u001b[0m\u001b[32m'\u001b[0m           \u001b]8;id=592015;file:///home/mkoenig/git/sbmlutils/src/sbmlutils/factory.py\u001b\\\u001b[2mfactory.py\u001b[0m\u001b]8;;\u001b\\\u001b[2m:461\u001b[0m\n"
      ]
     },
     "metadata": {},
     "output_type": "display_data"
    },
    {
     "data": {
      "text/html": [
       "<pre style=\"white-space:pre;overflow-x:auto;line-height:normal;font-family:Menlo,'DejaVu Sans Mono',consolas,'Courier New',monospace\"><span style=\"color: #800000; text-decoration-color: #800000\">WARNING </span> <span style=\"color: #008000; text-decoration-color: #008000\">'name'</span> should be set on <span style=\"color: #008000; text-decoration-color: #008000\">'&lt;Parameter p_cauchy_2&gt;'</span>                      <a href=\"file:///home/mkoenig/git/sbmlutils/src/sbmlutils/factory.py\"><span style=\"color: #7f7f7f; text-decoration-color: #7f7f7f\">factory.py</span></a><span style=\"color: #7f7f7f; text-decoration-color: #7f7f7f\">:436</span>\n",
       "</pre>\n"
      ],
      "text/plain": [
       "\u001b[31mWARNING \u001b[0m \u001b[32m'name'\u001b[0m should be set on \u001b[32m'\u001b[0m\u001b[32m<\u001b[0m\u001b[32mParameter\u001b[0m\u001b[32m p_cauchy_2\u001b[0m\u001b[32m>\u001b[0m\u001b[32m'\u001b[0m                      \u001b]8;id=616406;file:///home/mkoenig/git/sbmlutils/src/sbmlutils/factory.py\u001b\\\u001b[2mfactory.py\u001b[0m\u001b]8;;\u001b\\\u001b[2m:436\u001b[0m\n"
      ]
     },
     "metadata": {},
     "output_type": "display_data"
    },
    {
     "data": {
      "text/html": [
       "<pre style=\"white-space:pre;overflow-x:auto;line-height:normal;font-family:Menlo,'DejaVu Sans Mono',consolas,'Courier New',monospace\"><span style=\"color: #800000; text-decoration-color: #800000\">WARNING </span> <span style=\"color: #008000; text-decoration-color: #008000\">'sboTerm'</span> should be set on <span style=\"color: #008000; text-decoration-color: #008000\">'&lt;Parameter p_cauchy_2&gt;'</span>                   <a href=\"file:///home/mkoenig/git/sbmlutils/src/sbmlutils/factory.py\"><span style=\"color: #7f7f7f; text-decoration-color: #7f7f7f\">factory.py</span></a><span style=\"color: #7f7f7f; text-decoration-color: #7f7f7f\">:461</span>\n",
       "</pre>\n"
      ],
      "text/plain": [
       "\u001b[31mWARNING \u001b[0m \u001b[32m'sboTerm'\u001b[0m should be set on \u001b[32m'\u001b[0m\u001b[32m<\u001b[0m\u001b[32mParameter\u001b[0m\u001b[32m p_cauchy_2\u001b[0m\u001b[32m>\u001b[0m\u001b[32m'\u001b[0m                   \u001b]8;id=994670;file:///home/mkoenig/git/sbmlutils/src/sbmlutils/factory.py\u001b\\\u001b[2mfactory.py\u001b[0m\u001b]8;;\u001b\\\u001b[2m:461\u001b[0m\n"
      ]
     },
     "metadata": {},
     "output_type": "display_data"
    },
    {
     "data": {
      "text/html": [
       "<pre style=\"white-space:pre;overflow-x:auto;line-height:normal;font-family:Menlo,'DejaVu Sans Mono',consolas,'Courier New',monospace\"><span style=\"color: #800000; text-decoration-color: #800000\">WARNING </span> <span style=\"color: #008000; text-decoration-color: #008000\">'name'</span> should be set on <span style=\"color: #008000; text-decoration-color: #008000\">'&lt;InitialAssignment p_cauchy_2&gt;'</span>              <a href=\"file:///home/mkoenig/git/sbmlutils/src/sbmlutils/factory.py\"><span style=\"color: #7f7f7f; text-decoration-color: #7f7f7f\">factory.py</span></a><span style=\"color: #7f7f7f; text-decoration-color: #7f7f7f\">:436</span>\n",
       "</pre>\n"
      ],
      "text/plain": [
       "\u001b[31mWARNING \u001b[0m \u001b[32m'name'\u001b[0m should be set on \u001b[32m'\u001b[0m\u001b[32m<\u001b[0m\u001b[32mInitialAssignment\u001b[0m\u001b[32m p_cauchy_2\u001b[0m\u001b[32m>\u001b[0m\u001b[32m'\u001b[0m              \u001b]8;id=619191;file:///home/mkoenig/git/sbmlutils/src/sbmlutils/factory.py\u001b\\\u001b[2mfactory.py\u001b[0m\u001b]8;;\u001b\\\u001b[2m:436\u001b[0m\n"
      ]
     },
     "metadata": {},
     "output_type": "display_data"
    },
    {
     "data": {
      "text/html": [
       "<pre style=\"white-space:pre;overflow-x:auto;line-height:normal;font-family:Menlo,'DejaVu Sans Mono',consolas,'Courier New',monospace\"><span style=\"color: #800000; text-decoration-color: #800000\">WARNING </span> <span style=\"color: #008000; text-decoration-color: #008000\">'sboTerm'</span> should be set on <span style=\"color: #008000; text-decoration-color: #008000\">'&lt;InitialAssignment p_cauchy_2&gt;'</span>           <a href=\"file:///home/mkoenig/git/sbmlutils/src/sbmlutils/factory.py\"><span style=\"color: #7f7f7f; text-decoration-color: #7f7f7f\">factory.py</span></a><span style=\"color: #7f7f7f; text-decoration-color: #7f7f7f\">:461</span>\n",
       "</pre>\n"
      ],
      "text/plain": [
       "\u001b[31mWARNING \u001b[0m \u001b[32m'sboTerm'\u001b[0m should be set on \u001b[32m'\u001b[0m\u001b[32m<\u001b[0m\u001b[32mInitialAssignment\u001b[0m\u001b[32m p_cauchy_2\u001b[0m\u001b[32m>\u001b[0m\u001b[32m'\u001b[0m           \u001b]8;id=953419;file:///home/mkoenig/git/sbmlutils/src/sbmlutils/factory.py\u001b\\\u001b[2mfactory.py\u001b[0m\u001b]8;;\u001b\\\u001b[2m:461\u001b[0m\n"
      ]
     },
     "metadata": {},
     "output_type": "display_data"
    },
    {
     "data": {
      "text/html": [
       "<pre style=\"white-space:pre;overflow-x:auto;line-height:normal;font-family:Menlo,'DejaVu Sans Mono',consolas,'Courier New',monospace\"><span style=\"color: #800000; text-decoration-color: #800000\">WARNING </span> <span style=\"color: #008000; text-decoration-color: #008000\">'name'</span> should be set on <span style=\"color: #008000; text-decoration-color: #008000\">'&lt;Parameter p_chisquare_1&gt;'</span>                   <a href=\"file:///home/mkoenig/git/sbmlutils/src/sbmlutils/factory.py\"><span style=\"color: #7f7f7f; text-decoration-color: #7f7f7f\">factory.py</span></a><span style=\"color: #7f7f7f; text-decoration-color: #7f7f7f\">:436</span>\n",
       "</pre>\n"
      ],
      "text/plain": [
       "\u001b[31mWARNING \u001b[0m \u001b[32m'name'\u001b[0m should be set on \u001b[32m'\u001b[0m\u001b[32m<\u001b[0m\u001b[32mParameter\u001b[0m\u001b[32m p_chisquare_1\u001b[0m\u001b[32m>\u001b[0m\u001b[32m'\u001b[0m                   \u001b]8;id=266928;file:///home/mkoenig/git/sbmlutils/src/sbmlutils/factory.py\u001b\\\u001b[2mfactory.py\u001b[0m\u001b]8;;\u001b\\\u001b[2m:436\u001b[0m\n"
      ]
     },
     "metadata": {},
     "output_type": "display_data"
    },
    {
     "data": {
      "text/html": [
       "<pre style=\"white-space:pre;overflow-x:auto;line-height:normal;font-family:Menlo,'DejaVu Sans Mono',consolas,'Courier New',monospace\"><span style=\"color: #800000; text-decoration-color: #800000\">WARNING </span> <span style=\"color: #008000; text-decoration-color: #008000\">'sboTerm'</span> should be set on <span style=\"color: #008000; text-decoration-color: #008000\">'&lt;Parameter p_chisquare_1&gt;'</span>                <a href=\"file:///home/mkoenig/git/sbmlutils/src/sbmlutils/factory.py\"><span style=\"color: #7f7f7f; text-decoration-color: #7f7f7f\">factory.py</span></a><span style=\"color: #7f7f7f; text-decoration-color: #7f7f7f\">:461</span>\n",
       "</pre>\n"
      ],
      "text/plain": [
       "\u001b[31mWARNING \u001b[0m \u001b[32m'sboTerm'\u001b[0m should be set on \u001b[32m'\u001b[0m\u001b[32m<\u001b[0m\u001b[32mParameter\u001b[0m\u001b[32m p_chisquare_1\u001b[0m\u001b[32m>\u001b[0m\u001b[32m'\u001b[0m                \u001b]8;id=203396;file:///home/mkoenig/git/sbmlutils/src/sbmlutils/factory.py\u001b\\\u001b[2mfactory.py\u001b[0m\u001b]8;;\u001b\\\u001b[2m:461\u001b[0m\n"
      ]
     },
     "metadata": {},
     "output_type": "display_data"
    },
    {
     "data": {
      "text/html": [
       "<pre style=\"white-space:pre;overflow-x:auto;line-height:normal;font-family:Menlo,'DejaVu Sans Mono',consolas,'Courier New',monospace\"><span style=\"color: #800000; text-decoration-color: #800000\">WARNING </span> <span style=\"color: #008000; text-decoration-color: #008000\">'name'</span> should be set on <span style=\"color: #008000; text-decoration-color: #008000\">'&lt;InitialAssignment p_chisquare_1&gt;'</span>           <a href=\"file:///home/mkoenig/git/sbmlutils/src/sbmlutils/factory.py\"><span style=\"color: #7f7f7f; text-decoration-color: #7f7f7f\">factory.py</span></a><span style=\"color: #7f7f7f; text-decoration-color: #7f7f7f\">:436</span>\n",
       "</pre>\n"
      ],
      "text/plain": [
       "\u001b[31mWARNING \u001b[0m \u001b[32m'name'\u001b[0m should be set on \u001b[32m'\u001b[0m\u001b[32m<\u001b[0m\u001b[32mInitialAssignment\u001b[0m\u001b[32m p_chisquare_1\u001b[0m\u001b[32m>\u001b[0m\u001b[32m'\u001b[0m           \u001b]8;id=593283;file:///home/mkoenig/git/sbmlutils/src/sbmlutils/factory.py\u001b\\\u001b[2mfactory.py\u001b[0m\u001b]8;;\u001b\\\u001b[2m:436\u001b[0m\n"
      ]
     },
     "metadata": {},
     "output_type": "display_data"
    },
    {
     "data": {
      "text/html": [
       "<pre style=\"white-space:pre;overflow-x:auto;line-height:normal;font-family:Menlo,'DejaVu Sans Mono',consolas,'Courier New',monospace\"><span style=\"color: #800000; text-decoration-color: #800000\">WARNING </span> <span style=\"color: #008000; text-decoration-color: #008000\">'sboTerm'</span> should be set on <span style=\"color: #008000; text-decoration-color: #008000\">'&lt;InitialAssignment p_chisquare_1&gt;'</span>        <a href=\"file:///home/mkoenig/git/sbmlutils/src/sbmlutils/factory.py\"><span style=\"color: #7f7f7f; text-decoration-color: #7f7f7f\">factory.py</span></a><span style=\"color: #7f7f7f; text-decoration-color: #7f7f7f\">:461</span>\n",
       "</pre>\n"
      ],
      "text/plain": [
       "\u001b[31mWARNING \u001b[0m \u001b[32m'sboTerm'\u001b[0m should be set on \u001b[32m'\u001b[0m\u001b[32m<\u001b[0m\u001b[32mInitialAssignment\u001b[0m\u001b[32m p_chisquare_1\u001b[0m\u001b[32m>\u001b[0m\u001b[32m'\u001b[0m        \u001b]8;id=335556;file:///home/mkoenig/git/sbmlutils/src/sbmlutils/factory.py\u001b\\\u001b[2mfactory.py\u001b[0m\u001b]8;;\u001b\\\u001b[2m:461\u001b[0m\n"
      ]
     },
     "metadata": {},
     "output_type": "display_data"
    },
    {
     "data": {
      "text/html": [
       "<pre style=\"white-space:pre;overflow-x:auto;line-height:normal;font-family:Menlo,'DejaVu Sans Mono',consolas,'Courier New',monospace\"><span style=\"color: #800000; text-decoration-color: #800000\">WARNING </span> <span style=\"color: #008000; text-decoration-color: #008000\">'name'</span> should be set on <span style=\"color: #008000; text-decoration-color: #008000\">'&lt;Parameter p_chisquare_2&gt;'</span>                   <a href=\"file:///home/mkoenig/git/sbmlutils/src/sbmlutils/factory.py\"><span style=\"color: #7f7f7f; text-decoration-color: #7f7f7f\">factory.py</span></a><span style=\"color: #7f7f7f; text-decoration-color: #7f7f7f\">:436</span>\n",
       "</pre>\n"
      ],
      "text/plain": [
       "\u001b[31mWARNING \u001b[0m \u001b[32m'name'\u001b[0m should be set on \u001b[32m'\u001b[0m\u001b[32m<\u001b[0m\u001b[32mParameter\u001b[0m\u001b[32m p_chisquare_2\u001b[0m\u001b[32m>\u001b[0m\u001b[32m'\u001b[0m                   \u001b]8;id=636648;file:///home/mkoenig/git/sbmlutils/src/sbmlutils/factory.py\u001b\\\u001b[2mfactory.py\u001b[0m\u001b]8;;\u001b\\\u001b[2m:436\u001b[0m\n"
      ]
     },
     "metadata": {},
     "output_type": "display_data"
    },
    {
     "data": {
      "text/html": [
       "<pre style=\"white-space:pre;overflow-x:auto;line-height:normal;font-family:Menlo,'DejaVu Sans Mono',consolas,'Courier New',monospace\"><span style=\"color: #800000; text-decoration-color: #800000\">WARNING </span> <span style=\"color: #008000; text-decoration-color: #008000\">'sboTerm'</span> should be set on <span style=\"color: #008000; text-decoration-color: #008000\">'&lt;Parameter p_chisquare_2&gt;'</span>                <a href=\"file:///home/mkoenig/git/sbmlutils/src/sbmlutils/factory.py\"><span style=\"color: #7f7f7f; text-decoration-color: #7f7f7f\">factory.py</span></a><span style=\"color: #7f7f7f; text-decoration-color: #7f7f7f\">:461</span>\n",
       "</pre>\n"
      ],
      "text/plain": [
       "\u001b[31mWARNING \u001b[0m \u001b[32m'sboTerm'\u001b[0m should be set on \u001b[32m'\u001b[0m\u001b[32m<\u001b[0m\u001b[32mParameter\u001b[0m\u001b[32m p_chisquare_2\u001b[0m\u001b[32m>\u001b[0m\u001b[32m'\u001b[0m                \u001b]8;id=101618;file:///home/mkoenig/git/sbmlutils/src/sbmlutils/factory.py\u001b\\\u001b[2mfactory.py\u001b[0m\u001b]8;;\u001b\\\u001b[2m:461\u001b[0m\n"
      ]
     },
     "metadata": {},
     "output_type": "display_data"
    },
    {
     "data": {
      "text/html": [
       "<pre style=\"white-space:pre;overflow-x:auto;line-height:normal;font-family:Menlo,'DejaVu Sans Mono',consolas,'Courier New',monospace\"><span style=\"color: #800000; text-decoration-color: #800000\">WARNING </span> <span style=\"color: #008000; text-decoration-color: #008000\">'name'</span> should be set on <span style=\"color: #008000; text-decoration-color: #008000\">'&lt;InitialAssignment p_chisquare_2&gt;'</span>           <a href=\"file:///home/mkoenig/git/sbmlutils/src/sbmlutils/factory.py\"><span style=\"color: #7f7f7f; text-decoration-color: #7f7f7f\">factory.py</span></a><span style=\"color: #7f7f7f; text-decoration-color: #7f7f7f\">:436</span>\n",
       "</pre>\n"
      ],
      "text/plain": [
       "\u001b[31mWARNING \u001b[0m \u001b[32m'name'\u001b[0m should be set on \u001b[32m'\u001b[0m\u001b[32m<\u001b[0m\u001b[32mInitialAssignment\u001b[0m\u001b[32m p_chisquare_2\u001b[0m\u001b[32m>\u001b[0m\u001b[32m'\u001b[0m           \u001b]8;id=922570;file:///home/mkoenig/git/sbmlutils/src/sbmlutils/factory.py\u001b\\\u001b[2mfactory.py\u001b[0m\u001b]8;;\u001b\\\u001b[2m:436\u001b[0m\n"
      ]
     },
     "metadata": {},
     "output_type": "display_data"
    },
    {
     "data": {
      "text/html": [
       "<pre style=\"white-space:pre;overflow-x:auto;line-height:normal;font-family:Menlo,'DejaVu Sans Mono',consolas,'Courier New',monospace\"><span style=\"color: #800000; text-decoration-color: #800000\">WARNING </span> <span style=\"color: #008000; text-decoration-color: #008000\">'sboTerm'</span> should be set on <span style=\"color: #008000; text-decoration-color: #008000\">'&lt;InitialAssignment p_chisquare_2&gt;'</span>        <a href=\"file:///home/mkoenig/git/sbmlutils/src/sbmlutils/factory.py\"><span style=\"color: #7f7f7f; text-decoration-color: #7f7f7f\">factory.py</span></a><span style=\"color: #7f7f7f; text-decoration-color: #7f7f7f\">:461</span>\n",
       "</pre>\n"
      ],
      "text/plain": [
       "\u001b[31mWARNING \u001b[0m \u001b[32m'sboTerm'\u001b[0m should be set on \u001b[32m'\u001b[0m\u001b[32m<\u001b[0m\u001b[32mInitialAssignment\u001b[0m\u001b[32m p_chisquare_2\u001b[0m\u001b[32m>\u001b[0m\u001b[32m'\u001b[0m        \u001b]8;id=103554;file:///home/mkoenig/git/sbmlutils/src/sbmlutils/factory.py\u001b\\\u001b[2mfactory.py\u001b[0m\u001b]8;;\u001b\\\u001b[2m:461\u001b[0m\n"
      ]
     },
     "metadata": {},
     "output_type": "display_data"
    },
    {
     "data": {
      "text/html": [
       "<pre style=\"white-space:pre;overflow-x:auto;line-height:normal;font-family:Menlo,'DejaVu Sans Mono',consolas,'Courier New',monospace\"><span style=\"color: #800000; text-decoration-color: #800000\">WARNING </span> <span style=\"color: #008000; text-decoration-color: #008000\">'name'</span> should be set on <span style=\"color: #008000; text-decoration-color: #008000\">'&lt;Parameter p_exponential_1&gt;'</span>                 <a href=\"file:///home/mkoenig/git/sbmlutils/src/sbmlutils/factory.py\"><span style=\"color: #7f7f7f; text-decoration-color: #7f7f7f\">factory.py</span></a><span style=\"color: #7f7f7f; text-decoration-color: #7f7f7f\">:436</span>\n",
       "</pre>\n"
      ],
      "text/plain": [
       "\u001b[31mWARNING \u001b[0m \u001b[32m'name'\u001b[0m should be set on \u001b[32m'\u001b[0m\u001b[32m<\u001b[0m\u001b[32mParameter\u001b[0m\u001b[32m p_exponential_1\u001b[0m\u001b[32m>\u001b[0m\u001b[32m'\u001b[0m                 \u001b]8;id=117848;file:///home/mkoenig/git/sbmlutils/src/sbmlutils/factory.py\u001b\\\u001b[2mfactory.py\u001b[0m\u001b]8;;\u001b\\\u001b[2m:436\u001b[0m\n"
      ]
     },
     "metadata": {},
     "output_type": "display_data"
    },
    {
     "data": {
      "text/html": [
       "<pre style=\"white-space:pre;overflow-x:auto;line-height:normal;font-family:Menlo,'DejaVu Sans Mono',consolas,'Courier New',monospace\"><span style=\"color: #800000; text-decoration-color: #800000\">WARNING </span> <span style=\"color: #008000; text-decoration-color: #008000\">'sboTerm'</span> should be set on <span style=\"color: #008000; text-decoration-color: #008000\">'&lt;Parameter p_exponential_1&gt;'</span>              <a href=\"file:///home/mkoenig/git/sbmlutils/src/sbmlutils/factory.py\"><span style=\"color: #7f7f7f; text-decoration-color: #7f7f7f\">factory.py</span></a><span style=\"color: #7f7f7f; text-decoration-color: #7f7f7f\">:461</span>\n",
       "</pre>\n"
      ],
      "text/plain": [
       "\u001b[31mWARNING \u001b[0m \u001b[32m'sboTerm'\u001b[0m should be set on \u001b[32m'\u001b[0m\u001b[32m<\u001b[0m\u001b[32mParameter\u001b[0m\u001b[32m p_exponential_1\u001b[0m\u001b[32m>\u001b[0m\u001b[32m'\u001b[0m              \u001b]8;id=364031;file:///home/mkoenig/git/sbmlutils/src/sbmlutils/factory.py\u001b\\\u001b[2mfactory.py\u001b[0m\u001b]8;;\u001b\\\u001b[2m:461\u001b[0m\n"
      ]
     },
     "metadata": {},
     "output_type": "display_data"
    },
    {
     "data": {
      "text/html": [
       "<pre style=\"white-space:pre;overflow-x:auto;line-height:normal;font-family:Menlo,'DejaVu Sans Mono',consolas,'Courier New',monospace\"><span style=\"color: #800000; text-decoration-color: #800000\">WARNING </span> <span style=\"color: #008000; text-decoration-color: #008000\">'name'</span> should be set on <span style=\"color: #008000; text-decoration-color: #008000\">'&lt;InitialAssignment p_exponential_1&gt;'</span>         <a href=\"file:///home/mkoenig/git/sbmlutils/src/sbmlutils/factory.py\"><span style=\"color: #7f7f7f; text-decoration-color: #7f7f7f\">factory.py</span></a><span style=\"color: #7f7f7f; text-decoration-color: #7f7f7f\">:436</span>\n",
       "</pre>\n"
      ],
      "text/plain": [
       "\u001b[31mWARNING \u001b[0m \u001b[32m'name'\u001b[0m should be set on \u001b[32m'\u001b[0m\u001b[32m<\u001b[0m\u001b[32mInitialAssignment\u001b[0m\u001b[32m p_exponential_1\u001b[0m\u001b[32m>\u001b[0m\u001b[32m'\u001b[0m         \u001b]8;id=81935;file:///home/mkoenig/git/sbmlutils/src/sbmlutils/factory.py\u001b\\\u001b[2mfactory.py\u001b[0m\u001b]8;;\u001b\\\u001b[2m:436\u001b[0m\n"
      ]
     },
     "metadata": {},
     "output_type": "display_data"
    },
    {
     "data": {
      "text/html": [
       "<pre style=\"white-space:pre;overflow-x:auto;line-height:normal;font-family:Menlo,'DejaVu Sans Mono',consolas,'Courier New',monospace\"><span style=\"color: #800000; text-decoration-color: #800000\">WARNING </span> <span style=\"color: #008000; text-decoration-color: #008000\">'sboTerm'</span> should be set on <span style=\"color: #008000; text-decoration-color: #008000\">'&lt;InitialAssignment p_exponential_1&gt;'</span>      <a href=\"file:///home/mkoenig/git/sbmlutils/src/sbmlutils/factory.py\"><span style=\"color: #7f7f7f; text-decoration-color: #7f7f7f\">factory.py</span></a><span style=\"color: #7f7f7f; text-decoration-color: #7f7f7f\">:461</span>\n",
       "</pre>\n"
      ],
      "text/plain": [
       "\u001b[31mWARNING \u001b[0m \u001b[32m'sboTerm'\u001b[0m should be set on \u001b[32m'\u001b[0m\u001b[32m<\u001b[0m\u001b[32mInitialAssignment\u001b[0m\u001b[32m p_exponential_1\u001b[0m\u001b[32m>\u001b[0m\u001b[32m'\u001b[0m      \u001b]8;id=345170;file:///home/mkoenig/git/sbmlutils/src/sbmlutils/factory.py\u001b\\\u001b[2mfactory.py\u001b[0m\u001b]8;;\u001b\\\u001b[2m:461\u001b[0m\n"
      ]
     },
     "metadata": {},
     "output_type": "display_data"
    },
    {
     "data": {
      "text/html": [
       "<pre style=\"white-space:pre;overflow-x:auto;line-height:normal;font-family:Menlo,'DejaVu Sans Mono',consolas,'Courier New',monospace\"><span style=\"color: #800000; text-decoration-color: #800000\">WARNING </span> <span style=\"color: #008000; text-decoration-color: #008000\">'name'</span> should be set on <span style=\"color: #008000; text-decoration-color: #008000\">'&lt;Parameter p_exponential_2&gt;'</span>                 <a href=\"file:///home/mkoenig/git/sbmlutils/src/sbmlutils/factory.py\"><span style=\"color: #7f7f7f; text-decoration-color: #7f7f7f\">factory.py</span></a><span style=\"color: #7f7f7f; text-decoration-color: #7f7f7f\">:436</span>\n",
       "</pre>\n"
      ],
      "text/plain": [
       "\u001b[31mWARNING \u001b[0m \u001b[32m'name'\u001b[0m should be set on \u001b[32m'\u001b[0m\u001b[32m<\u001b[0m\u001b[32mParameter\u001b[0m\u001b[32m p_exponential_2\u001b[0m\u001b[32m>\u001b[0m\u001b[32m'\u001b[0m                 \u001b]8;id=839147;file:///home/mkoenig/git/sbmlutils/src/sbmlutils/factory.py\u001b\\\u001b[2mfactory.py\u001b[0m\u001b]8;;\u001b\\\u001b[2m:436\u001b[0m\n"
      ]
     },
     "metadata": {},
     "output_type": "display_data"
    },
    {
     "data": {
      "text/html": [
       "<pre style=\"white-space:pre;overflow-x:auto;line-height:normal;font-family:Menlo,'DejaVu Sans Mono',consolas,'Courier New',monospace\"><span style=\"color: #800000; text-decoration-color: #800000\">WARNING </span> <span style=\"color: #008000; text-decoration-color: #008000\">'sboTerm'</span> should be set on <span style=\"color: #008000; text-decoration-color: #008000\">'&lt;Parameter p_exponential_2&gt;'</span>              <a href=\"file:///home/mkoenig/git/sbmlutils/src/sbmlutils/factory.py\"><span style=\"color: #7f7f7f; text-decoration-color: #7f7f7f\">factory.py</span></a><span style=\"color: #7f7f7f; text-decoration-color: #7f7f7f\">:461</span>\n",
       "</pre>\n"
      ],
      "text/plain": [
       "\u001b[31mWARNING \u001b[0m \u001b[32m'sboTerm'\u001b[0m should be set on \u001b[32m'\u001b[0m\u001b[32m<\u001b[0m\u001b[32mParameter\u001b[0m\u001b[32m p_exponential_2\u001b[0m\u001b[32m>\u001b[0m\u001b[32m'\u001b[0m              \u001b]8;id=999218;file:///home/mkoenig/git/sbmlutils/src/sbmlutils/factory.py\u001b\\\u001b[2mfactory.py\u001b[0m\u001b]8;;\u001b\\\u001b[2m:461\u001b[0m\n"
      ]
     },
     "metadata": {},
     "output_type": "display_data"
    },
    {
     "data": {
      "text/html": [
       "<pre style=\"white-space:pre;overflow-x:auto;line-height:normal;font-family:Menlo,'DejaVu Sans Mono',consolas,'Courier New',monospace\"><span style=\"color: #800000; text-decoration-color: #800000\">WARNING </span> <span style=\"color: #008000; text-decoration-color: #008000\">'name'</span> should be set on <span style=\"color: #008000; text-decoration-color: #008000\">'&lt;InitialAssignment p_exponential_2&gt;'</span>         <a href=\"file:///home/mkoenig/git/sbmlutils/src/sbmlutils/factory.py\"><span style=\"color: #7f7f7f; text-decoration-color: #7f7f7f\">factory.py</span></a><span style=\"color: #7f7f7f; text-decoration-color: #7f7f7f\">:436</span>\n",
       "</pre>\n"
      ],
      "text/plain": [
       "\u001b[31mWARNING \u001b[0m \u001b[32m'name'\u001b[0m should be set on \u001b[32m'\u001b[0m\u001b[32m<\u001b[0m\u001b[32mInitialAssignment\u001b[0m\u001b[32m p_exponential_2\u001b[0m\u001b[32m>\u001b[0m\u001b[32m'\u001b[0m         \u001b]8;id=178139;file:///home/mkoenig/git/sbmlutils/src/sbmlutils/factory.py\u001b\\\u001b[2mfactory.py\u001b[0m\u001b]8;;\u001b\\\u001b[2m:436\u001b[0m\n"
      ]
     },
     "metadata": {},
     "output_type": "display_data"
    },
    {
     "data": {
      "text/html": [
       "<pre style=\"white-space:pre;overflow-x:auto;line-height:normal;font-family:Menlo,'DejaVu Sans Mono',consolas,'Courier New',monospace\"><span style=\"color: #800000; text-decoration-color: #800000\">WARNING </span> <span style=\"color: #008000; text-decoration-color: #008000\">'sboTerm'</span> should be set on <span style=\"color: #008000; text-decoration-color: #008000\">'&lt;InitialAssignment p_exponential_2&gt;'</span>      <a href=\"file:///home/mkoenig/git/sbmlutils/src/sbmlutils/factory.py\"><span style=\"color: #7f7f7f; text-decoration-color: #7f7f7f\">factory.py</span></a><span style=\"color: #7f7f7f; text-decoration-color: #7f7f7f\">:461</span>\n",
       "</pre>\n"
      ],
      "text/plain": [
       "\u001b[31mWARNING \u001b[0m \u001b[32m'sboTerm'\u001b[0m should be set on \u001b[32m'\u001b[0m\u001b[32m<\u001b[0m\u001b[32mInitialAssignment\u001b[0m\u001b[32m p_exponential_2\u001b[0m\u001b[32m>\u001b[0m\u001b[32m'\u001b[0m      \u001b]8;id=30304;file:///home/mkoenig/git/sbmlutils/src/sbmlutils/factory.py\u001b\\\u001b[2mfactory.py\u001b[0m\u001b]8;;\u001b\\\u001b[2m:461\u001b[0m\n"
      ]
     },
     "metadata": {},
     "output_type": "display_data"
    },
    {
     "data": {
      "text/html": [
       "<pre style=\"white-space:pre;overflow-x:auto;line-height:normal;font-family:Menlo,'DejaVu Sans Mono',consolas,'Courier New',monospace\"><span style=\"color: #800000; text-decoration-color: #800000\">WARNING </span> <span style=\"color: #008000; text-decoration-color: #008000\">'name'</span> should be set on <span style=\"color: #008000; text-decoration-color: #008000\">'&lt;Parameter p_gamma_1&gt;'</span>                       <a href=\"file:///home/mkoenig/git/sbmlutils/src/sbmlutils/factory.py\"><span style=\"color: #7f7f7f; text-decoration-color: #7f7f7f\">factory.py</span></a><span style=\"color: #7f7f7f; text-decoration-color: #7f7f7f\">:436</span>\n",
       "</pre>\n"
      ],
      "text/plain": [
       "\u001b[31mWARNING \u001b[0m \u001b[32m'name'\u001b[0m should be set on \u001b[32m'\u001b[0m\u001b[32m<\u001b[0m\u001b[32mParameter\u001b[0m\u001b[32m p_gamma_1\u001b[0m\u001b[32m>\u001b[0m\u001b[32m'\u001b[0m                       \u001b]8;id=514589;file:///home/mkoenig/git/sbmlutils/src/sbmlutils/factory.py\u001b\\\u001b[2mfactory.py\u001b[0m\u001b]8;;\u001b\\\u001b[2m:436\u001b[0m\n"
      ]
     },
     "metadata": {},
     "output_type": "display_data"
    },
    {
     "data": {
      "text/html": [
       "<pre style=\"white-space:pre;overflow-x:auto;line-height:normal;font-family:Menlo,'DejaVu Sans Mono',consolas,'Courier New',monospace\"><span style=\"color: #800000; text-decoration-color: #800000\">WARNING </span> <span style=\"color: #008000; text-decoration-color: #008000\">'sboTerm'</span> should be set on <span style=\"color: #008000; text-decoration-color: #008000\">'&lt;Parameter p_gamma_1&gt;'</span>                    <a href=\"file:///home/mkoenig/git/sbmlutils/src/sbmlutils/factory.py\"><span style=\"color: #7f7f7f; text-decoration-color: #7f7f7f\">factory.py</span></a><span style=\"color: #7f7f7f; text-decoration-color: #7f7f7f\">:461</span>\n",
       "</pre>\n"
      ],
      "text/plain": [
       "\u001b[31mWARNING \u001b[0m \u001b[32m'sboTerm'\u001b[0m should be set on \u001b[32m'\u001b[0m\u001b[32m<\u001b[0m\u001b[32mParameter\u001b[0m\u001b[32m p_gamma_1\u001b[0m\u001b[32m>\u001b[0m\u001b[32m'\u001b[0m                    \u001b]8;id=40080;file:///home/mkoenig/git/sbmlutils/src/sbmlutils/factory.py\u001b\\\u001b[2mfactory.py\u001b[0m\u001b]8;;\u001b\\\u001b[2m:461\u001b[0m\n"
      ]
     },
     "metadata": {},
     "output_type": "display_data"
    },
    {
     "data": {
      "text/html": [
       "<pre style=\"white-space:pre;overflow-x:auto;line-height:normal;font-family:Menlo,'DejaVu Sans Mono',consolas,'Courier New',monospace\"><span style=\"color: #800000; text-decoration-color: #800000\">WARNING </span> <span style=\"color: #008000; text-decoration-color: #008000\">'name'</span> should be set on <span style=\"color: #008000; text-decoration-color: #008000\">'&lt;InitialAssignment p_gamma_1&gt;'</span>               <a href=\"file:///home/mkoenig/git/sbmlutils/src/sbmlutils/factory.py\"><span style=\"color: #7f7f7f; text-decoration-color: #7f7f7f\">factory.py</span></a><span style=\"color: #7f7f7f; text-decoration-color: #7f7f7f\">:436</span>\n",
       "</pre>\n"
      ],
      "text/plain": [
       "\u001b[31mWARNING \u001b[0m \u001b[32m'name'\u001b[0m should be set on \u001b[32m'\u001b[0m\u001b[32m<\u001b[0m\u001b[32mInitialAssignment\u001b[0m\u001b[32m p_gamma_1\u001b[0m\u001b[32m>\u001b[0m\u001b[32m'\u001b[0m               \u001b]8;id=277894;file:///home/mkoenig/git/sbmlutils/src/sbmlutils/factory.py\u001b\\\u001b[2mfactory.py\u001b[0m\u001b]8;;\u001b\\\u001b[2m:436\u001b[0m\n"
      ]
     },
     "metadata": {},
     "output_type": "display_data"
    },
    {
     "data": {
      "text/html": [
       "<pre style=\"white-space:pre;overflow-x:auto;line-height:normal;font-family:Menlo,'DejaVu Sans Mono',consolas,'Courier New',monospace\"><span style=\"color: #800000; text-decoration-color: #800000\">WARNING </span> <span style=\"color: #008000; text-decoration-color: #008000\">'sboTerm'</span> should be set on <span style=\"color: #008000; text-decoration-color: #008000\">'&lt;InitialAssignment p_gamma_1&gt;'</span>            <a href=\"file:///home/mkoenig/git/sbmlutils/src/sbmlutils/factory.py\"><span style=\"color: #7f7f7f; text-decoration-color: #7f7f7f\">factory.py</span></a><span style=\"color: #7f7f7f; text-decoration-color: #7f7f7f\">:461</span>\n",
       "</pre>\n"
      ],
      "text/plain": [
       "\u001b[31mWARNING \u001b[0m \u001b[32m'sboTerm'\u001b[0m should be set on \u001b[32m'\u001b[0m\u001b[32m<\u001b[0m\u001b[32mInitialAssignment\u001b[0m\u001b[32m p_gamma_1\u001b[0m\u001b[32m>\u001b[0m\u001b[32m'\u001b[0m            \u001b]8;id=765905;file:///home/mkoenig/git/sbmlutils/src/sbmlutils/factory.py\u001b\\\u001b[2mfactory.py\u001b[0m\u001b]8;;\u001b\\\u001b[2m:461\u001b[0m\n"
      ]
     },
     "metadata": {},
     "output_type": "display_data"
    },
    {
     "data": {
      "text/html": [
       "<pre style=\"white-space:pre;overflow-x:auto;line-height:normal;font-family:Menlo,'DejaVu Sans Mono',consolas,'Courier New',monospace\"><span style=\"color: #800000; text-decoration-color: #800000\">WARNING </span> <span style=\"color: #008000; text-decoration-color: #008000\">'name'</span> should be set on <span style=\"color: #008000; text-decoration-color: #008000\">'&lt;Parameter p_gamma_2&gt;'</span>                       <a href=\"file:///home/mkoenig/git/sbmlutils/src/sbmlutils/factory.py\"><span style=\"color: #7f7f7f; text-decoration-color: #7f7f7f\">factory.py</span></a><span style=\"color: #7f7f7f; text-decoration-color: #7f7f7f\">:436</span>\n",
       "</pre>\n"
      ],
      "text/plain": [
       "\u001b[31mWARNING \u001b[0m \u001b[32m'name'\u001b[0m should be set on \u001b[32m'\u001b[0m\u001b[32m<\u001b[0m\u001b[32mParameter\u001b[0m\u001b[32m p_gamma_2\u001b[0m\u001b[32m>\u001b[0m\u001b[32m'\u001b[0m                       \u001b]8;id=897046;file:///home/mkoenig/git/sbmlutils/src/sbmlutils/factory.py\u001b\\\u001b[2mfactory.py\u001b[0m\u001b]8;;\u001b\\\u001b[2m:436\u001b[0m\n"
      ]
     },
     "metadata": {},
     "output_type": "display_data"
    },
    {
     "data": {
      "text/html": [
       "<pre style=\"white-space:pre;overflow-x:auto;line-height:normal;font-family:Menlo,'DejaVu Sans Mono',consolas,'Courier New',monospace\"><span style=\"color: #800000; text-decoration-color: #800000\">WARNING </span> <span style=\"color: #008000; text-decoration-color: #008000\">'sboTerm'</span> should be set on <span style=\"color: #008000; text-decoration-color: #008000\">'&lt;Parameter p_gamma_2&gt;'</span>                    <a href=\"file:///home/mkoenig/git/sbmlutils/src/sbmlutils/factory.py\"><span style=\"color: #7f7f7f; text-decoration-color: #7f7f7f\">factory.py</span></a><span style=\"color: #7f7f7f; text-decoration-color: #7f7f7f\">:461</span>\n",
       "</pre>\n"
      ],
      "text/plain": [
       "\u001b[31mWARNING \u001b[0m \u001b[32m'sboTerm'\u001b[0m should be set on \u001b[32m'\u001b[0m\u001b[32m<\u001b[0m\u001b[32mParameter\u001b[0m\u001b[32m p_gamma_2\u001b[0m\u001b[32m>\u001b[0m\u001b[32m'\u001b[0m                    \u001b]8;id=906621;file:///home/mkoenig/git/sbmlutils/src/sbmlutils/factory.py\u001b\\\u001b[2mfactory.py\u001b[0m\u001b]8;;\u001b\\\u001b[2m:461\u001b[0m\n"
      ]
     },
     "metadata": {},
     "output_type": "display_data"
    },
    {
     "data": {
      "text/html": [
       "<pre style=\"white-space:pre;overflow-x:auto;line-height:normal;font-family:Menlo,'DejaVu Sans Mono',consolas,'Courier New',monospace\"><span style=\"color: #800000; text-decoration-color: #800000\">WARNING </span> <span style=\"color: #008000; text-decoration-color: #008000\">'name'</span> should be set on <span style=\"color: #008000; text-decoration-color: #008000\">'&lt;InitialAssignment p_gamma_2&gt;'</span>               <a href=\"file:///home/mkoenig/git/sbmlutils/src/sbmlutils/factory.py\"><span style=\"color: #7f7f7f; text-decoration-color: #7f7f7f\">factory.py</span></a><span style=\"color: #7f7f7f; text-decoration-color: #7f7f7f\">:436</span>\n",
       "</pre>\n"
      ],
      "text/plain": [
       "\u001b[31mWARNING \u001b[0m \u001b[32m'name'\u001b[0m should be set on \u001b[32m'\u001b[0m\u001b[32m<\u001b[0m\u001b[32mInitialAssignment\u001b[0m\u001b[32m p_gamma_2\u001b[0m\u001b[32m>\u001b[0m\u001b[32m'\u001b[0m               \u001b]8;id=774913;file:///home/mkoenig/git/sbmlutils/src/sbmlutils/factory.py\u001b\\\u001b[2mfactory.py\u001b[0m\u001b]8;;\u001b\\\u001b[2m:436\u001b[0m\n"
      ]
     },
     "metadata": {},
     "output_type": "display_data"
    },
    {
     "data": {
      "text/html": [
       "<pre style=\"white-space:pre;overflow-x:auto;line-height:normal;font-family:Menlo,'DejaVu Sans Mono',consolas,'Courier New',monospace\"><span style=\"color: #800000; text-decoration-color: #800000\">WARNING </span> <span style=\"color: #008000; text-decoration-color: #008000\">'sboTerm'</span> should be set on <span style=\"color: #008000; text-decoration-color: #008000\">'&lt;InitialAssignment p_gamma_2&gt;'</span>            <a href=\"file:///home/mkoenig/git/sbmlutils/src/sbmlutils/factory.py\"><span style=\"color: #7f7f7f; text-decoration-color: #7f7f7f\">factory.py</span></a><span style=\"color: #7f7f7f; text-decoration-color: #7f7f7f\">:461</span>\n",
       "</pre>\n"
      ],
      "text/plain": [
       "\u001b[31mWARNING \u001b[0m \u001b[32m'sboTerm'\u001b[0m should be set on \u001b[32m'\u001b[0m\u001b[32m<\u001b[0m\u001b[32mInitialAssignment\u001b[0m\u001b[32m p_gamma_2\u001b[0m\u001b[32m>\u001b[0m\u001b[32m'\u001b[0m            \u001b]8;id=539190;file:///home/mkoenig/git/sbmlutils/src/sbmlutils/factory.py\u001b\\\u001b[2mfactory.py\u001b[0m\u001b]8;;\u001b\\\u001b[2m:461\u001b[0m\n"
      ]
     },
     "metadata": {},
     "output_type": "display_data"
    },
    {
     "data": {
      "text/html": [
       "<pre style=\"white-space:pre;overflow-x:auto;line-height:normal;font-family:Menlo,'DejaVu Sans Mono',consolas,'Courier New',monospace\"><span style=\"color: #800000; text-decoration-color: #800000\">WARNING </span> <span style=\"color: #008000; text-decoration-color: #008000\">'name'</span> should be set on <span style=\"color: #008000; text-decoration-color: #008000\">'&lt;Parameter p_laplace_1&gt;'</span>                     <a href=\"file:///home/mkoenig/git/sbmlutils/src/sbmlutils/factory.py\"><span style=\"color: #7f7f7f; text-decoration-color: #7f7f7f\">factory.py</span></a><span style=\"color: #7f7f7f; text-decoration-color: #7f7f7f\">:436</span>\n",
       "</pre>\n"
      ],
      "text/plain": [
       "\u001b[31mWARNING \u001b[0m \u001b[32m'name'\u001b[0m should be set on \u001b[32m'\u001b[0m\u001b[32m<\u001b[0m\u001b[32mParameter\u001b[0m\u001b[32m p_laplace_1\u001b[0m\u001b[32m>\u001b[0m\u001b[32m'\u001b[0m                     \u001b]8;id=991296;file:///home/mkoenig/git/sbmlutils/src/sbmlutils/factory.py\u001b\\\u001b[2mfactory.py\u001b[0m\u001b]8;;\u001b\\\u001b[2m:436\u001b[0m\n"
      ]
     },
     "metadata": {},
     "output_type": "display_data"
    },
    {
     "data": {
      "text/html": [
       "<pre style=\"white-space:pre;overflow-x:auto;line-height:normal;font-family:Menlo,'DejaVu Sans Mono',consolas,'Courier New',monospace\"><span style=\"color: #800000; text-decoration-color: #800000\">WARNING </span> <span style=\"color: #008000; text-decoration-color: #008000\">'sboTerm'</span> should be set on <span style=\"color: #008000; text-decoration-color: #008000\">'&lt;Parameter p_laplace_1&gt;'</span>                  <a href=\"file:///home/mkoenig/git/sbmlutils/src/sbmlutils/factory.py\"><span style=\"color: #7f7f7f; text-decoration-color: #7f7f7f\">factory.py</span></a><span style=\"color: #7f7f7f; text-decoration-color: #7f7f7f\">:461</span>\n",
       "</pre>\n"
      ],
      "text/plain": [
       "\u001b[31mWARNING \u001b[0m \u001b[32m'sboTerm'\u001b[0m should be set on \u001b[32m'\u001b[0m\u001b[32m<\u001b[0m\u001b[32mParameter\u001b[0m\u001b[32m p_laplace_1\u001b[0m\u001b[32m>\u001b[0m\u001b[32m'\u001b[0m                  \u001b]8;id=625904;file:///home/mkoenig/git/sbmlutils/src/sbmlutils/factory.py\u001b\\\u001b[2mfactory.py\u001b[0m\u001b]8;;\u001b\\\u001b[2m:461\u001b[0m\n"
      ]
     },
     "metadata": {},
     "output_type": "display_data"
    },
    {
     "data": {
      "text/html": [
       "<pre style=\"white-space:pre;overflow-x:auto;line-height:normal;font-family:Menlo,'DejaVu Sans Mono',consolas,'Courier New',monospace\"><span style=\"color: #800000; text-decoration-color: #800000\">WARNING </span> <span style=\"color: #008000; text-decoration-color: #008000\">'name'</span> should be set on <span style=\"color: #008000; text-decoration-color: #008000\">'&lt;InitialAssignment p_laplace_1&gt;'</span>             <a href=\"file:///home/mkoenig/git/sbmlutils/src/sbmlutils/factory.py\"><span style=\"color: #7f7f7f; text-decoration-color: #7f7f7f\">factory.py</span></a><span style=\"color: #7f7f7f; text-decoration-color: #7f7f7f\">:436</span>\n",
       "</pre>\n"
      ],
      "text/plain": [
       "\u001b[31mWARNING \u001b[0m \u001b[32m'name'\u001b[0m should be set on \u001b[32m'\u001b[0m\u001b[32m<\u001b[0m\u001b[32mInitialAssignment\u001b[0m\u001b[32m p_laplace_1\u001b[0m\u001b[32m>\u001b[0m\u001b[32m'\u001b[0m             \u001b]8;id=514326;file:///home/mkoenig/git/sbmlutils/src/sbmlutils/factory.py\u001b\\\u001b[2mfactory.py\u001b[0m\u001b]8;;\u001b\\\u001b[2m:436\u001b[0m\n"
      ]
     },
     "metadata": {},
     "output_type": "display_data"
    },
    {
     "data": {
      "text/html": [
       "<pre style=\"white-space:pre;overflow-x:auto;line-height:normal;font-family:Menlo,'DejaVu Sans Mono',consolas,'Courier New',monospace\"><span style=\"color: #800000; text-decoration-color: #800000\">WARNING </span> <span style=\"color: #008000; text-decoration-color: #008000\">'sboTerm'</span> should be set on <span style=\"color: #008000; text-decoration-color: #008000\">'&lt;InitialAssignment p_laplace_1&gt;'</span>          <a href=\"file:///home/mkoenig/git/sbmlutils/src/sbmlutils/factory.py\"><span style=\"color: #7f7f7f; text-decoration-color: #7f7f7f\">factory.py</span></a><span style=\"color: #7f7f7f; text-decoration-color: #7f7f7f\">:461</span>\n",
       "</pre>\n"
      ],
      "text/plain": [
       "\u001b[31mWARNING \u001b[0m \u001b[32m'sboTerm'\u001b[0m should be set on \u001b[32m'\u001b[0m\u001b[32m<\u001b[0m\u001b[32mInitialAssignment\u001b[0m\u001b[32m p_laplace_1\u001b[0m\u001b[32m>\u001b[0m\u001b[32m'\u001b[0m          \u001b]8;id=251561;file:///home/mkoenig/git/sbmlutils/src/sbmlutils/factory.py\u001b\\\u001b[2mfactory.py\u001b[0m\u001b]8;;\u001b\\\u001b[2m:461\u001b[0m\n"
      ]
     },
     "metadata": {},
     "output_type": "display_data"
    },
    {
     "data": {
      "text/html": [
       "<pre style=\"white-space:pre;overflow-x:auto;line-height:normal;font-family:Menlo,'DejaVu Sans Mono',consolas,'Courier New',monospace\"><span style=\"color: #800000; text-decoration-color: #800000\">WARNING </span> <span style=\"color: #008000; text-decoration-color: #008000\">'name'</span> should be set on <span style=\"color: #008000; text-decoration-color: #008000\">'&lt;Parameter p_laplace_2&gt;'</span>                     <a href=\"file:///home/mkoenig/git/sbmlutils/src/sbmlutils/factory.py\"><span style=\"color: #7f7f7f; text-decoration-color: #7f7f7f\">factory.py</span></a><span style=\"color: #7f7f7f; text-decoration-color: #7f7f7f\">:436</span>\n",
       "</pre>\n"
      ],
      "text/plain": [
       "\u001b[31mWARNING \u001b[0m \u001b[32m'name'\u001b[0m should be set on \u001b[32m'\u001b[0m\u001b[32m<\u001b[0m\u001b[32mParameter\u001b[0m\u001b[32m p_laplace_2\u001b[0m\u001b[32m>\u001b[0m\u001b[32m'\u001b[0m                     \u001b]8;id=994572;file:///home/mkoenig/git/sbmlutils/src/sbmlutils/factory.py\u001b\\\u001b[2mfactory.py\u001b[0m\u001b]8;;\u001b\\\u001b[2m:436\u001b[0m\n"
      ]
     },
     "metadata": {},
     "output_type": "display_data"
    },
    {
     "data": {
      "text/html": [
       "<pre style=\"white-space:pre;overflow-x:auto;line-height:normal;font-family:Menlo,'DejaVu Sans Mono',consolas,'Courier New',monospace\"><span style=\"color: #800000; text-decoration-color: #800000\">WARNING </span> <span style=\"color: #008000; text-decoration-color: #008000\">'sboTerm'</span> should be set on <span style=\"color: #008000; text-decoration-color: #008000\">'&lt;Parameter p_laplace_2&gt;'</span>                  <a href=\"file:///home/mkoenig/git/sbmlutils/src/sbmlutils/factory.py\"><span style=\"color: #7f7f7f; text-decoration-color: #7f7f7f\">factory.py</span></a><span style=\"color: #7f7f7f; text-decoration-color: #7f7f7f\">:461</span>\n",
       "</pre>\n"
      ],
      "text/plain": [
       "\u001b[31mWARNING \u001b[0m \u001b[32m'sboTerm'\u001b[0m should be set on \u001b[32m'\u001b[0m\u001b[32m<\u001b[0m\u001b[32mParameter\u001b[0m\u001b[32m p_laplace_2\u001b[0m\u001b[32m>\u001b[0m\u001b[32m'\u001b[0m                  \u001b]8;id=70564;file:///home/mkoenig/git/sbmlutils/src/sbmlutils/factory.py\u001b\\\u001b[2mfactory.py\u001b[0m\u001b]8;;\u001b\\\u001b[2m:461\u001b[0m\n"
      ]
     },
     "metadata": {},
     "output_type": "display_data"
    },
    {
     "data": {
      "text/html": [
       "<pre style=\"white-space:pre;overflow-x:auto;line-height:normal;font-family:Menlo,'DejaVu Sans Mono',consolas,'Courier New',monospace\"><span style=\"color: #800000; text-decoration-color: #800000\">WARNING </span> <span style=\"color: #008000; text-decoration-color: #008000\">'name'</span> should be set on <span style=\"color: #008000; text-decoration-color: #008000\">'&lt;InitialAssignment p_laplace_2&gt;'</span>             <a href=\"file:///home/mkoenig/git/sbmlutils/src/sbmlutils/factory.py\"><span style=\"color: #7f7f7f; text-decoration-color: #7f7f7f\">factory.py</span></a><span style=\"color: #7f7f7f; text-decoration-color: #7f7f7f\">:436</span>\n",
       "</pre>\n"
      ],
      "text/plain": [
       "\u001b[31mWARNING \u001b[0m \u001b[32m'name'\u001b[0m should be set on \u001b[32m'\u001b[0m\u001b[32m<\u001b[0m\u001b[32mInitialAssignment\u001b[0m\u001b[32m p_laplace_2\u001b[0m\u001b[32m>\u001b[0m\u001b[32m'\u001b[0m             \u001b]8;id=357183;file:///home/mkoenig/git/sbmlutils/src/sbmlutils/factory.py\u001b\\\u001b[2mfactory.py\u001b[0m\u001b]8;;\u001b\\\u001b[2m:436\u001b[0m\n"
      ]
     },
     "metadata": {},
     "output_type": "display_data"
    },
    {
     "data": {
      "text/html": [
       "<pre style=\"white-space:pre;overflow-x:auto;line-height:normal;font-family:Menlo,'DejaVu Sans Mono',consolas,'Courier New',monospace\"><span style=\"color: #800000; text-decoration-color: #800000\">WARNING </span> <span style=\"color: #008000; text-decoration-color: #008000\">'sboTerm'</span> should be set on <span style=\"color: #008000; text-decoration-color: #008000\">'&lt;InitialAssignment p_laplace_2&gt;'</span>          <a href=\"file:///home/mkoenig/git/sbmlutils/src/sbmlutils/factory.py\"><span style=\"color: #7f7f7f; text-decoration-color: #7f7f7f\">factory.py</span></a><span style=\"color: #7f7f7f; text-decoration-color: #7f7f7f\">:461</span>\n",
       "</pre>\n"
      ],
      "text/plain": [
       "\u001b[31mWARNING \u001b[0m \u001b[32m'sboTerm'\u001b[0m should be set on \u001b[32m'\u001b[0m\u001b[32m<\u001b[0m\u001b[32mInitialAssignment\u001b[0m\u001b[32m p_laplace_2\u001b[0m\u001b[32m>\u001b[0m\u001b[32m'\u001b[0m          \u001b]8;id=287844;file:///home/mkoenig/git/sbmlutils/src/sbmlutils/factory.py\u001b\\\u001b[2mfactory.py\u001b[0m\u001b]8;;\u001b\\\u001b[2m:461\u001b[0m\n"
      ]
     },
     "metadata": {},
     "output_type": "display_data"
    },
    {
     "data": {
      "text/html": [
       "<pre style=\"white-space:pre;overflow-x:auto;line-height:normal;font-family:Menlo,'DejaVu Sans Mono',consolas,'Courier New',monospace\"><span style=\"color: #800000; text-decoration-color: #800000\">WARNING </span> <span style=\"color: #008000; text-decoration-color: #008000\">'name'</span> should be set on <span style=\"color: #008000; text-decoration-color: #008000\">'&lt;Parameter p_lognormal_1&gt;'</span>                   <a href=\"file:///home/mkoenig/git/sbmlutils/src/sbmlutils/factory.py\"><span style=\"color: #7f7f7f; text-decoration-color: #7f7f7f\">factory.py</span></a><span style=\"color: #7f7f7f; text-decoration-color: #7f7f7f\">:436</span>\n",
       "</pre>\n"
      ],
      "text/plain": [
       "\u001b[31mWARNING \u001b[0m \u001b[32m'name'\u001b[0m should be set on \u001b[32m'\u001b[0m\u001b[32m<\u001b[0m\u001b[32mParameter\u001b[0m\u001b[32m p_lognormal_1\u001b[0m\u001b[32m>\u001b[0m\u001b[32m'\u001b[0m                   \u001b]8;id=937582;file:///home/mkoenig/git/sbmlutils/src/sbmlutils/factory.py\u001b\\\u001b[2mfactory.py\u001b[0m\u001b]8;;\u001b\\\u001b[2m:436\u001b[0m\n"
      ]
     },
     "metadata": {},
     "output_type": "display_data"
    },
    {
     "data": {
      "text/html": [
       "<pre style=\"white-space:pre;overflow-x:auto;line-height:normal;font-family:Menlo,'DejaVu Sans Mono',consolas,'Courier New',monospace\"><span style=\"color: #800000; text-decoration-color: #800000\">WARNING </span> <span style=\"color: #008000; text-decoration-color: #008000\">'sboTerm'</span> should be set on <span style=\"color: #008000; text-decoration-color: #008000\">'&lt;Parameter p_lognormal_1&gt;'</span>                <a href=\"file:///home/mkoenig/git/sbmlutils/src/sbmlutils/factory.py\"><span style=\"color: #7f7f7f; text-decoration-color: #7f7f7f\">factory.py</span></a><span style=\"color: #7f7f7f; text-decoration-color: #7f7f7f\">:461</span>\n",
       "</pre>\n"
      ],
      "text/plain": [
       "\u001b[31mWARNING \u001b[0m \u001b[32m'sboTerm'\u001b[0m should be set on \u001b[32m'\u001b[0m\u001b[32m<\u001b[0m\u001b[32mParameter\u001b[0m\u001b[32m p_lognormal_1\u001b[0m\u001b[32m>\u001b[0m\u001b[32m'\u001b[0m                \u001b]8;id=584352;file:///home/mkoenig/git/sbmlutils/src/sbmlutils/factory.py\u001b\\\u001b[2mfactory.py\u001b[0m\u001b]8;;\u001b\\\u001b[2m:461\u001b[0m\n"
      ]
     },
     "metadata": {},
     "output_type": "display_data"
    },
    {
     "data": {
      "text/html": [
       "<pre style=\"white-space:pre;overflow-x:auto;line-height:normal;font-family:Menlo,'DejaVu Sans Mono',consolas,'Courier New',monospace\"><span style=\"color: #800000; text-decoration-color: #800000\">WARNING </span> <span style=\"color: #008000; text-decoration-color: #008000\">'name'</span> should be set on <span style=\"color: #008000; text-decoration-color: #008000\">'&lt;InitialAssignment p_lognormal_1&gt;'</span>           <a href=\"file:///home/mkoenig/git/sbmlutils/src/sbmlutils/factory.py\"><span style=\"color: #7f7f7f; text-decoration-color: #7f7f7f\">factory.py</span></a><span style=\"color: #7f7f7f; text-decoration-color: #7f7f7f\">:436</span>\n",
       "</pre>\n"
      ],
      "text/plain": [
       "\u001b[31mWARNING \u001b[0m \u001b[32m'name'\u001b[0m should be set on \u001b[32m'\u001b[0m\u001b[32m<\u001b[0m\u001b[32mInitialAssignment\u001b[0m\u001b[32m p_lognormal_1\u001b[0m\u001b[32m>\u001b[0m\u001b[32m'\u001b[0m           \u001b]8;id=360032;file:///home/mkoenig/git/sbmlutils/src/sbmlutils/factory.py\u001b\\\u001b[2mfactory.py\u001b[0m\u001b]8;;\u001b\\\u001b[2m:436\u001b[0m\n"
      ]
     },
     "metadata": {},
     "output_type": "display_data"
    },
    {
     "data": {
      "text/html": [
       "<pre style=\"white-space:pre;overflow-x:auto;line-height:normal;font-family:Menlo,'DejaVu Sans Mono',consolas,'Courier New',monospace\"><span style=\"color: #800000; text-decoration-color: #800000\">WARNING </span> <span style=\"color: #008000; text-decoration-color: #008000\">'sboTerm'</span> should be set on <span style=\"color: #008000; text-decoration-color: #008000\">'&lt;InitialAssignment p_lognormal_1&gt;'</span>        <a href=\"file:///home/mkoenig/git/sbmlutils/src/sbmlutils/factory.py\"><span style=\"color: #7f7f7f; text-decoration-color: #7f7f7f\">factory.py</span></a><span style=\"color: #7f7f7f; text-decoration-color: #7f7f7f\">:461</span>\n",
       "</pre>\n"
      ],
      "text/plain": [
       "\u001b[31mWARNING \u001b[0m \u001b[32m'sboTerm'\u001b[0m should be set on \u001b[32m'\u001b[0m\u001b[32m<\u001b[0m\u001b[32mInitialAssignment\u001b[0m\u001b[32m p_lognormal_1\u001b[0m\u001b[32m>\u001b[0m\u001b[32m'\u001b[0m        \u001b]8;id=420993;file:///home/mkoenig/git/sbmlutils/src/sbmlutils/factory.py\u001b\\\u001b[2mfactory.py\u001b[0m\u001b]8;;\u001b\\\u001b[2m:461\u001b[0m\n"
      ]
     },
     "metadata": {},
     "output_type": "display_data"
    },
    {
     "data": {
      "text/html": [
       "<pre style=\"white-space:pre;overflow-x:auto;line-height:normal;font-family:Menlo,'DejaVu Sans Mono',consolas,'Courier New',monospace\"><span style=\"color: #800000; text-decoration-color: #800000\">WARNING </span> <span style=\"color: #008000; text-decoration-color: #008000\">'name'</span> should be set on <span style=\"color: #008000; text-decoration-color: #008000\">'&lt;Parameter p_lognormal_2&gt;'</span>                   <a href=\"file:///home/mkoenig/git/sbmlutils/src/sbmlutils/factory.py\"><span style=\"color: #7f7f7f; text-decoration-color: #7f7f7f\">factory.py</span></a><span style=\"color: #7f7f7f; text-decoration-color: #7f7f7f\">:436</span>\n",
       "</pre>\n"
      ],
      "text/plain": [
       "\u001b[31mWARNING \u001b[0m \u001b[32m'name'\u001b[0m should be set on \u001b[32m'\u001b[0m\u001b[32m<\u001b[0m\u001b[32mParameter\u001b[0m\u001b[32m p_lognormal_2\u001b[0m\u001b[32m>\u001b[0m\u001b[32m'\u001b[0m                   \u001b]8;id=53249;file:///home/mkoenig/git/sbmlutils/src/sbmlutils/factory.py\u001b\\\u001b[2mfactory.py\u001b[0m\u001b]8;;\u001b\\\u001b[2m:436\u001b[0m\n"
      ]
     },
     "metadata": {},
     "output_type": "display_data"
    },
    {
     "data": {
      "text/html": [
       "<pre style=\"white-space:pre;overflow-x:auto;line-height:normal;font-family:Menlo,'DejaVu Sans Mono',consolas,'Courier New',monospace\"><span style=\"color: #800000; text-decoration-color: #800000\">WARNING </span> <span style=\"color: #008000; text-decoration-color: #008000\">'sboTerm'</span> should be set on <span style=\"color: #008000; text-decoration-color: #008000\">'&lt;Parameter p_lognormal_2&gt;'</span>                <a href=\"file:///home/mkoenig/git/sbmlutils/src/sbmlutils/factory.py\"><span style=\"color: #7f7f7f; text-decoration-color: #7f7f7f\">factory.py</span></a><span style=\"color: #7f7f7f; text-decoration-color: #7f7f7f\">:461</span>\n",
       "</pre>\n"
      ],
      "text/plain": [
       "\u001b[31mWARNING \u001b[0m \u001b[32m'sboTerm'\u001b[0m should be set on \u001b[32m'\u001b[0m\u001b[32m<\u001b[0m\u001b[32mParameter\u001b[0m\u001b[32m p_lognormal_2\u001b[0m\u001b[32m>\u001b[0m\u001b[32m'\u001b[0m                \u001b]8;id=710764;file:///home/mkoenig/git/sbmlutils/src/sbmlutils/factory.py\u001b\\\u001b[2mfactory.py\u001b[0m\u001b]8;;\u001b\\\u001b[2m:461\u001b[0m\n"
      ]
     },
     "metadata": {},
     "output_type": "display_data"
    },
    {
     "data": {
      "text/html": [
       "<pre style=\"white-space:pre;overflow-x:auto;line-height:normal;font-family:Menlo,'DejaVu Sans Mono',consolas,'Courier New',monospace\"><span style=\"color: #800000; text-decoration-color: #800000\">WARNING </span> <span style=\"color: #008000; text-decoration-color: #008000\">'name'</span> should be set on <span style=\"color: #008000; text-decoration-color: #008000\">'&lt;InitialAssignment p_lognormal_2&gt;'</span>           <a href=\"file:///home/mkoenig/git/sbmlutils/src/sbmlutils/factory.py\"><span style=\"color: #7f7f7f; text-decoration-color: #7f7f7f\">factory.py</span></a><span style=\"color: #7f7f7f; text-decoration-color: #7f7f7f\">:436</span>\n",
       "</pre>\n"
      ],
      "text/plain": [
       "\u001b[31mWARNING \u001b[0m \u001b[32m'name'\u001b[0m should be set on \u001b[32m'\u001b[0m\u001b[32m<\u001b[0m\u001b[32mInitialAssignment\u001b[0m\u001b[32m p_lognormal_2\u001b[0m\u001b[32m>\u001b[0m\u001b[32m'\u001b[0m           \u001b]8;id=331638;file:///home/mkoenig/git/sbmlutils/src/sbmlutils/factory.py\u001b\\\u001b[2mfactory.py\u001b[0m\u001b]8;;\u001b\\\u001b[2m:436\u001b[0m\n"
      ]
     },
     "metadata": {},
     "output_type": "display_data"
    },
    {
     "data": {
      "text/html": [
       "<pre style=\"white-space:pre;overflow-x:auto;line-height:normal;font-family:Menlo,'DejaVu Sans Mono',consolas,'Courier New',monospace\"><span style=\"color: #800000; text-decoration-color: #800000\">WARNING </span> <span style=\"color: #008000; text-decoration-color: #008000\">'sboTerm'</span> should be set on <span style=\"color: #008000; text-decoration-color: #008000\">'&lt;InitialAssignment p_lognormal_2&gt;'</span>        <a href=\"file:///home/mkoenig/git/sbmlutils/src/sbmlutils/factory.py\"><span style=\"color: #7f7f7f; text-decoration-color: #7f7f7f\">factory.py</span></a><span style=\"color: #7f7f7f; text-decoration-color: #7f7f7f\">:461</span>\n",
       "</pre>\n"
      ],
      "text/plain": [
       "\u001b[31mWARNING \u001b[0m \u001b[32m'sboTerm'\u001b[0m should be set on \u001b[32m'\u001b[0m\u001b[32m<\u001b[0m\u001b[32mInitialAssignment\u001b[0m\u001b[32m p_lognormal_2\u001b[0m\u001b[32m>\u001b[0m\u001b[32m'\u001b[0m        \u001b]8;id=94037;file:///home/mkoenig/git/sbmlutils/src/sbmlutils/factory.py\u001b\\\u001b[2mfactory.py\u001b[0m\u001b]8;;\u001b\\\u001b[2m:461\u001b[0m\n"
      ]
     },
     "metadata": {},
     "output_type": "display_data"
    },
    {
     "data": {
      "text/html": [
       "<pre style=\"white-space:pre;overflow-x:auto;line-height:normal;font-family:Menlo,'DejaVu Sans Mono',consolas,'Courier New',monospace\"><span style=\"color: #800000; text-decoration-color: #800000\">WARNING </span> <span style=\"color: #008000; text-decoration-color: #008000\">'name'</span> should be set on <span style=\"color: #008000; text-decoration-color: #008000\">'&lt;Parameter p_poisson_1&gt;'</span>                     <a href=\"file:///home/mkoenig/git/sbmlutils/src/sbmlutils/factory.py\"><span style=\"color: #7f7f7f; text-decoration-color: #7f7f7f\">factory.py</span></a><span style=\"color: #7f7f7f; text-decoration-color: #7f7f7f\">:436</span>\n",
       "</pre>\n"
      ],
      "text/plain": [
       "\u001b[31mWARNING \u001b[0m \u001b[32m'name'\u001b[0m should be set on \u001b[32m'\u001b[0m\u001b[32m<\u001b[0m\u001b[32mParameter\u001b[0m\u001b[32m p_poisson_1\u001b[0m\u001b[32m>\u001b[0m\u001b[32m'\u001b[0m                     \u001b]8;id=607013;file:///home/mkoenig/git/sbmlutils/src/sbmlutils/factory.py\u001b\\\u001b[2mfactory.py\u001b[0m\u001b]8;;\u001b\\\u001b[2m:436\u001b[0m\n"
      ]
     },
     "metadata": {},
     "output_type": "display_data"
    },
    {
     "data": {
      "text/html": [
       "<pre style=\"white-space:pre;overflow-x:auto;line-height:normal;font-family:Menlo,'DejaVu Sans Mono',consolas,'Courier New',monospace\"><span style=\"color: #800000; text-decoration-color: #800000\">WARNING </span> <span style=\"color: #008000; text-decoration-color: #008000\">'sboTerm'</span> should be set on <span style=\"color: #008000; text-decoration-color: #008000\">'&lt;Parameter p_poisson_1&gt;'</span>                  <a href=\"file:///home/mkoenig/git/sbmlutils/src/sbmlutils/factory.py\"><span style=\"color: #7f7f7f; text-decoration-color: #7f7f7f\">factory.py</span></a><span style=\"color: #7f7f7f; text-decoration-color: #7f7f7f\">:461</span>\n",
       "</pre>\n"
      ],
      "text/plain": [
       "\u001b[31mWARNING \u001b[0m \u001b[32m'sboTerm'\u001b[0m should be set on \u001b[32m'\u001b[0m\u001b[32m<\u001b[0m\u001b[32mParameter\u001b[0m\u001b[32m p_poisson_1\u001b[0m\u001b[32m>\u001b[0m\u001b[32m'\u001b[0m                  \u001b]8;id=373145;file:///home/mkoenig/git/sbmlutils/src/sbmlutils/factory.py\u001b\\\u001b[2mfactory.py\u001b[0m\u001b]8;;\u001b\\\u001b[2m:461\u001b[0m\n"
      ]
     },
     "metadata": {},
     "output_type": "display_data"
    },
    {
     "data": {
      "text/html": [
       "<pre style=\"white-space:pre;overflow-x:auto;line-height:normal;font-family:Menlo,'DejaVu Sans Mono',consolas,'Courier New',monospace\"><span style=\"color: #800000; text-decoration-color: #800000\">WARNING </span> <span style=\"color: #008000; text-decoration-color: #008000\">'name'</span> should be set on <span style=\"color: #008000; text-decoration-color: #008000\">'&lt;InitialAssignment p_poisson_1&gt;'</span>             <a href=\"file:///home/mkoenig/git/sbmlutils/src/sbmlutils/factory.py\"><span style=\"color: #7f7f7f; text-decoration-color: #7f7f7f\">factory.py</span></a><span style=\"color: #7f7f7f; text-decoration-color: #7f7f7f\">:436</span>\n",
       "</pre>\n"
      ],
      "text/plain": [
       "\u001b[31mWARNING \u001b[0m \u001b[32m'name'\u001b[0m should be set on \u001b[32m'\u001b[0m\u001b[32m<\u001b[0m\u001b[32mInitialAssignment\u001b[0m\u001b[32m p_poisson_1\u001b[0m\u001b[32m>\u001b[0m\u001b[32m'\u001b[0m             \u001b]8;id=81422;file:///home/mkoenig/git/sbmlutils/src/sbmlutils/factory.py\u001b\\\u001b[2mfactory.py\u001b[0m\u001b]8;;\u001b\\\u001b[2m:436\u001b[0m\n"
      ]
     },
     "metadata": {},
     "output_type": "display_data"
    },
    {
     "data": {
      "text/html": [
       "<pre style=\"white-space:pre;overflow-x:auto;line-height:normal;font-family:Menlo,'DejaVu Sans Mono',consolas,'Courier New',monospace\"><span style=\"color: #800000; text-decoration-color: #800000\">WARNING </span> <span style=\"color: #008000; text-decoration-color: #008000\">'sboTerm'</span> should be set on <span style=\"color: #008000; text-decoration-color: #008000\">'&lt;InitialAssignment p_poisson_1&gt;'</span>          <a href=\"file:///home/mkoenig/git/sbmlutils/src/sbmlutils/factory.py\"><span style=\"color: #7f7f7f; text-decoration-color: #7f7f7f\">factory.py</span></a><span style=\"color: #7f7f7f; text-decoration-color: #7f7f7f\">:461</span>\n",
       "</pre>\n"
      ],
      "text/plain": [
       "\u001b[31mWARNING \u001b[0m \u001b[32m'sboTerm'\u001b[0m should be set on \u001b[32m'\u001b[0m\u001b[32m<\u001b[0m\u001b[32mInitialAssignment\u001b[0m\u001b[32m p_poisson_1\u001b[0m\u001b[32m>\u001b[0m\u001b[32m'\u001b[0m          \u001b]8;id=299832;file:///home/mkoenig/git/sbmlutils/src/sbmlutils/factory.py\u001b\\\u001b[2mfactory.py\u001b[0m\u001b]8;;\u001b\\\u001b[2m:461\u001b[0m\n"
      ]
     },
     "metadata": {},
     "output_type": "display_data"
    },
    {
     "data": {
      "text/html": [
       "<pre style=\"white-space:pre;overflow-x:auto;line-height:normal;font-family:Menlo,'DejaVu Sans Mono',consolas,'Courier New',monospace\"><span style=\"color: #800000; text-decoration-color: #800000\">WARNING </span> <span style=\"color: #008000; text-decoration-color: #008000\">'name'</span> should be set on <span style=\"color: #008000; text-decoration-color: #008000\">'&lt;Parameter p_poisson_2&gt;'</span>                     <a href=\"file:///home/mkoenig/git/sbmlutils/src/sbmlutils/factory.py\"><span style=\"color: #7f7f7f; text-decoration-color: #7f7f7f\">factory.py</span></a><span style=\"color: #7f7f7f; text-decoration-color: #7f7f7f\">:436</span>\n",
       "</pre>\n"
      ],
      "text/plain": [
       "\u001b[31mWARNING \u001b[0m \u001b[32m'name'\u001b[0m should be set on \u001b[32m'\u001b[0m\u001b[32m<\u001b[0m\u001b[32mParameter\u001b[0m\u001b[32m p_poisson_2\u001b[0m\u001b[32m>\u001b[0m\u001b[32m'\u001b[0m                     \u001b]8;id=788823;file:///home/mkoenig/git/sbmlutils/src/sbmlutils/factory.py\u001b\\\u001b[2mfactory.py\u001b[0m\u001b]8;;\u001b\\\u001b[2m:436\u001b[0m\n"
      ]
     },
     "metadata": {},
     "output_type": "display_data"
    },
    {
     "data": {
      "text/html": [
       "<pre style=\"white-space:pre;overflow-x:auto;line-height:normal;font-family:Menlo,'DejaVu Sans Mono',consolas,'Courier New',monospace\"><span style=\"color: #800000; text-decoration-color: #800000\">WARNING </span> <span style=\"color: #008000; text-decoration-color: #008000\">'sboTerm'</span> should be set on <span style=\"color: #008000; text-decoration-color: #008000\">'&lt;Parameter p_poisson_2&gt;'</span>                  <a href=\"file:///home/mkoenig/git/sbmlutils/src/sbmlutils/factory.py\"><span style=\"color: #7f7f7f; text-decoration-color: #7f7f7f\">factory.py</span></a><span style=\"color: #7f7f7f; text-decoration-color: #7f7f7f\">:461</span>\n",
       "</pre>\n"
      ],
      "text/plain": [
       "\u001b[31mWARNING \u001b[0m \u001b[32m'sboTerm'\u001b[0m should be set on \u001b[32m'\u001b[0m\u001b[32m<\u001b[0m\u001b[32mParameter\u001b[0m\u001b[32m p_poisson_2\u001b[0m\u001b[32m>\u001b[0m\u001b[32m'\u001b[0m                  \u001b]8;id=346746;file:///home/mkoenig/git/sbmlutils/src/sbmlutils/factory.py\u001b\\\u001b[2mfactory.py\u001b[0m\u001b]8;;\u001b\\\u001b[2m:461\u001b[0m\n"
      ]
     },
     "metadata": {},
     "output_type": "display_data"
    },
    {
     "data": {
      "text/html": [
       "<pre style=\"white-space:pre;overflow-x:auto;line-height:normal;font-family:Menlo,'DejaVu Sans Mono',consolas,'Courier New',monospace\"><span style=\"color: #800000; text-decoration-color: #800000\">WARNING </span> <span style=\"color: #008000; text-decoration-color: #008000\">'name'</span> should be set on <span style=\"color: #008000; text-decoration-color: #008000\">'&lt;InitialAssignment p_poisson_2&gt;'</span>             <a href=\"file:///home/mkoenig/git/sbmlutils/src/sbmlutils/factory.py\"><span style=\"color: #7f7f7f; text-decoration-color: #7f7f7f\">factory.py</span></a><span style=\"color: #7f7f7f; text-decoration-color: #7f7f7f\">:436</span>\n",
       "</pre>\n"
      ],
      "text/plain": [
       "\u001b[31mWARNING \u001b[0m \u001b[32m'name'\u001b[0m should be set on \u001b[32m'\u001b[0m\u001b[32m<\u001b[0m\u001b[32mInitialAssignment\u001b[0m\u001b[32m p_poisson_2\u001b[0m\u001b[32m>\u001b[0m\u001b[32m'\u001b[0m             \u001b]8;id=771037;file:///home/mkoenig/git/sbmlutils/src/sbmlutils/factory.py\u001b\\\u001b[2mfactory.py\u001b[0m\u001b]8;;\u001b\\\u001b[2m:436\u001b[0m\n"
      ]
     },
     "metadata": {},
     "output_type": "display_data"
    },
    {
     "data": {
      "text/html": [
       "<pre style=\"white-space:pre;overflow-x:auto;line-height:normal;font-family:Menlo,'DejaVu Sans Mono',consolas,'Courier New',monospace\"><span style=\"color: #800000; text-decoration-color: #800000\">WARNING </span> <span style=\"color: #008000; text-decoration-color: #008000\">'sboTerm'</span> should be set on <span style=\"color: #008000; text-decoration-color: #008000\">'&lt;InitialAssignment p_poisson_2&gt;'</span>          <a href=\"file:///home/mkoenig/git/sbmlutils/src/sbmlutils/factory.py\"><span style=\"color: #7f7f7f; text-decoration-color: #7f7f7f\">factory.py</span></a><span style=\"color: #7f7f7f; text-decoration-color: #7f7f7f\">:461</span>\n",
       "</pre>\n"
      ],
      "text/plain": [
       "\u001b[31mWARNING \u001b[0m \u001b[32m'sboTerm'\u001b[0m should be set on \u001b[32m'\u001b[0m\u001b[32m<\u001b[0m\u001b[32mInitialAssignment\u001b[0m\u001b[32m p_poisson_2\u001b[0m\u001b[32m>\u001b[0m\u001b[32m'\u001b[0m          \u001b]8;id=622529;file:///home/mkoenig/git/sbmlutils/src/sbmlutils/factory.py\u001b\\\u001b[2mfactory.py\u001b[0m\u001b]8;;\u001b\\\u001b[2m:461\u001b[0m\n"
      ]
     },
     "metadata": {},
     "output_type": "display_data"
    },
    {
     "data": {
      "text/html": [
       "<pre style=\"white-space:pre;overflow-x:auto;line-height:normal;font-family:Menlo,'DejaVu Sans Mono',consolas,'Courier New',monospace\"><span style=\"color: #800000; text-decoration-color: #800000\">WARNING </span> <span style=\"color: #008000; text-decoration-color: #008000\">'name'</span> should be set on <span style=\"color: #008000; text-decoration-color: #008000\">'&lt;Parameter p_raleigh_1&gt;'</span>                     <a href=\"file:///home/mkoenig/git/sbmlutils/src/sbmlutils/factory.py\"><span style=\"color: #7f7f7f; text-decoration-color: #7f7f7f\">factory.py</span></a><span style=\"color: #7f7f7f; text-decoration-color: #7f7f7f\">:436</span>\n",
       "</pre>\n"
      ],
      "text/plain": [
       "\u001b[31mWARNING \u001b[0m \u001b[32m'name'\u001b[0m should be set on \u001b[32m'\u001b[0m\u001b[32m<\u001b[0m\u001b[32mParameter\u001b[0m\u001b[32m p_raleigh_1\u001b[0m\u001b[32m>\u001b[0m\u001b[32m'\u001b[0m                     \u001b]8;id=861378;file:///home/mkoenig/git/sbmlutils/src/sbmlutils/factory.py\u001b\\\u001b[2mfactory.py\u001b[0m\u001b]8;;\u001b\\\u001b[2m:436\u001b[0m\n"
      ]
     },
     "metadata": {},
     "output_type": "display_data"
    },
    {
     "data": {
      "text/html": [
       "<pre style=\"white-space:pre;overflow-x:auto;line-height:normal;font-family:Menlo,'DejaVu Sans Mono',consolas,'Courier New',monospace\"><span style=\"color: #800000; text-decoration-color: #800000\">WARNING </span> <span style=\"color: #008000; text-decoration-color: #008000\">'sboTerm'</span> should be set on <span style=\"color: #008000; text-decoration-color: #008000\">'&lt;Parameter p_raleigh_1&gt;'</span>                  <a href=\"file:///home/mkoenig/git/sbmlutils/src/sbmlutils/factory.py\"><span style=\"color: #7f7f7f; text-decoration-color: #7f7f7f\">factory.py</span></a><span style=\"color: #7f7f7f; text-decoration-color: #7f7f7f\">:461</span>\n",
       "</pre>\n"
      ],
      "text/plain": [
       "\u001b[31mWARNING \u001b[0m \u001b[32m'sboTerm'\u001b[0m should be set on \u001b[32m'\u001b[0m\u001b[32m<\u001b[0m\u001b[32mParameter\u001b[0m\u001b[32m p_raleigh_1\u001b[0m\u001b[32m>\u001b[0m\u001b[32m'\u001b[0m                  \u001b]8;id=342223;file:///home/mkoenig/git/sbmlutils/src/sbmlutils/factory.py\u001b\\\u001b[2mfactory.py\u001b[0m\u001b]8;;\u001b\\\u001b[2m:461\u001b[0m\n"
      ]
     },
     "metadata": {},
     "output_type": "display_data"
    },
    {
     "data": {
      "text/html": [
       "<pre style=\"white-space:pre;overflow-x:auto;line-height:normal;font-family:Menlo,'DejaVu Sans Mono',consolas,'Courier New',monospace\"><span style=\"color: #800000; text-decoration-color: #800000\">WARNING </span> <span style=\"color: #008000; text-decoration-color: #008000\">'name'</span> should be set on <span style=\"color: #008000; text-decoration-color: #008000\">'&lt;InitialAssignment p_raleigh_1&gt;'</span>             <a href=\"file:///home/mkoenig/git/sbmlutils/src/sbmlutils/factory.py\"><span style=\"color: #7f7f7f; text-decoration-color: #7f7f7f\">factory.py</span></a><span style=\"color: #7f7f7f; text-decoration-color: #7f7f7f\">:436</span>\n",
       "</pre>\n"
      ],
      "text/plain": [
       "\u001b[31mWARNING \u001b[0m \u001b[32m'name'\u001b[0m should be set on \u001b[32m'\u001b[0m\u001b[32m<\u001b[0m\u001b[32mInitialAssignment\u001b[0m\u001b[32m p_raleigh_1\u001b[0m\u001b[32m>\u001b[0m\u001b[32m'\u001b[0m             \u001b]8;id=337640;file:///home/mkoenig/git/sbmlutils/src/sbmlutils/factory.py\u001b\\\u001b[2mfactory.py\u001b[0m\u001b]8;;\u001b\\\u001b[2m:436\u001b[0m\n"
      ]
     },
     "metadata": {},
     "output_type": "display_data"
    },
    {
     "data": {
      "text/html": [
       "<pre style=\"white-space:pre;overflow-x:auto;line-height:normal;font-family:Menlo,'DejaVu Sans Mono',consolas,'Courier New',monospace\"><span style=\"color: #800000; text-decoration-color: #800000\">WARNING </span> <span style=\"color: #008000; text-decoration-color: #008000\">'sboTerm'</span> should be set on <span style=\"color: #008000; text-decoration-color: #008000\">'&lt;InitialAssignment p_raleigh_1&gt;'</span>          <a href=\"file:///home/mkoenig/git/sbmlutils/src/sbmlutils/factory.py\"><span style=\"color: #7f7f7f; text-decoration-color: #7f7f7f\">factory.py</span></a><span style=\"color: #7f7f7f; text-decoration-color: #7f7f7f\">:461</span>\n",
       "</pre>\n"
      ],
      "text/plain": [
       "\u001b[31mWARNING \u001b[0m \u001b[32m'sboTerm'\u001b[0m should be set on \u001b[32m'\u001b[0m\u001b[32m<\u001b[0m\u001b[32mInitialAssignment\u001b[0m\u001b[32m p_raleigh_1\u001b[0m\u001b[32m>\u001b[0m\u001b[32m'\u001b[0m          \u001b]8;id=12866;file:///home/mkoenig/git/sbmlutils/src/sbmlutils/factory.py\u001b\\\u001b[2mfactory.py\u001b[0m\u001b]8;;\u001b\\\u001b[2m:461\u001b[0m\n"
      ]
     },
     "metadata": {},
     "output_type": "display_data"
    },
    {
     "data": {
      "text/html": [
       "<pre style=\"white-space:pre;overflow-x:auto;line-height:normal;font-family:Menlo,'DejaVu Sans Mono',consolas,'Courier New',monospace\"><span style=\"color: #800000; text-decoration-color: #800000\">WARNING </span> <span style=\"color: #008000; text-decoration-color: #008000\">'name'</span> should be set on <span style=\"color: #008000; text-decoration-color: #008000\">'&lt;Parameter p_raleigh_2&gt;'</span>                     <a href=\"file:///home/mkoenig/git/sbmlutils/src/sbmlutils/factory.py\"><span style=\"color: #7f7f7f; text-decoration-color: #7f7f7f\">factory.py</span></a><span style=\"color: #7f7f7f; text-decoration-color: #7f7f7f\">:436</span>\n",
       "</pre>\n"
      ],
      "text/plain": [
       "\u001b[31mWARNING \u001b[0m \u001b[32m'name'\u001b[0m should be set on \u001b[32m'\u001b[0m\u001b[32m<\u001b[0m\u001b[32mParameter\u001b[0m\u001b[32m p_raleigh_2\u001b[0m\u001b[32m>\u001b[0m\u001b[32m'\u001b[0m                     \u001b]8;id=130724;file:///home/mkoenig/git/sbmlutils/src/sbmlutils/factory.py\u001b\\\u001b[2mfactory.py\u001b[0m\u001b]8;;\u001b\\\u001b[2m:436\u001b[0m\n"
      ]
     },
     "metadata": {},
     "output_type": "display_data"
    },
    {
     "data": {
      "text/html": [
       "<pre style=\"white-space:pre;overflow-x:auto;line-height:normal;font-family:Menlo,'DejaVu Sans Mono',consolas,'Courier New',monospace\"><span style=\"color: #800000; text-decoration-color: #800000\">WARNING </span> <span style=\"color: #008000; text-decoration-color: #008000\">'sboTerm'</span> should be set on <span style=\"color: #008000; text-decoration-color: #008000\">'&lt;Parameter p_raleigh_2&gt;'</span>                  <a href=\"file:///home/mkoenig/git/sbmlutils/src/sbmlutils/factory.py\"><span style=\"color: #7f7f7f; text-decoration-color: #7f7f7f\">factory.py</span></a><span style=\"color: #7f7f7f; text-decoration-color: #7f7f7f\">:461</span>\n",
       "</pre>\n"
      ],
      "text/plain": [
       "\u001b[31mWARNING \u001b[0m \u001b[32m'sboTerm'\u001b[0m should be set on \u001b[32m'\u001b[0m\u001b[32m<\u001b[0m\u001b[32mParameter\u001b[0m\u001b[32m p_raleigh_2\u001b[0m\u001b[32m>\u001b[0m\u001b[32m'\u001b[0m                  \u001b]8;id=642916;file:///home/mkoenig/git/sbmlutils/src/sbmlutils/factory.py\u001b\\\u001b[2mfactory.py\u001b[0m\u001b]8;;\u001b\\\u001b[2m:461\u001b[0m\n"
      ]
     },
     "metadata": {},
     "output_type": "display_data"
    },
    {
     "data": {
      "text/html": [
       "<pre style=\"white-space:pre;overflow-x:auto;line-height:normal;font-family:Menlo,'DejaVu Sans Mono',consolas,'Courier New',monospace\"><span style=\"color: #800000; text-decoration-color: #800000\">WARNING </span> <span style=\"color: #008000; text-decoration-color: #008000\">'name'</span> should be set on <span style=\"color: #008000; text-decoration-color: #008000\">'&lt;InitialAssignment p_raleigh_2&gt;'</span>             <a href=\"file:///home/mkoenig/git/sbmlutils/src/sbmlutils/factory.py\"><span style=\"color: #7f7f7f; text-decoration-color: #7f7f7f\">factory.py</span></a><span style=\"color: #7f7f7f; text-decoration-color: #7f7f7f\">:436</span>\n",
       "</pre>\n"
      ],
      "text/plain": [
       "\u001b[31mWARNING \u001b[0m \u001b[32m'name'\u001b[0m should be set on \u001b[32m'\u001b[0m\u001b[32m<\u001b[0m\u001b[32mInitialAssignment\u001b[0m\u001b[32m p_raleigh_2\u001b[0m\u001b[32m>\u001b[0m\u001b[32m'\u001b[0m             \u001b]8;id=700109;file:///home/mkoenig/git/sbmlutils/src/sbmlutils/factory.py\u001b\\\u001b[2mfactory.py\u001b[0m\u001b]8;;\u001b\\\u001b[2m:436\u001b[0m\n"
      ]
     },
     "metadata": {},
     "output_type": "display_data"
    },
    {
     "data": {
      "text/html": [
       "<pre style=\"white-space:pre;overflow-x:auto;line-height:normal;font-family:Menlo,'DejaVu Sans Mono',consolas,'Courier New',monospace\"><span style=\"color: #800000; text-decoration-color: #800000\">WARNING </span> <span style=\"color: #008000; text-decoration-color: #008000\">'sboTerm'</span> should be set on <span style=\"color: #008000; text-decoration-color: #008000\">'&lt;InitialAssignment p_raleigh_2&gt;'</span>          <a href=\"file:///home/mkoenig/git/sbmlutils/src/sbmlutils/factory.py\"><span style=\"color: #7f7f7f; text-decoration-color: #7f7f7f\">factory.py</span></a><span style=\"color: #7f7f7f; text-decoration-color: #7f7f7f\">:461</span>\n",
       "</pre>\n"
      ],
      "text/plain": [
       "\u001b[31mWARNING \u001b[0m \u001b[32m'sboTerm'\u001b[0m should be set on \u001b[32m'\u001b[0m\u001b[32m<\u001b[0m\u001b[32mInitialAssignment\u001b[0m\u001b[32m p_raleigh_2\u001b[0m\u001b[32m>\u001b[0m\u001b[32m'\u001b[0m          \u001b]8;id=837246;file:///home/mkoenig/git/sbmlutils/src/sbmlutils/factory.py\u001b\\\u001b[2mfactory.py\u001b[0m\u001b]8;;\u001b\\\u001b[2m:461\u001b[0m\n"
      ]
     },
     "metadata": {},
     "output_type": "display_data"
    },
    {
     "data": {
      "text/html": [
       "<style type=\"text/css\">pre { line-height: 125%; }\n",
       "td.linenos .normal { color: inherit; background-color: transparent; padding-left: 5px; padding-right: 5px; }\n",
       "span.linenos { color: inherit; background-color: transparent; padding-left: 5px; padding-right: 5px; }\n",
       "td.linenos .special { color: #000000; background-color: #ffffc0; padding-left: 5px; padding-right: 5px; }\n",
       "span.linenos.special { color: #000000; background-color: #ffffc0; padding-left: 5px; padding-right: 5px; }\n",
       ".highlight .hll { background-color: #ffffcc }\n",
       ".highlight { background: #f8f8f8; }\n",
       ".highlight .c { color: #408080; font-style: italic } /* Comment */\n",
       ".highlight .err { border: 1px solid #FF0000 } /* Error */\n",
       ".highlight .k { color: #008000; font-weight: bold } /* Keyword */\n",
       ".highlight .o { color: #666666 } /* Operator */\n",
       ".highlight .ch { color: #408080; font-style: italic } /* Comment.Hashbang */\n",
       ".highlight .cm { color: #408080; font-style: italic } /* Comment.Multiline */\n",
       ".highlight .cp { color: #BC7A00 } /* Comment.Preproc */\n",
       ".highlight .cpf { color: #408080; font-style: italic } /* Comment.PreprocFile */\n",
       ".highlight .c1 { color: #408080; font-style: italic } /* Comment.Single */\n",
       ".highlight .cs { color: #408080; font-style: italic } /* Comment.Special */\n",
       ".highlight .gd { color: #A00000 } /* Generic.Deleted */\n",
       ".highlight .ge { font-style: italic } /* Generic.Emph */\n",
       ".highlight .gr { color: #FF0000 } /* Generic.Error */\n",
       ".highlight .gh { color: #000080; font-weight: bold } /* Generic.Heading */\n",
       ".highlight .gi { color: #00A000 } /* Generic.Inserted */\n",
       ".highlight .go { color: #888888 } /* Generic.Output */\n",
       ".highlight .gp { color: #000080; font-weight: bold } /* Generic.Prompt */\n",
       ".highlight .gs { font-weight: bold } /* Generic.Strong */\n",
       ".highlight .gu { color: #800080; font-weight: bold } /* Generic.Subheading */\n",
       ".highlight .gt { color: #0044DD } /* Generic.Traceback */\n",
       ".highlight .kc { color: #008000; font-weight: bold } /* Keyword.Constant */\n",
       ".highlight .kd { color: #008000; font-weight: bold } /* Keyword.Declaration */\n",
       ".highlight .kn { color: #008000; font-weight: bold } /* Keyword.Namespace */\n",
       ".highlight .kp { color: #008000 } /* Keyword.Pseudo */\n",
       ".highlight .kr { color: #008000; font-weight: bold } /* Keyword.Reserved */\n",
       ".highlight .kt { color: #B00040 } /* Keyword.Type */\n",
       ".highlight .m { color: #666666 } /* Literal.Number */\n",
       ".highlight .s { color: #BA2121 } /* Literal.String */\n",
       ".highlight .na { color: #7D9029 } /* Name.Attribute */\n",
       ".highlight .nb { color: #008000 } /* Name.Builtin */\n",
       ".highlight .nc { color: #0000FF; font-weight: bold } /* Name.Class */\n",
       ".highlight .no { color: #880000 } /* Name.Constant */\n",
       ".highlight .nd { color: #AA22FF } /* Name.Decorator */\n",
       ".highlight .ni { color: #999999; font-weight: bold } /* Name.Entity */\n",
       ".highlight .ne { color: #D2413A; font-weight: bold } /* Name.Exception */\n",
       ".highlight .nf { color: #0000FF } /* Name.Function */\n",
       ".highlight .nl { color: #A0A000 } /* Name.Label */\n",
       ".highlight .nn { color: #0000FF; font-weight: bold } /* Name.Namespace */\n",
       ".highlight .nt { color: #008000; font-weight: bold } /* Name.Tag */\n",
       ".highlight .nv { color: #19177C } /* Name.Variable */\n",
       ".highlight .ow { color: #AA22FF; font-weight: bold } /* Operator.Word */\n",
       ".highlight .w { color: #bbbbbb } /* Text.Whitespace */\n",
       ".highlight .mb { color: #666666 } /* Literal.Number.Bin */\n",
       ".highlight .mf { color: #666666 } /* Literal.Number.Float */\n",
       ".highlight .mh { color: #666666 } /* Literal.Number.Hex */\n",
       ".highlight .mi { color: #666666 } /* Literal.Number.Integer */\n",
       ".highlight .mo { color: #666666 } /* Literal.Number.Oct */\n",
       ".highlight .sa { color: #BA2121 } /* Literal.String.Affix */\n",
       ".highlight .sb { color: #BA2121 } /* Literal.String.Backtick */\n",
       ".highlight .sc { color: #BA2121 } /* Literal.String.Char */\n",
       ".highlight .dl { color: #BA2121 } /* Literal.String.Delimiter */\n",
       ".highlight .sd { color: #BA2121; font-style: italic } /* Literal.String.Doc */\n",
       ".highlight .s2 { color: #BA2121 } /* Literal.String.Double */\n",
       ".highlight .se { color: #BB6622; font-weight: bold } /* Literal.String.Escape */\n",
       ".highlight .sh { color: #BA2121 } /* Literal.String.Heredoc */\n",
       ".highlight .si { color: #BB6688; font-weight: bold } /* Literal.String.Interpol */\n",
       ".highlight .sx { color: #008000 } /* Literal.String.Other */\n",
       ".highlight .sr { color: #BB6688 } /* Literal.String.Regex */\n",
       ".highlight .s1 { color: #BA2121 } /* Literal.String.Single */\n",
       ".highlight .ss { color: #19177C } /* Literal.String.Symbol */\n",
       ".highlight .bp { color: #008000 } /* Name.Builtin.Pseudo */\n",
       ".highlight .fm { color: #0000FF } /* Name.Function.Magic */\n",
       ".highlight .vc { color: #19177C } /* Name.Variable.Class */\n",
       ".highlight .vg { color: #19177C } /* Name.Variable.Global */\n",
       ".highlight .vi { color: #19177C } /* Name.Variable.Instance */\n",
       ".highlight .vm { color: #19177C } /* Name.Variable.Magic */\n",
       ".highlight .il { color: #666666 } /* Literal.Number.Integer.Long */</style>    <div class=\"highlight\"><pre><span></span><span class=\"cp\">&lt;?xml version=&quot;1.0&quot; encoding=&quot;UTF-8&quot;?&gt;</span>\n",
       "<span class=\"nt\">&lt;sbml</span> <span class=\"na\">xmlns=</span><span class=\"s\">&quot;http://www.sbml.org/sbml/level3/version1/core&quot;</span> <span class=\"na\">xmlns:comp=</span><span class=\"s\">&quot;http://www.sbml.org/sbml/level3/version1/comp/version1&quot;</span> <span class=\"na\">xmlns:distrib=</span><span class=\"s\">&quot;http://www.sbml.org/sbml/level3/version1/distrib/version1&quot;</span> <span class=\"na\">level=</span><span class=\"s\">&quot;3&quot;</span> <span class=\"na\">version=</span><span class=\"s\">&quot;1&quot;</span> <span class=\"na\">comp:required=</span><span class=\"s\">&quot;true&quot;</span> <span class=\"na\">distrib:required=</span><span class=\"s\">&quot;true&quot;</span><span class=\"nt\">&gt;</span>\n",
       "  <span class=\"nt\">&lt;notes&gt;</span>\n",
       "    <span class=\"nt\">&lt;body</span> <span class=\"na\">xmlns=</span><span class=\"s\">&quot;http://www.w3.org/1999/xhtml&quot;</span><span class=\"nt\">&gt;</span>\n",
       "      <span class=\"nt\">&lt;p&gt;</span>Created with <span class=\"nt\">&lt;a</span> <span class=\"na\">href=</span><span class=\"s\">&quot;https://github.com/matthiaskoenig/sbmlutils&quot;</span><span class=\"nt\">&gt;</span>https://github.com/matthiaskoenig/sbmlutils<span class=\"nt\">&lt;/a&gt;</span>.\n",
       "<span class=\"nt\">&lt;a</span> <span class=\"na\">href=</span><span class=\"s\">&quot;https://doi.org/10.5281/zenodo.5525390&quot;</span><span class=\"nt\">&gt;</span>\n",
       "        <span class=\"nt\">&lt;img</span> <span class=\"na\">src=</span><span class=\"s\">&quot;https://zenodo.org/badge/DOI/10.5281/zenodo.5525390.svg&quot;</span> <span class=\"na\">alt=</span><span class=\"s\">&quot;DOI&quot;</span><span class=\"nt\">/&gt;&lt;/a&gt;&lt;/p&gt;</span>\n",
       "      <span class=\"nt\">&lt;/body&gt;</span>\n",
       "    <span class=\"nt\">&lt;/notes&gt;</span>\n",
       "  <span class=\"nt\">&lt;model</span> <span class=\"na\">id=</span><span class=\"s\">&quot;all_distributions&quot;</span><span class=\"nt\">&gt;</span>\n",
       "    <span class=\"nt\">&lt;listOfParameters&gt;</span>\n",
       "      <span class=\"nt\">&lt;parameter</span> <span class=\"na\">id=</span><span class=\"s\">&quot;p_normal_1&quot;</span> <span class=\"na\">value=</span><span class=\"s\">&quot;NaN&quot;</span> <span class=\"na\">units=</span><span class=\"s\">&quot;dimensionless&quot;</span> <span class=\"na\">constant=</span><span class=\"s\">&quot;true&quot;</span><span class=\"nt\">/&gt;</span>\n",
       "      <span class=\"nt\">&lt;parameter</span> <span class=\"na\">id=</span><span class=\"s\">&quot;p_normal_2&quot;</span> <span class=\"na\">value=</span><span class=\"s\">&quot;NaN&quot;</span> <span class=\"na\">units=</span><span class=\"s\">&quot;dimensionless&quot;</span> <span class=\"na\">constant=</span><span class=\"s\">&quot;true&quot;</span><span class=\"nt\">/&gt;</span>\n",
       "      <span class=\"nt\">&lt;parameter</span> <span class=\"na\">id=</span><span class=\"s\">&quot;p_uniform&quot;</span> <span class=\"na\">value=</span><span class=\"s\">&quot;NaN&quot;</span> <span class=\"na\">units=</span><span class=\"s\">&quot;dimensionless&quot;</span> <span class=\"na\">constant=</span><span class=\"s\">&quot;true&quot;</span><span class=\"nt\">/&gt;</span>\n",
       "      <span class=\"nt\">&lt;parameter</span> <span class=\"na\">id=</span><span class=\"s\">&quot;p_bernoulli&quot;</span> <span class=\"na\">value=</span><span class=\"s\">&quot;NaN&quot;</span> <span class=\"na\">units=</span><span class=\"s\">&quot;dimensionless&quot;</span> <span class=\"na\">constant=</span><span class=\"s\">&quot;true&quot;</span><span class=\"nt\">/&gt;</span>\n",
       "      <span class=\"nt\">&lt;parameter</span> <span class=\"na\">id=</span><span class=\"s\">&quot;p_binomial_1&quot;</span> <span class=\"na\">value=</span><span class=\"s\">&quot;NaN&quot;</span> <span class=\"na\">units=</span><span class=\"s\">&quot;dimensionless&quot;</span> <span class=\"na\">constant=</span><span class=\"s\">&quot;true&quot;</span><span class=\"nt\">/&gt;</span>\n",
       "      <span class=\"nt\">&lt;parameter</span> <span class=\"na\">id=</span><span class=\"s\">&quot;p_binomial_2&quot;</span> <span class=\"na\">value=</span><span class=\"s\">&quot;NaN&quot;</span> <span class=\"na\">units=</span><span class=\"s\">&quot;dimensionless&quot;</span> <span class=\"na\">constant=</span><span class=\"s\">&quot;true&quot;</span><span class=\"nt\">/&gt;</span>\n",
       "      <span class=\"nt\">&lt;parameter</span> <span class=\"na\">id=</span><span class=\"s\">&quot;p_cauchy_1&quot;</span> <span class=\"na\">value=</span><span class=\"s\">&quot;NaN&quot;</span> <span class=\"na\">units=</span><span class=\"s\">&quot;dimensionless&quot;</span> <span class=\"na\">constant=</span><span class=\"s\">&quot;true&quot;</span><span class=\"nt\">/&gt;</span>\n",
       "      <span class=\"nt\">&lt;parameter</span> <span class=\"na\">id=</span><span class=\"s\">&quot;p_cauchy_2&quot;</span> <span class=\"na\">value=</span><span class=\"s\">&quot;NaN&quot;</span> <span class=\"na\">units=</span><span class=\"s\">&quot;dimensionless&quot;</span> <span class=\"na\">constant=</span><span class=\"s\">&quot;true&quot;</span><span class=\"nt\">/&gt;</span>\n",
       "      <span class=\"nt\">&lt;parameter</span> <span class=\"na\">id=</span><span class=\"s\">&quot;p_chisquare_1&quot;</span> <span class=\"na\">value=</span><span class=\"s\">&quot;NaN&quot;</span> <span class=\"na\">units=</span><span class=\"s\">&quot;dimensionless&quot;</span> <span class=\"na\">constant=</span><span class=\"s\">&quot;true&quot;</span><span class=\"nt\">/&gt;</span>\n",
       "      <span class=\"nt\">&lt;parameter</span> <span class=\"na\">id=</span><span class=\"s\">&quot;p_chisquare_2&quot;</span> <span class=\"na\">value=</span><span class=\"s\">&quot;NaN&quot;</span> <span class=\"na\">units=</span><span class=\"s\">&quot;dimensionless&quot;</span> <span class=\"na\">constant=</span><span class=\"s\">&quot;true&quot;</span><span class=\"nt\">/&gt;</span>\n",
       "      <span class=\"nt\">&lt;parameter</span> <span class=\"na\">id=</span><span class=\"s\">&quot;p_exponential_1&quot;</span> <span class=\"na\">value=</span><span class=\"s\">&quot;NaN&quot;</span> <span class=\"na\">units=</span><span class=\"s\">&quot;dimensionless&quot;</span> <span class=\"na\">constant=</span><span class=\"s\">&quot;true&quot;</span><span class=\"nt\">/&gt;</span>\n",
       "      <span class=\"nt\">&lt;parameter</span> <span class=\"na\">id=</span><span class=\"s\">&quot;p_exponential_2&quot;</span> <span class=\"na\">value=</span><span class=\"s\">&quot;NaN&quot;</span> <span class=\"na\">units=</span><span class=\"s\">&quot;dimensionless&quot;</span> <span class=\"na\">constant=</span><span class=\"s\">&quot;true&quot;</span><span class=\"nt\">/&gt;</span>\n",
       "      <span class=\"nt\">&lt;parameter</span> <span class=\"na\">id=</span><span class=\"s\">&quot;p_gamma_1&quot;</span> <span class=\"na\">value=</span><span class=\"s\">&quot;NaN&quot;</span> <span class=\"na\">units=</span><span class=\"s\">&quot;dimensionless&quot;</span> <span class=\"na\">constant=</span><span class=\"s\">&quot;true&quot;</span><span class=\"nt\">/&gt;</span>\n",
       "      <span class=\"nt\">&lt;parameter</span> <span class=\"na\">id=</span><span class=\"s\">&quot;p_gamma_2&quot;</span> <span class=\"na\">value=</span><span class=\"s\">&quot;NaN&quot;</span> <span class=\"na\">units=</span><span class=\"s\">&quot;dimensionless&quot;</span> <span class=\"na\">constant=</span><span class=\"s\">&quot;true&quot;</span><span class=\"nt\">/&gt;</span>\n",
       "      <span class=\"nt\">&lt;parameter</span> <span class=\"na\">id=</span><span class=\"s\">&quot;p_laplace_1&quot;</span> <span class=\"na\">value=</span><span class=\"s\">&quot;NaN&quot;</span> <span class=\"na\">units=</span><span class=\"s\">&quot;dimensionless&quot;</span> <span class=\"na\">constant=</span><span class=\"s\">&quot;true&quot;</span><span class=\"nt\">/&gt;</span>\n",
       "      <span class=\"nt\">&lt;parameter</span> <span class=\"na\">id=</span><span class=\"s\">&quot;p_laplace_2&quot;</span> <span class=\"na\">value=</span><span class=\"s\">&quot;NaN&quot;</span> <span class=\"na\">units=</span><span class=\"s\">&quot;dimensionless&quot;</span> <span class=\"na\">constant=</span><span class=\"s\">&quot;true&quot;</span><span class=\"nt\">/&gt;</span>\n",
       "      <span class=\"nt\">&lt;parameter</span> <span class=\"na\">id=</span><span class=\"s\">&quot;p_lognormal_1&quot;</span> <span class=\"na\">value=</span><span class=\"s\">&quot;NaN&quot;</span> <span class=\"na\">units=</span><span class=\"s\">&quot;dimensionless&quot;</span> <span class=\"na\">constant=</span><span class=\"s\">&quot;true&quot;</span><span class=\"nt\">/&gt;</span>\n",
       "      <span class=\"nt\">&lt;parameter</span> <span class=\"na\">id=</span><span class=\"s\">&quot;p_lognormal_2&quot;</span> <span class=\"na\">value=</span><span class=\"s\">&quot;NaN&quot;</span> <span class=\"na\">units=</span><span class=\"s\">&quot;dimensionless&quot;</span> <span class=\"na\">constant=</span><span class=\"s\">&quot;true&quot;</span><span class=\"nt\">/&gt;</span>\n",
       "      <span class=\"nt\">&lt;parameter</span> <span class=\"na\">id=</span><span class=\"s\">&quot;p_poisson_1&quot;</span> <span class=\"na\">value=</span><span class=\"s\">&quot;NaN&quot;</span> <span class=\"na\">units=</span><span class=\"s\">&quot;dimensionless&quot;</span> <span class=\"na\">constant=</span><span class=\"s\">&quot;true&quot;</span><span class=\"nt\">/&gt;</span>\n",
       "      <span class=\"nt\">&lt;parameter</span> <span class=\"na\">id=</span><span class=\"s\">&quot;p_poisson_2&quot;</span> <span class=\"na\">value=</span><span class=\"s\">&quot;NaN&quot;</span> <span class=\"na\">units=</span><span class=\"s\">&quot;dimensionless&quot;</span> <span class=\"na\">constant=</span><span class=\"s\">&quot;true&quot;</span><span class=\"nt\">/&gt;</span>\n",
       "      <span class=\"nt\">&lt;parameter</span> <span class=\"na\">id=</span><span class=\"s\">&quot;p_raleigh_1&quot;</span> <span class=\"na\">value=</span><span class=\"s\">&quot;NaN&quot;</span> <span class=\"na\">units=</span><span class=\"s\">&quot;dimensionless&quot;</span> <span class=\"na\">constant=</span><span class=\"s\">&quot;true&quot;</span><span class=\"nt\">/&gt;</span>\n",
       "      <span class=\"nt\">&lt;parameter</span> <span class=\"na\">id=</span><span class=\"s\">&quot;p_raleigh_2&quot;</span> <span class=\"na\">value=</span><span class=\"s\">&quot;NaN&quot;</span> <span class=\"na\">units=</span><span class=\"s\">&quot;dimensionless&quot;</span> <span class=\"na\">constant=</span><span class=\"s\">&quot;true&quot;</span><span class=\"nt\">/&gt;</span>\n",
       "    <span class=\"nt\">&lt;/listOfParameters&gt;</span>\n",
       "    <span class=\"nt\">&lt;listOfInitialAssignments&gt;</span>\n",
       "      <span class=\"nt\">&lt;initialAssignment</span> <span class=\"na\">symbol=</span><span class=\"s\">&quot;p_normal_1&quot;</span><span class=\"nt\">&gt;</span>\n",
       "        <span class=\"nt\">&lt;math</span> <span class=\"na\">xmlns=</span><span class=\"s\">&quot;http://www.w3.org/1998/Math/MathML&quot;</span><span class=\"nt\">&gt;</span>\n",
       "          <span class=\"nt\">&lt;apply&gt;</span>\n",
       "            <span class=\"nt\">&lt;csymbol</span> <span class=\"na\">encoding=</span><span class=\"s\">&quot;text&quot;</span> <span class=\"na\">definitionURL=</span><span class=\"s\">&quot;http://www.sbml.org/sbml/symbols/distrib/normal&quot;</span><span class=\"nt\">&gt;</span> normal <span class=\"nt\">&lt;/csymbol&gt;</span>\n",
       "            <span class=\"nt\">&lt;cn</span> <span class=\"na\">type=</span><span class=\"s\">&quot;integer&quot;</span><span class=\"nt\">&gt;</span> 0 <span class=\"nt\">&lt;/cn&gt;</span>\n",
       "            <span class=\"nt\">&lt;cn</span> <span class=\"na\">type=</span><span class=\"s\">&quot;integer&quot;</span><span class=\"nt\">&gt;</span> 1 <span class=\"nt\">&lt;/cn&gt;</span>\n",
       "          <span class=\"nt\">&lt;/apply&gt;</span>\n",
       "        <span class=\"nt\">&lt;/math&gt;</span>\n",
       "      <span class=\"nt\">&lt;/initialAssignment&gt;</span>\n",
       "      <span class=\"nt\">&lt;initialAssignment</span> <span class=\"na\">symbol=</span><span class=\"s\">&quot;p_normal_2&quot;</span><span class=\"nt\">&gt;</span>\n",
       "        <span class=\"nt\">&lt;math</span> <span class=\"na\">xmlns=</span><span class=\"s\">&quot;http://www.w3.org/1998/Math/MathML&quot;</span><span class=\"nt\">&gt;</span>\n",
       "          <span class=\"nt\">&lt;apply&gt;</span>\n",
       "            <span class=\"nt\">&lt;csymbol</span> <span class=\"na\">encoding=</span><span class=\"s\">&quot;text&quot;</span> <span class=\"na\">definitionURL=</span><span class=\"s\">&quot;http://www.sbml.org/sbml/symbols/distrib/normal&quot;</span><span class=\"nt\">&gt;</span> normal <span class=\"nt\">&lt;/csymbol&gt;</span>\n",
       "            <span class=\"nt\">&lt;cn</span> <span class=\"na\">type=</span><span class=\"s\">&quot;integer&quot;</span><span class=\"nt\">&gt;</span> 0 <span class=\"nt\">&lt;/cn&gt;</span>\n",
       "            <span class=\"nt\">&lt;cn</span> <span class=\"na\">type=</span><span class=\"s\">&quot;integer&quot;</span><span class=\"nt\">&gt;</span> 1 <span class=\"nt\">&lt;/cn&gt;</span>\n",
       "            <span class=\"nt\">&lt;cn</span> <span class=\"na\">type=</span><span class=\"s\">&quot;integer&quot;</span><span class=\"nt\">&gt;</span> 0 <span class=\"nt\">&lt;/cn&gt;</span>\n",
       "            <span class=\"nt\">&lt;cn</span> <span class=\"na\">type=</span><span class=\"s\">&quot;integer&quot;</span><span class=\"nt\">&gt;</span> 10 <span class=\"nt\">&lt;/cn&gt;</span>\n",
       "          <span class=\"nt\">&lt;/apply&gt;</span>\n",
       "        <span class=\"nt\">&lt;/math&gt;</span>\n",
       "      <span class=\"nt\">&lt;/initialAssignment&gt;</span>\n",
       "      <span class=\"nt\">&lt;initialAssignment</span> <span class=\"na\">symbol=</span><span class=\"s\">&quot;p_uniform&quot;</span><span class=\"nt\">&gt;</span>\n",
       "        <span class=\"nt\">&lt;math</span> <span class=\"na\">xmlns=</span><span class=\"s\">&quot;http://www.w3.org/1998/Math/MathML&quot;</span><span class=\"nt\">&gt;</span>\n",
       "          <span class=\"nt\">&lt;apply&gt;</span>\n",
       "            <span class=\"nt\">&lt;csymbol</span> <span class=\"na\">encoding=</span><span class=\"s\">&quot;text&quot;</span> <span class=\"na\">definitionURL=</span><span class=\"s\">&quot;http://www.sbml.org/sbml/symbols/distrib/uniform&quot;</span><span class=\"nt\">&gt;</span> uniform <span class=\"nt\">&lt;/csymbol&gt;</span>\n",
       "            <span class=\"nt\">&lt;cn</span> <span class=\"na\">type=</span><span class=\"s\">&quot;integer&quot;</span><span class=\"nt\">&gt;</span> 5 <span class=\"nt\">&lt;/cn&gt;</span>\n",
       "            <span class=\"nt\">&lt;cn</span> <span class=\"na\">type=</span><span class=\"s\">&quot;integer&quot;</span><span class=\"nt\">&gt;</span> 10 <span class=\"nt\">&lt;/cn&gt;</span>\n",
       "          <span class=\"nt\">&lt;/apply&gt;</span>\n",
       "        <span class=\"nt\">&lt;/math&gt;</span>\n",
       "      <span class=\"nt\">&lt;/initialAssignment&gt;</span>\n",
       "      <span class=\"nt\">&lt;initialAssignment</span> <span class=\"na\">symbol=</span><span class=\"s\">&quot;p_bernoulli&quot;</span><span class=\"nt\">&gt;</span>\n",
       "        <span class=\"nt\">&lt;math</span> <span class=\"na\">xmlns=</span><span class=\"s\">&quot;http://www.w3.org/1998/Math/MathML&quot;</span><span class=\"nt\">&gt;</span>\n",
       "          <span class=\"nt\">&lt;apply&gt;</span>\n",
       "            <span class=\"nt\">&lt;csymbol</span> <span class=\"na\">encoding=</span><span class=\"s\">&quot;text&quot;</span> <span class=\"na\">definitionURL=</span><span class=\"s\">&quot;http://www.sbml.org/sbml/symbols/distrib/bernoulli&quot;</span><span class=\"nt\">&gt;</span> bernoulli <span class=\"nt\">&lt;/csymbol&gt;</span>\n",
       "            <span class=\"nt\">&lt;cn&gt;</span> 0.4 <span class=\"nt\">&lt;/cn&gt;</span>\n",
       "          <span class=\"nt\">&lt;/apply&gt;</span>\n",
       "        <span class=\"nt\">&lt;/math&gt;</span>\n",
       "      <span class=\"nt\">&lt;/initialAssignment&gt;</span>\n",
       "      <span class=\"nt\">&lt;initialAssignment</span> <span class=\"na\">symbol=</span><span class=\"s\">&quot;p_binomial_1&quot;</span><span class=\"nt\">&gt;</span>\n",
       "        <span class=\"nt\">&lt;math</span> <span class=\"na\">xmlns=</span><span class=\"s\">&quot;http://www.w3.org/1998/Math/MathML&quot;</span><span class=\"nt\">&gt;</span>\n",
       "          <span class=\"nt\">&lt;apply&gt;</span>\n",
       "            <span class=\"nt\">&lt;csymbol</span> <span class=\"na\">encoding=</span><span class=\"s\">&quot;text&quot;</span> <span class=\"na\">definitionURL=</span><span class=\"s\">&quot;http://www.sbml.org/sbml/symbols/distrib/binomial&quot;</span><span class=\"nt\">&gt;</span> binomial <span class=\"nt\">&lt;/csymbol&gt;</span>\n",
       "            <span class=\"nt\">&lt;cn</span> <span class=\"na\">type=</span><span class=\"s\">&quot;integer&quot;</span><span class=\"nt\">&gt;</span> 100 <span class=\"nt\">&lt;/cn&gt;</span>\n",
       "            <span class=\"nt\">&lt;cn&gt;</span> 0.3 <span class=\"nt\">&lt;/cn&gt;</span>\n",
       "          <span class=\"nt\">&lt;/apply&gt;</span>\n",
       "        <span class=\"nt\">&lt;/math&gt;</span>\n",
       "      <span class=\"nt\">&lt;/initialAssignment&gt;</span>\n",
       "      <span class=\"nt\">&lt;initialAssignment</span> <span class=\"na\">symbol=</span><span class=\"s\">&quot;p_binomial_2&quot;</span><span class=\"nt\">&gt;</span>\n",
       "        <span class=\"nt\">&lt;math</span> <span class=\"na\">xmlns=</span><span class=\"s\">&quot;http://www.w3.org/1998/Math/MathML&quot;</span><span class=\"nt\">&gt;</span>\n",
       "          <span class=\"nt\">&lt;apply&gt;</span>\n",
       "            <span class=\"nt\">&lt;csymbol</span> <span class=\"na\">encoding=</span><span class=\"s\">&quot;text&quot;</span> <span class=\"na\">definitionURL=</span><span class=\"s\">&quot;http://www.sbml.org/sbml/symbols/distrib/binomial&quot;</span><span class=\"nt\">&gt;</span> binomial <span class=\"nt\">&lt;/csymbol&gt;</span>\n",
       "            <span class=\"nt\">&lt;cn</span> <span class=\"na\">type=</span><span class=\"s\">&quot;integer&quot;</span><span class=\"nt\">&gt;</span> 100 <span class=\"nt\">&lt;/cn&gt;</span>\n",
       "            <span class=\"nt\">&lt;cn&gt;</span> 0.3 <span class=\"nt\">&lt;/cn&gt;</span>\n",
       "            <span class=\"nt\">&lt;cn</span> <span class=\"na\">type=</span><span class=\"s\">&quot;integer&quot;</span><span class=\"nt\">&gt;</span> 0 <span class=\"nt\">&lt;/cn&gt;</span>\n",
       "            <span class=\"nt\">&lt;cn</span> <span class=\"na\">type=</span><span class=\"s\">&quot;integer&quot;</span><span class=\"nt\">&gt;</span> 2 <span class=\"nt\">&lt;/cn&gt;</span>\n",
       "          <span class=\"nt\">&lt;/apply&gt;</span>\n",
       "        <span class=\"nt\">&lt;/math&gt;</span>\n",
       "      <span class=\"nt\">&lt;/initialAssignment&gt;</span>\n",
       "      <span class=\"nt\">&lt;initialAssignment</span> <span class=\"na\">symbol=</span><span class=\"s\">&quot;p_cauchy_1&quot;</span><span class=\"nt\">&gt;</span>\n",
       "        <span class=\"nt\">&lt;math</span> <span class=\"na\">xmlns=</span><span class=\"s\">&quot;http://www.w3.org/1998/Math/MathML&quot;</span><span class=\"nt\">&gt;</span>\n",
       "          <span class=\"nt\">&lt;apply&gt;</span>\n",
       "            <span class=\"nt\">&lt;csymbol</span> <span class=\"na\">encoding=</span><span class=\"s\">&quot;text&quot;</span> <span class=\"na\">definitionURL=</span><span class=\"s\">&quot;http://www.sbml.org/sbml/symbols/distrib/cauchy&quot;</span><span class=\"nt\">&gt;</span> cauchy <span class=\"nt\">&lt;/csymbol&gt;</span>\n",
       "            <span class=\"nt\">&lt;cn</span> <span class=\"na\">type=</span><span class=\"s\">&quot;integer&quot;</span><span class=\"nt\">&gt;</span> 0 <span class=\"nt\">&lt;/cn&gt;</span>\n",
       "            <span class=\"nt\">&lt;cn</span> <span class=\"na\">type=</span><span class=\"s\">&quot;integer&quot;</span><span class=\"nt\">&gt;</span> 1 <span class=\"nt\">&lt;/cn&gt;</span>\n",
       "          <span class=\"nt\">&lt;/apply&gt;</span>\n",
       "        <span class=\"nt\">&lt;/math&gt;</span>\n",
       "      <span class=\"nt\">&lt;/initialAssignment&gt;</span>\n",
       "      <span class=\"nt\">&lt;initialAssignment</span> <span class=\"na\">symbol=</span><span class=\"s\">&quot;p_cauchy_2&quot;</span><span class=\"nt\">&gt;</span>\n",
       "        <span class=\"nt\">&lt;math</span> <span class=\"na\">xmlns=</span><span class=\"s\">&quot;http://www.w3.org/1998/Math/MathML&quot;</span><span class=\"nt\">&gt;</span>\n",
       "          <span class=\"nt\">&lt;apply&gt;</span>\n",
       "            <span class=\"nt\">&lt;csymbol</span> <span class=\"na\">encoding=</span><span class=\"s\">&quot;text&quot;</span> <span class=\"na\">definitionURL=</span><span class=\"s\">&quot;http://www.sbml.org/sbml/symbols/distrib/cauchy&quot;</span><span class=\"nt\">&gt;</span> cauchy <span class=\"nt\">&lt;/csymbol&gt;</span>\n",
       "            <span class=\"nt\">&lt;cn</span> <span class=\"na\">type=</span><span class=\"s\">&quot;integer&quot;</span><span class=\"nt\">&gt;</span> 0 <span class=\"nt\">&lt;/cn&gt;</span>\n",
       "            <span class=\"nt\">&lt;cn</span> <span class=\"na\">type=</span><span class=\"s\">&quot;integer&quot;</span><span class=\"nt\">&gt;</span> 1 <span class=\"nt\">&lt;/cn&gt;</span>\n",
       "            <span class=\"nt\">&lt;cn</span> <span class=\"na\">type=</span><span class=\"s\">&quot;integer&quot;</span><span class=\"nt\">&gt;</span> 0 <span class=\"nt\">&lt;/cn&gt;</span>\n",
       "            <span class=\"nt\">&lt;cn</span> <span class=\"na\">type=</span><span class=\"s\">&quot;integer&quot;</span><span class=\"nt\">&gt;</span> 5 <span class=\"nt\">&lt;/cn&gt;</span>\n",
       "          <span class=\"nt\">&lt;/apply&gt;</span>\n",
       "        <span class=\"nt\">&lt;/math&gt;</span>\n",
       "      <span class=\"nt\">&lt;/initialAssignment&gt;</span>\n",
       "      <span class=\"nt\">&lt;initialAssignment</span> <span class=\"na\">symbol=</span><span class=\"s\">&quot;p_chisquare_1&quot;</span><span class=\"nt\">&gt;</span>\n",
       "        <span class=\"nt\">&lt;math</span> <span class=\"na\">xmlns=</span><span class=\"s\">&quot;http://www.w3.org/1998/Math/MathML&quot;</span><span class=\"nt\">&gt;</span>\n",
       "          <span class=\"nt\">&lt;apply&gt;</span>\n",
       "            <span class=\"nt\">&lt;csymbol</span> <span class=\"na\">encoding=</span><span class=\"s\">&quot;text&quot;</span> <span class=\"na\">definitionURL=</span><span class=\"s\">&quot;http://www.sbml.org/sbml/symbols/distrib/chisquare&quot;</span><span class=\"nt\">&gt;</span> chisquare <span class=\"nt\">&lt;/csymbol&gt;</span>\n",
       "            <span class=\"nt\">&lt;cn</span> <span class=\"na\">type=</span><span class=\"s\">&quot;integer&quot;</span><span class=\"nt\">&gt;</span> 10 <span class=\"nt\">&lt;/cn&gt;</span>\n",
       "          <span class=\"nt\">&lt;/apply&gt;</span>\n",
       "        <span class=\"nt\">&lt;/math&gt;</span>\n",
       "      <span class=\"nt\">&lt;/initialAssignment&gt;</span>\n",
       "      <span class=\"nt\">&lt;initialAssignment</span> <span class=\"na\">symbol=</span><span class=\"s\">&quot;p_chisquare_2&quot;</span><span class=\"nt\">&gt;</span>\n",
       "        <span class=\"nt\">&lt;math</span> <span class=\"na\">xmlns=</span><span class=\"s\">&quot;http://www.w3.org/1998/Math/MathML&quot;</span><span class=\"nt\">&gt;</span>\n",
       "          <span class=\"nt\">&lt;apply&gt;</span>\n",
       "            <span class=\"nt\">&lt;csymbol</span> <span class=\"na\">encoding=</span><span class=\"s\">&quot;text&quot;</span> <span class=\"na\">definitionURL=</span><span class=\"s\">&quot;http://www.sbml.org/sbml/symbols/distrib/chisquare&quot;</span><span class=\"nt\">&gt;</span> chisquare <span class=\"nt\">&lt;/csymbol&gt;</span>\n",
       "            <span class=\"nt\">&lt;cn</span> <span class=\"na\">type=</span><span class=\"s\">&quot;integer&quot;</span><span class=\"nt\">&gt;</span> 10 <span class=\"nt\">&lt;/cn&gt;</span>\n",
       "            <span class=\"nt\">&lt;cn</span> <span class=\"na\">type=</span><span class=\"s\">&quot;integer&quot;</span><span class=\"nt\">&gt;</span> 0 <span class=\"nt\">&lt;/cn&gt;</span>\n",
       "            <span class=\"nt\">&lt;cn</span> <span class=\"na\">type=</span><span class=\"s\">&quot;integer&quot;</span><span class=\"nt\">&gt;</span> 10 <span class=\"nt\">&lt;/cn&gt;</span>\n",
       "          <span class=\"nt\">&lt;/apply&gt;</span>\n",
       "        <span class=\"nt\">&lt;/math&gt;</span>\n",
       "      <span class=\"nt\">&lt;/initialAssignment&gt;</span>\n",
       "      <span class=\"nt\">&lt;initialAssignment</span> <span class=\"na\">symbol=</span><span class=\"s\">&quot;p_exponential_1&quot;</span><span class=\"nt\">&gt;</span>\n",
       "        <span class=\"nt\">&lt;math</span> <span class=\"na\">xmlns=</span><span class=\"s\">&quot;http://www.w3.org/1998/Math/MathML&quot;</span><span class=\"nt\">&gt;</span>\n",
       "          <span class=\"nt\">&lt;apply&gt;</span>\n",
       "            <span class=\"nt\">&lt;csymbol</span> <span class=\"na\">encoding=</span><span class=\"s\">&quot;text&quot;</span> <span class=\"na\">definitionURL=</span><span class=\"s\">&quot;http://www.sbml.org/sbml/symbols/distrib/exponential&quot;</span><span class=\"nt\">&gt;</span> exponential <span class=\"nt\">&lt;/csymbol&gt;</span>\n",
       "            <span class=\"nt\">&lt;cn&gt;</span> 1 <span class=\"nt\">&lt;/cn&gt;</span>\n",
       "          <span class=\"nt\">&lt;/apply&gt;</span>\n",
       "        <span class=\"nt\">&lt;/math&gt;</span>\n",
       "      <span class=\"nt\">&lt;/initialAssignment&gt;</span>\n",
       "      <span class=\"nt\">&lt;initialAssignment</span> <span class=\"na\">symbol=</span><span class=\"s\">&quot;p_exponential_2&quot;</span><span class=\"nt\">&gt;</span>\n",
       "        <span class=\"nt\">&lt;math</span> <span class=\"na\">xmlns=</span><span class=\"s\">&quot;http://www.w3.org/1998/Math/MathML&quot;</span><span class=\"nt\">&gt;</span>\n",
       "          <span class=\"nt\">&lt;apply&gt;</span>\n",
       "            <span class=\"nt\">&lt;csymbol</span> <span class=\"na\">encoding=</span><span class=\"s\">&quot;text&quot;</span> <span class=\"na\">definitionURL=</span><span class=\"s\">&quot;http://www.sbml.org/sbml/symbols/distrib/exponential&quot;</span><span class=\"nt\">&gt;</span> exponential <span class=\"nt\">&lt;/csymbol&gt;</span>\n",
       "            <span class=\"nt\">&lt;cn&gt;</span> 1 <span class=\"nt\">&lt;/cn&gt;</span>\n",
       "            <span class=\"nt\">&lt;cn</span> <span class=\"na\">type=</span><span class=\"s\">&quot;integer&quot;</span><span class=\"nt\">&gt;</span> 0 <span class=\"nt\">&lt;/cn&gt;</span>\n",
       "            <span class=\"nt\">&lt;cn</span> <span class=\"na\">type=</span><span class=\"s\">&quot;integer&quot;</span><span class=\"nt\">&gt;</span> 10 <span class=\"nt\">&lt;/cn&gt;</span>\n",
       "          <span class=\"nt\">&lt;/apply&gt;</span>\n",
       "        <span class=\"nt\">&lt;/math&gt;</span>\n",
       "      <span class=\"nt\">&lt;/initialAssignment&gt;</span>\n",
       "      <span class=\"nt\">&lt;initialAssignment</span> <span class=\"na\">symbol=</span><span class=\"s\">&quot;p_gamma_1&quot;</span><span class=\"nt\">&gt;</span>\n",
       "        <span class=\"nt\">&lt;math</span> <span class=\"na\">xmlns=</span><span class=\"s\">&quot;http://www.w3.org/1998/Math/MathML&quot;</span><span class=\"nt\">&gt;</span>\n",
       "          <span class=\"nt\">&lt;apply&gt;</span>\n",
       "            <span class=\"nt\">&lt;csymbol</span> <span class=\"na\">encoding=</span><span class=\"s\">&quot;text&quot;</span> <span class=\"na\">definitionURL=</span><span class=\"s\">&quot;http://www.sbml.org/sbml/symbols/distrib/gamma&quot;</span><span class=\"nt\">&gt;</span> gamma <span class=\"nt\">&lt;/csymbol&gt;</span>\n",
       "            <span class=\"nt\">&lt;cn</span> <span class=\"na\">type=</span><span class=\"s\">&quot;integer&quot;</span><span class=\"nt\">&gt;</span> 0 <span class=\"nt\">&lt;/cn&gt;</span>\n",
       "            <span class=\"nt\">&lt;cn</span> <span class=\"na\">type=</span><span class=\"s\">&quot;integer&quot;</span><span class=\"nt\">&gt;</span> 1 <span class=\"nt\">&lt;/cn&gt;</span>\n",
       "          <span class=\"nt\">&lt;/apply&gt;</span>\n",
       "        <span class=\"nt\">&lt;/math&gt;</span>\n",
       "      <span class=\"nt\">&lt;/initialAssignment&gt;</span>\n",
       "      <span class=\"nt\">&lt;initialAssignment</span> <span class=\"na\">symbol=</span><span class=\"s\">&quot;p_gamma_2&quot;</span><span class=\"nt\">&gt;</span>\n",
       "        <span class=\"nt\">&lt;math</span> <span class=\"na\">xmlns=</span><span class=\"s\">&quot;http://www.w3.org/1998/Math/MathML&quot;</span><span class=\"nt\">&gt;</span>\n",
       "          <span class=\"nt\">&lt;apply&gt;</span>\n",
       "            <span class=\"nt\">&lt;csymbol</span> <span class=\"na\">encoding=</span><span class=\"s\">&quot;text&quot;</span> <span class=\"na\">definitionURL=</span><span class=\"s\">&quot;http://www.sbml.org/sbml/symbols/distrib/gamma&quot;</span><span class=\"nt\">&gt;</span> gamma <span class=\"nt\">&lt;/csymbol&gt;</span>\n",
       "            <span class=\"nt\">&lt;cn</span> <span class=\"na\">type=</span><span class=\"s\">&quot;integer&quot;</span><span class=\"nt\">&gt;</span> 0 <span class=\"nt\">&lt;/cn&gt;</span>\n",
       "            <span class=\"nt\">&lt;cn</span> <span class=\"na\">type=</span><span class=\"s\">&quot;integer&quot;</span><span class=\"nt\">&gt;</span> 1 <span class=\"nt\">&lt;/cn&gt;</span>\n",
       "            <span class=\"nt\">&lt;cn</span> <span class=\"na\">type=</span><span class=\"s\">&quot;integer&quot;</span><span class=\"nt\">&gt;</span> 0 <span class=\"nt\">&lt;/cn&gt;</span>\n",
       "            <span class=\"nt\">&lt;cn</span> <span class=\"na\">type=</span><span class=\"s\">&quot;integer&quot;</span><span class=\"nt\">&gt;</span> 10 <span class=\"nt\">&lt;/cn&gt;</span>\n",
       "          <span class=\"nt\">&lt;/apply&gt;</span>\n",
       "        <span class=\"nt\">&lt;/math&gt;</span>\n",
       "      <span class=\"nt\">&lt;/initialAssignment&gt;</span>\n",
       "      <span class=\"nt\">&lt;initialAssignment</span> <span class=\"na\">symbol=</span><span class=\"s\">&quot;p_laplace_1&quot;</span><span class=\"nt\">&gt;</span>\n",
       "        <span class=\"nt\">&lt;math</span> <span class=\"na\">xmlns=</span><span class=\"s\">&quot;http://www.w3.org/1998/Math/MathML&quot;</span><span class=\"nt\">&gt;</span>\n",
       "          <span class=\"nt\">&lt;apply&gt;</span>\n",
       "            <span class=\"nt\">&lt;csymbol</span> <span class=\"na\">encoding=</span><span class=\"s\">&quot;text&quot;</span> <span class=\"na\">definitionURL=</span><span class=\"s\">&quot;http://www.sbml.org/sbml/symbols/distrib/laplace&quot;</span><span class=\"nt\">&gt;</span> laplace <span class=\"nt\">&lt;/csymbol&gt;</span>\n",
       "            <span class=\"nt\">&lt;cn</span> <span class=\"na\">type=</span><span class=\"s\">&quot;integer&quot;</span><span class=\"nt\">&gt;</span> 0 <span class=\"nt\">&lt;/cn&gt;</span>\n",
       "            <span class=\"nt\">&lt;cn</span> <span class=\"na\">type=</span><span class=\"s\">&quot;integer&quot;</span><span class=\"nt\">&gt;</span> 1 <span class=\"nt\">&lt;/cn&gt;</span>\n",
       "          <span class=\"nt\">&lt;/apply&gt;</span>\n",
       "        <span class=\"nt\">&lt;/math&gt;</span>\n",
       "      <span class=\"nt\">&lt;/initialAssignment&gt;</span>\n",
       "      <span class=\"nt\">&lt;initialAssignment</span> <span class=\"na\">symbol=</span><span class=\"s\">&quot;p_laplace_2&quot;</span><span class=\"nt\">&gt;</span>\n",
       "        <span class=\"nt\">&lt;math</span> <span class=\"na\">xmlns=</span><span class=\"s\">&quot;http://www.w3.org/1998/Math/MathML&quot;</span><span class=\"nt\">&gt;</span>\n",
       "          <span class=\"nt\">&lt;apply&gt;</span>\n",
       "            <span class=\"nt\">&lt;csymbol</span> <span class=\"na\">encoding=</span><span class=\"s\">&quot;text&quot;</span> <span class=\"na\">definitionURL=</span><span class=\"s\">&quot;http://www.sbml.org/sbml/symbols/distrib/laplace&quot;</span><span class=\"nt\">&gt;</span> laplace <span class=\"nt\">&lt;/csymbol&gt;</span>\n",
       "            <span class=\"nt\">&lt;cn</span> <span class=\"na\">type=</span><span class=\"s\">&quot;integer&quot;</span><span class=\"nt\">&gt;</span> 0 <span class=\"nt\">&lt;/cn&gt;</span>\n",
       "            <span class=\"nt\">&lt;cn</span> <span class=\"na\">type=</span><span class=\"s\">&quot;integer&quot;</span><span class=\"nt\">&gt;</span> 1 <span class=\"nt\">&lt;/cn&gt;</span>\n",
       "            <span class=\"nt\">&lt;cn</span> <span class=\"na\">type=</span><span class=\"s\">&quot;integer&quot;</span><span class=\"nt\">&gt;</span> 0 <span class=\"nt\">&lt;/cn&gt;</span>\n",
       "            <span class=\"nt\">&lt;cn</span> <span class=\"na\">type=</span><span class=\"s\">&quot;integer&quot;</span><span class=\"nt\">&gt;</span> 10 <span class=\"nt\">&lt;/cn&gt;</span>\n",
       "          <span class=\"nt\">&lt;/apply&gt;</span>\n",
       "        <span class=\"nt\">&lt;/math&gt;</span>\n",
       "      <span class=\"nt\">&lt;/initialAssignment&gt;</span>\n",
       "      <span class=\"nt\">&lt;initialAssignment</span> <span class=\"na\">symbol=</span><span class=\"s\">&quot;p_lognormal_1&quot;</span><span class=\"nt\">&gt;</span>\n",
       "        <span class=\"nt\">&lt;math</span> <span class=\"na\">xmlns=</span><span class=\"s\">&quot;http://www.w3.org/1998/Math/MathML&quot;</span><span class=\"nt\">&gt;</span>\n",
       "          <span class=\"nt\">&lt;apply&gt;</span>\n",
       "            <span class=\"nt\">&lt;csymbol</span> <span class=\"na\">encoding=</span><span class=\"s\">&quot;text&quot;</span> <span class=\"na\">definitionURL=</span><span class=\"s\">&quot;http://www.sbml.org/sbml/symbols/distrib/lognormal&quot;</span><span class=\"nt\">&gt;</span> lognormal <span class=\"nt\">&lt;/csymbol&gt;</span>\n",
       "            <span class=\"nt\">&lt;cn</span> <span class=\"na\">type=</span><span class=\"s\">&quot;integer&quot;</span><span class=\"nt\">&gt;</span> 0 <span class=\"nt\">&lt;/cn&gt;</span>\n",
       "            <span class=\"nt\">&lt;cn</span> <span class=\"na\">type=</span><span class=\"s\">&quot;integer&quot;</span><span class=\"nt\">&gt;</span> 1 <span class=\"nt\">&lt;/cn&gt;</span>\n",
       "          <span class=\"nt\">&lt;/apply&gt;</span>\n",
       "        <span class=\"nt\">&lt;/math&gt;</span>\n",
       "      <span class=\"nt\">&lt;/initialAssignment&gt;</span>\n",
       "      <span class=\"nt\">&lt;initialAssignment</span> <span class=\"na\">symbol=</span><span class=\"s\">&quot;p_lognormal_2&quot;</span><span class=\"nt\">&gt;</span>\n",
       "        <span class=\"nt\">&lt;math</span> <span class=\"na\">xmlns=</span><span class=\"s\">&quot;http://www.w3.org/1998/Math/MathML&quot;</span><span class=\"nt\">&gt;</span>\n",
       "          <span class=\"nt\">&lt;apply&gt;</span>\n",
       "            <span class=\"nt\">&lt;csymbol</span> <span class=\"na\">encoding=</span><span class=\"s\">&quot;text&quot;</span> <span class=\"na\">definitionURL=</span><span class=\"s\">&quot;http://www.sbml.org/sbml/symbols/distrib/lognormal&quot;</span><span class=\"nt\">&gt;</span> lognormal <span class=\"nt\">&lt;/csymbol&gt;</span>\n",
       "            <span class=\"nt\">&lt;cn</span> <span class=\"na\">type=</span><span class=\"s\">&quot;integer&quot;</span><span class=\"nt\">&gt;</span> 0 <span class=\"nt\">&lt;/cn&gt;</span>\n",
       "            <span class=\"nt\">&lt;cn</span> <span class=\"na\">type=</span><span class=\"s\">&quot;integer&quot;</span><span class=\"nt\">&gt;</span> 1 <span class=\"nt\">&lt;/cn&gt;</span>\n",
       "            <span class=\"nt\">&lt;cn</span> <span class=\"na\">type=</span><span class=\"s\">&quot;integer&quot;</span><span class=\"nt\">&gt;</span> 0 <span class=\"nt\">&lt;/cn&gt;</span>\n",
       "            <span class=\"nt\">&lt;cn</span> <span class=\"na\">type=</span><span class=\"s\">&quot;integer&quot;</span><span class=\"nt\">&gt;</span> 10 <span class=\"nt\">&lt;/cn&gt;</span>\n",
       "          <span class=\"nt\">&lt;/apply&gt;</span>\n",
       "        <span class=\"nt\">&lt;/math&gt;</span>\n",
       "      <span class=\"nt\">&lt;/initialAssignment&gt;</span>\n",
       "      <span class=\"nt\">&lt;initialAssignment</span> <span class=\"na\">symbol=</span><span class=\"s\">&quot;p_poisson_1&quot;</span><span class=\"nt\">&gt;</span>\n",
       "        <span class=\"nt\">&lt;math</span> <span class=\"na\">xmlns=</span><span class=\"s\">&quot;http://www.w3.org/1998/Math/MathML&quot;</span><span class=\"nt\">&gt;</span>\n",
       "          <span class=\"nt\">&lt;apply&gt;</span>\n",
       "            <span class=\"nt\">&lt;csymbol</span> <span class=\"na\">encoding=</span><span class=\"s\">&quot;text&quot;</span> <span class=\"na\">definitionURL=</span><span class=\"s\">&quot;http://www.sbml.org/sbml/symbols/distrib/poisson&quot;</span><span class=\"nt\">&gt;</span> poisson <span class=\"nt\">&lt;/csymbol&gt;</span>\n",
       "            <span class=\"nt\">&lt;cn&gt;</span> 0.5 <span class=\"nt\">&lt;/cn&gt;</span>\n",
       "          <span class=\"nt\">&lt;/apply&gt;</span>\n",
       "        <span class=\"nt\">&lt;/math&gt;</span>\n",
       "      <span class=\"nt\">&lt;/initialAssignment&gt;</span>\n",
       "      <span class=\"nt\">&lt;initialAssignment</span> <span class=\"na\">symbol=</span><span class=\"s\">&quot;p_poisson_2&quot;</span><span class=\"nt\">&gt;</span>\n",
       "        <span class=\"nt\">&lt;math</span> <span class=\"na\">xmlns=</span><span class=\"s\">&quot;http://www.w3.org/1998/Math/MathML&quot;</span><span class=\"nt\">&gt;</span>\n",
       "          <span class=\"nt\">&lt;apply&gt;</span>\n",
       "            <span class=\"nt\">&lt;csymbol</span> <span class=\"na\">encoding=</span><span class=\"s\">&quot;text&quot;</span> <span class=\"na\">definitionURL=</span><span class=\"s\">&quot;http://www.sbml.org/sbml/symbols/distrib/poisson&quot;</span><span class=\"nt\">&gt;</span> poisson <span class=\"nt\">&lt;/csymbol&gt;</span>\n",
       "            <span class=\"nt\">&lt;cn&gt;</span> 0.5 <span class=\"nt\">&lt;/cn&gt;</span>\n",
       "            <span class=\"nt\">&lt;cn</span> <span class=\"na\">type=</span><span class=\"s\">&quot;integer&quot;</span><span class=\"nt\">&gt;</span> 0 <span class=\"nt\">&lt;/cn&gt;</span>\n",
       "            <span class=\"nt\">&lt;cn</span> <span class=\"na\">type=</span><span class=\"s\">&quot;integer&quot;</span><span class=\"nt\">&gt;</span> 10 <span class=\"nt\">&lt;/cn&gt;</span>\n",
       "          <span class=\"nt\">&lt;/apply&gt;</span>\n",
       "        <span class=\"nt\">&lt;/math&gt;</span>\n",
       "      <span class=\"nt\">&lt;/initialAssignment&gt;</span>\n",
       "      <span class=\"nt\">&lt;initialAssignment</span> <span class=\"na\">symbol=</span><span class=\"s\">&quot;p_raleigh_1&quot;</span><span class=\"nt\">&gt;</span>\n",
       "        <span class=\"nt\">&lt;math</span> <span class=\"na\">xmlns=</span><span class=\"s\">&quot;http://www.w3.org/1998/Math/MathML&quot;</span><span class=\"nt\">&gt;</span>\n",
       "          <span class=\"nt\">&lt;apply&gt;</span>\n",
       "            <span class=\"nt\">&lt;csymbol</span> <span class=\"na\">encoding=</span><span class=\"s\">&quot;text&quot;</span> <span class=\"na\">definitionURL=</span><span class=\"s\">&quot;http://www.sbml.org/sbml/symbols/distrib/rayleigh&quot;</span><span class=\"nt\">&gt;</span> rayleigh <span class=\"nt\">&lt;/csymbol&gt;</span>\n",
       "            <span class=\"nt\">&lt;cn&gt;</span> 0.5 <span class=\"nt\">&lt;/cn&gt;</span>\n",
       "          <span class=\"nt\">&lt;/apply&gt;</span>\n",
       "        <span class=\"nt\">&lt;/math&gt;</span>\n",
       "      <span class=\"nt\">&lt;/initialAssignment&gt;</span>\n",
       "      <span class=\"nt\">&lt;initialAssignment</span> <span class=\"na\">symbol=</span><span class=\"s\">&quot;p_raleigh_2&quot;</span><span class=\"nt\">&gt;</span>\n",
       "        <span class=\"nt\">&lt;math</span> <span class=\"na\">xmlns=</span><span class=\"s\">&quot;http://www.w3.org/1998/Math/MathML&quot;</span><span class=\"nt\">&gt;</span>\n",
       "          <span class=\"nt\">&lt;apply&gt;</span>\n",
       "            <span class=\"nt\">&lt;csymbol</span> <span class=\"na\">encoding=</span><span class=\"s\">&quot;text&quot;</span> <span class=\"na\">definitionURL=</span><span class=\"s\">&quot;http://www.sbml.org/sbml/symbols/distrib/rayleigh&quot;</span><span class=\"nt\">&gt;</span> rayleigh <span class=\"nt\">&lt;/csymbol&gt;</span>\n",
       "            <span class=\"nt\">&lt;cn&gt;</span> 0.5 <span class=\"nt\">&lt;/cn&gt;</span>\n",
       "            <span class=\"nt\">&lt;cn</span> <span class=\"na\">type=</span><span class=\"s\">&quot;integer&quot;</span><span class=\"nt\">&gt;</span> 0 <span class=\"nt\">&lt;/cn&gt;</span>\n",
       "            <span class=\"nt\">&lt;cn</span> <span class=\"na\">type=</span><span class=\"s\">&quot;integer&quot;</span><span class=\"nt\">&gt;</span> 10 <span class=\"nt\">&lt;/cn&gt;</span>\n",
       "          <span class=\"nt\">&lt;/apply&gt;</span>\n",
       "        <span class=\"nt\">&lt;/math&gt;</span>\n",
       "      <span class=\"nt\">&lt;/initialAssignment&gt;</span>\n",
       "    <span class=\"nt\">&lt;/listOfInitialAssignments&gt;</span>\n",
       "  <span class=\"nt\">&lt;/model&gt;</span>\n",
       "<span class=\"nt\">&lt;/sbml&gt;</span>\n",
       "</pre></div>\n"
      ]
     },
     "metadata": {},
     "output_type": "display_data"
    },
    {
     "data": {
      "text/html": [
       "<pre style=\"white-space:pre;overflow-x:auto;line-height:normal;font-family:Menlo,'DejaVu Sans Mono',consolas,'Courier New',monospace\">\n",
       "</pre>\n"
      ],
      "text/plain": [
       "\n"
      ]
     },
     "metadata": {},
     "output_type": "display_data"
    },
    {
     "data": {
      "text/html": [
       "<pre style=\"white-space:pre;overflow-x:auto;line-height:normal;font-family:Menlo,'DejaVu Sans Mono',consolas,'Courier New',monospace\"><span style=\"color: #008000; text-decoration-color: #008000\">─────────────────────────────────────── </span>Validate SBML<span style=\"color: #008000; text-decoration-color: #008000\"> ───────────────────────────────────────</span>\n",
       "</pre>\n"
      ],
      "text/plain": [
       "\u001b[32m─────────────────────────────────────── \u001b[0mValidate SBML\u001b[32m ───────────────────────────────────────\u001b[0m\n"
      ]
     },
     "metadata": {},
     "output_type": "display_data"
    },
    {
     "data": {
      "text/html": [
       "<pre style=\"white-space:pre;overflow-x:auto;line-height:normal;font-family:Menlo,'DejaVu Sans Mono',consolas,'Courier New',monospace\"><span style=\"color: #008000; text-decoration-color: #008000; font-weight: bold\">&lt;</span><span style=\"color: #ff00ff; text-decoration-color: #ff00ff; font-weight: bold\">SBMLDocument</span><span style=\"color: #008000; text-decoration-color: #008000; font-weight: bold\">&gt;</span>\n",
       "<span style=\"color: #008000; text-decoration-color: #008000\">valid                    : TRUE</span>\n",
       "<span style=\"color: #008000; text-decoration-color: #008000\">check time </span><span style=\"color: #008000; text-decoration-color: #008000; font-weight: bold\">(</span><span style=\"color: #008000; text-decoration-color: #008000\">s</span><span style=\"color: #008000; text-decoration-color: #008000; font-weight: bold\">)</span><span style=\"color: #008000; text-decoration-color: #008000\">           : </span><span style=\"color: #008080; text-decoration-color: #008080; font-weight: bold\">0.004</span>\n",
       "</pre>\n"
      ],
      "text/plain": [
       "\u001b[1;32m<\u001b[0m\u001b[1;95mSBMLDocument\u001b[0m\u001b[1;32m>\u001b[0m\n",
       "\u001b[32mvalid                    : TRUE\u001b[0m\n",
       "\u001b[32mcheck time \u001b[0m\u001b[1;32m(\u001b[0m\u001b[32ms\u001b[0m\u001b[1;32m)\u001b[0m\u001b[32m           : \u001b[0m\u001b[1;36m0.004\u001b[0m\n"
      ]
     },
     "metadata": {},
     "output_type": "display_data"
    },
    {
     "data": {
      "text/html": [
       "<pre style=\"white-space:pre;overflow-x:auto;line-height:normal;font-family:Menlo,'DejaVu Sans Mono',consolas,'Courier New',monospace\"><span style=\"color: #008000; text-decoration-color: #008000\">─────────────────────────────────────────────────────────────────────────────────────────────</span>\n",
       "</pre>\n"
      ],
      "text/plain": [
       "\u001b[32m─────────────────────────────────────────────────────────────────────────────────────────────\u001b[0m\n"
      ]
     },
     "metadata": {},
     "output_type": "display_data"
    },
    {
     "data": {
      "text/html": [
       "<pre style=\"white-space:pre;overflow-x:auto;line-height:normal;font-family:Menlo,'DejaVu Sans Mono',consolas,'Courier New',monospace\">\n",
       "</pre>\n"
      ],
      "text/plain": [
       "\n"
      ]
     },
     "metadata": {},
     "output_type": "display_data"
    }
   ],
   "source": [
    "model = Model(\n",
    "    'all_distributions',\n",
    "    packages = ['distrib'],\n",
    "    objects = [\n",
    "        InitialAssignment('p_normal_1', 'normal(0, 1)'),\n",
    "        InitialAssignment('p_normal_2', 'normal(0, 1, 0, 10)'),\n",
    "        InitialAssignment('p_uniform', 'uniform(5, 10)'),\n",
    "        InitialAssignment('p_bernoulli', 'bernoulli(0.4)'),\n",
    "        InitialAssignment('p_binomial_1', 'binomial(100, 0.3)'),\n",
    "        InitialAssignment('p_binomial_2', 'binomial(100, 0.3, 0, 2)'),\n",
    "        InitialAssignment('p_cauchy_1', 'cauchy(0, 1)'),\n",
    "        InitialAssignment('p_cauchy_2', 'cauchy(0, 1, 0, 5)'),\n",
    "        InitialAssignment('p_chisquare_1', 'chisquare(10)'),\n",
    "        InitialAssignment('p_chisquare_2', 'chisquare(10, 0, 10)'),\n",
    "        InitialAssignment('p_exponential_1', 'exponential(1.0)'),\n",
    "        InitialAssignment('p_exponential_2', 'exponential(1.0, 0, 10)'),\n",
    "        InitialAssignment('p_gamma_1', 'gamma(0, 1)'),\n",
    "        InitialAssignment('p_gamma_2', 'gamma(0, 1, 0, 10)'),\n",
    "        InitialAssignment('p_laplace_1', 'laplace(0, 1)'),\n",
    "        InitialAssignment('p_laplace_2', 'laplace(0, 1, 0, 10)'),\n",
    "        InitialAssignment('p_lognormal_1', 'lognormal(0, 1)'),\n",
    "        InitialAssignment('p_lognormal_2', 'lognormal(0, 1, 0, 10)'),\n",
    "        InitialAssignment('p_poisson_1', 'poisson(0.5)'),\n",
    "        InitialAssignment('p_poisson_2', 'poisson(0.5, 0, 10)'),\n",
    "        InitialAssignment('p_raleigh_1', 'rayleigh(0.5)'),\n",
    "        InitialAssignment('p_raleigh_2', 'rayleigh(0.5, 0, 10)'),\n",
    "    ]\n",
    ")\n",
    "\n",
    "# create model and print SBML\n",
    "doc = Document(model)\n",
    "print_xml(doc.get_sbml())\n",
    "\n",
    "# validate model\n",
    "validate_doc(doc.doc, units_consistency=False);"
   ]
  },
  {
   "cell_type": "markdown",
   "metadata": {},
   "source": [
    "### Basic uncertainty example\n",
    "Here, the species with an initial amount of `3.22` is described as having a `standard deviation` of `0.3`, a value that might\n",
    "be written as `3.22 +- 0.3`."
   ]
  },
  {
   "cell_type": "code",
   "execution_count": 8,
   "metadata": {},
   "outputs": [
    {
     "data": {
      "text/html": [
       "<pre style=\"white-space:pre;overflow-x:auto;line-height:normal;font-family:Menlo,'DejaVu Sans Mono',consolas,'Courier New',monospace\"><span style=\"color: #000080; text-decoration-color: #000080\">INFO    </span> Create SBML for model <span style=\"color: #008000; text-decoration-color: #008000\">'basic_example_1'</span>                              <a href=\"file:///home/mkoenig/git/sbmlutils/src/sbmlutils/factory.py\"><span style=\"color: #7f7f7f; text-decoration-color: #7f7f7f\">factory.py</span></a><span style=\"color: #7f7f7f; text-decoration-color: #7f7f7f\">:2896</span>\n",
       "</pre>\n"
      ],
      "text/plain": [
       "\u001b[34mINFO    \u001b[0m Create SBML for model \u001b[32m'basic_example_1'\u001b[0m                              \u001b]8;id=726209;file:///home/mkoenig/git/sbmlutils/src/sbmlutils/factory.py\u001b\\\u001b[2mfactory.py\u001b[0m\u001b]8;;\u001b\\\u001b[2m:2896\u001b[0m\n"
      ]
     },
     "metadata": {},
     "output_type": "display_data"
    },
    {
     "data": {
      "text/html": [
       "<pre style=\"white-space:pre;overflow-x:auto;line-height:normal;font-family:Menlo,'DejaVu Sans Mono',consolas,'Courier New',monospace\"><span style=\"color: #800000; text-decoration-color: #800000\">WARNING </span> <span style=\"color: #008000; text-decoration-color: #008000\">'name'</span> should be set on <span style=\"color: #008000; text-decoration-color: #008000\">'&lt;Model basic_example_1&gt;'</span>                     <a href=\"file:///home/mkoenig/git/sbmlutils/src/sbmlutils/factory.py\"><span style=\"color: #7f7f7f; text-decoration-color: #7f7f7f\">factory.py</span></a><span style=\"color: #7f7f7f; text-decoration-color: #7f7f7f\">:436</span>\n",
       "</pre>\n"
      ],
      "text/plain": [
       "\u001b[31mWARNING \u001b[0m \u001b[32m'name'\u001b[0m should be set on \u001b[32m'\u001b[0m\u001b[32m<\u001b[0m\u001b[32mModel\u001b[0m\u001b[32m basic_example_1\u001b[0m\u001b[32m>\u001b[0m\u001b[32m'\u001b[0m                     \u001b]8;id=51057;file:///home/mkoenig/git/sbmlutils/src/sbmlutils/factory.py\u001b\\\u001b[2mfactory.py\u001b[0m\u001b]8;;\u001b\\\u001b[2m:436\u001b[0m\n"
      ]
     },
     "metadata": {},
     "output_type": "display_data"
    },
    {
     "data": {
      "text/html": [
       "<pre style=\"white-space:pre;overflow-x:auto;line-height:normal;font-family:Menlo,'DejaVu Sans Mono',consolas,'Courier New',monospace\"><span style=\"color: #800000; text-decoration-color: #800000\">WARNING </span> <span style=\"color: #008000; text-decoration-color: #008000\">'name'</span> should be set on <span style=\"color: #008000; text-decoration-color: #008000\">'&lt;Compartment C&gt;'</span>                             <a href=\"file:///home/mkoenig/git/sbmlutils/src/sbmlutils/factory.py\"><span style=\"color: #7f7f7f; text-decoration-color: #7f7f7f\">factory.py</span></a><span style=\"color: #7f7f7f; text-decoration-color: #7f7f7f\">:436</span>\n",
       "</pre>\n"
      ],
      "text/plain": [
       "\u001b[31mWARNING \u001b[0m \u001b[32m'name'\u001b[0m should be set on \u001b[32m'\u001b[0m\u001b[32m<\u001b[0m\u001b[32mCompartment\u001b[0m\u001b[32m C\u001b[0m\u001b[32m>\u001b[0m\u001b[32m'\u001b[0m                             \u001b]8;id=533663;file:///home/mkoenig/git/sbmlutils/src/sbmlutils/factory.py\u001b\\\u001b[2mfactory.py\u001b[0m\u001b]8;;\u001b\\\u001b[2m:436\u001b[0m\n"
      ]
     },
     "metadata": {},
     "output_type": "display_data"
    },
    {
     "data": {
      "text/html": [
       "<pre style=\"white-space:pre;overflow-x:auto;line-height:normal;font-family:Menlo,'DejaVu Sans Mono',consolas,'Courier New',monospace\"><span style=\"color: #800000; text-decoration-color: #800000\">WARNING </span> <span style=\"color: #008000; text-decoration-color: #008000\">'sboTerm'</span> should be set on <span style=\"color: #008000; text-decoration-color: #008000\">'&lt;Compartment C&gt;'</span>                          <a href=\"file:///home/mkoenig/git/sbmlutils/src/sbmlutils/factory.py\"><span style=\"color: #7f7f7f; text-decoration-color: #7f7f7f\">factory.py</span></a><span style=\"color: #7f7f7f; text-decoration-color: #7f7f7f\">:461</span>\n",
       "</pre>\n"
      ],
      "text/plain": [
       "\u001b[31mWARNING \u001b[0m \u001b[32m'sboTerm'\u001b[0m should be set on \u001b[32m'\u001b[0m\u001b[32m<\u001b[0m\u001b[32mCompartment\u001b[0m\u001b[32m C\u001b[0m\u001b[32m>\u001b[0m\u001b[32m'\u001b[0m                          \u001b]8;id=836633;file:///home/mkoenig/git/sbmlutils/src/sbmlutils/factory.py\u001b\\\u001b[2mfactory.py\u001b[0m\u001b]8;;\u001b\\\u001b[2m:461\u001b[0m\n"
      ]
     },
     "metadata": {},
     "output_type": "display_data"
    },
    {
     "data": {
      "text/html": [
       "<pre style=\"white-space:pre;overflow-x:auto;line-height:normal;font-family:Menlo,'DejaVu Sans Mono',consolas,'Courier New',monospace\"><span style=\"color: #800000; text-decoration-color: #800000\">WARNING </span> <span style=\"color: #008000; text-decoration-color: #008000\">'name'</span> should be set on <span style=\"color: #008000; text-decoration-color: #008000\">'&lt;Species s1&gt;'</span>                                <a href=\"file:///home/mkoenig/git/sbmlutils/src/sbmlutils/factory.py\"><span style=\"color: #7f7f7f; text-decoration-color: #7f7f7f\">factory.py</span></a><span style=\"color: #7f7f7f; text-decoration-color: #7f7f7f\">:436</span>\n",
       "</pre>\n"
      ],
      "text/plain": [
       "\u001b[31mWARNING \u001b[0m \u001b[32m'name'\u001b[0m should be set on \u001b[32m'\u001b[0m\u001b[32m<\u001b[0m\u001b[32mSpecies\u001b[0m\u001b[32m s1\u001b[0m\u001b[32m>\u001b[0m\u001b[32m'\u001b[0m                                \u001b]8;id=177544;file:///home/mkoenig/git/sbmlutils/src/sbmlutils/factory.py\u001b\\\u001b[2mfactory.py\u001b[0m\u001b]8;;\u001b\\\u001b[2m:436\u001b[0m\n"
      ]
     },
     "metadata": {},
     "output_type": "display_data"
    },
    {
     "data": {
      "text/html": [
       "<pre style=\"white-space:pre;overflow-x:auto;line-height:normal;font-family:Menlo,'DejaVu Sans Mono',consolas,'Courier New',monospace\"><span style=\"color: #800000; text-decoration-color: #800000\">WARNING </span> <span style=\"color: #008000; text-decoration-color: #008000\">'sboTerm'</span> should be set on <span style=\"color: #008000; text-decoration-color: #008000\">'&lt;Species s1&gt;'</span>                             <a href=\"file:///home/mkoenig/git/sbmlutils/src/sbmlutils/factory.py\"><span style=\"color: #7f7f7f; text-decoration-color: #7f7f7f\">factory.py</span></a><span style=\"color: #7f7f7f; text-decoration-color: #7f7f7f\">:461</span>\n",
       "</pre>\n"
      ],
      "text/plain": [
       "\u001b[31mWARNING \u001b[0m \u001b[32m'sboTerm'\u001b[0m should be set on \u001b[32m'\u001b[0m\u001b[32m<\u001b[0m\u001b[32mSpecies\u001b[0m\u001b[32m s1\u001b[0m\u001b[32m>\u001b[0m\u001b[32m'\u001b[0m                             \u001b]8;id=471366;file:///home/mkoenig/git/sbmlutils/src/sbmlutils/factory.py\u001b\\\u001b[2mfactory.py\u001b[0m\u001b]8;;\u001b\\\u001b[2m:461\u001b[0m\n"
      ]
     },
     "metadata": {},
     "output_type": "display_data"
    },
    {
     "data": {
      "text/html": [
       "<pre style=\"white-space:pre;overflow-x:auto;line-height:normal;font-family:Menlo,'DejaVu Sans Mono',consolas,'Courier New',monospace\"><span style=\"color: #800000; text-decoration-color: #800000\">WARNING </span> <span style=\"color: #008000; text-decoration-color: #008000\">'name'</span> should be set on <span style=\"color: #008000; text-decoration-color: #008000\">'&lt;Uncertainty&gt;'</span>                               <a href=\"file:///home/mkoenig/git/sbmlutils/src/sbmlutils/factory.py\"><span style=\"color: #7f7f7f; text-decoration-color: #7f7f7f\">factory.py</span></a><span style=\"color: #7f7f7f; text-decoration-color: #7f7f7f\">:436</span>\n",
       "</pre>\n"
      ],
      "text/plain": [
       "\u001b[31mWARNING \u001b[0m \u001b[32m'name'\u001b[0m should be set on \u001b[32m'\u001b[0m\u001b[32m<\u001b[0m\u001b[32mUncertainty\u001b[0m\u001b[32m>\u001b[0m\u001b[32m'\u001b[0m                               \u001b]8;id=204209;file:///home/mkoenig/git/sbmlutils/src/sbmlutils/factory.py\u001b\\\u001b[2mfactory.py\u001b[0m\u001b]8;;\u001b\\\u001b[2m:436\u001b[0m\n"
      ]
     },
     "metadata": {},
     "output_type": "display_data"
    },
    {
     "data": {
      "text/html": [
       "<pre style=\"white-space:pre;overflow-x:auto;line-height:normal;font-family:Menlo,'DejaVu Sans Mono',consolas,'Courier New',monospace\"><span style=\"color: #800000; text-decoration-color: #800000\">WARNING </span> <span style=\"color: #008000; text-decoration-color: #008000\">'sboTerm'</span> should be set on <span style=\"color: #008000; text-decoration-color: #008000\">'&lt;Uncertainty&gt;'</span>                            <a href=\"file:///home/mkoenig/git/sbmlutils/src/sbmlutils/factory.py\"><span style=\"color: #7f7f7f; text-decoration-color: #7f7f7f\">factory.py</span></a><span style=\"color: #7f7f7f; text-decoration-color: #7f7f7f\">:461</span>\n",
       "</pre>\n"
      ],
      "text/plain": [
       "\u001b[31mWARNING \u001b[0m \u001b[32m'sboTerm'\u001b[0m should be set on \u001b[32m'\u001b[0m\u001b[32m<\u001b[0m\u001b[32mUncertainty\u001b[0m\u001b[32m>\u001b[0m\u001b[32m'\u001b[0m                            \u001b]8;id=457493;file:///home/mkoenig/git/sbmlutils/src/sbmlutils/factory.py\u001b\\\u001b[2mfactory.py\u001b[0m\u001b]8;;\u001b\\\u001b[2m:461\u001b[0m\n"
      ]
     },
     "metadata": {},
     "output_type": "display_data"
    },
    {
     "data": {
      "text/html": [
       "<style type=\"text/css\">pre { line-height: 125%; }\n",
       "td.linenos .normal { color: inherit; background-color: transparent; padding-left: 5px; padding-right: 5px; }\n",
       "span.linenos { color: inherit; background-color: transparent; padding-left: 5px; padding-right: 5px; }\n",
       "td.linenos .special { color: #000000; background-color: #ffffc0; padding-left: 5px; padding-right: 5px; }\n",
       "span.linenos.special { color: #000000; background-color: #ffffc0; padding-left: 5px; padding-right: 5px; }\n",
       ".highlight .hll { background-color: #ffffcc }\n",
       ".highlight { background: #f8f8f8; }\n",
       ".highlight .c { color: #408080; font-style: italic } /* Comment */\n",
       ".highlight .err { border: 1px solid #FF0000 } /* Error */\n",
       ".highlight .k { color: #008000; font-weight: bold } /* Keyword */\n",
       ".highlight .o { color: #666666 } /* Operator */\n",
       ".highlight .ch { color: #408080; font-style: italic } /* Comment.Hashbang */\n",
       ".highlight .cm { color: #408080; font-style: italic } /* Comment.Multiline */\n",
       ".highlight .cp { color: #BC7A00 } /* Comment.Preproc */\n",
       ".highlight .cpf { color: #408080; font-style: italic } /* Comment.PreprocFile */\n",
       ".highlight .c1 { color: #408080; font-style: italic } /* Comment.Single */\n",
       ".highlight .cs { color: #408080; font-style: italic } /* Comment.Special */\n",
       ".highlight .gd { color: #A00000 } /* Generic.Deleted */\n",
       ".highlight .ge { font-style: italic } /* Generic.Emph */\n",
       ".highlight .gr { color: #FF0000 } /* Generic.Error */\n",
       ".highlight .gh { color: #000080; font-weight: bold } /* Generic.Heading */\n",
       ".highlight .gi { color: #00A000 } /* Generic.Inserted */\n",
       ".highlight .go { color: #888888 } /* Generic.Output */\n",
       ".highlight .gp { color: #000080; font-weight: bold } /* Generic.Prompt */\n",
       ".highlight .gs { font-weight: bold } /* Generic.Strong */\n",
       ".highlight .gu { color: #800080; font-weight: bold } /* Generic.Subheading */\n",
       ".highlight .gt { color: #0044DD } /* Generic.Traceback */\n",
       ".highlight .kc { color: #008000; font-weight: bold } /* Keyword.Constant */\n",
       ".highlight .kd { color: #008000; font-weight: bold } /* Keyword.Declaration */\n",
       ".highlight .kn { color: #008000; font-weight: bold } /* Keyword.Namespace */\n",
       ".highlight .kp { color: #008000 } /* Keyword.Pseudo */\n",
       ".highlight .kr { color: #008000; font-weight: bold } /* Keyword.Reserved */\n",
       ".highlight .kt { color: #B00040 } /* Keyword.Type */\n",
       ".highlight .m { color: #666666 } /* Literal.Number */\n",
       ".highlight .s { color: #BA2121 } /* Literal.String */\n",
       ".highlight .na { color: #7D9029 } /* Name.Attribute */\n",
       ".highlight .nb { color: #008000 } /* Name.Builtin */\n",
       ".highlight .nc { color: #0000FF; font-weight: bold } /* Name.Class */\n",
       ".highlight .no { color: #880000 } /* Name.Constant */\n",
       ".highlight .nd { color: #AA22FF } /* Name.Decorator */\n",
       ".highlight .ni { color: #999999; font-weight: bold } /* Name.Entity */\n",
       ".highlight .ne { color: #D2413A; font-weight: bold } /* Name.Exception */\n",
       ".highlight .nf { color: #0000FF } /* Name.Function */\n",
       ".highlight .nl { color: #A0A000 } /* Name.Label */\n",
       ".highlight .nn { color: #0000FF; font-weight: bold } /* Name.Namespace */\n",
       ".highlight .nt { color: #008000; font-weight: bold } /* Name.Tag */\n",
       ".highlight .nv { color: #19177C } /* Name.Variable */\n",
       ".highlight .ow { color: #AA22FF; font-weight: bold } /* Operator.Word */\n",
       ".highlight .w { color: #bbbbbb } /* Text.Whitespace */\n",
       ".highlight .mb { color: #666666 } /* Literal.Number.Bin */\n",
       ".highlight .mf { color: #666666 } /* Literal.Number.Float */\n",
       ".highlight .mh { color: #666666 } /* Literal.Number.Hex */\n",
       ".highlight .mi { color: #666666 } /* Literal.Number.Integer */\n",
       ".highlight .mo { color: #666666 } /* Literal.Number.Oct */\n",
       ".highlight .sa { color: #BA2121 } /* Literal.String.Affix */\n",
       ".highlight .sb { color: #BA2121 } /* Literal.String.Backtick */\n",
       ".highlight .sc { color: #BA2121 } /* Literal.String.Char */\n",
       ".highlight .dl { color: #BA2121 } /* Literal.String.Delimiter */\n",
       ".highlight .sd { color: #BA2121; font-style: italic } /* Literal.String.Doc */\n",
       ".highlight .s2 { color: #BA2121 } /* Literal.String.Double */\n",
       ".highlight .se { color: #BB6622; font-weight: bold } /* Literal.String.Escape */\n",
       ".highlight .sh { color: #BA2121 } /* Literal.String.Heredoc */\n",
       ".highlight .si { color: #BB6688; font-weight: bold } /* Literal.String.Interpol */\n",
       ".highlight .sx { color: #008000 } /* Literal.String.Other */\n",
       ".highlight .sr { color: #BB6688 } /* Literal.String.Regex */\n",
       ".highlight .s1 { color: #BA2121 } /* Literal.String.Single */\n",
       ".highlight .ss { color: #19177C } /* Literal.String.Symbol */\n",
       ".highlight .bp { color: #008000 } /* Name.Builtin.Pseudo */\n",
       ".highlight .fm { color: #0000FF } /* Name.Function.Magic */\n",
       ".highlight .vc { color: #19177C } /* Name.Variable.Class */\n",
       ".highlight .vg { color: #19177C } /* Name.Variable.Global */\n",
       ".highlight .vi { color: #19177C } /* Name.Variable.Instance */\n",
       ".highlight .vm { color: #19177C } /* Name.Variable.Magic */\n",
       ".highlight .il { color: #666666 } /* Literal.Number.Integer.Long */</style>    <div class=\"highlight\"><pre><span></span><span class=\"cp\">&lt;?xml version=&quot;1.0&quot; encoding=&quot;UTF-8&quot;?&gt;</span>\n",
       "<span class=\"nt\">&lt;sbml</span> <span class=\"na\">xmlns=</span><span class=\"s\">&quot;http://www.sbml.org/sbml/level3/version1/core&quot;</span> <span class=\"na\">xmlns:comp=</span><span class=\"s\">&quot;http://www.sbml.org/sbml/level3/version1/comp/version1&quot;</span> <span class=\"na\">xmlns:distrib=</span><span class=\"s\">&quot;http://www.sbml.org/sbml/level3/version1/distrib/version1&quot;</span> <span class=\"na\">level=</span><span class=\"s\">&quot;3&quot;</span> <span class=\"na\">version=</span><span class=\"s\">&quot;1&quot;</span> <span class=\"na\">comp:required=</span><span class=\"s\">&quot;true&quot;</span> <span class=\"na\">distrib:required=</span><span class=\"s\">&quot;true&quot;</span><span class=\"nt\">&gt;</span>\n",
       "  <span class=\"nt\">&lt;notes&gt;</span>\n",
       "    <span class=\"nt\">&lt;body</span> <span class=\"na\">xmlns=</span><span class=\"s\">&quot;http://www.w3.org/1999/xhtml&quot;</span><span class=\"nt\">&gt;</span>\n",
       "      <span class=\"nt\">&lt;p&gt;</span>Created with <span class=\"nt\">&lt;a</span> <span class=\"na\">href=</span><span class=\"s\">&quot;https://github.com/matthiaskoenig/sbmlutils&quot;</span><span class=\"nt\">&gt;</span>https://github.com/matthiaskoenig/sbmlutils<span class=\"nt\">&lt;/a&gt;</span>.\n",
       "<span class=\"nt\">&lt;a</span> <span class=\"na\">href=</span><span class=\"s\">&quot;https://doi.org/10.5281/zenodo.5525390&quot;</span><span class=\"nt\">&gt;</span>\n",
       "        <span class=\"nt\">&lt;img</span> <span class=\"na\">src=</span><span class=\"s\">&quot;https://zenodo.org/badge/DOI/10.5281/zenodo.5525390.svg&quot;</span> <span class=\"na\">alt=</span><span class=\"s\">&quot;DOI&quot;</span><span class=\"nt\">/&gt;&lt;/a&gt;&lt;/p&gt;</span>\n",
       "      <span class=\"nt\">&lt;/body&gt;</span>\n",
       "    <span class=\"nt\">&lt;/notes&gt;</span>\n",
       "  <span class=\"nt\">&lt;model</span> <span class=\"na\">id=</span><span class=\"s\">&quot;basic_example_1&quot;</span><span class=\"nt\">&gt;</span>\n",
       "    <span class=\"nt\">&lt;listOfCompartments&gt;</span>\n",
       "      <span class=\"nt\">&lt;compartment</span> <span class=\"na\">id=</span><span class=\"s\">&quot;C&quot;</span> <span class=\"na\">spatialDimensions=</span><span class=\"s\">&quot;3&quot;</span> <span class=\"na\">size=</span><span class=\"s\">&quot;1&quot;</span> <span class=\"na\">constant=</span><span class=\"s\">&quot;true&quot;</span><span class=\"nt\">/&gt;</span>\n",
       "    <span class=\"nt\">&lt;/listOfCompartments&gt;</span>\n",
       "    <span class=\"nt\">&lt;listOfSpecies&gt;</span>\n",
       "      <span class=\"nt\">&lt;species</span> <span class=\"na\">id=</span><span class=\"s\">&quot;s1&quot;</span> <span class=\"na\">compartment=</span><span class=\"s\">&quot;C&quot;</span> <span class=\"na\">initialAmount=</span><span class=\"s\">&quot;3.22&quot;</span> <span class=\"na\">hasOnlySubstanceUnits=</span><span class=\"s\">&quot;false&quot;</span> <span class=\"na\">boundaryCondition=</span><span class=\"s\">&quot;false&quot;</span> <span class=\"na\">constant=</span><span class=\"s\">&quot;false&quot;</span><span class=\"nt\">&gt;</span>\n",
       "        <span class=\"nt\">&lt;distrib:listOfUncertainties&gt;</span>\n",
       "          <span class=\"nt\">&lt;distrib:uncertainty&gt;</span>\n",
       "            <span class=\"nt\">&lt;distrib:uncertParameter</span> <span class=\"na\">distrib:value=</span><span class=\"s\">&quot;0.3&quot;</span> <span class=\"na\">distrib:type=</span><span class=\"s\">&quot;standardDeviation&quot;</span><span class=\"nt\">/&gt;</span>\n",
       "          <span class=\"nt\">&lt;/distrib:uncertainty&gt;</span>\n",
       "        <span class=\"nt\">&lt;/distrib:listOfUncertainties&gt;</span>\n",
       "      <span class=\"nt\">&lt;/species&gt;</span>\n",
       "    <span class=\"nt\">&lt;/listOfSpecies&gt;</span>\n",
       "  <span class=\"nt\">&lt;/model&gt;</span>\n",
       "<span class=\"nt\">&lt;/sbml&gt;</span>\n",
       "</pre></div>\n"
      ]
     },
     "metadata": {},
     "output_type": "display_data"
    },
    {
     "data": {
      "text/html": [
       "<pre style=\"white-space:pre;overflow-x:auto;line-height:normal;font-family:Menlo,'DejaVu Sans Mono',consolas,'Courier New',monospace\">\n",
       "</pre>\n"
      ],
      "text/plain": [
       "\n"
      ]
     },
     "metadata": {},
     "output_type": "display_data"
    },
    {
     "data": {
      "text/html": [
       "<pre style=\"white-space:pre;overflow-x:auto;line-height:normal;font-family:Menlo,'DejaVu Sans Mono',consolas,'Courier New',monospace\"><span style=\"color: #008000; text-decoration-color: #008000\">─────────────────────────────────────── </span>Validate SBML<span style=\"color: #008000; text-decoration-color: #008000\"> ───────────────────────────────────────</span>\n",
       "</pre>\n"
      ],
      "text/plain": [
       "\u001b[32m─────────────────────────────────────── \u001b[0mValidate SBML\u001b[32m ───────────────────────────────────────\u001b[0m\n"
      ]
     },
     "metadata": {},
     "output_type": "display_data"
    },
    {
     "data": {
      "text/html": [
       "<pre style=\"white-space:pre;overflow-x:auto;line-height:normal;font-family:Menlo,'DejaVu Sans Mono',consolas,'Courier New',monospace\"><span style=\"color: #008000; text-decoration-color: #008000; font-weight: bold\">&lt;</span><span style=\"color: #ff00ff; text-decoration-color: #ff00ff; font-weight: bold\">SBMLDocument</span><span style=\"color: #008000; text-decoration-color: #008000; font-weight: bold\">&gt;</span>\n",
       "<span style=\"color: #008000; text-decoration-color: #008000\">valid                    : TRUE</span>\n",
       "<span style=\"color: #008000; text-decoration-color: #008000\">check time </span><span style=\"color: #008000; text-decoration-color: #008000; font-weight: bold\">(</span><span style=\"color: #008000; text-decoration-color: #008000\">s</span><span style=\"color: #008000; text-decoration-color: #008000; font-weight: bold\">)</span><span style=\"color: #008000; text-decoration-color: #008000\">           : </span><span style=\"color: #008080; text-decoration-color: #008080; font-weight: bold\">0.002</span>\n",
       "</pre>\n"
      ],
      "text/plain": [
       "\u001b[1;32m<\u001b[0m\u001b[1;95mSBMLDocument\u001b[0m\u001b[1;32m>\u001b[0m\n",
       "\u001b[32mvalid                    : TRUE\u001b[0m\n",
       "\u001b[32mcheck time \u001b[0m\u001b[1;32m(\u001b[0m\u001b[32ms\u001b[0m\u001b[1;32m)\u001b[0m\u001b[32m           : \u001b[0m\u001b[1;36m0.002\u001b[0m\n"
      ]
     },
     "metadata": {},
     "output_type": "display_data"
    },
    {
     "data": {
      "text/html": [
       "<pre style=\"white-space:pre;overflow-x:auto;line-height:normal;font-family:Menlo,'DejaVu Sans Mono',consolas,'Courier New',monospace\"><span style=\"color: #008000; text-decoration-color: #008000\">─────────────────────────────────────────────────────────────────────────────────────────────</span>\n",
       "</pre>\n"
      ],
      "text/plain": [
       "\u001b[32m─────────────────────────────────────────────────────────────────────────────────────────────\u001b[0m\n"
      ]
     },
     "metadata": {},
     "output_type": "display_data"
    },
    {
     "data": {
      "text/html": [
       "<pre style=\"white-space:pre;overflow-x:auto;line-height:normal;font-family:Menlo,'DejaVu Sans Mono',consolas,'Courier New',monospace\">\n",
       "</pre>\n"
      ],
      "text/plain": [
       "\n"
      ]
     },
     "metadata": {},
     "output_type": "display_data"
    }
   ],
   "source": [
    "import libsbml\n",
    "md: ModelDict = {\n",
    "    'sid': 'basic_example_1',\n",
    "    'packages': ['distrib'],\n",
    "    'compartments': [\n",
    "        Compartment(\"C\", value=1.0)\n",
    "    ],\n",
    "    'species': [\n",
    "        Species(sid=\"s1\", compartment=\"C\", initialAmount=3.22, \n",
    "                uncertainties=[\n",
    "                  Uncertainty(uncertParameters=[\n",
    "                      UncertParameter(type=libsbml.DISTRIB_UNCERTTYPE_STANDARDDEVIATION, value=0.3)\n",
    "                  ])\n",
    "                ])\n",
    "    ],\n",
    "}\n",
    "\n",
    "# create model and print SBML\n",
    "doc = Document(Model(**md))\n",
    "print_xml(doc.get_sbml())\n",
    "\n",
    "# validate model\n",
    "validate_doc(doc.doc, units_consistency=False);"
   ]
  },
  {
   "cell_type": "markdown",
   "metadata": {},
   "source": [
    "It is also possible to include additional information about the species, should more be known. In this example, the initial amount of `3.22` is noted as having a mean of `3.2`, a standard deviation of `0.3`, and a variance\n",
    "of `0.09`."
   ]
  },
  {
   "cell_type": "code",
   "execution_count": 9,
   "metadata": {},
   "outputs": [
    {
     "data": {
      "text/html": [
       "<pre style=\"white-space:pre;overflow-x:auto;line-height:normal;font-family:Menlo,'DejaVu Sans Mono',consolas,'Courier New',monospace\"><span style=\"color: #000080; text-decoration-color: #000080\">INFO    </span> Create SBML for model <span style=\"color: #008000; text-decoration-color: #008000\">'basic_example_2'</span>                              <a href=\"file:///home/mkoenig/git/sbmlutils/src/sbmlutils/factory.py\"><span style=\"color: #7f7f7f; text-decoration-color: #7f7f7f\">factory.py</span></a><span style=\"color: #7f7f7f; text-decoration-color: #7f7f7f\">:2896</span>\n",
       "</pre>\n"
      ],
      "text/plain": [
       "\u001b[34mINFO    \u001b[0m Create SBML for model \u001b[32m'basic_example_2'\u001b[0m                              \u001b]8;id=371262;file:///home/mkoenig/git/sbmlutils/src/sbmlutils/factory.py\u001b\\\u001b[2mfactory.py\u001b[0m\u001b]8;;\u001b\\\u001b[2m:2896\u001b[0m\n"
      ]
     },
     "metadata": {},
     "output_type": "display_data"
    },
    {
     "data": {
      "text/html": [
       "<pre style=\"white-space:pre;overflow-x:auto;line-height:normal;font-family:Menlo,'DejaVu Sans Mono',consolas,'Courier New',monospace\"><span style=\"color: #800000; text-decoration-color: #800000\">WARNING </span> <span style=\"color: #008000; text-decoration-color: #008000\">'name'</span> should be set on <span style=\"color: #008000; text-decoration-color: #008000\">'&lt;Model basic_example_2&gt;'</span>                     <a href=\"file:///home/mkoenig/git/sbmlutils/src/sbmlutils/factory.py\"><span style=\"color: #7f7f7f; text-decoration-color: #7f7f7f\">factory.py</span></a><span style=\"color: #7f7f7f; text-decoration-color: #7f7f7f\">:436</span>\n",
       "</pre>\n"
      ],
      "text/plain": [
       "\u001b[31mWARNING \u001b[0m \u001b[32m'name'\u001b[0m should be set on \u001b[32m'\u001b[0m\u001b[32m<\u001b[0m\u001b[32mModel\u001b[0m\u001b[32m basic_example_2\u001b[0m\u001b[32m>\u001b[0m\u001b[32m'\u001b[0m                     \u001b]8;id=251737;file:///home/mkoenig/git/sbmlutils/src/sbmlutils/factory.py\u001b\\\u001b[2mfactory.py\u001b[0m\u001b]8;;\u001b\\\u001b[2m:436\u001b[0m\n"
      ]
     },
     "metadata": {},
     "output_type": "display_data"
    },
    {
     "data": {
      "text/html": [
       "<pre style=\"white-space:pre;overflow-x:auto;line-height:normal;font-family:Menlo,'DejaVu Sans Mono',consolas,'Courier New',monospace\"><span style=\"color: #800000; text-decoration-color: #800000\">WARNING </span> <span style=\"color: #008000; text-decoration-color: #008000\">'name'</span> should be set on <span style=\"color: #008000; text-decoration-color: #008000\">'&lt;Compartment C&gt;'</span>                             <a href=\"file:///home/mkoenig/git/sbmlutils/src/sbmlutils/factory.py\"><span style=\"color: #7f7f7f; text-decoration-color: #7f7f7f\">factory.py</span></a><span style=\"color: #7f7f7f; text-decoration-color: #7f7f7f\">:436</span>\n",
       "</pre>\n"
      ],
      "text/plain": [
       "\u001b[31mWARNING \u001b[0m \u001b[32m'name'\u001b[0m should be set on \u001b[32m'\u001b[0m\u001b[32m<\u001b[0m\u001b[32mCompartment\u001b[0m\u001b[32m C\u001b[0m\u001b[32m>\u001b[0m\u001b[32m'\u001b[0m                             \u001b]8;id=858488;file:///home/mkoenig/git/sbmlutils/src/sbmlutils/factory.py\u001b\\\u001b[2mfactory.py\u001b[0m\u001b]8;;\u001b\\\u001b[2m:436\u001b[0m\n"
      ]
     },
     "metadata": {},
     "output_type": "display_data"
    },
    {
     "data": {
      "text/html": [
       "<pre style=\"white-space:pre;overflow-x:auto;line-height:normal;font-family:Menlo,'DejaVu Sans Mono',consolas,'Courier New',monospace\"><span style=\"color: #800000; text-decoration-color: #800000\">WARNING </span> <span style=\"color: #008000; text-decoration-color: #008000\">'sboTerm'</span> should be set on <span style=\"color: #008000; text-decoration-color: #008000\">'&lt;Compartment C&gt;'</span>                          <a href=\"file:///home/mkoenig/git/sbmlutils/src/sbmlutils/factory.py\"><span style=\"color: #7f7f7f; text-decoration-color: #7f7f7f\">factory.py</span></a><span style=\"color: #7f7f7f; text-decoration-color: #7f7f7f\">:461</span>\n",
       "</pre>\n"
      ],
      "text/plain": [
       "\u001b[31mWARNING \u001b[0m \u001b[32m'sboTerm'\u001b[0m should be set on \u001b[32m'\u001b[0m\u001b[32m<\u001b[0m\u001b[32mCompartment\u001b[0m\u001b[32m C\u001b[0m\u001b[32m>\u001b[0m\u001b[32m'\u001b[0m                          \u001b]8;id=571417;file:///home/mkoenig/git/sbmlutils/src/sbmlutils/factory.py\u001b\\\u001b[2mfactory.py\u001b[0m\u001b]8;;\u001b\\\u001b[2m:461\u001b[0m\n"
      ]
     },
     "metadata": {},
     "output_type": "display_data"
    },
    {
     "data": {
      "text/html": [
       "<pre style=\"white-space:pre;overflow-x:auto;line-height:normal;font-family:Menlo,'DejaVu Sans Mono',consolas,'Courier New',monospace\"><span style=\"color: #800000; text-decoration-color: #800000\">WARNING </span> <span style=\"color: #008000; text-decoration-color: #008000\">'name'</span> should be set on <span style=\"color: #008000; text-decoration-color: #008000\">'&lt;Species s1&gt;'</span>                                <a href=\"file:///home/mkoenig/git/sbmlutils/src/sbmlutils/factory.py\"><span style=\"color: #7f7f7f; text-decoration-color: #7f7f7f\">factory.py</span></a><span style=\"color: #7f7f7f; text-decoration-color: #7f7f7f\">:436</span>\n",
       "</pre>\n"
      ],
      "text/plain": [
       "\u001b[31mWARNING \u001b[0m \u001b[32m'name'\u001b[0m should be set on \u001b[32m'\u001b[0m\u001b[32m<\u001b[0m\u001b[32mSpecies\u001b[0m\u001b[32m s1\u001b[0m\u001b[32m>\u001b[0m\u001b[32m'\u001b[0m                                \u001b]8;id=660218;file:///home/mkoenig/git/sbmlutils/src/sbmlutils/factory.py\u001b\\\u001b[2mfactory.py\u001b[0m\u001b]8;;\u001b\\\u001b[2m:436\u001b[0m\n"
      ]
     },
     "metadata": {},
     "output_type": "display_data"
    },
    {
     "data": {
      "text/html": [
       "<pre style=\"white-space:pre;overflow-x:auto;line-height:normal;font-family:Menlo,'DejaVu Sans Mono',consolas,'Courier New',monospace\"><span style=\"color: #800000; text-decoration-color: #800000\">WARNING </span> <span style=\"color: #008000; text-decoration-color: #008000\">'sboTerm'</span> should be set on <span style=\"color: #008000; text-decoration-color: #008000\">'&lt;Species s1&gt;'</span>                             <a href=\"file:///home/mkoenig/git/sbmlutils/src/sbmlutils/factory.py\"><span style=\"color: #7f7f7f; text-decoration-color: #7f7f7f\">factory.py</span></a><span style=\"color: #7f7f7f; text-decoration-color: #7f7f7f\">:461</span>\n",
       "</pre>\n"
      ],
      "text/plain": [
       "\u001b[31mWARNING \u001b[0m \u001b[32m'sboTerm'\u001b[0m should be set on \u001b[32m'\u001b[0m\u001b[32m<\u001b[0m\u001b[32mSpecies\u001b[0m\u001b[32m s1\u001b[0m\u001b[32m>\u001b[0m\u001b[32m'\u001b[0m                             \u001b]8;id=68035;file:///home/mkoenig/git/sbmlutils/src/sbmlutils/factory.py\u001b\\\u001b[2mfactory.py\u001b[0m\u001b]8;;\u001b\\\u001b[2m:461\u001b[0m\n"
      ]
     },
     "metadata": {},
     "output_type": "display_data"
    },
    {
     "data": {
      "text/html": [
       "<pre style=\"white-space:pre;overflow-x:auto;line-height:normal;font-family:Menlo,'DejaVu Sans Mono',consolas,'Courier New',monospace\"><span style=\"color: #800000; text-decoration-color: #800000\">WARNING </span> <span style=\"color: #008000; text-decoration-color: #008000\">'name'</span> should be set on <span style=\"color: #008000; text-decoration-color: #008000\">'&lt;Uncertainty&gt;'</span>                               <a href=\"file:///home/mkoenig/git/sbmlutils/src/sbmlutils/factory.py\"><span style=\"color: #7f7f7f; text-decoration-color: #7f7f7f\">factory.py</span></a><span style=\"color: #7f7f7f; text-decoration-color: #7f7f7f\">:436</span>\n",
       "</pre>\n"
      ],
      "text/plain": [
       "\u001b[31mWARNING \u001b[0m \u001b[32m'name'\u001b[0m should be set on \u001b[32m'\u001b[0m\u001b[32m<\u001b[0m\u001b[32mUncertainty\u001b[0m\u001b[32m>\u001b[0m\u001b[32m'\u001b[0m                               \u001b]8;id=519576;file:///home/mkoenig/git/sbmlutils/src/sbmlutils/factory.py\u001b\\\u001b[2mfactory.py\u001b[0m\u001b]8;;\u001b\\\u001b[2m:436\u001b[0m\n"
      ]
     },
     "metadata": {},
     "output_type": "display_data"
    },
    {
     "data": {
      "text/html": [
       "<pre style=\"white-space:pre;overflow-x:auto;line-height:normal;font-family:Menlo,'DejaVu Sans Mono',consolas,'Courier New',monospace\"><span style=\"color: #800000; text-decoration-color: #800000\">WARNING </span> <span style=\"color: #008000; text-decoration-color: #008000\">'sboTerm'</span> should be set on <span style=\"color: #008000; text-decoration-color: #008000\">'&lt;Uncertainty&gt;'</span>                            <a href=\"file:///home/mkoenig/git/sbmlutils/src/sbmlutils/factory.py\"><span style=\"color: #7f7f7f; text-decoration-color: #7f7f7f\">factory.py</span></a><span style=\"color: #7f7f7f; text-decoration-color: #7f7f7f\">:461</span>\n",
       "</pre>\n"
      ],
      "text/plain": [
       "\u001b[31mWARNING \u001b[0m \u001b[32m'sboTerm'\u001b[0m should be set on \u001b[32m'\u001b[0m\u001b[32m<\u001b[0m\u001b[32mUncertainty\u001b[0m\u001b[32m>\u001b[0m\u001b[32m'\u001b[0m                            \u001b]8;id=144222;file:///home/mkoenig/git/sbmlutils/src/sbmlutils/factory.py\u001b\\\u001b[2mfactory.py\u001b[0m\u001b]8;;\u001b\\\u001b[2m:461\u001b[0m\n"
      ]
     },
     "metadata": {},
     "output_type": "display_data"
    },
    {
     "data": {
      "text/html": [
       "<style type=\"text/css\">pre { line-height: 125%; }\n",
       "td.linenos .normal { color: inherit; background-color: transparent; padding-left: 5px; padding-right: 5px; }\n",
       "span.linenos { color: inherit; background-color: transparent; padding-left: 5px; padding-right: 5px; }\n",
       "td.linenos .special { color: #000000; background-color: #ffffc0; padding-left: 5px; padding-right: 5px; }\n",
       "span.linenos.special { color: #000000; background-color: #ffffc0; padding-left: 5px; padding-right: 5px; }\n",
       ".highlight .hll { background-color: #ffffcc }\n",
       ".highlight { background: #f8f8f8; }\n",
       ".highlight .c { color: #408080; font-style: italic } /* Comment */\n",
       ".highlight .err { border: 1px solid #FF0000 } /* Error */\n",
       ".highlight .k { color: #008000; font-weight: bold } /* Keyword */\n",
       ".highlight .o { color: #666666 } /* Operator */\n",
       ".highlight .ch { color: #408080; font-style: italic } /* Comment.Hashbang */\n",
       ".highlight .cm { color: #408080; font-style: italic } /* Comment.Multiline */\n",
       ".highlight .cp { color: #BC7A00 } /* Comment.Preproc */\n",
       ".highlight .cpf { color: #408080; font-style: italic } /* Comment.PreprocFile */\n",
       ".highlight .c1 { color: #408080; font-style: italic } /* Comment.Single */\n",
       ".highlight .cs { color: #408080; font-style: italic } /* Comment.Special */\n",
       ".highlight .gd { color: #A00000 } /* Generic.Deleted */\n",
       ".highlight .ge { font-style: italic } /* Generic.Emph */\n",
       ".highlight .gr { color: #FF0000 } /* Generic.Error */\n",
       ".highlight .gh { color: #000080; font-weight: bold } /* Generic.Heading */\n",
       ".highlight .gi { color: #00A000 } /* Generic.Inserted */\n",
       ".highlight .go { color: #888888 } /* Generic.Output */\n",
       ".highlight .gp { color: #000080; font-weight: bold } /* Generic.Prompt */\n",
       ".highlight .gs { font-weight: bold } /* Generic.Strong */\n",
       ".highlight .gu { color: #800080; font-weight: bold } /* Generic.Subheading */\n",
       ".highlight .gt { color: #0044DD } /* Generic.Traceback */\n",
       ".highlight .kc { color: #008000; font-weight: bold } /* Keyword.Constant */\n",
       ".highlight .kd { color: #008000; font-weight: bold } /* Keyword.Declaration */\n",
       ".highlight .kn { color: #008000; font-weight: bold } /* Keyword.Namespace */\n",
       ".highlight .kp { color: #008000 } /* Keyword.Pseudo */\n",
       ".highlight .kr { color: #008000; font-weight: bold } /* Keyword.Reserved */\n",
       ".highlight .kt { color: #B00040 } /* Keyword.Type */\n",
       ".highlight .m { color: #666666 } /* Literal.Number */\n",
       ".highlight .s { color: #BA2121 } /* Literal.String */\n",
       ".highlight .na { color: #7D9029 } /* Name.Attribute */\n",
       ".highlight .nb { color: #008000 } /* Name.Builtin */\n",
       ".highlight .nc { color: #0000FF; font-weight: bold } /* Name.Class */\n",
       ".highlight .no { color: #880000 } /* Name.Constant */\n",
       ".highlight .nd { color: #AA22FF } /* Name.Decorator */\n",
       ".highlight .ni { color: #999999; font-weight: bold } /* Name.Entity */\n",
       ".highlight .ne { color: #D2413A; font-weight: bold } /* Name.Exception */\n",
       ".highlight .nf { color: #0000FF } /* Name.Function */\n",
       ".highlight .nl { color: #A0A000 } /* Name.Label */\n",
       ".highlight .nn { color: #0000FF; font-weight: bold } /* Name.Namespace */\n",
       ".highlight .nt { color: #008000; font-weight: bold } /* Name.Tag */\n",
       ".highlight .nv { color: #19177C } /* Name.Variable */\n",
       ".highlight .ow { color: #AA22FF; font-weight: bold } /* Operator.Word */\n",
       ".highlight .w { color: #bbbbbb } /* Text.Whitespace */\n",
       ".highlight .mb { color: #666666 } /* Literal.Number.Bin */\n",
       ".highlight .mf { color: #666666 } /* Literal.Number.Float */\n",
       ".highlight .mh { color: #666666 } /* Literal.Number.Hex */\n",
       ".highlight .mi { color: #666666 } /* Literal.Number.Integer */\n",
       ".highlight .mo { color: #666666 } /* Literal.Number.Oct */\n",
       ".highlight .sa { color: #BA2121 } /* Literal.String.Affix */\n",
       ".highlight .sb { color: #BA2121 } /* Literal.String.Backtick */\n",
       ".highlight .sc { color: #BA2121 } /* Literal.String.Char */\n",
       ".highlight .dl { color: #BA2121 } /* Literal.String.Delimiter */\n",
       ".highlight .sd { color: #BA2121; font-style: italic } /* Literal.String.Doc */\n",
       ".highlight .s2 { color: #BA2121 } /* Literal.String.Double */\n",
       ".highlight .se { color: #BB6622; font-weight: bold } /* Literal.String.Escape */\n",
       ".highlight .sh { color: #BA2121 } /* Literal.String.Heredoc */\n",
       ".highlight .si { color: #BB6688; font-weight: bold } /* Literal.String.Interpol */\n",
       ".highlight .sx { color: #008000 } /* Literal.String.Other */\n",
       ".highlight .sr { color: #BB6688 } /* Literal.String.Regex */\n",
       ".highlight .s1 { color: #BA2121 } /* Literal.String.Single */\n",
       ".highlight .ss { color: #19177C } /* Literal.String.Symbol */\n",
       ".highlight .bp { color: #008000 } /* Name.Builtin.Pseudo */\n",
       ".highlight .fm { color: #0000FF } /* Name.Function.Magic */\n",
       ".highlight .vc { color: #19177C } /* Name.Variable.Class */\n",
       ".highlight .vg { color: #19177C } /* Name.Variable.Global */\n",
       ".highlight .vi { color: #19177C } /* Name.Variable.Instance */\n",
       ".highlight .vm { color: #19177C } /* Name.Variable.Magic */\n",
       ".highlight .il { color: #666666 } /* Literal.Number.Integer.Long */</style>    <div class=\"highlight\"><pre><span></span><span class=\"cp\">&lt;?xml version=&quot;1.0&quot; encoding=&quot;UTF-8&quot;?&gt;</span>\n",
       "<span class=\"nt\">&lt;sbml</span> <span class=\"na\">xmlns=</span><span class=\"s\">&quot;http://www.sbml.org/sbml/level3/version1/core&quot;</span> <span class=\"na\">xmlns:comp=</span><span class=\"s\">&quot;http://www.sbml.org/sbml/level3/version1/comp/version1&quot;</span> <span class=\"na\">xmlns:distrib=</span><span class=\"s\">&quot;http://www.sbml.org/sbml/level3/version1/distrib/version1&quot;</span> <span class=\"na\">level=</span><span class=\"s\">&quot;3&quot;</span> <span class=\"na\">version=</span><span class=\"s\">&quot;1&quot;</span> <span class=\"na\">comp:required=</span><span class=\"s\">&quot;true&quot;</span> <span class=\"na\">distrib:required=</span><span class=\"s\">&quot;true&quot;</span><span class=\"nt\">&gt;</span>\n",
       "  <span class=\"nt\">&lt;notes&gt;</span>\n",
       "    <span class=\"nt\">&lt;body</span> <span class=\"na\">xmlns=</span><span class=\"s\">&quot;http://www.w3.org/1999/xhtml&quot;</span><span class=\"nt\">&gt;</span>\n",
       "      <span class=\"nt\">&lt;p&gt;</span>Created with <span class=\"nt\">&lt;a</span> <span class=\"na\">href=</span><span class=\"s\">&quot;https://github.com/matthiaskoenig/sbmlutils&quot;</span><span class=\"nt\">&gt;</span>https://github.com/matthiaskoenig/sbmlutils<span class=\"nt\">&lt;/a&gt;</span>.\n",
       "<span class=\"nt\">&lt;a</span> <span class=\"na\">href=</span><span class=\"s\">&quot;https://doi.org/10.5281/zenodo.5525390&quot;</span><span class=\"nt\">&gt;</span>\n",
       "        <span class=\"nt\">&lt;img</span> <span class=\"na\">src=</span><span class=\"s\">&quot;https://zenodo.org/badge/DOI/10.5281/zenodo.5525390.svg&quot;</span> <span class=\"na\">alt=</span><span class=\"s\">&quot;DOI&quot;</span><span class=\"nt\">/&gt;&lt;/a&gt;&lt;/p&gt;</span>\n",
       "      <span class=\"nt\">&lt;/body&gt;</span>\n",
       "    <span class=\"nt\">&lt;/notes&gt;</span>\n",
       "  <span class=\"nt\">&lt;model</span> <span class=\"na\">id=</span><span class=\"s\">&quot;basic_example_2&quot;</span><span class=\"nt\">&gt;</span>\n",
       "    <span class=\"nt\">&lt;listOfCompartments&gt;</span>\n",
       "      <span class=\"nt\">&lt;compartment</span> <span class=\"na\">id=</span><span class=\"s\">&quot;C&quot;</span> <span class=\"na\">spatialDimensions=</span><span class=\"s\">&quot;3&quot;</span> <span class=\"na\">size=</span><span class=\"s\">&quot;1&quot;</span> <span class=\"na\">constant=</span><span class=\"s\">&quot;true&quot;</span><span class=\"nt\">/&gt;</span>\n",
       "    <span class=\"nt\">&lt;/listOfCompartments&gt;</span>\n",
       "    <span class=\"nt\">&lt;listOfSpecies&gt;</span>\n",
       "      <span class=\"nt\">&lt;species</span> <span class=\"na\">id=</span><span class=\"s\">&quot;s1&quot;</span> <span class=\"na\">compartment=</span><span class=\"s\">&quot;C&quot;</span> <span class=\"na\">initialAmount=</span><span class=\"s\">&quot;3.22&quot;</span> <span class=\"na\">hasOnlySubstanceUnits=</span><span class=\"s\">&quot;false&quot;</span> <span class=\"na\">boundaryCondition=</span><span class=\"s\">&quot;false&quot;</span> <span class=\"na\">constant=</span><span class=\"s\">&quot;false&quot;</span><span class=\"nt\">&gt;</span>\n",
       "        <span class=\"nt\">&lt;distrib:listOfUncertainties&gt;</span>\n",
       "          <span class=\"nt\">&lt;distrib:uncertainty&gt;</span>\n",
       "            <span class=\"nt\">&lt;distrib:uncertParameter</span> <span class=\"na\">distrib:value=</span><span class=\"s\">&quot;3.2&quot;</span> <span class=\"na\">distrib:type=</span><span class=\"s\">&quot;mean&quot;</span><span class=\"nt\">/&gt;</span>\n",
       "            <span class=\"nt\">&lt;distrib:uncertParameter</span> <span class=\"na\">distrib:value=</span><span class=\"s\">&quot;0.3&quot;</span> <span class=\"na\">distrib:type=</span><span class=\"s\">&quot;standardDeviation&quot;</span><span class=\"nt\">/&gt;</span>\n",
       "            <span class=\"nt\">&lt;distrib:uncertParameter</span> <span class=\"na\">distrib:value=</span><span class=\"s\">&quot;0.09&quot;</span> <span class=\"na\">distrib:type=</span><span class=\"s\">&quot;variance&quot;</span><span class=\"nt\">/&gt;</span>\n",
       "          <span class=\"nt\">&lt;/distrib:uncertainty&gt;</span>\n",
       "        <span class=\"nt\">&lt;/distrib:listOfUncertainties&gt;</span>\n",
       "      <span class=\"nt\">&lt;/species&gt;</span>\n",
       "    <span class=\"nt\">&lt;/listOfSpecies&gt;</span>\n",
       "  <span class=\"nt\">&lt;/model&gt;</span>\n",
       "<span class=\"nt\">&lt;/sbml&gt;</span>\n",
       "</pre></div>\n"
      ]
     },
     "metadata": {},
     "output_type": "display_data"
    },
    {
     "data": {
      "text/html": [
       "<pre style=\"white-space:pre;overflow-x:auto;line-height:normal;font-family:Menlo,'DejaVu Sans Mono',consolas,'Courier New',monospace\">\n",
       "</pre>\n"
      ],
      "text/plain": [
       "\n"
      ]
     },
     "metadata": {},
     "output_type": "display_data"
    },
    {
     "data": {
      "text/html": [
       "<pre style=\"white-space:pre;overflow-x:auto;line-height:normal;font-family:Menlo,'DejaVu Sans Mono',consolas,'Courier New',monospace\"><span style=\"color: #008000; text-decoration-color: #008000\">─────────────────────────────────────── </span>Validate SBML<span style=\"color: #008000; text-decoration-color: #008000\"> ───────────────────────────────────────</span>\n",
       "</pre>\n"
      ],
      "text/plain": [
       "\u001b[32m─────────────────────────────────────── \u001b[0mValidate SBML\u001b[32m ───────────────────────────────────────\u001b[0m\n"
      ]
     },
     "metadata": {},
     "output_type": "display_data"
    },
    {
     "data": {
      "text/html": [
       "<pre style=\"white-space:pre;overflow-x:auto;line-height:normal;font-family:Menlo,'DejaVu Sans Mono',consolas,'Courier New',monospace\"><span style=\"color: #008000; text-decoration-color: #008000; font-weight: bold\">&lt;</span><span style=\"color: #ff00ff; text-decoration-color: #ff00ff; font-weight: bold\">SBMLDocument</span><span style=\"color: #008000; text-decoration-color: #008000; font-weight: bold\">&gt;</span>\n",
       "<span style=\"color: #008000; text-decoration-color: #008000\">valid                    : TRUE</span>\n",
       "<span style=\"color: #008000; text-decoration-color: #008000\">check time </span><span style=\"color: #008000; text-decoration-color: #008000; font-weight: bold\">(</span><span style=\"color: #008000; text-decoration-color: #008000\">s</span><span style=\"color: #008000; text-decoration-color: #008000; font-weight: bold\">)</span><span style=\"color: #008000; text-decoration-color: #008000\">           : </span><span style=\"color: #008080; text-decoration-color: #008080; font-weight: bold\">0.002</span>\n",
       "</pre>\n"
      ],
      "text/plain": [
       "\u001b[1;32m<\u001b[0m\u001b[1;95mSBMLDocument\u001b[0m\u001b[1;32m>\u001b[0m\n",
       "\u001b[32mvalid                    : TRUE\u001b[0m\n",
       "\u001b[32mcheck time \u001b[0m\u001b[1;32m(\u001b[0m\u001b[32ms\u001b[0m\u001b[1;32m)\u001b[0m\u001b[32m           : \u001b[0m\u001b[1;36m0.002\u001b[0m\n"
      ]
     },
     "metadata": {},
     "output_type": "display_data"
    },
    {
     "data": {
      "text/html": [
       "<pre style=\"white-space:pre;overflow-x:auto;line-height:normal;font-family:Menlo,'DejaVu Sans Mono',consolas,'Courier New',monospace\"><span style=\"color: #008000; text-decoration-color: #008000\">─────────────────────────────────────────────────────────────────────────────────────────────</span>\n",
       "</pre>\n"
      ],
      "text/plain": [
       "\u001b[32m─────────────────────────────────────────────────────────────────────────────────────────────\u001b[0m\n"
      ]
     },
     "metadata": {},
     "output_type": "display_data"
    },
    {
     "data": {
      "text/html": [
       "<pre style=\"white-space:pre;overflow-x:auto;line-height:normal;font-family:Menlo,'DejaVu Sans Mono',consolas,'Courier New',monospace\">\n",
       "</pre>\n"
      ],
      "text/plain": [
       "\n"
      ]
     },
     "metadata": {},
     "output_type": "display_data"
    }
   ],
   "source": [
    "import libsbml\n",
    "md: ModelDict = {\n",
    "    'sid': 'basic_example_2',\n",
    "    'packages': ['distrib'],\n",
    "    'compartments': [\n",
    "        Compartment(\"C\", value=1.0)\n",
    "    ],\n",
    "    'species': [\n",
    "        Species(sid=\"s1\", compartment=\"C\", initialAmount=3.22, \n",
    "                uncertainties=[\n",
    "                  Uncertainty(uncertParameters=[\n",
    "                      UncertParameter(type=libsbml.DISTRIB_UNCERTTYPE_MEAN, value=3.2),\n",
    "                      UncertParameter(type=libsbml.DISTRIB_UNCERTTYPE_STANDARDDEVIATION, value=0.3),\n",
    "                      UncertParameter(type=libsbml.DISTRIB_UNCERTTYPE_VARIANCE, value=0.09),\n",
    "                  ])\n",
    "                ])\n",
    "    ],\n",
    "}\n",
    "\n",
    "# create model and print SBML\n",
    "doc = Document(Model(**md))\n",
    "print_xml(doc.get_sbml())\n",
    "\n",
    "# validate model\n",
    "validate_doc(doc.doc, units_consistency=False);"
   ]
  },
  {
   "cell_type": "markdown",
   "metadata": {},
   "source": [
    "### Multiple uncertainties\n",
    "The following gives an example how to encode multiple uncertainties for a parameter.\n",
    "Here the two uncertainties \n",
    "`5.0 (mean) +- 0.3 (std) [2.0 - 8.0]` \n",
    "and \n",
    "`4.5 (mean) +- 1.1 (std) [1.0 - 10.0]` \n",
    "are set."
   ]
  },
  {
   "cell_type": "code",
   "execution_count": 10,
   "metadata": {},
   "outputs": [
    {
     "data": {
      "text/html": [
       "<pre style=\"white-space:pre;overflow-x:auto;line-height:normal;font-family:Menlo,'DejaVu Sans Mono',consolas,'Courier New',monospace\"><span style=\"color: #000080; text-decoration-color: #000080\">INFO    </span> Create SBML for model <span style=\"color: #008000; text-decoration-color: #008000\">'multiple_uncertainties'</span>                       <a href=\"file:///home/mkoenig/git/sbmlutils/src/sbmlutils/factory.py\"><span style=\"color: #7f7f7f; text-decoration-color: #7f7f7f\">factory.py</span></a><span style=\"color: #7f7f7f; text-decoration-color: #7f7f7f\">:2896</span>\n",
       "</pre>\n"
      ],
      "text/plain": [
       "\u001b[34mINFO    \u001b[0m Create SBML for model \u001b[32m'multiple_uncertainties'\u001b[0m                       \u001b]8;id=973699;file:///home/mkoenig/git/sbmlutils/src/sbmlutils/factory.py\u001b\\\u001b[2mfactory.py\u001b[0m\u001b]8;;\u001b\\\u001b[2m:2896\u001b[0m\n"
      ]
     },
     "metadata": {},
     "output_type": "display_data"
    },
    {
     "data": {
      "text/html": [
       "<pre style=\"white-space:pre;overflow-x:auto;line-height:normal;font-family:Menlo,'DejaVu Sans Mono',consolas,'Courier New',monospace\"><span style=\"color: #800000; text-decoration-color: #800000\">WARNING </span> <span style=\"color: #008000; text-decoration-color: #008000\">'name'</span> should be set on <span style=\"color: #008000; text-decoration-color: #008000\">'&lt;Model multiple_uncertainties&gt;'</span>              <a href=\"file:///home/mkoenig/git/sbmlutils/src/sbmlutils/factory.py\"><span style=\"color: #7f7f7f; text-decoration-color: #7f7f7f\">factory.py</span></a><span style=\"color: #7f7f7f; text-decoration-color: #7f7f7f\">:436</span>\n",
       "</pre>\n"
      ],
      "text/plain": [
       "\u001b[31mWARNING \u001b[0m \u001b[32m'name'\u001b[0m should be set on \u001b[32m'\u001b[0m\u001b[32m<\u001b[0m\u001b[32mModel\u001b[0m\u001b[32m multiple_uncertainties\u001b[0m\u001b[32m>\u001b[0m\u001b[32m'\u001b[0m              \u001b]8;id=656294;file:///home/mkoenig/git/sbmlutils/src/sbmlutils/factory.py\u001b\\\u001b[2mfactory.py\u001b[0m\u001b]8;;\u001b\\\u001b[2m:436\u001b[0m\n"
      ]
     },
     "metadata": {},
     "output_type": "display_data"
    },
    {
     "data": {
      "text/html": [
       "<pre style=\"white-space:pre;overflow-x:auto;line-height:normal;font-family:Menlo,'DejaVu Sans Mono',consolas,'Courier New',monospace\"><span style=\"color: #800000; text-decoration-color: #800000\">WARNING </span> <span style=\"color: #008000; text-decoration-color: #008000\">'name'</span> should be set on <span style=\"color: #008000; text-decoration-color: #008000\">'&lt;Parameter p1&gt;'</span>                              <a href=\"file:///home/mkoenig/git/sbmlutils/src/sbmlutils/factory.py\"><span style=\"color: #7f7f7f; text-decoration-color: #7f7f7f\">factory.py</span></a><span style=\"color: #7f7f7f; text-decoration-color: #7f7f7f\">:436</span>\n",
       "</pre>\n"
      ],
      "text/plain": [
       "\u001b[31mWARNING \u001b[0m \u001b[32m'name'\u001b[0m should be set on \u001b[32m'\u001b[0m\u001b[32m<\u001b[0m\u001b[32mParameter\u001b[0m\u001b[32m p1\u001b[0m\u001b[32m>\u001b[0m\u001b[32m'\u001b[0m                              \u001b]8;id=371631;file:///home/mkoenig/git/sbmlutils/src/sbmlutils/factory.py\u001b\\\u001b[2mfactory.py\u001b[0m\u001b]8;;\u001b\\\u001b[2m:436\u001b[0m\n"
      ]
     },
     "metadata": {},
     "output_type": "display_data"
    },
    {
     "data": {
      "text/html": [
       "<pre style=\"white-space:pre;overflow-x:auto;line-height:normal;font-family:Menlo,'DejaVu Sans Mono',consolas,'Courier New',monospace\"><span style=\"color: #800000; text-decoration-color: #800000\">WARNING </span> <span style=\"color: #008000; text-decoration-color: #008000\">'sboTerm'</span> should be set on <span style=\"color: #008000; text-decoration-color: #008000\">'&lt;Parameter p1&gt;'</span>                           <a href=\"file:///home/mkoenig/git/sbmlutils/src/sbmlutils/factory.py\"><span style=\"color: #7f7f7f; text-decoration-color: #7f7f7f\">factory.py</span></a><span style=\"color: #7f7f7f; text-decoration-color: #7f7f7f\">:461</span>\n",
       "</pre>\n"
      ],
      "text/plain": [
       "\u001b[31mWARNING \u001b[0m \u001b[32m'sboTerm'\u001b[0m should be set on \u001b[32m'\u001b[0m\u001b[32m<\u001b[0m\u001b[32mParameter\u001b[0m\u001b[32m p1\u001b[0m\u001b[32m>\u001b[0m\u001b[32m'\u001b[0m                           \u001b]8;id=698629;file:///home/mkoenig/git/sbmlutils/src/sbmlutils/factory.py\u001b\\\u001b[2mfactory.py\u001b[0m\u001b]8;;\u001b\\\u001b[2m:461\u001b[0m\n"
      ]
     },
     "metadata": {},
     "output_type": "display_data"
    },
    {
     "data": {
      "text/html": [
       "<pre style=\"white-space:pre;overflow-x:auto;line-height:normal;font-family:Menlo,'DejaVu Sans Mono',consolas,'Courier New',monospace\"><span style=\"color: #800000; text-decoration-color: #800000\">WARNING </span> <span style=\"color: #008000; text-decoration-color: #008000\">'name'</span> should be set on <span style=\"color: #008000; text-decoration-color: #008000\">'&lt;Uncertainty p1_uncertainty_1&gt;'</span>              <a href=\"file:///home/mkoenig/git/sbmlutils/src/sbmlutils/factory.py\"><span style=\"color: #7f7f7f; text-decoration-color: #7f7f7f\">factory.py</span></a><span style=\"color: #7f7f7f; text-decoration-color: #7f7f7f\">:436</span>\n",
       "</pre>\n"
      ],
      "text/plain": [
       "\u001b[31mWARNING \u001b[0m \u001b[32m'name'\u001b[0m should be set on \u001b[32m'\u001b[0m\u001b[32m<\u001b[0m\u001b[32mUncertainty\u001b[0m\u001b[32m p1_uncertainty_1\u001b[0m\u001b[32m>\u001b[0m\u001b[32m'\u001b[0m              \u001b]8;id=825653;file:///home/mkoenig/git/sbmlutils/src/sbmlutils/factory.py\u001b\\\u001b[2mfactory.py\u001b[0m\u001b]8;;\u001b\\\u001b[2m:436\u001b[0m\n"
      ]
     },
     "metadata": {},
     "output_type": "display_data"
    },
    {
     "data": {
      "text/html": [
       "<pre style=\"white-space:pre;overflow-x:auto;line-height:normal;font-family:Menlo,'DejaVu Sans Mono',consolas,'Courier New',monospace\"><span style=\"color: #800000; text-decoration-color: #800000\">WARNING </span> <span style=\"color: #008000; text-decoration-color: #008000\">'sboTerm'</span> should be set on <span style=\"color: #008000; text-decoration-color: #008000\">'&lt;Uncertainty p1_uncertainty_1&gt;'</span>           <a href=\"file:///home/mkoenig/git/sbmlutils/src/sbmlutils/factory.py\"><span style=\"color: #7f7f7f; text-decoration-color: #7f7f7f\">factory.py</span></a><span style=\"color: #7f7f7f; text-decoration-color: #7f7f7f\">:461</span>\n",
       "</pre>\n"
      ],
      "text/plain": [
       "\u001b[31mWARNING \u001b[0m \u001b[32m'sboTerm'\u001b[0m should be set on \u001b[32m'\u001b[0m\u001b[32m<\u001b[0m\u001b[32mUncertainty\u001b[0m\u001b[32m p1_uncertainty_1\u001b[0m\u001b[32m>\u001b[0m\u001b[32m'\u001b[0m           \u001b]8;id=367660;file:///home/mkoenig/git/sbmlutils/src/sbmlutils/factory.py\u001b\\\u001b[2mfactory.py\u001b[0m\u001b]8;;\u001b\\\u001b[2m:461\u001b[0m\n"
      ]
     },
     "metadata": {},
     "output_type": "display_data"
    },
    {
     "data": {
      "text/html": [
       "<pre style=\"white-space:pre;overflow-x:auto;line-height:normal;font-family:Menlo,'DejaVu Sans Mono',consolas,'Courier New',monospace\"><span style=\"color: #800000; text-decoration-color: #800000; font-weight: bold\">ERROR   </span> Unsupported type for UncertParameter: <span style=\"color: #008000; text-decoration-color: #008000\">'15'</span> in                        <a href=\"file:///home/mkoenig/git/sbmlutils/src/sbmlutils/factory.py\"><span style=\"color: #7f7f7f; text-decoration-color: #7f7f7f\">factory.py</span></a><span style=\"color: #7f7f7f; text-decoration-color: #7f7f7f\">:1838</span>\n",
       "         <span style=\"color: #008000; text-decoration-color: #008000\">'&lt;sbmlutils.factory.UncertSpan object at 0x7fb828e51be0&gt;'</span>.                          \n",
       "</pre>\n"
      ],
      "text/plain": [
       "\u001b[1;31mERROR   \u001b[0m Unsupported type for UncertParameter: \u001b[32m'15'\u001b[0m in                        \u001b]8;id=641887;file:///home/mkoenig/git/sbmlutils/src/sbmlutils/factory.py\u001b\\\u001b[2mfactory.py\u001b[0m\u001b]8;;\u001b\\\u001b[2m:1838\u001b[0m\n",
       "         \u001b[32m'\u001b[0m\u001b[32m<\u001b[0m\u001b[32msbmlutils.factory.UncertSpan\u001b[0m\u001b[32m object at 0x7fb828e51be0\u001b[0m\u001b[32m>\u001b[0m\u001b[32m'\u001b[0m.                          \n"
      ]
     },
     "metadata": {},
     "output_type": "display_data"
    },
    {
     "data": {
      "text/html": [
       "<pre style=\"white-space:pre;overflow-x:auto;line-height:normal;font-family:Menlo,'DejaVu Sans Mono',consolas,'Courier New',monospace\"><span style=\"color: #800000; text-decoration-color: #800000\">WARNING </span> <span style=\"color: #008000; text-decoration-color: #008000\">'name'</span> should be set on <span style=\"color: #008000; text-decoration-color: #008000\">'&lt;Uncertainty p1_uncertainty_2&gt;'</span>              <a href=\"file:///home/mkoenig/git/sbmlutils/src/sbmlutils/factory.py\"><span style=\"color: #7f7f7f; text-decoration-color: #7f7f7f\">factory.py</span></a><span style=\"color: #7f7f7f; text-decoration-color: #7f7f7f\">:436</span>\n",
       "</pre>\n"
      ],
      "text/plain": [
       "\u001b[31mWARNING \u001b[0m \u001b[32m'name'\u001b[0m should be set on \u001b[32m'\u001b[0m\u001b[32m<\u001b[0m\u001b[32mUncertainty\u001b[0m\u001b[32m p1_uncertainty_2\u001b[0m\u001b[32m>\u001b[0m\u001b[32m'\u001b[0m              \u001b]8;id=910241;file:///home/mkoenig/git/sbmlutils/src/sbmlutils/factory.py\u001b\\\u001b[2mfactory.py\u001b[0m\u001b]8;;\u001b\\\u001b[2m:436\u001b[0m\n"
      ]
     },
     "metadata": {},
     "output_type": "display_data"
    },
    {
     "data": {
      "text/html": [
       "<pre style=\"white-space:pre;overflow-x:auto;line-height:normal;font-family:Menlo,'DejaVu Sans Mono',consolas,'Courier New',monospace\"><span style=\"color: #800000; text-decoration-color: #800000\">WARNING </span> <span style=\"color: #008000; text-decoration-color: #008000\">'sboTerm'</span> should be set on <span style=\"color: #008000; text-decoration-color: #008000\">'&lt;Uncertainty p1_uncertainty_2&gt;'</span>           <a href=\"file:///home/mkoenig/git/sbmlutils/src/sbmlutils/factory.py\"><span style=\"color: #7f7f7f; text-decoration-color: #7f7f7f\">factory.py</span></a><span style=\"color: #7f7f7f; text-decoration-color: #7f7f7f\">:461</span>\n",
       "</pre>\n"
      ],
      "text/plain": [
       "\u001b[31mWARNING \u001b[0m \u001b[32m'sboTerm'\u001b[0m should be set on \u001b[32m'\u001b[0m\u001b[32m<\u001b[0m\u001b[32mUncertainty\u001b[0m\u001b[32m p1_uncertainty_2\u001b[0m\u001b[32m>\u001b[0m\u001b[32m'\u001b[0m           \u001b]8;id=759442;file:///home/mkoenig/git/sbmlutils/src/sbmlutils/factory.py\u001b\\\u001b[2mfactory.py\u001b[0m\u001b]8;;\u001b\\\u001b[2m:461\u001b[0m\n"
      ]
     },
     "metadata": {},
     "output_type": "display_data"
    },
    {
     "data": {
      "text/html": [
       "<pre style=\"white-space:pre;overflow-x:auto;line-height:normal;font-family:Menlo,'DejaVu Sans Mono',consolas,'Courier New',monospace\"><span style=\"color: #800000; text-decoration-color: #800000; font-weight: bold\">ERROR   </span> Unsupported type for UncertParameter: <span style=\"color: #008000; text-decoration-color: #008000\">'15'</span> in                        <a href=\"file:///home/mkoenig/git/sbmlutils/src/sbmlutils/factory.py\"><span style=\"color: #7f7f7f; text-decoration-color: #7f7f7f\">factory.py</span></a><span style=\"color: #7f7f7f; text-decoration-color: #7f7f7f\">:1838</span>\n",
       "         <span style=\"color: #008000; text-decoration-color: #008000\">'&lt;sbmlutils.factory.UncertSpan object at 0x7fb828e518e0&gt;'</span>.                          \n",
       "</pre>\n"
      ],
      "text/plain": [
       "\u001b[1;31mERROR   \u001b[0m Unsupported type for UncertParameter: \u001b[32m'15'\u001b[0m in                        \u001b]8;id=695472;file:///home/mkoenig/git/sbmlutils/src/sbmlutils/factory.py\u001b\\\u001b[2mfactory.py\u001b[0m\u001b]8;;\u001b\\\u001b[2m:1838\u001b[0m\n",
       "         \u001b[32m'\u001b[0m\u001b[32m<\u001b[0m\u001b[32msbmlutils.factory.UncertSpan\u001b[0m\u001b[32m object at 0x7fb828e518e0\u001b[0m\u001b[32m>\u001b[0m\u001b[32m'\u001b[0m.                          \n"
      ]
     },
     "metadata": {},
     "output_type": "display_data"
    },
    {
     "data": {
      "text/html": [
       "<pre style=\"white-space:pre;overflow-x:auto;line-height:normal;font-family:Menlo,'DejaVu Sans Mono',consolas,'Courier New',monospace\"><span style=\"color: #800000; text-decoration-color: #800000\">WARNING </span> <span style=\"color: #008000; text-decoration-color: #008000\">'name'</span> should be set on <span style=\"color: #008000; text-decoration-color: #008000\">'&lt;InitialAssignment p1&gt;'</span>                      <a href=\"file:///home/mkoenig/git/sbmlutils/src/sbmlutils/factory.py\"><span style=\"color: #7f7f7f; text-decoration-color: #7f7f7f\">factory.py</span></a><span style=\"color: #7f7f7f; text-decoration-color: #7f7f7f\">:436</span>\n",
       "</pre>\n"
      ],
      "text/plain": [
       "\u001b[31mWARNING \u001b[0m \u001b[32m'name'\u001b[0m should be set on \u001b[32m'\u001b[0m\u001b[32m<\u001b[0m\u001b[32mInitialAssignment\u001b[0m\u001b[32m p1\u001b[0m\u001b[32m>\u001b[0m\u001b[32m'\u001b[0m                      \u001b]8;id=833698;file:///home/mkoenig/git/sbmlutils/src/sbmlutils/factory.py\u001b\\\u001b[2mfactory.py\u001b[0m\u001b]8;;\u001b\\\u001b[2m:436\u001b[0m\n"
      ]
     },
     "metadata": {},
     "output_type": "display_data"
    },
    {
     "data": {
      "text/html": [
       "<pre style=\"white-space:pre;overflow-x:auto;line-height:normal;font-family:Menlo,'DejaVu Sans Mono',consolas,'Courier New',monospace\"><span style=\"color: #800000; text-decoration-color: #800000\">WARNING </span> <span style=\"color: #008000; text-decoration-color: #008000\">'sboTerm'</span> should be set on <span style=\"color: #008000; text-decoration-color: #008000\">'&lt;InitialAssignment p1&gt;'</span>                   <a href=\"file:///home/mkoenig/git/sbmlutils/src/sbmlutils/factory.py\"><span style=\"color: #7f7f7f; text-decoration-color: #7f7f7f\">factory.py</span></a><span style=\"color: #7f7f7f; text-decoration-color: #7f7f7f\">:461</span>\n",
       "</pre>\n"
      ],
      "text/plain": [
       "\u001b[31mWARNING \u001b[0m \u001b[32m'sboTerm'\u001b[0m should be set on \u001b[32m'\u001b[0m\u001b[32m<\u001b[0m\u001b[32mInitialAssignment\u001b[0m\u001b[32m p1\u001b[0m\u001b[32m>\u001b[0m\u001b[32m'\u001b[0m                   \u001b]8;id=2904;file:///home/mkoenig/git/sbmlutils/src/sbmlutils/factory.py\u001b\\\u001b[2mfactory.py\u001b[0m\u001b]8;;\u001b\\\u001b[2m:461\u001b[0m\n"
      ]
     },
     "metadata": {},
     "output_type": "display_data"
    },
    {
     "data": {
      "text/html": [
       "<style type=\"text/css\">pre { line-height: 125%; }\n",
       "td.linenos .normal { color: inherit; background-color: transparent; padding-left: 5px; padding-right: 5px; }\n",
       "span.linenos { color: inherit; background-color: transparent; padding-left: 5px; padding-right: 5px; }\n",
       "td.linenos .special { color: #000000; background-color: #ffffc0; padding-left: 5px; padding-right: 5px; }\n",
       "span.linenos.special { color: #000000; background-color: #ffffc0; padding-left: 5px; padding-right: 5px; }\n",
       ".highlight .hll { background-color: #ffffcc }\n",
       ".highlight { background: #f8f8f8; }\n",
       ".highlight .c { color: #408080; font-style: italic } /* Comment */\n",
       ".highlight .err { border: 1px solid #FF0000 } /* Error */\n",
       ".highlight .k { color: #008000; font-weight: bold } /* Keyword */\n",
       ".highlight .o { color: #666666 } /* Operator */\n",
       ".highlight .ch { color: #408080; font-style: italic } /* Comment.Hashbang */\n",
       ".highlight .cm { color: #408080; font-style: italic } /* Comment.Multiline */\n",
       ".highlight .cp { color: #BC7A00 } /* Comment.Preproc */\n",
       ".highlight .cpf { color: #408080; font-style: italic } /* Comment.PreprocFile */\n",
       ".highlight .c1 { color: #408080; font-style: italic } /* Comment.Single */\n",
       ".highlight .cs { color: #408080; font-style: italic } /* Comment.Special */\n",
       ".highlight .gd { color: #A00000 } /* Generic.Deleted */\n",
       ".highlight .ge { font-style: italic } /* Generic.Emph */\n",
       ".highlight .gr { color: #FF0000 } /* Generic.Error */\n",
       ".highlight .gh { color: #000080; font-weight: bold } /* Generic.Heading */\n",
       ".highlight .gi { color: #00A000 } /* Generic.Inserted */\n",
       ".highlight .go { color: #888888 } /* Generic.Output */\n",
       ".highlight .gp { color: #000080; font-weight: bold } /* Generic.Prompt */\n",
       ".highlight .gs { font-weight: bold } /* Generic.Strong */\n",
       ".highlight .gu { color: #800080; font-weight: bold } /* Generic.Subheading */\n",
       ".highlight .gt { color: #0044DD } /* Generic.Traceback */\n",
       ".highlight .kc { color: #008000; font-weight: bold } /* Keyword.Constant */\n",
       ".highlight .kd { color: #008000; font-weight: bold } /* Keyword.Declaration */\n",
       ".highlight .kn { color: #008000; font-weight: bold } /* Keyword.Namespace */\n",
       ".highlight .kp { color: #008000 } /* Keyword.Pseudo */\n",
       ".highlight .kr { color: #008000; font-weight: bold } /* Keyword.Reserved */\n",
       ".highlight .kt { color: #B00040 } /* Keyword.Type */\n",
       ".highlight .m { color: #666666 } /* Literal.Number */\n",
       ".highlight .s { color: #BA2121 } /* Literal.String */\n",
       ".highlight .na { color: #7D9029 } /* Name.Attribute */\n",
       ".highlight .nb { color: #008000 } /* Name.Builtin */\n",
       ".highlight .nc { color: #0000FF; font-weight: bold } /* Name.Class */\n",
       ".highlight .no { color: #880000 } /* Name.Constant */\n",
       ".highlight .nd { color: #AA22FF } /* Name.Decorator */\n",
       ".highlight .ni { color: #999999; font-weight: bold } /* Name.Entity */\n",
       ".highlight .ne { color: #D2413A; font-weight: bold } /* Name.Exception */\n",
       ".highlight .nf { color: #0000FF } /* Name.Function */\n",
       ".highlight .nl { color: #A0A000 } /* Name.Label */\n",
       ".highlight .nn { color: #0000FF; font-weight: bold } /* Name.Namespace */\n",
       ".highlight .nt { color: #008000; font-weight: bold } /* Name.Tag */\n",
       ".highlight .nv { color: #19177C } /* Name.Variable */\n",
       ".highlight .ow { color: #AA22FF; font-weight: bold } /* Operator.Word */\n",
       ".highlight .w { color: #bbbbbb } /* Text.Whitespace */\n",
       ".highlight .mb { color: #666666 } /* Literal.Number.Bin */\n",
       ".highlight .mf { color: #666666 } /* Literal.Number.Float */\n",
       ".highlight .mh { color: #666666 } /* Literal.Number.Hex */\n",
       ".highlight .mi { color: #666666 } /* Literal.Number.Integer */\n",
       ".highlight .mo { color: #666666 } /* Literal.Number.Oct */\n",
       ".highlight .sa { color: #BA2121 } /* Literal.String.Affix */\n",
       ".highlight .sb { color: #BA2121 } /* Literal.String.Backtick */\n",
       ".highlight .sc { color: #BA2121 } /* Literal.String.Char */\n",
       ".highlight .dl { color: #BA2121 } /* Literal.String.Delimiter */\n",
       ".highlight .sd { color: #BA2121; font-style: italic } /* Literal.String.Doc */\n",
       ".highlight .s2 { color: #BA2121 } /* Literal.String.Double */\n",
       ".highlight .se { color: #BB6622; font-weight: bold } /* Literal.String.Escape */\n",
       ".highlight .sh { color: #BA2121 } /* Literal.String.Heredoc */\n",
       ".highlight .si { color: #BB6688; font-weight: bold } /* Literal.String.Interpol */\n",
       ".highlight .sx { color: #008000 } /* Literal.String.Other */\n",
       ".highlight .sr { color: #BB6688 } /* Literal.String.Regex */\n",
       ".highlight .s1 { color: #BA2121 } /* Literal.String.Single */\n",
       ".highlight .ss { color: #19177C } /* Literal.String.Symbol */\n",
       ".highlight .bp { color: #008000 } /* Name.Builtin.Pseudo */\n",
       ".highlight .fm { color: #0000FF } /* Name.Function.Magic */\n",
       ".highlight .vc { color: #19177C } /* Name.Variable.Class */\n",
       ".highlight .vg { color: #19177C } /* Name.Variable.Global */\n",
       ".highlight .vi { color: #19177C } /* Name.Variable.Instance */\n",
       ".highlight .vm { color: #19177C } /* Name.Variable.Magic */\n",
       ".highlight .il { color: #666666 } /* Literal.Number.Integer.Long */</style>    <div class=\"highlight\"><pre><span></span><span class=\"cp\">&lt;?xml version=&quot;1.0&quot; encoding=&quot;UTF-8&quot;?&gt;</span>\n",
       "<span class=\"nt\">&lt;sbml</span> <span class=\"na\">xmlns=</span><span class=\"s\">&quot;http://www.sbml.org/sbml/level3/version1/core&quot;</span> <span class=\"na\">xmlns:comp=</span><span class=\"s\">&quot;http://www.sbml.org/sbml/level3/version1/comp/version1&quot;</span> <span class=\"na\">xmlns:distrib=</span><span class=\"s\">&quot;http://www.sbml.org/sbml/level3/version1/distrib/version1&quot;</span> <span class=\"na\">level=</span><span class=\"s\">&quot;3&quot;</span> <span class=\"na\">version=</span><span class=\"s\">&quot;1&quot;</span> <span class=\"na\">comp:required=</span><span class=\"s\">&quot;true&quot;</span> <span class=\"na\">distrib:required=</span><span class=\"s\">&quot;true&quot;</span><span class=\"nt\">&gt;</span>\n",
       "  <span class=\"nt\">&lt;notes&gt;</span>\n",
       "    <span class=\"nt\">&lt;body</span> <span class=\"na\">xmlns=</span><span class=\"s\">&quot;http://www.w3.org/1999/xhtml&quot;</span><span class=\"nt\">&gt;</span>\n",
       "      <span class=\"nt\">&lt;p&gt;</span>Created with <span class=\"nt\">&lt;a</span> <span class=\"na\">href=</span><span class=\"s\">&quot;https://github.com/matthiaskoenig/sbmlutils&quot;</span><span class=\"nt\">&gt;</span>https://github.com/matthiaskoenig/sbmlutils<span class=\"nt\">&lt;/a&gt;</span>.\n",
       "<span class=\"nt\">&lt;a</span> <span class=\"na\">href=</span><span class=\"s\">&quot;https://doi.org/10.5281/zenodo.5525390&quot;</span><span class=\"nt\">&gt;</span>\n",
       "        <span class=\"nt\">&lt;img</span> <span class=\"na\">src=</span><span class=\"s\">&quot;https://zenodo.org/badge/DOI/10.5281/zenodo.5525390.svg&quot;</span> <span class=\"na\">alt=</span><span class=\"s\">&quot;DOI&quot;</span><span class=\"nt\">/&gt;&lt;/a&gt;&lt;/p&gt;</span>\n",
       "      <span class=\"nt\">&lt;/body&gt;</span>\n",
       "    <span class=\"nt\">&lt;/notes&gt;</span>\n",
       "  <span class=\"nt\">&lt;model</span> <span class=\"na\">id=</span><span class=\"s\">&quot;multiple_uncertainties&quot;</span> <span class=\"na\">substanceUnits=</span><span class=\"s\">&quot;mole&quot;</span> <span class=\"na\">timeUnits=</span><span class=\"s\">&quot;hr&quot;</span> <span class=\"na\">volumeUnits=</span><span class=\"s\">&quot;litre&quot;</span> <span class=\"na\">areaUnits=</span><span class=\"s\">&quot;m2&quot;</span> <span class=\"na\">lengthUnits=</span><span class=\"s\">&quot;metre&quot;</span> <span class=\"na\">extentUnits=</span><span class=\"s\">&quot;mole&quot;</span><span class=\"nt\">&gt;</span>\n",
       "    <span class=\"nt\">&lt;listOfUnitDefinitions&gt;</span>\n",
       "      <span class=\"nt\">&lt;unitDefinition</span> <span class=\"na\">id=</span><span class=\"s\">&quot;hr&quot;</span> <span class=\"na\">name=</span><span class=\"s\">&quot;hr&quot;</span><span class=\"nt\">&gt;</span>\n",
       "        <span class=\"nt\">&lt;listOfUnits&gt;</span>\n",
       "          <span class=\"nt\">&lt;unit</span> <span class=\"na\">kind=</span><span class=\"s\">&quot;second&quot;</span> <span class=\"na\">exponent=</span><span class=\"s\">&quot;1&quot;</span> <span class=\"na\">scale=</span><span class=\"s\">&quot;0&quot;</span> <span class=\"na\">multiplier=</span><span class=\"s\">&quot;3600&quot;</span><span class=\"nt\">/&gt;</span>\n",
       "        <span class=\"nt\">&lt;/listOfUnits&gt;</span>\n",
       "      <span class=\"nt\">&lt;/unitDefinition&gt;</span>\n",
       "      <span class=\"nt\">&lt;unitDefinition</span> <span class=\"na\">id=</span><span class=\"s\">&quot;m2&quot;</span> <span class=\"na\">name=</span><span class=\"s\">&quot;meter^2&quot;</span><span class=\"nt\">&gt;</span>\n",
       "        <span class=\"nt\">&lt;listOfUnits&gt;</span>\n",
       "          <span class=\"nt\">&lt;unit</span> <span class=\"na\">kind=</span><span class=\"s\">&quot;metre&quot;</span> <span class=\"na\">exponent=</span><span class=\"s\">&quot;2&quot;</span> <span class=\"na\">scale=</span><span class=\"s\">&quot;0&quot;</span> <span class=\"na\">multiplier=</span><span class=\"s\">&quot;1&quot;</span><span class=\"nt\">/&gt;</span>\n",
       "        <span class=\"nt\">&lt;/listOfUnits&gt;</span>\n",
       "      <span class=\"nt\">&lt;/unitDefinition&gt;</span>\n",
       "      <span class=\"nt\">&lt;unitDefinition</span> <span class=\"na\">id=</span><span class=\"s\">&quot;mM&quot;</span> <span class=\"na\">name=</span><span class=\"s\">&quot;mmole/liter&quot;</span><span class=\"nt\">&gt;</span>\n",
       "        <span class=\"nt\">&lt;listOfUnits&gt;</span>\n",
       "          <span class=\"nt\">&lt;unit</span> <span class=\"na\">kind=</span><span class=\"s\">&quot;mole&quot;</span> <span class=\"na\">exponent=</span><span class=\"s\">&quot;1&quot;</span> <span class=\"na\">scale=</span><span class=\"s\">&quot;0&quot;</span> <span class=\"na\">multiplier=</span><span class=\"s\">&quot;0.001&quot;</span><span class=\"nt\">/&gt;</span>\n",
       "          <span class=\"nt\">&lt;unit</span> <span class=\"na\">kind=</span><span class=\"s\">&quot;litre&quot;</span> <span class=\"na\">exponent=</span><span class=\"s\">&quot;-1&quot;</span> <span class=\"na\">scale=</span><span class=\"s\">&quot;0&quot;</span> <span class=\"na\">multiplier=</span><span class=\"s\">&quot;1&quot;</span><span class=\"nt\">/&gt;</span>\n",
       "        <span class=\"nt\">&lt;/listOfUnits&gt;</span>\n",
       "      <span class=\"nt\">&lt;/unitDefinition&gt;</span>\n",
       "    <span class=\"nt\">&lt;/listOfUnitDefinitions&gt;</span>\n",
       "    <span class=\"nt\">&lt;listOfParameters&gt;</span>\n",
       "      <span class=\"nt\">&lt;parameter</span> <span class=\"na\">id=</span><span class=\"s\">&quot;p1&quot;</span> <span class=\"na\">value=</span><span class=\"s\">&quot;5&quot;</span> <span class=\"na\">units=</span><span class=\"s\">&quot;mM&quot;</span> <span class=\"na\">constant=</span><span class=\"s\">&quot;true&quot;</span><span class=\"nt\">&gt;</span>\n",
       "        <span class=\"nt\">&lt;distrib:listOfUncertainties&gt;</span>\n",
       "          <span class=\"nt\">&lt;distrib:uncertainty</span> <span class=\"na\">distrib:id=</span><span class=\"s\">&quot;p1_uncertainty_1&quot;</span><span class=\"nt\">&gt;</span>\n",
       "            <span class=\"nt\">&lt;distrib:uncertParameter</span> <span class=\"na\">distrib:value=</span><span class=\"s\">&quot;5&quot;</span> <span class=\"na\">distrib:units=</span><span class=\"s\">&quot;mM&quot;</span> <span class=\"na\">distrib:type=</span><span class=\"s\">&quot;mean&quot;</span><span class=\"nt\">/&gt;</span>\n",
       "            <span class=\"nt\">&lt;distrib:uncertParameter</span> <span class=\"na\">distrib:value=</span><span class=\"s\">&quot;0.3&quot;</span> <span class=\"na\">distrib:units=</span><span class=\"s\">&quot;mM&quot;</span> <span class=\"na\">distrib:type=</span><span class=\"s\">&quot;standardDeviation&quot;</span><span class=\"nt\">/&gt;</span>\n",
       "          <span class=\"nt\">&lt;/distrib:uncertainty&gt;</span>\n",
       "          <span class=\"nt\">&lt;distrib:uncertainty</span> <span class=\"na\">distrib:id=</span><span class=\"s\">&quot;p1_uncertainty_2&quot;</span><span class=\"nt\">&gt;</span>\n",
       "            <span class=\"nt\">&lt;distrib:uncertParameter</span> <span class=\"na\">distrib:value=</span><span class=\"s\">&quot;4.5&quot;</span> <span class=\"na\">distrib:units=</span><span class=\"s\">&quot;mM&quot;</span> <span class=\"na\">distrib:type=</span><span class=\"s\">&quot;mean&quot;</span><span class=\"nt\">/&gt;</span>\n",
       "            <span class=\"nt\">&lt;distrib:uncertParameter</span> <span class=\"na\">distrib:value=</span><span class=\"s\">&quot;1.1&quot;</span> <span class=\"na\">distrib:units=</span><span class=\"s\">&quot;mM&quot;</span> <span class=\"na\">distrib:type=</span><span class=\"s\">&quot;standardDeviation&quot;</span><span class=\"nt\">/&gt;</span>\n",
       "          <span class=\"nt\">&lt;/distrib:uncertainty&gt;</span>\n",
       "        <span class=\"nt\">&lt;/distrib:listOfUncertainties&gt;</span>\n",
       "      <span class=\"nt\">&lt;/parameter&gt;</span>\n",
       "    <span class=\"nt\">&lt;/listOfParameters&gt;</span>\n",
       "    <span class=\"nt\">&lt;listOfInitialAssignments&gt;</span>\n",
       "      <span class=\"nt\">&lt;initialAssignment</span> <span class=\"na\">symbol=</span><span class=\"s\">&quot;p1&quot;</span><span class=\"nt\">&gt;</span>\n",
       "        <span class=\"nt\">&lt;math</span> <span class=\"na\">xmlns=</span><span class=\"s\">&quot;http://www.w3.org/1998/Math/MathML&quot;</span> <span class=\"na\">xmlns:sbml=</span><span class=\"s\">&quot;http://www.sbml.org/sbml/level3/version1/core&quot;</span><span class=\"nt\">&gt;</span>\n",
       "          <span class=\"nt\">&lt;apply&gt;</span>\n",
       "            <span class=\"nt\">&lt;csymbol</span> <span class=\"na\">encoding=</span><span class=\"s\">&quot;text&quot;</span> <span class=\"na\">definitionURL=</span><span class=\"s\">&quot;http://www.sbml.org/sbml/symbols/distrib/normal&quot;</span><span class=\"nt\">&gt;</span> normal <span class=\"nt\">&lt;/csymbol&gt;</span>\n",
       "            <span class=\"nt\">&lt;cn</span> <span class=\"na\">sbml:units=</span><span class=\"s\">&quot;mM&quot;</span> <span class=\"na\">type=</span><span class=\"s\">&quot;integer&quot;</span><span class=\"nt\">&gt;</span> 0 <span class=\"nt\">&lt;/cn&gt;</span>\n",
       "            <span class=\"nt\">&lt;cn</span> <span class=\"na\">sbml:units=</span><span class=\"s\">&quot;mM&quot;</span> <span class=\"na\">type=</span><span class=\"s\">&quot;integer&quot;</span><span class=\"nt\">&gt;</span> 1 <span class=\"nt\">&lt;/cn&gt;</span>\n",
       "          <span class=\"nt\">&lt;/apply&gt;</span>\n",
       "        <span class=\"nt\">&lt;/math&gt;</span>\n",
       "      <span class=\"nt\">&lt;/initialAssignment&gt;</span>\n",
       "    <span class=\"nt\">&lt;/listOfInitialAssignments&gt;</span>\n",
       "  <span class=\"nt\">&lt;/model&gt;</span>\n",
       "<span class=\"nt\">&lt;/sbml&gt;</span>\n",
       "</pre></div>\n"
      ]
     },
     "metadata": {},
     "output_type": "display_data"
    },
    {
     "data": {
      "text/html": [
       "<pre style=\"white-space:pre;overflow-x:auto;line-height:normal;font-family:Menlo,'DejaVu Sans Mono',consolas,'Courier New',monospace\">\n",
       "</pre>\n"
      ],
      "text/plain": [
       "\n"
      ]
     },
     "metadata": {},
     "output_type": "display_data"
    },
    {
     "data": {
      "text/html": [
       "<pre style=\"white-space:pre;overflow-x:auto;line-height:normal;font-family:Menlo,'DejaVu Sans Mono',consolas,'Courier New',monospace\"><span style=\"color: #008000; text-decoration-color: #008000\">─────────────────────────────────────── </span>Validate SBML<span style=\"color: #008000; text-decoration-color: #008000\"> ───────────────────────────────────────</span>\n",
       "</pre>\n"
      ],
      "text/plain": [
       "\u001b[32m─────────────────────────────────────── \u001b[0mValidate SBML\u001b[32m ───────────────────────────────────────\u001b[0m\n"
      ]
     },
     "metadata": {},
     "output_type": "display_data"
    },
    {
     "data": {
      "text/html": [
       "<pre style=\"white-space:pre;overflow-x:auto;line-height:normal;font-family:Menlo,'DejaVu Sans Mono',consolas,'Courier New',monospace\"><span style=\"color: #008000; text-decoration-color: #008000; font-weight: bold\">&lt;</span><span style=\"color: #ff00ff; text-decoration-color: #ff00ff; font-weight: bold\">SBMLDocument</span><span style=\"color: #008000; text-decoration-color: #008000; font-weight: bold\">&gt;</span>\n",
       "<span style=\"color: #008000; text-decoration-color: #008000\">valid                    : TRUE</span>\n",
       "<span style=\"color: #008000; text-decoration-color: #008000\">check time </span><span style=\"color: #008000; text-decoration-color: #008000; font-weight: bold\">(</span><span style=\"color: #008000; text-decoration-color: #008000\">s</span><span style=\"color: #008000; text-decoration-color: #008000; font-weight: bold\">)</span><span style=\"color: #008000; text-decoration-color: #008000\">           : </span><span style=\"color: #008080; text-decoration-color: #008080; font-weight: bold\">0.003</span>\n",
       "</pre>\n"
      ],
      "text/plain": [
       "\u001b[1;32m<\u001b[0m\u001b[1;95mSBMLDocument\u001b[0m\u001b[1;32m>\u001b[0m\n",
       "\u001b[32mvalid                    : TRUE\u001b[0m\n",
       "\u001b[32mcheck time \u001b[0m\u001b[1;32m(\u001b[0m\u001b[32ms\u001b[0m\u001b[1;32m)\u001b[0m\u001b[32m           : \u001b[0m\u001b[1;36m0.003\u001b[0m\n"
      ]
     },
     "metadata": {},
     "output_type": "display_data"
    },
    {
     "data": {
      "text/html": [
       "<pre style=\"white-space:pre;overflow-x:auto;line-height:normal;font-family:Menlo,'DejaVu Sans Mono',consolas,'Courier New',monospace\"><span style=\"color: #008000; text-decoration-color: #008000\">─────────────────────────────────────────────────────────────────────────────────────────────</span>\n",
       "</pre>\n"
      ],
      "text/plain": [
       "\u001b[32m─────────────────────────────────────────────────────────────────────────────────────────────\u001b[0m\n"
      ]
     },
     "metadata": {},
     "output_type": "display_data"
    },
    {
     "data": {
      "text/html": [
       "<pre style=\"white-space:pre;overflow-x:auto;line-height:normal;font-family:Menlo,'DejaVu Sans Mono',consolas,'Courier New',monospace\">\n",
       "</pre>\n"
      ],
      "text/plain": [
       "\n"
      ]
     },
     "metadata": {},
     "output_type": "display_data"
    }
   ],
   "source": [
    "import libsbml\n",
    "\n",
    "class U(Units):\n",
    "    hr = UnitDefinition(\"hr\")\n",
    "    m2 = UnitDefinition(\"m2\", \"meter^2\")\n",
    "    mM = UnitDefinition(\"mM\", \"mmole/liter\")\n",
    "\n",
    "md: ModelDict = {\n",
    "    'sid': 'multiple_uncertainties',\n",
    "    'packages': ['distrib'],\n",
    "    'units': U,\n",
    "    'model_units': ModelUnits(time=U.hr, extent=U.mole, substance=U.mole,\n",
    "                              length=U.meter, area=U.m2, volume=U.liter),\n",
    "    \n",
    "    'parameters': [\n",
    "        Parameter(sid=\"p1\", value=5.0, unit=U.mM, \n",
    "                  uncertainties=[\n",
    "                      Uncertainty('p1_uncertainty_1', uncertParameters=[\n",
    "                          UncertParameter(type=libsbml.DISTRIB_UNCERTTYPE_MEAN, value=5.0, unit=U.mM),\n",
    "                          UncertParameter(type=libsbml.DISTRIB_UNCERTTYPE_STANDARDDEVIATION, value=0.3, unit=U.mM),\n",
    "                          UncertSpan(type=libsbml.DISTRIB_UNCERTTYPE_RANGE, valueLower=2.0, valueUpper=8.0, unit=U.mM),\n",
    "                      ]),\n",
    "                      Uncertainty('p1_uncertainty_2', uncertParameters=[\n",
    "                          UncertParameter(type=libsbml.DISTRIB_UNCERTTYPE_MEAN, value=4.5, unit=U.mM),\n",
    "                          UncertParameter(type=libsbml.DISTRIB_UNCERTTYPE_STANDARDDEVIATION, value=1.1, unit=U.mM),\n",
    "                          UncertSpan(type=libsbml.DISTRIB_UNCERTTYPE_RANGE, valueLower=1.0, valueUpper=10.0, unit=U.mM),\n",
    "                      ])\n",
    "                  ])\n",
    "    ],\n",
    "    'assignments': [\n",
    "        InitialAssignment('p1', 'normal(0 mM, 1 mM)'),\n",
    "    ]\n",
    "}\n",
    "\n",
    "# create model and print SBML\n",
    "doc = Document(Model(**md))\n",
    "print_xml(doc.get_sbml())\n",
    "\n",
    "# validate model\n",
    "validate_doc(doc.doc, units_consistency=False);"
   ]
  },
  {
   "cell_type": "markdown",
   "metadata": {},
   "source": [
    "### Defining a random variable\n",
    "In addition to describing the uncertainty about an experimental observation one can also use this mechanism\n",
    "to describe a parameter as a random variable."
   ]
  },
  {
   "cell_type": "code",
   "execution_count": 11,
   "metadata": {},
   "outputs": [
    {
     "data": {
      "text/html": [
       "<pre style=\"white-space:pre;overflow-x:auto;line-height:normal;font-family:Menlo,'DejaVu Sans Mono',consolas,'Courier New',monospace\"><span style=\"color: #000080; text-decoration-color: #000080\">INFO    </span> Create SBML for model <span style=\"color: #008000; text-decoration-color: #008000\">'random_variable'</span>                              <a href=\"file:///home/mkoenig/git/sbmlutils/src/sbmlutils/factory.py\"><span style=\"color: #7f7f7f; text-decoration-color: #7f7f7f\">factory.py</span></a><span style=\"color: #7f7f7f; text-decoration-color: #7f7f7f\">:2896</span>\n",
       "</pre>\n"
      ],
      "text/plain": [
       "\u001b[34mINFO    \u001b[0m Create SBML for model \u001b[32m'random_variable'\u001b[0m                              \u001b]8;id=616398;file:///home/mkoenig/git/sbmlutils/src/sbmlutils/factory.py\u001b\\\u001b[2mfactory.py\u001b[0m\u001b]8;;\u001b\\\u001b[2m:2896\u001b[0m\n"
      ]
     },
     "metadata": {},
     "output_type": "display_data"
    },
    {
     "data": {
      "text/html": [
       "<pre style=\"white-space:pre;overflow-x:auto;line-height:normal;font-family:Menlo,'DejaVu Sans Mono',consolas,'Courier New',monospace\"><span style=\"color: #800000; text-decoration-color: #800000\">WARNING </span> <span style=\"color: #008000; text-decoration-color: #008000\">'name'</span> should be set on <span style=\"color: #008000; text-decoration-color: #008000\">'&lt;Model random_variable&gt;'</span>                     <a href=\"file:///home/mkoenig/git/sbmlutils/src/sbmlutils/factory.py\"><span style=\"color: #7f7f7f; text-decoration-color: #7f7f7f\">factory.py</span></a><span style=\"color: #7f7f7f; text-decoration-color: #7f7f7f\">:436</span>\n",
       "</pre>\n"
      ],
      "text/plain": [
       "\u001b[31mWARNING \u001b[0m \u001b[32m'name'\u001b[0m should be set on \u001b[32m'\u001b[0m\u001b[32m<\u001b[0m\u001b[32mModel\u001b[0m\u001b[32m random_variable\u001b[0m\u001b[32m>\u001b[0m\u001b[32m'\u001b[0m                     \u001b]8;id=582649;file:///home/mkoenig/git/sbmlutils/src/sbmlutils/factory.py\u001b\\\u001b[2mfactory.py\u001b[0m\u001b]8;;\u001b\\\u001b[2m:436\u001b[0m\n"
      ]
     },
     "metadata": {},
     "output_type": "display_data"
    },
    {
     "data": {
      "text/html": [
       "<pre style=\"white-space:pre;overflow-x:auto;line-height:normal;font-family:Menlo,'DejaVu Sans Mono',consolas,'Courier New',monospace\"><span style=\"color: #800000; text-decoration-color: #800000\">WARNING </span> <span style=\"color: #008000; text-decoration-color: #008000\">'name'</span> should be set on <span style=\"color: #008000; text-decoration-color: #008000\">'&lt;Parameter shape_Z&gt;'</span>                         <a href=\"file:///home/mkoenig/git/sbmlutils/src/sbmlutils/factory.py\"><span style=\"color: #7f7f7f; text-decoration-color: #7f7f7f\">factory.py</span></a><span style=\"color: #7f7f7f; text-decoration-color: #7f7f7f\">:436</span>\n",
       "</pre>\n"
      ],
      "text/plain": [
       "\u001b[31mWARNING \u001b[0m \u001b[32m'name'\u001b[0m should be set on \u001b[32m'\u001b[0m\u001b[32m<\u001b[0m\u001b[32mParameter\u001b[0m\u001b[32m shape_Z\u001b[0m\u001b[32m>\u001b[0m\u001b[32m'\u001b[0m                         \u001b]8;id=529916;file:///home/mkoenig/git/sbmlutils/src/sbmlutils/factory.py\u001b\\\u001b[2mfactory.py\u001b[0m\u001b]8;;\u001b\\\u001b[2m:436\u001b[0m\n"
      ]
     },
     "metadata": {},
     "output_type": "display_data"
    },
    {
     "data": {
      "text/html": [
       "<pre style=\"white-space:pre;overflow-x:auto;line-height:normal;font-family:Menlo,'DejaVu Sans Mono',consolas,'Courier New',monospace\"><span style=\"color: #800000; text-decoration-color: #800000\">WARNING </span> <span style=\"color: #008000; text-decoration-color: #008000\">'sboTerm'</span> should be set on <span style=\"color: #008000; text-decoration-color: #008000\">'&lt;Parameter shape_Z&gt;'</span>                      <a href=\"file:///home/mkoenig/git/sbmlutils/src/sbmlutils/factory.py\"><span style=\"color: #7f7f7f; text-decoration-color: #7f7f7f\">factory.py</span></a><span style=\"color: #7f7f7f; text-decoration-color: #7f7f7f\">:461</span>\n",
       "</pre>\n"
      ],
      "text/plain": [
       "\u001b[31mWARNING \u001b[0m \u001b[32m'sboTerm'\u001b[0m should be set on \u001b[32m'\u001b[0m\u001b[32m<\u001b[0m\u001b[32mParameter\u001b[0m\u001b[32m shape_Z\u001b[0m\u001b[32m>\u001b[0m\u001b[32m'\u001b[0m                      \u001b]8;id=89211;file:///home/mkoenig/git/sbmlutils/src/sbmlutils/factory.py\u001b\\\u001b[2mfactory.py\u001b[0m\u001b]8;;\u001b\\\u001b[2m:461\u001b[0m\n"
      ]
     },
     "metadata": {},
     "output_type": "display_data"
    },
    {
     "data": {
      "text/html": [
       "<pre style=\"white-space:pre;overflow-x:auto;line-height:normal;font-family:Menlo,'DejaVu Sans Mono',consolas,'Courier New',monospace\"><span style=\"color: #800000; text-decoration-color: #800000\">WARNING </span> <span style=\"color: #008000; text-decoration-color: #008000\">'name'</span> should be set on <span style=\"color: #008000; text-decoration-color: #008000\">'&lt;Parameter scale_Z&gt;'</span>                         <a href=\"file:///home/mkoenig/git/sbmlutils/src/sbmlutils/factory.py\"><span style=\"color: #7f7f7f; text-decoration-color: #7f7f7f\">factory.py</span></a><span style=\"color: #7f7f7f; text-decoration-color: #7f7f7f\">:436</span>\n",
       "</pre>\n"
      ],
      "text/plain": [
       "\u001b[31mWARNING \u001b[0m \u001b[32m'name'\u001b[0m should be set on \u001b[32m'\u001b[0m\u001b[32m<\u001b[0m\u001b[32mParameter\u001b[0m\u001b[32m scale_Z\u001b[0m\u001b[32m>\u001b[0m\u001b[32m'\u001b[0m                         \u001b]8;id=22920;file:///home/mkoenig/git/sbmlutils/src/sbmlutils/factory.py\u001b\\\u001b[2mfactory.py\u001b[0m\u001b]8;;\u001b\\\u001b[2m:436\u001b[0m\n"
      ]
     },
     "metadata": {},
     "output_type": "display_data"
    },
    {
     "data": {
      "text/html": [
       "<pre style=\"white-space:pre;overflow-x:auto;line-height:normal;font-family:Menlo,'DejaVu Sans Mono',consolas,'Courier New',monospace\"><span style=\"color: #800000; text-decoration-color: #800000\">WARNING </span> <span style=\"color: #008000; text-decoration-color: #008000\">'sboTerm'</span> should be set on <span style=\"color: #008000; text-decoration-color: #008000\">'&lt;Parameter scale_Z&gt;'</span>                      <a href=\"file:///home/mkoenig/git/sbmlutils/src/sbmlutils/factory.py\"><span style=\"color: #7f7f7f; text-decoration-color: #7f7f7f\">factory.py</span></a><span style=\"color: #7f7f7f; text-decoration-color: #7f7f7f\">:461</span>\n",
       "</pre>\n"
      ],
      "text/plain": [
       "\u001b[31mWARNING \u001b[0m \u001b[32m'sboTerm'\u001b[0m should be set on \u001b[32m'\u001b[0m\u001b[32m<\u001b[0m\u001b[32mParameter\u001b[0m\u001b[32m scale_Z\u001b[0m\u001b[32m>\u001b[0m\u001b[32m'\u001b[0m                      \u001b]8;id=549556;file:///home/mkoenig/git/sbmlutils/src/sbmlutils/factory.py\u001b\\\u001b[2mfactory.py\u001b[0m\u001b]8;;\u001b\\\u001b[2m:461\u001b[0m\n"
      ]
     },
     "metadata": {},
     "output_type": "display_data"
    },
    {
     "data": {
      "text/html": [
       "<pre style=\"white-space:pre;overflow-x:auto;line-height:normal;font-family:Menlo,'DejaVu Sans Mono',consolas,'Courier New',monospace\"><span style=\"color: #800000; text-decoration-color: #800000\">WARNING </span> <span style=\"color: #008000; text-decoration-color: #008000\">'name'</span> should be set on <span style=\"color: #008000; text-decoration-color: #008000\">'&lt;Parameter Z&gt;'</span>                               <a href=\"file:///home/mkoenig/git/sbmlutils/src/sbmlutils/factory.py\"><span style=\"color: #7f7f7f; text-decoration-color: #7f7f7f\">factory.py</span></a><span style=\"color: #7f7f7f; text-decoration-color: #7f7f7f\">:436</span>\n",
       "</pre>\n"
      ],
      "text/plain": [
       "\u001b[31mWARNING \u001b[0m \u001b[32m'name'\u001b[0m should be set on \u001b[32m'\u001b[0m\u001b[32m<\u001b[0m\u001b[32mParameter\u001b[0m\u001b[32m Z\u001b[0m\u001b[32m>\u001b[0m\u001b[32m'\u001b[0m                               \u001b]8;id=286675;file:///home/mkoenig/git/sbmlutils/src/sbmlutils/factory.py\u001b\\\u001b[2mfactory.py\u001b[0m\u001b]8;;\u001b\\\u001b[2m:436\u001b[0m\n"
      ]
     },
     "metadata": {},
     "output_type": "display_data"
    },
    {
     "data": {
      "text/html": [
       "<pre style=\"white-space:pre;overflow-x:auto;line-height:normal;font-family:Menlo,'DejaVu Sans Mono',consolas,'Courier New',monospace\"><span style=\"color: #800000; text-decoration-color: #800000\">WARNING </span> <span style=\"color: #008000; text-decoration-color: #008000\">'sboTerm'</span> should be set on <span style=\"color: #008000; text-decoration-color: #008000\">'&lt;Parameter Z&gt;'</span>                            <a href=\"file:///home/mkoenig/git/sbmlutils/src/sbmlutils/factory.py\"><span style=\"color: #7f7f7f; text-decoration-color: #7f7f7f\">factory.py</span></a><span style=\"color: #7f7f7f; text-decoration-color: #7f7f7f\">:461</span>\n",
       "</pre>\n"
      ],
      "text/plain": [
       "\u001b[31mWARNING \u001b[0m \u001b[32m'sboTerm'\u001b[0m should be set on \u001b[32m'\u001b[0m\u001b[32m<\u001b[0m\u001b[32mParameter\u001b[0m\u001b[32m Z\u001b[0m\u001b[32m>\u001b[0m\u001b[32m'\u001b[0m                            \u001b]8;id=350007;file:///home/mkoenig/git/sbmlutils/src/sbmlutils/factory.py\u001b\\\u001b[2mfactory.py\u001b[0m\u001b]8;;\u001b\\\u001b[2m:461\u001b[0m\n"
      ]
     },
     "metadata": {},
     "output_type": "display_data"
    },
    {
     "data": {
      "text/html": [
       "<pre style=\"white-space:pre;overflow-x:auto;line-height:normal;font-family:Menlo,'DejaVu Sans Mono',consolas,'Courier New',monospace\"><span style=\"color: #800000; text-decoration-color: #800000\">WARNING </span> <span style=\"color: #008000; text-decoration-color: #008000\">'name'</span> should be set on <span style=\"color: #008000; text-decoration-color: #008000\">'&lt;Uncertainty&gt;'</span>                               <a href=\"file:///home/mkoenig/git/sbmlutils/src/sbmlutils/factory.py\"><span style=\"color: #7f7f7f; text-decoration-color: #7f7f7f\">factory.py</span></a><span style=\"color: #7f7f7f; text-decoration-color: #7f7f7f\">:436</span>\n",
       "</pre>\n"
      ],
      "text/plain": [
       "\u001b[31mWARNING \u001b[0m \u001b[32m'name'\u001b[0m should be set on \u001b[32m'\u001b[0m\u001b[32m<\u001b[0m\u001b[32mUncertainty\u001b[0m\u001b[32m>\u001b[0m\u001b[32m'\u001b[0m                               \u001b]8;id=134428;file:///home/mkoenig/git/sbmlutils/src/sbmlutils/factory.py\u001b\\\u001b[2mfactory.py\u001b[0m\u001b]8;;\u001b\\\u001b[2m:436\u001b[0m\n"
      ]
     },
     "metadata": {},
     "output_type": "display_data"
    },
    {
     "data": {
      "text/html": [
       "<pre style=\"white-space:pre;overflow-x:auto;line-height:normal;font-family:Menlo,'DejaVu Sans Mono',consolas,'Courier New',monospace\"><span style=\"color: #800000; text-decoration-color: #800000\">WARNING </span> <span style=\"color: #008000; text-decoration-color: #008000\">'sboTerm'</span> should be set on <span style=\"color: #008000; text-decoration-color: #008000\">'&lt;Uncertainty&gt;'</span>                            <a href=\"file:///home/mkoenig/git/sbmlutils/src/sbmlutils/factory.py\"><span style=\"color: #7f7f7f; text-decoration-color: #7f7f7f\">factory.py</span></a><span style=\"color: #7f7f7f; text-decoration-color: #7f7f7f\">:461</span>\n",
       "</pre>\n"
      ],
      "text/plain": [
       "\u001b[31mWARNING \u001b[0m \u001b[32m'sboTerm'\u001b[0m should be set on \u001b[32m'\u001b[0m\u001b[32m<\u001b[0m\u001b[32mUncertainty\u001b[0m\u001b[32m>\u001b[0m\u001b[32m'\u001b[0m                            \u001b]8;id=895130;file:///home/mkoenig/git/sbmlutils/src/sbmlutils/factory.py\u001b\\\u001b[2mfactory.py\u001b[0m\u001b]8;;\u001b\\\u001b[2m:461\u001b[0m\n"
      ]
     },
     "metadata": {},
     "output_type": "display_data"
    },
    {
     "data": {
      "text/html": [
       "<style type=\"text/css\">pre { line-height: 125%; }\n",
       "td.linenos .normal { color: inherit; background-color: transparent; padding-left: 5px; padding-right: 5px; }\n",
       "span.linenos { color: inherit; background-color: transparent; padding-left: 5px; padding-right: 5px; }\n",
       "td.linenos .special { color: #000000; background-color: #ffffc0; padding-left: 5px; padding-right: 5px; }\n",
       "span.linenos.special { color: #000000; background-color: #ffffc0; padding-left: 5px; padding-right: 5px; }\n",
       ".highlight .hll { background-color: #ffffcc }\n",
       ".highlight { background: #f8f8f8; }\n",
       ".highlight .c { color: #408080; font-style: italic } /* Comment */\n",
       ".highlight .err { border: 1px solid #FF0000 } /* Error */\n",
       ".highlight .k { color: #008000; font-weight: bold } /* Keyword */\n",
       ".highlight .o { color: #666666 } /* Operator */\n",
       ".highlight .ch { color: #408080; font-style: italic } /* Comment.Hashbang */\n",
       ".highlight .cm { color: #408080; font-style: italic } /* Comment.Multiline */\n",
       ".highlight .cp { color: #BC7A00 } /* Comment.Preproc */\n",
       ".highlight .cpf { color: #408080; font-style: italic } /* Comment.PreprocFile */\n",
       ".highlight .c1 { color: #408080; font-style: italic } /* Comment.Single */\n",
       ".highlight .cs { color: #408080; font-style: italic } /* Comment.Special */\n",
       ".highlight .gd { color: #A00000 } /* Generic.Deleted */\n",
       ".highlight .ge { font-style: italic } /* Generic.Emph */\n",
       ".highlight .gr { color: #FF0000 } /* Generic.Error */\n",
       ".highlight .gh { color: #000080; font-weight: bold } /* Generic.Heading */\n",
       ".highlight .gi { color: #00A000 } /* Generic.Inserted */\n",
       ".highlight .go { color: #888888 } /* Generic.Output */\n",
       ".highlight .gp { color: #000080; font-weight: bold } /* Generic.Prompt */\n",
       ".highlight .gs { font-weight: bold } /* Generic.Strong */\n",
       ".highlight .gu { color: #800080; font-weight: bold } /* Generic.Subheading */\n",
       ".highlight .gt { color: #0044DD } /* Generic.Traceback */\n",
       ".highlight .kc { color: #008000; font-weight: bold } /* Keyword.Constant */\n",
       ".highlight .kd { color: #008000; font-weight: bold } /* Keyword.Declaration */\n",
       ".highlight .kn { color: #008000; font-weight: bold } /* Keyword.Namespace */\n",
       ".highlight .kp { color: #008000 } /* Keyword.Pseudo */\n",
       ".highlight .kr { color: #008000; font-weight: bold } /* Keyword.Reserved */\n",
       ".highlight .kt { color: #B00040 } /* Keyword.Type */\n",
       ".highlight .m { color: #666666 } /* Literal.Number */\n",
       ".highlight .s { color: #BA2121 } /* Literal.String */\n",
       ".highlight .na { color: #7D9029 } /* Name.Attribute */\n",
       ".highlight .nb { color: #008000 } /* Name.Builtin */\n",
       ".highlight .nc { color: #0000FF; font-weight: bold } /* Name.Class */\n",
       ".highlight .no { color: #880000 } /* Name.Constant */\n",
       ".highlight .nd { color: #AA22FF } /* Name.Decorator */\n",
       ".highlight .ni { color: #999999; font-weight: bold } /* Name.Entity */\n",
       ".highlight .ne { color: #D2413A; font-weight: bold } /* Name.Exception */\n",
       ".highlight .nf { color: #0000FF } /* Name.Function */\n",
       ".highlight .nl { color: #A0A000 } /* Name.Label */\n",
       ".highlight .nn { color: #0000FF; font-weight: bold } /* Name.Namespace */\n",
       ".highlight .nt { color: #008000; font-weight: bold } /* Name.Tag */\n",
       ".highlight .nv { color: #19177C } /* Name.Variable */\n",
       ".highlight .ow { color: #AA22FF; font-weight: bold } /* Operator.Word */\n",
       ".highlight .w { color: #bbbbbb } /* Text.Whitespace */\n",
       ".highlight .mb { color: #666666 } /* Literal.Number.Bin */\n",
       ".highlight .mf { color: #666666 } /* Literal.Number.Float */\n",
       ".highlight .mh { color: #666666 } /* Literal.Number.Hex */\n",
       ".highlight .mi { color: #666666 } /* Literal.Number.Integer */\n",
       ".highlight .mo { color: #666666 } /* Literal.Number.Oct */\n",
       ".highlight .sa { color: #BA2121 } /* Literal.String.Affix */\n",
       ".highlight .sb { color: #BA2121 } /* Literal.String.Backtick */\n",
       ".highlight .sc { color: #BA2121 } /* Literal.String.Char */\n",
       ".highlight .dl { color: #BA2121 } /* Literal.String.Delimiter */\n",
       ".highlight .sd { color: #BA2121; font-style: italic } /* Literal.String.Doc */\n",
       ".highlight .s2 { color: #BA2121 } /* Literal.String.Double */\n",
       ".highlight .se { color: #BB6622; font-weight: bold } /* Literal.String.Escape */\n",
       ".highlight .sh { color: #BA2121 } /* Literal.String.Heredoc */\n",
       ".highlight .si { color: #BB6688; font-weight: bold } /* Literal.String.Interpol */\n",
       ".highlight .sx { color: #008000 } /* Literal.String.Other */\n",
       ".highlight .sr { color: #BB6688 } /* Literal.String.Regex */\n",
       ".highlight .s1 { color: #BA2121 } /* Literal.String.Single */\n",
       ".highlight .ss { color: #19177C } /* Literal.String.Symbol */\n",
       ".highlight .bp { color: #008000 } /* Name.Builtin.Pseudo */\n",
       ".highlight .fm { color: #0000FF } /* Name.Function.Magic */\n",
       ".highlight .vc { color: #19177C } /* Name.Variable.Class */\n",
       ".highlight .vg { color: #19177C } /* Name.Variable.Global */\n",
       ".highlight .vi { color: #19177C } /* Name.Variable.Instance */\n",
       ".highlight .vm { color: #19177C } /* Name.Variable.Magic */\n",
       ".highlight .il { color: #666666 } /* Literal.Number.Integer.Long */</style>    <div class=\"highlight\"><pre><span></span><span class=\"cp\">&lt;?xml version=&quot;1.0&quot; encoding=&quot;UTF-8&quot;?&gt;</span>\n",
       "<span class=\"nt\">&lt;sbml</span> <span class=\"na\">xmlns=</span><span class=\"s\">&quot;http://www.sbml.org/sbml/level3/version1/core&quot;</span> <span class=\"na\">xmlns:comp=</span><span class=\"s\">&quot;http://www.sbml.org/sbml/level3/version1/comp/version1&quot;</span> <span class=\"na\">xmlns:distrib=</span><span class=\"s\">&quot;http://www.sbml.org/sbml/level3/version1/distrib/version1&quot;</span> <span class=\"na\">level=</span><span class=\"s\">&quot;3&quot;</span> <span class=\"na\">version=</span><span class=\"s\">&quot;1&quot;</span> <span class=\"na\">comp:required=</span><span class=\"s\">&quot;true&quot;</span> <span class=\"na\">distrib:required=</span><span class=\"s\">&quot;true&quot;</span><span class=\"nt\">&gt;</span>\n",
       "  <span class=\"nt\">&lt;notes&gt;</span>\n",
       "    <span class=\"nt\">&lt;body</span> <span class=\"na\">xmlns=</span><span class=\"s\">&quot;http://www.w3.org/1999/xhtml&quot;</span><span class=\"nt\">&gt;</span>\n",
       "      <span class=\"nt\">&lt;p&gt;</span>Created with <span class=\"nt\">&lt;a</span> <span class=\"na\">href=</span><span class=\"s\">&quot;https://github.com/matthiaskoenig/sbmlutils&quot;</span><span class=\"nt\">&gt;</span>https://github.com/matthiaskoenig/sbmlutils<span class=\"nt\">&lt;/a&gt;</span>.\n",
       "<span class=\"nt\">&lt;a</span> <span class=\"na\">href=</span><span class=\"s\">&quot;https://doi.org/10.5281/zenodo.5525390&quot;</span><span class=\"nt\">&gt;</span>\n",
       "        <span class=\"nt\">&lt;img</span> <span class=\"na\">src=</span><span class=\"s\">&quot;https://zenodo.org/badge/DOI/10.5281/zenodo.5525390.svg&quot;</span> <span class=\"na\">alt=</span><span class=\"s\">&quot;DOI&quot;</span><span class=\"nt\">/&gt;&lt;/a&gt;&lt;/p&gt;</span>\n",
       "      <span class=\"nt\">&lt;/body&gt;</span>\n",
       "    <span class=\"nt\">&lt;/notes&gt;</span>\n",
       "  <span class=\"nt\">&lt;model</span> <span class=\"na\">id=</span><span class=\"s\">&quot;random_variable&quot;</span><span class=\"nt\">&gt;</span>\n",
       "    <span class=\"nt\">&lt;listOfParameters&gt;</span>\n",
       "      <span class=\"nt\">&lt;parameter</span> <span class=\"na\">id=</span><span class=\"s\">&quot;shape_Z&quot;</span> <span class=\"na\">value=</span><span class=\"s\">&quot;10&quot;</span> <span class=\"na\">constant=</span><span class=\"s\">&quot;true&quot;</span><span class=\"nt\">/&gt;</span>\n",
       "      <span class=\"nt\">&lt;parameter</span> <span class=\"na\">id=</span><span class=\"s\">&quot;scale_Z&quot;</span> <span class=\"na\">value=</span><span class=\"s\">&quot;0.1&quot;</span> <span class=\"na\">constant=</span><span class=\"s\">&quot;true&quot;</span><span class=\"nt\">/&gt;</span>\n",
       "      <span class=\"nt\">&lt;parameter</span> <span class=\"na\">id=</span><span class=\"s\">&quot;Z&quot;</span> <span class=\"na\">value=</span><span class=\"s\">&quot;0.1&quot;</span> <span class=\"na\">constant=</span><span class=\"s\">&quot;true&quot;</span><span class=\"nt\">&gt;</span>\n",
       "        <span class=\"nt\">&lt;distrib:listOfUncertainties&gt;</span>\n",
       "          <span class=\"nt\">&lt;distrib:uncertainty&gt;</span>\n",
       "            <span class=\"nt\">&lt;distrib:uncertParameter</span> <span class=\"na\">distrib:value=</span><span class=\"s\">&quot;1.03&quot;</span> <span class=\"na\">distrib:type=</span><span class=\"s\">&quot;mean&quot;</span><span class=\"nt\">/&gt;</span>\n",
       "            <span class=\"nt\">&lt;distrib:uncertParameter</span> <span class=\"na\">distrib:value=</span><span class=\"s\">&quot;0.97&quot;</span> <span class=\"na\">distrib:type=</span><span class=\"s\">&quot;variance&quot;</span><span class=\"nt\">/&gt;</span>\n",
       "            <span class=\"nt\">&lt;distrib:uncertParameter</span> <span class=\"na\">distrib:type=</span><span class=\"s\">&quot;distribution&quot;</span> <span class=\"na\">distrib:definitionURL=</span><span class=\"s\">&quot;http://www.sbml.org/sbml/symbols/distrib/gamma&quot;</span><span class=\"nt\">&gt;</span>\n",
       "              <span class=\"nt\">&lt;math</span> <span class=\"na\">xmlns=</span><span class=\"s\">&quot;http://www.w3.org/1998/Math/MathML&quot;</span><span class=\"nt\">&gt;</span>\n",
       "                <span class=\"nt\">&lt;apply&gt;</span>\n",
       "                  <span class=\"nt\">&lt;csymbol</span> <span class=\"na\">encoding=</span><span class=\"s\">&quot;text&quot;</span> <span class=\"na\">definitionURL=</span><span class=\"s\">&quot;http://www.sbml.org/sbml/symbols/distrib/gamma&quot;</span><span class=\"nt\">&gt;</span> gamma <span class=\"nt\">&lt;/csymbol&gt;</span>\n",
       "                  <span class=\"nt\">&lt;ci&gt;</span> shape_Z <span class=\"nt\">&lt;/ci&gt;</span>\n",
       "                  <span class=\"nt\">&lt;ci&gt;</span> scale_Z <span class=\"nt\">&lt;/ci&gt;</span>\n",
       "                <span class=\"nt\">&lt;/apply&gt;</span>\n",
       "              <span class=\"nt\">&lt;/math&gt;</span>\n",
       "            <span class=\"nt\">&lt;/distrib:uncertParameter&gt;</span>\n",
       "          <span class=\"nt\">&lt;/distrib:uncertainty&gt;</span>\n",
       "        <span class=\"nt\">&lt;/distrib:listOfUncertainties&gt;</span>\n",
       "      <span class=\"nt\">&lt;/parameter&gt;</span>\n",
       "    <span class=\"nt\">&lt;/listOfParameters&gt;</span>\n",
       "  <span class=\"nt\">&lt;/model&gt;</span>\n",
       "<span class=\"nt\">&lt;/sbml&gt;</span>\n",
       "</pre></div>\n"
      ]
     },
     "metadata": {},
     "output_type": "display_data"
    },
    {
     "data": {
      "text/html": [
       "<pre style=\"white-space:pre;overflow-x:auto;line-height:normal;font-family:Menlo,'DejaVu Sans Mono',consolas,'Courier New',monospace\">\n",
       "</pre>\n"
      ],
      "text/plain": [
       "\n"
      ]
     },
     "metadata": {},
     "output_type": "display_data"
    },
    {
     "data": {
      "text/html": [
       "<pre style=\"white-space:pre;overflow-x:auto;line-height:normal;font-family:Menlo,'DejaVu Sans Mono',consolas,'Courier New',monospace\"><span style=\"color: #008000; text-decoration-color: #008000\">─────────────────────────────────────── </span>Validate SBML<span style=\"color: #008000; text-decoration-color: #008000\"> ───────────────────────────────────────</span>\n",
       "</pre>\n"
      ],
      "text/plain": [
       "\u001b[32m─────────────────────────────────────── \u001b[0mValidate SBML\u001b[32m ───────────────────────────────────────\u001b[0m\n"
      ]
     },
     "metadata": {},
     "output_type": "display_data"
    },
    {
     "data": {
      "text/html": [
       "<pre style=\"white-space:pre;overflow-x:auto;line-height:normal;font-family:Menlo,'DejaVu Sans Mono',consolas,'Courier New',monospace\"><span style=\"color: #008000; text-decoration-color: #008000; font-weight: bold\">&lt;</span><span style=\"color: #ff00ff; text-decoration-color: #ff00ff; font-weight: bold\">SBMLDocument</span><span style=\"color: #008000; text-decoration-color: #008000; font-weight: bold\">&gt;</span>\n",
       "<span style=\"color: #008000; text-decoration-color: #008000\">valid                    : TRUE</span>\n",
       "<span style=\"color: #008000; text-decoration-color: #008000\">check time </span><span style=\"color: #008000; text-decoration-color: #008000; font-weight: bold\">(</span><span style=\"color: #008000; text-decoration-color: #008000\">s</span><span style=\"color: #008000; text-decoration-color: #008000; font-weight: bold\">)</span><span style=\"color: #008000; text-decoration-color: #008000\">           : </span><span style=\"color: #008080; text-decoration-color: #008080; font-weight: bold\">0.002</span>\n",
       "</pre>\n"
      ],
      "text/plain": [
       "\u001b[1;32m<\u001b[0m\u001b[1;95mSBMLDocument\u001b[0m\u001b[1;32m>\u001b[0m\n",
       "\u001b[32mvalid                    : TRUE\u001b[0m\n",
       "\u001b[32mcheck time \u001b[0m\u001b[1;32m(\u001b[0m\u001b[32ms\u001b[0m\u001b[1;32m)\u001b[0m\u001b[32m           : \u001b[0m\u001b[1;36m0.002\u001b[0m\n"
      ]
     },
     "metadata": {},
     "output_type": "display_data"
    },
    {
     "data": {
      "text/html": [
       "<pre style=\"white-space:pre;overflow-x:auto;line-height:normal;font-family:Menlo,'DejaVu Sans Mono',consolas,'Courier New',monospace\"><span style=\"color: #008000; text-decoration-color: #008000\">─────────────────────────────────────────────────────────────────────────────────────────────</span>\n",
       "</pre>\n"
      ],
      "text/plain": [
       "\u001b[32m─────────────────────────────────────────────────────────────────────────────────────────────\u001b[0m\n"
      ]
     },
     "metadata": {},
     "output_type": "display_data"
    },
    {
     "data": {
      "text/html": [
       "<pre style=\"white-space:pre;overflow-x:auto;line-height:normal;font-family:Menlo,'DejaVu Sans Mono',consolas,'Courier New',monospace\">\n",
       "</pre>\n"
      ],
      "text/plain": [
       "\n"
      ]
     },
     "metadata": {},
     "output_type": "display_data"
    }
   ],
   "source": [
    "import libsbml\n",
    "md: ModelDict = {\n",
    "    'sid': 'random_variable',\n",
    "    'packages': ['distrib'],\n",
    "    'parameters': [\n",
    "        Parameter(\"shape_Z\", value=10.0),\n",
    "        Parameter(\"scale_Z\", value=0.1),\n",
    "        Parameter(\"Z\", value=0.1,\n",
    "                  uncertainties=[\n",
    "                      Uncertainty(formula=\"gamma(shape_Z, scale_Z)\",\n",
    "                                  uncertParameters=[\n",
    "                                      UncertParameter(type=libsbml.DISTRIB_UNCERTTYPE_MEAN, value=1.03),\n",
    "                                      UncertParameter(type=libsbml.DISTRIB_UNCERTTYPE_VARIANCE, value=0.97),\n",
    "                                  ])\n",
    "                  ])\n",
    "    ]\n",
    "}\n",
    "\n",
    "# create model and print SBML\n",
    "doc = Document(Model(**md))\n",
    "print_xml(doc.get_sbml())\n",
    "\n",
    "# validate model\n",
    "validate_doc(doc.doc, units_consistency=False);"
   ]
  },
  {
   "cell_type": "markdown",
   "metadata": {},
   "source": [
    "### Overview over UncertParameters and UncertSpans\n",
    "The following example provides an overview over the available fields."
   ]
  },
  {
   "cell_type": "code",
   "execution_count": 12,
   "metadata": {},
   "outputs": [
    {
     "data": {
      "text/html": [
       "<pre style=\"white-space:pre;overflow-x:auto;line-height:normal;font-family:Menlo,'DejaVu Sans Mono',consolas,'Courier New',monospace\"><span style=\"color: #000080; text-decoration-color: #000080\">INFO    </span> Create SBML for model <span style=\"color: #008000; text-decoration-color: #008000\">'parameters_spans'</span>                             <a href=\"file:///home/mkoenig/git/sbmlutils/src/sbmlutils/factory.py\"><span style=\"color: #7f7f7f; text-decoration-color: #7f7f7f\">factory.py</span></a><span style=\"color: #7f7f7f; text-decoration-color: #7f7f7f\">:2896</span>\n",
       "</pre>\n"
      ],
      "text/plain": [
       "\u001b[34mINFO    \u001b[0m Create SBML for model \u001b[32m'parameters_spans'\u001b[0m                             \u001b]8;id=219035;file:///home/mkoenig/git/sbmlutils/src/sbmlutils/factory.py\u001b\\\u001b[2mfactory.py\u001b[0m\u001b]8;;\u001b\\\u001b[2m:2896\u001b[0m\n"
      ]
     },
     "metadata": {},
     "output_type": "display_data"
    },
    {
     "data": {
      "text/html": [
       "<pre style=\"white-space:pre;overflow-x:auto;line-height:normal;font-family:Menlo,'DejaVu Sans Mono',consolas,'Courier New',monospace\"><span style=\"color: #800000; text-decoration-color: #800000\">WARNING </span> <span style=\"color: #008000; text-decoration-color: #008000\">'name'</span> should be set on <span style=\"color: #008000; text-decoration-color: #008000\">'&lt;Model parameters_spans&gt;'</span>                    <a href=\"file:///home/mkoenig/git/sbmlutils/src/sbmlutils/factory.py\"><span style=\"color: #7f7f7f; text-decoration-color: #7f7f7f\">factory.py</span></a><span style=\"color: #7f7f7f; text-decoration-color: #7f7f7f\">:436</span>\n",
       "</pre>\n"
      ],
      "text/plain": [
       "\u001b[31mWARNING \u001b[0m \u001b[32m'name'\u001b[0m should be set on \u001b[32m'\u001b[0m\u001b[32m<\u001b[0m\u001b[32mModel\u001b[0m\u001b[32m parameters_spans\u001b[0m\u001b[32m>\u001b[0m\u001b[32m'\u001b[0m                    \u001b]8;id=435065;file:///home/mkoenig/git/sbmlutils/src/sbmlutils/factory.py\u001b\\\u001b[2mfactory.py\u001b[0m\u001b]8;;\u001b\\\u001b[2m:436\u001b[0m\n"
      ]
     },
     "metadata": {},
     "output_type": "display_data"
    },
    {
     "data": {
      "text/html": [
       "<pre style=\"white-space:pre;overflow-x:auto;line-height:normal;font-family:Menlo,'DejaVu Sans Mono',consolas,'Courier New',monospace\"><span style=\"color: #800000; text-decoration-color: #800000\">WARNING </span> <span style=\"color: #008000; text-decoration-color: #008000\">'name'</span> should be set on <span style=\"color: #008000; text-decoration-color: #008000\">'&lt;Parameter p&gt;'</span>                               <a href=\"file:///home/mkoenig/git/sbmlutils/src/sbmlutils/factory.py\"><span style=\"color: #7f7f7f; text-decoration-color: #7f7f7f\">factory.py</span></a><span style=\"color: #7f7f7f; text-decoration-color: #7f7f7f\">:436</span>\n",
       "</pre>\n"
      ],
      "text/plain": [
       "\u001b[31mWARNING \u001b[0m \u001b[32m'name'\u001b[0m should be set on \u001b[32m'\u001b[0m\u001b[32m<\u001b[0m\u001b[32mParameter\u001b[0m\u001b[32m p\u001b[0m\u001b[32m>\u001b[0m\u001b[32m'\u001b[0m                               \u001b]8;id=270630;file:///home/mkoenig/git/sbmlutils/src/sbmlutils/factory.py\u001b\\\u001b[2mfactory.py\u001b[0m\u001b]8;;\u001b\\\u001b[2m:436\u001b[0m\n"
      ]
     },
     "metadata": {},
     "output_type": "display_data"
    },
    {
     "data": {
      "text/html": [
       "<pre style=\"white-space:pre;overflow-x:auto;line-height:normal;font-family:Menlo,'DejaVu Sans Mono',consolas,'Courier New',monospace\"><span style=\"color: #800000; text-decoration-color: #800000\">WARNING </span> <span style=\"color: #008000; text-decoration-color: #008000\">'sboTerm'</span> should be set on <span style=\"color: #008000; text-decoration-color: #008000\">'&lt;Parameter p&gt;'</span>                            <a href=\"file:///home/mkoenig/git/sbmlutils/src/sbmlutils/factory.py\"><span style=\"color: #7f7f7f; text-decoration-color: #7f7f7f\">factory.py</span></a><span style=\"color: #7f7f7f; text-decoration-color: #7f7f7f\">:461</span>\n",
       "</pre>\n"
      ],
      "text/plain": [
       "\u001b[31mWARNING \u001b[0m \u001b[32m'sboTerm'\u001b[0m should be set on \u001b[32m'\u001b[0m\u001b[32m<\u001b[0m\u001b[32mParameter\u001b[0m\u001b[32m p\u001b[0m\u001b[32m>\u001b[0m\u001b[32m'\u001b[0m                            \u001b]8;id=6938;file:///home/mkoenig/git/sbmlutils/src/sbmlutils/factory.py\u001b\\\u001b[2mfactory.py\u001b[0m\u001b]8;;\u001b\\\u001b[2m:461\u001b[0m\n"
      ]
     },
     "metadata": {},
     "output_type": "display_data"
    },
    {
     "data": {
      "text/html": [
       "<pre style=\"white-space:pre;overflow-x:auto;line-height:normal;font-family:Menlo,'DejaVu Sans Mono',consolas,'Courier New',monospace\"><span style=\"color: #800000; text-decoration-color: #800000\">WARNING </span> <span style=\"color: #008000; text-decoration-color: #008000\">'name'</span> should be set on <span style=\"color: #008000; text-decoration-color: #008000\">'&lt;Uncertainty&gt;'</span>                               <a href=\"file:///home/mkoenig/git/sbmlutils/src/sbmlutils/factory.py\"><span style=\"color: #7f7f7f; text-decoration-color: #7f7f7f\">factory.py</span></a><span style=\"color: #7f7f7f; text-decoration-color: #7f7f7f\">:436</span>\n",
       "</pre>\n"
      ],
      "text/plain": [
       "\u001b[31mWARNING \u001b[0m \u001b[32m'name'\u001b[0m should be set on \u001b[32m'\u001b[0m\u001b[32m<\u001b[0m\u001b[32mUncertainty\u001b[0m\u001b[32m>\u001b[0m\u001b[32m'\u001b[0m                               \u001b]8;id=436699;file:///home/mkoenig/git/sbmlutils/src/sbmlutils/factory.py\u001b\\\u001b[2mfactory.py\u001b[0m\u001b]8;;\u001b\\\u001b[2m:436\u001b[0m\n"
      ]
     },
     "metadata": {},
     "output_type": "display_data"
    },
    {
     "data": {
      "text/html": [
       "<pre style=\"white-space:pre;overflow-x:auto;line-height:normal;font-family:Menlo,'DejaVu Sans Mono',consolas,'Courier New',monospace\"><span style=\"color: #800000; text-decoration-color: #800000\">WARNING </span> <span style=\"color: #008000; text-decoration-color: #008000\">'sboTerm'</span> should be set on <span style=\"color: #008000; text-decoration-color: #008000\">'&lt;Uncertainty&gt;'</span>                            <a href=\"file:///home/mkoenig/git/sbmlutils/src/sbmlutils/factory.py\"><span style=\"color: #7f7f7f; text-decoration-color: #7f7f7f\">factory.py</span></a><span style=\"color: #7f7f7f; text-decoration-color: #7f7f7f\">:461</span>\n",
       "</pre>\n"
      ],
      "text/plain": [
       "\u001b[31mWARNING \u001b[0m \u001b[32m'sboTerm'\u001b[0m should be set on \u001b[32m'\u001b[0m\u001b[32m<\u001b[0m\u001b[32mUncertainty\u001b[0m\u001b[32m>\u001b[0m\u001b[32m'\u001b[0m                            \u001b]8;id=209249;file:///home/mkoenig/git/sbmlutils/src/sbmlutils/factory.py\u001b\\\u001b[2mfactory.py\u001b[0m\u001b]8;;\u001b\\\u001b[2m:461\u001b[0m\n"
      ]
     },
     "metadata": {},
     "output_type": "display_data"
    },
    {
     "data": {
      "text/html": [
       "<pre style=\"white-space:pre;overflow-x:auto;line-height:normal;font-family:Menlo,'DejaVu Sans Mono',consolas,'Courier New',monospace\"><span style=\"color: #800000; text-decoration-color: #800000; font-weight: bold\">ERROR   </span> Unsupported type for UncertParameter: <span style=\"color: #008000; text-decoration-color: #008000\">'12'</span> in                        <a href=\"file:///home/mkoenig/git/sbmlutils/src/sbmlutils/factory.py\"><span style=\"color: #7f7f7f; text-decoration-color: #7f7f7f\">factory.py</span></a><span style=\"color: #7f7f7f; text-decoration-color: #7f7f7f\">:1838</span>\n",
       "         <span style=\"color: #008000; text-decoration-color: #008000\">'&lt;sbmlutils.factory.UncertSpan object at 0x7fb828e5d160&gt;'</span>.                          \n",
       "</pre>\n"
      ],
      "text/plain": [
       "\u001b[1;31mERROR   \u001b[0m Unsupported type for UncertParameter: \u001b[32m'12'\u001b[0m in                        \u001b]8;id=727428;file:///home/mkoenig/git/sbmlutils/src/sbmlutils/factory.py\u001b\\\u001b[2mfactory.py\u001b[0m\u001b]8;;\u001b\\\u001b[2m:1838\u001b[0m\n",
       "         \u001b[32m'\u001b[0m\u001b[32m<\u001b[0m\u001b[32msbmlutils.factory.UncertSpan\u001b[0m\u001b[32m object at 0x7fb828e5d160\u001b[0m\u001b[32m>\u001b[0m\u001b[32m'\u001b[0m.                          \n"
      ]
     },
     "metadata": {},
     "output_type": "display_data"
    },
    {
     "data": {
      "text/html": [
       "<pre style=\"white-space:pre;overflow-x:auto;line-height:normal;font-family:Menlo,'DejaVu Sans Mono',consolas,'Courier New',monospace\"><span style=\"color: #800000; text-decoration-color: #800000; font-weight: bold\">ERROR   </span> Unsupported type for UncertParameter: <span style=\"color: #008000; text-decoration-color: #008000\">'13'</span> in                        <a href=\"file:///home/mkoenig/git/sbmlutils/src/sbmlutils/factory.py\"><span style=\"color: #7f7f7f; text-decoration-color: #7f7f7f\">factory.py</span></a><span style=\"color: #7f7f7f; text-decoration-color: #7f7f7f\">:1838</span>\n",
       "         <span style=\"color: #008000; text-decoration-color: #008000\">'&lt;sbmlutils.factory.UncertSpan object at 0x7fb828e5d370&gt;'</span>.                          \n",
       "</pre>\n"
      ],
      "text/plain": [
       "\u001b[1;31mERROR   \u001b[0m Unsupported type for UncertParameter: \u001b[32m'13'\u001b[0m in                        \u001b]8;id=862366;file:///home/mkoenig/git/sbmlutils/src/sbmlutils/factory.py\u001b\\\u001b[2mfactory.py\u001b[0m\u001b]8;;\u001b\\\u001b[2m:1838\u001b[0m\n",
       "         \u001b[32m'\u001b[0m\u001b[32m<\u001b[0m\u001b[32msbmlutils.factory.UncertSpan\u001b[0m\u001b[32m object at 0x7fb828e5d370\u001b[0m\u001b[32m>\u001b[0m\u001b[32m'\u001b[0m.                          \n"
      ]
     },
     "metadata": {},
     "output_type": "display_data"
    },
    {
     "data": {
      "text/html": [
       "<pre style=\"white-space:pre;overflow-x:auto;line-height:normal;font-family:Menlo,'DejaVu Sans Mono',consolas,'Courier New',monospace\"><span style=\"color: #800000; text-decoration-color: #800000; font-weight: bold\">ERROR   </span> Unsupported type for UncertParameter: <span style=\"color: #008000; text-decoration-color: #008000\">'14'</span> in                        <a href=\"file:///home/mkoenig/git/sbmlutils/src/sbmlutils/factory.py\"><span style=\"color: #7f7f7f; text-decoration-color: #7f7f7f\">factory.py</span></a><span style=\"color: #7f7f7f; text-decoration-color: #7f7f7f\">:1838</span>\n",
       "         <span style=\"color: #008000; text-decoration-color: #008000\">'&lt;sbmlutils.factory.UncertSpan object at 0x7fb828e5d0a0&gt;'</span>.                          \n",
       "</pre>\n"
      ],
      "text/plain": [
       "\u001b[1;31mERROR   \u001b[0m Unsupported type for UncertParameter: \u001b[32m'14'\u001b[0m in                        \u001b]8;id=104226;file:///home/mkoenig/git/sbmlutils/src/sbmlutils/factory.py\u001b\\\u001b[2mfactory.py\u001b[0m\u001b]8;;\u001b\\\u001b[2m:1838\u001b[0m\n",
       "         \u001b[32m'\u001b[0m\u001b[32m<\u001b[0m\u001b[32msbmlutils.factory.UncertSpan\u001b[0m\u001b[32m object at 0x7fb828e5d0a0\u001b[0m\u001b[32m>\u001b[0m\u001b[32m'\u001b[0m.                          \n"
      ]
     },
     "metadata": {},
     "output_type": "display_data"
    },
    {
     "data": {
      "text/html": [
       "<pre style=\"white-space:pre;overflow-x:auto;line-height:normal;font-family:Menlo,'DejaVu Sans Mono',consolas,'Courier New',monospace\"><span style=\"color: #800000; text-decoration-color: #800000; font-weight: bold\">ERROR   </span> Unsupported type for UncertParameter: <span style=\"color: #008000; text-decoration-color: #008000\">'15'</span> in                        <a href=\"file:///home/mkoenig/git/sbmlutils/src/sbmlutils/factory.py\"><span style=\"color: #7f7f7f; text-decoration-color: #7f7f7f\">factory.py</span></a><span style=\"color: #7f7f7f; text-decoration-color: #7f7f7f\">:1838</span>\n",
       "         <span style=\"color: #008000; text-decoration-color: #008000\">'&lt;sbmlutils.factory.UncertSpan object at 0x7fb828e5d2e0&gt;'</span>.                          \n",
       "</pre>\n"
      ],
      "text/plain": [
       "\u001b[1;31mERROR   \u001b[0m Unsupported type for UncertParameter: \u001b[32m'15'\u001b[0m in                        \u001b]8;id=785014;file:///home/mkoenig/git/sbmlutils/src/sbmlutils/factory.py\u001b\\\u001b[2mfactory.py\u001b[0m\u001b]8;;\u001b\\\u001b[2m:1838\u001b[0m\n",
       "         \u001b[32m'\u001b[0m\u001b[32m<\u001b[0m\u001b[32msbmlutils.factory.UncertSpan\u001b[0m\u001b[32m object at 0x7fb828e5d2e0\u001b[0m\u001b[32m>\u001b[0m\u001b[32m'\u001b[0m.                          \n"
      ]
     },
     "metadata": {},
     "output_type": "display_data"
    },
    {
     "data": {
      "text/html": [
       "<style type=\"text/css\">pre { line-height: 125%; }\n",
       "td.linenos .normal { color: inherit; background-color: transparent; padding-left: 5px; padding-right: 5px; }\n",
       "span.linenos { color: inherit; background-color: transparent; padding-left: 5px; padding-right: 5px; }\n",
       "td.linenos .special { color: #000000; background-color: #ffffc0; padding-left: 5px; padding-right: 5px; }\n",
       "span.linenos.special { color: #000000; background-color: #ffffc0; padding-left: 5px; padding-right: 5px; }\n",
       ".highlight .hll { background-color: #ffffcc }\n",
       ".highlight { background: #f8f8f8; }\n",
       ".highlight .c { color: #408080; font-style: italic } /* Comment */\n",
       ".highlight .err { border: 1px solid #FF0000 } /* Error */\n",
       ".highlight .k { color: #008000; font-weight: bold } /* Keyword */\n",
       ".highlight .o { color: #666666 } /* Operator */\n",
       ".highlight .ch { color: #408080; font-style: italic } /* Comment.Hashbang */\n",
       ".highlight .cm { color: #408080; font-style: italic } /* Comment.Multiline */\n",
       ".highlight .cp { color: #BC7A00 } /* Comment.Preproc */\n",
       ".highlight .cpf { color: #408080; font-style: italic } /* Comment.PreprocFile */\n",
       ".highlight .c1 { color: #408080; font-style: italic } /* Comment.Single */\n",
       ".highlight .cs { color: #408080; font-style: italic } /* Comment.Special */\n",
       ".highlight .gd { color: #A00000 } /* Generic.Deleted */\n",
       ".highlight .ge { font-style: italic } /* Generic.Emph */\n",
       ".highlight .gr { color: #FF0000 } /* Generic.Error */\n",
       ".highlight .gh { color: #000080; font-weight: bold } /* Generic.Heading */\n",
       ".highlight .gi { color: #00A000 } /* Generic.Inserted */\n",
       ".highlight .go { color: #888888 } /* Generic.Output */\n",
       ".highlight .gp { color: #000080; font-weight: bold } /* Generic.Prompt */\n",
       ".highlight .gs { font-weight: bold } /* Generic.Strong */\n",
       ".highlight .gu { color: #800080; font-weight: bold } /* Generic.Subheading */\n",
       ".highlight .gt { color: #0044DD } /* Generic.Traceback */\n",
       ".highlight .kc { color: #008000; font-weight: bold } /* Keyword.Constant */\n",
       ".highlight .kd { color: #008000; font-weight: bold } /* Keyword.Declaration */\n",
       ".highlight .kn { color: #008000; font-weight: bold } /* Keyword.Namespace */\n",
       ".highlight .kp { color: #008000 } /* Keyword.Pseudo */\n",
       ".highlight .kr { color: #008000; font-weight: bold } /* Keyword.Reserved */\n",
       ".highlight .kt { color: #B00040 } /* Keyword.Type */\n",
       ".highlight .m { color: #666666 } /* Literal.Number */\n",
       ".highlight .s { color: #BA2121 } /* Literal.String */\n",
       ".highlight .na { color: #7D9029 } /* Name.Attribute */\n",
       ".highlight .nb { color: #008000 } /* Name.Builtin */\n",
       ".highlight .nc { color: #0000FF; font-weight: bold } /* Name.Class */\n",
       ".highlight .no { color: #880000 } /* Name.Constant */\n",
       ".highlight .nd { color: #AA22FF } /* Name.Decorator */\n",
       ".highlight .ni { color: #999999; font-weight: bold } /* Name.Entity */\n",
       ".highlight .ne { color: #D2413A; font-weight: bold } /* Name.Exception */\n",
       ".highlight .nf { color: #0000FF } /* Name.Function */\n",
       ".highlight .nl { color: #A0A000 } /* Name.Label */\n",
       ".highlight .nn { color: #0000FF; font-weight: bold } /* Name.Namespace */\n",
       ".highlight .nt { color: #008000; font-weight: bold } /* Name.Tag */\n",
       ".highlight .nv { color: #19177C } /* Name.Variable */\n",
       ".highlight .ow { color: #AA22FF; font-weight: bold } /* Operator.Word */\n",
       ".highlight .w { color: #bbbbbb } /* Text.Whitespace */\n",
       ".highlight .mb { color: #666666 } /* Literal.Number.Bin */\n",
       ".highlight .mf { color: #666666 } /* Literal.Number.Float */\n",
       ".highlight .mh { color: #666666 } /* Literal.Number.Hex */\n",
       ".highlight .mi { color: #666666 } /* Literal.Number.Integer */\n",
       ".highlight .mo { color: #666666 } /* Literal.Number.Oct */\n",
       ".highlight .sa { color: #BA2121 } /* Literal.String.Affix */\n",
       ".highlight .sb { color: #BA2121 } /* Literal.String.Backtick */\n",
       ".highlight .sc { color: #BA2121 } /* Literal.String.Char */\n",
       ".highlight .dl { color: #BA2121 } /* Literal.String.Delimiter */\n",
       ".highlight .sd { color: #BA2121; font-style: italic } /* Literal.String.Doc */\n",
       ".highlight .s2 { color: #BA2121 } /* Literal.String.Double */\n",
       ".highlight .se { color: #BB6622; font-weight: bold } /* Literal.String.Escape */\n",
       ".highlight .sh { color: #BA2121 } /* Literal.String.Heredoc */\n",
       ".highlight .si { color: #BB6688; font-weight: bold } /* Literal.String.Interpol */\n",
       ".highlight .sx { color: #008000 } /* Literal.String.Other */\n",
       ".highlight .sr { color: #BB6688 } /* Literal.String.Regex */\n",
       ".highlight .s1 { color: #BA2121 } /* Literal.String.Single */\n",
       ".highlight .ss { color: #19177C } /* Literal.String.Symbol */\n",
       ".highlight .bp { color: #008000 } /* Name.Builtin.Pseudo */\n",
       ".highlight .fm { color: #0000FF } /* Name.Function.Magic */\n",
       ".highlight .vc { color: #19177C } /* Name.Variable.Class */\n",
       ".highlight .vg { color: #19177C } /* Name.Variable.Global */\n",
       ".highlight .vi { color: #19177C } /* Name.Variable.Instance */\n",
       ".highlight .vm { color: #19177C } /* Name.Variable.Magic */\n",
       ".highlight .il { color: #666666 } /* Literal.Number.Integer.Long */</style>    <div class=\"highlight\"><pre><span></span><span class=\"cp\">&lt;?xml version=&quot;1.0&quot; encoding=&quot;UTF-8&quot;?&gt;</span>\n",
       "<span class=\"nt\">&lt;sbml</span> <span class=\"na\">xmlns=</span><span class=\"s\">&quot;http://www.sbml.org/sbml/level3/version1/core&quot;</span> <span class=\"na\">xmlns:comp=</span><span class=\"s\">&quot;http://www.sbml.org/sbml/level3/version1/comp/version1&quot;</span> <span class=\"na\">xmlns:distrib=</span><span class=\"s\">&quot;http://www.sbml.org/sbml/level3/version1/distrib/version1&quot;</span> <span class=\"na\">level=</span><span class=\"s\">&quot;3&quot;</span> <span class=\"na\">version=</span><span class=\"s\">&quot;1&quot;</span> <span class=\"na\">comp:required=</span><span class=\"s\">&quot;true&quot;</span> <span class=\"na\">distrib:required=</span><span class=\"s\">&quot;true&quot;</span><span class=\"nt\">&gt;</span>\n",
       "  <span class=\"nt\">&lt;notes&gt;</span>\n",
       "    <span class=\"nt\">&lt;body</span> <span class=\"na\">xmlns=</span><span class=\"s\">&quot;http://www.w3.org/1999/xhtml&quot;</span><span class=\"nt\">&gt;</span>\n",
       "      <span class=\"nt\">&lt;p&gt;</span>Created with <span class=\"nt\">&lt;a</span> <span class=\"na\">href=</span><span class=\"s\">&quot;https://github.com/matthiaskoenig/sbmlutils&quot;</span><span class=\"nt\">&gt;</span>https://github.com/matthiaskoenig/sbmlutils<span class=\"nt\">&lt;/a&gt;</span>.\n",
       "<span class=\"nt\">&lt;a</span> <span class=\"na\">href=</span><span class=\"s\">&quot;https://doi.org/10.5281/zenodo.5525390&quot;</span><span class=\"nt\">&gt;</span>\n",
       "        <span class=\"nt\">&lt;img</span> <span class=\"na\">src=</span><span class=\"s\">&quot;https://zenodo.org/badge/DOI/10.5281/zenodo.5525390.svg&quot;</span> <span class=\"na\">alt=</span><span class=\"s\">&quot;DOI&quot;</span><span class=\"nt\">/&gt;&lt;/a&gt;&lt;/p&gt;</span>\n",
       "      <span class=\"nt\">&lt;/body&gt;</span>\n",
       "    <span class=\"nt\">&lt;/notes&gt;</span>\n",
       "  <span class=\"nt\">&lt;model</span> <span class=\"na\">id=</span><span class=\"s\">&quot;parameters_spans&quot;</span><span class=\"nt\">&gt;</span>\n",
       "    <span class=\"nt\">&lt;listOfParameters&gt;</span>\n",
       "      <span class=\"nt\">&lt;parameter</span> <span class=\"na\">id=</span><span class=\"s\">&quot;p&quot;</span> <span class=\"na\">value=</span><span class=\"s\">&quot;NaN&quot;</span> <span class=\"na\">constant=</span><span class=\"s\">&quot;true&quot;</span><span class=\"nt\">&gt;</span>\n",
       "        <span class=\"nt\">&lt;distrib:listOfUncertainties&gt;</span>\n",
       "          <span class=\"nt\">&lt;distrib:uncertainty&gt;</span>\n",
       "            <span class=\"nt\">&lt;distrib:uncertParameter</span> <span class=\"na\">distrib:value=</span><span class=\"s\">&quot;1&quot;</span> <span class=\"na\">distrib:type=</span><span class=\"s\">&quot;coeffientOfVariation&quot;</span><span class=\"nt\">/&gt;</span>\n",
       "            <span class=\"nt\">&lt;distrib:uncertParameter</span> <span class=\"na\">distrib:value=</span><span class=\"s\">&quot;2&quot;</span> <span class=\"na\">distrib:type=</span><span class=\"s\">&quot;kurtosis&quot;</span><span class=\"nt\">/&gt;</span>\n",
       "            <span class=\"nt\">&lt;distrib:uncertParameter</span> <span class=\"na\">distrib:value=</span><span class=\"s\">&quot;3&quot;</span> <span class=\"na\">distrib:type=</span><span class=\"s\">&quot;mean&quot;</span><span class=\"nt\">/&gt;</span>\n",
       "            <span class=\"nt\">&lt;distrib:uncertParameter</span> <span class=\"na\">distrib:value=</span><span class=\"s\">&quot;4&quot;</span> <span class=\"na\">distrib:type=</span><span class=\"s\">&quot;median&quot;</span><span class=\"nt\">/&gt;</span>\n",
       "            <span class=\"nt\">&lt;distrib:uncertParameter</span> <span class=\"na\">distrib:value=</span><span class=\"s\">&quot;5&quot;</span> <span class=\"na\">distrib:type=</span><span class=\"s\">&quot;mode&quot;</span><span class=\"nt\">/&gt;</span>\n",
       "            <span class=\"nt\">&lt;distrib:uncertParameter</span> <span class=\"na\">distrib:value=</span><span class=\"s\">&quot;6&quot;</span> <span class=\"na\">distrib:type=</span><span class=\"s\">&quot;sampleSize&quot;</span><span class=\"nt\">/&gt;</span>\n",
       "            <span class=\"nt\">&lt;distrib:uncertParameter</span> <span class=\"na\">distrib:value=</span><span class=\"s\">&quot;7&quot;</span> <span class=\"na\">distrib:type=</span><span class=\"s\">&quot;skewness&quot;</span><span class=\"nt\">/&gt;</span>\n",
       "            <span class=\"nt\">&lt;distrib:uncertParameter</span> <span class=\"na\">distrib:value=</span><span class=\"s\">&quot;8&quot;</span> <span class=\"na\">distrib:type=</span><span class=\"s\">&quot;standardDeviation&quot;</span><span class=\"nt\">/&gt;</span>\n",
       "            <span class=\"nt\">&lt;distrib:uncertParameter</span> <span class=\"na\">distrib:value=</span><span class=\"s\">&quot;9&quot;</span> <span class=\"na\">distrib:type=</span><span class=\"s\">&quot;standardError&quot;</span><span class=\"nt\">/&gt;</span>\n",
       "            <span class=\"nt\">&lt;distrib:uncertParameter</span> <span class=\"na\">distrib:value=</span><span class=\"s\">&quot;10&quot;</span> <span class=\"na\">distrib:type=</span><span class=\"s\">&quot;variance&quot;</span><span class=\"nt\">/&gt;</span>\n",
       "            <span class=\"nt\">&lt;distrib:uncertParameter</span> <span class=\"na\">distrib:type=</span><span class=\"s\">&quot;distribution&quot;</span> <span class=\"na\">distrib:definitionURL=</span><span class=\"s\">&quot;http://www.sbml.org/sbml/symbols/distrib/normal&quot;</span><span class=\"nt\">&gt;</span>\n",
       "              <span class=\"nt\">&lt;math</span> <span class=\"na\">xmlns=</span><span class=\"s\">&quot;http://www.w3.org/1998/Math/MathML&quot;</span><span class=\"nt\">&gt;</span>\n",
       "                <span class=\"nt\">&lt;apply&gt;</span>\n",
       "                  <span class=\"nt\">&lt;csymbol</span> <span class=\"na\">encoding=</span><span class=\"s\">&quot;text&quot;</span> <span class=\"na\">definitionURL=</span><span class=\"s\">&quot;http://www.sbml.org/sbml/symbols/distrib/normal&quot;</span><span class=\"nt\">&gt;</span> normal <span class=\"nt\">&lt;/csymbol&gt;</span>\n",
       "                  <span class=\"nt\">&lt;cn</span> <span class=\"na\">type=</span><span class=\"s\">&quot;integer&quot;</span><span class=\"nt\">&gt;</span> 0 <span class=\"nt\">&lt;/cn&gt;</span>\n",
       "                  <span class=\"nt\">&lt;cn</span> <span class=\"na\">type=</span><span class=\"s\">&quot;integer&quot;</span><span class=\"nt\">&gt;</span> 1 <span class=\"nt\">&lt;/cn&gt;</span>\n",
       "                <span class=\"nt\">&lt;/apply&gt;</span>\n",
       "              <span class=\"nt\">&lt;/math&gt;</span>\n",
       "            <span class=\"nt\">&lt;/distrib:uncertParameter&gt;</span>\n",
       "          <span class=\"nt\">&lt;/distrib:uncertainty&gt;</span>\n",
       "        <span class=\"nt\">&lt;/distrib:listOfUncertainties&gt;</span>\n",
       "      <span class=\"nt\">&lt;/parameter&gt;</span>\n",
       "    <span class=\"nt\">&lt;/listOfParameters&gt;</span>\n",
       "  <span class=\"nt\">&lt;/model&gt;</span>\n",
       "<span class=\"nt\">&lt;/sbml&gt;</span>\n",
       "</pre></div>\n"
      ]
     },
     "metadata": {},
     "output_type": "display_data"
    },
    {
     "data": {
      "text/html": [
       "<pre style=\"white-space:pre;overflow-x:auto;line-height:normal;font-family:Menlo,'DejaVu Sans Mono',consolas,'Courier New',monospace\">\n",
       "</pre>\n"
      ],
      "text/plain": [
       "\n"
      ]
     },
     "metadata": {},
     "output_type": "display_data"
    },
    {
     "data": {
      "text/html": [
       "<pre style=\"white-space:pre;overflow-x:auto;line-height:normal;font-family:Menlo,'DejaVu Sans Mono',consolas,'Courier New',monospace\"><span style=\"color: #008000; text-decoration-color: #008000\">─────────────────────────────────────── </span>Validate SBML<span style=\"color: #008000; text-decoration-color: #008000\"> ───────────────────────────────────────</span>\n",
       "</pre>\n"
      ],
      "text/plain": [
       "\u001b[32m─────────────────────────────────────── \u001b[0mValidate SBML\u001b[32m ───────────────────────────────────────\u001b[0m\n"
      ]
     },
     "metadata": {},
     "output_type": "display_data"
    },
    {
     "data": {
      "text/html": [
       "<pre style=\"white-space:pre;overflow-x:auto;line-height:normal;font-family:Menlo,'DejaVu Sans Mono',consolas,'Courier New',monospace\"><span style=\"color: #008000; text-decoration-color: #008000; font-weight: bold\">&lt;</span><span style=\"color: #ff00ff; text-decoration-color: #ff00ff; font-weight: bold\">SBMLDocument</span><span style=\"color: #008000; text-decoration-color: #008000; font-weight: bold\">&gt;</span>\n",
       "<span style=\"color: #008000; text-decoration-color: #008000\">valid                    : TRUE</span>\n",
       "<span style=\"color: #008000; text-decoration-color: #008000\">check time </span><span style=\"color: #008000; text-decoration-color: #008000; font-weight: bold\">(</span><span style=\"color: #008000; text-decoration-color: #008000\">s</span><span style=\"color: #008000; text-decoration-color: #008000; font-weight: bold\">)</span><span style=\"color: #008000; text-decoration-color: #008000\">           : </span><span style=\"color: #008080; text-decoration-color: #008080; font-weight: bold\">0.002</span>\n",
       "</pre>\n"
      ],
      "text/plain": [
       "\u001b[1;32m<\u001b[0m\u001b[1;95mSBMLDocument\u001b[0m\u001b[1;32m>\u001b[0m\n",
       "\u001b[32mvalid                    : TRUE\u001b[0m\n",
       "\u001b[32mcheck time \u001b[0m\u001b[1;32m(\u001b[0m\u001b[32ms\u001b[0m\u001b[1;32m)\u001b[0m\u001b[32m           : \u001b[0m\u001b[1;36m0.002\u001b[0m\n"
      ]
     },
     "metadata": {},
     "output_type": "display_data"
    },
    {
     "data": {
      "text/html": [
       "<pre style=\"white-space:pre;overflow-x:auto;line-height:normal;font-family:Menlo,'DejaVu Sans Mono',consolas,'Courier New',monospace\"><span style=\"color: #008000; text-decoration-color: #008000\">─────────────────────────────────────────────────────────────────────────────────────────────</span>\n",
       "</pre>\n"
      ],
      "text/plain": [
       "\u001b[32m─────────────────────────────────────────────────────────────────────────────────────────────\u001b[0m\n"
      ]
     },
     "metadata": {},
     "output_type": "display_data"
    },
    {
     "data": {
      "text/html": [
       "<pre style=\"white-space:pre;overflow-x:auto;line-height:normal;font-family:Menlo,'DejaVu Sans Mono',consolas,'Courier New',monospace\">\n",
       "</pre>\n"
      ],
      "text/plain": [
       "\n"
      ]
     },
     "metadata": {},
     "output_type": "display_data"
    }
   ],
   "source": [
    "import libsbml\n",
    "md: ModelDict = {\n",
    "    'sid': 'parameters_spans',\n",
    "    'packages': ['distrib'],\n",
    "    'parameters': [\n",
    "        Parameter(\"p\",\n",
    "          uncertainties=[\n",
    "              Uncertainty(\n",
    "                  formula=\"normal(0, 1)\",  # distribution\n",
    "                  uncertParameters=[\n",
    "                      UncertParameter(type=libsbml.DISTRIB_UNCERTTYPE_COEFFIENTOFVARIATION, value=1.0),\n",
    "                      UncertParameter(type=libsbml.DISTRIB_UNCERTTYPE_KURTOSIS, value=2.0),\n",
    "                      UncertParameter(type=libsbml.DISTRIB_UNCERTTYPE_MEAN, value=3.0),\n",
    "                      UncertParameter(type=libsbml.DISTRIB_UNCERTTYPE_MEDIAN, value=4.0),\n",
    "                      UncertParameter(type=libsbml.DISTRIB_UNCERTTYPE_MODE, value=5.0),\n",
    "                      UncertParameter(type=libsbml.DISTRIB_UNCERTTYPE_SAMPLESIZE, value=6.0),\n",
    "                      UncertParameter(type=libsbml.DISTRIB_UNCERTTYPE_SKEWNESS, value=7.0),\n",
    "                      UncertParameter(type=libsbml.DISTRIB_UNCERTTYPE_STANDARDDEVIATION, value=8.0),\n",
    "                      UncertParameter(type=libsbml.DISTRIB_UNCERTTYPE_STANDARDERROR, value=9.0),\n",
    "                      UncertParameter(type=libsbml.DISTRIB_UNCERTTYPE_VARIANCE, value=10.0),\n",
    "                      UncertSpan(type=libsbml.DISTRIB_UNCERTTYPE_CONFIDENCEINTERVAL, valueLower=1.0, valueUpper=2.0),\n",
    "                      UncertSpan(type=libsbml.DISTRIB_UNCERTTYPE_CREDIBLEINTERVAL, valueLower=2.0, valueUpper=3.0),\n",
    "                      UncertSpan(type=libsbml.DISTRIB_UNCERTTYPE_INTERQUARTILERANGE, valueLower=3.0, valueUpper=4.0),\n",
    "                      UncertSpan(type=libsbml.DISTRIB_UNCERTTYPE_RANGE, valueLower=4.0, valueUpper=5.0),\n",
    "                  ])\n",
    "          ])\n",
    "    ]\n",
    "}\n",
    "\n",
    "# create model and print SBML\n",
    "doc = Document(Model(**md))\n",
    "print_xml(doc.get_sbml())\n",
    "\n",
    "# validate model\n",
    "validate_doc(doc.doc, units_consistency=False);"
   ]
  },
  {
   "cell_type": "markdown",
   "metadata": {},
   "source": [
    "### Information on experimental parameters (SABIO-RK)\n",
    "In the following example we store the experimental information which was used for setting the parameter in the model."
   ]
  },
  {
   "cell_type": "code",
   "execution_count": 13,
   "metadata": {},
   "outputs": [
    {
     "data": {
      "text/html": [
       "<pre style=\"white-space:pre;overflow-x:auto;line-height:normal;font-family:Menlo,'DejaVu Sans Mono',consolas,'Courier New',monospace\"><span style=\"color: #000080; text-decoration-color: #000080\">INFO    </span> Create SBML for model <span style=\"color: #008000; text-decoration-color: #008000\">'sabiork_parameter'</span>                            <a href=\"file:///home/mkoenig/git/sbmlutils/src/sbmlutils/factory.py\"><span style=\"color: #7f7f7f; text-decoration-color: #7f7f7f\">factory.py</span></a><span style=\"color: #7f7f7f; text-decoration-color: #7f7f7f\">:2896</span>\n",
       "</pre>\n"
      ],
      "text/plain": [
       "\u001b[34mINFO    \u001b[0m Create SBML for model \u001b[32m'sabiork_parameter'\u001b[0m                            \u001b]8;id=736137;file:///home/mkoenig/git/sbmlutils/src/sbmlutils/factory.py\u001b\\\u001b[2mfactory.py\u001b[0m\u001b]8;;\u001b\\\u001b[2m:2896\u001b[0m\n"
      ]
     },
     "metadata": {},
     "output_type": "display_data"
    },
    {
     "data": {
      "text/html": [
       "<pre style=\"white-space:pre;overflow-x:auto;line-height:normal;font-family:Menlo,'DejaVu Sans Mono',consolas,'Courier New',monospace\"><span style=\"color: #800000; text-decoration-color: #800000\">WARNING </span> <span style=\"color: #008000; text-decoration-color: #008000\">'name'</span> should be set on <span style=\"color: #008000; text-decoration-color: #008000\">'&lt;Model sabiork_parameter&gt;'</span>                   <a href=\"file:///home/mkoenig/git/sbmlutils/src/sbmlutils/factory.py\"><span style=\"color: #7f7f7f; text-decoration-color: #7f7f7f\">factory.py</span></a><span style=\"color: #7f7f7f; text-decoration-color: #7f7f7f\">:436</span>\n",
       "</pre>\n"
      ],
      "text/plain": [
       "\u001b[31mWARNING \u001b[0m \u001b[32m'name'\u001b[0m should be set on \u001b[32m'\u001b[0m\u001b[32m<\u001b[0m\u001b[32mModel\u001b[0m\u001b[32m sabiork_parameter\u001b[0m\u001b[32m>\u001b[0m\u001b[32m'\u001b[0m                   \u001b]8;id=85116;file:///home/mkoenig/git/sbmlutils/src/sbmlutils/factory.py\u001b\\\u001b[2mfactory.py\u001b[0m\u001b]8;;\u001b\\\u001b[2m:436\u001b[0m\n"
      ]
     },
     "metadata": {},
     "output_type": "display_data"
    },
    {
     "data": {
      "text/html": [
       "<pre style=\"white-space:pre;overflow-x:auto;line-height:normal;font-family:Menlo,'DejaVu Sans Mono',consolas,'Courier New',monospace\"><span style=\"color: #800000; text-decoration-color: #800000\">WARNING </span> <span style=\"color: #008000; text-decoration-color: #008000\">'name'</span> should be set on <span style=\"color: #008000; text-decoration-color: #008000\">'&lt;Uncertainty uncertainty1&gt;'</span>                  <a href=\"file:///home/mkoenig/git/sbmlutils/src/sbmlutils/factory.py\"><span style=\"color: #7f7f7f; text-decoration-color: #7f7f7f\">factory.py</span></a><span style=\"color: #7f7f7f; text-decoration-color: #7f7f7f\">:436</span>\n",
       "</pre>\n"
      ],
      "text/plain": [
       "\u001b[31mWARNING \u001b[0m \u001b[32m'name'\u001b[0m should be set on \u001b[32m'\u001b[0m\u001b[32m<\u001b[0m\u001b[32mUncertainty\u001b[0m\u001b[32m uncertainty1\u001b[0m\u001b[32m>\u001b[0m\u001b[32m'\u001b[0m                  \u001b]8;id=991238;file:///home/mkoenig/git/sbmlutils/src/sbmlutils/factory.py\u001b\\\u001b[2mfactory.py\u001b[0m\u001b]8;;\u001b\\\u001b[2m:436\u001b[0m\n"
      ]
     },
     "metadata": {},
     "output_type": "display_data"
    },
    {
     "data": {
      "text/html": [
       "<pre style=\"white-space:pre;overflow-x:auto;line-height:normal;font-family:Menlo,'DejaVu Sans Mono',consolas,'Courier New',monospace\"><span style=\"color: #800000; text-decoration-color: #800000\">WARNING </span> <span style=\"color: #008000; text-decoration-color: #008000\">'sboTerm'</span> should be set on <span style=\"color: #008000; text-decoration-color: #008000\">'&lt;Uncertainty uncertainty1&gt;'</span>               <a href=\"file:///home/mkoenig/git/sbmlutils/src/sbmlutils/factory.py\"><span style=\"color: #7f7f7f; text-decoration-color: #7f7f7f\">factory.py</span></a><span style=\"color: #7f7f7f; text-decoration-color: #7f7f7f\">:461</span>\n",
       "</pre>\n"
      ],
      "text/plain": [
       "\u001b[31mWARNING \u001b[0m \u001b[32m'sboTerm'\u001b[0m should be set on \u001b[32m'\u001b[0m\u001b[32m<\u001b[0m\u001b[32mUncertainty\u001b[0m\u001b[32m uncertainty1\u001b[0m\u001b[32m>\u001b[0m\u001b[32m'\u001b[0m               \u001b]8;id=906418;file:///home/mkoenig/git/sbmlutils/src/sbmlutils/factory.py\u001b\\\u001b[2mfactory.py\u001b[0m\u001b]8;;\u001b\\\u001b[2m:461\u001b[0m\n"
      ]
     },
     "metadata": {},
     "output_type": "display_data"
    },
    {
     "data": {
      "text/html": [
       "<pre style=\"white-space:pre;overflow-x:auto;line-height:normal;font-family:Menlo,'DejaVu Sans Mono',consolas,'Courier New',monospace\"><span style=\"color: #800000; text-decoration-color: #800000\">WARNING </span> <span style=\"color: #008000; text-decoration-color: #008000\">'name'</span> should be set on <span style=\"color: #008000; text-decoration-color: #008000\">'&lt;Uncertainty uncertainty2&gt;'</span>                  <a href=\"file:///home/mkoenig/git/sbmlutils/src/sbmlutils/factory.py\"><span style=\"color: #7f7f7f; text-decoration-color: #7f7f7f\">factory.py</span></a><span style=\"color: #7f7f7f; text-decoration-color: #7f7f7f\">:436</span>\n",
       "</pre>\n"
      ],
      "text/plain": [
       "\u001b[31mWARNING \u001b[0m \u001b[32m'name'\u001b[0m should be set on \u001b[32m'\u001b[0m\u001b[32m<\u001b[0m\u001b[32mUncertainty\u001b[0m\u001b[32m uncertainty2\u001b[0m\u001b[32m>\u001b[0m\u001b[32m'\u001b[0m                  \u001b]8;id=919293;file:///home/mkoenig/git/sbmlutils/src/sbmlutils/factory.py\u001b\\\u001b[2mfactory.py\u001b[0m\u001b]8;;\u001b\\\u001b[2m:436\u001b[0m\n"
      ]
     },
     "metadata": {},
     "output_type": "display_data"
    },
    {
     "data": {
      "text/html": [
       "<pre style=\"white-space:pre;overflow-x:auto;line-height:normal;font-family:Menlo,'DejaVu Sans Mono',consolas,'Courier New',monospace\"><span style=\"color: #800000; text-decoration-color: #800000\">WARNING </span> <span style=\"color: #008000; text-decoration-color: #008000\">'sboTerm'</span> should be set on <span style=\"color: #008000; text-decoration-color: #008000\">'&lt;Uncertainty uncertainty2&gt;'</span>               <a href=\"file:///home/mkoenig/git/sbmlutils/src/sbmlutils/factory.py\"><span style=\"color: #7f7f7f; text-decoration-color: #7f7f7f\">factory.py</span></a><span style=\"color: #7f7f7f; text-decoration-color: #7f7f7f\">:461</span>\n",
       "</pre>\n"
      ],
      "text/plain": [
       "\u001b[31mWARNING \u001b[0m \u001b[32m'sboTerm'\u001b[0m should be set on \u001b[32m'\u001b[0m\u001b[32m<\u001b[0m\u001b[32mUncertainty\u001b[0m\u001b[32m uncertainty2\u001b[0m\u001b[32m>\u001b[0m\u001b[32m'\u001b[0m               \u001b]8;id=751064;file:///home/mkoenig/git/sbmlutils/src/sbmlutils/factory.py\u001b\\\u001b[2mfactory.py\u001b[0m\u001b]8;;\u001b\\\u001b[2m:461\u001b[0m\n"
      ]
     },
     "metadata": {},
     "output_type": "display_data"
    },
    {
     "data": {
      "text/html": [
       "<style type=\"text/css\">pre { line-height: 125%; }\n",
       "td.linenos .normal { color: inherit; background-color: transparent; padding-left: 5px; padding-right: 5px; }\n",
       "span.linenos { color: inherit; background-color: transparent; padding-left: 5px; padding-right: 5px; }\n",
       "td.linenos .special { color: #000000; background-color: #ffffc0; padding-left: 5px; padding-right: 5px; }\n",
       "span.linenos.special { color: #000000; background-color: #ffffc0; padding-left: 5px; padding-right: 5px; }\n",
       ".highlight .hll { background-color: #ffffcc }\n",
       ".highlight { background: #f8f8f8; }\n",
       ".highlight .c { color: #408080; font-style: italic } /* Comment */\n",
       ".highlight .err { border: 1px solid #FF0000 } /* Error */\n",
       ".highlight .k { color: #008000; font-weight: bold } /* Keyword */\n",
       ".highlight .o { color: #666666 } /* Operator */\n",
       ".highlight .ch { color: #408080; font-style: italic } /* Comment.Hashbang */\n",
       ".highlight .cm { color: #408080; font-style: italic } /* Comment.Multiline */\n",
       ".highlight .cp { color: #BC7A00 } /* Comment.Preproc */\n",
       ".highlight .cpf { color: #408080; font-style: italic } /* Comment.PreprocFile */\n",
       ".highlight .c1 { color: #408080; font-style: italic } /* Comment.Single */\n",
       ".highlight .cs { color: #408080; font-style: italic } /* Comment.Special */\n",
       ".highlight .gd { color: #A00000 } /* Generic.Deleted */\n",
       ".highlight .ge { font-style: italic } /* Generic.Emph */\n",
       ".highlight .gr { color: #FF0000 } /* Generic.Error */\n",
       ".highlight .gh { color: #000080; font-weight: bold } /* Generic.Heading */\n",
       ".highlight .gi { color: #00A000 } /* Generic.Inserted */\n",
       ".highlight .go { color: #888888 } /* Generic.Output */\n",
       ".highlight .gp { color: #000080; font-weight: bold } /* Generic.Prompt */\n",
       ".highlight .gs { font-weight: bold } /* Generic.Strong */\n",
       ".highlight .gu { color: #800080; font-weight: bold } /* Generic.Subheading */\n",
       ".highlight .gt { color: #0044DD } /* Generic.Traceback */\n",
       ".highlight .kc { color: #008000; font-weight: bold } /* Keyword.Constant */\n",
       ".highlight .kd { color: #008000; font-weight: bold } /* Keyword.Declaration */\n",
       ".highlight .kn { color: #008000; font-weight: bold } /* Keyword.Namespace */\n",
       ".highlight .kp { color: #008000 } /* Keyword.Pseudo */\n",
       ".highlight .kr { color: #008000; font-weight: bold } /* Keyword.Reserved */\n",
       ".highlight .kt { color: #B00040 } /* Keyword.Type */\n",
       ".highlight .m { color: #666666 } /* Literal.Number */\n",
       ".highlight .s { color: #BA2121 } /* Literal.String */\n",
       ".highlight .na { color: #7D9029 } /* Name.Attribute */\n",
       ".highlight .nb { color: #008000 } /* Name.Builtin */\n",
       ".highlight .nc { color: #0000FF; font-weight: bold } /* Name.Class */\n",
       ".highlight .no { color: #880000 } /* Name.Constant */\n",
       ".highlight .nd { color: #AA22FF } /* Name.Decorator */\n",
       ".highlight .ni { color: #999999; font-weight: bold } /* Name.Entity */\n",
       ".highlight .ne { color: #D2413A; font-weight: bold } /* Name.Exception */\n",
       ".highlight .nf { color: #0000FF } /* Name.Function */\n",
       ".highlight .nl { color: #A0A000 } /* Name.Label */\n",
       ".highlight .nn { color: #0000FF; font-weight: bold } /* Name.Namespace */\n",
       ".highlight .nt { color: #008000; font-weight: bold } /* Name.Tag */\n",
       ".highlight .nv { color: #19177C } /* Name.Variable */\n",
       ".highlight .ow { color: #AA22FF; font-weight: bold } /* Operator.Word */\n",
       ".highlight .w { color: #bbbbbb } /* Text.Whitespace */\n",
       ".highlight .mb { color: #666666 } /* Literal.Number.Bin */\n",
       ".highlight .mf { color: #666666 } /* Literal.Number.Float */\n",
       ".highlight .mh { color: #666666 } /* Literal.Number.Hex */\n",
       ".highlight .mi { color: #666666 } /* Literal.Number.Integer */\n",
       ".highlight .mo { color: #666666 } /* Literal.Number.Oct */\n",
       ".highlight .sa { color: #BA2121 } /* Literal.String.Affix */\n",
       ".highlight .sb { color: #BA2121 } /* Literal.String.Backtick */\n",
       ".highlight .sc { color: #BA2121 } /* Literal.String.Char */\n",
       ".highlight .dl { color: #BA2121 } /* Literal.String.Delimiter */\n",
       ".highlight .sd { color: #BA2121; font-style: italic } /* Literal.String.Doc */\n",
       ".highlight .s2 { color: #BA2121 } /* Literal.String.Double */\n",
       ".highlight .se { color: #BB6622; font-weight: bold } /* Literal.String.Escape */\n",
       ".highlight .sh { color: #BA2121 } /* Literal.String.Heredoc */\n",
       ".highlight .si { color: #BB6688; font-weight: bold } /* Literal.String.Interpol */\n",
       ".highlight .sx { color: #008000 } /* Literal.String.Other */\n",
       ".highlight .sr { color: #BB6688 } /* Literal.String.Regex */\n",
       ".highlight .s1 { color: #BA2121 } /* Literal.String.Single */\n",
       ".highlight .ss { color: #19177C } /* Literal.String.Symbol */\n",
       ".highlight .bp { color: #008000 } /* Name.Builtin.Pseudo */\n",
       ".highlight .fm { color: #0000FF } /* Name.Function.Magic */\n",
       ".highlight .vc { color: #19177C } /* Name.Variable.Class */\n",
       ".highlight .vg { color: #19177C } /* Name.Variable.Global */\n",
       ".highlight .vi { color: #19177C } /* Name.Variable.Instance */\n",
       ".highlight .vm { color: #19177C } /* Name.Variable.Magic */\n",
       ".highlight .il { color: #666666 } /* Literal.Number.Integer.Long */</style>    <div class=\"highlight\"><pre><span></span><span class=\"cp\">&lt;?xml version=&quot;1.0&quot; encoding=&quot;UTF-8&quot;?&gt;</span>\n",
       "<span class=\"nt\">&lt;sbml</span> <span class=\"na\">xmlns=</span><span class=\"s\">&quot;http://www.sbml.org/sbml/level3/version1/core&quot;</span> <span class=\"na\">xmlns:comp=</span><span class=\"s\">&quot;http://www.sbml.org/sbml/level3/version1/comp/version1&quot;</span> <span class=\"na\">xmlns:distrib=</span><span class=\"s\">&quot;http://www.sbml.org/sbml/level3/version1/distrib/version1&quot;</span> <span class=\"na\">level=</span><span class=\"s\">&quot;3&quot;</span> <span class=\"na\">version=</span><span class=\"s\">&quot;1&quot;</span> <span class=\"na\">comp:required=</span><span class=\"s\">&quot;true&quot;</span> <span class=\"na\">distrib:required=</span><span class=\"s\">&quot;true&quot;</span><span class=\"nt\">&gt;</span>\n",
       "  <span class=\"nt\">&lt;notes&gt;</span>\n",
       "    <span class=\"nt\">&lt;body</span> <span class=\"na\">xmlns=</span><span class=\"s\">&quot;http://www.w3.org/1999/xhtml&quot;</span><span class=\"nt\">&gt;</span>\n",
       "      <span class=\"nt\">&lt;p&gt;</span>Created with <span class=\"nt\">&lt;a</span> <span class=\"na\">href=</span><span class=\"s\">&quot;https://github.com/matthiaskoenig/sbmlutils&quot;</span><span class=\"nt\">&gt;</span>https://github.com/matthiaskoenig/sbmlutils<span class=\"nt\">&lt;/a&gt;</span>.\n",
       "<span class=\"nt\">&lt;a</span> <span class=\"na\">href=</span><span class=\"s\">&quot;https://doi.org/10.5281/zenodo.5525390&quot;</span><span class=\"nt\">&gt;</span>\n",
       "        <span class=\"nt\">&lt;img</span> <span class=\"na\">src=</span><span class=\"s\">&quot;https://zenodo.org/badge/DOI/10.5281/zenodo.5525390.svg&quot;</span> <span class=\"na\">alt=</span><span class=\"s\">&quot;DOI&quot;</span><span class=\"nt\">/&gt;&lt;/a&gt;&lt;/p&gt;</span>\n",
       "      <span class=\"nt\">&lt;/body&gt;</span>\n",
       "    <span class=\"nt\">&lt;/notes&gt;</span>\n",
       "  <span class=\"nt\">&lt;model</span> <span class=\"na\">id=</span><span class=\"s\">&quot;sabiork_parameter&quot;</span> <span class=\"na\">substanceUnits=</span><span class=\"s\">&quot;mole&quot;</span> <span class=\"na\">timeUnits=</span><span class=\"s\">&quot;hr&quot;</span> <span class=\"na\">volumeUnits=</span><span class=\"s\">&quot;litre&quot;</span> <span class=\"na\">areaUnits=</span><span class=\"s\">&quot;m2&quot;</span> <span class=\"na\">lengthUnits=</span><span class=\"s\">&quot;metre&quot;</span> <span class=\"na\">extentUnits=</span><span class=\"s\">&quot;mole&quot;</span><span class=\"nt\">&gt;</span>\n",
       "    <span class=\"nt\">&lt;listOfUnitDefinitions&gt;</span>\n",
       "      <span class=\"nt\">&lt;unitDefinition</span> <span class=\"na\">id=</span><span class=\"s\">&quot;hr&quot;</span> <span class=\"na\">name=</span><span class=\"s\">&quot;hr&quot;</span><span class=\"nt\">&gt;</span>\n",
       "        <span class=\"nt\">&lt;listOfUnits&gt;</span>\n",
       "          <span class=\"nt\">&lt;unit</span> <span class=\"na\">kind=</span><span class=\"s\">&quot;second&quot;</span> <span class=\"na\">exponent=</span><span class=\"s\">&quot;1&quot;</span> <span class=\"na\">scale=</span><span class=\"s\">&quot;0&quot;</span> <span class=\"na\">multiplier=</span><span class=\"s\">&quot;3600&quot;</span><span class=\"nt\">/&gt;</span>\n",
       "        <span class=\"nt\">&lt;/listOfUnits&gt;</span>\n",
       "      <span class=\"nt\">&lt;/unitDefinition&gt;</span>\n",
       "      <span class=\"nt\">&lt;unitDefinition</span> <span class=\"na\">id=</span><span class=\"s\">&quot;m2&quot;</span> <span class=\"na\">name=</span><span class=\"s\">&quot;meter^2&quot;</span><span class=\"nt\">&gt;</span>\n",
       "        <span class=\"nt\">&lt;listOfUnits&gt;</span>\n",
       "          <span class=\"nt\">&lt;unit</span> <span class=\"na\">kind=</span><span class=\"s\">&quot;metre&quot;</span> <span class=\"na\">exponent=</span><span class=\"s\">&quot;2&quot;</span> <span class=\"na\">scale=</span><span class=\"s\">&quot;0&quot;</span> <span class=\"na\">multiplier=</span><span class=\"s\">&quot;1&quot;</span><span class=\"nt\">/&gt;</span>\n",
       "        <span class=\"nt\">&lt;/listOfUnits&gt;</span>\n",
       "      <span class=\"nt\">&lt;/unitDefinition&gt;</span>\n",
       "      <span class=\"nt\">&lt;unitDefinition</span> <span class=\"na\">id=</span><span class=\"s\">&quot;mM&quot;</span> <span class=\"na\">name=</span><span class=\"s\">&quot;mmole/liter&quot;</span><span class=\"nt\">&gt;</span>\n",
       "        <span class=\"nt\">&lt;listOfUnits&gt;</span>\n",
       "          <span class=\"nt\">&lt;unit</span> <span class=\"na\">kind=</span><span class=\"s\">&quot;mole&quot;</span> <span class=\"na\">exponent=</span><span class=\"s\">&quot;1&quot;</span> <span class=\"na\">scale=</span><span class=\"s\">&quot;0&quot;</span> <span class=\"na\">multiplier=</span><span class=\"s\">&quot;0.001&quot;</span><span class=\"nt\">/&gt;</span>\n",
       "          <span class=\"nt\">&lt;unit</span> <span class=\"na\">kind=</span><span class=\"s\">&quot;litre&quot;</span> <span class=\"na\">exponent=</span><span class=\"s\">&quot;-1&quot;</span> <span class=\"na\">scale=</span><span class=\"s\">&quot;0&quot;</span> <span class=\"na\">multiplier=</span><span class=\"s\">&quot;1&quot;</span><span class=\"nt\">/&gt;</span>\n",
       "        <span class=\"nt\">&lt;/listOfUnits&gt;</span>\n",
       "      <span class=\"nt\">&lt;/unitDefinition&gt;</span>\n",
       "    <span class=\"nt\">&lt;/listOfUnitDefinitions&gt;</span>\n",
       "    <span class=\"nt\">&lt;listOfParameters&gt;</span>\n",
       "      <span class=\"nt\">&lt;parameter</span> <span class=\"na\">metaid=</span><span class=\"s\">&quot;meta_Km_glc&quot;</span> <span class=\"na\">sboTerm=</span><span class=\"s\">&quot;SBO:0000027&quot;</span> <span class=\"na\">id=</span><span class=\"s\">&quot;Km_glc&quot;</span> <span class=\"na\">name=</span><span class=\"s\">&quot;Michelis-Menten constant glucose&quot;</span> <span class=\"na\">value=</span><span class=\"s\">&quot;5&quot;</span> <span class=\"na\">units=</span><span class=\"s\">&quot;mM&quot;</span> <span class=\"na\">constant=</span><span class=\"s\">&quot;true&quot;</span><span class=\"nt\">&gt;</span>\n",
       "        <span class=\"nt\">&lt;annotation&gt;</span>\n",
       "          <span class=\"nt\">&lt;rdf:RDF</span> <span class=\"na\">xmlns:rdf=</span><span class=\"s\">&quot;http://www.w3.org/1999/02/22-rdf-syntax-ns#&quot;</span> <span class=\"na\">xmlns:dcterms=</span><span class=\"s\">&quot;http://purl.org/dc/terms/&quot;</span> <span class=\"na\">xmlns:vCard=</span><span class=\"s\">&quot;http://www.w3.org/2001/vcard-rdf/3.0#&quot;</span> <span class=\"na\">xmlns:vCard4=</span><span class=\"s\">&quot;http://www.w3.org/2006/vcard/ns#&quot;</span> <span class=\"na\">xmlns:bqbiol=</span><span class=\"s\">&quot;http://biomodels.net/biology-qualifiers/&quot;</span> <span class=\"na\">xmlns:bqmodel=</span><span class=\"s\">&quot;http://biomodels.net/model-qualifiers/&quot;</span><span class=\"nt\">&gt;</span>\n",
       "            <span class=\"nt\">&lt;rdf:Description</span> <span class=\"na\">rdf:about=</span><span class=\"s\">&quot;#meta_Km_glc&quot;</span><span class=\"nt\">&gt;</span>\n",
       "              <span class=\"nt\">&lt;bqbiol:is&gt;</span>\n",
       "                <span class=\"nt\">&lt;rdf:Bag&gt;</span>\n",
       "                  <span class=\"nt\">&lt;rdf:li</span> <span class=\"na\">rdf:resource=</span><span class=\"s\">&quot;https://identifiers.org/SBO:0000027&quot;</span><span class=\"nt\">/&gt;</span>\n",
       "                <span class=\"nt\">&lt;/rdf:Bag&gt;</span>\n",
       "              <span class=\"nt\">&lt;/bqbiol:is&gt;</span>\n",
       "            <span class=\"nt\">&lt;/rdf:Description&gt;</span>\n",
       "          <span class=\"nt\">&lt;/rdf:RDF&gt;</span>\n",
       "        <span class=\"nt\">&lt;/annotation&gt;</span>\n",
       "        <span class=\"nt\">&lt;distrib:listOfUncertainties&gt;</span>\n",
       "          <span class=\"nt\">&lt;distrib:uncertainty</span> <span class=\"na\">metaid=</span><span class=\"s\">&quot;meta_uncertainty1&quot;</span> <span class=\"na\">distrib:id=</span><span class=\"s\">&quot;uncertainty1&quot;</span><span class=\"nt\">&gt;</span>\n",
       "            <span class=\"nt\">&lt;annotation&gt;</span>\n",
       "              <span class=\"nt\">&lt;rdf:RDF</span> <span class=\"na\">xmlns:rdf=</span><span class=\"s\">&quot;http://www.w3.org/1999/02/22-rdf-syntax-ns#&quot;</span> <span class=\"na\">xmlns:dcterms=</span><span class=\"s\">&quot;http://purl.org/dc/terms/&quot;</span> <span class=\"na\">xmlns:vCard=</span><span class=\"s\">&quot;http://www.w3.org/2001/vcard-rdf/3.0#&quot;</span> <span class=\"na\">xmlns:vCard4=</span><span class=\"s\">&quot;http://www.w3.org/2006/vcard/ns#&quot;</span> <span class=\"na\">xmlns:bqbiol=</span><span class=\"s\">&quot;http://biomodels.net/biology-qualifiers/&quot;</span> <span class=\"na\">xmlns:bqmodel=</span><span class=\"s\">&quot;http://biomodels.net/model-qualifiers/&quot;</span><span class=\"nt\">&gt;</span>\n",
       "                <span class=\"nt\">&lt;rdf:Description</span> <span class=\"na\">rdf:about=</span><span class=\"s\">&quot;#meta_uncertainty1&quot;</span><span class=\"nt\">&gt;</span>\n",
       "                  <span class=\"nt\">&lt;bqbiol:is&gt;</span>\n",
       "                    <span class=\"nt\">&lt;rdf:Bag&gt;</span>\n",
       "                      <span class=\"nt\">&lt;rdf:li</span> <span class=\"na\">rdf:resource=</span><span class=\"s\">&quot;https://identifiers.org/sabiork.kineticrecord/793&quot;</span><span class=\"nt\">/&gt;</span>\n",
       "                      <span class=\"nt\">&lt;rdf:li</span> <span class=\"na\">rdf:resource=</span><span class=\"s\">&quot;https://identifiers.org/ec-code/2.7.1.2&quot;</span><span class=\"nt\">/&gt;</span>\n",
       "                      <span class=\"nt\">&lt;rdf:li</span> <span class=\"na\">rdf:resource=</span><span class=\"s\">&quot;https://identifiers.org/uniprot/P35557&quot;</span><span class=\"nt\">/&gt;</span>\n",
       "                      <span class=\"nt\">&lt;rdf:li</span> <span class=\"na\">rdf:resource=</span><span class=\"s\">&quot;https://identifiers.org/BTO:0000075&quot;</span><span class=\"nt\">/&gt;</span>\n",
       "                    <span class=\"nt\">&lt;/rdf:Bag&gt;</span>\n",
       "                  <span class=\"nt\">&lt;/bqbiol:is&gt;</span>\n",
       "                  <span class=\"nt\">&lt;bqbiol:hasTaxon&gt;</span>\n",
       "                    <span class=\"nt\">&lt;rdf:Bag&gt;</span>\n",
       "                      <span class=\"nt\">&lt;rdf:li</span> <span class=\"na\">rdf:resource=</span><span class=\"s\">&quot;https://identifiers.org/taxonomy/9606&quot;</span><span class=\"nt\">/&gt;</span>\n",
       "                    <span class=\"nt\">&lt;/rdf:Bag&gt;</span>\n",
       "                  <span class=\"nt\">&lt;/bqbiol:hasTaxon&gt;</span>\n",
       "                <span class=\"nt\">&lt;/rdf:Description&gt;</span>\n",
       "              <span class=\"nt\">&lt;/rdf:RDF&gt;</span>\n",
       "            <span class=\"nt\">&lt;/annotation&gt;</span>\n",
       "            <span class=\"nt\">&lt;distrib:uncertParameter</span> <span class=\"na\">distrib:value=</span><span class=\"s\">&quot;5.07&quot;</span> <span class=\"na\">distrib:type=</span><span class=\"s\">&quot;mean&quot;</span><span class=\"nt\">/&gt;</span>\n",
       "            <span class=\"nt\">&lt;distrib:uncertParameter</span> <span class=\"na\">distrib:value=</span><span class=\"s\">&quot;0.97&quot;</span> <span class=\"na\">distrib:type=</span><span class=\"s\">&quot;standardDeviation&quot;</span><span class=\"nt\">/&gt;</span>\n",
       "          <span class=\"nt\">&lt;/distrib:uncertainty&gt;</span>\n",
       "          <span class=\"nt\">&lt;distrib:uncertainty</span> <span class=\"na\">metaid=</span><span class=\"s\">&quot;meta_uncertainty2&quot;</span> <span class=\"na\">distrib:id=</span><span class=\"s\">&quot;uncertainty2&quot;</span><span class=\"nt\">&gt;</span>\n",
       "            <span class=\"nt\">&lt;annotation&gt;</span>\n",
       "              <span class=\"nt\">&lt;rdf:RDF</span> <span class=\"na\">xmlns:rdf=</span><span class=\"s\">&quot;http://www.w3.org/1999/02/22-rdf-syntax-ns#&quot;</span> <span class=\"na\">xmlns:dcterms=</span><span class=\"s\">&quot;http://purl.org/dc/terms/&quot;</span> <span class=\"na\">xmlns:vCard=</span><span class=\"s\">&quot;http://www.w3.org/2001/vcard-rdf/3.0#&quot;</span> <span class=\"na\">xmlns:vCard4=</span><span class=\"s\">&quot;http://www.w3.org/2006/vcard/ns#&quot;</span> <span class=\"na\">xmlns:bqbiol=</span><span class=\"s\">&quot;http://biomodels.net/biology-qualifiers/&quot;</span> <span class=\"na\">xmlns:bqmodel=</span><span class=\"s\">&quot;http://biomodels.net/model-qualifiers/&quot;</span><span class=\"nt\">&gt;</span>\n",
       "                <span class=\"nt\">&lt;rdf:Description</span> <span class=\"na\">rdf:about=</span><span class=\"s\">&quot;#meta_uncertainty2&quot;</span><span class=\"nt\">&gt;</span>\n",
       "                  <span class=\"nt\">&lt;bqbiol:is&gt;</span>\n",
       "                    <span class=\"nt\">&lt;rdf:Bag&gt;</span>\n",
       "                      <span class=\"nt\">&lt;rdf:li</span> <span class=\"na\">rdf:resource=</span><span class=\"s\">&quot;https://identifiers.org/sabiork.kineticrecord/2581&quot;</span><span class=\"nt\">/&gt;</span>\n",
       "                      <span class=\"nt\">&lt;rdf:li</span> <span class=\"na\">rdf:resource=</span><span class=\"s\">&quot;https://identifiers.org/ec-code/2.7.1.2&quot;</span><span class=\"nt\">/&gt;</span>\n",
       "                      <span class=\"nt\">&lt;rdf:li</span> <span class=\"na\">rdf:resource=</span><span class=\"s\">&quot;https://identifiers.org/uniprot/P35557&quot;</span><span class=\"nt\">/&gt;</span>\n",
       "                      <span class=\"nt\">&lt;rdf:li</span> <span class=\"na\">rdf:resource=</span><span class=\"s\">&quot;https://identifiers.org/BTO:0000075&quot;</span><span class=\"nt\">/&gt;</span>\n",
       "                    <span class=\"nt\">&lt;/rdf:Bag&gt;</span>\n",
       "                  <span class=\"nt\">&lt;/bqbiol:is&gt;</span>\n",
       "                  <span class=\"nt\">&lt;bqbiol:hasTaxon&gt;</span>\n",
       "                    <span class=\"nt\">&lt;rdf:Bag&gt;</span>\n",
       "                      <span class=\"nt\">&lt;rdf:li</span> <span class=\"na\">rdf:resource=</span><span class=\"s\">&quot;https://identifiers.org/taxonomy/9606&quot;</span><span class=\"nt\">/&gt;</span>\n",
       "                    <span class=\"nt\">&lt;/rdf:Bag&gt;</span>\n",
       "                  <span class=\"nt\">&lt;/bqbiol:hasTaxon&gt;</span>\n",
       "                <span class=\"nt\">&lt;/rdf:Description&gt;</span>\n",
       "              <span class=\"nt\">&lt;/rdf:RDF&gt;</span>\n",
       "            <span class=\"nt\">&lt;/annotation&gt;</span>\n",
       "            <span class=\"nt\">&lt;distrib:uncertParameter</span> <span class=\"na\">distrib:value=</span><span class=\"s\">&quot;2.7&quot;</span> <span class=\"na\">distrib:type=</span><span class=\"s\">&quot;mean&quot;</span><span class=\"nt\">/&gt;</span>\n",
       "            <span class=\"nt\">&lt;distrib:uncertParameter</span> <span class=\"na\">distrib:value=</span><span class=\"s\">&quot;0.11&quot;</span> <span class=\"na\">distrib:type=</span><span class=\"s\">&quot;standardDeviation&quot;</span><span class=\"nt\">/&gt;</span>\n",
       "          <span class=\"nt\">&lt;/distrib:uncertainty&gt;</span>\n",
       "        <span class=\"nt\">&lt;/distrib:listOfUncertainties&gt;</span>\n",
       "      <span class=\"nt\">&lt;/parameter&gt;</span>\n",
       "    <span class=\"nt\">&lt;/listOfParameters&gt;</span>\n",
       "  <span class=\"nt\">&lt;/model&gt;</span>\n",
       "<span class=\"nt\">&lt;/sbml&gt;</span>\n",
       "</pre></div>\n"
      ]
     },
     "metadata": {},
     "output_type": "display_data"
    },
    {
     "data": {
      "text/html": [
       "<pre style=\"white-space:pre;overflow-x:auto;line-height:normal;font-family:Menlo,'DejaVu Sans Mono',consolas,'Courier New',monospace\">\n",
       "</pre>\n"
      ],
      "text/plain": [
       "\n"
      ]
     },
     "metadata": {},
     "output_type": "display_data"
    },
    {
     "data": {
      "text/html": [
       "<pre style=\"white-space:pre;overflow-x:auto;line-height:normal;font-family:Menlo,'DejaVu Sans Mono',consolas,'Courier New',monospace\"><span style=\"color: #008000; text-decoration-color: #008000\">─────────────────────────────────────── </span>Validate SBML<span style=\"color: #008000; text-decoration-color: #008000\"> ───────────────────────────────────────</span>\n",
       "</pre>\n"
      ],
      "text/plain": [
       "\u001b[32m─────────────────────────────────────── \u001b[0mValidate SBML\u001b[32m ───────────────────────────────────────\u001b[0m\n"
      ]
     },
     "metadata": {},
     "output_type": "display_data"
    },
    {
     "data": {
      "text/html": [
       "<pre style=\"white-space:pre;overflow-x:auto;line-height:normal;font-family:Menlo,'DejaVu Sans Mono',consolas,'Courier New',monospace\"><span style=\"color: #008000; text-decoration-color: #008000; font-weight: bold\">&lt;</span><span style=\"color: #ff00ff; text-decoration-color: #ff00ff; font-weight: bold\">SBMLDocument</span><span style=\"color: #008000; text-decoration-color: #008000; font-weight: bold\">&gt;</span>\n",
       "<span style=\"color: #008000; text-decoration-color: #008000\">valid                    : TRUE</span>\n",
       "<span style=\"color: #008000; text-decoration-color: #008000\">check time </span><span style=\"color: #008000; text-decoration-color: #008000; font-weight: bold\">(</span><span style=\"color: #008000; text-decoration-color: #008000\">s</span><span style=\"color: #008000; text-decoration-color: #008000; font-weight: bold\">)</span><span style=\"color: #008000; text-decoration-color: #008000\">           : </span><span style=\"color: #008080; text-decoration-color: #008080; font-weight: bold\">0.003</span>\n",
       "</pre>\n"
      ],
      "text/plain": [
       "\u001b[1;32m<\u001b[0m\u001b[1;95mSBMLDocument\u001b[0m\u001b[1;32m>\u001b[0m\n",
       "\u001b[32mvalid                    : TRUE\u001b[0m\n",
       "\u001b[32mcheck time \u001b[0m\u001b[1;32m(\u001b[0m\u001b[32ms\u001b[0m\u001b[1;32m)\u001b[0m\u001b[32m           : \u001b[0m\u001b[1;36m0.003\u001b[0m\n"
      ]
     },
     "metadata": {},
     "output_type": "display_data"
    },
    {
     "data": {
      "text/html": [
       "<pre style=\"white-space:pre;overflow-x:auto;line-height:normal;font-family:Menlo,'DejaVu Sans Mono',consolas,'Courier New',monospace\"><span style=\"color: #008000; text-decoration-color: #008000\">─────────────────────────────────────────────────────────────────────────────────────────────</span>\n",
       "</pre>\n"
      ],
      "text/plain": [
       "\u001b[32m─────────────────────────────────────────────────────────────────────────────────────────────\u001b[0m\n"
      ]
     },
     "metadata": {},
     "output_type": "display_data"
    },
    {
     "data": {
      "text/html": [
       "<pre style=\"white-space:pre;overflow-x:auto;line-height:normal;font-family:Menlo,'DejaVu Sans Mono',consolas,'Courier New',monospace\">\n",
       "</pre>\n"
      ],
      "text/plain": [
       "\n"
      ]
     },
     "metadata": {},
     "output_type": "display_data"
    }
   ],
   "source": [
    "import libsbml\n",
    "from sbmlutils.metadata import *\n",
    "\n",
    "class U(Units):\n",
    "    hr = UnitDefinition(\"hr\")\n",
    "    m2 = UnitDefinition(\"m2\", \"meter^2\")\n",
    "    mM = UnitDefinition(\"mM\", \"mmole/liter\")\n",
    "    \n",
    "\n",
    "md: ModelDict = {\n",
    "    'sid': 'sabiork_parameter',\n",
    "    'packages': ['distrib'],\n",
    "    'units': U,\n",
    "    'model_units': ModelUnits(time=U.hr, extent=U.mole,\n",
    "                              substance=U.mole,\n",
    "                              length=U.meter, area=U.m2,\n",
    "                              volume=U.liter),\n",
    "    'parameters': [\n",
    "        Parameter(\n",
    "            sid=\"Km_glc\", name=\"Michelis-Menten constant glucose\",\n",
    "            value=5.0, unit=U.mM, sboTerm=SBO.MICHAELIS_CONSTANT,\n",
    "            uncertainties=[\n",
    "                Uncertainty(\n",
    "                  sid=\"uncertainty1\",\n",
    "                  uncertParameters=[\n",
    "                      UncertParameter(\n",
    "                          type=libsbml.DISTRIB_UNCERTTYPE_MEAN,\n",
    "                          value=5.07),\n",
    "                      UncertParameter(\n",
    "                          type=libsbml.DISTRIB_UNCERTTYPE_STANDARDDEVIATION,\n",
    "                          value=0.97),\n",
    "                  ], annotations=[\n",
    "                        (BQB.IS, \"sabiork.kineticrecord/793\"),  # entry in SABIO-RK\n",
    "                        (BQB.HAS_TAXON, \"taxonomy/9606\"),  # homo sapiens\n",
    "                        (BQB.IS, \"ec-code/2.7.1.2\"),  # glucokinase\n",
    "                        (BQB.IS, \"uniprot/P35557\"),  # Glucokinase homo sapiens\n",
    "                        (BQB.IS, \"bto/BTO:0000075\"),  # liver\n",
    "                    ]),\n",
    "                Uncertainty(\n",
    "                    sid=\"uncertainty2\",\n",
    "                    uncertParameters=[\n",
    "                        UncertParameter(\n",
    "                            type=libsbml.DISTRIB_UNCERTTYPE_MEAN,\n",
    "                            value=2.7),\n",
    "                        UncertParameter(\n",
    "                            type=libsbml.DISTRIB_UNCERTTYPE_STANDARDDEVIATION,\n",
    "                            value=0.11),\n",
    "                    ], annotations=[\n",
    "                        (BQB.IS, \"sabiork.kineticrecord/2581\"),\n",
    "                        # entry in SABIO-RK\n",
    "                        (BQB.HAS_TAXON, \"taxonomy/9606\"),  # homo sapiens\n",
    "                        (BQB.IS, \"ec-code/2.7.1.2\"),  # glucokinase\n",
    "                        (BQB.IS, \"uniprot/P35557\"),  # Glucokinase homo sapiens\n",
    "                        (BQB.IS, \"bto/BTO:0000075\"),  # liver\n",
    "                    ]),\n",
    "            ])\n",
    "    ]\n",
    "}\n",
    "\n",
    "# create model and print SBML\n",
    "doc = Document(Model(**md))\n",
    "print_xml(doc.get_sbml())\n",
    "\n",
    "# validate model\n",
    "validate_doc(doc.doc, units_consistency=False);"
   ]
  },
  {
   "cell_type": "code",
   "execution_count": null,
   "metadata": {},
   "outputs": [],
   "source": []
  }
 ],
 "metadata": {
  "kernelspec": {
   "display_name": "sbmlutils",
   "language": "python",
   "name": "sbmlutils"
  },
  "language_info": {
   "codemirror_mode": {
    "name": "ipython",
    "version": 3
   },
   "file_extension": ".py",
   "mimetype": "text/x-python",
   "name": "python",
   "nbconvert_exporter": "python",
   "pygments_lexer": "ipython3",
   "version": "3.9.13"
  }
 },
 "nbformat": 4,
 "nbformat_minor": 4
}
