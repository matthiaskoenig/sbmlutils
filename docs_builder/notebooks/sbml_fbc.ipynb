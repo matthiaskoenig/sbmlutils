{
 "cells": [
  {
   "cell_type": "markdown",
   "metadata": {},
   "source": [
    "## SBML Flux Balance Constraints (fbc)\n",
    "The following examples demonstrate the creation of SBML models with SBML fbc information."
   ]
  },
  {
   "cell_type": "code",
   "execution_count": 1,
   "metadata": {},
   "outputs": [],
   "source": [
    "%load_ext autoreload\n",
    "%autoreload 2"
   ]
  },
  {
   "cell_type": "code",
   "execution_count": 2,
   "metadata": {},
   "outputs": [],
   "source": [
    "from rich.jupyter import print\n",
    "from notebook_utils import print_xml\n",
    "from sbmlutils.factory import *\n",
    "from sbmlutils.validation import validate_doc"
   ]
  },
  {
   "cell_type": "markdown",
   "metadata": {},
   "source": [
    "### Setting charge and formula on species\n",
    "The optional attribute `charge` refers to the Species objects charge (in terms of electrons, not the SI unit coulombs)."
   ]
  },
  {
   "cell_type": "code",
   "execution_count": 3,
   "metadata": {},
   "outputs": [
    {
     "data": {
      "text/html": [
       "<pre style=\"white-space:pre;overflow-x:auto;line-height:normal;font-family:Menlo,'DejaVu Sans Mono',consolas,'Courier New',monospace\"><span style=\"color: #000080; text-decoration-color: #000080\">INFO    </span> Create SBML for model <span style=\"color: #008000; text-decoration-color: #008000\">'fbc_charge_formula'</span>                                                 <a href=\"file:///home/mkoenig/git/sbmlutils/src/sbmlutils/factory.py\" target=\"_blank\"><span style=\"color: #7f7f7f; text-decoration-color: #7f7f7f\">factory.py</span></a><span style=\"color: #7f7f7f; text-decoration-color: #7f7f7f\">:</span><a href=\"file:///home/mkoenig/git/sbmlutils/src/sbmlutils/factory.py#3526\" target=\"_blank\"><span style=\"color: #7f7f7f; text-decoration-color: #7f7f7f\">3526</span></a>\n",
       "</pre>\n"
      ],
      "text/plain": [
       "\u001b[34mINFO    \u001b[0m Create SBML for model \u001b[32m'fbc_charge_formula'\u001b[0m                                                 \u001b]8;id=792511;file:///home/mkoenig/git/sbmlutils/src/sbmlutils/factory.py\u001b\\\u001b[2mfactory.py\u001b[0m\u001b]8;;\u001b\\\u001b[2m:\u001b[0m\u001b]8;id=458619;file:///home/mkoenig/git/sbmlutils/src/sbmlutils/factory.py#3526\u001b\\\u001b[2m3526\u001b[0m\u001b]8;;\u001b\\\n"
      ]
     },
     "metadata": {},
     "output_type": "display_data"
    },
    {
     "data": {
      "text/html": [
       "<pre style=\"white-space:pre;overflow-x:auto;line-height:normal;font-family:Menlo,'DejaVu Sans Mono',consolas,'Courier New',monospace\"><span style=\"color: #800000; text-decoration-color: #800000\">WARNING </span> <span style=\"color: #008000; text-decoration-color: #008000\">'name'</span> should be set on <span style=\"color: #008000; text-decoration-color: #008000\">'Model(sid='</span>fbc_charge_formula', <span style=\"color: #808000; text-decoration-color: #808000\">packages</span>=<span style=\"font-weight: bold\">[&lt;</span><span style=\"color: #ff00ff; text-decoration-color: #ff00ff; font-weight: bold\">Package.COMP_V1:</span><span style=\"color: #000000; text-decoration-color: #000000\"> </span>       <a href=\"file:///home/mkoenig/git/sbmlutils/src/sbmlutils/factory.py\" target=\"_blank\"><span style=\"color: #7f7f7f; text-decoration-color: #7f7f7f\">factory.py</span></a><span style=\"color: #7f7f7f; text-decoration-color: #7f7f7f\">:</span><a href=\"file:///home/mkoenig/git/sbmlutils/src/sbmlutils/factory.py#441\" target=\"_blank\"><span style=\"color: #7f7f7f; text-decoration-color: #7f7f7f\">441</span></a>\n",
       "         <span style=\"color: #008000; text-decoration-color: #008000\">'comp-v1'</span><span style=\"font-weight: bold\">&gt;</span>, <span style=\"font-weight: bold\">&lt;</span><span style=\"color: #ff00ff; text-decoration-color: #ff00ff; font-weight: bold\">Package.FBC_V2:</span><span style=\"color: #000000; text-decoration-color: #000000\"> </span><span style=\"color: #008000; text-decoration-color: #008000\">'fbc-v2'</span><span style=\"font-weight: bold\">&gt;]</span>, <span style=\"color: #808000; text-decoration-color: #808000\">model_units</span>=<span style=\"font-weight: bold\">&lt;</span><span style=\"color: #ff00ff; text-decoration-color: #ff00ff; font-weight: bold\">sbmlutils.factory.ModelUnits</span><span style=\"color: #000000; text-decoration-color: #000000\"> object </span>  <span style=\"color: #7f7f7f; text-decoration-color: #7f7f7f\">              </span>\n",
       "         <span style=\"color: #000000; text-decoration-color: #000000\">at </span><span style=\"color: #008080; text-decoration-color: #008080; font-weight: bold\">0x7fefb53bf7c0</span><span style=\"font-weight: bold\">&gt;</span>, <span style=\"color: #808000; text-decoration-color: #808000\">units</span>=<span style=\"font-weight: bold\">&lt;</span><span style=\"color: #ff00ff; text-decoration-color: #ff00ff; font-weight: bold\">class</span><span style=\"color: #000000; text-decoration-color: #000000\"> </span><span style=\"color: #008000; text-decoration-color: #008000\">'__main__.U'</span><span style=\"font-weight: bold\">&gt;</span>, <span style=\"color: #808000; text-decoration-color: #808000\">_FrozenClass__isfrozen</span>=<span style=\"color: #00ff00; text-decoration-color: #00ff00; font-style: italic\">True</span><span style=\"font-weight: bold\">)</span>'               <span style=\"color: #7f7f7f; text-decoration-color: #7f7f7f\">              </span>\n",
       "</pre>\n"
      ],
      "text/plain": [
       "\u001b[31mWARNING \u001b[0m \u001b[32m'name'\u001b[0m should be set on \u001b[32m'Model\u001b[0m\u001b[32m(\u001b[0m\u001b[32msid\u001b[0m\u001b[32m='\u001b[0mfbc_charge_formula', \u001b[33mpackages\u001b[0m=\u001b[1m[\u001b[0m\u001b[1m<\u001b[0m\u001b[1;95mPackage.COMP_V1:\u001b[0m\u001b[39m \u001b[0m       \u001b]8;id=213662;file:///home/mkoenig/git/sbmlutils/src/sbmlutils/factory.py\u001b\\\u001b[2mfactory.py\u001b[0m\u001b]8;;\u001b\\\u001b[2m:\u001b[0m\u001b]8;id=512675;file:///home/mkoenig/git/sbmlutils/src/sbmlutils/factory.py#441\u001b\\\u001b[2m441\u001b[0m\u001b]8;;\u001b\\\n",
       "         \u001b[32m'comp-v1'\u001b[0m\u001b[1m>\u001b[0m, \u001b[1m<\u001b[0m\u001b[1;95mPackage.FBC_V2:\u001b[0m\u001b[39m \u001b[0m\u001b[32m'fbc-v2'\u001b[0m\u001b[1m>\u001b[0m\u001b[1m]\u001b[0m, \u001b[33mmodel_units\u001b[0m=\u001b[1m<\u001b[0m\u001b[1;95msbmlutils.factory.ModelUnits\u001b[0m\u001b[39m object \u001b[0m  \u001b[2m              \u001b[0m\n",
       "         \u001b[39mat \u001b[0m\u001b[1;36m0x7fefb53bf7c0\u001b[0m\u001b[1m>\u001b[0m, \u001b[33munits\u001b[0m=\u001b[1m<\u001b[0m\u001b[1;95mclass\u001b[0m\u001b[39m \u001b[0m\u001b[32m'__main__.U'\u001b[0m\u001b[1m>\u001b[0m, \u001b[33m_FrozenClass__isfrozen\u001b[0m=\u001b[3;92mTrue\u001b[0m\u001b[1m)\u001b[0m'               \u001b[2m              \u001b[0m\n"
      ]
     },
     "metadata": {},
     "output_type": "display_data"
    },
    {
     "data": {
      "text/html": [
       "<style type=\"text/css\">pre { line-height: 125%; }\n",
       "td.linenos .normal { color: inherit; background-color: transparent; padding-left: 5px; padding-right: 5px; }\n",
       "span.linenos { color: inherit; background-color: transparent; padding-left: 5px; padding-right: 5px; }\n",
       "td.linenos .special { color: #000000; background-color: #ffffc0; padding-left: 5px; padding-right: 5px; }\n",
       "span.linenos.special { color: #000000; background-color: #ffffc0; padding-left: 5px; padding-right: 5px; }\n",
       ".highlight .hll { background-color: #ffffcc }\n",
       ".highlight { background: #f8f8f8; }\n",
       ".highlight .c { color: #3D7B7B; font-style: italic } /* Comment */\n",
       ".highlight .err { border: 1px solid #FF0000 } /* Error */\n",
       ".highlight .k { color: #008000; font-weight: bold } /* Keyword */\n",
       ".highlight .o { color: #666666 } /* Operator */\n",
       ".highlight .ch { color: #3D7B7B; font-style: italic } /* Comment.Hashbang */\n",
       ".highlight .cm { color: #3D7B7B; font-style: italic } /* Comment.Multiline */\n",
       ".highlight .cp { color: #9C6500 } /* Comment.Preproc */\n",
       ".highlight .cpf { color: #3D7B7B; font-style: italic } /* Comment.PreprocFile */\n",
       ".highlight .c1 { color: #3D7B7B; font-style: italic } /* Comment.Single */\n",
       ".highlight .cs { color: #3D7B7B; font-style: italic } /* Comment.Special */\n",
       ".highlight .gd { color: #A00000 } /* Generic.Deleted */\n",
       ".highlight .ge { font-style: italic } /* Generic.Emph */\n",
       ".highlight .gr { color: #E40000 } /* Generic.Error */\n",
       ".highlight .gh { color: #000080; font-weight: bold } /* Generic.Heading */\n",
       ".highlight .gi { color: #008400 } /* Generic.Inserted */\n",
       ".highlight .go { color: #717171 } /* Generic.Output */\n",
       ".highlight .gp { color: #000080; font-weight: bold } /* Generic.Prompt */\n",
       ".highlight .gs { font-weight: bold } /* Generic.Strong */\n",
       ".highlight .gu { color: #800080; font-weight: bold } /* Generic.Subheading */\n",
       ".highlight .gt { color: #0044DD } /* Generic.Traceback */\n",
       ".highlight .kc { color: #008000; font-weight: bold } /* Keyword.Constant */\n",
       ".highlight .kd { color: #008000; font-weight: bold } /* Keyword.Declaration */\n",
       ".highlight .kn { color: #008000; font-weight: bold } /* Keyword.Namespace */\n",
       ".highlight .kp { color: #008000 } /* Keyword.Pseudo */\n",
       ".highlight .kr { color: #008000; font-weight: bold } /* Keyword.Reserved */\n",
       ".highlight .kt { color: #B00040 } /* Keyword.Type */\n",
       ".highlight .m { color: #666666 } /* Literal.Number */\n",
       ".highlight .s { color: #BA2121 } /* Literal.String */\n",
       ".highlight .na { color: #687822 } /* Name.Attribute */\n",
       ".highlight .nb { color: #008000 } /* Name.Builtin */\n",
       ".highlight .nc { color: #0000FF; font-weight: bold } /* Name.Class */\n",
       ".highlight .no { color: #880000 } /* Name.Constant */\n",
       ".highlight .nd { color: #AA22FF } /* Name.Decorator */\n",
       ".highlight .ni { color: #717171; font-weight: bold } /* Name.Entity */\n",
       ".highlight .ne { color: #CB3F38; font-weight: bold } /* Name.Exception */\n",
       ".highlight .nf { color: #0000FF } /* Name.Function */\n",
       ".highlight .nl { color: #767600 } /* Name.Label */\n",
       ".highlight .nn { color: #0000FF; font-weight: bold } /* Name.Namespace */\n",
       ".highlight .nt { color: #008000; font-weight: bold } /* Name.Tag */\n",
       ".highlight .nv { color: #19177C } /* Name.Variable */\n",
       ".highlight .ow { color: #AA22FF; font-weight: bold } /* Operator.Word */\n",
       ".highlight .w { color: #bbbbbb } /* Text.Whitespace */\n",
       ".highlight .mb { color: #666666 } /* Literal.Number.Bin */\n",
       ".highlight .mf { color: #666666 } /* Literal.Number.Float */\n",
       ".highlight .mh { color: #666666 } /* Literal.Number.Hex */\n",
       ".highlight .mi { color: #666666 } /* Literal.Number.Integer */\n",
       ".highlight .mo { color: #666666 } /* Literal.Number.Oct */\n",
       ".highlight .sa { color: #BA2121 } /* Literal.String.Affix */\n",
       ".highlight .sb { color: #BA2121 } /* Literal.String.Backtick */\n",
       ".highlight .sc { color: #BA2121 } /* Literal.String.Char */\n",
       ".highlight .dl { color: #BA2121 } /* Literal.String.Delimiter */\n",
       ".highlight .sd { color: #BA2121; font-style: italic } /* Literal.String.Doc */\n",
       ".highlight .s2 { color: #BA2121 } /* Literal.String.Double */\n",
       ".highlight .se { color: #AA5D1F; font-weight: bold } /* Literal.String.Escape */\n",
       ".highlight .sh { color: #BA2121 } /* Literal.String.Heredoc */\n",
       ".highlight .si { color: #A45A77; font-weight: bold } /* Literal.String.Interpol */\n",
       ".highlight .sx { color: #008000 } /* Literal.String.Other */\n",
       ".highlight .sr { color: #A45A77 } /* Literal.String.Regex */\n",
       ".highlight .s1 { color: #BA2121 } /* Literal.String.Single */\n",
       ".highlight .ss { color: #19177C } /* Literal.String.Symbol */\n",
       ".highlight .bp { color: #008000 } /* Name.Builtin.Pseudo */\n",
       ".highlight .fm { color: #0000FF } /* Name.Function.Magic */\n",
       ".highlight .vc { color: #19177C } /* Name.Variable.Class */\n",
       ".highlight .vg { color: #19177C } /* Name.Variable.Global */\n",
       ".highlight .vi { color: #19177C } /* Name.Variable.Instance */\n",
       ".highlight .vm { color: #19177C } /* Name.Variable.Magic */\n",
       ".highlight .il { color: #666666 } /* Literal.Number.Integer.Long */</style>    <div class=\"highlight\"><pre><span></span><span class=\"cp\">&lt;?xml version=&quot;1.0&quot; encoding=&quot;UTF-8&quot;?&gt;</span>\n",
       "<span class=\"nt\">&lt;sbml</span> <span class=\"na\">xmlns=</span><span class=\"s\">&quot;http://www.sbml.org/sbml/level3/version1/core&quot;</span> <span class=\"na\">xmlns:comp=</span><span class=\"s\">&quot;http://www.sbml.org/sbml/level3/version1/comp/version1&quot;</span> <span class=\"na\">xmlns:fbc=</span><span class=\"s\">&quot;http://www.sbml.org/sbml/level3/version1/fbc/version2&quot;</span> <span class=\"na\">level=</span><span class=\"s\">&quot;3&quot;</span> <span class=\"na\">version=</span><span class=\"s\">&quot;1&quot;</span> <span class=\"na\">comp:required=</span><span class=\"s\">&quot;true&quot;</span> <span class=\"na\">fbc:required=</span><span class=\"s\">&quot;false&quot;</span><span class=\"nt\">&gt;</span>\n",
       "  <span class=\"nt\">&lt;notes&gt;</span>\n",
       "    <span class=\"nt\">&lt;body</span> <span class=\"na\">xmlns=</span><span class=\"s\">&quot;http://www.w3.org/1999/xhtml&quot;</span><span class=\"nt\">&gt;</span>\n",
       "      <span class=\"nt\">&lt;p&gt;</span>Created with <span class=\"nt\">&lt;a</span> <span class=\"na\">href=</span><span class=\"s\">&quot;https://github.com/matthiaskoenig/sbmlutils&quot;</span><span class=\"nt\">&gt;</span>https://github.com/matthiaskoenig/sbmlutils<span class=\"nt\">&lt;/a&gt;</span>.\n",
       "<span class=\"nt\">&lt;a</span> <span class=\"na\">href=</span><span class=\"s\">&quot;https://doi.org/10.5281/zenodo.5525390&quot;</span><span class=\"nt\">&gt;</span>\n",
       "        <span class=\"nt\">&lt;img</span> <span class=\"na\">src=</span><span class=\"s\">&quot;https://zenodo.org/badge/DOI/10.5281/zenodo.5525390.svg&quot;</span> <span class=\"na\">alt=</span><span class=\"s\">&quot;DOI&quot;</span><span class=\"nt\">/&gt;&lt;/a&gt;&lt;/p&gt;</span>\n",
       "      <span class=\"nt\">&lt;/body&gt;</span>\n",
       "    <span class=\"nt\">&lt;/notes&gt;</span>\n",
       "  <span class=\"nt\">&lt;model</span> <span class=\"na\">id=</span><span class=\"s\">&quot;fbc_charge_formula&quot;</span> <span class=\"na\">substanceUnits=</span><span class=\"s\">&quot;mole&quot;</span> <span class=\"na\">timeUnits=</span><span class=\"s\">&quot;hr&quot;</span> <span class=\"na\">volumeUnits=</span><span class=\"s\">&quot;litre&quot;</span> <span class=\"na\">areaUnits=</span><span class=\"s\">&quot;m2&quot;</span> <span class=\"na\">lengthUnits=</span><span class=\"s\">&quot;metre&quot;</span> <span class=\"na\">extentUnits=</span><span class=\"s\">&quot;mole&quot;</span> <span class=\"na\">fbc:strict=</span><span class=\"s\">&quot;false&quot;</span><span class=\"nt\">&gt;</span>\n",
       "    <span class=\"nt\">&lt;listOfUnitDefinitions&gt;</span>\n",
       "      <span class=\"nt\">&lt;unitDefinition</span> <span class=\"na\">id=</span><span class=\"s\">&quot;hr&quot;</span> <span class=\"na\">name=</span><span class=\"s\">&quot;hr&quot;</span><span class=\"nt\">&gt;</span>\n",
       "        <span class=\"nt\">&lt;listOfUnits&gt;</span>\n",
       "          <span class=\"nt\">&lt;unit</span> <span class=\"na\">kind=</span><span class=\"s\">&quot;second&quot;</span> <span class=\"na\">exponent=</span><span class=\"s\">&quot;1&quot;</span> <span class=\"na\">scale=</span><span class=\"s\">&quot;0&quot;</span> <span class=\"na\">multiplier=</span><span class=\"s\">&quot;3600&quot;</span><span class=\"nt\">/&gt;</span>\n",
       "        <span class=\"nt\">&lt;/listOfUnits&gt;</span>\n",
       "      <span class=\"nt\">&lt;/unitDefinition&gt;</span>\n",
       "      <span class=\"nt\">&lt;unitDefinition</span> <span class=\"na\">id=</span><span class=\"s\">&quot;m2&quot;</span> <span class=\"na\">name=</span><span class=\"s\">&quot;meter^2&quot;</span><span class=\"nt\">&gt;</span>\n",
       "        <span class=\"nt\">&lt;listOfUnits&gt;</span>\n",
       "          <span class=\"nt\">&lt;unit</span> <span class=\"na\">kind=</span><span class=\"s\">&quot;metre&quot;</span> <span class=\"na\">exponent=</span><span class=\"s\">&quot;2&quot;</span> <span class=\"na\">scale=</span><span class=\"s\">&quot;0&quot;</span> <span class=\"na\">multiplier=</span><span class=\"s\">&quot;1&quot;</span><span class=\"nt\">/&gt;</span>\n",
       "        <span class=\"nt\">&lt;/listOfUnits&gt;</span>\n",
       "      <span class=\"nt\">&lt;/unitDefinition&gt;</span>\n",
       "      <span class=\"nt\">&lt;unitDefinition</span> <span class=\"na\">id=</span><span class=\"s\">&quot;mM&quot;</span> <span class=\"na\">name=</span><span class=\"s\">&quot;mmole/liter&quot;</span><span class=\"nt\">&gt;</span>\n",
       "        <span class=\"nt\">&lt;listOfUnits&gt;</span>\n",
       "          <span class=\"nt\">&lt;unit</span> <span class=\"na\">kind=</span><span class=\"s\">&quot;mole&quot;</span> <span class=\"na\">exponent=</span><span class=\"s\">&quot;1&quot;</span> <span class=\"na\">scale=</span><span class=\"s\">&quot;0&quot;</span> <span class=\"na\">multiplier=</span><span class=\"s\">&quot;0.001&quot;</span><span class=\"nt\">/&gt;</span>\n",
       "          <span class=\"nt\">&lt;unit</span> <span class=\"na\">kind=</span><span class=\"s\">&quot;litre&quot;</span> <span class=\"na\">exponent=</span><span class=\"s\">&quot;-1&quot;</span> <span class=\"na\">scale=</span><span class=\"s\">&quot;0&quot;</span> <span class=\"na\">multiplier=</span><span class=\"s\">&quot;1&quot;</span><span class=\"nt\">/&gt;</span>\n",
       "        <span class=\"nt\">&lt;/listOfUnits&gt;</span>\n",
       "      <span class=\"nt\">&lt;/unitDefinition&gt;</span>\n",
       "    <span class=\"nt\">&lt;/listOfUnitDefinitions&gt;</span>\n",
       "  <span class=\"nt\">&lt;/model&gt;</span>\n",
       "<span class=\"nt\">&lt;/sbml&gt;</span>\n",
       "</pre></div>\n"
      ]
     },
     "metadata": {},
     "output_type": "display_data"
    },
    {
     "data": {
      "text/html": [
       "<pre style=\"white-space:pre;overflow-x:auto;line-height:normal;font-family:Menlo,'DejaVu Sans Mono',consolas,'Courier New',monospace\">\n",
       "</pre>\n"
      ],
      "text/plain": [
       "\n"
      ]
     },
     "metadata": {},
     "output_type": "display_data"
    },
    {
     "data": {
      "text/html": [
       "<pre style=\"white-space:pre;overflow-x:auto;line-height:normal;font-family:Menlo,'DejaVu Sans Mono',consolas,'Courier New',monospace\"><span style=\"color: #008000; text-decoration-color: #008000\">────────────────────────────────────────────────── </span>Validate SBML<span style=\"color: #008000; text-decoration-color: #008000\"> ──────────────────────────────────────────────────</span>\n",
       "</pre>\n"
      ],
      "text/plain": [
       "\u001b[32m────────────────────────────────────────────────── \u001b[0mValidate SBML\u001b[32m ──────────────────────────────────────────────────\u001b[0m\n"
      ]
     },
     "metadata": {},
     "output_type": "display_data"
    },
    {
     "data": {
      "text/html": [
       "<pre style=\"white-space:pre;overflow-x:auto;line-height:normal;font-family:Menlo,'DejaVu Sans Mono',consolas,'Courier New',monospace\"><span style=\"color: #008000; text-decoration-color: #008000; font-weight: bold\">&lt;</span><span style=\"color: #ff00ff; text-decoration-color: #ff00ff; font-weight: bold\">SBMLDocument</span><span style=\"color: #008000; text-decoration-color: #008000; font-weight: bold\">&gt;</span>\n",
       "<span style=\"color: #008000; text-decoration-color: #008000\">valid                    : TRUE</span>\n",
       "<span style=\"color: #008000; text-decoration-color: #008000\">check time </span><span style=\"color: #008000; text-decoration-color: #008000; font-weight: bold\">(</span><span style=\"color: #008000; text-decoration-color: #008000\">s</span><span style=\"color: #008000; text-decoration-color: #008000; font-weight: bold\">)</span><span style=\"color: #008000; text-decoration-color: #008000\">           : </span><span style=\"color: #008080; text-decoration-color: #008080; font-weight: bold\">0.002</span>\n",
       "</pre>\n"
      ],
      "text/plain": [
       "\u001b[1;32m<\u001b[0m\u001b[1;95mSBMLDocument\u001b[0m\u001b[1;32m>\u001b[0m\n",
       "\u001b[32mvalid                    : TRUE\u001b[0m\n",
       "\u001b[32mcheck time \u001b[0m\u001b[1;32m(\u001b[0m\u001b[32ms\u001b[0m\u001b[1;32m)\u001b[0m\u001b[32m           : \u001b[0m\u001b[1;36m0.002\u001b[0m\n"
      ]
     },
     "metadata": {},
     "output_type": "display_data"
    },
    {
     "data": {
      "text/html": [
       "<pre style=\"white-space:pre;overflow-x:auto;line-height:normal;font-family:Menlo,'DejaVu Sans Mono',consolas,'Courier New',monospace\"><span style=\"color: #008000; text-decoration-color: #008000\">───────────────────────────────────────────────────────────────────────────────────────────────────────────────────</span>\n",
       "</pre>\n"
      ],
      "text/plain": [
       "\u001b[32m───────────────────────────────────────────────────────────────────────────────────────────────────────────────────\u001b[0m\n"
      ]
     },
     "metadata": {},
     "output_type": "display_data"
    },
    {
     "data": {
      "text/html": [
       "<pre style=\"white-space:pre;overflow-x:auto;line-height:normal;font-family:Menlo,'DejaVu Sans Mono',consolas,'Courier New',monospace\">\n",
       "</pre>\n"
      ],
      "text/plain": [
       "\n"
      ]
     },
     "metadata": {},
     "output_type": "display_data"
    }
   ],
   "source": [
    "class U(Units):\n",
    "    \"\"\"UnitDefinitions.\"\"\"\n",
    "    hr = UnitDefinition(\"hr\")\n",
    "    m2 = UnitDefinition(\"m2\", \"meter^2\")\n",
    "    mM = UnitDefinition(\"mM\", \"mmole/liter\")\n",
    "\n",
    "# model definition    \n",
    "model = Model(\n",
    "    'fbc_charge_formula',\n",
    "    packages= [Package.FBC_V2],\n",
    "    units=U,\n",
    "    model_units= ModelUnits(\n",
    "        time=U.hr, extent=U.mole, substance=U.mole,\n",
    "        length=U.meter, area=U.m2, volume=U.liter),\n",
    "    species=[\n",
    "        \n",
    "    ]\n",
    ")\n",
    "\n",
    "# create model and print SBML\n",
    "doc = Document(model)\n",
    "print_xml(doc.get_sbml())\n",
    "\n",
    "# validate model\n",
    "validate_doc(doc.doc, options=ValidationOptions(units_consistency=False));"
   ]
  },
  {
   "cell_type": "code",
   "execution_count": null,
   "metadata": {},
   "outputs": [],
   "source": []
  }
 ],
 "metadata": {
  "kernelspec": {
   "display_name": "sbmlutils",
   "language": "python",
   "name": "sbmlutils"
  },
  "language_info": {
   "codemirror_mode": {
    "name": "ipython",
    "version": 3
   },
   "file_extension": ".py",
   "mimetype": "text/x-python",
   "name": "python",
   "nbconvert_exporter": "python",
   "pygments_lexer": "ipython3",
   "version": "3.9.16"
  }
 },
 "nbformat": 4,
 "nbformat_minor": 4
}
