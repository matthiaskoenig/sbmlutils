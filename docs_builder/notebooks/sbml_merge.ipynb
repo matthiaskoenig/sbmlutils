{
 "cells": [
  {
   "cell_type": "markdown",
   "metadata": {},
   "source": [
    "# SBML merge\n",
    "`sbmlutils` provides functionality for merging multiple SBML models. The merging uses the SBML `comp` extension.\n",
    "\n",
    "In the following example we will merge the first biomodels in a single model.\n",
    "Models are provided as dictionary\n",
    "```\n",
    "    {\n",
    "        'model1_id': model1_path,\n",
    "        'model2_id': model2_path,\n",
    "        ...\n",
    "    }\n",
    "```\n",
    "The model_ids are used as ids for the ExternalModelDefinitions and will be the respective prefixes in the flattened model."
   ]
  },
  {
   "cell_type": "code",
   "execution_count": 1,
   "metadata": {},
   "outputs": [
    {
     "name": "stderr",
     "output_type": "stream",
     "text": [
      "'output_dir' should be a Path but: '<class 'str'>'\n"
     ]
    },
    {
     "name": "stdout",
     "output_type": "stream",
     "text": [
      "\u001b[1m\u001b[92m\n",
      "--------------------------------------------------------------------------------\n",
      "/home/mkoenig/git/sbmlutils/src/sbmlutils/test/data/manipulation/merge/BIOMD0000000001.xml\n",
      "valid                    : TRUE\n",
      "check time (s)           : 0.012\n",
      "--------------------------------------------------------------------------------\n",
      "\u001b[0m\u001b[0m\n",
      "\u001b[1m\u001b[92m\n",
      "--------------------------------------------------------------------------------\n",
      "/home/mkoenig/git/sbmlutils/src/sbmlutils/test/data/manipulation/merge/BIOMD0000000002.xml\n",
      "valid                    : TRUE\n",
      "check time (s)           : 0.010\n",
      "--------------------------------------------------------------------------------\n",
      "\u001b[0m\u001b[0m\n",
      "\u001b[1m\u001b[92m\n",
      "--------------------------------------------------------------------------------\n",
      "/home/mkoenig/git/sbmlutils/src/sbmlutils/test/data/manipulation/merge/BIOMD0000000003.xml\n",
      "valid                    : TRUE\n",
      "check time (s)           : 0.004\n",
      "--------------------------------------------------------------------------------\n",
      "\u001b[0m\u001b[0m\n",
      "\u001b[1m\u001b[92m\n",
      "--------------------------------------------------------------------------------\n",
      "/home/mkoenig/git/sbmlutils/src/sbmlutils/test/data/manipulation/merge/BIOMD0000000004.xml\n",
      "valid                    : TRUE\n",
      "check time (s)           : 0.004\n",
      "--------------------------------------------------------------------------------\n",
      "\u001b[0m\u001b[0m\n",
      "\u001b[1m\u001b[92m\n",
      "--------------------------------------------------------------------------------\n",
      "/tmp/tmpy3n193al/merged.xml\n",
      "valid                    : TRUE\n",
      "check time (s)           : 0.057\n",
      "--------------------------------------------------------------------------------\n",
      "\u001b[0m\u001b[0m\n",
      "\u001b[1m\u001b[92m\n",
      "--------------------------------------------------------------------------------\n",
      "/tmp/tmpy3n193al/merged_flat.xml\n",
      "valid                    : TRUE\n",
      "check time (s)           : 0.027\n",
      "--------------------------------------------------------------------------------\n",
      "\u001b[0m\u001b[0m\n"
     ]
    }
   ],
   "source": [
    "from pathlib import Path\n",
    "import tempfile\n",
    "\n",
    "from sbmlutils.manipulation import merge_models\n",
    "from sbmlutils.test import DATA_DIR\n",
    "\n",
    "\n",
    "def merge_models_example() -> None:\n",
    "    \"\"\"Demonstrate merging of models.\"\"\"\n",
    "\n",
    "    input_dir = DATA_DIR / \"manipulation\" / \"merge\"\n",
    "\n",
    "    # dictionary of ids & paths of models which should be combined\n",
    "    # here we just bring together the first Biomodels\n",
    "    model_ids = [f\"BIOMD000000000{k}\" for k in range(1, 5)]\n",
    "    model_paths = dict(zip(model_ids, [input_dir / f\"{mid}.xml\" for mid in model_ids]))\n",
    "\n",
    "    temp_dir = tempfile.TemporaryDirectory()\n",
    "    merge_models(model_paths, output_dir=temp_dir.name)\n",
    "\n",
    "\n",
    "if __name__ == \"__main__\":\n",
    "    merge_models_example()"
   ]
  },
  {
   "cell_type": "markdown",
   "metadata": {},
   "source": [
    "For the additional options see the API documentation"
   ]
  },
  {
   "cell_type": "code",
   "execution_count": 2,
   "metadata": {},
   "outputs": [
    {
     "name": "stdout",
     "output_type": "stream",
     "text": [
      "Help on function merge_models in module sbmlutils.manipulation.merge:\n",
      "\n",
      "merge_models(model_paths: Dict[str, pathlib.Path], output_dir: pathlib.Path, merged_id: str = 'merged', flatten: bool = True, validate: bool = True, validate_input: bool = True, units_consistency: bool = False, modeling_practice: bool = False, sbml_level: int = 3, sbml_version: int = 1) -> libsbml.SBMLDocument\n",
      "    Merge SBML models.\n",
      "    \n",
      "    Merges SBML models given in `model_paths` in the `output_dir`.\n",
      "    Models are provided as dictionary\n",
      "    {\n",
      "        'model1_id': model1_path,\n",
      "        'model2_id': model2_path,\n",
      "        ...\n",
      "    }\n",
      "    The model ids are used as ids for the ExternalModelDefinitions.\n",
      "    Relative paths are set in the merged models.\n",
      "    \n",
      "    The created model is either in SBML L3V1 (default) or SBML L3V2.\n",
      "    \n",
      "    :param model_paths: absolute paths to models\n",
      "    :param output_dir: output directory for merged model\n",
      "    :param merged_id: model id of the merged model\n",
      "    :param flatten: flattens the merged model\n",
      "    :param validate: boolean flag to validate the merged model\n",
      "    :param validate_input: boolean flag to validate the input models\n",
      "    :param units_consistency: boolean flag to check units consistency\n",
      "    :param modeling_practice: boolean flag to check modeling practise\n",
      "    :param sbml_level: SBML Level of the merged model in [3]\n",
      "    :param sbml_version: SBML Version of the merged model in [1, 2]\n",
      "    :return: SBMLDocument of the merged models\n",
      "\n"
     ]
    }
   ],
   "source": [
    "help(merge_models)"
   ]
  }
 ],
 "metadata": {
  "kernelspec": {
   "display_name": "sbmlutils",
   "language": "python",
   "name": "sbmlutils"
  },
  "language_info": {
   "codemirror_mode": {
    "name": "ipython",
    "version": 3
   },
   "file_extension": ".py",
   "mimetype": "text/x-python",
   "name": "python",
   "nbconvert_exporter": "python",
   "pygments_lexer": "ipython3",
   "version": "3.8.5"
  }
 },
 "nbformat": 4,
 "nbformat_minor": 4
}
