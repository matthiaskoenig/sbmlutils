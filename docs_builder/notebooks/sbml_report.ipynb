{
 "cells": [
  {
   "cell_type": "markdown",
   "metadata": {},
   "source": [
    "# SBML report\n",
    "`sbmlutils` can create HTML reports from given SBML files. Such an HTML report provides a \n",
    "simple entry point to get an overview over an existing SBML model or browse content of a model in a more human-readable format.\n",
    "\n",
    "SBML reports are available from \n",
    "\n",
    "**[https://sbml4humans.de](https://sbml4humans.de)**"
   ]
  },
  {
   "cell_type": "code",
   "execution_count": null,
   "metadata": {},
   "outputs": [],
   "source": []
  }
 ],
 "metadata": {
  "kernelspec": {
   "display_name": "sbmlutils",
   "language": "python",
   "name": "sbmlutils"
  },
  "language_info": {
   "codemirror_mode": {
    "name": "ipython",
    "version": 3
   },
   "file_extension": ".py",
   "mimetype": "text/x-python",
   "name": "python",
   "nbconvert_exporter": "python",
   "pygments_lexer": "ipython3",
   "version": "3.9.16"
  }
 },
 "nbformat": 4,
 "nbformat_minor": 4
}
