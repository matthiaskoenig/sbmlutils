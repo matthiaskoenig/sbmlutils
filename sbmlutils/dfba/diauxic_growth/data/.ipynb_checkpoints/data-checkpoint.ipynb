{
 "cells": [
  {
   "cell_type": "markdown",
   "metadata": {},
   "source": [
    "# Diauxic growth data\n",
    "Data for the example model."
   ]
  },
  {
   "cell_type": "code",
   "execution_count": 1,
   "metadata": {
    "collapsed": true
   },
   "outputs": [],
   "source": [
    "%matplotlib inline\n",
    "from __future__ import print_function\n",
    "\n",
    "import os\n",
    "import pandas as pd\n",
    "import numpy as np\n",
    "from matplotlib import pylab as plt\n",
    "# global settings for plots\n",
    "plt.rcParams.update({\n",
    "        'axes.labelsize': 'large', \n",
    "        'axes.labelweight': 'bold',\n",
    "        'axes.titlesize': 'large',\n",
    "        'axes.titleweight': 'bold',\n",
    "        'legend.fontsize': 'small',\n",
    "        'xtick.labelsize': 'large',\n",
    "        'ytick.labelsize': 'large',\n",
    "    })"
   ]
  },
  {
   "cell_type": "markdown",
   "metadata": {},
   "source": [
    "## Varma1994"
   ]
  },
  {
   "cell_type": "code",
   "execution_count": 2,
   "metadata": {
    "collapsed": false
   },
   "outputs": [
    {
     "data": {
      "text/html": [
       "<div>\n",
       "<table border=\"1\" class=\"dataframe\">\n",
       "  <thead>\n",
       "    <tr style=\"text-align: right;\">\n",
       "      <th></th>\n",
       "      <th>study</th>\n",
       "      <th>substance</th>\n",
       "      <th>E</th>\n",
       "      <th>D</th>\n",
       "      <th>v</th>\n",
       "    </tr>\n",
       "  </thead>\n",
       "  <tbody>\n",
       "    <tr>\n",
       "      <th>0</th>\n",
       "      <td>Varma1994</td>\n",
       "      <td>oxygen</td>\n",
       "      <td>1.5</td>\n",
       "      <td>0.19</td>\n",
       "      <td>7.79</td>\n",
       "    </tr>\n",
       "    <tr>\n",
       "      <th>1</th>\n",
       "      <td>Varma1994</td>\n",
       "      <td>oxygen</td>\n",
       "      <td>1.5</td>\n",
       "      <td>0.25</td>\n",
       "      <td>9.39</td>\n",
       "    </tr>\n",
       "    <tr>\n",
       "      <th>2</th>\n",
       "      <td>Varma1994</td>\n",
       "      <td>oxygen</td>\n",
       "      <td>1.5</td>\n",
       "      <td>0.27</td>\n",
       "      <td>10.01</td>\n",
       "    </tr>\n",
       "    <tr>\n",
       "      <th>3</th>\n",
       "      <td>Varma1994</td>\n",
       "      <td>oxygen</td>\n",
       "      <td>1.5</td>\n",
       "      <td>0.35</td>\n",
       "      <td>10.94</td>\n",
       "    </tr>\n",
       "    <tr>\n",
       "      <th>4</th>\n",
       "      <td>Varma1994</td>\n",
       "      <td>oxygen</td>\n",
       "      <td>1.5</td>\n",
       "      <td>0.39</td>\n",
       "      <td>12.36</td>\n",
       "    </tr>\n",
       "  </tbody>\n",
       "</table>\n",
       "</div>"
      ],
      "text/plain": [
       "       study substance    E     D      v\n",
       "0  Varma1994    oxygen  1.5  0.19   7.79\n",
       "1  Varma1994    oxygen  1.5  0.25   9.39\n",
       "2  Varma1994    oxygen  1.5  0.27  10.01\n",
       "3  Varma1994    oxygen  1.5  0.35  10.94\n",
       "4  Varma1994    oxygen  1.5  0.39  12.36"
      ]
     },
     "execution_count": 2,
     "metadata": {},
     "output_type": "execute_result"
    }
   ],
   "source": [
    "Varma1994_Fig6 = pd.read_csv('Varma1994_Fig6.csv', sep='\\t')\n",
    "Varma1994_Fig6.head()"
   ]
  },
  {
   "cell_type": "code",
   "execution_count": 3,
   "metadata": {
    "collapsed": false
   },
   "outputs": [
    {
     "data": {
      "text/html": [
       "<div>\n",
       "<table border=\"1\" class=\"dataframe\">\n",
       "  <thead>\n",
       "    <tr style=\"text-align: right;\">\n",
       "      <th></th>\n",
       "      <th>study</th>\n",
       "      <th>substance</th>\n",
       "      <th>time</th>\n",
       "      <th>value</th>\n",
       "      <th>value_unit</th>\n",
       "    </tr>\n",
       "  </thead>\n",
       "  <tbody>\n",
       "    <tr>\n",
       "      <th>0</th>\n",
       "      <td>Varma1994</td>\n",
       "      <td>cell_density</td>\n",
       "      <td>0.00</td>\n",
       "      <td>0.00</td>\n",
       "      <td>g/l</td>\n",
       "    </tr>\n",
       "    <tr>\n",
       "      <th>1</th>\n",
       "      <td>Varma1994</td>\n",
       "      <td>cell_density</td>\n",
       "      <td>1.73</td>\n",
       "      <td>0.01</td>\n",
       "      <td>g/l</td>\n",
       "    </tr>\n",
       "    <tr>\n",
       "      <th>2</th>\n",
       "      <td>Varma1994</td>\n",
       "      <td>cell_density</td>\n",
       "      <td>2.50</td>\n",
       "      <td>0.02</td>\n",
       "      <td>g/l</td>\n",
       "    </tr>\n",
       "    <tr>\n",
       "      <th>3</th>\n",
       "      <td>Varma1994</td>\n",
       "      <td>cell_density</td>\n",
       "      <td>3.01</td>\n",
       "      <td>0.03</td>\n",
       "      <td>g/l</td>\n",
       "    </tr>\n",
       "    <tr>\n",
       "      <th>4</th>\n",
       "      <td>Varma1994</td>\n",
       "      <td>cell_density</td>\n",
       "      <td>3.50</td>\n",
       "      <td>0.04</td>\n",
       "      <td>g/l</td>\n",
       "    </tr>\n",
       "  </tbody>\n",
       "</table>\n",
       "</div>"
      ],
      "text/plain": [
       "       study     substance  time  value value_unit\n",
       "0  Varma1994  cell_density  0.00   0.00        g/l\n",
       "1  Varma1994  cell_density  1.73   0.01        g/l\n",
       "2  Varma1994  cell_density  2.50   0.02        g/l\n",
       "3  Varma1994  cell_density  3.01   0.03        g/l\n",
       "4  Varma1994  cell_density  3.50   0.04        g/l"
      ]
     },
     "execution_count": 3,
     "metadata": {},
     "output_type": "execute_result"
    }
   ],
   "source": [
    "Varma1994_Fig7 = pd.read_csv('Varma1994_Fig7.csv', sep='\\t')\n",
    "Varma1994_Fig7.head()"
   ]
  },
  {
   "cell_type": "code",
   "execution_count": 4,
   "metadata": {
    "collapsed": false
   },
   "outputs": [
    {
     "data": {
      "image/png": "[encoded data removed]",
      "text/plain": [
       "<matplotlib.figure.Figure at 0x7f89e7ca9550>"
      ]
     },
     "metadata": {},
     "output_type": "display_data"
    }
   ],
   "source": [
    "fig, ((ax1, ax2), (ax3, ax4)) = plt.subplots(nrows=2, ncols=2, figsize=(10,10))\n",
    "fig.subplots_adjust(hspace=0.3, wspace=0.3)\n",
    "\n",
    "substances = ['oxygen', 'glucose', 'acetate']\n",
    "markers = dict(zip(substances, ['o', '^', 's']))\n",
    "\n",
    "for name in ['oxygen', 'glucose', 'acetate']:\n",
    "    inds = Varma1994_Fig6.substance == name\n",
    "    # ax1.scatter(Varma1994_Fig6.D[inds], Varma1994_Fig6.v[inds])\n",
    "    ax4.scatter(Varma1994_Fig6.D[inds], Varma1994_Fig6.v[inds], marker=markers[name], color='black', label=name)\n",
    "\n",
    "ax4.set_title(\"Varma1994 Fig6\")\n",
    "ax4.set_xlabel('D [1/hr]')\n",
    "ax4.set_ylabel('Uptake & Secretion rates [mmole/g DW-hr]')\n",
    "ax4.legend()\n",
    "\n",
    "inds = Varma1994_Fig7.substance == 'cell_density'\n",
    "ax1.set_title(\"Varma1994 Fig7\")\n",
    "ax1.scatter(Varma1994_Fig7.time[inds], Varma1994_Fig7.value[inds], color='black')\n",
    "ax1.set_xlabel('Time [h]')\n",
    "ax1.set_ylabel('X [g/l]')\n",
    "\n",
    "inds = Varma1994_Fig7.substance == 'glucose'\n",
    "ax2.set_title(\"Varma1994 Fig7\")\n",
    "ax2.scatter(Varma1994_Fig7.time[inds], Varma1994_Fig7.value[inds], color='black')\n",
    "ax2.set_xlabel('Time [h]')\n",
    "ax2.set_ylabel('Glucose [mM]')\n",
    "\n",
    "inds = Varma1994_Fig7.substance == 'acetate'\n",
    "ax3.set_title(\"Varma1994 Fig7\")\n",
    "ax3.scatter(Varma1994_Fig7.time[inds], Varma1994_Fig7.value[inds], color='black')\n",
    "ax3.set_xlabel('Time [h]')\n",
    "ax3.set_ylabel('Acetate [mM]')\n",
    "\n",
    "plt.show()"
   ]
  },
  {
   "cell_type": "code",
   "execution_count": null,
   "metadata": {
    "collapsed": true
   },
   "outputs": [],
   "source": []
  }
 ],
 "metadata": {
  "kernelspec": {
   "display_name": "Python 2",
   "language": "python",
   "name": "python2"
  },
  "language_info": {
   "codemirror_mode": {
    "name": "ipython",
    "version": 2
   },
   "file_extension": ".py",
   "mimetype": "text/x-python",
   "name": "python",
   "nbconvert_exporter": "python",
   "pygments_lexer": "ipython2",
   "version": "2.7.12"
  }
 },
 "nbformat": 4,
 "nbformat_minor": 2
}
