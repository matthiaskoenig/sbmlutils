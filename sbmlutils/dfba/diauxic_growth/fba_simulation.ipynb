{
 "cells": [
  {
   "cell_type": "code",
   "execution_count": null,
   "metadata": {
    "collapsed": true
   },
   "outputs": [],
   "source": [
    "## FBA simulation\n",
    "Simulating the FBA part of the model with `cobrapy` to check that the FBA part is working."
   ]
  },
  {
   "cell_type": "code",
   "execution_count": 15,
   "metadata": {
    "collapsed": false
   },
   "outputs": [],
   "source": [
    "from __future__ import print_function, division\n",
    "import pandas as pd\n",
    "import cobra\n",
    "from sbmlutils import fbc\n",
    "from pprint import pprint\n",
    "\n",
    "from matplotlib import pylab as plt\n",
    "\n",
    "plt.rcParams.update({\n",
    "    'axes.labelsize': 'large',\n",
    "    'axes.labelweight': 'bold',\n",
    "    'axes.titlesize': 'large',\n",
    "    'axes.titleweight': 'bold',\n",
    "    'legend.fontsize': 'small',\n",
    "    'xtick.labelsize': 'large',\n",
    "    'ytick.labelsize': 'large',\n",
    "})"
   ]
  },
  {
   "cell_type": "code",
   "execution_count": 2,
   "metadata": {
    "collapsed": false
   },
   "outputs": [
    {
     "name": "stderr",
     "output_type": "stream",
     "text": [
      "cobra/io/sbml3.py:249 \u001b[1;31mUserWarning\u001b[0m: loading SBML model without fbc:strict=\"true\"\n"
     ]
    },
    {
     "data": {
      "text/plain": [
       "(<Model diauxic_fba at 0x7fe6ab7e9610>,\n",
       " {'SBML errors': [], 'other': [], 'validator': [], 'warnings': []})"
      ]
     },
     "execution_count": 2,
     "metadata": {},
     "output_type": "execute_result"
    }
   ],
   "source": [
    "# load model\n",
    "from sbmlutils.dfba.diauxic_growth.model_factory import version\n",
    "source = './results/v{}/diauxic_fba.xml'.format(version)\n",
    "mfba = cobra.io.read_sbml_model(source)\n",
    "cobra.io.sbml3.validate_sbml_model(source)"
   ]
  },
  {
   "cell_type": "code",
   "execution_count": 3,
   "metadata": {
    "collapsed": false
   },
   "outputs": [
    {
     "data": {
      "text/html": [
       "<div>\n",
       "<table border=\"1\" class=\"dataframe\">\n",
       "  <thead>\n",
       "    <tr style=\"text-align: right;\">\n",
       "      <th></th>\n",
       "      <th>lb</th>\n",
       "      <th>ub</th>\n",
       "      <th>reversibility</th>\n",
       "      <th>objective</th>\n",
       "      <th>boundary</th>\n",
       "    </tr>\n",
       "  </thead>\n",
       "  <tbody>\n",
       "    <tr>\n",
       "      <th>EX_O2</th>\n",
       "      <td>-1000</td>\n",
       "      <td>1000</td>\n",
       "      <td>True</td>\n",
       "      <td>NaN</td>\n",
       "      <td>system_boundary</td>\n",
       "    </tr>\n",
       "    <tr>\n",
       "      <th>EX_Glcxt</th>\n",
       "      <td>-1000</td>\n",
       "      <td>1000</td>\n",
       "      <td>True</td>\n",
       "      <td>NaN</td>\n",
       "      <td>system_boundary</td>\n",
       "    </tr>\n",
       "    <tr>\n",
       "      <th>EX_Ac</th>\n",
       "      <td>-1000</td>\n",
       "      <td>1000</td>\n",
       "      <td>True</td>\n",
       "      <td>NaN</td>\n",
       "      <td>system_boundary</td>\n",
       "    </tr>\n",
       "    <tr>\n",
       "      <th>EX_X</th>\n",
       "      <td>-1000</td>\n",
       "      <td>1000</td>\n",
       "      <td>True</td>\n",
       "      <td>NaN</td>\n",
       "      <td>system_boundary</td>\n",
       "    </tr>\n",
       "    <tr>\n",
       "      <th>vO2</th>\n",
       "      <td>0</td>\n",
       "      <td>15</td>\n",
       "      <td>False</td>\n",
       "      <td>NaN</td>\n",
       "      <td>system_boundary</td>\n",
       "    </tr>\n",
       "    <tr>\n",
       "      <th>vGlcxt</th>\n",
       "      <td>0</td>\n",
       "      <td>10</td>\n",
       "      <td>False</td>\n",
       "      <td>NaN</td>\n",
       "      <td>system_boundary</td>\n",
       "    </tr>\n",
       "    <tr>\n",
       "      <th>v1</th>\n",
       "      <td>0</td>\n",
       "      <td>1000</td>\n",
       "      <td>False</td>\n",
       "      <td>1</td>\n",
       "      <td>None</td>\n",
       "    </tr>\n",
       "    <tr>\n",
       "      <th>v2</th>\n",
       "      <td>0</td>\n",
       "      <td>1000</td>\n",
       "      <td>False</td>\n",
       "      <td>1</td>\n",
       "      <td>None</td>\n",
       "    </tr>\n",
       "    <tr>\n",
       "      <th>v3</th>\n",
       "      <td>0</td>\n",
       "      <td>1000</td>\n",
       "      <td>False</td>\n",
       "      <td>1</td>\n",
       "      <td>None</td>\n",
       "    </tr>\n",
       "    <tr>\n",
       "      <th>v4</th>\n",
       "      <td>0</td>\n",
       "      <td>1000</td>\n",
       "      <td>False</td>\n",
       "      <td>1</td>\n",
       "      <td>None</td>\n",
       "    </tr>\n",
       "  </tbody>\n",
       "</table>\n",
       "</div>"
      ],
      "text/plain": [
       "            lb    ub reversibility objective         boundary\n",
       "EX_O2    -1000  1000          True       NaN  system_boundary\n",
       "EX_Glcxt -1000  1000          True       NaN  system_boundary\n",
       "EX_Ac    -1000  1000          True       NaN  system_boundary\n",
       "EX_X     -1000  1000          True       NaN  system_boundary\n",
       "vO2          0    15         False       NaN  system_boundary\n",
       "vGlcxt       0    10         False       NaN  system_boundary\n",
       "v1           0  1000         False         1             None\n",
       "v2           0  1000         False         1             None\n",
       "v3           0  1000         False         1             None\n",
       "v4           0  1000         False         1             None"
      ]
     },
     "execution_count": 3,
     "metadata": {},
     "output_type": "execute_result"
    }
   ],
   "source": [
    "# objective function & boundaries\n",
    "# pprint(mfba.objective)\n",
    "fbc.cobra_reaction_info(mfba)"
   ]
  },
  {
   "cell_type": "code",
   "execution_count": 4,
   "metadata": {
    "collapsed": false
   },
   "outputs": [
    {
     "name": "stdout",
     "output_type": "stream",
     "text": [
      "<Solution 92.44 at 0x7fe6ab671990>\n",
      "optimal\n"
     ]
    },
    {
     "data": {
      "text/plain": [
       "{'EX_Ac': 168.16666103176635,\n",
       " 'EX_Glcxt': -1000.0,\n",
       " 'EX_O2': -1000.0,\n",
       " 'EX_X': 92.4355085658533,\n",
       " 'v1': 0.0,\n",
       " 'v2': 78.56037151702786,\n",
       " 'v3': 0.0,\n",
       " 'v4': 13.875137048825598,\n",
       " 'vGlcxt': 10.0,\n",
       " 'vO2': 15.0}"
      ]
     },
     "execution_count": 4,
     "metadata": {},
     "output_type": "execute_result"
    }
   ],
   "source": [
    "# simulate\n",
    "# s = mfba.optimize()\n",
    "s = mfba.optimize(objective_sense=\"maximize\")\n",
    "\n",
    "print(s)\n",
    "print(mfba.solution.status)\n",
    "mfba.solution.x_dict"
   ]
  },
  {
   "cell_type": "code",
   "execution_count": 5,
   "metadata": {
    "collapsed": false
   },
   "outputs": [
    {
     "name": "stdout",
     "output_type": "stream",
     "text": [
      "IN FLUXES                OUT FLUXES                  OBJECTIVES\n",
      "-----------------------  --------------------------  ------------\n",
      "id       Flux  Range     id      Flux  Range         v1   0\n",
      "-----  ------  --------  ----  ------  ------------  v2  78.6\n",
      "O2         15  [15, 15]  Ac     168    [168, 168]    v3   0\n",
      "Glcxt      10  [10, 10]  X       92.4  [92.4, 92.4]  v4  13.9\n"
     ]
    },
    {
     "data": {
      "text/plain": [
       "<function print>"
      ]
     },
     "execution_count": 5,
     "metadata": {},
     "output_type": "execute_result"
    }
   ],
   "source": [
    "# summary of solution\n",
    "mfba.summary(fva=True)\n",
    "print"
   ]
  },
  {
   "cell_type": "code",
   "execution_count": 6,
   "metadata": {
    "collapsed": false
   },
   "outputs": [
    {
     "data": {
      "text/html": [
       "<div>\n",
       "<table border=\"1\" class=\"dataframe\">\n",
       "  <thead>\n",
       "    <tr style=\"text-align: right;\">\n",
       "      <th></th>\n",
       "      <th>maximum</th>\n",
       "      <th>minimum</th>\n",
       "    </tr>\n",
       "  </thead>\n",
       "  <tbody>\n",
       "    <tr>\n",
       "      <th>EX_Ac</th>\n",
       "      <td>168.16666</td>\n",
       "      <td>168.16666</td>\n",
       "    </tr>\n",
       "    <tr>\n",
       "      <th>EX_Glcxt</th>\n",
       "      <td>-1000.00000</td>\n",
       "      <td>-1000.00000</td>\n",
       "    </tr>\n",
       "    <tr>\n",
       "      <th>EX_O2</th>\n",
       "      <td>-1000.00000</td>\n",
       "      <td>-1000.00000</td>\n",
       "    </tr>\n",
       "    <tr>\n",
       "      <th>EX_X</th>\n",
       "      <td>92.43551</td>\n",
       "      <td>92.43551</td>\n",
       "    </tr>\n",
       "    <tr>\n",
       "      <th>v1</th>\n",
       "      <td>0.00000</td>\n",
       "      <td>0.00000</td>\n",
       "    </tr>\n",
       "    <tr>\n",
       "      <th>v2</th>\n",
       "      <td>78.56037</td>\n",
       "      <td>78.56037</td>\n",
       "    </tr>\n",
       "    <tr>\n",
       "      <th>v3</th>\n",
       "      <td>0.00000</td>\n",
       "      <td>0.00000</td>\n",
       "    </tr>\n",
       "    <tr>\n",
       "      <th>v4</th>\n",
       "      <td>13.87514</td>\n",
       "      <td>13.87514</td>\n",
       "    </tr>\n",
       "    <tr>\n",
       "      <th>vGlcxt</th>\n",
       "      <td>10.00000</td>\n",
       "      <td>10.00000</td>\n",
       "    </tr>\n",
       "    <tr>\n",
       "      <th>vO2</th>\n",
       "      <td>15.00000</td>\n",
       "      <td>15.00000</td>\n",
       "    </tr>\n",
       "  </tbody>\n",
       "</table>\n",
       "</div>"
      ],
      "text/plain": [
       "             maximum     minimum\n",
       "EX_Ac      168.16666   168.16666\n",
       "EX_Glcxt -1000.00000 -1000.00000\n",
       "EX_O2    -1000.00000 -1000.00000\n",
       "EX_X        92.43551    92.43551\n",
       "v1           0.00000     0.00000\n",
       "v2          78.56037    78.56037\n",
       "v3           0.00000     0.00000\n",
       "v4          13.87514    13.87514\n",
       "vGlcxt      10.00000    10.00000\n",
       "vO2         15.00000    15.00000"
      ]
     },
     "execution_count": 6,
     "metadata": {},
     "output_type": "execute_result"
    }
   ],
   "source": [
    "# FVA\n",
    "# running flux variability analysis with the model\n",
    "fva_result = cobra.flux_analysis.flux_variability_analysis(mfba, mfba.reactions)\n",
    "pd.DataFrame.from_dict(fva_result).T.round(5)"
   ]
  },
  {
   "cell_type": "markdown",
   "metadata": {
    "collapsed": true
   },
   "source": [
    "## Change the bounds"
   ]
  },
  {
   "cell_type": "code",
   "execution_count": 14,
   "metadata": {
    "collapsed": false
   },
   "outputs": [
    {
     "name": "stdout",
     "output_type": "stream",
     "text": [
      "          EX_Ac     EX_Glcxt        EX_O2       EX_X         v1         v2  \\\n",
      "0    168.166661 -1000.000000 -1000.000000  92.435509   0.000000  78.560372   \n",
      "1    134.994808  -947.368421 -1000.000000  89.698557   0.000000  78.560372   \n",
      "2    101.822955  -894.736842 -1000.000000  86.961605   0.000000  78.560372   \n",
      "3     68.651101  -842.105263 -1000.000000  84.224654   0.000000  78.560372   \n",
      "4     35.479248  -789.473684 -1000.000000  81.487702   0.000000  78.560372   \n",
      "5      2.307395  -736.842105 -1000.000000  78.750751   0.000000  78.560372   \n",
      "6    -75.346907  -684.210526 -1000.000000  75.294680   1.910903  73.383777   \n",
      "7   -156.326672  -631.578947 -1000.000000  71.784848   3.964663  67.820185   \n",
      "8   -237.306436  -578.947368 -1000.000000  68.275016   6.018423  62.256593   \n",
      "9   -318.286201  -526.315789 -1000.000000  64.765185   8.072184  56.693001   \n",
      "10  -399.265965  -473.684211 -1000.000000  61.255353  10.125944  51.129409   \n",
      "11  -480.245729  -421.052632 -1000.000000  57.745521  12.179704  45.565817   \n",
      "12  -561.225494  -368.421053 -1000.000000  54.235690  14.233464  40.002225   \n",
      "13  -642.205258  -315.789474 -1000.000000  50.725858  16.287224  34.438634   \n",
      "14  -723.185023  -263.157895 -1000.000000  47.216026  18.340985  28.875042   \n",
      "15  -804.164787  -210.526316 -1000.000000  43.706195  20.394745  23.311450   \n",
      "16  -885.144551  -157.894737 -1000.000000  40.196363  22.448505  17.747858   \n",
      "17  -966.124316  -105.263158 -1000.000000  36.686531  24.502265  12.184266   \n",
      "18 -1000.000000   -52.631579  -973.188110  31.982074  25.361400   6.620674   \n",
      "19 -1000.000000     0.000000  -901.306504  26.418482  25.361400   1.057082   \n",
      "\n",
      "     v3         v4  vGlcxt   vO2  \n",
      "0   0.0  13.875137    10.0  15.0  \n",
      "1   0.0  11.138185    10.0  15.0  \n",
      "2   0.0   8.401234    10.0  15.0  \n",
      "3   0.0   5.664282    10.0  15.0  \n",
      "4   0.0   2.927331    10.0  15.0  \n",
      "5   0.0   0.190379    10.0  15.0  \n",
      "6   0.0   0.000000    10.0  15.0  \n",
      "7   0.0   0.000000    10.0  15.0  \n",
      "8   0.0   0.000000    10.0  15.0  \n",
      "9   0.0   0.000000    10.0  15.0  \n",
      "10  0.0   0.000000    10.0  15.0  \n",
      "11  0.0   0.000000    10.0  15.0  \n",
      "12  0.0   0.000000    10.0  15.0  \n",
      "13  0.0   0.000000    10.0  15.0  \n",
      "14  0.0   0.000000    10.0  15.0  \n",
      "15  0.0   0.000000    10.0  15.0  \n",
      "16  0.0   0.000000    10.0  15.0  \n",
      "17  0.0   0.000000    10.0  15.0  \n",
      "18  0.0   0.000000    10.0   0.0  \n",
      "19  0.0   0.000000    10.0   0.0  \n"
     ]
    }
   ],
   "source": [
    "import numpy as np\n",
    "import pandas as pd\n",
    "glc_bounds = np.linspace(-1000, 0, 20)\n",
    "results = []\n",
    "for lb_glc in glc_bounds:\n",
    "    mfba.reactions.EX_Glcxt.lower_bound = lb_glc\n",
    "    mfba.optimize(objective_sense=\"maximize\")\n",
    "    flux_dict = mfba.solution.x_dict\n",
    "    results.append(flux_dict)\n",
    "df = pd.DataFrame(results)\n",
    "print(df)"
   ]
  },
  {
   "cell_type": "code",
   "execution_count": 26,
   "metadata": {
    "collapsed": false
   },
   "outputs": [
    {
     "data": {
      "image/png": "[encoded data removed]",
      "text/plain": [
       "<matplotlib.figure.Figure at 0x7fe69c1cfe10>"
      ]
     },
     "metadata": {},
     "output_type": "display_data"
    }
   ],
   "source": [
    "fig, (ax1, ax2) = plt.subplots(nrows=1, ncols=2, figsize=(14, 7))\n",
    "\n",
    "for vid in ['v1', 'v2', 'v3', 'v4']:\n",
    "    ax1.plot(df.EX_Glcxt, df[vid], marker='s', alpha=0.8, label=vid)\n",
    "\n",
    "ax2.plot([np.min(glc_bounds), np.max(glc_bounds)], [0, 0], color='k', linestyle='-', linewidth=1)\n",
    "for vid in ['EX_Ac', 'EX_O2', 'EX_Glcxt', 'EX_X']:\n",
    "    ax2.plot(df.EX_Glcxt, df[vid], marker='s', alpha=0.8, label=vid)\n",
    "ax2.set_ylim(-1000, 1000)\n",
    "    \n",
    "for ax in [ax1, ax2]:\n",
    "    ax.set_xlabel('Glc species bound')\n",
    "    ax.legend()\n",
    "\n",
    "plt.show()"
   ]
  },
  {
   "cell_type": "code",
   "execution_count": null,
   "metadata": {
    "collapsed": true
   },
   "outputs": [],
   "source": []
  }
 ],
 "metadata": {
  "kernelspec": {
   "display_name": "Python 2",
   "language": "python",
   "name": "python2"
  },
  "language_info": {
   "codemirror_mode": {
    "name": "ipython",
    "version": 2
   },
   "file_extension": ".py",
   "mimetype": "text/x-python",
   "name": "python",
   "nbconvert_exporter": "python",
   "pygments_lexer": "ipython2",
   "version": "2.7.12"
  }
 },
 "nbformat": 4,
 "nbformat_minor": 0
}
