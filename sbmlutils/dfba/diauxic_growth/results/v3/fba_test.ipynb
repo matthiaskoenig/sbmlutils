{
 "cells": [
  {
   "cell_type": "code",
   "execution_count": 8,
   "metadata": {
    "collapsed": false
   },
   "outputs": [
    {
     "name": "stdout",
     "output_type": "stream",
     "text": [
      "<Solution 92.44 at 0x7f271ffa5190>\n",
      "optimal\n",
      "\n",
      "{'EX_Ac': 168.1666610317663,\n",
      " 'EX_Glcxt': -1000.0,\n",
      " 'EX_O2': -1000.0,\n",
      " 'EX_X': 92.43550856585347,\n",
      " 'v1': 0.0,\n",
      " 'v2': 78.56037151702786,\n",
      " 'v3': 0.0,\n",
      " 'v4': 13.875137048825605,\n",
      " 'vGlcxt': 10.0,\n",
      " 'vO2': 15.0}\n",
      "\n",
      "IN FLUXES                OUT FLUXES                  OBJECTIVES\n",
      "-----------------------  --------------------------  ------------\n",
      "id       Flux  Range     id      Flux  Range         v1   0\n",
      "-----  ------  --------  ----  ------  ------------  v2  78.6\n",
      "O2         15  [15, 15]  Ac     168    [168, 168]    v3   0\n",
      "Glcxt      10  [10, 10]  X       92.4  [92.4, 92.4]  v4  13.9\n"
     ]
    }
   ],
   "source": [
    "import cobra\n",
    "from pprint import pprint\n",
    "\n",
    "source = 'diauxic_fba.xml'\n",
    "mfba = cobra.io.read_sbml_model(source)\n",
    "s = mfba.optimize(objective_sense=\"maximize\")\n",
    "\n",
    "print(s)\n",
    "print(mfba.solution.status)\n",
    "\n",
    "print\n",
    "pprint(mfba.solution.x_dict)\n",
    "\n",
    "# summary of solution\n",
    "print\n",
    "mfba.summary(fva=True)"
   ]
  },
  {
   "cell_type": "code",
   "execution_count": null,
   "metadata": {
    "collapsed": true
   },
   "outputs": [],
   "source": []
  }
 ],
 "metadata": {
  "kernelspec": {
   "display_name": "Python 2",
   "language": "python",
   "name": "python2"
  },
  "language_info": {
   "codemirror_mode": {
    "name": "ipython",
    "version": 2
   },
   "file_extension": ".py",
   "mimetype": "text/x-python",
   "name": "python",
   "nbconvert_exporter": "python",
   "pygments_lexer": "ipython2",
   "version": "2.7.6"
  }
 },
 "nbformat": 4,
 "nbformat_minor": 1
}
