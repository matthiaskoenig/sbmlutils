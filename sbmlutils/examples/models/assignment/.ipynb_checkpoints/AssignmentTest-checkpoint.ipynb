{
 "cells": [
  {
   "cell_type": "markdown",
   "metadata": {},
   "source": [
    "# InitialAssignments\n",
    "Testing initial assignments"
   ]
  },
  {
   "cell_type": "code",
   "execution_count": 1,
   "metadata": {
    "collapsed": true
   },
   "outputs": [],
   "source": [
    "%matplotlib inline\n",
    "from __future__ import print_function, division\n",
    "import tellurium as te\n",
    "import roadrunner\n",
    "from roadrunner import SelectionRecord\n",
    "from matplotlib import pyplot as plt"
   ]
  },
  {
   "cell_type": "code",
   "execution_count": 2,
   "metadata": {
    "collapsed": false
   },
   "outputs": [
    {
     "name": "stdout",
     "output_type": "stream",
     "text": [
      "// Created by libAntimony v2.9.0\n",
      "model *AssignmentTest_1()\n",
      "\n",
      "  // Assignment Rules:\n",
      "  Cve := Ave/Vve;\n",
      "  Vve := BW*FVve;\n",
      "\n",
      "  // Rate Rules:\n",
      "  Ave' = -k1*Cve;\n",
      "\n",
      "  // Variable initializations:\n",
      "  IVDOSE = 0;\n",
      "  IVDOSE has mg;\n",
      "  D = PODOSE;\n",
      "  D has mg;\n",
      "  PODOSE = 100;\n",
      "  PODOSE has mg;\n",
      "  FVve = 0.0514;\n",
      "  FVve has litre_per_kg;\n",
      "  k1 = 0.1;\n",
      "  k1 has litre_per_h;\n",
      "  BW = 70;\n",
      "  BW has kg;\n",
      "  Ave = IVDOSE;\n",
      "  Ave has mg;\n",
      "  Cve has mg_per_litre;\n",
      "  Vve has litre;\n",
      "\n",
      "  // Other declarations:\n",
      "  var D, Ave, Cve, Vve;\n",
      "  const IVDOSE, PODOSE, FVve, k1, BW;\n",
      "\n",
      "  // Unit definitions:\n",
      "  unit mulitre_per_g = 1e-6 litre / gram;\n",
      "  unit mg = 1e-3 gram;\n",
      "  unit kg = 1e3 gram;\n",
      "  unit s_per_h = second / 3600 second;\n",
      "  unit mg_per_g = 1e-3 gram / gram;\n",
      "  unit mg_per_h = 1e-3 gram / 3600 second;\n",
      "  unit ml_per_litre = 1e-3 litre / litre;\n",
      "  unit m = metre;\n",
      "  unit litre_per_kg = litre / 1e3 gram;\n",
      "  unit h = 3600 second;\n",
      "  unit mulitre_per_min_mg = 1e-6 litre / (60 second * 1e-3 gram);\n",
      "  unit min_per_h = 60 second / 3600 second;\n",
      "  unit litre_per_h = litre / 3600 second;\n",
      "  unit m2 = metre^2;\n",
      "  unit ml_per_s = 1e-3 litre / second;\n",
      "  unit mg_per_litre = 1e-3 gram / litre;\n",
      "  unit per_h = 1 / 3600 second;\n",
      "  unit length = m;\n",
      "  unit area = m2;\n",
      "  unit volume = litre;\n",
      "  unit substance = mg;\n",
      "  unit extent = mg;\n",
      "  unit time_unit = h;\n",
      "end\n",
      "\n"
     ]
    }
   ],
   "source": [
    "# load model\n",
    "import Cell\n",
    "r = te.loads('results/{}_{}.xml'.format(Cell.mid, Cell.version))\n",
    "print(r.getCurrentAntimony())"
   ]
  },
  {
   "cell_type": "markdown",
   "metadata": {},
   "source": [
    "## Changing the dose\n",
    "Running simulations with changing dose"
   ]
  },
  {
   "cell_type": "code",
   "execution_count": 3,
   "metadata": {
    "collapsed": false
   },
   "outputs": [
    {
     "name": "stdout",
     "output_type": "stream",
     "text": [
      "0.0\n",
      "10.0\n",
      "20.0\n",
      "30.0\n"
     ]
    },
    {
     "data": {
      "image/png": "[encoded data removed]",
      "text/plain": [
       "<matplotlib.figure.Figure at 0x7f9f3daa0250>"
      ]
     },
     "metadata": {},
     "output_type": "display_data"
    }
   ],
   "source": [
    "for dose in [0, 10, 20, 30]:\n",
    "    r.setValue('init(IVDOSE)', dose)  # oral dose in [mg]\n",
    "    r.resetAll()\n",
    "    print(r.Ave)\n",
    "\n",
    "    s = r.simulate(0,24,1001)\n",
    "    plt.plot(s['time'], s['Ave'], color='black')\n",
    "plt.xlabel('time')\n",
    "plt.ylabel('amount [mg]')\n",
    "plt.show()"
   ]
  },
  {
   "cell_type": "markdown",
   "metadata": {
    "collapsed": true
   },
   "source": [
    "# Testing the reset stack\n",
    "\n",
    "\n",
    "## r.resetToOrigin()\n",
    "* full reset of model to original state\n",
    "* `resetToOrigin` resets initial values (and everything else) from the originally loaded model.\n",
    "\n",
    "## r.reset()\n",
    "* reset just loads the initial values\n",
    "* values of species are now initial values\n",
    "\n",
    "\n",
    "## r.resetAll()\n",
    "* resetAll() loads the species with the *current set* of initial values (and resets parameters to their original loaded values\n",
    "\n"
   ]
  },
  {
   "cell_type": "code",
   "execution_count": 23,
   "metadata": {
    "collapsed": false
   },
   "outputs": [
    {
     "name": "stdout",
     "output_type": "stream",
     "text": [
      "*** Initial values ***\n",
      "<initial values>\n",
      "\tS1 = 1.0\n",
      "\tS2 = 11.0\n",
      "\tS3 = 0.5\n",
      "<values>\n",
      "\tS1 = 1.0\n",
      "\tS2 = 11.0\n",
      "\tS3 = 0.5\n",
      "\tk1 = 0.1\n",
      "\tp1 = 10.0\n",
      "\tp2 = 5.0\n",
      "\n",
      "\n",
      "*** Change S1 and p1 ***\n",
      "<initial values>\n",
      "\tS1 = 1.0\n",
      "\tS2 = 11.0\n",
      "\tS3 = 0.5\n",
      "<values>\n",
      "\tS1 = 99.0\n",
      "\tS2 = 11.0\n",
      "\tS3 = 49.5\n",
      "\tk1 = 0.1\n",
      "\tp1 = 99.0\n",
      "\tp2 = 49.5\n",
      "\n",
      "\n",
      "*** reset() after changes ***\n",
      "<initial values>\n",
      "\tS1 = 1.0\n",
      "\tS2 = 11.0\n",
      "\tS3 = 0.5\n",
      "<values>\n",
      "\tS1 = 1.0\n",
      "\tS2 = 11.0\n",
      "\tS3 = 0.5\n",
      "\tk1 = 0.1\n",
      "\tp1 = 99.0\n",
      "\tp2 = 49.5\n",
      "\n",
      "\n",
      "*** resetToOrigin() ***\n",
      "<initial values>\n",
      "\tS1 = 1.0\n",
      "\tS2 = 11.0\n",
      "\tS3 = 0.5\n",
      "<values>\n",
      "\tS1 = 1.0\n",
      "\tS2 = 11.0\n",
      "\tS3 = 0.5\n",
      "\tk1 = 0.1\n",
      "\tp1 = 10.0\n",
      "\tp2 = 5.0\n",
      "\n",
      "\n",
      "*** Change init(S1) and init(p1) ***\n",
      "<initial values>\n",
      "\tS1 = 99.0\n",
      "\tS2 = 109.0\n",
      "\tS3 = 49.5\n",
      "<values>\n",
      "\tS1 = 99.0\n",
      "\tS2 = 109.0\n",
      "\tS3 = 49.5\n",
      "\tk1 = 0.1\n",
      "\tp1 = 10.0\n",
      "\tp2 = 5.0\n",
      "\n",
      "\n",
      "*** resetAll() to apply changes from changed initial conditions ***\n",
      "<initial values>\n",
      "\tS1 = 99.0\n",
      "\tS2 = 109.0\n",
      "\tS3 = 49.5\n",
      "<values>\n",
      "\tS1 = 99.0\n",
      "\tS2 = 109.0\n",
      "\tS3 = 49.5\n",
      "\tk1 = 0.1\n",
      "\tp1 = 99.0\n",
      "\tp2 = 49.5\n",
      "\n",
      "\n",
      "*** resetToOrigin() ***\n",
      "<initial values>\n",
      "\tS1 = 1.0\n",
      "\tS2 = 11.0\n",
      "\tS3 = 0.5\n",
      "<values>\n",
      "\tS1 = 1.0\n",
      "\tS2 = 11.0\n",
      "\tS3 = 0.5\n",
      "\tk1 = 0.1\n",
      "\tp1 = 10.0\n",
      "\tp2 = 5.0\n",
      "\n",
      "\n"
     ]
    },
    {
     "ename": "RuntimeError",
     "evalue": "Invalid id 'p1' for floating initial amount",
     "output_type": "error",
     "traceback": [
      "\u001b[1;31m---------------------------------------------------------------------------\u001b[0m",
      "\u001b[1;31mRuntimeError\u001b[0m                              Traceback (most recent call last)",
      "\u001b[1;32m<ipython-input-23-1b98bcf7f418>\u001b[0m in \u001b[0;36m<module>\u001b[1;34m()\u001b[0m\n\u001b[0;32m     68\u001b[0m \u001b[1;33m\u001b[0m\u001b[0m\n\u001b[0;32m     69\u001b[0m \u001b[1;31m# This is not possible (the init(p1) is set, but cannot be plotted)\u001b[0m\u001b[1;33m\u001b[0m\u001b[1;33m\u001b[0m\u001b[0m\n\u001b[1;32m---> 70\u001b[1;33m \u001b[1;32mprint\u001b[0m\u001b[1;33m(\u001b[0m\u001b[1;34m'init(p1) = '\u001b[0m\u001b[1;33m,\u001b[0m \u001b[0mr\u001b[0m\u001b[1;33m[\u001b[0m\u001b[1;34m'init(p1)'\u001b[0m\u001b[1;33m]\u001b[0m\u001b[1;33m)\u001b[0m\u001b[1;33m\u001b[0m\u001b[0m\n\u001b[0m",
      "\u001b[1;32m/usr/local/lib/python2.7/dist-packages/roadrunner/roadrunner.pyc\u001b[0m in \u001b[0;36m__getitem__\u001b[1;34m(self, *args)\u001b[0m\n\u001b[0;32m   2546\u001b[0m         \u001b[1;32mreturn\u001b[0m \u001b[0m_roadrunner\u001b[0m\u001b[1;33m.\u001b[0m\u001b[0mRoadRunner_getValue\u001b[0m\u001b[1;33m(\u001b[0m\u001b[0mself\u001b[0m\u001b[1;33m,\u001b[0m \u001b[1;33m*\u001b[0m\u001b[0margs\u001b[0m\u001b[1;33m)\u001b[0m\u001b[1;33m\u001b[0m\u001b[0m\n\u001b[0;32m   2547\u001b[0m \u001b[1;33m\u001b[0m\u001b[0m\n\u001b[1;32m-> 2548\u001b[1;33m     \u001b[1;32mdef\u001b[0m \u001b[0m__getitem__\u001b[0m\u001b[1;33m(\u001b[0m\u001b[0mself\u001b[0m\u001b[1;33m,\u001b[0m \u001b[1;33m*\u001b[0m\u001b[0margs\u001b[0m\u001b[1;33m)\u001b[0m\u001b[1;33m:\u001b[0m \u001b[1;32mreturn\u001b[0m \u001b[0m_roadrunner\u001b[0m\u001b[1;33m.\u001b[0m\u001b[0mRoadRunner___getitem__\u001b[0m\u001b[1;33m(\u001b[0m\u001b[0mself\u001b[0m\u001b[1;33m,\u001b[0m \u001b[1;33m*\u001b[0m\u001b[0margs\u001b[0m\u001b[1;33m)\u001b[0m\u001b[1;33m\u001b[0m\u001b[0m\n\u001b[0m\u001b[0;32m   2549\u001b[0m     \u001b[1;32mdef\u001b[0m \u001b[0m__setitem__\u001b[0m\u001b[1;33m(\u001b[0m\u001b[0mself\u001b[0m\u001b[1;33m,\u001b[0m \u001b[1;33m*\u001b[0m\u001b[0margs\u001b[0m\u001b[1;33m)\u001b[0m\u001b[1;33m:\u001b[0m \u001b[1;32mreturn\u001b[0m \u001b[0m_roadrunner\u001b[0m\u001b[1;33m.\u001b[0m\u001b[0mRoadRunner___setitem__\u001b[0m\u001b[1;33m(\u001b[0m\u001b[0mself\u001b[0m\u001b[1;33m,\u001b[0m \u001b[1;33m*\u001b[0m\u001b[0margs\u001b[0m\u001b[1;33m)\u001b[0m\u001b[1;33m\u001b[0m\u001b[0m\n\u001b[0;32m   2550\u001b[0m     \u001b[1;32mdef\u001b[0m \u001b[0mgetIds\u001b[0m\u001b[1;33m(\u001b[0m\u001b[0mself\u001b[0m\u001b[1;33m,\u001b[0m \u001b[1;33m*\u001b[0m\u001b[0margs\u001b[0m\u001b[1;33m)\u001b[0m\u001b[1;33m:\u001b[0m\u001b[1;33m\u001b[0m\u001b[0m\n",
      "\u001b[1;31mRuntimeError\u001b[0m: Invalid id 'p1' for floating initial amount"
     ]
    }
   ],
   "source": [
    "from __future__ import print_function, division\n",
    "\n",
    "import tellurium as te \n",
    "import roadrunner \n",
    "\n",
    "r = te.loada(\"\"\" \n",
    "    species S1, S2, S3\n",
    "    \n",
    "    J1:S1 -> S2; k1*S1; \n",
    "    S1 = 1; k1 = 0.1; \n",
    "    \n",
    "    // S2 via initial assignment\n",
    "    S2 = S1 + 10\n",
    "    \n",
    "    // S3 via rule\n",
    "    S3 := S1/2\n",
    "    \n",
    "    // p1 via initial assignment\n",
    "    p1 = 10\n",
    "    // p2 via rule\n",
    "    p2 := p1/2\n",
    "\"\"\") \n",
    "r.timeCourseSelections = r.getFloatingSpeciesIds() + r.getGlobalParameterIds()\n",
    "\n",
    "def print_values(r, msg):\n",
    "    print('***', msg, '***')\n",
    "    print('<initial values>')\n",
    "    for sid in r.getFloatingSpeciesIds():\n",
    "        print(\"\\t{sid} = {value}\".format(sid=sid, value=r['init({})'.format(sid)]))\n",
    "    print('<values>')\n",
    "    for sid in r.getFloatingSpeciesIds() + r.getGlobalParameterIds():\n",
    "        print(\"\\t{sid} = {value}\".format(sid=sid, value=r['{}'.format(sid)]))\n",
    "    print('\\n')\n",
    "\n",
    "# plot the initial values of models\n",
    "print_values(r, \"Initial values\")\n",
    "\n",
    "# make a change to S1 and p1\n",
    "r.S1 = 99 \n",
    "r.p1 = 99\n",
    "print_values(r, \"Change S1 and p1\")\n",
    "# -> S3 and p2 are  updated also via rule\n",
    "\n",
    "# reset() after change\n",
    "r.reset()\n",
    "print_values(r, \"reset() after changes\")\n",
    "# -> S1 is reset to intial value (S3 via rule)\n",
    "# -> parameters are not effected\n",
    "\n",
    "r.resetToOrigin()\n",
    "print_values(r, \"resetToOrigin()\")\n",
    "\n",
    "\n",
    "# make a change to init(S1) and init(p1)\n",
    "r['init(S1)'] = 99 \n",
    "r['init(p1)'] = 99\n",
    "print_values(r, \"Change init(S1) and init(p1)\")\n",
    "# -> the values of species are updated immediatly, \n",
    "# -> ! the dependencies of the parameters are not !!!\n",
    "\n",
    "# resetAll() after  init change\n",
    "r.resetAll()\n",
    "print_values(r, \"resetAll() to apply changes from changed initial conditions\")\n",
    "# -> the values of the parameters are updated in the model from the init(p1) values\n",
    "\n",
    "r.resetToOrigin()\n",
    "print_values(r, \"resetToOrigin()\")\n",
    "\n",
    "# This is not possible (the init(p1) is set, but cannot be plotted)\n",
    "print('init(p1) = ', r['init(p1)'])"
   ]
  },
  {
   "cell_type": "code",
   "execution_count": 24,
   "metadata": {
    "collapsed": false
   },
   "outputs": [
    {
     "ename": "RuntimeError",
     "evalue": "Invalid id 'p1' for floating initial amount",
     "output_type": "error",
     "traceback": [
      "\u001b[1;31m---------------------------------------------------------------------------\u001b[0m",
      "\u001b[1;31mRuntimeError\u001b[0m                              Traceback (most recent call last)",
      "\u001b[1;32m<ipython-input-24-52fc8a8c989b>\u001b[0m in \u001b[0;36m<module>\u001b[1;34m()\u001b[0m\n\u001b[1;32m----> 1\u001b[1;33m \u001b[0mr\u001b[0m\u001b[1;33m.\u001b[0m\u001b[0mgetValue\u001b[0m\u001b[1;33m(\u001b[0m\u001b[1;34m'init(p1)'\u001b[0m\u001b[1;33m)\u001b[0m\u001b[1;33m\u001b[0m\u001b[0m\n\u001b[0m",
      "\u001b[1;32m/usr/local/lib/python2.7/dist-packages/roadrunner/roadrunner.pyc\u001b[0m in \u001b[0;36mgetValue\u001b[1;34m(self, *args)\u001b[0m\n\u001b[0;32m   2544\u001b[0m \u001b[1;33m\u001b[0m\u001b[0m\n\u001b[0;32m   2545\u001b[0m         \"\"\"\n\u001b[1;32m-> 2546\u001b[1;33m         \u001b[1;32mreturn\u001b[0m \u001b[0m_roadrunner\u001b[0m\u001b[1;33m.\u001b[0m\u001b[0mRoadRunner_getValue\u001b[0m\u001b[1;33m(\u001b[0m\u001b[0mself\u001b[0m\u001b[1;33m,\u001b[0m \u001b[1;33m*\u001b[0m\u001b[0margs\u001b[0m\u001b[1;33m)\u001b[0m\u001b[1;33m\u001b[0m\u001b[0m\n\u001b[0m\u001b[0;32m   2547\u001b[0m \u001b[1;33m\u001b[0m\u001b[0m\n\u001b[0;32m   2548\u001b[0m     \u001b[1;32mdef\u001b[0m \u001b[0m__getitem__\u001b[0m\u001b[1;33m(\u001b[0m\u001b[0mself\u001b[0m\u001b[1;33m,\u001b[0m \u001b[1;33m*\u001b[0m\u001b[0margs\u001b[0m\u001b[1;33m)\u001b[0m\u001b[1;33m:\u001b[0m \u001b[1;32mreturn\u001b[0m \u001b[0m_roadrunner\u001b[0m\u001b[1;33m.\u001b[0m\u001b[0mRoadRunner___getitem__\u001b[0m\u001b[1;33m(\u001b[0m\u001b[0mself\u001b[0m\u001b[1;33m,\u001b[0m \u001b[1;33m*\u001b[0m\u001b[0margs\u001b[0m\u001b[1;33m)\u001b[0m\u001b[1;33m\u001b[0m\u001b[0m\n",
      "\u001b[1;31mRuntimeError\u001b[0m: Invalid id 'p1' for floating initial amount"
     ]
    }
   ],
   "source": [
    "r.getValue('init(p1)')"
   ]
  },
  {
   "cell_type": "code",
   "execution_count": null,
   "metadata": {
    "collapsed": true
   },
   "outputs": [],
   "source": []
  }
 ],
 "metadata": {
  "kernelspec": {
   "display_name": "Python 2",
   "language": "python",
   "name": "python2"
  },
  "language_info": {
   "codemirror_mode": {
    "name": "ipython",
    "version": 2
   },
   "file_extension": ".py",
   "mimetype": "text/x-python",
   "name": "python",
   "nbconvert_exporter": "python",
   "pygments_lexer": "ipython2",
   "version": "2.7.6"
  }
 },
 "nbformat": 4,
 "nbformat_minor": 0
}
