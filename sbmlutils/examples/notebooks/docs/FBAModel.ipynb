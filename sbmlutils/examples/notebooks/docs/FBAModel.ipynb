{
 "cells": [
  {
   "cell_type": "markdown",
   "metadata": {},
   "source": [
    "# FBA Model\n",
    "This example demonstrates the creation of an SBML FBA model from scratch."
   ]
  },
  {
   "cell_type": "code",
   "execution_count": 1,
   "metadata": {
    "collapsed": true
   },
   "outputs": [],
   "source": [
    "%matplotlib inline\n",
    "from __future__ import print_function\n",
    "\n",
    "from sbmlutils import comp\n",
    "from sbmlutils import sbmlio\n",
    "from sbmlutils.factory import *\n",
    "from libsbml import *"
   ]
  },
  {
   "cell_type": "markdown",
   "metadata": {},
   "source": [
    "## Unit definitions\n",
    "Units for the model are defined in the following manner."
   ]
  },
  {
   "cell_type": "code",
   "execution_count": 2,
   "metadata": {
    "collapsed": true
   },
   "outputs": [],
   "source": [
    "# Unit definitions\n",
    "main_units = {\n",
    "    'time': 's',\n",
    "    'extent': UNIT_KIND_ITEM,\n",
    "    'substance': UNIT_KIND_ITEM,\n",
    "    'length': 'm',\n",
    "    'area': 'm2',\n",
    "    'volume': 'm3',\n",
    "}\n",
    "units = {\n",
    "    's': [(UNIT_KIND_SECOND, 1.0)],\n",
    "    'kg': [(UNIT_KIND_KILOGRAM, 1.0)],\n",
    "    'm': [(UNIT_KIND_METRE, 1.0)],\n",
    "    'm2': [(UNIT_KIND_METRE, 2.0)],\n",
    "    'm3': [(UNIT_KIND_METRE, 3.0)],\n",
    "    'mM': [(UNIT_KIND_MOLE, 1.0, 0),\n",
    "           (UNIT_KIND_METRE, -3.0)],\n",
    "    'per_s': [(UNIT_KIND_SECOND, -1.0)],\n",
    "    'item_per_s': [(UNIT_KIND_ITEM, 1.0),\n",
    "                   (UNIT_KIND_SECOND, -1.0)],\n",
    "    'item_per_m3': [(UNIT_KIND_ITEM, 1.0),\n",
    "                    (UNIT_KIND_METRE, -3.0)],\n",
    "}\n",
    "\n",
    "UNIT_AMOUNT = UNIT_KIND_ITEM\n",
    "UNIT_AREA = 'm2'\n",
    "UNIT_VOLUME = 'm3'\n",
    "UNIT_CONCENTRATION = 'item_per_m3'\n",
    "UNIT_FLUX = 'item_per_s'"
   ]
  },
  {
   "cell_type": "markdown",
   "metadata": {},
   "source": [
    "## Model building\n",
    "Creation of FBA model using multiple packages (`comp`, `fbc`)."
   ]
  },
  {
   "cell_type": "code",
   "execution_count": 3,
   "metadata": {
    "collapsed": false
   },
   "outputs": [
    {
     "name": "stdout",
     "output_type": "stream",
     "text": [
      "\n",
      " read time (ms): 0.010634\n",
      " validation error(s): 3\n",
      "\n",
      "line 3: (10701 [Warning]) The value of the 'sboTerm' attribute on a <model> is expected to be an SBO identifier (http://www.biomodels.net/SBO/).  In SBML Level 2 prior to Version 4 the value is expected to be a term derived from SBO:0000004, \"modeling framework\"; in Version 4 and above it is expected to be a term derived from SBO:0000231 \"occurring entity representation\"\n",
      "Reference: L3V1 Section 5\n",
      " SBO term 'SBO:0000624' on the <model> is not in the appropriate branch.\n",
      "\n",
      "line 1: (comp-90106 [Warning]) Due to the need to instantiate models, modelDefinitions, submodels etc. for the purposes of validation it is problematic to reliably report line numbers when performing validation on models using the Hierarchical Model Composition package.\n",
      "\n",
      "line 3: (10701 [Warning]) The value of the 'sboTerm' attribute on a <model> is expected to be an SBO identifier (http://www.biomodels.net/SBO/).  In SBML Level 2 prior to Version 4 the value is expected to be a term derived from SBO:0000004, \"modeling framework\"; in Version 4 and above it is expected to be a term derived from SBO:0000231 \"occurring entity representation\"\n",
      "Reference: L3V1 Section 5\n",
      " SBO term 'SBO:0000624' on the <model> is not in the appropriate branch.\n",
      "\n"
     ]
    }
   ],
   "source": [
    "# Create the FBA model\n",
    "sbmlns = SBMLNamespaces(3, 1)\n",
    "sbmlns.addPackageNamespace(\"fbc\", 2)\n",
    "sbmlns.addPackageNamespace(\"comp\", 1)\n",
    "\n",
    "doc_fba = SBMLDocument(sbmlns)\n",
    "doc_fba.setPackageRequired(\"comp\", True)\n",
    "mdoc = doc_fba.getPlugin(\"comp\")\n",
    "doc_fba.setPackageRequired(\"fbc\", False)\n",
    "model = doc_fba.createModel()\n",
    "mplugin = model.getPlugin(\"fbc\")\n",
    "mplugin.setStrict(False)\n",
    "\n",
    "# model\n",
    "model.setId('toy_fba')\n",
    "model.setName('FBA submodel')\n",
    "model.setSBOTerm(comp.SBO_FLUX_BALANCE_FRAMEWORK)\n",
    "\n",
    "create_unit_definitions(model, units)\n",
    "set_main_units(model, main_units)\n",
    "\n",
    "# compartments\n",
    "compartments = [\n",
    "    {A_ID: 'extern', A_VALUE: 1.0, A_UNIT: UNIT_VOLUME, A_NAME: 'external compartment', A_SPATIAL_DIMENSION: 3},\n",
    "    {A_ID: 'cell', A_VALUE: 1.0, A_UNIT: UNIT_VOLUME, A_NAME: 'cell', A_SPATIAL_DIMENSION: 3},\n",
    "    {A_ID: 'membrane', A_VALUE: 1.0, A_UNIT: UNIT_AREA, A_NAME: 'membrane', A_SPATIAL_DIMENSION: 2}\n",
    "]\n",
    "create_compartments(model, compartments)\n",
    "\n",
    "# species\n",
    "species = [\n",
    "    # external\n",
    "    {A_ID: 'A', A_NAME: \"A\", A_VALUE: 10, A_UNIT: UNIT_AMOUNT, A_HAS_ONLY_SUBSTANCE_UNITS: True,\n",
    "     A_COMPARTMENT: \"extern\", A_BOUNDARY_CONDITION: True},\n",
    "    {A_ID: 'C', A_NAME: \"C\", A_VALUE: 0, A_UNIT: UNIT_AMOUNT, A_HAS_ONLY_SUBSTANCE_UNITS: True,\n",
    "     A_COMPARTMENT: \"extern\", A_BOUNDARY_CONDITION: True},\n",
    "    # internal\n",
    "    {A_ID: 'B1', A_NAME: \"B1\", A_VALUE: 0, A_UNIT: UNIT_AMOUNT, A_HAS_ONLY_SUBSTANCE_UNITS: True,\n",
    "     A_COMPARTMENT: \"cell\"},\n",
    "    {A_ID: 'B2', A_NAME: \"B2\", A_VALUE: 0, A_UNIT: UNIT_AMOUNT, A_HAS_ONLY_SUBSTANCE_UNITS: True,\n",
    "     A_COMPARTMENT: \"cell\"},\n",
    "]\n",
    "create_species(model, species)\n",
    "\n",
    "# parameters\n",
    "parameters = [\n",
    "    # bounds\n",
    "    {A_ID: \"ub_R1\", A_NAME: \"ub R1\", A_VALUE: 1.0, A_UNIT: UNIT_FLUX, A_CONSTANT: False},\n",
    "    {A_ID: \"lb\", A_NAME: \"lower bound\", A_VALUE: 0.0, A_UNIT: UNIT_FLUX, A_CONSTANT: True},\n",
    "    {A_ID: \"ub\", A_NAME: \"upper bound\", A_VALUE: 1000.0, A_UNIT: UNIT_FLUX, A_CONSTANT: True},\n",
    "]\n",
    "create_parameters(model, parameters)\n",
    "\n",
    "# reactions\n",
    "r1 = create_reaction(model, rid=\"R1\", name=\"A import (R1)\", fast=False, reversible=True,\n",
    "                       reactants={\"A\": 1}, products={\"B1\": 1}, compartment='membrane')\n",
    "r2 = create_reaction(model, rid=\"R2\", name=\"B1 <-> B2 (R2)\", fast=False, reversible=True,\n",
    "                       reactants={\"B1\": 1}, products={\"B2\": 1}, compartment='cell')\n",
    "r3 = create_reaction(model, rid=\"R3\", name=\"B2 export (R3)\", fast=False, reversible=True,\n",
    "                       reactants={\"B2\": 1}, products={\"C\": 1}, compartment='membrane')\n",
    "\n",
    "# flux bounds\n",
    "set_flux_bounds(r1, lb=\"lb\", ub=\"ub_R1\")\n",
    "set_flux_bounds(r2, lb=\"lb\", ub=\"ub\")\n",
    "set_flux_bounds(r3, lb=\"lb\", ub=\"ub\")\n",
    "\n",
    "# objective function\n",
    "create_objective(mplugin, oid=\"R3_maximize\", otype=\"maximize\", fluxObjectives={\"R3\": 1.0})\n",
    "\n",
    "# create ports\n",
    "comp._create_port(model, pid=\"R3_port\", idRef=\"R3\", portType=comp.PORT_TYPE_PORT)\n",
    "comp._create_port(model, pid=\"ub_R1_port\", idRef=\"ub_R1\", portType=comp.PORT_TYPE_PORT)\n",
    "comp._create_port(model, pid=\"cell_port\", idRef=\"cell\", portType=comp.PORT_TYPE_PORT)\n",
    "comp._create_port(model, pid=\"extern_port\", idRef=\"extern\", portType=comp.PORT_TYPE_PORT)\n",
    "comp._create_port(model, pid=\"C_port\", idRef=\"C\", portType=comp.PORT_TYPE_PORT)\n",
    "\n",
    "# write SBML file\n",
    "sbml_file = \"fba_example.xml\"\n",
    "sbmlio.write_and_check(doc_fba, sbml_file)"
   ]
  },
  {
   "cell_type": "code",
   "execution_count": null,
   "metadata": {
    "collapsed": true
   },
   "outputs": [],
   "source": []
  }
 ],
 "metadata": {
  "kernelspec": {
   "display_name": "Python 2",
   "language": "python",
   "name": "python2"
  },
  "language_info": {
   "codemirror_mode": {
    "name": "ipython",
    "version": 2
   },
   "file_extension": ".py",
   "mimetype": "text/x-python",
   "name": "python",
   "nbconvert_exporter": "python",
   "pygments_lexer": "ipython2",
   "version": "2.7.12"
  }
 },
 "nbformat": 4,
 "nbformat_minor": 0
}
