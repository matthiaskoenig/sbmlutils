{
 "cells": [
  {
   "cell_type": "markdown",
   "metadata": {},
   "source": [
    "# Antimony Tutorial\n",
    "## A human-readable, human-writable, model definition language"
   ]
  },
  {
   "cell_type": "code",
   "execution_count": 7,
   "metadata": {
    "collapsed": true
   },
   "outputs": [],
   "source": [
    "%matplotlib inline\n",
    "from __future__ import print_function, division\n",
    "import os.path\n",
    "import antimony\n",
    "\n",
    "def _checkAntimonyReturnCode(code):\n",
    "    \"\"\" Helper for checking the antimony response code.\n",
    "    Raises Exception if error in antimony.\n",
    "\n",
    "    :param code: antimony response\n",
    "    :type code: int\n",
    "    \"\"\"\n",
    "    if code < 0:\n",
    "        raise Exception('Antimony: {}'.format(antimony.getLastError()))\n",
    "\n",
    "def a2sbml(ant):\n",
    "    \"\"\" Convert Antimony to SBML string.\n",
    "\n",
    "    :param ant: Antimony string or file\n",
    "    :type ant: str | file\n",
    "    :return: SBML\n",
    "    :rtype: str\n",
    "    \"\"\"\n",
    "    if os.path.isfile(ant):\n",
    "        code = antimony.loadAntimonyFile(ant)\n",
    "    else:\n",
    "        code = antimony.loadAntimonyString(ant)\n",
    "    _checkAntimonyReturnCode(code)\n",
    "    mid = antimony.getMainModuleName()\n",
    "    return antimony.getSBMLString(mid)"
   ]
  },
  {
   "cell_type": "markdown",
   "metadata": {},
   "source": [
    "## Species and Reactions"
   ]
  },
  {
   "cell_type": "code",
   "execution_count": 28,
   "metadata": {
    "collapsed": false
   },
   "outputs": [],
   "source": [
    "# reversible reaction '->'\n",
    "a2sbml(\"\"\"\n",
    "model reaction_rev\n",
    "    J0: S1 + E -> ES; k1*k2*S1*E - k2*ES;\n",
    "    k1 = 3; k2 = 1.4;\n",
    "    S1 = 30.4; E = 1.2; ES = 2.1;\n",
    "end\n",
    "\"\"\");\n",
    "\n",
    "# irreversible reaction '=>'\n",
    "a2sbml(\"\"\"\n",
    "model reaction_rev\n",
    "    J0: S1 + E => ES; k1*k2*S1*E;\n",
    "    k1 = 3; k2 = 1.4;\n",
    "    S1 = 30.4; E = 1.2; ES = 2.1;\n",
    "end\n",
    "\"\"\");"
   ]
  },
  {
   "cell_type": "markdown",
   "metadata": {},
   "source": [
    "## Modules"
   ]
  },
  {
   "cell_type": "code",
   "execution_count": 30,
   "metadata": {
    "collapsed": false
   },
   "outputs": [],
   "source": [
    "s = a2sbml(\"\"\"\n",
    "model example\n",
    "S + E -> ES;\n",
    "end\n",
    "\"\"\");\n",
    "\n",
    "# reuse model\n",
    "a2sbml(\"\"\"\n",
    "model example\n",
    "    S + E -> ES;\n",
    "end\n",
    "\n",
    "model example2\n",
    "    example();\n",
    "end\n",
    "\"\"\");"
   ]
  },
  {
   "cell_type": "code",
   "execution_count": 31,
   "metadata": {
    "collapsed": true
   },
   "outputs": [],
   "source": [
    "# set values in the included model\n",
    "a2sbml(\"\"\"\n",
    "model example\n",
    "    S + E -> ES;\n",
    "end\n",
    "\n",
    "model example2\n",
    "    A: example();\n",
    "    A.S = 3;\n",
    "end\n",
    "\"\"\");"
   ]
  },
  {
   "cell_type": "code",
   "execution_count": 32,
   "metadata": {
    "collapsed": true
   },
   "outputs": [],
   "source": [
    "# more complex model composition\n",
    "a2sbml(\"\"\"\n",
    "model example\n",
    "    S + E -> ES;\n",
    "end\n",
    "\n",
    "model example2\n",
    "    A: example();\n",
    "    A.S = 3;\n",
    "end\n",
    "\n",
    "model example3\n",
    "    A: example();\n",
    "    B: example();\n",
    "    C: example2();\n",
    "end\n",
    "\"\"\");"
   ]
  },
  {
   "cell_type": "code",
   "execution_count": 33,
   "metadata": {
    "collapsed": false
   },
   "outputs": [],
   "source": [
    "# use species defined in submodules in new reactions\n",
    "s = a2sbml(\"\"\"\n",
    "model example\n",
    "    S + E -> ES;\n",
    "end\n",
    "\n",
    "model example4\n",
    "    A: example();\n",
    "    A.S -> ; kdeg*A.S;\n",
    "end\n",
    "\"\"\");"
   ]
  },
  {
   "cell_type": "markdown",
   "metadata": {},
   "source": [
    "When combining multiple submodules, you can also 'attach' them to each other by declaring that a species in one submodule is the same species as is found in a different submodule by using the `is` keyword."
   ]
  },
  {
   "cell_type": "code",
   "execution_count": 34,
   "metadata": {
    "collapsed": true
   },
   "outputs": [],
   "source": [
    "s = a2sbml(\"\"\"\n",
    "model side_reaction\n",
    "    J0: S + E -> SE; k1*k2*S*E - k2*ES;\n",
    "    S = 5; E = 3;\n",
    "    SE = E+S;\n",
    "    k1 = 1.2; k2 = 0.4;\n",
    "end\n",
    "\n",
    "model full_reaction\n",
    "    A: side_reaction();\n",
    "    B: side_reaction();\n",
    "    A.S is B.S;\n",
    "end\n",
    "\"\"\");"
   ]
  },
  {
   "cell_type": "markdown",
   "metadata": {},
   "source": [
    "If you wanted, you could give the identical species a new name to more easily use it in the `full_reaction` module:"
   ]
  },
  {
   "cell_type": "code",
   "execution_count": 35,
   "metadata": {
    "collapsed": false
   },
   "outputs": [],
   "source": [
    "a2sbml(\"\"\"\n",
    "model side_reaction\n",
    "    J0: S + E -> SE; k1*k2*S*E - k2*ES;\n",
    "    S = 5; E = 3;\n",
    "    SE = E+S;\n",
    "    k1 = 1.2; k2 = 0.4;\n",
    "end\n",
    "\n",
    "model full_reaction\n",
    "    var species S;\n",
    "    A: side_reaction();\n",
    "    B: side_reaction()\n",
    "    A.S is S;\n",
    "    B.S is S;\n",
    "end\n",
    "\"\"\");"
   ]
  },
  {
   "cell_type": "markdown",
   "metadata": {},
   "source": [
    "In this system, `S` is involved in two reversible reactions with exactly the same reaction kinetics and initial concentrations. Let's now say the reaction rate of the second side-reaction takes the same form, but that the kinetics are twice as fast, and the starting conditions are different:"
   ]
  },
  {
   "cell_type": "code",
   "execution_count": 36,
   "metadata": {
    "collapsed": true
   },
   "outputs": [],
   "source": [
    "a2sbml(\"\"\"\n",
    "model side_reaction\n",
    "    J0: S + E -> SE; k1*k2*S*E - k2*ES;\n",
    "    S = 5; E = 3;\n",
    "    SE = E+S;\n",
    "    k1 = 1.2; k2 = 0.4;\n",
    "end\n",
    "\n",
    "model full_reaction\n",
    "    var species S;\n",
    "    \n",
    "    A: side_reaction();\n",
    "    A.S is S;\n",
    "    \n",
    "    B: side_reaction();\n",
    "    B.S is S;\n",
    "    B.k1 = 2.4;\n",
    "    B.k2 = 0.8;\n",
    "    B.E = 10;\n",
    "end\n",
    "\"\"\");"
   ]
  },
  {
   "cell_type": "markdown",
   "metadata": {},
   "source": [
    "Finally, we add a third side reaction, one in which S binds irreversibly, and where the complex it forms degrades. We'll need a new reaction rate, and a whole new reaction as well:"
   ]
  },
  {
   "cell_type": "code",
   "execution_count": 37,
   "metadata": {
    "collapsed": true
   },
   "outputs": [],
   "source": [
    "a2sbml(\"\"\"\n",
    "model side_reaction\n",
    "    J0: S + E -> SE; k1*k2*S*E - k2*ES;\n",
    "    S = 5; E = 3;\n",
    "    SE = E+S;\n",
    "    k1 = 1.2; k2 = 0.4;\n",
    "end\n",
    "\n",
    "model full_reaction\n",
    "    var species S;\n",
    "    \n",
    "    A: side_reaction();\n",
    "    A.S is S;\n",
    "    \n",
    "    B: side_reaction();\n",
    "    B.S is S;\n",
    "    B.k1 = 2.4;\n",
    "    B.k2 = 0.8;\n",
    "    B.E = 10;\n",
    "    \n",
    "    C: side_reaction();\n",
    "    C.S is S;\n",
    "    C.J0 = C.k1*C.k2*S*C.E\n",
    "    J3: C.SE -> ; C.SE*k3;\n",
    "    k3 = 0.02;\n",
    "end\n",
    "\"\"\");"
   ]
  },
  {
   "cell_type": "markdown",
   "metadata": {},
   "source": [
    "For convenience and style, modules may define an interface where some symbols in the module are more easily renamed. To do this, first enclose a list of the symbols to export in parentheses after the name of the model when defining it:"
   ]
  },
  {
   "cell_type": "code",
   "execution_count": 38,
   "metadata": {
    "collapsed": true
   },
   "outputs": [],
   "source": [
    "a2sbml(\"\"\"\n",
    "model side_reaction(S, k1)\n",
    "    J0: S + E -> SE; k1*k2*S*E - k2*ES;\n",
    "    S = 5;\n",
    "    E = 3;\n",
    "    SE = E+S;\n",
    "    k1 = 1.2;\n",
    "    k2 = 0.4;\n",
    "end\n",
    "\"\"\");"
   ]
  },
  {
   "cell_type": "markdown",
   "metadata": {},
   "source": [
    "Then when you use that module as a submodule, you can provide a list of new symbols in parentheses:\n",
    "```\n",
    "A: side_reaction(spec2, k2);\n",
    "```"
   ]
  },
  {
   "cell_type": "code",
   "execution_count": null,
   "metadata": {
    "collapsed": true
   },
   "outputs": [],
   "source": []
  }
 ],
 "metadata": {
  "kernelspec": {
   "display_name": "Python 2",
   "language": "python",
   "name": "python2"
  },
  "language_info": {
   "codemirror_mode": {
    "name": "ipython",
    "version": 2
   },
   "file_extension": ".py",
   "mimetype": "text/x-python",
   "name": "python",
   "nbconvert_exporter": "python",
   "pygments_lexer": "ipython2",
   "version": "2.7.12"
  }
 },
 "nbformat": 4,
 "nbformat_minor": 0
}
