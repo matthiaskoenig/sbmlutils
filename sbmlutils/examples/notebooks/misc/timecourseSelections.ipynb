{
 "cells": [
  {
   "cell_type": "markdown",
   "metadata": {},
   "source": [
    "# Result selections\n",
    "The `timecourseSelections` on the roadrunner object define what is part of the simulation.  \n",
    "By default only `time` and `concentrations` are part of the timecourseSelections.\n",
    "To add additional selections just add the required sbml ids to the selection.\n",
    "\n",
    "To get sets of ids you can use the `getXXXIds()` which you add to the `timecourseSelections`.\n",
    "An example is given below.\n",
    "\n",
    "Same principle applies for the `steadystateSelections`."
   ]
  },
  {
   "cell_type": "code",
   "execution_count": 1,
   "metadata": {
    "collapsed": true
   },
   "outputs": [],
   "source": [
    "%matplotlib inline\n",
    "from __future__ import print_function\n",
    "import tellurium as te"
   ]
  },
  {
   "cell_type": "code",
   "execution_count": 2,
   "metadata": {
    "collapsed": false
   },
   "outputs": [],
   "source": [
    "r = te.loada(\"\"\"\n",
    "r1: S1 -> S2; k1*S1-k2*S2;\n",
    "S1 = 10.0; S2 = 0.0;\n",
    "k1 = 0.2; k2 = 0.1;\n",
    "\"\"\")"
   ]
  },
  {
   "cell_type": "code",
   "execution_count": 3,
   "metadata": {
    "collapsed": false
   },
   "outputs": [
    {
     "name": "stdout",
     "output_type": "stream",
     "text": [
      "['time', '[S1]', '[S2]']\n",
      "    time,    [S1],    [S2]\n",
      " [[    0,      10,       0],\n",
      "  [    1, 8.27215, 1.72785],\n",
      "  [    2, 6.99211, 3.00789],\n",
      "  [    3,  6.0438,  3.9562],\n",
      "  [    4, 5.34126, 4.65874],\n",
      "  [    5, 4.82082, 5.17918],\n",
      "  [    6, 4.43527, 5.56473],\n",
      "  [    7, 4.14962, 5.85038],\n",
      "  [    8,   3.938,   6.062],\n",
      "  [    9, 3.78127, 6.21873],\n",
      "  [   10, 3.66519, 6.33481]]\n",
      "\n"
     ]
    }
   ],
   "source": [
    "# default selections in results\n",
    "print(r.timeCourseSelections)\n",
    "s = r.simulate(start=0, end=10, steps=10)\n",
    "print(s)"
   ]
  },
  {
   "cell_type": "code",
   "execution_count": 4,
   "metadata": {
    "collapsed": false
   },
   "outputs": [
    {
     "name": "stdout",
     "output_type": "stream",
     "text": [
      "['time', '[S1]', '[S2]', 'k1', 'k2', 'default_compartment', 'r1']\n"
     ]
    }
   ],
   "source": [
    "# add additional ids to the timecourse selections\n",
    "r.timeCourseSelections += r.getGlobalParameterIds() + r.getCompartmentIds() + r.getReactionIds()\n",
    "print(r.timeCourseSelections)"
   ]
  },
  {
   "cell_type": "code",
   "execution_count": 5,
   "metadata": {
    "collapsed": false
   },
   "outputs": [
    {
     "name": "stdout",
     "output_type": "stream",
     "text": [
      "    time,    [S1],    [S2],  k1,  k2, default_compartment,        r1\n",
      " [[    0,      10,       0, 0.2, 0.1,                   1,         2],\n",
      "  [    1, 8.27215, 1.72785, 0.2, 0.1,                   1,   1.48165],\n",
      "  [    2, 6.99211, 3.00789, 0.2, 0.1,                   1,   1.09763],\n",
      "  [    3,  6.0438,  3.9562, 0.2, 0.1,                   1,  0.813141],\n",
      "  [    4, 5.34126, 4.65874, 0.2, 0.1,                   1,  0.602379],\n",
      "  [    5, 4.82082, 5.17918, 0.2, 0.1,                   1,  0.446245],\n",
      "  [    6, 4.43527, 5.56473, 0.2, 0.1,                   1,  0.330581],\n",
      "  [    7, 4.14962, 5.85038, 0.2, 0.1,                   1,  0.244885],\n",
      "  [    8,   3.938,   6.062, 0.2, 0.1,                   1,  0.181399],\n",
      "  [    9, 3.78127, 6.21873, 0.2, 0.1,                   1,  0.134382],\n",
      "  [   10, 3.66519, 6.33481, 0.2, 0.1,                   1, 0.0995582]]\n",
      "\n"
     ]
    }
   ],
   "source": [
    "# reset to initial concentrations\n",
    "r.reset()\n",
    "s2 = r.simulate(start=0, end=10, steps=10)\n",
    "print(s2)"
   ]
  },
  {
   "cell_type": "code",
   "execution_count": null,
   "metadata": {
    "collapsed": true
   },
   "outputs": [],
   "source": []
  }
 ],
 "metadata": {
  "kernelspec": {
   "display_name": "Python 2",
   "language": "python",
   "name": "python2"
  },
  "language_info": {
   "codemirror_mode": {
    "name": "ipython",
    "version": 2
   },
   "file_extension": ".py",
   "mimetype": "text/x-python",
   "name": "python",
   "nbconvert_exporter": "python",
   "pygments_lexer": "ipython2",
   "version": "2.7.6"
  }
 },
 "nbformat": 4,
 "nbformat_minor": 1
}
